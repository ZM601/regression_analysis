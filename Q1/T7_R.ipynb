{
 "cells": [
  {
   "cell_type": "markdown",
   "id": "29fa47c6-75d3-4860-a163-4a77679c7c54",
   "metadata": {},
   "source": [
    "# install all packages we need"
   ]
  },
  {
   "cell_type": "code",
   "execution_count": 2,
   "id": "5a72b13a-9a49-40d3-9da6-e11f49ad6f88",
   "metadata": {},
   "outputs": [
    {
     "data": {
      "text/html": [
       "<style>\n",
       ".dl-inline {width: auto; margin:0; padding: 0}\n",
       ".dl-inline>dt, .dl-inline>dd {float: none; width: auto; display: inline-block}\n",
       ".dl-inline>dt::after {content: \":\\0020\"; padding-right: .5ex}\n",
       ".dl-inline>dt:not(:first-of-type) {padding-left: .5ex}\n",
       "</style><dl class=dl-inline><dt>AER</dt><dd>TRUE</dd><dt>stargazer</dt><dd>TRUE</dd><dt>readr</dt><dd>TRUE</dd><dt>dplyr</dt><dd>TRUE</dd><dt>car</dt><dd>TRUE</dd><dt>Hmisc</dt><dd>TRUE</dd><dt>ggplot2</dt><dd>TRUE</dd><dt>lmtest</dt><dd>TRUE</dd></dl>\n"
      ],
      "text/latex": [
       "\\begin{description*}\n",
       "\\item[AER] TRUE\n",
       "\\item[stargazer] TRUE\n",
       "\\item[readr] TRUE\n",
       "\\item[dplyr] TRUE\n",
       "\\item[car] TRUE\n",
       "\\item[Hmisc] TRUE\n",
       "\\item[ggplot2] TRUE\n",
       "\\item[lmtest] TRUE\n",
       "\\end{description*}\n"
      ],
      "text/markdown": [
       "AER\n",
       ":   TRUEstargazer\n",
       ":   TRUEreadr\n",
       ":   TRUEdplyr\n",
       ":   TRUEcar\n",
       ":   TRUEHmisc\n",
       ":   TRUEggplot2\n",
       ":   TRUElmtest\n",
       ":   TRUE\n",
       "\n"
      ],
      "text/plain": [
       "      AER stargazer     readr     dplyr       car     Hmisc   ggplot2    lmtest \n",
       "     TRUE      TRUE      TRUE      TRUE      TRUE      TRUE      TRUE      TRUE "
      ]
     },
     "metadata": {},
     "output_type": "display_data"
    }
   ],
   "source": [
    "#clear your memory\n",
    "rm(list = ls())\n",
    "\n",
    "#update packages\n",
    "update.packages(ask = FALSE)\n",
    "\n",
    "ipak <- function(pkg){\n",
    "  new.pkg <- pkg[!(pkg %in% installed.packages()[, \"Package\"])]\n",
    "  if (length(new.pkg))\n",
    "    install.packages(new.pkg, dependencies = TRUE)\n",
    "  sapply(pkg, require, character.only = TRUE)\n",
    "}\n",
    "\n",
    "packages <- c('AER','stargazer','readr','dplyr','car','Hmisc', 'ggplot2','lmtest')\n",
    "\n",
    "ipak(packages)"
   ]
  },
  {
   "cell_type": "markdown",
   "id": "dfb1e5f2-b9ec-4f1e-8e0f-3266835bd917",
   "metadata": {},
   "source": [
    "# load all R regression packages"
   ]
  },
  {
   "cell_type": "code",
   "execution_count": 3,
   "id": "74ac2579-8176-4e70-ac73-d8df2f8ad302",
   "metadata": {},
   "outputs": [],
   "source": [
    "library(readr)\n",
    "library(dplyr)\n",
    "library(car)\n",
    "library(Hmisc)\n",
    "library(AER)\n",
    "library(stargazer)\n",
    "library(ggplot2)\n",
    "library(lmtest)"
   ]
  },
  {
   "cell_type": "markdown",
   "id": "9f3a01c3-b3a9-4e32-bb5c-fa456f04f9e0",
   "metadata": {
    "tags": []
   },
   "source": [
    "# now we load the data into R"
   ]
  },
  {
   "cell_type": "code",
   "execution_count": 5,
   "id": "894bd066-fc94-4d0d-9dbb-bf8789ec7e67",
   "metadata": {
    "tags": []
   },
   "outputs": [
    {
     "name": "stderr",
     "output_type": "stream",
     "text": [
      "\u001b[1m\u001b[1mRows: \u001b[1m\u001b[22m\u001b[34m\u001b[34m88\u001b[34m\u001b[39m \u001b[1m\u001b[1mColumns: \u001b[1m\u001b[22m\u001b[34m\u001b[34m10\u001b[34m\u001b[39m\n",
      "\n",
      "\u001b[36m──\u001b[39m \u001b[1m\u001b[1mColumn specification\u001b[1m\u001b[22m \u001b[36m───────────────────────────────────────────────────────────────────────────────\u001b[39m\n",
      "\u001b[1mDelimiter:\u001b[22m \",\"\n",
      "\u001b[32mdbl\u001b[39m (10): price, assess, bdrms, lotsize, sqrft, colonial, lprice, lassess, l...\n",
      "\n",
      "\n",
      "\u001b[36mℹ\u001b[39m Use \u001b[30m\u001b[47m\u001b[30m\u001b[47m`spec()`\u001b[47m\u001b[30m\u001b[49m\u001b[39m to retrieve the full column specification for this data.\n",
      "\u001b[36mℹ\u001b[39m Specify the column types or set \u001b[30m\u001b[47m\u001b[30m\u001b[47m`show_col_types = FALSE`\u001b[47m\u001b[30m\u001b[49m\u001b[39m to quiet this message.\n",
      "\n"
     ]
    }
   ],
   "source": [
    "data <- read_csv(\"hprice1.csv\")"
   ]
  },
  {
   "cell_type": "markdown",
   "id": "153c3cb5-f550-4723-92d8-3dcd794f40f5",
   "metadata": {
    "jupyter": {
     "source_hidden": true
    },
    "tags": []
   },
   "source": [
    "# to make sure the data is loaded correctly, check all the variable names in your file"
   ]
  },
  {
   "cell_type": "code",
   "execution_count": 23,
   "id": "0016db21-1db3-4eb8-844d-3090e97e08ca",
   "metadata": {},
   "outputs": [
    {
     "data": {
      "text/html": [
       "<style>\n",
       ".list-inline {list-style: none; margin:0; padding: 0}\n",
       ".list-inline>li {display: inline-block}\n",
       ".list-inline>li:not(:last-child)::after {content: \"\\00b7\"; padding: 0 .5ex}\n",
       "</style>\n",
       "<ol class=list-inline><li>'price'</li><li>'assess'</li><li>'bdrms'</li><li>'lotsize'</li><li>'sqrft'</li><li>'colonial'</li><li>'lprice'</li><li>'lassess'</li><li>'llotsize'</li><li>'lsqrft'</li></ol>\n"
      ],
      "text/latex": [
       "\\begin{enumerate*}\n",
       "\\item 'price'\n",
       "\\item 'assess'\n",
       "\\item 'bdrms'\n",
       "\\item 'lotsize'\n",
       "\\item 'sqrft'\n",
       "\\item 'colonial'\n",
       "\\item 'lprice'\n",
       "\\item 'lassess'\n",
       "\\item 'llotsize'\n",
       "\\item 'lsqrft'\n",
       "\\end{enumerate*}\n"
      ],
      "text/markdown": [
       "1. 'price'\n",
       "2. 'assess'\n",
       "3. 'bdrms'\n",
       "4. 'lotsize'\n",
       "5. 'sqrft'\n",
       "6. 'colonial'\n",
       "7. 'lprice'\n",
       "8. 'lassess'\n",
       "9. 'llotsize'\n",
       "10. 'lsqrft'\n",
       "\n",
       "\n"
      ],
      "text/plain": [
       " [1] \"price\"    \"assess\"   \"bdrms\"    \"lotsize\"  \"sqrft\"    \"colonial\"\n",
       " [7] \"lprice\"   \"lassess\"  \"llotsize\" \"lsqrft\"  "
      ]
     },
     "metadata": {},
     "output_type": "display_data"
    }
   ],
   "source": [
    "colnames(data)"
   ]
  },
  {
   "cell_type": "markdown",
   "id": "8dd88840-f373-467b-9257-0d5a08459250",
   "metadata": {},
   "source": [
    "# to make sure the data is loaded correctly, check the summary statistics of each variable"
   ]
  },
  {
   "cell_type": "code",
   "execution_count": 6,
   "id": "23a99b53-5798-47a3-8952-cb33d2cd1ea9",
   "metadata": {
    "tags": []
   },
   "outputs": [
    {
     "data": {
      "text/plain": [
       "     price           assess          bdrms          lotsize          sqrft     \n",
       " Min.   :111.0   Min.   :198.7   Min.   :2.000   Min.   : 1000   Min.   :1171  \n",
       " 1st Qu.:230.0   1st Qu.:253.9   1st Qu.:3.000   1st Qu.: 5733   1st Qu.:1660  \n",
       " Median :265.5   Median :290.2   Median :3.000   Median : 6430   Median :1845  \n",
       " Mean   :293.5   Mean   :315.7   Mean   :3.568   Mean   : 9020   Mean   :2014  \n",
       " 3rd Qu.:326.2   3rd Qu.:352.1   3rd Qu.:4.000   3rd Qu.: 8583   3rd Qu.:2227  \n",
       " Max.   :725.0   Max.   :708.6   Max.   :7.000   Max.   :92681   Max.   :3880  \n",
       "    colonial          lprice         lassess         llotsize     \n",
       " Min.   :0.0000   Min.   :4.710   Min.   :5.292   Min.   : 6.908  \n",
       " 1st Qu.:0.0000   1st Qu.:5.438   1st Qu.:5.537   1st Qu.: 8.654  \n",
       " Median :1.0000   Median :5.582   Median :5.671   Median : 8.769  \n",
       " Mean   :0.6932   Mean   :5.633   Mean   :5.718   Mean   : 8.905  \n",
       " 3rd Qu.:1.0000   3rd Qu.:5.788   3rd Qu.:5.864   3rd Qu.: 9.058  \n",
       " Max.   :1.0000   Max.   :6.586   Max.   :6.563   Max.   :11.437  \n",
       "     lsqrft     \n",
       " Min.   :7.066  \n",
       " 1st Qu.:7.415  \n",
       " Median :7.520  \n",
       " Mean   :7.573  \n",
       " 3rd Qu.:7.708  \n",
       " Max.   :8.264  "
      ]
     },
     "metadata": {},
     "output_type": "display_data"
    }
   ],
   "source": [
    "summary(data)"
   ]
  },
  {
   "cell_type": "markdown",
   "id": "7ab753c8-c95e-4935-bbfa-1214d8a669cf",
   "metadata": {},
   "source": [
    "# all good, now we can compute regression models\n",
    "\n",
    "---\n",
    "\n",
    "# Q1.a\n",
    "\n",
    "# $$ \\mathrm{price} = \\beta_0 + \\beta_1 \\cdot \\mathrm{bdrms} + \\beta_2 \\cdot \\mathrm{lotsize} + \\beta_3 \\cdot \\mathrm{sqrft} + u $$"
   ]
  },
  {
   "cell_type": "code",
   "execution_count": 7,
   "id": "f96854e2-2e20-4696-8e9f-5f9712f33778",
   "metadata": {},
   "outputs": [
    {
     "data": {
      "text/plain": [
       "\n",
       "Call:\n",
       "lm(formula = price ~ bdrms + lotsize + sqrft, data = data)\n",
       "\n",
       "Residuals:\n",
       "     Min       1Q   Median       3Q      Max \n",
       "-120.026  -38.530   -6.555   32.323  209.376 \n",
       "\n",
       "Coefficients:\n",
       "              Estimate Std. Error t value Pr(>|t|)    \n",
       "(Intercept) -2.177e+01  2.948e+01  -0.739  0.46221    \n",
       "bdrms        1.385e+01  9.010e+00   1.537  0.12795    \n",
       "lotsize      2.068e-03  6.421e-04   3.220  0.00182 ** \n",
       "sqrft        1.228e-01  1.324e-02   9.275 1.66e-14 ***\n",
       "---\n",
       "Signif. codes:  0 ‘***’ 0.001 ‘**’ 0.01 ‘*’ 0.05 ‘.’ 0.1 ‘ ’ 1\n",
       "\n",
       "Residual standard error: 59.83 on 84 degrees of freedom\n",
       "Multiple R-squared:  0.6724,\tAdjusted R-squared:  0.6607 \n",
       "F-statistic: 57.46 on 3 and 84 DF,  p-value: < 2.2e-16\n"
      ]
     },
     "metadata": {},
     "output_type": "display_data"
    }
   ],
   "source": [
    "#define the regression model based on X and Y variables\n",
    "M1_a = lm(price ~ bdrms + lotsize + sqrft, data=data)\n",
    "\n",
    "#report the regression result\n",
    "summary(M1_a)"
   ]
  },
  {
   "cell_type": "markdown",
   "id": "e626f95b-c87a-4019-9175-cc26fdc14473",
   "metadata": {},
   "source": [
    "# the default R table is horrible, let's report them in a nicer table called \"stargazer\""
   ]
  },
  {
   "cell_type": "code",
   "execution_count": 13,
   "id": "d84fb52f-878e-4361-a4a4-4d2c84f69ee6",
   "metadata": {},
   "outputs": [
    {
     "name": "stdout",
     "output_type": "stream",
     "text": [
      "\n",
      "========================================\n",
      "                  Y variable: price     \n",
      "             ---------------------------\n",
      "                        price           \n",
      "----------------------------------------\n",
      "bdrms                  13.8525          \n",
      "                      (9.0101)          \n",
      "                                        \n",
      "lotsize               0.0021***         \n",
      "                      (0.0006)          \n",
      "                                        \n",
      "sqrft                 0.1228***         \n",
      "                      (0.0132)          \n",
      "                                        \n",
      "Constant              -21.7703          \n",
      "                      (29.4750)         \n",
      "                                        \n",
      "----------------------------------------\n",
      "Observations             88             \n",
      "R2                     0.6724           \n",
      "Adjusted R2            0.6607           \n",
      "========================================\n",
      "Note:        *p<0.1; **p<0.05; ***p<0.01\n"
     ]
    }
   ],
   "source": [
    "stargazer(M1_a,\n",
    "  header=FALSE, \n",
    "  type=\"text\",  \n",
    "  digits=4, \n",
    "  intercept.bottom=TRUE, \n",
    "  dep.var.caption=\"Y variable: price\",\n",
    "  model.names=FALSE,\n",
    "  omit.stat=c(\"LL\",\"ser\",\"f\"))"
   ]
  },
  {
   "cell_type": "markdown",
   "id": "f46e2b87-89ba-4077-b487-24175a7fadea",
   "metadata": {
    "tags": []
   },
   "source": [
    "---\n",
    "\n",
    "# Q1.b\n",
    "\n",
    "# $$ \\ln \\left( \\mathrm{price} \\right) = \\beta_0 + \\beta_1 \\cdot \\mathrm{bdrms} + \\beta_2 \\cdot \\ln \\left( \\mathrm{lotsize} \\right) + \\beta_3 \\cdot \\ln \\left( \\mathrm{sqrft} \\right) + u $$"
   ]
  },
  {
   "cell_type": "code",
   "execution_count": 14,
   "id": "c66c79d5-d959-4a63-8725-b63892a49483",
   "metadata": {},
   "outputs": [
    {
     "data": {
      "text/plain": [
       "\n",
       "Call:\n",
       "lm(formula = lprice ~ bdrms + llotsize + lsqrft, data = data)\n",
       "\n",
       "Residuals:\n",
       "     Min       1Q   Median       3Q      Max \n",
       "-0.68422 -0.09178 -0.01584  0.11213  0.66899 \n",
       "\n",
       "Coefficients:\n",
       "            Estimate Std. Error t value Pr(>|t|)    \n",
       "(Intercept) -1.29704    0.65128  -1.992   0.0497 *  \n",
       "bdrms        0.03696    0.02753   1.342   0.1831    \n",
       "llotsize     0.16797    0.03828   4.388 3.31e-05 ***\n",
       "lsqrft       0.70023    0.09287   7.540 5.01e-11 ***\n",
       "---\n",
       "Signif. codes:  0 ‘***’ 0.001 ‘**’ 0.01 ‘*’ 0.05 ‘.’ 0.1 ‘ ’ 1\n",
       "\n",
       "Residual standard error: 0.1846 on 84 degrees of freedom\n",
       "Multiple R-squared:  0.643,\tAdjusted R-squared:  0.6302 \n",
       "F-statistic: 50.42 on 3 and 84 DF,  p-value: < 2.2e-16\n"
      ]
     },
     "metadata": {},
     "output_type": "display_data"
    }
   ],
   "source": [
    "#define the regression model based on X and Y variables\n",
    "M1_b = lm(lprice ~ bdrms + llotsize + lsqrft, data=data)\n",
    "\n",
    "#report the regression result\n",
    "summary(M1_b)"
   ]
  },
  {
   "cell_type": "markdown",
   "id": "8c27e425-3036-4c40-96e8-e6761a15d805",
   "metadata": {},
   "source": [
    "# the default R table is horrible, let's report them in a nicer table called \"stargazer\""
   ]
  },
  {
   "cell_type": "code",
   "execution_count": 16,
   "id": "cb715d34-dbde-474f-97d5-8a7cf9f047a5",
   "metadata": {},
   "outputs": [
    {
     "name": "stdout",
     "output_type": "stream",
     "text": [
      "\n",
      "========================================\n",
      "                 Y variable: lprice     \n",
      "             ---------------------------\n",
      "                       lprice           \n",
      "----------------------------------------\n",
      "bdrms                  0.0370           \n",
      "                      (0.0275)          \n",
      "                                        \n",
      "llotsize              0.1680***         \n",
      "                      (0.0383)          \n",
      "                                        \n",
      "lsqrft                0.7002***         \n",
      "                      (0.0929)          \n",
      "                                        \n",
      "Constant              -1.2970**         \n",
      "                      (0.6513)          \n",
      "                                        \n",
      "----------------------------------------\n",
      "Observations             88             \n",
      "R2                     0.6430           \n",
      "Adjusted R2            0.6302           \n",
      "========================================\n",
      "Note:        *p<0.1; **p<0.05; ***p<0.01\n"
     ]
    }
   ],
   "source": [
    "stargazer(M1_b,\n",
    "  header=FALSE, \n",
    "  type=\"text\",  \n",
    "  digits=4, \n",
    "  intercept.bottom=TRUE, \n",
    "  dep.var.caption=\"Y variable: lprice\",\n",
    "  model.names=FALSE,\n",
    "  omit.stat=c(\"LL\",\"ser\",\"f\"))"
   ]
  },
  {
   "cell_type": "markdown",
   "id": "ec414fee-e160-472c-bfb3-bcc96403773a",
   "metadata": {
    "tags": []
   },
   "source": [
    "---\n",
    "\n",
    "# Q1.c\n",
    "\n",
    "# $$ \\ln \\left( \\mathrm{price} \\right) = \\beta_0 + \\beta_1 \\cdot \\mathrm{bdrms} + \\beta_2 \\cdot \\ln \\left( \\mathrm{lotsize} \\right) + \\beta_3 \\cdot \\ln \\left( \\mathrm{sqrft} \\right) + \\beta_4 \\cdot \\ln \\left( \\mathrm{assess} \\right) + u $$"
   ]
  },
  {
   "cell_type": "code",
   "execution_count": 17,
   "id": "79f6d4ec-810c-4f3a-8394-4b59ff7796aa",
   "metadata": {},
   "outputs": [
    {
     "data": {
      "text/plain": [
       "\n",
       "Call:\n",
       "lm(formula = lprice ~ bdrms + llotsize + lsqrft + lassess, data = data)\n",
       "\n",
       "Residuals:\n",
       "     Min       1Q   Median       3Q      Max \n",
       "-0.53337 -0.06333  0.00686  0.07836  0.60825 \n",
       "\n",
       "Coefficients:\n",
       "             Estimate Std. Error t value Pr(>|t|)    \n",
       "(Intercept)  0.263743   0.569665   0.463    0.645    \n",
       "bdrms        0.033839   0.022098   1.531    0.129    \n",
       "llotsize     0.007438   0.038561   0.193    0.848    \n",
       "lsqrft      -0.103238   0.138430  -0.746    0.458    \n",
       "lassess      1.043065   0.151446   6.887 1.01e-09 ***\n",
       "---\n",
       "Signif. codes:  0 ‘***’ 0.001 ‘**’ 0.01 ‘*’ 0.05 ‘.’ 0.1 ‘ ’ 1\n",
       "\n",
       "Residual standard error: 0.1481 on 83 degrees of freedom\n",
       "Multiple R-squared:  0.7728,\tAdjusted R-squared:  0.7619 \n",
       "F-statistic: 70.58 on 4 and 83 DF,  p-value: < 2.2e-16\n"
      ]
     },
     "metadata": {},
     "output_type": "display_data"
    }
   ],
   "source": [
    "#define the regression model based on X and Y variables\n",
    "M1_c = lm(lprice ~ bdrms + llotsize + lsqrft + lassess, data=data)\n",
    "\n",
    "#report the regression result\n",
    "summary(M1_c)"
   ]
  },
  {
   "cell_type": "markdown",
   "id": "183a5f5d-cd27-48cb-9950-0c1d8c6c18ac",
   "metadata": {},
   "source": [
    "# the default R table is horrible, let's report them in a nicer table called \"stargazer\""
   ]
  },
  {
   "cell_type": "code",
   "execution_count": 18,
   "id": "c1bae156-3622-4722-8923-65cc4e20da35",
   "metadata": {},
   "outputs": [
    {
     "name": "stdout",
     "output_type": "stream",
     "text": [
      "\n",
      "========================================\n",
      "                 Y variable: lprice     \n",
      "             ---------------------------\n",
      "                       lprice           \n",
      "----------------------------------------\n",
      "bdrms                  0.0338           \n",
      "                      (0.0221)          \n",
      "                                        \n",
      "llotsize               0.0074           \n",
      "                      (0.0386)          \n",
      "                                        \n",
      "lsqrft                 -0.1032          \n",
      "                      (0.1384)          \n",
      "                                        \n",
      "lassess               1.0431***         \n",
      "                      (0.1514)          \n",
      "                                        \n",
      "Constant               0.2637           \n",
      "                      (0.5697)          \n",
      "                                        \n",
      "----------------------------------------\n",
      "Observations             88             \n",
      "R2                     0.7728           \n",
      "Adjusted R2            0.7619           \n",
      "========================================\n",
      "Note:        *p<0.1; **p<0.05; ***p<0.01\n"
     ]
    }
   ],
   "source": [
    "stargazer(M1_c,\n",
    "  header=FALSE, \n",
    "  type=\"text\",  \n",
    "  digits=4, \n",
    "  intercept.bottom=TRUE, \n",
    "  dep.var.caption=\"Y variable: lprice\",\n",
    "  model.names=FALSE,\n",
    "  omit.stat=c(\"LL\",\"ser\",\"f\"))"
   ]
  },
  {
   "cell_type": "markdown",
   "id": "fc40cfea-688b-471f-a3c9-d63f60613bae",
   "metadata": {
    "tags": []
   },
   "source": [
    "---\n",
    "\n",
    "# compare two models in the same regression table"
   ]
  },
  {
   "cell_type": "code",
   "execution_count": 22,
   "id": "85613437-71d4-4968-a43d-26427b3931de",
   "metadata": {},
   "outputs": [
    {
     "name": "stdout",
     "output_type": "stream",
     "text": [
      "\n",
      "=========================================\n",
      "              Dependent variable: lwage  \n",
      "             ----------------------------\n",
      "                        lprice           \n",
      "                  (1)            (2)     \n",
      "-----------------------------------------\n",
      "bdrms            0.0370        0.0338    \n",
      "                (0.0275)      (0.0221)   \n",
      "                                         \n",
      "llotsize       0.1680***       0.0074    \n",
      "                (0.0383)      (0.0386)   \n",
      "                                         \n",
      "lsqrft         0.7002***       -0.1032   \n",
      "                (0.0929)      (0.1384)   \n",
      "                                         \n",
      "lassess                       1.0431***  \n",
      "                              (0.1514)   \n",
      "                                         \n",
      "Constant       -1.2970**       0.2637    \n",
      "                (0.6513)      (0.5697)   \n",
      "                                         \n",
      "-----------------------------------------\n",
      "Observations       88            88      \n",
      "R2               0.6430        0.7728    \n",
      "Adjusted R2      0.6302        0.7619    \n",
      "=========================================\n",
      "Note:         *p<0.1; **p<0.05; ***p<0.01\n"
     ]
    }
   ],
   "source": [
    "stargazer(M1_b, M1_c,\n",
    "    header=FALSE, \n",
    "    type=\"text\",  \n",
    "    digits=4, \n",
    "    intercept.bottom=TRUE, \n",
    "    dep.var.caption=\"Dependent variable: lwage\",\n",
    "    model.names=FALSE,\n",
    "    omit.stat=c(\"LL\",\"ser\",\"f\"))"
   ]
  },
  {
   "cell_type": "markdown",
   "id": "5ae220eb-3366-43d5-8050-ab3bacd09483",
   "metadata": {},
   "source": [
    "---\n",
    "\n",
    "# the changes after including $\\mathrm{lassess}$ is due to the sample correlation between $\\mathrm{lassess}$ and other X variables\n",
    "# larger the absolute value of the correlation, larger the change\n",
    "# you can check the sample correlation as follows"
   ]
  },
  {
   "cell_type": "code",
   "execution_count": 39,
   "id": "85d73500-58a1-4cb1-b324-d7ff6839662f",
   "metadata": {},
   "outputs": [
    {
     "data": {
      "text/html": [
       "<table class=\"dataframe\">\n",
       "<caption>A matrix: 4 × 4 of type dbl</caption>\n",
       "<thead>\n",
       "\t<tr><th></th><th scope=col>lassess</th><th scope=col>bdrms</th><th scope=col>llotsize</th><th scope=col>lsqrft</th></tr>\n",
       "</thead>\n",
       "<tbody>\n",
       "\t<tr><th scope=row>lassess</th><td>1.0000000</td><td>0.4587439</td><td>0.5577346</td><td>0.8646643</td></tr>\n",
       "\t<tr><th scope=row>bdrms</th><td>0.4587439</td><td>1.0000000</td><td>0.1694903</td><td>0.5195793</td></tr>\n",
       "\t<tr><th scope=row>llotsize</th><td>0.5577346</td><td>0.1694903</td><td>1.0000000</td><td>0.3112993</td></tr>\n",
       "\t<tr><th scope=row>lsqrft</th><td>0.8646643</td><td>0.5195793</td><td>0.3112993</td><td>1.0000000</td></tr>\n",
       "</tbody>\n",
       "</table>\n"
      ],
      "text/latex": [
       "A matrix: 4 × 4 of type dbl\n",
       "\\begin{tabular}{r|llll}\n",
       "  & lassess & bdrms & llotsize & lsqrft\\\\\n",
       "\\hline\n",
       "\tlassess & 1.0000000 & 0.4587439 & 0.5577346 & 0.8646643\\\\\n",
       "\tbdrms & 0.4587439 & 1.0000000 & 0.1694903 & 0.5195793\\\\\n",
       "\tllotsize & 0.5577346 & 0.1694903 & 1.0000000 & 0.3112993\\\\\n",
       "\tlsqrft & 0.8646643 & 0.5195793 & 0.3112993 & 1.0000000\\\\\n",
       "\\end{tabular}\n"
      ],
      "text/markdown": [
       "\n",
       "A matrix: 4 × 4 of type dbl\n",
       "\n",
       "| <!--/--> | lassess | bdrms | llotsize | lsqrft |\n",
       "|---|---|---|---|---|\n",
       "| lassess | 1.0000000 | 0.4587439 | 0.5577346 | 0.8646643 |\n",
       "| bdrms | 0.4587439 | 1.0000000 | 0.1694903 | 0.5195793 |\n",
       "| llotsize | 0.5577346 | 0.1694903 | 1.0000000 | 0.3112993 |\n",
       "| lsqrft | 0.8646643 | 0.5195793 | 0.3112993 | 1.0000000 |\n",
       "\n"
      ],
      "text/plain": [
       "         lassess   bdrms     llotsize  lsqrft   \n",
       "lassess  1.0000000 0.4587439 0.5577346 0.8646643\n",
       "bdrms    0.4587439 1.0000000 0.1694903 0.5195793\n",
       "llotsize 0.5577346 0.1694903 1.0000000 0.3112993\n",
       "lsqrft   0.8646643 0.5195793 0.3112993 1.0000000"
      ]
     },
     "metadata": {},
     "output_type": "display_data"
    }
   ],
   "source": [
    "cor(data[c(8,3,9,10)])"
   ]
  },
  {
   "cell_type": "code",
   "execution_count": null,
   "id": "1563a0c7-2b94-4cc7-abda-b40841bbb751",
   "metadata": {},
   "outputs": [],
   "source": []
  }
 ],
 "metadata": {
  "kernelspec": {
   "display_name": "R",
   "language": "R",
   "name": "ir"
  },
  "language_info": {
   "codemirror_mode": "r",
   "file_extension": ".r",
   "mimetype": "text/x-r-source",
   "name": "R",
   "pygments_lexer": "r",
   "version": "4.1.1"
  }
 },
 "nbformat": 4,
 "nbformat_minor": 5
}
