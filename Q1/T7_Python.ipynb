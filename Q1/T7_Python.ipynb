{
 "cells": [
  {
   "cell_type": "code",
   "execution_count": 1,
   "id": "119a1f29-7487-438d-8f6d-1ee5bb340742",
   "metadata": {},
   "outputs": [],
   "source": [
    "%reset -f"
   ]
  },
  {
   "cell_type": "markdown",
   "id": "3c536b63-7cc7-4cf1-a118-776525ba1000",
   "metadata": {},
   "source": [
    "# load all the Python packages for regression "
   ]
  },
  {
   "cell_type": "code",
   "execution_count": 2,
   "id": "cd70fe63-af9b-4985-9cc0-9c62a2154254",
   "metadata": {},
   "outputs": [],
   "source": [
    "import numpy                 as np\n",
    "import matplotlib.pyplot     as plt\n",
    "import pandas                as pd\n",
    "import statsmodels.api       as sm\n",
    "import statsmodels.stats.api as sms\n",
    "\n",
    "from statsmodels.iolib.summary2 import summary_col\n",
    "from statsmodels.compat         import lzip"
   ]
  },
  {
   "cell_type": "markdown",
   "id": "45141f3b-208c-4271-9638-35fc41c42b99",
   "metadata": {},
   "source": [
    "# now we load the data into Python"
   ]
  },
  {
   "cell_type": "code",
   "execution_count": 3,
   "id": "540ddf38-2d8e-4c27-a7ee-b002c3c39c71",
   "metadata": {},
   "outputs": [],
   "source": [
    "df = pd.read_csv(\"hprice1.csv\")"
   ]
  },
  {
   "cell_type": "markdown",
   "id": "3eb19efe-1e6d-44a2-90de-87a86e79caf9",
   "metadata": {},
   "source": [
    "# add the constant term into your dataset"
   ]
  },
  {
   "cell_type": "code",
   "execution_count": 4,
   "id": "779f90e8-0057-45cd-9181-06fcdb5ba8ea",
   "metadata": {},
   "outputs": [],
   "source": [
    "df = sm.add_constant(df)"
   ]
  },
  {
   "cell_type": "markdown",
   "id": "09f1d705-2b43-49e0-882f-1107daff802e",
   "metadata": {},
   "source": [
    "# to make sure the data is loaded correctly, check all the variable names in your file"
   ]
  },
  {
   "cell_type": "code",
   "execution_count": 5,
   "id": "fd19db6d-cce3-4916-ac37-e6dad8fcf686",
   "metadata": {},
   "outputs": [
    {
     "data": {
      "text/plain": [
       "Index(['const', 'price', 'assess', 'bdrms', 'lotsize', 'sqrft', 'colonial',\n",
       "       'lprice', 'lassess', 'llotsize', 'lsqrft'],\n",
       "      dtype='object')"
      ]
     },
     "execution_count": 5,
     "metadata": {},
     "output_type": "execute_result"
    }
   ],
   "source": [
    "df.columns"
   ]
  },
  {
   "cell_type": "markdown",
   "id": "329d0edf-3fd9-4889-b099-bbd0aac0c070",
   "metadata": {},
   "source": [
    "# to make sure the data is loaded correctly, check the summary statistics of each variable"
   ]
  },
  {
   "cell_type": "code",
   "execution_count": 6,
   "id": "058b005f-5e81-4e10-89bf-7b33c5d9b795",
   "metadata": {},
   "outputs": [
    {
     "data": {
      "text/html": [
       "<div>\n",
       "<style scoped>\n",
       "    .dataframe tbody tr th:only-of-type {\n",
       "        vertical-align: middle;\n",
       "    }\n",
       "\n",
       "    .dataframe tbody tr th {\n",
       "        vertical-align: top;\n",
       "    }\n",
       "\n",
       "    .dataframe thead th {\n",
       "        text-align: right;\n",
       "    }\n",
       "</style>\n",
       "<table border=\"1\" class=\"dataframe\">\n",
       "  <thead>\n",
       "    <tr style=\"text-align: right;\">\n",
       "      <th></th>\n",
       "      <th>const</th>\n",
       "      <th>price</th>\n",
       "      <th>assess</th>\n",
       "      <th>bdrms</th>\n",
       "      <th>lotsize</th>\n",
       "      <th>sqrft</th>\n",
       "      <th>colonial</th>\n",
       "      <th>lprice</th>\n",
       "      <th>lassess</th>\n",
       "      <th>llotsize</th>\n",
       "      <th>lsqrft</th>\n",
       "    </tr>\n",
       "  </thead>\n",
       "  <tbody>\n",
       "    <tr>\n",
       "      <th>count</th>\n",
       "      <td>88.0</td>\n",
       "      <td>88.000000</td>\n",
       "      <td>88.000000</td>\n",
       "      <td>88.000000</td>\n",
       "      <td>88.000000</td>\n",
       "      <td>88.000000</td>\n",
       "      <td>88.000000</td>\n",
       "      <td>88.000000</td>\n",
       "      <td>88.000000</td>\n",
       "      <td>88.000000</td>\n",
       "      <td>88.000000</td>\n",
       "    </tr>\n",
       "    <tr>\n",
       "      <th>mean</th>\n",
       "      <td>1.0</td>\n",
       "      <td>293.546034</td>\n",
       "      <td>315.736362</td>\n",
       "      <td>3.568182</td>\n",
       "      <td>9019.863636</td>\n",
       "      <td>2013.693182</td>\n",
       "      <td>0.693182</td>\n",
       "      <td>5.633180</td>\n",
       "      <td>5.717994</td>\n",
       "      <td>8.905104</td>\n",
       "      <td>7.572610</td>\n",
       "    </tr>\n",
       "    <tr>\n",
       "      <th>std</th>\n",
       "      <td>0.0</td>\n",
       "      <td>102.713445</td>\n",
       "      <td>95.314435</td>\n",
       "      <td>0.841393</td>\n",
       "      <td>10174.150414</td>\n",
       "      <td>577.191583</td>\n",
       "      <td>0.463816</td>\n",
       "      <td>0.303573</td>\n",
       "      <td>0.262113</td>\n",
       "      <td>0.544060</td>\n",
       "      <td>0.258688</td>\n",
       "    </tr>\n",
       "    <tr>\n",
       "      <th>min</th>\n",
       "      <td>1.0</td>\n",
       "      <td>111.000000</td>\n",
       "      <td>198.700000</td>\n",
       "      <td>2.000000</td>\n",
       "      <td>1000.000000</td>\n",
       "      <td>1171.000000</td>\n",
       "      <td>0.000000</td>\n",
       "      <td>4.709530</td>\n",
       "      <td>5.291796</td>\n",
       "      <td>6.907755</td>\n",
       "      <td>7.065613</td>\n",
       "    </tr>\n",
       "    <tr>\n",
       "      <th>25%</th>\n",
       "      <td>1.0</td>\n",
       "      <td>230.000000</td>\n",
       "      <td>253.900002</td>\n",
       "      <td>3.000000</td>\n",
       "      <td>5732.750000</td>\n",
       "      <td>1660.500000</td>\n",
       "      <td>0.000000</td>\n",
       "      <td>5.438079</td>\n",
       "      <td>5.536940</td>\n",
       "      <td>8.653908</td>\n",
       "      <td>7.414873</td>\n",
       "    </tr>\n",
       "    <tr>\n",
       "      <th>50%</th>\n",
       "      <td>1.0</td>\n",
       "      <td>265.500000</td>\n",
       "      <td>290.199995</td>\n",
       "      <td>3.000000</td>\n",
       "      <td>6430.000000</td>\n",
       "      <td>1845.000000</td>\n",
       "      <td>1.000000</td>\n",
       "      <td>5.581613</td>\n",
       "      <td>5.670567</td>\n",
       "      <td>8.768719</td>\n",
       "      <td>7.520231</td>\n",
       "    </tr>\n",
       "    <tr>\n",
       "      <th>75%</th>\n",
       "      <td>1.0</td>\n",
       "      <td>326.250000</td>\n",
       "      <td>352.125000</td>\n",
       "      <td>4.000000</td>\n",
       "      <td>8583.250000</td>\n",
       "      <td>2227.000000</td>\n",
       "      <td>1.000000</td>\n",
       "      <td>5.787642</td>\n",
       "      <td>5.863982</td>\n",
       "      <td>9.057567</td>\n",
       "      <td>7.708266</td>\n",
       "    </tr>\n",
       "    <tr>\n",
       "      <th>max</th>\n",
       "      <td>1.0</td>\n",
       "      <td>725.000000</td>\n",
       "      <td>708.599980</td>\n",
       "      <td>7.000000</td>\n",
       "      <td>92681.000000</td>\n",
       "      <td>3880.000000</td>\n",
       "      <td>1.000000</td>\n",
       "      <td>6.586172</td>\n",
       "      <td>6.563291</td>\n",
       "      <td>11.436919</td>\n",
       "      <td>8.263591</td>\n",
       "    </tr>\n",
       "  </tbody>\n",
       "</table>\n",
       "</div>"
      ],
      "text/plain": [
       "       const       price      assess      bdrms       lotsize        sqrft  \\\n",
       "count   88.0   88.000000   88.000000  88.000000     88.000000    88.000000   \n",
       "mean     1.0  293.546034  315.736362   3.568182   9019.863636  2013.693182   \n",
       "std      0.0  102.713445   95.314435   0.841393  10174.150414   577.191583   \n",
       "min      1.0  111.000000  198.700000   2.000000   1000.000000  1171.000000   \n",
       "25%      1.0  230.000000  253.900002   3.000000   5732.750000  1660.500000   \n",
       "50%      1.0  265.500000  290.199995   3.000000   6430.000000  1845.000000   \n",
       "75%      1.0  326.250000  352.125000   4.000000   8583.250000  2227.000000   \n",
       "max      1.0  725.000000  708.599980   7.000000  92681.000000  3880.000000   \n",
       "\n",
       "        colonial     lprice    lassess   llotsize     lsqrft  \n",
       "count  88.000000  88.000000  88.000000  88.000000  88.000000  \n",
       "mean    0.693182   5.633180   5.717994   8.905104   7.572610  \n",
       "std     0.463816   0.303573   0.262113   0.544060   0.258688  \n",
       "min     0.000000   4.709530   5.291796   6.907755   7.065613  \n",
       "25%     0.000000   5.438079   5.536940   8.653908   7.414873  \n",
       "50%     1.000000   5.581613   5.670567   8.768719   7.520231  \n",
       "75%     1.000000   5.787642   5.863982   9.057567   7.708266  \n",
       "max     1.000000   6.586172   6.563291  11.436919   8.263591  "
      ]
     },
     "execution_count": 6,
     "metadata": {},
     "output_type": "execute_result"
    }
   ],
   "source": [
    "df.describe()"
   ]
  },
  {
   "cell_type": "markdown",
   "id": "714f50ae-4f69-482f-bb86-310791c90a54",
   "metadata": {},
   "source": [
    "# all good, now we can compute regression models\n",
    "\n",
    "---\n",
    "\n",
    "# Q1.a\n",
    "\n",
    "# $$ \\mathrm{price} = \\beta_0 + \\beta_1 \\cdot \\mathrm{bdrms} + \\beta_2 \\cdot \\mathrm{lotsize} + \\beta_3 \\cdot \\mathrm{sqrft} + u $$"
   ]
  },
  {
   "cell_type": "code",
   "execution_count": 8,
   "id": "61c543c1-fc97-4846-9ac1-125eaa6b98b4",
   "metadata": {},
   "outputs": [
    {
     "name": "stdout",
     "output_type": "stream",
     "text": [
      "                            OLS Regression Results                            \n",
      "==============================================================================\n",
      "Dep. Variable:                  price   R-squared:                       0.672\n",
      "Model:                            OLS   Adj. R-squared:                  0.661\n",
      "Method:                 Least Squares   F-statistic:                     57.46\n",
      "Date:                Tue, 05 Oct 2021   Prob (F-statistic):           2.70e-20\n",
      "Time:                        15:43:38   Log-Likelihood:                -482.88\n",
      "No. Observations:                  88   AIC:                             973.8\n",
      "Df Residuals:                      84   BIC:                             983.7\n",
      "Df Model:                           3                                         \n",
      "Covariance Type:            nonrobust                                         \n",
      "==============================================================================\n",
      "                 coef    std err          t      P>|t|      [0.025      0.975]\n",
      "------------------------------------------------------------------------------\n",
      "const        -21.7703     29.475     -0.739      0.462     -80.385      36.844\n",
      "bdrms         13.8525      9.010      1.537      0.128      -4.065      31.770\n",
      "lotsize        0.0021      0.001      3.220      0.002       0.001       0.003\n",
      "sqrft          0.1228      0.013      9.275      0.000       0.096       0.149\n",
      "==============================================================================\n",
      "Omnibus:                       20.398   Durbin-Watson:                   2.110\n",
      "Prob(Omnibus):                  0.000   Jarque-Bera (JB):               32.278\n",
      "Skew:                           0.961   Prob(JB):                     9.79e-08\n",
      "Kurtosis:                       5.261   Cond. No.                     6.41e+04\n",
      "==============================================================================\n",
      "\n",
      "Notes:\n",
      "[1] Standard Errors assume that the covariance matrix of the errors is correctly specified.\n",
      "[2] The condition number is large, 6.41e+04. This might indicate that there are\n",
      "strong multicollinearity or other numerical problems.\n"
     ]
    }
   ],
   "source": [
    "# define the X variable\n",
    "x_a = df[['const','bdrms', 'lotsize', 'sqrft']]\n",
    "# define the Y variable\n",
    "y_a = df[['price']]\n",
    "\n",
    "#define the regression model based on X and Y variables\n",
    "M1a = sm.OLS(y_a,x_a)\n",
    "\n",
    "#compute the regression model\n",
    "M1a_result = M1a.fit()\n",
    "\n",
    "#print the result\n",
    "print(M1a_result.summary())"
   ]
  },
  {
   "cell_type": "markdown",
   "id": "88effcbe-a451-45e7-83d2-7df06e337bb1",
   "metadata": {
    "tags": []
   },
   "source": [
    "---\n",
    "\n",
    "# Q1.b\n",
    "\n",
    "# $$ \\ln \\left( \\mathrm{price} \\right) = \\beta_0 + \\beta_1 \\cdot \\mathrm{bdrms} + \\beta_2 \\cdot \\ln \\left( \\mathrm{lotsize} \\right) + \\beta_3 \\cdot \\ln \\left( \\mathrm{sqrft} \\right) + u $$"
   ]
  },
  {
   "cell_type": "code",
   "execution_count": 9,
   "id": "59852899-3491-4bea-b58d-cd7dadf7ea25",
   "metadata": {},
   "outputs": [
    {
     "name": "stdout",
     "output_type": "stream",
     "text": [
      "                            OLS Regression Results                            \n",
      "==============================================================================\n",
      "Dep. Variable:                 lprice   R-squared:                       0.643\n",
      "Model:                            OLS   Adj. R-squared:                  0.630\n",
      "Method:                 Least Squares   F-statistic:                     50.42\n",
      "Date:                Tue, 05 Oct 2021   Prob (F-statistic):           9.74e-19\n",
      "Time:                        15:44:03   Log-Likelihood:                 25.861\n",
      "No. Observations:                  88   AIC:                            -43.72\n",
      "Df Residuals:                      84   BIC:                            -33.81\n",
      "Df Model:                           3                                         \n",
      "Covariance Type:            nonrobust                                         \n",
      "==============================================================================\n",
      "                 coef    std err          t      P>|t|      [0.025      0.975]\n",
      "------------------------------------------------------------------------------\n",
      "const         -1.2970      0.651     -1.992      0.050      -2.592      -0.002\n",
      "bdrms          0.0370      0.028      1.342      0.183      -0.018       0.092\n",
      "llotsize       0.1680      0.038      4.388      0.000       0.092       0.244\n",
      "lsqrft         0.7002      0.093      7.540      0.000       0.516       0.885\n",
      "==============================================================================\n",
      "Omnibus:                       12.060   Durbin-Watson:                   2.089\n",
      "Prob(Omnibus):                  0.002   Jarque-Bera (JB):               34.889\n",
      "Skew:                          -0.188   Prob(JB):                     2.65e-08\n",
      "Kurtosis:                       6.062   Cond. No.                         410.\n",
      "==============================================================================\n",
      "\n",
      "Notes:\n",
      "[1] Standard Errors assume that the covariance matrix of the errors is correctly specified.\n"
     ]
    }
   ],
   "source": [
    "# define the X variable\n",
    "x_b = df[['const','bdrms', 'llotsize', 'lsqrft']]\n",
    "# define the Y variable\n",
    "y_b = df[['lprice']]\n",
    "\n",
    "#define the regression model based on X and Y variables\n",
    "M1b = sm.OLS(y_b,x_b)\n",
    "\n",
    "#compute the regression model\n",
    "M1b_result = M1b.fit()\n",
    "\n",
    "#print the result\n",
    "print(M1b_result.summary())"
   ]
  },
  {
   "cell_type": "markdown",
   "id": "e89ca7bc-2f50-45bb-bd8f-0d66fab01ae6",
   "metadata": {
    "tags": []
   },
   "source": [
    "---\n",
    "\n",
    "# Q1.c\n",
    "\n",
    "# $$ \\ln \\left( \\mathrm{price} \\right) = \\beta_0 + \\beta_1 \\cdot \\mathrm{bdrms} + \\beta_2 \\cdot \\ln \\left( \\mathrm{lotsize} \\right) + \\beta_3 \\cdot \\ln \\left( \\mathrm{sqrft} \\right) + \\beta_4 \\cdot \\ln \\left( \\mathrm{assess} \\right) + u $$"
   ]
  },
  {
   "cell_type": "code",
   "execution_count": 11,
   "id": "1e5a3e32-85fe-4bda-b898-ff95e17ad1df",
   "metadata": {},
   "outputs": [
    {
     "name": "stdout",
     "output_type": "stream",
     "text": [
      "                            OLS Regression Results                            \n",
      "==============================================================================\n",
      "Dep. Variable:                 lprice   R-squared:                       0.773\n",
      "Model:                            OLS   Adj. R-squared:                  0.762\n",
      "Method:                 Least Squares   F-statistic:                     70.58\n",
      "Date:                Tue, 05 Oct 2021   Prob (F-statistic):           6.45e-26\n",
      "Time:                        15:44:33   Log-Likelihood:                 45.750\n",
      "No. Observations:                  88   AIC:                            -81.50\n",
      "Df Residuals:                      83   BIC:                            -69.11\n",
      "Df Model:                           4                                         \n",
      "Covariance Type:            nonrobust                                         \n",
      "==============================================================================\n",
      "                 coef    std err          t      P>|t|      [0.025      0.975]\n",
      "------------------------------------------------------------------------------\n",
      "const          0.2637      0.570      0.463      0.645      -0.869       1.397\n",
      "bdrms          0.0338      0.022      1.531      0.129      -0.010       0.078\n",
      "llotsize       0.0074      0.039      0.193      0.848      -0.069       0.084\n",
      "lsqrft        -0.1032      0.138     -0.746      0.458      -0.379       0.172\n",
      "lassess        1.0431      0.151      6.887      0.000       0.742       1.344\n",
      "==============================================================================\n",
      "Omnibus:                       14.527   Durbin-Watson:                   2.048\n",
      "Prob(Omnibus):                  0.001   Jarque-Bera (JB):               56.436\n",
      "Skew:                           0.118   Prob(JB):                     5.56e-13\n",
      "Kurtosis:                       6.916   Cond. No.                         501.\n",
      "==============================================================================\n",
      "\n",
      "Notes:\n",
      "[1] Standard Errors assume that the covariance matrix of the errors is correctly specified.\n"
     ]
    }
   ],
   "source": [
    "# define the X variable\n",
    "x_c = df[['const','bdrms', 'llotsize', 'lsqrft', 'lassess']]\n",
    "# define the Y variable\n",
    "y_c = df[['lprice']]\n",
    "\n",
    "#define the regression model based on X and Y variables\n",
    "M1c = sm.OLS(y_c,x_c)\n",
    "\n",
    "#compute the regression model\n",
    "M1c_result = M1c.fit()\n",
    "\n",
    "#print the result\n",
    "print(M1c_result.summary())"
   ]
  },
  {
   "cell_type": "markdown",
   "id": "8bc193a1-26e1-42a0-9211-fd78fb64eb54",
   "metadata": {
    "tags": []
   },
   "source": [
    "---\n",
    "\n",
    "# compare two models in the same regression table"
   ]
  },
  {
   "cell_type": "code",
   "execution_count": 13,
   "id": "2c8517ad-0687-432a-84fa-165e364e21e1",
   "metadata": {},
   "outputs": [
    {
     "name": "stdout",
     "output_type": "stream",
     "text": [
      "\n",
      "======================================\n",
      "               Model Q1(b) Model Q1(c)\n",
      "--------------------------------------\n",
      "R-squared      0.6430      0.7728     \n",
      "R-squared Adj. 0.6302      0.7619     \n",
      "bdrms          0.0370      0.0338     \n",
      "               (0.0275)    (0.0221)   \n",
      "const          -1.2970**   0.2637     \n",
      "               (0.6513)    (0.5697)   \n",
      "lassess                    1.0431***  \n",
      "                           (0.1514)   \n",
      "llotsize       0.1680***   0.0074     \n",
      "               (0.0383)    (0.0386)   \n",
      "lsqrft         0.7002***   -0.1032    \n",
      "               (0.0929)    (0.1384)   \n",
      "sample size    88          88         \n",
      "======================================\n",
      "Standard errors in parentheses.\n",
      "* p<.1, ** p<.05, ***p<.01\n"
     ]
    }
   ],
   "source": [
    "summary = summary_col(\n",
    "    [M1b_result,M1c_result], stars=True, float_format='%0.4f',\n",
    "    model_names=['Model Q1(b)','Model Q1(c)'],\n",
    "    info_dict={'sample size':lambda x: \"{0:d}\".format(int(x.nobs))})\n",
    "print(summary)"
   ]
  },
  {
   "cell_type": "markdown",
   "id": "cee395e0-ba1e-41a9-85d0-d4263d3e0544",
   "metadata": {},
   "source": [
    "---\n",
    "\n",
    "# the changes after including $\\mathrm{lassess}$ is due to the sample correlation between $\\mathrm{lassess}$ and other X variables\n",
    "# larger the absolute value of the correlation, larger the change\n",
    "# you can check the sample correlation as follows"
   ]
  },
  {
   "cell_type": "code",
   "execution_count": 16,
   "id": "64fab5e1-8eca-4741-aa59-52b71832dfb3",
   "metadata": {},
   "outputs": [
    {
     "data": {
      "text/html": [
       "<div>\n",
       "<style scoped>\n",
       "    .dataframe tbody tr th:only-of-type {\n",
       "        vertical-align: middle;\n",
       "    }\n",
       "\n",
       "    .dataframe tbody tr th {\n",
       "        vertical-align: top;\n",
       "    }\n",
       "\n",
       "    .dataframe thead th {\n",
       "        text-align: right;\n",
       "    }\n",
       "</style>\n",
       "<table border=\"1\" class=\"dataframe\">\n",
       "  <thead>\n",
       "    <tr style=\"text-align: right;\">\n",
       "      <th></th>\n",
       "      <th>lassess</th>\n",
       "      <th>bdrms</th>\n",
       "      <th>llotsize</th>\n",
       "      <th>lsqrft</th>\n",
       "    </tr>\n",
       "  </thead>\n",
       "  <tbody>\n",
       "    <tr>\n",
       "      <th>lassess</th>\n",
       "      <td>1.000000</td>\n",
       "      <td>0.458744</td>\n",
       "      <td>0.557735</td>\n",
       "      <td>0.864664</td>\n",
       "    </tr>\n",
       "    <tr>\n",
       "      <th>bdrms</th>\n",
       "      <td>0.458744</td>\n",
       "      <td>1.000000</td>\n",
       "      <td>0.169490</td>\n",
       "      <td>0.519579</td>\n",
       "    </tr>\n",
       "    <tr>\n",
       "      <th>llotsize</th>\n",
       "      <td>0.557735</td>\n",
       "      <td>0.169490</td>\n",
       "      <td>1.000000</td>\n",
       "      <td>0.311299</td>\n",
       "    </tr>\n",
       "    <tr>\n",
       "      <th>lsqrft</th>\n",
       "      <td>0.864664</td>\n",
       "      <td>0.519579</td>\n",
       "      <td>0.311299</td>\n",
       "      <td>1.000000</td>\n",
       "    </tr>\n",
       "  </tbody>\n",
       "</table>\n",
       "</div>"
      ],
      "text/plain": [
       "           lassess     bdrms  llotsize    lsqrft\n",
       "lassess   1.000000  0.458744  0.557735  0.864664\n",
       "bdrms     0.458744  1.000000  0.169490  0.519579\n",
       "llotsize  0.557735  0.169490  1.000000  0.311299\n",
       "lsqrft    0.864664  0.519579  0.311299  1.000000"
      ]
     },
     "execution_count": 16,
     "metadata": {},
     "output_type": "execute_result"
    }
   ],
   "source": [
    "df[['lassess', 'bdrms', 'llotsize', 'lsqrft']].corr()"
   ]
  },
  {
   "cell_type": "markdown",
   "id": "31431caa-d176-4ac9-84d8-e357dd227c5c",
   "metadata": {},
   "source": [
    "# export codes into an HTML file"
   ]
  },
  {
   "cell_type": "code",
   "execution_count": 18,
   "id": "727b460a-2dd6-4e84-8fc9-0b17f625e124",
   "metadata": {},
   "outputs": [
    {
     "name": "stdout",
     "output_type": "stream",
     "text": [
      "[NbConvertApp] Converting notebook T7_Python.ipynb to html\n",
      "[NbConvertApp] Writing 607187 bytes to T7_Python.html\n"
     ]
    }
   ],
   "source": [
    "!rm -rf T7_Python.html\n",
    "!jupyter nbconvert --to html T7_Python.ipynb"
   ]
  },
  {
   "cell_type": "code",
   "execution_count": null,
   "id": "cf09d5fe-addd-4239-9753-89e1e0937971",
   "metadata": {},
   "outputs": [],
   "source": []
  }
 ],
 "metadata": {
  "kernelspec": {
   "display_name": "Python 3 (ipykernel)",
   "language": "python",
   "name": "python3"
  },
  "language_info": {
   "codemirror_mode": {
    "name": "ipython",
    "version": 3
   },
   "file_extension": ".py",
   "mimetype": "text/x-python",
   "name": "python",
   "nbconvert_exporter": "python",
   "pygments_lexer": "ipython3",
   "version": "3.9.7"
  }
 },
 "nbformat": 4,
 "nbformat_minor": 5
}
