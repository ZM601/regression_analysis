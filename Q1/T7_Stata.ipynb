{
 "cells": [
  {
   "cell_type": "markdown",
   "id": "d1ba4e75-8b6d-4c83-bc5d-34df26cbb37d",
   "metadata": {},
   "source": [
    "# check the name of your current working directory"
   ]
  },
  {
   "cell_type": "code",
   "execution_count": 1,
   "id": "8b6e72bc-6687-4655-8db5-ca20dadd94a8",
   "metadata": {},
   "outputs": [
    {
     "name": "stdout",
     "output_type": "stream",
     "text": [
      "/Users/ning/Documents/testfield\n"
     ]
    }
   ],
   "source": [
    "pwd"
   ]
  },
  {
   "cell_type": "markdown",
   "id": "a5b0388e-f991-4fc3-a546-6c23647d1c9b",
   "metadata": {},
   "source": [
    "# list all the files in your working directory and see whether you have \"hprice1.dta\" file"
   ]
  },
  {
   "cell_type": "code",
   "execution_count": 2,
   "id": "34946eb7-ff81-443c-9851-0eae99d42cb0",
   "metadata": {},
   "outputs": [
    {
     "name": "stdout",
     "output_type": "stream",
     "text": [
      "\n",
      "total 1248\n",
      "-rw-r--r--  1 ning  staff  605910 Oct  5 15:35 T7_Stata.html\n",
      "-rw-r--r--  1 ning  staff   18898 Oct  5 15:35 T7_Stata.ipynb\n",
      "-rw-r--r--@ 1 ning  staff    5893 Aug 21 21:07 hprice1.csv\n",
      "-rw-r--r--@ 1 ning  staff    4070 Aug 21 21:07 hprice1.dta\n"
     ]
    }
   ],
   "source": [
    "ls"
   ]
  },
  {
   "cell_type": "markdown",
   "id": "f0dbfcfe-b4f3-4608-b110-375ab2b64af8",
   "metadata": {
    "jupyter": {
     "source_hidden": true
    },
    "tags": []
   },
   "source": [
    "# clearly, you see the file listed; now we can load the data into Stata"
   ]
  },
  {
   "cell_type": "code",
   "execution_count": 3,
   "id": "b19f9b8c-c805-4dc7-b8c7-6ff9ca34937d",
   "metadata": {},
   "outputs": [],
   "source": [
    "use hprice1.dta, clear"
   ]
  },
  {
   "cell_type": "markdown",
   "id": "d53d6912-c8df-4eda-91b5-93287d074dff",
   "metadata": {},
   "source": [
    "# to make sure the data is loaded correctly, check all the variable names in your file"
   ]
  },
  {
   "cell_type": "code",
   "execution_count": 4,
   "id": "b337ee8a-b9d2-45ff-b65e-1f1dd9e1328a",
   "metadata": {},
   "outputs": [
    {
     "name": "stdout",
     "output_type": "stream",
     "text": [
      "price     bdrms     sqrft     lprice    llotsize\n",
      "assess    lotsize   colonial  lassess   lsqrft\n"
     ]
    }
   ],
   "source": [
    "ds"
   ]
  },
  {
   "cell_type": "markdown",
   "id": "447253de-f398-4d22-b830-56b3b5feefda",
   "metadata": {},
   "source": [
    "# to make sure the data is loaded correctly, check the summary statistics of each variable"
   ]
  },
  {
   "cell_type": "code",
   "execution_count": 5,
   "id": "ab14792a-b63a-4acb-b74e-ba6a4dcdd7bc",
   "metadata": {},
   "outputs": [
    {
     "name": "stdout",
     "output_type": "stream",
     "text": [
      "\n",
      "    Variable |        Obs        Mean    Std. Dev.       Min        Max\n",
      "-------------+---------------------------------------------------------\n",
      "       price |         88     293.546    102.7134        111        725\n",
      "      assess |         88    315.7364    95.31444      198.7      708.6\n",
      "       bdrms |         88    3.568182    .8413926          2          7\n",
      "     lotsize |         88    9019.864    10174.15       1000      92681\n",
      "       sqrft |         88    2013.693    577.1916       1171       3880\n",
      "-------------+---------------------------------------------------------\n",
      "    colonial |         88    .6931818    .4638161          0          1\n",
      "      lprice |         88     5.63318    .3035727    4.70953   6.586172\n",
      "     lassess |         88    5.717994    .2621131   5.291796   6.563291\n",
      "    llotsize |         88    8.905104    .5440601   6.907755   11.43692\n",
      "      lsqrft |         88     7.57261    .2586883   7.065613   8.263591\n"
     ]
    }
   ],
   "source": [
    "sum"
   ]
  },
  {
   "cell_type": "markdown",
   "id": "8e4a58fc-3cde-411f-9a41-f60bae41b83a",
   "metadata": {},
   "source": [
    "# all good, now we can compute regression models\n",
    "\n",
    "---\n",
    "\n",
    "# Q1.a\n",
    "\n",
    "# $$ \\mathrm{price} = \\beta_0 + \\beta_1 \\cdot \\mathrm{bdrms} + \\beta_2 \\cdot \\mathrm{lotsize} + \\beta_3 \\cdot \\mathrm{sqrft} + u $$"
   ]
  },
  {
   "cell_type": "code",
   "execution_count": 6,
   "id": "1db07375-90df-43a5-a2d1-87425401e72f",
   "metadata": {},
   "outputs": [
    {
     "name": "stdout",
     "output_type": "stream",
     "text": [
      "\n",
      "      Source |       SS           df       MS      Number of obs   =        88\n",
      "-------------+----------------------------------   F(3, 84)        =     57.46\n",
      "       Model |  617130.701         3  205710.234   Prob > F        =    0.0000\n",
      "    Residual |  300723.805        84   3580.0453   R-squared       =    0.6724\n",
      "-------------+----------------------------------   Adj R-squared   =    0.6607\n",
      "       Total |  917854.506        87  10550.0518   Root MSE        =    59.833\n",
      "\n",
      "------------------------------------------------------------------------------\n",
      "       price |      Coef.   Std. Err.      t    P>|t|     [95% Conf. Interval]\n",
      "-------------+----------------------------------------------------------------\n",
      "       bdrms |   13.85252   9.010145     1.54   0.128    -4.065141    31.77018\n",
      "     lotsize |   .0020677   .0006421     3.22   0.002     .0007908    .0033446\n",
      "       sqrft |   .1227782   .0132374     9.28   0.000     .0964541    .1491022\n",
      "       _cons |  -21.77031   29.47504    -0.74   0.462    -80.38466    36.84405\n",
      "------------------------------------------------------------------------------\n"
     ]
    }
   ],
   "source": [
    "reg price bdrms lotsize sqrft"
   ]
  },
  {
   "cell_type": "markdown",
   "id": "3293adf4-3997-44fd-ac3c-730c0d49ae6b",
   "metadata": {
    "tags": []
   },
   "source": [
    "---\n",
    "\n",
    "# Q1.b\n",
    "\n",
    "# $$ \\ln \\left( \\mathrm{price} \\right) = \\beta_0 + \\beta_1 \\cdot \\mathrm{bdrms} + \\beta_2 \\cdot \\ln \\left( \\mathrm{lotsize} \\right) + \\beta_3 \\cdot \\ln \\left( \\mathrm{sqrft} \\right) + u $$"
   ]
  },
  {
   "cell_type": "code",
   "execution_count": 7,
   "id": "25791254-1c9e-4507-b3b1-0fbcaad005b9",
   "metadata": {
    "tags": []
   },
   "outputs": [
    {
     "name": "stdout",
     "output_type": "stream",
     "text": [
      "\n",
      "      Source |       SS           df       MS      Number of obs   =        88\n",
      "-------------+----------------------------------   F(3, 84)        =     50.42\n",
      "       Model |  5.15504028         3  1.71834676   Prob > F        =    0.0000\n",
      "    Residual |  2.86256324        84  .034078134   R-squared       =    0.6430\n",
      "-------------+----------------------------------   Adj R-squared   =    0.6302\n",
      "       Total |  8.01760352        87  .092156362   Root MSE        =     .1846\n",
      "\n",
      "------------------------------------------------------------------------------\n",
      "      lprice |      Coef.   Std. Err.      t    P>|t|     [95% Conf. Interval]\n",
      "-------------+----------------------------------------------------------------\n",
      "       bdrms |   .0369584   .0275313     1.34   0.183    -.0177906    .0917074\n",
      "    llotsize |   .1679667   .0382812     4.39   0.000     .0918404     .244093\n",
      "      lsqrft |   .7002324   .0928652     7.54   0.000     .5155597    .8849051\n",
      "       _cons |  -1.297042   .6512836    -1.99   0.050    -2.592191    -.001893\n",
      "------------------------------------------------------------------------------\n"
     ]
    }
   ],
   "source": [
    "reg lprice bdrms llotsize lsqrft"
   ]
  },
  {
   "cell_type": "markdown",
   "id": "aa1e5a03-6d25-485a-b65d-d6b983cf35b8",
   "metadata": {
    "tags": []
   },
   "source": [
    "# save the slopes for $\\mathrm{bdrms}$, $\\ln \\left( \\mathrm{lotsize} \\right)$ and $\\ln \\left( \\mathrm{sqrft} \\right)$ for later comparison"
   ]
  },
  {
   "cell_type": "code",
   "execution_count": 8,
   "id": "df7d5968-f00e-42fa-8a31-b782ddc01fb1",
   "metadata": {
    "tags": []
   },
   "outputs": [],
   "source": [
    "scalar b_bdrms_M1b    = _b[bdrms]\n",
    "scalar b_llotsize_M1b = _b[llotsize]\n",
    "scalar b_lsqrft_M1b   = _b[lsqrft]"
   ]
  },
  {
   "cell_type": "markdown",
   "id": "df863345-7748-49a1-a3a6-352757807edc",
   "metadata": {
    "tags": []
   },
   "source": [
    "# check the slopes you just saved"
   ]
  },
  {
   "cell_type": "code",
   "execution_count": 9,
   "id": "8a6afa87-28c1-4719-a8d9-b55a300406de",
   "metadata": {},
   "outputs": [
    {
     "name": "stdout",
     "output_type": "stream",
     "text": [
      "b_lsqrft_M1b =  .70023241\n",
      "b_llotsize_M1b =   .1679667\n",
      "b_bdrms_M1b =  .03695841\n"
     ]
    }
   ],
   "source": [
    "scalar list"
   ]
  },
  {
   "cell_type": "markdown",
   "id": "f127a2a0-aa12-4f36-b6ba-8a5bbe27cc6a",
   "metadata": {},
   "source": [
    "# save the regression result as \"M1\" for later comparison"
   ]
  },
  {
   "cell_type": "code",
   "execution_count": 10,
   "id": "60ceb2ac-4d5c-42af-ba04-377e6bbbb346",
   "metadata": {},
   "outputs": [],
   "source": [
    "estimate store M1_b"
   ]
  },
  {
   "cell_type": "markdown",
   "id": "e420e385-06da-47a3-98d1-20b0f3742e2e",
   "metadata": {
    "tags": []
   },
   "source": [
    "---\n",
    "\n",
    "# Q1.c\n",
    "\n",
    "# $$ \\ln \\left( \\mathrm{price} \\right) = \\beta_0 + \\beta_1 \\cdot \\mathrm{bdrms} + \\beta_2 \\cdot \\ln \\left( \\mathrm{lotsize} \\right) + \\beta_3 \\cdot \\ln \\left( \\mathrm{sqrft} \\right) + \\beta_4 \\cdot \\ln \\left( \\mathrm{assess} \\right) + u $$"
   ]
  },
  {
   "cell_type": "code",
   "execution_count": 11,
   "id": "8d41ace2-f729-4b90-ab6e-4f1b9d1b0e54",
   "metadata": {
    "tags": []
   },
   "outputs": [
    {
     "name": "stdout",
     "output_type": "stream",
     "text": [
      "\n",
      "      Source |       SS           df       MS      Number of obs   =        88\n",
      "-------------+----------------------------------   F(4, 83)        =     70.58\n",
      "       Model |  6.19607473         4  1.54901868   Prob > F        =    0.0000\n",
      "    Residual |  1.82152879        83   .02194613   R-squared       =    0.7728\n",
      "-------------+----------------------------------   Adj R-squared   =    0.7619\n",
      "       Total |  8.01760352        87  .092156362   Root MSE        =    .14814\n",
      "\n",
      "------------------------------------------------------------------------------\n",
      "      lprice |      Coef.   Std. Err.      t    P>|t|     [95% Conf. Interval]\n",
      "-------------+----------------------------------------------------------------\n",
      "       bdrms |   .0338392   .0220983     1.53   0.129    -.0101135    .0777918\n",
      "    llotsize |   .0074379   .0385615     0.19   0.848    -.0692593    .0841352\n",
      "      lsqrft |  -.1032384   .1384305    -0.75   0.458     -.378571    .1720942\n",
      "     lassess |   1.043065    .151446     6.89   0.000     .7418453    1.344285\n",
      "       _cons |    .263743   .5696647     0.46   0.645    -.8692972    1.396783\n",
      "------------------------------------------------------------------------------\n"
     ]
    }
   ],
   "source": [
    "reg lprice bdrms llotsize lsqrft lassess"
   ]
  },
  {
   "cell_type": "markdown",
   "id": "b9d1f1f9-a7ea-4d47-a165-523876dca600",
   "metadata": {},
   "source": [
    "# save the slopes for $\\mathrm{bdrms}$, $\\ln \\left( \\mathrm{lotsize} \\right)$ and $\\ln \\left( \\mathrm{sqrft} \\right)$ for later comparison"
   ]
  },
  {
   "cell_type": "code",
   "execution_count": 12,
   "id": "badc1ccc-243a-408f-965f-cb29552cc8cf",
   "metadata": {},
   "outputs": [],
   "source": [
    "scalar b_bdrms_M1c    = _b[bdrms]\n",
    "scalar b_llotsize_M1c = _b[llotsize]\n",
    "scalar b_lsqrft_M1c   = _b[lsqrft]"
   ]
  },
  {
   "cell_type": "markdown",
   "id": "64cda610-d9f5-4dda-9304-b73f94313263",
   "metadata": {
    "tags": []
   },
   "source": [
    "# check the slopes you just saved"
   ]
  },
  {
   "cell_type": "code",
   "execution_count": 13,
   "id": "4b8617ba-bcba-4a88-b2b9-718275de9c85",
   "metadata": {},
   "outputs": [
    {
     "name": "stdout",
     "output_type": "stream",
     "text": [
      "b_lsqrft_M1c = -.10323837\n",
      "b_llotsize_M1c =  .00743793\n",
      "b_bdrms_M1c =  .03383919\n",
      "b_lsqrft_M1b =  .70023241\n",
      "b_llotsize_M1b =   .1679667\n",
      "b_bdrms_M1b =  .03695841\n"
     ]
    }
   ],
   "source": [
    "scalar list"
   ]
  },
  {
   "cell_type": "markdown",
   "id": "5e80aeb9-109f-4416-a1c7-194a3a095adb",
   "metadata": {},
   "source": [
    "# save the regression result as \"M1\" for later comparison"
   ]
  },
  {
   "cell_type": "code",
   "execution_count": 14,
   "id": "aa53a48f-e48a-483e-8e16-07f14a068be9",
   "metadata": {},
   "outputs": [],
   "source": [
    "estimate store M1_c"
   ]
  },
  {
   "cell_type": "markdown",
   "id": "544c1256-cd78-4c6e-a53c-f8beb536a782",
   "metadata": {
    "tags": []
   },
   "source": [
    "---\n",
    "\n",
    "# compare two models in the same regression table"
   ]
  },
  {
   "cell_type": "code",
   "execution_count": 15,
   "id": "7e43e03d-204f-4ca2-8a1c-0749aa825d81",
   "metadata": {},
   "outputs": [
    {
     "name": "stdout",
     "output_type": "stream",
     "text": [
      "\n",
      "--------------------------------------------\n",
      "                     M1_b            M1_c   \n",
      "                     b/se            b/se   \n",
      "--------------------------------------------\n",
      "bdrms            .0369584        .0338392   \n",
      "               (.0275313)      (.0220983)   \n",
      "llotsize         .1679667***     .0074379   \n",
      "               (.0382812)      (.0385615)   \n",
      "lsqrft           .7002324***    -.1032384   \n",
      "               (.0928652)      (.1384305)   \n",
      "lassess                          1.043065***\n",
      "                                (.151446)   \n",
      "_cons           -1.297042*        .263743   \n",
      "               (.6512836)      (.5696647)   \n",
      "--------------------------------------------\n",
      "N                      88              88   \n",
      "r2               .6429652        .7728088   \n",
      "r2_a              .630214        .7618598   \n",
      "vce                   ols             ols   \n",
      "--------------------------------------------\n"
     ]
    }
   ],
   "source": [
    "estout M1_b M1_c, cells(b(star) se(par)) stats(N r2 r2_a vce)"
   ]
  },
  {
   "cell_type": "markdown",
   "id": "a2fae991-c39c-4cf4-a1ff-872d246b24d3",
   "metadata": {},
   "source": [
    "# the change of slope for $\\mathrm{bdrms}$"
   ]
  },
  {
   "cell_type": "code",
   "execution_count": 16,
   "id": "fdb12fe6-f8c3-4290-a7c5-cdb3fc6e6bde",
   "metadata": {},
   "outputs": [
    {
     "name": "stdout",
     "output_type": "stream",
     "text": [
      "between M1_b and M1_c, the slope difference for bdrms is  .00311922\n"
     ]
    }
   ],
   "source": [
    "display \"between M1_b and M1_c, the slope difference for bdrms is \",  abs(b_bdrms_M1b - b_bdrms_M1c)"
   ]
  },
  {
   "cell_type": "markdown",
   "id": "5cca7d47-c14d-4455-a268-9849087ec230",
   "metadata": {},
   "source": [
    "# the change of slope for $\\mathrm{llotsize}$"
   ]
  },
  {
   "cell_type": "code",
   "execution_count": 17,
   "id": "0aa43241-8d22-45dc-9e08-400914bacf4d",
   "metadata": {},
   "outputs": [
    {
     "name": "stdout",
     "output_type": "stream",
     "text": [
      "between M1_b and M1_c, the slope difference for llotsize is  .16052878\n"
     ]
    }
   ],
   "source": [
    "display \"between M1_b and M1_c, the slope difference for llotsize is \",  abs(b_llotsize_M1b - b_llotsize_M1c)"
   ]
  },
  {
   "cell_type": "markdown",
   "id": "cf010c02-0f70-4460-b867-2a6c814d1a01",
   "metadata": {},
   "source": [
    "# the change of slope for $\\mathrm{lsqrft}$"
   ]
  },
  {
   "cell_type": "code",
   "execution_count": 18,
   "id": "e2233833-7de3-4001-9e60-b2e784c71a0c",
   "metadata": {},
   "outputs": [
    {
     "name": "stdout",
     "output_type": "stream",
     "text": [
      "between M1_b and M1_c, the slope difference for lsqrft is  .80347078\n"
     ]
    }
   ],
   "source": [
    "display \"between M1_b and M1_c, the slope difference for lsqrft is \",  abs(b_lsqrft_M1b - b_lsqrft_M1c)"
   ]
  },
  {
   "cell_type": "markdown",
   "id": "593f0405-e4dd-48d9-9324-928477214d6f",
   "metadata": {},
   "source": [
    "---\n",
    "\n",
    "# the changes after including $\\mathrm{lassess}$ is due to the sample correlation between $\\mathrm{lassess}$ and other X variables\n",
    "# larger the absolute value of the correlation, larger the change\n",
    "# you can check the sample correlation as follows"
   ]
  },
  {
   "cell_type": "code",
   "execution_count": 19,
   "id": "4c5a3025-c421-4c5c-8217-e75c2a590c25",
   "metadata": {},
   "outputs": [
    {
     "name": "stdout",
     "output_type": "stream",
     "text": [
      "(obs=88)\n",
      "\n",
      "             |  lassess    bdrms llotsize   lsqrft\n",
      "-------------+------------------------------------\n",
      "     lassess |   1.0000\n",
      "       bdrms |   0.4587   1.0000\n",
      "    llotsize |   0.5577   0.1695   1.0000\n",
      "      lsqrft |   0.8647   0.5196   0.3113   1.0000\n",
      "\n"
     ]
    }
   ],
   "source": [
    "corr lassess bdrms llotsize lsqrft"
   ]
  },
  {
   "cell_type": "markdown",
   "id": "0c24eaba-cba7-4b26-9b19-7e7ebe5398eb",
   "metadata": {},
   "source": [
    "# export codes into an HTML file"
   ]
  },
  {
   "cell_type": "code",
   "execution_count": 21,
   "id": "a57e6255-8dd2-4f21-864d-56ed7af434f4",
   "metadata": {},
   "outputs": [
    {
     "name": "stdout",
     "output_type": "stream",
     "text": [
      "\n",
      "\n",
      "\n",
      "\n",
      "[NbConvertApp] Converting notebook T7_Stata.ipynb to html\n",
      "[NbConvertApp] Writing 606359 bytes to T7_Stata.html\n"
     ]
    }
   ],
   "source": [
    "!rm -rf T7_Stata.html\n",
    "!jupyter nbconvert --to html T7_Stata.ipynb"
   ]
  },
  {
   "cell_type": "code",
   "execution_count": null,
   "id": "8360696a-2955-45ed-ac49-39f8aa894237",
   "metadata": {},
   "outputs": [],
   "source": []
  }
 ],
 "metadata": {
  "kernelspec": {
   "display_name": "Stata",
   "language": "stata",
   "name": "stata"
  },
  "language_info": {
   "codemirror_mode": "stata",
   "file_extension": ".do",
   "mimetype": "text/x-stata",
   "name": "stata",
   "version": "15.1"
  }
 },
 "nbformat": 4,
 "nbformat_minor": 5
}
