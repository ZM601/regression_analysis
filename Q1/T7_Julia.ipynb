{
 "cells": [
  {
   "cell_type": "markdown",
   "id": "42a96a55-672c-4e0a-91c0-80e24d6fe19a",
   "metadata": {},
   "source": [
    "# install all packages we need"
   ]
  },
  {
   "cell_type": "code",
   "execution_count": 23,
   "id": "093dd602-47e2-4fae-89fc-ca87e5a057a8",
   "metadata": {},
   "outputs": [
    {
     "name": "stderr",
     "output_type": "stream",
     "text": [
      "\u001b[32m\u001b[1m    Updating\u001b[22m\u001b[39m registry at `~/.julia/registries/General`\n",
      "\u001b[32m\u001b[1m   Resolving\u001b[22m\u001b[39m package versions...\n",
      "\u001b[32m\u001b[1m    Updating\u001b[22m\u001b[39m `~/.julia/environments/v1.6/Project.toml`\n",
      " \u001b[90m [10745b16] \u001b[39m\u001b[92m+ Statistics\u001b[39m\n",
      "\u001b[32m\u001b[1m  No Changes\u001b[22m\u001b[39m to `~/.julia/environments/v1.6/Manifest.toml`\n"
     ]
    }
   ],
   "source": [
    "pack = [\"CSV\", \"DataFrames\", \"Statistics\", \"Plots\", \"Distributions\", \"StatsPlots\", \"GLM\", \"MLBase\", \"StatsBase\", \"StatsModels\", \"RegressionTables\"]\n",
    "\n",
    "using Pkg; Pkg.add(pack)"
   ]
  },
  {
   "cell_type": "markdown",
   "id": "163bcddd-3ea2-4dcb-bb01-0c96066e9a1d",
   "metadata": {},
   "source": [
    "# load all Julia regression packages"
   ]
  },
  {
   "cell_type": "code",
   "execution_count": 24,
   "id": "53242ef8-ca0a-4f44-b44e-4b48e2114ae1",
   "metadata": {},
   "outputs": [],
   "source": [
    "using Pkg, CSV, DataFrames, Statistics, Plots, Distributions, StatsPlots, GLM, MLBase, StatsBase, StatsModels, RegressionTables"
   ]
  },
  {
   "cell_type": "markdown",
   "id": "0a4ee4c0-8227-4565-a3c9-00feddecf30a",
   "metadata": {
    "tags": []
   },
   "source": [
    "# now we load the data into Julia"
   ]
  },
  {
   "cell_type": "code",
   "execution_count": 25,
   "id": "5975c339-9897-492c-a1f0-a2103ef8ed65",
   "metadata": {},
   "outputs": [],
   "source": [
    "df = CSV.read(\"hprice1.csv\", DataFrame);"
   ]
  },
  {
   "cell_type": "markdown",
   "id": "5e782ff8-e02f-490c-8468-ffc44928af43",
   "metadata": {},
   "source": [
    "# to make sure the data is loaded correctly, check all the variable names in your file"
   ]
  },
  {
   "cell_type": "code",
   "execution_count": 26,
   "id": "70542da6-b6e7-4945-a9bc-ba8dcc39966f",
   "metadata": {},
   "outputs": [
    {
     "data": {
      "text/plain": [
       "10-element Vector{String}:\n",
       " \"price\"\n",
       " \"assess\"\n",
       " \"bdrms\"\n",
       " \"lotsize\"\n",
       " \"sqrft\"\n",
       " \"colonial\"\n",
       " \"lprice\"\n",
       " \"lassess\"\n",
       " \"llotsize\"\n",
       " \"lsqrft\""
      ]
     },
     "execution_count": 26,
     "metadata": {},
     "output_type": "execute_result"
    }
   ],
   "source": [
    "names(df)"
   ]
  },
  {
   "cell_type": "markdown",
   "id": "84266470-77b6-412b-b544-5729932f301b",
   "metadata": {},
   "source": [
    "# to make sure the data is loaded correctly, check the summary statistics of each variable"
   ]
  },
  {
   "cell_type": "code",
   "execution_count": 27,
   "id": "68576470-26e0-4245-af4d-cd187e6a93a0",
   "metadata": {},
   "outputs": [
    {
     "data": {
      "text/html": [
       "<table class=\"data-frame\"><thead><tr><th></th><th>variable</th><th>mean</th><th>min</th><th>median</th><th>max</th><th>nunique</th><th>nmissing</th><th>eltype</th></tr><tr><th></th><th>Symbol</th><th>Float64</th><th>Real</th><th>Float64</th><th>Real</th><th>Nothing</th><th>Nothing</th><th>DataType</th></tr></thead><tbody><p>10 rows × 8 columns</p><tr><th>1</th><td>price</td><td>293.546</td><td>111.0</td><td>265.5</td><td>725.0</td><td></td><td></td><td>Float64</td></tr><tr><th>2</th><td>assess</td><td>315.736</td><td>198.7</td><td>290.2</td><td>708.6</td><td></td><td></td><td>Float64</td></tr><tr><th>3</th><td>bdrms</td><td>3.56818</td><td>2</td><td>3.0</td><td>7</td><td></td><td></td><td>Int64</td></tr><tr><th>4</th><td>lotsize</td><td>9019.86</td><td>1000</td><td>6430.0</td><td>92681</td><td></td><td></td><td>Int64</td></tr><tr><th>5</th><td>sqrft</td><td>2013.69</td><td>1171</td><td>1845.0</td><td>3880</td><td></td><td></td><td>Int64</td></tr><tr><th>6</th><td>colonial</td><td>0.693182</td><td>0</td><td>1.0</td><td>1</td><td></td><td></td><td>Int64</td></tr><tr><th>7</th><td>lprice</td><td>5.63318</td><td>4.70953</td><td>5.58161</td><td>6.58617</td><td></td><td></td><td>Float64</td></tr><tr><th>8</th><td>lassess</td><td>5.71799</td><td>5.2918</td><td>5.67057</td><td>6.56329</td><td></td><td></td><td>Float64</td></tr><tr><th>9</th><td>llotsize</td><td>8.9051</td><td>6.90776</td><td>8.76872</td><td>11.4369</td><td></td><td></td><td>Float64</td></tr><tr><th>10</th><td>lsqrft</td><td>7.57261</td><td>7.06561</td><td>7.52023</td><td>8.26359</td><td></td><td></td><td>Float64</td></tr></tbody></table>"
      ],
      "text/latex": [
       "\\begin{tabular}{r|cccccccc}\n",
       "\t& variable & mean & min & median & max & nunique & nmissing & eltype\\\\\n",
       "\t\\hline\n",
       "\t& Symbol & Float64 & Real & Float64 & Real & Nothing & Nothing & DataType\\\\\n",
       "\t\\hline\n",
       "\t1 & price & 293.546 & 111.0 & 265.5 & 725.0 &  &  & Float64 \\\\\n",
       "\t2 & assess & 315.736 & 198.7 & 290.2 & 708.6 &  &  & Float64 \\\\\n",
       "\t3 & bdrms & 3.56818 & 2 & 3.0 & 7 &  &  & Int64 \\\\\n",
       "\t4 & lotsize & 9019.86 & 1000 & 6430.0 & 92681 &  &  & Int64 \\\\\n",
       "\t5 & sqrft & 2013.69 & 1171 & 1845.0 & 3880 &  &  & Int64 \\\\\n",
       "\t6 & colonial & 0.693182 & 0 & 1.0 & 1 &  &  & Int64 \\\\\n",
       "\t7 & lprice & 5.63318 & 4.70953 & 5.58161 & 6.58617 &  &  & Float64 \\\\\n",
       "\t8 & lassess & 5.71799 & 5.2918 & 5.67057 & 6.56329 &  &  & Float64 \\\\\n",
       "\t9 & llotsize & 8.9051 & 6.90776 & 8.76872 & 11.4369 &  &  & Float64 \\\\\n",
       "\t10 & lsqrft & 7.57261 & 7.06561 & 7.52023 & 8.26359 &  &  & Float64 \\\\\n",
       "\\end{tabular}\n"
      ],
      "text/plain": [
       "10×8 DataFrame. Omitted printing of 1 columns\n",
       "│ Row │ variable │ mean     │ min     │ median  │ max     │ nunique │ nmissing │\n",
       "│     │ \u001b[90mSymbol\u001b[39m   │ \u001b[90mFloat64\u001b[39m  │ \u001b[90mReal\u001b[39m    │ \u001b[90mFloat64\u001b[39m │ \u001b[90mReal\u001b[39m    │ \u001b[90mNothing\u001b[39m │ \u001b[90mNothing\u001b[39m  │\n",
       "├─────┼──────────┼──────────┼─────────┼─────────┼─────────┼─────────┼──────────┤\n",
       "│ 1   │ price    │ 293.546  │ 111.0   │ 265.5   │ 725.0   │         │          │\n",
       "│ 2   │ assess   │ 315.736  │ 198.7   │ 290.2   │ 708.6   │         │          │\n",
       "│ 3   │ bdrms    │ 3.56818  │ 2       │ 3.0     │ 7       │         │          │\n",
       "│ 4   │ lotsize  │ 9019.86  │ 1000    │ 6430.0  │ 92681   │         │          │\n",
       "│ 5   │ sqrft    │ 2013.69  │ 1171    │ 1845.0  │ 3880    │         │          │\n",
       "│ 6   │ colonial │ 0.693182 │ 0       │ 1.0     │ 1       │         │          │\n",
       "│ 7   │ lprice   │ 5.63318  │ 4.70953 │ 5.58161 │ 6.58617 │         │          │\n",
       "│ 8   │ lassess  │ 5.71799  │ 5.2918  │ 5.67057 │ 6.56329 │         │          │\n",
       "│ 9   │ llotsize │ 8.9051   │ 6.90776 │ 8.76872 │ 11.4369 │         │          │\n",
       "│ 10  │ lsqrft   │ 7.57261  │ 7.06561 │ 7.52023 │ 8.26359 │         │          │"
      ]
     },
     "execution_count": 27,
     "metadata": {},
     "output_type": "execute_result"
    }
   ],
   "source": [
    "describe(df)"
   ]
  },
  {
   "cell_type": "markdown",
   "id": "e4d07fa2-0f7e-4bcd-8387-22dcb566a237",
   "metadata": {},
   "source": [
    "# all good, now we can compute regression models\n",
    "\n",
    "---\n",
    "\n",
    "# Q1.a\n",
    "\n",
    "# $$ \\mathrm{price} = \\beta_0 + \\beta_1 \\cdot \\mathrm{bdrms} + \\beta_2 \\cdot \\mathrm{lotsize} + \\beta_3 \\cdot \\mathrm{sqrft} + u $$"
   ]
  },
  {
   "cell_type": "code",
   "execution_count": 28,
   "id": "ca6c5dd0-1528-4858-a883-c2b57f2fed5d",
   "metadata": {},
   "outputs": [
    {
     "data": {
      "text/plain": [
       "StatsModels.TableRegressionModel{LinearModel{GLM.LmResp{Vector{Float64}}, GLM.DensePredChol{Float64, LinearAlgebra.CholeskyPivoted{Float64, Matrix{Float64}}}}, Matrix{Float64}}\n",
       "\n",
       "price ~ 1 + bdrms + lotsize + sqrft\n",
       "\n",
       "Coefficients:\n",
       "────────────────────────────────────────────────────────────────────────────────────\n",
       "                    Coef.    Std. Error      t  Pr(>|t|)      Lower 95%    Upper 95%\n",
       "────────────────────────────────────────────────────────────────────────────────────\n",
       "(Intercept)  -21.7703      29.475        -0.74    0.4622  -80.3847       36.844\n",
       "bdrms         13.8525       9.01015       1.54    0.1279   -4.06514      31.7702\n",
       "lotsize        0.00206771   0.000642126   3.22    0.0018    0.000790769   0.00334464\n",
       "sqrft          0.122778     0.0132374     9.28    <1e-13    0.0964541     0.149102\n",
       "────────────────────────────────────────────────────────────────────────────────────"
      ]
     },
     "execution_count": 28,
     "metadata": {},
     "output_type": "execute_result"
    }
   ],
   "source": [
    "fm1a = @formula(price ~ 1 + bdrms + lotsize + sqrft)\n",
    "M1a = lm(fm1a, df)"
   ]
  },
  {
   "cell_type": "markdown",
   "id": "456f3879-f11f-45e3-a9ce-866ef7083f2b",
   "metadata": {
    "tags": []
   },
   "source": [
    "---\n",
    "\n",
    "# Q1.b\n",
    "\n",
    "# $$ \\ln \\left( \\mathrm{price} \\right) = \\beta_0 + \\beta_1 \\cdot \\mathrm{bdrms} + \\beta_2 \\cdot \\ln \\left( \\mathrm{lotsize} \\right) + \\beta_3 \\cdot \\ln \\left( \\mathrm{sqrft} \\right) + u $$"
   ]
  },
  {
   "cell_type": "code",
   "execution_count": 29,
   "id": "cf18accc-16a3-415d-affb-3b843e243298",
   "metadata": {},
   "outputs": [
    {
     "data": {
      "text/plain": [
       "StatsModels.TableRegressionModel{LinearModel{GLM.LmResp{Vector{Float64}}, GLM.DensePredChol{Float64, LinearAlgebra.CholeskyPivoted{Float64, Matrix{Float64}}}}, Matrix{Float64}}\n",
       "\n",
       "lprice ~ 1 + bdrms + llotsize + lsqrft\n",
       "\n",
       "Coefficients:\n",
       "─────────────────────────────────────────────────────────────────────────────\n",
       "                  Coef.  Std. Error      t  Pr(>|t|)   Lower 95%    Upper 95%\n",
       "─────────────────────────────────────────────────────────────────────────────\n",
       "(Intercept)  -1.29704     0.651284   -1.99    0.0497  -2.59219    -0.00189296\n",
       "bdrms         0.0369584   0.0275313   1.34    0.1831  -0.0177906   0.0917074\n",
       "llotsize      0.167967    0.0382811   4.39    <1e-04   0.0918404   0.244093\n",
       "lsqrft        0.700232    0.0928652   7.54    <1e-10   0.51556     0.884905\n",
       "─────────────────────────────────────────────────────────────────────────────"
      ]
     },
     "execution_count": 29,
     "metadata": {},
     "output_type": "execute_result"
    }
   ],
   "source": [
    "fm1b = @formula(lprice ~ 1 + bdrms + llotsize + lsqrft)\n",
    "M1b = lm(fm1b, df)"
   ]
  },
  {
   "cell_type": "markdown",
   "id": "698e7b3b-be16-4a96-9747-b8cb0ad3fafc",
   "metadata": {
    "tags": []
   },
   "source": [
    "---\n",
    "\n",
    "# Q1.c\n",
    "\n",
    "# $$ \\ln \\left( \\mathrm{price} \\right) = \\beta_0 + \\beta_1 \\cdot \\mathrm{bdrms} + \\beta_2 \\cdot \\ln \\left( \\mathrm{lotsize} \\right) + \\beta_3 \\cdot \\ln \\left( \\mathrm{sqrft} \\right) + \\beta_4 \\cdot \\ln \\left( \\mathrm{assess} \\right) + u $$"
   ]
  },
  {
   "cell_type": "code",
   "execution_count": 30,
   "id": "f2b850da-a6d8-47be-8cb0-10baa386dc97",
   "metadata": {},
   "outputs": [
    {
     "data": {
      "text/plain": [
       "StatsModels.TableRegressionModel{LinearModel{GLM.LmResp{Vector{Float64}}, GLM.DensePredChol{Float64, LinearAlgebra.CholeskyPivoted{Float64, Matrix{Float64}}}}, Matrix{Float64}}\n",
       "\n",
       "lprice ~ 1 + bdrms + llotsize + lsqrft + lassess\n",
       "\n",
       "Coefficients:\n",
       "────────────────────────────────────────────────────────────────────────────\n",
       "                   Coef.  Std. Error      t  Pr(>|t|)   Lower 95%  Upper 95%\n",
       "────────────────────────────────────────────────────────────────────────────\n",
       "(Intercept)   0.263743     0.569665    0.46    0.6446  -0.869297   1.39678\n",
       "bdrms         0.0338392    0.0220983   1.53    0.1295  -0.0101135  0.0777919\n",
       "llotsize      0.00743793   0.0385615   0.19    0.8475  -0.0692593  0.0841352\n",
       "lsqrft       -0.103238     0.13843    -0.75    0.4579  -0.378571   0.172094\n",
       "lassess       1.04307      0.151446    6.89    <1e-08   0.741845   1.34429\n",
       "────────────────────────────────────────────────────────────────────────────"
      ]
     },
     "execution_count": 30,
     "metadata": {},
     "output_type": "execute_result"
    }
   ],
   "source": [
    "fm1c = @formula(lprice ~ 1 + bdrms + llotsize + lsqrft + lassess)\n",
    "M1c  = lm(fm1c, df)"
   ]
  },
  {
   "cell_type": "markdown",
   "id": "63035c9c-9d0f-4150-bd39-98bdc0826458",
   "metadata": {
    "tags": []
   },
   "source": [
    "---\n",
    "\n",
    "# compare two models in the same regression table"
   ]
  },
  {
   "cell_type": "code",
   "execution_count": 31,
   "id": "f481ddbe-ee68-42fa-b96e-b573f2ab6e79",
   "metadata": {},
   "outputs": [
    {
     "name": "stdout",
     "output_type": "stream",
     "text": [
      "\n",
      "---------------------------------\n",
      "                     lprice      \n",
      "              -------------------\n",
      "                   (1)        (2)\n",
      "---------------------------------\n",
      "(Intercept)    -1.297*      0.264\n",
      "               (0.651)    (0.570)\n",
      "bdrms            0.037      0.034\n",
      "               (0.028)    (0.022)\n",
      "llotsize      0.168***      0.007\n",
      "               (0.038)    (0.039)\n",
      "lsqrft        0.700***     -0.103\n",
      "               (0.093)    (0.138)\n",
      "lassess                  1.043***\n",
      "                          (0.151)\n",
      "---------------------------------\n",
      "Estimator          OLS        OLS\n",
      "---------------------------------\n",
      "N                   88         88\n",
      "R2               0.643      0.773\n",
      "---------------------------------\n",
      "\n",
      "\n"
     ]
    }
   ],
   "source": [
    "regtable(M1b, M1c; renderSettings = asciiOutput())"
   ]
  },
  {
   "cell_type": "markdown",
   "id": "b97abd5b-eda3-40b0-ac40-2ece43b78fb8",
   "metadata": {},
   "source": [
    "---\n",
    "\n",
    "# the changes after including $\\mathrm{lassess}$ is due to the sample correlation between $\\mathrm{lassess}$ and other X variables\n",
    "# larger the absolute value of the correlation, larger the change\n",
    "# you can check the sample correlation as follows"
   ]
  },
  {
   "cell_type": "code",
   "execution_count": 32,
   "id": "66bd8a54-6b9b-4105-9e5f-deda9885e6d0",
   "metadata": {},
   "outputs": [
    {
     "data": {
      "text/plain": [
       "0.4587438924682411"
      ]
     },
     "execution_count": 32,
     "metadata": {},
     "output_type": "execute_result"
    }
   ],
   "source": [
    "cor(df.lassess, df.bdrms)"
   ]
  },
  {
   "cell_type": "code",
   "execution_count": 33,
   "id": "61d72498-47fc-4c94-a843-397e447ece25",
   "metadata": {},
   "outputs": [
    {
     "data": {
      "text/plain": [
       "0.5577345686038575"
      ]
     },
     "execution_count": 33,
     "metadata": {},
     "output_type": "execute_result"
    }
   ],
   "source": [
    "cor(df.lassess, df.llotsize)"
   ]
  },
  {
   "cell_type": "code",
   "execution_count": 34,
   "id": "fa35bf76-b840-4193-9b4d-826a72904bc0",
   "metadata": {},
   "outputs": [
    {
     "data": {
      "text/plain": [
       "0.8646643451572996"
      ]
     },
     "execution_count": 34,
     "metadata": {},
     "output_type": "execute_result"
    }
   ],
   "source": [
    "cor(df.lassess, df.lsqrft)"
   ]
  },
  {
   "cell_type": "markdown",
   "id": "df903926-fc2c-45a4-ba54-66e073646934",
   "metadata": {},
   "source": [
    "# export codes into HTML files"
   ]
  },
  {
   "cell_type": "code",
   "execution_count": 35,
   "id": "f91285a3-55ba-459c-a1d0-bba123bf08c0",
   "metadata": {},
   "outputs": [
    {
     "name": "stderr",
     "output_type": "stream",
     "text": [
      "[NbConvertApp] Converting notebook T7_Julia.ipynb to html\n",
      "[NbConvertApp] Writing 599878 bytes to T7_Julia.html\n"
     ]
    },
    {
     "data": {
      "text/plain": [
       "Process(`\u001b[4mjupyter\u001b[24m \u001b[4mnbconvert\u001b[24m \u001b[4m--to\u001b[24m \u001b[4mhtml\u001b[24m \u001b[4mT7_Julia.ipynb\u001b[24m`, ProcessExited(0))"
      ]
     },
     "execution_count": 35,
     "metadata": {},
     "output_type": "execute_result"
    }
   ],
   "source": [
    "run(`rm -rf T7_Julia.html`)\n",
    "run(`jupyter nbconvert --to html T7_Julia.ipynb`)"
   ]
  },
  {
   "cell_type": "code",
   "execution_count": null,
   "id": "ab129ae6-3fe8-4a8b-9244-321956a952f6",
   "metadata": {},
   "outputs": [],
   "source": []
  }
 ],
 "metadata": {
  "kernelspec": {
   "display_name": "Julia 1.6.3",
   "language": "julia",
   "name": "julia-1.6"
  },
  "language_info": {
   "file_extension": ".jl",
   "mimetype": "application/julia",
   "name": "julia",
   "version": "1.6.3"
  }
 },
 "nbformat": 4,
 "nbformat_minor": 5
}
