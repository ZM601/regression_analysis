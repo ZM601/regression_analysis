{
 "cells": [
  {
   "cell_type": "code",
   "execution_count": 6,
   "id": "biological-toner",
   "metadata": {},
   "outputs": [],
   "source": [
    "clear all"
   ]
  },
  {
   "cell_type": "code",
   "execution_count": 1,
   "id": "incident-glory",
   "metadata": {},
   "outputs": [],
   "source": [
    "ssc install estout, replace"
   ]
  },
  {
   "cell_type": "code",
   "execution_count": 7,
   "id": "threaded-organ",
   "metadata": {},
   "outputs": [],
   "source": [
    "use \"~/Documents/Working_Directory/Tex_MD/Teaching/tutorial/6002/W7/airfare.dta\", clear"
   ]
  },
  {
   "cell_type": "markdown",
   "id": "primary-techno",
   "metadata": {},
   "source": [
    "# set time and individual ID"
   ]
  },
  {
   "cell_type": "code",
   "execution_count": 8,
   "id": "visible-command",
   "metadata": {},
   "outputs": [
    {
     "name": "stdout",
     "output_type": "stream",
     "text": [
      "       panel variable:  id (strongly balanced)\n",
      "        time variable:  year, 1997 to 2000\n",
      "                delta:  1 unit\n"
     ]
    }
   ],
   "source": [
    "xtset id year"
   ]
  },
  {
   "cell_type": "markdown",
   "id": "thirty-savannah",
   "metadata": {},
   "source": [
    "# compute the descriptive statistic in this panel"
   ]
  },
  {
   "cell_type": "code",
   "execution_count": 9,
   "id": "organized-tuner",
   "metadata": {},
   "outputs": [
    {
     "name": "stdout",
     "output_type": "stream",
     "text": [
      "\n",
      "Variable         |      Mean   Std. Dev.       Min        Max |    Observations\n",
      "-----------------+--------------------------------------------+----------------\n",
      "id       overall |       575   331.7237          1       1149 |     N =    4596\n",
      "         between |              331.832          1       1149 |     n =    1149\n",
      "         within  |                    0        575        575 |     T =       4\n",
      "                 |                                            |\n",
      "year     overall |    1998.5   1.118156       1997       2000 |     N =    4596\n",
      "         between |                    0     1998.5     1998.5 |     n =    1149\n",
      "         within  |             1.118156       1997       2000 |     T =       4\n",
      "                 |                                            |\n",
      "lfare    overall |  5.095601   .4363999   3.610918   6.257668 |     N =    4596\n",
      "         between |              .425127   4.026386   6.127917 |     n =    1149\n",
      "         within  |              .099146   4.176027   6.077457 |     T =       4\n",
      "                 |                                            |\n",
      "concen   overall |  .6101149    .196435      .1605          1 |     N =    4596\n",
      "         between |             .1889358      .1862      .9997 |     n =    1149\n",
      "         within  |             .0539749   .2487649   .9034149 |     T =       4\n",
      "                 |                                            |\n",
      "ldist    overall |  6.696482   .6593177   4.553877   7.909857 |     N =    4596\n",
      "         between |             .6595331   4.553877   7.909857 |     n =    1149\n",
      "         within  |                    0   6.696482   6.696482 |     T =       4\n"
     ]
    }
   ],
   "source": [
    "xtsum id year lfare concen ldist"
   ]
  },
  {
   "cell_type": "markdown",
   "id": "ambient-transcription",
   "metadata": {},
   "source": [
    "# (a) : Pooled OLS"
   ]
  },
  {
   "cell_type": "code",
   "execution_count": 27,
   "id": "bottom-pressing",
   "metadata": {},
   "outputs": [
    {
     "name": "stdout",
     "output_type": "stream",
     "text": [
      "\n",
      "\n",
      "      Source |       SS           df       MS      Number of obs   =     4,596\n",
      "-------------+----------------------------------   F(6, 4589)      =    523.18\n",
      "       Model |  355.453858         6  59.2423096   Prob > F        =    0.0000\n",
      "    Residual |  519.640516     4,589  .113236112   R-squared       =    0.4062\n",
      "-------------+----------------------------------   Adj R-squared   =    0.4054\n",
      "       Total |  875.094374     4,595  .190444913   Root MSE        =    .33651\n",
      "\n",
      "------------------------------------------------------------------------------\n",
      "       lfare |      Coef.   Std. Err.      t    P>|t|     [95% Conf. Interval]\n",
      "-------------+----------------------------------------------------------------\n",
      "         y98 |   .0211244   .0140419     1.50   0.133    -.0064046    .0486533\n",
      "         y99 |   .0378496   .0140413     2.70   0.007      .010322    .0653772\n",
      "         y00 |     .09987   .0140432     7.11   0.000     .0723385    .1274015\n",
      "      concen |   .3601203   .0300691    11.98   0.000     .3011705    .4190702\n",
      "       ldist |  -.9016004    .128273    -7.03   0.000    -1.153077   -.6501235\n",
      "     ldistsq |   .1030196   .0097255    10.59   0.000     .0839529    .1220863\n",
      "       _cons |   6.209258   .4206247    14.76   0.000     5.384631    7.033884\n",
      "------------------------------------------------------------------------------\n",
      "\n"
     ]
    }
   ],
   "source": [
    "reg lfare y98 y99 y00 concen ldist ldistsq\n",
    "\n",
    "estimates store OLS"
   ]
  },
  {
   "cell_type": "markdown",
   "id": "20d3131b-2f9c-470a-81a7-0a84641dca3b",
   "metadata": {},
   "source": [
    "# check if there is heteroskedasticity (using DW test and BP test) with $$H_0: \\mbox{ there is no heteroskedasticity}$$"
   ]
  },
  {
   "cell_type": "code",
   "execution_count": 20,
   "id": "20193d74-e889-4e7f-95a9-cb4ee5f6902b",
   "metadata": {},
   "outputs": [
    {
     "name": "stdout",
     "output_type": "stream",
     "text": [
      "\n",
      "Breusch-Pagan / Cook-Weisberg test for heteroskedasticity \n",
      "         Ho: Constant variance\n",
      "         Variables: fitted values of lfare\n",
      "\n",
      "         chi2(1)      =   389.62\n",
      "         Prob > chi2  =   0.0000\n"
     ]
    }
   ],
   "source": [
    "estat hettest"
   ]
  },
  {
   "cell_type": "code",
   "execution_count": 21,
   "id": "d964397a-2df7-483e-a415-39ce270304b6",
   "metadata": {},
   "outputs": [
    {
     "name": "stdout",
     "output_type": "stream",
     "text": [
      "\n",
      "White's test for Ho: homoskedasticity\n",
      "         against Ha: unrestricted heteroskedasticity\n",
      "\n",
      "         chi2(20)     =    983.66\n",
      "         Prob > chi2  =    0.0000\n",
      "\n",
      "Cameron & Trivedi's decomposition of IM-test\n",
      "\n",
      "---------------------------------------------------\n",
      "              Source |       chi2     df      p\n",
      "---------------------+-----------------------------\n",
      "  Heteroskedasticity |     983.66     20    0.0000\n",
      "            Skewness |     165.39      6    0.0000\n",
      "            Kurtosis |     117.63      1    0.0000\n",
      "---------------------+-----------------------------\n",
      "               Total |    1266.67     27    0.0000\n",
      "---------------------------------------------------\n"
     ]
    }
   ],
   "source": [
    "estat imtest, white"
   ]
  },
  {
   "cell_type": "markdown",
   "id": "ed6fe289-f3e9-4de7-8c1c-cf58f287e002",
   "metadata": {},
   "source": [
    "# both H0 are rejected; hence, we need robust se"
   ]
  },
  {
   "cell_type": "code",
   "execution_count": 26,
   "id": "little-myrtle",
   "metadata": {},
   "outputs": [
    {
     "name": "stdout",
     "output_type": "stream",
     "text": [
      "\n",
      "\n",
      "Linear regression                               Number of obs     =      4,596\n",
      "                                                F(6, 4589)        =     558.39\n",
      "                                                Prob > F          =     0.0000\n",
      "                                                R-squared         =     0.4062\n",
      "                                                Root MSE          =     .33651\n",
      "\n",
      "------------------------------------------------------------------------------\n",
      "             |               Robust\n",
      "       lfare |      Coef.   Std. Err.      t    P>|t|     [95% Conf. Interval]\n",
      "-------------+----------------------------------------------------------------\n",
      "         y98 |   .0211244   .0141734     1.49   0.136    -.0066623     .048911\n",
      "         y99 |   .0378496   .0144012     2.63   0.009     .0096162    .0660829\n",
      "         y00 |     .09987   .0143821     6.94   0.000     .0716742    .1280658\n",
      "      concen |   .3601203   .0318147    11.32   0.000     .2977482    .4224925\n",
      "       ldist |  -.9016004   .1406543    -6.41   0.000    -1.177351   -.6258503\n",
      "     ldistsq |   .1030196   .0104402     9.87   0.000     .0825518    .1234875\n",
      "       _cons |   6.209258   .4711359    13.18   0.000     5.285605    7.132911\n",
      "------------------------------------------------------------------------------\n",
      "\n"
     ]
    }
   ],
   "source": [
    "reg lfare y98 y99 y00 concen ldist ldistsq, robust\n",
    "\n",
    "estimates store OLS_rb"
   ]
  },
  {
   "cell_type": "markdown",
   "id": "e2ce34d1-8bd5-42d1-aac6-7653f6dd20cc",
   "metadata": {},
   "source": [
    "# let's compare two methods"
   ]
  },
  {
   "cell_type": "code",
   "execution_count": 28,
   "id": "479b8bca-6a40-4708-8712-bf68401f6434",
   "metadata": {},
   "outputs": [
    {
     "name": "stdout",
     "output_type": "stream",
     "text": [
      "\n",
      "--------------------------------------------\n",
      "                      OLS          OLS_rb   \n",
      "                     b/se            b/se   \n",
      "--------------------------------------------\n",
      "y98                 0.021           0.021   \n",
      "                  (0.014)         (0.014)   \n",
      "y99                 0.038**         0.038** \n",
      "                  (0.014)         (0.014)   \n",
      "y00                 0.100***        0.100***\n",
      "                  (0.014)         (0.014)   \n",
      "concen              0.360***        0.360***\n",
      "                  (0.030)         (0.032)   \n",
      "ldist              -0.902***       -0.902***\n",
      "                  (0.128)         (0.141)   \n",
      "ldistsq             0.103***        0.103***\n",
      "                  (0.010)         (0.010)   \n",
      "_cons               6.209***        6.209***\n",
      "                  (0.421)         (0.471)   \n",
      "--------------------------------------------\n",
      "R-squared           0.406           0.406   \n",
      "F-value           523.175         558.395   \n",
      "Chi2-value                                  \n",
      "sample size      4596.000        4596.000   \n",
      "--------------------------------------------\n",
      "* p<0.05, ** p<0.01, *** p<0.001\n"
     ]
    }
   ],
   "source": [
    "estout OLS OLS_rb, cells(b(star fmt(3)) se(par fmt(3))) stats(r2 F chi2 N, labels(R-squared F-value Chi2-value \"sample size\")) legend"
   ]
  },
  {
   "cell_type": "markdown",
   "id": "listed-heritage",
   "metadata": {},
   "source": [
    "# (d): RE"
   ]
  },
  {
   "cell_type": "code",
   "execution_count": 30,
   "id": "abstract-watts",
   "metadata": {},
   "outputs": [
    {
     "name": "stdout",
     "output_type": "stream",
     "text": [
      "\n",
      "\n",
      "Random-effects GLS regression                   Number of obs     =      4,596\n",
      "Group variable: id                              Number of groups  =      1,149\n",
      "\n",
      "R-sq:                                           Obs per group:\n",
      "     within  = 0.1348                                         min =          4\n",
      "     between = 0.4176                                         avg =        4.0\n",
      "     overall = 0.4030                                         max =          4\n",
      "\n",
      "                                                Wald chi2(6)      =    1360.42\n",
      "corr(u_i, X)   = 0 (assumed)                    Prob > chi2       =     0.0000\n",
      "\n",
      "------------------------------------------------------------------------------\n",
      "       lfare |      Coef.   Std. Err.      z    P>|z|     [95% Conf. Interval]\n",
      "-------------+----------------------------------------------------------------\n",
      "         y98 |   .0224743   .0044544     5.05   0.000     .0137438    .0312047\n",
      "         y99 |   .0366898   .0044528     8.24   0.000     .0279626    .0454171\n",
      "         y00 |    .098212   .0044576    22.03   0.000     .0894752    .1069487\n",
      "      concen |   .2089935   .0265297     7.88   0.000     .1569962    .2609907\n",
      "       ldist |  -.8520921   .2464836    -3.46   0.001    -1.335191   -.3689931\n",
      "     ldistsq |   .0974604   .0186358     5.23   0.000     .0609348     .133986\n",
      "       _cons |   6.222005   .8099666     7.68   0.000       4.6345     7.80951\n",
      "-------------+----------------------------------------------------------------\n",
      "     sigma_u |  .31933841\n",
      "     sigma_e |  .10651186\n",
      "         rho |  .89988885   (fraction of variance due to u_i)\n",
      "------------------------------------------------------------------------------\n",
      "\n"
     ]
    }
   ],
   "source": [
    "xtreg lfare y98 y99 y00 concen ldist ldistsq, re\n",
    "\n",
    "estimates store RE_LS"
   ]
  },
  {
   "cell_type": "markdown",
   "id": "d425831e-a1f8-4d84-b76e-5a965e4886bd",
   "metadata": {},
   "source": [
    "# RE with robust se"
   ]
  },
  {
   "cell_type": "code",
   "execution_count": 24,
   "id": "apart-bridal",
   "metadata": {},
   "outputs": [
    {
     "name": "stdout",
     "output_type": "stream",
     "text": [
      "\n",
      "\n",
      "Random-effects GLS regression                   Number of obs     =      4,596\n",
      "Group variable: id                              Number of groups  =      1,149\n",
      "\n",
      "R-sq:                                           Obs per group:\n",
      "     within  = 0.1348                                         min =          4\n",
      "     between = 0.4176                                         avg =        4.0\n",
      "     overall = 0.4030                                         max =          4\n",
      "\n",
      "                                                Wald chi2(6)      =    1222.73\n",
      "corr(u_i, X)   = 0 (assumed)                    Prob > chi2       =     0.0000\n",
      "\n",
      "                                 (Std. Err. adjusted for 1,149 clusters in id)\n",
      "------------------------------------------------------------------------------\n",
      "             |               Robust\n",
      "       lfare |      Coef.   Std. Err.      z    P>|z|     [95% Conf. Interval]\n",
      "-------------+----------------------------------------------------------------\n",
      "         y98 |   .0224743   .0041461     5.42   0.000      .014348    .0306005\n",
      "         y99 |   .0366898   .0051318     7.15   0.000     .0266317     .046748\n",
      "         y00 |    .098212   .0055241    17.78   0.000     .0873849     .109039\n",
      "      concen |   .2089935   .0422459     4.95   0.000      .126193    .2917939\n",
      "       ldist |  -.8520921   .2720902    -3.13   0.002    -1.385379   -.3188051\n",
      "     ldistsq |   .0974604   .0201417     4.84   0.000     .0579833    .1369375\n",
      "       _cons |   6.222005   .9144067     6.80   0.000     4.429801    8.014209\n",
      "-------------+----------------------------------------------------------------\n",
      "     sigma_u |  .31933841\n",
      "     sigma_e |  .10651186\n",
      "         rho |  .89988885   (fraction of variance due to u_i)\n",
      "------------------------------------------------------------------------------\n",
      "\n"
     ]
    }
   ],
   "source": [
    "xtreg lfare y98 y99 y00 concen ldist ldistsq, re robust\n",
    "\n",
    "estimates store RE_rb"
   ]
  },
  {
   "cell_type": "markdown",
   "id": "fantastic-raleigh",
   "metadata": {},
   "source": [
    "# (e): FE"
   ]
  },
  {
   "cell_type": "code",
   "execution_count": 31,
   "id": "august-internship",
   "metadata": {},
   "outputs": [
    {
     "name": "stdout",
     "output_type": "stream",
     "text": [
      "\n",
      "note: ldist omitted because of collinearity\n",
      "note: ldistsq omitted because of collinearity\n",
      "\n",
      "Fixed-effects (within) regression               Number of obs     =      4,596\n",
      "Group variable: id                              Number of groups  =      1,149\n",
      "\n",
      "R-sq:                                           Obs per group:\n",
      "     within  = 0.1352                                         min =          4\n",
      "     between = 0.0576                                         avg =        4.0\n",
      "     overall = 0.0083                                         max =          4\n",
      "\n",
      "                                                F(4,3443)         =     134.61\n",
      "corr(u_i, Xb)  = -0.2033                        Prob > F          =     0.0000\n",
      "\n",
      "------------------------------------------------------------------------------\n",
      "       lfare |      Coef.   Std. Err.      t    P>|t|     [95% Conf. Interval]\n",
      "-------------+----------------------------------------------------------------\n",
      "         y98 |   .0228328   .0044515     5.13   0.000     .0141048    .0315607\n",
      "         y99 |   .0363819   .0044495     8.18   0.000     .0276579    .0451058\n",
      "         y00 |   .0977717   .0044555    21.94   0.000      .089036    .1065073\n",
      "      concen |    .168859   .0294101     5.74   0.000     .1111959     .226522\n",
      "       ldist |          0  (omitted)\n",
      "     ldistsq |          0  (omitted)\n",
      "       _cons |   4.953331   .0182869   270.87   0.000     4.917476    4.989185\n",
      "-------------+----------------------------------------------------------------\n",
      "     sigma_u |  .43389176\n",
      "     sigma_e |  .10651186\n",
      "         rho |  .94316439   (fraction of variance due to u_i)\n",
      "------------------------------------------------------------------------------\n",
      "F test that all u_i=0: F(1148, 3443) = 60.52                 Prob > F = 0.0000\n",
      "\n"
     ]
    }
   ],
   "source": [
    "xtreg lfare y98 y99 y00 concen ldist ldistsq, fe\n",
    "\n",
    "estimates store FE_LS"
   ]
  },
  {
   "cell_type": "markdown",
   "id": "b277ad86-4810-4c4a-b78e-cc5c3237ccd2",
   "metadata": {},
   "source": [
    "# FE with robust se"
   ]
  },
  {
   "cell_type": "code",
   "execution_count": 25,
   "id": "comparable-publication",
   "metadata": {},
   "outputs": [
    {
     "name": "stdout",
     "output_type": "stream",
     "text": [
      "\n",
      "note: ldist omitted because of collinearity\n",
      "note: ldistsq omitted because of collinearity\n",
      "\n",
      "Fixed-effects (within) regression               Number of obs     =      4,596\n",
      "Group variable: id                              Number of groups  =      1,149\n",
      "\n",
      "R-sq:                                           Obs per group:\n",
      "     within  = 0.1352                                         min =          4\n",
      "     between = 0.0576                                         avg =        4.0\n",
      "     overall = 0.0083                                         max =          4\n",
      "\n",
      "                                                F(4,1148)         =     120.06\n",
      "corr(u_i, Xb)  = -0.2033                        Prob > F          =     0.0000\n",
      "\n",
      "                                 (Std. Err. adjusted for 1,149 clusters in id)\n",
      "------------------------------------------------------------------------------\n",
      "             |               Robust\n",
      "       lfare |      Coef.   Std. Err.      t    P>|t|     [95% Conf. Interval]\n",
      "-------------+----------------------------------------------------------------\n",
      "         y98 |   .0228328    .004163     5.48   0.000     .0146649    .0310007\n",
      "         y99 |   .0363819   .0051275     7.10   0.000     .0263215    .0464422\n",
      "         y00 |   .0977717   .0055054    17.76   0.000     .0869698    .1085735\n",
      "      concen |    .168859   .0494587     3.41   0.001     .0718194    .2658985\n",
      "       ldist |          0  (omitted)\n",
      "     ldistsq |          0  (omitted)\n",
      "       _cons |   4.953331   .0296765   166.91   0.000     4.895104    5.011557\n",
      "-------------+----------------------------------------------------------------\n",
      "     sigma_u |  .43389176\n",
      "     sigma_e |  .10651186\n",
      "         rho |  .94316439   (fraction of variance due to u_i)\n",
      "------------------------------------------------------------------------------\n",
      "\n"
     ]
    }
   ],
   "source": [
    "xtreg lfare y98 y99 y00 concen ldist ldistsq, fe robust\n",
    "\n",
    "estimates store FE_rb"
   ]
  },
  {
   "cell_type": "markdown",
   "id": "advance-retailer",
   "metadata": {},
   "source": [
    "# (f) test whether FE model and RE model are the same in population\n",
    "\n",
    "# we cannot use Hausman test for models with robust se"
   ]
  },
  {
   "cell_type": "code",
   "execution_count": 11,
   "id": "accepted-humanity",
   "metadata": {},
   "outputs": [
    {
     "name": "stdout",
     "output_type": "stream",
     "text": [
      "\n",
      "                 ---- Coefficients ----\n",
      "             |      (b)          (B)            (b-B)     sqrt(diag(V_b-V_B))\n",
      "             |     FE_LS        RE_LS        Difference          S.E.\n",
      "-------------+----------------------------------------------------------------\n",
      "         y98 |    .0228328     .0224743        .0003585               .\n",
      "         y99 |    .0363819     .0366898        -.000308               .\n",
      "         y00 |    .0977717      .098212       -.0004403               .\n",
      "      concen |     .168859     .2089935       -.0401345        .0126937\n",
      "------------------------------------------------------------------------------\n",
      "                           b = consistent under Ho and Ha; obtained from xtreg\n",
      "            B = inconsistent under Ha, efficient under Ho; obtained from xtreg\n",
      "\n",
      "    Test:  Ho:  difference in coefficients not systematic\n",
      "\n",
      "                  chi2(4) = (b-B)'[(V_b-V_B)^(-1)](b-B)\n",
      "                          =       10.00\n",
      "                Prob>chi2 =      0.0405\n",
      "                (V_b-V_B is not positive definite)\n"
     ]
    }
   ],
   "source": [
    "hausman FE_LS RE_LS"
   ]
  },
  {
   "cell_type": "markdown",
   "id": "fe653d56-5de8-4d04-a530-caefd9d11be4",
   "metadata": {},
   "source": [
    "# now let's compare everything"
   ]
  },
  {
   "cell_type": "code",
   "execution_count": 33,
   "id": "controlled-jacksonville",
   "metadata": {},
   "outputs": [
    {
     "name": "stdout",
     "output_type": "stream",
     "text": [
      "\n",
      "----------------------------------------------------------------------------\n",
      "                    FE_LS           FE_rb           RE_LS           RE_rb   \n",
      "                     b/se            b/se            b/se            b/se   \n",
      "----------------------------------------------------------------------------\n",
      "y98                 0.023***        0.023***        0.022***        0.022***\n",
      "                  (0.004)         (0.004)         (0.004)         (0.004)   \n",
      "y99                 0.036***        0.036***        0.037***        0.037***\n",
      "                  (0.004)         (0.005)         (0.004)         (0.005)   \n",
      "y00                 0.098***        0.098***        0.098***        0.098***\n",
      "                  (0.004)         (0.006)         (0.004)         (0.006)   \n",
      "concen              0.169***        0.169***        0.209***        0.209***\n",
      "                  (0.029)         (0.049)         (0.027)         (0.042)   \n",
      "ldist               0.000           0.000          -0.852***       -0.852** \n",
      "                      (.)             (.)         (0.246)         (0.272)   \n",
      "ldistsq             0.000           0.000           0.097***        0.097***\n",
      "                      (.)             (.)         (0.019)         (0.020)   \n",
      "_cons               4.953***        4.953***        6.222***        6.222***\n",
      "                  (0.018)         (0.030)         (0.810)         (0.914)   \n",
      "----------------------------------------------------------------------------\n",
      "R-squared           0.135           0.135                                   \n",
      "F-value           134.611         120.056                                   \n",
      "Chi2-value                                       1360.422        1222.725   \n",
      "sample size      4596.000        4596.000        4596.000        4596.000   \n",
      "----------------------------------------------------------------------------\n",
      "* p<0.05, ** p<0.01, *** p<0.001\n"
     ]
    }
   ],
   "source": [
    "estout FE_LS FE_rb RE_LS RE_rb, cells(b(star fmt(3)) se(par fmt(3))) stats(r2 F chi2 N, labels(R-squared F-value Chi2-value \"sample size\")) legend"
   ]
  },
  {
   "cell_type": "code",
   "execution_count": 35,
   "id": "gothic-investment",
   "metadata": {},
   "outputs": [
    {
     "name": "stdout",
     "output_type": "stream",
     "text": [
      "\n",
      "\n",
      "\n",
      "\n",
      "[NbConvertApp] Converting notebook W7_Stata.ipynb to html\n",
      "[NbConvertApp] Writing 592171 bytes to W7_Stata.html\n"
     ]
    }
   ],
   "source": [
    "!rm -rf W7_Stata.html\n",
    "!jupyter nbconvert --to html W7_Stata.ipynb"
   ]
  },
  {
   "cell_type": "code",
   "execution_count": null,
   "id": "aging-great",
   "metadata": {},
   "outputs": [],
   "source": []
  }
 ],
 "metadata": {
  "kernelspec": {
   "display_name": "Stata",
   "language": "stata",
   "name": "stata"
  },
  "language_info": {
   "codemirror_mode": "stata",
   "file_extension": ".do",
   "mimetype": "text/x-stata",
   "name": "stata",
   "version": "15.1"
  }
 },
 "nbformat": 4,
 "nbformat_minor": 5
}
