{
 "cells": [
  {
   "cell_type": "markdown",
   "id": "9b23f74d-88f0-477c-9512-bba23f502845",
   "metadata": {},
   "source": [
    "# clear your memory"
   ]
  },
  {
   "cell_type": "code",
   "execution_count": 1,
   "id": "essential-architect",
   "metadata": {},
   "outputs": [],
   "source": [
    "rm(list = ls())"
   ]
  },
  {
   "cell_type": "markdown",
   "id": "continuing-equity",
   "metadata": {},
   "source": [
    "# install all packages we need if you have not"
   ]
  },
  {
   "cell_type": "code",
   "execution_count": 2,
   "id": "retired-handy",
   "metadata": {},
   "outputs": [
    {
     "name": "stdout",
     "output_type": "stream",
     "text": [
      "\n",
      "  There is a binary version available but the source version is later:\n",
      "      binary source needs_compilation\n",
      "Hmisc  4.5-0  4.6-0              TRUE\n",
      "\n",
      "\n",
      "The downloaded binary packages are in\n",
      "\t/var/folders/yy/bxcs_bl16lx1phz7fzzmbl4w0000gn/T//Rtmp2kwXog/downloaded_packages\n"
     ]
    },
    {
     "name": "stderr",
     "output_type": "stream",
     "text": [
      "installing the source package ‘Hmisc’\n",
      "\n",
      "\n"
     ]
    }
   ],
   "source": [
    "pack = c('readr', 'dplyr', 'car', 'Hmisc', 'plm', 'stargazer')\n",
    "install.packages(pack, dep =TRUE)"
   ]
  },
  {
   "cell_type": "markdown",
   "id": "regional-capture",
   "metadata": {
    "tags": []
   },
   "source": [
    "# load packages"
   ]
  },
  {
   "cell_type": "code",
   "execution_count": 3,
   "id": "completed-assembly",
   "metadata": {},
   "outputs": [
    {
     "name": "stderr",
     "output_type": "stream",
     "text": [
      "\n",
      "Attaching package: ‘dplyr’\n",
      "\n",
      "\n",
      "The following objects are masked from ‘package:stats’:\n",
      "\n",
      "    filter, lag\n",
      "\n",
      "\n",
      "The following objects are masked from ‘package:base’:\n",
      "\n",
      "    intersect, setdiff, setequal, union\n",
      "\n",
      "\n",
      "Loading required package: carData\n",
      "\n",
      "\n",
      "Attaching package: ‘car’\n",
      "\n",
      "\n",
      "The following object is masked from ‘package:dplyr’:\n",
      "\n",
      "    recode\n",
      "\n",
      "\n",
      "Loading required package: lattice\n",
      "\n",
      "Loading required package: survival\n",
      "\n",
      "Loading required package: Formula\n",
      "\n",
      "Loading required package: ggplot2\n",
      "\n",
      "\n",
      "Attaching package: ‘Hmisc’\n",
      "\n",
      "\n",
      "The following objects are masked from ‘package:dplyr’:\n",
      "\n",
      "    src, summarize\n",
      "\n",
      "\n",
      "The following objects are masked from ‘package:base’:\n",
      "\n",
      "    format.pval, units\n",
      "\n",
      "\n",
      "\n",
      "Attaching package: ‘plm’\n",
      "\n",
      "\n",
      "The following objects are masked from ‘package:dplyr’:\n",
      "\n",
      "    between, lag, lead\n",
      "\n",
      "\n",
      "\n",
      "Please cite as: \n",
      "\n",
      "\n",
      " Hlavac, Marek (2018). stargazer: Well-Formatted Regression and Summary Statistics Tables.\n",
      "\n",
      " R package version 5.2.2. https://CRAN.R-project.org/package=stargazer \n",
      "\n",
      "\n"
     ]
    }
   ],
   "source": [
    "library(readr)\n",
    "library(dplyr)\n",
    "library(car)\n",
    "library(Hmisc)\n",
    "library(plm)\n",
    "library(stargazer)"
   ]
  },
  {
   "cell_type": "markdown",
   "id": "533e1e71-aea5-43cf-ae46-ca670384e76b",
   "metadata": {
    "tags": []
   },
   "source": [
    "# load the data into R"
   ]
  },
  {
   "cell_type": "code",
   "execution_count": 4,
   "id": "polish-moscow",
   "metadata": {},
   "outputs": [
    {
     "name": "stderr",
     "output_type": "stream",
     "text": [
      "\u001b[1m\u001b[1mRows: \u001b[1m\u001b[22m\u001b[34m\u001b[34m4596\u001b[34m\u001b[39m \u001b[1m\u001b[1mColumns: \u001b[1m\u001b[22m\u001b[34m\u001b[34m14\u001b[34m\u001b[39m\n",
      "\n",
      "\u001b[36m──\u001b[39m \u001b[1m\u001b[1mColumn specification\u001b[1m\u001b[22m \u001b[36m───────────────────────────────────────────────────────────────────────────────\u001b[39m\n",
      "\u001b[1mDelimiter:\u001b[22m \",\"\n",
      "\u001b[32mdbl\u001b[39m (14): year, id, dist, passen, fare, bmktshr, ldist, y98, y99, y00, lfare...\n",
      "\n",
      "\n",
      "\u001b[36mℹ\u001b[39m Use \u001b[30m\u001b[47m\u001b[30m\u001b[47m`spec()`\u001b[47m\u001b[30m\u001b[49m\u001b[39m to retrieve the full column specification for this data.\n",
      "\u001b[36mℹ\u001b[39m Specify the column types or set \u001b[30m\u001b[47m\u001b[30m\u001b[47m`show_col_types = FALSE`\u001b[47m\u001b[30m\u001b[49m\u001b[39m to quiet this message.\n",
      "\n"
     ]
    }
   ],
   "source": [
    "data <- read_csv(\"airfare.csv\")"
   ]
  },
  {
   "cell_type": "markdown",
   "id": "b7c7437a-45c6-4084-b252-9b63e17405b5",
   "metadata": {
    "tags": []
   },
   "source": [
    "# set up panel id for panel dataset"
   ]
  },
  {
   "cell_type": "code",
   "execution_count": 5,
   "id": "turned-clock",
   "metadata": {},
   "outputs": [],
   "source": [
    "panel <- pdata.frame(data, index=c(\"id\",\"year\"))"
   ]
  },
  {
   "cell_type": "markdown",
   "id": "27c7cc10-da0b-48f0-8751-c2f4fe2a9778",
   "metadata": {},
   "source": [
    "# check the data set"
   ]
  },
  {
   "cell_type": "code",
   "execution_count": 6,
   "id": "parallel-password",
   "metadata": {},
   "outputs": [
    {
     "data": {
      "text/html": [
       "<table class=\"dataframe\">\n",
       "<caption>A pdata.frame: 6 × 14</caption>\n",
       "<thead>\n",
       "\t<tr><th></th><th scope=col>year</th><th scope=col>id</th><th scope=col>dist</th><th scope=col>passen</th><th scope=col>fare</th><th scope=col>bmktshr</th><th scope=col>ldist</th><th scope=col>y98</th><th scope=col>y99</th><th scope=col>y00</th><th scope=col>lfare</th><th scope=col>ldistsq</th><th scope=col>concen</th><th scope=col>lpassen</th></tr>\n",
       "\t<tr><th></th><th scope=col>&lt;fct&gt;</th><th scope=col>&lt;fct&gt;</th><th scope=col>&lt;dbl&gt;</th><th scope=col>&lt;dbl&gt;</th><th scope=col>&lt;dbl&gt;</th><th scope=col>&lt;dbl&gt;</th><th scope=col>&lt;dbl&gt;</th><th scope=col>&lt;dbl&gt;</th><th scope=col>&lt;dbl&gt;</th><th scope=col>&lt;dbl&gt;</th><th scope=col>&lt;dbl&gt;</th><th scope=col>&lt;dbl&gt;</th><th scope=col>&lt;dbl&gt;</th><th scope=col>&lt;dbl&gt;</th></tr>\n",
       "</thead>\n",
       "<tbody>\n",
       "\t<tr><th scope=row>1-1997</th><td>1997</td><td>1</td><td>528</td><td>152</td><td>106</td><td>0.8386</td><td>6.269096</td><td>0</td><td>0</td><td>0</td><td>4.663439</td><td>39.30157</td><td>0.8386</td><td>5.023880</td></tr>\n",
       "\t<tr><th scope=row>1-1998</th><td>1998</td><td>1</td><td>528</td><td>265</td><td>106</td><td>0.8133</td><td>6.269096</td><td>1</td><td>0</td><td>0</td><td>4.663439</td><td>39.30157</td><td>0.8133</td><td>5.579730</td></tr>\n",
       "\t<tr><th scope=row>1-1999</th><td>1999</td><td>1</td><td>528</td><td>336</td><td>113</td><td>0.8262</td><td>6.269096</td><td>0</td><td>1</td><td>0</td><td>4.727388</td><td>39.30157</td><td>0.8262</td><td>5.817111</td></tr>\n",
       "\t<tr><th scope=row>1-2000</th><td>2000</td><td>1</td><td>528</td><td>298</td><td>123</td><td>0.8612</td><td>6.269096</td><td>0</td><td>0</td><td>1</td><td>4.812184</td><td>39.30157</td><td>0.8612</td><td>5.697094</td></tr>\n",
       "\t<tr><th scope=row>2-1997</th><td>1997</td><td>2</td><td>861</td><td>282</td><td>104</td><td>0.5798</td><td>6.758094</td><td>0</td><td>0</td><td>0</td><td>4.644391</td><td>45.67184</td><td>0.5798</td><td>5.641907</td></tr>\n",
       "\t<tr><th scope=row>2-1998</th><td>1998</td><td>2</td><td>861</td><td>178</td><td>105</td><td>0.5817</td><td>6.758094</td><td>1</td><td>0</td><td>0</td><td>4.653960</td><td>45.67184</td><td>0.5817</td><td>5.181784</td></tr>\n",
       "</tbody>\n",
       "</table>\n"
      ],
      "text/latex": [
       "A pdata.frame: 6 × 14\n",
       "\\begin{tabular}{r|llllllllllllll}\n",
       "  & year & id & dist & passen & fare & bmktshr & ldist & y98 & y99 & y00 & lfare & ldistsq & concen & lpassen\\\\\n",
       "  & <fct> & <fct> & <dbl> & <dbl> & <dbl> & <dbl> & <dbl> & <dbl> & <dbl> & <dbl> & <dbl> & <dbl> & <dbl> & <dbl>\\\\\n",
       "\\hline\n",
       "\t1-1997 & 1997 & 1 & 528 & 152 & 106 & 0.8386 & 6.269096 & 0 & 0 & 0 & 4.663439 & 39.30157 & 0.8386 & 5.023880\\\\\n",
       "\t1-1998 & 1998 & 1 & 528 & 265 & 106 & 0.8133 & 6.269096 & 1 & 0 & 0 & 4.663439 & 39.30157 & 0.8133 & 5.579730\\\\\n",
       "\t1-1999 & 1999 & 1 & 528 & 336 & 113 & 0.8262 & 6.269096 & 0 & 1 & 0 & 4.727388 & 39.30157 & 0.8262 & 5.817111\\\\\n",
       "\t1-2000 & 2000 & 1 & 528 & 298 & 123 & 0.8612 & 6.269096 & 0 & 0 & 1 & 4.812184 & 39.30157 & 0.8612 & 5.697094\\\\\n",
       "\t2-1997 & 1997 & 2 & 861 & 282 & 104 & 0.5798 & 6.758094 & 0 & 0 & 0 & 4.644391 & 45.67184 & 0.5798 & 5.641907\\\\\n",
       "\t2-1998 & 1998 & 2 & 861 & 178 & 105 & 0.5817 & 6.758094 & 1 & 0 & 0 & 4.653960 & 45.67184 & 0.5817 & 5.181784\\\\\n",
       "\\end{tabular}\n"
      ],
      "text/markdown": [
       "\n",
       "A pdata.frame: 6 × 14\n",
       "\n",
       "| <!--/--> | year &lt;fct&gt; | id &lt;fct&gt; | dist &lt;dbl&gt; | passen &lt;dbl&gt; | fare &lt;dbl&gt; | bmktshr &lt;dbl&gt; | ldist &lt;dbl&gt; | y98 &lt;dbl&gt; | y99 &lt;dbl&gt; | y00 &lt;dbl&gt; | lfare &lt;dbl&gt; | ldistsq &lt;dbl&gt; | concen &lt;dbl&gt; | lpassen &lt;dbl&gt; |\n",
       "|---|---|---|---|---|---|---|---|---|---|---|---|---|---|---|\n",
       "| 1-1997 | 1997 | 1 | 528 | 152 | 106 | 0.8386 | 6.269096 | 0 | 0 | 0 | 4.663439 | 39.30157 | 0.8386 | 5.023880 |\n",
       "| 1-1998 | 1998 | 1 | 528 | 265 | 106 | 0.8133 | 6.269096 | 1 | 0 | 0 | 4.663439 | 39.30157 | 0.8133 | 5.579730 |\n",
       "| 1-1999 | 1999 | 1 | 528 | 336 | 113 | 0.8262 | 6.269096 | 0 | 1 | 0 | 4.727388 | 39.30157 | 0.8262 | 5.817111 |\n",
       "| 1-2000 | 2000 | 1 | 528 | 298 | 123 | 0.8612 | 6.269096 | 0 | 0 | 1 | 4.812184 | 39.30157 | 0.8612 | 5.697094 |\n",
       "| 2-1997 | 1997 | 2 | 861 | 282 | 104 | 0.5798 | 6.758094 | 0 | 0 | 0 | 4.644391 | 45.67184 | 0.5798 | 5.641907 |\n",
       "| 2-1998 | 1998 | 2 | 861 | 178 | 105 | 0.5817 | 6.758094 | 1 | 0 | 0 | 4.653960 | 45.67184 | 0.5817 | 5.181784 |\n",
       "\n"
      ],
      "text/plain": [
       "       year id dist passen fare bmktshr ldist    y98 y99 y00 lfare    ldistsq \n",
       "1-1997 1997 1  528  152    106  0.8386  6.269096 0   0   0   4.663439 39.30157\n",
       "1-1998 1998 1  528  265    106  0.8133  6.269096 1   0   0   4.663439 39.30157\n",
       "1-1999 1999 1  528  336    113  0.8262  6.269096 0   1   0   4.727388 39.30157\n",
       "1-2000 2000 1  528  298    123  0.8612  6.269096 0   0   1   4.812184 39.30157\n",
       "2-1997 1997 2  861  282    104  0.5798  6.758094 0   0   0   4.644391 45.67184\n",
       "2-1998 1998 2  861  178    105  0.5817  6.758094 1   0   0   4.653960 45.67184\n",
       "       concen lpassen \n",
       "1-1997 0.8386 5.023880\n",
       "1-1998 0.8133 5.579730\n",
       "1-1999 0.8262 5.817111\n",
       "1-2000 0.8612 5.697094\n",
       "2-1997 0.5798 5.641907\n",
       "2-1998 0.5817 5.181784"
      ]
     },
     "metadata": {},
     "output_type": "display_data"
    }
   ],
   "source": [
    "head(panel)"
   ]
  },
  {
   "cell_type": "code",
   "execution_count": 7,
   "id": "copyrighted-investor",
   "metadata": {},
   "outputs": [
    {
     "data": {
      "text/plain": [
       "   year            id            dist            passen            fare      \n",
       " 1997:1149   1      :   4   Min.   :  95.0   Min.   :   2.0   Min.   : 37.0  \n",
       " 1998:1149   2      :   4   1st Qu.: 505.0   1st Qu.: 215.0   1st Qu.:123.0  \n",
       " 1999:1149   3      :   4   Median : 861.0   Median : 357.0   Median :168.0  \n",
       " 2000:1149   4      :   4   Mean   : 989.7   Mean   : 636.8   Mean   :178.8  \n",
       "             5      :   4   3rd Qu.:1304.0   3rd Qu.: 717.0   3rd Qu.:225.0  \n",
       "             6      :   4   Max.   :2724.0   Max.   :8497.0   Max.   :522.0  \n",
       "             (Other):4572                                                    \n",
       "    bmktshr           ldist            y98            y99            y00      \n",
       " Min.   :0.1605   Min.   :4.554   Min.   :0.00   Min.   :0.00   Min.   :0.00  \n",
       " 1st Qu.:0.4650   1st Qu.:6.225   1st Qu.:0.00   1st Qu.:0.00   1st Qu.:0.00  \n",
       " Median :0.6039   Median :6.758   Median :0.00   Median :0.00   Median :0.00  \n",
       " Mean   :0.6101   Mean   :6.696   Mean   :0.25   Mean   :0.25   Mean   :0.25  \n",
       " 3rd Qu.:0.7531   3rd Qu.:7.173   3rd Qu.:0.25   3rd Qu.:0.25   3rd Qu.:0.25  \n",
       " Max.   :1.0000   Max.   :7.910   Max.   :1.00   Max.   :1.00   Max.   :1.00  \n",
       "                                                                              \n",
       "     lfare          ldistsq          concen          lpassen      \n",
       " Min.   :3.611   Min.   :20.74   Min.   :0.1605   Min.   :0.6931  \n",
       " 1st Qu.:4.812   1st Qu.:38.75   1st Qu.:0.4650   1st Qu.:5.3706  \n",
       " Median :5.124   Median :45.67   Median :0.6039   Median :5.8777  \n",
       " Mean   :5.096   Mean   :45.28   Mean   :0.6101   Mean   :6.0170  \n",
       " 3rd Qu.:5.416   3rd Qu.:51.45   3rd Qu.:0.7531   3rd Qu.:6.5751  \n",
       " Max.   :6.258   Max.   :62.57   Max.   :1.0000   Max.   :9.0475  \n",
       "                                                                  "
      ]
     },
     "metadata": {},
     "output_type": "display_data"
    }
   ],
   "source": [
    "summary(panel)"
   ]
  },
  {
   "cell_type": "markdown",
   "id": "b5d9c256-ed0d-422b-8d2d-c3a9b7f19496",
   "metadata": {},
   "source": [
    "---\n",
    "\n",
    "# pooled OLS with unadjusted se"
   ]
  },
  {
   "cell_type": "code",
   "execution_count": 8,
   "id": "offensive-morocco",
   "metadata": {},
   "outputs": [
    {
     "data": {
      "text/plain": [
       "Pooling Model\n",
       "\n",
       "Call:\n",
       "plm(formula = lfare ~ y98 + y99 + y00 + concen + ldist + ldistsq, \n",
       "    data = panel, model = \"pooling\")\n",
       "\n",
       "Balanced Panel: n = 1149, T = 4, N = 4596\n",
       "\n",
       "Residuals:\n",
       "     Min.   1st Qu.    Median   3rd Qu.      Max. \n",
       "-1.307955 -0.253740 -0.026729  0.247446  0.958113 \n",
       "\n",
       "Coefficients:\n",
       "              Estimate Std. Error t-value  Pr(>|t|)    \n",
       "(Intercept)  6.2092580  0.4206247 14.7620 < 2.2e-16 ***\n",
       "y98          0.0211244  0.0140419  1.5044  0.132553    \n",
       "y99          0.0378496  0.0140413  2.6956  0.007052 ** \n",
       "y00          0.0998700  0.0140432  7.1116 1.324e-12 ***\n",
       "concen       0.3601203  0.0300691 11.9764 < 2.2e-16 ***\n",
       "ldist       -0.9016005  0.1282730 -7.0288 2.390e-12 ***\n",
       "ldistsq      0.1030196  0.0097255 10.5927 < 2.2e-16 ***\n",
       "---\n",
       "Signif. codes:  0 ‘***’ 0.001 ‘**’ 0.01 ‘*’ 0.05 ‘.’ 0.1 ‘ ’ 1\n",
       "\n",
       "Total Sum of Squares:    875.09\n",
       "Residual Sum of Squares: 519.64\n",
       "R-Squared:      0.40619\n",
       "Adj. R-Squared: 0.40541\n",
       "F-statistic: 523.175 on 6 and 4589 DF, p-value: < 2.22e-16"
      ]
     },
     "metadata": {},
     "output_type": "display_data"
    }
   ],
   "source": [
    "reg1 = plm(lfare ~ y98 + y99 + y00 + concen + ldist + ldistsq, data=panel, model=\"pooling\")\n",
    "summary(reg1)"
   ]
  },
  {
   "cell_type": "markdown",
   "id": "2a74b505-14d9-40c8-9bce-eb5e8a23b1af",
   "metadata": {},
   "source": [
    "# pooled OLS with robust se"
   ]
  },
  {
   "cell_type": "code",
   "execution_count": 16,
   "id": "6a3e4b6c-496f-413d-b101-2fea7158e1b3",
   "metadata": {},
   "outputs": [
    {
     "data": {
      "text/plain": [
       "Pooling Model\n",
       "\n",
       "Note: Coefficient variance-covariance matrix supplied: vcovHC\n",
       "\n",
       "Call:\n",
       "plm(formula = lfare ~ y98 + y99 + y00 + concen + ldist + ldistsq, \n",
       "    data = panel, model = \"pooling\")\n",
       "\n",
       "Balanced Panel: n = 1149, T = 4, N = 4596\n",
       "\n",
       "Residuals:\n",
       "     Min.   1st Qu.    Median   3rd Qu.      Max. \n",
       "-1.307955 -0.253740 -0.026729  0.247446  0.958113 \n",
       "\n",
       "Coefficients:\n",
       "              Estimate Std. Error t-value  Pr(>|t|)    \n",
       "(Intercept)  6.2092580  0.9107631  6.8176 1.045e-11 ***\n",
       "y98          0.0211244  0.0041429  5.0990 3.553e-07 ***\n",
       "y99          0.0378496  0.0051739  7.3155 3.011e-13 ***\n",
       "y00          0.0998700  0.0056407 17.7052 < 2.2e-16 ***\n",
       "concen       0.3601203  0.0584923  6.1567 8.061e-10 ***\n",
       "ldist       -0.9016005  0.2716505 -3.3190 0.0009105 ***\n",
       "ldistsq      0.1030196  0.0201382  5.1156 3.255e-07 ***\n",
       "---\n",
       "Signif. codes:  0 ‘***’ 0.001 ‘**’ 0.01 ‘*’ 0.05 ‘.’ 0.1 ‘ ’ 1\n",
       "\n",
       "Total Sum of Squares:    875.09\n",
       "Residual Sum of Squares: 519.64\n",
       "R-Squared:      0.40619\n",
       "Adj. R-Squared: 0.40541\n",
       "F-statistic: 206.079 on 6 and 1148 DF, p-value: < 2.22e-16"
      ]
     },
     "metadata": {},
     "output_type": "display_data"
    }
   ],
   "source": [
    "summary(reg1, vcovHC)"
   ]
  },
  {
   "cell_type": "markdown",
   "id": "a2924562-57a5-4320-99b3-9f472a078d5a",
   "metadata": {},
   "source": [
    "---\n",
    "\n",
    "# RE with unadjusted se"
   ]
  },
  {
   "cell_type": "code",
   "execution_count": 18,
   "id": "5b83f1b7-33fc-4c6b-9a07-4658203179cd",
   "metadata": {},
   "outputs": [
    {
     "data": {
      "text/plain": [
       "Oneway (individual) effect Random Effect Model \n",
       "   (Swamy-Arora's transformation)\n",
       "\n",
       "Call:\n",
       "plm(formula = lfare ~ y98 + y99 + y00 + concen + ldist + ldistsq, \n",
       "    data = panel, model = \"random\")\n",
       "\n",
       "Balanced Panel: n = 1149, T = 4, N = 4596\n",
       "\n",
       "Effects:\n",
       "                  var std.dev share\n",
       "idiosyncratic 0.01134 0.10651   0.1\n",
       "individual    0.10198 0.31934   0.9\n",
       "theta: 0.8355\n",
       "\n",
       "Residuals:\n",
       "      Min.    1st Qu.     Median    3rd Qu.       Max. \n",
       "-0.8316340 -0.0639906 -0.0037195  0.0626551  0.8655403 \n",
       "\n",
       "Coefficients:\n",
       "              Estimate Std. Error z-value  Pr(>|z|)    \n",
       "(Intercept)  6.2220054  0.8099667  7.6818 1.569e-14 ***\n",
       "y98          0.0224743  0.0044544  5.0454 4.526e-07 ***\n",
       "y99          0.0366899  0.0044528  8.2398 < 2.2e-16 ***\n",
       "y00          0.0982120  0.0044576 22.0324 < 2.2e-16 ***\n",
       "concen       0.2089935  0.0265297  7.8777 3.334e-15 ***\n",
       "ldist       -0.8520922  0.2464836 -3.4570 0.0005462 ***\n",
       "ldistsq      0.0974604  0.0186358  5.2297 1.698e-07 ***\n",
       "---\n",
       "Signif. codes:  0 ‘***’ 0.001 ‘**’ 0.01 ‘*’ 0.05 ‘.’ 0.1 ‘ ’ 1\n",
       "\n",
       "Total Sum of Squares:    67.626\n",
       "Residual Sum of Squares: 52.162\n",
       "R-Squared:      0.22866\n",
       "Adj. R-Squared: 0.22766\n",
       "Chisq: 1360.42 on 6 DF, p-value: < 2.22e-16"
      ]
     },
     "metadata": {},
     "output_type": "display_data"
    }
   ],
   "source": [
    "reg2 = plm(lfare ~ y98 + y99 + y00 + concen + ldist + ldistsq, data=panel, model=\"random\")\n",
    "summary(reg2)"
   ]
  },
  {
   "cell_type": "markdown",
   "id": "4f74170d-ca77-48d2-837f-2539c08fadbe",
   "metadata": {},
   "source": [
    "# RE with robust se"
   ]
  },
  {
   "cell_type": "code",
   "execution_count": 19,
   "id": "developmental-express",
   "metadata": {},
   "outputs": [
    {
     "data": {
      "text/plain": [
       "Oneway (individual) effect Random Effect Model \n",
       "   (Swamy-Arora's transformation)\n",
       "\n",
       "Note: Coefficient variance-covariance matrix supplied: vcovHC\n",
       "\n",
       "Call:\n",
       "plm(formula = lfare ~ y98 + y99 + y00 + concen + ldist + ldistsq, \n",
       "    data = panel, model = \"random\")\n",
       "\n",
       "Balanced Panel: n = 1149, T = 4, N = 4596\n",
       "\n",
       "Effects:\n",
       "                  var std.dev share\n",
       "idiosyncratic 0.01134 0.10651   0.1\n",
       "individual    0.10198 0.31934   0.9\n",
       "theta: 0.8355\n",
       "\n",
       "Residuals:\n",
       "      Min.    1st Qu.     Median    3rd Qu.       Max. \n",
       "-0.8316340 -0.0639906 -0.0037195  0.0626551  0.8655403 \n",
       "\n",
       "Coefficients:\n",
       "              Estimate Std. Error z-value  Pr(>|z|)    \n",
       "(Intercept)  6.2220054  0.9134118  6.8118 9.637e-12 ***\n",
       "y98          0.0224743  0.0041416  5.4265 5.748e-08 ***\n",
       "y99          0.0366899  0.0051262  7.1573 8.230e-13 ***\n",
       "y00          0.0982120  0.0055181 17.7982 < 2.2e-16 ***\n",
       "concen       0.2089935  0.0421999  4.9525 7.328e-07 ***\n",
       "ldist       -0.8520922  0.2717942 -3.1351  0.001718 ** \n",
       "ldistsq      0.0974604  0.0201198  4.8440 1.273e-06 ***\n",
       "---\n",
       "Signif. codes:  0 ‘***’ 0.001 ‘**’ 0.01 ‘*’ 0.05 ‘.’ 0.1 ‘ ’ 1\n",
       "\n",
       "Total Sum of Squares:    67.626\n",
       "Residual Sum of Squares: 52.162\n",
       "R-Squared:      0.22866\n",
       "Adj. R-Squared: 0.22766\n",
       "Chisq: 1225.39 on 6 DF, p-value: < 2.22e-16"
      ]
     },
     "metadata": {},
     "output_type": "display_data"
    }
   ],
   "source": [
    "summary(reg2, vcovHC)"
   ]
  },
  {
   "cell_type": "markdown",
   "id": "ae9d8d6f-521e-4ce2-8e4e-2f875d2f5cda",
   "metadata": {},
   "source": [
    "---\n",
    "\n",
    "# FE with unadjusted se"
   ]
  },
  {
   "cell_type": "code",
   "execution_count": 20,
   "id": "334f3da4-3e45-45d5-978b-a908a90018f5",
   "metadata": {},
   "outputs": [
    {
     "data": {
      "text/plain": [
       "Oneway (individual) effect Within Model\n",
       "\n",
       "Call:\n",
       "plm(formula = lfare ~ y98 + y99 + y00 + concen + ldist + ldistsq, \n",
       "    data = panel, model = \"within\")\n",
       "\n",
       "Balanced Panel: n = 1149, T = 4, N = 4596\n",
       "\n",
       "Residuals:\n",
       "      Min.    1st Qu.     Median    3rd Qu.       Max. \n",
       "-0.8812811 -0.0397341  0.0023907  0.0436350  0.9188102 \n",
       "\n",
       "Coefficients:\n",
       "        Estimate Std. Error t-value  Pr(>|t|)    \n",
       "y98    0.0228328  0.0044515  5.1292 3.071e-07 ***\n",
       "y99    0.0363819  0.0044495  8.1766 4.061e-16 ***\n",
       "y00    0.0977717  0.0044555 21.9441 < 2.2e-16 ***\n",
       "concen 0.1688590  0.0294101  5.7415 1.020e-08 ***\n",
       "---\n",
       "Signif. codes:  0 ‘***’ 0.001 ‘**’ 0.01 ‘*’ 0.05 ‘.’ 0.1 ‘ ’ 1\n",
       "\n",
       "Total Sum of Squares:    45.169\n",
       "Residual Sum of Squares: 39.06\n",
       "R-Squared:      0.13524\n",
       "Adj. R-Squared: -0.1541\n",
       "F-statistic: 134.611 on 4 and 3443 DF, p-value: < 2.22e-16"
      ]
     },
     "metadata": {},
     "output_type": "display_data"
    }
   ],
   "source": [
    "reg3 = plm(lfare ~ y98 + y99 + y00 + concen + ldist + ldistsq, data=panel, model=\"within\")\n",
    "summary(reg3)"
   ]
  },
  {
   "cell_type": "markdown",
   "id": "fce79182-7fa1-4e96-95c5-3e427b36a8b3",
   "metadata": {},
   "source": [
    "# RE with robust se"
   ]
  },
  {
   "cell_type": "code",
   "execution_count": 21,
   "id": "arbitrary-athletics",
   "metadata": {},
   "outputs": [
    {
     "data": {
      "text/plain": [
       "Oneway (individual) effect Within Model\n",
       "\n",
       "Note: Coefficient variance-covariance matrix supplied: vcovHC\n",
       "\n",
       "Call:\n",
       "plm(formula = lfare ~ y98 + y99 + y00 + concen + ldist + ldistsq, \n",
       "    data = panel, model = \"within\")\n",
       "\n",
       "Balanced Panel: n = 1149, T = 4, N = 4596\n",
       "\n",
       "Residuals:\n",
       "      Min.    1st Qu.     Median    3rd Qu.       Max. \n",
       "-0.8812811 -0.0397341  0.0023907  0.0436350  0.9188102 \n",
       "\n",
       "Coefficients:\n",
       "        Estimate Std. Error t-value  Pr(>|t|)    \n",
       "y98    0.0228328  0.0041594  5.4895 4.323e-08 ***\n",
       "y99    0.0363819  0.0051230  7.1016 1.491e-12 ***\n",
       "y00    0.0977717  0.0055006 17.7746 < 2.2e-16 ***\n",
       "concen 0.1688590  0.0494156  3.4171 0.0006402 ***\n",
       "---\n",
       "Signif. codes:  0 ‘***’ 0.001 ‘**’ 0.01 ‘*’ 0.05 ‘.’ 0.1 ‘ ’ 1\n",
       "\n",
       "Total Sum of Squares:    45.169\n",
       "Residual Sum of Squares: 39.06\n",
       "R-Squared:      0.13524\n",
       "Adj. R-Squared: -0.1541\n",
       "F-statistic: 120.266 on 4 and 1148 DF, p-value: < 2.22e-16"
      ]
     },
     "metadata": {},
     "output_type": "display_data"
    }
   ],
   "source": [
    "summary(reg3, vcovHC)"
   ]
  },
  {
   "cell_type": "markdown",
   "id": "f5348a03-4123-457b-b568-859af41156ce",
   "metadata": {},
   "source": [
    "---"
   ]
  },
  {
   "cell_type": "markdown",
   "id": "ba576027-b78c-42aa-82c7-6bfb0ca455b6",
   "metadata": {},
   "source": [
    "# Hausman test between RE and FE"
   ]
  },
  {
   "cell_type": "code",
   "execution_count": 22,
   "id": "53798318-fff7-43b9-80f8-5b392ea37362",
   "metadata": {},
   "outputs": [
    {
     "data": {
      "text/plain": [
       "\n",
       "\tHausman Test\n",
       "\n",
       "data:  lfare ~ y98 + y99 + y00 + concen + ldist + ldistsq\n",
       "chisq = 9.9967, df = 4, p-value = 0.04048\n",
       "alternative hypothesis: one model is inconsistent\n"
      ]
     },
     "metadata": {},
     "output_type": "display_data"
    }
   ],
   "source": [
    "phtest(reg2, reg3)"
   ]
  },
  {
   "cell_type": "markdown",
   "id": "1aedb2cf-0fb6-4cef-a49b-68b361598adb",
   "metadata": {},
   "source": [
    "# compare all models"
   ]
  },
  {
   "cell_type": "code",
   "execution_count": 23,
   "id": "disturbed-proceeding",
   "metadata": {},
   "outputs": [
    {
     "name": "stdout",
     "output_type": "stream",
     "text": [
      "\n",
      "Panel regressions\n",
      "=============================================================================\n",
      "                                Dependent variable: lwage                    \n",
      "             ----------------------------------------------------------------\n",
      "                    Pooled OLS              FE                 RE            \n",
      "-----------------------------------------------------------------------------\n",
      "y98                    0.021             0.022***           0.023***         \n",
      "                      (0.014)            (0.004)             (0.004)         \n",
      "                                                                             \n",
      "y99                  0.038***            0.037***           0.036***         \n",
      "                      (0.014)            (0.004)             (0.004)         \n",
      "                                                                             \n",
      "y00                  0.100***            0.098***           0.098***         \n",
      "                      (0.014)            (0.004)             (0.004)         \n",
      "                                                                             \n",
      "concen               0.360***            0.209***           0.169***         \n",
      "                      (0.030)            (0.027)             (0.029)         \n",
      "                                                                             \n",
      "ldist                -0.902***          -0.852***                            \n",
      "                      (0.128)            (0.246)                             \n",
      "                                                                             \n",
      "ldistsq              0.103***            0.097***                            \n",
      "                      (0.010)            (0.019)                             \n",
      "                                                                             \n",
      "Constant             6.209***            6.222***                            \n",
      "                      (0.421)            (0.810)                             \n",
      "                                                                             \n",
      "-----------------------------------------------------------------------------\n",
      "Observations           4,596              4,596               4,596          \n",
      "R2                     0.406              0.229               0.135          \n",
      "Adjusted R2            0.405              0.228              -0.154          \n",
      "F Statistic  523.175*** (df = 6; 4589) 1,360.422*** 134.611*** (df = 4; 3443)\n",
      "=============================================================================\n"
     ]
    }
   ],
   "source": [
    "stargazer(reg1, reg2, reg3,\n",
    "          title=\"Panel regressions\",\n",
    "          header=FALSE, \n",
    "          type=\"text\",  \n",
    "          omit.table.layout=\"n\",\n",
    "          digits=3, \n",
    "          intercept.bottom=TRUE, \n",
    "          dep.var.labels.include = FALSE,\n",
    "          model.numbers = FALSE,\n",
    "          dep.var.caption=\"Dependent variable: lwage\",\n",
    "          model.names=FALSE,\n",
    "          omit.stat=c(\"LL\",\"ser\"),\n",
    "          column.labels=c(\"Pooled OLS\", \"FE\", \"RE\"))\n"
   ]
  }
 ],
 "metadata": {
  "kernelspec": {
   "display_name": "R",
   "language": "R",
   "name": "ir"
  },
  "language_info": {
   "codemirror_mode": "r",
   "file_extension": ".r",
   "mimetype": "text/x-r-source",
   "name": "R",
   "pygments_lexer": "r",
   "version": "4.1.1"
  }
 },
 "nbformat": 4,
 "nbformat_minor": 5
}
