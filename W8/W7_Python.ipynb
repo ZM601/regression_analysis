{
 "cells": [
  {
   "cell_type": "code",
   "execution_count": 1,
   "id": "civilian-keyboard",
   "metadata": {},
   "outputs": [],
   "source": [
    "%reset -f"
   ]
  },
  {
   "cell_type": "code",
   "execution_count": 2,
   "id": "micro-friendly",
   "metadata": {},
   "outputs": [],
   "source": [
    "from linearmodels.panel           import PooledOLS, RandomEffects, compare\n",
    "from linearmodels                 import PanelOLS\n",
    "from statsmodels.stats.diagnostic import het_white, het_breuschpagan\n",
    "from statsmodels.stats.stattools  import durbin_watson\n",
    "from scipy                        import stats\n",
    "\n",
    "import numpy.linalg      as la\n",
    "import matplotlib.pyplot as plt\n",
    "import numpy             as np\n",
    "import pandas            as pd\n",
    "import statsmodels.api   as sm"
   ]
  },
  {
   "cell_type": "code",
   "execution_count": 3,
   "id": "conditional-rating",
   "metadata": {},
   "outputs": [],
   "source": [
    "data = pd.read_csv(\"airfare.csv\")"
   ]
  },
  {
   "cell_type": "code",
   "execution_count": 4,
   "id": "electrical-cause",
   "metadata": {},
   "outputs": [
    {
     "data": {
      "text/plain": [
       "Index(['year', 'id', 'dist', 'passen', 'fare', 'bmktshr', 'ldist', 'y98',\n",
       "       'y99', 'y00', 'lfare', 'ldistsq', 'concen', 'lpassen'],\n",
       "      dtype='object')"
      ]
     },
     "execution_count": 4,
     "metadata": {},
     "output_type": "execute_result"
    }
   ],
   "source": [
    "data.columns"
   ]
  },
  {
   "cell_type": "code",
   "execution_count": 5,
   "id": "fundamental-coating",
   "metadata": {},
   "outputs": [
    {
     "data": {
      "text/plain": [
       "0       1997\n",
       "1       1998\n",
       "2       1999\n",
       "3       2000\n",
       "4       1997\n",
       "        ... \n",
       "4591    2000\n",
       "4592    1997\n",
       "4593    1998\n",
       "4594    1999\n",
       "4595    2000\n",
       "Name: year, Length: 4596, dtype: int64"
      ]
     },
     "execution_count": 5,
     "metadata": {},
     "output_type": "execute_result"
    }
   ],
   "source": [
    "data.year"
   ]
  },
  {
   "cell_type": "code",
   "execution_count": 6,
   "id": "twelve-rouge",
   "metadata": {},
   "outputs": [
    {
     "data": {
      "text/plain": [
       "dtype('int64')"
      ]
     },
     "execution_count": 6,
     "metadata": {},
     "output_type": "execute_result"
    }
   ],
   "source": [
    "data['year'].dtypes"
   ]
  },
  {
   "cell_type": "code",
   "execution_count": 7,
   "id": "distributed-plate",
   "metadata": {},
   "outputs": [
    {
     "data": {
      "text/plain": [
       "dtype('int64')"
      ]
     },
     "execution_count": 7,
     "metadata": {},
     "output_type": "execute_result"
    }
   ],
   "source": [
    "data['id'].dtypes"
   ]
  },
  {
   "cell_type": "markdown",
   "id": "efficient-programmer",
   "metadata": {},
   "source": [
    "# transform them into index (categorical variables)"
   ]
  },
  {
   "cell_type": "code",
   "execution_count": 8,
   "id": "innovative-coast",
   "metadata": {},
   "outputs": [],
   "source": [
    "year = pd.Categorical(data.year)\n",
    "id   = pd.Categorical(data.id)"
   ]
  },
  {
   "cell_type": "markdown",
   "id": "choice-reputation",
   "metadata": {},
   "source": [
    "# set panel id as \"id\" and \"year\" befpre checking the table"
   ]
  },
  {
   "cell_type": "code",
   "execution_count": 9,
   "id": "oriental-desire",
   "metadata": {},
   "outputs": [],
   "source": [
    "data = data.set_index(['id', 'year'])"
   ]
  },
  {
   "cell_type": "code",
   "execution_count": 10,
   "id": "blond-conditioning",
   "metadata": {},
   "outputs": [],
   "source": [
    "data['year'] = year\n",
    "data['id']   = id"
   ]
  },
  {
   "cell_type": "code",
   "execution_count": 11,
   "id": "southwest-philip",
   "metadata": {},
   "outputs": [
    {
     "data": {
      "text/plain": [
       "CategoricalDtype(categories=[1997, 1998, 1999, 2000], ordered=False)"
      ]
     },
     "execution_count": 11,
     "metadata": {},
     "output_type": "execute_result"
    }
   ],
   "source": [
    "data['year'].dtypes"
   ]
  },
  {
   "cell_type": "code",
   "execution_count": 12,
   "id": "thrown-dinner",
   "metadata": {},
   "outputs": [
    {
     "data": {
      "text/plain": [
       "CategoricalDtype(categories=[   1,    2,    3,    4,    5,    6,    7,    8,    9,   10,\n",
       "                  ...\n",
       "                  1140, 1141, 1142, 1143, 1144, 1145, 1146, 1147, 1148, 1149],\n",
       ", ordered=False)"
      ]
     },
     "execution_count": 12,
     "metadata": {},
     "output_type": "execute_result"
    }
   ],
   "source": [
    "data['id'].dtypes"
   ]
  },
  {
   "cell_type": "markdown",
   "id": "expired-freeware",
   "metadata": {},
   "source": [
    "# Now we can check the table"
   ]
  },
  {
   "cell_type": "code",
   "execution_count": 13,
   "id": "substantial-smoke",
   "metadata": {},
   "outputs": [
    {
     "data": {
      "text/plain": [
       "<bound method NDFrame.describe of            dist  passen  fare  bmktshr     ldist  y98  y99  y00     lfare  \\\n",
       "id   year                                                                   \n",
       "1    1997   528     152   106   0.8386  6.269096    0    0    0  4.663439   \n",
       "     1998   528     265   106   0.8133  6.269096    1    0    0  4.663439   \n",
       "     1999   528     336   113   0.8262  6.269096    0    1    0  4.727388   \n",
       "     2000   528     298   123   0.8612  6.269096    0    0    1  4.812184   \n",
       "2    1997   861     282   104   0.5798  6.758094    0    0    0  4.644391   \n",
       "...         ...     ...   ...      ...       ...  ...  ...  ...       ...   \n",
       "1148 2000  1948     198   311   0.4272  7.574558    0    0    1  5.739793   \n",
       "1149 1997   857     493   147   0.7089  6.753438    0    0    0  4.990433   \n",
       "     1998   857     523   142   0.7797  6.753438    1    0    0  4.955827   \n",
       "     1999   857     441   146   0.7465  6.753438    0    1    0  4.983607   \n",
       "     2000   857     556   145   0.8122  6.753438    0    0    1  4.976734   \n",
       "\n",
       "             ldistsq  concen   lpassen  year    id  \n",
       "id   year                                           \n",
       "1    1997  39.301571  0.8386  5.023880  1997     1  \n",
       "     1998  39.301571  0.8133  5.579730  1998     1  \n",
       "     1999  39.301571  0.8262  5.817111  1999     1  \n",
       "     2000  39.301571  0.8612  5.697094  2000     1  \n",
       "2    1997  45.671837  0.5798  5.641907  1997     2  \n",
       "...              ...     ...       ...   ...   ...  \n",
       "1148 2000  57.373932  0.4272  5.288267  2000  1148  \n",
       "1149 1997  45.608925  0.7089  6.200509  1997  1149  \n",
       "     1998  45.608925  0.7797  6.259582  1998  1149  \n",
       "     1999  45.608925  0.7465  6.089045  1999  1149  \n",
       "     2000  45.608925  0.8122  6.320768  2000  1149  \n",
       "\n",
       "[4596 rows x 14 columns]>"
      ]
     },
     "execution_count": 13,
     "metadata": {},
     "output_type": "execute_result"
    }
   ],
   "source": [
    "data.describe"
   ]
  },
  {
   "cell_type": "code",
   "execution_count": 14,
   "id": "threaded-capture",
   "metadata": {},
   "outputs": [
    {
     "data": {
      "text/html": [
       "<div>\n",
       "<style scoped>\n",
       "    .dataframe tbody tr th:only-of-type {\n",
       "        vertical-align: middle;\n",
       "    }\n",
       "\n",
       "    .dataframe tbody tr th {\n",
       "        vertical-align: top;\n",
       "    }\n",
       "\n",
       "    .dataframe thead th {\n",
       "        text-align: right;\n",
       "    }\n",
       "</style>\n",
       "<table border=\"1\" class=\"dataframe\">\n",
       "  <thead>\n",
       "    <tr style=\"text-align: right;\">\n",
       "      <th></th>\n",
       "      <th></th>\n",
       "      <th>dist</th>\n",
       "      <th>passen</th>\n",
       "      <th>fare</th>\n",
       "      <th>bmktshr</th>\n",
       "      <th>ldist</th>\n",
       "      <th>y98</th>\n",
       "      <th>y99</th>\n",
       "      <th>y00</th>\n",
       "      <th>lfare</th>\n",
       "      <th>ldistsq</th>\n",
       "      <th>concen</th>\n",
       "      <th>lpassen</th>\n",
       "      <th>year</th>\n",
       "      <th>id</th>\n",
       "    </tr>\n",
       "    <tr>\n",
       "      <th>id</th>\n",
       "      <th>year</th>\n",
       "      <th></th>\n",
       "      <th></th>\n",
       "      <th></th>\n",
       "      <th></th>\n",
       "      <th></th>\n",
       "      <th></th>\n",
       "      <th></th>\n",
       "      <th></th>\n",
       "      <th></th>\n",
       "      <th></th>\n",
       "      <th></th>\n",
       "      <th></th>\n",
       "      <th></th>\n",
       "      <th></th>\n",
       "    </tr>\n",
       "  </thead>\n",
       "  <tbody>\n",
       "    <tr>\n",
       "      <th rowspan=\"4\" valign=\"top\">1</th>\n",
       "      <th>1997</th>\n",
       "      <td>528</td>\n",
       "      <td>152</td>\n",
       "      <td>106</td>\n",
       "      <td>0.8386</td>\n",
       "      <td>6.269096</td>\n",
       "      <td>0</td>\n",
       "      <td>0</td>\n",
       "      <td>0</td>\n",
       "      <td>4.663439</td>\n",
       "      <td>39.301571</td>\n",
       "      <td>0.8386</td>\n",
       "      <td>5.023880</td>\n",
       "      <td>1997</td>\n",
       "      <td>1</td>\n",
       "    </tr>\n",
       "    <tr>\n",
       "      <th>1998</th>\n",
       "      <td>528</td>\n",
       "      <td>265</td>\n",
       "      <td>106</td>\n",
       "      <td>0.8133</td>\n",
       "      <td>6.269096</td>\n",
       "      <td>1</td>\n",
       "      <td>0</td>\n",
       "      <td>0</td>\n",
       "      <td>4.663439</td>\n",
       "      <td>39.301571</td>\n",
       "      <td>0.8133</td>\n",
       "      <td>5.579730</td>\n",
       "      <td>1998</td>\n",
       "      <td>1</td>\n",
       "    </tr>\n",
       "    <tr>\n",
       "      <th>1999</th>\n",
       "      <td>528</td>\n",
       "      <td>336</td>\n",
       "      <td>113</td>\n",
       "      <td>0.8262</td>\n",
       "      <td>6.269096</td>\n",
       "      <td>0</td>\n",
       "      <td>1</td>\n",
       "      <td>0</td>\n",
       "      <td>4.727388</td>\n",
       "      <td>39.301571</td>\n",
       "      <td>0.8262</td>\n",
       "      <td>5.817111</td>\n",
       "      <td>1999</td>\n",
       "      <td>1</td>\n",
       "    </tr>\n",
       "    <tr>\n",
       "      <th>2000</th>\n",
       "      <td>528</td>\n",
       "      <td>298</td>\n",
       "      <td>123</td>\n",
       "      <td>0.8612</td>\n",
       "      <td>6.269096</td>\n",
       "      <td>0</td>\n",
       "      <td>0</td>\n",
       "      <td>1</td>\n",
       "      <td>4.812184</td>\n",
       "      <td>39.301571</td>\n",
       "      <td>0.8612</td>\n",
       "      <td>5.697094</td>\n",
       "      <td>2000</td>\n",
       "      <td>1</td>\n",
       "    </tr>\n",
       "    <tr>\n",
       "      <th>2</th>\n",
       "      <th>1997</th>\n",
       "      <td>861</td>\n",
       "      <td>282</td>\n",
       "      <td>104</td>\n",
       "      <td>0.5798</td>\n",
       "      <td>6.758094</td>\n",
       "      <td>0</td>\n",
       "      <td>0</td>\n",
       "      <td>0</td>\n",
       "      <td>4.644391</td>\n",
       "      <td>45.671837</td>\n",
       "      <td>0.5798</td>\n",
       "      <td>5.641907</td>\n",
       "      <td>1997</td>\n",
       "      <td>2</td>\n",
       "    </tr>\n",
       "  </tbody>\n",
       "</table>\n",
       "</div>"
      ],
      "text/plain": [
       "         dist  passen  fare  bmktshr     ldist  y98  y99  y00     lfare  \\\n",
       "id year                                                                   \n",
       "1  1997   528     152   106   0.8386  6.269096    0    0    0  4.663439   \n",
       "   1998   528     265   106   0.8133  6.269096    1    0    0  4.663439   \n",
       "   1999   528     336   113   0.8262  6.269096    0    1    0  4.727388   \n",
       "   2000   528     298   123   0.8612  6.269096    0    0    1  4.812184   \n",
       "2  1997   861     282   104   0.5798  6.758094    0    0    0  4.644391   \n",
       "\n",
       "           ldistsq  concen   lpassen  year id  \n",
       "id year                                        \n",
       "1  1997  39.301571  0.8386  5.023880  1997  1  \n",
       "   1998  39.301571  0.8133  5.579730  1998  1  \n",
       "   1999  39.301571  0.8262  5.817111  1999  1  \n",
       "   2000  39.301571  0.8612  5.697094  2000  1  \n",
       "2  1997  45.671837  0.5798  5.641907  1997  2  "
      ]
     },
     "execution_count": 14,
     "metadata": {},
     "output_type": "execute_result"
    }
   ],
   "source": [
    "data.head()"
   ]
  },
  {
   "cell_type": "code",
   "execution_count": 15,
   "id": "physical-ensemble",
   "metadata": {},
   "outputs": [
    {
     "data": {
      "text/html": [
       "<div>\n",
       "<style scoped>\n",
       "    .dataframe tbody tr th:only-of-type {\n",
       "        vertical-align: middle;\n",
       "    }\n",
       "\n",
       "    .dataframe tbody tr th {\n",
       "        vertical-align: top;\n",
       "    }\n",
       "\n",
       "    .dataframe thead th {\n",
       "        text-align: right;\n",
       "    }\n",
       "</style>\n",
       "<table border=\"1\" class=\"dataframe\">\n",
       "  <thead>\n",
       "    <tr style=\"text-align: right;\">\n",
       "      <th></th>\n",
       "      <th></th>\n",
       "      <th>dist</th>\n",
       "      <th>passen</th>\n",
       "      <th>fare</th>\n",
       "      <th>bmktshr</th>\n",
       "      <th>ldist</th>\n",
       "      <th>y98</th>\n",
       "      <th>y99</th>\n",
       "      <th>y00</th>\n",
       "      <th>lfare</th>\n",
       "      <th>ldistsq</th>\n",
       "      <th>concen</th>\n",
       "      <th>lpassen</th>\n",
       "      <th>year</th>\n",
       "      <th>id</th>\n",
       "    </tr>\n",
       "    <tr>\n",
       "      <th>id</th>\n",
       "      <th>year</th>\n",
       "      <th></th>\n",
       "      <th></th>\n",
       "      <th></th>\n",
       "      <th></th>\n",
       "      <th></th>\n",
       "      <th></th>\n",
       "      <th></th>\n",
       "      <th></th>\n",
       "      <th></th>\n",
       "      <th></th>\n",
       "      <th></th>\n",
       "      <th></th>\n",
       "      <th></th>\n",
       "      <th></th>\n",
       "    </tr>\n",
       "  </thead>\n",
       "  <tbody>\n",
       "    <tr>\n",
       "      <th>1148</th>\n",
       "      <th>2000</th>\n",
       "      <td>1948</td>\n",
       "      <td>198</td>\n",
       "      <td>311</td>\n",
       "      <td>0.4272</td>\n",
       "      <td>7.574558</td>\n",
       "      <td>0</td>\n",
       "      <td>0</td>\n",
       "      <td>1</td>\n",
       "      <td>5.739793</td>\n",
       "      <td>57.373932</td>\n",
       "      <td>0.4272</td>\n",
       "      <td>5.288267</td>\n",
       "      <td>2000</td>\n",
       "      <td>1148</td>\n",
       "    </tr>\n",
       "    <tr>\n",
       "      <th rowspan=\"4\" valign=\"top\">1149</th>\n",
       "      <th>1997</th>\n",
       "      <td>857</td>\n",
       "      <td>493</td>\n",
       "      <td>147</td>\n",
       "      <td>0.7089</td>\n",
       "      <td>6.753438</td>\n",
       "      <td>0</td>\n",
       "      <td>0</td>\n",
       "      <td>0</td>\n",
       "      <td>4.990433</td>\n",
       "      <td>45.608925</td>\n",
       "      <td>0.7089</td>\n",
       "      <td>6.200509</td>\n",
       "      <td>1997</td>\n",
       "      <td>1149</td>\n",
       "    </tr>\n",
       "    <tr>\n",
       "      <th>1998</th>\n",
       "      <td>857</td>\n",
       "      <td>523</td>\n",
       "      <td>142</td>\n",
       "      <td>0.7797</td>\n",
       "      <td>6.753438</td>\n",
       "      <td>1</td>\n",
       "      <td>0</td>\n",
       "      <td>0</td>\n",
       "      <td>4.955827</td>\n",
       "      <td>45.608925</td>\n",
       "      <td>0.7797</td>\n",
       "      <td>6.259582</td>\n",
       "      <td>1998</td>\n",
       "      <td>1149</td>\n",
       "    </tr>\n",
       "    <tr>\n",
       "      <th>1999</th>\n",
       "      <td>857</td>\n",
       "      <td>441</td>\n",
       "      <td>146</td>\n",
       "      <td>0.7465</td>\n",
       "      <td>6.753438</td>\n",
       "      <td>0</td>\n",
       "      <td>1</td>\n",
       "      <td>0</td>\n",
       "      <td>4.983607</td>\n",
       "      <td>45.608925</td>\n",
       "      <td>0.7465</td>\n",
       "      <td>6.089045</td>\n",
       "      <td>1999</td>\n",
       "      <td>1149</td>\n",
       "    </tr>\n",
       "    <tr>\n",
       "      <th>2000</th>\n",
       "      <td>857</td>\n",
       "      <td>556</td>\n",
       "      <td>145</td>\n",
       "      <td>0.8122</td>\n",
       "      <td>6.753438</td>\n",
       "      <td>0</td>\n",
       "      <td>0</td>\n",
       "      <td>1</td>\n",
       "      <td>4.976734</td>\n",
       "      <td>45.608925</td>\n",
       "      <td>0.8122</td>\n",
       "      <td>6.320768</td>\n",
       "      <td>2000</td>\n",
       "      <td>1149</td>\n",
       "    </tr>\n",
       "  </tbody>\n",
       "</table>\n",
       "</div>"
      ],
      "text/plain": [
       "           dist  passen  fare  bmktshr     ldist  y98  y99  y00     lfare  \\\n",
       "id   year                                                                   \n",
       "1148 2000  1948     198   311   0.4272  7.574558    0    0    1  5.739793   \n",
       "1149 1997   857     493   147   0.7089  6.753438    0    0    0  4.990433   \n",
       "     1998   857     523   142   0.7797  6.753438    1    0    0  4.955827   \n",
       "     1999   857     441   146   0.7465  6.753438    0    1    0  4.983607   \n",
       "     2000   857     556   145   0.8122  6.753438    0    0    1  4.976734   \n",
       "\n",
       "             ldistsq  concen   lpassen  year    id  \n",
       "id   year                                           \n",
       "1148 2000  57.373932  0.4272  5.288267  2000  1148  \n",
       "1149 1997  45.608925  0.7089  6.200509  1997  1149  \n",
       "     1998  45.608925  0.7797  6.259582  1998  1149  \n",
       "     1999  45.608925  0.7465  6.089045  1999  1149  \n",
       "     2000  45.608925  0.8122  6.320768  2000  1149  "
      ]
     },
     "execution_count": 15,
     "metadata": {},
     "output_type": "execute_result"
    }
   ],
   "source": [
    "data.tail()"
   ]
  },
  {
   "cell_type": "markdown",
   "id": "structural-helmet",
   "metadata": {},
   "source": [
    "# this is extremely important in database management (we can extract subtable exactly based on the panel id now)\n",
    "\n",
    "---\n",
    "\n",
    "# Now, let's do Pooled OLS"
   ]
  },
  {
   "cell_type": "code",
   "execution_count": 16,
   "id": "seventh-canberra",
   "metadata": {},
   "outputs": [
    {
     "name": "stdout",
     "output_type": "stream",
     "text": [
      "                          PooledOLS Estimation Summary                          \n",
      "================================================================================\n",
      "Dep. Variable:                  lfare   R-squared:                        0.4062\n",
      "Estimator:                  PooledOLS   R-squared (Between):              0.4215\n",
      "No. Observations:                4596   R-squared (Within):               0.1246\n",
      "Date:                Thu, Oct 07 2021   R-squared (Overall):              0.4062\n",
      "Time:                        07:42:17   Log-likelihood                   -1512.3\n",
      "Cov. Estimator:            Unadjusted                                           \n",
      "                                        F-statistic:                      523.18\n",
      "Entities:                        1149   P-value                           0.0000\n",
      "Avg Obs:                       4.0000   Distribution:                  F(6,4589)\n",
      "Min Obs:                       4.0000                                           \n",
      "Max Obs:                       4.0000   F-statistic (robust):             523.18\n",
      "                                        P-value                           0.0000\n",
      "Time periods:                       4   Distribution:                  F(6,4589)\n",
      "Avg Obs:                       1149.0                                           \n",
      "Min Obs:                       1149.0                                           \n",
      "Max Obs:                       1149.0                                           \n",
      "                                                                                \n",
      "                             Parameter Estimates                              \n",
      "==============================================================================\n",
      "            Parameter  Std. Err.     T-stat    P-value    Lower CI    Upper CI\n",
      "------------------------------------------------------------------------------\n",
      "const          6.2093     0.4206     14.762     0.0000      5.3846      7.0339\n",
      "y98            0.0211     0.0140     1.5044     0.1326     -0.0064      0.0487\n",
      "y99            0.0378     0.0140     2.6956     0.0071      0.0103      0.0654\n",
      "y00            0.0999     0.0140     7.1116     0.0000      0.0723      0.1274\n",
      "concen         0.3601     0.0301     11.976     0.0000      0.3012      0.4191\n",
      "ldist         -0.9016     0.1283    -7.0288     0.0000     -1.1531     -0.6501\n",
      "ldistsq        0.1030     0.0097     10.593     0.0000      0.0840      0.1221\n",
      "==============================================================================\n"
     ]
    },
    {
     "name": "stderr",
     "output_type": "stream",
     "text": [
      "/usr/local/Caskroom/miniforge/base/lib/python3.9/site-packages/statsmodels/tsa/tsatools.py:142: FutureWarning: In a future version of pandas all arguments of concat except for the argument 'objs' will be keyword-only\n",
      "  x = pd.concat(x[::order], 1)\n"
     ]
    }
   ],
   "source": [
    "exog_vars = ['y98','y99','y00','concen','ldist', 'ldistsq']\n",
    "exog = sm.add_constant(data[exog_vars])\n",
    "mod_ols = PooledOLS(data.lfare, exog)\n",
    "pooled_res = mod_ols.fit()\n",
    "print(pooled_res)    "
   ]
  },
  {
   "cell_type": "markdown",
   "id": "ab283226-1292-46f1-b85c-e1d32f40d1d3",
   "metadata": {
    "tags": []
   },
   "source": [
    "# now let's run OLS with robust se"
   ]
  },
  {
   "cell_type": "code",
   "execution_count": 17,
   "id": "79f368cf-30e1-42a6-9dba-702602061185",
   "metadata": {},
   "outputs": [
    {
     "name": "stdout",
     "output_type": "stream",
     "text": [
      "                          PooledOLS Estimation Summary                          \n",
      "================================================================================\n",
      "Dep. Variable:                  lfare   R-squared:                        0.4062\n",
      "Estimator:                  PooledOLS   R-squared (Between):              0.4215\n",
      "No. Observations:                4596   R-squared (Within):               0.1246\n",
      "Date:                Thu, Oct 07 2021   R-squared (Overall):              0.4062\n",
      "Time:                        07:43:57   Log-likelihood                   -1512.3\n",
      "Cov. Estimator:                Robust                                           \n",
      "                                        F-statistic:                      523.18\n",
      "Entities:                        1149   P-value                           0.0000\n",
      "Avg Obs:                       4.0000   Distribution:                  F(6,4589)\n",
      "Min Obs:                       4.0000                                           \n",
      "Max Obs:                       4.0000   F-statistic (robust):             558.39\n",
      "                                        P-value                           0.0000\n",
      "Time periods:                       4   Distribution:                  F(6,4589)\n",
      "Avg Obs:                       1149.0                                           \n",
      "Min Obs:                       1149.0                                           \n",
      "Max Obs:                       1149.0                                           \n",
      "                                                                                \n",
      "                             Parameter Estimates                              \n",
      "==============================================================================\n",
      "            Parameter  Std. Err.     T-stat    P-value    Lower CI    Upper CI\n",
      "------------------------------------------------------------------------------\n",
      "const          6.2093     0.4711     13.179     0.0000      5.2856      7.1329\n",
      "y98            0.0211     0.0142     1.4904     0.1362     -0.0067      0.0489\n",
      "y99            0.0378     0.0144     2.6282     0.0086      0.0096      0.0661\n",
      "y00            0.0999     0.0144     6.9441     0.0000      0.0717      0.1281\n",
      "concen         0.3601     0.0318     11.319     0.0000      0.2977      0.4225\n",
      "ldist         -0.9016     0.1407    -6.4100     0.0000     -1.1774     -0.6259\n",
      "ldistsq        0.1030     0.0104     9.8676     0.0000      0.0826      0.1235\n",
      "==============================================================================\n"
     ]
    }
   ],
   "source": [
    "mod_ols_robust = PooledOLS(data.lfare, exog)\n",
    "pooled_robust_res = mod_ols_robust.fit(cov_type='robust')\n",
    "print(pooled_robust_res)    "
   ]
  },
  {
   "cell_type": "markdown",
   "id": "ca6978ea-1ac5-4f07-b43d-282beb8cb4f2",
   "metadata": {},
   "source": [
    "# now let's compare two results"
   ]
  },
  {
   "cell_type": "code",
   "execution_count": 20,
   "id": "b4df1f7f-3ebd-4a73-a5a8-9be943b3eb43",
   "metadata": {},
   "outputs": [
    {
     "name": "stdout",
     "output_type": "stream",
     "text": [
      "                Model Comparison               \n",
      "===============================================\n",
      "                      unadjusted se   robust se\n",
      "-----------------------------------------------\n",
      "Dep. Variable                 lfare       lfare\n",
      "Estimator                 PooledOLS   PooledOLS\n",
      "No. Observations               4596        4596\n",
      "Cov. Est.                Unadjusted      Robust\n",
      "R-squared                    0.4062      0.4062\n",
      "R-Squared (Within)           0.1246      0.1246\n",
      "R-Squared (Between)          0.4215      0.4215\n",
      "R-Squared (Overall)          0.4062      0.4062\n",
      "F-statistic                  523.18      523.18\n",
      "P-value (F-stat)             0.0000      0.0000\n",
      "=====================  ============ ===========\n",
      "const                        6.2093      6.2093\n",
      "                           (14.762)    (13.179)\n",
      "y98                          0.0211      0.0211\n",
      "                           (1.5044)    (1.4904)\n",
      "y99                          0.0378      0.0378\n",
      "                           (2.6956)    (2.6282)\n",
      "y00                          0.0999      0.0999\n",
      "                           (7.1116)    (6.9441)\n",
      "concen                       0.3601      0.3601\n",
      "                           (11.976)    (11.319)\n",
      "ldist                       -0.9016     -0.9016\n",
      "                          (-7.0288)   (-6.4100)\n",
      "ldistsq                      0.1030      0.1030\n",
      "                           (10.593)    (9.8676)\n",
      "-----------------------------------------------\n",
      "\n",
      "T-stats reported in parentheses\n"
     ]
    }
   ],
   "source": [
    "print(compare({\"unadjusted se\": pooled_res, \"robust se\": pooled_robust_res}))"
   ]
  },
  {
   "cell_type": "markdown",
   "id": "899d89eb-1b05-4944-8e6e-41e1209076ca",
   "metadata": {},
   "source": [
    "# it seems that the se does not change too much, we need to check whether we truly need robust standard error (or it is just waste of degrees of freedom)"
   ]
  },
  {
   "cell_type": "markdown",
   "id": "blessed-sierra",
   "metadata": {},
   "source": [
    "# check homoskedasticity : residuals-Plot for growing variance Detection\n",
    "\n",
    "* you can find that, as the predicted value increases, residual bandwidth changes\n",
    "* hence, you need to use robust se"
   ]
  },
  {
   "cell_type": "code",
   "execution_count": 17,
   "id": "controversial-cross",
   "metadata": {},
   "outputs": [
    {
     "data": {
      "image/png": "[encoded data removed]",
      "text/plain": [
       "<Figure size 432x288 with 1 Axes>"
      ]
     },
     "metadata": {
      "needs_background": "light"
     },
     "output_type": "display_data"
    }
   ],
   "source": [
    "fittedvals_pooled_OLS = pooled_res.predict().fitted_values\n",
    "residuals_pooled_OLS  = pooled_res.resids\n",
    "\n",
    "fig, ax = plt.subplots()\n",
    "ax.scatter(fittedvals_pooled_OLS, residuals_pooled_OLS, color = 'blue')\n",
    "ax.axhline(0, color = 'r', ls = '--')\n",
    "ax.set_xlabel('Predicted Values', fontsize = 15)\n",
    "ax.set_ylabel('Residuals', fontsize = 15)\n",
    "ax.set_title('Homoskedasticity Test', fontsize = 30)\n",
    "plt.show()"
   ]
  },
  {
   "cell_type": "markdown",
   "id": "everyday-scanner",
   "metadata": {},
   "source": [
    "## White-Test"
   ]
  },
  {
   "cell_type": "code",
   "execution_count": 18,
   "id": "featured-season",
   "metadata": {},
   "outputs": [
    {
     "name": "stdout",
     "output_type": "stream",
     "text": [
      "{'LM-Stat': 983.7535917318074, 'LM p-val': 8.079279422055675e-195, 'F-Stat': 59.31790834383884, 'F p-val': 1.9424740348367944e-220}\n"
     ]
    }
   ],
   "source": [
    "pooled_OLS_dataset = pd.concat([data, residuals_pooled_OLS], axis=1)\n",
    "white_test_results = het_white(pooled_OLS_dataset['residual'], exog)\n",
    "labels = ['LM-Stat', 'LM p-val', 'F-Stat', 'F p-val'] \n",
    "print(dict(zip(labels, white_test_results)))"
   ]
  },
  {
   "cell_type": "markdown",
   "id": "adjusted-front",
   "metadata": {},
   "source": [
    "## Breusch-Pagan-Test"
   ]
  },
  {
   "cell_type": "code",
   "execution_count": 19,
   "id": "native-integral",
   "metadata": {},
   "outputs": [
    {
     "name": "stdout",
     "output_type": "stream",
     "text": [
      "{'LM-Stat': 873.0391972575623, 'LM p-val': 2.5287993424272127e-185, 'F-Stat': 179.35442105038828, 'F p-val': 1.1283892993106912e-205}\n"
     ]
    }
   ],
   "source": [
    "breusch_pagan_test_results = het_breuschpagan(pooled_OLS_dataset['residual'], exog)\n",
    "print(dict(zip(labels, breusch_pagan_test_results)))"
   ]
  },
  {
   "cell_type": "markdown",
   "id": "competitive-evaluation",
   "metadata": {},
   "source": [
    "## In simple terms, if p < 0.05, then heteroskedasticity is indicated. Both tests give very small p-values. Hence, we have heteroskedasticity"
   ]
  },
  {
   "cell_type": "markdown",
   "id": "regulated-final",
   "metadata": {},
   "source": [
    "# now check autocorrelation\n",
    "## Durbin-Watson-Test"
   ]
  },
  {
   "cell_type": "code",
   "execution_count": 20,
   "id": "floppy-skirt",
   "metadata": {},
   "outputs": [
    {
     "name": "stdout",
     "output_type": "stream",
     "text": [
      "0.5012862296798662\n"
     ]
    }
   ],
   "source": [
    "durbin_watson_test_results = durbin_watson(pooled_OLS_dataset['residual']) \n",
    "print(durbin_watson_test_results)"
   ]
  },
  {
   "cell_type": "markdown",
   "id": "requested-coaching",
   "metadata": {},
   "source": [
    "## The Durbin-Watson-Test will have one output between $0$ and $4$. The mean $(= 2)$ would indicate that there is no autocorrelation identified, $0$ to $2$ means positive autocorrelation (the nearer to zero the higher the correlation), and $2$ to $4$ means negative autocorrelation (the nearer to four the higher the correlation). In our example, the result is $0.5$, which clearly indicates strong positive autocorrelation."
   ]
  },
  {
   "cell_type": "markdown",
   "id": "d92754de-c707-407e-9685-497c10daa4ef",
   "metadata": {},
   "source": [
    "# hence, we need robust se, even though it does not bring too much change\n",
    "\n",
    "---"
   ]
  },
  {
   "cell_type": "markdown",
   "id": "dietary-quantity",
   "metadata": {},
   "source": [
    "# Random effect"
   ]
  },
  {
   "cell_type": "code",
   "execution_count": 23,
   "id": "blond-mozambique",
   "metadata": {},
   "outputs": [
    {
     "name": "stdout",
     "output_type": "stream",
     "text": [
      "                        RandomEffects Estimation Summary                        \n",
      "================================================================================\n",
      "Dep. Variable:                  lfare   R-squared:                        0.2285\n",
      "Estimator:              RandomEffects   R-squared (Between):              0.4175\n",
      "No. Observations:                4596   R-squared (Within):               0.1348\n",
      "Date:                Thu, Oct 07 2021   R-squared (Overall):              0.4029\n",
      "Time:                        07:59:36   Log-likelihood                    3771.5\n",
      "Cov. Estimator:            Unadjusted                                           \n",
      "                                        F-statistic:                      226.57\n",
      "Entities:                        1149   P-value                           0.0000\n",
      "Avg Obs:                       4.0000   Distribution:                  F(6,4589)\n",
      "Min Obs:                       4.0000                                           \n",
      "Max Obs:                       4.0000   F-statistic (robust):             226.57\n",
      "                                        P-value                           0.0000\n",
      "Time periods:                       4   Distribution:                  F(6,4589)\n",
      "Avg Obs:                       1149.0                                           \n",
      "Min Obs:                       1149.0                                           \n",
      "Max Obs:                       1149.0                                           \n",
      "                                                                                \n",
      "                             Parameter Estimates                              \n",
      "==============================================================================\n",
      "            Parameter  Std. Err.     T-stat    P-value    Lower CI    Upper CI\n",
      "------------------------------------------------------------------------------\n",
      "const          6.2220     0.8106     7.6759     0.0000      4.6329      7.8112\n",
      "y98            0.0225     0.0045     5.0468     0.0000      0.0137      0.0312\n",
      "y99            0.0367     0.0045     8.2418     0.0000      0.0280      0.0454\n",
      "y00            0.0982     0.0045     22.038     0.0000      0.0895      0.1069\n",
      "concen         0.2089     0.0265     7.8757     0.0000      0.1569      0.2609\n",
      "ldist         -0.8521     0.2467    -3.4543     0.0006     -1.3357     -0.3685\n",
      "ldistsq        0.0975     0.0187     5.2256     0.0000      0.0609      0.1340\n",
      "==============================================================================\n"
     ]
    }
   ],
   "source": [
    "mod_re = RandomEffects(data.lfare, exog)\n",
    "re_res = mod_re.fit()\n",
    "print(re_res)"
   ]
  },
  {
   "cell_type": "code",
   "execution_count": 24,
   "id": "7263dd40-6b38-44f5-8eb7-ae731cf1cde3",
   "metadata": {},
   "outputs": [
    {
     "name": "stdout",
     "output_type": "stream",
     "text": [
      "                        RandomEffects Estimation Summary                        \n",
      "================================================================================\n",
      "Dep. Variable:                  lfare   R-squared:                        0.2285\n",
      "Estimator:              RandomEffects   R-squared (Between):              0.4175\n",
      "No. Observations:                4596   R-squared (Within):               0.1348\n",
      "Date:                Thu, Oct 07 2021   R-squared (Overall):              0.4029\n",
      "Time:                        07:59:39   Log-likelihood                    3771.5\n",
      "Cov. Estimator:                Robust                                           \n",
      "                                        F-statistic:                      226.57\n",
      "Entities:                        1149   P-value                           0.0000\n",
      "Avg Obs:                       4.0000   Distribution:                  F(6,4589)\n",
      "Min Obs:                       4.0000                                           \n",
      "Max Obs:                       4.0000   F-statistic (robust):             210.08\n",
      "                                        P-value                           0.0000\n",
      "Time periods:                       4   Distribution:                  F(6,4589)\n",
      "Avg Obs:                       1149.0                                           \n",
      "Min Obs:                       1149.0                                           \n",
      "Max Obs:                       1149.0                                           \n",
      "                                                                                \n",
      "                             Parameter Estimates                              \n",
      "==============================================================================\n",
      "            Parameter  Std. Err.     T-stat    P-value    Lower CI    Upper CI\n",
      "------------------------------------------------------------------------------\n",
      "const          6.2220     0.8598     7.2369     0.0000      4.5365      7.9076\n",
      "y98            0.0225     0.0047     4.8014     0.0000      0.0133      0.0317\n",
      "y99            0.0367     0.0048     7.6681     0.0000      0.0273      0.0461\n",
      "y00            0.0982     0.0050     19.706     0.0000      0.0884      0.1080\n",
      "concen         0.2089     0.0328     6.3684     0.0000      0.1446      0.2732\n",
      "ldist         -0.8521     0.2583    -3.2984     0.0010     -1.3585     -0.3456\n",
      "ldistsq        0.0975     0.0193     5.0468     0.0000      0.0596      0.1353\n",
      "==============================================================================\n"
     ]
    }
   ],
   "source": [
    "re_res_rb = mod_re.fit(cov_type='robust')\n",
    "print(re_res_rb)"
   ]
  },
  {
   "cell_type": "markdown",
   "id": "narrative-india",
   "metadata": {},
   "source": [
    "# now, we can decompose the total variance of Y into 2 parts\n",
    "\n",
    "* the variance of Y explained by the effects\n",
    "* the variance of Y that cannot be expalined"
   ]
  },
  {
   "cell_type": "code",
   "execution_count": 25,
   "id": "monetary-christmas",
   "metadata": {},
   "outputs": [
    {
     "name": "stdout",
     "output_type": "stream",
     "text": [
      "the total variance of Y is  0.19040347706674826\n"
     ]
    }
   ],
   "source": [
    "print(\"the total variance of Y is \", np.var(data.lfare))"
   ]
  },
  {
   "cell_type": "code",
   "execution_count": 26,
   "id": "coral-manhattan",
   "metadata": {},
   "outputs": [
    {
     "data": {
      "text/plain": [
       "Effects                   0.102251\n",
       "Residual                  0.011351\n",
       "Percent due to Effects    0.900078\n",
       "Name: Variance Decomposition, dtype: float64"
      ]
     },
     "execution_count": 26,
     "metadata": {},
     "output_type": "execute_result"
    }
   ],
   "source": [
    "re_res.variance_decomposition"
   ]
  },
  {
   "cell_type": "markdown",
   "id": "involved-marijuana",
   "metadata": {},
   "source": [
    "## The coefficient $\\theta_i$ determines how much demeaning takes place. When this value is 1, the RE model reduces to the pooled model since this occurs when there is no variance in the effects. When panels are unbalanced it will vary across entities, but in this balanced panel all values are the same."
   ]
  },
  {
   "cell_type": "code",
   "execution_count": 27,
   "id": "sought-challenge",
   "metadata": {},
   "outputs": [
    {
     "data": {
      "text/html": [
       "<div>\n",
       "<style scoped>\n",
       "    .dataframe tbody tr th:only-of-type {\n",
       "        vertical-align: middle;\n",
       "    }\n",
       "\n",
       "    .dataframe tbody tr th {\n",
       "        vertical-align: top;\n",
       "    }\n",
       "\n",
       "    .dataframe thead th {\n",
       "        text-align: right;\n",
       "    }\n",
       "</style>\n",
       "<table border=\"1\" class=\"dataframe\">\n",
       "  <thead>\n",
       "    <tr style=\"text-align: right;\">\n",
       "      <th></th>\n",
       "      <th>theta</th>\n",
       "    </tr>\n",
       "    <tr>\n",
       "      <th>id</th>\n",
       "      <th></th>\n",
       "    </tr>\n",
       "  </thead>\n",
       "  <tbody>\n",
       "    <tr>\n",
       "      <th>1</th>\n",
       "      <td>0.83567</td>\n",
       "    </tr>\n",
       "    <tr>\n",
       "      <th>2</th>\n",
       "      <td>0.83567</td>\n",
       "    </tr>\n",
       "    <tr>\n",
       "      <th>3</th>\n",
       "      <td>0.83567</td>\n",
       "    </tr>\n",
       "    <tr>\n",
       "      <th>4</th>\n",
       "      <td>0.83567</td>\n",
       "    </tr>\n",
       "    <tr>\n",
       "      <th>5</th>\n",
       "      <td>0.83567</td>\n",
       "    </tr>\n",
       "  </tbody>\n",
       "</table>\n",
       "</div>"
      ],
      "text/plain": [
       "      theta\n",
       "id         \n",
       "1   0.83567\n",
       "2   0.83567\n",
       "3   0.83567\n",
       "4   0.83567\n",
       "5   0.83567"
      ]
     },
     "execution_count": 27,
     "metadata": {},
     "output_type": "execute_result"
    }
   ],
   "source": [
    "re_res.theta.head()"
   ]
  },
  {
   "cell_type": "markdown",
   "id": "increased-patio",
   "metadata": {},
   "source": [
    "# Now, let's do fixed effect"
   ]
  },
  {
   "cell_type": "code",
   "execution_count": 28,
   "id": "timely-yellow",
   "metadata": {},
   "outputs": [
    {
     "name": "stdout",
     "output_type": "stream",
     "text": [
      "                          PanelOLS Estimation Summary                           \n",
      "================================================================================\n",
      "Dep. Variable:                  lfare   R-squared:                        0.1352\n",
      "Estimator:                   PanelOLS   R-squared (Between):             -0.0417\n",
      "No. Observations:                4596   R-squared (Within):               0.1352\n",
      "Date:                Thu, Oct 07 2021   R-squared (Overall):             -0.0325\n",
      "Time:                        07:59:53   Log-likelihood                    4435.1\n",
      "Cov. Estimator:            Unadjusted                                           \n",
      "                                        F-statistic:                      134.61\n",
      "Entities:                        1149   P-value                           0.0000\n",
      "Avg Obs:                       4.0000   Distribution:                  F(4,3443)\n",
      "Min Obs:                       4.0000                                           \n",
      "Max Obs:                       4.0000   F-statistic (robust):             134.61\n",
      "                                        P-value                           0.0000\n",
      "Time periods:                       4   Distribution:                  F(4,3443)\n",
      "Avg Obs:                       1149.0                                           \n",
      "Min Obs:                       1149.0                                           \n",
      "Max Obs:                       1149.0                                           \n",
      "                                                                                \n",
      "                             Parameter Estimates                              \n",
      "==============================================================================\n",
      "            Parameter  Std. Err.     T-stat    P-value    Lower CI    Upper CI\n",
      "------------------------------------------------------------------------------\n",
      "const          4.9533     0.0183     270.87     0.0000      4.9175      4.9892\n",
      "y98            0.0228     0.0045     5.1292     0.0000      0.0141      0.0316\n",
      "y99            0.0364     0.0044     8.1766     0.0000      0.0277      0.0451\n",
      "y00            0.0978     0.0045     21.944     0.0000      0.0890      0.1065\n",
      "concen         0.1689     0.0294     5.7415     0.0000      0.1112      0.2265\n",
      "==============================================================================\n",
      "\n",
      "F-test for Poolability: 60.521\n",
      "P-value: 0.0000\n",
      "Distribution: F(1148,3443)\n",
      "\n",
      "Included effects: Entity\n"
     ]
    },
    {
     "name": "stderr",
     "output_type": "stream",
     "text": [
      "/usr/local/Caskroom/miniforge/base/lib/python3.9/site-packages/statsmodels/tsa/tsatools.py:142: FutureWarning: In a future version of pandas all arguments of concat except for the argument 'objs' will be keyword-only\n",
      "  x = pd.concat(x[::order], 1)\n"
     ]
    }
   ],
   "source": [
    "exog_vars = ['y98','y99','y00','concen']\n",
    "exog = sm.add_constant(data[exog_vars])\n",
    "mod_fe = PanelOLS(data.lfare, exog, entity_effects=True)\n",
    "fe_res = mod_fe.fit()\n",
    "print(fe_res)"
   ]
  },
  {
   "cell_type": "code",
   "execution_count": 29,
   "id": "234ea656-234c-41b3-aebb-9649dac33a3c",
   "metadata": {},
   "outputs": [
    {
     "name": "stdout",
     "output_type": "stream",
     "text": [
      "                          PanelOLS Estimation Summary                           \n",
      "================================================================================\n",
      "Dep. Variable:                  lfare   R-squared:                        0.1352\n",
      "Estimator:                   PanelOLS   R-squared (Between):             -0.0417\n",
      "No. Observations:                4596   R-squared (Within):               0.1352\n",
      "Date:                Thu, Oct 07 2021   R-squared (Overall):             -0.0325\n",
      "Time:                        08:00:19   Log-likelihood                    4435.1\n",
      "Cov. Estimator:                Robust                                           \n",
      "                                        F-statistic:                      134.61\n",
      "Entities:                        1149   P-value                           0.0000\n",
      "Avg Obs:                       4.0000   Distribution:                  F(4,3443)\n",
      "Min Obs:                       4.0000                                           \n",
      "Max Obs:                       4.0000   F-statistic (robust):             120.79\n",
      "                                        P-value                           0.0000\n",
      "Time periods:                       4   Distribution:                  F(4,3443)\n",
      "Avg Obs:                       1149.0                                           \n",
      "Min Obs:                       1149.0                                           \n",
      "Max Obs:                       1149.0                                           \n",
      "                                                                                \n",
      "                             Parameter Estimates                              \n",
      "==============================================================================\n",
      "            Parameter  Std. Err.     T-stat    P-value    Lower CI    Upper CI\n",
      "------------------------------------------------------------------------------\n",
      "const          4.9533     0.0244     202.80     0.0000      4.9054      5.0012\n",
      "y98            0.0228     0.0047     4.8649     0.0000      0.0136      0.0320\n",
      "y99            0.0364     0.0047     7.7456     0.0000      0.0272      0.0456\n",
      "y00            0.0978     0.0050     19.386     0.0000      0.0879      0.1077\n",
      "concen         0.1689     0.0403     4.1862     0.0000      0.0898      0.2479\n",
      "==============================================================================\n",
      "\n",
      "F-test for Poolability: 60.521\n",
      "P-value: 0.0000\n",
      "Distribution: F(1148,3443)\n",
      "\n",
      "Included effects: Entity\n"
     ]
    }
   ],
   "source": [
    "fe_res_rb = mod_fe.fit(cov_type='robust')\n",
    "print(fe_res_rb)"
   ]
  },
  {
   "cell_type": "code",
   "execution_count": 31,
   "id": "identified-union",
   "metadata": {
    "tags": []
   },
   "outputs": [
    {
     "name": "stdout",
     "output_type": "stream",
     "text": [
      "                                                  Model Comparison                                                  \n",
      "====================================================================================================================\n",
      "                                    FE        FE_rb                RE             RE_rb         Pooled     Pooled_rb\n",
      "--------------------------------------------------------------------------------------------------------------------\n",
      "Dep. Variable                    lfare        lfare             lfare             lfare          lfare         lfare\n",
      "Estimator                     PanelOLS     PanelOLS     RandomEffects     RandomEffects      PooledOLS     PooledOLS\n",
      "No. Observations                  4596         4596              4596              4596           4596          4596\n",
      "Cov. Est.                   Unadjusted       Robust        Unadjusted            Robust     Unadjusted        Robust\n",
      "R-squared                       0.1352       0.1352            0.2285            0.2285         0.4062        0.4062\n",
      "R-Squared (Within)              0.1352       0.1352            0.1348            0.1348         0.1246        0.1246\n",
      "R-Squared (Between)            -0.0417      -0.0417            0.4175            0.4175         0.4215        0.4215\n",
      "R-Squared (Overall)            -0.0325      -0.0325            0.4029            0.4029         0.4062        0.4062\n",
      "F-statistic                     134.61       134.61            226.57            226.57         523.18        523.18\n",
      "P-value (F-stat)                0.0000       0.0000            0.0000            0.0000         0.0000        0.0000\n",
      "=====================     ============   ==========   ===============   ===============   ============   ===========\n",
      "const                           4.9533       4.9533            6.2220            6.2220         6.2093        6.2093\n",
      "                              (270.87)     (202.80)          (7.6759)          (7.2369)       (14.762)      (13.179)\n",
      "y98                             0.0228       0.0228            0.0225            0.0225         0.0211        0.0211\n",
      "                              (5.1292)     (4.8649)          (5.0468)          (4.8014)       (1.5044)      (1.4904)\n",
      "y99                             0.0364       0.0364            0.0367            0.0367         0.0378        0.0378\n",
      "                              (8.1766)     (7.7456)          (8.2418)          (7.6681)       (2.6956)      (2.6282)\n",
      "y00                             0.0978       0.0978            0.0982            0.0982         0.0999        0.0999\n",
      "                              (21.944)     (19.386)          (22.038)          (19.706)       (7.1116)      (6.9441)\n",
      "concen                          0.1689       0.1689            0.2089            0.2089         0.3601        0.3601\n",
      "                              (5.7415)     (4.1862)          (7.8757)          (6.3684)       (11.976)      (11.319)\n",
      "ldist                                                         -0.8521           -0.8521        -0.9016       -0.9016\n",
      "                                                            (-3.4543)         (-3.2984)      (-7.0288)     (-6.4100)\n",
      "ldistsq                                                        0.0975            0.0975         0.1030        0.1030\n",
      "                                                             (5.2256)          (5.0468)       (10.593)      (9.8676)\n",
      "======================= ============== ============ ================= ================= ============== =============\n",
      "Effects                         Entity       Entity                                                                 \n",
      "--------------------------------------------------------------------------------------------------------------------\n",
      "\n",
      "T-stats reported in parentheses\n"
     ]
    }
   ],
   "source": [
    "print(compare({\"FE\": fe_res, \"FE_rb\": fe_res_rb, \"RE\": re_res, \"RE_rb\": re_res_rb, \"Pooled\": pooled_res, \"Pooled_rb\": pooled_robust_res}))"
   ]
  },
  {
   "cell_type": "markdown",
   "id": "foreign-emphasis",
   "metadata": {},
   "source": [
    "# Hausman test : there is no Hausman test in Python, so I coded it myself."
   ]
  },
  {
   "cell_type": "code",
   "execution_count": 32,
   "id": "played-withdrawal",
   "metadata": {},
   "outputs": [
    {
     "name": "stdout",
     "output_type": "stream",
     "text": [
      "y98       0.022833\n",
      "y99       0.036382\n",
      "y00       0.097772\n",
      "concen    0.168859\n",
      "Name: parameter, dtype: float64\n",
      "y98       0.022475\n",
      "y99       0.036689\n",
      "y00       0.098211\n",
      "concen    0.208927\n",
      "Name: parameter, dtype: float64\n"
     ]
    }
   ],
   "source": [
    "b = fe_res.params[1:]\n",
    "print(b)\n",
    "B = re_res.params[1:5]\n",
    "print(B)"
   ]
  },
  {
   "cell_type": "code",
   "execution_count": 33,
   "id": "seasonal-cleveland",
   "metadata": {},
   "outputs": [
    {
     "name": "stdout",
     "output_type": "stream",
     "text": [
      "             y98       y99       y00    concen\n",
      "y98     0.000020  0.000010  0.000010 -0.000008\n",
      "y99     0.000010  0.000020  0.000010  0.000007\n",
      "y00     0.000010  0.000010  0.000020  0.000009\n",
      "concen -0.000008  0.000007  0.000009  0.000865\n",
      "             y98       y99       y00    concen\n",
      "y98     0.000020  0.000010  0.000010 -0.000006\n",
      "y99     0.000010  0.000020  0.000010  0.000005\n",
      "y00     0.000010  0.000010  0.000020  0.000008\n",
      "concen -0.000006  0.000005  0.000008  0.000704\n"
     ]
    }
   ],
   "source": [
    "v_b = fe_res.cov.drop('const', axis=1)\n",
    "v_b = v_b[1:]\n",
    "print(v_b)\n",
    "v_B = re_res.cov.drop(['const','ldist','ldistsq'], axis=1)\n",
    "v_B = v_B[1:5]\n",
    "print(v_B)"
   ]
  },
  {
   "cell_type": "code",
   "execution_count": 34,
   "id": "japanese-clearance",
   "metadata": {},
   "outputs": [],
   "source": [
    "df = b[np.abs(b) < 1e8].size\n",
    "chi2 = np.dot((b-B).T, la.inv(v_b - v_B).dot(b - B)) \n",
    "pval = stats.chi2.sf(chi2, df)\n",
    "\n",
    "\n",
    "dict = {'chi-sq stat' : [chi2],\n",
    "        'df' : [df],\n",
    "        'p-value' : [pval]}\n",
    "Hausman_df = pd.DataFrame(dict)"
   ]
  },
  {
   "cell_type": "code",
   "execution_count": 35,
   "id": "decimal-issue",
   "metadata": {},
   "outputs": [
    {
     "data": {
      "text/html": [
       "<div>\n",
       "<style scoped>\n",
       "    .dataframe tbody tr th:only-of-type {\n",
       "        vertical-align: middle;\n",
       "    }\n",
       "\n",
       "    .dataframe tbody tr th {\n",
       "        vertical-align: top;\n",
       "    }\n",
       "\n",
       "    .dataframe thead th {\n",
       "        text-align: right;\n",
       "    }\n",
       "</style>\n",
       "<table border=\"1\" class=\"dataframe\">\n",
       "  <thead>\n",
       "    <tr style=\"text-align: right;\">\n",
       "      <th></th>\n",
       "      <th>chi-sq stat</th>\n",
       "      <th>df</th>\n",
       "      <th>p-value</th>\n",
       "    </tr>\n",
       "  </thead>\n",
       "  <tbody>\n",
       "    <tr>\n",
       "      <th>0</th>\n",
       "      <td>9.96</td>\n",
       "      <td>4</td>\n",
       "      <td>0.04</td>\n",
       "    </tr>\n",
       "  </tbody>\n",
       "</table>\n",
       "</div>"
      ],
      "text/plain": [
       "   chi-sq stat  df  p-value\n",
       "0         9.96   4     0.04"
      ]
     },
     "execution_count": 35,
     "metadata": {},
     "output_type": "execute_result"
    }
   ],
   "source": [
    "Hausman_df.round(2)"
   ]
  },
  {
   "cell_type": "code",
   "execution_count": 36,
   "id": "metallic-northeast",
   "metadata": {},
   "outputs": [
    {
     "name": "stdout",
     "output_type": "stream",
     "text": [
      "[NbConvertApp] Converting notebook W7_Python.ipynb to html\n",
      "[NbConvertApp] Writing 666532 bytes to W7_Python.html\n"
     ]
    }
   ],
   "source": [
    "!rm -rf W7_Python.html\n",
    "!jupyter nbconvert --to html W7_Python.ipynb"
   ]
  },
  {
   "cell_type": "code",
   "execution_count": null,
   "id": "extra-static",
   "metadata": {},
   "outputs": [],
   "source": []
  }
 ],
 "metadata": {
  "kernelspec": {
   "display_name": "Python 3 (ipykernel)",
   "language": "python",
   "name": "python3"
  },
  "language_info": {
   "codemirror_mode": {
    "name": "ipython",
    "version": 3
   },
   "file_extension": ".py",
   "mimetype": "text/x-python",
   "name": "python",
   "nbconvert_exporter": "python",
   "pygments_lexer": "ipython3",
   "version": "3.9.7"
  }
 },
 "nbformat": 4,
 "nbformat_minor": 5
}
