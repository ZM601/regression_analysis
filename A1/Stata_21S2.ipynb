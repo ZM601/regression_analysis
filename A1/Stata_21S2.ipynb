{
 "cells": [
  {
   "cell_type": "code",
   "execution_count": 36,
   "id": "77ade7b4-b485-489d-9a6d-23040c700849",
   "metadata": {},
   "outputs": [],
   "source": [
    "use HPRICE3.DTA, clear"
   ]
  },
  {
   "cell_type": "code",
   "execution_count": 37,
   "id": "a80ce45d-a718-4aa1-b996-170b505d67db",
   "metadata": {},
   "outputs": [
    {
     "name": "stdout",
     "output_type": "stream",
     "text": [
      "year     nbh      linst    area     dist     y81      linstsq\n",
      "age      cbd      price    land     ldist    larea\n",
      "agesq    inst     rooms    baths    lprice   lland\n"
     ]
    }
   ],
   "source": [
    "ds"
   ]
  },
  {
   "cell_type": "markdown",
   "id": "8a7be2b1-696a-40db-b6b4-ef7a1ad3872a",
   "metadata": {},
   "source": [
    "# drop obs with year = 1981"
   ]
  },
  {
   "cell_type": "code",
   "execution_count": 38,
   "id": "6b52f34a-ca56-43a5-88f8-197bd74dd52d",
   "metadata": {},
   "outputs": [
    {
     "name": "stdout",
     "output_type": "stream",
     "text": [
      "\n",
      "    variable |       min       max\n",
      "-------------+--------------------\n",
      "        year |      1978      1981\n",
      "----------------------------------\n"
     ]
    }
   ],
   "source": [
    "tabstat year, stat(min max)"
   ]
  },
  {
   "cell_type": "code",
   "execution_count": 39,
   "id": "9eeb686b-5c5e-4c17-848d-78cd32f70004",
   "metadata": {},
   "outputs": [
    {
     "name": "stdout",
     "output_type": "stream",
     "text": [
      "(142 observations deleted)\n"
     ]
    }
   ],
   "source": [
    "drop if year == 1981"
   ]
  },
  {
   "cell_type": "code",
   "execution_count": 40,
   "id": "cea05dac-3a56-471e-82de-719b726b84cd",
   "metadata": {},
   "outputs": [
    {
     "name": "stdout",
     "output_type": "stream",
     "text": [
      "\n",
      "    variable |       min       max\n",
      "-------------+--------------------\n",
      "        year |      1978      1978\n",
      "----------------------------------\n"
     ]
    }
   ],
   "source": [
    "tabstat year, stat(min max)"
   ]
  },
  {
   "cell_type": "markdown",
   "id": "deeaedb3-0679-40aa-853b-96f8690d5ef3",
   "metadata": {},
   "source": [
    "# (a)"
   ]
  },
  {
   "cell_type": "code",
   "execution_count": 41,
   "id": "ad04cdea-045e-43c1-ab76-8b6c8c13a03c",
   "metadata": {},
   "outputs": [
    {
     "name": "stdout",
     "output_type": "stream",
     "text": [
      "\n",
      "    Variable |        Obs        Mean    Std. Dev.       Min        Max\n",
      "-------------+---------------------------------------------------------\n",
      "        year |        179        1978           0       1978       1978\n",
      "         age |        179     21.2067    37.80831          0        189\n",
      "       agesq |        179    1871.207    6063.715          0      35721\n",
      "         nbh |        179    2.402235    2.126662          0          6\n",
      "         cbd |        179    16424.58    9411.245       1000      35000\n",
      "-------------+---------------------------------------------------------\n",
      "        inst |        179    17128.49    9425.654       1000      34000\n",
      "       linst |        179    9.504069    .8223241     6.9078     10.434\n",
      "       price |        179    76628.04    30626.44      26000     300000\n",
      "       rooms |        179    6.581006    .9586256          4         10\n",
      "        area |        179    1999.637    635.0077        750       5078\n",
      "-------------+---------------------------------------------------------\n",
      "        land |        179    42955.47    50258.05       1710     544500\n",
      "       baths |        179    2.307263    .7423791          1          4\n",
      "        dist |        179    21195.53    8849.756       5200      40000\n",
      "       ldist |        179    9.853867    .4977317   8.556414   10.59663\n",
      "      lprice |        179    11.17908    .3669739   10.16585   12.61154\n",
      "-------------+---------------------------------------------------------\n",
      "         y81 |        179           0           0          0          0\n",
      "       larea |        179    7.550936    .3205713   6.620073   8.532673\n",
      "       lland |        179    10.32008    .8623176   7.444249   13.20762\n",
      "     linstsq |        179    90.99976    14.82816    47.7177   108.8684\n"
     ]
    }
   ],
   "source": [
    "sum"
   ]
  },
  {
   "cell_type": "code",
   "execution_count": 42,
   "id": "e5638886-27c6-4455-9ce5-2c81a77b9135",
   "metadata": {},
   "outputs": [
    {
     "name": "stdout",
     "output_type": "stream",
     "text": [
      "\n",
      "\n",
      "   stats |    lprice     rooms     baths     larea     lland       age     agesq\n",
      "---------+----------------------------------------------------------------------\n",
      "       N |       179       179       179       179       179       179       179\n",
      "    mean |  11.17908  6.581006  2.307263  7.550936  10.32008   21.2067  1871.207\n",
      "      sd |  .3669739  .9586256  .7423791  .3205713  .8623176  37.80831  6063.715\n",
      "     min |  10.16585         4         1  6.620073  7.444249         0         0\n",
      "     max |  12.61154        10         4  8.532673  13.20762       189     35721\n",
      "skewness | -.0064139   .190436 -.3940904 -.2549354 -.4610361  2.851244  4.398906\n",
      "kurtosis |  3.704527  4.382465  2.176377  3.073325  3.737946  11.41462  22.26696\n",
      "--------------------------------------------------------------------------------\n"
     ]
    }
   ],
   "source": [
    "tabstat lprice rooms baths larea lland age agesq, stat(n mean sd min max skew kurt) long format"
   ]
  },
  {
   "cell_type": "markdown",
   "id": "9028d67d-9c39-4f2f-b3c2-045d5f16ba71",
   "metadata": {},
   "source": [
    "# (c)"
   ]
  },
  {
   "cell_type": "code",
   "execution_count": 43,
   "id": "5d784864-0261-4d05-b120-8b2aca59005d",
   "metadata": {},
   "outputs": [],
   "source": [
    "gen lcbd = log(cbd)"
   ]
  },
  {
   "cell_type": "code",
   "execution_count": 44,
   "id": "58ba0566-2254-4db3-b025-421fa877fcd4",
   "metadata": {},
   "outputs": [
    {
     "name": "stdout",
     "output_type": "stream",
     "text": [
      "\n",
      "      Source |       SS           df       MS      Number of obs   =       179\n",
      "-------------+----------------------------------   F(7, 171)       =     51.59\n",
      "       Model |  16.2680474         7  2.32400677   Prob > F        =    0.0000\n",
      "    Residual |  7.70318772       171  .045047881   R-squared       =    0.6786\n",
      "-------------+----------------------------------   Adj R-squared   =    0.6655\n",
      "       Total |  23.9712351       178   .13466986   Root MSE        =    .21224\n",
      "\n",
      "------------------------------------------------------------------------------\n",
      "      lprice |      Coef.   Std. Err.      t    P>|t|     [95% Conf. Interval]\n",
      "-------------+----------------------------------------------------------------\n",
      "       rooms |   .0620117   .0222711     2.78   0.006       .01805    .1059734\n",
      "       baths |   .0659059   .0376178     1.75   0.082    -.0083491    .1401609\n",
      "       larea |   .3796112    .073453     5.17   0.000     .2346199    .5246026\n",
      "       lland |    .106066   .0328237     3.23   0.001     .0412742    .1708578\n",
      "         age |  -.0081903    .001941    -4.22   0.000    -.0120218   -.0043589\n",
      "       agesq |   .0000359   .0000112     3.20   0.002     .0000137    .0000581\n",
      "        lcbd |  -.0637607   .0373181    -1.71   0.089    -.1374241    .0099027\n",
      "       _cons |   7.366848   .5573329    13.22   0.000     6.266709    8.466986\n",
      "------------------------------------------------------------------------------\n"
     ]
    }
   ],
   "source": [
    "reg lprice rooms baths larea lland age agesq lcbd"
   ]
  },
  {
   "cell_type": "code",
   "execution_count": 45,
   "id": "a3f453f3-03e8-4767-b463-1528cc77c9cd",
   "metadata": {},
   "outputs": [
    {
     "name": "stdout",
     "output_type": "stream",
     "text": [
      "\n",
      "percentage change : 6.8126206\n",
      "\n",
      "ratio of percentage change to orignial value * 100: 1.033689\n"
     ]
    }
   ],
   "source": [
    "display \"percentage change :\", 100*(exp(_b[baths])-1)\n",
    "display \"ratio of percentage change to orignial value * 100:\", ( 100* (exp(_b[baths])-1))/ (100*_b[baths])"
   ]
  },
  {
   "cell_type": "markdown",
   "id": "4b50e9e6-d142-42ba-bab9-2d063bcf3984",
   "metadata": {},
   "source": [
    "# (d)"
   ]
  },
  {
   "cell_type": "code",
   "execution_count": 46,
   "id": "8f1a9ff3-8278-41db-9366-e4bca12c5c74",
   "metadata": {},
   "outputs": [
    {
     "name": "stdout",
     "output_type": "stream",
     "text": [
      "\n",
      "\n",
      "\n",
      "\n",
      "\n",
      "the upper bound is  .17085779\n",
      "\n",
      "the lower bound is  .04127419\n",
      "\n",
      "   p_value =  .04467221\n",
      "   t_value = -1.7085734\n",
      "  ci_lower =  .04127419\n",
      "  ci_upper =  .17085779\n",
      "  t_cutoff =   1.973934\n",
      "  se_lland =  .03282369\n"
     ]
    }
   ],
   "source": [
    "*save the se from regression table as a scalar\n",
    "scalar se_lland = _se[lland]\n",
    "*find the correct cutoff point from T-distribution\n",
    "scalar t_cutoff = invttail(e(df_r), 0.025)\n",
    "*compute the 99% CI for beta_room\n",
    "scalar ci_upper = _b[lland] + se_lland * t_cutoff\n",
    "scalar ci_lower = _b[lland] - se_lland * t_cutoff\n",
    "\n",
    "display \"the upper bound is \", ci_upper\n",
    "display \"the lower bound is \", ci_lower\n",
    "\n",
    "*or, just list all scalars\n",
    "scalar list"
   ]
  },
  {
   "cell_type": "markdown",
   "id": "64dda211-005f-4c0d-b161-16d8dff2ab06",
   "metadata": {},
   "source": [
    "# (e)"
   ]
  },
  {
   "cell_type": "code",
   "execution_count": 47,
   "id": "fd355eb1-7a35-4d68-85e3-48cb35e7da8a",
   "metadata": {},
   "outputs": [
    {
     "name": "stdout",
     "output_type": "stream",
     "text": [
      "\n",
      "\n",
      "\n",
      "the t value is  -1.7085734\n",
      "\n",
      "the left-tail p-value is  .04467221\n",
      "\n",
      "\n",
      "reject H0 since p value is smaller than significant level\n"
     ]
    }
   ],
   "source": [
    "*compute t value\n",
    "scalar t_value = (_b[lcbd]-0)/_se[lcbd]\n",
    "scalar p_value = 1 - ttail(e(df_r), t_value)\n",
    "display \"the t value is \", t_value\n",
    "display \"the left-tail p-value is \", p_value\n",
    "\n",
    "if p_value > 0.1 {\n",
    "        display \"fail to reject H0 since p value is larger than sig level\" \n",
    "        }\n",
    "else {\n",
    "    display \"reject H0 since p value is smaller than significant level\"\n",
    "    }"
   ]
  },
  {
   "cell_type": "markdown",
   "id": "107cb481-f7bb-4a47-b986-7df96cc2fae7",
   "metadata": {},
   "source": [
    "# (f)"
   ]
  },
  {
   "cell_type": "code",
   "execution_count": 48,
   "id": "aff9c66a-4f4c-4b1f-8ec9-28a4cef2219d",
   "metadata": {},
   "outputs": [
    {
     "name": "stdout",
     "output_type": "stream",
     "text": [
      "\n",
      "\n",
      "\n",
      "\n",
      "\n",
      "the minimum local is at age =  114.07553\n"
     ]
    },
    {
     "data": {
      "application/pdf": "[encoded data removed]",
      "image/svg+xml": [
       "<?xml version=\"1.0\" encoding=\"UTF-8\" standalone=\"no\"?>\n",
       "<!-- This is a Stata 14.2 generated SVG file (http://www.stata.com) -->\n",
       "\n",
       "<svg version=\"1.1\" width=\"600px\" height=\"436px\" viewBox=\"0 0 3960 2880\" xmlns=\"http://www.w3.org/2000/svg\">\n",
       "\t<desc>Stata Graph - Graph</desc>\n",
       "\t<rect x=\"0.00\" y=\"0.00\" width=\"3959.88\" height=\"2880.00\" style=\"fill:#EAF2F3;stroke:#EAF2F3;stroke-width:5.76\"/>\n",
       "\t<rect x=\"390.80\" y=\"100.86\" width=\"3468.22\" height=\"2388.33\" style=\"fill:#FFFFFF;stroke:#FFFFFF;stroke-width:5.76\"/>\n",
       "\t<line x1=\"390.80\" y1=\"2424.46\" x2=\"3859.02\" y2=\"2424.46\" style=\"stroke:#EAF2F3;stroke-width:8.64\"/>\n",
       "\t<line x1=\"390.80\" y1=\"1972.39\" x2=\"3859.02\" y2=\"1972.39\" style=\"stroke:#EAF2F3;stroke-width:8.64\"/>\n",
       "\t<line x1=\"390.80\" y1=\"1520.32\" x2=\"3859.02\" y2=\"1520.32\" style=\"stroke:#EAF2F3;stroke-width:8.64\"/>\n",
       "\t<line x1=\"390.80\" y1=\"1068.24\" x2=\"3859.02\" y2=\"1068.24\" style=\"stroke:#EAF2F3;stroke-width:8.64\"/>\n",
       "\t<line x1=\"390.80\" y1=\"616.17\" x2=\"3859.02\" y2=\"616.17\" style=\"stroke:#EAF2F3;stroke-width:8.64\"/>\n",
       "\t<line x1=\"390.80\" y1=\"164.22\" x2=\"3859.02\" y2=\"164.22\" style=\"stroke:#EAF2F3;stroke-width:8.64\"/>\n",
       "\t<line x1=\"2360.16\" y1=\"2489.19\" x2=\"2360.16\" y2=\"100.86\" style=\"stroke:#FF0000;stroke-width:8.64\"/>\n",
       "\t<circle cx=\"470.75\" cy=\"350.97\" r=\"22.03\" style=\"fill:#1A476F;stroke:#1A476F;stroke-width:8.64\"/>\n",
       "\t<circle cx=\"487.45\" cy=\"387.47\" r=\"22.03\" style=\"fill:#1A476F;stroke:#1A476F;stroke-width:8.64\"/>\n",
       "\t<circle cx=\"504.16\" cy=\"423.73\" r=\"22.03\" style=\"fill:#1A476F;stroke:#1A476F;stroke-width:8.64\"/>\n",
       "\t<circle cx=\"520.86\" cy=\"459.62\" r=\"22.03\" style=\"fill:#1A476F;stroke:#1A476F;stroke-width:8.64\"/>\n",
       "\t<circle cx=\"537.57\" cy=\"495.14\" r=\"22.03\" style=\"fill:#1A476F;stroke:#1A476F;stroke-width:8.64\"/>\n",
       "\t<circle cx=\"554.28\" cy=\"530.41\" r=\"22.03\" style=\"fill:#1A476F;stroke:#1A476F;stroke-width:8.64\"/>\n",
       "\t<circle cx=\"570.98\" cy=\"565.31\" r=\"22.03\" style=\"fill:#1A476F;stroke:#1A476F;stroke-width:8.64\"/>\n",
       "\t<circle cx=\"587.69\" cy=\"599.96\" r=\"22.03\" style=\"fill:#1A476F;stroke:#1A476F;stroke-width:8.64\"/>\n",
       "\t<circle cx=\"604.39\" cy=\"634.11\" r=\"22.03\" style=\"fill:#1A476F;stroke:#1A476F;stroke-width:8.64\"/>\n",
       "\t<circle cx=\"621.10\" cy=\"668.15\" r=\"22.03\" style=\"fill:#1A476F;stroke:#1A476F;stroke-width:8.64\"/>\n",
       "\t<circle cx=\"637.81\" cy=\"701.68\" r=\"22.03\" style=\"fill:#1A476F;stroke:#1A476F;stroke-width:8.64\"/>\n",
       "\t<circle cx=\"654.51\" cy=\"734.97\" r=\"22.03\" style=\"fill:#1A476F;stroke:#1A476F;stroke-width:8.64\"/>\n",
       "\t<circle cx=\"671.22\" cy=\"768.02\" r=\"22.03\" style=\"fill:#1A476F;stroke:#1A476F;stroke-width:8.64\"/>\n",
       "\t<circle cx=\"687.93\" cy=\"800.69\" r=\"22.03\" style=\"fill:#1A476F;stroke:#1A476F;stroke-width:8.64\"/>\n",
       "\t<circle cx=\"704.76\" cy=\"832.99\" r=\"22.03\" style=\"fill:#1A476F;stroke:#1A476F;stroke-width:8.64\"/>\n",
       "\t<circle cx=\"721.46\" cy=\"864.92\" r=\"22.03\" style=\"fill:#1A476F;stroke:#1A476F;stroke-width:8.64\"/>\n",
       "\t<circle cx=\"738.17\" cy=\"896.60\" r=\"22.03\" style=\"fill:#1A476F;stroke:#1A476F;stroke-width:8.64\"/>\n",
       "\t<circle cx=\"754.88\" cy=\"927.91\" r=\"22.03\" style=\"fill:#1A476F;stroke:#1A476F;stroke-width:8.64\"/>\n",
       "\t<circle cx=\"771.58\" cy=\"958.97\" r=\"22.03\" style=\"fill:#1A476F;stroke:#1A476F;stroke-width:8.64\"/>\n",
       "\t<circle cx=\"788.29\" cy=\"989.66\" r=\"22.03\" style=\"fill:#1A476F;stroke:#1A476F;stroke-width:8.64\"/>\n",
       "\t<circle cx=\"804.99\" cy=\"1020.10\" r=\"22.03\" style=\"fill:#1A476F;stroke:#1A476F;stroke-width:8.64\"/>\n",
       "\t<circle cx=\"821.70\" cy=\"1050.05\" r=\"22.03\" style=\"fill:#1A476F;stroke:#1A476F;stroke-width:8.64\"/>\n",
       "\t<circle cx=\"838.41\" cy=\"1079.88\" r=\"22.03\" style=\"fill:#1A476F;stroke:#1A476F;stroke-width:8.64\"/>\n",
       "\t<circle cx=\"855.11\" cy=\"1109.21\" r=\"22.03\" style=\"fill:#1A476F;stroke:#1A476F;stroke-width:8.64\"/>\n",
       "\t<circle cx=\"871.82\" cy=\"1138.29\" r=\"22.03\" style=\"fill:#1A476F;stroke:#1A476F;stroke-width:8.64\"/>\n",
       "\t<circle cx=\"888.52\" cy=\"1167.00\" r=\"22.03\" style=\"fill:#1A476F;stroke:#1A476F;stroke-width:8.64\"/>\n",
       "\t<circle cx=\"905.23\" cy=\"1195.46\" r=\"22.03\" style=\"fill:#1A476F;stroke:#1A476F;stroke-width:8.64\"/>\n",
       "\t<circle cx=\"921.94\" cy=\"1223.55\" r=\"22.03\" style=\"fill:#1A476F;stroke:#1A476F;stroke-width:8.64\"/>\n",
       "\t<circle cx=\"938.64\" cy=\"1251.28\" r=\"22.03\" style=\"fill:#1A476F;stroke:#1A476F;stroke-width:8.64\"/>\n",
       "\t<circle cx=\"955.35\" cy=\"1278.75\" r=\"22.03\" style=\"fill:#1A476F;stroke:#1A476F;stroke-width:8.64\"/>\n",
       "\t<circle cx=\"972.06\" cy=\"1305.85\" r=\"22.03\" style=\"fill:#1A476F;stroke:#1A476F;stroke-width:8.64\"/>\n",
       "\t<circle cx=\"988.76\" cy=\"1332.71\" r=\"22.03\" style=\"fill:#1A476F;stroke:#1A476F;stroke-width:8.64\"/>\n",
       "\t<circle cx=\"1005.47\" cy=\"1359.19\" r=\"22.03\" style=\"fill:#1A476F;stroke:#1A476F;stroke-width:8.64\"/>\n",
       "\t<circle cx=\"1022.17\" cy=\"1385.30\" r=\"22.03\" style=\"fill:#1A476F;stroke:#1A476F;stroke-width:8.64\"/>\n",
       "\t<circle cx=\"1038.88\" cy=\"1411.17\" r=\"22.03\" style=\"fill:#1A476F;stroke:#1A476F;stroke-width:8.64\"/>\n",
       "\t<circle cx=\"1055.59\" cy=\"1436.66\" r=\"22.03\" style=\"fill:#1A476F;stroke:#1A476F;stroke-width:8.64\"/>\n",
       "\t<circle cx=\"1072.29\" cy=\"1461.90\" r=\"22.03\" style=\"fill:#1A476F;stroke:#1A476F;stroke-width:8.64\"/>\n",
       "\t<circle cx=\"1089.00\" cy=\"1486.66\" r=\"22.03\" style=\"fill:#1A476F;stroke:#1A476F;stroke-width:8.64\"/>\n",
       "\t<circle cx=\"1105.71\" cy=\"1511.28\" r=\"22.03\" style=\"fill:#1A476F;stroke:#1A476F;stroke-width:8.64\"/>\n",
       "\t<circle cx=\"1122.41\" cy=\"1535.41\" r=\"22.03\" style=\"fill:#1A476F;stroke:#1A476F;stroke-width:8.64\"/>\n",
       "\t<circle cx=\"1139.12\" cy=\"1559.30\" r=\"22.03\" style=\"fill:#1A476F;stroke:#1A476F;stroke-width:8.64\"/>\n",
       "\t<circle cx=\"1155.83\" cy=\"1582.81\" r=\"22.03\" style=\"fill:#1A476F;stroke:#1A476F;stroke-width:8.64\"/>\n",
       "\t<circle cx=\"1172.53\" cy=\"1606.08\" r=\"22.03\" style=\"fill:#1A476F;stroke:#1A476F;stroke-width:8.64\"/>\n",
       "\t<circle cx=\"1189.24\" cy=\"1628.97\" r=\"22.03\" style=\"fill:#1A476F;stroke:#1A476F;stroke-width:8.64\"/>\n",
       "\t<circle cx=\"1205.94\" cy=\"1651.62\" r=\"22.03\" style=\"fill:#1A476F;stroke:#1A476F;stroke-width:8.64\"/>\n",
       "\t<circle cx=\"1222.65\" cy=\"1673.89\" r=\"22.03\" style=\"fill:#1A476F;stroke:#1A476F;stroke-width:8.64\"/>\n",
       "\t<circle cx=\"1239.36\" cy=\"1695.80\" r=\"22.03\" style=\"fill:#1A476F;stroke:#1A476F;stroke-width:8.64\"/>\n",
       "\t<circle cx=\"1256.06\" cy=\"1717.33\" r=\"22.03\" style=\"fill:#1A476F;stroke:#1A476F;stroke-width:8.64\"/>\n",
       "\t<circle cx=\"1272.77\" cy=\"1738.62\" r=\"22.03\" style=\"fill:#1A476F;stroke:#1A476F;stroke-width:8.64\"/>\n",
       "\t<circle cx=\"1289.47\" cy=\"1759.66\" r=\"22.03\" style=\"fill:#1A476F;stroke:#1A476F;stroke-width:8.64\"/>\n",
       "\t<circle cx=\"1306.18\" cy=\"1780.32\" r=\"22.03\" style=\"fill:#1A476F;stroke:#1A476F;stroke-width:8.64\"/>\n",
       "\t<circle cx=\"1322.89\" cy=\"1800.62\" r=\"22.03\" style=\"fill:#1A476F;stroke:#1A476F;stroke-width:8.64\"/>\n",
       "\t<circle cx=\"1339.59\" cy=\"1820.54\" r=\"22.03\" style=\"fill:#1A476F;stroke:#1A476F;stroke-width:8.64\"/>\n",
       "\t<circle cx=\"1356.30\" cy=\"1840.22\" r=\"22.03\" style=\"fill:#1A476F;stroke:#1A476F;stroke-width:8.64\"/>\n",
       "\t<circle cx=\"1373.01\" cy=\"1859.53\" r=\"22.03\" style=\"fill:#1A476F;stroke:#1A476F;stroke-width:8.64\"/>\n",
       "\t<circle cx=\"1389.71\" cy=\"1878.58\" r=\"22.03\" style=\"fill:#1A476F;stroke:#1A476F;stroke-width:8.64\"/>\n",
       "\t<circle cx=\"1406.42\" cy=\"1897.27\" r=\"22.03\" style=\"fill:#1A476F;stroke:#1A476F;stroke-width:8.64\"/>\n",
       "\t<circle cx=\"1423.12\" cy=\"1915.59\" r=\"22.03\" style=\"fill:#1A476F;stroke:#1A476F;stroke-width:8.64\"/>\n",
       "\t<circle cx=\"1439.83\" cy=\"1933.65\" r=\"22.03\" style=\"fill:#1A476F;stroke:#1A476F;stroke-width:8.64\"/>\n",
       "\t<circle cx=\"1456.54\" cy=\"1951.35\" r=\"22.03\" style=\"fill:#1A476F;stroke:#1A476F;stroke-width:8.64\"/>\n",
       "\t<circle cx=\"1473.24\" cy=\"1968.80\" r=\"22.03\" style=\"fill:#1A476F;stroke:#1A476F;stroke-width:8.64\"/>\n",
       "\t<circle cx=\"1489.95\" cy=\"1985.88\" r=\"22.03\" style=\"fill:#1A476F;stroke:#1A476F;stroke-width:8.64\"/>\n",
       "\t<circle cx=\"1506.66\" cy=\"2002.59\" r=\"22.03\" style=\"fill:#1A476F;stroke:#1A476F;stroke-width:8.64\"/>\n",
       "\t<circle cx=\"1523.36\" cy=\"2018.92\" r=\"22.03\" style=\"fill:#1A476F;stroke:#1A476F;stroke-width:8.64\"/>\n",
       "\t<circle cx=\"1540.07\" cy=\"2035.01\" r=\"22.03\" style=\"fill:#1A476F;stroke:#1A476F;stroke-width:8.64\"/>\n",
       "\t<circle cx=\"1556.78\" cy=\"2050.85\" r=\"22.03\" style=\"fill:#1A476F;stroke:#1A476F;stroke-width:8.64\"/>\n",
       "\t<circle cx=\"1573.48\" cy=\"2066.32\" r=\"22.03\" style=\"fill:#1A476F;stroke:#1A476F;stroke-width:8.64\"/>\n",
       "\t<circle cx=\"1590.19\" cy=\"2081.42\" r=\"22.03\" style=\"fill:#1A476F;stroke:#1A476F;stroke-width:8.64\"/>\n",
       "\t<circle cx=\"1606.89\" cy=\"2096.14\" r=\"22.03\" style=\"fill:#1A476F;stroke:#1A476F;stroke-width:8.64\"/>\n",
       "\t<circle cx=\"1623.60\" cy=\"2110.62\" r=\"22.03\" style=\"fill:#1A476F;stroke:#1A476F;stroke-width:8.64\"/>\n",
       "\t<circle cx=\"1640.31\" cy=\"2124.85\" r=\"22.03\" style=\"fill:#1A476F;stroke:#1A476F;stroke-width:8.64\"/>\n",
       "\t<circle cx=\"1657.01\" cy=\"2138.59\" r=\"22.03\" style=\"fill:#1A476F;stroke:#1A476F;stroke-width:8.64\"/>\n",
       "\t<circle cx=\"1673.72\" cy=\"2152.08\" r=\"22.03\" style=\"fill:#1A476F;stroke:#1A476F;stroke-width:8.64\"/>\n",
       "\t<circle cx=\"1690.42\" cy=\"2165.32\" r=\"22.03\" style=\"fill:#1A476F;stroke:#1A476F;stroke-width:8.64\"/>\n",
       "\t<circle cx=\"1707.13\" cy=\"2178.07\" r=\"22.03\" style=\"fill:#1A476F;stroke:#1A476F;stroke-width:8.64\"/>\n",
       "\t<circle cx=\"1723.84\" cy=\"2190.69\" r=\"22.03\" style=\"fill:#1A476F;stroke:#1A476F;stroke-width:8.64\"/>\n",
       "\t<circle cx=\"1740.54\" cy=\"2202.82\" r=\"22.03\" style=\"fill:#1A476F;stroke:#1A476F;stroke-width:8.64\"/>\n",
       "\t<circle cx=\"1757.25\" cy=\"2214.70\" r=\"22.03\" style=\"fill:#1A476F;stroke:#1A476F;stroke-width:8.64\"/>\n",
       "\t<circle cx=\"1773.96\" cy=\"2226.21\" r=\"22.03\" style=\"fill:#1A476F;stroke:#1A476F;stroke-width:8.64\"/>\n",
       "\t<circle cx=\"1790.66\" cy=\"2237.47\" r=\"22.03\" style=\"fill:#1A476F;stroke:#1A476F;stroke-width:8.64\"/>\n",
       "\t<circle cx=\"1807.37\" cy=\"2248.36\" r=\"22.03\" style=\"fill:#1A476F;stroke:#1A476F;stroke-width:8.64\"/>\n",
       "\t<circle cx=\"1824.08\" cy=\"2259.00\" r=\"22.03\" style=\"fill:#1A476F;stroke:#1A476F;stroke-width:8.64\"/>\n",
       "\t<circle cx=\"1840.78\" cy=\"2269.15\" r=\"22.03\" style=\"fill:#1A476F;stroke:#1A476F;stroke-width:8.64\"/>\n",
       "\t<circle cx=\"1857.49\" cy=\"2279.17\" r=\"22.03\" style=\"fill:#1A476F;stroke:#1A476F;stroke-width:8.64\"/>\n",
       "\t<circle cx=\"1874.19\" cy=\"2288.70\" r=\"22.03\" style=\"fill:#1A476F;stroke:#1A476F;stroke-width:8.64\"/>\n",
       "\t<circle cx=\"1890.90\" cy=\"2297.99\" r=\"22.03\" style=\"fill:#1A476F;stroke:#1A476F;stroke-width:8.64\"/>\n",
       "\t<circle cx=\"1907.61\" cy=\"2306.90\" r=\"22.03\" style=\"fill:#1A476F;stroke:#1A476F;stroke-width:8.64\"/>\n",
       "\t<circle cx=\"1924.31\" cy=\"2315.56\" r=\"22.03\" style=\"fill:#1A476F;stroke:#1A476F;stroke-width:8.64\"/>\n",
       "\t<circle cx=\"1941.14\" cy=\"2323.85\" r=\"22.03\" style=\"fill:#1A476F;stroke:#1A476F;stroke-width:8.64\"/>\n",
       "\t<circle cx=\"1957.85\" cy=\"2331.89\" r=\"22.03\" style=\"fill:#1A476F;stroke:#1A476F;stroke-width:8.64\"/>\n",
       "\t<circle cx=\"1974.56\" cy=\"2339.44\" r=\"22.03\" style=\"fill:#1A476F;stroke:#1A476F;stroke-width:8.64\"/>\n",
       "\t<circle cx=\"1991.26\" cy=\"2346.87\" r=\"22.03\" style=\"fill:#1A476F;stroke:#1A476F;stroke-width:8.64\"/>\n",
       "\t<circle cx=\"2007.97\" cy=\"2353.80\" r=\"22.03\" style=\"fill:#1A476F;stroke:#1A476F;stroke-width:8.64\"/>\n",
       "\t<circle cx=\"2024.67\" cy=\"2360.48\" r=\"22.03\" style=\"fill:#1A476F;stroke:#1A476F;stroke-width:8.64\"/>\n",
       "\t<circle cx=\"2041.38\" cy=\"2366.92\" r=\"22.03\" style=\"fill:#1A476F;stroke:#1A476F;stroke-width:8.64\"/>\n",
       "\t<circle cx=\"2058.09\" cy=\"2372.86\" r=\"22.03\" style=\"fill:#1A476F;stroke:#1A476F;stroke-width:8.64\"/>\n",
       "\t<circle cx=\"2074.79\" cy=\"2378.55\" r=\"22.03\" style=\"fill:#1A476F;stroke:#1A476F;stroke-width:8.64\"/>\n",
       "\t<circle cx=\"2091.50\" cy=\"2383.99\" r=\"22.03\" style=\"fill:#1A476F;stroke:#1A476F;stroke-width:8.64\"/>\n",
       "\t<circle cx=\"2108.20\" cy=\"2389.07\" r=\"22.03\" style=\"fill:#1A476F;stroke:#1A476F;stroke-width:8.64\"/>\n",
       "\t<circle cx=\"2124.91\" cy=\"2393.77\" r=\"22.03\" style=\"fill:#1A476F;stroke:#1A476F;stroke-width:8.64\"/>\n",
       "\t<circle cx=\"2141.62\" cy=\"2398.23\" r=\"22.03\" style=\"fill:#1A476F;stroke:#1A476F;stroke-width:8.64\"/>\n",
       "\t<circle cx=\"2158.32\" cy=\"2402.19\" r=\"22.03\" style=\"fill:#1A476F;stroke:#1A476F;stroke-width:8.64\"/>\n",
       "\t<circle cx=\"2175.03\" cy=\"2406.02\" r=\"22.03\" style=\"fill:#1A476F;stroke:#1A476F;stroke-width:8.64\"/>\n",
       "\t<circle cx=\"2191.74\" cy=\"2409.49\" r=\"22.03\" style=\"fill:#1A476F;stroke:#1A476F;stroke-width:8.64\"/>\n",
       "\t<circle cx=\"2208.44\" cy=\"2412.58\" r=\"22.03\" style=\"fill:#1A476F;stroke:#1A476F;stroke-width:8.64\"/>\n",
       "\t<circle cx=\"2225.15\" cy=\"2415.30\" r=\"22.03\" style=\"fill:#1A476F;stroke:#1A476F;stroke-width:8.64\"/>\n",
       "\t<circle cx=\"2241.86\" cy=\"2417.78\" r=\"22.03\" style=\"fill:#1A476F;stroke:#1A476F;stroke-width:8.64\"/>\n",
       "\t<circle cx=\"2258.56\" cy=\"2419.88\" r=\"22.03\" style=\"fill:#1A476F;stroke:#1A476F;stroke-width:8.64\"/>\n",
       "\t<circle cx=\"2275.27\" cy=\"2421.74\" r=\"22.03\" style=\"fill:#1A476F;stroke:#1A476F;stroke-width:8.64\"/>\n",
       "\t<circle cx=\"2291.97\" cy=\"2423.22\" r=\"22.03\" style=\"fill:#1A476F;stroke:#1A476F;stroke-width:8.64\"/>\n",
       "\t<circle cx=\"2308.68\" cy=\"2424.34\" r=\"22.03\" style=\"fill:#1A476F;stroke:#1A476F;stroke-width:8.64\"/>\n",
       "\t<circle cx=\"2325.39\" cy=\"2425.20\" r=\"22.03\" style=\"fill:#1A476F;stroke:#1A476F;stroke-width:8.64\"/>\n",
       "\t<circle cx=\"2342.09\" cy=\"2425.70\" r=\"22.03\" style=\"fill:#1A476F;stroke:#1A476F;stroke-width:8.64\"/>\n",
       "\t<circle cx=\"2358.80\" cy=\"2425.95\" r=\"22.03\" style=\"fill:#1A476F;stroke:#1A476F;stroke-width:8.64\"/>\n",
       "\t<circle cx=\"2375.51\" cy=\"2425.82\" r=\"22.03\" style=\"fill:#1A476F;stroke:#1A476F;stroke-width:8.64\"/>\n",
       "\t<circle cx=\"2392.21\" cy=\"2425.33\" r=\"22.03\" style=\"fill:#1A476F;stroke:#1A476F;stroke-width:8.64\"/>\n",
       "\t<circle cx=\"2408.92\" cy=\"2424.46\" r=\"22.03\" style=\"fill:#1A476F;stroke:#1A476F;stroke-width:8.64\"/>\n",
       "\t<circle cx=\"2425.62\" cy=\"2423.47\" r=\"22.03\" style=\"fill:#1A476F;stroke:#1A476F;stroke-width:8.64\"/>\n",
       "\t<circle cx=\"2442.33\" cy=\"2421.99\" r=\"22.03\" style=\"fill:#1A476F;stroke:#1A476F;stroke-width:8.64\"/>\n",
       "\t<circle cx=\"2459.04\" cy=\"2420.25\" r=\"22.03\" style=\"fill:#1A476F;stroke:#1A476F;stroke-width:8.64\"/>\n",
       "\t<circle cx=\"2475.74\" cy=\"2418.15\" r=\"22.03\" style=\"fill:#1A476F;stroke:#1A476F;stroke-width:8.64\"/>\n",
       "\t<circle cx=\"2492.45\" cy=\"2415.68\" r=\"22.03\" style=\"fill:#1A476F;stroke:#1A476F;stroke-width:8.64\"/>\n",
       "\t<circle cx=\"2509.16\" cy=\"2412.95\" r=\"22.03\" style=\"fill:#1A476F;stroke:#1A476F;stroke-width:8.64\"/>\n",
       "\t<circle cx=\"2525.86\" cy=\"2409.98\" r=\"22.03\" style=\"fill:#1A476F;stroke:#1A476F;stroke-width:8.64\"/>\n",
       "\t<circle cx=\"2542.57\" cy=\"2406.52\" r=\"22.03\" style=\"fill:#1A476F;stroke:#1A476F;stroke-width:8.64\"/>\n",
       "\t<circle cx=\"2559.27\" cy=\"2402.81\" r=\"22.03\" style=\"fill:#1A476F;stroke:#1A476F;stroke-width:8.64\"/>\n",
       "\t<circle cx=\"2575.98\" cy=\"2398.84\" r=\"22.03\" style=\"fill:#1A476F;stroke:#1A476F;stroke-width:8.64\"/>\n",
       "\t<circle cx=\"2592.69\" cy=\"2394.39\" r=\"22.03\" style=\"fill:#1A476F;stroke:#1A476F;stroke-width:8.64\"/>\n",
       "\t<circle cx=\"2609.39\" cy=\"2389.81\" r=\"22.03\" style=\"fill:#1A476F;stroke:#1A476F;stroke-width:8.64\"/>\n",
       "\t<circle cx=\"2626.10\" cy=\"2384.74\" r=\"22.03\" style=\"fill:#1A476F;stroke:#1A476F;stroke-width:8.64\"/>\n",
       "\t<circle cx=\"2642.80\" cy=\"2379.42\" r=\"22.03\" style=\"fill:#1A476F;stroke:#1A476F;stroke-width:8.64\"/>\n",
       "\t<circle cx=\"2659.51\" cy=\"2373.72\" r=\"22.03\" style=\"fill:#1A476F;stroke:#1A476F;stroke-width:8.64\"/>\n",
       "\t<circle cx=\"2676.22\" cy=\"2367.78\" r=\"22.03\" style=\"fill:#1A476F;stroke:#1A476F;stroke-width:8.64\"/>\n",
       "\t<circle cx=\"2692.92\" cy=\"2361.47\" r=\"22.03\" style=\"fill:#1A476F;stroke:#1A476F;stroke-width:8.64\"/>\n",
       "\t<circle cx=\"2709.63\" cy=\"2354.91\" r=\"22.03\" style=\"fill:#1A476F;stroke:#1A476F;stroke-width:8.64\"/>\n",
       "\t<circle cx=\"2726.34\" cy=\"2347.86\" r=\"22.03\" style=\"fill:#1A476F;stroke:#1A476F;stroke-width:8.64\"/>\n",
       "\t<circle cx=\"2743.04\" cy=\"2340.68\" r=\"22.03\" style=\"fill:#1A476F;stroke:#1A476F;stroke-width:8.64\"/>\n",
       "\t<circle cx=\"2759.75\" cy=\"2333.01\" r=\"22.03\" style=\"fill:#1A476F;stroke:#1A476F;stroke-width:8.64\"/>\n",
       "\t<circle cx=\"2776.45\" cy=\"2325.09\" r=\"22.03\" style=\"fill:#1A476F;stroke:#1A476F;stroke-width:8.64\"/>\n",
       "\t<circle cx=\"2793.16\" cy=\"2316.80\" r=\"22.03\" style=\"fill:#1A476F;stroke:#1A476F;stroke-width:8.64\"/>\n",
       "\t<circle cx=\"2809.87\" cy=\"2308.26\" r=\"22.03\" style=\"fill:#1A476F;stroke:#1A476F;stroke-width:8.64\"/>\n",
       "\t<circle cx=\"2826.57\" cy=\"2299.35\" r=\"22.03\" style=\"fill:#1A476F;stroke:#1A476F;stroke-width:8.64\"/>\n",
       "\t<circle cx=\"2843.28\" cy=\"2290.19\" r=\"22.03\" style=\"fill:#1A476F;stroke:#1A476F;stroke-width:8.64\"/>\n",
       "\t<circle cx=\"2859.99\" cy=\"2280.54\" r=\"22.03\" style=\"fill:#1A476F;stroke:#1A476F;stroke-width:8.64\"/>\n",
       "\t<circle cx=\"2876.69\" cy=\"2270.76\" r=\"22.03\" style=\"fill:#1A476F;stroke:#1A476F;stroke-width:8.64\"/>\n",
       "\t<circle cx=\"2893.40\" cy=\"2260.49\" r=\"22.03\" style=\"fill:#1A476F;stroke:#1A476F;stroke-width:8.64\"/>\n",
       "\t<circle cx=\"2910.11\" cy=\"2249.97\" r=\"22.03\" style=\"fill:#1A476F;stroke:#1A476F;stroke-width:8.64\"/>\n",
       "\t<circle cx=\"2926.81\" cy=\"2239.20\" r=\"22.03\" style=\"fill:#1A476F;stroke:#1A476F;stroke-width:8.64\"/>\n",
       "\t<circle cx=\"2943.52\" cy=\"2227.94\" r=\"22.03\" style=\"fill:#1A476F;stroke:#1A476F;stroke-width:8.64\"/>\n",
       "\t<circle cx=\"2960.22\" cy=\"2216.43\" r=\"22.03\" style=\"fill:#1A476F;stroke:#1A476F;stroke-width:8.64\"/>\n",
       "\t<circle cx=\"2976.93\" cy=\"2204.68\" r=\"22.03\" style=\"fill:#1A476F;stroke:#1A476F;stroke-width:8.64\"/>\n",
       "\t<circle cx=\"2993.64\" cy=\"2192.55\" r=\"22.03\" style=\"fill:#1A476F;stroke:#1A476F;stroke-width:8.64\"/>\n",
       "\t<circle cx=\"3010.34\" cy=\"2180.05\" r=\"22.03\" style=\"fill:#1A476F;stroke:#1A476F;stroke-width:8.64\"/>\n",
       "\t<circle cx=\"3027.05\" cy=\"2167.18\" r=\"22.03\" style=\"fill:#1A476F;stroke:#1A476F;stroke-width:8.64\"/>\n",
       "\t<circle cx=\"3043.76\" cy=\"2154.06\" r=\"22.03\" style=\"fill:#1A476F;stroke:#1A476F;stroke-width:8.64\"/>\n",
       "\t<circle cx=\"3060.46\" cy=\"2140.69\" r=\"22.03\" style=\"fill:#1A476F;stroke:#1A476F;stroke-width:8.64\"/>\n",
       "\t<circle cx=\"3077.17\" cy=\"2126.96\" r=\"22.03\" style=\"fill:#1A476F;stroke:#1A476F;stroke-width:8.64\"/>\n",
       "\t<circle cx=\"3093.87\" cy=\"2112.85\" r=\"22.03\" style=\"fill:#1A476F;stroke:#1A476F;stroke-width:8.64\"/>\n",
       "\t<circle cx=\"3110.58\" cy=\"2098.37\" r=\"22.03\" style=\"fill:#1A476F;stroke:#1A476F;stroke-width:8.64\"/>\n",
       "\t<circle cx=\"3127.29\" cy=\"2083.64\" r=\"22.03\" style=\"fill:#1A476F;stroke:#1A476F;stroke-width:8.64\"/>\n",
       "\t<circle cx=\"3143.99\" cy=\"2068.55\" r=\"22.03\" style=\"fill:#1A476F;stroke:#1A476F;stroke-width:8.64\"/>\n",
       "\t<circle cx=\"3160.70\" cy=\"2053.20\" r=\"22.03\" style=\"fill:#1A476F;stroke:#1A476F;stroke-width:8.64\"/>\n",
       "\t<circle cx=\"3177.41\" cy=\"2037.48\" r=\"22.03\" style=\"fill:#1A476F;stroke:#1A476F;stroke-width:8.64\"/>\n",
       "\t<circle cx=\"3194.24\" cy=\"2021.40\" r=\"22.03\" style=\"fill:#1A476F;stroke:#1A476F;stroke-width:8.64\"/>\n",
       "\t<circle cx=\"3210.94\" cy=\"2005.06\" r=\"22.03\" style=\"fill:#1A476F;stroke:#1A476F;stroke-width:8.64\"/>\n",
       "\t<circle cx=\"3227.65\" cy=\"1988.35\" r=\"22.03\" style=\"fill:#1A476F;stroke:#1A476F;stroke-width:8.64\"/>\n",
       "\t<circle cx=\"3244.35\" cy=\"1971.40\" r=\"22.03\" style=\"fill:#1A476F;stroke:#1A476F;stroke-width:8.64\"/>\n",
       "\t<circle cx=\"3261.06\" cy=\"1954.07\" r=\"22.03\" style=\"fill:#1A476F;stroke:#1A476F;stroke-width:8.64\"/>\n",
       "\t<circle cx=\"3277.77\" cy=\"1936.38\" r=\"22.03\" style=\"fill:#1A476F;stroke:#1A476F;stroke-width:8.64\"/>\n",
       "\t<circle cx=\"3294.47\" cy=\"1918.31\" r=\"22.03\" style=\"fill:#1A476F;stroke:#1A476F;stroke-width:8.64\"/>\n",
       "\t<circle cx=\"3311.18\" cy=\"1899.99\" r=\"22.03\" style=\"fill:#1A476F;stroke:#1A476F;stroke-width:8.64\"/>\n",
       "\t<circle cx=\"3327.89\" cy=\"1881.43\" r=\"22.03\" style=\"fill:#1A476F;stroke:#1A476F;stroke-width:8.64\"/>\n",
       "\t<circle cx=\"3344.59\" cy=\"1862.50\" r=\"22.03\" style=\"fill:#1A476F;stroke:#1A476F;stroke-width:8.64\"/>\n",
       "\t<circle cx=\"3361.30\" cy=\"1843.19\" r=\"22.03\" style=\"fill:#1A476F;stroke:#1A476F;stroke-width:8.64\"/>\n",
       "\t<circle cx=\"3378.00\" cy=\"1823.51\" r=\"22.03\" style=\"fill:#1A476F;stroke:#1A476F;stroke-width:8.64\"/>\n",
       "\t<circle cx=\"3394.71\" cy=\"1803.59\" r=\"22.03\" style=\"fill:#1A476F;stroke:#1A476F;stroke-width:8.64\"/>\n",
       "\t<circle cx=\"3411.42\" cy=\"1783.29\" r=\"22.03\" style=\"fill:#1A476F;stroke:#1A476F;stroke-width:8.64\"/>\n",
       "\t<circle cx=\"3428.12\" cy=\"1762.75\" r=\"22.03\" style=\"fill:#1A476F;stroke:#1A476F;stroke-width:8.64\"/>\n",
       "\t<circle cx=\"3444.83\" cy=\"1741.84\" r=\"22.03\" style=\"fill:#1A476F;stroke:#1A476F;stroke-width:8.64\"/>\n",
       "\t<line x1=\"390.80\" y1=\"2489.19\" x2=\"390.80\" y2=\"100.86\" style=\"stroke:#000000;stroke-width:5.76\"/>\n",
       "\t<line x1=\"390.80\" y1=\"2424.46\" x2=\"350.83\" y2=\"2424.46\" style=\"stroke:#000000;stroke-width:5.76\"/>\n",
       "\t<text x=\"300.72\" y=\"2424.46\" style=\"font-family:'Helvetica';font-size:99.99px;fill:#000000\" transform=\"rotate(-90 300.72,2424.46)\" text-anchor=\"middle\">6.9</text>\n",
       "\t<line x1=\"390.80\" y1=\"1972.39\" x2=\"350.83\" y2=\"1972.39\" style=\"stroke:#000000;stroke-width:5.76\"/>\n",
       "\t<text x=\"300.72\" y=\"1972.39\" style=\"font-family:'Helvetica';font-size:99.99px;fill:#000000\" transform=\"rotate(-90 300.72,1972.39)\" text-anchor=\"middle\">7</text>\n",
       "\t<line x1=\"390.80\" y1=\"1520.32\" x2=\"350.83\" y2=\"1520.32\" style=\"stroke:#000000;stroke-width:5.76\"/>\n",
       "\t<text x=\"300.72\" y=\"1520.32\" style=\"font-family:'Helvetica';font-size:99.99px;fill:#000000\" transform=\"rotate(-90 300.72,1520.32)\" text-anchor=\"middle\">7.1</text>\n",
       "\t<line x1=\"390.80\" y1=\"1068.24\" x2=\"350.83\" y2=\"1068.24\" style=\"stroke:#000000;stroke-width:5.76\"/>\n",
       "\t<text x=\"300.72\" y=\"1068.24\" style=\"font-family:'Helvetica';font-size:99.99px;fill:#000000\" transform=\"rotate(-90 300.72,1068.24)\" text-anchor=\"middle\">7.2</text>\n",
       "\t<line x1=\"390.80\" y1=\"616.17\" x2=\"350.83\" y2=\"616.17\" style=\"stroke:#000000;stroke-width:5.76\"/>\n",
       "\t<text x=\"300.72\" y=\"616.17\" style=\"font-family:'Helvetica';font-size:99.99px;fill:#000000\" transform=\"rotate(-90 300.72,616.17)\" text-anchor=\"middle\">7.3</text>\n",
       "\t<line x1=\"390.80\" y1=\"164.22\" x2=\"350.83\" y2=\"164.22\" style=\"stroke:#000000;stroke-width:5.76\"/>\n",
       "\t<text x=\"300.72\" y=\"164.22\" style=\"font-family:'Helvetica';font-size:99.99px;fill:#000000\" transform=\"rotate(-90 300.72,164.22)\" text-anchor=\"middle\">7.4</text>\n",
       "\t<text x=\"190.71\" y=\"1294.96\" style=\"font-family:'Helvetica';font-size:99.99px;fill:#000000\" transform=\"rotate(-90 190.71,1294.96)\" text-anchor=\"middle\">y_hat</text>\n",
       "\t<line x1=\"390.80\" y1=\"2489.19\" x2=\"3859.02\" y2=\"2489.19\" style=\"stroke:#000000;stroke-width:5.76\"/>\n",
       "\t<line x1=\"454.16\" y1=\"2489.19\" x2=\"454.16\" y2=\"2529.16\" style=\"stroke:#000000;stroke-width:5.76\"/>\n",
       "\t<text x=\"454.16\" y=\"2619.14\" style=\"font-family:'Helvetica';font-size:99.99px;fill:#000000\" text-anchor=\"middle\">0</text>\n",
       "\t<line x1=\"1289.47\" y1=\"2489.19\" x2=\"1289.47\" y2=\"2529.16\" style=\"stroke:#000000;stroke-width:5.76\"/>\n",
       "\t<text x=\"1289.47\" y=\"2619.14\" style=\"font-family:'Helvetica';font-size:99.99px;fill:#000000\" text-anchor=\"middle\">50</text>\n",
       "\t<line x1=\"2124.91\" y1=\"2489.19\" x2=\"2124.91\" y2=\"2529.16\" style=\"stroke:#000000;stroke-width:5.76\"/>\n",
       "\t<text x=\"2124.91\" y=\"2619.14\" style=\"font-family:'Helvetica';font-size:99.99px;fill:#000000\" text-anchor=\"middle\">100</text>\n",
       "\t<line x1=\"2960.35\" y1=\"2489.19\" x2=\"2960.35\" y2=\"2529.16\" style=\"stroke:#000000;stroke-width:5.76\"/>\n",
       "\t<text x=\"2960.35\" y=\"2619.14\" style=\"font-family:'Helvetica';font-size:99.99px;fill:#000000\" text-anchor=\"middle\">150</text>\n",
       "\t<line x1=\"3795.66\" y1=\"2489.19\" x2=\"3795.66\" y2=\"2529.16\" style=\"stroke:#000000;stroke-width:5.76\"/>\n",
       "\t<text x=\"3795.66\" y=\"2619.14\" style=\"font-family:'Helvetica';font-size:99.99px;fill:#000000\" text-anchor=\"middle\">200</text>\n",
       "\t<text x=\"2124.91\" y=\"2729.16\" style=\"font-family:'Helvetica';font-size:99.99px;fill:#000000\" text-anchor=\"middle\">age_range</text>\n",
       "</svg>\n"
      ],
      "text/html": [
       "                <iframe frameborder=\"0\" scrolling=\"no\" height=\"436\" width=\"600\"                srcdoc=\"<html><body>&lt;?xml version=&quot;1.0&quot; encoding=&quot;UTF-8&quot; standalone=&quot;no&quot;?&gt;\n",
       "&lt;!-- This is a Stata 14.2 generated SVG file (http://www.stata.com) --&gt;\n",
       "\n",
       "&lt;svg version=&quot;1.1&quot; width=&quot;600px&quot; height=&quot;436px&quot; viewBox=&quot;0 0 3960 2880&quot; xmlns=&quot;http://www.w3.org/2000/svg&quot;&gt;\n",
       "\t&lt;desc&gt;Stata Graph - Graph&lt;/desc&gt;\n",
       "\t&lt;rect x=&quot;0.00&quot; y=&quot;0.00&quot; width=&quot;3959.88&quot; height=&quot;2880.00&quot; style=&quot;fill:#EAF2F3;stroke:#EAF2F3;stroke-width:5.76&quot;/&gt;\n",
       "\t&lt;rect x=&quot;390.80&quot; y=&quot;100.86&quot; width=&quot;3468.22&quot; height=&quot;2388.33&quot; style=&quot;fill:#FFFFFF;stroke:#FFFFFF;stroke-width:5.76&quot;/&gt;\n",
       "\t&lt;line x1=&quot;390.80&quot; y1=&quot;2424.46&quot; x2=&quot;3859.02&quot; y2=&quot;2424.46&quot; style=&quot;stroke:#EAF2F3;stroke-width:8.64&quot;/&gt;\n",
       "\t&lt;line x1=&quot;390.80&quot; y1=&quot;1972.39&quot; x2=&quot;3859.02&quot; y2=&quot;1972.39&quot; style=&quot;stroke:#EAF2F3;stroke-width:8.64&quot;/&gt;\n",
       "\t&lt;line x1=&quot;390.80&quot; y1=&quot;1520.32&quot; x2=&quot;3859.02&quot; y2=&quot;1520.32&quot; style=&quot;stroke:#EAF2F3;stroke-width:8.64&quot;/&gt;\n",
       "\t&lt;line x1=&quot;390.80&quot; y1=&quot;1068.24&quot; x2=&quot;3859.02&quot; y2=&quot;1068.24&quot; style=&quot;stroke:#EAF2F3;stroke-width:8.64&quot;/&gt;\n",
       "\t&lt;line x1=&quot;390.80&quot; y1=&quot;616.17&quot; x2=&quot;3859.02&quot; y2=&quot;616.17&quot; style=&quot;stroke:#EAF2F3;stroke-width:8.64&quot;/&gt;\n",
       "\t&lt;line x1=&quot;390.80&quot; y1=&quot;164.22&quot; x2=&quot;3859.02&quot; y2=&quot;164.22&quot; style=&quot;stroke:#EAF2F3;stroke-width:8.64&quot;/&gt;\n",
       "\t&lt;line x1=&quot;2360.16&quot; y1=&quot;2489.19&quot; x2=&quot;2360.16&quot; y2=&quot;100.86&quot; style=&quot;stroke:#FF0000;stroke-width:8.64&quot;/&gt;\n",
       "\t&lt;circle cx=&quot;470.75&quot; cy=&quot;350.97&quot; r=&quot;22.03&quot; style=&quot;fill:#1A476F;stroke:#1A476F;stroke-width:8.64&quot;/&gt;\n",
       "\t&lt;circle cx=&quot;487.45&quot; cy=&quot;387.47&quot; r=&quot;22.03&quot; style=&quot;fill:#1A476F;stroke:#1A476F;stroke-width:8.64&quot;/&gt;\n",
       "\t&lt;circle cx=&quot;504.16&quot; cy=&quot;423.73&quot; r=&quot;22.03&quot; style=&quot;fill:#1A476F;stroke:#1A476F;stroke-width:8.64&quot;/&gt;\n",
       "\t&lt;circle cx=&quot;520.86&quot; cy=&quot;459.62&quot; r=&quot;22.03&quot; style=&quot;fill:#1A476F;stroke:#1A476F;stroke-width:8.64&quot;/&gt;\n",
       "\t&lt;circle cx=&quot;537.57&quot; cy=&quot;495.14&quot; r=&quot;22.03&quot; style=&quot;fill:#1A476F;stroke:#1A476F;stroke-width:8.64&quot;/&gt;\n",
       "\t&lt;circle cx=&quot;554.28&quot; cy=&quot;530.41&quot; r=&quot;22.03&quot; style=&quot;fill:#1A476F;stroke:#1A476F;stroke-width:8.64&quot;/&gt;\n",
       "\t&lt;circle cx=&quot;570.98&quot; cy=&quot;565.31&quot; r=&quot;22.03&quot; style=&quot;fill:#1A476F;stroke:#1A476F;stroke-width:8.64&quot;/&gt;\n",
       "\t&lt;circle cx=&quot;587.69&quot; cy=&quot;599.96&quot; r=&quot;22.03&quot; style=&quot;fill:#1A476F;stroke:#1A476F;stroke-width:8.64&quot;/&gt;\n",
       "\t&lt;circle cx=&quot;604.39&quot; cy=&quot;634.11&quot; r=&quot;22.03&quot; style=&quot;fill:#1A476F;stroke:#1A476F;stroke-width:8.64&quot;/&gt;\n",
       "\t&lt;circle cx=&quot;621.10&quot; cy=&quot;668.15&quot; r=&quot;22.03&quot; style=&quot;fill:#1A476F;stroke:#1A476F;stroke-width:8.64&quot;/&gt;\n",
       "\t&lt;circle cx=&quot;637.81&quot; cy=&quot;701.68&quot; r=&quot;22.03&quot; style=&quot;fill:#1A476F;stroke:#1A476F;stroke-width:8.64&quot;/&gt;\n",
       "\t&lt;circle cx=&quot;654.51&quot; cy=&quot;734.97&quot; r=&quot;22.03&quot; style=&quot;fill:#1A476F;stroke:#1A476F;stroke-width:8.64&quot;/&gt;\n",
       "\t&lt;circle cx=&quot;671.22&quot; cy=&quot;768.02&quot; r=&quot;22.03&quot; style=&quot;fill:#1A476F;stroke:#1A476F;stroke-width:8.64&quot;/&gt;\n",
       "\t&lt;circle cx=&quot;687.93&quot; cy=&quot;800.69&quot; r=&quot;22.03&quot; style=&quot;fill:#1A476F;stroke:#1A476F;stroke-width:8.64&quot;/&gt;\n",
       "\t&lt;circle cx=&quot;704.76&quot; cy=&quot;832.99&quot; r=&quot;22.03&quot; style=&quot;fill:#1A476F;stroke:#1A476F;stroke-width:8.64&quot;/&gt;\n",
       "\t&lt;circle cx=&quot;721.46&quot; cy=&quot;864.92&quot; r=&quot;22.03&quot; style=&quot;fill:#1A476F;stroke:#1A476F;stroke-width:8.64&quot;/&gt;\n",
       "\t&lt;circle cx=&quot;738.17&quot; cy=&quot;896.60&quot; r=&quot;22.03&quot; style=&quot;fill:#1A476F;stroke:#1A476F;stroke-width:8.64&quot;/&gt;\n",
       "\t&lt;circle cx=&quot;754.88&quot; cy=&quot;927.91&quot; r=&quot;22.03&quot; style=&quot;fill:#1A476F;stroke:#1A476F;stroke-width:8.64&quot;/&gt;\n",
       "\t&lt;circle cx=&quot;771.58&quot; cy=&quot;958.97&quot; r=&quot;22.03&quot; style=&quot;fill:#1A476F;stroke:#1A476F;stroke-width:8.64&quot;/&gt;\n",
       "\t&lt;circle cx=&quot;788.29&quot; cy=&quot;989.66&quot; r=&quot;22.03&quot; style=&quot;fill:#1A476F;stroke:#1A476F;stroke-width:8.64&quot;/&gt;\n",
       "\t&lt;circle cx=&quot;804.99&quot; cy=&quot;1020.10&quot; r=&quot;22.03&quot; style=&quot;fill:#1A476F;stroke:#1A476F;stroke-width:8.64&quot;/&gt;\n",
       "\t&lt;circle cx=&quot;821.70&quot; cy=&quot;1050.05&quot; r=&quot;22.03&quot; style=&quot;fill:#1A476F;stroke:#1A476F;stroke-width:8.64&quot;/&gt;\n",
       "\t&lt;circle cx=&quot;838.41&quot; cy=&quot;1079.88&quot; r=&quot;22.03&quot; style=&quot;fill:#1A476F;stroke:#1A476F;stroke-width:8.64&quot;/&gt;\n",
       "\t&lt;circle cx=&quot;855.11&quot; cy=&quot;1109.21&quot; r=&quot;22.03&quot; style=&quot;fill:#1A476F;stroke:#1A476F;stroke-width:8.64&quot;/&gt;\n",
       "\t&lt;circle cx=&quot;871.82&quot; cy=&quot;1138.29&quot; r=&quot;22.03&quot; style=&quot;fill:#1A476F;stroke:#1A476F;stroke-width:8.64&quot;/&gt;\n",
       "\t&lt;circle cx=&quot;888.52&quot; cy=&quot;1167.00&quot; r=&quot;22.03&quot; style=&quot;fill:#1A476F;stroke:#1A476F;stroke-width:8.64&quot;/&gt;\n",
       "\t&lt;circle cx=&quot;905.23&quot; cy=&quot;1195.46&quot; r=&quot;22.03&quot; style=&quot;fill:#1A476F;stroke:#1A476F;stroke-width:8.64&quot;/&gt;\n",
       "\t&lt;circle cx=&quot;921.94&quot; cy=&quot;1223.55&quot; r=&quot;22.03&quot; style=&quot;fill:#1A476F;stroke:#1A476F;stroke-width:8.64&quot;/&gt;\n",
       "\t&lt;circle cx=&quot;938.64&quot; cy=&quot;1251.28&quot; r=&quot;22.03&quot; style=&quot;fill:#1A476F;stroke:#1A476F;stroke-width:8.64&quot;/&gt;\n",
       "\t&lt;circle cx=&quot;955.35&quot; cy=&quot;1278.75&quot; r=&quot;22.03&quot; style=&quot;fill:#1A476F;stroke:#1A476F;stroke-width:8.64&quot;/&gt;\n",
       "\t&lt;circle cx=&quot;972.06&quot; cy=&quot;1305.85&quot; r=&quot;22.03&quot; style=&quot;fill:#1A476F;stroke:#1A476F;stroke-width:8.64&quot;/&gt;\n",
       "\t&lt;circle cx=&quot;988.76&quot; cy=&quot;1332.71&quot; r=&quot;22.03&quot; style=&quot;fill:#1A476F;stroke:#1A476F;stroke-width:8.64&quot;/&gt;\n",
       "\t&lt;circle cx=&quot;1005.47&quot; cy=&quot;1359.19&quot; r=&quot;22.03&quot; style=&quot;fill:#1A476F;stroke:#1A476F;stroke-width:8.64&quot;/&gt;\n",
       "\t&lt;circle cx=&quot;1022.17&quot; cy=&quot;1385.30&quot; r=&quot;22.03&quot; style=&quot;fill:#1A476F;stroke:#1A476F;stroke-width:8.64&quot;/&gt;\n",
       "\t&lt;circle cx=&quot;1038.88&quot; cy=&quot;1411.17&quot; r=&quot;22.03&quot; style=&quot;fill:#1A476F;stroke:#1A476F;stroke-width:8.64&quot;/&gt;\n",
       "\t&lt;circle cx=&quot;1055.59&quot; cy=&quot;1436.66&quot; r=&quot;22.03&quot; style=&quot;fill:#1A476F;stroke:#1A476F;stroke-width:8.64&quot;/&gt;\n",
       "\t&lt;circle cx=&quot;1072.29&quot; cy=&quot;1461.90&quot; r=&quot;22.03&quot; style=&quot;fill:#1A476F;stroke:#1A476F;stroke-width:8.64&quot;/&gt;\n",
       "\t&lt;circle cx=&quot;1089.00&quot; cy=&quot;1486.66&quot; r=&quot;22.03&quot; style=&quot;fill:#1A476F;stroke:#1A476F;stroke-width:8.64&quot;/&gt;\n",
       "\t&lt;circle cx=&quot;1105.71&quot; cy=&quot;1511.28&quot; r=&quot;22.03&quot; style=&quot;fill:#1A476F;stroke:#1A476F;stroke-width:8.64&quot;/&gt;\n",
       "\t&lt;circle cx=&quot;1122.41&quot; cy=&quot;1535.41&quot; r=&quot;22.03&quot; style=&quot;fill:#1A476F;stroke:#1A476F;stroke-width:8.64&quot;/&gt;\n",
       "\t&lt;circle cx=&quot;1139.12&quot; cy=&quot;1559.30&quot; r=&quot;22.03&quot; style=&quot;fill:#1A476F;stroke:#1A476F;stroke-width:8.64&quot;/&gt;\n",
       "\t&lt;circle cx=&quot;1155.83&quot; cy=&quot;1582.81&quot; r=&quot;22.03&quot; style=&quot;fill:#1A476F;stroke:#1A476F;stroke-width:8.64&quot;/&gt;\n",
       "\t&lt;circle cx=&quot;1172.53&quot; cy=&quot;1606.08&quot; r=&quot;22.03&quot; style=&quot;fill:#1A476F;stroke:#1A476F;stroke-width:8.64&quot;/&gt;\n",
       "\t&lt;circle cx=&quot;1189.24&quot; cy=&quot;1628.97&quot; r=&quot;22.03&quot; style=&quot;fill:#1A476F;stroke:#1A476F;stroke-width:8.64&quot;/&gt;\n",
       "\t&lt;circle cx=&quot;1205.94&quot; cy=&quot;1651.62&quot; r=&quot;22.03&quot; style=&quot;fill:#1A476F;stroke:#1A476F;stroke-width:8.64&quot;/&gt;\n",
       "\t&lt;circle cx=&quot;1222.65&quot; cy=&quot;1673.89&quot; r=&quot;22.03&quot; style=&quot;fill:#1A476F;stroke:#1A476F;stroke-width:8.64&quot;/&gt;\n",
       "\t&lt;circle cx=&quot;1239.36&quot; cy=&quot;1695.80&quot; r=&quot;22.03&quot; style=&quot;fill:#1A476F;stroke:#1A476F;stroke-width:8.64&quot;/&gt;\n",
       "\t&lt;circle cx=&quot;1256.06&quot; cy=&quot;1717.33&quot; r=&quot;22.03&quot; style=&quot;fill:#1A476F;stroke:#1A476F;stroke-width:8.64&quot;/&gt;\n",
       "\t&lt;circle cx=&quot;1272.77&quot; cy=&quot;1738.62&quot; r=&quot;22.03&quot; style=&quot;fill:#1A476F;stroke:#1A476F;stroke-width:8.64&quot;/&gt;\n",
       "\t&lt;circle cx=&quot;1289.47&quot; cy=&quot;1759.66&quot; r=&quot;22.03&quot; style=&quot;fill:#1A476F;stroke:#1A476F;stroke-width:8.64&quot;/&gt;\n",
       "\t&lt;circle cx=&quot;1306.18&quot; cy=&quot;1780.32&quot; r=&quot;22.03&quot; style=&quot;fill:#1A476F;stroke:#1A476F;stroke-width:8.64&quot;/&gt;\n",
       "\t&lt;circle cx=&quot;1322.89&quot; cy=&quot;1800.62&quot; r=&quot;22.03&quot; style=&quot;fill:#1A476F;stroke:#1A476F;stroke-width:8.64&quot;/&gt;\n",
       "\t&lt;circle cx=&quot;1339.59&quot; cy=&quot;1820.54&quot; r=&quot;22.03&quot; style=&quot;fill:#1A476F;stroke:#1A476F;stroke-width:8.64&quot;/&gt;\n",
       "\t&lt;circle cx=&quot;1356.30&quot; cy=&quot;1840.22&quot; r=&quot;22.03&quot; style=&quot;fill:#1A476F;stroke:#1A476F;stroke-width:8.64&quot;/&gt;\n",
       "\t&lt;circle cx=&quot;1373.01&quot; cy=&quot;1859.53&quot; r=&quot;22.03&quot; style=&quot;fill:#1A476F;stroke:#1A476F;stroke-width:8.64&quot;/&gt;\n",
       "\t&lt;circle cx=&quot;1389.71&quot; cy=&quot;1878.58&quot; r=&quot;22.03&quot; style=&quot;fill:#1A476F;stroke:#1A476F;stroke-width:8.64&quot;/&gt;\n",
       "\t&lt;circle cx=&quot;1406.42&quot; cy=&quot;1897.27&quot; r=&quot;22.03&quot; style=&quot;fill:#1A476F;stroke:#1A476F;stroke-width:8.64&quot;/&gt;\n",
       "\t&lt;circle cx=&quot;1423.12&quot; cy=&quot;1915.59&quot; r=&quot;22.03&quot; style=&quot;fill:#1A476F;stroke:#1A476F;stroke-width:8.64&quot;/&gt;\n",
       "\t&lt;circle cx=&quot;1439.83&quot; cy=&quot;1933.65&quot; r=&quot;22.03&quot; style=&quot;fill:#1A476F;stroke:#1A476F;stroke-width:8.64&quot;/&gt;\n",
       "\t&lt;circle cx=&quot;1456.54&quot; cy=&quot;1951.35&quot; r=&quot;22.03&quot; style=&quot;fill:#1A476F;stroke:#1A476F;stroke-width:8.64&quot;/&gt;\n",
       "\t&lt;circle cx=&quot;1473.24&quot; cy=&quot;1968.80&quot; r=&quot;22.03&quot; style=&quot;fill:#1A476F;stroke:#1A476F;stroke-width:8.64&quot;/&gt;\n",
       "\t&lt;circle cx=&quot;1489.95&quot; cy=&quot;1985.88&quot; r=&quot;22.03&quot; style=&quot;fill:#1A476F;stroke:#1A476F;stroke-width:8.64&quot;/&gt;\n",
       "\t&lt;circle cx=&quot;1506.66&quot; cy=&quot;2002.59&quot; r=&quot;22.03&quot; style=&quot;fill:#1A476F;stroke:#1A476F;stroke-width:8.64&quot;/&gt;\n",
       "\t&lt;circle cx=&quot;1523.36&quot; cy=&quot;2018.92&quot; r=&quot;22.03&quot; style=&quot;fill:#1A476F;stroke:#1A476F;stroke-width:8.64&quot;/&gt;\n",
       "\t&lt;circle cx=&quot;1540.07&quot; cy=&quot;2035.01&quot; r=&quot;22.03&quot; style=&quot;fill:#1A476F;stroke:#1A476F;stroke-width:8.64&quot;/&gt;\n",
       "\t&lt;circle cx=&quot;1556.78&quot; cy=&quot;2050.85&quot; r=&quot;22.03&quot; style=&quot;fill:#1A476F;stroke:#1A476F;stroke-width:8.64&quot;/&gt;\n",
       "\t&lt;circle cx=&quot;1573.48&quot; cy=&quot;2066.32&quot; r=&quot;22.03&quot; style=&quot;fill:#1A476F;stroke:#1A476F;stroke-width:8.64&quot;/&gt;\n",
       "\t&lt;circle cx=&quot;1590.19&quot; cy=&quot;2081.42&quot; r=&quot;22.03&quot; style=&quot;fill:#1A476F;stroke:#1A476F;stroke-width:8.64&quot;/&gt;\n",
       "\t&lt;circle cx=&quot;1606.89&quot; cy=&quot;2096.14&quot; r=&quot;22.03&quot; style=&quot;fill:#1A476F;stroke:#1A476F;stroke-width:8.64&quot;/&gt;\n",
       "\t&lt;circle cx=&quot;1623.60&quot; cy=&quot;2110.62&quot; r=&quot;22.03&quot; style=&quot;fill:#1A476F;stroke:#1A476F;stroke-width:8.64&quot;/&gt;\n",
       "\t&lt;circle cx=&quot;1640.31&quot; cy=&quot;2124.85&quot; r=&quot;22.03&quot; style=&quot;fill:#1A476F;stroke:#1A476F;stroke-width:8.64&quot;/&gt;\n",
       "\t&lt;circle cx=&quot;1657.01&quot; cy=&quot;2138.59&quot; r=&quot;22.03&quot; style=&quot;fill:#1A476F;stroke:#1A476F;stroke-width:8.64&quot;/&gt;\n",
       "\t&lt;circle cx=&quot;1673.72&quot; cy=&quot;2152.08&quot; r=&quot;22.03&quot; style=&quot;fill:#1A476F;stroke:#1A476F;stroke-width:8.64&quot;/&gt;\n",
       "\t&lt;circle cx=&quot;1690.42&quot; cy=&quot;2165.32&quot; r=&quot;22.03&quot; style=&quot;fill:#1A476F;stroke:#1A476F;stroke-width:8.64&quot;/&gt;\n",
       "\t&lt;circle cx=&quot;1707.13&quot; cy=&quot;2178.07&quot; r=&quot;22.03&quot; style=&quot;fill:#1A476F;stroke:#1A476F;stroke-width:8.64&quot;/&gt;\n",
       "\t&lt;circle cx=&quot;1723.84&quot; cy=&quot;2190.69&quot; r=&quot;22.03&quot; style=&quot;fill:#1A476F;stroke:#1A476F;stroke-width:8.64&quot;/&gt;\n",
       "\t&lt;circle cx=&quot;1740.54&quot; cy=&quot;2202.82&quot; r=&quot;22.03&quot; style=&quot;fill:#1A476F;stroke:#1A476F;stroke-width:8.64&quot;/&gt;\n",
       "\t&lt;circle cx=&quot;1757.25&quot; cy=&quot;2214.70&quot; r=&quot;22.03&quot; style=&quot;fill:#1A476F;stroke:#1A476F;stroke-width:8.64&quot;/&gt;\n",
       "\t&lt;circle cx=&quot;1773.96&quot; cy=&quot;2226.21&quot; r=&quot;22.03&quot; style=&quot;fill:#1A476F;stroke:#1A476F;stroke-width:8.64&quot;/&gt;\n",
       "\t&lt;circle cx=&quot;1790.66&quot; cy=&quot;2237.47&quot; r=&quot;22.03&quot; style=&quot;fill:#1A476F;stroke:#1A476F;stroke-width:8.64&quot;/&gt;\n",
       "\t&lt;circle cx=&quot;1807.37&quot; cy=&quot;2248.36&quot; r=&quot;22.03&quot; style=&quot;fill:#1A476F;stroke:#1A476F;stroke-width:8.64&quot;/&gt;\n",
       "\t&lt;circle cx=&quot;1824.08&quot; cy=&quot;2259.00&quot; r=&quot;22.03&quot; style=&quot;fill:#1A476F;stroke:#1A476F;stroke-width:8.64&quot;/&gt;\n",
       "\t&lt;circle cx=&quot;1840.78&quot; cy=&quot;2269.15&quot; r=&quot;22.03&quot; style=&quot;fill:#1A476F;stroke:#1A476F;stroke-width:8.64&quot;/&gt;\n",
       "\t&lt;circle cx=&quot;1857.49&quot; cy=&quot;2279.17&quot; r=&quot;22.03&quot; style=&quot;fill:#1A476F;stroke:#1A476F;stroke-width:8.64&quot;/&gt;\n",
       "\t&lt;circle cx=&quot;1874.19&quot; cy=&quot;2288.70&quot; r=&quot;22.03&quot; style=&quot;fill:#1A476F;stroke:#1A476F;stroke-width:8.64&quot;/&gt;\n",
       "\t&lt;circle cx=&quot;1890.90&quot; cy=&quot;2297.99&quot; r=&quot;22.03&quot; style=&quot;fill:#1A476F;stroke:#1A476F;stroke-width:8.64&quot;/&gt;\n",
       "\t&lt;circle cx=&quot;1907.61&quot; cy=&quot;2306.90&quot; r=&quot;22.03&quot; style=&quot;fill:#1A476F;stroke:#1A476F;stroke-width:8.64&quot;/&gt;\n",
       "\t&lt;circle cx=&quot;1924.31&quot; cy=&quot;2315.56&quot; r=&quot;22.03&quot; style=&quot;fill:#1A476F;stroke:#1A476F;stroke-width:8.64&quot;/&gt;\n",
       "\t&lt;circle cx=&quot;1941.14&quot; cy=&quot;2323.85&quot; r=&quot;22.03&quot; style=&quot;fill:#1A476F;stroke:#1A476F;stroke-width:8.64&quot;/&gt;\n",
       "\t&lt;circle cx=&quot;1957.85&quot; cy=&quot;2331.89&quot; r=&quot;22.03&quot; style=&quot;fill:#1A476F;stroke:#1A476F;stroke-width:8.64&quot;/&gt;\n",
       "\t&lt;circle cx=&quot;1974.56&quot; cy=&quot;2339.44&quot; r=&quot;22.03&quot; style=&quot;fill:#1A476F;stroke:#1A476F;stroke-width:8.64&quot;/&gt;\n",
       "\t&lt;circle cx=&quot;1991.26&quot; cy=&quot;2346.87&quot; r=&quot;22.03&quot; style=&quot;fill:#1A476F;stroke:#1A476F;stroke-width:8.64&quot;/&gt;\n",
       "\t&lt;circle cx=&quot;2007.97&quot; cy=&quot;2353.80&quot; r=&quot;22.03&quot; style=&quot;fill:#1A476F;stroke:#1A476F;stroke-width:8.64&quot;/&gt;\n",
       "\t&lt;circle cx=&quot;2024.67&quot; cy=&quot;2360.48&quot; r=&quot;22.03&quot; style=&quot;fill:#1A476F;stroke:#1A476F;stroke-width:8.64&quot;/&gt;\n",
       "\t&lt;circle cx=&quot;2041.38&quot; cy=&quot;2366.92&quot; r=&quot;22.03&quot; style=&quot;fill:#1A476F;stroke:#1A476F;stroke-width:8.64&quot;/&gt;\n",
       "\t&lt;circle cx=&quot;2058.09&quot; cy=&quot;2372.86&quot; r=&quot;22.03&quot; style=&quot;fill:#1A476F;stroke:#1A476F;stroke-width:8.64&quot;/&gt;\n",
       "\t&lt;circle cx=&quot;2074.79&quot; cy=&quot;2378.55&quot; r=&quot;22.03&quot; style=&quot;fill:#1A476F;stroke:#1A476F;stroke-width:8.64&quot;/&gt;\n",
       "\t&lt;circle cx=&quot;2091.50&quot; cy=&quot;2383.99&quot; r=&quot;22.03&quot; style=&quot;fill:#1A476F;stroke:#1A476F;stroke-width:8.64&quot;/&gt;\n",
       "\t&lt;circle cx=&quot;2108.20&quot; cy=&quot;2389.07&quot; r=&quot;22.03&quot; style=&quot;fill:#1A476F;stroke:#1A476F;stroke-width:8.64&quot;/&gt;\n",
       "\t&lt;circle cx=&quot;2124.91&quot; cy=&quot;2393.77&quot; r=&quot;22.03&quot; style=&quot;fill:#1A476F;stroke:#1A476F;stroke-width:8.64&quot;/&gt;\n",
       "\t&lt;circle cx=&quot;2141.62&quot; cy=&quot;2398.23&quot; r=&quot;22.03&quot; style=&quot;fill:#1A476F;stroke:#1A476F;stroke-width:8.64&quot;/&gt;\n",
       "\t&lt;circle cx=&quot;2158.32&quot; cy=&quot;2402.19&quot; r=&quot;22.03&quot; style=&quot;fill:#1A476F;stroke:#1A476F;stroke-width:8.64&quot;/&gt;\n",
       "\t&lt;circle cx=&quot;2175.03&quot; cy=&quot;2406.02&quot; r=&quot;22.03&quot; style=&quot;fill:#1A476F;stroke:#1A476F;stroke-width:8.64&quot;/&gt;\n",
       "\t&lt;circle cx=&quot;2191.74&quot; cy=&quot;2409.49&quot; r=&quot;22.03&quot; style=&quot;fill:#1A476F;stroke:#1A476F;stroke-width:8.64&quot;/&gt;\n",
       "\t&lt;circle cx=&quot;2208.44&quot; cy=&quot;2412.58&quot; r=&quot;22.03&quot; style=&quot;fill:#1A476F;stroke:#1A476F;stroke-width:8.64&quot;/&gt;\n",
       "\t&lt;circle cx=&quot;2225.15&quot; cy=&quot;2415.30&quot; r=&quot;22.03&quot; style=&quot;fill:#1A476F;stroke:#1A476F;stroke-width:8.64&quot;/&gt;\n",
       "\t&lt;circle cx=&quot;2241.86&quot; cy=&quot;2417.78&quot; r=&quot;22.03&quot; style=&quot;fill:#1A476F;stroke:#1A476F;stroke-width:8.64&quot;/&gt;\n",
       "\t&lt;circle cx=&quot;2258.56&quot; cy=&quot;2419.88&quot; r=&quot;22.03&quot; style=&quot;fill:#1A476F;stroke:#1A476F;stroke-width:8.64&quot;/&gt;\n",
       "\t&lt;circle cx=&quot;2275.27&quot; cy=&quot;2421.74&quot; r=&quot;22.03&quot; style=&quot;fill:#1A476F;stroke:#1A476F;stroke-width:8.64&quot;/&gt;\n",
       "\t&lt;circle cx=&quot;2291.97&quot; cy=&quot;2423.22&quot; r=&quot;22.03&quot; style=&quot;fill:#1A476F;stroke:#1A476F;stroke-width:8.64&quot;/&gt;\n",
       "\t&lt;circle cx=&quot;2308.68&quot; cy=&quot;2424.34&quot; r=&quot;22.03&quot; style=&quot;fill:#1A476F;stroke:#1A476F;stroke-width:8.64&quot;/&gt;\n",
       "\t&lt;circle cx=&quot;2325.39&quot; cy=&quot;2425.20&quot; r=&quot;22.03&quot; style=&quot;fill:#1A476F;stroke:#1A476F;stroke-width:8.64&quot;/&gt;\n",
       "\t&lt;circle cx=&quot;2342.09&quot; cy=&quot;2425.70&quot; r=&quot;22.03&quot; style=&quot;fill:#1A476F;stroke:#1A476F;stroke-width:8.64&quot;/&gt;\n",
       "\t&lt;circle cx=&quot;2358.80&quot; cy=&quot;2425.95&quot; r=&quot;22.03&quot; style=&quot;fill:#1A476F;stroke:#1A476F;stroke-width:8.64&quot;/&gt;\n",
       "\t&lt;circle cx=&quot;2375.51&quot; cy=&quot;2425.82&quot; r=&quot;22.03&quot; style=&quot;fill:#1A476F;stroke:#1A476F;stroke-width:8.64&quot;/&gt;\n",
       "\t&lt;circle cx=&quot;2392.21&quot; cy=&quot;2425.33&quot; r=&quot;22.03&quot; style=&quot;fill:#1A476F;stroke:#1A476F;stroke-width:8.64&quot;/&gt;\n",
       "\t&lt;circle cx=&quot;2408.92&quot; cy=&quot;2424.46&quot; r=&quot;22.03&quot; style=&quot;fill:#1A476F;stroke:#1A476F;stroke-width:8.64&quot;/&gt;\n",
       "\t&lt;circle cx=&quot;2425.62&quot; cy=&quot;2423.47&quot; r=&quot;22.03&quot; style=&quot;fill:#1A476F;stroke:#1A476F;stroke-width:8.64&quot;/&gt;\n",
       "\t&lt;circle cx=&quot;2442.33&quot; cy=&quot;2421.99&quot; r=&quot;22.03&quot; style=&quot;fill:#1A476F;stroke:#1A476F;stroke-width:8.64&quot;/&gt;\n",
       "\t&lt;circle cx=&quot;2459.04&quot; cy=&quot;2420.25&quot; r=&quot;22.03&quot; style=&quot;fill:#1A476F;stroke:#1A476F;stroke-width:8.64&quot;/&gt;\n",
       "\t&lt;circle cx=&quot;2475.74&quot; cy=&quot;2418.15&quot; r=&quot;22.03&quot; style=&quot;fill:#1A476F;stroke:#1A476F;stroke-width:8.64&quot;/&gt;\n",
       "\t&lt;circle cx=&quot;2492.45&quot; cy=&quot;2415.68&quot; r=&quot;22.03&quot; style=&quot;fill:#1A476F;stroke:#1A476F;stroke-width:8.64&quot;/&gt;\n",
       "\t&lt;circle cx=&quot;2509.16&quot; cy=&quot;2412.95&quot; r=&quot;22.03&quot; style=&quot;fill:#1A476F;stroke:#1A476F;stroke-width:8.64&quot;/&gt;\n",
       "\t&lt;circle cx=&quot;2525.86&quot; cy=&quot;2409.98&quot; r=&quot;22.03&quot; style=&quot;fill:#1A476F;stroke:#1A476F;stroke-width:8.64&quot;/&gt;\n",
       "\t&lt;circle cx=&quot;2542.57&quot; cy=&quot;2406.52&quot; r=&quot;22.03&quot; style=&quot;fill:#1A476F;stroke:#1A476F;stroke-width:8.64&quot;/&gt;\n",
       "\t&lt;circle cx=&quot;2559.27&quot; cy=&quot;2402.81&quot; r=&quot;22.03&quot; style=&quot;fill:#1A476F;stroke:#1A476F;stroke-width:8.64&quot;/&gt;\n",
       "\t&lt;circle cx=&quot;2575.98&quot; cy=&quot;2398.84&quot; r=&quot;22.03&quot; style=&quot;fill:#1A476F;stroke:#1A476F;stroke-width:8.64&quot;/&gt;\n",
       "\t&lt;circle cx=&quot;2592.69&quot; cy=&quot;2394.39&quot; r=&quot;22.03&quot; style=&quot;fill:#1A476F;stroke:#1A476F;stroke-width:8.64&quot;/&gt;\n",
       "\t&lt;circle cx=&quot;2609.39&quot; cy=&quot;2389.81&quot; r=&quot;22.03&quot; style=&quot;fill:#1A476F;stroke:#1A476F;stroke-width:8.64&quot;/&gt;\n",
       "\t&lt;circle cx=&quot;2626.10&quot; cy=&quot;2384.74&quot; r=&quot;22.03&quot; style=&quot;fill:#1A476F;stroke:#1A476F;stroke-width:8.64&quot;/&gt;\n",
       "\t&lt;circle cx=&quot;2642.80&quot; cy=&quot;2379.42&quot; r=&quot;22.03&quot; style=&quot;fill:#1A476F;stroke:#1A476F;stroke-width:8.64&quot;/&gt;\n",
       "\t&lt;circle cx=&quot;2659.51&quot; cy=&quot;2373.72&quot; r=&quot;22.03&quot; style=&quot;fill:#1A476F;stroke:#1A476F;stroke-width:8.64&quot;/&gt;\n",
       "\t&lt;circle cx=&quot;2676.22&quot; cy=&quot;2367.78&quot; r=&quot;22.03&quot; style=&quot;fill:#1A476F;stroke:#1A476F;stroke-width:8.64&quot;/&gt;\n",
       "\t&lt;circle cx=&quot;2692.92&quot; cy=&quot;2361.47&quot; r=&quot;22.03&quot; style=&quot;fill:#1A476F;stroke:#1A476F;stroke-width:8.64&quot;/&gt;\n",
       "\t&lt;circle cx=&quot;2709.63&quot; cy=&quot;2354.91&quot; r=&quot;22.03&quot; style=&quot;fill:#1A476F;stroke:#1A476F;stroke-width:8.64&quot;/&gt;\n",
       "\t&lt;circle cx=&quot;2726.34&quot; cy=&quot;2347.86&quot; r=&quot;22.03&quot; style=&quot;fill:#1A476F;stroke:#1A476F;stroke-width:8.64&quot;/&gt;\n",
       "\t&lt;circle cx=&quot;2743.04&quot; cy=&quot;2340.68&quot; r=&quot;22.03&quot; style=&quot;fill:#1A476F;stroke:#1A476F;stroke-width:8.64&quot;/&gt;\n",
       "\t&lt;circle cx=&quot;2759.75&quot; cy=&quot;2333.01&quot; r=&quot;22.03&quot; style=&quot;fill:#1A476F;stroke:#1A476F;stroke-width:8.64&quot;/&gt;\n",
       "\t&lt;circle cx=&quot;2776.45&quot; cy=&quot;2325.09&quot; r=&quot;22.03&quot; style=&quot;fill:#1A476F;stroke:#1A476F;stroke-width:8.64&quot;/&gt;\n",
       "\t&lt;circle cx=&quot;2793.16&quot; cy=&quot;2316.80&quot; r=&quot;22.03&quot; style=&quot;fill:#1A476F;stroke:#1A476F;stroke-width:8.64&quot;/&gt;\n",
       "\t&lt;circle cx=&quot;2809.87&quot; cy=&quot;2308.26&quot; r=&quot;22.03&quot; style=&quot;fill:#1A476F;stroke:#1A476F;stroke-width:8.64&quot;/&gt;\n",
       "\t&lt;circle cx=&quot;2826.57&quot; cy=&quot;2299.35&quot; r=&quot;22.03&quot; style=&quot;fill:#1A476F;stroke:#1A476F;stroke-width:8.64&quot;/&gt;\n",
       "\t&lt;circle cx=&quot;2843.28&quot; cy=&quot;2290.19&quot; r=&quot;22.03&quot; style=&quot;fill:#1A476F;stroke:#1A476F;stroke-width:8.64&quot;/&gt;\n",
       "\t&lt;circle cx=&quot;2859.99&quot; cy=&quot;2280.54&quot; r=&quot;22.03&quot; style=&quot;fill:#1A476F;stroke:#1A476F;stroke-width:8.64&quot;/&gt;\n",
       "\t&lt;circle cx=&quot;2876.69&quot; cy=&quot;2270.76&quot; r=&quot;22.03&quot; style=&quot;fill:#1A476F;stroke:#1A476F;stroke-width:8.64&quot;/&gt;\n",
       "\t&lt;circle cx=&quot;2893.40&quot; cy=&quot;2260.49&quot; r=&quot;22.03&quot; style=&quot;fill:#1A476F;stroke:#1A476F;stroke-width:8.64&quot;/&gt;\n",
       "\t&lt;circle cx=&quot;2910.11&quot; cy=&quot;2249.97&quot; r=&quot;22.03&quot; style=&quot;fill:#1A476F;stroke:#1A476F;stroke-width:8.64&quot;/&gt;\n",
       "\t&lt;circle cx=&quot;2926.81&quot; cy=&quot;2239.20&quot; r=&quot;22.03&quot; style=&quot;fill:#1A476F;stroke:#1A476F;stroke-width:8.64&quot;/&gt;\n",
       "\t&lt;circle cx=&quot;2943.52&quot; cy=&quot;2227.94&quot; r=&quot;22.03&quot; style=&quot;fill:#1A476F;stroke:#1A476F;stroke-width:8.64&quot;/&gt;\n",
       "\t&lt;circle cx=&quot;2960.22&quot; cy=&quot;2216.43&quot; r=&quot;22.03&quot; style=&quot;fill:#1A476F;stroke:#1A476F;stroke-width:8.64&quot;/&gt;\n",
       "\t&lt;circle cx=&quot;2976.93&quot; cy=&quot;2204.68&quot; r=&quot;22.03&quot; style=&quot;fill:#1A476F;stroke:#1A476F;stroke-width:8.64&quot;/&gt;\n",
       "\t&lt;circle cx=&quot;2993.64&quot; cy=&quot;2192.55&quot; r=&quot;22.03&quot; style=&quot;fill:#1A476F;stroke:#1A476F;stroke-width:8.64&quot;/&gt;\n",
       "\t&lt;circle cx=&quot;3010.34&quot; cy=&quot;2180.05&quot; r=&quot;22.03&quot; style=&quot;fill:#1A476F;stroke:#1A476F;stroke-width:8.64&quot;/&gt;\n",
       "\t&lt;circle cx=&quot;3027.05&quot; cy=&quot;2167.18&quot; r=&quot;22.03&quot; style=&quot;fill:#1A476F;stroke:#1A476F;stroke-width:8.64&quot;/&gt;\n",
       "\t&lt;circle cx=&quot;3043.76&quot; cy=&quot;2154.06&quot; r=&quot;22.03&quot; style=&quot;fill:#1A476F;stroke:#1A476F;stroke-width:8.64&quot;/&gt;\n",
       "\t&lt;circle cx=&quot;3060.46&quot; cy=&quot;2140.69&quot; r=&quot;22.03&quot; style=&quot;fill:#1A476F;stroke:#1A476F;stroke-width:8.64&quot;/&gt;\n",
       "\t&lt;circle cx=&quot;3077.17&quot; cy=&quot;2126.96&quot; r=&quot;22.03&quot; style=&quot;fill:#1A476F;stroke:#1A476F;stroke-width:8.64&quot;/&gt;\n",
       "\t&lt;circle cx=&quot;3093.87&quot; cy=&quot;2112.85&quot; r=&quot;22.03&quot; style=&quot;fill:#1A476F;stroke:#1A476F;stroke-width:8.64&quot;/&gt;\n",
       "\t&lt;circle cx=&quot;3110.58&quot; cy=&quot;2098.37&quot; r=&quot;22.03&quot; style=&quot;fill:#1A476F;stroke:#1A476F;stroke-width:8.64&quot;/&gt;\n",
       "\t&lt;circle cx=&quot;3127.29&quot; cy=&quot;2083.64&quot; r=&quot;22.03&quot; style=&quot;fill:#1A476F;stroke:#1A476F;stroke-width:8.64&quot;/&gt;\n",
       "\t&lt;circle cx=&quot;3143.99&quot; cy=&quot;2068.55&quot; r=&quot;22.03&quot; style=&quot;fill:#1A476F;stroke:#1A476F;stroke-width:8.64&quot;/&gt;\n",
       "\t&lt;circle cx=&quot;3160.70&quot; cy=&quot;2053.20&quot; r=&quot;22.03&quot; style=&quot;fill:#1A476F;stroke:#1A476F;stroke-width:8.64&quot;/&gt;\n",
       "\t&lt;circle cx=&quot;3177.41&quot; cy=&quot;2037.48&quot; r=&quot;22.03&quot; style=&quot;fill:#1A476F;stroke:#1A476F;stroke-width:8.64&quot;/&gt;\n",
       "\t&lt;circle cx=&quot;3194.24&quot; cy=&quot;2021.40&quot; r=&quot;22.03&quot; style=&quot;fill:#1A476F;stroke:#1A476F;stroke-width:8.64&quot;/&gt;\n",
       "\t&lt;circle cx=&quot;3210.94&quot; cy=&quot;2005.06&quot; r=&quot;22.03&quot; style=&quot;fill:#1A476F;stroke:#1A476F;stroke-width:8.64&quot;/&gt;\n",
       "\t&lt;circle cx=&quot;3227.65&quot; cy=&quot;1988.35&quot; r=&quot;22.03&quot; style=&quot;fill:#1A476F;stroke:#1A476F;stroke-width:8.64&quot;/&gt;\n",
       "\t&lt;circle cx=&quot;3244.35&quot; cy=&quot;1971.40&quot; r=&quot;22.03&quot; style=&quot;fill:#1A476F;stroke:#1A476F;stroke-width:8.64&quot;/&gt;\n",
       "\t&lt;circle cx=&quot;3261.06&quot; cy=&quot;1954.07&quot; r=&quot;22.03&quot; style=&quot;fill:#1A476F;stroke:#1A476F;stroke-width:8.64&quot;/&gt;\n",
       "\t&lt;circle cx=&quot;3277.77&quot; cy=&quot;1936.38&quot; r=&quot;22.03&quot; style=&quot;fill:#1A476F;stroke:#1A476F;stroke-width:8.64&quot;/&gt;\n",
       "\t&lt;circle cx=&quot;3294.47&quot; cy=&quot;1918.31&quot; r=&quot;22.03&quot; style=&quot;fill:#1A476F;stroke:#1A476F;stroke-width:8.64&quot;/&gt;\n",
       "\t&lt;circle cx=&quot;3311.18&quot; cy=&quot;1899.99&quot; r=&quot;22.03&quot; style=&quot;fill:#1A476F;stroke:#1A476F;stroke-width:8.64&quot;/&gt;\n",
       "\t&lt;circle cx=&quot;3327.89&quot; cy=&quot;1881.43&quot; r=&quot;22.03&quot; style=&quot;fill:#1A476F;stroke:#1A476F;stroke-width:8.64&quot;/&gt;\n",
       "\t&lt;circle cx=&quot;3344.59&quot; cy=&quot;1862.50&quot; r=&quot;22.03&quot; style=&quot;fill:#1A476F;stroke:#1A476F;stroke-width:8.64&quot;/&gt;\n",
       "\t&lt;circle cx=&quot;3361.30&quot; cy=&quot;1843.19&quot; r=&quot;22.03&quot; style=&quot;fill:#1A476F;stroke:#1A476F;stroke-width:8.64&quot;/&gt;\n",
       "\t&lt;circle cx=&quot;3378.00&quot; cy=&quot;1823.51&quot; r=&quot;22.03&quot; style=&quot;fill:#1A476F;stroke:#1A476F;stroke-width:8.64&quot;/&gt;\n",
       "\t&lt;circle cx=&quot;3394.71&quot; cy=&quot;1803.59&quot; r=&quot;22.03&quot; style=&quot;fill:#1A476F;stroke:#1A476F;stroke-width:8.64&quot;/&gt;\n",
       "\t&lt;circle cx=&quot;3411.42&quot; cy=&quot;1783.29&quot; r=&quot;22.03&quot; style=&quot;fill:#1A476F;stroke:#1A476F;stroke-width:8.64&quot;/&gt;\n",
       "\t&lt;circle cx=&quot;3428.12&quot; cy=&quot;1762.75&quot; r=&quot;22.03&quot; style=&quot;fill:#1A476F;stroke:#1A476F;stroke-width:8.64&quot;/&gt;\n",
       "\t&lt;circle cx=&quot;3444.83&quot; cy=&quot;1741.84&quot; r=&quot;22.03&quot; style=&quot;fill:#1A476F;stroke:#1A476F;stroke-width:8.64&quot;/&gt;\n",
       "\t&lt;line x1=&quot;390.80&quot; y1=&quot;2489.19&quot; x2=&quot;390.80&quot; y2=&quot;100.86&quot; style=&quot;stroke:#000000;stroke-width:5.76&quot;/&gt;\n",
       "\t&lt;line x1=&quot;390.80&quot; y1=&quot;2424.46&quot; x2=&quot;350.83&quot; y2=&quot;2424.46&quot; style=&quot;stroke:#000000;stroke-width:5.76&quot;/&gt;\n",
       "\t&lt;text x=&quot;300.72&quot; y=&quot;2424.46&quot; style=&quot;font-family:&#x27;Helvetica&#x27;;font-size:99.99px;fill:#000000&quot; transform=&quot;rotate(-90 300.72,2424.46)&quot; text-anchor=&quot;middle&quot;&gt;6.9&lt;/text&gt;\n",
       "\t&lt;line x1=&quot;390.80&quot; y1=&quot;1972.39&quot; x2=&quot;350.83&quot; y2=&quot;1972.39&quot; style=&quot;stroke:#000000;stroke-width:5.76&quot;/&gt;\n",
       "\t&lt;text x=&quot;300.72&quot; y=&quot;1972.39&quot; style=&quot;font-family:&#x27;Helvetica&#x27;;font-size:99.99px;fill:#000000&quot; transform=&quot;rotate(-90 300.72,1972.39)&quot; text-anchor=&quot;middle&quot;&gt;7&lt;/text&gt;\n",
       "\t&lt;line x1=&quot;390.80&quot; y1=&quot;1520.32&quot; x2=&quot;350.83&quot; y2=&quot;1520.32&quot; style=&quot;stroke:#000000;stroke-width:5.76&quot;/&gt;\n",
       "\t&lt;text x=&quot;300.72&quot; y=&quot;1520.32&quot; style=&quot;font-family:&#x27;Helvetica&#x27;;font-size:99.99px;fill:#000000&quot; transform=&quot;rotate(-90 300.72,1520.32)&quot; text-anchor=&quot;middle&quot;&gt;7.1&lt;/text&gt;\n",
       "\t&lt;line x1=&quot;390.80&quot; y1=&quot;1068.24&quot; x2=&quot;350.83&quot; y2=&quot;1068.24&quot; style=&quot;stroke:#000000;stroke-width:5.76&quot;/&gt;\n",
       "\t&lt;text x=&quot;300.72&quot; y=&quot;1068.24&quot; style=&quot;font-family:&#x27;Helvetica&#x27;;font-size:99.99px;fill:#000000&quot; transform=&quot;rotate(-90 300.72,1068.24)&quot; text-anchor=&quot;middle&quot;&gt;7.2&lt;/text&gt;\n",
       "\t&lt;line x1=&quot;390.80&quot; y1=&quot;616.17&quot; x2=&quot;350.83&quot; y2=&quot;616.17&quot; style=&quot;stroke:#000000;stroke-width:5.76&quot;/&gt;\n",
       "\t&lt;text x=&quot;300.72&quot; y=&quot;616.17&quot; style=&quot;font-family:&#x27;Helvetica&#x27;;font-size:99.99px;fill:#000000&quot; transform=&quot;rotate(-90 300.72,616.17)&quot; text-anchor=&quot;middle&quot;&gt;7.3&lt;/text&gt;\n",
       "\t&lt;line x1=&quot;390.80&quot; y1=&quot;164.22&quot; x2=&quot;350.83&quot; y2=&quot;164.22&quot; style=&quot;stroke:#000000;stroke-width:5.76&quot;/&gt;\n",
       "\t&lt;text x=&quot;300.72&quot; y=&quot;164.22&quot; style=&quot;font-family:&#x27;Helvetica&#x27;;font-size:99.99px;fill:#000000&quot; transform=&quot;rotate(-90 300.72,164.22)&quot; text-anchor=&quot;middle&quot;&gt;7.4&lt;/text&gt;\n",
       "\t&lt;text x=&quot;190.71&quot; y=&quot;1294.96&quot; style=&quot;font-family:&#x27;Helvetica&#x27;;font-size:99.99px;fill:#000000&quot; transform=&quot;rotate(-90 190.71,1294.96)&quot; text-anchor=&quot;middle&quot;&gt;y_hat&lt;/text&gt;\n",
       "\t&lt;line x1=&quot;390.80&quot; y1=&quot;2489.19&quot; x2=&quot;3859.02&quot; y2=&quot;2489.19&quot; style=&quot;stroke:#000000;stroke-width:5.76&quot;/&gt;\n",
       "\t&lt;line x1=&quot;454.16&quot; y1=&quot;2489.19&quot; x2=&quot;454.16&quot; y2=&quot;2529.16&quot; style=&quot;stroke:#000000;stroke-width:5.76&quot;/&gt;\n",
       "\t&lt;text x=&quot;454.16&quot; y=&quot;2619.14&quot; style=&quot;font-family:&#x27;Helvetica&#x27;;font-size:99.99px;fill:#000000&quot; text-anchor=&quot;middle&quot;&gt;0&lt;/text&gt;\n",
       "\t&lt;line x1=&quot;1289.47&quot; y1=&quot;2489.19&quot; x2=&quot;1289.47&quot; y2=&quot;2529.16&quot; style=&quot;stroke:#000000;stroke-width:5.76&quot;/&gt;\n",
       "\t&lt;text x=&quot;1289.47&quot; y=&quot;2619.14&quot; style=&quot;font-family:&#x27;Helvetica&#x27;;font-size:99.99px;fill:#000000&quot; text-anchor=&quot;middle&quot;&gt;50&lt;/text&gt;\n",
       "\t&lt;line x1=&quot;2124.91&quot; y1=&quot;2489.19&quot; x2=&quot;2124.91&quot; y2=&quot;2529.16&quot; style=&quot;stroke:#000000;stroke-width:5.76&quot;/&gt;\n",
       "\t&lt;text x=&quot;2124.91&quot; y=&quot;2619.14&quot; style=&quot;font-family:&#x27;Helvetica&#x27;;font-size:99.99px;fill:#000000&quot; text-anchor=&quot;middle&quot;&gt;100&lt;/text&gt;\n",
       "\t&lt;line x1=&quot;2960.35&quot; y1=&quot;2489.19&quot; x2=&quot;2960.35&quot; y2=&quot;2529.16&quot; style=&quot;stroke:#000000;stroke-width:5.76&quot;/&gt;\n",
       "\t&lt;text x=&quot;2960.35&quot; y=&quot;2619.14&quot; style=&quot;font-family:&#x27;Helvetica&#x27;;font-size:99.99px;fill:#000000&quot; text-anchor=&quot;middle&quot;&gt;150&lt;/text&gt;\n",
       "\t&lt;line x1=&quot;3795.66&quot; y1=&quot;2489.19&quot; x2=&quot;3795.66&quot; y2=&quot;2529.16&quot; style=&quot;stroke:#000000;stroke-width:5.76&quot;/&gt;\n",
       "\t&lt;text x=&quot;3795.66&quot; y=&quot;2619.14&quot; style=&quot;font-family:&#x27;Helvetica&#x27;;font-size:99.99px;fill:#000000&quot; text-anchor=&quot;middle&quot;&gt;200&lt;/text&gt;\n",
       "\t&lt;text x=&quot;2124.91&quot; y=&quot;2729.16&quot; style=&quot;font-family:&#x27;Helvetica&#x27;;font-size:99.99px;fill:#000000&quot; text-anchor=&quot;middle&quot;&gt;age_range&lt;/text&gt;\n",
       "&lt;/svg&gt;\n",
       "</body></html>\"></iframe>\n"
      ],
      "text/plain": [
       "This front-end cannot display the desired image type."
      ]
     },
     "metadata": {
      "image/svg+xml": {
       "height": 436,
       "width": 600
      },
      "text/html": {
       "height": 436,
       "width": 600
      }
     },
     "output_type": "display_data"
    },
    {
     "name": "stdout",
     "output_type": "stream",
     "text": [
      "\n",
      "\n"
     ]
    }
   ],
   "source": [
    "quietly reg lprice rooms baths larea lland age agesq lcbd\n",
    "\n",
    "gen age_range  = _n\n",
    "gen agesq_range = age_range^2\n",
    "\n",
    "gen y_hat = _b[_cons] + _b[age] * age_range + _b[agesq] * agesq_range\n",
    "\n",
    "display \"the minimum local is at age = \", -1 * _b[age]/(2*_b[agesq])\n",
    "\n",
    "scatter y_hat age_range, xline(114.07553, lcolor(red))"
   ]
  },
  {
   "cell_type": "markdown",
   "id": "16cba545-d086-46ec-a2ae-1eb847196b1a",
   "metadata": {},
   "source": [
    "# (g)"
   ]
  },
  {
   "cell_type": "code",
   "execution_count": 59,
   "id": "f0210602-4cb7-47c5-8691-6bb7c1ee6c63",
   "metadata": {},
   "outputs": [
    {
     "name": "stdout",
     "output_type": "stream",
     "text": [
      "\n",
      "\n",
      "\n",
      " ( 1)  age - agesq = 0\n",
      " ( 2)  age = 0\n",
      "\n",
      "       F(  2,   171) =   14.84\n",
      "            Prob > F =    0.0000\n"
     ]
    }
   ],
   "source": [
    "quietly reg lprice rooms baths larea lland age agesq lcbd\n",
    "test age==agesq==0"
   ]
  },
  {
   "cell_type": "markdown",
   "id": "ead426a3-b9eb-441c-827f-b9b3c15b2cfa",
   "metadata": {},
   "source": [
    "# (h)"
   ]
  },
  {
   "cell_type": "code",
   "execution_count": 60,
   "id": "4000a1de-8854-420d-9565-c3b758941f63",
   "metadata": {},
   "outputs": [
    {
     "name": "stdout",
     "output_type": "stream",
     "text": [
      "\n",
      "Breusch-Pagan / Cook-Weisberg test for heteroskedasticity \n",
      "         Ho: Constant variance\n",
      "         Variables: fitted values of lprice\n",
      "\n",
      "         chi2(1)      =     2.54\n",
      "         Prob > chi2  =   0.1107\n"
     ]
    }
   ],
   "source": [
    "hettest"
   ]
  },
  {
   "cell_type": "markdown",
   "id": "0aea817f-c90c-4269-8975-585073737c54",
   "metadata": {},
   "source": [
    "# (i)"
   ]
  },
  {
   "cell_type": "code",
   "execution_count": 50,
   "id": "eb631d6e-ad5c-4220-af6b-cd88db3c6ce7",
   "metadata": {},
   "outputs": [
    {
     "name": "stdout",
     "output_type": "stream",
     "text": [
      "checking estout consistency and verifying not already installed...\n",
      "all files already exist and are up to date.\n"
     ]
    }
   ],
   "source": [
    "ssc install estout, replace"
   ]
  },
  {
   "cell_type": "code",
   "execution_count": 62,
   "id": "7debd1a6-8f2c-49e1-b62d-25cd1c700147",
   "metadata": {},
   "outputs": [],
   "source": [
    "quietly reg lprice rooms baths larea lland age agesq lcbd\n",
    "estimate store m1, title(with)\n",
    "quietly reg lprice rooms baths larea lland age agesq\n",
    "estimate store m2, title(without)"
   ]
  },
  {
   "cell_type": "code",
   "execution_count": 63,
   "id": "e5cc95eb-2e74-4492-9f54-40d80bd8461d",
   "metadata": {},
   "outputs": [
    {
     "name": "stdout",
     "output_type": "stream",
     "text": [
      "\n",
      "--------------------------------------------\n",
      "                       m1              m2   \n",
      "                     b/se            b/se   \n",
      "--------------------------------------------\n",
      "rooms            .0620117**      .0576318*  \n",
      "               (.0222711)      (.0222461)   \n",
      "baths            .0659059        .0735335   \n",
      "               (.0376178)      (.0375597)   \n",
      "larea            .3796112***     .3890712***\n",
      "                (.073453)      (.0736515)   \n",
      "lland             .106066**      .0701687** \n",
      "               (.0328237)      (.0253588)   \n",
      "age             -.0081903***    -.0066653***\n",
      "                (.001941)      (.0017332)   \n",
      "agesq            .0000359**      .0000279** \n",
      "               (.0000112)      (.0000103)   \n",
      "lcbd            -.0637607                   \n",
      "               (.0373181)                   \n",
      "_cons            7.366848***      7.05724***\n",
      "               (.5573329)      (.5299841)   \n",
      "--------------------------------------------\n",
      "N                     179             179   \n",
      "r2               .6786487        .6731628   \n",
      "r2_a              .665494        .6617615   \n",
      "aic             -39.10954       -38.07953   \n",
      "bic             -13.61045       -15.76783   \n",
      "vce                   ols             ols   \n",
      "--------------------------------------------\n"
     ]
    }
   ],
   "source": [
    "estout m1 m2, cells(b(star) se(par)) stats(N r2 r2_a aic bic vce)"
   ]
  },
  {
   "cell_type": "markdown",
   "id": "9f5041f0-41f7-4b9f-9184-9d441ba682ef",
   "metadata": {},
   "source": [
    "# (j)"
   ]
  },
  {
   "cell_type": "code",
   "execution_count": 64,
   "id": "e1fbef39-4c94-4951-aa94-3acc4030ce1d",
   "metadata": {},
   "outputs": [],
   "source": [
    "gen area_rooms = larea * rooms"
   ]
  },
  {
   "cell_type": "code",
   "execution_count": 65,
   "id": "574237e4-25f3-4bc9-bb31-1bf2c985002e",
   "metadata": {},
   "outputs": [
    {
     "name": "stdout",
     "output_type": "stream",
     "text": [
      "\n",
      "\n",
      "      Source |       SS           df       MS      Number of obs   =       179\n",
      "-------------+----------------------------------   F(8, 170)       =     49.13\n",
      "       Model |  16.7337087         8  2.09171358   Prob > F        =    0.0000\n",
      "    Residual |  7.23752647       170  .042573685   R-squared       =    0.6981\n",
      "-------------+----------------------------------   Adj R-squared   =    0.6839\n",
      "       Total |  23.9712351       178   .13466986   Root MSE        =    .20633\n",
      "\n",
      "------------------------------------------------------------------------------\n",
      "      lprice |      Coef.   Std. Err.      t    P>|t|     [95% Conf. Interval]\n",
      "-------------+----------------------------------------------------------------\n",
      "       rooms |  -.9504368   .3068965    -3.10   0.002    -1.556256    -.344618\n",
      "       baths |   .0538673   .0367509     1.47   0.145    -.0186795    .1264141\n",
      "       larea |    -.47584   .2683365    -1.77   0.078    -1.005541    .0538607\n",
      "       lland |   .1005348   .0319534     3.15   0.002     .0374584    .1636113\n",
      "         age |  -.0079618   .0018882    -4.22   0.000    -.0116892   -.0042343\n",
      "       agesq |   .0000314    .000011     2.85   0.005     9.64e-06    .0000531\n",
      "        lcbd |  -.0553119   .0363686    -1.52   0.130    -.1271041    .0164803\n",
      "  area_rooms |   .1358054   .0410632     3.31   0.001      .054746    .2168648\n",
      "       _cons |   13.72752   1.998124     6.87   0.000     9.783191    17.67185\n",
      "------------------------------------------------------------------------------\n",
      "\n"
     ]
    }
   ],
   "source": [
    "reg lprice rooms baths larea lland age agesq lcbd area_rooms\n",
    "estimate store m3, title(new)"
   ]
  },
  {
   "cell_type": "code",
   "execution_count": 66,
   "id": "5097c2d0-05df-4be7-b296-f36a498115b9",
   "metadata": {},
   "outputs": [
    {
     "name": "stdout",
     "output_type": "stream",
     "text": [
      "\n",
      "------------------------------------------------------------\n",
      "                       m1              m2              m3   \n",
      "                     b/se            b/se            b/se   \n",
      "------------------------------------------------------------\n",
      "rooms            .0620117**      .0576318*      -.9504368** \n",
      "               (.0222711)      (.0222461)      (.3068965)   \n",
      "baths            .0659059        .0735335        .0538673   \n",
      "               (.0376178)      (.0375597)      (.0367509)   \n",
      "larea            .3796112***     .3890712***      -.47584   \n",
      "                (.073453)      (.0736515)      (.2683365)   \n",
      "lland             .106066**      .0701687**      .1005348** \n",
      "               (.0328237)      (.0253588)      (.0319534)   \n",
      "age             -.0081903***    -.0066653***    -.0079618***\n",
      "                (.001941)      (.0017332)      (.0018882)   \n",
      "agesq            .0000359**      .0000279**      .0000314** \n",
      "               (.0000112)      (.0000103)       (.000011)   \n",
      "lcbd            -.0637607                       -.0553119   \n",
      "               (.0373181)                      (.0363686)   \n",
      "area_rooms                                       .1358054** \n",
      "                                               (.0410632)   \n",
      "_cons            7.366848***      7.05724***     13.72752***\n",
      "               (.5573329)      (.5299841)      (1.998124)   \n",
      "------------------------------------------------------------\n",
      "N                     179             179             179   \n",
      "r2               .6786487        .6731628        .6980745   \n",
      "r2_a              .665494        .6617615        .6838663   \n",
      "aic             -39.10954       -38.07953       -48.27103   \n",
      "bic             -13.61045       -15.76783       -19.58456   \n",
      "vce                   ols             ols             ols   \n",
      "------------------------------------------------------------\n"
     ]
    }
   ],
   "source": [
    "estout m1 m2 m3, cells(b(star) se(par)) stats(N r2 r2_a aic bic vce)"
   ]
  },
  {
   "cell_type": "code",
   "execution_count": 67,
   "id": "eb2be4d9-53a9-49c1-96fa-b24e77a9a51f",
   "metadata": {},
   "outputs": [
    {
     "name": "stdout",
     "output_type": "stream",
     "text": [
      "\n",
      "\n",
      "\n",
      "\n",
      "[NbConvertApp] Converting notebook Stata_21S2.ipynb to html\n",
      "[NbConvertApp] Writing 623162 bytes to Stata_21S2.html\n"
     ]
    }
   ],
   "source": [
    "!rm -rf Stata_21S2.html\n",
    "!jupyter nbconvert --to html Stata_21S2.ipynb"
   ]
  },
  {
   "cell_type": "code",
   "execution_count": null,
   "id": "6336658a-6f11-486d-998c-ad874947e471",
   "metadata": {},
   "outputs": [],
   "source": []
  }
 ],
 "metadata": {
  "kernelspec": {
   "display_name": "Stata",
   "language": "stata",
   "name": "stata"
  },
  "language_info": {
   "codemirror_mode": "stata",
   "file_extension": ".do",
   "mimetype": "text/x-stata",
   "name": "stata",
   "version": "15.1"
  }
 },
 "nbformat": 4,
 "nbformat_minor": 5
}
