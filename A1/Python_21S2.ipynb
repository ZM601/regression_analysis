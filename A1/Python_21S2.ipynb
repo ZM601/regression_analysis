{
 "cells": [
  {
   "cell_type": "code",
   "execution_count": 1,
   "id": "4c2da71c-b6a0-450c-b000-89961280e0a8",
   "metadata": {},
   "outputs": [],
   "source": [
    "%reset -f"
   ]
  },
  {
   "cell_type": "code",
   "execution_count": 2,
   "id": "c986276f-c4b1-4d16-bf26-c577adf7f376",
   "metadata": {},
   "outputs": [],
   "source": [
    "import numpy                 as np\n",
    "import matplotlib.pyplot     as plt\n",
    "import pandas                as pd\n",
    "import statsmodels.api       as sm\n",
    "import statsmodels.stats.api as sms\n",
    "import numpy.linalg          as la\n",
    "\n",
    "from statsmodels.iolib.summary2 import summary_col\n",
    "from statsmodels.compat         import lzip\n",
    "from scipy                      import stats"
   ]
  },
  {
   "cell_type": "code",
   "execution_count": 3,
   "id": "0d2aa645-dd8f-4e13-a9a4-3c0543ae50ad",
   "metadata": {},
   "outputs": [],
   "source": [
    "df = pd.read_csv(\"HPRICE3.csv\")"
   ]
  },
  {
   "cell_type": "code",
   "execution_count": 4,
   "id": "992e78e0-9949-434e-85bb-a2836f9a38cb",
   "metadata": {},
   "outputs": [
    {
     "name": "stderr",
     "output_type": "stream",
     "text": [
      "/opt/homebrew/Caskroom/miniforge/base/lib/python3.9/site-packages/statsmodels/tsa/tsatools.py:142: FutureWarning: In a future version of pandas all arguments of concat except for the argument 'objs' will be keyword-only\n",
      "  x = pd.concat(x[::order], 1)\n"
     ]
    }
   ],
   "source": [
    "df = sm.add_constant(df)"
   ]
  },
  {
   "cell_type": "code",
   "execution_count": 5,
   "id": "5a9d1292-90a2-4a38-bb3a-80e17e95cc48",
   "metadata": {},
   "outputs": [
    {
     "data": {
      "text/plain": [
       "Index(['const', 'year', 'age', 'agesq', 'nbh', 'cbd', 'inst', 'linst', 'price',\n",
       "       'rooms', 'area', 'land', 'baths', 'dist', 'ldist', 'lprice', 'y81',\n",
       "       'larea', 'lland', 'linstsq'],\n",
       "      dtype='object')"
      ]
     },
     "execution_count": 5,
     "metadata": {},
     "output_type": "execute_result"
    }
   ],
   "source": [
    "df.columns"
   ]
  },
  {
   "cell_type": "markdown",
   "id": "3b9fabfb-914b-408c-b9cd-098a0b46b7d1",
   "metadata": {},
   "source": [
    "# select the data with year = 1978 only"
   ]
  },
  {
   "cell_type": "code",
   "execution_count": 6,
   "id": "683f84dc-4351-4b23-a202-e9b11f0f4c9f",
   "metadata": {},
   "outputs": [],
   "source": [
    "df = df[df['year']==1978]"
   ]
  },
  {
   "cell_type": "markdown",
   "id": "b58560d3-d7cd-46d2-8914-9ab671101c77",
   "metadata": {},
   "source": [
    "# (a)"
   ]
  },
  {
   "cell_type": "code",
   "execution_count": 7,
   "id": "0ef0851c-3b79-4fca-9b91-e31c3ed99076",
   "metadata": {},
   "outputs": [
    {
     "data": {
      "text/html": [
       "<div>\n",
       "<style scoped>\n",
       "    .dataframe tbody tr th:only-of-type {\n",
       "        vertical-align: middle;\n",
       "    }\n",
       "\n",
       "    .dataframe tbody tr th {\n",
       "        vertical-align: top;\n",
       "    }\n",
       "\n",
       "    .dataframe thead th {\n",
       "        text-align: right;\n",
       "    }\n",
       "</style>\n",
       "<table border=\"1\" class=\"dataframe\">\n",
       "  <thead>\n",
       "    <tr style=\"text-align: right;\">\n",
       "      <th></th>\n",
       "      <th>const</th>\n",
       "      <th>year</th>\n",
       "      <th>age</th>\n",
       "      <th>agesq</th>\n",
       "      <th>nbh</th>\n",
       "      <th>cbd</th>\n",
       "      <th>inst</th>\n",
       "      <th>linst</th>\n",
       "      <th>price</th>\n",
       "      <th>rooms</th>\n",
       "      <th>area</th>\n",
       "      <th>land</th>\n",
       "      <th>baths</th>\n",
       "      <th>dist</th>\n",
       "      <th>ldist</th>\n",
       "      <th>lprice</th>\n",
       "      <th>y81</th>\n",
       "      <th>larea</th>\n",
       "      <th>lland</th>\n",
       "      <th>linstsq</th>\n",
       "    </tr>\n",
       "  </thead>\n",
       "  <tbody>\n",
       "    <tr>\n",
       "      <th>count</th>\n",
       "      <td>179.0</td>\n",
       "      <td>179.0</td>\n",
       "      <td>179.000000</td>\n",
       "      <td>179.000000</td>\n",
       "      <td>179.000000</td>\n",
       "      <td>179.000000</td>\n",
       "      <td>179.000000</td>\n",
       "      <td>179.000000</td>\n",
       "      <td>179.000000</td>\n",
       "      <td>179.000000</td>\n",
       "      <td>179.000000</td>\n",
       "      <td>179.000000</td>\n",
       "      <td>179.000000</td>\n",
       "      <td>179.000000</td>\n",
       "      <td>179.000000</td>\n",
       "      <td>179.000000</td>\n",
       "      <td>179.0</td>\n",
       "      <td>179.000000</td>\n",
       "      <td>179.000000</td>\n",
       "      <td>179.000000</td>\n",
       "    </tr>\n",
       "    <tr>\n",
       "      <th>mean</th>\n",
       "      <td>1.0</td>\n",
       "      <td>1978.0</td>\n",
       "      <td>21.206704</td>\n",
       "      <td>1871.206704</td>\n",
       "      <td>2.402235</td>\n",
       "      <td>16424.581006</td>\n",
       "      <td>17128.491620</td>\n",
       "      <td>9.504069</td>\n",
       "      <td>76628.039106</td>\n",
       "      <td>6.581006</td>\n",
       "      <td>1999.636872</td>\n",
       "      <td>42955.474860</td>\n",
       "      <td>2.307263</td>\n",
       "      <td>21195.530726</td>\n",
       "      <td>9.853867</td>\n",
       "      <td>11.179079</td>\n",
       "      <td>0.0</td>\n",
       "      <td>7.550936</td>\n",
       "      <td>10.320077</td>\n",
       "      <td>90.999762</td>\n",
       "    </tr>\n",
       "    <tr>\n",
       "      <th>std</th>\n",
       "      <td>0.0</td>\n",
       "      <td>0.0</td>\n",
       "      <td>37.808310</td>\n",
       "      <td>6063.715230</td>\n",
       "      <td>2.126662</td>\n",
       "      <td>9411.244722</td>\n",
       "      <td>9425.653702</td>\n",
       "      <td>0.822324</td>\n",
       "      <td>30626.444888</td>\n",
       "      <td>0.958626</td>\n",
       "      <td>635.007659</td>\n",
       "      <td>50258.054117</td>\n",
       "      <td>0.742379</td>\n",
       "      <td>8849.756051</td>\n",
       "      <td>0.497732</td>\n",
       "      <td>0.366974</td>\n",
       "      <td>0.0</td>\n",
       "      <td>0.320571</td>\n",
       "      <td>0.862318</td>\n",
       "      <td>14.828158</td>\n",
       "    </tr>\n",
       "    <tr>\n",
       "      <th>min</th>\n",
       "      <td>1.0</td>\n",
       "      <td>1978.0</td>\n",
       "      <td>0.000000</td>\n",
       "      <td>0.000000</td>\n",
       "      <td>0.000000</td>\n",
       "      <td>1000.000000</td>\n",
       "      <td>1000.000000</td>\n",
       "      <td>6.907800</td>\n",
       "      <td>26000.000000</td>\n",
       "      <td>4.000000</td>\n",
       "      <td>750.000000</td>\n",
       "      <td>1710.000000</td>\n",
       "      <td>1.000000</td>\n",
       "      <td>5200.000000</td>\n",
       "      <td>8.556414</td>\n",
       "      <td>10.165852</td>\n",
       "      <td>0.0</td>\n",
       "      <td>6.620073</td>\n",
       "      <td>7.444249</td>\n",
       "      <td>47.717705</td>\n",
       "    </tr>\n",
       "    <tr>\n",
       "      <th>25%</th>\n",
       "      <td>1.0</td>\n",
       "      <td>1978.0</td>\n",
       "      <td>0.000000</td>\n",
       "      <td>0.000000</td>\n",
       "      <td>0.000000</td>\n",
       "      <td>7000.000000</td>\n",
       "      <td>7500.000000</td>\n",
       "      <td>8.920450</td>\n",
       "      <td>56450.000000</td>\n",
       "      <td>6.000000</td>\n",
       "      <td>1495.000000</td>\n",
       "      <td>15547.500000</td>\n",
       "      <td>2.000000</td>\n",
       "      <td>13450.000000</td>\n",
       "      <td>9.506727</td>\n",
       "      <td>10.941079</td>\n",
       "      <td>0.0</td>\n",
       "      <td>7.309876</td>\n",
       "      <td>9.651627</td>\n",
       "      <td>79.578880</td>\n",
       "    </tr>\n",
       "    <tr>\n",
       "      <th>50%</th>\n",
       "      <td>1.0</td>\n",
       "      <td>1978.0</td>\n",
       "      <td>5.000000</td>\n",
       "      <td>25.000000</td>\n",
       "      <td>2.000000</td>\n",
       "      <td>17000.000000</td>\n",
       "      <td>17000.000000</td>\n",
       "      <td>9.741000</td>\n",
       "      <td>75500.000000</td>\n",
       "      <td>7.000000</td>\n",
       "      <td>1998.000000</td>\n",
       "      <td>43663.000000</td>\n",
       "      <td>2.000000</td>\n",
       "      <td>21000.000000</td>\n",
       "      <td>9.952278</td>\n",
       "      <td>11.231888</td>\n",
       "      <td>0.0</td>\n",
       "      <td>7.599902</td>\n",
       "      <td>10.684257</td>\n",
       "      <td>94.887085</td>\n",
       "    </tr>\n",
       "    <tr>\n",
       "      <th>75%</th>\n",
       "      <td>1.0</td>\n",
       "      <td>1978.0</td>\n",
       "      <td>23.000000</td>\n",
       "      <td>529.000000</td>\n",
       "      <td>4.000000</td>\n",
       "      <td>24000.000000</td>\n",
       "      <td>26000.000000</td>\n",
       "      <td>10.166000</td>\n",
       "      <td>90200.000000</td>\n",
       "      <td>7.000000</td>\n",
       "      <td>2392.000000</td>\n",
       "      <td>46174.000000</td>\n",
       "      <td>3.000000</td>\n",
       "      <td>28050.000000</td>\n",
       "      <td>10.241740</td>\n",
       "      <td>11.409783</td>\n",
       "      <td>0.0</td>\n",
       "      <td>7.779880</td>\n",
       "      <td>10.740172</td>\n",
       "      <td>103.347560</td>\n",
       "    </tr>\n",
       "    <tr>\n",
       "      <th>max</th>\n",
       "      <td>1.0</td>\n",
       "      <td>1978.0</td>\n",
       "      <td>189.000000</td>\n",
       "      <td>35721.000000</td>\n",
       "      <td>6.000000</td>\n",
       "      <td>35000.000000</td>\n",
       "      <td>34000.000000</td>\n",
       "      <td>10.434000</td>\n",
       "      <td>300000.000000</td>\n",
       "      <td>10.000000</td>\n",
       "      <td>5078.000000</td>\n",
       "      <td>544500.000000</td>\n",
       "      <td>4.000000</td>\n",
       "      <td>40000.000000</td>\n",
       "      <td>10.596630</td>\n",
       "      <td>12.611538</td>\n",
       "      <td>0.0</td>\n",
       "      <td>8.532673</td>\n",
       "      <td>13.207623</td>\n",
       "      <td>108.868350</td>\n",
       "    </tr>\n",
       "  </tbody>\n",
       "</table>\n",
       "</div>"
      ],
      "text/plain": [
       "       const    year         age         agesq         nbh           cbd  \\\n",
       "count  179.0   179.0  179.000000    179.000000  179.000000    179.000000   \n",
       "mean     1.0  1978.0   21.206704   1871.206704    2.402235  16424.581006   \n",
       "std      0.0     0.0   37.808310   6063.715230    2.126662   9411.244722   \n",
       "min      1.0  1978.0    0.000000      0.000000    0.000000   1000.000000   \n",
       "25%      1.0  1978.0    0.000000      0.000000    0.000000   7000.000000   \n",
       "50%      1.0  1978.0    5.000000     25.000000    2.000000  17000.000000   \n",
       "75%      1.0  1978.0   23.000000    529.000000    4.000000  24000.000000   \n",
       "max      1.0  1978.0  189.000000  35721.000000    6.000000  35000.000000   \n",
       "\n",
       "               inst       linst          price       rooms         area  \\\n",
       "count    179.000000  179.000000     179.000000  179.000000   179.000000   \n",
       "mean   17128.491620    9.504069   76628.039106    6.581006  1999.636872   \n",
       "std     9425.653702    0.822324   30626.444888    0.958626   635.007659   \n",
       "min     1000.000000    6.907800   26000.000000    4.000000   750.000000   \n",
       "25%     7500.000000    8.920450   56450.000000    6.000000  1495.000000   \n",
       "50%    17000.000000    9.741000   75500.000000    7.000000  1998.000000   \n",
       "75%    26000.000000   10.166000   90200.000000    7.000000  2392.000000   \n",
       "max    34000.000000   10.434000  300000.000000   10.000000  5078.000000   \n",
       "\n",
       "                land       baths          dist       ldist      lprice    y81  \\\n",
       "count     179.000000  179.000000    179.000000  179.000000  179.000000  179.0   \n",
       "mean    42955.474860    2.307263  21195.530726    9.853867   11.179079    0.0   \n",
       "std     50258.054117    0.742379   8849.756051    0.497732    0.366974    0.0   \n",
       "min      1710.000000    1.000000   5200.000000    8.556414   10.165852    0.0   \n",
       "25%     15547.500000    2.000000  13450.000000    9.506727   10.941079    0.0   \n",
       "50%     43663.000000    2.000000  21000.000000    9.952278   11.231888    0.0   \n",
       "75%     46174.000000    3.000000  28050.000000   10.241740   11.409783    0.0   \n",
       "max    544500.000000    4.000000  40000.000000   10.596630   12.611538    0.0   \n",
       "\n",
       "            larea       lland     linstsq  \n",
       "count  179.000000  179.000000  179.000000  \n",
       "mean     7.550936   10.320077   90.999762  \n",
       "std      0.320571    0.862318   14.828158  \n",
       "min      6.620073    7.444249   47.717705  \n",
       "25%      7.309876    9.651627   79.578880  \n",
       "50%      7.599902   10.684257   94.887085  \n",
       "75%      7.779880   10.740172  103.347560  \n",
       "max      8.532673   13.207623  108.868350  "
      ]
     },
     "execution_count": 7,
     "metadata": {},
     "output_type": "execute_result"
    }
   ],
   "source": [
    "df.describe()"
   ]
  },
  {
   "cell_type": "markdown",
   "id": "65d75787-c478-4956-8c13-da4fba09e776",
   "metadata": {},
   "source": [
    "# (c)\n",
    "\n",
    "## generate $\\log \\left(cbd\\right)$"
   ]
  },
  {
   "cell_type": "code",
   "execution_count": 8,
   "id": "7fb6297a-d1ff-4ea1-b981-e8f78f8f09b1",
   "metadata": {},
   "outputs": [],
   "source": [
    "df['lcbd'] = np.log(df.cbd)"
   ]
  },
  {
   "cell_type": "markdown",
   "id": "05318021-7f51-4e6c-b243-9db4e4adcbcc",
   "metadata": {},
   "source": [
    "## run regression model (1)"
   ]
  },
  {
   "cell_type": "code",
   "execution_count": 9,
   "id": "13690b4e-ff94-43fc-a520-fd9785465b3b",
   "metadata": {},
   "outputs": [
    {
     "name": "stdout",
     "output_type": "stream",
     "text": [
      "                            OLS Regression Results                            \n",
      "==============================================================================\n",
      "Dep. Variable:                 lprice   R-squared:                       0.679\n",
      "Model:                            OLS   Adj. R-squared:                  0.665\n",
      "Method:                 Least Squares   F-statistic:                     51.59\n",
      "Date:                Wed, 15 Sep 2021   Prob (F-statistic):           5.78e-39\n",
      "Time:                        10:03:21   Log-Likelihood:                 27.555\n",
      "No. Observations:                 179   AIC:                            -39.11\n",
      "Df Residuals:                     171   BIC:                            -13.61\n",
      "Df Model:                           7                                         \n",
      "Covariance Type:            nonrobust                                         \n",
      "==============================================================================\n",
      "                 coef    std err          t      P>|t|      [0.025      0.975]\n",
      "------------------------------------------------------------------------------\n",
      "const          7.3668      0.557     13.218      0.000       6.267       8.467\n",
      "rooms          0.0620      0.022      2.784      0.006       0.018       0.106\n",
      "baths          0.0659      0.038      1.752      0.082      -0.008       0.140\n",
      "larea          0.3796      0.073      5.168      0.000       0.235       0.525\n",
      "lland          0.1061      0.033      3.231      0.001       0.041       0.171\n",
      "age           -0.0082      0.002     -4.220      0.000      -0.012      -0.004\n",
      "agesq        3.59e-05   1.12e-05      3.195      0.002    1.37e-05    5.81e-05\n",
      "lcbd          -0.0638      0.037     -1.709      0.089      -0.137       0.010\n",
      "==============================================================================\n",
      "Omnibus:                       55.505   Durbin-Watson:                   1.852\n",
      "Prob(Omnibus):                  0.000   Jarque-Bera (JB):              297.078\n",
      "Skew:                          -1.017   Prob(JB):                     3.09e-65\n",
      "Kurtosis:                       8.975   Cond. No.                     2.24e+05\n",
      "==============================================================================\n",
      "\n",
      "Notes:\n",
      "[1] Standard Errors assume that the covariance matrix of the errors is correctly specified.\n",
      "[2] The condition number is large, 2.24e+05. This might indicate that there are\n",
      "strong multicollinearity or other numerical problems.\n"
     ]
    }
   ],
   "source": [
    "x = df[['const','rooms', 'baths', 'larea', 'lland', 'age', 'agesq', 'lcbd']]\n",
    "y = df[['lprice']]\n",
    "M1 = sm.OLS(y,x)\n",
    "M1_result = M1.fit()\n",
    "print(M1_result.summary())"
   ]
  },
  {
   "cell_type": "markdown",
   "id": "79be235b-b369-419b-ae3d-a2e066f00081",
   "metadata": {},
   "source": [
    "## compute percentage change"
   ]
  },
  {
   "cell_type": "code",
   "execution_count": 10,
   "id": "c6495fa2-433c-4749-a587-159f5793f3b3",
   "metadata": {},
   "outputs": [
    {
     "name": "stdout",
     "output_type": "stream",
     "text": [
      "percentage change : 6.812621026421128\n"
     ]
    }
   ],
   "source": [
    "percentage_change = 100*(np.exp(M1_result.params[2])-1)\n",
    "print('percentage change :', percentage_change)"
   ]
  },
  {
   "cell_type": "markdown",
   "id": "7146b2ce-a7f9-477a-8117-208658ae8da4",
   "metadata": {},
   "source": [
    "## compare the percentage with $100 \\cdot \\beta_2$"
   ]
  },
  {
   "cell_type": "code",
   "execution_count": 11,
   "id": "134e94ed-b08b-4209-9c65-dc5115feafe6",
   "metadata": {},
   "outputs": [
    {
     "name": "stdout",
     "output_type": "stream",
     "text": [
      "ratio of approximation to the orginal value : 1.033688972237307\n"
     ]
    }
   ],
   "source": [
    "print('ratio of approximation to the orginal value :', percentage_change/(M1_result.params[2]*100))"
   ]
  },
  {
   "cell_type": "markdown",
   "id": "ebd12dae-a271-4f38-8ad5-6c34e42bff36",
   "metadata": {},
   "source": [
    "# (d) calculate $95\\%$ CI"
   ]
  },
  {
   "cell_type": "code",
   "execution_count": 12,
   "id": "061c37f0-37f4-4e21-bbe5-26dae82d3ed1",
   "metadata": {},
   "outputs": [
    {
     "data": {
      "text/html": [
       "<div>\n",
       "<style scoped>\n",
       "    .dataframe tbody tr th:only-of-type {\n",
       "        vertical-align: middle;\n",
       "    }\n",
       "\n",
       "    .dataframe tbody tr th {\n",
       "        vertical-align: top;\n",
       "    }\n",
       "\n",
       "    .dataframe thead th {\n",
       "        text-align: right;\n",
       "    }\n",
       "</style>\n",
       "<table border=\"1\" class=\"dataframe\">\n",
       "  <thead>\n",
       "    <tr style=\"text-align: right;\">\n",
       "      <th></th>\n",
       "      <th>0</th>\n",
       "      <th>1</th>\n",
       "    </tr>\n",
       "  </thead>\n",
       "  <tbody>\n",
       "    <tr>\n",
       "      <th>const</th>\n",
       "      <td>6.266710</td>\n",
       "      <td>8.466987</td>\n",
       "    </tr>\n",
       "    <tr>\n",
       "      <th>rooms</th>\n",
       "      <td>0.018050</td>\n",
       "      <td>0.105973</td>\n",
       "    </tr>\n",
       "    <tr>\n",
       "      <th>baths</th>\n",
       "      <td>-0.008349</td>\n",
       "      <td>0.140161</td>\n",
       "    </tr>\n",
       "    <tr>\n",
       "      <th>larea</th>\n",
       "      <td>0.234620</td>\n",
       "      <td>0.524603</td>\n",
       "    </tr>\n",
       "    <tr>\n",
       "      <th>lland</th>\n",
       "      <td>0.041274</td>\n",
       "      <td>0.170858</td>\n",
       "    </tr>\n",
       "    <tr>\n",
       "      <th>age</th>\n",
       "      <td>-0.012022</td>\n",
       "      <td>-0.004359</td>\n",
       "    </tr>\n",
       "    <tr>\n",
       "      <th>agesq</th>\n",
       "      <td>0.000014</td>\n",
       "      <td>0.000058</td>\n",
       "    </tr>\n",
       "    <tr>\n",
       "      <th>lcbd</th>\n",
       "      <td>-0.137424</td>\n",
       "      <td>0.009903</td>\n",
       "    </tr>\n",
       "  </tbody>\n",
       "</table>\n",
       "</div>"
      ],
      "text/plain": [
       "              0         1\n",
       "const  6.266710  8.466987\n",
       "rooms  0.018050  0.105973\n",
       "baths -0.008349  0.140161\n",
       "larea  0.234620  0.524603\n",
       "lland  0.041274  0.170858\n",
       "age   -0.012022 -0.004359\n",
       "agesq  0.000014  0.000058\n",
       "lcbd  -0.137424  0.009903"
      ]
     },
     "execution_count": 12,
     "metadata": {},
     "output_type": "execute_result"
    }
   ],
   "source": [
    "M1_result.conf_int(alpha=0.05)"
   ]
  },
  {
   "cell_type": "markdown",
   "id": "86783328-5cd3-4f7f-bc66-a587e644483c",
   "metadata": {},
   "source": [
    "# (e)\n",
    "## $$H_0 : \\beta_7 \\geqslant 0$$\n",
    "## $$H_1 : \\beta_7 < 0$$\n",
    "\n",
    "## the t-statistic can be directly extracted from the table\n",
    "## we just need to compute the left-tail p-value"
   ]
  },
  {
   "cell_type": "code",
   "execution_count": 13,
   "id": "f3856d0f-087a-42d5-b065-bafa7e19a061",
   "metadata": {},
   "outputs": [
    {
     "name": "stdout",
     "output_type": "stream",
     "text": [
      "the t-value of beta_baths : -1.7085757694225632\n",
      "the significant level : 0.1\n",
      "the left-tail p-value of beta_baths : 0.04467198870754807\n",
      "reject H0 since p value is smaller than significant level\n"
     ]
    }
   ],
   "source": [
    "p_left = 1 - stats.t.sf(M1_result.tvalues[7], M1_result.df_resid)\n",
    "\n",
    "sig_level = 0.1\n",
    "\n",
    "print(\"the t-value of beta_baths :\", M1_result.tvalues[7])\n",
    "print(\"the significant level :\", sig_level)\n",
    "print(\"the left-tail p-value of beta_baths :\", p_left)\n",
    "\n",
    "if p_left > sig_level:\n",
    "    print(\"fail to reject H0 since p value is larger than sig level\")\n",
    "else:\n",
    "    print(\"reject H0 since p value is smaller than significant level\")"
   ]
  },
  {
   "cell_type": "markdown",
   "id": "8d8f01c9-d613-48e8-9972-f1208c3ec835",
   "metadata": {},
   "source": [
    "# (f): minimize predicted log(price) on the value of \"age\""
   ]
  },
  {
   "cell_type": "code",
   "execution_count": 14,
   "id": "dabc769d-1bb8-4bdd-9df8-81c79e0b225b",
   "metadata": {},
   "outputs": [
    {
     "data": {
      "image/png": "[encoded data removed]",
      "text/plain": [
       "<Figure size 432x288 with 1 Axes>"
      ]
     },
     "metadata": {
      "needs_background": "light"
     },
     "output_type": "display_data"
    },
    {
     "name": "stdout",
     "output_type": "stream",
     "text": [
      "the minimum is obtained at age= 114.0755204368843\n"
     ]
    }
   ],
   "source": [
    "fig1 = plt.figure()\n",
    "\n",
    "X_plot  = np.arange(df['age'].min(), df['age'].max(),0.01)\n",
    "X2_plot = np.square(X_plot)\n",
    "\n",
    "Y_plot  = M1_result.params[0] + M1_result.params[5] * X_plot + M1_result.params[6] * X2_plot\n",
    "\n",
    "sym_ax  = -1 * M1_result.params[5] / (2*M1_result.params[6])\n",
    "\n",
    "plt.plot(X_plot, Y_plot, label='predicted value')\n",
    "plt.vlines(sym_ax, 0, 10, colors='r', label='minimum location')\n",
    "plt.ylim(6.8,7.5)\n",
    "\n",
    "plt.legend()\n",
    "plt.xlabel(\"age\")\n",
    "plt.ylabel(\"lprice\")\n",
    "plt.show()\n",
    "\n",
    "print(\"the minimum is obtained at age=\",sym_ax)"
   ]
  },
  {
   "cell_type": "markdown",
   "id": "1fb9b6fd-7594-4e96-a3ca-fda3515dcfb6",
   "metadata": {},
   "source": [
    "# (g) : F-test age and agesq"
   ]
  },
  {
   "cell_type": "code",
   "execution_count": 15,
   "id": "01e04299-13ae-471d-8405-2d06c8b3b65e",
   "metadata": {},
   "outputs": [
    {
     "data": {
      "text/plain": [
       "<class 'statsmodels.stats.contrast.ContrastResults'>\n",
       "<F test: F=array([[14.84102778]]), p=1.1394288247698759e-06, df_denom=171, df_num=2>"
      ]
     },
     "execution_count": 15,
     "metadata": {},
     "output_type": "execute_result"
    }
   ],
   "source": [
    "M1_result.f_test('age=agesq=0')"
   ]
  },
  {
   "cell_type": "markdown",
   "id": "e8ef175b-9e23-4e69-9696-2c2846c56cd2",
   "metadata": {},
   "source": [
    "# (h) BP test\n",
    "## BP test can be doon using LM statistic or F-statistics; hence, you have both reported here"
   ]
  },
  {
   "cell_type": "code",
   "execution_count": 16,
   "id": "8c5698ef-d00f-427a-93b4-7151a558b3b6",
   "metadata": {},
   "outputs": [
    {
     "data": {
      "text/plain": [
       "[('LM stat:', 5.714027898513024),\n",
       " ('LM p-value:', 0.5735090639554246),\n",
       " ('F stat:', 0.80552128352274),\n",
       " ('F p-value:', 0.5837672566895304)]"
      ]
     },
     "execution_count": 16,
     "metadata": {},
     "output_type": "execute_result"
    }
   ],
   "source": [
    "result1 = sms.het_breuschpagan(M1_result.resid, M1_result.model.exog)\n",
    "out =['LM stat:', 'LM p-value:', 'F stat:', 'F p-value:']\n",
    "lzip(out,result1)"
   ]
  },
  {
   "cell_type": "markdown",
   "id": "3bf9c829-064e-4cfe-bf11-3d516d7b2346",
   "metadata": {},
   "source": [
    "# (i) \n",
    "\n",
    "## regression with lcbd dropped"
   ]
  },
  {
   "cell_type": "code",
   "execution_count": 17,
   "id": "1dc8c2e1-6a03-42a8-af7c-bb8a01eb6512",
   "metadata": {},
   "outputs": [
    {
     "name": "stdout",
     "output_type": "stream",
     "text": [
      "                            OLS Regression Results                            \n",
      "==============================================================================\n",
      "Dep. Variable:                 lprice   R-squared:                       0.673\n",
      "Model:                            OLS   Adj. R-squared:                  0.662\n",
      "Method:                 Least Squares   F-statistic:                     59.04\n",
      "Date:                Wed, 15 Sep 2021   Prob (F-statistic):           3.00e-39\n",
      "Time:                        10:03:26   Log-Likelihood:                 26.040\n",
      "No. Observations:                 179   AIC:                            -38.08\n",
      "Df Residuals:                     172   BIC:                            -15.77\n",
      "Df Model:                           6                                         \n",
      "Covariance Type:            nonrobust                                         \n",
      "==============================================================================\n",
      "                 coef    std err          t      P>|t|      [0.025      0.975]\n",
      "------------------------------------------------------------------------------\n",
      "const          7.0572      0.530     13.316      0.000       6.011       8.103\n",
      "rooms          0.0576      0.022      2.591      0.010       0.014       0.102\n",
      "baths          0.0735      0.038      1.958      0.052      -0.001       0.148\n",
      "larea          0.3891      0.074      5.283      0.000       0.244       0.534\n",
      "lland          0.0702      0.025      2.767      0.006       0.020       0.120\n",
      "age           -0.0067      0.002     -3.846      0.000      -0.010      -0.003\n",
      "agesq       2.792e-05   1.03e-05      2.717      0.007    7.64e-06    4.82e-05\n",
      "==============================================================================\n",
      "Omnibus:                       50.241   Durbin-Watson:                   1.870\n",
      "Prob(Omnibus):                  0.000   Jarque-Bera (JB):              307.920\n",
      "Skew:                          -0.845   Prob(JB):                     1.37e-67\n",
      "Kurtosis:                       9.199   Cond. No.                     2.12e+05\n",
      "==============================================================================\n",
      "\n",
      "Notes:\n",
      "[1] Standard Errors assume that the covariance matrix of the errors is correctly specified.\n",
      "[2] The condition number is large, 2.12e+05. This might indicate that there are\n",
      "strong multicollinearity or other numerical problems.\n"
     ]
    }
   ],
   "source": [
    "x_2 = df[['const','rooms', 'baths', 'larea', 'lland', 'age', 'agesq']]\n",
    "y_2 = df[['lprice']]\n",
    "M2 = sm.OLS(y_2,x_2)\n",
    "M2_result = M2.fit()\n",
    "print(M2_result.summary())"
   ]
  },
  {
   "cell_type": "markdown",
   "id": "8cd0f598-2456-4fbd-b0ac-f886e335f0e2",
   "metadata": {},
   "source": [
    "## compare the models with and without lcbd"
   ]
  },
  {
   "cell_type": "code",
   "execution_count": 18,
   "id": "9238b3c6-f3c6-43ca-9945-458b3b210015",
   "metadata": {},
   "outputs": [
    {
     "name": "stdout",
     "output_type": "stream",
     "text": [
      "\n",
      "====================================\n",
      "                  with     without  \n",
      "------------------------------------\n",
      "R-squared      0.6786     0.6732    \n",
      "R-squared Adj. 0.6655     0.6618    \n",
      "age            -0.0082*** -0.0067***\n",
      "               (0.0019)   (0.0017)  \n",
      "agesq          0.0000***  0.0000*** \n",
      "               (0.0000)   (0.0000)  \n",
      "baths          0.0659*    0.0735*   \n",
      "               (0.0376)   (0.0376)  \n",
      "const          7.3668***  7.0572*** \n",
      "               (0.5573)   (0.5300)  \n",
      "larea          0.3796***  0.3891*** \n",
      "               (0.0735)   (0.0737)  \n",
      "lcbd           -0.0638*             \n",
      "               (0.0373)             \n",
      "lland          0.1061***  0.0702*** \n",
      "               (0.0328)   (0.0254)  \n",
      "rooms          0.0620***  0.0576**  \n",
      "               (0.0223)   (0.0222)  \n",
      "N              179        179       \n",
      "R2             0.68       0.67      \n",
      "AIC            -39.11     -38.08    \n",
      "BIC            -13.61     -15.77    \n",
      "====================================\n",
      "Standard errors in parentheses.\n",
      "* p<.1, ** p<.05, ***p<.01\n"
     ]
    }
   ],
   "source": [
    "summary = summary_col(\n",
    "    [M1_result,M2_result], stars=True, float_format='%0.4f',\n",
    "    model_names=['with','without'],\n",
    "    info_dict={'N':lambda x: \"{0:d}\".format(int(x.nobs)),\n",
    "               'R2':lambda x: \"{:.2f}\".format(x.rsquared),\n",
    "               'AIC':lambda x: \"{:.2f}\".format(x.aic),\n",
    "               'BIC':lambda x: \"{:.2f}\".format(x.bic)})\n",
    "print(summary)"
   ]
  },
  {
   "cell_type": "markdown",
   "id": "6ff67b4e-b3ca-4635-8690-4f8904b16e0a",
   "metadata": {},
   "source": [
    "## let's check whether two models are different in population using Hausman test\n",
    "\n",
    "## $$H_0: \\mbox{both models are identical in population}$$\n",
    "## $$H_1: H_0 \\mbox{ is wrong}$$"
   ]
  },
  {
   "cell_type": "code",
   "execution_count": 19,
   "id": "c2c5c4d7-7c41-453b-8343-6d144725ebb2",
   "metadata": {},
   "outputs": [
    {
     "name": "stdout",
     "output_type": "stream",
     "text": [
      "const    7.366848\n",
      "rooms    0.062012\n",
      "baths    0.065906\n",
      "larea    0.379611\n",
      "lland    0.106066\n",
      "age     -0.008190\n",
      "agesq    0.000036\n",
      "dtype: float64\n"
     ]
    }
   ],
   "source": [
    "b = M1_result.params[0:7]\n",
    "print(b)"
   ]
  },
  {
   "cell_type": "code",
   "execution_count": 20,
   "id": "7b91047f-5693-4851-b449-d1d39bf1a24e",
   "metadata": {},
   "outputs": [
    {
     "name": "stdout",
     "output_type": "stream",
     "text": [
      "const    7.057240\n",
      "rooms    0.057632\n",
      "baths    0.073534\n",
      "larea    0.389071\n",
      "lland    0.070169\n",
      "age     -0.006665\n",
      "agesq    0.000028\n",
      "dtype: float64\n"
     ]
    }
   ],
   "source": [
    "B = M2_result.params[0:7]\n",
    "print(B)"
   ]
  },
  {
   "cell_type": "code",
   "execution_count": 21,
   "id": "d10e8ad8-2914-44f1-8374-d425c81bc041",
   "metadata": {},
   "outputs": [
    {
     "name": "stdout",
     "output_type": "stream",
     "text": [
      "          const         rooms         baths         larea         lland  \\\n",
      "const  0.310620 -2.143676e-04  9.339416e-03 -3.384812e-02 -7.643452e-04   \n",
      "rooms -0.000214  4.960015e-04 -2.763710e-04 -2.087286e-04  9.545166e-06   \n",
      "baths  0.009339 -2.763710e-04  1.415097e-03 -1.505229e-03 -1.282565e-04   \n",
      "larea -0.033848 -2.087286e-04 -1.505229e-03  5.395343e-03 -3.638468e-04   \n",
      "lland -0.000764  9.545166e-06 -1.282565e-04 -3.638468e-04  1.077395e-03   \n",
      "age   -0.000336  3.666034e-07  2.724432e-05 -1.510242e-05  2.887817e-06   \n",
      "agesq  0.000002 -2.055265e-08 -1.325309e-07  4.155316e-08 -1.446064e-08   \n",
      "\n",
      "                age         agesq  \n",
      "const -3.362186e-04  2.132895e-06  \n",
      "rooms  3.666034e-07 -2.055265e-08  \n",
      "baths  2.724432e-05 -1.325309e-07  \n",
      "larea -1.510242e-05  4.155316e-08  \n",
      "lland  2.887817e-06 -1.446064e-08  \n",
      "age    3.767603e-06 -2.107937e-08  \n",
      "agesq -2.107937e-08  1.262314e-10  \n"
     ]
    }
   ],
   "source": [
    "v_b = M1_result.cov_params().drop(['lcbd'], axis=1)\n",
    "v_b = v_b.drop(['lcbd'], axis=0)\n",
    "print(v_b)"
   ]
  },
  {
   "cell_type": "code",
   "execution_count": 22,
   "id": "df14aed6-c3ab-4a21-acc8-c64287e51486",
   "metadata": {},
   "outputs": [
    {
     "name": "stdout",
     "output_type": "stream",
     "text": [
      "          const         rooms         baths         larea         lland  \\\n",
      "const  0.280883 -6.864694e-04  1.026163e-02 -3.321129e-02 -4.622557e-03   \n",
      "rooms -0.000686  4.948912e-04 -2.678829e-04 -1.967057e-04 -4.480846e-05   \n",
      "baths  0.010262 -2.678829e-04  1.410735e-03 -1.547019e-03 -3.484550e-05   \n",
      "larea -0.033211 -1.967057e-04 -1.547019e-03  5.424547e-03 -2.502799e-04   \n",
      "lland -0.004623 -4.480846e-05 -3.484550e-05 -2.502799e-04  6.430683e-04   \n",
      "age   -0.000176  2.684370e-06  2.351906e-05 -2.026818e-05  2.188264e-05   \n",
      "agesq  0.000001 -3.287917e-08 -1.129425e-07  6.814518e-08 -1.137691e-07   \n",
      "\n",
      "                age         agesq  \n",
      "const -1.764209e-04  1.301568e-06  \n",
      "rooms  2.684370e-06 -3.287917e-08  \n",
      "baths  2.351906e-05 -1.129425e-07  \n",
      "larea -2.026818e-05  6.814518e-08  \n",
      "lland  2.188264e-05 -1.137691e-07  \n",
      "age    3.004039e-06 -1.710243e-08  \n",
      "agesq -1.710243e-08  1.056164e-10  \n"
     ]
    }
   ],
   "source": [
    "v_B = M2_result.cov_params()\n",
    "print(v_B)"
   ]
  },
  {
   "cell_type": "code",
   "execution_count": 23,
   "id": "c3cf4d65-2247-4a5f-8e27-b390f1827727",
   "metadata": {},
   "outputs": [
    {
     "data": {
      "text/html": [
       "<div>\n",
       "<style scoped>\n",
       "    .dataframe tbody tr th:only-of-type {\n",
       "        vertical-align: middle;\n",
       "    }\n",
       "\n",
       "    .dataframe tbody tr th {\n",
       "        vertical-align: top;\n",
       "    }\n",
       "\n",
       "    .dataframe thead th {\n",
       "        text-align: right;\n",
       "    }\n",
       "</style>\n",
       "<table border=\"1\" class=\"dataframe\">\n",
       "  <thead>\n",
       "    <tr style=\"text-align: right;\">\n",
       "      <th></th>\n",
       "      <th>chi-sq stat</th>\n",
       "      <th>df</th>\n",
       "      <th>p-value</th>\n",
       "    </tr>\n",
       "  </thead>\n",
       "  <tbody>\n",
       "    <tr>\n",
       "      <th>0</th>\n",
       "      <td>2.92</td>\n",
       "      <td>1</td>\n",
       "      <td>0.09</td>\n",
       "    </tr>\n",
       "  </tbody>\n",
       "</table>\n",
       "</div>"
      ],
      "text/plain": [
       "   chi-sq stat  df  p-value\n",
       "0         2.92   1     0.09"
      ]
     },
     "execution_count": 23,
     "metadata": {},
     "output_type": "execute_result"
    }
   ],
   "source": [
    "df_t = 1\n",
    "chi2 = np.dot((b-B).T, la.inv(v_b - v_B).dot(b - B)) \n",
    "\n",
    "pval = stats.chi2.sf(chi2, df_t)\n",
    "\n",
    "\n",
    "dict = {'chi-sq stat' : [chi2],\n",
    "        'df' : [df_t],\n",
    "        'p-value' : [pval]}\n",
    "Hausman_df = pd.DataFrame(dict)\n",
    "Hausman_df.round(2)"
   ]
  },
  {
   "cell_type": "markdown",
   "id": "ab5ba5ba-5ddf-4206-8ad2-af35c25b54e5",
   "metadata": {},
   "source": [
    "## the p-value is larger than 0.05 and 0.01; hence we cannot reject $H_0$"
   ]
  },
  {
   "cell_type": "markdown",
   "id": "a82e83ae-0c54-43a9-b98a-de6f9d67c3eb",
   "metadata": {},
   "source": [
    "# (j) model the bedroom size as well\n",
    "## there are different way to do this; I will do it by including \n",
    "\n",
    "## $$larea \\times room$$"
   ]
  },
  {
   "cell_type": "code",
   "execution_count": 24,
   "id": "f96fc550-4aeb-4243-9cc4-f3bf03b8bff8",
   "metadata": {},
   "outputs": [],
   "source": [
    "df['area_rooms'] = df.larea * df.rooms"
   ]
  },
  {
   "cell_type": "code",
   "execution_count": 25,
   "id": "10b31e88-b858-469d-810c-9b6db9cfcf4b",
   "metadata": {},
   "outputs": [
    {
     "name": "stdout",
     "output_type": "stream",
     "text": [
      "                            OLS Regression Results                            \n",
      "==============================================================================\n",
      "Dep. Variable:                 lprice   R-squared:                       0.698\n",
      "Model:                            OLS   Adj. R-squared:                  0.684\n",
      "Method:                 Least Squares   F-statistic:                     49.13\n",
      "Date:                Wed, 15 Sep 2021   Prob (F-statistic):           2.34e-40\n",
      "Time:                        10:03:31   Log-Likelihood:                 33.136\n",
      "No. Observations:                 179   AIC:                            -48.27\n",
      "Df Residuals:                     170   BIC:                            -19.58\n",
      "Df Model:                           8                                         \n",
      "Covariance Type:            nonrobust                                         \n",
      "==============================================================================\n",
      "                 coef    std err          t      P>|t|      [0.025      0.975]\n",
      "------------------------------------------------------------------------------\n",
      "const         13.7275      1.998      6.870      0.000       9.783      17.672\n",
      "rooms         -0.9504      0.307     -3.097      0.002      -1.556      -0.345\n",
      "baths          0.0539      0.037      1.466      0.145      -0.019       0.126\n",
      "larea         -0.4758      0.268     -1.773      0.078      -1.006       0.054\n",
      "lland          0.1005      0.032      3.146      0.002       0.037       0.164\n",
      "age           -0.0080      0.002     -4.216      0.000      -0.012      -0.004\n",
      "agesq       3.137e-05    1.1e-05      2.849      0.005    9.64e-06    5.31e-05\n",
      "lcbd          -0.0553      0.036     -1.521      0.130      -0.127       0.016\n",
      "area_rooms     0.1358      0.041      3.307      0.001       0.055       0.217\n",
      "==============================================================================\n",
      "Omnibus:                       58.203   Durbin-Watson:                   1.949\n",
      "Prob(Omnibus):                  0.000   Jarque-Bera (JB):              326.746\n",
      "Skew:                          -1.061   Prob(JB):                     1.12e-71\n",
      "Kurtosis:                       9.269   Cond. No.                     8.36e+05\n",
      "==============================================================================\n",
      "\n",
      "Notes:\n",
      "[1] Standard Errors assume that the covariance matrix of the errors is correctly specified.\n",
      "[2] The condition number is large, 8.36e+05. This might indicate that there are\n",
      "strong multicollinearity or other numerical problems.\n"
     ]
    }
   ],
   "source": [
    "x_3 = df[['const','rooms', 'baths', 'larea', 'lland', 'age', 'agesq', 'lcbd', 'area_rooms']]\n",
    "y_3 = df[['lprice']]\n",
    "M3 = sm.OLS(y_3,x_3)\n",
    "M3_result = M3.fit()\n",
    "print(M3_result.summary())"
   ]
  },
  {
   "cell_type": "code",
   "execution_count": 26,
   "id": "8fd19ac6-08c5-44c9-8919-0ca49bd44f08",
   "metadata": {},
   "outputs": [
    {
     "name": "stdout",
     "output_type": "stream",
     "text": [
      "\n",
      "===============================================\n",
      "                  Q(c)       Q(i)       Q(j)   \n",
      "-----------------------------------------------\n",
      "R-squared      0.6786     0.6732     0.6981    \n",
      "R-squared Adj. 0.6655     0.6618     0.6839    \n",
      "age            -0.0082*** -0.0067*** -0.0080***\n",
      "               (0.0019)   (0.0017)   (0.0019)  \n",
      "agesq          0.0000***  0.0000***  0.0000*** \n",
      "               (0.0000)   (0.0000)   (0.0000)  \n",
      "area_rooms                           0.1358*** \n",
      "                                     (0.0411)  \n",
      "baths          0.0659*    0.0735*    0.0539    \n",
      "               (0.0376)   (0.0376)   (0.0368)  \n",
      "const          7.3668***  7.0572***  13.7275***\n",
      "               (0.5573)   (0.5300)   (1.9981)  \n",
      "larea          0.3796***  0.3891***  -0.4758*  \n",
      "               (0.0735)   (0.0737)   (0.2683)  \n",
      "lcbd           -0.0638*              -0.0553   \n",
      "               (0.0373)              (0.0364)  \n",
      "lland          0.1061***  0.0702***  0.1005*** \n",
      "               (0.0328)   (0.0254)   (0.0320)  \n",
      "rooms          0.0620***  0.0576**   -0.9504***\n",
      "               (0.0223)   (0.0222)   (0.3069)  \n",
      "N              179        179        179       \n",
      "R2             0.68       0.67       0.70      \n",
      "AIC            -39.11     -38.08     -48.27    \n",
      "BIC            -13.61     -15.77     -19.58    \n",
      "===============================================\n",
      "Standard errors in parentheses.\n",
      "* p<.1, ** p<.05, ***p<.01\n"
     ]
    }
   ],
   "source": [
    "summary = summary_col(\n",
    "    [M1_result,M2_result,M3_result], stars=True, float_format='%0.4f',\n",
    "    model_names=['Q(c)','Q(i)','Q(j)'],\n",
    "    info_dict={'N':lambda x: \"{0:d}\".format(int(x.nobs)),\n",
    "               'R2':lambda x: \"{:.2f}\".format(x.rsquared),\n",
    "               'AIC':lambda x: \"{:.2f}\".format(x.aic),\n",
    "               'BIC':lambda x: \"{:.2f}\".format(x.bic)})\n",
    "print(summary)"
   ]
  },
  {
   "cell_type": "code",
   "execution_count": 27,
   "id": "50ab409f-8976-4e25-b5c4-9afb60bd33ed",
   "metadata": {},
   "outputs": [
    {
     "name": "stdout",
     "output_type": "stream",
     "text": [
      "[NbConvertApp] Converting notebook Python_21S2.ipynb to html\n",
      "[NbConvertApp] Writing 645467 bytes to Python_21S2.html\n"
     ]
    }
   ],
   "source": [
    "!rm -rf Python_21S2.html\n",
    "!jupyter nbconvert --to html Python_21S2.ipynb"
   ]
  },
  {
   "cell_type": "code",
   "execution_count": null,
   "id": "a6740da0-6088-469a-912b-c67ab412fdb8",
   "metadata": {},
   "outputs": [],
   "source": []
  }
 ],
 "metadata": {
  "kernelspec": {
   "display_name": "Python 3 (ipykernel)",
   "language": "python",
   "name": "python3"
  },
  "language_info": {
   "codemirror_mode": {
    "name": "ipython",
    "version": 3
   },
   "file_extension": ".py",
   "mimetype": "text/x-python",
   "name": "python",
   "nbconvert_exporter": "python",
   "pygments_lexer": "ipython3",
   "version": "3.9.7"
  }
 },
 "nbformat": 4,
 "nbformat_minor": 5
}
