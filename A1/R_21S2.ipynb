{
 "cells": [
  {
   "cell_type": "code",
   "execution_count": 1,
   "id": "1536cc0e-7dd1-422d-bc68-a8f6f6a2cf2c",
   "metadata": {},
   "outputs": [
    {
     "name": "stderr",
     "output_type": "stream",
     "text": [
      "Loading required package: AER\n",
      "\n",
      "Loading required package: car\n",
      "\n",
      "Loading required package: carData\n",
      "\n",
      "Loading required package: lmtest\n",
      "\n",
      "Loading required package: zoo\n",
      "\n",
      "\n",
      "Attaching package: ‘zoo’\n",
      "\n",
      "\n",
      "The following objects are masked from ‘package:base’:\n",
      "\n",
      "    as.Date, as.Date.numeric\n",
      "\n",
      "\n",
      "Loading required package: sandwich\n",
      "\n",
      "Loading required package: survival\n",
      "\n",
      "Warning message:\n",
      "“package ‘survival’ was built under R version 4.1.1”\n",
      "Loading required package: stargazer\n",
      "\n",
      "\n",
      "Please cite as: \n",
      "\n",
      "\n",
      " Hlavac, Marek (2018). stargazer: Well-Formatted Regression and Summary Statistics Tables.\n",
      "\n",
      " R package version 5.2.2. https://CRAN.R-project.org/package=stargazer \n",
      "\n",
      "\n",
      "Loading required package: readr\n",
      "\n",
      "Loading required package: dplyr\n",
      "\n",
      "\n",
      "Attaching package: ‘dplyr’\n",
      "\n",
      "\n",
      "The following object is masked from ‘package:car’:\n",
      "\n",
      "    recode\n",
      "\n",
      "\n",
      "The following objects are masked from ‘package:stats’:\n",
      "\n",
      "    filter, lag\n",
      "\n",
      "\n",
      "The following objects are masked from ‘package:base’:\n",
      "\n",
      "    intersect, setdiff, setequal, union\n",
      "\n",
      "\n",
      "Loading required package: Hmisc\n",
      "\n",
      "Loading required package: lattice\n",
      "\n",
      "Loading required package: Formula\n",
      "\n",
      "Loading required package: ggplot2\n",
      "\n",
      "\n",
      "Attaching package: ‘Hmisc’\n",
      "\n",
      "\n",
      "The following objects are masked from ‘package:dplyr’:\n",
      "\n",
      "    src, summarize\n",
      "\n",
      "\n",
      "The following objects are masked from ‘package:base’:\n",
      "\n",
      "    format.pval, units\n",
      "\n",
      "\n"
     ]
    },
    {
     "data": {
      "text/html": [
       "<style>\n",
       ".dl-inline {width: auto; margin:0; padding: 0}\n",
       ".dl-inline>dt, .dl-inline>dd {float: none; width: auto; display: inline-block}\n",
       ".dl-inline>dt::after {content: \":\\0020\"; padding-right: .5ex}\n",
       ".dl-inline>dt:not(:first-of-type) {padding-left: .5ex}\n",
       "</style><dl class=dl-inline><dt>AER</dt><dd>TRUE</dd><dt>stargazer</dt><dd>TRUE</dd><dt>readr</dt><dd>TRUE</dd><dt>dplyr</dt><dd>TRUE</dd><dt>car</dt><dd>TRUE</dd><dt>Hmisc</dt><dd>TRUE</dd><dt>ggplot2</dt><dd>TRUE</dd><dt>lmtest</dt><dd>TRUE</dd></dl>\n"
      ],
      "text/latex": [
       "\\begin{description*}\n",
       "\\item[AER] TRUE\n",
       "\\item[stargazer] TRUE\n",
       "\\item[readr] TRUE\n",
       "\\item[dplyr] TRUE\n",
       "\\item[car] TRUE\n",
       "\\item[Hmisc] TRUE\n",
       "\\item[ggplot2] TRUE\n",
       "\\item[lmtest] TRUE\n",
       "\\end{description*}\n"
      ],
      "text/markdown": [
       "AER\n",
       ":   TRUEstargazer\n",
       ":   TRUEreadr\n",
       ":   TRUEdplyr\n",
       ":   TRUEcar\n",
       ":   TRUEHmisc\n",
       ":   TRUEggplot2\n",
       ":   TRUElmtest\n",
       ":   TRUE\n",
       "\n"
      ],
      "text/plain": [
       "      AER stargazer     readr     dplyr       car     Hmisc   ggplot2    lmtest \n",
       "     TRUE      TRUE      TRUE      TRUE      TRUE      TRUE      TRUE      TRUE "
      ]
     },
     "metadata": {},
     "output_type": "display_data"
    }
   ],
   "source": [
    "#clear your memory\n",
    "rm(list = ls())\n",
    "\n",
    "#update packages\n",
    "update.packages(ask = FALSE)\n",
    "\n",
    "ipak <- function(pkg){\n",
    "  new.pkg <- pkg[!(pkg %in% installed.packages()[, \"Package\"])]\n",
    "  if (length(new.pkg))\n",
    "    install.packages(new.pkg, dependencies = TRUE)\n",
    "  sapply(pkg, require, character.only = TRUE)\n",
    "}\n",
    "\n",
    "packages <- c('AER','stargazer','readr','dplyr','car','Hmisc', 'ggplot2','lmtest')\n",
    "\n",
    "ipak(packages)"
   ]
  },
  {
   "cell_type": "code",
   "execution_count": 2,
   "id": "6d4f8174-d207-49f8-99f7-0aad09c4e01c",
   "metadata": {},
   "outputs": [],
   "source": [
    "library(readr)\n",
    "library(dplyr)\n",
    "library(car)\n",
    "library(Hmisc)\n",
    "library(AER)\n",
    "library(stargazer)\n",
    "library(ggplot2)\n",
    "library(lmtest)"
   ]
  },
  {
   "cell_type": "code",
   "execution_count": 3,
   "id": "d6dce542-51c5-472e-83ff-8ef18034ba62",
   "metadata": {},
   "outputs": [
    {
     "name": "stderr",
     "output_type": "stream",
     "text": [
      "\u001b[1m\u001b[1mRows: \u001b[1m\u001b[22m\u001b[34m\u001b[34m321\u001b[34m\u001b[39m \u001b[1m\u001b[1mColumns: \u001b[1m\u001b[22m\u001b[34m\u001b[34m19\u001b[34m\u001b[39m\n",
      "\n",
      "\u001b[36m──\u001b[39m \u001b[1m\u001b[1mColumn specification\u001b[1m\u001b[22m \u001b[36m──────────────────────────────────────────────────────────────\u001b[39m\n",
      "\u001b[1mDelimiter:\u001b[22m \",\"\n",
      "\u001b[32mdbl\u001b[39m (19): year, age, agesq, nbh, cbd, inst, linst, price, rooms, area, land,...\n",
      "\n",
      "\n",
      "\u001b[36mℹ\u001b[39m Use \u001b[30m\u001b[47m\u001b[30m\u001b[47m`spec()`\u001b[47m\u001b[30m\u001b[49m\u001b[39m to retrieve the full column specification for this data.\n",
      "\u001b[36mℹ\u001b[39m Specify the column types or set \u001b[30m\u001b[47m\u001b[30m\u001b[47m`show_col_types = FALSE`\u001b[47m\u001b[30m\u001b[49m\u001b[39m to quiet this message.\n",
      "\n"
     ]
    }
   ],
   "source": [
    "data <- read_csv(\"HPRICE3.csv\")"
   ]
  },
  {
   "cell_type": "markdown",
   "id": "6737e952-6c06-4af1-a367-a3406ad64429",
   "metadata": {},
   "source": [
    "# drop observations with year = 1981"
   ]
  },
  {
   "cell_type": "code",
   "execution_count": 4,
   "id": "9bd33b53-f3c8-4c8a-89ec-b16ff1877f2e",
   "metadata": {},
   "outputs": [
    {
     "data": {
      "text/plain": [
       "   Min. 1st Qu.  Median    Mean 3rd Qu.    Max. \n",
       "   1978    1978    1978    1979    1981    1981 "
      ]
     },
     "metadata": {},
     "output_type": "display_data"
    }
   ],
   "source": [
    "summary(data$year)"
   ]
  },
  {
   "cell_type": "code",
   "execution_count": 5,
   "id": "bf5de692-8f9b-49df-9bb1-1517374995d4",
   "metadata": {},
   "outputs": [],
   "source": [
    "data = data[data$year == 1978,]"
   ]
  },
  {
   "cell_type": "code",
   "execution_count": 6,
   "id": "27fa8add-ba25-43bc-947f-b4b488198603",
   "metadata": {},
   "outputs": [
    {
     "data": {
      "text/plain": [
       "   Min. 1st Qu.  Median    Mean 3rd Qu.    Max. \n",
       "   1978    1978    1978    1978    1978    1978 "
      ]
     },
     "metadata": {},
     "output_type": "display_data"
    }
   ],
   "source": [
    "summary(data$year)"
   ]
  },
  {
   "cell_type": "markdown",
   "id": "0728003b-8bd5-492e-ba33-429534e0d641",
   "metadata": {},
   "source": [
    "# (a)"
   ]
  },
  {
   "cell_type": "code",
   "execution_count": 7,
   "id": "3f1b4308-d495-457c-8c62-420b2f7b7cc5",
   "metadata": {},
   "outputs": [
    {
     "data": {
      "text/plain": [
       "      year           age             agesq            nbh       \n",
       " Min.   :1978   Min.   :  0.00   Min.   :    0   Min.   :0.000  \n",
       " 1st Qu.:1978   1st Qu.:  0.00   1st Qu.:    0   1st Qu.:0.000  \n",
       " Median :1978   Median :  5.00   Median :   25   Median :2.000  \n",
       " Mean   :1978   Mean   : 21.21   Mean   : 1871   Mean   :2.402  \n",
       " 3rd Qu.:1978   3rd Qu.: 23.00   3rd Qu.:  529   3rd Qu.:4.000  \n",
       " Max.   :1978   Max.   :189.00   Max.   :35721   Max.   :6.000  \n",
       "      cbd             inst           linst            price       \n",
       " Min.   : 1000   Min.   : 1000   Min.   : 6.908   Min.   : 26000  \n",
       " 1st Qu.: 7000   1st Qu.: 7500   1st Qu.: 8.920   1st Qu.: 56450  \n",
       " Median :17000   Median :17000   Median : 9.741   Median : 75500  \n",
       " Mean   :16425   Mean   :17128   Mean   : 9.504   Mean   : 76628  \n",
       " 3rd Qu.:24000   3rd Qu.:26000   3rd Qu.:10.166   3rd Qu.: 90200  \n",
       " Max.   :35000   Max.   :34000   Max.   :10.434   Max.   :300000  \n",
       "     rooms             area           land            baths      \n",
       " Min.   : 4.000   Min.   : 750   Min.   :  1710   Min.   :1.000  \n",
       " 1st Qu.: 6.000   1st Qu.:1495   1st Qu.: 15548   1st Qu.:2.000  \n",
       " Median : 7.000   Median :1998   Median : 43663   Median :2.000  \n",
       " Mean   : 6.581   Mean   :2000   Mean   : 42956   Mean   :2.307  \n",
       " 3rd Qu.: 7.000   3rd Qu.:2392   3rd Qu.: 46174   3rd Qu.:3.000  \n",
       " Max.   :10.000   Max.   :5078   Max.   :544500   Max.   :4.000  \n",
       "      dist           ldist            lprice           y81        larea      \n",
       " Min.   : 5200   Min.   : 8.556   Min.   :10.17   Min.   :0   Min.   :6.620  \n",
       " 1st Qu.:13450   1st Qu.: 9.507   1st Qu.:10.94   1st Qu.:0   1st Qu.:7.310  \n",
       " Median :21000   Median : 9.952   Median :11.23   Median :0   Median :7.600  \n",
       " Mean   :21196   Mean   : 9.854   Mean   :11.18   Mean   :0   Mean   :7.551  \n",
       " 3rd Qu.:28050   3rd Qu.:10.242   3rd Qu.:11.41   3rd Qu.:0   3rd Qu.:7.780  \n",
       " Max.   :40000   Max.   :10.597   Max.   :12.61   Max.   :0   Max.   :8.533  \n",
       "     lland           linstsq      \n",
       " Min.   : 7.444   Min.   : 47.72  \n",
       " 1st Qu.: 9.652   1st Qu.: 79.58  \n",
       " Median :10.684   Median : 94.89  \n",
       " Mean   :10.320   Mean   : 91.00  \n",
       " 3rd Qu.:10.740   3rd Qu.:103.35  \n",
       " Max.   :13.208   Max.   :108.87  "
      ]
     },
     "metadata": {},
     "output_type": "display_data"
    }
   ],
   "source": [
    "summary(data)"
   ]
  },
  {
   "cell_type": "markdown",
   "id": "3511ef79-336d-4882-a643-7f1b2bee44e4",
   "metadata": {},
   "source": [
    "# (c)"
   ]
  },
  {
   "cell_type": "code",
   "execution_count": 8,
   "id": "0cbda643-f249-4b55-8266-b794ace0f6e3",
   "metadata": {},
   "outputs": [
    {
     "data": {
      "text/plain": [
       "   Min. 1st Qu.  Median    Mean 3rd Qu.    Max. \n",
       "  6.908   8.854   9.741   9.449  10.086  10.463 "
      ]
     },
     "metadata": {},
     "output_type": "display_data"
    }
   ],
   "source": [
    "data$lcbd = log(data$cbd)\n",
    "summary(data$lcbd)"
   ]
  },
  {
   "cell_type": "code",
   "execution_count": 9,
   "id": "1ae115db-3e65-4e04-81bf-2bbff959f194",
   "metadata": {},
   "outputs": [
    {
     "data": {
      "text/plain": [
       "\n",
       "Call:\n",
       "lm(formula = lprice ~ rooms + baths + larea + lland + age + agesq + \n",
       "    lcbd, data = data)\n",
       "\n",
       "Residuals:\n",
       "     Min       1Q   Median       3Q      Max \n",
       "-1.17821 -0.09763  0.01187  0.11190  0.74883 \n",
       "\n",
       "Coefficients:\n",
       "              Estimate Std. Error t value Pr(>|t|)    \n",
       "(Intercept)  7.367e+00  5.573e-01  13.218  < 2e-16 ***\n",
       "rooms        6.201e-02  2.227e-02   2.784  0.00597 ** \n",
       "baths        6.591e-02  3.762e-02   1.752  0.08157 .  \n",
       "larea        3.796e-01  7.345e-02   5.168 6.54e-07 ***\n",
       "lland        1.061e-01  3.282e-02   3.231  0.00148 ** \n",
       "age         -8.190e-03  1.941e-03  -4.220 3.96e-05 ***\n",
       "agesq        3.590e-05  1.124e-05   3.195  0.00166 ** \n",
       "lcbd        -6.376e-02  3.732e-02  -1.709  0.08934 .  \n",
       "---\n",
       "Signif. codes:  0 ‘***’ 0.001 ‘**’ 0.01 ‘*’ 0.05 ‘.’ 0.1 ‘ ’ 1\n",
       "\n",
       "Residual standard error: 0.2122 on 171 degrees of freedom\n",
       "Multiple R-squared:  0.6786,\tAdjusted R-squared:  0.6655 \n",
       "F-statistic: 51.59 on 7 and 171 DF,  p-value: < 2.2e-16\n"
      ]
     },
     "metadata": {},
     "output_type": "display_data"
    }
   ],
   "source": [
    "M1 = lm(lprice ~ rooms + baths + larea + lland + age + agesq + lcbd, data=data)\n",
    "\n",
    "summary(M1)"
   ]
  },
  {
   "cell_type": "code",
   "execution_count": 10,
   "id": "01bf1d25-82d8-49da-b69f-213239e01aca",
   "metadata": {},
   "outputs": [
    {
     "name": "stdout",
     "output_type": "stream",
     "text": [
      "\n",
      "========================================\n",
      "              Dependent variable: lwage \n",
      "             ---------------------------\n",
      "                       lprice           \n",
      "----------------------------------------\n",
      "rooms                 0.0620***         \n",
      "                      (0.0223)          \n",
      "                                        \n",
      "baths                  0.0659*          \n",
      "                      (0.0376)          \n",
      "                                        \n",
      "larea                 0.3796***         \n",
      "                      (0.0735)          \n",
      "                                        \n",
      "lland                 0.1061***         \n",
      "                      (0.0328)          \n",
      "                                        \n",
      "age                  -0.0082***         \n",
      "                      (0.0019)          \n",
      "                                        \n",
      "agesq                0.00004***         \n",
      "                      (0.00001)         \n",
      "                                        \n",
      "lcbd                  -0.0638*          \n",
      "                      (0.0373)          \n",
      "                                        \n",
      "Constant              7.3668***         \n",
      "                      (0.5573)          \n",
      "                                        \n",
      "----------------------------------------\n",
      "Observations             179            \n",
      "R2                     0.6786           \n",
      "Adjusted R2            0.6655           \n",
      "========================================\n",
      "Note:        *p<0.1; **p<0.05; ***p<0.01\n"
     ]
    }
   ],
   "source": [
    "stargazer(M1,\n",
    "  header=FALSE, \n",
    "  type=\"text\",  \n",
    "  digits=4, \n",
    "  intercept.bottom=TRUE, \n",
    "  dep.var.caption=\"Dependent variable: lwage\",\n",
    "  model.names=FALSE,\n",
    "  omit.stat=c(\"LL\",\"ser\",\"f\"))"
   ]
  },
  {
   "cell_type": "code",
   "execution_count": 11,
   "id": "2e2fc486-26dd-4d5c-a567-011d58307c86",
   "metadata": {},
   "outputs": [
    {
     "name": "stdout",
     "output_type": "stream",
     "text": [
      "[1] \"percentage change : 6.81262102642044\"\n",
      "[1] \"ratio of percentage change to orignial value * 100 : 1.0336889722373\"\n"
     ]
    }
   ],
   "source": [
    "bath_coef = summary(M1)$coefficients[3,1]\n",
    "\n",
    "per_change = 100 * ( exp(bath_coef)-1)\n",
    "ratio = per_change / (100*bath_coef)\n",
    "\n",
    "print(paste0(\"percentage change : \", per_change))\n",
    "\n",
    "print(paste0(\"ratio of percentage change to orignial value * 100 : \", ratio))"
   ]
  },
  {
   "cell_type": "markdown",
   "id": "266e2e3b-3d0c-4a70-a60d-bba509e54fe7",
   "metadata": {},
   "source": [
    "# (d)"
   ]
  },
  {
   "cell_type": "code",
   "execution_count": 12,
   "id": "d4baef90-9867-450b-a9a6-786eb444b29a",
   "metadata": {},
   "outputs": [
    {
     "data": {
      "text/html": [
       "<table class=\"dataframe\">\n",
       "<caption>A matrix: 8 × 4 of type dbl</caption>\n",
       "<thead>\n",
       "\t<tr><th></th><th scope=col>Estimate</th><th scope=col>Std. Error</th><th scope=col>t value</th><th scope=col>Pr(&gt;|t|)</th></tr>\n",
       "</thead>\n",
       "<tbody>\n",
       "\t<tr><th scope=row>(Intercept)</th><td> 7.366848e+00</td><td>5.573330e-01</td><td>13.218037</td><td>6.182657e-28</td></tr>\n",
       "\t<tr><th scope=row>rooms</th><td> 6.201171e-02</td><td>2.227109e-02</td><td> 2.784404</td><td>5.967028e-03</td></tr>\n",
       "\t<tr><th scope=row>baths</th><td> 6.590591e-02</td><td>3.761778e-02</td><td> 1.751988</td><td>8.156842e-02</td></tr>\n",
       "\t<tr><th scope=row>larea</th><td> 3.796112e-01</td><td>7.345300e-02</td><td> 5.168083</td><td>6.539844e-07</td></tr>\n",
       "\t<tr><th scope=row>lland</th><td> 1.060661e-01</td><td>3.282369e-02</td><td> 3.231387</td><td>1.477856e-03</td></tr>\n",
       "\t<tr><th scope=row>age</th><td>-8.190353e-03</td><td>1.941031e-03</td><td>-4.219588</td><td>3.963814e-05</td></tr>\n",
       "\t<tr><th scope=row>agesq</th><td> 3.589882e-05</td><td>1.123527e-05</td><td> 3.195189</td><td>1.664262e-03</td></tr>\n",
       "\t<tr><th scope=row>lcbd</th><td>-6.376074e-02</td><td>3.731807e-02</td><td>-1.708576</td><td>8.934398e-02</td></tr>\n",
       "</tbody>\n",
       "</table>\n"
      ],
      "text/latex": [
       "A matrix: 8 × 4 of type dbl\n",
       "\\begin{tabular}{r|llll}\n",
       "  & Estimate & Std. Error & t value & Pr(>\\textbar{}t\\textbar{})\\\\\n",
       "\\hline\n",
       "\t(Intercept) &  7.366848e+00 & 5.573330e-01 & 13.218037 & 6.182657e-28\\\\\n",
       "\trooms &  6.201171e-02 & 2.227109e-02 &  2.784404 & 5.967028e-03\\\\\n",
       "\tbaths &  6.590591e-02 & 3.761778e-02 &  1.751988 & 8.156842e-02\\\\\n",
       "\tlarea &  3.796112e-01 & 7.345300e-02 &  5.168083 & 6.539844e-07\\\\\n",
       "\tlland &  1.060661e-01 & 3.282369e-02 &  3.231387 & 1.477856e-03\\\\\n",
       "\tage & -8.190353e-03 & 1.941031e-03 & -4.219588 & 3.963814e-05\\\\\n",
       "\tagesq &  3.589882e-05 & 1.123527e-05 &  3.195189 & 1.664262e-03\\\\\n",
       "\tlcbd & -6.376074e-02 & 3.731807e-02 & -1.708576 & 8.934398e-02\\\\\n",
       "\\end{tabular}\n"
      ],
      "text/markdown": [
       "\n",
       "A matrix: 8 × 4 of type dbl\n",
       "\n",
       "| <!--/--> | Estimate | Std. Error | t value | Pr(&gt;|t|) |\n",
       "|---|---|---|---|---|\n",
       "| (Intercept) |  7.366848e+00 | 5.573330e-01 | 13.218037 | 6.182657e-28 |\n",
       "| rooms |  6.201171e-02 | 2.227109e-02 |  2.784404 | 5.967028e-03 |\n",
       "| baths |  6.590591e-02 | 3.761778e-02 |  1.751988 | 8.156842e-02 |\n",
       "| larea |  3.796112e-01 | 7.345300e-02 |  5.168083 | 6.539844e-07 |\n",
       "| lland |  1.060661e-01 | 3.282369e-02 |  3.231387 | 1.477856e-03 |\n",
       "| age | -8.190353e-03 | 1.941031e-03 | -4.219588 | 3.963814e-05 |\n",
       "| agesq |  3.589882e-05 | 1.123527e-05 |  3.195189 | 1.664262e-03 |\n",
       "| lcbd | -6.376074e-02 | 3.731807e-02 | -1.708576 | 8.934398e-02 |\n",
       "\n"
      ],
      "text/plain": [
       "            Estimate      Std. Error   t value   Pr(>|t|)    \n",
       "(Intercept)  7.366848e+00 5.573330e-01 13.218037 6.182657e-28\n",
       "rooms        6.201171e-02 2.227109e-02  2.784404 5.967028e-03\n",
       "baths        6.590591e-02 3.761778e-02  1.751988 8.156842e-02\n",
       "larea        3.796112e-01 7.345300e-02  5.168083 6.539844e-07\n",
       "lland        1.060661e-01 3.282369e-02  3.231387 1.477856e-03\n",
       "age         -8.190353e-03 1.941031e-03 -4.219588 3.963814e-05\n",
       "agesq        3.589882e-05 1.123527e-05  3.195189 1.664262e-03\n",
       "lcbd        -6.376074e-02 3.731807e-02 -1.708576 8.934398e-02"
      ]
     },
     "metadata": {},
     "output_type": "display_data"
    }
   ],
   "source": [
    "summary(M1)$coefficients"
   ]
  },
  {
   "cell_type": "code",
   "execution_count": 13,
   "id": "dd5f146c-4171-4e02-aa2c-fc27542c1430",
   "metadata": {},
   "outputs": [
    {
     "name": "stdout",
     "output_type": "stream",
     "text": [
      "[1] \"the upper bound is : 0.170857875185522\"\n",
      "[1] \"the lower bound is : 0.0412742690327088\"\n"
     ]
    }
   ],
   "source": [
    "b_lland  = summary(M1)$coefficients[5,1]\n",
    "se_lland = summary(M1)$coefficients[5,2]\n",
    "t_cutoff = qt(0.025, df.residual(M1), lower.tail=FALSE) \n",
    "\n",
    "ci_upper = b_lland + se_lland * t_cutoff\n",
    "ci_lower = b_lland - se_lland * t_cutoff\n",
    "\n",
    "print(paste0(\"the upper bound is : \", ci_upper))\n",
    "print(paste0(\"the lower bound is : \", ci_lower))\n"
   ]
  },
  {
   "cell_type": "markdown",
   "id": "a75f1826-e675-4dde-883f-27ccaf5e55cd",
   "metadata": {
    "tags": []
   },
   "source": [
    "# (e)"
   ]
  },
  {
   "cell_type": "code",
   "execution_count": 14,
   "id": "8df5d020-d689-4398-a034-2da553705b9c",
   "metadata": {},
   "outputs": [
    {
     "name": "stdout",
     "output_type": "stream",
     "text": [
      "[1] \"the t value is : -1.70857576942251\"\n",
      "[1] \"the left-tail p value is  : 0.0446719887075529\"\n",
      "[1] \"the sig level is  : 0.1\"\n",
      "[1] \"H0 is rejected since p value is less than sig level\"\n"
     ]
    }
   ],
   "source": [
    "b_lcbd  = summary(M1)$coefficients[8,1]\n",
    "se_lcbd = summary(M1)$coefficients[8,2]\n",
    "\n",
    "hyp_val = 0\n",
    "sig_lev = 0.1\n",
    "t_value = (b_lcbd-0)/se_lcbd\n",
    "p_value = pt(t_value, df.residual(M1)) \n",
    "\n",
    "print(paste0(\"the t value is : \", t_value))\n",
    "print(paste0(\"the left-tail p value is  : \", p_value))\n",
    "print(paste0(\"the sig level is  : \", sig_lev))\n",
    "\n",
    "if (p_value < sig_lev) {\n",
    "    print(\"H0 is rejected since p value is less than sig level\")\n",
    "} else{\n",
    "    print(\"H0 is not rejected since p value is larger than sig level\")\n",
    "}"
   ]
  },
  {
   "cell_type": "markdown",
   "id": "e0e32be5-4299-49f6-a63b-19db789f968d",
   "metadata": {},
   "source": [
    "# (f)"
   ]
  },
  {
   "cell_type": "code",
   "execution_count": 15,
   "id": "923d4103-03a6-4af0-88b1-3af7e72a2d2c",
   "metadata": {},
   "outputs": [
    {
     "name": "stdout",
     "output_type": "stream",
     "text": [
      "the minimum value of yhat is obtained at  114.0755"
     ]
    },
    {
     "data": {
      "image/png": "[encoded data removed]",
      "text/plain": [
       "plot without title"
      ]
     },
     "metadata": {
      "image/png": {
       "height": 420,
       "width": 420
      }
     },
     "output_type": "display_data"
    },
    {
     "data": {
      "image/png": "[encoded data removed]",
      "text/plain": [
       "plot without title"
      ]
     },
     "metadata": {
      "image/png": {
       "height": 420,
       "width": 420
      }
     },
     "output_type": "display_data"
    }
   ],
   "source": [
    "coef_OLS = summary(M1)$coefficients[,1]\n",
    "\n",
    "x_range  = seq(min(data$age),max(data$age), length.out = 1000)\n",
    "x2_range = x_range^2 \n",
    "\n",
    "yhat = coef_OLS[1] + coef_OLS[6] * x_range + coef_OLS[7] * x2_range\n",
    "arg_min = -1 * coef_OLS[6]/(2*coef_OLS[7])\n",
    "\n",
    "plot(x_range, yhat, col = 'blue', xlab=\"age\" , ylab=\"log(price)\")\n",
    "abline(v=arg_min, col = 'red', lwd= 5)\n",
    "\n",
    "cat('the minimum value of yhat is obtained at ', arg_min)\n",
    "\n",
    "scatterplot(data$age, data$lprice)"
   ]
  },
  {
   "cell_type": "markdown",
   "id": "1c76038c-a106-4cb4-aa80-0e4d867463e7",
   "metadata": {},
   "source": [
    "# (g)"
   ]
  },
  {
   "cell_type": "code",
   "execution_count": 16,
   "id": "ffd9f093-8817-4d32-b7ee-e0a9a6326839",
   "metadata": {},
   "outputs": [
    {
     "data": {
      "text/html": [
       "<table class=\"dataframe\">\n",
       "<caption>A anova: 2 × 6</caption>\n",
       "<thead>\n",
       "\t<tr><th></th><th scope=col>Res.Df</th><th scope=col>RSS</th><th scope=col>Df</th><th scope=col>Sum of Sq</th><th scope=col>F</th><th scope=col>Pr(&gt;F)</th></tr>\n",
       "\t<tr><th></th><th scope=col>&lt;dbl&gt;</th><th scope=col>&lt;dbl&gt;</th><th scope=col>&lt;dbl&gt;</th><th scope=col>&lt;dbl&gt;</th><th scope=col>&lt;dbl&gt;</th><th scope=col>&lt;dbl&gt;</th></tr>\n",
       "</thead>\n",
       "<tbody>\n",
       "\t<tr><th scope=row>1</th><td>173</td><td>9.040302</td><td>NA</td><td>      NA</td><td>      NA</td><td>          NA</td></tr>\n",
       "\t<tr><th scope=row>2</th><td>171</td><td>7.703188</td><td> 2</td><td>1.337114</td><td>14.84103</td><td>1.139429e-06</td></tr>\n",
       "</tbody>\n",
       "</table>\n"
      ],
      "text/latex": [
       "A anova: 2 × 6\n",
       "\\begin{tabular}{r|llllll}\n",
       "  & Res.Df & RSS & Df & Sum of Sq & F & Pr(>F)\\\\\n",
       "  & <dbl> & <dbl> & <dbl> & <dbl> & <dbl> & <dbl>\\\\\n",
       "\\hline\n",
       "\t1 & 173 & 9.040302 & NA &       NA &       NA &           NA\\\\\n",
       "\t2 & 171 & 7.703188 &  2 & 1.337114 & 14.84103 & 1.139429e-06\\\\\n",
       "\\end{tabular}\n"
      ],
      "text/markdown": [
       "\n",
       "A anova: 2 × 6\n",
       "\n",
       "| <!--/--> | Res.Df &lt;dbl&gt; | RSS &lt;dbl&gt; | Df &lt;dbl&gt; | Sum of Sq &lt;dbl&gt; | F &lt;dbl&gt; | Pr(&gt;F) &lt;dbl&gt; |\n",
       "|---|---|---|---|---|---|---|\n",
       "| 1 | 173 | 9.040302 | NA |       NA |       NA |           NA |\n",
       "| 2 | 171 | 7.703188 |  2 | 1.337114 | 14.84103 | 1.139429e-06 |\n",
       "\n"
      ],
      "text/plain": [
       "  Res.Df RSS      Df Sum of Sq F        Pr(>F)      \n",
       "1 173    9.040302 NA       NA        NA           NA\n",
       "2 171    7.703188  2 1.337114  14.84103 1.139429e-06"
      ]
     },
     "metadata": {},
     "output_type": "display_data"
    }
   ],
   "source": [
    "linearHypothesis(M1, c(\"age=0\", \"agesq=0\"))"
   ]
  },
  {
   "cell_type": "markdown",
   "id": "942db378-79a2-4cac-a252-5dea046c5b6a",
   "metadata": {},
   "source": [
    "# (h)"
   ]
  },
  {
   "cell_type": "code",
   "execution_count": 17,
   "id": "2351ef49-1d60-40b8-b4e5-e0e09b601824",
   "metadata": {},
   "outputs": [
    {
     "data": {
      "text/plain": [
       "\n",
       "\tstudentized Breusch-Pagan test\n",
       "\n",
       "data:  M1\n",
       "BP = 5.714, df = 7, p-value = 0.5735\n"
      ]
     },
     "metadata": {},
     "output_type": "display_data"
    }
   ],
   "source": [
    "bptest(M1)"
   ]
  },
  {
   "cell_type": "markdown",
   "id": "df59f072-7ad0-4021-adc0-2ab02dcb2ece",
   "metadata": {},
   "source": [
    "# (i)"
   ]
  },
  {
   "cell_type": "code",
   "execution_count": 18,
   "id": "f47774e3-49dd-4e64-8dcb-9d74091ff842",
   "metadata": {},
   "outputs": [
    {
     "data": {
      "text/plain": [
       "\n",
       "Call:\n",
       "lm(formula = lprice ~ rooms + baths + larea + lland + age + agesq, \n",
       "    data = data)\n",
       "\n",
       "Residuals:\n",
       "     Min       1Q   Median       3Q      Max \n",
       "-1.17619 -0.09539  0.01556  0.11038  0.84557 \n",
       "\n",
       "Coefficients:\n",
       "              Estimate Std. Error t value Pr(>|t|)    \n",
       "(Intercept)  7.057e+00  5.300e-01  13.316  < 2e-16 ***\n",
       "rooms        5.763e-02  2.225e-02   2.591 0.010402 *  \n",
       "baths        7.353e-02  3.756e-02   1.958 0.051874 .  \n",
       "larea        3.891e-01  7.365e-02   5.283 3.81e-07 ***\n",
       "lland        7.017e-02  2.536e-02   2.767 0.006276 ** \n",
       "age         -6.665e-03  1.733e-03  -3.846 0.000169 ***\n",
       "agesq        2.792e-05  1.028e-05   2.717 0.007256 ** \n",
       "---\n",
       "Signif. codes:  0 ‘***’ 0.001 ‘**’ 0.01 ‘*’ 0.05 ‘.’ 0.1 ‘ ’ 1\n",
       "\n",
       "Residual standard error: 0.2134 on 172 degrees of freedom\n",
       "Multiple R-squared:  0.6732,\tAdjusted R-squared:  0.6618 \n",
       "F-statistic: 59.04 on 6 and 172 DF,  p-value: < 2.2e-16\n"
      ]
     },
     "metadata": {},
     "output_type": "display_data"
    }
   ],
   "source": [
    "M2 = lm(lprice ~ rooms + baths + larea + lland + age + agesq, data=data)\n",
    "\n",
    "summary(M2)"
   ]
  },
  {
   "cell_type": "code",
   "execution_count": 19,
   "id": "d18f35ee-bc6e-4806-85c7-99ccaeb32859",
   "metadata": {},
   "outputs": [
    {
     "name": "stdout",
     "output_type": "stream",
     "text": [
      "\n",
      "=========================================\n",
      "              Dependent variable: lwage  \n",
      "             ----------------------------\n",
      "                        lprice           \n",
      "                  (1)            (2)     \n",
      "-----------------------------------------\n",
      "rooms          0.0620***      0.0576**   \n",
      "                (0.0223)      (0.0222)   \n",
      "                                         \n",
      "baths           0.0659*        0.0735*   \n",
      "                (0.0376)      (0.0376)   \n",
      "                                         \n",
      "larea          0.3796***      0.3891***  \n",
      "                (0.0735)      (0.0737)   \n",
      "                                         \n",
      "lland          0.1061***      0.0702***  \n",
      "                (0.0328)      (0.0254)   \n",
      "                                         \n",
      "age            -0.0082***    -0.0067***  \n",
      "                (0.0019)      (0.0017)   \n",
      "                                         \n",
      "agesq          0.00004***    0.00003***  \n",
      "               (0.00001)      (0.00001)  \n",
      "                                         \n",
      "lcbd            -0.0638*                 \n",
      "                (0.0373)                 \n",
      "                                         \n",
      "Constant       7.3668***      7.0572***  \n",
      "                (0.5573)      (0.5300)   \n",
      "                                         \n",
      "-----------------------------------------\n",
      "BIC               -8.4          -10.6    \n",
      "Observations      179            179     \n",
      "R2               0.6786        0.6732    \n",
      "Adjusted R2      0.6655        0.6618    \n",
      "=========================================\n",
      "Note:         *p<0.1; **p<0.05; ***p<0.01\n"
     ]
    }
   ],
   "source": [
    "stargazer(M1, M2,\n",
    "    header=FALSE, \n",
    "    type=\"text\",  \n",
    "    digits=4, \n",
    "    intercept.bottom=TRUE, \n",
    "    dep.var.caption=\"Dependent variable: lwage\",\n",
    "    model.names=FALSE,\n",
    "    omit.stat=c(\"LL\",\"ser\",\"f\"),\n",
    "    add.lines=list(c(\"BIC\", round(BIC(M1),1), round(BIC(M2),1))))"
   ]
  },
  {
   "cell_type": "markdown",
   "id": "f36dffcc-4638-40e7-b278-8f29d9df1d90",
   "metadata": {},
   "source": [
    "# (j)"
   ]
  },
  {
   "cell_type": "code",
   "execution_count": 20,
   "id": "2303397f-a7aa-4653-a6b5-27ea2d3d8e9c",
   "metadata": {},
   "outputs": [],
   "source": [
    "data$area_room = data$larea * data$rooms"
   ]
  },
  {
   "cell_type": "code",
   "execution_count": 21,
   "id": "cf6d17f4-21f9-485e-9117-b4f9b5de18d9",
   "metadata": {},
   "outputs": [
    {
     "data": {
      "text/plain": [
       "\n",
       "Call:\n",
       "lm(formula = lprice ~ rooms + baths + larea + lland + age + agesq + \n",
       "    lcbd + area_room, data = data)\n",
       "\n",
       "Residuals:\n",
       "     Min       1Q   Median       3Q      Max \n",
       "-1.16498 -0.08684  0.00690  0.09837  0.71838 \n",
       "\n",
       "Coefficients:\n",
       "              Estimate Std. Error t value Pr(>|t|)    \n",
       "(Intercept)  1.373e+01  1.998e+00   6.870 1.16e-10 ***\n",
       "rooms       -9.504e-01  3.069e-01  -3.097  0.00229 ** \n",
       "baths        5.387e-02  3.675e-02   1.466  0.14457    \n",
       "larea       -4.758e-01  2.683e-01  -1.773  0.07797 .  \n",
       "lland        1.005e-01  3.195e-02   3.146  0.00195 ** \n",
       "age         -7.962e-03  1.888e-03  -4.216 4.02e-05 ***\n",
       "agesq        3.137e-05  1.101e-05   2.849  0.00492 ** \n",
       "lcbd        -5.531e-02  3.637e-02  -1.521  0.13015    \n",
       "area_room    1.358e-01  4.106e-02   3.307  0.00115 ** \n",
       "---\n",
       "Signif. codes:  0 ‘***’ 0.001 ‘**’ 0.01 ‘*’ 0.05 ‘.’ 0.1 ‘ ’ 1\n",
       "\n",
       "Residual standard error: 0.2063 on 170 degrees of freedom\n",
       "Multiple R-squared:  0.6981,\tAdjusted R-squared:  0.6839 \n",
       "F-statistic: 49.13 on 8 and 170 DF,  p-value: < 2.2e-16\n"
      ]
     },
     "metadata": {},
     "output_type": "display_data"
    }
   ],
   "source": [
    "M3 = lm(lprice ~ rooms + baths + larea + lland + age + agesq + lcbd + area_room, data=data)\n",
    "\n",
    "summary(M3)"
   ]
  },
  {
   "cell_type": "code",
   "execution_count": 22,
   "id": "ca83da32-f3fd-4e08-a4bc-648057887d8b",
   "metadata": {},
   "outputs": [
    {
     "name": "stdout",
     "output_type": "stream",
     "text": [
      "\n",
      "=============================================\n",
      "                Dependent variable: lwage    \n",
      "             --------------------------------\n",
      "                          lprice             \n",
      "                (1)        (2)        (3)    \n",
      "---------------------------------------------\n",
      "rooms        0.0620***   0.0576**  -0.9504***\n",
      "              (0.0223)   (0.0222)   (0.3069) \n",
      "                                             \n",
      "baths         0.0659*    0.0735*     0.0539  \n",
      "              (0.0376)   (0.0376)   (0.0368) \n",
      "                                             \n",
      "larea        0.3796***  0.3891***   -0.4758* \n",
      "              (0.0735)   (0.0737)   (0.2683) \n",
      "                                             \n",
      "lland        0.1061***  0.0702***  0.1005*** \n",
      "              (0.0328)   (0.0254)   (0.0320) \n",
      "                                             \n",
      "age          -0.0082*** -0.0067*** -0.0080***\n",
      "              (0.0019)   (0.0017)   (0.0019) \n",
      "                                             \n",
      "agesq        0.00004*** 0.00003*** 0.00003***\n",
      "             (0.00001)  (0.00001)  (0.00001) \n",
      "                                             \n",
      "lcbd          -0.0638*              -0.0553  \n",
      "              (0.0373)              (0.0364) \n",
      "                                             \n",
      "area_room                          0.1358*** \n",
      "                                    (0.0411) \n",
      "                                             \n",
      "Constant     7.3668***  7.0572***  13.7275***\n",
      "              (0.5573)   (0.5300)   (1.9981) \n",
      "                                             \n",
      "---------------------------------------------\n",
      "BIC             -8.4      -10.6      -14.4   \n",
      "Observations    179        179        179    \n",
      "R2             0.6786     0.6732     0.6981  \n",
      "Adjusted R2    0.6655     0.6618     0.6839  \n",
      "=============================================\n",
      "Note:             *p<0.1; **p<0.05; ***p<0.01\n"
     ]
    }
   ],
   "source": [
    "stargazer(M1, M2,M3,\n",
    "    header=FALSE, \n",
    "    type=\"text\",  \n",
    "    digits=4, \n",
    "    intercept.bottom=TRUE, \n",
    "    dep.var.caption=\"Dependent variable: lwage\",\n",
    "    model.names=FALSE,\n",
    "    omit.stat=c(\"LL\",\"ser\",\"f\"),\n",
    "    add.lines=list(c(\"BIC\", round(BIC(M1),1), round(BIC(M2),1), round(BIC(M3),1))))"
   ]
  },
  {
   "cell_type": "code",
   "execution_count": null,
   "id": "92f822c7-8b7d-4bb9-97b3-f28bdcc28f9e",
   "metadata": {},
   "outputs": [],
   "source": []
  }
 ],
 "metadata": {
  "kernelspec": {
   "display_name": "R",
   "language": "R",
   "name": "ir"
  },
  "language_info": {
   "codemirror_mode": "r",
   "file_extension": ".r",
   "mimetype": "text/x-r-source",
   "name": "R",
   "pygments_lexer": "r",
   "version": "4.1.0"
  }
 },
 "nbformat": 4,
 "nbformat_minor": 5
}
