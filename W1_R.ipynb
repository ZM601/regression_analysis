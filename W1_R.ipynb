{
 "cells": [
  {
   "cell_type": "markdown",
   "id": "ultimate-launch",
   "metadata": {},
   "source": [
    "# load the R package"
   ]
  },
  {
   "cell_type": "code",
   "execution_count": 10,
   "id": "numeric-recommendation",
   "metadata": {},
   "outputs": [
    {
     "name": "stderr",
     "output_type": "stream",
     "text": [
      "\n",
      "Please cite as: \n",
      "\n",
      "\n",
      " Hlavac, Marek (2018). stargazer: Well-Formatted Regression and Summary Statistics Tables.\n",
      "\n",
      " R package version 5.2.2. https://CRAN.R-project.org/package=stargazer \n",
      "\n",
      "\n"
     ]
    }
   ],
   "source": [
    "rm(list = ls())\n",
    "\n",
    "library(readr)\n",
    "library(haven)\n",
    "library(stargazer)"
   ]
  },
  {
   "cell_type": "code",
   "execution_count": 11,
   "id": "1f50cfa7-47d8-46c3-a2ee-bb492e4734b7",
   "metadata": {},
   "outputs": [
    {
     "data": {
      "text/html": [
       "'/Users/ning/Data/Dropbox/Working_Directory/Tex_MD/Teaching/tutorial/6002/W1/2021S2'"
      ],
      "text/latex": [
       "'/Users/ning/Data/Dropbox/Working\\_Directory/Tex\\_MD/Teaching/tutorial/6002/W1/2021S2'"
      ],
      "text/markdown": [
       "'/Users/ning/Data/Dropbox/Working_Directory/Tex_MD/Teaching/tutorial/6002/W1/2021S2'"
      ],
      "text/plain": [
       "[1] \"/Users/ning/Data/Dropbox/Working_Directory/Tex_MD/Teaching/tutorial/6002/W1/2021S2\""
      ]
     },
     "metadata": {},
     "output_type": "display_data"
    }
   ],
   "source": [
    "getwd()"
   ]
  },
  {
   "cell_type": "markdown",
   "id": "correct-intensity",
   "metadata": {},
   "source": [
    "---\n",
    "\n",
    "# Question 4\n",
    "\n",
    "## #1. load data"
   ]
  },
  {
   "cell_type": "code",
   "execution_count": 12,
   "id": "sound-tooth",
   "metadata": {},
   "outputs": [],
   "source": [
    "sleep_table <- read_dta(\"SLEEP75.dta\")"
   ]
  },
  {
   "cell_type": "markdown",
   "id": "norman-france",
   "metadata": {},
   "source": [
    "## #2. regression"
   ]
  },
  {
   "cell_type": "code",
   "execution_count": 19,
   "id": "liquid-transmission",
   "metadata": {},
   "outputs": [
    {
     "data": {
      "text/plain": [
       "\n",
       "Call:\n",
       "lm(formula = sleep ~ totwrk + age + educ, data = sleep_table)\n",
       "\n",
       "Residuals:\n",
       "     Min       1Q   Median       3Q      Max \n",
       "-2405.12  -236.50    14.53   253.87  1303.42 \n",
       "\n",
       "Coefficients:\n",
       "              Estimate Std. Error t value Pr(>|t|)    \n",
       "(Intercept) 3638.24531  112.27511  32.405   <2e-16 ***\n",
       "totwrk        -0.14837    0.01669  -8.888   <2e-16 ***\n",
       "age            2.19988    1.44572   1.522   0.1285    \n",
       "educ         -11.13381    5.88457  -1.892   0.0589 .  \n",
       "---\n",
       "Signif. codes:  0 ‘***’ 0.001 ‘**’ 0.01 ‘*’ 0.05 ‘.’ 0.1 ‘ ’ 1\n",
       "\n",
       "Residual standard error: 419.4 on 702 degrees of freedom\n",
       "Multiple R-squared:  0.1134,\tAdjusted R-squared:  0.1096 \n",
       "F-statistic: 29.92 on 3 and 702 DF,  p-value: < 2.2e-16\n"
      ]
     },
     "metadata": {},
     "output_type": "display_data"
    }
   ],
   "source": [
    "linearMod = lm(sleep ~ totwrk + age + educ, data=sleep_table)\n",
    "\n",
    "summary(linearMod)"
   ]
  },
  {
   "cell_type": "code",
   "execution_count": 18,
   "id": "exciting-orbit",
   "metadata": {},
   "outputs": [
    {
     "name": "stdout",
     "output_type": "stream",
     "text": [
      "\n",
      "Results\n",
      "===============================================\n",
      "                        Dependent variable:    \n",
      "                    ---------------------------\n",
      "                               sleep           \n",
      "-----------------------------------------------\n",
      "totwrk                       -0.148***         \n",
      "                              (0.017)          \n",
      "                                               \n",
      "age                            2.200           \n",
      "                              (1.446)          \n",
      "                                               \n",
      "educ                         -11.134*          \n",
      "                              (5.885)          \n",
      "                                               \n",
      "Constant                   3,638.245***        \n",
      "                             (112.275)         \n",
      "                                               \n",
      "-----------------------------------------------\n",
      "Observations                    706            \n",
      "R2                             0.113           \n",
      "Adjusted R2                    0.110           \n",
      "Residual Std. Error     419.359 (df = 702)     \n",
      "F Statistic           29.919*** (df = 3; 702)  \n",
      "===============================================\n",
      "Note:               *p<0.1; **p<0.05; ***p<0.01\n"
     ]
    }
   ],
   "source": [
    "stargazer(linearMod, title=\"Results\", align=TRUE, type=\"text\")"
   ]
  },
  {
   "cell_type": "code",
   "execution_count": null,
   "id": "aa6bc80b-23d5-42e1-8e3f-47042e58dede",
   "metadata": {},
   "outputs": [],
   "source": []
  }
 ],
 "metadata": {
  "kernelspec": {
   "display_name": "R",
   "language": "R",
   "name": "ir"
  },
  "language_info": {
   "codemirror_mode": "r",
   "file_extension": ".r",
   "mimetype": "text/x-r-source",
   "name": "R",
   "pygments_lexer": "r",
   "version": "4.1.0"
  }
 },
 "nbformat": 4,
 "nbformat_minor": 5
}
