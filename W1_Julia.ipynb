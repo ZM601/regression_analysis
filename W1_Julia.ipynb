{
 "cells": [
  {
   "cell_type": "code",
   "execution_count": 9,
   "id": "e5f373e4-5aab-4cb7-ad5b-1d0d0995301a",
   "metadata": {},
   "outputs": [],
   "source": [
    "using Pkg, CSV, DataFrames, Statistics, OnlineStats, StatsBase, Plots, Distributions, StatsPlots, GLM, MLBase, StatsBase, StatsModels"
   ]
  },
  {
   "cell_type": "code",
   "execution_count": 10,
   "id": "8a6eeb3d-864c-4c1a-961f-078ec7d45c04",
   "metadata": {},
   "outputs": [],
   "source": [
    "cd(\"/Users/ning/Data/Dropbox/Working_Directory/Tex_MD/Teaching/tutorial/6002/W1/2021S2\")"
   ]
  },
  {
   "cell_type": "code",
   "execution_count": 11,
   "id": "a4f69a2b-3e8c-4c06-8b2a-e4f3db5f5018",
   "metadata": {},
   "outputs": [],
   "source": [
    "df = CSV.read(\"SLEEP75.csv\", DataFrame);"
   ]
  },
  {
   "cell_type": "code",
   "execution_count": 12,
   "id": "d1e2554b-ca80-48cc-a900-7f03cda71ec0",
   "metadata": {},
   "outputs": [
    {
     "data": {
      "text/plain": [
       "34-element Vector{String}:\n",
       " \"age\"\n",
       " \"black\"\n",
       " \"case\"\n",
       " \"clerical\"\n",
       " \"construc\"\n",
       " \"educ\"\n",
       " \"earns74\"\n",
       " \"gdhlth\"\n",
       " \"inlf\"\n",
       " \"leis1\"\n",
       " \"leis2\"\n",
       " \"leis3\"\n",
       " \"smsa\"\n",
       " ⋮\n",
       " \"south\"\n",
       " \"spsepay\"\n",
       " \"spwrk75\"\n",
       " \"totwrk\"\n",
       " \"union\"\n",
       " \"worknrm\"\n",
       " \"workscnd\"\n",
       " \"exper\"\n",
       " \"yngkid\"\n",
       " \"yrsmarr\"\n",
       " \"hrwage\"\n",
       " \"agesq\""
      ]
     },
     "execution_count": 12,
     "metadata": {},
     "output_type": "execute_result"
    }
   ],
   "source": [
    "names(df)"
   ]
  },
  {
   "cell_type": "code",
   "execution_count": 13,
   "id": "6fb56a62-c8fc-4dba-b4f2-374d6c07c8b4",
   "metadata": {},
   "outputs": [
    {
     "data": {
      "text/html": [
       "<div class=\"data-frame\"><p>34 rows × 7 columns</p><table class=\"data-frame\"><thead><tr><th></th><th>variable</th><th>mean</th><th>min</th><th>median</th><th>max</th><th>nmissing</th><th>eltype</th></tr><tr><th></th><th title=\"Symbol\">Symbol</th><th title=\"Float64\">Float64</th><th title=\"Real\">Real</th><th title=\"Float64\">Float64</th><th title=\"Real\">Real</th><th title=\"Int64\">Int64</th><th title=\"Type\">Type</th></tr></thead><tbody><tr><th>1</th><td>age</td><td>38.8159</td><td>23</td><td>36.0</td><td>65</td><td>0</td><td>Int64</td></tr><tr><th>2</th><td>black</td><td>0.0495751</td><td>0</td><td>0.0</td><td>1</td><td>0</td><td>Int64</td></tr><tr><th>3</th><td>case</td><td>353.5</td><td>1</td><td>353.5</td><td>706</td><td>0</td><td>Int64</td></tr><tr><th>4</th><td>clerical</td><td>0.182331</td><td>0.0</td><td>0.0</td><td>1.0</td><td>0</td><td>Float64</td></tr><tr><th>5</th><td>construc</td><td>0.0300751</td><td>0.0</td><td>0.0</td><td>1.0</td><td>0</td><td>Float64</td></tr><tr><th>6</th><td>educ</td><td>12.7805</td><td>1</td><td>12.0</td><td>17</td><td>0</td><td>Int64</td></tr><tr><th>7</th><td>earns74</td><td>9767.71</td><td>0</td><td>8250.0</td><td>42500</td><td>0</td><td>Int64</td></tr><tr><th>8</th><td>gdhlth</td><td>0.890935</td><td>0</td><td>1.0</td><td>1</td><td>0</td><td>Int64</td></tr><tr><th>9</th><td>inlf</td><td>0.753541</td><td>0</td><td>1.0</td><td>1</td><td>0</td><td>Int64</td></tr><tr><th>10</th><td>leis1</td><td>4690.72</td><td>1745</td><td>4620.0</td><td>7417</td><td>0</td><td>Int64</td></tr><tr><th>11</th><td>leis2</td><td>4574.0</td><td>1677</td><td>4519.0</td><td>7297</td><td>0</td><td>Int64</td></tr><tr><th>12</th><td>leis3</td><td>4518.78</td><td>1677</td><td>4469.0</td><td>7282</td><td>0</td><td>Int64</td></tr><tr><th>13</th><td>smsa</td><td>0.399433</td><td>0</td><td>0.0</td><td>1</td><td>0</td><td>Int64</td></tr><tr><th>14</th><td>lhrwage</td><td>1.43098</td><td>-1.04982</td><td>1.47705</td><td>3.56981</td><td>174</td><td>Union{Missing, Float64}</td></tr><tr><th>15</th><td>lothinc</td><td>6.22829</td><td>0.0</td><td>8.61269</td><td>10.6573</td><td>0</td><td>Float64</td></tr><tr><th>16</th><td>male</td><td>0.566572</td><td>0</td><td>1.0</td><td>1</td><td>0</td><td>Int64</td></tr><tr><th>17</th><td>marr</td><td>0.82153</td><td>0</td><td>1.0</td><td>1</td><td>0</td><td>Int64</td></tr><tr><th>18</th><td>prot</td><td>0.66289</td><td>0</td><td>1.0</td><td>1</td><td>0</td><td>Int64</td></tr><tr><th>19</th><td>rlxall</td><td>3438.29</td><td>1380</td><td>3428.0</td><td>6110</td><td>0</td><td>Int64</td></tr><tr><th>20</th><td>selfe</td><td>0.131728</td><td>0</td><td>0.0</td><td>1</td><td>0</td><td>Int64</td></tr><tr><th>21</th><td>sleep</td><td>3266.36</td><td>755</td><td>3270.5</td><td>4695</td><td>0</td><td>Int64</td></tr><tr><th>22</th><td>slpnaps</td><td>3383.08</td><td>1335</td><td>3369.0</td><td>6110</td><td>0</td><td>Int64</td></tr><tr><th>23</th><td>south</td><td>0.184136</td><td>0</td><td>0.0</td><td>1</td><td>0</td><td>Int64</td></tr><tr><th>24</th><td>spsepay</td><td>5144.18</td><td>0</td><td>0.0</td><td>75000</td><td>0</td><td>Int64</td></tr><tr><th>25</th><td>spwrk75</td><td>0.48017</td><td>0</td><td>0.0</td><td>1</td><td>0</td><td>Int64</td></tr><tr><th>26</th><td>totwrk</td><td>2122.92</td><td>0</td><td>2288.0</td><td>6415</td><td>0</td><td>Int64</td></tr><tr><th>27</th><td>union</td><td>0.21813</td><td>0</td><td>0.0</td><td>1</td><td>0</td><td>Int64</td></tr><tr><th>28</th><td>worknrm</td><td>2093.25</td><td>0</td><td>2275.0</td><td>6415</td><td>0</td><td>Int64</td></tr><tr><th>29</th><td>workscnd</td><td>29.6686</td><td>0</td><td>0.0</td><td>1337</td><td>0</td><td>Int64</td></tr><tr><th>30</th><td>exper</td><td>20.0354</td><td>0</td><td>17.0</td><td>55</td><td>0</td><td>Int64</td></tr><tr><th>&vellip;</th><td>&vellip;</td><td>&vellip;</td><td>&vellip;</td><td>&vellip;</td><td>&vellip;</td><td>&vellip;</td><td>&vellip;</td></tr></tbody></table></div>"
      ],
      "text/latex": [
       "\\begin{tabular}{r|ccccccc}\n",
       "\t& variable & mean & min & median & max & nmissing & eltype\\\\\n",
       "\t\\hline\n",
       "\t& Symbol & Float64 & Real & Float64 & Real & Int64 & Type\\\\\n",
       "\t\\hline\n",
       "\t1 & age & 38.8159 & 23 & 36.0 & 65 & 0 & Int64 \\\\\n",
       "\t2 & black & 0.0495751 & 0 & 0.0 & 1 & 0 & Int64 \\\\\n",
       "\t3 & case & 353.5 & 1 & 353.5 & 706 & 0 & Int64 \\\\\n",
       "\t4 & clerical & 0.182331 & 0.0 & 0.0 & 1.0 & 0 & Float64 \\\\\n",
       "\t5 & construc & 0.0300751 & 0.0 & 0.0 & 1.0 & 0 & Float64 \\\\\n",
       "\t6 & educ & 12.7805 & 1 & 12.0 & 17 & 0 & Int64 \\\\\n",
       "\t7 & earns74 & 9767.71 & 0 & 8250.0 & 42500 & 0 & Int64 \\\\\n",
       "\t8 & gdhlth & 0.890935 & 0 & 1.0 & 1 & 0 & Int64 \\\\\n",
       "\t9 & inlf & 0.753541 & 0 & 1.0 & 1 & 0 & Int64 \\\\\n",
       "\t10 & leis1 & 4690.72 & 1745 & 4620.0 & 7417 & 0 & Int64 \\\\\n",
       "\t11 & leis2 & 4574.0 & 1677 & 4519.0 & 7297 & 0 & Int64 \\\\\n",
       "\t12 & leis3 & 4518.78 & 1677 & 4469.0 & 7282 & 0 & Int64 \\\\\n",
       "\t13 & smsa & 0.399433 & 0 & 0.0 & 1 & 0 & Int64 \\\\\n",
       "\t14 & lhrwage & 1.43098 & -1.04982 & 1.47705 & 3.56981 & 174 & Union\\{Missing, Float64\\} \\\\\n",
       "\t15 & lothinc & 6.22829 & 0.0 & 8.61269 & 10.6573 & 0 & Float64 \\\\\n",
       "\t16 & male & 0.566572 & 0 & 1.0 & 1 & 0 & Int64 \\\\\n",
       "\t17 & marr & 0.82153 & 0 & 1.0 & 1 & 0 & Int64 \\\\\n",
       "\t18 & prot & 0.66289 & 0 & 1.0 & 1 & 0 & Int64 \\\\\n",
       "\t19 & rlxall & 3438.29 & 1380 & 3428.0 & 6110 & 0 & Int64 \\\\\n",
       "\t20 & selfe & 0.131728 & 0 & 0.0 & 1 & 0 & Int64 \\\\\n",
       "\t21 & sleep & 3266.36 & 755 & 3270.5 & 4695 & 0 & Int64 \\\\\n",
       "\t22 & slpnaps & 3383.08 & 1335 & 3369.0 & 6110 & 0 & Int64 \\\\\n",
       "\t23 & south & 0.184136 & 0 & 0.0 & 1 & 0 & Int64 \\\\\n",
       "\t24 & spsepay & 5144.18 & 0 & 0.0 & 75000 & 0 & Int64 \\\\\n",
       "\t25 & spwrk75 & 0.48017 & 0 & 0.0 & 1 & 0 & Int64 \\\\\n",
       "\t26 & totwrk & 2122.92 & 0 & 2288.0 & 6415 & 0 & Int64 \\\\\n",
       "\t27 & union & 0.21813 & 0 & 0.0 & 1 & 0 & Int64 \\\\\n",
       "\t28 & worknrm & 2093.25 & 0 & 2275.0 & 6415 & 0 & Int64 \\\\\n",
       "\t29 & workscnd & 29.6686 & 0 & 0.0 & 1337 & 0 & Int64 \\\\\n",
       "\t30 & exper & 20.0354 & 0 & 17.0 & 55 & 0 & Int64 \\\\\n",
       "\t$\\dots$ & $\\dots$ & $\\dots$ & $\\dots$ & $\\dots$ & $\\dots$ & $\\dots$ & $\\dots$ \\\\\n",
       "\\end{tabular}\n"
      ],
      "text/plain": [
       "\u001b[1m34×7 DataFrame\u001b[0m\n",
       "\u001b[1m Row \u001b[0m│\u001b[1m variable \u001b[0m\u001b[1m mean         \u001b[0m\u001b[1m min        \u001b[0m\u001b[1m median     \u001b[0m\u001b[1m max         \u001b[0m\u001b[1m nmissing \u001b[0m\u001b[1m \u001b[0m ⋯\n",
       "\u001b[1m     \u001b[0m│\u001b[90m Symbol   \u001b[0m\u001b[90m Float64      \u001b[0m\u001b[90m Real       \u001b[0m\u001b[90m Float64    \u001b[0m\u001b[90m Real        \u001b[0m\u001b[90m Int64    \u001b[0m\u001b[90m \u001b[0m ⋯\n",
       "─────┼──────────────────────────────────────────────────────────────────────────\n",
       "   1 │ age         38.8159       23          36.0         65               0   ⋯\n",
       "   2 │ black        0.0495751     0           0.0          1               0\n",
       "   3 │ case       353.5           1         353.5        706               0\n",
       "   4 │ clerical     0.182331      0.0         0.0          1.0             0\n",
       "   5 │ construc     0.0300751     0.0         0.0          1.0             0   ⋯\n",
       "   6 │ educ        12.7805        1          12.0         17               0\n",
       "   7 │ earns74   9767.71          0        8250.0      42500               0\n",
       "   8 │ gdhlth       0.890935      0           1.0          1               0\n",
       "   9 │ inlf         0.753541      0           1.0          1               0   ⋯\n",
       "  10 │ leis1     4690.72       1745        4620.0       7417               0\n",
       "  11 │ leis2     4574.0        1677        4519.0       7297               0\n",
       "  ⋮  │    ⋮           ⋮            ⋮           ⋮            ⋮          ⋮       ⋱\n",
       "  25 │ spwrk75      0.48017       0           0.0          1               0\n",
       "  26 │ totwrk    2122.92          0        2288.0       6415               0   ⋯\n",
       "  27 │ union        0.21813       0           0.0          1               0\n",
       "  28 │ worknrm   2093.25          0        2275.0       6415               0\n",
       "  29 │ workscnd    29.6686        0           0.0       1337               0\n",
       "  30 │ exper       20.0354        0          17.0         55               0   ⋯\n",
       "  31 │ yngkid       0.128895      0           0.0          1               0\n",
       "  32 │ yrsmarr     11.7691        0           9.0         43               0\n",
       "  33 │ hrwage       5.08284       0.35        4.38        35.51          174\n",
       "  34 │ agesq     1635.14        529        1296.0       4225               0   ⋯\n",
       "\u001b[36m                                                    1 column and 13 rows omitted\u001b[0m"
      ]
     },
     "execution_count": 13,
     "metadata": {},
     "output_type": "execute_result"
    }
   ],
   "source": [
    "describe(df)"
   ]
  },
  {
   "cell_type": "code",
   "execution_count": 14,
   "id": "a458f2e1-d456-40ab-aefa-9e692ec3ac31",
   "metadata": {},
   "outputs": [
    {
     "data": {
      "text/html": [
       "<div class=\"data-frame\"><p>4 rows × 34 columns (omitted printing of 23 columns)</p><table class=\"data-frame\"><thead><tr><th></th><th>age</th><th>black</th><th>case</th><th>clerical</th><th>construc</th><th>educ</th><th>earns74</th><th>gdhlth</th><th>inlf</th><th>leis1</th><th>leis2</th></tr><tr><th></th><th title=\"Int64\">Int64</th><th title=\"Int64\">Int64</th><th title=\"Int64\">Int64</th><th title=\"Float64\">Float64</th><th title=\"Float64\">Float64</th><th title=\"Int64\">Int64</th><th title=\"Int64\">Int64</th><th title=\"Int64\">Int64</th><th title=\"Int64\">Int64</th><th title=\"Int64\">Int64</th><th title=\"Int64\">Int64</th></tr></thead><tbody><tr><th>1</th><td>32</td><td>0</td><td>1</td><td>0.0</td><td>0.0</td><td>12</td><td>0</td><td>0</td><td>1</td><td>3529</td><td>3479</td></tr><tr><th>2</th><td>31</td><td>0</td><td>2</td><td>0.0</td><td>0.0</td><td>14</td><td>9500</td><td>1</td><td>1</td><td>2140</td><td>2140</td></tr><tr><th>3</th><td>44</td><td>0</td><td>3</td><td>0.0</td><td>0.0</td><td>17</td><td>42500</td><td>1</td><td>1</td><td>4595</td><td>4505</td></tr><tr><th>4</th><td>30</td><td>0</td><td>4</td><td>0.0</td><td>0.0</td><td>12</td><td>42500</td><td>1</td><td>1</td><td>3211</td><td>3211</td></tr></tbody></table></div>"
      ],
      "text/latex": [
       "\\begin{tabular}{r|cccccccccccc}\n",
       "\t& age & black & case & clerical & construc & educ & earns74 & gdhlth & inlf & leis1 & leis2 & \\\\\n",
       "\t\\hline\n",
       "\t& Int64 & Int64 & Int64 & Float64 & Float64 & Int64 & Int64 & Int64 & Int64 & Int64 & Int64 & \\\\\n",
       "\t\\hline\n",
       "\t1 & 32 & 0 & 1 & 0.0 & 0.0 & 12 & 0 & 0 & 1 & 3529 & 3479 & $\\dots$ \\\\\n",
       "\t2 & 31 & 0 & 2 & 0.0 & 0.0 & 14 & 9500 & 1 & 1 & 2140 & 2140 & $\\dots$ \\\\\n",
       "\t3 & 44 & 0 & 3 & 0.0 & 0.0 & 17 & 42500 & 1 & 1 & 4595 & 4505 & $\\dots$ \\\\\n",
       "\t4 & 30 & 0 & 4 & 0.0 & 0.0 & 12 & 42500 & 1 & 1 & 3211 & 3211 & $\\dots$ \\\\\n",
       "\\end{tabular}\n"
      ],
      "text/plain": [
       "\u001b[1m4×34 DataFrame\u001b[0m\n",
       "\u001b[1m Row \u001b[0m│\u001b[1m age   \u001b[0m\u001b[1m black \u001b[0m\u001b[1m case  \u001b[0m\u001b[1m clerical \u001b[0m\u001b[1m construc \u001b[0m\u001b[1m educ  \u001b[0m\u001b[1m earns74 \u001b[0m\u001b[1m gdhlth \u001b[0m\u001b[1m inlf  \u001b[0m\u001b[1m\u001b[0m ⋯\n",
       "\u001b[1m     \u001b[0m│\u001b[90m Int64 \u001b[0m\u001b[90m Int64 \u001b[0m\u001b[90m Int64 \u001b[0m\u001b[90m Float64  \u001b[0m\u001b[90m Float64  \u001b[0m\u001b[90m Int64 \u001b[0m\u001b[90m Int64   \u001b[0m\u001b[90m Int64  \u001b[0m\u001b[90m Int64 \u001b[0m\u001b[90m\u001b[0m ⋯\n",
       "─────┼──────────────────────────────────────────────────────────────────────────\n",
       "   1 │    32      0      1       0.0       0.0     12        0       0      1  ⋯\n",
       "   2 │    31      0      2       0.0       0.0     14     9500       1      1\n",
       "   3 │    44      0      3       0.0       0.0     17    42500       1      1\n",
       "   4 │    30      0      4       0.0       0.0     12    42500       1      1\n",
       "\u001b[36m                                                              25 columns omitted\u001b[0m"
      ]
     },
     "execution_count": 14,
     "metadata": {},
     "output_type": "execute_result"
    }
   ],
   "source": [
    "first(df, 4)"
   ]
  },
  {
   "cell_type": "code",
   "execution_count": 15,
   "id": "8b734358-7a78-4b35-bf40-0af558630c58",
   "metadata": {},
   "outputs": [
    {
     "data": {
      "text/html": [
       "<div class=\"data-frame\"><p>4 rows × 34 columns (omitted printing of 23 columns)</p><table class=\"data-frame\"><thead><tr><th></th><th>age</th><th>black</th><th>case</th><th>clerical</th><th>construc</th><th>educ</th><th>earns74</th><th>gdhlth</th><th>inlf</th><th>leis1</th><th>leis2</th></tr><tr><th></th><th title=\"Int64\">Int64</th><th title=\"Int64\">Int64</th><th title=\"Int64\">Int64</th><th title=\"Float64\">Float64</th><th title=\"Float64\">Float64</th><th title=\"Int64\">Int64</th><th title=\"Int64\">Int64</th><th title=\"Int64\">Int64</th><th title=\"Int64\">Int64</th><th title=\"Int64\">Int64</th><th title=\"Int64\">Int64</th></tr></thead><tbody><tr><th>1</th><td>34</td><td>0</td><td>703</td><td>0.182331</td><td>0.030075</td><td>10</td><td>2500</td><td>0</td><td>0</td><td>5885</td><td>5870</td></tr><tr><th>2</th><td>37</td><td>0</td><td>704</td><td>0.182331</td><td>0.030075</td><td>12</td><td>3500</td><td>1</td><td>0</td><td>4719</td><td>4719</td></tr><tr><th>3</th><td>54</td><td>0</td><td>705</td><td>0.182331</td><td>0.030075</td><td>17</td><td>32500</td><td>1</td><td>0</td><td>5149</td><td>5119</td></tr><tr><th>4</th><td>30</td><td>0</td><td>706</td><td>0.182331</td><td>0.030075</td><td>16</td><td>6750</td><td>1</td><td>0</td><td>4747</td><td>4302</td></tr></tbody></table></div>"
      ],
      "text/latex": [
       "\\begin{tabular}{r|cccccccccccc}\n",
       "\t& age & black & case & clerical & construc & educ & earns74 & gdhlth & inlf & leis1 & leis2 & \\\\\n",
       "\t\\hline\n",
       "\t& Int64 & Int64 & Int64 & Float64 & Float64 & Int64 & Int64 & Int64 & Int64 & Int64 & Int64 & \\\\\n",
       "\t\\hline\n",
       "\t1 & 34 & 0 & 703 & 0.182331 & 0.030075 & 10 & 2500 & 0 & 0 & 5885 & 5870 & $\\dots$ \\\\\n",
       "\t2 & 37 & 0 & 704 & 0.182331 & 0.030075 & 12 & 3500 & 1 & 0 & 4719 & 4719 & $\\dots$ \\\\\n",
       "\t3 & 54 & 0 & 705 & 0.182331 & 0.030075 & 17 & 32500 & 1 & 0 & 5149 & 5119 & $\\dots$ \\\\\n",
       "\t4 & 30 & 0 & 706 & 0.182331 & 0.030075 & 16 & 6750 & 1 & 0 & 4747 & 4302 & $\\dots$ \\\\\n",
       "\\end{tabular}\n"
      ],
      "text/plain": [
       "\u001b[1m4×34 DataFrame\u001b[0m\n",
       "\u001b[1m Row \u001b[0m│\u001b[1m age   \u001b[0m\u001b[1m black \u001b[0m\u001b[1m case  \u001b[0m\u001b[1m clerical \u001b[0m\u001b[1m construc \u001b[0m\u001b[1m educ  \u001b[0m\u001b[1m earns74 \u001b[0m\u001b[1m gdhlth \u001b[0m\u001b[1m inlf  \u001b[0m\u001b[1m\u001b[0m ⋯\n",
       "\u001b[1m     \u001b[0m│\u001b[90m Int64 \u001b[0m\u001b[90m Int64 \u001b[0m\u001b[90m Int64 \u001b[0m\u001b[90m Float64  \u001b[0m\u001b[90m Float64  \u001b[0m\u001b[90m Int64 \u001b[0m\u001b[90m Int64   \u001b[0m\u001b[90m Int64  \u001b[0m\u001b[90m Int64 \u001b[0m\u001b[90m\u001b[0m ⋯\n",
       "─────┼──────────────────────────────────────────────────────────────────────────\n",
       "   1 │    34      0    703  0.182331  0.030075     10     2500       0      0  ⋯\n",
       "   2 │    37      0    704  0.182331  0.030075     12     3500       1      0\n",
       "   3 │    54      0    705  0.182331  0.030075     17    32500       1      0\n",
       "   4 │    30      0    706  0.182331  0.030075     16     6750       1      0\n",
       "\u001b[36m                                                              25 columns omitted\u001b[0m"
      ]
     },
     "execution_count": 15,
     "metadata": {},
     "output_type": "execute_result"
    }
   ],
   "source": [
    "last(df, 4)"
   ]
  },
  {
   "cell_type": "code",
   "execution_count": 16,
   "id": "b6a8e2be-414c-4186-a7ec-841f91866d18",
   "metadata": {},
   "outputs": [
    {
     "data": {
      "text/plain": [
       "StatsModels.TableRegressionModel{LinearModel{GLM.LmResp{Vector{Float64}}, GLM.DensePredChol{Float64, LinearAlgebra.CholeskyPivoted{Float64, Matrix{Float64}}}}, Matrix{Float64}}\n",
       "\n",
       "sleep ~ 1 + totwrk + educ + age\n",
       "\n",
       "Coefficients:\n",
       "────────────────────────────────────────────────────────────────────────────────\n",
       "                   Coef.   Std. Error      t  Pr(>|t|)    Lower 95%    Upper 95%\n",
       "────────────────────────────────────────────────────────────────────────────────\n",
       "(Intercept)  3638.25      112.275      32.40    <1e-99  3417.81      3858.68\n",
       "totwrk         -0.148373    0.0166935  -8.89    <1e-17    -0.181149    -0.115598\n",
       "educ          -11.1338      5.88457    -1.89    0.0589   -22.6873       0.419661\n",
       "age             2.19988     1.44572     1.52    0.1285    -0.638561     5.03833\n",
       "────────────────────────────────────────────────────────────────────────────────"
      ]
     },
     "execution_count": 16,
     "metadata": {},
     "output_type": "execute_result"
    }
   ],
   "source": [
    "fm0 = @formula(sleep ~ 1 + totwrk + educ + age)\n",
    "OLS_model = lm(fm0, df)"
   ]
  },
  {
   "cell_type": "code",
   "execution_count": 17,
   "id": "d7245132-7009-40b4-9944-b322fbc2d8aa",
   "metadata": {},
   "outputs": [
    {
     "data": {
      "text/plain": [
       "0.11336395596679805"
      ]
     },
     "execution_count": 17,
     "metadata": {},
     "output_type": "execute_result"
    }
   ],
   "source": [
    "r2(OLS_model)"
   ]
  },
  {
   "cell_type": "code",
   "execution_count": 18,
   "id": "f951591f-fe04-4468-ab6b-b4a281571c8d",
   "metadata": {},
   "outputs": [
    {
     "data": {
      "text/plain": [
       "0.10957491304357914"
      ]
     },
     "execution_count": 18,
     "metadata": {},
     "output_type": "execute_result"
    }
   ],
   "source": [
    "adjr2(OLS_model)"
   ]
  },
  {
   "cell_type": "code",
   "execution_count": null,
   "id": "01b0d12b-abb8-4d0d-9ff6-dc99f91911e1",
   "metadata": {},
   "outputs": [],
   "source": []
  }
 ],
 "metadata": {
  "kernelspec": {
   "display_name": "Julia 1.6.2",
   "language": "julia",
   "name": "julia-1.6"
  },
  "language_info": {
   "file_extension": ".jl",
   "mimetype": "application/julia",
   "name": "julia",
   "version": "1.6.2"
  }
 },
 "nbformat": 4,
 "nbformat_minor": 5
}
