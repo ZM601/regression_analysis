{
 "cells": [
  {
   "cell_type": "code",
   "execution_count": 1,
   "id": "joined-julian",
   "metadata": {},
   "outputs": [],
   "source": [
    "%reset -f"
   ]
  },
  {
   "cell_type": "code",
   "execution_count": 2,
   "id": "aerial-semester",
   "metadata": {},
   "outputs": [],
   "source": [
    "import numpy             as np\n",
    "import statsmodels.api   as sm\n",
    "import pandas            as pd\n",
    "import matplotlib.pyplot as plt\n",
    "import seaborn           as sns\n",
    "\n",
    "from statsmodels.iolib.summary2 import summary_col"
   ]
  },
  {
   "cell_type": "markdown",
   "id": "9a9057be-6241-4a81-8728-066cac9ecb25",
   "metadata": {},
   "source": [
    "## set up seaborn parameters for plotting"
   ]
  },
  {
   "cell_type": "code",
   "execution_count": 3,
   "id": "661d21da-76dd-4afc-ae0f-6fe6c8436ab3",
   "metadata": {},
   "outputs": [],
   "source": [
    "sns.set_style('darkgrid')\n",
    "pd.plotting.register_matplotlib_converters()\n",
    "# Default figure size\n",
    "sns.mpl.rc('figure',figsize=(16, 6))"
   ]
  },
  {
   "cell_type": "code",
   "execution_count": 4,
   "id": "tired-stroke",
   "metadata": {},
   "outputs": [],
   "source": [
    "df = pd.read_csv(\"TRAFFIC2.csv\")"
   ]
  },
  {
   "cell_type": "code",
   "execution_count": 5,
   "id": "polyphonic-expansion",
   "metadata": {},
   "outputs": [
    {
     "name": "stderr",
     "output_type": "stream",
     "text": [
      "/opt/homebrew/Caskroom/miniforge/base/lib/python3.9/site-packages/statsmodels/tsa/tsatools.py:142: FutureWarning: In a future version of pandas all arguments of concat except for the argument 'objs' will be keyword-only\n",
      "  x = pd.concat(x[::order], 1)\n"
     ]
    },
    {
     "data": {
      "text/plain": [
       "Index(['const', 'year', 'totacc', 'fatacc', 'injacc', 'pdoacc', 'ntotacc',\n",
       "       'nfatacc', 'ninjacc', 'npdoacc', 'rtotacc', 'rfatacc', 'rinjacc',\n",
       "       'rpdoacc', 'ushigh', 'cntyrds', 'strtes', 't', 'tsq', 'unem', 'spdlaw',\n",
       "       'beltlaw', 'wkends', 'feb', 'mar', 'apr', 'may', 'jun', 'jul', 'aug',\n",
       "       'sep', 'oct', 'nov', 'dec', 'ltotacc', 'lfatacc', 'prcfat', 'prcrfat',\n",
       "       'lrtotacc', 'lrfatacc', 'lntotacc', 'lnfatacc', 'prcnfat', 'lushigh',\n",
       "       'lcntyrds', 'lstrtes', 'spdt', 'beltt', 'prcfat_1'],\n",
       "      dtype='object')"
      ]
     },
     "execution_count": 5,
     "metadata": {},
     "output_type": "execute_result"
    }
   ],
   "source": [
    "df = sm.add_constant(df)\n",
    "df.columns"
   ]
  },
  {
   "cell_type": "code",
   "execution_count": 6,
   "id": "synthetic-arizona",
   "metadata": {},
   "outputs": [
    {
     "data": {
      "text/html": [
       "<div>\n",
       "<style scoped>\n",
       "    .dataframe tbody tr th:only-of-type {\n",
       "        vertical-align: middle;\n",
       "    }\n",
       "\n",
       "    .dataframe tbody tr th {\n",
       "        vertical-align: top;\n",
       "    }\n",
       "\n",
       "    .dataframe thead th {\n",
       "        text-align: right;\n",
       "    }\n",
       "</style>\n",
       "<table border=\"1\" class=\"dataframe\">\n",
       "  <thead>\n",
       "    <tr style=\"text-align: right;\">\n",
       "      <th></th>\n",
       "      <th>const</th>\n",
       "      <th>year</th>\n",
       "      <th>totacc</th>\n",
       "      <th>fatacc</th>\n",
       "      <th>injacc</th>\n",
       "      <th>pdoacc</th>\n",
       "      <th>ntotacc</th>\n",
       "      <th>nfatacc</th>\n",
       "      <th>ninjacc</th>\n",
       "      <th>npdoacc</th>\n",
       "      <th>...</th>\n",
       "      <th>lrfatacc</th>\n",
       "      <th>lntotacc</th>\n",
       "      <th>lnfatacc</th>\n",
       "      <th>prcnfat</th>\n",
       "      <th>lushigh</th>\n",
       "      <th>lcntyrds</th>\n",
       "      <th>lstrtes</th>\n",
       "      <th>spdt</th>\n",
       "      <th>beltt</th>\n",
       "      <th>prcfat_1</th>\n",
       "    </tr>\n",
       "  </thead>\n",
       "  <tbody>\n",
       "    <tr>\n",
       "      <th>0</th>\n",
       "      <td>1.0</td>\n",
       "      <td>1981</td>\n",
       "      <td>40511</td>\n",
       "      <td>365</td>\n",
       "      <td>15626</td>\n",
       "      <td>24520</td>\n",
       "      <td>38235</td>\n",
       "      <td>323</td>\n",
       "      <td>14743</td>\n",
       "      <td>23169</td>\n",
       "      <td>...</td>\n",
       "      <td>2.484907</td>\n",
       "      <td>10.551507</td>\n",
       "      <td>5.777652</td>\n",
       "      <td>0.844776</td>\n",
       "      <td>6.963190</td>\n",
       "      <td>8.830251</td>\n",
       "      <td>8.153062</td>\n",
       "      <td>0</td>\n",
       "      <td>0</td>\n",
       "      <td>NaN</td>\n",
       "    </tr>\n",
       "    <tr>\n",
       "      <th>1</th>\n",
       "      <td>1.0</td>\n",
       "      <td>1981</td>\n",
       "      <td>36034</td>\n",
       "      <td>329</td>\n",
       "      <td>14469</td>\n",
       "      <td>21236</td>\n",
       "      <td>33989</td>\n",
       "      <td>294</td>\n",
       "      <td>13620</td>\n",
       "      <td>20075</td>\n",
       "      <td>...</td>\n",
       "      <td>2.079442</td>\n",
       "      <td>10.433792</td>\n",
       "      <td>5.683580</td>\n",
       "      <td>0.864986</td>\n",
       "      <td>6.839477</td>\n",
       "      <td>8.708970</td>\n",
       "      <td>8.046550</td>\n",
       "      <td>0</td>\n",
       "      <td>0</td>\n",
       "      <td>0.900990</td>\n",
       "    </tr>\n",
       "    <tr>\n",
       "      <th>2</th>\n",
       "      <td>1.0</td>\n",
       "      <td>1981</td>\n",
       "      <td>40328</td>\n",
       "      <td>369</td>\n",
       "      <td>16026</td>\n",
       "      <td>23933</td>\n",
       "      <td>37990</td>\n",
       "      <td>335</td>\n",
       "      <td>15105</td>\n",
       "      <td>22550</td>\n",
       "      <td>...</td>\n",
       "      <td>2.484907</td>\n",
       "      <td>10.545078</td>\n",
       "      <td>5.814130</td>\n",
       "      <td>0.881811</td>\n",
       "      <td>7.041412</td>\n",
       "      <td>8.825119</td>\n",
       "      <td>8.148446</td>\n",
       "      <td>0</td>\n",
       "      <td>0</td>\n",
       "      <td>0.913027</td>\n",
       "    </tr>\n",
       "    <tr>\n",
       "      <th>3</th>\n",
       "      <td>1.0</td>\n",
       "      <td>1981</td>\n",
       "      <td>37699</td>\n",
       "      <td>369</td>\n",
       "      <td>15560</td>\n",
       "      <td>21770</td>\n",
       "      <td>35457</td>\n",
       "      <td>326</td>\n",
       "      <td>14654</td>\n",
       "      <td>20477</td>\n",
       "      <td>...</td>\n",
       "      <td>2.639057</td>\n",
       "      <td>10.476076</td>\n",
       "      <td>5.786897</td>\n",
       "      <td>0.919424</td>\n",
       "      <td>6.916715</td>\n",
       "      <td>8.750524</td>\n",
       "      <td>8.071531</td>\n",
       "      <td>0</td>\n",
       "      <td>0</td>\n",
       "      <td>0.914997</td>\n",
       "    </tr>\n",
       "    <tr>\n",
       "      <th>4</th>\n",
       "      <td>1.0</td>\n",
       "      <td>1981</td>\n",
       "      <td>38816</td>\n",
       "      <td>355</td>\n",
       "      <td>16546</td>\n",
       "      <td>21915</td>\n",
       "      <td>36611</td>\n",
       "      <td>321</td>\n",
       "      <td>15569</td>\n",
       "      <td>20721</td>\n",
       "      <td>...</td>\n",
       "      <td>1.791759</td>\n",
       "      <td>10.508104</td>\n",
       "      <td>5.771441</td>\n",
       "      <td>0.876786</td>\n",
       "      <td>6.986567</td>\n",
       "      <td>8.816705</td>\n",
       "      <td>8.111928</td>\n",
       "      <td>0</td>\n",
       "      <td>0</td>\n",
       "      <td>0.978806</td>\n",
       "    </tr>\n",
       "  </tbody>\n",
       "</table>\n",
       "<p>5 rows × 49 columns</p>\n",
       "</div>"
      ],
      "text/plain": [
       "   const  year  totacc  fatacc  injacc  pdoacc  ntotacc  nfatacc  ninjacc  \\\n",
       "0    1.0  1981   40511     365   15626   24520    38235      323    14743   \n",
       "1    1.0  1981   36034     329   14469   21236    33989      294    13620   \n",
       "2    1.0  1981   40328     369   16026   23933    37990      335    15105   \n",
       "3    1.0  1981   37699     369   15560   21770    35457      326    14654   \n",
       "4    1.0  1981   38816     355   16546   21915    36611      321    15569   \n",
       "\n",
       "   npdoacc  ...  lrfatacc   lntotacc  lnfatacc   prcnfat   lushigh  lcntyrds  \\\n",
       "0    23169  ...  2.484907  10.551507  5.777652  0.844776  6.963190  8.830251   \n",
       "1    20075  ...  2.079442  10.433792  5.683580  0.864986  6.839477  8.708970   \n",
       "2    22550  ...  2.484907  10.545078  5.814130  0.881811  7.041412  8.825119   \n",
       "3    20477  ...  2.639057  10.476076  5.786897  0.919424  6.916715  8.750524   \n",
       "4    20721  ...  1.791759  10.508104  5.771441  0.876786  6.986567  8.816705   \n",
       "\n",
       "    lstrtes  spdt  beltt  prcfat_1  \n",
       "0  8.153062     0      0       NaN  \n",
       "1  8.046550     0      0  0.900990  \n",
       "2  8.148446     0      0  0.913027  \n",
       "3  8.071531     0      0  0.914997  \n",
       "4  8.111928     0      0  0.978806  \n",
       "\n",
       "[5 rows x 49 columns]"
      ]
     },
     "execution_count": 6,
     "metadata": {},
     "output_type": "execute_result"
    }
   ],
   "source": [
    "df.head()"
   ]
  },
  {
   "cell_type": "code",
   "execution_count": 7,
   "id": "primary-conclusion",
   "metadata": {},
   "outputs": [
    {
     "data": {
      "text/html": [
       "<div>\n",
       "<style scoped>\n",
       "    .dataframe tbody tr th:only-of-type {\n",
       "        vertical-align: middle;\n",
       "    }\n",
       "\n",
       "    .dataframe tbody tr th {\n",
       "        vertical-align: top;\n",
       "    }\n",
       "\n",
       "    .dataframe thead th {\n",
       "        text-align: right;\n",
       "    }\n",
       "</style>\n",
       "<table border=\"1\" class=\"dataframe\">\n",
       "  <thead>\n",
       "    <tr style=\"text-align: right;\">\n",
       "      <th></th>\n",
       "      <th>const</th>\n",
       "      <th>year</th>\n",
       "      <th>totacc</th>\n",
       "      <th>fatacc</th>\n",
       "      <th>injacc</th>\n",
       "      <th>pdoacc</th>\n",
       "      <th>ntotacc</th>\n",
       "      <th>nfatacc</th>\n",
       "      <th>ninjacc</th>\n",
       "      <th>npdoacc</th>\n",
       "      <th>...</th>\n",
       "      <th>lrfatacc</th>\n",
       "      <th>lntotacc</th>\n",
       "      <th>lnfatacc</th>\n",
       "      <th>prcnfat</th>\n",
       "      <th>lushigh</th>\n",
       "      <th>lcntyrds</th>\n",
       "      <th>lstrtes</th>\n",
       "      <th>spdt</th>\n",
       "      <th>beltt</th>\n",
       "      <th>prcfat_1</th>\n",
       "    </tr>\n",
       "  </thead>\n",
       "  <tbody>\n",
       "    <tr>\n",
       "      <th>count</th>\n",
       "      <td>108.0</td>\n",
       "      <td>108.000000</td>\n",
       "      <td>108.000000</td>\n",
       "      <td>108.000000</td>\n",
       "      <td>108.000000</td>\n",
       "      <td>108.000000</td>\n",
       "      <td>108.000000</td>\n",
       "      <td>108.000000</td>\n",
       "      <td>108.000000</td>\n",
       "      <td>108.000000</td>\n",
       "      <td>...</td>\n",
       "      <td>108.000000</td>\n",
       "      <td>108.000000</td>\n",
       "      <td>108.000000</td>\n",
       "      <td>108.000000</td>\n",
       "      <td>108.000000</td>\n",
       "      <td>108.000000</td>\n",
       "      <td>108.000000</td>\n",
       "      <td>108.000000</td>\n",
       "      <td>108.000000</td>\n",
       "      <td>107.000000</td>\n",
       "    </tr>\n",
       "    <tr>\n",
       "      <th>mean</th>\n",
       "      <td>1.0</td>\n",
       "      <td>1985.000000</td>\n",
       "      <td>42831.259259</td>\n",
       "      <td>377.935185</td>\n",
       "      <td>17861.481481</td>\n",
       "      <td>24591.842593</td>\n",
       "      <td>39522.972222</td>\n",
       "      <td>335.305556</td>\n",
       "      <td>16578.777778</td>\n",
       "      <td>22608.888889</td>\n",
       "      <td>...</td>\n",
       "      <td>2.499360</td>\n",
       "      <td>10.580020</td>\n",
       "      <td>5.807501</td>\n",
       "      <td>0.851227</td>\n",
       "      <td>7.083780</td>\n",
       "      <td>8.798209</td>\n",
       "      <td>8.196217</td>\n",
       "      <td>27.407407</td>\n",
       "      <td>37.555556</td>\n",
       "      <td>0.886101</td>\n",
       "    </tr>\n",
       "    <tr>\n",
       "      <th>std</th>\n",
       "      <td>0.0</td>\n",
       "      <td>2.594026</td>\n",
       "      <td>4608.328416</td>\n",
       "      <td>48.546783</td>\n",
       "      <td>1963.107290</td>\n",
       "      <td>2773.219318</td>\n",
       "      <td>3797.031756</td>\n",
       "      <td>41.129715</td>\n",
       "      <td>1695.411153</td>\n",
       "      <td>2252.885607</td>\n",
       "      <td>...</td>\n",
       "      <td>0.425848</td>\n",
       "      <td>0.096837</td>\n",
       "      <td>0.123975</td>\n",
       "      <td>0.097085</td>\n",
       "      <td>0.117027</td>\n",
       "      <td>0.076376</td>\n",
       "      <td>0.086376</td>\n",
       "      <td>42.733916</td>\n",
       "      <td>43.192534</td>\n",
       "      <td>0.100130</td>\n",
       "    </tr>\n",
       "    <tr>\n",
       "      <th>min</th>\n",
       "      <td>1.0</td>\n",
       "      <td>1981.000000</td>\n",
       "      <td>32699.000000</td>\n",
       "      <td>266.000000</td>\n",
       "      <td>13268.000000</td>\n",
       "      <td>19162.000000</td>\n",
       "      <td>30759.000000</td>\n",
       "      <td>237.000000</td>\n",
       "      <td>12492.000000</td>\n",
       "      <td>18030.000000</td>\n",
       "      <td>...</td>\n",
       "      <td>1.098612</td>\n",
       "      <td>10.333938</td>\n",
       "      <td>5.468060</td>\n",
       "      <td>0.672980</td>\n",
       "      <td>6.817831</td>\n",
       "      <td>8.581857</td>\n",
       "      <td>7.946618</td>\n",
       "      <td>0.000000</td>\n",
       "      <td>0.000000</td>\n",
       "      <td>0.701684</td>\n",
       "    </tr>\n",
       "    <tr>\n",
       "      <th>25%</th>\n",
       "      <td>1.0</td>\n",
       "      <td>1983.000000</td>\n",
       "      <td>38846.750000</td>\n",
       "      <td>345.000000</td>\n",
       "      <td>16302.250000</td>\n",
       "      <td>22010.000000</td>\n",
       "      <td>36273.750000</td>\n",
       "      <td>305.750000</td>\n",
       "      <td>15301.250000</td>\n",
       "      <td>20582.500000</td>\n",
       "      <td>...</td>\n",
       "      <td>2.302585</td>\n",
       "      <td>10.498849</td>\n",
       "      <td>5.722767</td>\n",
       "      <td>0.780216</td>\n",
       "      <td>7.006684</td>\n",
       "      <td>8.748781</td>\n",
       "      <td>8.133074</td>\n",
       "      <td>0.000000</td>\n",
       "      <td>0.000000</td>\n",
       "      <td>0.822797</td>\n",
       "    </tr>\n",
       "    <tr>\n",
       "      <th>50%</th>\n",
       "      <td>1.0</td>\n",
       "      <td>1985.000000</td>\n",
       "      <td>42863.500000</td>\n",
       "      <td>370.000000</td>\n",
       "      <td>17770.500000</td>\n",
       "      <td>24878.000000</td>\n",
       "      <td>39541.000000</td>\n",
       "      <td>333.000000</td>\n",
       "      <td>16489.500000</td>\n",
       "      <td>22926.500000</td>\n",
       "      <td>...</td>\n",
       "      <td>2.564949</td>\n",
       "      <td>10.585093</td>\n",
       "      <td>5.808143</td>\n",
       "      <td>0.844329</td>\n",
       "      <td>7.079185</td>\n",
       "      <td>8.802822</td>\n",
       "      <td>8.190350</td>\n",
       "      <td>0.000000</td>\n",
       "      <td>0.000000</td>\n",
       "      <td>0.878849</td>\n",
       "    </tr>\n",
       "    <tr>\n",
       "      <th>75%</th>\n",
       "      <td>1.0</td>\n",
       "      <td>1987.000000</td>\n",
       "      <td>46868.500000</td>\n",
       "      <td>405.000000</td>\n",
       "      <td>19613.000000</td>\n",
       "      <td>26720.250000</td>\n",
       "      <td>42644.750000</td>\n",
       "      <td>363.000000</td>\n",
       "      <td>18072.250000</td>\n",
       "      <td>24187.000000</td>\n",
       "      <td>...</td>\n",
       "      <td>2.772589</td>\n",
       "      <td>10.660659</td>\n",
       "      <td>5.894403</td>\n",
       "      <td>0.905300</td>\n",
       "      <td>7.165297</td>\n",
       "      <td>8.846960</td>\n",
       "      <td>8.268152</td>\n",
       "      <td>81.250000</td>\n",
       "      <td>81.250000</td>\n",
       "      <td>0.946467</td>\n",
       "    </tr>\n",
       "    <tr>\n",
       "      <th>max</th>\n",
       "      <td>1.0</td>\n",
       "      <td>1989.000000</td>\n",
       "      <td>52971.000000</td>\n",
       "      <td>500.000000</td>\n",
       "      <td>21741.000000</td>\n",
       "      <td>31425.000000</td>\n",
       "      <td>47874.000000</td>\n",
       "      <td>434.000000</td>\n",
       "      <td>19963.000000</td>\n",
       "      <td>28338.000000</td>\n",
       "      <td>...</td>\n",
       "      <td>3.433987</td>\n",
       "      <td>10.776328</td>\n",
       "      <td>6.073044</td>\n",
       "      <td>1.181720</td>\n",
       "      <td>7.328437</td>\n",
       "      <td>8.962520</td>\n",
       "      <td>8.399985</td>\n",
       "      <td>108.000000</td>\n",
       "      <td>108.000000</td>\n",
       "      <td>1.216829</td>\n",
       "    </tr>\n",
       "  </tbody>\n",
       "</table>\n",
       "<p>8 rows × 49 columns</p>\n",
       "</div>"
      ],
      "text/plain": [
       "       const         year        totacc      fatacc        injacc  \\\n",
       "count  108.0   108.000000    108.000000  108.000000    108.000000   \n",
       "mean     1.0  1985.000000  42831.259259  377.935185  17861.481481   \n",
       "std      0.0     2.594026   4608.328416   48.546783   1963.107290   \n",
       "min      1.0  1981.000000  32699.000000  266.000000  13268.000000   \n",
       "25%      1.0  1983.000000  38846.750000  345.000000  16302.250000   \n",
       "50%      1.0  1985.000000  42863.500000  370.000000  17770.500000   \n",
       "75%      1.0  1987.000000  46868.500000  405.000000  19613.000000   \n",
       "max      1.0  1989.000000  52971.000000  500.000000  21741.000000   \n",
       "\n",
       "             pdoacc       ntotacc     nfatacc       ninjacc       npdoacc  \\\n",
       "count    108.000000    108.000000  108.000000    108.000000    108.000000   \n",
       "mean   24591.842593  39522.972222  335.305556  16578.777778  22608.888889   \n",
       "std     2773.219318   3797.031756   41.129715   1695.411153   2252.885607   \n",
       "min    19162.000000  30759.000000  237.000000  12492.000000  18030.000000   \n",
       "25%    22010.000000  36273.750000  305.750000  15301.250000  20582.500000   \n",
       "50%    24878.000000  39541.000000  333.000000  16489.500000  22926.500000   \n",
       "75%    26720.250000  42644.750000  363.000000  18072.250000  24187.000000   \n",
       "max    31425.000000  47874.000000  434.000000  19963.000000  28338.000000   \n",
       "\n",
       "       ...    lrfatacc    lntotacc    lnfatacc     prcnfat     lushigh  \\\n",
       "count  ...  108.000000  108.000000  108.000000  108.000000  108.000000   \n",
       "mean   ...    2.499360   10.580020    5.807501    0.851227    7.083780   \n",
       "std    ...    0.425848    0.096837    0.123975    0.097085    0.117027   \n",
       "min    ...    1.098612   10.333938    5.468060    0.672980    6.817831   \n",
       "25%    ...    2.302585   10.498849    5.722767    0.780216    7.006684   \n",
       "50%    ...    2.564949   10.585093    5.808143    0.844329    7.079185   \n",
       "75%    ...    2.772589   10.660659    5.894403    0.905300    7.165297   \n",
       "max    ...    3.433987   10.776328    6.073044    1.181720    7.328437   \n",
       "\n",
       "         lcntyrds     lstrtes        spdt       beltt    prcfat_1  \n",
       "count  108.000000  108.000000  108.000000  108.000000  107.000000  \n",
       "mean     8.798209    8.196217   27.407407   37.555556    0.886101  \n",
       "std      0.076376    0.086376   42.733916   43.192534    0.100130  \n",
       "min      8.581857    7.946618    0.000000    0.000000    0.701684  \n",
       "25%      8.748781    8.133074    0.000000    0.000000    0.822797  \n",
       "50%      8.802822    8.190350    0.000000    0.000000    0.878849  \n",
       "75%      8.846960    8.268152   81.250000   81.250000    0.946467  \n",
       "max      8.962520    8.399985  108.000000  108.000000    1.216829  \n",
       "\n",
       "[8 rows x 49 columns]"
      ]
     },
     "execution_count": 7,
     "metadata": {},
     "output_type": "execute_result"
    }
   ],
   "source": [
    "df.describe()"
   ]
  },
  {
   "cell_type": "markdown",
   "id": "printable-assignment",
   "metadata": {},
   "source": [
    "# (a) \n",
    "## at which observation the variable $\\mathrm{beltlaw}$ turns from $0$ to $1$"
   ]
  },
  {
   "cell_type": "code",
   "execution_count": 8,
   "id": "enormous-dream",
   "metadata": {},
   "outputs": [
    {
     "data": {
      "text/plain": [
       "<AxesSubplot:xlabel='t', ylabel='beltlaw'>"
      ]
     },
     "execution_count": 8,
     "metadata": {},
     "output_type": "execute_result"
    },
    {
     "data": {
      "image/png": "[encoded data removed]",
      "text/plain": [
       "<Figure size 1152x432 with 1 Axes>"
      ]
     },
     "metadata": {},
     "output_type": "display_data"
    }
   ],
   "source": [
    "df.plot.scatter(x = 't', y = 'beltlaw', s=50)"
   ]
  },
  {
   "cell_type": "code",
   "execution_count": 9,
   "id": "electoral-usage",
   "metadata": {},
   "outputs": [
    {
     "data": {
      "text/html": [
       "<div>\n",
       "<style scoped>\n",
       "    .dataframe tbody tr th:only-of-type {\n",
       "        vertical-align: middle;\n",
       "    }\n",
       "\n",
       "    .dataframe tbody tr th {\n",
       "        vertical-align: top;\n",
       "    }\n",
       "\n",
       "    .dataframe thead th {\n",
       "        text-align: right;\n",
       "    }\n",
       "</style>\n",
       "<table border=\"1\" class=\"dataframe\">\n",
       "  <thead>\n",
       "    <tr style=\"text-align: right;\">\n",
       "      <th></th>\n",
       "      <th>beltlaw</th>\n",
       "    </tr>\n",
       "  </thead>\n",
       "  <tbody>\n",
       "    <tr>\n",
       "      <th>55</th>\n",
       "      <td>0</td>\n",
       "    </tr>\n",
       "    <tr>\n",
       "      <th>56</th>\n",
       "      <td>0</td>\n",
       "    </tr>\n",
       "    <tr>\n",
       "      <th>57</th>\n",
       "      <td>0</td>\n",
       "    </tr>\n",
       "    <tr>\n",
       "      <th>58</th>\n",
       "      <td>0</td>\n",
       "    </tr>\n",
       "    <tr>\n",
       "      <th>59</th>\n",
       "      <td>0</td>\n",
       "    </tr>\n",
       "    <tr>\n",
       "      <th>60</th>\n",
       "      <td>1</td>\n",
       "    </tr>\n",
       "    <tr>\n",
       "      <th>61</th>\n",
       "      <td>1</td>\n",
       "    </tr>\n",
       "    <tr>\n",
       "      <th>62</th>\n",
       "      <td>1</td>\n",
       "    </tr>\n",
       "    <tr>\n",
       "      <th>63</th>\n",
       "      <td>1</td>\n",
       "    </tr>\n",
       "    <tr>\n",
       "      <th>64</th>\n",
       "      <td>1</td>\n",
       "    </tr>\n",
       "  </tbody>\n",
       "</table>\n",
       "</div>"
      ],
      "text/plain": [
       "    beltlaw\n",
       "55        0\n",
       "56        0\n",
       "57        0\n",
       "58        0\n",
       "59        0\n",
       "60        1\n",
       "61        1\n",
       "62        1\n",
       "63        1\n",
       "64        1"
      ]
     },
     "execution_count": 9,
     "metadata": {},
     "output_type": "execute_result"
    }
   ],
   "source": [
    "df[['beltlaw']][55:65]"
   ]
  },
  {
   "cell_type": "code",
   "execution_count": 10,
   "id": "cognitive-discretion",
   "metadata": {},
   "outputs": [
    {
     "data": {
      "text/html": [
       "<div>\n",
       "<style scoped>\n",
       "    .dataframe tbody tr th:only-of-type {\n",
       "        vertical-align: middle;\n",
       "    }\n",
       "\n",
       "    .dataframe tbody tr th {\n",
       "        vertical-align: top;\n",
       "    }\n",
       "\n",
       "    .dataframe thead th {\n",
       "        text-align: right;\n",
       "    }\n",
       "</style>\n",
       "<table border=\"1\" class=\"dataframe\">\n",
       "  <thead>\n",
       "    <tr style=\"text-align: right;\">\n",
       "      <th></th>\n",
       "      <th>year</th>\n",
       "      <th>feb</th>\n",
       "      <th>mar</th>\n",
       "      <th>apr</th>\n",
       "      <th>may</th>\n",
       "      <th>jun</th>\n",
       "      <th>jul</th>\n",
       "      <th>aug</th>\n",
       "      <th>sep</th>\n",
       "      <th>oct</th>\n",
       "      <th>nov</th>\n",
       "      <th>dec</th>\n",
       "      <th>beltlaw</th>\n",
       "    </tr>\n",
       "  </thead>\n",
       "  <tbody>\n",
       "    <tr>\n",
       "      <th>59</th>\n",
       "      <td>1985</td>\n",
       "      <td>0</td>\n",
       "      <td>0</td>\n",
       "      <td>0</td>\n",
       "      <td>0</td>\n",
       "      <td>0</td>\n",
       "      <td>0</td>\n",
       "      <td>0</td>\n",
       "      <td>0</td>\n",
       "      <td>0</td>\n",
       "      <td>0</td>\n",
       "      <td>1</td>\n",
       "      <td>0</td>\n",
       "    </tr>\n",
       "    <tr>\n",
       "      <th>60</th>\n",
       "      <td>1986</td>\n",
       "      <td>0</td>\n",
       "      <td>0</td>\n",
       "      <td>0</td>\n",
       "      <td>0</td>\n",
       "      <td>0</td>\n",
       "      <td>0</td>\n",
       "      <td>0</td>\n",
       "      <td>0</td>\n",
       "      <td>0</td>\n",
       "      <td>0</td>\n",
       "      <td>0</td>\n",
       "      <td>1</td>\n",
       "    </tr>\n",
       "    <tr>\n",
       "      <th>61</th>\n",
       "      <td>1986</td>\n",
       "      <td>1</td>\n",
       "      <td>0</td>\n",
       "      <td>0</td>\n",
       "      <td>0</td>\n",
       "      <td>0</td>\n",
       "      <td>0</td>\n",
       "      <td>0</td>\n",
       "      <td>0</td>\n",
       "      <td>0</td>\n",
       "      <td>0</td>\n",
       "      <td>0</td>\n",
       "      <td>1</td>\n",
       "    </tr>\n",
       "  </tbody>\n",
       "</table>\n",
       "</div>"
      ],
      "text/plain": [
       "    year  feb  mar  apr  may  jun  jul  aug  sep  oct  nov  dec  beltlaw\n",
       "59  1985    0    0    0    0    0    0    0    0    0    0    1        0\n",
       "60  1986    0    0    0    0    0    0    0    0    0    0    0        1\n",
       "61  1986    1    0    0    0    0    0    0    0    0    0    0        1"
      ]
     },
     "execution_count": 10,
     "metadata": {},
     "output_type": "execute_result"
    }
   ],
   "source": [
    "df[['year','feb', 'mar', 'apr', 'may', 'jun', 'jul', 'aug','sep', 'oct', 'nov', 'dec', 'beltlaw']][59:62]"
   ]
  },
  {
   "cell_type": "markdown",
   "id": "expired-pledge",
   "metadata": {},
   "source": [
    "## at which observation the variable $\\mathrm{spdlaw}$ turns from $0$ to $1$"
   ]
  },
  {
   "cell_type": "code",
   "execution_count": 11,
   "id": "modified-accountability",
   "metadata": {},
   "outputs": [
    {
     "data": {
      "text/plain": [
       "<AxesSubplot:xlabel='t', ylabel='spdlaw'>"
      ]
     },
     "execution_count": 11,
     "metadata": {},
     "output_type": "execute_result"
    },
    {
     "data": {
      "image/png": "[encoded data removed]",
      "text/plain": [
       "<Figure size 1152x432 with 1 Axes>"
      ]
     },
     "metadata": {},
     "output_type": "display_data"
    }
   ],
   "source": [
    "df.plot.scatter(x = 't', y = 'spdlaw', s=50)"
   ]
  },
  {
   "cell_type": "code",
   "execution_count": 12,
   "id": "inclusive-income",
   "metadata": {},
   "outputs": [
    {
     "data": {
      "text/html": [
       "<div>\n",
       "<style scoped>\n",
       "    .dataframe tbody tr th:only-of-type {\n",
       "        vertical-align: middle;\n",
       "    }\n",
       "\n",
       "    .dataframe tbody tr th {\n",
       "        vertical-align: top;\n",
       "    }\n",
       "\n",
       "    .dataframe thead th {\n",
       "        text-align: right;\n",
       "    }\n",
       "</style>\n",
       "<table border=\"1\" class=\"dataframe\">\n",
       "  <thead>\n",
       "    <tr style=\"text-align: right;\">\n",
       "      <th></th>\n",
       "      <th>spdlaw</th>\n",
       "    </tr>\n",
       "  </thead>\n",
       "  <tbody>\n",
       "    <tr>\n",
       "      <th>65</th>\n",
       "      <td>0</td>\n",
       "    </tr>\n",
       "    <tr>\n",
       "      <th>66</th>\n",
       "      <td>0</td>\n",
       "    </tr>\n",
       "    <tr>\n",
       "      <th>67</th>\n",
       "      <td>0</td>\n",
       "    </tr>\n",
       "    <tr>\n",
       "      <th>68</th>\n",
       "      <td>0</td>\n",
       "    </tr>\n",
       "    <tr>\n",
       "      <th>69</th>\n",
       "      <td>0</td>\n",
       "    </tr>\n",
       "    <tr>\n",
       "      <th>70</th>\n",
       "      <td>0</td>\n",
       "    </tr>\n",
       "    <tr>\n",
       "      <th>71</th>\n",
       "      <td>0</td>\n",
       "    </tr>\n",
       "    <tr>\n",
       "      <th>72</th>\n",
       "      <td>0</td>\n",
       "    </tr>\n",
       "    <tr>\n",
       "      <th>73</th>\n",
       "      <td>0</td>\n",
       "    </tr>\n",
       "    <tr>\n",
       "      <th>74</th>\n",
       "      <td>0</td>\n",
       "    </tr>\n",
       "    <tr>\n",
       "      <th>75</th>\n",
       "      <td>0</td>\n",
       "    </tr>\n",
       "    <tr>\n",
       "      <th>76</th>\n",
       "      <td>1</td>\n",
       "    </tr>\n",
       "    <tr>\n",
       "      <th>77</th>\n",
       "      <td>1</td>\n",
       "    </tr>\n",
       "    <tr>\n",
       "      <th>78</th>\n",
       "      <td>1</td>\n",
       "    </tr>\n",
       "    <tr>\n",
       "      <th>79</th>\n",
       "      <td>1</td>\n",
       "    </tr>\n",
       "  </tbody>\n",
       "</table>\n",
       "</div>"
      ],
      "text/plain": [
       "    spdlaw\n",
       "65       0\n",
       "66       0\n",
       "67       0\n",
       "68       0\n",
       "69       0\n",
       "70       0\n",
       "71       0\n",
       "72       0\n",
       "73       0\n",
       "74       0\n",
       "75       0\n",
       "76       1\n",
       "77       1\n",
       "78       1\n",
       "79       1"
      ]
     },
     "execution_count": 12,
     "metadata": {},
     "output_type": "execute_result"
    }
   ],
   "source": [
    "df[['spdlaw']][65:80]"
   ]
  },
  {
   "cell_type": "code",
   "execution_count": 13,
   "id": "sorted-belly",
   "metadata": {},
   "outputs": [
    {
     "data": {
      "text/html": [
       "<div>\n",
       "<style scoped>\n",
       "    .dataframe tbody tr th:only-of-type {\n",
       "        vertical-align: middle;\n",
       "    }\n",
       "\n",
       "    .dataframe tbody tr th {\n",
       "        vertical-align: top;\n",
       "    }\n",
       "\n",
       "    .dataframe thead th {\n",
       "        text-align: right;\n",
       "    }\n",
       "</style>\n",
       "<table border=\"1\" class=\"dataframe\">\n",
       "  <thead>\n",
       "    <tr style=\"text-align: right;\">\n",
       "      <th></th>\n",
       "      <th>year</th>\n",
       "      <th>feb</th>\n",
       "      <th>mar</th>\n",
       "      <th>apr</th>\n",
       "      <th>may</th>\n",
       "      <th>jun</th>\n",
       "      <th>jul</th>\n",
       "      <th>aug</th>\n",
       "      <th>sep</th>\n",
       "      <th>oct</th>\n",
       "      <th>nov</th>\n",
       "      <th>dec</th>\n",
       "      <th>spdlaw</th>\n",
       "    </tr>\n",
       "  </thead>\n",
       "  <tbody>\n",
       "    <tr>\n",
       "      <th>74</th>\n",
       "      <td>1987</td>\n",
       "      <td>0</td>\n",
       "      <td>1</td>\n",
       "      <td>0</td>\n",
       "      <td>0</td>\n",
       "      <td>0</td>\n",
       "      <td>0</td>\n",
       "      <td>0</td>\n",
       "      <td>0</td>\n",
       "      <td>0</td>\n",
       "      <td>0</td>\n",
       "      <td>0</td>\n",
       "      <td>0</td>\n",
       "    </tr>\n",
       "    <tr>\n",
       "      <th>75</th>\n",
       "      <td>1987</td>\n",
       "      <td>0</td>\n",
       "      <td>0</td>\n",
       "      <td>1</td>\n",
       "      <td>0</td>\n",
       "      <td>0</td>\n",
       "      <td>0</td>\n",
       "      <td>0</td>\n",
       "      <td>0</td>\n",
       "      <td>0</td>\n",
       "      <td>0</td>\n",
       "      <td>0</td>\n",
       "      <td>0</td>\n",
       "    </tr>\n",
       "    <tr>\n",
       "      <th>76</th>\n",
       "      <td>1987</td>\n",
       "      <td>0</td>\n",
       "      <td>0</td>\n",
       "      <td>0</td>\n",
       "      <td>1</td>\n",
       "      <td>0</td>\n",
       "      <td>0</td>\n",
       "      <td>0</td>\n",
       "      <td>0</td>\n",
       "      <td>0</td>\n",
       "      <td>0</td>\n",
       "      <td>0</td>\n",
       "      <td>1</td>\n",
       "    </tr>\n",
       "  </tbody>\n",
       "</table>\n",
       "</div>"
      ],
      "text/plain": [
       "    year  feb  mar  apr  may  jun  jul  aug  sep  oct  nov  dec  spdlaw\n",
       "74  1987    0    1    0    0    0    0    0    0    0    0    0       0\n",
       "75  1987    0    0    1    0    0    0    0    0    0    0    0       0\n",
       "76  1987    0    0    0    1    0    0    0    0    0    0    0       1"
      ]
     },
     "execution_count": 13,
     "metadata": {},
     "output_type": "execute_result"
    }
   ],
   "source": [
    "df[['year','feb', 'mar', 'apr', 'may', 'jun', 'jul', 'aug','sep', 'oct', 'nov', 'dec', 'spdlaw']][74:77]"
   ]
  },
  {
   "cell_type": "markdown",
   "id": "wireless-madagascar",
   "metadata": {},
   "source": [
    "# (b)"
   ]
  },
  {
   "cell_type": "code",
   "execution_count": 14,
   "id": "awful-consciousness",
   "metadata": {},
   "outputs": [
    {
     "name": "stdout",
     "output_type": "stream",
     "text": [
      "                            OLS Regression Results                            \n",
      "==============================================================================\n",
      "Dep. Variable:                ltotacc   R-squared:                       0.797\n",
      "Model:                            OLS   Adj. R-squared:                  0.771\n",
      "Method:                 Least Squares   F-statistic:                     31.06\n",
      "Date:                Thu, 23 Sep 2021   Prob (F-statistic):           1.18e-27\n",
      "Time:                        12:42:01   Log-Likelihood:                 173.28\n",
      "No. Observations:                 108   AIC:                            -320.6\n",
      "Df Residuals:                      95   BIC:                            -285.7\n",
      "Df Model:                          12                                         \n",
      "Covariance Type:            nonrobust                                         \n",
      "==============================================================================\n",
      "                 coef    std err          t      P>|t|      [0.025      0.975]\n",
      "------------------------------------------------------------------------------\n",
      "const         10.4686      0.019    550.895      0.000      10.431      10.506\n",
      "t              0.0027      0.000     17.057      0.000       0.002       0.003\n",
      "feb           -0.0427      0.024     -1.746      0.084      -0.091       0.006\n",
      "mar            0.0798      0.024      3.265      0.002       0.031       0.128\n",
      "apr            0.0185      0.024      0.756      0.452      -0.030       0.067\n",
      "may            0.0321      0.024      1.313      0.193      -0.016       0.081\n",
      "jun            0.0202      0.024      0.825      0.411      -0.028       0.069\n",
      "jul            0.0376      0.024      1.536      0.128      -0.011       0.086\n",
      "aug            0.0540      0.024      2.206      0.030       0.005       0.103\n",
      "sep            0.0424      0.024      1.730      0.087      -0.006       0.091\n",
      "oct            0.0821      0.024      3.353      0.001       0.033       0.131\n",
      "nov            0.0713      0.024      2.909      0.005       0.023       0.120\n",
      "dec            0.0962      0.025      3.923      0.000       0.047       0.145\n",
      "==============================================================================\n",
      "Omnibus:                        2.326   Durbin-Watson:                   0.600\n",
      "Prob(Omnibus):                  0.313   Jarque-Bera (JB):                1.971\n",
      "Skew:                           0.205   Prob(JB):                        0.373\n",
      "Kurtosis:                       2.481   Cond. No.                         782.\n",
      "==============================================================================\n",
      "\n",
      "Notes:\n",
      "[1] Standard Errors assume that the covariance matrix of the errors is correctly specified.\n"
     ]
    }
   ],
   "source": [
    "X_b   = df[['const', 't', 'feb', 'mar', 'apr', 'may', 'jun', \n",
    "            'jul', 'aug','sep', 'oct', 'nov', 'dec']]\n",
    "Y_b   = df[['ltotacc']]\n",
    "M_OLS = sm.OLS(Y_b, X_b, missing='drop')\n",
    "\n",
    "OLS_result = M_OLS.fit()\n",
    "print(OLS_result.summary())"
   ]
  },
  {
   "cell_type": "markdown",
   "id": "biological-cruise",
   "metadata": {},
   "source": [
    "# (c)"
   ]
  },
  {
   "cell_type": "code",
   "execution_count": 15,
   "id": "clear-boundary",
   "metadata": {},
   "outputs": [
    {
     "name": "stdout",
     "output_type": "stream",
     "text": [
      "                            OLS Regression Results                            \n",
      "==============================================================================\n",
      "Dep. Variable:                ltotacc   R-squared:                       0.910\n",
      "Model:                            OLS   Adj. R-squared:                  0.894\n",
      "Method:                 Least Squares   F-statistic:                     57.61\n",
      "Date:                Thu, 23 Sep 2021   Prob (F-statistic):           1.83e-40\n",
      "Time:                        12:42:01   Log-Likelihood:                 217.32\n",
      "No. Observations:                 108   AIC:                            -400.6\n",
      "Df Residuals:                      91   BIC:                            -355.0\n",
      "Df Model:                          16                                         \n",
      "Covariance Type:            nonrobust                                         \n",
      "==============================================================================\n",
      "                 coef    std err          t      P>|t|      [0.025      0.975]\n",
      "------------------------------------------------------------------------------\n",
      "const         10.6399      0.063    168.657      0.000      10.515      10.765\n",
      "t              0.0011      0.000      4.270      0.000       0.001       0.002\n",
      "feb           -0.0338      0.018     -1.904      0.060      -0.069       0.001\n",
      "mar            0.0770      0.017      4.582      0.000       0.044       0.110\n",
      "apr            0.0105      0.017      0.613      0.541      -0.023       0.044\n",
      "may            0.0237      0.017      1.400      0.165      -0.010       0.057\n",
      "jun            0.0219      0.017      1.274      0.206      -0.012       0.056\n",
      "jul            0.0499      0.017      2.989      0.004       0.017       0.083\n",
      "aug            0.0560      0.017      3.327      0.001       0.023       0.089\n",
      "sep            0.0421      0.017      2.434      0.017       0.008       0.076\n",
      "oct            0.0817      0.017      4.820      0.000       0.048       0.115\n",
      "nov            0.0769      0.017      4.458      0.000       0.043       0.111\n",
      "dec            0.0991      0.017      5.805      0.000       0.065       0.133\n",
      "wkends         0.0033      0.004      0.883      0.380      -0.004       0.011\n",
      "unem          -0.0212      0.003     -6.245      0.000      -0.028      -0.014\n",
      "spdlaw        -0.0538      0.013     -4.265      0.000      -0.079      -0.029\n",
      "beltlaw        0.0955      0.014      6.705      0.000       0.067       0.124\n",
      "==============================================================================\n",
      "Omnibus:                        2.047   Durbin-Watson:                   1.200\n",
      "Prob(Omnibus):                  0.359   Jarque-Bera (JB):                1.906\n",
      "Skew:                           0.323   Prob(JB):                        0.386\n",
      "Kurtosis:                       2.925   Cond. No.                     1.26e+03\n",
      "==============================================================================\n",
      "\n",
      "Notes:\n",
      "[1] Standard Errors assume that the covariance matrix of the errors is correctly specified.\n",
      "[2] The condition number is large, 1.26e+03. This might indicate that there are\n",
      "strong multicollinearity or other numerical problems.\n"
     ]
    }
   ],
   "source": [
    "X_c   = df[['const', 't', 'feb', 'mar', 'apr', 'may', 'jun', \n",
    "            'jul', 'aug','sep', 'oct', 'nov', 'dec',\n",
    "            'wkends', 'unem', 'spdlaw', 'beltlaw']]\n",
    "Y_c   = df[['ltotacc']]\n",
    "M_OLS = sm.OLS(Y_c, X_c, missing='drop')\n",
    "\n",
    "OLS_result = M_OLS.fit()\n",
    "print(OLS_result.summary())"
   ]
  },
  {
   "cell_type": "markdown",
   "id": "outstanding-spray",
   "metadata": {},
   "source": [
    "# (e)"
   ]
  },
  {
   "cell_type": "code",
   "execution_count": 16,
   "id": "elect-stanford",
   "metadata": {},
   "outputs": [
    {
     "data": {
      "text/html": [
       "<div>\n",
       "<style scoped>\n",
       "    .dataframe tbody tr th:only-of-type {\n",
       "        vertical-align: middle;\n",
       "    }\n",
       "\n",
       "    .dataframe tbody tr th {\n",
       "        vertical-align: top;\n",
       "    }\n",
       "\n",
       "    .dataframe thead th {\n",
       "        text-align: right;\n",
       "    }\n",
       "</style>\n",
       "<table border=\"1\" class=\"dataframe\">\n",
       "  <thead>\n",
       "    <tr style=\"text-align: right;\">\n",
       "      <th></th>\n",
       "      <th>prcfat</th>\n",
       "    </tr>\n",
       "  </thead>\n",
       "  <tbody>\n",
       "    <tr>\n",
       "      <th>count</th>\n",
       "      <td>108.000000</td>\n",
       "    </tr>\n",
       "    <tr>\n",
       "      <th>mean</th>\n",
       "      <td>0.885636</td>\n",
       "    </tr>\n",
       "    <tr>\n",
       "      <th>std</th>\n",
       "      <td>0.099778</td>\n",
       "    </tr>\n",
       "    <tr>\n",
       "      <th>min</th>\n",
       "      <td>0.701684</td>\n",
       "    </tr>\n",
       "    <tr>\n",
       "      <th>25%</th>\n",
       "      <td>0.822868</td>\n",
       "    </tr>\n",
       "    <tr>\n",
       "      <th>50%</th>\n",
       "      <td>0.878098</td>\n",
       "    </tr>\n",
       "    <tr>\n",
       "      <th>75%</th>\n",
       "      <td>0.946348</td>\n",
       "    </tr>\n",
       "    <tr>\n",
       "      <th>max</th>\n",
       "      <td>1.216829</td>\n",
       "    </tr>\n",
       "  </tbody>\n",
       "</table>\n",
       "</div>"
      ],
      "text/plain": [
       "           prcfat\n",
       "count  108.000000\n",
       "mean     0.885636\n",
       "std      0.099778\n",
       "min      0.701684\n",
       "25%      0.822868\n",
       "50%      0.878098\n",
       "75%      0.946348\n",
       "max      1.216829"
      ]
     },
     "execution_count": 16,
     "metadata": {},
     "output_type": "execute_result"
    }
   ],
   "source": [
    "df[['prcfat']].describe()"
   ]
  },
  {
   "cell_type": "markdown",
   "id": "quiet-brother",
   "metadata": {},
   "source": [
    "# (f)"
   ]
  },
  {
   "cell_type": "code",
   "execution_count": 17,
   "id": "affiliated-vegetable",
   "metadata": {},
   "outputs": [
    {
     "name": "stdout",
     "output_type": "stream",
     "text": [
      "                            OLS Regression Results                            \n",
      "==============================================================================\n",
      "Dep. Variable:                 prcfat   R-squared:                       0.717\n",
      "Model:                            OLS   Adj. R-squared:                  0.668\n",
      "Method:                 Least Squares   F-statistic:                     14.44\n",
      "Date:                Thu, 23 Sep 2021   Prob (F-statistic):           1.59e-18\n",
      "Time:                        12:42:01   Log-Likelihood:                 164.42\n",
      "No. Observations:                 108   AIC:                            -294.8\n",
      "Df Residuals:                      91   BIC:                            -249.2\n",
      "Df Model:                          16                                         \n",
      "Covariance Type:            nonrobust                                         \n",
      "==============================================================================\n",
      "                 coef    std err          t      P>|t|      [0.025      0.975]\n",
      "------------------------------------------------------------------------------\n",
      "const          1.0298      0.103     10.003      0.000       0.825       1.234\n",
      "t             -0.0022      0.000     -5.312      0.000      -0.003      -0.001\n",
      "feb            0.0009      0.029      0.030      0.976      -0.057       0.058\n",
      "mar         9.226e-05      0.027      0.003      0.997      -0.054       0.055\n",
      "apr            0.0582      0.028      2.093      0.039       0.003       0.113\n",
      "may            0.0716      0.028      2.592      0.011       0.017       0.127\n",
      "jun            0.1013      0.028      3.604      0.001       0.045       0.157\n",
      "jul            0.1766      0.027      6.479      0.000       0.122       0.231\n",
      "aug            0.1926      0.027      7.018      0.000       0.138       0.247\n",
      "sep            0.1600      0.028      5.674      0.000       0.104       0.216\n",
      "oct            0.1010      0.028      3.651      0.000       0.046       0.156\n",
      "nov            0.0139      0.028      0.496      0.621      -0.042       0.070\n",
      "dec            0.0092      0.028      0.330      0.742      -0.046       0.065\n",
      "wkends         0.0006      0.006      0.102      0.919      -0.012       0.013\n",
      "unem          -0.0154      0.006     -2.782      0.007      -0.026      -0.004\n",
      "spdlaw         0.0671      0.021      3.262      0.002       0.026       0.108\n",
      "beltlaw       -0.0295      0.023     -1.270      0.207      -0.076       0.017\n",
      "==============================================================================\n",
      "Omnibus:                        0.720   Durbin-Watson:                   1.430\n",
      "Prob(Omnibus):                  0.698   Jarque-Bera (JB):                0.841\n",
      "Skew:                          -0.170   Prob(JB):                        0.657\n",
      "Kurtosis:                       2.734   Cond. No.                     1.26e+03\n",
      "==============================================================================\n",
      "\n",
      "Notes:\n",
      "[1] Standard Errors assume that the covariance matrix of the errors is correctly specified.\n",
      "[2] The condition number is large, 1.26e+03. This might indicate that there are\n",
      "strong multicollinearity or other numerical problems.\n"
     ]
    }
   ],
   "source": [
    "X_f   = df[['const', 't', 'feb', 'mar', 'apr', 'may', 'jun', \n",
    "            'jul', 'aug','sep', 'oct', 'nov', 'dec',\n",
    "            'wkends', 'unem', 'spdlaw', 'beltlaw']]\n",
    "Y_f   = df[['prcfat']]\n",
    "M_OLS = sm.OLS(Y_f, X_f, missing='drop')\n",
    "\n",
    "OLS_result = M_OLS.fit()\n",
    "print(OLS_result.summary())"
   ]
  },
  {
   "cell_type": "markdown",
   "id": "after-namibia",
   "metadata": {},
   "source": [
    "# (g)"
   ]
  },
  {
   "cell_type": "code",
   "execution_count": 18,
   "id": "changed-virtue",
   "metadata": {},
   "outputs": [],
   "source": [
    "from statsmodels.tsa.stattools     import adfuller, acf, pacf\n",
    "from statsmodels.graphics.tsaplots import plot_acf, plot_pacf"
   ]
  },
  {
   "cell_type": "markdown",
   "id": "smoking-english",
   "metadata": {},
   "source": [
    "## set time index"
   ]
  },
  {
   "cell_type": "code",
   "execution_count": 19,
   "id": "neural-closer",
   "metadata": {},
   "outputs": [
    {
     "data": {
      "text/html": [
       "<div>\n",
       "<style scoped>\n",
       "    .dataframe tbody tr th:only-of-type {\n",
       "        vertical-align: middle;\n",
       "    }\n",
       "\n",
       "    .dataframe tbody tr th {\n",
       "        vertical-align: top;\n",
       "    }\n",
       "\n",
       "    .dataframe thead th {\n",
       "        text-align: right;\n",
       "    }\n",
       "</style>\n",
       "<table border=\"1\" class=\"dataframe\">\n",
       "  <thead>\n",
       "    <tr style=\"text-align: right;\">\n",
       "      <th></th>\n",
       "      <th>const</th>\n",
       "      <th>year</th>\n",
       "      <th>totacc</th>\n",
       "      <th>fatacc</th>\n",
       "      <th>injacc</th>\n",
       "      <th>pdoacc</th>\n",
       "      <th>ntotacc</th>\n",
       "      <th>nfatacc</th>\n",
       "      <th>ninjacc</th>\n",
       "      <th>npdoacc</th>\n",
       "      <th>...</th>\n",
       "      <th>lrfatacc</th>\n",
       "      <th>lntotacc</th>\n",
       "      <th>lnfatacc</th>\n",
       "      <th>prcnfat</th>\n",
       "      <th>lushigh</th>\n",
       "      <th>lcntyrds</th>\n",
       "      <th>lstrtes</th>\n",
       "      <th>spdt</th>\n",
       "      <th>beltt</th>\n",
       "      <th>prcfat_1</th>\n",
       "    </tr>\n",
       "    <tr>\n",
       "      <th>time</th>\n",
       "      <th></th>\n",
       "      <th></th>\n",
       "      <th></th>\n",
       "      <th></th>\n",
       "      <th></th>\n",
       "      <th></th>\n",
       "      <th></th>\n",
       "      <th></th>\n",
       "      <th></th>\n",
       "      <th></th>\n",
       "      <th></th>\n",
       "      <th></th>\n",
       "      <th></th>\n",
       "      <th></th>\n",
       "      <th></th>\n",
       "      <th></th>\n",
       "      <th></th>\n",
       "      <th></th>\n",
       "      <th></th>\n",
       "      <th></th>\n",
       "      <th></th>\n",
       "    </tr>\n",
       "  </thead>\n",
       "  <tbody>\n",
       "    <tr>\n",
       "      <th>1</th>\n",
       "      <td>1.0</td>\n",
       "      <td>1981</td>\n",
       "      <td>40511</td>\n",
       "      <td>365</td>\n",
       "      <td>15626</td>\n",
       "      <td>24520</td>\n",
       "      <td>38235</td>\n",
       "      <td>323</td>\n",
       "      <td>14743</td>\n",
       "      <td>23169</td>\n",
       "      <td>...</td>\n",
       "      <td>2.484907</td>\n",
       "      <td>10.551507</td>\n",
       "      <td>5.777652</td>\n",
       "      <td>0.844776</td>\n",
       "      <td>6.963190</td>\n",
       "      <td>8.830251</td>\n",
       "      <td>8.153062</td>\n",
       "      <td>0</td>\n",
       "      <td>0</td>\n",
       "      <td>NaN</td>\n",
       "    </tr>\n",
       "    <tr>\n",
       "      <th>2</th>\n",
       "      <td>1.0</td>\n",
       "      <td>1981</td>\n",
       "      <td>36034</td>\n",
       "      <td>329</td>\n",
       "      <td>14469</td>\n",
       "      <td>21236</td>\n",
       "      <td>33989</td>\n",
       "      <td>294</td>\n",
       "      <td>13620</td>\n",
       "      <td>20075</td>\n",
       "      <td>...</td>\n",
       "      <td>2.079442</td>\n",
       "      <td>10.433792</td>\n",
       "      <td>5.683580</td>\n",
       "      <td>0.864986</td>\n",
       "      <td>6.839477</td>\n",
       "      <td>8.708970</td>\n",
       "      <td>8.046550</td>\n",
       "      <td>0</td>\n",
       "      <td>0</td>\n",
       "      <td>0.900990</td>\n",
       "    </tr>\n",
       "    <tr>\n",
       "      <th>3</th>\n",
       "      <td>1.0</td>\n",
       "      <td>1981</td>\n",
       "      <td>40328</td>\n",
       "      <td>369</td>\n",
       "      <td>16026</td>\n",
       "      <td>23933</td>\n",
       "      <td>37990</td>\n",
       "      <td>335</td>\n",
       "      <td>15105</td>\n",
       "      <td>22550</td>\n",
       "      <td>...</td>\n",
       "      <td>2.484907</td>\n",
       "      <td>10.545078</td>\n",
       "      <td>5.814130</td>\n",
       "      <td>0.881811</td>\n",
       "      <td>7.041412</td>\n",
       "      <td>8.825119</td>\n",
       "      <td>8.148446</td>\n",
       "      <td>0</td>\n",
       "      <td>0</td>\n",
       "      <td>0.913027</td>\n",
       "    </tr>\n",
       "    <tr>\n",
       "      <th>4</th>\n",
       "      <td>1.0</td>\n",
       "      <td>1981</td>\n",
       "      <td>37699</td>\n",
       "      <td>369</td>\n",
       "      <td>15560</td>\n",
       "      <td>21770</td>\n",
       "      <td>35457</td>\n",
       "      <td>326</td>\n",
       "      <td>14654</td>\n",
       "      <td>20477</td>\n",
       "      <td>...</td>\n",
       "      <td>2.639057</td>\n",
       "      <td>10.476076</td>\n",
       "      <td>5.786897</td>\n",
       "      <td>0.919424</td>\n",
       "      <td>6.916715</td>\n",
       "      <td>8.750524</td>\n",
       "      <td>8.071531</td>\n",
       "      <td>0</td>\n",
       "      <td>0</td>\n",
       "      <td>0.914997</td>\n",
       "    </tr>\n",
       "    <tr>\n",
       "      <th>5</th>\n",
       "      <td>1.0</td>\n",
       "      <td>1981</td>\n",
       "      <td>38816</td>\n",
       "      <td>355</td>\n",
       "      <td>16546</td>\n",
       "      <td>21915</td>\n",
       "      <td>36611</td>\n",
       "      <td>321</td>\n",
       "      <td>15569</td>\n",
       "      <td>20721</td>\n",
       "      <td>...</td>\n",
       "      <td>1.791759</td>\n",
       "      <td>10.508104</td>\n",
       "      <td>5.771441</td>\n",
       "      <td>0.876786</td>\n",
       "      <td>6.986567</td>\n",
       "      <td>8.816705</td>\n",
       "      <td>8.111928</td>\n",
       "      <td>0</td>\n",
       "      <td>0</td>\n",
       "      <td>0.978806</td>\n",
       "    </tr>\n",
       "  </tbody>\n",
       "</table>\n",
       "<p>5 rows × 49 columns</p>\n",
       "</div>"
      ],
      "text/plain": [
       "      const  year  totacc  fatacc  injacc  pdoacc  ntotacc  nfatacc  ninjacc  \\\n",
       "time                                                                           \n",
       "1       1.0  1981   40511     365   15626   24520    38235      323    14743   \n",
       "2       1.0  1981   36034     329   14469   21236    33989      294    13620   \n",
       "3       1.0  1981   40328     369   16026   23933    37990      335    15105   \n",
       "4       1.0  1981   37699     369   15560   21770    35457      326    14654   \n",
       "5       1.0  1981   38816     355   16546   21915    36611      321    15569   \n",
       "\n",
       "      npdoacc  ...  lrfatacc   lntotacc  lnfatacc   prcnfat   lushigh  \\\n",
       "time           ...                                                      \n",
       "1       23169  ...  2.484907  10.551507  5.777652  0.844776  6.963190   \n",
       "2       20075  ...  2.079442  10.433792  5.683580  0.864986  6.839477   \n",
       "3       22550  ...  2.484907  10.545078  5.814130  0.881811  7.041412   \n",
       "4       20477  ...  2.639057  10.476076  5.786897  0.919424  6.916715   \n",
       "5       20721  ...  1.791759  10.508104  5.771441  0.876786  6.986567   \n",
       "\n",
       "      lcntyrds   lstrtes  spdt  beltt  prcfat_1  \n",
       "time                                             \n",
       "1     8.830251  8.153062     0      0       NaN  \n",
       "2     8.708970  8.046550     0      0  0.900990  \n",
       "3     8.825119  8.148446     0      0  0.913027  \n",
       "4     8.750524  8.071531     0      0  0.914997  \n",
       "5     8.816705  8.111928     0      0  0.978806  \n",
       "\n",
       "[5 rows x 49 columns]"
      ]
     },
     "execution_count": 19,
     "metadata": {},
     "output_type": "execute_result"
    }
   ],
   "source": [
    "df['time'] = df['t']\n",
    "df = df.set_index('time')\n",
    "df.head()"
   ]
  },
  {
   "cell_type": "code",
   "execution_count": 20,
   "id": "right-ticket",
   "metadata": {},
   "outputs": [
    {
     "data": {
      "text/plain": [
       "<AxesSubplot:xlabel='time'>"
      ]
     },
     "execution_count": 20,
     "metadata": {},
     "output_type": "execute_result"
    },
    {
     "data": {
      "image/png": "[encoded data removed]",
      "text/plain": [
       "<Figure size 1152x432 with 1 Axes>"
      ]
     },
     "metadata": {},
     "output_type": "display_data"
    }
   ],
   "source": [
    "df['prcfat'].plot()"
   ]
  },
  {
   "cell_type": "markdown",
   "id": "intended-translation",
   "metadata": {},
   "source": [
    "## compute the ac and pac"
   ]
  },
  {
   "cell_type": "code",
   "execution_count": 21,
   "id": "solid-jewel",
   "metadata": {},
   "outputs": [
    {
     "name": "stdout",
     "output_type": "stream",
     "text": [
      "the acf of prcfat [ 1.          0.7077258   0.44390511  0.18020643 -0.05593569 -0.22987723\n",
      " -0.30641628 -0.25670983 -0.09145165  0.08903988  0.30972437  0.47007627\n",
      "  0.5382829   0.43942269  0.26763836  0.09382853 -0.10409557 -0.25905733\n",
      " -0.36460658 -0.34798209 -0.18803081  0.0139571   0.18383124  0.34686263\n",
      "  0.37100008  0.33985822  0.19186888  0.04099565 -0.11236437 -0.23334627\n",
      " -0.25400971 -0.20730165 -0.12518452  0.02213073  0.15895365  0.28050004\n",
      "  0.33120027  0.30015236  0.20824572  0.0361951  -0.13010219]\n",
      "\n",
      "the pacf of prcfat [ 1.          0.71434006 -0.11843756 -0.18926711 -0.17536958 -0.12347185\n",
      " -0.03075713  0.10291886  0.20664096  0.12004668  0.25440263  0.1774409\n",
      "  0.13400809 -0.10627431 -0.0727345   0.02005764 -0.10207449 -0.08198443\n",
      " -0.19810874 -0.07480504  0.12023744  0.13127989 -0.00773296  0.13614667\n",
      " -0.08742183  0.07086637 -0.10967492  0.01878168  0.00539724  0.03396158\n",
      "  0.1958979   0.03210107 -0.10408789  0.01337504  0.07021146  0.07136984\n",
      "  0.07487466 -0.03674245 -0.01355431 -0.17873554 -0.18173138]\n"
     ]
    },
    {
     "name": "stderr",
     "output_type": "stream",
     "text": [
      "/opt/homebrew/Caskroom/miniforge/base/lib/python3.9/site-packages/statsmodels/tsa/stattools.py:657: FutureWarning: The default number of lags is changing from 40 tomin(int(10 * np.log10(nobs)), nobs - 1) after 0.12is released. Set the number of lags to an integer to  silence this warning.\n",
      "  warnings.warn(\n",
      "/opt/homebrew/Caskroom/miniforge/base/lib/python3.9/site-packages/statsmodels/tsa/stattools.py:667: FutureWarning: fft=True will become the default after the release of the 0.12 release of statsmodels. To suppress this warning, explicitly set fft=False.\n",
      "  warnings.warn(\n",
      "/opt/homebrew/Caskroom/miniforge/base/lib/python3.9/site-packages/statsmodels/tsa/stattools.py:1024: FutureWarning: The default number of lags is changing from 40 tomin(int(10 * np.log10(nobs)), nobs // 2 - 1) after 0.12is released. Set the number of lags to an integer to  silence this warning.\n",
      "  warnings.warn(\n"
     ]
    }
   ],
   "source": [
    "print(\"the acf of prcfat\", acf(df['prcfat']))\n",
    "print()\n",
    "print(\"the pacf of prcfat\", pacf(df['prcfat']))"
   ]
  },
  {
   "cell_type": "code",
   "execution_count": 22,
   "id": "falling-stamp",
   "metadata": {},
   "outputs": [
    {
     "name": "stdout",
     "output_type": "stream",
     "text": [
      "the acf of unem [ 1.00000000e+00  9.40967716e-01  8.92843254e-01  8.60085727e-01\n",
      "  8.36602869e-01  8.16674221e-01  7.99083263e-01  7.53058615e-01\n",
      "  7.07702563e-01  6.67333534e-01  6.38368134e-01  6.29499350e-01\n",
      "  6.13137330e-01  5.52737047e-01  4.83590287e-01  4.38765672e-01\n",
      "  4.04060656e-01  3.82188284e-01  3.60580279e-01  3.23313427e-01\n",
      "  2.79163632e-01  2.40230655e-01  2.28043397e-01  2.31870352e-01\n",
      "  2.30943041e-01  1.91198611e-01  1.47897263e-01  1.25884195e-01\n",
      "  1.13142280e-01  9.65213028e-02  9.04014717e-02  5.66018823e-02\n",
      "  2.30653085e-02 -6.74907110e-04 -1.18155090e-02 -1.69428698e-03\n",
      "  2.27334269e-03 -2.77333178e-02 -5.82363137e-02 -7.50628035e-02\n",
      " -8.90336467e-02]\n",
      "\n",
      "the pacf of unem [ 1.          0.94976181  0.07801601  0.14359301  0.11598492  0.07982486\n",
      "  0.07070973 -0.28573976 -0.07747885 -0.07668814  0.03841144  0.23894735\n",
      " -0.01114131 -0.44041313 -0.36891183  0.06163387  0.11236061  0.17678398\n",
      "  0.12207068  0.02944005 -0.06147472 -0.1684314   0.25940782  0.25177189\n",
      "  0.20228145 -0.37118662 -0.43911276  0.07029495  0.2811525  -0.21049504\n",
      " -0.35472731 -0.85767292 -0.52827829  6.19664481  0.16940585  1.23669939\n",
      "  0.68496948  0.17707212 -0.06296988 -0.42485522 -0.05648136]\n"
     ]
    },
    {
     "name": "stderr",
     "output_type": "stream",
     "text": [
      "/opt/homebrew/Caskroom/miniforge/base/lib/python3.9/site-packages/statsmodels/regression/linear_model.py:1434: RuntimeWarning: invalid value encountered in sqrt\n",
      "  return rho, np.sqrt(sigmasq)\n"
     ]
    }
   ],
   "source": [
    "print(\"the acf of unem\", acf(df['unem']))\n",
    "print()\n",
    "print(\"the pacf of unem\", pacf(df['unem']))"
   ]
  },
  {
   "cell_type": "markdown",
   "id": "specific-artist",
   "metadata": {},
   "source": [
    "## plot the ac and pac"
   ]
  },
  {
   "cell_type": "code",
   "execution_count": 23,
   "id": "subsequent-introduction",
   "metadata": {},
   "outputs": [
    {
     "data": {
      "image/png": "[encoded data removed]",
      "text/plain": [
       "<Figure size 1152x432 with 1 Axes>"
      ]
     },
     "execution_count": 23,
     "metadata": {},
     "output_type": "execute_result"
    },
    {
     "data": {
      "image/png": "[encoded data removed]",
      "text/plain": [
       "<Figure size 1152x432 with 1 Axes>"
      ]
     },
     "metadata": {},
     "output_type": "display_data"
    },
    {
     "data": {
      "image/png": "[encoded data removed]",
      "text/plain": [
       "<Figure size 1152x432 with 1 Axes>"
      ]
     },
     "metadata": {},
     "output_type": "display_data"
    }
   ],
   "source": [
    "plot_acf(df['prcfat'], lags=20)\n",
    "plot_pacf(df['prcfat'], lags=20)"
   ]
  },
  {
   "cell_type": "code",
   "execution_count": 24,
   "id": "destroyed-canal",
   "metadata": {},
   "outputs": [
    {
     "data": {
      "image/png": "[encoded data removed]",
      "text/plain": [
       "<Figure size 1152x432 with 1 Axes>"
      ]
     },
     "execution_count": 24,
     "metadata": {},
     "output_type": "execute_result"
    },
    {
     "data": {
      "image/png": "[encoded data removed]",
      "text/plain": [
       "<Figure size 1152x432 with 1 Axes>"
      ]
     },
     "metadata": {},
     "output_type": "display_data"
    },
    {
     "data": {
      "image/png": "[encoded data removed]",
      "text/plain": [
       "<Figure size 1152x432 with 1 Axes>"
      ]
     },
     "metadata": {},
     "output_type": "display_data"
    }
   ],
   "source": [
    "plot_acf(df['unem'], lags=20)\n",
    "plot_pacf(df['unem'], lags=20)"
   ]
  },
  {
   "cell_type": "markdown",
   "id": "sonic-divorce",
   "metadata": {},
   "source": [
    "## adf test"
   ]
  },
  {
   "cell_type": "code",
   "execution_count": 25,
   "id": "north-timothy",
   "metadata": {},
   "outputs": [
    {
     "name": "stdout",
     "output_type": "stream",
     "text": [
      " ADF statistic: -4.545, \n",
      " p-value: 0.001, \n",
      " critical value: {'1%': -4.045970933273362, '5%': -3.452348053635668, '10%': -3.1515755794286404}\n"
     ]
    }
   ],
   "source": [
    "X = df['prcfat'].values\n",
    "result1=adfuller(X,regression='ct',autolag='BIC',regresults=True,store=True)\n",
    "out = ' ADF statistic: {0:0.3f}, \\n p-value: {1:0.3f}, \\n critical value: {2}'\n",
    "print(out.format(result1[0], result1[1], result1[2]))"
   ]
  },
  {
   "cell_type": "code",
   "execution_count": 26,
   "id": "cooked-consistency",
   "metadata": {},
   "outputs": [
    {
     "name": "stdout",
     "output_type": "stream",
     "text": [
      " ADF statistic: -2.952, \n",
      " p-value: 0.146, \n",
      " critical value: {'1%': -4.045970933273362, '5%': -3.452348053635668, '10%': -3.1515755794286404}\n"
     ]
    }
   ],
   "source": [
    "X = df['unem'].values\n",
    "result1=adfuller(X,regression='ct',autolag='BIC',regresults=True,store=True)\n",
    "out = ' ADF statistic: {0:0.3f}, \\n p-value: {1:0.3f}, \\n critical value: {2}'\n",
    "print(out.format(result1[0], result1[1], result1[2]))"
   ]
  },
  {
   "cell_type": "markdown",
   "id": "operational-sauce",
   "metadata": {},
   "source": [
    "# (h)"
   ]
  },
  {
   "cell_type": "code",
   "execution_count": 27,
   "id": "relative-madagascar",
   "metadata": {},
   "outputs": [],
   "source": [
    "df['prcfat_D1'] = df['prcfat'].diff()\n",
    "df['unem_D1']   = df['unem'].diff()"
   ]
  },
  {
   "cell_type": "code",
   "execution_count": 28,
   "id": "governmental-miller",
   "metadata": {},
   "outputs": [
    {
     "data": {
      "text/plain": [
       "<AxesSubplot:xlabel='time'>"
      ]
     },
     "execution_count": 28,
     "metadata": {},
     "output_type": "execute_result"
    },
    {
     "data": {
      "image/png": "[encoded data removed]",
      "text/plain": [
       "<Figure size 1152x432 with 1 Axes>"
      ]
     },
     "metadata": {},
     "output_type": "display_data"
    }
   ],
   "source": [
    "df['prcfat_D1'].plot()\n",
    "df['prcfat'].plot()"
   ]
  },
  {
   "cell_type": "code",
   "execution_count": 29,
   "id": "collectible-constitution",
   "metadata": {},
   "outputs": [
    {
     "data": {
      "text/plain": [
       "<AxesSubplot:xlabel='time'>"
      ]
     },
     "execution_count": 29,
     "metadata": {},
     "output_type": "execute_result"
    },
    {
     "data": {
      "image/png": "[encoded data removed]",
      "text/plain": [
       "<Figure size 1152x432 with 1 Axes>"
      ]
     },
     "metadata": {},
     "output_type": "display_data"
    }
   ],
   "source": [
    "df['unem_D1'].plot()\n",
    "df['unem'].plot()"
   ]
  },
  {
   "cell_type": "code",
   "execution_count": 30,
   "id": "reserved-darkness",
   "metadata": {},
   "outputs": [
    {
     "name": "stdout",
     "output_type": "stream",
     "text": [
      "                            OLS Regression Results                            \n",
      "==============================================================================\n",
      "Dep. Variable:              prcfat_D1   R-squared:                       0.344\n",
      "Model:                            OLS   Adj. R-squared:                  0.227\n",
      "Method:                 Least Squares   F-statistic:                     2.945\n",
      "Date:                Thu, 23 Sep 2021   Prob (F-statistic):           0.000617\n",
      "Time:                        12:42:01   Log-Likelihood:                 146.27\n",
      "No. Observations:                 107   AIC:                            -258.5\n",
      "Df Residuals:                      90   BIC:                            -213.1\n",
      "Df Model:                          16                                         \n",
      "Covariance Type:            nonrobust                                         \n",
      "==============================================================================\n",
      "                 coef    std err          t      P>|t|      [0.025      0.975]\n",
      "------------------------------------------------------------------------------\n",
      "const         -0.1269      0.105     -1.210      0.229      -0.335       0.081\n",
      "t              0.0001      0.000      0.296      0.768      -0.001       0.001\n",
      "feb            0.0346      0.037      0.935      0.353      -0.039       0.108\n",
      "mar            0.0419      0.039      1.077      0.284      -0.035       0.119\n",
      "apr            0.0986      0.038      2.574      0.012       0.022       0.175\n",
      "may            0.0568      0.037      1.517      0.133      -0.018       0.131\n",
      "jun            0.0540      0.035      1.554      0.124      -0.015       0.123\n",
      "jul            0.0878      0.033      2.653      0.009       0.022       0.154\n",
      "aug            0.0589      0.040      1.485      0.141      -0.020       0.138\n",
      "sep            0.0065      0.038      0.172      0.864      -0.069       0.082\n",
      "oct           -0.0324      0.035     -0.920      0.360      -0.102       0.038\n",
      "nov           -0.0591      0.035     -1.669      0.099      -0.129       0.011\n",
      "dec            0.0273      0.036      0.751      0.455      -0.045       0.099\n",
      "wkends         0.0068      0.007      0.942      0.349      -0.008       0.021\n",
      "unem_D1        0.0125      0.016      0.778      0.439      -0.019       0.045\n",
      "spdlaw        -0.0072      0.024     -0.302      0.763      -0.054       0.040\n",
      "beltlaw        0.0008      0.027      0.031      0.975      -0.052       0.053\n",
      "==============================================================================\n",
      "Omnibus:                        0.939   Durbin-Watson:                   2.623\n",
      "Prob(Omnibus):                  0.625   Jarque-Bera (JB):                0.992\n",
      "Skew:                           0.215   Prob(JB):                        0.609\n",
      "Kurtosis:                       2.806   Cond. No.                     1.20e+03\n",
      "==============================================================================\n",
      "\n",
      "Notes:\n",
      "[1] Standard Errors assume that the covariance matrix of the errors is correctly specified.\n",
      "[2] The condition number is large, 1.2e+03. This might indicate that there are\n",
      "strong multicollinearity or other numerical problems.\n"
     ]
    }
   ],
   "source": [
    "X_h   = df[['const', 't', 'feb', 'mar', 'apr', 'may', 'jun', \n",
    "            'jul', 'aug','sep', 'oct', 'nov', 'dec',\n",
    "            'wkends', 'unem_D1', 'spdlaw', 'beltlaw']]\n",
    "Y_h   = df[['prcfat_D1']]\n",
    "M_OLS = sm.OLS(Y_h, X_h, missing='drop')\n",
    "\n",
    "OLS_result = M_OLS.fit()\n",
    "print(OLS_result.summary())"
   ]
  },
  {
   "cell_type": "code",
   "execution_count": 31,
   "id": "involved-string",
   "metadata": {},
   "outputs": [
    {
     "name": "stdout",
     "output_type": "stream",
     "text": [
      "[NbConvertApp] Converting notebook W6_Python.ipynb to html\n",
      "[NbConvertApp] Writing 954980 bytes to W6_Python.html\n",
      "[NbConvertApp] Converting notebook W6_Python.ipynb to pdf\n",
      "[NbConvertApp] Support files will be in W6_Python_files/\n",
      "[NbConvertApp] Making directory ./W6_Python_files\n",
      "[NbConvertApp] Making directory ./W6_Python_files\n",
      "[NbConvertApp] Making directory ./W6_Python_files\n",
      "[NbConvertApp] Making directory ./W6_Python_files\n",
      "[NbConvertApp] Making directory ./W6_Python_files\n",
      "[NbConvertApp] Making directory ./W6_Python_files\n",
      "[NbConvertApp] Making directory ./W6_Python_files\n",
      "[NbConvertApp] Making directory ./W6_Python_files\n",
      "[NbConvertApp] Making directory ./W6_Python_files\n",
      "[NbConvertApp] Making directory ./W6_Python_files\n",
      "[NbConvertApp] Making directory ./W6_Python_files\n",
      "[NbConvertApp] Writing 73545 bytes to notebook.tex\n",
      "[NbConvertApp] Building PDF\n",
      "[NbConvertApp] Running xelatex 3 times: ['xelatex', 'notebook.tex', '-quiet']\n",
      "[NbConvertApp] Running bibtex 1 time: ['bibtex', 'notebook']\n",
      "[NbConvertApp] WARNING | bibtex had problems, most likely because there were no citations\n",
      "[NbConvertApp] PDF successfully created\n",
      "[NbConvertApp] Writing 280776 bytes to W6_Python.pdf\n"
     ]
    }
   ],
   "source": [
    "!rm -rf W6_Python.html W6_Python.pdf\n",
    "!jupyter nbconvert --to html W6_Python.ipynb\n",
    "!jupyter nbconvert --to pdf  W6_Python.ipynb"
   ]
  },
  {
   "cell_type": "code",
   "execution_count": null,
   "id": "institutional-green",
   "metadata": {},
   "outputs": [],
   "source": []
  }
 ],
 "metadata": {
  "kernelspec": {
   "display_name": "Python 3 (ipykernel)",
   "language": "python",
   "name": "python3"
  },
  "language_info": {
   "codemirror_mode": {
    "name": "ipython",
    "version": 3
   },
   "file_extension": ".py",
   "mimetype": "text/x-python",
   "name": "python",
   "nbconvert_exporter": "python",
   "pygments_lexer": "ipython3",
   "version": "3.9.7"
  }
 },
 "nbformat": 4,
 "nbformat_minor": 5
}
