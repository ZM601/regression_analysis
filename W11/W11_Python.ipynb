{
 "cells": [
  {
   "cell_type": "code",
   "execution_count": 2,
   "id": "57cbcc3b-f90d-408d-acdc-42b02a8d6c5c",
   "metadata": {},
   "outputs": [],
   "source": [
    "%reset -f"
   ]
  },
  {
   "cell_type": "code",
   "execution_count": 3,
   "id": "1fb0cb36-7c65-4fd2-9479-f25a8ed85568",
   "metadata": {},
   "outputs": [],
   "source": [
    "import numpy             as np\n",
    "import statsmodels.api   as sm\n",
    "import pandas            as pd\n",
    "import scipy.stats       as stats\n",
    "import seaborn           as sns\n",
    "\n",
    "from statsmodels.discrete.discrete_model  import MNLogit\n",
    "from statsmodels.miscmodels.ordinal_model import OrderedModel\n",
    "from statsmodels.iolib.summary2           import summary_col"
   ]
  },
  {
   "cell_type": "code",
   "execution_count": 4,
   "id": "86ae8d5d-a254-40b1-bca8-64f30d5b7262",
   "metadata": {},
   "outputs": [],
   "source": [
    "df = pd.read_stata(\"drinks11.dta\")"
   ]
  },
  {
   "cell_type": "code",
   "execution_count": 5,
   "id": "d7719040-2bd8-4978-a6b3-60df2d23fa10",
   "metadata": {},
   "outputs": [
    {
     "data": {
      "text/plain": [
       "Index(['const', 'drinker', 'ednchs', 'edba', 'married', 'dchron', 'age40s',\n",
       "       'age50s', 'lninc', 'lninc2'],\n",
       "      dtype='object')"
      ]
     },
     "execution_count": 5,
     "metadata": {},
     "output_type": "execute_result"
    }
   ],
   "source": [
    "df = sm.add_constant(df)\n",
    "df.columns"
   ]
  },
  {
   "cell_type": "markdown",
   "id": "8c2a7308-087a-4b9b-a2b2-fa2b4bdabae1",
   "metadata": {},
   "source": [
    "# (a)"
   ]
  },
  {
   "cell_type": "code",
   "execution_count": 6,
   "id": "b27a63a5-64e9-48aa-931f-66ef332c9de6",
   "metadata": {},
   "outputs": [
    {
     "data": {
      "text/html": [
       "<div>\n",
       "<style scoped>\n",
       "    .dataframe tbody tr th:only-of-type {\n",
       "        vertical-align: middle;\n",
       "    }\n",
       "\n",
       "    .dataframe tbody tr th {\n",
       "        vertical-align: top;\n",
       "    }\n",
       "\n",
       "    .dataframe thead th {\n",
       "        text-align: right;\n",
       "    }\n",
       "</style>\n",
       "<table border=\"1\" class=\"dataframe\">\n",
       "  <thead>\n",
       "    <tr style=\"text-align: right;\">\n",
       "      <th></th>\n",
       "      <th>const</th>\n",
       "      <th>drinker</th>\n",
       "      <th>ednchs</th>\n",
       "      <th>edba</th>\n",
       "      <th>married</th>\n",
       "      <th>dchron</th>\n",
       "      <th>age40s</th>\n",
       "      <th>age50s</th>\n",
       "      <th>lninc</th>\n",
       "      <th>lninc2</th>\n",
       "    </tr>\n",
       "  </thead>\n",
       "  <tbody>\n",
       "    <tr>\n",
       "      <th>0</th>\n",
       "      <td>1.0</td>\n",
       "      <td>1.0</td>\n",
       "      <td>0.0</td>\n",
       "      <td>0.0</td>\n",
       "      <td>1.0</td>\n",
       "      <td>0.0</td>\n",
       "      <td>0.0</td>\n",
       "      <td>1.0</td>\n",
       "      <td>10.217751</td>\n",
       "      <td>104.402428</td>\n",
       "    </tr>\n",
       "    <tr>\n",
       "      <th>1</th>\n",
       "      <td>1.0</td>\n",
       "      <td>1.0</td>\n",
       "      <td>0.0</td>\n",
       "      <td>0.0</td>\n",
       "      <td>1.0</td>\n",
       "      <td>0.0</td>\n",
       "      <td>0.0</td>\n",
       "      <td>0.0</td>\n",
       "      <td>10.217751</td>\n",
       "      <td>104.402428</td>\n",
       "    </tr>\n",
       "    <tr>\n",
       "      <th>2</th>\n",
       "      <td>1.0</td>\n",
       "      <td>0.0</td>\n",
       "      <td>0.0</td>\n",
       "      <td>0.0</td>\n",
       "      <td>1.0</td>\n",
       "      <td>0.0</td>\n",
       "      <td>0.0</td>\n",
       "      <td>0.0</td>\n",
       "      <td>10.015000</td>\n",
       "      <td>100.300232</td>\n",
       "    </tr>\n",
       "    <tr>\n",
       "      <th>3</th>\n",
       "      <td>1.0</td>\n",
       "      <td>1.0</td>\n",
       "      <td>0.0</td>\n",
       "      <td>0.0</td>\n",
       "      <td>1.0</td>\n",
       "      <td>1.0</td>\n",
       "      <td>0.0</td>\n",
       "      <td>0.0</td>\n",
       "      <td>10.015000</td>\n",
       "      <td>100.300232</td>\n",
       "    </tr>\n",
       "    <tr>\n",
       "      <th>4</th>\n",
       "      <td>1.0</td>\n",
       "      <td>1.0</td>\n",
       "      <td>0.0</td>\n",
       "      <td>0.0</td>\n",
       "      <td>1.0</td>\n",
       "      <td>1.0</td>\n",
       "      <td>0.0</td>\n",
       "      <td>1.0</td>\n",
       "      <td>10.217751</td>\n",
       "      <td>104.402428</td>\n",
       "    </tr>\n",
       "  </tbody>\n",
       "</table>\n",
       "</div>"
      ],
      "text/plain": [
       "   const  drinker  ednchs  edba  married  dchron  age40s  age50s      lninc  \\\n",
       "0    1.0      1.0     0.0   0.0      1.0     0.0     0.0     1.0  10.217751   \n",
       "1    1.0      1.0     0.0   0.0      1.0     0.0     0.0     0.0  10.217751   \n",
       "2    1.0      0.0     0.0   0.0      1.0     0.0     0.0     0.0  10.015000   \n",
       "3    1.0      1.0     0.0   0.0      1.0     1.0     0.0     0.0  10.015000   \n",
       "4    1.0      1.0     0.0   0.0      1.0     1.0     0.0     1.0  10.217751   \n",
       "\n",
       "       lninc2  \n",
       "0  104.402428  \n",
       "1  104.402428  \n",
       "2  100.300232  \n",
       "3  100.300232  \n",
       "4  104.402428  "
      ]
     },
     "execution_count": 6,
     "metadata": {},
     "output_type": "execute_result"
    }
   ],
   "source": [
    "df.head()"
   ]
  },
  {
   "cell_type": "code",
   "execution_count": 7,
   "id": "ad915d9e-cb60-4913-b3d3-b6d97252df86",
   "metadata": {},
   "outputs": [
    {
     "data": {
      "text/html": [
       "<div>\n",
       "<style scoped>\n",
       "    .dataframe tbody tr th:only-of-type {\n",
       "        vertical-align: middle;\n",
       "    }\n",
       "\n",
       "    .dataframe tbody tr th {\n",
       "        vertical-align: top;\n",
       "    }\n",
       "\n",
       "    .dataframe thead th {\n",
       "        text-align: right;\n",
       "    }\n",
       "</style>\n",
       "<table border=\"1\" class=\"dataframe\">\n",
       "  <thead>\n",
       "    <tr style=\"text-align: right;\">\n",
       "      <th></th>\n",
       "      <th>const</th>\n",
       "      <th>drinker</th>\n",
       "      <th>ednchs</th>\n",
       "      <th>edba</th>\n",
       "      <th>married</th>\n",
       "      <th>dchron</th>\n",
       "      <th>age40s</th>\n",
       "      <th>age50s</th>\n",
       "      <th>lninc</th>\n",
       "      <th>lninc2</th>\n",
       "    </tr>\n",
       "  </thead>\n",
       "  <tbody>\n",
       "    <tr>\n",
       "      <th>count</th>\n",
       "      <td>880.0</td>\n",
       "      <td>880.000000</td>\n",
       "      <td>880.000000</td>\n",
       "      <td>880.000000</td>\n",
       "      <td>880.000000</td>\n",
       "      <td>880.000000</td>\n",
       "      <td>880.000000</td>\n",
       "      <td>880.000000</td>\n",
       "      <td>880.000000</td>\n",
       "      <td>880.000000</td>\n",
       "    </tr>\n",
       "    <tr>\n",
       "      <th>mean</th>\n",
       "      <td>1.0</td>\n",
       "      <td>1.050000</td>\n",
       "      <td>0.087500</td>\n",
       "      <td>0.117045</td>\n",
       "      <td>0.790909</td>\n",
       "      <td>0.180682</td>\n",
       "      <td>0.259091</td>\n",
       "      <td>0.150000</td>\n",
       "      <td>10.260110</td>\n",
       "      <td>105.430733</td>\n",
       "    </tr>\n",
       "    <tr>\n",
       "      <th>std</th>\n",
       "      <td>0.0</td>\n",
       "      <td>0.566208</td>\n",
       "      <td>0.282727</td>\n",
       "      <td>0.321657</td>\n",
       "      <td>0.406891</td>\n",
       "      <td>0.384973</td>\n",
       "      <td>0.438385</td>\n",
       "      <td>0.357275</td>\n",
       "      <td>0.401322</td>\n",
       "      <td>8.224646</td>\n",
       "    </tr>\n",
       "    <tr>\n",
       "      <th>min</th>\n",
       "      <td>1.0</td>\n",
       "      <td>0.000000</td>\n",
       "      <td>0.000000</td>\n",
       "      <td>0.000000</td>\n",
       "      <td>0.000000</td>\n",
       "      <td>0.000000</td>\n",
       "      <td>0.000000</td>\n",
       "      <td>0.000000</td>\n",
       "      <td>8.208450</td>\n",
       "      <td>67.378654</td>\n",
       "    </tr>\n",
       "    <tr>\n",
       "      <th>25%</th>\n",
       "      <td>1.0</td>\n",
       "      <td>1.000000</td>\n",
       "      <td>0.000000</td>\n",
       "      <td>0.000000</td>\n",
       "      <td>1.000000</td>\n",
       "      <td>0.000000</td>\n",
       "      <td>0.000000</td>\n",
       "      <td>0.000000</td>\n",
       "      <td>10.015000</td>\n",
       "      <td>100.300232</td>\n",
       "    </tr>\n",
       "    <tr>\n",
       "      <th>50%</th>\n",
       "      <td>1.0</td>\n",
       "      <td>1.000000</td>\n",
       "      <td>0.000000</td>\n",
       "      <td>0.000000</td>\n",
       "      <td>1.000000</td>\n",
       "      <td>0.000000</td>\n",
       "      <td>0.000000</td>\n",
       "      <td>0.000000</td>\n",
       "      <td>10.217751</td>\n",
       "      <td>104.402428</td>\n",
       "    </tr>\n",
       "    <tr>\n",
       "      <th>75%</th>\n",
       "      <td>1.0</td>\n",
       "      <td>1.000000</td>\n",
       "      <td>0.000000</td>\n",
       "      <td>0.000000</td>\n",
       "      <td>1.000000</td>\n",
       "      <td>0.000000</td>\n",
       "      <td>1.000000</td>\n",
       "      <td>0.000000</td>\n",
       "      <td>10.529850</td>\n",
       "      <td>110.877739</td>\n",
       "    </tr>\n",
       "    <tr>\n",
       "      <th>max</th>\n",
       "      <td>1.0</td>\n",
       "      <td>2.000000</td>\n",
       "      <td>1.000000</td>\n",
       "      <td>1.000000</td>\n",
       "      <td>1.000000</td>\n",
       "      <td>1.000000</td>\n",
       "      <td>1.000000</td>\n",
       "      <td>1.000000</td>\n",
       "      <td>11.351049</td>\n",
       "      <td>128.846329</td>\n",
       "    </tr>\n",
       "  </tbody>\n",
       "</table>\n",
       "</div>"
      ],
      "text/plain": [
       "       const     drinker      ednchs        edba     married      dchron  \\\n",
       "count  880.0  880.000000  880.000000  880.000000  880.000000  880.000000   \n",
       "mean     1.0    1.050000    0.087500    0.117045    0.790909    0.180682   \n",
       "std      0.0    0.566208    0.282727    0.321657    0.406891    0.384973   \n",
       "min      1.0    0.000000    0.000000    0.000000    0.000000    0.000000   \n",
       "25%      1.0    1.000000    0.000000    0.000000    1.000000    0.000000   \n",
       "50%      1.0    1.000000    0.000000    0.000000    1.000000    0.000000   \n",
       "75%      1.0    1.000000    0.000000    0.000000    1.000000    0.000000   \n",
       "max      1.0    2.000000    1.000000    1.000000    1.000000    1.000000   \n",
       "\n",
       "           age40s      age50s       lninc      lninc2  \n",
       "count  880.000000  880.000000  880.000000  880.000000  \n",
       "mean     0.259091    0.150000   10.260110  105.430733  \n",
       "std      0.438385    0.357275    0.401322    8.224646  \n",
       "min      0.000000    0.000000    8.208450   67.378654  \n",
       "25%      0.000000    0.000000   10.015000  100.300232  \n",
       "50%      0.000000    0.000000   10.217751  104.402428  \n",
       "75%      1.000000    0.000000   10.529850  110.877739  \n",
       "max      1.000000    1.000000   11.351049  128.846329  "
      ]
     },
     "execution_count": 7,
     "metadata": {},
     "output_type": "execute_result"
    }
   ],
   "source": [
    "df.describe()"
   ]
  },
  {
   "cell_type": "markdown",
   "id": "66a3f19b-ba89-4a94-872e-88b494734c3d",
   "metadata": {},
   "source": [
    "## frequency count"
   ]
  },
  {
   "cell_type": "code",
   "execution_count": 8,
   "id": "349588bb-ca13-4357-99a4-c5b70dd6cb71",
   "metadata": {},
   "outputs": [
    {
     "data": {
      "text/plain": [
       "1.0    596\n",
       "2.0    164\n",
       "0.0    120\n",
       "Name: drinker, dtype: int64"
      ]
     },
     "execution_count": 8,
     "metadata": {},
     "output_type": "execute_result"
    }
   ],
   "source": [
    "df['drinker'].value_counts()"
   ]
  },
  {
   "cell_type": "markdown",
   "id": "8dd6e017-1ac4-4102-ae77-52a3b7e1c59c",
   "metadata": {},
   "source": [
    "## percent table"
   ]
  },
  {
   "cell_type": "code",
   "execution_count": 9,
   "id": "d5be7248-caca-4c69-b0e6-59d42daa267d",
   "metadata": {},
   "outputs": [
    {
     "data": {
      "text/plain": [
       "1.0    0.677273\n",
       "2.0    0.186364\n",
       "0.0    0.136364\n",
       "Name: drinker, dtype: float64"
      ]
     },
     "execution_count": 9,
     "metadata": {},
     "output_type": "execute_result"
    }
   ],
   "source": [
    "df['drinker'].value_counts() / df['drinker'].count()"
   ]
  },
  {
   "cell_type": "markdown",
   "id": "d0384f19-1555-4e52-ae24-820e6c2fd4fa",
   "metadata": {},
   "source": [
    "# (b, d, e, f) ordered logit\n",
    "\n",
    "## you cannot have intercept \"constant\""
   ]
  },
  {
   "cell_type": "code",
   "execution_count": 10,
   "id": "946ab93e-197a-46df-afd2-1664d7817c4b",
   "metadata": {},
   "outputs": [
    {
     "name": "stdout",
     "output_type": "stream",
     "text": [
      "Optimization terminated successfully.\n",
      "         Current function value: 0.835466\n",
      "         Iterations: 25\n",
      "         Function evaluations: 26\n",
      "         Gradient evaluations: 26\n"
     ]
    },
    {
     "data": {
      "text/html": [
       "<table class=\"simpletable\">\n",
       "<caption>OrderedModel Results</caption>\n",
       "<tr>\n",
       "  <th>Dep. Variable:</th>          <td>drinker</td>      <th>  Log-Likelihood:    </th> <td> -735.21</td>\n",
       "</tr>\n",
       "<tr>\n",
       "  <th>Model:</th>               <td>OrderedModel</td>    <th>  AIC:               </th> <td>   1486.</td>\n",
       "</tr>\n",
       "<tr>\n",
       "  <th>Method:</th>           <td>Maximum Likelihood</td> <th>  BIC:               </th> <td>   1525.</td>\n",
       "</tr>\n",
       "<tr>\n",
       "  <th>Date:</th>              <td>Thu, 04 Nov 2021</td>  <th>                     </th>     <td> </td>   \n",
       "</tr>\n",
       "<tr>\n",
       "  <th>Time:</th>                  <td>02:51:29</td>      <th>                     </th>     <td> </td>   \n",
       "</tr>\n",
       "<tr>\n",
       "  <th>No. Observations:</th>       <td>   880</td>       <th>                     </th>     <td> </td>   \n",
       "</tr>\n",
       "<tr>\n",
       "  <th>Df Residuals:</th>           <td>   872</td>       <th>                     </th>     <td> </td>   \n",
       "</tr>\n",
       "<tr>\n",
       "  <th>Df Model:</th>               <td>     8</td>       <th>                     </th>     <td> </td>   \n",
       "</tr>\n",
       "</table>\n",
       "<table class=\"simpletable\">\n",
       "<tr>\n",
       "     <td></td>        <th>coef</th>     <th>std err</th>      <th>z</th>      <th>P>|z|</th>  <th>[0.025</th>    <th>0.975]</th>  \n",
       "</tr>\n",
       "<tr>\n",
       "  <th>age40s</th>  <td>   -0.3165</td> <td>    0.095</td> <td>   -3.334</td> <td> 0.001</td> <td>   -0.503</td> <td>   -0.130</td>\n",
       "</tr>\n",
       "<tr>\n",
       "  <th>age50s</th>  <td>   -0.4709</td> <td>    0.121</td> <td>   -3.886</td> <td> 0.000</td> <td>   -0.708</td> <td>   -0.233</td>\n",
       "</tr>\n",
       "<tr>\n",
       "  <th>ednchs</th>  <td>   -0.0649</td> <td>    0.144</td> <td>   -0.452</td> <td> 0.651</td> <td>   -0.346</td> <td>    0.217</td>\n",
       "</tr>\n",
       "<tr>\n",
       "  <th>edba</th>    <td>   -0.1339</td> <td>    0.124</td> <td>   -1.078</td> <td> 0.281</td> <td>   -0.377</td> <td>    0.109</td>\n",
       "</tr>\n",
       "<tr>\n",
       "  <th>married</th> <td>    0.0071</td> <td>    0.098</td> <td>    0.073</td> <td> 0.942</td> <td>   -0.184</td> <td>    0.198</td>\n",
       "</tr>\n",
       "<tr>\n",
       "  <th>dchron</th>  <td>    0.1323</td> <td>    0.106</td> <td>    1.253</td> <td> 0.210</td> <td>   -0.075</td> <td>    0.339</td>\n",
       "</tr>\n",
       "<tr>\n",
       "  <th>0.0/1.0</th> <td>   -1.2602</td> <td>    0.100</td> <td>  -12.662</td> <td> 0.000</td> <td>   -1.455</td> <td>   -1.065</td>\n",
       "</tr>\n",
       "<tr>\n",
       "  <th>1.0/2.0</th> <td>    0.7052</td> <td>    0.033</td> <td>   21.447</td> <td> 0.000</td> <td>    0.641</td> <td>    0.770</td>\n",
       "</tr>\n",
       "</table>"
      ],
      "text/plain": [
       "<class 'statsmodels.iolib.summary.Summary'>\n",
       "\"\"\"\n",
       "                             OrderedModel Results                             \n",
       "==============================================================================\n",
       "Dep. Variable:                drinker   Log-Likelihood:                -735.21\n",
       "Model:                   OrderedModel   AIC:                             1486.\n",
       "Method:            Maximum Likelihood   BIC:                             1525.\n",
       "Date:                Thu, 04 Nov 2021                                         \n",
       "Time:                        02:51:29                                         \n",
       "No. Observations:                 880                                         \n",
       "Df Residuals:                     872                                         \n",
       "Df Model:                           8                                         \n",
       "==============================================================================\n",
       "                 coef    std err          z      P>|z|      [0.025      0.975]\n",
       "------------------------------------------------------------------------------\n",
       "age40s        -0.3165      0.095     -3.334      0.001      -0.503      -0.130\n",
       "age50s        -0.4709      0.121     -3.886      0.000      -0.708      -0.233\n",
       "ednchs        -0.0649      0.144     -0.452      0.651      -0.346       0.217\n",
       "edba          -0.1339      0.124     -1.078      0.281      -0.377       0.109\n",
       "married        0.0071      0.098      0.073      0.942      -0.184       0.198\n",
       "dchron         0.1323      0.106      1.253      0.210      -0.075       0.339\n",
       "0.0/1.0       -1.2602      0.100    -12.662      0.000      -1.455      -1.065\n",
       "1.0/2.0        0.7052      0.033     21.447      0.000       0.641       0.770\n",
       "==============================================================================\n",
       "\"\"\""
      ]
     },
     "execution_count": 10,
     "metadata": {},
     "output_type": "execute_result"
    }
   ],
   "source": [
    "X0 = df[['age40s', 'age50s', 'ednchs', 'edba', 'married', 'dchron']]\n",
    "Y0 = df[['drinker']]\n",
    "\n",
    "Model0 = OrderedModel(Y0, X0, dist='logit').fit(method='bfgs')\n",
    "Model0.summary()"
   ]
  },
  {
   "cell_type": "code",
   "execution_count": 11,
   "id": "c9f03525-4e99-47ac-9dd7-f59a0e862287",
   "metadata": {},
   "outputs": [
    {
     "name": "stdout",
     "output_type": "stream",
     "text": [
      "Optimization terminated successfully.\n",
      "         Current function value: 0.829497\n",
      "         Iterations: 28\n",
      "         Function evaluations: 34\n",
      "         Gradient evaluations: 34\n"
     ]
    },
    {
     "data": {
      "text/html": [
       "<table class=\"simpletable\">\n",
       "<caption>OrderedModel Results</caption>\n",
       "<tr>\n",
       "  <th>Dep. Variable:</th>          <td>drinker</td>      <th>  Log-Likelihood:    </th> <td> -729.96</td>\n",
       "</tr>\n",
       "<tr>\n",
       "  <th>Model:</th>               <td>OrderedModel</td>    <th>  AIC:               </th> <td>   1480.</td>\n",
       "</tr>\n",
       "<tr>\n",
       "  <th>Method:</th>           <td>Maximum Likelihood</td> <th>  BIC:               </th> <td>   1528.</td>\n",
       "</tr>\n",
       "<tr>\n",
       "  <th>Date:</th>              <td>Thu, 04 Nov 2021</td>  <th>                     </th>     <td> </td>   \n",
       "</tr>\n",
       "<tr>\n",
       "  <th>Time:</th>                  <td>02:51:29</td>      <th>                     </th>     <td> </td>   \n",
       "</tr>\n",
       "<tr>\n",
       "  <th>No. Observations:</th>       <td>   880</td>       <th>                     </th>     <td> </td>   \n",
       "</tr>\n",
       "<tr>\n",
       "  <th>Df Residuals:</th>           <td>   870</td>       <th>                     </th>     <td> </td>   \n",
       "</tr>\n",
       "<tr>\n",
       "  <th>Df Model:</th>               <td>    10</td>       <th>                     </th>     <td> </td>   \n",
       "</tr>\n",
       "</table>\n",
       "<table class=\"simpletable\">\n",
       "<tr>\n",
       "     <td></td>        <th>coef</th>     <th>std err</th>      <th>z</th>      <th>P>|z|</th>  <th>[0.025</th>    <th>0.975]</th>  \n",
       "</tr>\n",
       "<tr>\n",
       "  <th>age40s</th>  <td>   -0.3428</td> <td>    0.096</td> <td>   -3.577</td> <td> 0.000</td> <td>   -0.531</td> <td>   -0.155</td>\n",
       "</tr>\n",
       "<tr>\n",
       "  <th>age50s</th>  <td>   -0.4957</td> <td>    0.122</td> <td>   -4.066</td> <td> 0.000</td> <td>   -0.735</td> <td>   -0.257</td>\n",
       "</tr>\n",
       "<tr>\n",
       "  <th>ednchs</th>  <td>   -0.0051</td> <td>    0.145</td> <td>   -0.035</td> <td> 0.972</td> <td>   -0.290</td> <td>    0.279</td>\n",
       "</tr>\n",
       "<tr>\n",
       "  <th>edba</th>    <td>   -0.2608</td> <td>    0.132</td> <td>   -1.973</td> <td> 0.048</td> <td>   -0.520</td> <td>   -0.002</td>\n",
       "</tr>\n",
       "<tr>\n",
       "  <th>married</th> <td>   -0.0505</td> <td>    0.099</td> <td>   -0.508</td> <td> 0.612</td> <td>   -0.245</td> <td>    0.144</td>\n",
       "</tr>\n",
       "<tr>\n",
       "  <th>dchron</th>  <td>    0.1485</td> <td>    0.106</td> <td>    1.401</td> <td> 0.161</td> <td>   -0.059</td> <td>    0.356</td>\n",
       "</tr>\n",
       "<tr>\n",
       "  <th>lninc</th>   <td>   -0.2910</td> <td>    2.401</td> <td>   -0.121</td> <td> 0.904</td> <td>   -4.997</td> <td>    4.415</td>\n",
       "</tr>\n",
       "<tr>\n",
       "  <th>lninc2</th>  <td>    0.0311</td> <td>    0.117</td> <td>    0.265</td> <td> 0.791</td> <td>   -0.199</td> <td>    0.261</td>\n",
       "</tr>\n",
       "<tr>\n",
       "  <th>0.0/1.0</th> <td>   -1.0395</td> <td>   12.277</td> <td>   -0.085</td> <td> 0.933</td> <td>  -25.103</td> <td>   23.024</td>\n",
       "</tr>\n",
       "<tr>\n",
       "  <th>1.0/2.0</th> <td>    0.7131</td> <td>    0.033</td> <td>   21.624</td> <td> 0.000</td> <td>    0.648</td> <td>    0.778</td>\n",
       "</tr>\n",
       "</table>"
      ],
      "text/plain": [
       "<class 'statsmodels.iolib.summary.Summary'>\n",
       "\"\"\"\n",
       "                             OrderedModel Results                             \n",
       "==============================================================================\n",
       "Dep. Variable:                drinker   Log-Likelihood:                -729.96\n",
       "Model:                   OrderedModel   AIC:                             1480.\n",
       "Method:            Maximum Likelihood   BIC:                             1528.\n",
       "Date:                Thu, 04 Nov 2021                                         \n",
       "Time:                        02:51:29                                         \n",
       "No. Observations:                 880                                         \n",
       "Df Residuals:                     870                                         \n",
       "Df Model:                          10                                         \n",
       "==============================================================================\n",
       "                 coef    std err          z      P>|z|      [0.025      0.975]\n",
       "------------------------------------------------------------------------------\n",
       "age40s        -0.3428      0.096     -3.577      0.000      -0.531      -0.155\n",
       "age50s        -0.4957      0.122     -4.066      0.000      -0.735      -0.257\n",
       "ednchs        -0.0051      0.145     -0.035      0.972      -0.290       0.279\n",
       "edba          -0.2608      0.132     -1.973      0.048      -0.520      -0.002\n",
       "married       -0.0505      0.099     -0.508      0.612      -0.245       0.144\n",
       "dchron         0.1485      0.106      1.401      0.161      -0.059       0.356\n",
       "lninc         -0.2910      2.401     -0.121      0.904      -4.997       4.415\n",
       "lninc2         0.0311      0.117      0.265      0.791      -0.199       0.261\n",
       "0.0/1.0       -1.0395     12.277     -0.085      0.933     -25.103      23.024\n",
       "1.0/2.0        0.7131      0.033     21.624      0.000       0.648       0.778\n",
       "==============================================================================\n",
       "\"\"\""
      ]
     },
     "execution_count": 11,
     "metadata": {},
     "output_type": "execute_result"
    }
   ],
   "source": [
    "X1 = df[['age40s', 'age50s', 'ednchs', 'edba', 'married', 'dchron', 'lninc', 'lninc2']]\n",
    "Y1 = df[['drinker']]\n",
    "\n",
    "Model1 = OrderedModel(Y1, X1, dist='logit').fit(method='bfgs')\n",
    "Model1.summary()"
   ]
  },
  {
   "cell_type": "markdown",
   "id": "c8563c83-4227-4dcc-8506-feaa05c1bd4a",
   "metadata": {},
   "source": [
    "# compare two ordinal regression"
   ]
  },
  {
   "cell_type": "code",
   "execution_count": 12,
   "id": "3a838dd2-8f1a-4e24-9a20-3d25fb7bca63",
   "metadata": {},
   "outputs": [
    {
     "name": "stdout",
     "output_type": "stream",
     "text": [
      "\n",
      "===========================================\n",
      "                        no inc    with inc \n",
      "-------------------------------------------\n",
      "0.0/1.0               -1.2602*** -1.0395   \n",
      "                      (0.0995)   (12.2774) \n",
      "1.0/2.0               0.7052***  0.7131*** \n",
      "                      (0.0329)   (0.0330)  \n",
      "age40s                -0.3165*** -0.3428***\n",
      "                      (0.0949)   (0.0958)  \n",
      "age50s                -0.4709*** -0.4957***\n",
      "                      (0.1212)   (0.1219)  \n",
      "dchron                0.1323     0.1485    \n",
      "                      (0.1056)   (0.1060)  \n",
      "edba                  -0.1339    -0.2608** \n",
      "                      (0.1242)   (0.1322)  \n",
      "ednchs                -0.0649    -0.0051   \n",
      "                      (0.1436)   (0.1452)  \n",
      "lninc                            -0.2910   \n",
      "                                 (2.4010)  \n",
      "lninc2                           0.0311    \n",
      "                                 (0.1174)  \n",
      "married               0.0071     -0.0505   \n",
      "                      (0.0975)   (0.0994)  \n",
      "sample size           880        880       \n",
      "log-likelihood        -735.21    -729.96   \n",
      "log-likelihood pvalue 0.00       0.00      \n",
      "AIC                   1486.42    1479.91   \n",
      "BIC                   1524.66    1527.71   \n",
      "===========================================\n",
      "Standard errors in parentheses.\n",
      "* p<.1, ** p<.05, ***p<.01\n"
     ]
    }
   ],
   "source": [
    "summary0 = summary_col(\n",
    "    [Model0, Model1], \n",
    "    stars=True, \n",
    "    float_format='%0.4f',\n",
    "    model_names=['no inc','with inc'],\n",
    "    info_dict={'sample size'   :lambda x: \"{0:d}\".format(int(x.nobs)),\n",
    "               'log-likelihood':lambda x: \"{:.2f}\".format(x.llf),\n",
    "               'log-likelihood pvalue':lambda x: \"{:.2f}\".format(x.llr_pvalue),\n",
    "               'AIC'           :lambda x: \"{:.2f}\".format(x.aic),\n",
    "               'BIC'           :lambda x: \"{:.2f}\".format(x.bic)})\n",
    "print(summary0)"
   ]
  },
  {
   "cell_type": "markdown",
   "id": "3b59fd00-6e3c-4fdc-bf28-7dc9a36f385b",
   "metadata": {},
   "source": [
    "## test on \"lninc\" and \"lninc2\"\n",
    "\n",
    "## here we use Wald likelihood ratio test : \n",
    "## $$\\beta_7 = 0, \\beta_8 = 0$$\n",
    "\n",
    "## we have 10 coefficients in this model: 8 slopes and 2 thresholds (cutoff points 0/1 and 1/2)\n",
    "## we have two constraints here : the 7th ($\\beta_7$) and 8th ($\\beta_8$) coefficients = 0\n",
    "\n",
    "## hence, the constraint matrix has two rows \n",
    "## * the first row represent the first constraint : 7th coefficient = 0; hence, the 7th value is 1, others are 0\n",
    "## * the second row represent the second constraint : 8th coefficient = 0; hence, the 8th value is 1, others are 0"
   ]
  },
  {
   "cell_type": "code",
   "execution_count": 31,
   "id": "01d598cd-cdc1-4ee9-aac0-dcb3c6634eab",
   "metadata": {},
   "outputs": [
    {
     "data": {
      "text/plain": [
       "<class 'statsmodels.stats.contrast.ContrastResults'>\n",
       "<Wald test (chi2): statistic=[[10.46916776]], p-value=0.005329041537730793, df_denom=2>"
      ]
     },
     "execution_count": 31,
     "metadata": {},
     "output_type": "execute_result"
    }
   ],
   "source": [
    "A = np.array(([0,0,0,0,0,0,1,0,0,0],\n",
    "              [0,0,0,0,0,0,0,1,0,0]))\n",
    "Model1.wald_test(A)"
   ]
  },
  {
   "cell_type": "markdown",
   "id": "b6cbf619-98f5-48ae-af1f-e275d429426f",
   "metadata": {},
   "source": [
    "## test on  \"lninc2\" : you can do a t-test"
   ]
  },
  {
   "cell_type": "code",
   "execution_count": 14,
   "id": "f7aa4d90-ec24-43c1-8751-4e8e585d7a05",
   "metadata": {},
   "outputs": [
    {
     "data": {
      "text/plain": [
       "<class 'statsmodels.stats.contrast.ContrastResults'>\n",
       "                             Test for Constraints                             \n",
       "==============================================================================\n",
       "                 coef    std err          z      P>|z|      [0.025      0.975]\n",
       "------------------------------------------------------------------------------\n",
       "c0             0.0311      0.117      0.265      0.791      -0.199       0.261\n",
       "=============================================================================="
      ]
     },
     "execution_count": 14,
     "metadata": {},
     "output_type": "execute_result"
    }
   ],
   "source": [
    "hypotheses = 'lninc2 = 0'\n",
    "Model1.t_test(hypotheses)"
   ]
  },
  {
   "cell_type": "markdown",
   "id": "d531fbbc-6298-41a4-b561-b2625b784585",
   "metadata": {},
   "source": [
    "# (g, h, i) multinominal logit"
   ]
  },
  {
   "cell_type": "code",
   "execution_count": 15,
   "id": "b07ed6d8-be77-4eec-ad24-5e59cdb161ee",
   "metadata": {},
   "outputs": [
    {
     "name": "stdout",
     "output_type": "stream",
     "text": [
      "Optimization terminated successfully.\n",
      "         Current function value: 0.822908\n",
      "         Iterations 6\n"
     ]
    },
    {
     "data": {
      "text/html": [
       "<table class=\"simpletable\">\n",
       "<caption>MNLogit Regression Results</caption>\n",
       "<tr>\n",
       "  <th>Dep. Variable:</th>        <td>drinker</td>     <th>  No. Observations:  </th>  <td>   880</td>  \n",
       "</tr>\n",
       "<tr>\n",
       "  <th>Model:</th>                <td>MNLogit</td>     <th>  Df Residuals:      </th>  <td>   866</td>  \n",
       "</tr>\n",
       "<tr>\n",
       "  <th>Method:</th>                 <td>MLE</td>       <th>  Df Model:          </th>  <td>    12</td>  \n",
       "</tr>\n",
       "<tr>\n",
       "  <th>Date:</th>            <td>Thu, 04 Nov 2021</td> <th>  Pseudo R-squ.:     </th>  <td>0.03041</td> \n",
       "</tr>\n",
       "<tr>\n",
       "  <th>Time:</th>                <td>02:51:31</td>     <th>  Log-Likelihood:    </th> <td> -724.16</td> \n",
       "</tr>\n",
       "<tr>\n",
       "  <th>converged:</th>             <td>True</td>       <th>  LL-Null:           </th> <td> -746.87</td> \n",
       "</tr>\n",
       "<tr>\n",
       "  <th>Covariance Type:</th>     <td>nonrobust</td>    <th>  LLR p-value:       </th> <td>8.720e-06</td>\n",
       "</tr>\n",
       "</table>\n",
       "<table class=\"simpletable\">\n",
       "<tr>\n",
       "  <th>drinker=1</th>    <th>coef</th>     <th>std err</th>      <th>z</th>      <th>P>|z|</th>  <th>[0.025</th>    <th>0.975]</th>  \n",
       "</tr>\n",
       "<tr>\n",
       "  <th>const</th>     <td>    1.2310</td> <td>    0.222</td> <td>    5.548</td> <td> 0.000</td> <td>    0.796</td> <td>    1.666</td>\n",
       "</tr>\n",
       "<tr>\n",
       "  <th>age40s</th>    <td>   -0.3169</td> <td>    0.235</td> <td>   -1.347</td> <td> 0.178</td> <td>   -0.778</td> <td>    0.144</td>\n",
       "</tr>\n",
       "<tr>\n",
       "  <th>age50s</th>    <td>   -0.2370</td> <td>    0.294</td> <td>   -0.805</td> <td> 0.421</td> <td>   -0.814</td> <td>    0.340</td>\n",
       "</tr>\n",
       "<tr>\n",
       "  <th>ednchs</th>    <td>   -0.1722</td> <td>    0.341</td> <td>   -0.505</td> <td> 0.613</td> <td>   -0.840</td> <td>    0.496</td>\n",
       "</tr>\n",
       "<tr>\n",
       "  <th>edba</th>      <td>    0.3093</td> <td>    0.332</td> <td>    0.931</td> <td> 0.352</td> <td>   -0.342</td> <td>    0.961</td>\n",
       "</tr>\n",
       "<tr>\n",
       "  <th>married</th>   <td>    0.4917</td> <td>    0.238</td> <td>    2.063</td> <td> 0.039</td> <td>    0.025</td> <td>    0.959</td>\n",
       "</tr>\n",
       "<tr>\n",
       "  <th>dchron</th>    <td>    0.6347</td> <td>    0.303</td> <td>    2.098</td> <td> 0.036</td> <td>    0.042</td> <td>    1.228</td>\n",
       "</tr>\n",
       "<tr>\n",
       "  <th>drinker=2</th>    <th>coef</th>     <th>std err</th>      <th>z</th>      <th>P>|z|</th>  <th>[0.025</th>    <th>0.975]</th>  \n",
       "</tr>\n",
       "<tr>\n",
       "  <th>const</th>     <td>    0.6047</td> <td>    0.253</td> <td>    2.387</td> <td> 0.017</td> <td>    0.108</td> <td>    1.101</td>\n",
       "</tr>\n",
       "<tr>\n",
       "  <th>age40s</th>    <td>   -0.9260</td> <td>    0.295</td> <td>   -3.134</td> <td> 0.002</td> <td>   -1.505</td> <td>   -0.347</td>\n",
       "</tr>\n",
       "<tr>\n",
       "  <th>age50s</th>    <td>   -1.6593</td> <td>    0.445</td> <td>   -3.725</td> <td> 0.000</td> <td>   -2.532</td> <td>   -0.786</td>\n",
       "</tr>\n",
       "<tr>\n",
       "  <th>ednchs</th>    <td>   -0.1756</td> <td>    0.448</td> <td>   -0.392</td> <td> 0.695</td> <td>   -1.053</td> <td>    0.702</td>\n",
       "</tr>\n",
       "<tr>\n",
       "  <th>edba</th>      <td>   -0.3632</td> <td>    0.426</td> <td>   -0.853</td> <td> 0.393</td> <td>   -1.197</td> <td>    0.471</td>\n",
       "</tr>\n",
       "<tr>\n",
       "  <th>married</th>   <td>    0.1211</td> <td>    0.280</td> <td>    0.432</td> <td> 0.665</td> <td>   -0.428</td> <td>    0.670</td>\n",
       "</tr>\n",
       "<tr>\n",
       "  <th>dchron</th>    <td>    0.5346</td> <td>    0.364</td> <td>    1.469</td> <td> 0.142</td> <td>   -0.179</td> <td>    1.248</td>\n",
       "</tr>\n",
       "</table>"
      ],
      "text/plain": [
       "<class 'statsmodels.iolib.summary.Summary'>\n",
       "\"\"\"\n",
       "                          MNLogit Regression Results                          \n",
       "==============================================================================\n",
       "Dep. Variable:                drinker   No. Observations:                  880\n",
       "Model:                        MNLogit   Df Residuals:                      866\n",
       "Method:                           MLE   Df Model:                           12\n",
       "Date:                Thu, 04 Nov 2021   Pseudo R-squ.:                 0.03041\n",
       "Time:                        02:51:31   Log-Likelihood:                -724.16\n",
       "converged:                       True   LL-Null:                       -746.87\n",
       "Covariance Type:            nonrobust   LLR p-value:                 8.720e-06\n",
       "==============================================================================\n",
       " drinker=1       coef    std err          z      P>|z|      [0.025      0.975]\n",
       "------------------------------------------------------------------------------\n",
       "const          1.2310      0.222      5.548      0.000       0.796       1.666\n",
       "age40s        -0.3169      0.235     -1.347      0.178      -0.778       0.144\n",
       "age50s        -0.2370      0.294     -0.805      0.421      -0.814       0.340\n",
       "ednchs        -0.1722      0.341     -0.505      0.613      -0.840       0.496\n",
       "edba           0.3093      0.332      0.931      0.352      -0.342       0.961\n",
       "married        0.4917      0.238      2.063      0.039       0.025       0.959\n",
       "dchron         0.6347      0.303      2.098      0.036       0.042       1.228\n",
       "------------------------------------------------------------------------------\n",
       " drinker=2       coef    std err          z      P>|z|      [0.025      0.975]\n",
       "------------------------------------------------------------------------------\n",
       "const          0.6047      0.253      2.387      0.017       0.108       1.101\n",
       "age40s        -0.9260      0.295     -3.134      0.002      -1.505      -0.347\n",
       "age50s        -1.6593      0.445     -3.725      0.000      -2.532      -0.786\n",
       "ednchs        -0.1756      0.448     -0.392      0.695      -1.053       0.702\n",
       "edba          -0.3632      0.426     -0.853      0.393      -1.197       0.471\n",
       "married        0.1211      0.280      0.432      0.665      -0.428       0.670\n",
       "dchron         0.5346      0.364      1.469      0.142      -0.179       1.248\n",
       "==============================================================================\n",
       "\"\"\""
      ]
     },
     "execution_count": 15,
     "metadata": {},
     "output_type": "execute_result"
    }
   ],
   "source": [
    "X2 = df[['const', 'age40s', 'age50s', 'ednchs', 'edba', 'married', 'dchron']]\n",
    "Y2 = df[['drinker']]\n",
    "\n",
    "Model2 = MNLogit(Y2, X2, check_rank=True).fit()\n",
    "Model2.summary()"
   ]
  },
  {
   "cell_type": "markdown",
   "id": "5fe4ddd1-cdc7-474f-895b-412bc47df429",
   "metadata": {},
   "source": [
    "## average marginal effects"
   ]
  },
  {
   "cell_type": "code",
   "execution_count": 16,
   "id": "1f770531-4d80-44f4-9e3c-70fb058b1733",
   "metadata": {},
   "outputs": [
    {
     "name": "stdout",
     "output_type": "stream",
     "text": [
      "       MNLogit Marginal Effects      \n",
      "=====================================\n",
      "Dep. Variable:                drinker\n",
      "Method:                          dydx\n",
      "At:                           overall\n",
      "==============================================================================\n",
      " drinker=0      dy/dx    std err          z      P>|z|      [0.025      0.975]\n",
      "------------------------------------------------------------------------------\n",
      "age40s         0.0518      0.027      1.945      0.052      -0.000       0.104\n",
      "age50s         0.0626      0.034      1.867      0.062      -0.003       0.128\n",
      "ednchs         0.0201      0.039      0.515      0.606      -0.056       0.097\n",
      "edba          -0.0194      0.038     -0.509      0.611      -0.094       0.055\n",
      "married       -0.0480      0.027     -1.784      0.074      -0.101       0.005\n",
      "dchron        -0.0713      0.035     -2.045      0.041      -0.140      -0.003\n",
      "------------------------------------------------------------------------------\n",
      " drinker=1      dy/dx    std err          z      P>|z|      [0.025      0.975]\n",
      "------------------------------------------------------------------------------\n",
      "age40s         0.0450      0.038      1.186      0.235      -0.029       0.119\n",
      "age50s         0.1511      0.055      2.724      0.006       0.042       0.260\n",
      "ednchs        -0.0154      0.058     -0.265      0.791      -0.129       0.098\n",
      "edba           0.1100      0.052      2.112      0.035       0.008       0.212\n",
      "married        0.0900      0.037      2.449      0.014       0.018       0.162\n",
      "dchron         0.0703      0.044      1.607      0.108      -0.015       0.156\n",
      "------------------------------------------------------------------------------\n",
      " drinker=2      dy/dx    std err          z      P>|z|      [0.025      0.975]\n",
      "------------------------------------------------------------------------------\n",
      "age40s        -0.0968      0.032     -2.997      0.003      -0.160      -0.033\n",
      "age50s        -0.2137      0.054     -3.961      0.000      -0.319      -0.108\n",
      "ednchs        -0.0047      0.052     -0.092      0.927      -0.106       0.096\n",
      "edba          -0.0907      0.046     -1.978      0.048      -0.180      -0.001\n",
      "married       -0.0420      0.030     -1.410      0.159      -0.100       0.016\n",
      "dchron         0.0010      0.036      0.028      0.978      -0.070       0.072\n",
      "==============================================================================\n"
     ]
    }
   ],
   "source": [
    "Model2_me = Model2.get_margeff()\n",
    "\n",
    "print(Model2_me.summary())"
   ]
  },
  {
   "cell_type": "markdown",
   "id": "343cb01f-eca5-4c0c-afee-1102bee96e13",
   "metadata": {},
   "source": [
    "## test on \"lninc\" and \"lninc2\""
   ]
  },
  {
   "cell_type": "code",
   "execution_count": 17,
   "id": "21a37e5b-8c81-48ae-b627-40710a2ee3d3",
   "metadata": {},
   "outputs": [
    {
     "name": "stdout",
     "output_type": "stream",
     "text": [
      "Optimization terminated successfully.\n",
      "         Current function value: 0.813611\n",
      "         Iterations 7\n"
     ]
    },
    {
     "data": {
      "text/html": [
       "<table class=\"simpletable\">\n",
       "<caption>MNLogit Regression Results</caption>\n",
       "<tr>\n",
       "  <th>Dep. Variable:</th>        <td>drinker</td>     <th>  No. Observations:  </th>  <td>   880</td>  \n",
       "</tr>\n",
       "<tr>\n",
       "  <th>Model:</th>                <td>MNLogit</td>     <th>  Df Residuals:      </th>  <td>   862</td>  \n",
       "</tr>\n",
       "<tr>\n",
       "  <th>Method:</th>                 <td>MLE</td>       <th>  Df Model:          </th>  <td>    16</td>  \n",
       "</tr>\n",
       "<tr>\n",
       "  <th>Date:</th>            <td>Thu, 04 Nov 2021</td> <th>  Pseudo R-squ.:     </th>  <td>0.04136</td> \n",
       "</tr>\n",
       "<tr>\n",
       "  <th>Time:</th>                <td>02:51:32</td>     <th>  Log-Likelihood:    </th> <td> -715.98</td> \n",
       "</tr>\n",
       "<tr>\n",
       "  <th>converged:</th>             <td>True</td>       <th>  LL-Null:           </th> <td> -746.87</td> \n",
       "</tr>\n",
       "<tr>\n",
       "  <th>Covariance Type:</th>     <td>nonrobust</td>    <th>  LLR p-value:       </th> <td>2.611e-07</td>\n",
       "</tr>\n",
       "</table>\n",
       "<table class=\"simpletable\">\n",
       "<tr>\n",
       "  <th>drinker=1</th>    <th>coef</th>     <th>std err</th>      <th>z</th>      <th>P>|z|</th>  <th>[0.025</th>    <th>0.975]</th>  \n",
       "</tr>\n",
       "<tr>\n",
       "  <th>const</th>     <td>   67.1506</td> <td>   40.083</td> <td>    1.675</td> <td> 0.094</td> <td>  -11.410</td> <td>  145.711</td>\n",
       "</tr>\n",
       "<tr>\n",
       "  <th>age40s</th>    <td>   -0.4010</td> <td>    0.238</td> <td>   -1.685</td> <td> 0.092</td> <td>   -0.868</td> <td>    0.066</td>\n",
       "</tr>\n",
       "<tr>\n",
       "  <th>age50s</th>    <td>   -0.2978</td> <td>    0.297</td> <td>   -1.004</td> <td> 0.315</td> <td>   -0.879</td> <td>    0.283</td>\n",
       "</tr>\n",
       "<tr>\n",
       "  <th>ednchs</th>    <td>   -0.0491</td> <td>    0.343</td> <td>   -0.143</td> <td> 0.886</td> <td>   -0.721</td> <td>    0.623</td>\n",
       "</tr>\n",
       "<tr>\n",
       "  <th>edba</th>      <td>   -0.0537</td> <td>    0.354</td> <td>   -0.152</td> <td> 0.880</td> <td>   -0.748</td> <td>    0.641</td>\n",
       "</tr>\n",
       "<tr>\n",
       "  <th>married</th>   <td>    0.4011</td> <td>    0.243</td> <td>    1.649</td> <td> 0.099</td> <td>   -0.076</td> <td>    0.878</td>\n",
       "</tr>\n",
       "<tr>\n",
       "  <th>dchron</th>    <td>    0.6703</td> <td>    0.304</td> <td>    2.204</td> <td> 0.028</td> <td>    0.074</td> <td>    1.266</td>\n",
       "</tr>\n",
       "<tr>\n",
       "  <th>lninc</th>     <td>  -13.6721</td> <td>    7.909</td> <td>   -1.729</td> <td> 0.084</td> <td>  -29.174</td> <td>    1.830</td>\n",
       "</tr>\n",
       "<tr>\n",
       "  <th>lninc2</th>    <td>    0.7070</td> <td>    0.390</td> <td>    1.811</td> <td> 0.070</td> <td>   -0.058</td> <td>    1.472</td>\n",
       "</tr>\n",
       "<tr>\n",
       "  <th>drinker=2</th>    <th>coef</th>     <th>std err</th>      <th>z</th>      <th>P>|z|</th>  <th>[0.025</th>    <th>0.975]</th>  \n",
       "</tr>\n",
       "<tr>\n",
       "  <th>const</th>     <td>    9.6973</td> <td>   56.868</td> <td>    0.171</td> <td> 0.865</td> <td> -101.761</td> <td>  121.156</td>\n",
       "</tr>\n",
       "<tr>\n",
       "  <th>age40s</th>    <td>   -1.0273</td> <td>    0.300</td> <td>   -3.423</td> <td> 0.001</td> <td>   -1.616</td> <td>   -0.439</td>\n",
       "</tr>\n",
       "<tr>\n",
       "  <th>age50s</th>    <td>   -1.7305</td> <td>    0.450</td> <td>   -3.845</td> <td> 0.000</td> <td>   -2.613</td> <td>   -0.848</td>\n",
       "</tr>\n",
       "<tr>\n",
       "  <th>ednchs</th>    <td>    0.0412</td> <td>    0.453</td> <td>    0.091</td> <td> 0.927</td> <td>   -0.846</td> <td>    0.929</td>\n",
       "</tr>\n",
       "<tr>\n",
       "  <th>edba</th>      <td>   -0.8210</td> <td>    0.451</td> <td>   -1.822</td> <td> 0.069</td> <td>   -1.704</td> <td>    0.062</td>\n",
       "</tr>\n",
       "<tr>\n",
       "  <th>married</th>   <td>   -0.0502</td> <td>    0.287</td> <td>   -0.175</td> <td> 0.861</td> <td>   -0.612</td> <td>    0.512</td>\n",
       "</tr>\n",
       "<tr>\n",
       "  <th>dchron</th>    <td>    0.5888</td> <td>    0.367</td> <td>    1.606</td> <td> 0.108</td> <td>   -0.130</td> <td>    1.307</td>\n",
       "</tr>\n",
       "<tr>\n",
       "  <th>lninc</th>     <td>   -3.0720</td> <td>   11.107</td> <td>   -0.277</td> <td> 0.782</td> <td>  -24.842</td> <td>   18.698</td>\n",
       "</tr>\n",
       "<tr>\n",
       "  <th>lninc2</th>    <td>    0.2149</td> <td>    0.543</td> <td>    0.396</td> <td> 0.692</td> <td>   -0.848</td> <td>    1.278</td>\n",
       "</tr>\n",
       "</table>"
      ],
      "text/plain": [
       "<class 'statsmodels.iolib.summary.Summary'>\n",
       "\"\"\"\n",
       "                          MNLogit Regression Results                          \n",
       "==============================================================================\n",
       "Dep. Variable:                drinker   No. Observations:                  880\n",
       "Model:                        MNLogit   Df Residuals:                      862\n",
       "Method:                           MLE   Df Model:                           16\n",
       "Date:                Thu, 04 Nov 2021   Pseudo R-squ.:                 0.04136\n",
       "Time:                        02:51:32   Log-Likelihood:                -715.98\n",
       "converged:                       True   LL-Null:                       -746.87\n",
       "Covariance Type:            nonrobust   LLR p-value:                 2.611e-07\n",
       "==============================================================================\n",
       " drinker=1       coef    std err          z      P>|z|      [0.025      0.975]\n",
       "------------------------------------------------------------------------------\n",
       "const         67.1506     40.083      1.675      0.094     -11.410     145.711\n",
       "age40s        -0.4010      0.238     -1.685      0.092      -0.868       0.066\n",
       "age50s        -0.2978      0.297     -1.004      0.315      -0.879       0.283\n",
       "ednchs        -0.0491      0.343     -0.143      0.886      -0.721       0.623\n",
       "edba          -0.0537      0.354     -0.152      0.880      -0.748       0.641\n",
       "married        0.4011      0.243      1.649      0.099      -0.076       0.878\n",
       "dchron         0.6703      0.304      2.204      0.028       0.074       1.266\n",
       "lninc        -13.6721      7.909     -1.729      0.084     -29.174       1.830\n",
       "lninc2         0.7070      0.390      1.811      0.070      -0.058       1.472\n",
       "------------------------------------------------------------------------------\n",
       " drinker=2       coef    std err          z      P>|z|      [0.025      0.975]\n",
       "------------------------------------------------------------------------------\n",
       "const          9.6973     56.868      0.171      0.865    -101.761     121.156\n",
       "age40s        -1.0273      0.300     -3.423      0.001      -1.616      -0.439\n",
       "age50s        -1.7305      0.450     -3.845      0.000      -2.613      -0.848\n",
       "ednchs         0.0412      0.453      0.091      0.927      -0.846       0.929\n",
       "edba          -0.8210      0.451     -1.822      0.069      -1.704       0.062\n",
       "married       -0.0502      0.287     -0.175      0.861      -0.612       0.512\n",
       "dchron         0.5888      0.367      1.606      0.108      -0.130       1.307\n",
       "lninc         -3.0720     11.107     -0.277      0.782     -24.842      18.698\n",
       "lninc2         0.2149      0.543      0.396      0.692      -0.848       1.278\n",
       "==============================================================================\n",
       "\"\"\""
      ]
     },
     "execution_count": 17,
     "metadata": {},
     "output_type": "execute_result"
    }
   ],
   "source": [
    "X3 = df[['const', 'age40s', 'age50s', 'ednchs', 'edba', 'married', 'dchron', 'lninc', 'lninc2']]\n",
    "Y3 = df[['drinker']]\n",
    "\n",
    "Model3 = MNLogit(Y3, X3, check_rank=True).fit()\n",
    "Model3.summary()"
   ]
  },
  {
   "cell_type": "code",
   "execution_count": 18,
   "id": "11643a5a-99f8-484a-882f-843c4787c82b",
   "metadata": {},
   "outputs": [
    {
     "data": {
      "text/plain": [
       "<class 'statsmodels.stats.contrast.ContrastResults'>\n",
       "<Wald test (chi2): statistic=[[526.2662894]], p-value=1.3949227382088514e-112, df_denom=4>"
      ]
     },
     "execution_count": 18,
     "metadata": {},
     "output_type": "execute_result"
    }
   ],
   "source": [
    "A = np.array(([0,0,0,0,0,0,0,1,0,0,0,0,0,0,0,0,0,0], \n",
    "              [0,0,0,0,0,0,0,0,1,0,0,0,0,0,0,0,0,0],\n",
    "              [0,0,0,0,0,0,0,0,0,0,0,0,0,0,0,0,1,0], \n",
    "              [0,0,0,0,0,0,0,0,0,0,0,0,0,0,0,0,0,1]))\n",
    "\n",
    "Model3.wald_test(A)"
   ]
  },
  {
   "cell_type": "markdown",
   "id": "27dc4651-ef2b-488d-a42d-4ebfbfdad924",
   "metadata": {},
   "source": [
    "# (j) multinomial logit with a linear term in \"lninc\""
   ]
  },
  {
   "cell_type": "code",
   "execution_count": 19,
   "id": "1403dbe4-49f7-4a4d-99b9-f28002ba8c57",
   "metadata": {},
   "outputs": [
    {
     "name": "stdout",
     "output_type": "stream",
     "text": [
      "Optimization terminated successfully.\n",
      "         Current function value: 0.816920\n",
      "         Iterations 6\n"
     ]
    },
    {
     "data": {
      "text/html": [
       "<table class=\"simpletable\">\n",
       "<caption>MNLogit Regression Results</caption>\n",
       "<tr>\n",
       "  <th>Dep. Variable:</th>        <td>drinker</td>     <th>  No. Observations:  </th>  <td>   880</td>  \n",
       "</tr>\n",
       "<tr>\n",
       "  <th>Model:</th>                <td>MNLogit</td>     <th>  Df Residuals:      </th>  <td>   864</td>  \n",
       "</tr>\n",
       "<tr>\n",
       "  <th>Method:</th>                 <td>MLE</td>       <th>  Df Model:          </th>  <td>    14</td>  \n",
       "</tr>\n",
       "<tr>\n",
       "  <th>Date:</th>            <td>Thu, 04 Nov 2021</td> <th>  Pseudo R-squ.:     </th>  <td>0.03746</td> \n",
       "</tr>\n",
       "<tr>\n",
       "  <th>Time:</th>                <td>02:51:33</td>     <th>  Log-Likelihood:    </th> <td> -718.89</td> \n",
       "</tr>\n",
       "<tr>\n",
       "  <th>converged:</th>             <td>True</td>       <th>  LL-Null:           </th> <td> -746.87</td> \n",
       "</tr>\n",
       "<tr>\n",
       "  <th>Covariance Type:</th>     <td>nonrobust</td>    <th>  LLR p-value:       </th> <td>5.912e-07</td>\n",
       "</tr>\n",
       "</table>\n",
       "<table class=\"simpletable\">\n",
       "<tr>\n",
       "  <th>drinker=1</th>    <th>coef</th>     <th>std err</th>      <th>z</th>      <th>P>|z|</th>  <th>[0.025</th>    <th>0.975]</th>  \n",
       "</tr>\n",
       "<tr>\n",
       "  <th>const</th>     <td>   -4.7459</td> <td>    2.623</td> <td>   -1.809</td> <td> 0.070</td> <td>   -9.887</td> <td>    0.395</td>\n",
       "</tr>\n",
       "<tr>\n",
       "  <th>age40s</th>    <td>   -0.3462</td> <td>    0.236</td> <td>   -1.466</td> <td> 0.143</td> <td>   -0.809</td> <td>    0.117</td>\n",
       "</tr>\n",
       "<tr>\n",
       "  <th>age50s</th>    <td>   -0.2705</td> <td>    0.295</td> <td>   -0.917</td> <td> 0.359</td> <td>   -0.849</td> <td>    0.308</td>\n",
       "</tr>\n",
       "<tr>\n",
       "  <th>ednchs</th>    <td>   -0.0862</td> <td>    0.343</td> <td>   -0.252</td> <td> 0.801</td> <td>   -0.758</td> <td>    0.585</td>\n",
       "</tr>\n",
       "<tr>\n",
       "  <th>edba</th>      <td>    0.1148</td> <td>    0.344</td> <td>    0.333</td> <td> 0.739</td> <td>   -0.560</td> <td>    0.790</td>\n",
       "</tr>\n",
       "<tr>\n",
       "  <th>married</th>   <td>    0.3842</td> <td>    0.244</td> <td>    1.576</td> <td> 0.115</td> <td>   -0.094</td> <td>    0.862</td>\n",
       "</tr>\n",
       "<tr>\n",
       "  <th>dchron</th>    <td>    0.6611</td> <td>    0.304</td> <td>    2.178</td> <td> 0.029</td> <td>    0.066</td> <td>    1.256</td>\n",
       "</tr>\n",
       "<tr>\n",
       "  <th>lninc</th>     <td>    0.5954</td> <td>    0.261</td> <td>    2.282</td> <td> 0.023</td> <td>    0.084</td> <td>    1.107</td>\n",
       "</tr>\n",
       "<tr>\n",
       "  <th>drinker=2</th>    <th>coef</th>     <th>std err</th>      <th>z</th>      <th>P>|z|</th>  <th>[0.025</th>    <th>0.975]</th>  \n",
       "</tr>\n",
       "<tr>\n",
       "  <th>const</th>     <td>  -10.1579</td> <td>    3.364</td> <td>   -3.019</td> <td> 0.003</td> <td>  -16.752</td> <td>   -3.564</td>\n",
       "</tr>\n",
       "<tr>\n",
       "  <th>age40s</th>    <td>   -0.9987</td> <td>    0.299</td> <td>   -3.342</td> <td> 0.001</td> <td>   -1.584</td> <td>   -0.413</td>\n",
       "</tr>\n",
       "<tr>\n",
       "  <th>age50s</th>    <td>   -1.7374</td> <td>    0.449</td> <td>   -3.873</td> <td> 0.000</td> <td>   -2.617</td> <td>   -0.858</td>\n",
       "</tr>\n",
       "<tr>\n",
       "  <th>ednchs</th>    <td>    0.0115</td> <td>    0.452</td> <td>    0.025</td> <td> 0.980</td> <td>   -0.875</td> <td>    0.898</td>\n",
       "</tr>\n",
       "<tr>\n",
       "  <th>edba</th>      <td>   -0.7237</td> <td>    0.444</td> <td>   -1.631</td> <td> 0.103</td> <td>   -1.594</td> <td>    0.146</td>\n",
       "</tr>\n",
       "<tr>\n",
       "  <th>married</th>   <td>   -0.0555</td> <td>    0.288</td> <td>   -0.193</td> <td> 0.847</td> <td>   -0.619</td> <td>    0.508</td>\n",
       "</tr>\n",
       "<tr>\n",
       "  <th>dchron</th>    <td>    0.5868</td> <td>    0.366</td> <td>    1.603</td> <td> 0.109</td> <td>   -0.131</td> <td>    1.304</td>\n",
       "</tr>\n",
       "<tr>\n",
       "  <th>lninc</th>     <td>    1.0680</td> <td>    0.333</td> <td>    3.207</td> <td> 0.001</td> <td>    0.415</td> <td>    1.721</td>\n",
       "</tr>\n",
       "</table>"
      ],
      "text/plain": [
       "<class 'statsmodels.iolib.summary.Summary'>\n",
       "\"\"\"\n",
       "                          MNLogit Regression Results                          \n",
       "==============================================================================\n",
       "Dep. Variable:                drinker   No. Observations:                  880\n",
       "Model:                        MNLogit   Df Residuals:                      864\n",
       "Method:                           MLE   Df Model:                           14\n",
       "Date:                Thu, 04 Nov 2021   Pseudo R-squ.:                 0.03746\n",
       "Time:                        02:51:33   Log-Likelihood:                -718.89\n",
       "converged:                       True   LL-Null:                       -746.87\n",
       "Covariance Type:            nonrobust   LLR p-value:                 5.912e-07\n",
       "==============================================================================\n",
       " drinker=1       coef    std err          z      P>|z|      [0.025      0.975]\n",
       "------------------------------------------------------------------------------\n",
       "const         -4.7459      2.623     -1.809      0.070      -9.887       0.395\n",
       "age40s        -0.3462      0.236     -1.466      0.143      -0.809       0.117\n",
       "age50s        -0.2705      0.295     -0.917      0.359      -0.849       0.308\n",
       "ednchs        -0.0862      0.343     -0.252      0.801      -0.758       0.585\n",
       "edba           0.1148      0.344      0.333      0.739      -0.560       0.790\n",
       "married        0.3842      0.244      1.576      0.115      -0.094       0.862\n",
       "dchron         0.6611      0.304      2.178      0.029       0.066       1.256\n",
       "lninc          0.5954      0.261      2.282      0.023       0.084       1.107\n",
       "------------------------------------------------------------------------------\n",
       " drinker=2       coef    std err          z      P>|z|      [0.025      0.975]\n",
       "------------------------------------------------------------------------------\n",
       "const        -10.1579      3.364     -3.019      0.003     -16.752      -3.564\n",
       "age40s        -0.9987      0.299     -3.342      0.001      -1.584      -0.413\n",
       "age50s        -1.7374      0.449     -3.873      0.000      -2.617      -0.858\n",
       "ednchs         0.0115      0.452      0.025      0.980      -0.875       0.898\n",
       "edba          -0.7237      0.444     -1.631      0.103      -1.594       0.146\n",
       "married       -0.0555      0.288     -0.193      0.847      -0.619       0.508\n",
       "dchron         0.5868      0.366      1.603      0.109      -0.131       1.304\n",
       "lninc          1.0680      0.333      3.207      0.001       0.415       1.721\n",
       "==============================================================================\n",
       "\"\"\""
      ]
     },
     "execution_count": 19,
     "metadata": {},
     "output_type": "execute_result"
    }
   ],
   "source": [
    "X4 = df[['const', 'age40s', 'age50s', 'ednchs', 'edba', 'married', 'dchron', 'lninc']]\n",
    "Y4 = df[['drinker']]\n",
    "\n",
    "Model4 = MNLogit(Y4, X4, check_rank=True).fit()\n",
    "Model4.summary()"
   ]
  },
  {
   "cell_type": "markdown",
   "id": "3836ef3c-6998-4859-9004-68852806788c",
   "metadata": {},
   "source": [
    "## average marginal effects"
   ]
  },
  {
   "cell_type": "code",
   "execution_count": 20,
   "id": "c8e2045c-ed8c-4027-a8a8-96f8d169f0c3",
   "metadata": {},
   "outputs": [
    {
     "name": "stdout",
     "output_type": "stream",
     "text": [
      "       MNLogit Marginal Effects      \n",
      "=====================================\n",
      "Dep. Variable:                drinker\n",
      "Method:                          dydx\n",
      "At:                           overall\n",
      "==============================================================================\n",
      " drinker=0      dy/dx    std err          z      P>|z|      [0.025      0.975]\n",
      "------------------------------------------------------------------------------\n",
      "age40s         0.0554      0.027      2.088      0.037       0.003       0.107\n",
      "age50s         0.0660      0.033      1.983      0.047       0.001       0.131\n",
      "ednchs         0.0076      0.039      0.196      0.845      -0.069       0.084\n",
      "edba           0.0067      0.039      0.171      0.864      -0.070       0.083\n",
      "married       -0.0338      0.027     -1.239      0.215      -0.087       0.020\n",
      "dchron        -0.0744      0.035     -2.145      0.032      -0.142      -0.006\n",
      "lninc         -0.0798      0.029     -2.705      0.007      -0.138      -0.022\n",
      "------------------------------------------------------------------------------\n",
      " drinker=1      dy/dx    std err          z      P>|z|      [0.025      0.975]\n",
      "------------------------------------------------------------------------------\n",
      "age40s         0.0476      0.038      1.253      0.210      -0.027       0.122\n",
      "age50s         0.1534      0.056      2.763      0.006       0.045       0.262\n",
      "ednchs        -0.0197      0.059     -0.338      0.736      -0.134       0.095\n",
      "edba           0.1123      0.054      2.077      0.038       0.006       0.218\n",
      "married        0.0885      0.037      2.365      0.018       0.015       0.162\n",
      "dchron         0.0695      0.044      1.587      0.112      -0.016       0.155\n",
      "lninc         -0.0029      0.042     -0.070      0.944      -0.086       0.080\n",
      "------------------------------------------------------------------------------\n",
      " drinker=2      dy/dx    std err          z      P>|z|      [0.025      0.975]\n",
      "------------------------------------------------------------------------------\n",
      "age40s        -0.1029      0.032     -3.177      0.001      -0.166      -0.039\n",
      "age50s        -0.2194      0.054     -4.074      0.000      -0.325      -0.114\n",
      "ednchs         0.0121      0.052      0.234      0.815      -0.090       0.114\n",
      "edba          -0.1190      0.047     -2.508      0.012      -0.212      -0.026\n",
      "married       -0.0547      0.030     -1.808      0.071      -0.114       0.005\n",
      "dchron         0.0049      0.036      0.136      0.891      -0.066       0.075\n",
      "lninc          0.0827      0.036      2.282      0.022       0.012       0.154\n",
      "==============================================================================\n"
     ]
    }
   ],
   "source": [
    "Model4_me = Model4.get_margeff()\n",
    "\n",
    "print(Model4_me.summary())"
   ]
  },
  {
   "cell_type": "code",
   "execution_count": 32,
   "id": "eac512fa-69be-4c3a-8475-f60bf2c6cdd4",
   "metadata": {},
   "outputs": [
    {
     "name": "stdout",
     "output_type": "stream",
     "text": [
      "[NbConvertApp] Converting notebook W11_Python.ipynb to html\n",
      "[NbConvertApp] Writing 641867 bytes to W11_Python.html\n"
     ]
    }
   ],
   "source": [
    "!rm -rf W11_Python.html\n",
    "!jupyter nbconvert --to html W11_Python.ipynb"
   ]
  },
  {
   "cell_type": "code",
   "execution_count": null,
   "id": "028ce561-bf91-42d7-9629-11f8131e3021",
   "metadata": {},
   "outputs": [],
   "source": []
  }
 ],
 "metadata": {
  "kernelspec": {
   "display_name": "Python 3 (ipykernel)",
   "language": "python",
   "name": "python3"
  },
  "language_info": {
   "codemirror_mode": {
    "name": "ipython",
    "version": 3
   },
   "file_extension": ".py",
   "mimetype": "text/x-python",
   "name": "python",
   "nbconvert_exporter": "python",
   "pygments_lexer": "ipython3",
   "version": "3.9.7"
  }
 },
 "nbformat": 4,
 "nbformat_minor": 5
}
