{
 "cells": [
  {
   "cell_type": "markdown",
   "id": "2e6a0ddc-b51d-4ea3-8009-21d39f537ab4",
   "metadata": {},
   "source": [
    "# load dta file"
   ]
  },
  {
   "cell_type": "code",
   "execution_count": 4,
   "id": "65f6fa53-8df1-4410-8908-9cdde7b3d0f5",
   "metadata": {},
   "outputs": [],
   "source": [
    "use \"~/Documents/Working_Directory/Tex_MD/Teaching/tutorial/6002/W11/drinks11.dta\", clear"
   ]
  },
  {
   "cell_type": "markdown",
   "id": "0898ad23-1bf3-490a-9ab3-50403a904401",
   "metadata": {},
   "source": [
    "# (a)"
   ]
  },
  {
   "cell_type": "code",
   "execution_count": 5,
   "id": "2ba07714-cb50-47ae-a1ff-d6e078eba6e9",
   "metadata": {},
   "outputs": [
    {
     "name": "stdout",
     "output_type": "stream",
     "text": [
      "\n",
      "    Variable |        Obs        Mean    Std. Dev.       Min        Max\n",
      "-------------+---------------------------------------------------------\n",
      "     drinker |        880        1.05    .5662081          0          2\n",
      "      ednchs |        880       .0875     .282727          0          1\n",
      "        edba |        880    .1170455    .3216573          0          1\n",
      "     married |        880    .7909091    .4068907          0          1\n",
      "      dchron |        880    .1806818    .3849731          0          1\n",
      "-------------+---------------------------------------------------------\n",
      "      age40s |        880    .2590909    .4383848          0          1\n",
      "      age50s |        880         .15    .3572745          0          1\n",
      "       lninc |        880    10.26011     .401322    8.20845   11.35105\n",
      "      lninc2 |        880    105.4307    8.224645   67.37865   128.8463\n"
     ]
    }
   ],
   "source": [
    "sum"
   ]
  },
  {
   "cell_type": "code",
   "execution_count": 6,
   "id": "fa5e595f-d6d4-4ef9-8263-6ab24890894c",
   "metadata": {},
   "outputs": [
    {
     "name": "stdout",
     "output_type": "stream",
     "text": [
      "\n",
      "    drinker |      Freq.     Percent        Cum.\n",
      "------------+-----------------------------------\n",
      "          0 |        120       13.64       13.64\n",
      "          1 |        596       67.73       81.36\n",
      "          2 |        164       18.64      100.00\n",
      "------------+-----------------------------------\n",
      "      Total |        880      100.00\n"
     ]
    }
   ],
   "source": [
    "tab drinker"
   ]
  },
  {
   "cell_type": "markdown",
   "id": "b7e870f5-4d39-4ba3-b194-f7abe34b8529",
   "metadata": {},
   "source": [
    "# (b, d, e, f) ordered logit\n",
    "\n",
    "## GLM coefficients"
   ]
  },
  {
   "cell_type": "code",
   "execution_count": 7,
   "id": "afd39311-b4d3-4a33-bbca-699f0569cf2d",
   "metadata": {},
   "outputs": [
    {
     "name": "stdout",
     "output_type": "stream",
     "text": [
      "\n",
      "Iteration 0:   log likelihood = -746.87074  \n",
      "Iteration 1:   log likelihood = -735.15795  \n",
      "Iteration 2:   log likelihood = -735.04809  \n",
      "Iteration 3:   log likelihood = -735.04806  \n",
      "\n",
      "Ordered logistic regression                     Number of obs     =        880\n",
      "                                                LR chi2(6)        =      23.65\n",
      "                                                Prob > chi2       =     0.0006\n",
      "Log likelihood = -735.04806                     Pseudo R2         =     0.0158\n",
      "\n",
      "------------------------------------------------------------------------------\n",
      "     drinker |      Coef.   Std. Err.      z    P>|z|     [95% Conf. Interval]\n",
      "-------------+----------------------------------------------------------------\n",
      "      age40s |  -.5775419   .1731874    -3.33   0.001     -.916983   -.2381009\n",
      "      age50s |  -.8498468   .2171804    -3.91   0.000    -1.275513    -.424181\n",
      "      ednchs |  -.1093796   .2600963    -0.42   0.674     -.619159    .4003998\n",
      "        edba |  -.2544698   .2202319    -1.16   0.248    -.6861164    .1771769\n",
      "     married |  -.0010722   .1793348    -0.01   0.995     -.352562    .3504176\n",
      "      dchron |   .2251466   .1863772     1.21   0.227     -.140146    .5904392\n",
      "-------------+----------------------------------------------------------------\n",
      "       /cut1 |  -2.175022   .1886158                     -2.544702   -1.805342\n",
      "       /cut2 |   1.227381   .1727925                      .8887135    1.566048\n",
      "------------------------------------------------------------------------------\n"
     ]
    }
   ],
   "source": [
    "eststo m1: ologit drinker age40s age50s ednchs edba married dchron"
   ]
  },
  {
   "cell_type": "markdown",
   "id": "7dc5bb1f-4f88-4668-8484-edcf008d0659",
   "metadata": {},
   "source": [
    "## average marginal effects"
   ]
  },
  {
   "cell_type": "code",
   "execution_count": 8,
   "id": "a2977399-d6df-47d6-82dc-64d9903c9026",
   "metadata": {},
   "outputs": [
    {
     "name": "stdout",
     "output_type": "stream",
     "text": [
      "\n",
      "Conditional marginal effects                    Number of obs     =        880\n",
      "Model VCE    : OIM\n",
      "\n",
      "dy/dx w.r.t. : age40s age50s ednchs edba married dchron\n",
      "1._predict   : Pr(drinker==0), predict(pr outcome(0))\n",
      "2._predict   : Pr(drinker==1), predict(pr outcome(1))\n",
      "3._predict   : Pr(drinker==2), predict(pr outcome(2))\n",
      "at           : age40s          =    .2590909 (mean)\n",
      "               age50s          =         .15 (mean)\n",
      "               ednchs          =       .0875 (mean)\n",
      "               edba            =    .1170455 (mean)\n",
      "               married         =    .7909091 (mean)\n",
      "               dchron          =    .1806818 (mean)\n",
      "\n",
      "------------------------------------------------------------------------------\n",
      "             |            Delta-method\n",
      "             |      dy/dx   Std. Err.      z    P>|z|     [95% Conf. Interval]\n",
      "-------------+----------------------------------------------------------------\n",
      "age40s       |\n",
      "    _predict |\n",
      "          1  |   .0654444   .0196838     3.32   0.001     .0268649     .104024\n",
      "          2  |   .0204742   .0096001     2.13   0.033     .0016583    .0392901\n",
      "          3  |  -.0859186   .0257205    -3.34   0.001      -.13633   -.0355073\n",
      "-------------+----------------------------------------------------------------\n",
      "age50s       |\n",
      "    _predict |\n",
      "          1  |   .0963008   .0246016     3.91   0.000     .0480826     .144519\n",
      "          2  |   .0301276   .0134495     2.24   0.025      .003767    .0564882\n",
      "          3  |  -.1264284   .0323616    -3.91   0.000     -.189856   -.0630007\n",
      "-------------+----------------------------------------------------------------\n",
      "ednchs       |\n",
      "    _predict |\n",
      "          1  |   .0123944   .0294775     0.42   0.674    -.0453804    .0701692\n",
      "          2  |   .0038776   .0093203     0.42   0.677      -.01439    .0221451\n",
      "          3  |   -.016272     .03869    -0.42   0.674    -.0921029     .059559\n",
      "-------------+----------------------------------------------------------------\n",
      "edba         |\n",
      "    _predict |\n",
      "          1  |   .0288354   .0249426     1.16   0.248    -.0200513     .077722\n",
      "          2  |   .0090211   .0085054     1.06   0.289    -.0076492    .0256914\n",
      "          3  |  -.0378565   .0327863    -1.15   0.248    -.1021165    .0264036\n",
      "-------------+----------------------------------------------------------------\n",
      "married      |\n",
      "    _predict |\n",
      "          1  |   .0001215   .0203213     0.01   0.995    -.0397075    .0399505\n",
      "          2  |    .000038   .0063578     0.01   0.995    -.0124231    .0124991\n",
      "          3  |  -.0001595   .0266791    -0.01   0.995    -.0524496    .0521306\n",
      "-------------+----------------------------------------------------------------\n",
      "dchron       |\n",
      "    _predict |\n",
      "          1  |  -.0255126   .0211559    -1.21   0.228    -.0669774    .0159522\n",
      "          2  |  -.0079816   .0071608    -1.11   0.265    -.0220166    .0060534\n",
      "          3  |   .0334942    .027699     1.21   0.227    -.0207949    .0877833\n",
      "------------------------------------------------------------------------------\n"
     ]
    }
   ],
   "source": [
    "eststo mf1: margins, dydx(*) atmeans post"
   ]
  },
  {
   "cell_type": "markdown",
   "id": "3a10c88d-b3a0-4481-a486-12ebe06b939a",
   "metadata": {
    "tags": []
   },
   "source": [
    "## test on \"lninc\" and \"lninc2\"\n",
    "\n",
    "### either, just run a test after the regression"
   ]
  },
  {
   "cell_type": "code",
   "execution_count": 9,
   "id": "2bbf82b0-6f9e-46cd-be3f-2b334bffe1b2",
   "metadata": {
    "tags": []
   },
   "outputs": [
    {
     "name": "stdout",
     "output_type": "stream",
     "text": [
      "\n",
      "\n",
      "\n",
      " ( 1)  [drinker]lninc = 0\n",
      " ( 2)  [drinker]lninc2 = 0\n",
      "\n",
      "           chi2(  2) =   10.88\n",
      "         Prob > chi2 =    0.0043\n"
     ]
    }
   ],
   "source": [
    "qui ologit drinker age40s age50s ednchs edba married dchron lninc lninc2\n",
    "\n",
    "test lninc lninc2"
   ]
  },
  {
   "cell_type": "markdown",
   "id": "8dadd4be-885f-4042-969f-eb5f4890f276",
   "metadata": {
    "tags": []
   },
   "source": [
    "### or, compute the likelihood ratio and test it manually\n",
    "### you should have the same p-value"
   ]
  },
  {
   "cell_type": "code",
   "execution_count": 10,
   "id": "198415df-eed6-4fa0-9b82-1185094d46cb",
   "metadata": {},
   "outputs": [
    {
     "name": "stdout",
     "output_type": "stream",
     "text": [
      "\n",
      "\n",
      "\n",
      "\n",
      "\n",
      "\n",
      "Likelihood-ratio test                                 LR chi2(2)  =     10.92\n",
      "(Assumption: ologit_witho~c nested in ologit_with_~c) Prob > chi2 =    0.0043\n"
     ]
    }
   ],
   "source": [
    "qui ologit drinker age40s age50s ednchs edba married dchron\n",
    "\n",
    "estimates store ologit_without_lninc\n",
    "\n",
    "qui ologit drinker age40s age50s ednchs edba married dchron lninc lninc2\n",
    "\n",
    "estimates store ologit_with_lninc\n",
    "\n",
    "lrtest ologit_without_lninc ologit_with_lninc"
   ]
  },
  {
   "cell_type": "markdown",
   "id": "9824d0ce-e328-4fac-a90e-0a0cf6fe017c",
   "metadata": {},
   "source": [
    "## test on  \"lninc2\" : you can do a $\\chi^2$ test or a z test, both of which will give you the same p-value"
   ]
  },
  {
   "cell_type": "code",
   "execution_count": 11,
   "id": "9294272a-fe32-40ec-bf78-92c4434d9284",
   "metadata": {},
   "outputs": [
    {
     "name": "stdout",
     "output_type": "stream",
     "text": [
      "\n",
      "Iteration 0:   log likelihood = -746.87074  \n",
      "Iteration 1:   log likelihood = -729.81651  \n",
      "Iteration 2:   log likelihood = -729.58865  \n",
      "Iteration 3:   log likelihood = -729.58852  \n",
      "Iteration 4:   log likelihood = -729.58852  \n",
      "\n",
      "Ordered logistic regression                     Number of obs     =        880\n",
      "                                                LR chi2(8)        =      34.56\n",
      "                                                Prob > chi2       =     0.0000\n",
      "Log likelihood = -729.58852                     Pseudo R2         =     0.0231\n",
      "\n",
      "------------------------------------------------------------------------------\n",
      "     drinker |      Coef.   Std. Err.      z    P>|z|     [95% Conf. Interval]\n",
      "-------------+----------------------------------------------------------------\n",
      "      age40s |  -.6402029   .1751377    -3.66   0.000    -.9834665   -.2969393\n",
      "      age50s |  -.9125474   .2185386    -4.18   0.000    -1.340875   -.4842197\n",
      "      ednchs |  -.0022183   .2627251    -0.01   0.993    -.5171499    .5127134\n",
      "        edba |  -.4929025   .2353089    -2.09   0.036    -.9540994   -.0317056\n",
      "     married |  -.1037211   .1826073    -0.57   0.570    -.4616249    .2541826\n",
      "      dchron |   .2547526   .1867615     1.36   0.173    -.1112932    .6207984\n",
      "       lninc |   -1.19119   4.077772    -0.29   0.770    -9.183476    6.801095\n",
      "      lninc2 |   .0885052   .1996541     0.44   0.658    -.3028096      .47982\n",
      "-------------+----------------------------------------------------------------\n",
      "       /cut1 |  -5.204752   20.83439                     -46.03941    35.62991\n",
      "       /cut2 |  -1.764767   20.83339                     -42.59746    39.06792\n",
      "------------------------------------------------------------------------------\n"
     ]
    }
   ],
   "source": [
    "ologit drinker age40s age50s ednchs edba married dchron lninc lninc2"
   ]
  },
  {
   "cell_type": "markdown",
   "id": "2fb77d24-adac-49c2-bd2c-aa31a127fd9e",
   "metadata": {},
   "source": [
    "### either, just do a chi-square test"
   ]
  },
  {
   "cell_type": "code",
   "execution_count": 12,
   "id": "a3fd9b16-a4e0-405d-b1b5-fb5c7e6e7787",
   "metadata": {},
   "outputs": [
    {
     "name": "stdout",
     "output_type": "stream",
     "text": [
      "\n",
      " ( 1)  [drinker]lninc2 = 0\n",
      "\n",
      "           chi2(  1) =    0.20\n",
      "         Prob > chi2 =    0.6576\n"
     ]
    }
   ],
   "source": [
    "test lninc2"
   ]
  },
  {
   "cell_type": "markdown",
   "id": "9324cfd7-0eb9-49ee-a7ba-b5e33dc113ea",
   "metadata": {},
   "source": [
    "### or, do a z-test"
   ]
  },
  {
   "cell_type": "code",
   "execution_count": 13,
   "id": "b19ad709-686f-4bfd-a9b4-054a2eedb047",
   "metadata": {},
   "outputs": [
    {
     "name": "stdout",
     "output_type": "stream",
     "text": [
      "\n",
      "\n",
      "\n",
      "     z_val =  .44329252\n",
      "     p_val =  .65755416\n",
      "\n",
      "cannot reject H0 since p value is larger than sig level\n",
      "\n"
     ]
    }
   ],
   "source": [
    "scalar z_val = _b[lninc2]/_se[lninc2]\n",
    "scalar p_val = 2 * ( 1 - normal(abs(z_val)) )\n",
    "\n",
    "scalar list z_val p_val\n",
    "\n",
    "if p_val >=0.05{\n",
    "    display \"cannot reject H0 since p value is larger than sig level\"\n",
    "}\n",
    "else {\n",
    "    display \"reject H0 since p value is less than sig level\"\n",
    "}"
   ]
  },
  {
   "cell_type": "markdown",
   "id": "e7ebb227-1af3-4f7b-a14c-293cd4f9af87",
   "metadata": {},
   "source": [
    "# (g, h, i) multinominal logit\n",
    "\n",
    "## GLM coefficients"
   ]
  },
  {
   "cell_type": "code",
   "execution_count": 14,
   "id": "87aa02e0-3af8-40df-a55b-6a88be6c6919",
   "metadata": {},
   "outputs": [
    {
     "name": "stdout",
     "output_type": "stream",
     "text": [
      "\n",
      "Iteration 0:   log likelihood = -746.87074  \n",
      "Iteration 1:   log likelihood = -724.98949  \n",
      "Iteration 2:   log likelihood = -724.16205  \n",
      "Iteration 3:   log likelihood = -724.15926  \n",
      "Iteration 4:   log likelihood = -724.15926  \n",
      "\n",
      "Multinomial logistic regression                 Number of obs     =        880\n",
      "                                                LR chi2(12)       =      45.42\n",
      "                                                Prob > chi2       =     0.0000\n",
      "Log likelihood = -724.15926                     Pseudo R2         =     0.0304\n",
      "\n",
      "------------------------------------------------------------------------------\n",
      "     drinker |      Coef.   Std. Err.      z    P>|z|     [95% Conf. Interval]\n",
      "-------------+----------------------------------------------------------------\n",
      "0            |\n",
      "      age40s |   .3169449   .2352768     1.35   0.178    -.1441892     .778079\n",
      "      age50s |   .2369601   .2943581     0.81   0.421    -.3399713    .8138914\n",
      "      ednchs |   .1721647   .3407995     0.51   0.613    -.4957901    .8401195\n",
      "        edba |  -.3093289   .3323473    -0.93   0.352    -.9607176    .3420599\n",
      "     married |  -.4916502   .2383011    -2.06   0.039    -.9587118   -.0245885\n",
      "      dchron |  -.6346765   .3025758    -2.10   0.036    -1.227714   -.0416388\n",
      "       _cons |  -1.231034   .2219055    -5.55   0.000     -1.66596   -.7961069\n",
      "-------------+----------------------------------------------------------------\n",
      "1            |  (base outcome)\n",
      "-------------+----------------------------------------------------------------\n",
      "2            |\n",
      "      age40s |  -.6090574   .2272148    -2.68   0.007     -1.05439   -.1637246\n",
      "      age50s |  -1.422304   .3752378    -3.79   0.000    -2.157757   -.6868515\n",
      "      ednchs |  -.0034072    .358499    -0.01   0.992    -.7060523     .699238\n",
      "        edba |  -.6725589   .3181442    -2.11   0.035     -1.29611   -.0490077\n",
      "     married |  -.3705316   .2107546    -1.76   0.079     -.783603    .0425398\n",
      "      dchron |  -.1000674   .2499563    -0.40   0.689    -.5899728    .3898379\n",
      "       _cons |  -.6263666   .1902355    -3.29   0.001    -.9992213    -.253512\n",
      "------------------------------------------------------------------------------\n"
     ]
    }
   ],
   "source": [
    "eststo m2: mlogit drinker age40s age50s ednchs edba married dchron"
   ]
  },
  {
   "cell_type": "markdown",
   "id": "d684f16a-dd17-47bd-8305-8b5a4506fe29",
   "metadata": {},
   "source": [
    "## average marginal effects"
   ]
  },
  {
   "cell_type": "code",
   "execution_count": 15,
   "id": "e9998427-91ee-4029-9228-7df13b108541",
   "metadata": {},
   "outputs": [
    {
     "name": "stdout",
     "output_type": "stream",
     "text": [
      "\n",
      "Conditional marginal effects                    Number of obs     =        880\n",
      "Model VCE    : OIM\n",
      "\n",
      "dy/dx w.r.t. : age40s age50s ednchs edba married dchron\n",
      "1._predict   : Pr(drinker==0), predict(pr outcome(0))\n",
      "2._predict   : Pr(drinker==1), predict(pr outcome(1))\n",
      "3._predict   : Pr(drinker==2), predict(pr outcome(2))\n",
      "at           : age40s          =    .2590909 (mean)\n",
      "               age50s          =         .15 (mean)\n",
      "               ednchs          =       .0875 (mean)\n",
      "               edba            =    .1170455 (mean)\n",
      "               married         =    .7909091 (mean)\n",
      "               dchron          =    .1806818 (mean)\n",
      "\n",
      "------------------------------------------------------------------------------\n",
      "             |            Delta-method\n",
      "             |      dy/dx   Std. Err.      z    P>|z|     [95% Conf. Interval]\n",
      "-------------+----------------------------------------------------------------\n",
      "age40s       |\n",
      "    _predict |\n",
      "          1  |   .0510911   .0266835     1.91   0.056    -.0012075    .1033898\n",
      "          2  |   .0433791   .0375471     1.16   0.248    -.0302118      .11697\n",
      "          3  |  -.0944702   .0315552    -2.99   0.003    -.1563173   -.0326232\n",
      "-------------+----------------------------------------------------------------\n",
      "age50s       |\n",
      "    _predict |\n",
      "          1  |   .0606992    .033936     1.79   0.074    -.0058143    .1272126\n",
      "          2  |   .1482035   .0535671     2.77   0.006     .0432139     .253193\n",
      "          3  |  -.2089026   .0504298    -4.14   0.000    -.3077432   -.1100621\n",
      "-------------+----------------------------------------------------------------\n",
      "ednchs       |\n",
      "    _predict |\n",
      "          1  |   .0201332   .0390371     0.52   0.606    -.0563781    .0966445\n",
      "          2  |  -.0156396   .0578455    -0.27   0.787    -.1290147    .0977355\n",
      "          3  |  -.0044936   .0504301    -0.09   0.929    -.1033347    .0943475\n",
      "-------------+----------------------------------------------------------------\n",
      "edba         |\n",
      "    _predict |\n",
      "          1  |  -.0203801   .0382999    -0.53   0.595    -.0954466    .0546864\n",
      "          2  |   .1093572   .0522937     2.09   0.037     .0068634    .2118511\n",
      "          3  |  -.0889772   .0447111    -1.99   0.047    -.1766092   -.0013451\n",
      "-------------+----------------------------------------------------------------\n",
      "married      |\n",
      "    _predict |\n",
      "          1  |  -.0486454   .0269045    -1.81   0.071    -.1013773    .0040865\n",
      "          2  |   .0901901   .0371557     2.43   0.015     .0173664    .1630139\n",
      "          3  |  -.0415448   .0293355    -1.42   0.157    -.0990412    .0159517\n",
      "-------------+----------------------------------------------------------------\n",
      "dchron       |\n",
      "    _predict |\n",
      "          1  |  -.0715991   .0344103    -2.08   0.037    -.1390419   -.0041562\n",
      "          2  |   .0711393   .0437335     1.63   0.104    -.0145768    .1568555\n",
      "          3  |   .0004597    .035403     0.01   0.990    -.0689289    .0698483\n",
      "------------------------------------------------------------------------------\n"
     ]
    }
   ],
   "source": [
    "eststo mf2: margins, dydx(*) atmeans post"
   ]
  },
  {
   "cell_type": "markdown",
   "id": "aed9c220-2125-49ee-8d3d-2404cc6359c1",
   "metadata": {},
   "source": [
    "## test on \"lninc\" and \"lninc2\""
   ]
  },
  {
   "cell_type": "code",
   "execution_count": 16,
   "id": "b91f271b-d7c9-48ed-9a2c-2d0cf1ffbe49",
   "metadata": {},
   "outputs": [
    {
     "name": "stdout",
     "output_type": "stream",
     "text": [
      "\n",
      "\n",
      "\n",
      "\n",
      "\n",
      "\n",
      "Likelihood-ratio test                                 LR chi2(4)  =     16.36\n",
      "(Assumption: mlogit_witho~c nested in mlogit_with_~c) Prob > chi2 =    0.0026\n"
     ]
    }
   ],
   "source": [
    "qui mlogit drinker age40s age50s ednchs edba married dchron\n",
    "\n",
    "estimates store mlogit_without_lninc\n",
    "\n",
    "qui mlogit drinker age40s age50s ednchs edba married dchron lninc lninc2\n",
    "\n",
    "estimates store mlogit_with_lninc\n",
    "\n",
    "lrtest mlogit_without_lninc mlogit_with_lninc"
   ]
  },
  {
   "cell_type": "markdown",
   "id": "6358d89f-f952-4a48-8449-556f34ef13b3",
   "metadata": {},
   "source": [
    "# (j) multinomial logit with a linear term in \"lninc\"\n",
    "\n",
    "## GLM coefficients"
   ]
  },
  {
   "cell_type": "code",
   "execution_count": 17,
   "id": "6d392c4e-f328-41c7-9239-dc71814bc4f1",
   "metadata": {},
   "outputs": [
    {
     "name": "stdout",
     "output_type": "stream",
     "text": [
      "\n",
      "Iteration 0:   log likelihood = -746.87074  \n",
      "Iteration 1:   log likelihood = -719.96654  \n",
      "Iteration 2:   log likelihood =  -718.8945  \n",
      "Iteration 3:   log likelihood = -718.88941  \n",
      "Iteration 4:   log likelihood = -718.88941  \n",
      "\n",
      "Multinomial logistic regression                 Number of obs     =        880\n",
      "                                                LR chi2(14)       =      55.96\n",
      "                                                Prob > chi2       =     0.0000\n",
      "Log likelihood = -718.88941                     Pseudo R2         =     0.0375\n",
      "\n",
      "------------------------------------------------------------------------------\n",
      "     drinker |      Coef.   Std. Err.      z    P>|z|     [95% Conf. Interval]\n",
      "-------------+----------------------------------------------------------------\n",
      "0            |\n",
      "      age40s |   .3462175   .2361526     1.47   0.143    -.1166331     .809068\n",
      "      age50s |   .2704951   .2949713     0.92   0.359    -.3076381    .8486283\n",
      "      ednchs |   .0862089    .342703     0.25   0.801    -.5854767    .7578945\n",
      "        edba |  -.1148364   .3444476    -0.33   0.739    -.7899412    .5602684\n",
      "     married |  -.3842078   .2438362    -1.58   0.115     -.862118    .0937024\n",
      "      dchron |  -.6611147   .3035902    -2.18   0.029    -1.256141   -.0660888\n",
      "       lninc |  -.5954251   .2609606    -2.28   0.023    -1.106899   -.0839516\n",
      "       _cons |   4.745923   2.623024     1.81   0.070    -.3951107    9.886956\n",
      "-------------+----------------------------------------------------------------\n",
      "1            |  (base outcome)\n",
      "-------------+----------------------------------------------------------------\n",
      "2            |\n",
      "      age40s |  -.6524839   .2294977    -2.84   0.004    -1.102291   -.2026766\n",
      "      age50s |   -1.46692   .3773428    -3.89   0.000    -2.206498   -.7273417\n",
      "      ednchs |   .0977156   .3631301     0.27   0.788    -.6140064    .8094375\n",
      "        edba |  -.8385199   .3320389    -2.53   0.012    -1.489304   -.1877356\n",
      "     married |    -.43968   .2149846    -2.05   0.041    -.8610421   -.0183178\n",
      "      dchron |  -.0742987   .2508399    -0.30   0.767    -.5659358    .4173385\n",
      "       lninc |   .4726239    .255896     1.85   0.065    -.0289231    .9741708\n",
      "       _cons |  -5.412016   2.599944    -2.08   0.037    -10.50781   -.3162205\n",
      "------------------------------------------------------------------------------\n"
     ]
    }
   ],
   "source": [
    "eststo m3: mlogit drinker age40s age50s ednchs edba married dchron lninc"
   ]
  },
  {
   "cell_type": "markdown",
   "id": "4d1c736e-7f08-4d7d-bae7-9125bbaed989",
   "metadata": {},
   "source": [
    "## average marginal effects"
   ]
  },
  {
   "cell_type": "code",
   "execution_count": 18,
   "id": "41fd95a4-b0ee-4c40-ad8c-b878b361b96a",
   "metadata": {},
   "outputs": [
    {
     "name": "stdout",
     "output_type": "stream",
     "text": [
      "\n",
      "Conditional marginal effects                    Number of obs     =        880\n",
      "Model VCE    : OIM\n",
      "\n",
      "dy/dx w.r.t. : age40s age50s ednchs edba married dchron lninc\n",
      "1._predict   : Pr(drinker==0), predict(pr outcome(0))\n",
      "2._predict   : Pr(drinker==1), predict(pr outcome(1))\n",
      "3._predict   : Pr(drinker==2), predict(pr outcome(2))\n",
      "at           : age40s          =    .2590909 (mean)\n",
      "               age50s          =         .15 (mean)\n",
      "               ednchs          =       .0875 (mean)\n",
      "               edba            =    .1170455 (mean)\n",
      "               married         =    .7909091 (mean)\n",
      "               dchron          =    .1806818 (mean)\n",
      "               lninc           =    10.26011 (mean)\n",
      "\n",
      "------------------------------------------------------------------------------\n",
      "             |            Delta-method\n",
      "             |      dy/dx   Std. Err.      z    P>|z|     [95% Conf. Interval]\n",
      "-------------+----------------------------------------------------------------\n",
      "age40s       |\n",
      "    _predict |\n",
      "          1  |    .054479   .0264096     2.06   0.039     .0027173    .1062408\n",
      "          2  |   .0459839   .0374057     1.23   0.219    -.0273299    .1192977\n",
      "          3  |  -.1004629   .0316149    -3.18   0.001     -.162427   -.0384989\n",
      "-------------+----------------------------------------------------------------\n",
      "age50s       |\n",
      "    _predict |\n",
      "          1  |    .064232   .0335041     1.92   0.055    -.0014347    .1298988\n",
      "          2  |   .1501321   .0532746     2.82   0.005     .0457157    .2545485\n",
      "          3  |  -.2143642   .0502391    -4.27   0.000    -.3128309   -.1158974\n",
      "-------------+----------------------------------------------------------------\n",
      "ednchs       |\n",
      "    _predict |\n",
      "          1  |   .0076752   .0386755     0.20   0.843    -.0681274    .0834778\n",
      "          2  |   -.019595   .0579987    -0.34   0.735    -.1332705    .0940804\n",
      "          3  |   .0119198   .0507194     0.24   0.814    -.0874883     .111328\n",
      "-------------+----------------------------------------------------------------\n",
      "edba         |\n",
      "    _predict |\n",
      "          1  |   .0058122   .0391499     0.15   0.882    -.0709202    .0825446\n",
      "          2  |   .1106224     .05381     2.06   0.040     .0051568     .216088\n",
      "          3  |  -.1164346   .0461757    -2.52   0.012    -.2069373   -.0259319\n",
      "-------------+----------------------------------------------------------------\n",
      "married      |\n",
      "    _predict |\n",
      "          1  |  -.0341112   .0272436    -1.25   0.211    -.0875078    .0192853\n",
      "          2  |   .0878293   .0375736     2.34   0.019     .0141863    .1614723\n",
      "          3  |  -.0537181    .029727    -1.81   0.071     -.111982    .0045458\n",
      "-------------+----------------------------------------------------------------\n",
      "dchron       |\n",
      "    _predict |\n",
      "          1  |  -.0741414   .0339955    -2.18   0.029    -.1407714   -.0075115\n",
      "          2  |   .0697221   .0434518     1.60   0.109    -.0154418     .154886\n",
      "          3  |   .0044194   .0352897     0.13   0.900    -.0647471    .0735859\n",
      "-------------+----------------------------------------------------------------\n",
      "lninc        |\n",
      "    _predict |\n",
      "          1  |   -.078989   .0291085    -2.71   0.007    -.1360405   -.0219375\n",
      "          2  |  -.0015831   .0415013    -0.04   0.970    -.0829242    .0797579\n",
      "          3  |   .0805721   .0354785     2.27   0.023     .0110355    .1501087\n",
      "------------------------------------------------------------------------------\n"
     ]
    }
   ],
   "source": [
    "eststo mf3: margins, dydx(*) atmeans post"
   ]
  },
  {
   "cell_type": "markdown",
   "id": "b0c97285-2aef-4572-8887-f3b549d78ce4",
   "metadata": {},
   "source": [
    "# Finally, GLM comparison table\n",
    "\n",
    "## comparison table for regression coefficients in model 1, 2 and 3"
   ]
  },
  {
   "cell_type": "code",
   "execution_count": 19,
   "id": "99e03836-fffb-438e-97f2-fd29f34d8edc",
   "metadata": {},
   "outputs": [
    {
     "name": "stdout",
     "output_type": "stream",
     "text": [
      "\n",
      "------------------------------------------------------------\n",
      "                      (1)             (2)             (3)   \n",
      "                  drinker         drinker         drinker   \n",
      "                     b/se            b/se            b/se   \n",
      "------------------------------------------------------------\n",
      "main                                                        \n",
      "age40s            -0.5775***       0.3169          0.3462   \n",
      "                  (0.173)         (0.235)         (0.236)   \n",
      "age50s            -0.8498***       0.2370          0.2705   \n",
      "                  (0.217)         (0.294)         (0.295)   \n",
      "ednchs            -0.1094          0.1722          0.0862   \n",
      "                  (0.260)         (0.341)         (0.343)   \n",
      "edba              -0.2545         -0.3093         -0.1148   \n",
      "                  (0.220)         (0.332)         (0.344)   \n",
      "married           -0.0011         -0.4917*        -0.3842   \n",
      "                  (0.179)         (0.238)         (0.244)   \n",
      "dchron             0.2251         -0.6347*        -0.6611*  \n",
      "                  (0.186)         (0.303)         (0.304)   \n",
      "lninc                                             -0.5954*  \n",
      "                                                  (0.261)   \n",
      "_cons                             -1.2310***       4.7459   \n",
      "                                  (0.222)         (2.623)   \n",
      "------------------------------------------------------------\n",
      "cut1                                                        \n",
      "_cons             -2.1750***                                \n",
      "                  (0.189)                                   \n",
      "------------------------------------------------------------\n",
      "cut2                                                        \n",
      "_cons              1.2274***                                \n",
      "                  (0.173)                                   \n",
      "------------------------------------------------------------\n",
      "1                                                           \n",
      "age40s                             0.0000          0.0000   \n",
      "                                      (.)             (.)   \n",
      "age50s                             0.0000          0.0000   \n",
      "                                      (.)             (.)   \n",
      "ednchs                             0.0000          0.0000   \n",
      "                                      (.)             (.)   \n",
      "edba                               0.0000          0.0000   \n",
      "                                      (.)             (.)   \n",
      "married                            0.0000          0.0000   \n",
      "                                      (.)             (.)   \n",
      "dchron                             0.0000          0.0000   \n",
      "                                      (.)             (.)   \n",
      "lninc                                              0.0000   \n",
      "                                                      (.)   \n",
      "_cons                              0.0000          0.0000   \n",
      "                                      (.)             (.)   \n",
      "------------------------------------------------------------\n",
      "2                                                           \n",
      "age40s                            -0.6091**       -0.6525** \n",
      "                                  (0.227)         (0.229)   \n",
      "age50s                            -1.4223***      -1.4669***\n",
      "                                  (0.375)         (0.377)   \n",
      "ednchs                            -0.0034          0.0977   \n",
      "                                  (0.358)         (0.363)   \n",
      "edba                              -0.6726*        -0.8385*  \n",
      "                                  (0.318)         (0.332)   \n",
      "married                           -0.3705         -0.4397*  \n",
      "                                  (0.211)         (0.215)   \n",
      "dchron                            -0.1001         -0.0743   \n",
      "                                  (0.250)         (0.251)   \n",
      "lninc                                              0.4726   \n",
      "                                                  (0.256)   \n",
      "_cons                             -0.6264***      -5.4120*  \n",
      "                                  (0.190)         (2.600)   \n",
      "------------------------------------------------------------\n",
      "sample size      880.0000        880.0000        880.0000   \n",
      "------------------------------------------------------------\n",
      "* p<0.05, ** p<0.01, *** p<0.001\n"
     ]
    }
   ],
   "source": [
    "esttab m1 m2 m3, cells(b(star fmt(4)) se(par fmt(3))) stats(N, labels(\"sample size\")) legend"
   ]
  },
  {
   "cell_type": "markdown",
   "id": "b6933c09-12ef-4614-b69d-7235f7f9fb4b",
   "metadata": {},
   "source": [
    "## comparison table for average marginal effects in model 1, 2 and 3"
   ]
  },
  {
   "cell_type": "code",
   "execution_count": 20,
   "id": "cdfe8587-c540-4865-83c0-8fb2a3a47774",
   "metadata": {},
   "outputs": [
    {
     "name": "stdout",
     "output_type": "stream",
     "text": [
      "\n",
      "------------------------------------------------------------\n",
      "                      (1)             (2)             (3)   \n",
      "                                                            \n",
      "                     b/se            b/se            b/se   \n",
      "------------------------------------------------------------\n",
      "age40s                                                      \n",
      "1._predict         0.0654***       0.0511          0.0545*  \n",
      "                  (0.020)         (0.027)         (0.026)   \n",
      "2._predict         0.0205*         0.0434          0.0460   \n",
      "                  (0.010)         (0.038)         (0.037)   \n",
      "3._predict        -0.0859***      -0.0945**       -0.1005** \n",
      "                  (0.026)         (0.032)         (0.032)   \n",
      "------------------------------------------------------------\n",
      "age50s                                                      \n",
      "1._predict         0.0963***       0.0607          0.0642   \n",
      "                  (0.025)         (0.034)         (0.034)   \n",
      "2._predict         0.0301*         0.1482**        0.1501** \n",
      "                  (0.013)         (0.054)         (0.053)   \n",
      "3._predict        -0.1264***      -0.2089***      -0.2144***\n",
      "                  (0.032)         (0.050)         (0.050)   \n",
      "------------------------------------------------------------\n",
      "ednchs                                                      \n",
      "1._predict         0.0124          0.0201          0.0077   \n",
      "                  (0.029)         (0.039)         (0.039)   \n",
      "2._predict         0.0039         -0.0156         -0.0196   \n",
      "                  (0.009)         (0.058)         (0.058)   \n",
      "3._predict        -0.0163         -0.0045          0.0119   \n",
      "                  (0.039)         (0.050)         (0.051)   \n",
      "------------------------------------------------------------\n",
      "edba                                                        \n",
      "1._predict         0.0288         -0.0204          0.0058   \n",
      "                  (0.025)         (0.038)         (0.039)   \n",
      "2._predict         0.0090          0.1094*         0.1106*  \n",
      "                  (0.009)         (0.052)         (0.054)   \n",
      "3._predict        -0.0379         -0.0890*        -0.1164*  \n",
      "                  (0.033)         (0.045)         (0.046)   \n",
      "------------------------------------------------------------\n",
      "married                                                     \n",
      "1._predict         0.0001         -0.0486         -0.0341   \n",
      "                  (0.020)         (0.027)         (0.027)   \n",
      "2._predict         0.0000          0.0902*         0.0878*  \n",
      "                  (0.006)         (0.037)         (0.038)   \n",
      "3._predict        -0.0002         -0.0415         -0.0537   \n",
      "                  (0.027)         (0.029)         (0.030)   \n",
      "------------------------------------------------------------\n",
      "dchron                                                      \n",
      "1._predict        -0.0255         -0.0716*        -0.0741*  \n",
      "                  (0.021)         (0.034)         (0.034)   \n",
      "2._predict        -0.0080          0.0711          0.0697   \n",
      "                  (0.007)         (0.044)         (0.043)   \n",
      "3._predict         0.0335          0.0005          0.0044   \n",
      "                  (0.028)         (0.035)         (0.035)   \n",
      "------------------------------------------------------------\n",
      "lninc                                                       \n",
      "1._predict                                        -0.0790** \n",
      "                                                  (0.029)   \n",
      "2._predict                                        -0.0016   \n",
      "                                                  (0.042)   \n",
      "3._predict                                         0.0806*  \n",
      "                                                  (0.035)   \n",
      "------------------------------------------------------------\n",
      "sample size      880.0000        880.0000        880.0000   \n",
      "------------------------------------------------------------\n",
      "* p<0.05, ** p<0.01, *** p<0.001\n"
     ]
    }
   ],
   "source": [
    "esttab mf1 mf2 mf3, cells(b(star fmt(4)) se(par fmt(3))) stats(N, labels(\"sample size\")) legend"
   ]
  },
  {
   "cell_type": "code",
   "execution_count": 23,
   "id": "c87f9535-72c3-4945-9721-abb604da42d5",
   "metadata": {},
   "outputs": [
    {
     "name": "stdout",
     "output_type": "stream",
     "text": [
      "\n",
      "\n",
      "\n",
      "\n",
      "[NbConvertApp] Converting notebook W11_Stata.ipynb to html\n",
      "[NbConvertApp] Writing 623242 bytes to W11_Stata.html\n"
     ]
    }
   ],
   "source": [
    "!rm -rf W11_Stata.html\n",
    "!jupyter nbconvert --to html W11_Stata.ipynb"
   ]
  },
  {
   "cell_type": "code",
   "execution_count": null,
   "id": "10a18d6d-956e-4325-8363-bfcf3c4ef5cb",
   "metadata": {},
   "outputs": [],
   "source": []
  }
 ],
 "metadata": {
  "kernelspec": {
   "display_name": "Stata",
   "language": "stata",
   "name": "stata"
  },
  "language_info": {
   "codemirror_mode": "stata",
   "file_extension": ".do",
   "mimetype": "text/x-stata",
   "name": "stata",
   "version": "15.1"
  }
 },
 "nbformat": 4,
 "nbformat_minor": 5
}
