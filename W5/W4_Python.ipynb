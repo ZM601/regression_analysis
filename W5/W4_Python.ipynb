{
 "cells": [
  {
   "cell_type": "code",
   "execution_count": 1,
   "id": "native-estate",
   "metadata": {},
   "outputs": [],
   "source": [
    "%reset -f"
   ]
  },
  {
   "cell_type": "markdown",
   "id": "conscious-solid",
   "metadata": {},
   "source": [
    "## if you have not installed \"linearmodels\", run this first"
   ]
  },
  {
   "cell_type": "code",
   "execution_count": null,
   "id": "accomplished-twenty",
   "metadata": {},
   "outputs": [],
   "source": [
    "!conda install -c conda-forge linearmodels"
   ]
  },
  {
   "cell_type": "markdown",
   "id": "fundamental-block",
   "metadata": {},
   "source": [
    "## load all packages"
   ]
  },
  {
   "cell_type": "code",
   "execution_count": 2,
   "id": "parental-somalia",
   "metadata": {},
   "outputs": [],
   "source": [
    "import numpy             as np\n",
    "import statsmodels.api   as sm\n",
    "import pandas            as pd\n",
    "import seaborn           as sns\n",
    "\n",
    "from linearmodels.iv            import IV2SLS\n",
    "from statsmodels.iolib.summary2 import summary_col\n",
    "from collections                import OrderedDict\n",
    "from linearmodels.iv.results    import compare"
   ]
  },
  {
   "cell_type": "markdown",
   "id": "curious-trust",
   "metadata": {},
   "source": [
    "## load data"
   ]
  },
  {
   "cell_type": "code",
   "execution_count": 3,
   "id": "growing-placement",
   "metadata": {},
   "outputs": [],
   "source": [
    "df = pd.read_csv(\"CARD.csv\")"
   ]
  },
  {
   "cell_type": "code",
   "execution_count": 4,
   "id": "confidential-diameter",
   "metadata": {},
   "outputs": [
    {
     "data": {
      "text/plain": [
       "Index(['id', 'nearc2', 'nearc4', 'educ', 'age', 'fatheduc', 'motheduc',\n",
       "       'weight', 'momdad14', 'sinmom14', 'step14', 'reg661', 'reg662',\n",
       "       'reg663', 'reg664', 'reg665', 'reg666', 'reg667', 'reg668', 'reg669',\n",
       "       'south66', 'black', 'smsa', 'south', 'smsa66', 'wage', 'enroll', 'KWW',\n",
       "       'IQ', 'married', 'libcrd14', 'exper', 'lwage', 'expersq'],\n",
       "      dtype='object')"
      ]
     },
     "execution_count": 4,
     "metadata": {},
     "output_type": "execute_result"
    }
   ],
   "source": [
    "df.columns"
   ]
  },
  {
   "cell_type": "markdown",
   "id": "conceptual-gabriel",
   "metadata": {},
   "source": [
    "## add constant terms"
   ]
  },
  {
   "cell_type": "code",
   "execution_count": 5,
   "id": "applicable-mount",
   "metadata": {},
   "outputs": [],
   "source": [
    "df = sm.add_constant(df)"
   ]
  },
  {
   "cell_type": "code",
   "execution_count": 6,
   "id": "twelve-plenty",
   "metadata": {},
   "outputs": [
    {
     "data": {
      "text/plain": [
       "Index(['const', 'id', 'nearc2', 'nearc4', 'educ', 'age', 'fatheduc',\n",
       "       'motheduc', 'weight', 'momdad14', 'sinmom14', 'step14', 'reg661',\n",
       "       'reg662', 'reg663', 'reg664', 'reg665', 'reg666', 'reg667', 'reg668',\n",
       "       'reg669', 'south66', 'black', 'smsa', 'south', 'smsa66', 'wage',\n",
       "       'enroll', 'KWW', 'IQ', 'married', 'libcrd14', 'exper', 'lwage',\n",
       "       'expersq'],\n",
       "      dtype='object')"
      ]
     },
     "execution_count": 6,
     "metadata": {},
     "output_type": "execute_result"
    }
   ],
   "source": [
    "df.columns"
   ]
  },
  {
   "cell_type": "code",
   "execution_count": 7,
   "id": "simplified-douglas",
   "metadata": {},
   "outputs": [
    {
     "data": {
      "text/html": [
       "<div>\n",
       "<style scoped>\n",
       "    .dataframe tbody tr th:only-of-type {\n",
       "        vertical-align: middle;\n",
       "    }\n",
       "\n",
       "    .dataframe tbody tr th {\n",
       "        vertical-align: top;\n",
       "    }\n",
       "\n",
       "    .dataframe thead th {\n",
       "        text-align: right;\n",
       "    }\n",
       "</style>\n",
       "<table border=\"1\" class=\"dataframe\">\n",
       "  <thead>\n",
       "    <tr style=\"text-align: right;\">\n",
       "      <th></th>\n",
       "      <th>const</th>\n",
       "      <th>id</th>\n",
       "      <th>nearc2</th>\n",
       "      <th>nearc4</th>\n",
       "      <th>educ</th>\n",
       "      <th>age</th>\n",
       "      <th>fatheduc</th>\n",
       "      <th>motheduc</th>\n",
       "      <th>weight</th>\n",
       "      <th>momdad14</th>\n",
       "      <th>...</th>\n",
       "      <th>smsa66</th>\n",
       "      <th>wage</th>\n",
       "      <th>enroll</th>\n",
       "      <th>KWW</th>\n",
       "      <th>IQ</th>\n",
       "      <th>married</th>\n",
       "      <th>libcrd14</th>\n",
       "      <th>exper</th>\n",
       "      <th>lwage</th>\n",
       "      <th>expersq</th>\n",
       "    </tr>\n",
       "  </thead>\n",
       "  <tbody>\n",
       "    <tr>\n",
       "      <th>count</th>\n",
       "      <td>3010.0</td>\n",
       "      <td>3010.000000</td>\n",
       "      <td>3010.000000</td>\n",
       "      <td>3010.000000</td>\n",
       "      <td>3010.000000</td>\n",
       "      <td>3010.000000</td>\n",
       "      <td>2320.000000</td>\n",
       "      <td>2657.000000</td>\n",
       "      <td>3.010000e+03</td>\n",
       "      <td>3010.000000</td>\n",
       "      <td>...</td>\n",
       "      <td>3010.000000</td>\n",
       "      <td>3010.000000</td>\n",
       "      <td>3010.000000</td>\n",
       "      <td>2963.000000</td>\n",
       "      <td>2061.000000</td>\n",
       "      <td>3003.000000</td>\n",
       "      <td>2997.000000</td>\n",
       "      <td>3010.000000</td>\n",
       "      <td>3010.000000</td>\n",
       "      <td>3010.000000</td>\n",
       "    </tr>\n",
       "    <tr>\n",
       "      <th>mean</th>\n",
       "      <td>1.0</td>\n",
       "      <td>2581.748837</td>\n",
       "      <td>0.440864</td>\n",
       "      <td>0.682060</td>\n",
       "      <td>13.263455</td>\n",
       "      <td>28.119601</td>\n",
       "      <td>10.003448</td>\n",
       "      <td>10.348137</td>\n",
       "      <td>3.211853e+05</td>\n",
       "      <td>0.789369</td>\n",
       "      <td>...</td>\n",
       "      <td>0.649502</td>\n",
       "      <td>577.282392</td>\n",
       "      <td>0.092359</td>\n",
       "      <td>33.540668</td>\n",
       "      <td>102.449782</td>\n",
       "      <td>2.271395</td>\n",
       "      <td>0.674341</td>\n",
       "      <td>8.856146</td>\n",
       "      <td>6.261832</td>\n",
       "      <td>95.579070</td>\n",
       "    </tr>\n",
       "    <tr>\n",
       "      <th>std</th>\n",
       "      <td>0.0</td>\n",
       "      <td>1500.538849</td>\n",
       "      <td>0.496573</td>\n",
       "      <td>0.465753</td>\n",
       "      <td>2.676913</td>\n",
       "      <td>3.137004</td>\n",
       "      <td>3.720737</td>\n",
       "      <td>3.179671</td>\n",
       "      <td>1.706458e+05</td>\n",
       "      <td>0.407825</td>\n",
       "      <td>...</td>\n",
       "      <td>0.477205</td>\n",
       "      <td>262.958302</td>\n",
       "      <td>0.289580</td>\n",
       "      <td>8.611619</td>\n",
       "      <td>15.423756</td>\n",
       "      <td>2.066823</td>\n",
       "      <td>0.468699</td>\n",
       "      <td>4.141672</td>\n",
       "      <td>0.443798</td>\n",
       "      <td>84.618314</td>\n",
       "    </tr>\n",
       "    <tr>\n",
       "      <th>min</th>\n",
       "      <td>1.0</td>\n",
       "      <td>2.000000</td>\n",
       "      <td>0.000000</td>\n",
       "      <td>0.000000</td>\n",
       "      <td>1.000000</td>\n",
       "      <td>24.000000</td>\n",
       "      <td>0.000000</td>\n",
       "      <td>0.000000</td>\n",
       "      <td>7.560700e+04</td>\n",
       "      <td>0.000000</td>\n",
       "      <td>...</td>\n",
       "      <td>0.000000</td>\n",
       "      <td>100.000000</td>\n",
       "      <td>0.000000</td>\n",
       "      <td>4.000000</td>\n",
       "      <td>50.000000</td>\n",
       "      <td>1.000000</td>\n",
       "      <td>0.000000</td>\n",
       "      <td>0.000000</td>\n",
       "      <td>4.605170</td>\n",
       "      <td>0.000000</td>\n",
       "    </tr>\n",
       "    <tr>\n",
       "      <th>25%</th>\n",
       "      <td>1.0</td>\n",
       "      <td>1275.500000</td>\n",
       "      <td>0.000000</td>\n",
       "      <td>0.000000</td>\n",
       "      <td>12.000000</td>\n",
       "      <td>25.000000</td>\n",
       "      <td>8.000000</td>\n",
       "      <td>8.000000</td>\n",
       "      <td>1.227980e+05</td>\n",
       "      <td>1.000000</td>\n",
       "      <td>...</td>\n",
       "      <td>0.000000</td>\n",
       "      <td>394.250000</td>\n",
       "      <td>0.000000</td>\n",
       "      <td>28.000000</td>\n",
       "      <td>93.000000</td>\n",
       "      <td>1.000000</td>\n",
       "      <td>0.000000</td>\n",
       "      <td>6.000000</td>\n",
       "      <td>5.976985</td>\n",
       "      <td>36.000000</td>\n",
       "    </tr>\n",
       "    <tr>\n",
       "      <th>50%</th>\n",
       "      <td>1.0</td>\n",
       "      <td>2541.000000</td>\n",
       "      <td>0.000000</td>\n",
       "      <td>1.000000</td>\n",
       "      <td>13.000000</td>\n",
       "      <td>28.000000</td>\n",
       "      <td>10.000000</td>\n",
       "      <td>12.000000</td>\n",
       "      <td>3.652000e+05</td>\n",
       "      <td>1.000000</td>\n",
       "      <td>...</td>\n",
       "      <td>1.000000</td>\n",
       "      <td>537.500000</td>\n",
       "      <td>0.000000</td>\n",
       "      <td>34.000000</td>\n",
       "      <td>103.000000</td>\n",
       "      <td>1.000000</td>\n",
       "      <td>1.000000</td>\n",
       "      <td>8.000000</td>\n",
       "      <td>6.286928</td>\n",
       "      <td>64.000000</td>\n",
       "    </tr>\n",
       "    <tr>\n",
       "      <th>75%</th>\n",
       "      <td>1.0</td>\n",
       "      <td>3858.750000</td>\n",
       "      <td>1.000000</td>\n",
       "      <td>1.000000</td>\n",
       "      <td>16.000000</td>\n",
       "      <td>31.000000</td>\n",
       "      <td>12.000000</td>\n",
       "      <td>12.000000</td>\n",
       "      <td>4.060240e+05</td>\n",
       "      <td>1.000000</td>\n",
       "      <td>...</td>\n",
       "      <td>1.000000</td>\n",
       "      <td>708.750000</td>\n",
       "      <td>0.000000</td>\n",
       "      <td>40.000000</td>\n",
       "      <td>113.000000</td>\n",
       "      <td>4.000000</td>\n",
       "      <td>1.000000</td>\n",
       "      <td>11.000000</td>\n",
       "      <td>6.563503</td>\n",
       "      <td>121.000000</td>\n",
       "    </tr>\n",
       "    <tr>\n",
       "      <th>max</th>\n",
       "      <td>1.0</td>\n",
       "      <td>5225.000000</td>\n",
       "      <td>1.000000</td>\n",
       "      <td>1.000000</td>\n",
       "      <td>18.000000</td>\n",
       "      <td>34.000000</td>\n",
       "      <td>18.000000</td>\n",
       "      <td>18.000000</td>\n",
       "      <td>1.752340e+06</td>\n",
       "      <td>1.000000</td>\n",
       "      <td>...</td>\n",
       "      <td>1.000000</td>\n",
       "      <td>2404.000000</td>\n",
       "      <td>1.000000</td>\n",
       "      <td>56.000000</td>\n",
       "      <td>149.000000</td>\n",
       "      <td>6.000000</td>\n",
       "      <td>1.000000</td>\n",
       "      <td>23.000000</td>\n",
       "      <td>7.784889</td>\n",
       "      <td>529.000000</td>\n",
       "    </tr>\n",
       "  </tbody>\n",
       "</table>\n",
       "<p>8 rows × 35 columns</p>\n",
       "</div>"
      ],
      "text/plain": [
       "        const           id       nearc2       nearc4         educ  \\\n",
       "count  3010.0  3010.000000  3010.000000  3010.000000  3010.000000   \n",
       "mean      1.0  2581.748837     0.440864     0.682060    13.263455   \n",
       "std       0.0  1500.538849     0.496573     0.465753     2.676913   \n",
       "min       1.0     2.000000     0.000000     0.000000     1.000000   \n",
       "25%       1.0  1275.500000     0.000000     0.000000    12.000000   \n",
       "50%       1.0  2541.000000     0.000000     1.000000    13.000000   \n",
       "75%       1.0  3858.750000     1.000000     1.000000    16.000000   \n",
       "max       1.0  5225.000000     1.000000     1.000000    18.000000   \n",
       "\n",
       "               age     fatheduc     motheduc        weight     momdad14  ...  \\\n",
       "count  3010.000000  2320.000000  2657.000000  3.010000e+03  3010.000000  ...   \n",
       "mean     28.119601    10.003448    10.348137  3.211853e+05     0.789369  ...   \n",
       "std       3.137004     3.720737     3.179671  1.706458e+05     0.407825  ...   \n",
       "min      24.000000     0.000000     0.000000  7.560700e+04     0.000000  ...   \n",
       "25%      25.000000     8.000000     8.000000  1.227980e+05     1.000000  ...   \n",
       "50%      28.000000    10.000000    12.000000  3.652000e+05     1.000000  ...   \n",
       "75%      31.000000    12.000000    12.000000  4.060240e+05     1.000000  ...   \n",
       "max      34.000000    18.000000    18.000000  1.752340e+06     1.000000  ...   \n",
       "\n",
       "            smsa66         wage       enroll          KWW           IQ  \\\n",
       "count  3010.000000  3010.000000  3010.000000  2963.000000  2061.000000   \n",
       "mean      0.649502   577.282392     0.092359    33.540668   102.449782   \n",
       "std       0.477205   262.958302     0.289580     8.611619    15.423756   \n",
       "min       0.000000   100.000000     0.000000     4.000000    50.000000   \n",
       "25%       0.000000   394.250000     0.000000    28.000000    93.000000   \n",
       "50%       1.000000   537.500000     0.000000    34.000000   103.000000   \n",
       "75%       1.000000   708.750000     0.000000    40.000000   113.000000   \n",
       "max       1.000000  2404.000000     1.000000    56.000000   149.000000   \n",
       "\n",
       "           married     libcrd14        exper        lwage      expersq  \n",
       "count  3003.000000  2997.000000  3010.000000  3010.000000  3010.000000  \n",
       "mean      2.271395     0.674341     8.856146     6.261832    95.579070  \n",
       "std       2.066823     0.468699     4.141672     0.443798    84.618314  \n",
       "min       1.000000     0.000000     0.000000     4.605170     0.000000  \n",
       "25%       1.000000     0.000000     6.000000     5.976985    36.000000  \n",
       "50%       1.000000     1.000000     8.000000     6.286928    64.000000  \n",
       "75%       4.000000     1.000000    11.000000     6.563503   121.000000  \n",
       "max       6.000000     1.000000    23.000000     7.784889   529.000000  \n",
       "\n",
       "[8 rows x 35 columns]"
      ]
     },
     "execution_count": 7,
     "metadata": {},
     "output_type": "execute_result"
    }
   ],
   "source": [
    "df.describe()"
   ]
  },
  {
   "cell_type": "markdown",
   "id": "deluxe-treasure",
   "metadata": {},
   "source": [
    "## (a)"
   ]
  },
  {
   "cell_type": "code",
   "execution_count": 8,
   "id": "surprising-newark",
   "metadata": {},
   "outputs": [
    {
     "name": "stdout",
     "output_type": "stream",
     "text": [
      "                            OLS Regression Results                            \n",
      "==============================================================================\n",
      "Dep. Variable:                  lwage   R-squared:                       0.291\n",
      "Model:                            OLS   Adj. R-squared:                  0.289\n",
      "Method:                 Least Squares   F-statistic:                     204.9\n",
      "Date:                Sun, 28 Mar 2021   Prob (F-statistic):          1.52e-219\n",
      "Time:                        21:59:18   Log-Likelihood:                -1308.7\n",
      "No. Observations:                3010   AIC:                             2631.\n",
      "Df Residuals:                    3003   BIC:                             2673.\n",
      "Df Model:                           6                                         \n",
      "Covariance Type:            nonrobust                                         \n",
      "==============================================================================\n",
      "                 coef    std err          t      P>|t|      [0.025      0.975]\n",
      "------------------------------------------------------------------------------\n",
      "const          4.7337      0.068     70.022      0.000       4.601       4.866\n",
      "educ           0.0740      0.004     21.113      0.000       0.067       0.081\n",
      "exper          0.0836      0.007     12.575      0.000       0.071       0.097\n",
      "expersq       -0.0022      0.000     -7.050      0.000      -0.003      -0.002\n",
      "black         -0.1896      0.018    -10.758      0.000      -0.224      -0.155\n",
      "smsa           0.1614      0.016     10.365      0.000       0.131       0.192\n",
      "south         -0.1249      0.015     -8.259      0.000      -0.155      -0.095\n",
      "==============================================================================\n",
      "Omnibus:                       58.553   Durbin-Watson:                   1.861\n",
      "Prob(Omnibus):                  0.000   Jarque-Bera (JB):               69.495\n",
      "Skew:                          -0.280   Prob(JB):                     8.11e-16\n",
      "Kurtosis:                       3.491   Cond. No.                     1.28e+03\n",
      "==============================================================================\n",
      "\n",
      "Notes:\n",
      "[1] Standard Errors assume that the covariance matrix of the errors is correctly specified.\n",
      "[2] The condition number is large, 1.28e+03. This might indicate that there are\n",
      "strong multicollinearity or other numerical problems.\n"
     ]
    }
   ],
   "source": [
    "X_a   = df[['educ','exper','expersq','black','smsa','south']]\n",
    "X_a   = sm.add_constant(X_a)\n",
    "Y_a   = df[['lwage']]\n",
    "M_OLS = sm.OLS(Y_a, X_a, missing='drop')\n",
    "\n",
    "OLS_result = M_OLS.fit()\n",
    "print(OLS_result.summary())"
   ]
  },
  {
   "cell_type": "markdown",
   "id": "played-sheffield",
   "metadata": {},
   "source": [
    "### for final comparison, we also run it in linearmodels"
   ]
  },
  {
   "cell_type": "code",
   "execution_count": 9,
   "id": "acute-kinase",
   "metadata": {},
   "outputs": [
    {
     "name": "stdout",
     "output_type": "stream",
     "text": [
      "                            OLS Estimation Summary                            \n",
      "==============================================================================\n",
      "Dep. Variable:                  lwage   R-squared:                      0.2905\n",
      "Estimator:                        OLS   Adj. R-squared:                 0.2891\n",
      "No. Observations:                3010   F-statistic:                    1309.5\n",
      "Date:                Sun, Mar 28 2021   P-value (F-stat)                0.0000\n",
      "Time:                        21:59:27   Distribution:                  chi2(6)\n",
      "Cov. Estimator:                robust                                         \n",
      "                                                                              \n",
      "                             Parameter Estimates                              \n",
      "==============================================================================\n",
      "            Parameter  Std. Err.     T-stat    P-value    Lower CI    Upper CI\n",
      "------------------------------------------------------------------------------\n",
      "const          4.7337     0.0701     67.550     0.0000      4.5963      4.8710\n",
      "educ           0.0740     0.0036     20.344     0.0000      0.0669      0.0811\n",
      "exper          0.0836     0.0067     12.431     0.0000      0.0704      0.0968\n",
      "expersq       -0.0022     0.0003    -7.0525     0.0000     -0.0029     -0.0016\n",
      "black         -0.1896     0.0174    -10.891     0.0000     -0.2238     -0.1555\n",
      "smsa           0.1614     0.0152     10.650     0.0000      0.1317      0.1911\n",
      "south         -0.1249     0.0153    -8.1434     0.0000     -0.1549     -0.0948\n",
      "==============================================================================\n"
     ]
    }
   ],
   "source": [
    "M_OLS = IV2SLS(dependent=df['lwage'],\n",
    "               exog=df[['const','educ','exper','expersq',\n",
    "                        'black','smsa','south']],\n",
    "               endog=None,\n",
    "               instruments=None).fit()\n",
    "\n",
    "print(M_OLS.summary)"
   ]
  },
  {
   "cell_type": "markdown",
   "id": "velvet-boring",
   "metadata": {},
   "source": [
    "## (b)"
   ]
  },
  {
   "cell_type": "code",
   "execution_count": 10,
   "id": "respected-houston",
   "metadata": {},
   "outputs": [
    {
     "name": "stdout",
     "output_type": "stream",
     "text": [
      "                            OLS Regression Results                            \n",
      "==============================================================================\n",
      "Dep. Variable:                  lwage   R-squared:                       0.226\n",
      "Model:                            OLS   Adj. R-squared:                  0.223\n",
      "Method:                 Least Squares   F-statistic:                     85.49\n",
      "Date:                Sun, 28 Mar 2021   Prob (F-statistic):          2.28e-109\n",
      "Time:                        21:59:28   Log-Likelihood:                -861.68\n",
      "No. Observations:                2061   AIC:                             1739.\n",
      "Df Residuals:                    2053   BIC:                             1784.\n",
      "Df Model:                           7                                         \n",
      "Covariance Type:            nonrobust                                         \n",
      "==============================================================================\n",
      "                 coef    std err          t      P>|t|      [0.025      0.975]\n",
      "------------------------------------------------------------------------------\n",
      "const          4.4826      0.104     43.270      0.000       4.279       4.686\n",
      "educ           0.0693      0.005     14.217      0.000       0.060       0.079\n",
      "exper          0.0935      0.010      9.808      0.000       0.075       0.112\n",
      "expersq       -0.0027      0.000     -5.444      0.000      -0.004      -0.002\n",
      "black         -0.1361      0.026     -5.181      0.000      -0.188      -0.085\n",
      "smsa           0.1534      0.019      8.125      0.000       0.116       0.190\n",
      "south         -0.0791      0.018     -4.391      0.000      -0.114      -0.044\n",
      "IQ             0.0025      0.001      3.749      0.000       0.001       0.004\n",
      "==============================================================================\n",
      "Omnibus:                       51.426   Durbin-Watson:                   1.911\n",
      "Prob(Omnibus):                  0.000   Jarque-Bera (JB):               64.427\n",
      "Skew:                          -0.307   Prob(JB):                     1.02e-14\n",
      "Kurtosis:                       3.610   Cond. No.                     1.82e+03\n",
      "==============================================================================\n",
      "\n",
      "Notes:\n",
      "[1] Standard Errors assume that the covariance matrix of the errors is correctly specified.\n",
      "[2] The condition number is large, 1.82e+03. This might indicate that there are\n",
      "strong multicollinearity or other numerical problems.\n"
     ]
    }
   ],
   "source": [
    "X_b   = df[['educ','exper','expersq','black','smsa','south','IQ']]\n",
    "X_b   = sm.add_constant(X_b)\n",
    "Y_b   = df[['lwage']]\n",
    "M_Proxy = sm.OLS(Y_b, X_b, missing='drop')\n",
    "\n",
    "Proxy_result = M_Proxy.fit()\n",
    "print(Proxy_result.summary())"
   ]
  },
  {
   "cell_type": "markdown",
   "id": "experimental-transcript",
   "metadata": {},
   "source": [
    "### for final comparison, we also run it in linearmodels"
   ]
  },
  {
   "cell_type": "code",
   "execution_count": 11,
   "id": "strong-sterling",
   "metadata": {},
   "outputs": [
    {
     "name": "stdout",
     "output_type": "stream",
     "text": [
      "                            OLS Estimation Summary                            \n",
      "==============================================================================\n",
      "Dep. Variable:                  lwage   R-squared:                      0.2257\n",
      "Estimator:                        OLS   Adj. R-squared:                 0.2231\n",
      "No. Observations:                2061   F-statistic:                    624.66\n",
      "Date:                Sun, Mar 28 2021   P-value (F-stat)                0.0000\n",
      "Time:                        21:59:35   Distribution:                  chi2(7)\n",
      "Cov. Estimator:                robust                                         \n",
      "                                                                              \n",
      "                             Parameter Estimates                              \n",
      "==============================================================================\n",
      "            Parameter  Std. Err.     T-stat    P-value    Lower CI    Upper CI\n",
      "------------------------------------------------------------------------------\n",
      "const          4.4826     0.1095     40.931     0.0000      4.2679      4.6972\n",
      "educ           0.0693     0.0051     13.637     0.0000      0.0593      0.0792\n",
      "exper          0.0935     0.0092     10.148     0.0000      0.0755      0.1116\n",
      "expersq       -0.0027     0.0005    -5.7508     0.0000     -0.0036     -0.0018\n",
      "black         -0.1361     0.0270    -5.0419     0.0000     -0.1891     -0.0832\n",
      "smsa           0.1534     0.0185     8.2767     0.0000      0.1170      0.1897\n",
      "south         -0.0791     0.0185    -4.2781     0.0000     -0.1153     -0.0428\n",
      "IQ             0.0025     0.0008     3.3589     0.0008      0.0011      0.0040\n",
      "==============================================================================\n"
     ]
    },
    {
     "name": "stderr",
     "output_type": "stream",
     "text": [
      "/Users/ning/anaconda3/lib/python3.7/site-packages/linearmodels/shared/exceptions.py:35: MissingValueWarning: \n",
      "Inputs contain missing values. Dropping rows with missing observations.\n",
      "  warnings.warn(missing_value_warning_msg, MissingValueWarning)\n"
     ]
    }
   ],
   "source": [
    "M_Proxy = IV2SLS(dependent=df['lwage'],\n",
    "                 exog=df[['const','educ','exper','expersq',\n",
    "                          'black','smsa','south', 'IQ']],\n",
    "                 endog=None,\n",
    "                 instruments=None).fit()\n",
    "\n",
    "print(M_Proxy.summary)"
   ]
  },
  {
   "cell_type": "markdown",
   "id": "numeric-appraisal",
   "metadata": {},
   "source": [
    "## (d)"
   ]
  },
  {
   "cell_type": "code",
   "execution_count": 12,
   "id": "imperial-technician",
   "metadata": {},
   "outputs": [
    {
     "name": "stdout",
     "output_type": "stream",
     "text": [
      "                            OLS Regression Results                            \n",
      "==============================================================================\n",
      "Dep. Variable:                     IQ   R-squared:                       0.195\n",
      "Model:                            OLS   Adj. R-squared:                  0.194\n",
      "Method:                 Least Squares   F-statistic:                     124.8\n",
      "Date:                Sun, 28 Mar 2021   Prob (F-statistic):           1.94e-95\n",
      "Time:                        21:59:36   Log-Likelihood:                -8338.7\n",
      "No. Observations:                2061   AIC:                         1.669e+04\n",
      "Df Residuals:                    2056   BIC:                         1.672e+04\n",
      "Df Model:                           4                                         \n",
      "Covariance Type:            nonrobust                                         \n",
      "==============================================================================\n",
      "                 coef    std err          t      P>|t|      [0.025      0.975]\n",
      "------------------------------------------------------------------------------\n",
      "const        102.9627      0.768    134.124      0.000     101.457     104.468\n",
      "nearc4         1.1962      0.717      1.668      0.095      -0.210       2.602\n",
      "black        -17.9012      0.903    -19.816      0.000     -19.673     -16.130\n",
      "smsa           2.7193      0.738      3.683      0.000       1.271       4.167\n",
      "south         -2.3356      0.683     -3.419      0.001      -3.675      -0.996\n",
      "==============================================================================\n",
      "Omnibus:                        8.698   Durbin-Watson:                   1.935\n",
      "Prob(Omnibus):                  0.013   Jarque-Bera (JB):                8.696\n",
      "Skew:                          -0.144   Prob(JB):                       0.0129\n",
      "Kurtosis:                       3.134   Cond. No.                         5.09\n",
      "==============================================================================\n",
      "\n",
      "Notes:\n",
      "[1] Standard Errors assume that the covariance matrix of the errors is correctly specified.\n"
     ]
    }
   ],
   "source": [
    "X_d   = df[['nearc4','black','smsa','south']]\n",
    "X_d   = sm.add_constant(X_d)\n",
    "Y_d   = df[['IQ']]\n",
    "reg_d = sm.OLS(Y_d, X_d, missing='drop')\n",
    "\n",
    "reg_d_result = reg_d.fit()\n",
    "print(reg_d_result.summary())"
   ]
  },
  {
   "cell_type": "markdown",
   "id": "sixth-animal",
   "metadata": {},
   "source": [
    "## (e)"
   ]
  },
  {
   "cell_type": "code",
   "execution_count": 13,
   "id": "caroline-vertical",
   "metadata": {},
   "outputs": [
    {
     "name": "stdout",
     "output_type": "stream",
     "text": [
      "                            OLS Regression Results                            \n",
      "==============================================================================\n",
      "Dep. Variable:                   educ   R-squared:                       0.114\n",
      "Model:                            OLS   Adj. R-squared:                  0.113\n",
      "Method:                 Least Squares   F-statistic:                     96.94\n",
      "Date:                Sun, 28 Mar 2021   Prob (F-statistic):           1.09e-77\n",
      "Time:                        21:59:37   Log-Likelihood:                -7051.7\n",
      "No. Observations:                3010   AIC:                         1.411e+04\n",
      "Df Residuals:                    3005   BIC:                         1.414e+04\n",
      "Df Model:                           4                                         \n",
      "Covariance Type:            nonrobust                                         \n",
      "==============================================================================\n",
      "                 coef    std err          t      P>|t|      [0.025      0.975]\n",
      "------------------------------------------------------------------------------\n",
      "const         12.9578      0.115    113.045      0.000      12.733      13.183\n",
      "nearc4         0.3318      0.107      3.099      0.002       0.122       0.542\n",
      "black         -1.4638      0.116    -12.663      0.000      -1.690      -1.237\n",
      "smsa           0.8478      0.109      7.751      0.000       0.633       1.062\n",
      "south         -0.4538      0.103     -4.422      0.000      -0.655      -0.253\n",
      "==============================================================================\n",
      "Omnibus:                       19.293   Durbin-Watson:                   1.759\n",
      "Prob(Omnibus):                  0.000   Jarque-Bera (JB):               20.810\n",
      "Skew:                          -0.156   Prob(JB):                     3.03e-05\n",
      "Kurtosis:                       3.262   Cond. No.                         4.97\n",
      "==============================================================================\n",
      "\n",
      "Notes:\n",
      "[1] Standard Errors assume that the covariance matrix of the errors is correctly specified.\n"
     ]
    }
   ],
   "source": [
    "X_e   = df[['nearc4','black','smsa','south']]\n",
    "X_e   = sm.add_constant(X_e)\n",
    "Y_e   = df[['educ']]\n",
    "reg_e = sm.OLS(Y_e, X_e, missing='drop')\n",
    "\n",
    "reg_e_result = reg_e.fit()\n",
    "print(reg_e_result.summary())"
   ]
  },
  {
   "cell_type": "markdown",
   "id": "raising-evening",
   "metadata": {},
   "source": [
    "## (f)"
   ]
  },
  {
   "cell_type": "code",
   "execution_count": 14,
   "id": "powered-james",
   "metadata": {},
   "outputs": [
    {
     "name": "stdout",
     "output_type": "stream",
     "text": [
      "                            OLS Regression Results                            \n",
      "==============================================================================\n",
      "Dep. Variable:                  lwage   R-squared:                       0.226\n",
      "Model:                            OLS   Adj. R-squared:                  0.223\n",
      "Method:                 Least Squares   F-statistic:                     74.83\n",
      "Date:                Sun, 28 Mar 2021   Prob (F-statistic):          1.82e-108\n",
      "Time:                        21:59:37   Log-Likelihood:                -861.49\n",
      "No. Observations:                2061   AIC:                             1741.\n",
      "Df Residuals:                    2052   BIC:                             1792.\n",
      "Df Model:                           8                                         \n",
      "Covariance Type:            nonrobust                                         \n",
      "==============================================================================\n",
      "                 coef    std err          t      P>|t|      [0.025      0.975]\n",
      "------------------------------------------------------------------------------\n",
      "const          4.4804      0.104     43.215      0.000       4.277       4.684\n",
      "educ           0.0690      0.005     14.131      0.000       0.059       0.079\n",
      "exper          0.0935      0.010      9.804      0.000       0.075       0.112\n",
      "expersq       -0.0027      0.000     -5.450      0.000      -0.004      -0.002\n",
      "black         -0.1367      0.026     -5.198      0.000      -0.188      -0.085\n",
      "smsa           0.1499      0.020      7.601      0.000       0.111       0.189\n",
      "south         -0.0773      0.018     -4.237      0.000      -0.113      -0.042\n",
      "IQ             0.0025      0.001      3.742      0.000       0.001       0.004\n",
      "nearc4         0.0116      0.019      0.607      0.544      -0.026       0.049\n",
      "==============================================================================\n",
      "Omnibus:                       51.598   Durbin-Watson:                   1.911\n",
      "Prob(Omnibus):                  0.000   Jarque-Bera (JB):               64.660\n",
      "Skew:                          -0.308   Prob(JB):                     9.10e-15\n",
      "Kurtosis:                       3.611   Cond. No.                     1.82e+03\n",
      "==============================================================================\n",
      "\n",
      "Notes:\n",
      "[1] Standard Errors assume that the covariance matrix of the errors is correctly specified.\n",
      "[2] The condition number is large, 1.82e+03. This might indicate that there are\n",
      "strong multicollinearity or other numerical problems.\n"
     ]
    }
   ],
   "source": [
    "X_f   = df[['educ','exper','expersq','black','smsa','south','IQ', 'nearc4']]\n",
    "X_f   = sm.add_constant(X_f)\n",
    "Y_f   = df[['lwage']]\n",
    "reg_f = sm.OLS(Y_f, X_f, missing='drop')\n",
    "\n",
    "reg_f_result = reg_f.fit()\n",
    "print(reg_f_result.summary())"
   ]
  },
  {
   "cell_type": "markdown",
   "id": "integrated-square",
   "metadata": {},
   "source": [
    "## (g)"
   ]
  },
  {
   "cell_type": "code",
   "execution_count": 15,
   "id": "false-burner",
   "metadata": {},
   "outputs": [
    {
     "name": "stdout",
     "output_type": "stream",
     "text": [
      "                          IV-2SLS Estimation Summary                          \n",
      "==============================================================================\n",
      "Dep. Variable:                  lwage   R-squared:                      0.2252\n",
      "Estimator:                    IV-2SLS   Adj. R-squared:                 0.2237\n",
      "No. Observations:                3010   F-statistic:                    792.07\n",
      "Date:                Sun, Mar 28 2021   P-value (F-stat)                0.0000\n",
      "Time:                        21:59:38   Distribution:                  chi2(6)\n",
      "Cov. Estimator:                robust                                         \n",
      "                                                                              \n",
      "                             Parameter Estimates                              \n",
      "==============================================================================\n",
      "            Parameter  Std. Err.     T-stat    P-value    Lower CI    Upper CI\n",
      "------------------------------------------------------------------------------\n",
      "const          3.7528     0.8167     4.5948     0.0000      2.1520      5.3536\n",
      "exper          0.1075     0.0211     5.0916     0.0000      0.0661      0.1489\n",
      "expersq       -0.0023     0.0003    -6.5949     0.0000     -0.0030     -0.0016\n",
      "black         -0.1308     0.0515    -2.5422     0.0110     -0.2316     -0.0300\n",
      "smsa           0.1313     0.0298     4.4115     0.0000      0.0730      0.1897\n",
      "south         -0.1049     0.0229    -4.5809     0.0000     -0.1498     -0.0600\n",
      "educ           0.1323     0.0485     2.7264     0.0064      0.0372      0.2274\n",
      "==============================================================================\n",
      "\n",
      "Endogenous: educ\n",
      "Instruments: nearc4\n",
      "Robust Covariance (Heteroskedastic)\n",
      "Debiased: False\n"
     ]
    }
   ],
   "source": [
    "M_IV = IV2SLS(dependent=df['lwage'],\n",
    "              exog=df[['const','exper','expersq',\n",
    "                       'black','smsa','south']],\n",
    "            endog=df[['educ']],\n",
    "            instruments=df[['nearc4']]).fit()\n",
    "\n",
    "print(M_IV.summary)"
   ]
  },
  {
   "cell_type": "markdown",
   "id": "liquid-birth",
   "metadata": {},
   "source": [
    "## (h) : in Python, you can test endogeneity using 4 tests; unlike Stata can only do one.\n",
    "## Please note that \n",
    "* durbin and hausman are very similar\n",
    "* wooldridge is more robust to heterskedasticity"
   ]
  },
  {
   "cell_type": "code",
   "execution_count": 16,
   "id": "scientific-credits",
   "metadata": {},
   "outputs": [
    {
     "data": {
      "text/plain": [
       "Wu-Hausman test of exogeneity\n",
       "H0: All endogenous variables are exogenous\n",
       "Statistic: 1.5390\n",
       "P-value: 0.2149\n",
       "Distributed: F(1,3002)\n",
       "WaldTestStatistic, id: 0x7fe381f567d0"
      ]
     },
     "execution_count": 16,
     "metadata": {},
     "output_type": "execute_result"
    }
   ],
   "source": [
    "M_IV.wu_hausman()"
   ]
  },
  {
   "cell_type": "code",
   "execution_count": 17,
   "id": "third-recycling",
   "metadata": {},
   "outputs": [
    {
     "data": {
      "text/plain": [
       "Durbin test of exogeneity\n",
       "H0: All endogenous variables are exogenous\n",
       "Statistic: 1.5423\n",
       "P-value: 0.2143\n",
       "Distributed: chi2(1)\n",
       "WaldTestStatistic, id: 0x7fe3788e9bd0"
      ]
     },
     "execution_count": 17,
     "metadata": {},
     "output_type": "execute_result"
    }
   ],
   "source": [
    "M_IV.durbin()"
   ]
  },
  {
   "cell_type": "code",
   "execution_count": 18,
   "id": "necessary-grounds",
   "metadata": {},
   "outputs": [
    {
     "data": {
      "text/plain": [
       "Wooldridge's regression test of exogeneity\n",
       "H0: Endogenous variables are exogenous\n",
       "Statistic: 1.6104\n",
       "P-value: 0.2044\n",
       "Distributed: chi2(1)\n",
       "WaldTestStatistic, id: 0x7fe308041150"
      ]
     },
     "execution_count": 18,
     "metadata": {},
     "output_type": "execute_result"
    }
   ],
   "source": [
    "M_IV.wooldridge_regression"
   ]
  },
  {
   "cell_type": "code",
   "execution_count": 19,
   "id": "recent-cooling",
   "metadata": {},
   "outputs": [
    {
     "data": {
      "text/plain": [
       "Wooldridge's score test of exogeneity\n",
       "H0: Endogenous variables are exogenous\n",
       "Statistic: 1.6091\n",
       "P-value: 0.2046\n",
       "Distributed: chi2(1)\n",
       "WaldTestStatistic, id: 0x7fe308041490"
      ]
     },
     "execution_count": 19,
     "metadata": {},
     "output_type": "execute_result"
    }
   ],
   "source": [
    "M_IV.wooldridge_score"
   ]
  },
  {
   "cell_type": "markdown",
   "id": "instrumental-orleans",
   "metadata": {},
   "source": [
    "## Extra : 2SLS with two instruments (nearc4 and nearc2) for educ"
   ]
  },
  {
   "cell_type": "code",
   "execution_count": 20,
   "id": "affecting-prerequisite",
   "metadata": {},
   "outputs": [
    {
     "name": "stdout",
     "output_type": "stream",
     "text": [
      "                          IV-2SLS Estimation Summary                          \n",
      "==============================================================================\n",
      "Dep. Variable:                  lwage   R-squared:                      0.1455\n",
      "Estimator:                    IV-2SLS   Adj. R-squared:                 0.1438\n",
      "No. Observations:                3010   F-statistic:                    720.37\n",
      "Date:                Sun, Mar 28 2021   P-value (F-stat)                0.0000\n",
      "Time:                        21:59:42   Distribution:                  chi2(6)\n",
      "Cov. Estimator:                robust                                         \n",
      "                                                                              \n",
      "                             Parameter Estimates                              \n",
      "==============================================================================\n",
      "            Parameter  Std. Err.     T-stat    P-value    Lower CI    Upper CI\n",
      "------------------------------------------------------------------------------\n",
      "const          3.2721     0.8169     4.0056     0.0001      1.6711      4.8732\n",
      "exper          0.1192     0.0213     5.5959     0.0000      0.0775      0.1610\n",
      "expersq       -0.0023     0.0004    -6.2535     0.0000     -0.0030     -0.0016\n",
      "black         -0.1020     0.0520    -1.9603     0.0500     -0.2039  -1.697e-05\n",
      "smsa           0.1166     0.0303     3.8527     0.0001      0.0573      0.1759\n",
      "south         -0.0951     0.0234    -4.0639     0.0000     -0.1410     -0.0492\n",
      "educ           0.1608     0.0485     3.3155     0.0009      0.0658      0.2559\n",
      "==============================================================================\n",
      "\n",
      "Endogenous: educ\n",
      "Instruments: nearc4, nearc2\n",
      "Robust Covariance (Heteroskedastic)\n",
      "Debiased: False\n"
     ]
    }
   ],
   "source": [
    "M_2SLS = IV2SLS(dependent=df['lwage'],\n",
    "                exog=df[['const','exper','expersq',\n",
    "                         'black','smsa','south']],\n",
    "                endog=df[['educ']],\n",
    "                instruments=df[['nearc4','nearc2']]).fit()\n",
    "\n",
    "print(M_2SLS.summary)"
   ]
  },
  {
   "cell_type": "markdown",
   "id": "white-stroke",
   "metadata": {},
   "source": [
    "## Finally, let's compare them all"
   ]
  },
  {
   "cell_type": "code",
   "execution_count": 21,
   "id": "hungry-confidentiality",
   "metadata": {},
   "outputs": [
    {
     "name": "stdout",
     "output_type": "stream",
     "text": [
      "                                Model Comparison                                \n",
      "================================================================================\n",
      "                                OLS          Proxy             IV           2SLS\n",
      "--------------------------------------------------------------------------------\n",
      "Dep. Variable                 lwage          lwage          lwage          lwage\n",
      "Estimator                       OLS            OLS        IV-2SLS        IV-2SLS\n",
      "No. Observations               3010           2061           3010           3010\n",
      "Cov. Est.                    robust         robust         robust         robust\n",
      "R-squared                    0.2905         0.2257         0.2252         0.1455\n",
      "Adj. R-squared               0.2891         0.2231         0.2237         0.1438\n",
      "F-statistic                  1309.5         624.66         792.07         720.37\n",
      "P-value (F-stat)             0.0000         0.0000         0.0000         0.0000\n",
      "==================     ============   ============   ============   ============\n",
      "const                     4.7337***      4.4826***      3.7528***      3.2721***\n",
      "                           (0.0701)       (0.1095)       (0.8167)       (0.8169)\n",
      "educ                      0.0740***      0.0693***      0.1323***      0.1608***\n",
      "                           (0.0036)       (0.0051)       (0.0485)       (0.0485)\n",
      "exper                     0.0836***      0.0935***      0.1075***      0.1192***\n",
      "                           (0.0067)       (0.0092)       (0.0211)       (0.0213)\n",
      "expersq                  -0.0022***     -0.0027***     -0.0023***     -0.0023***\n",
      "                           (0.0003)       (0.0005)       (0.0003)       (0.0004)\n",
      "black                    -0.1896***     -0.1361***      -0.1308**      -0.1020**\n",
      "                           (0.0174)       (0.0270)       (0.0515)       (0.0520)\n",
      "smsa                      0.1614***      0.1534***      0.1313***      0.1166***\n",
      "                           (0.0152)       (0.0185)       (0.0298)       (0.0303)\n",
      "south                    -0.1249***     -0.0791***     -0.1049***     -0.0951***\n",
      "                           (0.0153)       (0.0185)       (0.0229)       (0.0234)\n",
      "IQ                                       0.0025***                              \n",
      "                                          (0.0008)                              \n",
      "==================== ============== ============== ============== ==============\n",
      "Instruments                                                nearc4         nearc4\n",
      "                                                                          nearc2\n",
      "--------------------------------------------------------------------------------\n",
      "\n",
      "Std. Errors reported in parentheses\n"
     ]
    }
   ],
   "source": [
    "IV_result = OrderedDict()\n",
    "IV_result['OLS'] = M_OLS\n",
    "IV_result['Proxy'] = M_Proxy\n",
    "IV_result['IV'] = M_IV\n",
    "IV_result['2SLS'] = M_2SLS\n",
    "print(compare(IV_result,precision='std_errors',stars=True))"
   ]
  },
  {
   "cell_type": "code",
   "execution_count": 22,
   "id": "environmental-guarantee",
   "metadata": {},
   "outputs": [
    {
     "name": "stdout",
     "output_type": "stream",
     "text": [
      "[NbConvertApp] Converting notebook W4_Python.ipynb to html\n",
      "[NbConvertApp] Writing 633607 bytes to W4_Python.html\n"
     ]
    }
   ],
   "source": [
    "!jupyter nbconvert --to html W4_Python.ipynb"
   ]
  },
  {
   "cell_type": "code",
   "execution_count": null,
   "id": "circular-irish",
   "metadata": {},
   "outputs": [],
   "source": []
  }
 ],
 "metadata": {
  "kernelspec": {
   "display_name": "Python 3",
   "language": "python",
   "name": "python3"
  },
  "language_info": {
   "codemirror_mode": {
    "name": "ipython",
    "version": 3
   },
   "file_extension": ".py",
   "mimetype": "text/x-python",
   "name": "python",
   "nbconvert_exporter": "python",
   "pygments_lexer": "ipython3",
   "version": "3.7.10"
  }
 },
 "nbformat": 4,
 "nbformat_minor": 5
}
