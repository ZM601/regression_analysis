{
 "cells": [
  {
   "cell_type": "markdown",
   "id": "continuous-hacker",
   "metadata": {},
   "source": [
    "## install AER and stargazer"
   ]
  },
  {
   "cell_type": "code",
   "execution_count": 1,
   "id": "hydraulic-syracuse",
   "metadata": {},
   "outputs": [
    {
     "name": "stderr",
     "output_type": "stream",
     "text": [
      "Loading required package: AER\n",
      "\n",
      "Loading required package: car\n",
      "\n",
      "Loading required package: carData\n",
      "\n",
      "Loading required package: lmtest\n",
      "\n",
      "Loading required package: zoo\n",
      "\n",
      "\n",
      "Attaching package: ‘zoo’\n",
      "\n",
      "\n",
      "The following objects are masked from ‘package:base’:\n",
      "\n",
      "    as.Date, as.Date.numeric\n",
      "\n",
      "\n",
      "Loading required package: sandwich\n",
      "\n",
      "Loading required package: survival\n",
      "\n",
      "Loading required package: stargazer\n",
      "\n",
      "\n",
      "Please cite as: \n",
      "\n",
      "\n",
      " Hlavac, Marek (2018). stargazer: Well-Formatted Regression and Summary Statistics Tables.\n",
      "\n",
      " R package version 5.2.2. https://CRAN.R-project.org/package=stargazer \n",
      "\n",
      "\n"
     ]
    },
    {
     "data": {
      "text/html": [
       "<style>\n",
       ".dl-inline {width: auto; margin:0; padding: 0}\n",
       ".dl-inline>dt, .dl-inline>dd {float: none; width: auto; display: inline-block}\n",
       ".dl-inline>dt::after {content: \":\\0020\"; padding-right: .5ex}\n",
       ".dl-inline>dt:not(:first-of-type) {padding-left: .5ex}\n",
       "</style><dl class=dl-inline><dt>AER</dt><dd>TRUE</dd><dt>stargazer</dt><dd>TRUE</dd></dl>\n"
      ],
      "text/latex": [
       "\\begin{description*}\n",
       "\\item[AER] TRUE\n",
       "\\item[stargazer] TRUE\n",
       "\\end{description*}\n"
      ],
      "text/markdown": [
       "AER\n",
       ":   TRUEstargazer\n",
       ":   TRUE\n",
       "\n"
      ],
      "text/plain": [
       "      AER stargazer \n",
       "     TRUE      TRUE "
      ]
     },
     "metadata": {},
     "output_type": "display_data"
    }
   ],
   "source": [
    "#clear your memory\n",
    "rm(list = ls())\n",
    "\n",
    "#update packages\n",
    "update.packages(ask = FALSE)\n",
    "\n",
    "ipak <- function(pkg){\n",
    "  new.pkg <- pkg[!(pkg %in% installed.packages()[, \"Package\"])]\n",
    "  if (length(new.pkg))\n",
    "    install.packages(new.pkg, dependencies = TRUE)\n",
    "  sapply(pkg, require, character.only = TRUE)\n",
    "}\n",
    "\n",
    "packages <- c('AER','stargazer')\n",
    "\n",
    "ipak(packages)"
   ]
  },
  {
   "cell_type": "code",
   "execution_count": 4,
   "id": "canadian-quest",
   "metadata": {},
   "outputs": [
    {
     "name": "stderr",
     "output_type": "stream",
     "text": [
      "\n",
      "Attaching package: ‘dplyr’\n",
      "\n",
      "\n",
      "The following object is masked from ‘package:car’:\n",
      "\n",
      "    recode\n",
      "\n",
      "\n",
      "The following objects are masked from ‘package:stats’:\n",
      "\n",
      "    filter, lag\n",
      "\n",
      "\n",
      "The following objects are masked from ‘package:base’:\n",
      "\n",
      "    intersect, setdiff, setequal, union\n",
      "\n",
      "\n",
      "Loading required package: lattice\n",
      "\n",
      "Loading required package: Formula\n",
      "\n",
      "Loading required package: ggplot2\n",
      "\n",
      "\n",
      "Attaching package: ‘Hmisc’\n",
      "\n",
      "\n",
      "The following objects are masked from ‘package:dplyr’:\n",
      "\n",
      "    src, summarize\n",
      "\n",
      "\n",
      "The following objects are masked from ‘package:base’:\n",
      "\n",
      "    format.pval, units\n",
      "\n",
      "\n"
     ]
    }
   ],
   "source": [
    "library(readr)\n",
    "library(dplyr)\n",
    "library(car)\n",
    "library(Hmisc)\n",
    "library(AER)\n",
    "library(stargazer)"
   ]
  },
  {
   "cell_type": "code",
   "execution_count": 5,
   "id": "twelve-winter",
   "metadata": {},
   "outputs": [
    {
     "name": "stderr",
     "output_type": "stream",
     "text": [
      "\n",
      "\u001b[36m──\u001b[39m \u001b[1m\u001b[1mColumn specification\u001b[1m\u001b[22m \u001b[36m─────────────────────────────────────────────────────────\u001b[39m\n",
      "cols(\n",
      "  .default = col_double()\n",
      ")\n",
      "\u001b[36mℹ\u001b[39m Use \u001b[30m\u001b[47m\u001b[30m\u001b[47m`spec()`\u001b[47m\u001b[30m\u001b[49m\u001b[39m for the full column specifications.\n",
      "\n",
      "\n"
     ]
    }
   ],
   "source": [
    "data <- read_csv(\"CARD.csv\")"
   ]
  },
  {
   "cell_type": "code",
   "execution_count": 6,
   "id": "multiple-archive",
   "metadata": {},
   "outputs": [
    {
     "data": {
      "text/html": [
       "<table class=\"dataframe\">\n",
       "<caption>A tibble: 6 × 34</caption>\n",
       "<thead>\n",
       "\t<tr><th scope=col>id</th><th scope=col>nearc2</th><th scope=col>nearc4</th><th scope=col>educ</th><th scope=col>age</th><th scope=col>fatheduc</th><th scope=col>motheduc</th><th scope=col>weight</th><th scope=col>momdad14</th><th scope=col>sinmom14</th><th scope=col>⋯</th><th scope=col>smsa66</th><th scope=col>wage</th><th scope=col>enroll</th><th scope=col>KWW</th><th scope=col>IQ</th><th scope=col>married</th><th scope=col>libcrd14</th><th scope=col>exper</th><th scope=col>lwage</th><th scope=col>expersq</th></tr>\n",
       "\t<tr><th scope=col>&lt;dbl&gt;</th><th scope=col>&lt;dbl&gt;</th><th scope=col>&lt;dbl&gt;</th><th scope=col>&lt;dbl&gt;</th><th scope=col>&lt;dbl&gt;</th><th scope=col>&lt;dbl&gt;</th><th scope=col>&lt;dbl&gt;</th><th scope=col>&lt;dbl&gt;</th><th scope=col>&lt;dbl&gt;</th><th scope=col>&lt;dbl&gt;</th><th scope=col>⋯</th><th scope=col>&lt;dbl&gt;</th><th scope=col>&lt;dbl&gt;</th><th scope=col>&lt;dbl&gt;</th><th scope=col>&lt;dbl&gt;</th><th scope=col>&lt;dbl&gt;</th><th scope=col>&lt;dbl&gt;</th><th scope=col>&lt;dbl&gt;</th><th scope=col>&lt;dbl&gt;</th><th scope=col>&lt;dbl&gt;</th><th scope=col>&lt;dbl&gt;</th></tr>\n",
       "</thead>\n",
       "<tbody>\n",
       "\t<tr><td>2</td><td>0</td><td>0</td><td> 7</td><td>29</td><td>NA</td><td>NA</td><td>158413</td><td>1</td><td>0</td><td>⋯</td><td>1</td><td>548</td><td>0</td><td>15</td><td> NA</td><td>1</td><td>0</td><td>16</td><td>6.306275</td><td>256</td></tr>\n",
       "\t<tr><td>3</td><td>0</td><td>0</td><td>12</td><td>27</td><td> 8</td><td> 8</td><td>380166</td><td>1</td><td>0</td><td>⋯</td><td>1</td><td>481</td><td>0</td><td>35</td><td> 93</td><td>1</td><td>1</td><td> 9</td><td>6.175867</td><td> 81</td></tr>\n",
       "\t<tr><td>4</td><td>0</td><td>0</td><td>12</td><td>34</td><td>14</td><td>12</td><td>367470</td><td>1</td><td>0</td><td>⋯</td><td>1</td><td>721</td><td>0</td><td>42</td><td>103</td><td>1</td><td>1</td><td>16</td><td>6.580639</td><td>256</td></tr>\n",
       "\t<tr><td>5</td><td>1</td><td>1</td><td>11</td><td>27</td><td>11</td><td>12</td><td>380166</td><td>1</td><td>0</td><td>⋯</td><td>1</td><td>250</td><td>0</td><td>25</td><td> 88</td><td>1</td><td>1</td><td>10</td><td>5.521461</td><td>100</td></tr>\n",
       "\t<tr><td>6</td><td>1</td><td>1</td><td>12</td><td>34</td><td> 8</td><td> 7</td><td>367470</td><td>1</td><td>0</td><td>⋯</td><td>1</td><td>729</td><td>0</td><td>34</td><td>108</td><td>1</td><td>0</td><td>16</td><td>6.591674</td><td>256</td></tr>\n",
       "\t<tr><td>7</td><td>1</td><td>1</td><td>12</td><td>26</td><td> 9</td><td>12</td><td>380166</td><td>1</td><td>0</td><td>⋯</td><td>1</td><td>500</td><td>0</td><td>38</td><td> 85</td><td>1</td><td>1</td><td> 8</td><td>6.214608</td><td> 64</td></tr>\n",
       "</tbody>\n",
       "</table>\n"
      ],
      "text/latex": [
       "A tibble: 6 × 34\n",
       "\\begin{tabular}{lllllllllllllllllllll}\n",
       " id & nearc2 & nearc4 & educ & age & fatheduc & motheduc & weight & momdad14 & sinmom14 & ⋯ & smsa66 & wage & enroll & KWW & IQ & married & libcrd14 & exper & lwage & expersq\\\\\n",
       " <dbl> & <dbl> & <dbl> & <dbl> & <dbl> & <dbl> & <dbl> & <dbl> & <dbl> & <dbl> & ⋯ & <dbl> & <dbl> & <dbl> & <dbl> & <dbl> & <dbl> & <dbl> & <dbl> & <dbl> & <dbl>\\\\\n",
       "\\hline\n",
       "\t 2 & 0 & 0 &  7 & 29 & NA & NA & 158413 & 1 & 0 & ⋯ & 1 & 548 & 0 & 15 &  NA & 1 & 0 & 16 & 6.306275 & 256\\\\\n",
       "\t 3 & 0 & 0 & 12 & 27 &  8 &  8 & 380166 & 1 & 0 & ⋯ & 1 & 481 & 0 & 35 &  93 & 1 & 1 &  9 & 6.175867 &  81\\\\\n",
       "\t 4 & 0 & 0 & 12 & 34 & 14 & 12 & 367470 & 1 & 0 & ⋯ & 1 & 721 & 0 & 42 & 103 & 1 & 1 & 16 & 6.580639 & 256\\\\\n",
       "\t 5 & 1 & 1 & 11 & 27 & 11 & 12 & 380166 & 1 & 0 & ⋯ & 1 & 250 & 0 & 25 &  88 & 1 & 1 & 10 & 5.521461 & 100\\\\\n",
       "\t 6 & 1 & 1 & 12 & 34 &  8 &  7 & 367470 & 1 & 0 & ⋯ & 1 & 729 & 0 & 34 & 108 & 1 & 0 & 16 & 6.591674 & 256\\\\\n",
       "\t 7 & 1 & 1 & 12 & 26 &  9 & 12 & 380166 & 1 & 0 & ⋯ & 1 & 500 & 0 & 38 &  85 & 1 & 1 &  8 & 6.214608 &  64\\\\\n",
       "\\end{tabular}\n"
      ],
      "text/markdown": [
       "\n",
       "A tibble: 6 × 34\n",
       "\n",
       "| id &lt;dbl&gt; | nearc2 &lt;dbl&gt; | nearc4 &lt;dbl&gt; | educ &lt;dbl&gt; | age &lt;dbl&gt; | fatheduc &lt;dbl&gt; | motheduc &lt;dbl&gt; | weight &lt;dbl&gt; | momdad14 &lt;dbl&gt; | sinmom14 &lt;dbl&gt; | ⋯ ⋯ | smsa66 &lt;dbl&gt; | wage &lt;dbl&gt; | enroll &lt;dbl&gt; | KWW &lt;dbl&gt; | IQ &lt;dbl&gt; | married &lt;dbl&gt; | libcrd14 &lt;dbl&gt; | exper &lt;dbl&gt; | lwage &lt;dbl&gt; | expersq &lt;dbl&gt; |\n",
       "|---|---|---|---|---|---|---|---|---|---|---|---|---|---|---|---|---|---|---|---|---|\n",
       "| 2 | 0 | 0 |  7 | 29 | NA | NA | 158413 | 1 | 0 | ⋯ | 1 | 548 | 0 | 15 |  NA | 1 | 0 | 16 | 6.306275 | 256 |\n",
       "| 3 | 0 | 0 | 12 | 27 |  8 |  8 | 380166 | 1 | 0 | ⋯ | 1 | 481 | 0 | 35 |  93 | 1 | 1 |  9 | 6.175867 |  81 |\n",
       "| 4 | 0 | 0 | 12 | 34 | 14 | 12 | 367470 | 1 | 0 | ⋯ | 1 | 721 | 0 | 42 | 103 | 1 | 1 | 16 | 6.580639 | 256 |\n",
       "| 5 | 1 | 1 | 11 | 27 | 11 | 12 | 380166 | 1 | 0 | ⋯ | 1 | 250 | 0 | 25 |  88 | 1 | 1 | 10 | 5.521461 | 100 |\n",
       "| 6 | 1 | 1 | 12 | 34 |  8 |  7 | 367470 | 1 | 0 | ⋯ | 1 | 729 | 0 | 34 | 108 | 1 | 0 | 16 | 6.591674 | 256 |\n",
       "| 7 | 1 | 1 | 12 | 26 |  9 | 12 | 380166 | 1 | 0 | ⋯ | 1 | 500 | 0 | 38 |  85 | 1 | 1 |  8 | 6.214608 |  64 |\n",
       "\n"
      ],
      "text/plain": [
       "  id nearc2 nearc4 educ age fatheduc motheduc weight momdad14 sinmom14 ⋯ smsa66\n",
       "1 2  0      0       7   29  NA       NA       158413 1        0        ⋯ 1     \n",
       "2 3  0      0      12   27   8        8       380166 1        0        ⋯ 1     \n",
       "3 4  0      0      12   34  14       12       367470 1        0        ⋯ 1     \n",
       "4 5  1      1      11   27  11       12       380166 1        0        ⋯ 1     \n",
       "5 6  1      1      12   34   8        7       367470 1        0        ⋯ 1     \n",
       "6 7  1      1      12   26   9       12       380166 1        0        ⋯ 1     \n",
       "  wage enroll KWW IQ  married libcrd14 exper lwage    expersq\n",
       "1 548  0      15   NA 1       0        16    6.306275 256    \n",
       "2 481  0      35   93 1       1         9    6.175867  81    \n",
       "3 721  0      42  103 1       1        16    6.580639 256    \n",
       "4 250  0      25   88 1       1        10    5.521461 100    \n",
       "5 729  0      34  108 1       0        16    6.591674 256    \n",
       "6 500  0      38   85 1       1         8    6.214608  64    "
      ]
     },
     "metadata": {},
     "output_type": "display_data"
    }
   ],
   "source": [
    "head(data)"
   ]
  },
  {
   "cell_type": "code",
   "execution_count": 7,
   "id": "hybrid-valley",
   "metadata": {},
   "outputs": [
    {
     "data": {
      "text/plain": [
       "       id           nearc2           nearc4            educ      \n",
       " Min.   :   2   Min.   :0.0000   Min.   :0.0000   Min.   : 1.00  \n",
       " 1st Qu.:1276   1st Qu.:0.0000   1st Qu.:0.0000   1st Qu.:12.00  \n",
       " Median :2541   Median :0.0000   Median :1.0000   Median :13.00  \n",
       " Mean   :2582   Mean   :0.4409   Mean   :0.6821   Mean   :13.26  \n",
       " 3rd Qu.:3859   3rd Qu.:1.0000   3rd Qu.:1.0000   3rd Qu.:16.00  \n",
       " Max.   :5225   Max.   :1.0000   Max.   :1.0000   Max.   :18.00  \n",
       "                                                                 \n",
       "      age           fatheduc      motheduc         weight       \n",
       " Min.   :24.00   Min.   : 0    Min.   : 0.00   Min.   :  75607  \n",
       " 1st Qu.:25.00   1st Qu.: 8    1st Qu.: 8.00   1st Qu.: 122798  \n",
       " Median :28.00   Median :10    Median :12.00   Median : 365200  \n",
       " Mean   :28.12   Mean   :10    Mean   :10.35   Mean   : 321185  \n",
       " 3rd Qu.:31.00   3rd Qu.:12    3rd Qu.:12.00   3rd Qu.: 406024  \n",
       " Max.   :34.00   Max.   :18    Max.   :18.00   Max.   :1752340  \n",
       "                 NA's   :690   NA's   :353                      \n",
       "    momdad14         sinmom14          step14            reg661       \n",
       " Min.   :0.0000   Min.   :0.0000   Min.   :0.00000   Min.   :0.00000  \n",
       " 1st Qu.:1.0000   1st Qu.:0.0000   1st Qu.:0.00000   1st Qu.:0.00000  \n",
       " Median :1.0000   Median :0.0000   Median :0.00000   Median :0.00000  \n",
       " Mean   :0.7894   Mean   :0.1007   Mean   :0.03887   Mean   :0.04651  \n",
       " 3rd Qu.:1.0000   3rd Qu.:0.0000   3rd Qu.:0.00000   3rd Qu.:0.00000  \n",
       " Max.   :1.0000   Max.   :1.0000   Max.   :1.00000   Max.   :1.00000  \n",
       "                                                                      \n",
       "     reg662           reg663           reg664            reg665      \n",
       " Min.   :0.0000   Min.   :0.0000   Min.   :0.00000   Min.   :0.0000  \n",
       " 1st Qu.:0.0000   1st Qu.:0.0000   1st Qu.:0.00000   1st Qu.:0.0000  \n",
       " Median :0.0000   Median :0.0000   Median :0.00000   Median :0.0000  \n",
       " Mean   :0.1608   Mean   :0.1957   Mean   :0.06412   Mean   :0.2083  \n",
       " 3rd Qu.:0.0000   3rd Qu.:0.0000   3rd Qu.:0.00000   3rd Qu.:0.0000  \n",
       " Max.   :1.0000   Max.   :1.0000   Max.   :1.00000   Max.   :1.0000  \n",
       "                                                                     \n",
       "     reg666            reg667         reg668            reg669       \n",
       " Min.   :0.00000   Min.   :0.00   Min.   :0.00000   Min.   :0.00000  \n",
       " 1st Qu.:0.00000   1st Qu.:0.00   1st Qu.:0.00000   1st Qu.:0.00000  \n",
       " Median :0.00000   Median :0.00   Median :0.00000   Median :0.00000  \n",
       " Mean   :0.09601   Mean   :0.11   Mean   :0.02824   Mean   :0.09037  \n",
       " 3rd Qu.:0.00000   3rd Qu.:0.00   3rd Qu.:0.00000   3rd Qu.:0.00000  \n",
       " Max.   :1.00000   Max.   :1.00   Max.   :1.00000   Max.   :1.00000  \n",
       "                                                                     \n",
       "    south66           black             smsa           south       \n",
       " Min.   :0.0000   Min.   :0.0000   Min.   :0.000   Min.   :0.0000  \n",
       " 1st Qu.:0.0000   1st Qu.:0.0000   1st Qu.:0.000   1st Qu.:0.0000  \n",
       " Median :0.0000   Median :0.0000   Median :1.000   Median :0.0000  \n",
       " Mean   :0.4143   Mean   :0.2336   Mean   :0.713   Mean   :0.4037  \n",
       " 3rd Qu.:1.0000   3rd Qu.:0.0000   3rd Qu.:1.000   3rd Qu.:1.0000  \n",
       " Max.   :1.0000   Max.   :1.0000   Max.   :1.000   Max.   :1.0000  \n",
       "                                                                   \n",
       "     smsa66            wage            enroll             KWW       \n",
       " Min.   :0.0000   Min.   : 100.0   Min.   :0.00000   Min.   : 4.00  \n",
       " 1st Qu.:0.0000   1st Qu.: 394.2   1st Qu.:0.00000   1st Qu.:28.00  \n",
       " Median :1.0000   Median : 537.5   Median :0.00000   Median :34.00  \n",
       " Mean   :0.6495   Mean   : 577.3   Mean   :0.09236   Mean   :33.54  \n",
       " 3rd Qu.:1.0000   3rd Qu.: 708.8   3rd Qu.:0.00000   3rd Qu.:40.00  \n",
       " Max.   :1.0000   Max.   :2404.0   Max.   :1.00000   Max.   :56.00  \n",
       "                                                     NA's   :47     \n",
       "       IQ           married         libcrd14          exper       \n",
       " Min.   : 50.0   Min.   :1.000   Min.   :0.0000   Min.   : 0.000  \n",
       " 1st Qu.: 93.0   1st Qu.:1.000   1st Qu.:0.0000   1st Qu.: 6.000  \n",
       " Median :103.0   Median :1.000   Median :1.0000   Median : 8.000  \n",
       " Mean   :102.4   Mean   :2.271   Mean   :0.6743   Mean   : 8.856  \n",
       " 3rd Qu.:113.0   3rd Qu.:4.000   3rd Qu.:1.0000   3rd Qu.:11.000  \n",
       " Max.   :149.0   Max.   :6.000   Max.   :1.0000   Max.   :23.000  \n",
       " NA's   :949     NA's   :7       NA's   :13                       \n",
       "     lwage          expersq      \n",
       " Min.   :4.605   Min.   :  0.00  \n",
       " 1st Qu.:5.977   1st Qu.: 36.00  \n",
       " Median :6.287   Median : 64.00  \n",
       " Mean   :6.262   Mean   : 95.58  \n",
       " 3rd Qu.:6.564   3rd Qu.:121.00  \n",
       " Max.   :7.785   Max.   :529.00  \n",
       "                                 "
      ]
     },
     "metadata": {},
     "output_type": "display_data"
    }
   ],
   "source": [
    "summary(data)"
   ]
  },
  {
   "cell_type": "markdown",
   "id": "relative-titanium",
   "metadata": {},
   "source": [
    "## (a)"
   ]
  },
  {
   "cell_type": "code",
   "execution_count": 9,
   "id": "sexual-geneva",
   "metadata": {},
   "outputs": [
    {
     "data": {
      "text/plain": [
       "\n",
       "Call:\n",
       "lm(formula = lwage ~ educ + exper + expersq + black + smsa + \n",
       "    south, data = data)\n",
       "\n",
       "Residuals:\n",
       "     Min       1Q   Median       3Q      Max \n",
       "-1.59297 -0.22315  0.01893  0.24223  1.33190 \n",
       "\n",
       "Coefficients:\n",
       "              Estimate Std. Error t value Pr(>|t|)    \n",
       "(Intercept)  4.7336643  0.0676026  70.022  < 2e-16 ***\n",
       "educ         0.0740090  0.0035054  21.113  < 2e-16 ***\n",
       "exper        0.0835958  0.0066478  12.575  < 2e-16 ***\n",
       "expersq     -0.0022409  0.0003178  -7.050 2.21e-12 ***\n",
       "black       -0.1896315  0.0176266 -10.758  < 2e-16 ***\n",
       "smsa         0.1614230  0.0155733  10.365  < 2e-16 ***\n",
       "south       -0.1248615  0.0151182  -8.259  < 2e-16 ***\n",
       "---\n",
       "Signif. codes:  0 ‘***’ 0.001 ‘**’ 0.01 ‘*’ 0.05 ‘.’ 0.1 ‘ ’ 1\n",
       "\n",
       "Residual standard error: 0.3742 on 3003 degrees of freedom\n",
       "Multiple R-squared:  0.2905,\tAdjusted R-squared:  0.2891 \n",
       "F-statistic: 204.9 on 6 and 3003 DF,  p-value: < 2.2e-16\n"
      ]
     },
     "metadata": {},
     "output_type": "display_data"
    }
   ],
   "source": [
    "M_OLS = lm(lwage ~ educ + exper + expersq + black + smsa + south, data=data)\n",
    "\n",
    "summary(M_OLS)"
   ]
  },
  {
   "cell_type": "markdown",
   "id": "universal-replacement",
   "metadata": {},
   "source": [
    "## (b)"
   ]
  },
  {
   "cell_type": "code",
   "execution_count": 10,
   "id": "genuine-chapel",
   "metadata": {},
   "outputs": [
    {
     "data": {
      "text/plain": [
       "\n",
       "Call:\n",
       "lm(formula = lwage ~ educ + exper + expersq + black + smsa + \n",
       "    south + IQ, data = data)\n",
       "\n",
       "Residuals:\n",
       "     Min       1Q   Median       3Q      Max \n",
       "-1.56468 -0.20592  0.01797  0.23944  1.42401 \n",
       "\n",
       "Coefficients:\n",
       "              Estimate Std. Error t value Pr(>|t|)    \n",
       "(Intercept)  4.4825806  0.1035960  43.270  < 2e-16 ***\n",
       "educ         0.0692646  0.0048720  14.217  < 2e-16 ***\n",
       "exper        0.0935215  0.0095356   9.808  < 2e-16 ***\n",
       "expersq     -0.0026762  0.0004916  -5.444 5.85e-08 ***\n",
       "black       -0.1361350  0.0262767  -5.181 2.43e-07 ***\n",
       "smsa         0.1533510  0.0188749   8.125 7.67e-16 ***\n",
       "south       -0.0790786  0.0180092  -4.391 1.19e-05 ***\n",
       "IQ           0.0025294  0.0006747   3.749 0.000183 ***\n",
       "---\n",
       "Signif. codes:  0 ‘***’ 0.001 ‘**’ 0.01 ‘*’ 0.05 ‘.’ 0.1 ‘ ’ 1\n",
       "\n",
       "Residual standard error: 0.3683 on 2053 degrees of freedom\n",
       "  (949 observations deleted due to missingness)\n",
       "Multiple R-squared:  0.2257,\tAdjusted R-squared:  0.2231 \n",
       "F-statistic: 85.49 on 7 and 2053 DF,  p-value: < 2.2e-16\n"
      ]
     },
     "metadata": {},
     "output_type": "display_data"
    }
   ],
   "source": [
    "M_Proxy = lm(lwage ~ educ + exper + expersq + black + smsa + south + IQ, data=data)\n",
    "\n",
    "summary(M_Proxy)"
   ]
  },
  {
   "cell_type": "markdown",
   "id": "convenient-county",
   "metadata": {},
   "source": [
    "## (d)"
   ]
  },
  {
   "cell_type": "code",
   "execution_count": 13,
   "id": "endless-manitoba",
   "metadata": {},
   "outputs": [
    {
     "data": {
      "text/plain": [
       "\n",
       "Call:\n",
       "lm(formula = IQ ~ nearc4 + smsa + south, data = data)\n",
       "\n",
       "Residuals:\n",
       "    Min      1Q  Median      3Q     Max \n",
       "-51.174  -9.545   0.817  10.345  43.826 \n",
       "\n",
       "Coefficients:\n",
       "            Estimate Std. Error t value Pr(>|t|)    \n",
       "(Intercept) 102.6549     0.8374 122.588   <2e-16 ***\n",
       "nearc4        0.8902     0.7821   1.138   0.2552    \n",
       "smsa          1.6290     0.8034   2.028   0.0427 *  \n",
       "south        -5.9910     0.7177  -8.348   <2e-16 ***\n",
       "---\n",
       "Signif. codes:  0 ‘***’ 0.001 ‘**’ 0.01 ‘*’ 0.05 ‘.’ 0.1 ‘ ’ 1\n",
       "\n",
       "Residual standard error: 15.11 on 2057 degrees of freedom\n",
       "  (949 observations deleted due to missingness)\n",
       "Multiple R-squared:  0.04163,\tAdjusted R-squared:  0.04023 \n",
       "F-statistic: 29.79 on 3 and 2057 DF,  p-value: < 2.2e-16\n"
      ]
     },
     "metadata": {},
     "output_type": "display_data"
    }
   ],
   "source": [
    "reg_1 = lm(IQ ~ nearc4 + smsa + south, data=data)\n",
    "\n",
    "summary(reg_1)"
   ]
  },
  {
   "cell_type": "markdown",
   "id": "proper-preference",
   "metadata": {},
   "source": [
    "## (e)"
   ]
  },
  {
   "cell_type": "code",
   "execution_count": 14,
   "id": "obvious-hamburg",
   "metadata": {},
   "outputs": [
    {
     "data": {
      "text/plain": [
       "\n",
       "Call:\n",
       "lm(formula = educ ~ nearc4 + black + smsa + south, data = data)\n",
       "\n",
       "Residuals:\n",
       "     Min       1Q   Median       3Q      Max \n",
       "-12.3518  -1.8056  -0.2197   1.8626   6.9598 \n",
       "\n",
       "Coefficients:\n",
       "            Estimate Std. Error t value Pr(>|t|)    \n",
       "(Intercept)  12.9578     0.1146 113.045  < 2e-16 ***\n",
       "nearc4        0.3318     0.1071   3.099  0.00196 ** \n",
       "black        -1.4638     0.1156 -12.663  < 2e-16 ***\n",
       "smsa          0.8478     0.1094   7.751 1.24e-14 ***\n",
       "south        -0.4538     0.1026  -4.422 1.01e-05 ***\n",
       "---\n",
       "Signif. codes:  0 ‘***’ 0.001 ‘**’ 0.01 ‘*’ 0.05 ‘.’ 0.1 ‘ ’ 1\n",
       "\n",
       "Residual standard error: 2.521 on 3005 degrees of freedom\n",
       "Multiple R-squared:  0.1143,\tAdjusted R-squared:  0.1131 \n",
       "F-statistic: 96.94 on 4 and 3005 DF,  p-value: < 2.2e-16\n"
      ]
     },
     "metadata": {},
     "output_type": "display_data"
    }
   ],
   "source": [
    "reg_2 = lm(educ ~ nearc4 + black + smsa + south, data=data)\n",
    "\n",
    "summary(reg_2)"
   ]
  },
  {
   "cell_type": "markdown",
   "id": "encouraging-winter",
   "metadata": {},
   "source": [
    "## (f)"
   ]
  },
  {
   "cell_type": "code",
   "execution_count": 15,
   "id": "geographic-madonna",
   "metadata": {},
   "outputs": [
    {
     "data": {
      "text/plain": [
       "\n",
       "Call:\n",
       "lm(formula = lwage ~ educ + exper + expersq + black + smsa + \n",
       "    south + IQ + nearc4, data = data)\n",
       "\n",
       "Residuals:\n",
       "     Min       1Q   Median       3Q      Max \n",
       "-1.56636 -0.20839  0.01802  0.24030  1.42024 \n",
       "\n",
       "Coefficients:\n",
       "              Estimate Std. Error t value Pr(>|t|)    \n",
       "(Intercept)  4.4803710  0.1036758  43.215  < 2e-16 ***\n",
       "educ         0.0690458  0.0048861  14.131  < 2e-16 ***\n",
       "exper        0.0935021  0.0095371   9.804  < 2e-16 ***\n",
       "expersq     -0.0026801  0.0004917  -5.450 5.64e-08 ***\n",
       "black       -0.1366962  0.0262970  -5.198 2.21e-07 ***\n",
       "smsa         0.1498893  0.0197195   7.601 4.44e-14 ***\n",
       "south       -0.0773091  0.0182461  -4.237 2.37e-05 ***\n",
       "IQ           0.0025251  0.0006748   3.742 0.000188 ***\n",
       "nearc4       0.0116268  0.0191433   0.607 0.543681    \n",
       "---\n",
       "Signif. codes:  0 ‘***’ 0.001 ‘**’ 0.01 ‘*’ 0.05 ‘.’ 0.1 ‘ ’ 1\n",
       "\n",
       "Residual standard error: 0.3683 on 2052 degrees of freedom\n",
       "  (949 observations deleted due to missingness)\n",
       "Multiple R-squared:  0.2258,\tAdjusted R-squared:  0.2228 \n",
       "F-statistic: 74.83 on 8 and 2052 DF,  p-value: < 2.2e-16\n"
      ]
     },
     "metadata": {},
     "output_type": "display_data"
    }
   ],
   "source": [
    "reg_3 = lm(lwage ~ educ + exper + expersq + black + smsa + south + IQ + nearc4, data=data)\n",
    "\n",
    "summary(reg_3)"
   ]
  },
  {
   "cell_type": "markdown",
   "id": "golden-conditioning",
   "metadata": {},
   "source": [
    "## (g)"
   ]
  },
  {
   "cell_type": "code",
   "execution_count": 20,
   "id": "capable-language",
   "metadata": {},
   "outputs": [],
   "source": [
    "M_IV <- ivreg(lwage ~ exper + expersq + black + smsa + south + educ | exper + expersq + black + smsa + south + nearc4, data = data)"
   ]
  },
  {
   "cell_type": "code",
   "execution_count": 21,
   "id": "false-subscription",
   "metadata": {},
   "outputs": [
    {
     "data": {
      "text/plain": [
       "\n",
       "Call:\n",
       "ivreg(formula = lwage ~ exper + expersq + black + smsa + south + \n",
       "    educ | exper + expersq + black + smsa + south + nearc4, data = data)\n",
       "\n",
       "Residuals:\n",
       "     Min       1Q   Median       3Q      Max \n",
       "-1.82125 -0.24065  0.02368  0.25469  1.43205 \n",
       "\n",
       "Coefficients:\n",
       "              Estimate Std. Error t value Pr(>|t|)    \n",
       "(Intercept)  3.7527813  0.8293409   4.525 6.27e-06 ***\n",
       "exper        0.1074980  0.0213006   5.047 4.76e-07 ***\n",
       "expersq     -0.0022841  0.0003341  -6.836 9.84e-12 ***\n",
       "black       -0.1308019  0.0528723  -2.474  0.01342 *  \n",
       "smsa         0.1313237  0.0301298   4.359 1.35e-05 ***\n",
       "south       -0.1049005  0.0230731  -4.546 5.67e-06 ***\n",
       "educ         0.1322888  0.0492332   2.687  0.00725 ** \n",
       "---\n",
       "Signif. codes:  0 ‘***’ 0.001 ‘**’ 0.01 ‘*’ 0.05 ‘.’ 0.1 ‘ ’ 1\n",
       "\n",
       "Residual standard error: 0.391 on 3003 degrees of freedom\n",
       "Multiple R-Squared: 0.2252,\tAdjusted R-squared: 0.2237 \n",
       "Wald test: 120.8 on 6 and 3003 DF,  p-value: < 2.2e-16 \n"
      ]
     },
     "metadata": {},
     "output_type": "display_data"
    }
   ],
   "source": [
    "summary(M_IV)"
   ]
  },
  {
   "cell_type": "markdown",
   "id": "stylish-senegal",
   "metadata": {},
   "source": [
    "## (h)"
   ]
  },
  {
   "cell_type": "code",
   "execution_count": 23,
   "id": "handmade-innocent",
   "metadata": {},
   "outputs": [
    {
     "data": {
      "text/plain": [
       "\n",
       "Call:\n",
       "ivreg(formula = lwage ~ exper + expersq + black + smsa + south + \n",
       "    educ | exper + expersq + black + smsa + south + nearc4, data = data)\n",
       "\n",
       "Residuals:\n",
       "     Min       1Q   Median       3Q      Max \n",
       "-1.82125 -0.24065  0.02368  0.25469  1.43205 \n",
       "\n",
       "Coefficients:\n",
       "              Estimate Std. Error t value Pr(>|t|)    \n",
       "(Intercept)  3.7527813  0.8293409   4.525 6.27e-06 ***\n",
       "exper        0.1074980  0.0213006   5.047 4.76e-07 ***\n",
       "expersq     -0.0022841  0.0003341  -6.836 9.84e-12 ***\n",
       "black       -0.1308019  0.0528723  -2.474  0.01342 *  \n",
       "smsa         0.1313237  0.0301298   4.359 1.35e-05 ***\n",
       "south       -0.1049005  0.0230731  -4.546 5.67e-06 ***\n",
       "educ         0.1322888  0.0492332   2.687  0.00725 ** \n",
       "\n",
       "Diagnostic tests:\n",
       "                  df1  df2 statistic  p-value    \n",
       "Weak instruments    1 3003    16.718 4.45e-05 ***\n",
       "Wu-Hausman          1 3002     1.539    0.215    \n",
       "Sargan              0   NA        NA       NA    \n",
       "---\n",
       "Signif. codes:  0 ‘***’ 0.001 ‘**’ 0.01 ‘*’ 0.05 ‘.’ 0.1 ‘ ’ 1\n",
       "\n",
       "Residual standard error: 0.391 on 3003 degrees of freedom\n",
       "Multiple R-Squared: 0.2252,\tAdjusted R-squared: 0.2237 \n",
       "Wald test: 120.8 on 6 and 3003 DF,  p-value: < 2.2e-16 \n"
      ]
     },
     "metadata": {},
     "output_type": "display_data"
    }
   ],
   "source": [
    "summary(M_IV, diagnostics=TRUE)"
   ]
  },
  {
   "cell_type": "markdown",
   "id": "scenic-newsletter",
   "metadata": {},
   "source": [
    "## Extra : 2SLS with two instruments (nearc4 and nearc2) for educ"
   ]
  },
  {
   "cell_type": "code",
   "execution_count": 24,
   "id": "insured-liability",
   "metadata": {},
   "outputs": [
    {
     "data": {
      "text/plain": [
       "\n",
       "Call:\n",
       "ivreg(formula = lwage ~ exper + expersq + black + smsa + south + \n",
       "    educ | exper + expersq + black + smsa + south + nearc4 + \n",
       "    nearc2, data = data)\n",
       "\n",
       "Residuals:\n",
       "     Min       1Q   Median       3Q      Max \n",
       "-1.93885 -0.25155  0.01739  0.27341  1.48112 \n",
       "\n",
       "Coefficients:\n",
       "              Estimate Std. Error t value Pr(>|t|)    \n",
       "(Intercept)  3.2721021  0.8192563   3.994 6.65e-05 ***\n",
       "exper        0.1192112  0.0211779   5.629 1.98e-08 ***\n",
       "expersq     -0.0023052  0.0003507  -6.574 5.75e-11 ***\n",
       "black       -0.1019726  0.0526187  -1.938 0.052723 .  \n",
       "smsa         0.1165736  0.0303135   3.846 0.000123 ***\n",
       "south       -0.0951187  0.0234721  -4.052 5.20e-05 ***\n",
       "educ         0.1608487  0.0486291   3.308 0.000952 ***\n",
       "---\n",
       "Signif. codes:  0 ‘***’ 0.001 ‘**’ 0.01 ‘*’ 0.05 ‘.’ 0.1 ‘ ’ 1\n",
       "\n",
       "Residual standard error: 0.4106 on 3003 degrees of freedom\n",
       "Multiple R-Squared: 0.1455,\tAdjusted R-squared: 0.1438 \n",
       "Wald test: 110.3 on 6 and 3003 DF,  p-value: < 2.2e-16 \n"
      ]
     },
     "metadata": {},
     "output_type": "display_data"
    }
   ],
   "source": [
    "M_2SLS <- ivreg(lwage ~ exper + expersq + black + smsa + south + educ | exper + expersq + black + smsa + south + nearc4 + nearc2, data = data)\n",
    "\n",
    "summary(M_2SLS)"
   ]
  },
  {
   "cell_type": "markdown",
   "id": "advanced-estonia",
   "metadata": {},
   "source": [
    "## compare"
   ]
  },
  {
   "cell_type": "code",
   "execution_count": 35,
   "id": "mysterious-voltage",
   "metadata": {},
   "outputs": [
    {
     "name": "stdout",
     "output_type": "stream",
     "text": [
      "\n",
      "Regression result comparison\n",
      "====================================================\n",
      "                    Dependent variable: lwage       \n",
      "             ---------------------------------------\n",
      "                OLS      Proxy      IV       2SLS   \n",
      "----------------------------------------------------\n",
      "educ         0.074***  0.069***  0.132***  0.161*** \n",
      "              (0.004)   (0.005)   (0.049)   (0.049) \n",
      "                                                    \n",
      "exper        0.084***  0.094***  0.107***  0.119*** \n",
      "              (0.007)   (0.010)   (0.021)   (0.021) \n",
      "                                                    \n",
      "expersq      -0.002*** -0.003*** -0.002*** -0.002***\n",
      "             (0.0003)  (0.0005)  (0.0003)  (0.0004) \n",
      "                                                    \n",
      "black        -0.190*** -0.136*** -0.131**   -0.102* \n",
      "              (0.018)   (0.026)   (0.053)   (0.053) \n",
      "                                                    \n",
      "smsa         0.161***  0.153***  0.131***  0.117*** \n",
      "              (0.016)   (0.019)   (0.030)   (0.030) \n",
      "                                                    \n",
      "south        -0.125*** -0.079*** -0.105*** -0.095***\n",
      "              (0.015)   (0.018)   (0.023)   (0.023) \n",
      "                                                    \n",
      "IQ                     0.003***                     \n",
      "                        (0.001)                     \n",
      "                                                    \n",
      "Constant     4.734***  4.483***  3.753***  3.272*** \n",
      "              (0.068)   (0.104)   (0.829)   (0.819) \n",
      "                                                    \n",
      "----------------------------------------------------\n",
      "Observations   3,010     2,061     3,010     3,010  \n",
      "R2             0.291     0.226     0.225     0.146  \n",
      "Adjusted R2    0.289     0.223     0.224     0.144  \n",
      "====================================================\n"
     ]
    }
   ],
   "source": [
    "stargazer(M_OLS, M_Proxy, M_IV, M_2SLS,\n",
    "  title=\"Regression result comparison\",\n",
    "  header=FALSE, \n",
    "  type=\"text\",  \n",
    "  omit.table.layout=\"n\",\n",
    "  digits=3, \n",
    "  intercept.bottom=TRUE, \n",
    "  column.labels=c(\"OLS\",\"Proxy\",\"IV\",\"2SLS\"),\n",
    "  dep.var.labels.include = FALSE,\n",
    "  model.numbers = FALSE,\n",
    "  dep.var.caption=\"Dependent variable: lwage\",\n",
    "  model.names=FALSE,\n",
    "  omit.stat=c(\"LL\",\"ser\",\"f\")) "
   ]
  },
  {
   "cell_type": "code",
   "execution_count": null,
   "id": "experimental-cambridge",
   "metadata": {},
   "outputs": [],
   "source": []
  }
 ],
 "metadata": {
  "kernelspec": {
   "display_name": "R",
   "language": "R",
   "name": "ir"
  },
  "language_info": {
   "codemirror_mode": "r",
   "file_extension": ".r",
   "mimetype": "text/x-r-source",
   "name": "R",
   "pygments_lexer": "r",
   "version": "4.0.4"
  }
 },
 "nbformat": 4,
 "nbformat_minor": 5
}
