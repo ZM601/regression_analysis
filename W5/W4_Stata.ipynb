{
 "cells": [
  {
   "cell_type": "code",
   "execution_count": 1,
   "metadata": {},
   "outputs": [],
   "source": [
    "clear all"
   ]
  },
  {
   "cell_type": "markdown",
   "metadata": {},
   "source": [
    "## install this package for multiple regresion comparison"
   ]
  },
  {
   "cell_type": "code",
   "execution_count": 2,
   "metadata": {},
   "outputs": [
    {
     "name": "stdout",
     "output_type": "stream",
     "text": [
      "checking estout consistency and verifying not already installed...\n",
      "all files already exist and are up to date.\n"
     ]
    }
   ],
   "source": [
    "ssc install estout, replace"
   ]
  },
  {
   "cell_type": "markdown",
   "metadata": {},
   "source": [
    "## load data"
   ]
  },
  {
   "cell_type": "code",
   "execution_count": 3,
   "metadata": {},
   "outputs": [],
   "source": [
    "use \"~/Data/Dropbox/Working_Directory/Tex_MD/Teaching/tutorial/6002/W4/CARD.DTA\", clear"
   ]
  },
  {
   "cell_type": "markdown",
   "metadata": {},
   "source": [
    "## (a) Estimate $$\\log\\left(wage\\right) = \\beta_0 + \\beta_1 \\cdot educ + \\beta_2 \\cdot exper + \\beta_3 \\cdot exper^2 + \\beta_4 \\cdot black + \\beta_5 \\cdot SMSA + \\beta_6 \\cdot south + u$$"
   ]
  },
  {
   "cell_type": "code",
   "execution_count": 4,
   "metadata": {},
   "outputs": [
    {
     "name": "stdout",
     "output_type": "stream",
     "text": [
      "\n",
      "\n",
      "      Source |       SS           df       MS      Number of obs   =     3,010\n",
      "-------------+----------------------------------   F(6, 3003)      =    204.93\n",
      "       Model |  172.165628         6  28.6942714   Prob > F        =    0.0000\n",
      "    Residual |  420.476016     3,003  .140018653   R-squared       =    0.2905\n",
      "-------------+----------------------------------   Adj R-squared   =    0.2891\n",
      "       Total |  592.641645     3,009  .196956346   Root MSE        =    .37419\n",
      "\n",
      "------------------------------------------------------------------------------\n",
      "       lwage |      Coef.   Std. Err.      t    P>|t|     [95% Conf. Interval]\n",
      "-------------+----------------------------------------------------------------\n",
      "        educ |    .074009   .0035054    21.11   0.000     .0671357    .0808823\n",
      "       exper |   .0835958   .0066478    12.57   0.000     .0705612    .0966305\n",
      "     expersq |  -.0022409   .0003178    -7.05   0.000    -.0028641   -.0016177\n",
      "       black |  -.1896315   .0176266   -10.76   0.000    -.2241929   -.1550702\n",
      "        smsa |    .161423   .0155733    10.37   0.000     .1308876    .1919583\n",
      "       south |  -.1248615   .0151182    -8.26   0.000    -.1545046   -.0952184\n",
      "       _cons |   4.733664   .0676026    70.02   0.000     4.601112    4.866216\n",
      "------------------------------------------------------------------------------\n",
      "\n"
     ]
    }
   ],
   "source": [
    "reg lwage educ exper expersq black smsa south\n",
    "\n",
    "estimate store M_OLS"
   ]
  },
  {
   "cell_type": "markdown",
   "metadata": {},
   "source": [
    "## (b) Estimate $$\\log\\left(wage\\right) = \\beta_0 + \\beta_1 \\cdot educ + \\beta_2 \\cdot exper + \\beta_3 \\cdot exper^2 + \\beta_4 \\cdot black + \\beta_5 \\cdot SMSA + \\beta_6 \\cdot south + u$$ by the OLS with IQ as the proxy to ability $(u)$. Compare the estimate of $\\beta_1$ using the proxy variable method to the regular OLS estimate in (a); Can we conclude that the OLS (without proxy) overestimate/underestimate $\\beta_1$? Explain briefly."
   ]
  },
  {
   "cell_type": "code",
   "execution_count": 5,
   "metadata": {},
   "outputs": [
    {
     "name": "stdout",
     "output_type": "stream",
     "text": [
      "\n",
      "\n",
      "      Source |       SS           df       MS      Number of obs   =     2,061\n",
      "-------------+----------------------------------   F(7, 2053)      =     85.49\n",
      "       Model |  81.1691559         7  11.5955937   Prob > F        =    0.0000\n",
      "    Residual |  278.452104     2,053  .135631809   R-squared       =    0.2257\n",
      "-------------+----------------------------------   Adj R-squared   =    0.2231\n",
      "       Total |   359.62126     2,060  .174573427   Root MSE        =    .36828\n",
      "\n",
      "------------------------------------------------------------------------------\n",
      "       lwage |      Coef.   Std. Err.      t    P>|t|     [95% Conf. Interval]\n",
      "-------------+----------------------------------------------------------------\n",
      "        educ |   .0692646    .004872    14.22   0.000     .0597099    .0788192\n",
      "       exper |   .0935215   .0095356     9.81   0.000     .0748211    .1122219\n",
      "     expersq |  -.0026762   .0004916    -5.44   0.000    -.0036403    -.001712\n",
      "       black |   -.136135   .0262767    -5.18   0.000    -.1876667   -.0846033\n",
      "        smsa |    .153351   .0188749     8.12   0.000     .1163351     .190367\n",
      "       south |  -.0790786   .0180092    -4.39   0.000    -.1143968   -.0437605\n",
      "          IQ |   .0025294   .0006747     3.75   0.000     .0012062    .0038526\n",
      "       _cons |   4.482581    .103596    43.27   0.000     4.279416    4.685745\n",
      "------------------------------------------------------------------------------\n",
      "\n"
     ]
    }
   ],
   "source": [
    "reg lwage educ exper expersq black smsa south IQ\n",
    "\n",
    "estimate store M_Proxy"
   ]
  },
  {
   "cell_type": "markdown",
   "metadata": {},
   "source": [
    "### Comparing the estimate of β1 using the proxy variable (PV) method to the regular OLS estimate, the PV estimate is slightly smaller than the OLS one but the difference is insignificant. We cannot conclude that the OLS (without proxy) overestimate/underestimate $\\beta_1$ because the IQ score is available in about $2/3$ of observations in the sample which would lead to sample selection bias."
   ]
  },
  {
   "cell_type": "markdown",
   "metadata": {},
   "source": [
    "## (c) An alternative method is to use the instrumental variable (IV) method. In order for IV to be consistent, the IV for educ, nearc4, must be uncorrelated with u. Could nearc4 be correlated with things in the error term, such as unobserved ability? Explain briefly."
   ]
  },
  {
   "cell_type": "markdown",
   "metadata": {},
   "source": [
    "### Although ability is generally unobservable, IQ score would be the proxy to ability as in (b). Furthermore, IQ scores are known to vary by geographic region, and so does the availability of four year colleges. It could be that, for a variety of reasons, people with higher abilities grow up in areas with four year colleges nearby. This is an example of geographic clustering"
   ]
  },
  {
   "cell_type": "markdown",
   "metadata": {},
   "source": [
    "## (d) In general, the exogeneity (validity) condition cannot be tested directly. With the proxy IQ, however, we may get some evidence for the validity of nearc4 . Regress $IQ$ on $nearc4$ to check whether average IQ scores vary by whether the man grew up near a four-year college, controlling for SMSA and South. Are $IQ$ and $nearc4$reg IQ nearc4 smsa south related after the geographic dummy variables have been controlled for?"
   ]
  },
  {
   "cell_type": "code",
   "execution_count": 6,
   "metadata": {},
   "outputs": [
    {
     "name": "stdout",
     "output_type": "stream",
     "text": [
      "\n",
      "      Source |       SS           df       MS      Number of obs   =     2,061\n",
      "-------------+----------------------------------   F(3, 2057)      =     29.79\n",
      "       Model |   20401.674         3  6800.55801   Prob > F        =    0.0000\n",
      "    Residual |  469656.378     2,057   228.32104   R-squared       =    0.0416\n",
      "-------------+----------------------------------   Adj R-squared   =    0.0402\n",
      "       Total |  490058.052     2,060  237.892258   Root MSE        =     15.11\n",
      "\n",
      "------------------------------------------------------------------------------\n",
      "          IQ |      Coef.   Std. Err.      t    P>|t|     [95% Conf. Interval]\n",
      "-------------+----------------------------------------------------------------\n",
      "      nearc4 |    .890227   .7821444     1.14   0.255    -.6436504    2.424105\n",
      "        smsa |      1.629   .8034407     2.03   0.043     .0533579    3.204642\n",
      "       south |  -5.991017   .7176663    -8.35   0.000    -7.398445   -4.583588\n",
      "       _cons |   102.6549   .8374004   122.59   0.000     101.0127    104.2972\n",
      "------------------------------------------------------------------------------\n"
     ]
    }
   ],
   "source": [
    "reg IQ nearc4 smsa south"
   ]
  },
  {
   "cell_type": "markdown",
   "metadata": {},
   "source": [
    "### The relationship between IQ and nearc4 is statistically insignificant (with p-value at $0.255$). Thus, once we control for region and environment of growing up, there is no apparent link between IQ score and living near a four-year college. This shows the importance to include geographic dummy variables in the wage equation to control for differences in access to colleges that might also be correlated with ability."
   ]
  },
  {
   "cell_type": "markdown",
   "metadata": {},
   "source": [
    "## (e) Another condition for $nearc4$ to be an IV for $educ$ is relevance. Test this condition based on the regression of $educ$ on $nearc4$, along with $black$, $smsa$ and $south$."
   ]
  },
  {
   "cell_type": "code",
   "execution_count": 7,
   "metadata": {},
   "outputs": [
    {
     "name": "stdout",
     "output_type": "stream",
     "text": [
      "\n",
      "      Source |       SS           df       MS      Number of obs   =     3,010\n",
      "-------------+----------------------------------   F(4, 3005)      =     96.94\n",
      "       Model |   2464.4422         4  616.110551   Prob > F        =    0.0000\n",
      "    Residual |  19097.6379     3,005  6.35528714   R-squared       =    0.1143\n",
      "-------------+----------------------------------   Adj R-squared   =    0.1131\n",
      "       Total |  21562.0801     3,009  7.16586243   Root MSE        =     2.521\n",
      "\n",
      "------------------------------------------------------------------------------\n",
      "        educ |      Coef.   Std. Err.      t    P>|t|     [95% Conf. Interval]\n",
      "-------------+----------------------------------------------------------------\n",
      "      nearc4 |   .3317504   .1070669     3.10   0.002     .1218186    .5416822\n",
      "       black |  -1.463773   .1155921   -12.66   0.000    -1.690421   -1.237126\n",
      "        smsa |   .8477946   .1093822     7.75   0.000      .633323    1.062266\n",
      "       south |   -.453838   .1026328    -4.42   0.000    -.6550757   -.2526003\n",
      "       _cons |   12.95781   .1146249   113.05   0.000     12.73305    13.18256\n",
      "------------------------------------------------------------------------------\n"
     ]
    }
   ],
   "source": [
    "reg educ nearc4 black smsa south"
   ]
  },
  {
   "cell_type": "markdown",
   "metadata": {},
   "source": [
    "### This is the standard t test on the coefficient on nearc4. Form the t test statistic for the null; if t stat exceeds critical value (the p-value is smaller that the significance level, usually 5%), reject the null and conclude $educ$ and $nearc4$ are correlated so that relevance condition is satisfied. From the estimates below, we reject the null hypothesis that the coefficient on $nearc4$ is zero."
   ]
  },
  {
   "cell_type": "markdown",
   "metadata": {},
   "source": [
    "## (f) The third condition for nearc4 to be an IV for educ is exclusion. To see this, run a regression of log(wage) based on (2.1) with two additional regressors: nearc4 and IQ. Is the coefficient on nearc4 significant?"
   ]
  },
  {
   "cell_type": "code",
   "execution_count": 8,
   "metadata": {},
   "outputs": [
    {
     "name": "stdout",
     "output_type": "stream",
     "text": [
      "\n",
      "      Source |       SS           df       MS      Number of obs   =     2,061\n",
      "-------------+----------------------------------   F(8, 2052)      =     74.83\n",
      "       Model |  81.2192036         8  10.1524005   Prob > F        =    0.0000\n",
      "    Residual |  278.402056     2,052  .135673517   R-squared       =    0.2258\n",
      "-------------+----------------------------------   Adj R-squared   =    0.2228\n",
      "       Total |   359.62126     2,060  .174573427   Root MSE        =    .36834\n",
      "\n",
      "------------------------------------------------------------------------------\n",
      "       lwage |      Coef.   Std. Err.      t    P>|t|     [95% Conf. Interval]\n",
      "-------------+----------------------------------------------------------------\n",
      "        educ |   .0690458   .0048861    14.13   0.000     .0594636     .078628\n",
      "       exper |   .0935021   .0095371     9.80   0.000     .0747987    .1122055\n",
      "     expersq |  -.0026801   .0004917    -5.45   0.000    -.0036445   -.0017157\n",
      "       black |  -.1366962    .026297    -5.20   0.000    -.1882677   -.0851247\n",
      "        smsa |   .1498893   .0197195     7.60   0.000      .111217    .1885615\n",
      "       south |  -.0773091   .0182461    -4.24   0.000    -.1130918   -.0415264\n",
      "          IQ |   .0025251   .0006748     3.74   0.000     .0012017    .0038486\n",
      "      nearc4 |   .0116268   .0191433     0.61   0.544    -.0259154    .0491691\n",
      "       _cons |   4.480371   .1036758    43.22   0.000      4.27705    4.683692\n",
      "------------------------------------------------------------------------------\n"
     ]
    }
   ],
   "source": [
    "reg lwage educ exper expersq black smsa south IQ nearc4"
   ]
  },
  {
   "cell_type": "markdown",
   "metadata": {},
   "source": [
    "### Since for the coefficient on nearc4, the p-value 0.544 is much higher than 5%, the coefficient on nearc4 is insignificant."
   ]
  },
  {
   "cell_type": "markdown",
   "metadata": {},
   "source": [
    "## (g) Estimate (2.1) by the IV method using nearc4 as the IV for educ, report the esti- mates in the table. How is the IV estimate of β1 different from the OLS estimate?"
   ]
  },
  {
   "cell_type": "code",
   "execution_count": 9,
   "metadata": {},
   "outputs": [
    {
     "name": "stdout",
     "output_type": "stream",
     "text": [
      "\n",
      "\n",
      "Instrumental variables (2SLS) regression          Number of obs   =      3,010\n",
      "                                                  Wald chi2(6)    =     726.69\n",
      "                                                  Prob > chi2     =     0.0000\n",
      "                                                  R-squared       =     0.2252\n",
      "                                                  Root MSE        =     .39058\n",
      "\n",
      "------------------------------------------------------------------------------\n",
      "       lwage |      Coef.   Std. Err.      z    P>|z|     [95% Conf. Interval]\n",
      "-------------+----------------------------------------------------------------\n",
      "        educ |   .1322888    .049176     2.69   0.007     .0359057    .2286719\n",
      "       exper |    .107498   .0212758     5.05   0.000     .0657981    .1491978\n",
      "     expersq |  -.0022841   .0003337    -6.84   0.000    -.0029382   -.0016299\n",
      "       black |  -.1308019   .0528108    -2.48   0.013    -.2343091   -.0272946\n",
      "        smsa |   .1313237   .0300948     4.36   0.000      .072339    .1903083\n",
      "       south |  -.1049005   .0230463    -4.55   0.000    -.1500704   -.0597307\n",
      "       _cons |   3.752781    .828376     4.53   0.000     2.129194    5.376368\n",
      "------------------------------------------------------------------------------\n",
      "Instrumented:  educ\n",
      "Instruments:   exper expersq black smsa south nearc4\n",
      "\n"
     ]
    }
   ],
   "source": [
    "ivregress 2sls lwage exper expersq black smsa south (educ=nearc4)\n",
    "\n",
    "estimate store M_IV"
   ]
  },
  {
   "cell_type": "markdown",
   "metadata": {},
   "source": [
    "### It is interesting to see that the IV estimate of the coefficient on educ is larger than the OLS estimate. This is somehow contrary to the conventional belief that the OLS overestimates the return to education. As suggested in Card (1995), one possible explanation for the positive gap between IV and OLS estimates of the return to ed- ucation is that the latter are downward-biased by measurement error in schooling; An alternative possibility is that the \"true\" rate of return to education varies across the population, and that the increase in education associated with college proximity occurs for individuals with relatively high rates of return to schooling."
   ]
  },
  {
   "cell_type": "markdown",
   "metadata": {},
   "source": [
    "## (h) Use the Wu-Hausman test to see whether educ is endogenous; that is, determine if the difference between OLS and IV is statistically significant."
   ]
  },
  {
   "cell_type": "code",
   "execution_count": 10,
   "metadata": {},
   "outputs": [
    {
     "name": "stdout",
     "output_type": "stream",
     "text": [
      "\n",
      "  Tests of endogeneity\n",
      "  Ho: variables are exogenous\n",
      "\n",
      "  Durbin (score) chi2(1)          =  1.54235  (p = 0.2143)\n",
      "  Wu-Hausman F(1,3002)            =  1.53904  (p = 0.2149)\n"
     ]
    }
   ],
   "source": [
    "estat endogenous"
   ]
  },
  {
   "cell_type": "markdown",
   "metadata": {},
   "source": [
    "## Extra: 2SLS with two instruments (nearc4 and nearc2) for educ"
   ]
  },
  {
   "cell_type": "code",
   "execution_count": 11,
   "metadata": {},
   "outputs": [
    {
     "name": "stdout",
     "output_type": "stream",
     "text": [
      "\n",
      "\n",
      "Instrumental variables (2SLS) regression          Number of obs   =      3,010\n",
      "                                                  Wald chi2(6)    =     663.32\n",
      "                                                  Prob > chi2     =     0.0000\n",
      "                                                  R-squared       =     0.1455\n",
      "                                                  Root MSE        =     .41017\n",
      "\n",
      "------------------------------------------------------------------------------\n",
      "       lwage |      Coef.   Std. Err.      z    P>|z|     [95% Conf. Interval]\n",
      "-------------+----------------------------------------------------------------\n",
      "        educ |   .1608487   .0485725     3.31   0.001     .0656484    .2560491\n",
      "       exper |   .1192112   .0211532     5.64   0.000     .0777516    .1606708\n",
      "     expersq |  -.0023052   .0003502    -6.58   0.000    -.0029917   -.0016188\n",
      "       black |  -.1019726   .0525575    -1.94   0.052    -.2049833    .0010382\n",
      "        smsa |   .1165736   .0302782     3.85   0.000     .0572293    .1759178\n",
      "       south |  -.0951187   .0234448    -4.06   0.000    -.1410697   -.0491677\n",
      "       _cons |   3.272102   .8183031     4.00   0.000     1.668258    4.875947\n",
      "------------------------------------------------------------------------------\n",
      "Instrumented:  educ\n",
      "Instruments:   exper expersq black smsa south nearc4 nearc2\n",
      "\n"
     ]
    }
   ],
   "source": [
    "ivregress 2sls lwage exper expersq black smsa south (educ=nearc4 nearc2)\n",
    "\n",
    "estimate store M_2SLS"
   ]
  },
  {
   "cell_type": "markdown",
   "metadata": {},
   "source": [
    "## Compare them all"
   ]
  },
  {
   "cell_type": "code",
   "execution_count": 17,
   "metadata": {},
   "outputs": [
    {
     "name": "stdout",
     "output_type": "stream",
     "text": [
      "\n",
      "----------------------------------------------------------------------------\n",
      "                    M_OLS         M_Proxy            M_IV          M_2SLS   \n",
      "                     b/se            b/se            b/se            b/se   \n",
      "----------------------------------------------------------------------------\n",
      "educ                0.074***        0.069***        0.132**         0.161***\n",
      "                  (0.004)         (0.005)         (0.049)         (0.049)   \n",
      "exper               0.084***        0.094***        0.107***        0.119***\n",
      "                  (0.007)         (0.010)         (0.021)         (0.021)   \n",
      "expersq            -0.002***       -0.003***       -0.002***       -0.002***\n",
      "                  (0.000)         (0.000)         (0.000)         (0.000)   \n",
      "black              -0.190***       -0.136***       -0.131*         -0.102   \n",
      "                  (0.018)         (0.026)         (0.053)         (0.053)   \n",
      "smsa                0.161***        0.153***        0.131***        0.117***\n",
      "                  (0.016)         (0.019)         (0.030)         (0.030)   \n",
      "south              -0.125***       -0.079***       -0.105***       -0.095***\n",
      "                  (0.015)         (0.018)         (0.023)         (0.023)   \n",
      "IQ                                  0.003***                                \n",
      "                                  (0.001)                                   \n",
      "_cons               4.734***        4.483***        3.753***        3.272***\n",
      "                  (0.068)         (0.104)         (0.828)         (0.818)   \n",
      "----------------------------------------------------------------------------\n",
      "R-squared           0.291           0.226           0.225           0.146   \n",
      "F-value           204.932          85.493                                   \n",
      "Chi2-value                                        726.689         663.324   \n",
      "sample size      3010.000        2061.000        3010.000        3010.000   \n",
      "----------------------------------------------------------------------------\n",
      "* p<0.05, ** p<0.01, *** p<0.001\n"
     ]
    }
   ],
   "source": [
    "estout M_OLS M_Proxy M_IV M_2SLS, ///\n",
    "       cells(b(star fmt(3)) se(par fmt(3))) ///\n",
    "       stats(r2 F chi2 N, labels(R-squared F-value Chi2-value \"sample size\")) ///\n",
    "       legend"
   ]
  },
  {
   "cell_type": "code",
   "execution_count": 18,
   "metadata": {},
   "outputs": [
    {
     "name": "stdout",
     "output_type": "stream",
     "text": [
      "\n",
      "[NbConvertApp] Converting notebook W4_Stata.ipynb to html\n",
      "[NbConvertApp] Writing 606703 bytes to W4_Stata.html\n"
     ]
    }
   ],
   "source": [
    "!jupyter nbconvert --to html W4_Stata.ipynb"
   ]
  },
  {
   "cell_type": "code",
   "execution_count": null,
   "metadata": {},
   "outputs": [],
   "source": []
  }
 ],
 "metadata": {
  "kernelspec": {
   "display_name": "Stata",
   "language": "stata",
   "name": "stata"
  },
  "language_info": {
   "codemirror_mode": "stata",
   "file_extension": ".do",
   "mimetype": "text/x-stata",
   "name": "stata",
   "version": "15.1"
  }
 },
 "nbformat": 4,
 "nbformat_minor": 4
}
