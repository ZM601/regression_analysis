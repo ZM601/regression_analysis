{
 "cells": [
  {
   "cell_type": "markdown",
   "id": "70a9c7d3-8a87-40b4-9903-d692cefa5644",
   "metadata": {},
   "source": [
    "# Load all packages you need "
   ]
  },
  {
   "cell_type": "code",
   "execution_count": 1,
   "id": "0aefeef6-bc9b-42af-9736-bb7ec9383e77",
   "metadata": {},
   "outputs": [],
   "source": [
    "using Pkg, CSV, DataFrames, Statistics, OnlineStats, StatsBase, Plots, Distributions, StatsPlots, GLM, MLBase, StatsBase, StatsModels"
   ]
  },
  {
   "cell_type": "markdown",
   "id": "d44f1d1c-cdfc-49f1-b942-ac6bcf2b55bd",
   "metadata": {},
   "source": [
    "# install the package for IV regrxession"
   ]
  },
  {
   "cell_type": "code",
   "execution_count": 166,
   "id": "49f77f85-9deb-41ae-95f6-26c9c017b4ca",
   "metadata": {},
   "outputs": [
    {
     "name": "stderr",
     "output_type": "stream",
     "text": [
      "\u001b[32m\u001b[1m    Updating\u001b[22m\u001b[39m registry at `~/.julia/registries/General`\n",
      "\u001b[32m\u001b[1m    Updating\u001b[22m\u001b[39m git-repo `https://github.com/JuliaRegistries/General.git`\n",
      "\u001b[32m\u001b[1m   Resolving\u001b[22m\u001b[39m package versions...\n",
      "\u001b[32m\u001b[1m   Installed\u001b[22m\u001b[39m Vcov ────────────── v0.4.3\n",
      "\u001b[32m\u001b[1m   Installed\u001b[22m\u001b[39m RegressionTables ── v0.5.1\n",
      "\u001b[32m\u001b[1m   Installed\u001b[22m\u001b[39m FixedEffects ────── v2.0.6\n",
      "\u001b[32m\u001b[1m   Installed\u001b[22m\u001b[39m FixedEffectModels ─ v1.6.3\n",
      "\u001b[32m\u001b[1m    Updating\u001b[22m\u001b[39m `~/.julia/environments/v1.6/Project.toml`\n",
      " \u001b[90m [d519eb52] \u001b[39m\u001b[92m+ RegressionTables v0.5.1\u001b[39m\n",
      "\u001b[32m\u001b[1m    Updating\u001b[22m\u001b[39m `~/.julia/environments/v1.6/Manifest.toml`\n",
      " \u001b[90m [9d5cd8c9] \u001b[39m\u001b[92m+ FixedEffectModels v1.6.3\u001b[39m\n",
      " \u001b[90m [c8885935] \u001b[39m\u001b[92m+ FixedEffects v2.0.6\u001b[39m\n",
      " \u001b[90m [d519eb52] \u001b[39m\u001b[92m+ RegressionTables v0.5.1\u001b[39m\n",
      " \u001b[90m [ec2bfdc2] \u001b[39m\u001b[92m+ Vcov v0.4.3\u001b[39m\n",
      "\u001b[32m\u001b[1mPrecompiling\u001b[22m\u001b[39m project...\n",
      "\u001b[32m  ✓ \u001b[39m\u001b[90mFixedEffects\u001b[39m\n",
      "\u001b[32m  ✓ \u001b[39m\u001b[90mVcov\u001b[39m\n",
      "\u001b[32m  ✓ \u001b[39m\u001b[90mFixedEffectModels\u001b[39m\n",
      "\u001b[32m  ✓ \u001b[39mRegressionTables\n",
      "  4 dependencies successfully precompiled in 8 seconds (239 already precompiled)\n"
     ]
    }
   ],
   "source": [
    "Pkg.add(\"Econometrics\")\n",
    "Pkg.add(\"Microeconometrics\")\n",
    "Pkg.add(\"RegressionTables\")"
   ]
  },
  {
   "cell_type": "markdown",
   "id": "650deb5b-043b-4b9b-a061-c7bf2529290a",
   "metadata": {},
   "source": [
    "# now let's load the new package as well"
   ]
  },
  {
   "cell_type": "code",
   "execution_count": 168,
   "id": "bb6d1584-55c8-4e7f-a5b6-1cf7b521098e",
   "metadata": {},
   "outputs": [],
   "source": [
    "using Econometrics, Microeconometrics, RegressionTables"
   ]
  },
  {
   "cell_type": "markdown",
   "id": "144ad016-5467-4490-9b0c-e89b4d3bbe5a",
   "metadata": {},
   "source": [
    "# check whether you are in the correct working directory"
   ]
  },
  {
   "cell_type": "code",
   "execution_count": 3,
   "id": "733c1619-20e0-4409-8e00-907093c079e6",
   "metadata": {},
   "outputs": [
    {
     "data": {
      "text/plain": [
       "\"/Users/ning/Library/Mobile Documents/com~apple~CloudDocs/Working_Directory/Tex_MD/Teaching/tutorial/6002/W4\""
      ]
     },
     "execution_count": 3,
     "metadata": {},
     "output_type": "execute_result"
    }
   ],
   "source": [
    "pwd()"
   ]
  },
  {
   "cell_type": "markdown",
   "id": "c7ecd5d0-0189-4fcb-961e-48e02347dae8",
   "metadata": {},
   "source": [
    "# check whether you have the data file in your working directory"
   ]
  },
  {
   "cell_type": "code",
   "execution_count": 4,
   "id": "752b46c5-be58-464e-8413-fe3a84b5d326",
   "metadata": {},
   "outputs": [
    {
     "data": {
      "text/plain": [
       "12-element Vector{String}:\n",
       " \".DS_Store\"\n",
       " \".ipynb_checkpoints\"\n",
       " \"CARD.DTA\"\n",
       " \"CARD.csv\"\n",
       " \"Ecmt6002 (2021S1) Tutorial 4.pdf\"\n",
       " \"W4_Julia.ipynb\"\n",
       " \"W4_Python.html\"\n",
       " \"W4_Python.ipynb\"\n",
       " \"W4_R.html\"\n",
       " \"W4_R.ipynb\"\n",
       " \"W4_Stata.html\"\n",
       " \"W4_Stata.ipynb\""
      ]
     },
     "execution_count": 4,
     "metadata": {},
     "output_type": "execute_result"
    }
   ],
   "source": [
    "readdir()"
   ]
  },
  {
   "cell_type": "markdown",
   "id": "ad5671f8-52fd-4355-a0ad-00cc4680e4a6",
   "metadata": {},
   "source": [
    "# load data, check the first 5 obs, last 5 obs and variable names in the data set"
   ]
  },
  {
   "cell_type": "code",
   "execution_count": 86,
   "id": "253b1361-424e-4503-9368-738bdf4bc340",
   "metadata": {},
   "outputs": [],
   "source": [
    "df = CSV.read(\"CARD.csv\", DataFrame);"
   ]
  },
  {
   "cell_type": "code",
   "execution_count": 87,
   "id": "8f20c3c1-37c4-4eaa-84ee-f554062f8123",
   "metadata": {},
   "outputs": [
    {
     "data": {
      "text/html": [
       "<table class=\"data-frame\"><thead><tr><th></th><th>id</th><th>nearc2</th><th>nearc4</th><th>educ</th><th>age</th><th>fatheduc</th><th>motheduc</th><th>weight</th><th>momdad14</th><th>sinmom14</th></tr><tr><th></th><th>Int64</th><th>Int64</th><th>Int64</th><th>Int64</th><th>Int64</th><th>Int64?</th><th>Int64?</th><th>Int64</th><th>Int64</th><th>Int64</th></tr></thead><tbody><p>5 rows × 34 columns (omitted printing of 24 columns)</p><tr><th>1</th><td>2</td><td>0</td><td>0</td><td>7</td><td>29</td><td><em>missing</em></td><td><em>missing</em></td><td>158413</td><td>1</td><td>0</td></tr><tr><th>2</th><td>3</td><td>0</td><td>0</td><td>12</td><td>27</td><td>8</td><td>8</td><td>380166</td><td>1</td><td>0</td></tr><tr><th>3</th><td>4</td><td>0</td><td>0</td><td>12</td><td>34</td><td>14</td><td>12</td><td>367470</td><td>1</td><td>0</td></tr><tr><th>4</th><td>5</td><td>1</td><td>1</td><td>11</td><td>27</td><td>11</td><td>12</td><td>380166</td><td>1</td><td>0</td></tr><tr><th>5</th><td>6</td><td>1</td><td>1</td><td>12</td><td>34</td><td>8</td><td>7</td><td>367470</td><td>1</td><td>0</td></tr></tbody></table>"
      ],
      "text/latex": [
       "\\begin{tabular}{r|ccccccccccc}\n",
       "\t& id & nearc2 & nearc4 & educ & age & fatheduc & motheduc & weight & momdad14 & sinmom14 & \\\\\n",
       "\t\\hline\n",
       "\t& Int64 & Int64 & Int64 & Int64 & Int64 & Int64? & Int64? & Int64 & Int64 & Int64 & \\\\\n",
       "\t\\hline\n",
       "\t1 & 2 & 0 & 0 & 7 & 29 & \\emph{missing} & \\emph{missing} & 158413 & 1 & 0 & $\\dots$ \\\\\n",
       "\t2 & 3 & 0 & 0 & 12 & 27 & 8 & 8 & 380166 & 1 & 0 & $\\dots$ \\\\\n",
       "\t3 & 4 & 0 & 0 & 12 & 34 & 14 & 12 & 367470 & 1 & 0 & $\\dots$ \\\\\n",
       "\t4 & 5 & 1 & 1 & 11 & 27 & 11 & 12 & 380166 & 1 & 0 & $\\dots$ \\\\\n",
       "\t5 & 6 & 1 & 1 & 12 & 34 & 8 & 7 & 367470 & 1 & 0 & $\\dots$ \\\\\n",
       "\\end{tabular}\n"
      ],
      "text/plain": [
       "5×34 DataFrame. Omitted printing of 26 columns\n",
       "│ Row │ id    │ nearc2 │ nearc4 │ educ  │ age   │ fatheduc │ motheduc │ weight │\n",
       "│     │ \u001b[90mInt64\u001b[39m │ \u001b[90mInt64\u001b[39m  │ \u001b[90mInt64\u001b[39m  │ \u001b[90mInt64\u001b[39m │ \u001b[90mInt64\u001b[39m │ \u001b[90mInt64?\u001b[39m   │ \u001b[90mInt64?\u001b[39m   │ \u001b[90mInt64\u001b[39m  │\n",
       "├─────┼───────┼────────┼────────┼───────┼───────┼──────────┼──────────┼────────┤\n",
       "│ 1   │ 2     │ 0      │ 0      │ 7     │ 29    │ \u001b[90mmissing\u001b[39m  │ \u001b[90mmissing\u001b[39m  │ 158413 │\n",
       "│ 2   │ 3     │ 0      │ 0      │ 12    │ 27    │ 8        │ 8        │ 380166 │\n",
       "│ 3   │ 4     │ 0      │ 0      │ 12    │ 34    │ 14       │ 12       │ 367470 │\n",
       "│ 4   │ 5     │ 1      │ 1      │ 11    │ 27    │ 11       │ 12       │ 380166 │\n",
       "│ 5   │ 6     │ 1      │ 1      │ 12    │ 34    │ 8        │ 7        │ 367470 │"
      ]
     },
     "execution_count": 87,
     "metadata": {},
     "output_type": "execute_result"
    }
   ],
   "source": [
    "first(df, 5)"
   ]
  },
  {
   "cell_type": "code",
   "execution_count": 88,
   "id": "367d93e0-75a7-4ca6-8dd4-f681a5897c35",
   "metadata": {},
   "outputs": [
    {
     "data": {
      "text/html": [
       "<table class=\"data-frame\"><thead><tr><th></th><th>id</th><th>nearc2</th><th>nearc4</th><th>educ</th><th>age</th><th>fatheduc</th><th>motheduc</th><th>weight</th><th>momdad14</th><th>sinmom14</th></tr><tr><th></th><th>Int64</th><th>Int64</th><th>Int64</th><th>Int64</th><th>Int64</th><th>Int64?</th><th>Int64?</th><th>Int64</th><th>Int64</th><th>Int64</th></tr></thead><tbody><p>5 rows × 34 columns (omitted printing of 24 columns)</p><tr><th>1</th><td>5218</td><td>0</td><td>1</td><td>12</td><td>25</td><td>8</td><td>12</td><td>82135</td><td>1</td><td>0</td></tr><tr><th>2</th><td>5219</td><td>0</td><td>1</td><td>13</td><td>34</td><td><em>missing</em></td><td><em>missing</em></td><td>88765</td><td>1</td><td>0</td></tr><tr><th>3</th><td>5220</td><td>0</td><td>1</td><td>12</td><td>24</td><td>11</td><td><em>missing</em></td><td>89271</td><td>0</td><td>0</td></tr><tr><th>4</th><td>5221</td><td>0</td><td>1</td><td>12</td><td>31</td><td><em>missing</em></td><td><em>missing</em></td><td>110376</td><td>1</td><td>0</td></tr><tr><th>5</th><td>5225</td><td>0</td><td>1</td><td>13</td><td>26</td><td><em>missing</em></td><td><em>missing</em></td><td>81081</td><td>0</td><td>0</td></tr></tbody></table>"
      ],
      "text/latex": [
       "\\begin{tabular}{r|ccccccccccc}\n",
       "\t& id & nearc2 & nearc4 & educ & age & fatheduc & motheduc & weight & momdad14 & sinmom14 & \\\\\n",
       "\t\\hline\n",
       "\t& Int64 & Int64 & Int64 & Int64 & Int64 & Int64? & Int64? & Int64 & Int64 & Int64 & \\\\\n",
       "\t\\hline\n",
       "\t1 & 5218 & 0 & 1 & 12 & 25 & 8 & 12 & 82135 & 1 & 0 & $\\dots$ \\\\\n",
       "\t2 & 5219 & 0 & 1 & 13 & 34 & \\emph{missing} & \\emph{missing} & 88765 & 1 & 0 & $\\dots$ \\\\\n",
       "\t3 & 5220 & 0 & 1 & 12 & 24 & 11 & \\emph{missing} & 89271 & 0 & 0 & $\\dots$ \\\\\n",
       "\t4 & 5221 & 0 & 1 & 12 & 31 & \\emph{missing} & \\emph{missing} & 110376 & 1 & 0 & $\\dots$ \\\\\n",
       "\t5 & 5225 & 0 & 1 & 13 & 26 & \\emph{missing} & \\emph{missing} & 81081 & 0 & 0 & $\\dots$ \\\\\n",
       "\\end{tabular}\n"
      ],
      "text/plain": [
       "5×34 DataFrame. Omitted printing of 26 columns\n",
       "│ Row │ id    │ nearc2 │ nearc4 │ educ  │ age   │ fatheduc │ motheduc │ weight │\n",
       "│     │ \u001b[90mInt64\u001b[39m │ \u001b[90mInt64\u001b[39m  │ \u001b[90mInt64\u001b[39m  │ \u001b[90mInt64\u001b[39m │ \u001b[90mInt64\u001b[39m │ \u001b[90mInt64?\u001b[39m   │ \u001b[90mInt64?\u001b[39m   │ \u001b[90mInt64\u001b[39m  │\n",
       "├─────┼───────┼────────┼────────┼───────┼───────┼──────────┼──────────┼────────┤\n",
       "│ 1   │ 5218  │ 0      │ 1      │ 12    │ 25    │ 8        │ 12       │ 82135  │\n",
       "│ 2   │ 5219  │ 0      │ 1      │ 13    │ 34    │ \u001b[90mmissing\u001b[39m  │ \u001b[90mmissing\u001b[39m  │ 88765  │\n",
       "│ 3   │ 5220  │ 0      │ 1      │ 12    │ 24    │ 11       │ \u001b[90mmissing\u001b[39m  │ 89271  │\n",
       "│ 4   │ 5221  │ 0      │ 1      │ 12    │ 31    │ \u001b[90mmissing\u001b[39m  │ \u001b[90mmissing\u001b[39m  │ 110376 │\n",
       "│ 5   │ 5225  │ 0      │ 1      │ 13    │ 26    │ \u001b[90mmissing\u001b[39m  │ \u001b[90mmissing\u001b[39m  │ 81081  │"
      ]
     },
     "execution_count": 88,
     "metadata": {},
     "output_type": "execute_result"
    }
   ],
   "source": [
    "last(df, 5)"
   ]
  },
  {
   "cell_type": "code",
   "execution_count": 89,
   "id": "47c981be-4182-44ba-8d02-306828e9199f",
   "metadata": {},
   "outputs": [
    {
     "data": {
      "text/plain": [
       "34-element Vector{String}:\n",
       " \"id\"\n",
       " \"nearc2\"\n",
       " \"nearc4\"\n",
       " \"educ\"\n",
       " \"age\"\n",
       " \"fatheduc\"\n",
       " \"motheduc\"\n",
       " \"weight\"\n",
       " \"momdad14\"\n",
       " \"sinmom14\"\n",
       " \"step14\"\n",
       " \"reg661\"\n",
       " \"reg662\"\n",
       " ⋮\n",
       " \"smsa\"\n",
       " \"south\"\n",
       " \"smsa66\"\n",
       " \"wage\"\n",
       " \"enroll\"\n",
       " \"KWW\"\n",
       " \"IQ\"\n",
       " \"married\"\n",
       " \"libcrd14\"\n",
       " \"exper\"\n",
       " \"lwage\"\n",
       " \"expersq\""
      ]
     },
     "execution_count": 89,
     "metadata": {},
     "output_type": "execute_result"
    }
   ],
   "source": [
    "names(df)"
   ]
  },
  {
   "cell_type": "markdown",
   "id": "4ddda562-d101-4940-a59e-d896db899e26",
   "metadata": {},
   "source": [
    "### (a) OLS\n",
    "$$\\log\\left(wage\\right) = \\beta_0 + \\beta_1 \\cdot educ + \\beta_2 \\cdot exper + \\beta_3 \\cdot exper^2 + \\beta_4 \\cdot black + \\beta_5 \\cdot SMSA + \\beta_6 \\cdot south + u$$"
   ]
  },
  {
   "cell_type": "markdown",
   "id": "8fb41bde-0a3b-44bb-a2a3-64879806dfae",
   "metadata": {
    "tags": []
   },
   "source": [
    "### if you use \"Econometrics\" package"
   ]
  },
  {
   "cell_type": "code",
   "execution_count": 90,
   "id": "3a1f1e95-ff0d-4654-b547-19f3b029fd4a",
   "metadata": {},
   "outputs": [
    {
     "data": {
      "text/plain": [
       "Continuous Response Model\n",
       "Number of observations: 3010\n",
       "Null Loglikelihood: -1825.22\n",
       "Loglikelihood: -1308.71\n",
       "R-squared: 0.2905\n",
       "LR Test: 1033.03 ∼ χ²(6) ⟹  Pr > χ² = 0.0000\n",
       "Formula: lwage ~ 1 + educ + exper + expersq + black + smsa + south\n",
       "Variance Covariance Estimator: OIM\n",
       "───────────────────────────────────────────────────────────────────────────────────\n",
       "                   PE          SE       t-value  Pr > |t|        2.50%       97.50%\n",
       "───────────────────────────────────────────────────────────────────────────────────\n",
       "(Intercept)   4.73366     0.0676026    70.0219     <1e-99   4.60111      4.86622\n",
       "educ          0.074009    0.00350543   21.1126     <1e-91   0.0671357    0.0808823\n",
       "exper         0.0835958   0.00664779   12.575      <1e-34   0.0705612    0.0966305\n",
       "expersq      -0.00224088  0.00031784   -7.05035    <1e-11  -0.00286409  -0.00161768\n",
       "black        -0.189632    0.0176266   -10.7583     <1e-25  -0.224193    -0.15507\n",
       "smsa          0.161423    0.0155733    10.3654     <1e-24   0.130888     0.191958\n",
       "south        -0.124862    0.0151182    -8.25901    <1e-15  -0.154505    -0.0952184\n",
       "───────────────────────────────────────────────────────────────────────────────────"
      ]
     },
     "execution_count": 90,
     "metadata": {},
     "output_type": "execute_result"
    }
   ],
   "source": [
    "model_a = fit(EconometricModel, # Indicates the default model\n",
    "            @formula(lwage ~ educ + exper + expersq + black + smsa + south), # formula\n",
    "            df)"
   ]
  },
  {
   "cell_type": "markdown",
   "id": "7f6d23eb-85ce-4a45-9ada-51bdba6f0672",
   "metadata": {
    "tags": []
   },
   "source": [
    "### if you use \"Microeconometrics\" package"
   ]
  },
  {
   "cell_type": "code",
   "execution_count": 91,
   "id": "0b3096e6-096b-4595-9ffd-450ce37d205f",
   "metadata": {},
   "outputs": [],
   "source": [
    "Data_1  = df; #dataset \n",
    "Model_1 = @micromodel(response => lwage, control => educ + exper + expersq + black + smsa + south + 1); #model"
   ]
  },
  {
   "cell_type": "code",
   "execution_count": 92,
   "id": "dcbeb3ef-5b6c-4932-b20a-41e4279a67ce",
   "metadata": {},
   "outputs": [
    {
     "data": {
      "text/plain": [
       "───────────────────────────────────────────────────────────────────────────\n",
       "              Estimate   St. Err.    t-stat.    p-value       C.I.  (95%)  \n",
       "───────────────────────────────────────────────────────────────────────────\n",
       "educ            0.0740     0.0036    20.3411     0.0000     0.0669   0.0811\n",
       "exper           0.0836     0.0067    12.4289     0.0000     0.0704   0.0968\n",
       "expersq        -0.0022     0.0003    -7.0513     0.0000    -0.0029  -0.0016\n",
       "black          -0.1896     0.0174   -10.8889     0.0000    -0.2238  -0.1555\n",
       "smsa            0.1614     0.0152    10.6480     0.0000     0.1317   0.1911\n",
       "south          -0.1249     0.0153    -8.1420     0.0000    -0.1549  -0.0948\n",
       "(Intercept)     4.7337     0.0701    67.5392     0.0000     4.5963   4.8710\n",
       "───────────────────────────────────────────────────────────────────────────\n"
      ]
     },
     "execution_count": 92,
     "metadata": {},
     "output_type": "execute_result"
    }
   ],
   "source": [
    "model_1 = fit(OLS, Microdata(Data_1, Model_1))"
   ]
  },
  {
   "cell_type": "markdown",
   "id": "0600c398-926b-42c3-a311-b231c6e571c1",
   "metadata": {
    "tags": []
   },
   "source": [
    "### (b) OLS\n",
    "\n",
    "$$\\log\\left(wage\\right) = \\beta_0 + \\beta_1 \\cdot educ + \\beta_2 \\cdot exper + \\beta_3 \\cdot exper^2 + \\beta_4 \\cdot black + \\beta_5 \\cdot SMSA + \\beta_6 \\cdot south + u$$\n",
    "\n",
    "### by the OLS with IQ as the proxy to ability $(u)$."
   ]
  },
  {
   "cell_type": "code",
   "execution_count": 93,
   "id": "b1b61438-5616-4781-90d4-505e806bac76",
   "metadata": {},
   "outputs": [
    {
     "data": {
      "text/plain": [
       "Continuous Response Model\n",
       "Number of observations: 2061\n",
       "Null Loglikelihood: -1125.29\n",
       "Loglikelihood: -861.69\n",
       "R-squared: 0.2257\n",
       "LR Test: 527.20 ∼ χ²(7) ⟹  Pr > χ² = 0.0000\n",
       "Formula: lwage ~ 1 + educ + exper + expersq + black + smsa + south + IQ\n",
       "Variance Covariance Estimator: OIM\n",
       "───────────────────────────────────────────────────────────────────────────────────\n",
       "                   PE           SE      t-value  Pr > |t|        2.50%       97.50%\n",
       "───────────────────────────────────────────────────────────────────────────────────\n",
       "(Intercept)   4.48258     0.103596     43.2698     <1e-99   4.27942      4.68574\n",
       "educ          0.0692646   0.00487203   14.2168     <1e-43   0.0597099    0.0788192\n",
       "exper         0.0935215   0.00953556    9.80765    <1e-21   0.0748211    0.112222\n",
       "expersq      -0.00267617  0.000491625  -5.44351    <1e-07  -0.00364031  -0.00171203\n",
       "black        -0.136135    0.0262767    -5.18083    <1e-06  -0.187667    -0.0846033\n",
       "smsa          0.153351    0.0188749     8.1246     <1e-15   0.116335     0.190367\n",
       "south        -0.0790786   0.0180092    -4.39102    <1e-04  -0.114397    -0.0437605\n",
       "IQ            0.00252939  0.000674702   3.7489     0.0002   0.00120622   0.00385256\n",
       "───────────────────────────────────────────────────────────────────────────────────"
      ]
     },
     "execution_count": 93,
     "metadata": {},
     "output_type": "execute_result"
    }
   ],
   "source": [
    "model_b = fit(EconometricModel, # Indicates the default model\n",
    "            @formula(lwage ~ educ + exper + expersq + black + smsa + south + IQ), # formula\n",
    "            df)"
   ]
  },
  {
   "cell_type": "markdown",
   "id": "44ae1ccc-fbb4-41a0-8036-22d0f6c4d8c8",
   "metadata": {
    "tags": []
   },
   "source": [
    "### if you use Econometrics package"
   ]
  },
  {
   "cell_type": "code",
   "execution_count": 94,
   "id": "56184dd8-1e1c-419a-b856-d309c18b6f8a",
   "metadata": {},
   "outputs": [
    {
     "data": {
      "text/plain": [
       "Continuous Response Model\n",
       "Number of observations: 2061\n",
       "Null Loglikelihood: -1125.29\n",
       "Loglikelihood: -861.69\n",
       "R-squared: 0.2257\n",
       "LR Test: 527.20 ∼ χ²(7) ⟹  Pr > χ² = 0.0000\n",
       "Formula: lwage ~ 1 + educ + exper + expersq + black + smsa + south + IQ\n",
       "Variance Covariance Estimator: OIM\n",
       "───────────────────────────────────────────────────────────────────────────────────\n",
       "                   PE           SE      t-value  Pr > |t|        2.50%       97.50%\n",
       "───────────────────────────────────────────────────────────────────────────────────\n",
       "(Intercept)   4.48258     0.103596     43.2698     <1e-99   4.27942      4.68574\n",
       "educ          0.0692646   0.00487203   14.2168     <1e-43   0.0597099    0.0788192\n",
       "exper         0.0935215   0.00953556    9.80765    <1e-21   0.0748211    0.112222\n",
       "expersq      -0.00267617  0.000491625  -5.44351    <1e-07  -0.00364031  -0.00171203\n",
       "black        -0.136135    0.0262767    -5.18083    <1e-06  -0.187667    -0.0846033\n",
       "smsa          0.153351    0.0188749     8.1246     <1e-15   0.116335     0.190367\n",
       "south        -0.0790786   0.0180092    -4.39102    <1e-04  -0.114397    -0.0437605\n",
       "IQ            0.00252939  0.000674702   3.7489     0.0002   0.00120622   0.00385256\n",
       "───────────────────────────────────────────────────────────────────────────────────"
      ]
     },
     "execution_count": 94,
     "metadata": {},
     "output_type": "execute_result"
    }
   ],
   "source": [
    "model_b = fit(EconometricModel, # Indicates the default model\n",
    "            @formula(lwage ~ educ + exper + expersq + black + smsa + south + IQ), # formula\n",
    "            df)"
   ]
  },
  {
   "cell_type": "markdown",
   "id": "467c95f9-de99-44cc-a6b4-05597b4da307",
   "metadata": {
    "tags": []
   },
   "source": [
    "### if you use \"Microeconometrics\" package"
   ]
  },
  {
   "cell_type": "code",
   "execution_count": 95,
   "id": "0d441872-438c-44cd-b744-8e21b8cf1b30",
   "metadata": {},
   "outputs": [],
   "source": [
    "Data_2  = dropmissing(select(df, [:lwage, :educ, :exper, :expersq, :black, :smsa, :south, :IQ])); #dataset \n",
    "Model_2 = @micromodel(response => lwage, control => educ + exper + expersq + black + smsa + south + IQ + 1); #model"
   ]
  },
  {
   "cell_type": "code",
   "execution_count": 96,
   "id": "f1e2c672-157f-4425-82ca-c56131435427",
   "metadata": {},
   "outputs": [
    {
     "data": {
      "text/plain": [
       "───────────────────────────────────────────────────────────────────────────\n",
       "              Estimate   St. Err.    t-stat.    p-value       C.I.  (95%)  \n",
       "───────────────────────────────────────────────────────────────────────────\n",
       "educ            0.0693     0.0051    13.6334     0.0000     0.0593   0.0792\n",
       "exper           0.0935     0.0092    10.1451     0.0000     0.0755   0.1116\n",
       "expersq        -0.0027     0.0005    -5.7494     0.0000    -0.0036  -0.0018\n",
       "black          -0.1361     0.0270    -5.0407     0.0000    -0.1891  -0.0832\n",
       "smsa            0.1534     0.0185     8.2747     0.0000     0.1170   0.1897\n",
       "south          -0.0791     0.0185    -4.2770     0.0000    -0.1153  -0.0428\n",
       "IQ              0.0025     0.0008     3.3581     0.0008     0.0011   0.0040\n",
       "(Intercept)     4.4826     0.1095    40.9209     0.0000     4.2679   4.6973\n",
       "───────────────────────────────────────────────────────────────────────────\n"
      ]
     },
     "execution_count": 96,
     "metadata": {},
     "output_type": "execute_result"
    }
   ],
   "source": [
    "model_2 = fit(OLS, Microdata(Data_2, Model_2))"
   ]
  },
  {
   "cell_type": "markdown",
   "id": "c7be8419-a26d-4ad4-b8e5-8fab288c846a",
   "metadata": {},
   "source": [
    "### (d) "
   ]
  },
  {
   "cell_type": "markdown",
   "id": "116dec4d-a832-49c5-99d7-b33f13f48d91",
   "metadata": {
    "tags": []
   },
   "source": [
    "### if you use Econometrics package"
   ]
  },
  {
   "cell_type": "code",
   "execution_count": 97,
   "id": "32e4b098-bbf9-4257-8552-a23a367898b7",
   "metadata": {},
   "outputs": [
    {
     "data": {
      "text/plain": [
       "Continuous Response Model\n",
       "Number of observations: 2061\n",
       "Null Loglikelihood: -8562.64\n",
       "Loglikelihood: -8518.82\n",
       "R-squared: 0.0416\n",
       "LR Test: 87.64 ∼ χ²(3) ⟹  Pr > χ² = 0.0000\n",
       "Formula: IQ ~ 1 + nearc4 + smsa + south\n",
       "Variance Covariance Estimator: OIM\n",
       "──────────────────────────────────────────────────────────────────────────────\n",
       "                  PE        SE       t-value  Pr > |t|        2.50%     97.50%\n",
       "──────────────────────────────────────────────────────────────────────────────\n",
       "(Intercept)  102.655     0.8374    122.588      <1e-99  101.013      104.297\n",
       "nearc4         0.890227  0.782144    1.13819    0.2552   -0.64365      2.4241\n",
       "smsa           1.629     0.803441    2.02753    0.0427    0.0533579    3.20464\n",
       "south         -5.99102   0.717666   -8.34791    <1e-15   -7.39844     -4.58359\n",
       "──────────────────────────────────────────────────────────────────────────────"
      ]
     },
     "execution_count": 97,
     "metadata": {},
     "output_type": "execute_result"
    }
   ],
   "source": [
    "model_d = fit(EconometricModel, # Indicates the default model\n",
    "            @formula(IQ ~ nearc4 + smsa + south), # formula\n",
    "            df)"
   ]
  },
  {
   "cell_type": "markdown",
   "id": "32520565-88a4-4772-a64b-3f4f06f6a238",
   "metadata": {
    "tags": []
   },
   "source": [
    "### if you use \"Microeconometrics\" package"
   ]
  },
  {
   "cell_type": "code",
   "execution_count": 98,
   "id": "fc7e7135-3eab-458c-977f-ee2654d1115e",
   "metadata": {},
   "outputs": [],
   "source": [
    "Data_4  = dropmissing(select(df, [:IQ, :nearc4, :smsa, :south])); #dataset \n",
    "Model_4 = @micromodel(response => IQ, control => nearc4 + smsa + south + 1); #model"
   ]
  },
  {
   "cell_type": "code",
   "execution_count": 99,
   "id": "b2ad201a-f653-4e1c-a750-0b624262972d",
   "metadata": {},
   "outputs": [
    {
     "data": {
      "text/plain": [
       "────────────────────────────────────────────────────────────────────────────\n",
       "              Estimate   St. Err.    t-stat.    p-value       C.I.   (95%)  \n",
       "────────────────────────────────────────────────────────────────────────────\n",
       "nearc4          0.8902     0.7709     1.1548     0.2482    -0.6206    2.4011\n",
       "smsa            1.6290     0.7814     2.0848     0.0371     0.0976    3.1604\n",
       "south          -5.9910     0.7274    -8.2366     0.0000    -7.4166   -4.5654\n",
       "(Intercept)   102.6549     0.7713   133.0917     0.0000   101.1432  104.1667\n",
       "────────────────────────────────────────────────────────────────────────────\n"
      ]
     },
     "execution_count": 99,
     "metadata": {},
     "output_type": "execute_result"
    }
   ],
   "source": [
    "model_4 = fit(OLS, Microdata(Data_4, Model_4))"
   ]
  },
  {
   "cell_type": "markdown",
   "id": "33a794a3-dbe7-40fd-b807-c641a2f3de33",
   "metadata": {},
   "source": [
    "### (e) "
   ]
  },
  {
   "cell_type": "markdown",
   "id": "d76b165c-c4fa-4b39-bc46-ecfe3b835c6d",
   "metadata": {
    "tags": []
   },
   "source": [
    "### if you use Econometrics package"
   ]
  },
  {
   "cell_type": "code",
   "execution_count": 100,
   "id": "9aed7ff3-a6de-4cd7-b4be-15e268981eec",
   "metadata": {},
   "outputs": [
    {
     "data": {
      "text/plain": [
       "Continuous Response Model\n",
       "Number of observations: 3010\n",
       "Null Loglikelihood: -7234.34\n",
       "Loglikelihood: -7051.68\n",
       "R-squared: 0.1143\n",
       "LR Test: 365.32 ∼ χ²(4) ⟹  Pr > χ² = 0.0000\n",
       "Formula: educ ~ 1 + nearc4 + black + smsa + south\n",
       "Variance Covariance Estimator: OIM\n",
       "───────────────────────────────────────────────────────────────────────────\n",
       "                 PE        SE       t-value  Pr > |t|      2.50%     97.50%\n",
       "───────────────────────────────────────────────────────────────────────────\n",
       "(Intercept)  12.9578    0.114625  113.045      <1e-99  12.7331    13.1826\n",
       "nearc4        0.33175   0.107067    3.09853    0.0020   0.121819   0.541682\n",
       "black        -1.46377   0.115592  -12.6633     <1e-35  -1.69042   -1.23713\n",
       "smsa          0.847795  0.109382    7.75075    <1e-13   0.633323   1.06227\n",
       "south        -0.453838  0.102633   -4.42196    <1e-04  -0.655076  -0.2526\n",
       "───────────────────────────────────────────────────────────────────────────"
      ]
     },
     "execution_count": 100,
     "metadata": {},
     "output_type": "execute_result"
    }
   ],
   "source": [
    "model_e = fit(EconometricModel, # Indicates the default model\n",
    "            @formula(educ ~ nearc4 + black + smsa + south), # formula\n",
    "            df)"
   ]
  },
  {
   "cell_type": "markdown",
   "id": "a5f4fc3c-4771-43cd-b2ed-76593308285a",
   "metadata": {
    "tags": []
   },
   "source": [
    "### if you use \"Microeconometrics\" package"
   ]
  },
  {
   "cell_type": "code",
   "execution_count": 101,
   "id": "58be1076-b2c7-4dc1-aafd-cde82fa37f0e",
   "metadata": {},
   "outputs": [],
   "source": [
    "Data_5  = df; #dataset \n",
    "Model_5 = @micromodel(response => educ, control => nearc4 + black + smsa + south + 1); #model"
   ]
  },
  {
   "cell_type": "code",
   "execution_count": 102,
   "id": "9ba74f8f-19b6-4390-9f4f-b14de2b0bcbf",
   "metadata": {},
   "outputs": [
    {
     "data": {
      "text/plain": [
       "───────────────────────────────────────────────────────────────────────────\n",
       "              Estimate   St. Err.    t-stat.    p-value       C.I.  (95%)  \n",
       "───────────────────────────────────────────────────────────────────────────\n",
       "nearc4          0.3318     0.1089     3.0459     0.0023     0.1183   0.5452\n",
       "black          -1.4638     0.1156   -12.6611     0.0000    -1.6904  -1.2372\n",
       "smsa            0.8478     0.1128     7.5126     0.0000     0.6266   1.0690\n",
       "south          -0.4538     0.1034    -4.3897     0.0000    -0.6565  -0.2512\n",
       "(Intercept)    12.9578     0.1114   116.3396     0.0000    12.7395  13.1761\n",
       "───────────────────────────────────────────────────────────────────────────\n"
      ]
     },
     "execution_count": 102,
     "metadata": {},
     "output_type": "execute_result"
    }
   ],
   "source": [
    "model_5 = fit(OLS, Microdata(Data_5, Model_5))"
   ]
  },
  {
   "cell_type": "markdown",
   "id": "d8710179-6034-4dd0-9fd1-af1dd933859a",
   "metadata": {},
   "source": [
    "### (f) "
   ]
  },
  {
   "cell_type": "markdown",
   "id": "23d7dcaa-b5cf-41d9-b477-0d175b360cc4",
   "metadata": {
    "tags": []
   },
   "source": [
    "### if you use Econometrics package"
   ]
  },
  {
   "cell_type": "code",
   "execution_count": 103,
   "id": "3cceb9b4-c146-4d40-9daa-acd4be96efe3",
   "metadata": {},
   "outputs": [
    {
     "data": {
      "text/plain": [
       "Continuous Response Model\n",
       "Number of observations: 2061\n",
       "Null Loglikelihood: -1125.29\n",
       "Loglikelihood: -861.50\n",
       "R-squared: 0.2258\n",
       "LR Test: 527.57 ∼ χ²(8) ⟹  Pr > χ² = 0.0000\n",
       "Formula: lwage ~ 1 + educ + exper + expersq + black + smsa + south + IQ + nearc4\n",
       "Variance Covariance Estimator: OIM\n",
       "────────────────────────────────────────────────────────────────────────────────────\n",
       "                   PE           SE       t-value  Pr > |t|        2.50%       97.50%\n",
       "────────────────────────────────────────────────────────────────────────────────────\n",
       "(Intercept)   4.48037     0.103676     43.2152      <1e-99   4.27705      4.68369\n",
       "educ          0.0690458   0.00488607   14.1311      <1e-42   0.0594636    0.078628\n",
       "exper         0.0935021   0.00953708    9.80406     <1e-21   0.0747987    0.112205\n",
       "expersq      -0.00268008  0.000491743  -5.45017     <1e-07  -0.00364445  -0.00171571\n",
       "black        -0.136696    0.026297     -5.19818     <1e-06  -0.188268    -0.0851247\n",
       "smsa          0.149889    0.0197195     7.60108     <1e-13   0.111217     0.188562\n",
       "south        -0.0773091   0.0182461    -4.23703     <1e-04  -0.113092    -0.0415264\n",
       "IQ            0.00252511  0.000674842   3.74178     0.0002   0.00120166   0.00384856\n",
       "nearc4        0.0116268   0.0191433     0.607358    0.5437  -0.0259154    0.0491691\n",
       "────────────────────────────────────────────────────────────────────────────────────"
      ]
     },
     "execution_count": 103,
     "metadata": {},
     "output_type": "execute_result"
    }
   ],
   "source": [
    "model_f = fit(EconometricModel, # Indicates the default model\n",
    "            @formula(lwage ~ educ + exper + expersq + black + smsa + south + IQ + nearc4), # formula\n",
    "            df)"
   ]
  },
  {
   "cell_type": "markdown",
   "id": "b1a855ee-f73a-485c-ab80-4701a7172ca8",
   "metadata": {
    "tags": []
   },
   "source": [
    "### if you use \"Microeconometrics\" package"
   ]
  },
  {
   "cell_type": "code",
   "execution_count": 104,
   "id": "695cd3a7-d347-4315-a67f-7047c4db9630",
   "metadata": {},
   "outputs": [],
   "source": [
    "Data_6  = dropmissing(select(df, [:lwage, :educ, :exper, :expersq, :black, :smsa, :south, :IQ, :nearc4])); #dataset \n",
    "Model_6 = @micromodel(response => lwage, control => educ + exper + expersq + black + smsa + south + IQ + nearc4 + 1); #model"
   ]
  },
  {
   "cell_type": "code",
   "execution_count": 105,
   "id": "64a0e491-737e-4995-84ab-e8fcb428ff6f",
   "metadata": {},
   "outputs": [
    {
     "data": {
      "text/plain": [
       "───────────────────────────────────────────────────────────────────────────\n",
       "              Estimate   St. Err.    t-stat.    p-value       C.I.  (95%)  \n",
       "───────────────────────────────────────────────────────────────────────────\n",
       "educ            0.0690     0.0051    13.5389     0.0000     0.0591   0.0790\n",
       "exper           0.0935     0.0092    10.1401     0.0000     0.0754   0.1116\n",
       "expersq        -0.0027     0.0005    -5.7518     0.0000    -0.0036  -0.0018\n",
       "black          -0.1367     0.0271    -5.0506     0.0000    -0.1897  -0.0836\n",
       "smsa            0.1499     0.0193     7.7597     0.0000     0.1120   0.1877\n",
       "south          -0.0773     0.0187    -4.1287     0.0000    -0.1140  -0.0406\n",
       "IQ              0.0025     0.0008     3.3518     0.0008     0.0010   0.0040\n",
       "nearc4          0.0116     0.0190     0.6118     0.5407    -0.0256   0.0489\n",
       "(Intercept)     4.4804     0.1095    40.9002     0.0000     4.2657   4.6951\n",
       "───────────────────────────────────────────────────────────────────────────\n"
      ]
     },
     "execution_count": 105,
     "metadata": {},
     "output_type": "execute_result"
    }
   ],
   "source": [
    "model_6 = fit(OLS, Microdata(Data_6, Model_6))"
   ]
  },
  {
   "cell_type": "markdown",
   "id": "561a7c69-9bb4-4dee-b8f5-4cb883cb25f6",
   "metadata": {},
   "source": [
    "### (g) "
   ]
  },
  {
   "cell_type": "markdown",
   "id": "2df66956-fb97-4400-b1ca-108115158051",
   "metadata": {
    "tags": []
   },
   "source": [
    "### if you use Econometrics package"
   ]
  },
  {
   "cell_type": "code",
   "execution_count": 106,
   "id": "faf652a4-977d-4edc-99e2-1335c289fef3",
   "metadata": {},
   "outputs": [
    {
     "data": {
      "text/plain": [
       "Continuous Response Model\n",
       "Number of observations: 3010\n",
       "Null Loglikelihood: -1825.22\n",
       "Loglikelihood: -1441.22\n",
       "R-squared: NaN\n",
       "LR Test: 767.99 ∼ χ²(6) ⟹  Pr > χ² = 0.0000\n",
       "Formula: lwage ~ 1 + exper + expersq + black + smsa + south + (educ ~ nearc4)\n",
       "Variance Covariance Estimator: OIM\n",
       "───────────────────────────────────────────────────────────────────────────────────\n",
       "                   PE           SE      t-value  Pr > |t|        2.50%       97.50%\n",
       "───────────────────────────────────────────────────────────────────────────────────\n",
       "(Intercept)   3.75278     0.829479      4.52426    <1e-05   2.12638      5.37919\n",
       "exper         0.107498    0.0213042     5.04587    <1e-06   0.0657258    0.14927\n",
       "expersq      -0.00228407  0.000334188  -6.83468    <1e-11  -0.00293933  -0.00162881\n",
       "black        -0.130802    0.0528811    -2.47351    0.0134  -0.234489    -0.027115\n",
       "smsa          0.131324    0.0301349     4.35787    <1e-04   0.0722366    0.190411\n",
       "south        -0.104901    0.0230769    -4.54569    <1e-05  -0.150149    -0.0596523\n",
       "educ          0.132289    0.0492414     2.68654    0.0073   0.0357385    0.228839\n",
       "───────────────────────────────────────────────────────────────────────────────────"
      ]
     },
     "execution_count": 106,
     "metadata": {},
     "output_type": "execute_result"
    }
   ],
   "source": [
    "model_g = fit(EconometricModel,\n",
    "            @formula(lwage ~ exper + expersq + black + smsa + south + (educ ~ nearc4)),\n",
    "            df)"
   ]
  },
  {
   "cell_type": "markdown",
   "id": "d2abea2b-99a5-422c-bc26-b394131ba545",
   "metadata": {
    "tags": []
   },
   "source": [
    "### if you use \"Microeconometrics\" package"
   ]
  },
  {
   "cell_type": "code",
   "execution_count": 107,
   "id": "b51c5004-d7f4-40a0-a1f9-cad61867cce0",
   "metadata": {},
   "outputs": [],
   "source": [
    "Data_7  = df; #dataset \n",
    "Model_7 = @micromodel(response => lwage, control => exper + expersq + black + smsa + south + 1, treatment => educ, instrument => nearc4); #model"
   ]
  },
  {
   "cell_type": "code",
   "execution_count": 108,
   "id": "aef07d96-3760-43cd-b64c-37c2b4e47c75",
   "metadata": {},
   "outputs": [
    {
     "data": {
      "text/plain": [
       "───────────────────────────────────────────────────────────────────────────\n",
       "              Estimate   St. Err.    t-stat.    p-value       C.I.  (95%)  \n",
       "───────────────────────────────────────────────────────────────────────────\n",
       "educ            0.1323     0.0485     2.7260     0.0064     0.0372   0.2274\n",
       "exper           0.1075     0.0211     5.0907     0.0000     0.0661   0.1489\n",
       "expersq        -0.0023     0.0003    -6.5938     0.0000    -0.0030  -0.0016\n",
       "black          -0.1308     0.0515    -2.5418     0.0110    -0.2317  -0.0299\n",
       "smsa            0.1313     0.0298     4.4108     0.0000     0.0730   0.1897\n",
       "south          -0.1049     0.0229    -4.5801     0.0000    -0.1498  -0.0600\n",
       "(Intercept)     3.7528     0.8169     4.5940     0.0000     2.1517   5.3538\n",
       "───────────────────────────────────────────────────────────────────────────\n"
      ]
     },
     "execution_count": 108,
     "metadata": {},
     "output_type": "execute_result"
    }
   ],
   "source": [
    "model_7 = fit(IV, Microdata(Data_7, Model_7))"
   ]
  },
  {
   "cell_type": "markdown",
   "id": "b0ff8048-ecb1-468c-ad35-45a554f64e91",
   "metadata": {
    "tags": []
   },
   "source": [
    "### (h)"
   ]
  },
  {
   "cell_type": "markdown",
   "id": "bc20d0b4-ca70-44a5-9785-c0f2b40013ad",
   "metadata": {
    "tags": []
   },
   "source": [
    "### let's use Econometrics package\n",
    "\n",
    "### there is no Hausman test in Julia, so I am writing one myself\n",
    "\n",
    "### the se computation of OLS and IV-reg in Julia is a little bit different from Stata and Python; hence, the final test-stat and p-value is marginally different."
   ]
  },
  {
   "cell_type": "code",
   "execution_count": 164,
   "id": "7fa489ca-d996-4abf-bb36-d8b7644efcd2",
   "metadata": {},
   "outputs": [
    {
     "data": {
      "text/plain": [
       "hm_test (generic function with 1 method)"
      ]
     },
     "execution_count": 164,
     "metadata": {},
     "output_type": "execute_result"
    }
   ],
   "source": [
    "# firstly, run the OLS\n",
    "\n",
    "model = lm(@formula(lwage ~ 1 + exper + expersq + black + smsa + south + educ), df);\n",
    "\n",
    "function hm_test(model, model_g, sig_level)\n",
    "    \n",
    "    # step 2 : compute test statistic\n",
    "    bB = coef(model_g)[2:7] - coef(model)[2:7];\n",
    "    C  = inv(vcov(model_g)[2:7,2:7] - vcov(model)[2:7,2:7]);\n",
    "\n",
    "    Hausman_stat = transpose(bB) * C * bB\n",
    "    \n",
    "    println(\"the test stat is \", Hausman_stat, \"\\n\")\n",
    "    \n",
    "    # step 3 : compute right-tail p-value\n",
    "    d = Chisq(1);\n",
    "    p_val = ccdf(d, Hausman_stat)\n",
    "\n",
    "    println(\"the p-value is \", p_val, \"\\n\")\n",
    "    \n",
    "    #step 4: plot rejection/non-rejection region \n",
    "    lower_bar = -1\n",
    "    upper_bar = Hausman_stat + 3\n",
    "\n",
    "    lb = quantile(d, 1 - sig_level)\n",
    "\n",
    "    rg_low = range(0, lb; length = 100)\n",
    "    rg_upp = range(lb, upper_bar; length = 100)\n",
    "\n",
    "    plot(rg_low, pdf.(d, rg_low), fillrange = 0, fillalpha = 0.35, c = \"blue\", lw = 3, label = \"non-rejection region of H0\", legend = :topleft)\n",
    "    plot!(rg_upp, pdf.(d, rg_upp), fillrange = 0, fillalpha = 0.35, c = \"red\", lw = 3, label = \"rejection region of H0\", legend = :topleft)\n",
    "    display(plot!([Hausman_stat], seriestype = :vline, c=\"green\", linewidth=3, label=\"test stat\", title=\"Hausman test\"))\n",
    "    \n",
    "end"
   ]
  },
  {
   "cell_type": "code",
   "execution_count": 165,
   "id": "8b668d17-0c3b-4acc-819e-40111dc58c54",
   "metadata": {},
   "outputs": [
    {
     "data": {
      "image/svg+xml": [
       "<?xml version=\"1.0\" encoding=\"utf-8\"?>\n",
       "<svg xmlns=\"http://www.w3.org/2000/svg\" xmlns:xlink=\"http://www.w3.org/1999/xlink\" width=\"600\" height=\"400\" viewBox=\"0 0 2400 1600\">\n",
       "<defs>\n",
       "  <clipPath id=\"clip370\">\n",
       "    <rect x=\"0\" y=\"0\" width=\"2400\" height=\"1600\"/>\n",
       "  </clipPath>\n",
       "</defs>\n",
       "<path clip-path=\"url(#clip370)\" d=\"\n",
       "M0 1600 L2400 1600 L2400 0 L0 0  Z\n",
       "  \" fill=\"#ffffff\" fill-rule=\"evenodd\" fill-opacity=\"1\"/>\n",
       "<defs>\n",
       "  <clipPath id=\"clip371\">\n",
       "    <rect x=\"480\" y=\"0\" width=\"1681\" height=\"1600\"/>\n",
       "  </clipPath>\n",
       "</defs>\n",
       "<path clip-path=\"url(#clip370)\" d=\"\n",
       "M156.112 1486.45 L2352.76 1486.45 L2352.76 123.472 L156.112 123.472  Z\n",
       "  \" fill=\"#ffffff\" fill-rule=\"evenodd\" fill-opacity=\"1\"/>\n",
       "<defs>\n",
       "  <clipPath id=\"clip372\">\n",
       "    <rect x=\"156\" y=\"123\" width=\"2198\" height=\"1364\"/>\n",
       "  </clipPath>\n",
       "</defs>\n",
       "<polyline clip-path=\"url(#clip372)\" style=\"stroke:#000000; stroke-linecap:butt; stroke-linejoin:round; stroke-width:2; stroke-opacity:0.1; fill:none\" points=\"\n",
       "  218.281,1486.45 218.281,123.472 \n",
       "  \"/>\n",
       "<polyline clip-path=\"url(#clip372)\" style=\"stroke:#000000; stroke-linecap:butt; stroke-linejoin:round; stroke-width:2; stroke-opacity:0.1; fill:none\" points=\"\n",
       "  688.412,1486.45 688.412,123.472 \n",
       "  \"/>\n",
       "<polyline clip-path=\"url(#clip372)\" style=\"stroke:#000000; stroke-linecap:butt; stroke-linejoin:round; stroke-width:2; stroke-opacity:0.1; fill:none\" points=\"\n",
       "  1158.54,1486.45 1158.54,123.472 \n",
       "  \"/>\n",
       "<polyline clip-path=\"url(#clip372)\" style=\"stroke:#000000; stroke-linecap:butt; stroke-linejoin:round; stroke-width:2; stroke-opacity:0.1; fill:none\" points=\"\n",
       "  1628.67,1486.45 1628.67,123.472 \n",
       "  \"/>\n",
       "<polyline clip-path=\"url(#clip372)\" style=\"stroke:#000000; stroke-linecap:butt; stroke-linejoin:round; stroke-width:2; stroke-opacity:0.1; fill:none\" points=\"\n",
       "  2098.8,1486.45 2098.8,123.472 \n",
       "  \"/>\n",
       "<polyline clip-path=\"url(#clip370)\" style=\"stroke:#000000; stroke-linecap:butt; stroke-linejoin:round; stroke-width:4; stroke-opacity:1; fill:none\" points=\"\n",
       "  156.112,1486.45 2352.76,1486.45 \n",
       "  \"/>\n",
       "<polyline clip-path=\"url(#clip370)\" style=\"stroke:#000000; stroke-linecap:butt; stroke-linejoin:round; stroke-width:4; stroke-opacity:1; fill:none\" points=\"\n",
       "  218.281,1486.45 218.281,1467.55 \n",
       "  \"/>\n",
       "<polyline clip-path=\"url(#clip370)\" style=\"stroke:#000000; stroke-linecap:butt; stroke-linejoin:round; stroke-width:4; stroke-opacity:1; fill:none\" points=\"\n",
       "  688.412,1486.45 688.412,1467.55 \n",
       "  \"/>\n",
       "<polyline clip-path=\"url(#clip370)\" style=\"stroke:#000000; stroke-linecap:butt; stroke-linejoin:round; stroke-width:4; stroke-opacity:1; fill:none\" points=\"\n",
       "  1158.54,1486.45 1158.54,1467.55 \n",
       "  \"/>\n",
       "<polyline clip-path=\"url(#clip370)\" style=\"stroke:#000000; stroke-linecap:butt; stroke-linejoin:round; stroke-width:4; stroke-opacity:1; fill:none\" points=\"\n",
       "  1628.67,1486.45 1628.67,1467.55 \n",
       "  \"/>\n",
       "<polyline clip-path=\"url(#clip370)\" style=\"stroke:#000000; stroke-linecap:butt; stroke-linejoin:round; stroke-width:4; stroke-opacity:1; fill:none\" points=\"\n",
       "  2098.8,1486.45 2098.8,1467.55 \n",
       "  \"/>\n",
       "<path clip-path=\"url(#clip370)\" d=\"M218.281 1515.64 Q214.67 1515.64 212.842 1519.2 Q211.036 1522.75 211.036 1529.87 Q211.036 1536.98 212.842 1540.55 Q214.67 1544.09 218.281 1544.09 Q221.916 1544.09 223.721 1540.55 Q225.55 1536.98 225.55 1529.87 Q225.55 1522.75 223.721 1519.2 Q221.916 1515.64 218.281 1515.64 M218.281 1511.93 Q224.091 1511.93 227.147 1516.54 Q230.226 1521.12 230.226 1529.87 Q230.226 1538.6 227.147 1543.21 Q224.091 1547.79 218.281 1547.79 Q212.471 1547.79 209.392 1543.21 Q206.337 1538.6 206.337 1529.87 Q206.337 1521.12 209.392 1516.54 Q212.471 1511.93 218.281 1511.93 Z\" fill=\"#000000\" fill-rule=\"evenodd\" fill-opacity=\"1\" /><path clip-path=\"url(#clip370)\" d=\"M678.794 1543.18 L686.433 1543.18 L686.433 1516.82 L678.123 1518.49 L678.123 1514.23 L686.387 1512.56 L691.063 1512.56 L691.063 1543.18 L698.701 1543.18 L698.701 1547.12 L678.794 1547.12 L678.794 1543.18 Z\" fill=\"#000000\" fill-rule=\"evenodd\" fill-opacity=\"1\" /><path clip-path=\"url(#clip370)\" d=\"M1153.2 1543.18 L1169.52 1543.18 L1169.52 1547.12 L1147.57 1547.12 L1147.57 1543.18 Q1150.23 1540.43 1154.82 1535.8 Q1159.42 1531.15 1160.6 1529.81 Q1162.85 1527.28 1163.73 1525.55 Q1164.63 1523.79 1164.63 1522.1 Q1164.63 1519.34 1162.69 1517.61 Q1160.77 1515.87 1157.66 1515.87 Q1155.46 1515.87 1153.01 1516.63 Q1150.58 1517.4 1147.8 1518.95 L1147.8 1514.23 Q1150.63 1513.09 1153.08 1512.51 Q1155.53 1511.93 1157.57 1511.93 Q1162.94 1511.93 1166.14 1514.62 Q1169.33 1517.31 1169.33 1521.8 Q1169.33 1523.93 1168.52 1525.85 Q1167.73 1527.74 1165.63 1530.34 Q1165.05 1531.01 1161.95 1534.23 Q1158.84 1537.42 1153.2 1543.18 Z\" fill=\"#000000\" fill-rule=\"evenodd\" fill-opacity=\"1\" /><path clip-path=\"url(#clip370)\" d=\"M1632.92 1528.49 Q1636.28 1529.2 1638.15 1531.47 Q1640.05 1533.74 1640.05 1537.07 Q1640.05 1542.19 1636.53 1544.99 Q1633.01 1547.79 1626.53 1547.79 Q1624.36 1547.79 1622.04 1547.35 Q1619.75 1546.93 1617.3 1546.08 L1617.3 1541.56 Q1619.24 1542.7 1621.56 1543.28 Q1623.87 1543.86 1626.39 1543.86 Q1630.79 1543.86 1633.08 1542.12 Q1635.4 1540.38 1635.4 1537.07 Q1635.4 1534.02 1633.25 1532.31 Q1631.12 1530.57 1627.3 1530.57 L1623.27 1530.57 L1623.27 1526.73 L1627.48 1526.73 Q1630.93 1526.73 1632.76 1525.36 Q1634.59 1523.97 1634.59 1521.38 Q1634.59 1518.72 1632.69 1517.31 Q1630.82 1515.87 1627.3 1515.87 Q1625.38 1515.87 1623.18 1516.29 Q1620.98 1516.7 1618.34 1517.58 L1618.34 1513.42 Q1621 1512.68 1623.32 1512.31 Q1625.65 1511.93 1627.71 1511.93 Q1633.04 1511.93 1636.14 1514.37 Q1639.24 1516.77 1639.24 1520.89 Q1639.24 1523.76 1637.6 1525.75 Q1635.95 1527.72 1632.92 1528.49 Z\" fill=\"#000000\" fill-rule=\"evenodd\" fill-opacity=\"1\" /><path clip-path=\"url(#clip370)\" d=\"M2101.81 1516.63 L2090.01 1535.08 L2101.81 1535.08 L2101.81 1516.63 M2100.59 1512.56 L2106.47 1512.56 L2106.47 1535.08 L2111.4 1535.08 L2111.4 1538.97 L2106.47 1538.97 L2106.47 1547.12 L2101.81 1547.12 L2101.81 1538.97 L2086.21 1538.97 L2086.21 1534.46 L2100.59 1512.56 Z\" fill=\"#000000\" fill-rule=\"evenodd\" fill-opacity=\"1\" /><polyline clip-path=\"url(#clip372)\" style=\"stroke:#000000; stroke-linecap:butt; stroke-linejoin:round; stroke-width:2; stroke-opacity:0.1; fill:none\" points=\"\n",
       "  156.112,1447.87 2352.76,1447.87 \n",
       "  \"/>\n",
       "<polyline clip-path=\"url(#clip372)\" style=\"stroke:#000000; stroke-linecap:butt; stroke-linejoin:round; stroke-width:2; stroke-opacity:0.1; fill:none\" points=\"\n",
       "  156.112,1124.21 2352.76,1124.21 \n",
       "  \"/>\n",
       "<polyline clip-path=\"url(#clip372)\" style=\"stroke:#000000; stroke-linecap:butt; stroke-linejoin:round; stroke-width:2; stroke-opacity:0.1; fill:none\" points=\"\n",
       "  156.112,800.539 2352.76,800.539 \n",
       "  \"/>\n",
       "<polyline clip-path=\"url(#clip372)\" style=\"stroke:#000000; stroke-linecap:butt; stroke-linejoin:round; stroke-width:2; stroke-opacity:0.1; fill:none\" points=\"\n",
       "  156.112,476.872 2352.76,476.872 \n",
       "  \"/>\n",
       "<polyline clip-path=\"url(#clip372)\" style=\"stroke:#000000; stroke-linecap:butt; stroke-linejoin:round; stroke-width:2; stroke-opacity:0.1; fill:none\" points=\"\n",
       "  156.112,153.205 2352.76,153.205 \n",
       "  \"/>\n",
       "<polyline clip-path=\"url(#clip370)\" style=\"stroke:#000000; stroke-linecap:butt; stroke-linejoin:round; stroke-width:4; stroke-opacity:1; fill:none\" points=\"\n",
       "  156.112,1486.45 156.112,123.472 \n",
       "  \"/>\n",
       "<polyline clip-path=\"url(#clip370)\" style=\"stroke:#000000; stroke-linecap:butt; stroke-linejoin:round; stroke-width:4; stroke-opacity:1; fill:none\" points=\"\n",
       "  156.112,1447.87 175.01,1447.87 \n",
       "  \"/>\n",
       "<polyline clip-path=\"url(#clip370)\" style=\"stroke:#000000; stroke-linecap:butt; stroke-linejoin:round; stroke-width:4; stroke-opacity:1; fill:none\" points=\"\n",
       "  156.112,1124.21 175.01,1124.21 \n",
       "  \"/>\n",
       "<polyline clip-path=\"url(#clip370)\" style=\"stroke:#000000; stroke-linecap:butt; stroke-linejoin:round; stroke-width:4; stroke-opacity:1; fill:none\" points=\"\n",
       "  156.112,800.539 175.01,800.539 \n",
       "  \"/>\n",
       "<polyline clip-path=\"url(#clip370)\" style=\"stroke:#000000; stroke-linecap:butt; stroke-linejoin:round; stroke-width:4; stroke-opacity:1; fill:none\" points=\"\n",
       "  156.112,476.872 175.01,476.872 \n",
       "  \"/>\n",
       "<polyline clip-path=\"url(#clip370)\" style=\"stroke:#000000; stroke-linecap:butt; stroke-linejoin:round; stroke-width:4; stroke-opacity:1; fill:none\" points=\"\n",
       "  156.112,153.205 175.01,153.205 \n",
       "  \"/>\n",
       "<path clip-path=\"url(#clip370)\" d=\"M62.9365 1433.67 Q59.3254 1433.67 57.4967 1437.24 Q55.6912 1440.78 55.6912 1447.91 Q55.6912 1455.01 57.4967 1458.58 Q59.3254 1462.12 62.9365 1462.12 Q66.5707 1462.12 68.3763 1458.58 Q70.205 1455.01 70.205 1447.91 Q70.205 1440.78 68.3763 1437.24 Q66.5707 1433.67 62.9365 1433.67 M62.9365 1429.97 Q68.7467 1429.97 71.8022 1434.57 Q74.8809 1439.16 74.8809 1447.91 Q74.8809 1456.63 71.8022 1461.24 Q68.7467 1465.82 62.9365 1465.82 Q57.1264 1465.82 54.0477 1461.24 Q50.9921 1456.63 50.9921 1447.91 Q50.9921 1439.16 54.0477 1434.57 Q57.1264 1429.97 62.9365 1429.97 Z\" fill=\"#000000\" fill-rule=\"evenodd\" fill-opacity=\"1\" /><path clip-path=\"url(#clip370)\" d=\"M83.0984 1459.27 L87.9827 1459.27 L87.9827 1465.15 L83.0984 1465.15 L83.0984 1459.27 Z\" fill=\"#000000\" fill-rule=\"evenodd\" fill-opacity=\"1\" /><path clip-path=\"url(#clip370)\" d=\"M108.168 1433.67 Q104.557 1433.67 102.728 1437.24 Q100.922 1440.78 100.922 1447.91 Q100.922 1455.01 102.728 1458.58 Q104.557 1462.12 108.168 1462.12 Q111.802 1462.12 113.608 1458.58 Q115.436 1455.01 115.436 1447.91 Q115.436 1440.78 113.608 1437.24 Q111.802 1433.67 108.168 1433.67 M108.168 1429.97 Q113.978 1429.97 117.033 1434.57 Q120.112 1439.16 120.112 1447.91 Q120.112 1456.63 117.033 1461.24 Q113.978 1465.82 108.168 1465.82 Q102.358 1465.82 99.2789 1461.24 Q96.2234 1456.63 96.2234 1447.91 Q96.2234 1439.16 99.2789 1434.57 Q102.358 1429.97 108.168 1429.97 Z\" fill=\"#000000\" fill-rule=\"evenodd\" fill-opacity=\"1\" /><path clip-path=\"url(#clip370)\" d=\"M63.9319 1110 Q60.3208 1110 58.4921 1113.57 Q56.6865 1117.11 56.6865 1124.24 Q56.6865 1131.35 58.4921 1134.91 Q60.3208 1138.45 63.9319 1138.45 Q67.5661 1138.45 69.3717 1134.91 Q71.2004 1131.35 71.2004 1124.24 Q71.2004 1117.11 69.3717 1113.57 Q67.5661 1110 63.9319 1110 M63.9319 1106.3 Q69.742 1106.3 72.7976 1110.91 Q75.8763 1115.49 75.8763 1124.24 Q75.8763 1132.97 72.7976 1137.57 Q69.742 1142.16 63.9319 1142.16 Q58.1217 1142.16 55.043 1137.57 Q51.9875 1132.97 51.9875 1124.24 Q51.9875 1115.49 55.043 1110.91 Q58.1217 1106.3 63.9319 1106.3 Z\" fill=\"#000000\" fill-rule=\"evenodd\" fill-opacity=\"1\" /><path clip-path=\"url(#clip370)\" d=\"M84.0938 1135.61 L88.978 1135.61 L88.978 1141.49 L84.0938 1141.49 L84.0938 1135.61 Z\" fill=\"#000000\" fill-rule=\"evenodd\" fill-opacity=\"1\" /><path clip-path=\"url(#clip370)\" d=\"M99.2095 1106.93 L117.566 1106.93 L117.566 1110.86 L103.492 1110.86 L103.492 1119.33 Q104.51 1118.99 105.529 1118.82 Q106.547 1118.64 107.566 1118.64 Q113.353 1118.64 116.733 1121.81 Q120.112 1124.98 120.112 1130.4 Q120.112 1135.98 116.64 1139.08 Q113.168 1142.16 106.848 1142.16 Q104.672 1142.16 102.404 1141.79 Q100.159 1141.42 97.7511 1140.68 L97.7511 1135.98 Q99.8345 1137.11 102.057 1137.67 Q104.279 1138.22 106.756 1138.22 Q110.76 1138.22 113.098 1136.12 Q115.436 1134.01 115.436 1130.4 Q115.436 1126.79 113.098 1124.68 Q110.76 1122.57 106.756 1122.57 Q104.881 1122.57 103.006 1122.99 Q101.154 1123.41 99.2095 1124.29 L99.2095 1106.93 Z\" fill=\"#000000\" fill-rule=\"evenodd\" fill-opacity=\"1\" /><path clip-path=\"url(#clip370)\" d=\"M53.7467 813.884 L61.3856 813.884 L61.3856 787.518 L53.0754 789.185 L53.0754 784.926 L61.3393 783.259 L66.0152 783.259 L66.0152 813.884 L73.654 813.884 L73.654 817.819 L53.7467 817.819 L53.7467 813.884 Z\" fill=\"#000000\" fill-rule=\"evenodd\" fill-opacity=\"1\" /><path clip-path=\"url(#clip370)\" d=\"M83.0984 811.939 L87.9827 811.939 L87.9827 817.819 L83.0984 817.819 L83.0984 811.939 Z\" fill=\"#000000\" fill-rule=\"evenodd\" fill-opacity=\"1\" /><path clip-path=\"url(#clip370)\" d=\"M108.168 786.338 Q104.557 786.338 102.728 789.902 Q100.922 793.444 100.922 800.574 Q100.922 807.68 102.728 811.245 Q104.557 814.786 108.168 814.786 Q111.802 814.786 113.608 811.245 Q115.436 807.68 115.436 800.574 Q115.436 793.444 113.608 789.902 Q111.802 786.338 108.168 786.338 M108.168 782.634 Q113.978 782.634 117.033 787.24 Q120.112 791.824 120.112 800.574 Q120.112 809.3 117.033 813.907 Q113.978 818.49 108.168 818.49 Q102.358 818.49 99.2789 813.907 Q96.2234 809.3 96.2234 800.574 Q96.2234 791.824 99.2789 787.24 Q102.358 782.634 108.168 782.634 Z\" fill=\"#000000\" fill-rule=\"evenodd\" fill-opacity=\"1\" /><path clip-path=\"url(#clip370)\" d=\"M54.7421 490.217 L62.381 490.217 L62.381 463.851 L54.0708 465.518 L54.0708 461.258 L62.3347 459.592 L67.0106 459.592 L67.0106 490.217 L74.6494 490.217 L74.6494 494.152 L54.7421 494.152 L54.7421 490.217 Z\" fill=\"#000000\" fill-rule=\"evenodd\" fill-opacity=\"1\" /><path clip-path=\"url(#clip370)\" d=\"M84.0938 488.272 L88.978 488.272 L88.978 494.152 L84.0938 494.152 L84.0938 488.272 Z\" fill=\"#000000\" fill-rule=\"evenodd\" fill-opacity=\"1\" /><path clip-path=\"url(#clip370)\" d=\"M99.2095 459.592 L117.566 459.592 L117.566 463.527 L103.492 463.527 L103.492 471.999 Q104.51 471.652 105.529 471.49 Q106.547 471.305 107.566 471.305 Q113.353 471.305 116.733 474.476 Q120.112 477.647 120.112 483.064 Q120.112 488.643 116.64 491.744 Q113.168 494.823 106.848 494.823 Q104.672 494.823 102.404 494.453 Q100.159 494.082 97.7511 493.342 L97.7511 488.643 Q99.8345 489.777 102.057 490.332 Q104.279 490.888 106.756 490.888 Q110.76 490.888 113.098 488.781 Q115.436 486.675 115.436 483.064 Q115.436 479.453 113.098 477.346 Q110.76 475.24 106.756 475.24 Q104.881 475.24 103.006 475.656 Q101.154 476.073 99.2095 476.953 L99.2095 459.592 Z\" fill=\"#000000\" fill-rule=\"evenodd\" fill-opacity=\"1\" /><path clip-path=\"url(#clip370)\" d=\"M56.9643 166.549 L73.2837 166.549 L73.2837 170.485 L51.3393 170.485 L51.3393 166.549 Q54.0014 163.795 58.5847 159.165 Q63.1911 154.512 64.3717 153.17 Q66.617 150.647 67.4967 148.911 Q68.3994 147.151 68.3994 145.462 Q68.3994 142.707 66.455 140.971 Q64.5337 139.235 61.4319 139.235 Q59.2328 139.235 56.7791 139.999 Q54.3486 140.763 51.5708 142.313 L51.5708 137.591 Q54.3949 136.457 56.8486 135.878 Q59.3023 135.3 61.3393 135.3 Q66.7096 135.3 69.9041 137.985 Q73.0985 140.67 73.0985 145.161 Q73.0985 147.29 72.2883 149.212 Q71.5013 151.11 69.3948 153.702 Q68.8161 154.374 65.7143 157.591 Q62.6124 160.786 56.9643 166.549 Z\" fill=\"#000000\" fill-rule=\"evenodd\" fill-opacity=\"1\" /><path clip-path=\"url(#clip370)\" d=\"M83.0984 164.605 L87.9827 164.605 L87.9827 170.485 L83.0984 170.485 L83.0984 164.605 Z\" fill=\"#000000\" fill-rule=\"evenodd\" fill-opacity=\"1\" /><path clip-path=\"url(#clip370)\" d=\"M108.168 139.003 Q104.557 139.003 102.728 142.568 Q100.922 146.11 100.922 153.239 Q100.922 160.346 102.728 163.911 Q104.557 167.452 108.168 167.452 Q111.802 167.452 113.608 163.911 Q115.436 160.346 115.436 153.239 Q115.436 146.11 113.608 142.568 Q111.802 139.003 108.168 139.003 M108.168 135.3 Q113.978 135.3 117.033 139.906 Q120.112 144.489 120.112 153.239 Q120.112 161.966 117.033 166.573 Q113.978 171.156 108.168 171.156 Q102.358 171.156 99.2789 166.573 Q96.2234 161.966 96.2234 153.239 Q96.2234 144.489 99.2789 139.906 Q102.358 135.3 108.168 135.3 Z\" fill=\"#000000\" fill-rule=\"evenodd\" fill-opacity=\"1\" /><path clip-path=\"url(#clip370)\" d=\"M970.02 12.096 L978.203 12.096 L978.203 36.8875 L1007.94 36.8875 L1007.94 12.096 L1016.12 12.096 L1016.12 72.576 L1007.94 72.576 L1007.94 43.7741 L978.203 43.7741 L978.203 72.576 L970.02 72.576 L970.02 12.096 Z\" fill=\"#000000\" fill-rule=\"evenodd\" fill-opacity=\"1\" /><path clip-path=\"url(#clip370)\" d=\"M1052.7 49.7694 Q1043.67 49.7694 1040.18 51.8354 Q1036.7 53.9013 1036.7 58.8839 Q1036.7 62.8538 1039.29 65.2034 Q1041.92 67.5124 1046.42 67.5124 Q1052.62 67.5124 1056.34 63.1374 Q1060.11 58.7219 1060.11 51.4303 L1060.11 49.7694 L1052.7 49.7694 M1067.57 46.6907 L1067.57 72.576 L1060.11 72.576 L1060.11 65.6895 Q1057.56 69.8214 1053.75 71.8063 Q1049.94 73.7508 1044.44 73.7508 Q1037.47 73.7508 1033.34 69.8619 Q1029.24 65.9325 1029.24 59.3701 Q1029.24 51.7138 1034.35 47.825 Q1039.49 43.9361 1049.66 43.9361 L1060.11 43.9361 L1060.11 43.2069 Q1060.11 38.0623 1056.71 35.2672 Q1053.35 32.4315 1047.23 32.4315 Q1043.34 32.4315 1039.66 33.3632 Q1035.97 34.295 1032.57 36.1584 L1032.57 29.2718 Q1036.66 27.692 1040.51 26.9223 Q1044.35 26.1121 1048 26.1121 Q1057.84 26.1121 1062.7 31.2163 Q1067.57 36.3204 1067.57 46.6907 Z\" fill=\"#000000\" fill-rule=\"evenodd\" fill-opacity=\"1\" /><path clip-path=\"url(#clip370)\" d=\"M1082.15 54.671 L1082.15 27.2059 L1089.6 27.2059 L1089.6 54.3874 Q1089.6 60.8284 1092.11 64.0691 Q1094.63 67.2693 1099.65 67.2693 Q1105.68 67.2693 1109.17 63.421 Q1112.69 59.5726 1112.69 52.9291 L1112.69 27.2059 L1120.15 27.2059 L1120.15 72.576 L1112.69 72.576 L1112.69 65.6084 Q1109.98 69.7404 1106.37 71.7658 Q1102.81 73.7508 1098.07 73.7508 Q1090.25 73.7508 1086.2 68.8897 Q1082.15 64.0286 1082.15 54.671 M1100.9 26.1121 L1100.9 26.1121 Z\" fill=\"#000000\" fill-rule=\"evenodd\" fill-opacity=\"1\" /><path clip-path=\"url(#clip370)\" d=\"M1164.42 28.5427 L1164.42 35.5912 Q1161.26 33.9709 1157.86 33.1607 Q1154.46 32.3505 1150.81 32.3505 Q1145.26 32.3505 1142.47 34.0519 Q1139.71 35.7533 1139.71 39.156 Q1139.71 41.7486 1141.7 43.2475 Q1143.68 44.7058 1149.68 46.0426 L1152.23 46.6097 Q1160.17 48.3111 1163.49 51.4303 Q1166.85 54.509 1166.85 60.0587 Q1166.85 66.3781 1161.83 70.0644 Q1156.85 73.7508 1148.1 73.7508 Q1144.45 73.7508 1140.48 73.0216 Q1136.55 72.3329 1132.18 70.9151 L1132.18 63.2184 Q1136.31 65.3654 1140.32 66.4591 Q1144.33 67.5124 1148.26 67.5124 Q1153.53 67.5124 1156.36 65.73 Q1159.2 63.9071 1159.2 60.6258 Q1159.2 57.5877 1157.13 55.9673 Q1155.11 54.3469 1148.18 52.8481 L1145.59 52.2405 Q1138.66 50.7821 1135.58 47.7845 Q1132.5 44.7463 1132.5 39.4801 Q1132.5 33.0797 1137.04 29.5959 Q1141.58 26.1121 1149.92 26.1121 Q1154.05 26.1121 1157.7 26.7198 Q1161.34 27.3274 1164.42 28.5427 Z\" fill=\"#000000\" fill-rule=\"evenodd\" fill-opacity=\"1\" /><path clip-path=\"url(#clip370)\" d=\"M1214.05 35.9153 Q1216.84 30.8922 1220.73 28.5022 Q1224.62 26.1121 1229.89 26.1121 Q1236.97 26.1121 1240.82 31.0947 Q1244.67 36.0368 1244.67 45.1919 L1244.67 72.576 L1237.18 72.576 L1237.18 45.4349 Q1237.18 38.913 1234.87 35.7533 Q1232.56 32.5936 1227.82 32.5936 Q1222.03 32.5936 1218.66 36.4419 Q1215.3 40.2903 1215.3 46.9338 L1215.3 72.576 L1207.81 72.576 L1207.81 45.4349 Q1207.81 38.8725 1205.5 35.7533 Q1203.19 32.5936 1198.37 32.5936 Q1192.66 32.5936 1189.3 36.4824 Q1185.93 40.3308 1185.93 46.9338 L1185.93 72.576 L1178.44 72.576 L1178.44 27.2059 L1185.93 27.2059 L1185.93 34.2544 Q1188.49 30.082 1192.05 28.0971 Q1195.61 26.1121 1200.52 26.1121 Q1205.46 26.1121 1208.9 28.6237 Q1212.39 31.1352 1214.05 35.9153 Z\" fill=\"#000000\" fill-rule=\"evenodd\" fill-opacity=\"1\" /><path clip-path=\"url(#clip370)\" d=\"M1280.16 49.7694 Q1271.12 49.7694 1267.64 51.8354 Q1264.16 53.9013 1264.16 58.8839 Q1264.16 62.8538 1266.75 65.2034 Q1269.38 67.5124 1273.88 67.5124 Q1280.08 67.5124 1283.8 63.1374 Q1287.57 58.7219 1287.57 51.4303 L1287.57 49.7694 L1280.16 49.7694 M1295.02 46.6907 L1295.02 72.576 L1287.57 72.576 L1287.57 65.6895 Q1285.02 69.8214 1281.21 71.8063 Q1277.4 73.7508 1271.89 73.7508 Q1264.93 73.7508 1260.79 69.8619 Q1256.7 65.9325 1256.7 59.3701 Q1256.7 51.7138 1261.81 47.825 Q1266.95 43.9361 1277.12 43.9361 L1287.57 43.9361 L1287.57 43.2069 Q1287.57 38.0623 1284.17 35.2672 Q1280.81 32.4315 1274.69 32.4315 Q1270.8 32.4315 1267.11 33.3632 Q1263.43 34.295 1260.02 36.1584 L1260.02 29.2718 Q1264.12 27.692 1267.96 26.9223 Q1271.81 26.1121 1275.46 26.1121 Q1285.3 26.1121 1290.16 31.2163 Q1295.02 36.3204 1295.02 46.6907 Z\" fill=\"#000000\" fill-rule=\"evenodd\" fill-opacity=\"1\" /><path clip-path=\"url(#clip370)\" d=\"M1348.09 45.1919 L1348.09 72.576 L1340.64 72.576 L1340.64 45.4349 Q1340.64 38.994 1338.13 35.7938 Q1335.61 32.5936 1330.59 32.5936 Q1324.56 32.5936 1321.07 36.4419 Q1317.59 40.2903 1317.59 46.9338 L1317.59 72.576 L1310.09 72.576 L1310.09 27.2059 L1317.59 27.2059 L1317.59 34.2544 Q1320.26 30.163 1323.87 28.1376 Q1327.51 26.1121 1332.25 26.1121 Q1340.07 26.1121 1344.08 30.9732 Q1348.09 35.7938 1348.09 45.1919 Z\" fill=\"#000000\" fill-rule=\"evenodd\" fill-opacity=\"1\" /><path clip-path=\"url(#clip370)\" d=\"M1396.7 14.324 L1396.7 27.2059 L1412.05 27.2059 L1412.05 32.9987 L1396.7 32.9987 L1396.7 57.6282 Q1396.7 63.1779 1398.2 64.7578 Q1399.74 66.3376 1404.4 66.3376 L1412.05 66.3376 L1412.05 72.576 L1404.4 72.576 Q1395.77 72.576 1392.49 69.3758 Q1389.21 66.1351 1389.21 57.6282 L1389.21 32.9987 L1383.74 32.9987 L1383.74 27.2059 L1389.21 27.2059 L1389.21 14.324 L1396.7 14.324 Z\" fill=\"#000000\" fill-rule=\"evenodd\" fill-opacity=\"1\" /><path clip-path=\"url(#clip370)\" d=\"M1460.67 48.0275 L1460.67 51.6733 L1426.39 51.6733 Q1426.88 59.3701 1431.01 63.421 Q1435.19 67.4314 1442.6 67.4314 Q1446.89 67.4314 1450.9 66.3781 Q1454.95 65.3249 1458.92 63.2184 L1458.92 70.267 Q1454.91 71.9684 1450.7 72.8596 Q1446.49 73.7508 1442.15 73.7508 Q1431.3 73.7508 1424.94 67.4314 Q1418.62 61.1119 1418.62 50.3365 Q1418.62 39.1965 1424.61 32.6746 Q1430.65 26.1121 1440.86 26.1121 Q1450.01 26.1121 1455.32 32.0264 Q1460.67 37.9003 1460.67 48.0275 M1453.21 45.84 Q1453.13 39.7232 1449.77 36.0774 Q1446.45 32.4315 1440.94 32.4315 Q1434.7 32.4315 1430.93 35.9558 Q1427.21 39.4801 1426.64 45.8805 L1453.21 45.84 Z\" fill=\"#000000\" fill-rule=\"evenodd\" fill-opacity=\"1\" /><path clip-path=\"url(#clip370)\" d=\"M1501.82 28.5427 L1501.82 35.5912 Q1498.66 33.9709 1495.26 33.1607 Q1491.86 32.3505 1488.21 32.3505 Q1482.66 32.3505 1479.87 34.0519 Q1477.11 35.7533 1477.11 39.156 Q1477.11 41.7486 1479.1 43.2475 Q1481.08 44.7058 1487.08 46.0426 L1489.63 46.6097 Q1497.57 48.3111 1500.89 51.4303 Q1504.25 54.509 1504.25 60.0587 Q1504.25 66.3781 1499.23 70.0644 Q1494.25 73.7508 1485.5 73.7508 Q1481.85 73.7508 1477.88 73.0216 Q1473.95 72.3329 1469.58 70.9151 L1469.58 63.2184 Q1473.71 65.3654 1477.72 66.4591 Q1481.73 67.5124 1485.66 67.5124 Q1490.93 67.5124 1493.76 65.73 Q1496.6 63.9071 1496.6 60.6258 Q1496.6 57.5877 1494.53 55.9673 Q1492.51 54.3469 1485.58 52.8481 L1482.99 52.2405 Q1476.06 50.7821 1472.98 47.7845 Q1469.9 44.7463 1469.9 39.4801 Q1469.9 33.0797 1474.44 29.5959 Q1478.98 26.1121 1487.32 26.1121 Q1491.45 26.1121 1495.1 26.7198 Q1498.74 27.3274 1501.82 28.5427 Z\" fill=\"#000000\" fill-rule=\"evenodd\" fill-opacity=\"1\" /><path clip-path=\"url(#clip370)\" d=\"M1523.5 14.324 L1523.5 27.2059 L1538.85 27.2059 L1538.85 32.9987 L1523.5 32.9987 L1523.5 57.6282 Q1523.5 63.1779 1524.99 64.7578 Q1526.53 66.3376 1531.19 66.3376 L1538.85 66.3376 L1538.85 72.576 L1531.19 72.576 Q1522.56 72.576 1519.28 69.3758 Q1516 66.1351 1516 57.6282 L1516 32.9987 L1510.53 32.9987 L1510.53 27.2059 L1516 27.2059 L1516 14.324 L1523.5 14.324 Z\" fill=\"#000000\" fill-rule=\"evenodd\" fill-opacity=\"1\" /><path clip-path=\"url(#clip372)\" d=\"\n",
       "M236.524 162.047 L254.766 556.127 L273.008 733.755 L291.251 841.312 L309.493 915.773 L327.735 971.467 L345.977 1015.28 L364.22 1051 L382.462 1080.88 L400.704 1106.41 \n",
       "  L418.947 1128.55 L437.189 1148.02 L455.431 1165.32 L473.674 1180.83 L491.916 1194.84 L510.158 1207.58 L528.401 1219.24 L546.643 1229.95 L564.885 1239.84 L583.127 1249 \n",
       "  L601.37 1257.52 L619.612 1265.47 L637.854 1272.91 L656.097 1279.88 L674.339 1286.44 L692.581 1292.62 L710.824 1298.45 L729.066 1303.96 L747.308 1309.18 L765.551 1314.13 \n",
       "  L783.793 1318.83 L802.035 1323.31 L820.277 1327.56 L838.52 1331.62 L856.762 1335.5 L875.004 1339.2 L893.247 1342.74 L911.489 1346.12 L929.731 1349.37 L947.974 1352.47 \n",
       "  L966.216 1355.46 L984.458 1358.32 L1002.7 1361.06 L1020.94 1363.71 L1039.19 1366.25 L1057.43 1368.69 L1075.67 1371.04 L1093.91 1373.31 L1112.15 1375.49 L1130.4 1377.59 \n",
       "  L1148.64 1379.62 L1166.88 1381.58 L1185.12 1383.47 L1203.37 1385.3 L1221.61 1387.06 L1239.85 1388.76 L1258.09 1390.41 L1276.34 1392 L1294.58 1393.54 L1312.82 1395.03 \n",
       "  L1331.06 1396.47 L1349.3 1397.87 L1367.55 1399.22 L1385.79 1400.53 L1404.03 1401.8 L1422.27 1403.03 L1440.52 1404.22 L1458.76 1405.37 L1477 1406.49 L1495.24 1407.58 \n",
       "  L1513.49 1408.63 L1531.73 1409.65 L1549.97 1410.65 L1568.21 1411.61 L1586.45 1412.54 L1604.7 1413.45 L1622.94 1414.33 L1641.18 1415.19 L1659.42 1416.02 L1677.67 1416.83 \n",
       "  L1695.91 1417.61 L1714.15 1418.38 L1732.39 1419.12 L1750.64 1419.84 L1768.88 1420.54 L1787.12 1421.22 L1805.36 1421.88 L1823.6 1422.53 L1841.85 1423.16 L1860.09 1423.77 \n",
       "  L1878.33 1424.36 L1896.57 1424.94 L1914.82 1425.5 L1933.06 1426.05 L1951.3 1426.58 L1969.54 1427.1 L1987.79 1427.6 L2006.03 1428.09 L2024.27 1428.57 L2024.27 1447.87 \n",
       "  L2006.03 1447.87 L1987.79 1447.87 L1969.54 1447.87 L1951.3 1447.87 L1933.06 1447.87 L1914.82 1447.87 L1896.57 1447.87 L1878.33 1447.87 L1860.09 1447.87 L1841.85 1447.87 \n",
       "  L1823.6 1447.87 L1805.36 1447.87 L1787.12 1447.87 L1768.88 1447.87 L1750.64 1447.87 L1732.39 1447.87 L1714.15 1447.87 L1695.91 1447.87 L1677.67 1447.87 L1659.42 1447.87 \n",
       "  L1641.18 1447.87 L1622.94 1447.87 L1604.7 1447.87 L1586.45 1447.87 L1568.21 1447.87 L1549.97 1447.87 L1531.73 1447.87 L1513.49 1447.87 L1495.24 1447.87 L1477 1447.87 \n",
       "  L1458.76 1447.87 L1440.52 1447.87 L1422.27 1447.87 L1404.03 1447.87 L1385.79 1447.87 L1367.55 1447.87 L1349.3 1447.87 L1331.06 1447.87 L1312.82 1447.87 L1294.58 1447.87 \n",
       "  L1276.34 1447.87 L1258.09 1447.87 L1239.85 1447.87 L1221.61 1447.87 L1203.37 1447.87 L1185.12 1447.87 L1166.88 1447.87 L1148.64 1447.87 L1130.4 1447.87 L1112.15 1447.87 \n",
       "  L1093.91 1447.87 L1075.67 1447.87 L1057.43 1447.87 L1039.19 1447.87 L1020.94 1447.87 L1002.7 1447.87 L984.458 1447.87 L966.216 1447.87 L947.974 1447.87 L929.731 1447.87 \n",
       "  L911.489 1447.87 L893.247 1447.87 L875.004 1447.87 L856.762 1447.87 L838.52 1447.87 L820.277 1447.87 L802.035 1447.87 L783.793 1447.87 L765.551 1447.87 L747.308 1447.87 \n",
       "  L729.066 1447.87 L710.824 1447.87 L692.581 1447.87 L674.339 1447.87 L656.097 1447.87 L637.854 1447.87 L619.612 1447.87 L601.37 1447.87 L583.127 1447.87 L564.885 1447.87 \n",
       "  L546.643 1447.87 L528.401 1447.87 L510.158 1447.87 L491.916 1447.87 L473.674 1447.87 L455.431 1447.87 L437.189 1447.87 L418.947 1447.87 L400.704 1447.87 L382.462 1447.87 \n",
       "  L364.22 1447.87 L345.977 1447.87 L327.735 1447.87 L309.493 1447.87 L291.251 1447.87 L273.008 1447.87 L254.766 1447.87 L236.524 1447.87  Z\n",
       "  \" fill=\"#0000ff\" fill-rule=\"evenodd\" fill-opacity=\"0.35\"/>\n",
       "<polyline clip-path=\"url(#clip372)\" style=\"stroke:#0000ff; stroke-linecap:butt; stroke-linejoin:round; stroke-width:12; stroke-opacity:1; fill:none\" points=\"\n",
       "  236.524,162.047 254.766,556.127 273.008,733.755 291.251,841.312 309.493,915.773 327.735,971.467 345.977,1015.28 364.22,1051 382.462,1080.88 400.704,1106.41 \n",
       "  418.947,1128.55 437.189,1148.02 455.431,1165.32 473.674,1180.83 491.916,1194.84 510.158,1207.58 528.401,1219.24 546.643,1229.95 564.885,1239.84 583.127,1249 \n",
       "  601.37,1257.52 619.612,1265.47 637.854,1272.91 656.097,1279.88 674.339,1286.44 692.581,1292.62 710.824,1298.45 729.066,1303.96 747.308,1309.18 765.551,1314.13 \n",
       "  783.793,1318.83 802.035,1323.31 820.277,1327.56 838.52,1331.62 856.762,1335.5 875.004,1339.2 893.247,1342.74 911.489,1346.12 929.731,1349.37 947.974,1352.47 \n",
       "  966.216,1355.46 984.458,1358.32 1002.7,1361.06 1020.94,1363.71 1039.19,1366.25 1057.43,1368.69 1075.67,1371.04 1093.91,1373.31 1112.15,1375.49 1130.4,1377.59 \n",
       "  1148.64,1379.62 1166.88,1381.58 1185.12,1383.47 1203.37,1385.3 1221.61,1387.06 1239.85,1388.76 1258.09,1390.41 1276.34,1392 1294.58,1393.54 1312.82,1395.03 \n",
       "  1331.06,1396.47 1349.3,1397.87 1367.55,1399.22 1385.79,1400.53 1404.03,1401.8 1422.27,1403.03 1440.52,1404.22 1458.76,1405.37 1477,1406.49 1495.24,1407.58 \n",
       "  1513.49,1408.63 1531.73,1409.65 1549.97,1410.65 1568.21,1411.61 1586.45,1412.54 1604.7,1413.45 1622.94,1414.33 1641.18,1415.19 1659.42,1416.02 1677.67,1416.83 \n",
       "  1695.91,1417.61 1714.15,1418.38 1732.39,1419.12 1750.64,1419.84 1768.88,1420.54 1787.12,1421.22 1805.36,1421.88 1823.6,1422.53 1841.85,1423.16 1860.09,1423.77 \n",
       "  1878.33,1424.36 1896.57,1424.94 1914.82,1425.5 1933.06,1426.05 1951.3,1426.58 1969.54,1427.1 1987.79,1427.6 2006.03,1428.09 2024.27,1428.57 \n",
       "  \"/>\n",
       "<path clip-path=\"url(#clip372)\" d=\"\n",
       "M2024.27 1428.57 L2026.96 1428.64 L2029.65 1428.71 L2032.34 1428.78 L2035.03 1428.85 L2037.72 1428.91 L2040.41 1428.98 L2043.1 1429.05 L2045.79 1429.12 L2048.48 1429.19 \n",
       "  L2051.17 1429.25 L2053.86 1429.32 L2056.55 1429.39 L2059.24 1429.45 L2061.93 1429.52 L2064.62 1429.58 L2067.31 1429.65 L2070 1429.71 L2072.69 1429.78 L2075.38 1429.84 \n",
       "  L2078.07 1429.91 L2080.76 1429.97 L2083.45 1430.04 L2086.14 1430.1 L2088.83 1430.16 L2091.52 1430.23 L2094.21 1430.29 L2096.9 1430.35 L2099.59 1430.42 L2102.28 1430.48 \n",
       "  L2104.97 1430.54 L2107.66 1430.6 L2110.35 1430.66 L2113.04 1430.73 L2115.73 1430.79 L2118.42 1430.85 L2121.11 1430.91 L2123.8 1430.97 L2126.49 1431.03 L2129.18 1431.09 \n",
       "  L2131.87 1431.15 L2134.56 1431.21 L2137.25 1431.27 L2139.94 1431.33 L2142.63 1431.38 L2145.32 1431.44 L2148.01 1431.5 L2150.7 1431.56 L2153.39 1431.62 L2156.08 1431.68 \n",
       "  L2158.77 1431.73 L2161.46 1431.79 L2164.15 1431.85 L2166.84 1431.9 L2169.53 1431.96 L2172.22 1432.02 L2174.91 1432.07 L2177.6 1432.13 L2180.29 1432.19 L2182.98 1432.24 \n",
       "  L2185.67 1432.3 L2188.36 1432.35 L2191.05 1432.41 L2193.74 1432.46 L2196.43 1432.52 L2199.12 1432.57 L2201.81 1432.62 L2204.5 1432.68 L2207.19 1432.73 L2209.88 1432.78 \n",
       "  L2212.57 1432.84 L2215.26 1432.89 L2217.95 1432.94 L2220.64 1433 L2223.33 1433.05 L2226.03 1433.1 L2228.72 1433.15 L2231.41 1433.2 L2234.1 1433.26 L2236.79 1433.31 \n",
       "  L2239.48 1433.36 L2242.17 1433.41 L2244.86 1433.46 L2247.55 1433.51 L2250.24 1433.56 L2252.93 1433.61 L2255.62 1433.66 L2258.31 1433.71 L2261 1433.76 L2263.69 1433.81 \n",
       "  L2266.38 1433.86 L2269.07 1433.91 L2271.76 1433.96 L2274.45 1434.01 L2277.14 1434.06 L2279.83 1434.11 L2282.52 1434.15 L2285.21 1434.2 L2287.9 1434.25 L2290.59 1434.3 \n",
       "  L2290.59 1447.87 L2287.9 1447.87 L2285.21 1447.87 L2282.52 1447.87 L2279.83 1447.87 L2277.14 1447.87 L2274.45 1447.87 L2271.76 1447.87 L2269.07 1447.87 L2266.38 1447.87 \n",
       "  L2263.69 1447.87 L2261 1447.87 L2258.31 1447.87 L2255.62 1447.87 L2252.93 1447.87 L2250.24 1447.87 L2247.55 1447.87 L2244.86 1447.87 L2242.17 1447.87 L2239.48 1447.87 \n",
       "  L2236.79 1447.87 L2234.1 1447.87 L2231.41 1447.87 L2228.72 1447.87 L2226.03 1447.87 L2223.33 1447.87 L2220.64 1447.87 L2217.95 1447.87 L2215.26 1447.87 L2212.57 1447.87 \n",
       "  L2209.88 1447.87 L2207.19 1447.87 L2204.5 1447.87 L2201.81 1447.87 L2199.12 1447.87 L2196.43 1447.87 L2193.74 1447.87 L2191.05 1447.87 L2188.36 1447.87 L2185.67 1447.87 \n",
       "  L2182.98 1447.87 L2180.29 1447.87 L2177.6 1447.87 L2174.91 1447.87 L2172.22 1447.87 L2169.53 1447.87 L2166.84 1447.87 L2164.15 1447.87 L2161.46 1447.87 L2158.77 1447.87 \n",
       "  L2156.08 1447.87 L2153.39 1447.87 L2150.7 1447.87 L2148.01 1447.87 L2145.32 1447.87 L2142.63 1447.87 L2139.94 1447.87 L2137.25 1447.87 L2134.56 1447.87 L2131.87 1447.87 \n",
       "  L2129.18 1447.87 L2126.49 1447.87 L2123.8 1447.87 L2121.11 1447.87 L2118.42 1447.87 L2115.73 1447.87 L2113.04 1447.87 L2110.35 1447.87 L2107.66 1447.87 L2104.97 1447.87 \n",
       "  L2102.28 1447.87 L2099.59 1447.87 L2096.9 1447.87 L2094.21 1447.87 L2091.52 1447.87 L2088.83 1447.87 L2086.14 1447.87 L2083.45 1447.87 L2080.76 1447.87 L2078.07 1447.87 \n",
       "  L2075.38 1447.87 L2072.69 1447.87 L2070 1447.87 L2067.31 1447.87 L2064.62 1447.87 L2061.93 1447.87 L2059.24 1447.87 L2056.55 1447.87 L2053.86 1447.87 L2051.17 1447.87 \n",
       "  L2048.48 1447.87 L2045.79 1447.87 L2043.1 1447.87 L2040.41 1447.87 L2037.72 1447.87 L2035.03 1447.87 L2032.34 1447.87 L2029.65 1447.87 L2026.96 1447.87 L2024.27 1447.87 \n",
       "   Z\n",
       "  \" fill=\"#ff0000\" fill-rule=\"evenodd\" fill-opacity=\"0.35\"/>\n",
       "<polyline clip-path=\"url(#clip372)\" style=\"stroke:#ff0000; stroke-linecap:butt; stroke-linejoin:round; stroke-width:12; stroke-opacity:1; fill:none\" points=\"\n",
       "  2024.27,1428.57 2026.96,1428.64 2029.65,1428.71 2032.34,1428.78 2035.03,1428.85 2037.72,1428.91 2040.41,1428.98 2043.1,1429.05 2045.79,1429.12 2048.48,1429.19 \n",
       "  2051.17,1429.25 2053.86,1429.32 2056.55,1429.39 2059.24,1429.45 2061.93,1429.52 2064.62,1429.58 2067.31,1429.65 2070,1429.71 2072.69,1429.78 2075.38,1429.84 \n",
       "  2078.07,1429.91 2080.76,1429.97 2083.45,1430.04 2086.14,1430.1 2088.83,1430.16 2091.52,1430.23 2094.21,1430.29 2096.9,1430.35 2099.59,1430.42 2102.28,1430.48 \n",
       "  2104.97,1430.54 2107.66,1430.6 2110.35,1430.66 2113.04,1430.73 2115.73,1430.79 2118.42,1430.85 2121.11,1430.91 2123.8,1430.97 2126.49,1431.03 2129.18,1431.09 \n",
       "  2131.87,1431.15 2134.56,1431.21 2137.25,1431.27 2139.94,1431.33 2142.63,1431.38 2145.32,1431.44 2148.01,1431.5 2150.7,1431.56 2153.39,1431.62 2156.08,1431.68 \n",
       "  2158.77,1431.73 2161.46,1431.79 2164.15,1431.85 2166.84,1431.9 2169.53,1431.96 2172.22,1432.02 2174.91,1432.07 2177.6,1432.13 2180.29,1432.19 2182.98,1432.24 \n",
       "  2185.67,1432.3 2188.36,1432.35 2191.05,1432.41 2193.74,1432.46 2196.43,1432.52 2199.12,1432.57 2201.81,1432.62 2204.5,1432.68 2207.19,1432.73 2209.88,1432.78 \n",
       "  2212.57,1432.84 2215.26,1432.89 2217.95,1432.94 2220.64,1433 2223.33,1433.05 2226.03,1433.1 2228.72,1433.15 2231.41,1433.2 2234.1,1433.26 2236.79,1433.31 \n",
       "  2239.48,1433.36 2242.17,1433.41 2244.86,1433.46 2247.55,1433.51 2250.24,1433.56 2252.93,1433.61 2255.62,1433.66 2258.31,1433.71 2261,1433.76 2263.69,1433.81 \n",
       "  2266.38,1433.86 2269.07,1433.91 2271.76,1433.96 2274.45,1434.01 2277.14,1434.06 2279.83,1434.11 2282.52,1434.15 2285.21,1434.2 2287.9,1434.25 2290.59,1434.3 \n",
       "  \n",
       "  \"/>\n",
       "<polyline clip-path=\"url(#clip372)\" style=\"stroke:#008000; stroke-linecap:butt; stroke-linejoin:round; stroke-width:12; stroke-opacity:1; fill:none\" points=\"\n",
       "  880.194,2849.42 880.194,-1239.5 \n",
       "  \"/>\n",
       "<path clip-path=\"url(#clip370)\" d=\"\n",
       "M229.334 376.265 L1085.62 376.265 L1085.62 168.905 L229.334 168.905  Z\n",
       "  \" fill=\"#ffffff\" fill-rule=\"evenodd\" fill-opacity=\"1\"/>\n",
       "<polyline clip-path=\"url(#clip370)\" style=\"stroke:#000000; stroke-linecap:butt; stroke-linejoin:round; stroke-width:4; stroke-opacity:1; fill:none\" points=\"\n",
       "  229.334,376.265 1085.62,376.265 1085.62,168.905 229.334,168.905 229.334,376.265 \n",
       "  \"/>\n",
       "<path clip-path=\"url(#clip370)\" d=\"\n",
       "M253.741 241.481 L400.184 241.481 L400.184 200.009 L253.741 200.009 L253.741 241.481  Z\n",
       "  \" fill=\"#0000ff\" fill-rule=\"evenodd\" fill-opacity=\"0.35\"/>\n",
       "<polyline clip-path=\"url(#clip370)\" style=\"stroke:#0000ff; stroke-linecap:butt; stroke-linejoin:round; stroke-width:12; stroke-opacity:1; fill:none\" points=\"\n",
       "  253.741,200.009 400.184,200.009 \n",
       "  \"/>\n",
       "<path clip-path=\"url(#clip370)\" d=\"M446.304 222.377 L446.304 238.025 L442.044 238.025 L442.044 222.515 Q442.044 218.835 440.609 217.006 Q439.174 215.178 436.304 215.178 Q432.855 215.178 430.864 217.377 Q428.873 219.576 428.873 223.372 L428.873 238.025 L424.591 238.025 L424.591 212.099 L428.873 212.099 L428.873 216.127 Q430.401 213.789 432.461 212.631 Q434.544 211.474 437.253 211.474 Q441.72 211.474 444.012 214.252 Q446.304 217.006 446.304 222.377 Z\" fill=\"#000000\" fill-rule=\"evenodd\" fill-opacity=\"1\" /><path clip-path=\"url(#clip370)\" d=\"M464.845 215.085 Q461.419 215.085 459.429 217.77 Q457.438 220.432 457.438 225.085 Q457.438 229.738 459.405 232.423 Q461.396 235.085 464.845 235.085 Q468.248 235.085 470.239 232.4 Q472.229 229.715 472.229 225.085 Q472.229 220.478 470.239 217.793 Q468.248 215.085 464.845 215.085 M464.845 211.474 Q470.401 211.474 473.572 215.085 Q476.743 218.696 476.743 225.085 Q476.743 231.451 473.572 235.085 Q470.401 238.696 464.845 238.696 Q459.267 238.696 456.095 235.085 Q452.947 231.451 452.947 225.085 Q452.947 218.696 456.095 215.085 Q459.267 211.474 464.845 211.474 Z\" fill=\"#000000\" fill-rule=\"evenodd\" fill-opacity=\"1\" /><path clip-path=\"url(#clip370)\" d=\"M505.354 222.377 L505.354 238.025 L501.095 238.025 L501.095 222.515 Q501.095 218.835 499.66 217.006 Q498.225 215.178 495.354 215.178 Q491.905 215.178 489.915 217.377 Q487.924 219.576 487.924 223.372 L487.924 238.025 L483.641 238.025 L483.641 212.099 L487.924 212.099 L487.924 216.127 Q489.452 213.789 491.512 212.631 Q493.595 211.474 496.303 211.474 Q500.771 211.474 503.063 214.252 Q505.354 217.006 505.354 222.377 Z\" fill=\"#000000\" fill-rule=\"evenodd\" fill-opacity=\"1\" /><path clip-path=\"url(#clip370)\" d=\"M511.697 223.14 L524.174 223.14 L524.174 226.937 L511.697 226.937 L511.697 223.14 Z\" fill=\"#000000\" fill-rule=\"evenodd\" fill-opacity=\"1\" /><path clip-path=\"url(#clip370)\" d=\"M545.979 216.08 Q545.261 215.664 544.405 215.478 Q543.572 215.27 542.553 215.27 Q538.942 215.27 536.998 217.631 Q535.076 219.969 535.076 224.367 L535.076 238.025 L530.794 238.025 L530.794 212.099 L535.076 212.099 L535.076 216.127 Q536.419 213.766 538.572 212.631 Q540.724 211.474 543.803 211.474 Q544.243 211.474 544.775 211.543 Q545.308 211.59 545.956 211.705 L545.979 216.08 Z\" fill=\"#000000\" fill-rule=\"evenodd\" fill-opacity=\"1\" /><path clip-path=\"url(#clip370)\" d=\"M571.581 223.997 L571.581 226.08 L551.998 226.08 Q552.275 230.478 554.636 232.793 Q557.021 235.085 561.257 235.085 Q563.71 235.085 566.002 234.483 Q568.317 233.881 570.585 232.677 L570.585 236.705 Q568.294 237.677 565.886 238.187 Q563.479 238.696 561.002 238.696 Q554.798 238.696 551.164 235.085 Q547.553 231.474 547.553 225.316 Q547.553 218.951 550.979 215.224 Q554.428 211.474 560.261 211.474 Q565.493 211.474 568.525 214.853 Q571.581 218.21 571.581 223.997 M567.322 222.747 Q567.275 219.252 565.354 217.168 Q563.456 215.085 560.308 215.085 Q556.743 215.085 554.59 217.099 Q552.46 219.113 552.136 222.77 L567.322 222.747 Z\" fill=\"#000000\" fill-rule=\"evenodd\" fill-opacity=\"1\" /><path clip-path=\"url(#clip370)\" d=\"M578.571 212.099 L582.831 212.099 L582.831 238.488 Q582.831 243.441 580.933 245.663 Q579.058 247.886 574.868 247.886 L573.247 247.886 L573.247 244.275 L574.382 244.275 Q576.812 244.275 577.692 243.14 Q578.571 242.029 578.571 238.488 L578.571 212.099 M578.571 202.006 L582.831 202.006 L582.831 207.4 L578.571 207.4 L578.571 202.006 Z\" fill=\"#000000\" fill-rule=\"evenodd\" fill-opacity=\"1\" /><path clip-path=\"url(#clip370)\" d=\"M613.918 223.997 L613.918 226.08 L594.335 226.08 Q594.613 230.478 596.974 232.793 Q599.358 235.085 603.594 235.085 Q606.048 235.085 608.34 234.483 Q610.655 233.881 612.923 232.677 L612.923 236.705 Q610.631 237.677 608.224 238.187 Q605.817 238.696 603.34 238.696 Q597.136 238.696 593.502 235.085 Q589.891 231.474 589.891 225.316 Q589.891 218.951 593.317 215.224 Q596.766 211.474 602.599 211.474 Q607.831 211.474 610.863 214.853 Q613.918 218.21 613.918 223.997 M609.659 222.747 Q609.613 219.252 607.692 217.168 Q605.794 215.085 602.645 215.085 Q599.081 215.085 596.928 217.099 Q594.798 219.113 594.474 222.77 L609.659 222.747 Z\" fill=\"#000000\" fill-rule=\"evenodd\" fill-opacity=\"1\" /><path clip-path=\"url(#clip370)\" d=\"M639.567 213.094 L639.567 217.076 Q637.761 216.08 635.932 215.594 Q634.127 215.085 632.275 215.085 Q628.131 215.085 625.84 217.724 Q623.548 220.34 623.548 225.085 Q623.548 229.83 625.84 232.469 Q628.131 235.085 632.275 235.085 Q634.127 235.085 635.932 234.599 Q637.761 234.089 639.567 233.094 L639.567 237.029 Q637.784 237.863 635.863 238.279 Q633.965 238.696 631.812 238.696 Q625.955 238.696 622.506 235.015 Q619.057 231.335 619.057 225.085 Q619.057 218.742 622.53 215.108 Q626.025 211.474 632.09 211.474 Q634.057 211.474 635.932 211.891 Q637.807 212.284 639.567 213.094 Z\" fill=\"#000000\" fill-rule=\"evenodd\" fill-opacity=\"1\" /><path clip-path=\"url(#clip370)\" d=\"M651.187 204.738 L651.187 212.099 L659.96 212.099 L659.96 215.409 L651.187 215.409 L651.187 229.483 Q651.187 232.654 652.043 233.557 Q652.923 234.46 655.585 234.46 L659.96 234.46 L659.96 238.025 L655.585 238.025 Q650.654 238.025 648.779 236.196 Q646.904 234.344 646.904 229.483 L646.904 215.409 L643.779 215.409 L643.779 212.099 L646.904 212.099 L646.904 204.738 L651.187 204.738 Z\" fill=\"#000000\" fill-rule=\"evenodd\" fill-opacity=\"1\" /><path clip-path=\"url(#clip370)\" d=\"M665.562 212.099 L669.821 212.099 L669.821 238.025 L665.562 238.025 L665.562 212.099 M665.562 202.006 L669.821 202.006 L669.821 207.4 L665.562 207.4 L665.562 202.006 Z\" fill=\"#000000\" fill-rule=\"evenodd\" fill-opacity=\"1\" /><path clip-path=\"url(#clip370)\" d=\"M688.779 215.085 Q685.353 215.085 683.363 217.77 Q681.372 220.432 681.372 225.085 Q681.372 229.738 683.339 232.423 Q685.33 235.085 688.779 235.085 Q692.182 235.085 694.173 232.4 Q696.163 229.715 696.163 225.085 Q696.163 220.478 694.173 217.793 Q692.182 215.085 688.779 215.085 M688.779 211.474 Q694.335 211.474 697.506 215.085 Q700.677 218.696 700.677 225.085 Q700.677 231.451 697.506 235.085 Q694.335 238.696 688.779 238.696 Q683.201 238.696 680.029 235.085 Q676.881 231.451 676.881 225.085 Q676.881 218.696 680.029 215.085 Q683.201 211.474 688.779 211.474 Z\" fill=\"#000000\" fill-rule=\"evenodd\" fill-opacity=\"1\" /><path clip-path=\"url(#clip370)\" d=\"M729.288 222.377 L729.288 238.025 L725.029 238.025 L725.029 222.515 Q725.029 218.835 723.594 217.006 Q722.159 215.178 719.288 215.178 Q715.839 215.178 713.849 217.377 Q711.858 219.576 711.858 223.372 L711.858 238.025 L707.575 238.025 L707.575 212.099 L711.858 212.099 L711.858 216.127 Q713.386 213.789 715.446 212.631 Q717.529 211.474 720.237 211.474 Q724.705 211.474 726.997 214.252 Q729.288 217.006 729.288 222.377 Z\" fill=\"#000000\" fill-rule=\"evenodd\" fill-opacity=\"1\" /><path clip-path=\"url(#clip370)\" d=\"M767.876 216.08 Q767.158 215.664 766.302 215.478 Q765.469 215.27 764.45 215.27 Q760.839 215.27 758.895 217.631 Q756.973 219.969 756.973 224.367 L756.973 238.025 L752.691 238.025 L752.691 212.099 L756.973 212.099 L756.973 216.127 Q758.316 213.766 760.469 212.631 Q762.621 211.474 765.7 211.474 Q766.14 211.474 766.672 211.543 Q767.205 211.59 767.853 211.705 L767.876 216.08 Z\" fill=\"#000000\" fill-rule=\"evenodd\" fill-opacity=\"1\" /><path clip-path=\"url(#clip370)\" d=\"M793.478 223.997 L793.478 226.08 L773.894 226.08 Q774.172 230.478 776.533 232.793 Q778.918 235.085 783.154 235.085 Q785.607 235.085 787.899 234.483 Q790.214 233.881 792.482 232.677 L792.482 236.705 Q790.191 237.677 787.783 238.187 Q785.376 238.696 782.899 238.696 Q776.695 238.696 773.061 235.085 Q769.45 231.474 769.45 225.316 Q769.45 218.951 772.876 215.224 Q776.325 211.474 782.158 211.474 Q787.39 211.474 790.422 214.853 Q793.478 218.21 793.478 223.997 M789.218 222.747 Q789.172 219.252 787.251 217.168 Q785.353 215.085 782.205 215.085 Q778.64 215.085 776.487 217.099 Q774.357 219.113 774.033 222.77 L789.218 222.747 Z\" fill=\"#000000\" fill-rule=\"evenodd\" fill-opacity=\"1\" /><path clip-path=\"url(#clip370)\" d=\"M817.529 224.761 Q817.529 220.131 815.607 217.585 Q813.709 215.039 810.26 215.039 Q806.834 215.039 804.913 217.585 Q803.015 220.131 803.015 224.761 Q803.015 229.367 804.913 231.914 Q806.834 234.46 810.26 234.46 Q813.709 234.46 815.607 231.914 Q817.529 229.367 817.529 224.761 M821.788 234.807 Q821.788 241.427 818.848 244.645 Q815.908 247.886 809.843 247.886 Q807.598 247.886 805.607 247.538 Q803.617 247.214 801.742 246.52 L801.742 242.376 Q803.617 243.395 805.445 243.881 Q807.274 244.367 809.172 244.367 Q813.362 244.367 815.445 242.168 Q817.529 239.992 817.529 235.571 L817.529 233.464 Q816.209 235.756 814.149 236.89 Q812.089 238.025 809.218 238.025 Q804.45 238.025 801.533 234.39 Q798.617 230.756 798.617 224.761 Q798.617 218.742 801.533 215.108 Q804.45 211.474 809.218 211.474 Q812.089 211.474 814.149 212.608 Q816.209 213.742 817.529 216.034 L817.529 212.099 L821.788 212.099 L821.788 234.807 Z\" fill=\"#000000\" fill-rule=\"evenodd\" fill-opacity=\"1\" /><path clip-path=\"url(#clip370)\" d=\"M830.561 212.099 L834.82 212.099 L834.82 238.025 L830.561 238.025 L830.561 212.099 M830.561 202.006 L834.82 202.006 L834.82 207.4 L830.561 207.4 L830.561 202.006 Z\" fill=\"#000000\" fill-rule=\"evenodd\" fill-opacity=\"1\" /><path clip-path=\"url(#clip370)\" d=\"M853.778 215.085 Q850.352 215.085 848.362 217.77 Q846.371 220.432 846.371 225.085 Q846.371 229.738 848.339 232.423 Q850.329 235.085 853.778 235.085 Q857.181 235.085 859.172 232.4 Q861.163 229.715 861.163 225.085 Q861.163 220.478 859.172 217.793 Q857.181 215.085 853.778 215.085 M853.778 211.474 Q859.334 211.474 862.505 215.085 Q865.676 218.696 865.676 225.085 Q865.676 231.451 862.505 235.085 Q859.334 238.696 853.778 238.696 Q848.2 238.696 845.028 235.085 Q841.88 231.451 841.88 225.085 Q841.88 218.696 845.028 215.085 Q848.2 211.474 853.778 211.474 Z\" fill=\"#000000\" fill-rule=\"evenodd\" fill-opacity=\"1\" /><path clip-path=\"url(#clip370)\" d=\"M894.287 222.377 L894.287 238.025 L890.028 238.025 L890.028 222.515 Q890.028 218.835 888.593 217.006 Q887.158 215.178 884.287 215.178 Q880.838 215.178 878.848 217.377 Q876.857 219.576 876.857 223.372 L876.857 238.025 L872.575 238.025 L872.575 212.099 L876.857 212.099 L876.857 216.127 Q878.385 213.789 880.445 212.631 Q882.528 211.474 885.236 211.474 Q889.704 211.474 891.996 214.252 Q894.287 217.006 894.287 222.377 Z\" fill=\"#000000\" fill-rule=\"evenodd\" fill-opacity=\"1\" /><path clip-path=\"url(#clip370)\" d=\"M927.898 215.085 Q924.472 215.085 922.482 217.77 Q920.491 220.432 920.491 225.085 Q920.491 229.738 922.459 232.423 Q924.449 235.085 927.898 235.085 Q931.301 235.085 933.292 232.4 Q935.283 229.715 935.283 225.085 Q935.283 220.478 933.292 217.793 Q931.301 215.085 927.898 215.085 M927.898 211.474 Q933.454 211.474 936.625 215.085 Q939.796 218.696 939.796 225.085 Q939.796 231.451 936.625 235.085 Q933.454 238.696 927.898 238.696 Q922.32 238.696 919.148 235.085 Q916 231.451 916 225.085 Q916 218.696 919.148 215.085 Q922.32 211.474 927.898 211.474 Z\" fill=\"#000000\" fill-rule=\"evenodd\" fill-opacity=\"1\" /><path clip-path=\"url(#clip370)\" d=\"M959.981 202.006 L959.981 205.548 L955.907 205.548 Q953.616 205.548 952.713 206.474 Q951.833 207.4 951.833 209.807 L951.833 212.099 L958.847 212.099 L958.847 215.409 L951.833 215.409 L951.833 238.025 L947.551 238.025 L947.551 215.409 L943.477 215.409 L943.477 212.099 L947.551 212.099 L947.551 210.293 Q947.551 205.965 949.565 203.997 Q951.579 202.006 955.954 202.006 L959.981 202.006 Z\" fill=\"#000000\" fill-rule=\"evenodd\" fill-opacity=\"1\" /><path clip-path=\"url(#clip370)\" d=\"M978.801 203.465 L983.477 203.465 L983.477 217.631 L1000.47 217.631 L1000.47 203.465 L1005.14 203.465 L1005.14 238.025 L1000.47 238.025 L1000.47 221.566 L983.477 221.566 L983.477 238.025 L978.801 238.025 L978.801 203.465 Z\" fill=\"#000000\" fill-rule=\"evenodd\" fill-opacity=\"1\" /><path clip-path=\"url(#clip370)\" d=\"M1024.87 206.543 Q1021.25 206.543 1019.43 210.108 Q1017.62 213.65 1017.62 220.779 Q1017.62 227.886 1019.43 231.451 Q1021.25 234.992 1024.87 234.992 Q1028.5 234.992 1030.31 231.451 Q1032.13 227.886 1032.13 220.779 Q1032.13 213.65 1030.31 210.108 Q1028.5 206.543 1024.87 206.543 M1024.87 202.84 Q1030.68 202.84 1033.73 207.446 Q1036.81 212.029 1036.81 220.779 Q1036.81 229.506 1033.73 234.113 Q1030.68 238.696 1024.87 238.696 Q1019.06 238.696 1015.98 234.113 Q1012.92 229.506 1012.92 220.779 Q1012.92 212.029 1015.98 207.446 Q1019.06 202.84 1024.87 202.84 Z\" fill=\"#000000\" fill-rule=\"evenodd\" fill-opacity=\"1\" /><path clip-path=\"url(#clip370)\" d=\"\n",
       "M253.741 293.321 L400.184 293.321 L400.184 251.849 L253.741 251.849 L253.741 293.321  Z\n",
       "  \" fill=\"#ff0000\" fill-rule=\"evenodd\" fill-opacity=\"0.35\"/>\n",
       "<polyline clip-path=\"url(#clip370)\" style=\"stroke:#ff0000; stroke-linecap:butt; stroke-linejoin:round; stroke-width:12; stroke-opacity:1; fill:none\" points=\"\n",
       "  253.741,251.849 400.184,251.849 \n",
       "  \"/>\n",
       "<path clip-path=\"url(#clip370)\" d=\"M439.776 267.92 Q439.058 267.504 438.202 267.318 Q437.369 267.11 436.35 267.11 Q432.739 267.11 430.794 269.471 Q428.873 271.809 428.873 276.207 L428.873 289.865 L424.591 289.865 L424.591 263.939 L428.873 263.939 L428.873 267.967 Q430.216 265.606 432.369 264.471 Q434.521 263.314 437.6 263.314 Q438.04 263.314 438.572 263.383 Q439.105 263.43 439.753 263.545 L439.776 267.92 Z\" fill=\"#000000\" fill-rule=\"evenodd\" fill-opacity=\"1\" /><path clip-path=\"url(#clip370)\" d=\"M465.378 275.837 L465.378 277.92 L445.794 277.92 Q446.072 282.318 448.433 284.633 Q450.818 286.925 455.054 286.925 Q457.507 286.925 459.799 286.323 Q462.114 285.721 464.382 284.517 L464.382 288.545 Q462.091 289.517 459.683 290.027 Q457.276 290.536 454.799 290.536 Q448.595 290.536 444.961 286.925 Q441.35 283.314 441.35 277.156 Q441.35 270.791 444.776 267.064 Q448.225 263.314 454.058 263.314 Q459.29 263.314 462.322 266.693 Q465.378 270.05 465.378 275.837 M461.118 274.587 Q461.072 271.092 459.151 269.008 Q457.253 266.925 454.105 266.925 Q450.54 266.925 448.387 268.939 Q446.257 270.953 445.933 274.61 L461.118 274.587 Z\" fill=\"#000000\" fill-rule=\"evenodd\" fill-opacity=\"1\" /><path clip-path=\"url(#clip370)\" d=\"M472.368 263.939 L476.628 263.939 L476.628 290.328 Q476.628 295.281 474.729 297.503 Q472.854 299.726 468.665 299.726 L467.044 299.726 L467.044 296.115 L468.179 296.115 Q470.609 296.115 471.489 294.98 Q472.368 293.869 472.368 290.328 L472.368 263.939 M472.368 253.846 L476.628 253.846 L476.628 259.24 L472.368 259.24 L472.368 253.846 Z\" fill=\"#000000\" fill-rule=\"evenodd\" fill-opacity=\"1\" /><path clip-path=\"url(#clip370)\" d=\"M507.715 275.837 L507.715 277.92 L488.132 277.92 Q488.41 282.318 490.771 284.633 Q493.155 286.925 497.391 286.925 Q499.845 286.925 502.137 286.323 Q504.451 285.721 506.72 284.517 L506.72 288.545 Q504.428 289.517 502.021 290.027 Q499.614 290.536 497.137 290.536 Q490.933 290.536 487.299 286.925 Q483.688 283.314 483.688 277.156 Q483.688 270.791 487.114 267.064 Q490.563 263.314 496.396 263.314 Q501.627 263.314 504.66 266.693 Q507.715 270.05 507.715 275.837 M503.456 274.587 Q503.41 271.092 501.489 269.008 Q499.59 266.925 496.442 266.925 Q492.877 266.925 490.725 268.939 Q488.595 270.953 488.271 274.61 L503.456 274.587 Z\" fill=\"#000000\" fill-rule=\"evenodd\" fill-opacity=\"1\" /><path clip-path=\"url(#clip370)\" d=\"M533.363 264.934 L533.363 268.916 Q531.558 267.92 529.729 267.434 Q527.924 266.925 526.072 266.925 Q521.928 266.925 519.637 269.564 Q517.345 272.18 517.345 276.925 Q517.345 281.67 519.637 284.309 Q521.928 286.925 526.072 286.925 Q527.924 286.925 529.729 286.439 Q531.558 285.929 533.363 284.934 L533.363 288.869 Q531.581 289.703 529.66 290.119 Q527.762 290.536 525.609 290.536 Q519.752 290.536 516.303 286.855 Q512.854 283.175 512.854 276.925 Q512.854 270.582 516.326 266.948 Q519.822 263.314 525.887 263.314 Q527.854 263.314 529.729 263.731 Q531.604 264.124 533.363 264.934 Z\" fill=\"#000000\" fill-rule=\"evenodd\" fill-opacity=\"1\" /><path clip-path=\"url(#clip370)\" d=\"M544.984 256.578 L544.984 263.939 L553.757 263.939 L553.757 267.249 L544.984 267.249 L544.984 281.323 Q544.984 284.494 545.84 285.397 Q546.72 286.3 549.382 286.3 L553.757 286.3 L553.757 289.865 L549.382 289.865 Q544.451 289.865 542.576 288.036 Q540.701 286.184 540.701 281.323 L540.701 267.249 L537.576 267.249 L537.576 263.939 L540.701 263.939 L540.701 256.578 L544.984 256.578 Z\" fill=\"#000000\" fill-rule=\"evenodd\" fill-opacity=\"1\" /><path clip-path=\"url(#clip370)\" d=\"M559.359 263.939 L563.618 263.939 L563.618 289.865 L559.359 289.865 L559.359 263.939 M559.359 253.846 L563.618 253.846 L563.618 259.24 L559.359 259.24 L559.359 253.846 Z\" fill=\"#000000\" fill-rule=\"evenodd\" fill-opacity=\"1\" /><path clip-path=\"url(#clip370)\" d=\"M582.576 266.925 Q579.15 266.925 577.159 269.61 Q575.169 272.272 575.169 276.925 Q575.169 281.578 577.136 284.263 Q579.127 286.925 582.576 286.925 Q585.979 286.925 587.97 284.24 Q589.96 281.555 589.96 276.925 Q589.96 272.318 587.97 269.633 Q585.979 266.925 582.576 266.925 M582.576 263.314 Q588.132 263.314 591.303 266.925 Q594.474 270.536 594.474 276.925 Q594.474 283.291 591.303 286.925 Q588.132 290.536 582.576 290.536 Q576.997 290.536 573.826 286.925 Q570.678 283.291 570.678 276.925 Q570.678 270.536 573.826 266.925 Q576.997 263.314 582.576 263.314 Z\" fill=\"#000000\" fill-rule=\"evenodd\" fill-opacity=\"1\" /><path clip-path=\"url(#clip370)\" d=\"M623.085 274.217 L623.085 289.865 L618.826 289.865 L618.826 274.355 Q618.826 270.675 617.391 268.846 Q615.956 267.018 613.085 267.018 Q609.636 267.018 607.645 269.217 Q605.655 271.416 605.655 275.212 L605.655 289.865 L601.372 289.865 L601.372 263.939 L605.655 263.939 L605.655 267.967 Q607.182 265.629 609.243 264.471 Q611.326 263.314 614.034 263.314 Q618.502 263.314 620.793 266.092 Q623.085 268.846 623.085 274.217 Z\" fill=\"#000000\" fill-rule=\"evenodd\" fill-opacity=\"1\" /><path clip-path=\"url(#clip370)\" d=\"M661.673 267.92 Q660.955 267.504 660.099 267.318 Q659.265 267.11 658.247 267.11 Q654.636 267.11 652.691 269.471 Q650.77 271.809 650.77 276.207 L650.77 289.865 L646.488 289.865 L646.488 263.939 L650.77 263.939 L650.77 267.967 Q652.113 265.606 654.266 264.471 Q656.418 263.314 659.497 263.314 Q659.937 263.314 660.469 263.383 Q661.002 263.43 661.65 263.545 L661.673 267.92 Z\" fill=\"#000000\" fill-rule=\"evenodd\" fill-opacity=\"1\" /><path clip-path=\"url(#clip370)\" d=\"M687.275 275.837 L687.275 277.92 L667.691 277.92 Q667.969 282.318 670.33 284.633 Q672.714 286.925 676.951 286.925 Q679.404 286.925 681.696 286.323 Q684.011 285.721 686.279 284.517 L686.279 288.545 Q683.988 289.517 681.58 290.027 Q679.173 290.536 676.696 290.536 Q670.492 290.536 666.858 286.925 Q663.247 283.314 663.247 277.156 Q663.247 270.791 666.673 267.064 Q670.122 263.314 675.955 263.314 Q681.187 263.314 684.219 266.693 Q687.275 270.05 687.275 275.837 M683.015 274.587 Q682.969 271.092 681.048 269.008 Q679.15 266.925 676.002 266.925 Q672.437 266.925 670.284 268.939 Q668.154 270.953 667.83 274.61 L683.015 274.587 Z\" fill=\"#000000\" fill-rule=\"evenodd\" fill-opacity=\"1\" /><path clip-path=\"url(#clip370)\" d=\"M711.325 276.601 Q711.325 271.971 709.404 269.425 Q707.506 266.879 704.057 266.879 Q700.631 266.879 698.71 269.425 Q696.812 271.971 696.812 276.601 Q696.812 281.207 698.71 283.754 Q700.631 286.3 704.057 286.3 Q707.506 286.3 709.404 283.754 Q711.325 281.207 711.325 276.601 M715.585 286.647 Q715.585 293.267 712.645 296.485 Q709.705 299.726 703.64 299.726 Q701.395 299.726 699.404 299.378 Q697.413 299.054 695.538 298.36 L695.538 294.216 Q697.413 295.235 699.242 295.721 Q701.071 296.207 702.969 296.207 Q707.159 296.207 709.242 294.008 Q711.325 291.832 711.325 287.411 L711.325 285.304 Q710.006 287.596 707.946 288.73 Q705.886 289.865 703.015 289.865 Q698.247 289.865 695.33 286.23 Q692.413 282.596 692.413 276.601 Q692.413 270.582 695.33 266.948 Q698.247 263.314 703.015 263.314 Q705.886 263.314 707.946 264.448 Q710.006 265.582 711.325 267.874 L711.325 263.939 L715.585 263.939 L715.585 286.647 Z\" fill=\"#000000\" fill-rule=\"evenodd\" fill-opacity=\"1\" /><path clip-path=\"url(#clip370)\" d=\"M724.358 263.939 L728.617 263.939 L728.617 289.865 L724.358 289.865 L724.358 263.939 M724.358 253.846 L728.617 253.846 L728.617 259.24 L724.358 259.24 L724.358 253.846 Z\" fill=\"#000000\" fill-rule=\"evenodd\" fill-opacity=\"1\" /><path clip-path=\"url(#clip370)\" d=\"M747.575 266.925 Q744.149 266.925 742.159 269.61 Q740.168 272.272 740.168 276.925 Q740.168 281.578 742.135 284.263 Q744.126 286.925 747.575 286.925 Q750.978 286.925 752.969 284.24 Q754.959 281.555 754.959 276.925 Q754.959 272.318 752.969 269.633 Q750.978 266.925 747.575 266.925 M747.575 263.314 Q753.131 263.314 756.302 266.925 Q759.473 270.536 759.473 276.925 Q759.473 283.291 756.302 286.925 Q753.131 290.536 747.575 290.536 Q741.997 290.536 738.825 286.925 Q735.677 283.291 735.677 276.925 Q735.677 270.536 738.825 266.925 Q741.997 263.314 747.575 263.314 Z\" fill=\"#000000\" fill-rule=\"evenodd\" fill-opacity=\"1\" /><path clip-path=\"url(#clip370)\" d=\"M788.084 274.217 L788.084 289.865 L783.825 289.865 L783.825 274.355 Q783.825 270.675 782.39 268.846 Q780.955 267.018 778.084 267.018 Q774.635 267.018 772.645 269.217 Q770.654 271.416 770.654 275.212 L770.654 289.865 L766.371 289.865 L766.371 263.939 L770.654 263.939 L770.654 267.967 Q772.182 265.629 774.242 264.471 Q776.325 263.314 779.033 263.314 Q783.501 263.314 785.793 266.092 Q788.084 268.846 788.084 274.217 Z\" fill=\"#000000\" fill-rule=\"evenodd\" fill-opacity=\"1\" /><path clip-path=\"url(#clip370)\" d=\"M821.695 266.925 Q818.269 266.925 816.279 269.61 Q814.288 272.272 814.288 276.925 Q814.288 281.578 816.255 284.263 Q818.246 286.925 821.695 286.925 Q825.098 286.925 827.089 284.24 Q829.079 281.555 829.079 276.925 Q829.079 272.318 827.089 269.633 Q825.098 266.925 821.695 266.925 M821.695 263.314 Q827.251 263.314 830.422 266.925 Q833.593 270.536 833.593 276.925 Q833.593 283.291 830.422 286.925 Q827.251 290.536 821.695 290.536 Q816.116 290.536 812.945 286.925 Q809.797 283.291 809.797 276.925 Q809.797 270.536 812.945 266.925 Q816.116 263.314 821.695 263.314 Z\" fill=\"#000000\" fill-rule=\"evenodd\" fill-opacity=\"1\" /><path clip-path=\"url(#clip370)\" d=\"M853.778 253.846 L853.778 257.388 L849.704 257.388 Q847.413 257.388 846.51 258.314 Q845.63 259.24 845.63 261.647 L845.63 263.939 L852.644 263.939 L852.644 267.249 L845.63 267.249 L845.63 289.865 L841.348 289.865 L841.348 267.249 L837.274 267.249 L837.274 263.939 L841.348 263.939 L841.348 262.133 Q841.348 257.805 843.362 255.837 Q845.376 253.846 849.751 253.846 L853.778 253.846 Z\" fill=\"#000000\" fill-rule=\"evenodd\" fill-opacity=\"1\" /><path clip-path=\"url(#clip370)\" d=\"M872.598 255.305 L877.274 255.305 L877.274 269.471 L894.264 269.471 L894.264 255.305 L898.94 255.305 L898.94 289.865 L894.264 289.865 L894.264 273.406 L877.274 273.406 L877.274 289.865 L872.598 289.865 L872.598 255.305 Z\" fill=\"#000000\" fill-rule=\"evenodd\" fill-opacity=\"1\" /><path clip-path=\"url(#clip370)\" d=\"M918.662 258.383 Q915.051 258.383 913.222 261.948 Q911.417 265.49 911.417 272.619 Q911.417 279.726 913.222 283.291 Q915.051 286.832 918.662 286.832 Q922.296 286.832 924.102 283.291 Q925.931 279.726 925.931 272.619 Q925.931 265.49 924.102 261.948 Q922.296 258.383 918.662 258.383 M918.662 254.68 Q924.472 254.68 927.528 259.286 Q930.607 263.869 930.607 272.619 Q930.607 281.346 927.528 285.953 Q924.472 290.536 918.662 290.536 Q912.852 290.536 909.773 285.953 Q906.718 281.346 906.718 272.619 Q906.718 263.869 909.773 259.286 Q912.852 254.68 918.662 254.68 Z\" fill=\"#000000\" fill-rule=\"evenodd\" fill-opacity=\"1\" /><polyline clip-path=\"url(#clip370)\" style=\"stroke:#008000; stroke-linecap:butt; stroke-linejoin:round; stroke-width:4; stroke-opacity:1; fill:none\" points=\"\n",
       "  253.741,324.425 400.184,324.425 \n",
       "  \"/>\n",
       "<path clip-path=\"url(#clip370)\" d=\"M431.998 308.418 L431.998 315.779 L440.771 315.779 L440.771 319.089 L431.998 319.089 L431.998 333.163 Q431.998 336.334 432.855 337.237 Q433.734 338.14 436.396 338.14 L440.771 338.14 L440.771 341.705 L436.396 341.705 Q431.466 341.705 429.591 339.876 Q427.716 338.024 427.716 333.163 L427.716 319.089 L424.591 319.089 L424.591 315.779 L427.716 315.779 L427.716 308.418 L431.998 308.418 Z\" fill=\"#000000\" fill-rule=\"evenodd\" fill-opacity=\"1\" /><path clip-path=\"url(#clip370)\" d=\"M468.549 327.677 L468.549 329.76 L448.966 329.76 Q449.243 334.158 451.605 336.473 Q453.989 338.765 458.225 338.765 Q460.679 338.765 462.97 338.163 Q465.285 337.561 467.554 336.357 L467.554 340.385 Q465.262 341.357 462.854 341.867 Q460.447 342.376 457.97 342.376 Q451.767 342.376 448.132 338.765 Q444.521 335.154 444.521 328.996 Q444.521 322.631 447.947 318.904 Q451.396 315.154 457.23 315.154 Q462.461 315.154 465.493 318.533 Q468.549 321.89 468.549 327.677 M464.29 326.427 Q464.243 322.932 462.322 320.848 Q460.424 318.765 457.276 318.765 Q453.711 318.765 451.558 320.779 Q449.429 322.793 449.105 326.45 L464.29 326.427 Z\" fill=\"#000000\" fill-rule=\"evenodd\" fill-opacity=\"1\" /><path clip-path=\"url(#clip370)\" d=\"M492.067 316.543 L492.067 320.571 Q490.262 319.645 488.317 319.182 Q486.373 318.719 484.29 318.719 Q481.118 318.719 479.521 319.691 Q477.947 320.663 477.947 322.608 Q477.947 324.089 479.081 324.945 Q480.216 325.779 483.641 326.543 L485.1 326.867 Q489.637 327.839 491.535 329.621 Q493.456 331.381 493.456 334.552 Q493.456 338.163 490.586 340.269 Q487.739 342.376 482.739 342.376 Q480.655 342.376 478.387 341.959 Q476.141 341.566 473.641 340.756 L473.641 336.357 Q476.003 337.584 478.294 338.209 Q480.586 338.811 482.831 338.811 Q485.84 338.811 487.461 337.793 Q489.081 336.751 489.081 334.876 Q489.081 333.14 487.901 332.214 Q486.743 331.288 482.785 330.432 L481.303 330.084 Q477.345 329.251 475.586 327.538 Q473.827 325.802 473.827 322.793 Q473.827 319.135 476.419 317.145 Q479.012 315.154 483.78 315.154 Q486.141 315.154 488.225 315.501 Q490.308 315.848 492.067 316.543 Z\" fill=\"#000000\" fill-rule=\"evenodd\" fill-opacity=\"1\" /><path clip-path=\"url(#clip370)\" d=\"M504.451 308.418 L504.451 315.779 L513.225 315.779 L513.225 319.089 L504.451 319.089 L504.451 333.163 Q504.451 336.334 505.308 337.237 Q506.188 338.14 508.85 338.14 L513.225 338.14 L513.225 341.705 L508.85 341.705 Q503.919 341.705 502.044 339.876 Q500.169 338.024 500.169 333.163 L500.169 319.089 L497.044 319.089 L497.044 315.779 L500.169 315.779 L500.169 308.418 L504.451 308.418 Z\" fill=\"#000000\" fill-rule=\"evenodd\" fill-opacity=\"1\" /><path clip-path=\"url(#clip370)\" d=\"M550.423 316.543 L550.423 320.571 Q548.618 319.645 546.673 319.182 Q544.729 318.719 542.646 318.719 Q539.474 318.719 537.877 319.691 Q536.303 320.663 536.303 322.608 Q536.303 324.089 537.437 324.945 Q538.572 325.779 541.998 326.543 L543.456 326.867 Q547.993 327.839 549.891 329.621 Q551.812 331.381 551.812 334.552 Q551.812 338.163 548.942 340.269 Q546.095 342.376 541.095 342.376 Q539.011 342.376 536.743 341.959 Q534.498 341.566 531.998 340.756 L531.998 336.357 Q534.359 337.584 536.65 338.209 Q538.942 338.811 541.187 338.811 Q544.197 338.811 545.817 337.793 Q547.437 336.751 547.437 334.876 Q547.437 333.14 546.257 332.214 Q545.099 331.288 541.141 330.432 L539.66 330.084 Q535.701 329.251 533.942 327.538 Q532.183 325.802 532.183 322.793 Q532.183 319.135 534.775 317.145 Q537.368 315.154 542.136 315.154 Q544.498 315.154 546.581 315.501 Q548.664 315.848 550.423 316.543 Z\" fill=\"#000000\" fill-rule=\"evenodd\" fill-opacity=\"1\" /><path clip-path=\"url(#clip370)\" d=\"M562.808 308.418 L562.808 315.779 L571.581 315.779 L571.581 319.089 L562.808 319.089 L562.808 333.163 Q562.808 336.334 563.664 337.237 Q564.544 338.14 567.206 338.14 L571.581 338.14 L571.581 341.705 L567.206 341.705 Q562.275 341.705 560.4 339.876 Q558.525 338.024 558.525 333.163 L558.525 319.089 L555.4 319.089 L555.4 315.779 L558.525 315.779 L558.525 308.418 L562.808 308.418 Z\" fill=\"#000000\" fill-rule=\"evenodd\" fill-opacity=\"1\" /><path clip-path=\"url(#clip370)\" d=\"M588.965 328.672 Q583.803 328.672 581.812 329.853 Q579.821 331.033 579.821 333.881 Q579.821 336.149 581.303 337.492 Q582.808 338.811 585.377 338.811 Q588.919 338.811 591.048 336.311 Q593.201 333.788 593.201 329.621 L593.201 328.672 L588.965 328.672 M597.46 326.913 L597.46 341.705 L593.201 341.705 L593.201 337.769 Q591.743 340.131 589.567 341.265 Q587.391 342.376 584.243 342.376 Q580.261 342.376 577.9 340.154 Q575.562 337.908 575.562 334.158 Q575.562 329.783 578.479 327.561 Q581.419 325.339 587.229 325.339 L593.201 325.339 L593.201 324.922 Q593.201 321.983 591.257 320.385 Q589.335 318.765 585.84 318.765 Q583.618 318.765 581.511 319.297 Q579.405 319.83 577.46 320.895 L577.46 316.959 Q579.798 316.057 581.997 315.617 Q584.196 315.154 586.28 315.154 Q591.905 315.154 594.682 318.071 Q597.46 320.987 597.46 326.913 Z\" fill=\"#000000\" fill-rule=\"evenodd\" fill-opacity=\"1\" /><path clip-path=\"url(#clip370)\" d=\"M610.446 308.418 L610.446 315.779 L619.219 315.779 L619.219 319.089 L610.446 319.089 L610.446 333.163 Q610.446 336.334 611.303 337.237 Q612.182 338.14 614.844 338.14 L619.219 338.14 L619.219 341.705 L614.844 341.705 Q609.914 341.705 608.039 339.876 Q606.164 338.024 606.164 333.163 L606.164 319.089 L603.039 319.089 L603.039 315.779 L606.164 315.779 L606.164 308.418 L610.446 308.418 Z\" fill=\"#000000\" fill-rule=\"evenodd\" fill-opacity=\"1\" /></svg>\n"
      ]
     },
     "metadata": {},
     "output_type": "display_data"
    },
    {
     "name": "stdout",
     "output_type": "stream",
     "text": [
      "the test stat is 1.4079327788496587\n",
      "\n",
      "the p-value is 0.2353998670282356\n",
      "\n"
     ]
    }
   ],
   "source": [
    "hm_test(model, model_g, 0.05)"
   ]
  },
  {
   "cell_type": "code",
   "execution_count": 174,
   "id": "648aae11-de29-49b8-907b-0078ab257b82",
   "metadata": {},
   "outputs": [
    {
     "name": "stdout",
     "output_type": "stream",
     "text": [
      "               (1)           (2)           (3)           (4)       \n",
      "educ            0.0740***     0.0693***     0.0690***     0.1323***\n",
      "               (0.0036)      (0.0051)      (0.0051)      (0.0485)  \n",
      "exper           0.0836***     0.0935***     0.0935***     0.1075***\n",
      "               (0.0067)      (0.0092)      (0.0092)      (0.0211)  \n",
      "expersq        -0.0022***    -0.0027***    -0.0027***    -0.0023***\n",
      "               (0.0003)      (0.0005)      (0.0005)      (0.0003)  \n",
      "black          -0.1896***    -0.1361***    -0.1367***    -0.1308***\n",
      "               (0.0174)      (0.0270)      (0.0271)      (0.0515)  \n",
      "smsa            0.1614***     0.1534***     0.1499***     0.1313***\n",
      "               (0.0152)      (0.0185)      (0.0193)      (0.0298)  \n",
      "south          -0.1249***    -0.0791***    -0.0773***    -0.1049***\n",
      "               (0.0153)      (0.0185)      (0.0187)      (0.0229)  \n",
      "(Intercept)     4.7337***     0.0025***     0.0025***     3.7528***\n",
      "               (0.0701)      (0.0008)      (0.0008)      (0.8169)  \n",
      "IQ                            4.4826***     0.0116                 \n",
      "                             (0.1095)      (0.0190)                \n",
      "nearc4                                      4.4804***              \n",
      "                                           (0.1095)                \n"
     ]
    }
   ],
   "source": [
    "etable(model_1, model_2, model_6, model_7; digits= 4, aux = stderror, stars=[0.1 \"*\"; 0.05 \"**\"; 0.01 \"***\"])"
   ]
  },
  {
   "cell_type": "code",
   "execution_count": null,
   "id": "d70e024e-fadf-4da5-abf2-1ffb594df6f5",
   "metadata": {},
   "outputs": [],
   "source": []
  }
 ],
 "metadata": {
  "kernelspec": {
   "display_name": "Julia 1.6.2",
   "language": "julia",
   "name": "julia-1.6"
  },
  "language_info": {
   "file_extension": ".jl",
   "mimetype": "application/julia",
   "name": "julia",
   "version": "1.6.2"
  }
 },
 "nbformat": 4,
 "nbformat_minor": 5
}
