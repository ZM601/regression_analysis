{
 "cells": [
  {
   "cell_type": "markdown",
   "id": "4d277756-e755-426a-b09c-39ff68cdc53d",
   "metadata": {},
   "source": [
    "# load data"
   ]
  },
  {
   "cell_type": "code",
   "execution_count": 1,
   "id": "f3249ce0-2bc3-46f4-b35b-42fac0d301b6",
   "metadata": {},
   "outputs": [],
   "source": [
    "use CRIME4.dta, clear"
   ]
  },
  {
   "cell_type": "code",
   "execution_count": 2,
   "id": "7f8a7112-5a05-46b2-9b6c-75c6e6283041",
   "metadata": {},
   "outputs": [
    {
     "name": "stdout",
     "output_type": "stream",
     "text": [
      "\n",
      "Contains data from CRIME4.dta\n",
      "  obs:           630                          \n",
      " vars:            59                          17 Aug 1999 13:52\n",
      " size:       128,520                          \n",
      "--------------------------------------------------------------------------------\n",
      "              storage   display    value\n",
      "variable name   type    format     label      variable label\n",
      "--------------------------------------------------------------------------------\n",
      "county          int     %9.0g                 county identifier\n",
      "year            byte    %9.0g                 81 to 87\n",
      "crmrte          float   %9.0g                 crimes committed per person\n",
      "prbarr          float   %9.0g                 'probability' of arrest\n",
      "prbconv         float   %9.0g                 'probability' of conviction\n",
      "prbpris         float   %9.0g                 'probability' of prison sentenc\n",
      "avgsen          float   %9.0g                 avg. sentence, days\n",
      "polpc           float   %9.0g                 police per capita\n",
      "density         float   %9.0g                 people per sq. mile\n",
      "taxpc           float   %9.0g                 tax revenue per capita\n",
      "west            byte    %9.0g                 =1 if in western N.C.\n",
      "central         byte    %9.0g                 =1 if in central N.C.\n",
      "urban           byte    %9.0g                 =1 if in SMSA\n",
      "pctmin80        float   %9.0g                 perc. minority, 1980\n",
      "wcon            float   %9.0g                 weekly wage, construction\n",
      "wtuc            float   %9.0g                 wkly wge, trns, util, commun\n",
      "wtrd            float   %9.0g                 wkly wge, whlesle, retail trade\n",
      "wfir            float   %9.0g                 wkly wge, fin, ins, real est\n",
      "wser            float   %9.0g                 wkly wge, service industry\n",
      "wmfg            float   %9.0g                 wkly wge, manufacturing\n",
      "wfed            float   %9.0g                 wkly wge, fed employees\n",
      "wsta            float   %9.0g                 wkly wge, state employees\n",
      "wloc            float   %9.0g                 wkly wge, local gov emps\n",
      "mix             float   %9.0g                 offense mix: face-to-face/other\n",
      "pctymle         float   %9.0g                 percent young male\n",
      "d82             byte    %9.0g                 =1 if year == 82\n",
      "d83             byte    %9.0g                 =1 if year == 83\n",
      "d84             byte    %9.0g                 =1 if year == 84\n",
      "d85             byte    %9.0g                 =1 if year == 85\n",
      "d86             byte    %9.0g                 =1 if year == 86\n",
      "d87             byte    %9.0g                 =1 if year == 87\n",
      "lcrmrte         float   %9.0g                 log(crmrte)\n",
      "lprbarr         float   %9.0g                 log(prbarr)\n",
      "lprbconv        float   %9.0g                 log(prbconv)\n",
      "lprbpris        float   %9.0g                 log(prbpris)\n",
      "lavgsen         float   %9.0g                 log(avgsen)\n",
      "lpolpc          float   %9.0g                 log(polpc)\n",
      "ldensity        float   %9.0g                 log(density)\n",
      "ltaxpc          float   %9.0g                 log(taxpc)\n",
      "lwcon           float   %9.0g                 log(wcon)\n",
      "lwtuc           float   %9.0g                 log(wtuc)\n",
      "lwtrd           float   %9.0g                 log(wtrd)\n",
      "lwfir           float   %9.0g                 log(wfir)\n",
      "lwser           float   %9.0g                 log(wser)\n",
      "lwmfg           float   %9.0g                 log(wmfg)\n",
      "lwfed           float   %9.0g                 log(wfed)\n",
      "lwsta           float   %9.0g                 log(wsta)\n",
      "lwloc           float   %9.0g                 log(wloc)\n",
      "lmix            float   %9.0g                 log(mix)\n",
      "lpctymle        float   %9.0g                 log(pctymle)\n",
      "lpctmin         float   %9.0g                 log(pctmin)\n",
      "clcrmrte        float   %9.0g                 lcrmrte - lcrmrte[_n-1]\n",
      "clprbarr        float   %9.0g                 lprbarr - lprbarr[_n-1]\n",
      "clprbcon        float   %9.0g                 lprbconv - lprbconv[_n-1]\n",
      "clprbpri        float   %9.0g                 lprbpri - lprbpri[t-1]\n",
      "clavgsen        float   %9.0g                 lavgsen - lavgsen[t-1]\n",
      "clpolpc         float   %9.0g                 lpolpc - lpolpc[t-1]\n",
      "cltaxpc         float   %9.0g                 ltaxpc - ltaxpc[t-1]\n",
      "clmix           float   %9.0g                 lmix - lmix[t-1]\n",
      "--------------------------------------------------------------------------------\n",
      "Sorted by: county  year\n"
     ]
    }
   ],
   "source": [
    "describe"
   ]
  },
  {
   "cell_type": "code",
   "execution_count": 3,
   "id": "a8a96df0-68ac-4d99-b233-031ccfbd8874",
   "metadata": {},
   "outputs": [
    {
     "name": "stdout",
     "output_type": "stream",
     "text": [
      "county    density   wtrd      pctymle   lprbarr   lwtuc     lmix      clpolpc\n",
      "year      taxpc     wfir      d82       lprbconv  lwtrd     lpctymle  cltaxpc\n",
      "crmrte    west      wser      d83       lprbpris  lwfir     lpctmin   clmix\n",
      "prbarr    central   wmfg      d84       lavgsen   lwser     clcrmrte\n",
      "prbconv   urban     wfed      d85       lpolpc    lwmfg     clprbarr\n",
      "prbpris   pctmin80  wsta      d86       ldensity  lwfed     clprbcon\n",
      "avgsen    wcon      wloc      d87       ltaxpc    lwsta     clprbpri\n",
      "polpc     wtuc      mix       lcrmrte   lwcon     lwloc     clavgsen\n"
     ]
    }
   ],
   "source": [
    "ds"
   ]
  },
  {
   "cell_type": "markdown",
   "id": "ef4bfbf3-fa2c-4fe4-a436-fc8e96ab5c0d",
   "metadata": {},
   "source": [
    "# keep observations before 1984"
   ]
  },
  {
   "cell_type": "code",
   "execution_count": 4,
   "id": "78924cb9-0386-4286-b65d-553d13233a4c",
   "metadata": {},
   "outputs": [
    {
     "name": "stdout",
     "output_type": "stream",
     "text": [
      "(270 observations deleted)\n"
     ]
    }
   ],
   "source": [
    "keep if year <=84"
   ]
  },
  {
   "cell_type": "code",
   "execution_count": 5,
   "id": "68a72cea-419d-446b-a1cb-6e2962bac05f",
   "metadata": {},
   "outputs": [
    {
     "name": "stdout",
     "output_type": "stream",
     "text": [
      "(bin=18, start=81, width=.16666667)\n"
     ]
    },
    {
     "data": {
      "application/pdf": "[encoded data removed]",
      "image/svg+xml": [
       "<?xml version=\"1.0\" encoding=\"UTF-8\" standalone=\"no\"?>\n",
       "<!-- This is a Stata 14.2 generated SVG file (http://www.stata.com) -->\n",
       "\n",
       "<svg version=\"1.1\" width=\"600px\" height=\"436px\" viewBox=\"0 0 3960 2880\" xmlns=\"http://www.w3.org/2000/svg\">\n",
       "\t<desc>Stata Graph - Graph</desc>\n",
       "\t<rect x=\"0.00\" y=\"0.00\" width=\"3959.88\" height=\"2880.00\" style=\"fill:#EAF2F3;stroke:#EAF2F3;stroke-width:5.76\"/>\n",
       "\t<rect x=\"390.80\" y=\"100.86\" width=\"3468.22\" height=\"2388.33\" style=\"fill:#FFFFFF;stroke:#FFFFFF;stroke-width:5.76\"/>\n",
       "\t<line x1=\"390.80\" y1=\"2489.19\" x2=\"3859.02\" y2=\"2489.19\" style=\"stroke:#EAF2F3;stroke-width:8.64\"/>\n",
       "\t<line x1=\"390.80\" y1=\"1714.24\" x2=\"3859.02\" y2=\"1714.24\" style=\"stroke:#EAF2F3;stroke-width:8.64\"/>\n",
       "\t<line x1=\"390.80\" y1=\"939.17\" x2=\"3859.02\" y2=\"939.17\" style=\"stroke:#EAF2F3;stroke-width:8.64\"/>\n",
       "\t<line x1=\"390.80\" y1=\"164.22\" x2=\"3859.02\" y2=\"164.22\" style=\"stroke:#EAF2F3;stroke-width:8.64\"/>\n",
       "\t<rect x=\"544.50\" y=\"164.22\" width=\"180.55\" height=\"2324.96\" style=\"fill:#CAC27E;stroke:#D7D29E;stroke-width:8.64\"/>\n",
       "\t<rect x=\"1628.18\" y=\"164.22\" width=\"180.67\" height=\"2324.96\" style=\"fill:#CAC27E;stroke:#D7D29E;stroke-width:8.64\"/>\n",
       "\t<rect x=\"2711.98\" y=\"164.22\" width=\"180.55\" height=\"2324.96\" style=\"fill:#CAC27E;stroke:#D7D29E;stroke-width:8.64\"/>\n",
       "\t<rect x=\"3615.11\" y=\"164.22\" width=\"180.55\" height=\"2324.96\" style=\"fill:#CAC27E;stroke:#D7D29E;stroke-width:8.64\"/>\n",
       "\t<line x1=\"390.80\" y1=\"2489.19\" x2=\"390.80\" y2=\"100.86\" style=\"stroke:#000000;stroke-width:5.76\"/>\n",
       "\t<line x1=\"390.80\" y1=\"2489.19\" x2=\"350.83\" y2=\"2489.19\" style=\"stroke:#000000;stroke-width:5.76\"/>\n",
       "\t<text x=\"300.72\" y=\"2489.19\" style=\"font-family:'Helvetica';font-size:99.99px;fill:#000000\" transform=\"rotate(-90 300.72,2489.19)\" text-anchor=\"middle\">0</text>\n",
       "\t<line x1=\"390.80\" y1=\"1714.24\" x2=\"350.83\" y2=\"1714.24\" style=\"stroke:#000000;stroke-width:5.76\"/>\n",
       "\t<text x=\"300.72\" y=\"1714.24\" style=\"font-family:'Helvetica';font-size:99.99px;fill:#000000\" transform=\"rotate(-90 300.72,1714.24)\" text-anchor=\"middle\">.5</text>\n",
       "\t<line x1=\"390.80\" y1=\"939.17\" x2=\"350.83\" y2=\"939.17\" style=\"stroke:#000000;stroke-width:5.76\"/>\n",
       "\t<text x=\"300.72\" y=\"939.17\" style=\"font-family:'Helvetica';font-size:99.99px;fill:#000000\" transform=\"rotate(-90 300.72,939.17)\" text-anchor=\"middle\">1</text>\n",
       "\t<line x1=\"390.80\" y1=\"164.22\" x2=\"350.83\" y2=\"164.22\" style=\"stroke:#000000;stroke-width:5.76\"/>\n",
       "\t<text x=\"300.72\" y=\"164.22\" style=\"font-family:'Helvetica';font-size:99.99px;fill:#000000\" transform=\"rotate(-90 300.72,164.22)\" text-anchor=\"middle\">1.5</text>\n",
       "\t<text x=\"190.71\" y=\"1294.96\" style=\"font-family:'Helvetica';font-size:99.99px;fill:#000000\" transform=\"rotate(-90 190.71,1294.96)\" text-anchor=\"middle\">Density</text>\n",
       "\t<line x1=\"390.80\" y1=\"2489.19\" x2=\"3859.02\" y2=\"2489.19\" style=\"stroke:#000000;stroke-width:5.76\"/>\n",
       "\t<line x1=\"544.50\" y1=\"2489.19\" x2=\"544.50\" y2=\"2529.16\" style=\"stroke:#000000;stroke-width:5.76\"/>\n",
       "\t<text x=\"544.50\" y=\"2619.14\" style=\"font-family:'Helvetica';font-size:99.99px;fill:#000000\" text-anchor=\"middle\">81</text>\n",
       "\t<line x1=\"1628.18\" y1=\"2489.19\" x2=\"1628.18\" y2=\"2529.16\" style=\"stroke:#000000;stroke-width:5.76\"/>\n",
       "\t<text x=\"1628.18\" y=\"2619.14\" style=\"font-family:'Helvetica';font-size:99.99px;fill:#000000\" text-anchor=\"middle\">82</text>\n",
       "\t<line x1=\"2711.98\" y1=\"2489.19\" x2=\"2711.98\" y2=\"2529.16\" style=\"stroke:#000000;stroke-width:5.76\"/>\n",
       "\t<text x=\"2711.98\" y=\"2619.14\" style=\"font-family:'Helvetica';font-size:99.99px;fill:#000000\" text-anchor=\"middle\">83</text>\n",
       "\t<line x1=\"3795.66\" y1=\"2489.19\" x2=\"3795.66\" y2=\"2529.16\" style=\"stroke:#000000;stroke-width:5.76\"/>\n",
       "\t<text x=\"3795.66\" y=\"2619.14\" style=\"font-family:'Helvetica';font-size:99.99px;fill:#000000\" text-anchor=\"middle\">84</text>\n",
       "\t<text x=\"2124.91\" y=\"2729.16\" style=\"font-family:'Helvetica';font-size:99.99px;fill:#000000\" text-anchor=\"middle\">81 to 87</text>\n",
       "</svg>\n"
      ],
      "text/html": [
       "                <iframe frameborder=\"0\" scrolling=\"no\" height=\"436\" width=\"600\"                srcdoc=\"<html><body>&lt;?xml version=&quot;1.0&quot; encoding=&quot;UTF-8&quot; standalone=&quot;no&quot;?&gt;\n",
       "&lt;!-- This is a Stata 14.2 generated SVG file (http://www.stata.com) --&gt;\n",
       "\n",
       "&lt;svg version=&quot;1.1&quot; width=&quot;600px&quot; height=&quot;436px&quot; viewBox=&quot;0 0 3960 2880&quot; xmlns=&quot;http://www.w3.org/2000/svg&quot;&gt;\n",
       "\t&lt;desc&gt;Stata Graph - Graph&lt;/desc&gt;\n",
       "\t&lt;rect x=&quot;0.00&quot; y=&quot;0.00&quot; width=&quot;3959.88&quot; height=&quot;2880.00&quot; style=&quot;fill:#EAF2F3;stroke:#EAF2F3;stroke-width:5.76&quot;/&gt;\n",
       "\t&lt;rect x=&quot;390.80&quot; y=&quot;100.86&quot; width=&quot;3468.22&quot; height=&quot;2388.33&quot; style=&quot;fill:#FFFFFF;stroke:#FFFFFF;stroke-width:5.76&quot;/&gt;\n",
       "\t&lt;line x1=&quot;390.80&quot; y1=&quot;2489.19&quot; x2=&quot;3859.02&quot; y2=&quot;2489.19&quot; style=&quot;stroke:#EAF2F3;stroke-width:8.64&quot;/&gt;\n",
       "\t&lt;line x1=&quot;390.80&quot; y1=&quot;1714.24&quot; x2=&quot;3859.02&quot; y2=&quot;1714.24&quot; style=&quot;stroke:#EAF2F3;stroke-width:8.64&quot;/&gt;\n",
       "\t&lt;line x1=&quot;390.80&quot; y1=&quot;939.17&quot; x2=&quot;3859.02&quot; y2=&quot;939.17&quot; style=&quot;stroke:#EAF2F3;stroke-width:8.64&quot;/&gt;\n",
       "\t&lt;line x1=&quot;390.80&quot; y1=&quot;164.22&quot; x2=&quot;3859.02&quot; y2=&quot;164.22&quot; style=&quot;stroke:#EAF2F3;stroke-width:8.64&quot;/&gt;\n",
       "\t&lt;rect x=&quot;544.50&quot; y=&quot;164.22&quot; width=&quot;180.55&quot; height=&quot;2324.96&quot; style=&quot;fill:#CAC27E;stroke:#D7D29E;stroke-width:8.64&quot;/&gt;\n",
       "\t&lt;rect x=&quot;1628.18&quot; y=&quot;164.22&quot; width=&quot;180.67&quot; height=&quot;2324.96&quot; style=&quot;fill:#CAC27E;stroke:#D7D29E;stroke-width:8.64&quot;/&gt;\n",
       "\t&lt;rect x=&quot;2711.98&quot; y=&quot;164.22&quot; width=&quot;180.55&quot; height=&quot;2324.96&quot; style=&quot;fill:#CAC27E;stroke:#D7D29E;stroke-width:8.64&quot;/&gt;\n",
       "\t&lt;rect x=&quot;3615.11&quot; y=&quot;164.22&quot; width=&quot;180.55&quot; height=&quot;2324.96&quot; style=&quot;fill:#CAC27E;stroke:#D7D29E;stroke-width:8.64&quot;/&gt;\n",
       "\t&lt;line x1=&quot;390.80&quot; y1=&quot;2489.19&quot; x2=&quot;390.80&quot; y2=&quot;100.86&quot; style=&quot;stroke:#000000;stroke-width:5.76&quot;/&gt;\n",
       "\t&lt;line x1=&quot;390.80&quot; y1=&quot;2489.19&quot; x2=&quot;350.83&quot; y2=&quot;2489.19&quot; style=&quot;stroke:#000000;stroke-width:5.76&quot;/&gt;\n",
       "\t&lt;text x=&quot;300.72&quot; y=&quot;2489.19&quot; style=&quot;font-family:&#x27;Helvetica&#x27;;font-size:99.99px;fill:#000000&quot; transform=&quot;rotate(-90 300.72,2489.19)&quot; text-anchor=&quot;middle&quot;&gt;0&lt;/text&gt;\n",
       "\t&lt;line x1=&quot;390.80&quot; y1=&quot;1714.24&quot; x2=&quot;350.83&quot; y2=&quot;1714.24&quot; style=&quot;stroke:#000000;stroke-width:5.76&quot;/&gt;\n",
       "\t&lt;text x=&quot;300.72&quot; y=&quot;1714.24&quot; style=&quot;font-family:&#x27;Helvetica&#x27;;font-size:99.99px;fill:#000000&quot; transform=&quot;rotate(-90 300.72,1714.24)&quot; text-anchor=&quot;middle&quot;&gt;.5&lt;/text&gt;\n",
       "\t&lt;line x1=&quot;390.80&quot; y1=&quot;939.17&quot; x2=&quot;350.83&quot; y2=&quot;939.17&quot; style=&quot;stroke:#000000;stroke-width:5.76&quot;/&gt;\n",
       "\t&lt;text x=&quot;300.72&quot; y=&quot;939.17&quot; style=&quot;font-family:&#x27;Helvetica&#x27;;font-size:99.99px;fill:#000000&quot; transform=&quot;rotate(-90 300.72,939.17)&quot; text-anchor=&quot;middle&quot;&gt;1&lt;/text&gt;\n",
       "\t&lt;line x1=&quot;390.80&quot; y1=&quot;164.22&quot; x2=&quot;350.83&quot; y2=&quot;164.22&quot; style=&quot;stroke:#000000;stroke-width:5.76&quot;/&gt;\n",
       "\t&lt;text x=&quot;300.72&quot; y=&quot;164.22&quot; style=&quot;font-family:&#x27;Helvetica&#x27;;font-size:99.99px;fill:#000000&quot; transform=&quot;rotate(-90 300.72,164.22)&quot; text-anchor=&quot;middle&quot;&gt;1.5&lt;/text&gt;\n",
       "\t&lt;text x=&quot;190.71&quot; y=&quot;1294.96&quot; style=&quot;font-family:&#x27;Helvetica&#x27;;font-size:99.99px;fill:#000000&quot; transform=&quot;rotate(-90 190.71,1294.96)&quot; text-anchor=&quot;middle&quot;&gt;Density&lt;/text&gt;\n",
       "\t&lt;line x1=&quot;390.80&quot; y1=&quot;2489.19&quot; x2=&quot;3859.02&quot; y2=&quot;2489.19&quot; style=&quot;stroke:#000000;stroke-width:5.76&quot;/&gt;\n",
       "\t&lt;line x1=&quot;544.50&quot; y1=&quot;2489.19&quot; x2=&quot;544.50&quot; y2=&quot;2529.16&quot; style=&quot;stroke:#000000;stroke-width:5.76&quot;/&gt;\n",
       "\t&lt;text x=&quot;544.50&quot; y=&quot;2619.14&quot; style=&quot;font-family:&#x27;Helvetica&#x27;;font-size:99.99px;fill:#000000&quot; text-anchor=&quot;middle&quot;&gt;81&lt;/text&gt;\n",
       "\t&lt;line x1=&quot;1628.18&quot; y1=&quot;2489.19&quot; x2=&quot;1628.18&quot; y2=&quot;2529.16&quot; style=&quot;stroke:#000000;stroke-width:5.76&quot;/&gt;\n",
       "\t&lt;text x=&quot;1628.18&quot; y=&quot;2619.14&quot; style=&quot;font-family:&#x27;Helvetica&#x27;;font-size:99.99px;fill:#000000&quot; text-anchor=&quot;middle&quot;&gt;82&lt;/text&gt;\n",
       "\t&lt;line x1=&quot;2711.98&quot; y1=&quot;2489.19&quot; x2=&quot;2711.98&quot; y2=&quot;2529.16&quot; style=&quot;stroke:#000000;stroke-width:5.76&quot;/&gt;\n",
       "\t&lt;text x=&quot;2711.98&quot; y=&quot;2619.14&quot; style=&quot;font-family:&#x27;Helvetica&#x27;;font-size:99.99px;fill:#000000&quot; text-anchor=&quot;middle&quot;&gt;83&lt;/text&gt;\n",
       "\t&lt;line x1=&quot;3795.66&quot; y1=&quot;2489.19&quot; x2=&quot;3795.66&quot; y2=&quot;2529.16&quot; style=&quot;stroke:#000000;stroke-width:5.76&quot;/&gt;\n",
       "\t&lt;text x=&quot;3795.66&quot; y=&quot;2619.14&quot; style=&quot;font-family:&#x27;Helvetica&#x27;;font-size:99.99px;fill:#000000&quot; text-anchor=&quot;middle&quot;&gt;84&lt;/text&gt;\n",
       "\t&lt;text x=&quot;2124.91&quot; y=&quot;2729.16&quot; style=&quot;font-family:&#x27;Helvetica&#x27;;font-size:99.99px;fill:#000000&quot; text-anchor=&quot;middle&quot;&gt;81 to 87&lt;/text&gt;\n",
       "&lt;/svg&gt;\n",
       "</body></html>\"></iframe>\n"
      ],
      "text/plain": [
       "This front-end cannot display the desired image type."
      ]
     },
     "metadata": {
      "image/svg+xml": {
       "height": 436,
       "width": 600
      },
      "text/html": {
       "height": 436,
       "width": 600
      }
     },
     "output_type": "display_data"
    },
    {
     "name": "stdout",
     "output_type": "stream",
     "text": [
      "\n"
     ]
    }
   ],
   "source": [
    "hist year"
   ]
  },
  {
   "cell_type": "markdown",
   "id": "32c18b4b-3b49-48e7-bf74-dd24c2428b7a",
   "metadata": {},
   "source": [
    "# keep observations after 1984"
   ]
  },
  {
   "cell_type": "code",
   "execution_count": 6,
   "id": "c10258d2-6019-4a3e-a8ac-fee080d13bcf",
   "metadata": {},
   "outputs": [
    {
     "name": "stdout",
     "output_type": "stream",
     "text": [
      "\n",
      "\n",
      "       panel variable:  county (strongly balanced)\n",
      "        time variable:  year, 81 to 87\n",
      "                delta:  1 unit\n",
      "\n",
      "(270 observations deleted)\n",
      "\n",
      "(bin=18, start=84, width=.16666667)\n"
     ]
    },
    {
     "data": {
      "application/pdf": "[encoded data removed]",
      "image/svg+xml": [
       "<?xml version=\"1.0\" encoding=\"UTF-8\" standalone=\"no\"?>\n",
       "<!-- This is a Stata 14.2 generated SVG file (http://www.stata.com) -->\n",
       "\n",
       "<svg version=\"1.1\" width=\"600px\" height=\"436px\" viewBox=\"0 0 3960 2880\" xmlns=\"http://www.w3.org/2000/svg\">\n",
       "\t<desc>Stata Graph - Graph</desc>\n",
       "\t<rect x=\"0.00\" y=\"0.00\" width=\"3959.88\" height=\"2880.00\" style=\"fill:#EAF2F3;stroke:#EAF2F3;stroke-width:5.76\"/>\n",
       "\t<rect x=\"390.80\" y=\"100.86\" width=\"3468.22\" height=\"2388.33\" style=\"fill:#FFFFFF;stroke:#FFFFFF;stroke-width:5.76\"/>\n",
       "\t<line x1=\"390.80\" y1=\"2489.19\" x2=\"3859.02\" y2=\"2489.19\" style=\"stroke:#EAF2F3;stroke-width:8.64\"/>\n",
       "\t<line x1=\"390.80\" y1=\"1714.24\" x2=\"3859.02\" y2=\"1714.24\" style=\"stroke:#EAF2F3;stroke-width:8.64\"/>\n",
       "\t<line x1=\"390.80\" y1=\"939.17\" x2=\"3859.02\" y2=\"939.17\" style=\"stroke:#EAF2F3;stroke-width:8.64\"/>\n",
       "\t<line x1=\"390.80\" y1=\"164.22\" x2=\"3859.02\" y2=\"164.22\" style=\"stroke:#EAF2F3;stroke-width:8.64\"/>\n",
       "\t<rect x=\"544.50\" y=\"164.22\" width=\"180.55\" height=\"2324.96\" style=\"fill:#CAC27E;stroke:#D7D29E;stroke-width:8.64\"/>\n",
       "\t<rect x=\"1628.18\" y=\"164.22\" width=\"180.67\" height=\"2324.96\" style=\"fill:#CAC27E;stroke:#D7D29E;stroke-width:8.64\"/>\n",
       "\t<rect x=\"2711.98\" y=\"164.22\" width=\"180.55\" height=\"2324.96\" style=\"fill:#CAC27E;stroke:#D7D29E;stroke-width:8.64\"/>\n",
       "\t<rect x=\"3615.11\" y=\"164.22\" width=\"180.55\" height=\"2324.96\" style=\"fill:#CAC27E;stroke:#D7D29E;stroke-width:8.64\"/>\n",
       "\t<line x1=\"390.80\" y1=\"2489.19\" x2=\"390.80\" y2=\"100.86\" style=\"stroke:#000000;stroke-width:5.76\"/>\n",
       "\t<line x1=\"390.80\" y1=\"2489.19\" x2=\"350.83\" y2=\"2489.19\" style=\"stroke:#000000;stroke-width:5.76\"/>\n",
       "\t<text x=\"300.72\" y=\"2489.19\" style=\"font-family:'Helvetica';font-size:99.99px;fill:#000000\" transform=\"rotate(-90 300.72,2489.19)\" text-anchor=\"middle\">0</text>\n",
       "\t<line x1=\"390.80\" y1=\"1714.24\" x2=\"350.83\" y2=\"1714.24\" style=\"stroke:#000000;stroke-width:5.76\"/>\n",
       "\t<text x=\"300.72\" y=\"1714.24\" style=\"font-family:'Helvetica';font-size:99.99px;fill:#000000\" transform=\"rotate(-90 300.72,1714.24)\" text-anchor=\"middle\">.5</text>\n",
       "\t<line x1=\"390.80\" y1=\"939.17\" x2=\"350.83\" y2=\"939.17\" style=\"stroke:#000000;stroke-width:5.76\"/>\n",
       "\t<text x=\"300.72\" y=\"939.17\" style=\"font-family:'Helvetica';font-size:99.99px;fill:#000000\" transform=\"rotate(-90 300.72,939.17)\" text-anchor=\"middle\">1</text>\n",
       "\t<line x1=\"390.80\" y1=\"164.22\" x2=\"350.83\" y2=\"164.22\" style=\"stroke:#000000;stroke-width:5.76\"/>\n",
       "\t<text x=\"300.72\" y=\"164.22\" style=\"font-family:'Helvetica';font-size:99.99px;fill:#000000\" transform=\"rotate(-90 300.72,164.22)\" text-anchor=\"middle\">1.5</text>\n",
       "\t<text x=\"190.71\" y=\"1294.96\" style=\"font-family:'Helvetica';font-size:99.99px;fill:#000000\" transform=\"rotate(-90 190.71,1294.96)\" text-anchor=\"middle\">Density</text>\n",
       "\t<line x1=\"390.80\" y1=\"2489.19\" x2=\"3859.02\" y2=\"2489.19\" style=\"stroke:#000000;stroke-width:5.76\"/>\n",
       "\t<line x1=\"544.50\" y1=\"2489.19\" x2=\"544.50\" y2=\"2529.16\" style=\"stroke:#000000;stroke-width:5.76\"/>\n",
       "\t<text x=\"544.50\" y=\"2619.14\" style=\"font-family:'Helvetica';font-size:99.99px;fill:#000000\" text-anchor=\"middle\">84</text>\n",
       "\t<line x1=\"1628.18\" y1=\"2489.19\" x2=\"1628.18\" y2=\"2529.16\" style=\"stroke:#000000;stroke-width:5.76\"/>\n",
       "\t<text x=\"1628.18\" y=\"2619.14\" style=\"font-family:'Helvetica';font-size:99.99px;fill:#000000\" text-anchor=\"middle\">85</text>\n",
       "\t<line x1=\"2711.98\" y1=\"2489.19\" x2=\"2711.98\" y2=\"2529.16\" style=\"stroke:#000000;stroke-width:5.76\"/>\n",
       "\t<text x=\"2711.98\" y=\"2619.14\" style=\"font-family:'Helvetica';font-size:99.99px;fill:#000000\" text-anchor=\"middle\">86</text>\n",
       "\t<line x1=\"3795.66\" y1=\"2489.19\" x2=\"3795.66\" y2=\"2529.16\" style=\"stroke:#000000;stroke-width:5.76\"/>\n",
       "\t<text x=\"3795.66\" y=\"2619.14\" style=\"font-family:'Helvetica';font-size:99.99px;fill:#000000\" text-anchor=\"middle\">87</text>\n",
       "\t<text x=\"2124.91\" y=\"2729.16\" style=\"font-family:'Helvetica';font-size:99.99px;fill:#000000\" text-anchor=\"middle\">81 to 87</text>\n",
       "</svg>\n"
      ],
      "text/html": [
       "                <iframe frameborder=\"0\" scrolling=\"no\" height=\"436\" width=\"600\"                srcdoc=\"<html><body>&lt;?xml version=&quot;1.0&quot; encoding=&quot;UTF-8&quot; standalone=&quot;no&quot;?&gt;\n",
       "&lt;!-- This is a Stata 14.2 generated SVG file (http://www.stata.com) --&gt;\n",
       "\n",
       "&lt;svg version=&quot;1.1&quot; width=&quot;600px&quot; height=&quot;436px&quot; viewBox=&quot;0 0 3960 2880&quot; xmlns=&quot;http://www.w3.org/2000/svg&quot;&gt;\n",
       "\t&lt;desc&gt;Stata Graph - Graph&lt;/desc&gt;\n",
       "\t&lt;rect x=&quot;0.00&quot; y=&quot;0.00&quot; width=&quot;3959.88&quot; height=&quot;2880.00&quot; style=&quot;fill:#EAF2F3;stroke:#EAF2F3;stroke-width:5.76&quot;/&gt;\n",
       "\t&lt;rect x=&quot;390.80&quot; y=&quot;100.86&quot; width=&quot;3468.22&quot; height=&quot;2388.33&quot; style=&quot;fill:#FFFFFF;stroke:#FFFFFF;stroke-width:5.76&quot;/&gt;\n",
       "\t&lt;line x1=&quot;390.80&quot; y1=&quot;2489.19&quot; x2=&quot;3859.02&quot; y2=&quot;2489.19&quot; style=&quot;stroke:#EAF2F3;stroke-width:8.64&quot;/&gt;\n",
       "\t&lt;line x1=&quot;390.80&quot; y1=&quot;1714.24&quot; x2=&quot;3859.02&quot; y2=&quot;1714.24&quot; style=&quot;stroke:#EAF2F3;stroke-width:8.64&quot;/&gt;\n",
       "\t&lt;line x1=&quot;390.80&quot; y1=&quot;939.17&quot; x2=&quot;3859.02&quot; y2=&quot;939.17&quot; style=&quot;stroke:#EAF2F3;stroke-width:8.64&quot;/&gt;\n",
       "\t&lt;line x1=&quot;390.80&quot; y1=&quot;164.22&quot; x2=&quot;3859.02&quot; y2=&quot;164.22&quot; style=&quot;stroke:#EAF2F3;stroke-width:8.64&quot;/&gt;\n",
       "\t&lt;rect x=&quot;544.50&quot; y=&quot;164.22&quot; width=&quot;180.55&quot; height=&quot;2324.96&quot; style=&quot;fill:#CAC27E;stroke:#D7D29E;stroke-width:8.64&quot;/&gt;\n",
       "\t&lt;rect x=&quot;1628.18&quot; y=&quot;164.22&quot; width=&quot;180.67&quot; height=&quot;2324.96&quot; style=&quot;fill:#CAC27E;stroke:#D7D29E;stroke-width:8.64&quot;/&gt;\n",
       "\t&lt;rect x=&quot;2711.98&quot; y=&quot;164.22&quot; width=&quot;180.55&quot; height=&quot;2324.96&quot; style=&quot;fill:#CAC27E;stroke:#D7D29E;stroke-width:8.64&quot;/&gt;\n",
       "\t&lt;rect x=&quot;3615.11&quot; y=&quot;164.22&quot; width=&quot;180.55&quot; height=&quot;2324.96&quot; style=&quot;fill:#CAC27E;stroke:#D7D29E;stroke-width:8.64&quot;/&gt;\n",
       "\t&lt;line x1=&quot;390.80&quot; y1=&quot;2489.19&quot; x2=&quot;390.80&quot; y2=&quot;100.86&quot; style=&quot;stroke:#000000;stroke-width:5.76&quot;/&gt;\n",
       "\t&lt;line x1=&quot;390.80&quot; y1=&quot;2489.19&quot; x2=&quot;350.83&quot; y2=&quot;2489.19&quot; style=&quot;stroke:#000000;stroke-width:5.76&quot;/&gt;\n",
       "\t&lt;text x=&quot;300.72&quot; y=&quot;2489.19&quot; style=&quot;font-family:&#x27;Helvetica&#x27;;font-size:99.99px;fill:#000000&quot; transform=&quot;rotate(-90 300.72,2489.19)&quot; text-anchor=&quot;middle&quot;&gt;0&lt;/text&gt;\n",
       "\t&lt;line x1=&quot;390.80&quot; y1=&quot;1714.24&quot; x2=&quot;350.83&quot; y2=&quot;1714.24&quot; style=&quot;stroke:#000000;stroke-width:5.76&quot;/&gt;\n",
       "\t&lt;text x=&quot;300.72&quot; y=&quot;1714.24&quot; style=&quot;font-family:&#x27;Helvetica&#x27;;font-size:99.99px;fill:#000000&quot; transform=&quot;rotate(-90 300.72,1714.24)&quot; text-anchor=&quot;middle&quot;&gt;.5&lt;/text&gt;\n",
       "\t&lt;line x1=&quot;390.80&quot; y1=&quot;939.17&quot; x2=&quot;350.83&quot; y2=&quot;939.17&quot; style=&quot;stroke:#000000;stroke-width:5.76&quot;/&gt;\n",
       "\t&lt;text x=&quot;300.72&quot; y=&quot;939.17&quot; style=&quot;font-family:&#x27;Helvetica&#x27;;font-size:99.99px;fill:#000000&quot; transform=&quot;rotate(-90 300.72,939.17)&quot; text-anchor=&quot;middle&quot;&gt;1&lt;/text&gt;\n",
       "\t&lt;line x1=&quot;390.80&quot; y1=&quot;164.22&quot; x2=&quot;350.83&quot; y2=&quot;164.22&quot; style=&quot;stroke:#000000;stroke-width:5.76&quot;/&gt;\n",
       "\t&lt;text x=&quot;300.72&quot; y=&quot;164.22&quot; style=&quot;font-family:&#x27;Helvetica&#x27;;font-size:99.99px;fill:#000000&quot; transform=&quot;rotate(-90 300.72,164.22)&quot; text-anchor=&quot;middle&quot;&gt;1.5&lt;/text&gt;\n",
       "\t&lt;text x=&quot;190.71&quot; y=&quot;1294.96&quot; style=&quot;font-family:&#x27;Helvetica&#x27;;font-size:99.99px;fill:#000000&quot; transform=&quot;rotate(-90 190.71,1294.96)&quot; text-anchor=&quot;middle&quot;&gt;Density&lt;/text&gt;\n",
       "\t&lt;line x1=&quot;390.80&quot; y1=&quot;2489.19&quot; x2=&quot;3859.02&quot; y2=&quot;2489.19&quot; style=&quot;stroke:#000000;stroke-width:5.76&quot;/&gt;\n",
       "\t&lt;line x1=&quot;544.50&quot; y1=&quot;2489.19&quot; x2=&quot;544.50&quot; y2=&quot;2529.16&quot; style=&quot;stroke:#000000;stroke-width:5.76&quot;/&gt;\n",
       "\t&lt;text x=&quot;544.50&quot; y=&quot;2619.14&quot; style=&quot;font-family:&#x27;Helvetica&#x27;;font-size:99.99px;fill:#000000&quot; text-anchor=&quot;middle&quot;&gt;84&lt;/text&gt;\n",
       "\t&lt;line x1=&quot;1628.18&quot; y1=&quot;2489.19&quot; x2=&quot;1628.18&quot; y2=&quot;2529.16&quot; style=&quot;stroke:#000000;stroke-width:5.76&quot;/&gt;\n",
       "\t&lt;text x=&quot;1628.18&quot; y=&quot;2619.14&quot; style=&quot;font-family:&#x27;Helvetica&#x27;;font-size:99.99px;fill:#000000&quot; text-anchor=&quot;middle&quot;&gt;85&lt;/text&gt;\n",
       "\t&lt;line x1=&quot;2711.98&quot; y1=&quot;2489.19&quot; x2=&quot;2711.98&quot; y2=&quot;2529.16&quot; style=&quot;stroke:#000000;stroke-width:5.76&quot;/&gt;\n",
       "\t&lt;text x=&quot;2711.98&quot; y=&quot;2619.14&quot; style=&quot;font-family:&#x27;Helvetica&#x27;;font-size:99.99px;fill:#000000&quot; text-anchor=&quot;middle&quot;&gt;86&lt;/text&gt;\n",
       "\t&lt;line x1=&quot;3795.66&quot; y1=&quot;2489.19&quot; x2=&quot;3795.66&quot; y2=&quot;2529.16&quot; style=&quot;stroke:#000000;stroke-width:5.76&quot;/&gt;\n",
       "\t&lt;text x=&quot;3795.66&quot; y=&quot;2619.14&quot; style=&quot;font-family:&#x27;Helvetica&#x27;;font-size:99.99px;fill:#000000&quot; text-anchor=&quot;middle&quot;&gt;87&lt;/text&gt;\n",
       "\t&lt;text x=&quot;2124.91&quot; y=&quot;2729.16&quot; style=&quot;font-family:&#x27;Helvetica&#x27;;font-size:99.99px;fill:#000000&quot; text-anchor=&quot;middle&quot;&gt;81 to 87&lt;/text&gt;\n",
       "&lt;/svg&gt;\n",
       "</body></html>\"></iframe>\n"
      ],
      "text/plain": [
       "This front-end cannot display the desired image type."
      ]
     },
     "metadata": {
      "image/svg+xml": {
       "height": 436,
       "width": 600
      },
      "text/html": {
       "height": 436,
       "width": 600
      }
     },
     "output_type": "display_data"
    },
    {
     "name": "stdout",
     "output_type": "stream",
     "text": [
      "\n"
     ]
    }
   ],
   "source": [
    "use CRIME4.dta, clear\n",
    "\n",
    "xtset county year\n",
    "\n",
    "keep if year >=84\n",
    "\n",
    "hist year"
   ]
  },
  {
   "cell_type": "markdown",
   "id": "88932936-f165-4278-88ee-97b1cbd4160f",
   "metadata": {},
   "source": [
    "# (c) POLS"
   ]
  },
  {
   "cell_type": "code",
   "execution_count": 7,
   "id": "5a4b6a19-93fc-4bb5-9669-7bd51354799f",
   "metadata": {},
   "outputs": [
    {
     "name": "stdout",
     "output_type": "stream",
     "text": [
      "\n",
      "\n",
      "      Source |       SS           df       MS      Number of obs   =       360\n",
      "-------------+----------------------------------   F(6, 353)       =     99.34\n",
      "       Model |  77.6899435         6  12.9483239   Prob > F        =    0.0000\n",
      "    Residual |  46.0116355       353  .130344576   R-squared       =    0.6280\n",
      "-------------+----------------------------------   Adj R-squared   =    0.6217\n",
      "       Total |  123.701579       359  .344572643   Root MSE        =    .36103\n",
      "\n",
      "------------------------------------------------------------------------------\n",
      "     lcrmrte |      Coef.   Std. Err.      t    P>|t|     [95% Conf. Interval]\n",
      "-------------+----------------------------------------------------------------\n",
      "     lprbarr |  -.5334847    .054792    -9.74   0.000    -.6412445   -.4257249\n",
      "    lprbconv |  -.4028035   .0365869   -11.01   0.000    -.4747593   -.3308477\n",
      "    lprbpris |   .0379085   .0897225     0.42   0.673    -.1385494    .2143665\n",
      "     lavgsen |  -.0715123    .073233    -0.98   0.329    -.2155402    .0725156\n",
      "      lpolpc |   .3226804   .0375818     8.59   0.000      .248768    .3965928\n",
      "    ldensity |   .2523558   .0314172     8.03   0.000     .1905673    .3141444\n",
      "       _cons |   -2.31053   .2988499    -7.73   0.000     -2.89828    -1.72278\n",
      "------------------------------------------------------------------------------\n",
      "\n"
     ]
    }
   ],
   "source": [
    "reg lcrmrte lprbarr lprbconv lprbpris lavgsen lpolpc ldensity\n",
    "\n",
    "estimate store POLS"
   ]
  },
  {
   "cell_type": "markdown",
   "id": "0908b9de-9e4d-4da3-972d-bd5e787959d5",
   "metadata": {},
   "source": [
    "# (c) FE"
   ]
  },
  {
   "cell_type": "code",
   "execution_count": 8,
   "id": "05cceef6-eb9c-4a05-a92b-f083148e5afd",
   "metadata": {},
   "outputs": [
    {
     "name": "stdout",
     "output_type": "stream",
     "text": [
      "\n",
      "\n",
      "Fixed-effects (within) regression               Number of obs     =        360\n",
      "Group variable: county                          Number of groups  =         90\n",
      "\n",
      "R-sq:                                           Obs per group:\n",
      "     within  = 0.4125                                         min =          4\n",
      "     between = 0.5307                                         avg =        4.0\n",
      "     overall = 0.5099                                         max =          4\n",
      "\n",
      "                                                F(6,264)          =      30.89\n",
      "corr(u_i, Xb)  = -0.9225                        Prob > F          =     0.0000\n",
      "\n",
      "------------------------------------------------------------------------------\n",
      "     lcrmrte |      Coef.   Std. Err.      t    P>|t|     [95% Conf. Interval]\n",
      "-------------+----------------------------------------------------------------\n",
      "     lprbarr |  -.3288423   .0455337    -7.22   0.000    -.4184978   -.2391868\n",
      "    lprbconv |  -.2702464   .0287394    -9.40   0.000    -.3268339   -.2136588\n",
      "    lprbpris |  -.1984727   .0452319    -4.39   0.000     -.287534   -.1094115\n",
      "     lavgsen |  -.0519957   .0372533    -1.40   0.164    -.1253471    .0213558\n",
      "      lpolpc |   .3909318   .0358263    10.91   0.000     .3203902    .4614735\n",
      "    ldensity |   1.578019   .4365624     3.61   0.000     .7184313    2.437606\n",
      "       _cons |   -1.77081   .2287249    -7.74   0.000    -2.221167   -1.320453\n",
      "-------------+----------------------------------------------------------------\n",
      "     sigma_u |  1.0260378\n",
      "     sigma_e |  .13446039\n",
      "         rho |  .98311633   (fraction of variance due to u_i)\n",
      "------------------------------------------------------------------------------\n",
      "F test that all u_i=0: F(89, 264) = 25.63                    Prob > F = 0.0000\n",
      "\n"
     ]
    }
   ],
   "source": [
    "xtreg lcrmrte lprbarr lprbconv lprbpris lavgsen lpolpc ldensity, fe\n",
    "\n",
    "estimate store FE"
   ]
  },
  {
   "cell_type": "markdown",
   "id": "5821a2d7-e26f-4f19-990f-6757b258c914",
   "metadata": {},
   "source": [
    "# (c) RE"
   ]
  },
  {
   "cell_type": "code",
   "execution_count": 9,
   "id": "4d4cd592-51aa-48eb-ad74-424e7e25c85b",
   "metadata": {},
   "outputs": [
    {
     "name": "stdout",
     "output_type": "stream",
     "text": [
      "\n",
      "\n",
      "Random-effects GLS regression                   Number of obs     =        360\n",
      "Group variable: county                          Number of groups  =         90\n",
      "\n",
      "R-sq:                                           Obs per group:\n",
      "     within  = 0.3924                                         min =          4\n",
      "     between = 0.6114                                         avg =        4.0\n",
      "     overall = 0.5970                                         max =          4\n",
      "\n",
      "                                                Wald chi2(6)      =     318.34\n",
      "corr(u_i, X)   = 0 (assumed)                    Prob > chi2       =     0.0000\n",
      "\n",
      "------------------------------------------------------------------------------\n",
      "     lcrmrte |      Coef.   Std. Err.      z    P>|z|     [95% Conf. Interval]\n",
      "-------------+----------------------------------------------------------------\n",
      "     lprbarr |  -.3767105    .042788    -8.80   0.000    -.4605735   -.2928475\n",
      "    lprbconv |  -.2964253   .0272023   -10.90   0.000    -.3497409   -.2431098\n",
      "    lprbpris |  -.2232842   .0442442    -5.05   0.000    -.3100013   -.1365671\n",
      "     lavgsen |  -.0324455   .0367413    -0.88   0.377    -.1044572    .0395661\n",
      "      lpolpc |   .3781739   .0332737    11.37   0.000     .3129586    .4433893\n",
      "    ldensity |   .3412343   .0484976     7.04   0.000     .2461807    .4362878\n",
      "       _cons |  -1.994206   .2177367    -9.16   0.000    -2.420963    -1.56745\n",
      "-------------+----------------------------------------------------------------\n",
      "     sigma_u |  .32118688\n",
      "     sigma_e |  .13446039\n",
      "         rho |  .85087836   (fraction of variance due to u_i)\n",
      "------------------------------------------------------------------------------\n",
      "\n"
     ]
    }
   ],
   "source": [
    "xtreg lcrmrte lprbarr lprbconv lprbpris lavgsen lpolpc ldensity, re\n",
    "\n",
    "estimate store RE"
   ]
  },
  {
   "cell_type": "markdown",
   "id": "b56add95-1e7a-47b3-96a3-0246e193a957",
   "metadata": {},
   "source": [
    "# (c) FD"
   ]
  },
  {
   "cell_type": "code",
   "execution_count": 10,
   "id": "d429226d-990f-42bf-b7dc-3030cb0f1e14",
   "metadata": {},
   "outputs": [
    {
     "name": "stdout",
     "output_type": "stream",
     "text": [
      "\n",
      "\n",
      "      Source |       SS           df       MS      Number of obs   =       270\n",
      "-------------+----------------------------------   F(6, 263)       =     31.81\n",
      "       Model |  5.43997841         6  .906663068   Prob > F        =    0.0000\n",
      "    Residual |  7.49670191       263   .02850457   R-squared       =    0.4205\n",
      "-------------+----------------------------------   Adj R-squared   =    0.4073\n",
      "       Total |  12.9366803       269  .048091748   Root MSE        =    .16883\n",
      "\n",
      "------------------------------------------------------------------------------\n",
      "   D.lcrmrte |      Coef.   Std. Err.      t    P>|t|     [95% Conf. Interval]\n",
      "-------------+----------------------------------------------------------------\n",
      "     lprbarr |\n",
      "         D1. |  -.3495713   .0448818    -7.79   0.000    -.4379446   -.2611981\n",
      "             |\n",
      "    lprbconv |\n",
      "         D1. |   -.271996   .0265345   -10.25   0.000     -.324243    -.219749\n",
      "             |\n",
      "    lprbpris |\n",
      "         D1. |  -.1827888    .040141    -4.55   0.000    -.2618275   -.1037502\n",
      "             |\n",
      "     lavgsen |\n",
      "         D1. |  -.0666709   .0355779    -1.87   0.062    -.1367248    .0033829\n",
      "             |\n",
      "      lpolpc |\n",
      "         D1. |   .4061912   .0379987    10.69   0.000     .3313709    .4810115\n",
      "             |\n",
      "    ldensity |\n",
      "         D1. |   .5080202   .8059619     0.63   0.529    -1.078939    2.094979\n",
      "             |\n",
      "       _cons |   .0236431   .0135015     1.75   0.081    -.0029417     .050228\n",
      "------------------------------------------------------------------------------\n",
      "\n"
     ]
    }
   ],
   "source": [
    "reg D.lcrmrte D.lprbarr D.lprbcon D.lprbpri D.lavgsen D.lpolpc D.ldensity\n",
    "\n",
    "estimate store FD"
   ]
  },
  {
   "cell_type": "markdown",
   "id": "dce08663-28af-48d9-bd06-757a5fad4308",
   "metadata": {},
   "source": [
    "# (c) comparison table"
   ]
  },
  {
   "cell_type": "code",
   "execution_count": 11,
   "id": "ae7afd1a-21d0-4e66-92a2-4912442b2fbf",
   "metadata": {},
   "outputs": [
    {
     "name": "stdout",
     "output_type": "stream",
     "text": [
      "\n",
      "----------------------------------------------------------------------------\n",
      "                     POLS              FD              FE              RE   \n",
      "                     b/se            b/se            b/se            b/se   \n",
      "----------------------------------------------------------------------------\n",
      "lprbarr            -0.533***                       -0.329***       -0.377***\n",
      "                  (0.055)                         (0.046)         (0.043)   \n",
      "lprbconv           -0.403***                       -0.270***       -0.296***\n",
      "                  (0.037)                         (0.029)         (0.027)   \n",
      "lprbpris            0.038                          -0.198***       -0.223***\n",
      "                  (0.090)                         (0.045)         (0.044)   \n",
      "lavgsen            -0.072                          -0.052          -0.032   \n",
      "                  (0.073)                         (0.037)         (0.037)   \n",
      "lpolpc              0.323***                        0.391***        0.378***\n",
      "                  (0.038)                         (0.036)         (0.033)   \n",
      "ldensity            0.252***                        1.578***        0.341***\n",
      "                  (0.031)                         (0.437)         (0.048)   \n",
      "D.lprbarr                          -0.350***                                \n",
      "                                  (0.045)                                   \n",
      "D.lprbconv                         -0.272***                                \n",
      "                                  (0.027)                                   \n",
      "D.lprbpris                         -0.183***                                \n",
      "                                  (0.040)                                   \n",
      "D.lavgsen                          -0.067                                   \n",
      "                                  (0.036)                                   \n",
      "D.lpolpc                            0.406***                                \n",
      "                                  (0.038)                                   \n",
      "D.ldensity                          0.508                                   \n",
      "                                  (0.806)                                   \n",
      "_cons              -2.311***        0.024          -1.771***       -1.994***\n",
      "                  (0.299)         (0.014)         (0.229)         (0.218)   \n",
      "----------------------------------------------------------------------------\n",
      "R2                  0.628           0.421           0.413                   \n",
      "adj-R2              0.622           0.407           0.201                   \n",
      "F-value            99.339          31.808          30.894                   \n",
      "Chi2-value                                                        318.339   \n",
      "sample size       360.000         270.000         360.000         360.000   \n",
      "----------------------------------------------------------------------------\n",
      "* p<0.05, ** p<0.01, *** p<0.001\n"
     ]
    }
   ],
   "source": [
    "estout POLS FD FE RE, cells(b(star fmt(3)) se(par fmt(3))) stats(r2 r2_a F chi2 N, labels(R2 adj-R2 F-value Chi2-value \"sample size\")) legend"
   ]
  },
  {
   "cell_type": "markdown",
   "id": "a41ca254-c885-4299-8624-547bbbcae61a",
   "metadata": {},
   "source": [
    "# (d) test FE vs RE"
   ]
  },
  {
   "cell_type": "code",
   "execution_count": 12,
   "id": "b2a01a0e-fd98-48a3-ae3b-3338133b7e4c",
   "metadata": {},
   "outputs": [
    {
     "name": "stdout",
     "output_type": "stream",
     "text": [
      "\n",
      "                 ---- Coefficients ----\n",
      "             |      (b)          (B)            (b-B)     sqrt(diag(V_b-V_B))\n",
      "             |       FE           RE         Difference          S.E.\n",
      "-------------+----------------------------------------------------------------\n",
      "     lprbarr |   -.3288423    -.3767105        .0478682        .0155726\n",
      "    lprbconv |   -.2702464    -.2964253         .026179        .0092729\n",
      "    lprbpris |   -.1984727    -.2232842        .0248115        .0094008\n",
      "     lavgsen |   -.0519957    -.0324455       -.0195502        .0061552\n",
      "      lpolpc |    .3909318     .3781739        .0127579        .0132809\n",
      "    ldensity |    1.578019     .3412343        1.236784        .4338602\n",
      "------------------------------------------------------------------------------\n",
      "                           b = consistent under Ho and Ha; obtained from xtreg\n",
      "            B = inconsistent under Ha, efficient under Ho; obtained from xtreg\n",
      "\n",
      "    Test:  Ho:  difference in coefficients not systematic\n",
      "\n",
      "                  chi2(6) = (b-B)'[(V_b-V_B)^(-1)](b-B)\n",
      "                          =       19.37\n",
      "                Prob>chi2 =      0.0036\n",
      "                (V_b-V_B is not positive definite)\n"
     ]
    }
   ],
   "source": [
    "hausman FE RE"
   ]
  },
  {
   "cell_type": "markdown",
   "id": "803ec432-366f-457d-aad3-01bebb77abd0",
   "metadata": {},
   "source": [
    "# (f) IV regression for FD (aka why linear modelling typically sucks in real life)\n",
    "\n",
    "## * R-squared is invalid (aka not computable), meaning this model has no prediction power\n",
    "## * none variable is significant "
   ]
  },
  {
   "cell_type": "code",
   "execution_count": 13,
   "id": "ee28eb14-d263-48b1-bea0-7a61700cd83d",
   "metadata": {},
   "outputs": [
    {
     "name": "stdout",
     "output_type": "stream",
     "text": [
      "\n",
      "\n",
      "Instrumental variables (2SLS) regression          Number of obs   =        270\n",
      "                                                  Wald chi2(6)    =      21.97\n",
      "                                                  Prob > chi2     =     0.0012\n",
      "                                                  R-squared       =          .\n",
      "                                                  Root MSE        =     .31596\n",
      "\n",
      "------------------------------------------------------------------------------\n",
      "   D.lcrmrte |      Coef.   Std. Err.      z    P>|z|     [95% Conf. Interval]\n",
      "-------------+----------------------------------------------------------------\n",
      "      lpolpc |\n",
      "         D1. |   -.586611   1.837526    -0.32   0.750    -4.188097    3.014875\n",
      "             |\n",
      "     lprbarr |\n",
      "         D1. |  -.2189772    .255717    -0.86   0.392    -.7201735     .282219\n",
      "             |\n",
      "    lprbconv |\n",
      "         D1. |   .0070008   .5183779     0.01   0.989    -1.009001    1.023003\n",
      "             |\n",
      "    lprbpris |\n",
      "         D1. |  -.1359316   .1146883    -1.19   0.236    -.3607166    .0888533\n",
      "             |\n",
      "     lavgsen |\n",
      "         D1. |   -.217486   .2867637    -0.76   0.448    -.7795325    .3445605\n",
      "             |\n",
      "    ldensity |\n",
      "         D1. |  -2.226505   5.277531    -0.42   0.673    -12.57028    8.117266\n",
      "             |\n",
      "       _cons |   .0719137   .0927815     0.78   0.438    -.1099347    .2537622\n",
      "------------------------------------------------------------------------------\n",
      "Instrumented:  D.lpolpc\n",
      "Instruments:   D.lprbarr D.lprbconv D.lprbpris D.lavgsen D.ldensity D.ltaxpc\n",
      "\n"
     ]
    }
   ],
   "source": [
    "ivregress 2sls D.lcrmrte D.lprbarr D.lprbconv D.lprbpris D.lavgsen D.ldensity (D.lpolpc = D.ltaxpc)\n",
    "\n",
    "estimate store IV"
   ]
  },
  {
   "cell_type": "markdown",
   "id": "acd49051-ea7b-4810-9764-8fc0fb37ac29",
   "metadata": {},
   "source": [
    "# Hausman test for endogeneity"
   ]
  },
  {
   "cell_type": "code",
   "execution_count": 14,
   "id": "3e8e495f-c78e-4f4a-a06c-2e6670a8911c",
   "metadata": {},
   "outputs": [
    {
     "name": "stdout",
     "output_type": "stream",
     "text": [
      "\n",
      "  Tests of endogeneity\n",
      "  Ho: variables are exogenous\n",
      "\n",
      "  Durbin (score) chi2(1)          =  1.05118  (p = 0.3052)\n",
      "  Wu-Hausman F(1,262)             =  1.02402  (p = 0.3125)\n"
     ]
    }
   ],
   "source": [
    "estat endogenous"
   ]
  },
  {
   "cell_type": "markdown",
   "id": "3257af5a-06f5-44f6-a7ee-095092e54696",
   "metadata": {},
   "source": [
    "# compare IV model with FD"
   ]
  },
  {
   "cell_type": "code",
   "execution_count": 15,
   "id": "0f6d694b-9cc3-492f-b4b6-d942f538961b",
   "metadata": {},
   "outputs": [
    {
     "name": "stdout",
     "output_type": "stream",
     "text": [
      "\n",
      "--------------------------------------------\n",
      "                       FD              IV   \n",
      "                     b/se            b/se   \n",
      "--------------------------------------------\n",
      "D.lprbarr          -0.350***       -0.219   \n",
      "                  (0.045)         (0.256)   \n",
      "D.lprbconv         -0.272***        0.007   \n",
      "                  (0.027)         (0.518)   \n",
      "D.lprbpris         -0.183***       -0.136   \n",
      "                  (0.040)         (0.115)   \n",
      "D.lavgsen          -0.067          -0.217   \n",
      "                  (0.036)         (0.287)   \n",
      "D.lpolpc            0.406***       -0.587   \n",
      "                  (0.038)         (1.838)   \n",
      "D.ldensity          0.508          -2.227   \n",
      "                  (0.806)         (5.278)   \n",
      "_cons               0.024           0.072   \n",
      "                  (0.014)         (0.093)   \n",
      "--------------------------------------------\n",
      "R2                  0.421               .   \n",
      "adj-R2              0.407               .   \n",
      "F-value            31.808                   \n",
      "Chi2-value                         21.967   \n",
      "sample size       270.000         270.000   \n",
      "--------------------------------------------\n",
      "* p<0.05, ** p<0.01, *** p<0.001\n"
     ]
    }
   ],
   "source": [
    "estout FD IV, cells(b(star fmt(3)) se(par fmt(3))) stats(r2 r2_a F chi2 N, labels(R2 adj-R2 F-value Chi2-value \"sample size\")) legend"
   ]
  },
  {
   "cell_type": "markdown",
   "id": "de34a9b8-f010-41fe-a9e7-ae980ecb2772",
   "metadata": {
    "tags": []
   },
   "source": [
    "# (g) first stage of 2SLS"
   ]
  },
  {
   "cell_type": "code",
   "execution_count": 16,
   "id": "12c8514f-982b-4019-967c-7e88925579a9",
   "metadata": {},
   "outputs": [
    {
     "name": "stdout",
     "output_type": "stream",
     "text": [
      "\n",
      "      Source |       SS           df       MS      Number of obs   =       270\n",
      "-------------+----------------------------------   F(6, 263)       =     12.22\n",
      "       Model |  5.49610055         6  .916016758   Prob > F        =    0.0000\n",
      "    Residual |  19.7118373       263  .074949952   R-squared       =    0.2180\n",
      "-------------+----------------------------------   Adj R-squared   =    0.2002\n",
      "       Total |  25.2079378       269  .093709806   Root MSE        =    .27377\n",
      "\n",
      "------------------------------------------------------------------------------\n",
      "    D.lpolpc |      Coef.   Std. Err.      t    P>|t|     [95% Conf. Interval]\n",
      "-------------+----------------------------------------------------------------\n",
      "     lprbarr |\n",
      "         D1. |    .134998   .0725341     1.86   0.064    -.0078234    .2778194\n",
      "             |\n",
      "    lprbconv |\n",
      "         D1. |   .2824931   .0394586     7.16   0.000     .2047981    .3601881\n",
      "             |\n",
      "    lprbpris |\n",
      "         D1. |   .0483571   .0650516     0.74   0.458    -.0797312    .1764453\n",
      "             |\n",
      "     lavgsen |\n",
      "         D1. |   -.154319    .057056    -2.70   0.007    -.2666637   -.0419743\n",
      "             |\n",
      "      ltaxpc |\n",
      "         D1. |  -.0604975   .0963206    -0.63   0.530    -.2501551    .1291602\n",
      "             |\n",
      "    ldensity |\n",
      "         D1. |  -2.775162   1.296259    -2.14   0.033    -5.327528   -.2227955\n",
      "             |\n",
      "       _cons |   .0544501     .02359     2.31   0.022     .0080008    .1008994\n",
      "------------------------------------------------------------------------------\n"
     ]
    }
   ],
   "source": [
    "reg D.lpolpc D.lprbarr D.lprbconv D.lprbpris D.lavgsen D.ltaxpc D.ldensity"
   ]
  },
  {
   "cell_type": "markdown",
   "id": "2615497e-5f47-4b68-8cc1-e41a2d4705d1",
   "metadata": {},
   "source": [
    "# transform codes to HTML"
   ]
  },
  {
   "cell_type": "code",
   "execution_count": 17,
   "id": "68793a45-f335-4cb3-ba55-bffa657f75ea",
   "metadata": {},
   "outputs": [
    {
     "name": "stdout",
     "output_type": "stream",
     "text": [
      "\n",
      "\n",
      "\n",
      "\n",
      "[NbConvertApp] Converting notebook A2_Stata.ipynb to html\n",
      "[NbConvertApp] Writing 625306 bytes to A2_Stata.html\n"
     ]
    }
   ],
   "source": [
    "!rm -rf A2_Stata.html\n",
    "!jupyter nbconvert --to html A2_Stata.ipynb"
   ]
  },
  {
   "cell_type": "code",
   "execution_count": null,
   "id": "0e9abe8d-b2ce-4b84-ae79-bb562d02406d",
   "metadata": {},
   "outputs": [],
   "source": []
  }
 ],
 "metadata": {
  "kernelspec": {
   "display_name": "Stata",
   "language": "stata",
   "name": "stata"
  },
  "language_info": {
   "codemirror_mode": "stata",
   "file_extension": ".do",
   "mimetype": "text/x-stata",
   "name": "stata",
   "version": "15.1"
  }
 },
 "nbformat": 4,
 "nbformat_minor": 5
}
