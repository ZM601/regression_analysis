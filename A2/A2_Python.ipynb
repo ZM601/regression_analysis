{
 "cells": [
  {
   "cell_type": "code",
   "execution_count": 1,
   "id": "48b01b79-4300-47f6-b14b-c6a0ba6695aa",
   "metadata": {},
   "outputs": [],
   "source": [
    "%reset -f"
   ]
  },
  {
   "cell_type": "markdown",
   "id": "f23e8dba-0762-4067-b1f0-25d526896e47",
   "metadata": {
    "tags": []
   },
   "source": [
    "# load packages"
   ]
  },
  {
   "cell_type": "code",
   "execution_count": 2,
   "id": "fd98656d-c7e8-4e16-b466-4cd386fc22b1",
   "metadata": {},
   "outputs": [],
   "source": [
    "from linearmodels.panel           import PooledOLS, RandomEffects, compare, FirstDifferenceOLS\n",
    "from linearmodels                 import PanelOLS\n",
    "from linearmodels.iv.model        import IV2SLS\n",
    "from statsmodels.stats.diagnostic import het_white, het_breuschpagan\n",
    "from statsmodels.stats.stattools  import durbin_watson\n",
    "from scipy                        import stats\n",
    "\n",
    "import numpy.linalg      as la\n",
    "import matplotlib.pyplot as plt\n",
    "import numpy             as np\n",
    "import pandas            as pd\n",
    "import statsmodels.api   as sm"
   ]
  },
  {
   "cell_type": "markdown",
   "id": "6a1a1b39-2961-40ac-a307-dba30b0264c4",
   "metadata": {
    "tags": []
   },
   "source": [
    "# load data"
   ]
  },
  {
   "cell_type": "code",
   "execution_count": 3,
   "id": "275018f5-7a5b-4e1c-9f3f-0d1ce65a2853",
   "metadata": {},
   "outputs": [],
   "source": [
    "data = pd.read_csv(\"CRIME4.csv\")"
   ]
  },
  {
   "cell_type": "markdown",
   "id": "5687d276-714c-44f4-9635-6347837d3043",
   "metadata": {
    "tags": []
   },
   "source": [
    "# check variable names"
   ]
  },
  {
   "cell_type": "code",
   "execution_count": 4,
   "id": "e00eef40-5571-4beb-875f-4a3b3f501505",
   "metadata": {},
   "outputs": [
    {
     "data": {
      "text/plain": [
       "Index(['county', 'year', 'crmrte', 'prbarr', 'prbconv', 'prbpris', 'avgsen',\n",
       "       'polpc', 'density', 'taxpc', 'west', 'central', 'urban', 'pctmin80',\n",
       "       'wcon', 'wtuc', 'wtrd', 'wfir', 'wser', 'wmfg', 'wfed', 'wsta', 'wloc',\n",
       "       'mix', 'pctymle', 'd82', 'd83', 'd84', 'd85', 'd86', 'd87', 'lcrmrte',\n",
       "       'lprbarr', 'lprbconv', 'lprbpris', 'lavgsen', 'lpolpc', 'ldensity',\n",
       "       'ltaxpc', 'lwcon', 'lwtuc', 'lwtrd', 'lwfir', 'lwser', 'lwmfg', 'lwfed',\n",
       "       'lwsta', 'lwloc', 'lmix', 'lpctymle', 'lpctmin', 'clcrmrte', 'clprbarr',\n",
       "       'clprbcon', 'clprbpri', 'clavgsen', 'clpolpc', 'cltaxpc', 'clmix'],\n",
       "      dtype='object')"
      ]
     },
     "execution_count": 4,
     "metadata": {},
     "output_type": "execute_result"
    }
   ],
   "source": [
    "data.columns"
   ]
  },
  {
   "cell_type": "markdown",
   "id": "2adae510-e728-4823-bac3-95aaec3c1445",
   "metadata": {
    "tags": []
   },
   "source": [
    "# keep $year \\leqslant 1984$"
   ]
  },
  {
   "cell_type": "code",
   "execution_count": 5,
   "id": "67e30114-8038-40cb-8da9-6f3ceaa28aca",
   "metadata": {},
   "outputs": [
    {
     "data": {
      "text/plain": [
       "<AxesSubplot:>"
      ]
     },
     "execution_count": 5,
     "metadata": {},
     "output_type": "execute_result"
    },
    {
     "data": {
      "image/png": "[encoded data removed]",
      "text/plain": [
       "<Figure size 432x288 with 1 Axes>"
      ]
     },
     "metadata": {
      "needs_background": "light"
     },
     "output_type": "display_data"
    }
   ],
   "source": [
    "data = data[data['year']<=84]\n",
    "\n",
    "data['year'].hist()"
   ]
  },
  {
   "cell_type": "markdown",
   "id": "f22f2300-aadb-4798-aa46-8199232e322e",
   "metadata": {
    "tags": []
   },
   "source": [
    "# keep $year \\geqslant 1984$"
   ]
  },
  {
   "cell_type": "code",
   "execution_count": 6,
   "id": "8e4b657b-38c4-4df9-8551-88ac9bf744cb",
   "metadata": {},
   "outputs": [
    {
     "data": {
      "text/plain": [
       "<AxesSubplot:>"
      ]
     },
     "execution_count": 6,
     "metadata": {},
     "output_type": "execute_result"
    },
    {
     "data": {
      "image/png": "[encoded data removed]",
      "text/plain": [
       "<Figure size 432x288 with 1 Axes>"
      ]
     },
     "metadata": {
      "needs_background": "light"
     },
     "output_type": "display_data"
    }
   ],
   "source": [
    "data = pd.read_csv(\"CRIME4.csv\")\n",
    "\n",
    "data = data[data['year']>=84]\n",
    "\n",
    "data['year'].hist()"
   ]
  },
  {
   "cell_type": "markdown",
   "id": "291336d1-0bcb-4152-97a7-ecb7cd4bfce3",
   "metadata": {
    "tags": []
   },
   "source": [
    "# (c) FD"
   ]
  },
  {
   "cell_type": "code",
   "execution_count": 7,
   "id": "4f959ee1-981b-495c-92d6-fd83787c5867",
   "metadata": {},
   "outputs": [],
   "source": [
    "data = data.set_index(['county', 'year'])"
   ]
  },
  {
   "cell_type": "code",
   "execution_count": 8,
   "id": "908ec8f9-313b-4ab0-8d11-a3c92f318e22",
   "metadata": {},
   "outputs": [
    {
     "name": "stdout",
     "output_type": "stream",
     "text": [
      "                     FirstDifferenceOLS Estimation Summary                      \n",
      "================================================================================\n",
      "Dep. Variable:                lcrmrte   R-squared:                        0.4391\n",
      "Estimator:         FirstDifferenceOLS   R-squared (Between):              0.7455\n",
      "No. Observations:                 270   R-squared (Within):               0.4096\n",
      "Date:                Sat, Oct 30 2021   R-squared (Overall):              0.7449\n",
      "Time:                        18:49:14   Log-likelihood                    99.156\n",
      "Cov. Estimator:            Unadjusted                                           \n",
      "                                        F-statistic:                      34.449\n",
      "Entities:                          90   P-value                           0.0000\n",
      "Avg Obs:                       4.0000   Distribution:                   F(6,264)\n",
      "Min Obs:                       4.0000                                           \n",
      "Max Obs:                       4.0000   F-statistic (robust):             34.449\n",
      "                                        P-value                           0.0000\n",
      "Time periods:                       4   Distribution:                   F(6,264)\n",
      "Avg Obs:                       90.000                                           \n",
      "Min Obs:                       90.000                                           \n",
      "Max Obs:                       90.000                                           \n",
      "                                                                                \n",
      "                             Parameter Estimates                              \n",
      "==============================================================================\n",
      "            Parameter  Std. Err.     T-stat    P-value    Lower CI    Upper CI\n",
      "------------------------------------------------------------------------------\n",
      "lprbarr       -0.3592     0.0447    -8.0342     0.0000     -0.4473     -0.2712\n",
      "lprbconv      -0.2791     0.0263    -10.600     0.0000     -0.3309     -0.2272\n",
      "lprbpris      -0.1882     0.0402    -4.6839     0.0000     -0.2673     -0.1091\n",
      "lavgsen       -0.0609     0.0356    -1.7130     0.0879     -0.1309      0.0091\n",
      "lpolpc         0.4153     0.0378     10.990     0.0000      0.3409      0.4897\n",
      "ldensity       1.3762     0.6379     2.1572     0.0319      0.1201      2.6322\n",
      "==============================================================================\n"
     ]
    },
    {
     "name": "stderr",
     "output_type": "stream",
     "text": [
      "/usr/local/Caskroom/miniforge/base/lib/python3.9/site-packages/linearmodels/shared/utility.py:187: FutureWarning: In a future version of pandas all arguments of MultiIndex.set_levels except for the argument 'levels' will be keyword-only\n",
      "  df.index = df.index.set_levels(final_levels, [0, 1])\n"
     ]
    }
   ],
   "source": [
    "exog_vars = ['lprbarr', 'lprbconv', 'lprbpris', 'lavgsen', 'lpolpc', 'ldensity']\n",
    "\n",
    "exog = data[exog_vars]\n",
    "\n",
    "mod_fd = FirstDifferenceOLS(data.lcrmrte, exog)\n",
    "\n",
    "fd_res = mod_fd.fit()\n",
    "fd_robust_res = mod_fd.fit(cov_type='robust')\n",
    "\n",
    "print(fd_res)"
   ]
  },
  {
   "cell_type": "code",
   "execution_count": 9,
   "id": "06e14e53-6c98-45db-8d99-e85349171be1",
   "metadata": {},
   "outputs": [
    {
     "name": "stdout",
     "output_type": "stream",
     "text": [
      "                     FirstDifferenceOLS Estimation Summary                      \n",
      "================================================================================\n",
      "Dep. Variable:                lcrmrte   R-squared:                        0.4391\n",
      "Estimator:         FirstDifferenceOLS   R-squared (Between):              0.7455\n",
      "No. Observations:                 270   R-squared (Within):               0.4096\n",
      "Date:                Sat, Oct 30 2021   R-squared (Overall):              0.7449\n",
      "Time:                        18:49:14   Log-likelihood                    99.156\n",
      "Cov. Estimator:                Robust                                           \n",
      "                                        F-statistic:                      34.449\n",
      "Entities:                          90   P-value                           0.0000\n",
      "Avg Obs:                       4.0000   Distribution:                   F(6,264)\n",
      "Min Obs:                       4.0000                                           \n",
      "Max Obs:                       4.0000   F-statistic (robust):             9.1856\n",
      "                                        P-value                           0.0000\n",
      "Time periods:                       4   Distribution:                   F(6,264)\n",
      "Avg Obs:                       90.000                                           \n",
      "Min Obs:                       90.000                                           \n",
      "Max Obs:                       90.000                                           \n",
      "                                                                                \n",
      "                             Parameter Estimates                              \n",
      "==============================================================================\n",
      "            Parameter  Std. Err.     T-stat    P-value    Lower CI    Upper CI\n",
      "------------------------------------------------------------------------------\n",
      "lprbarr       -0.3592     0.0763    -4.7101     0.0000     -0.5094     -0.2091\n",
      "lprbconv      -0.2791     0.0490    -5.6922     0.0000     -0.3756     -0.1825\n",
      "lprbpris      -0.1882     0.0604    -3.1136     0.0021     -0.3072     -0.0692\n",
      "lavgsen       -0.0609     0.0446    -1.3654     0.1733     -0.1488      0.0269\n",
      "lpolpc         0.4153     0.0922     4.5053     0.0000      0.2338      0.5968\n",
      "ldensity       1.3762     0.5601     2.4571     0.0147      0.2734      2.4789\n",
      "==============================================================================\n"
     ]
    }
   ],
   "source": [
    "print(fd_robust_res)"
   ]
  },
  {
   "cell_type": "markdown",
   "id": "8631bc6f-f819-4805-b649-14fed1b3bb01",
   "metadata": {},
   "source": [
    "# (c) POLS"
   ]
  },
  {
   "cell_type": "code",
   "execution_count": 10,
   "id": "86a8f9ef-7c2e-4c9c-b054-a82f3418d206",
   "metadata": {},
   "outputs": [
    {
     "name": "stdout",
     "output_type": "stream",
     "text": [
      "                          PooledOLS Estimation Summary                          \n",
      "================================================================================\n",
      "Dep. Variable:                lcrmrte   R-squared:                        0.6280\n",
      "Estimator:                  PooledOLS   R-squared (Between):              0.6628\n",
      "No. Observations:                 360   R-squared (Within):               0.1340\n",
      "Date:                Sat, Oct 30 2021   R-squared (Overall):              0.6280\n",
      "Time:                        18:49:14   Log-likelihood                   -140.52\n",
      "Cov. Estimator:            Unadjusted                                           \n",
      "                                        F-statistic:                      99.339\n",
      "Entities:                          90   P-value                           0.0000\n",
      "Avg Obs:                       4.0000   Distribution:                   F(6,353)\n",
      "Min Obs:                       4.0000                                           \n",
      "Max Obs:                       4.0000   F-statistic (robust):             99.339\n",
      "                                        P-value                           0.0000\n",
      "Time periods:                       4   Distribution:                   F(6,353)\n",
      "Avg Obs:                       90.000                                           \n",
      "Min Obs:                       90.000                                           \n",
      "Max Obs:                       90.000                                           \n",
      "                                                                                \n",
      "                             Parameter Estimates                              \n",
      "==============================================================================\n",
      "            Parameter  Std. Err.     T-stat    P-value    Lower CI    Upper CI\n",
      "------------------------------------------------------------------------------\n",
      "const         -2.3105     0.2988    -7.7314     0.0000     -2.8983     -1.7228\n",
      "lprbarr       -0.5335     0.0548    -9.7365     0.0000     -0.6412     -0.4257\n",
      "lprbconv      -0.4028     0.0366    -11.009     0.0000     -0.4748     -0.3308\n",
      "lprbpris       0.0379     0.0897     0.4225     0.6729     -0.1385      0.2144\n",
      "lavgsen       -0.0715     0.0732    -0.9765     0.3295     -0.2155      0.0725\n",
      "lpolpc         0.3227     0.0376     8.5861     0.0000      0.2488      0.3966\n",
      "ldensity       0.2524     0.0314     8.0324     0.0000      0.1906      0.3141\n",
      "==============================================================================\n"
     ]
    }
   ],
   "source": [
    "exog = sm.add_constant(data[exog_vars])\n",
    "\n",
    "mod_ols = PooledOLS(data.lcrmrte, exog)\n",
    "\n",
    "pooled_res = mod_ols.fit()\n",
    "\n",
    "print(pooled_res)  "
   ]
  },
  {
   "cell_type": "code",
   "execution_count": 11,
   "id": "1a8588b7-25ab-4fe7-84c4-ab4e08fd18f1",
   "metadata": {},
   "outputs": [
    {
     "name": "stdout",
     "output_type": "stream",
     "text": [
      "                          PooledOLS Estimation Summary                          \n",
      "================================================================================\n",
      "Dep. Variable:                lcrmrte   R-squared:                        0.6280\n",
      "Estimator:                  PooledOLS   R-squared (Between):              0.6628\n",
      "No. Observations:                 360   R-squared (Within):               0.1340\n",
      "Date:                Sat, Oct 30 2021   R-squared (Overall):              0.6280\n",
      "Time:                        18:49:14   Log-likelihood                   -140.52\n",
      "Cov. Estimator:                Robust                                           \n",
      "                                        F-statistic:                      99.339\n",
      "Entities:                          90   P-value                           0.0000\n",
      "Avg Obs:                       4.0000   Distribution:                   F(6,353)\n",
      "Min Obs:                       4.0000                                           \n",
      "Max Obs:                       4.0000   F-statistic (robust):             155.37\n",
      "                                        P-value                           0.0000\n",
      "Time periods:                       4   Distribution:                   F(6,353)\n",
      "Avg Obs:                       90.000                                           \n",
      "Min Obs:                       90.000                                           \n",
      "Max Obs:                       90.000                                           \n",
      "                                                                                \n",
      "                             Parameter Estimates                              \n",
      "==============================================================================\n",
      "            Parameter  Std. Err.     T-stat    P-value    Lower CI    Upper CI\n",
      "------------------------------------------------------------------------------\n",
      "const         -2.3105     0.6723    -3.4367     0.0007     -3.6328     -0.9883\n",
      "lprbarr       -0.5335     0.0914    -5.8354     0.0000     -0.7133     -0.3537\n",
      "lprbconv      -0.4028     0.0570    -7.0629     0.0000     -0.5150     -0.2906\n",
      "lprbpris       0.0379     0.1202     0.3153     0.7527     -0.1986      0.2744\n",
      "lavgsen       -0.0715     0.0809    -0.8834     0.3776     -0.2307      0.0877\n",
      "lpolpc         0.3227     0.0892     3.6191     0.0003      0.1473      0.4980\n",
      "ldensity       0.2524     0.0438     5.7667     0.0000      0.1663      0.3384\n",
      "==============================================================================\n"
     ]
    }
   ],
   "source": [
    "pooled_robust_res = mod_ols.fit(cov_type='robust')\n",
    "print(pooled_robust_res)"
   ]
  },
  {
   "cell_type": "markdown",
   "id": "47c02428-7062-465d-841c-6e1a51e3a291",
   "metadata": {},
   "source": [
    "# (c) RE"
   ]
  },
  {
   "cell_type": "code",
   "execution_count": 12,
   "id": "0ffb45cc-e777-4a04-b6e8-a16fd75ccb19",
   "metadata": {},
   "outputs": [
    {
     "name": "stdout",
     "output_type": "stream",
     "text": [
      "                        RandomEffects Estimation Summary                        \n",
      "================================================================================\n",
      "Dep. Variable:                lcrmrte   R-squared:                        0.4742\n",
      "Estimator:              RandomEffects   R-squared (Between):              0.6113\n",
      "No. Observations:                 360   R-squared (Within):               0.3923\n",
      "Date:                Sat, Oct 30 2021   R-squared (Overall):              0.5969\n",
      "Time:                        18:49:15   Log-likelihood                    203.03\n",
      "Cov. Estimator:            Unadjusted                                           \n",
      "                                        F-statistic:                      53.057\n",
      "Entities:                          90   P-value                           0.0000\n",
      "Avg Obs:                       4.0000   Distribution:                   F(6,353)\n",
      "Min Obs:                       4.0000                                           \n",
      "Max Obs:                       4.0000   F-statistic (robust):             53.057\n",
      "                                        P-value                           0.0000\n",
      "Time periods:                       4   Distribution:                   F(6,353)\n",
      "Avg Obs:                       90.000                                           \n",
      "Min Obs:                       90.000                                           \n",
      "Max Obs:                       90.000                                           \n",
      "                                                                                \n",
      "                             Parameter Estimates                              \n",
      "==============================================================================\n",
      "            Parameter  Std. Err.     T-stat    P-value    Lower CI    Upper CI\n",
      "------------------------------------------------------------------------------\n",
      "const         -1.9942     0.2177    -9.1588     0.0000     -2.4224     -1.5660\n",
      "lprbarr       -0.3767     0.0428    -8.8041     0.0000     -0.4609     -0.2926\n",
      "lprbconv      -0.2964     0.0272    -10.897     0.0000     -0.3499     -0.2429\n",
      "lprbpris      -0.2233     0.0442    -5.0466     0.0000     -0.3103     -0.1363\n",
      "lavgsen       -0.0324     0.0367    -0.8831     0.3778     -0.1047      0.0398\n",
      "lpolpc         0.3782     0.0333     11.366     0.0000      0.3127      0.4436\n",
      "ldensity       0.3412     0.0485     7.0361     0.0000      0.2459      0.4366\n",
      "==============================================================================\n"
     ]
    }
   ],
   "source": [
    "mod_re = RandomEffects(data.lcrmrte, exog)\n",
    "\n",
    "re_res = mod_re.fit()\n",
    "re_robust_res = mod_re.fit(cov_type='robust')\n",
    "\n",
    "print(re_res)"
   ]
  },
  {
   "cell_type": "code",
   "execution_count": 13,
   "id": "1cf7e9ae-07dd-4c76-87e2-ec799e71fe9f",
   "metadata": {},
   "outputs": [
    {
     "name": "stdout",
     "output_type": "stream",
     "text": [
      "                        RandomEffects Estimation Summary                        \n",
      "================================================================================\n",
      "Dep. Variable:                lcrmrte   R-squared:                        0.4742\n",
      "Estimator:              RandomEffects   R-squared (Between):              0.6113\n",
      "No. Observations:                 360   R-squared (Within):               0.3923\n",
      "Date:                Sat, Oct 30 2021   R-squared (Overall):              0.5969\n",
      "Time:                        18:49:15   Log-likelihood                    203.03\n",
      "Cov. Estimator:                Robust                                           \n",
      "                                        F-statistic:                      53.057\n",
      "Entities:                          90   P-value                           0.0000\n",
      "Avg Obs:                       4.0000   Distribution:                   F(6,353)\n",
      "Min Obs:                       4.0000                                           \n",
      "Max Obs:                       4.0000   F-statistic (robust):             41.001\n",
      "                                        P-value                           0.0000\n",
      "Time periods:                       4   Distribution:                   F(6,353)\n",
      "Avg Obs:                       90.000                                           \n",
      "Min Obs:                       90.000                                           \n",
      "Max Obs:                       90.000                                           \n",
      "                                                                                \n",
      "                             Parameter Estimates                              \n",
      "==============================================================================\n",
      "            Parameter  Std. Err.     T-stat    P-value    Lower CI    Upper CI\n",
      "------------------------------------------------------------------------------\n",
      "const         -1.9942     0.4452    -4.4796     0.0000     -2.8697     -1.1187\n",
      "lprbarr       -0.3767     0.0770    -4.8924     0.0000     -0.5281     -0.2253\n",
      "lprbconv      -0.2964     0.0500    -5.9333     0.0000     -0.3947     -0.1982\n",
      "lprbpris      -0.2233     0.0790    -2.8263     0.0050     -0.3787     -0.0679\n",
      "lavgsen       -0.0324     0.0441    -0.7356     0.4625     -0.1192      0.0543\n",
      "lpolpc         0.3782     0.0671     5.6328     0.0000      0.2461      0.5102\n",
      "ldensity       0.3412     0.0623     5.4804     0.0000      0.2188      0.4637\n",
      "==============================================================================\n"
     ]
    }
   ],
   "source": [
    "print(re_robust_res)"
   ]
  },
  {
   "cell_type": "markdown",
   "id": "676ef84c-f01c-4b2a-8256-1ee3fb21bd47",
   "metadata": {},
   "source": [
    "# (c) FE"
   ]
  },
  {
   "cell_type": "code",
   "execution_count": 14,
   "id": "65ef86c2-2abc-42cb-93a6-2a50526a2de0",
   "metadata": {},
   "outputs": [
    {
     "name": "stdout",
     "output_type": "stream",
     "text": [
      "                          PanelOLS Estimation Summary                           \n",
      "================================================================================\n",
      "Dep. Variable:                lcrmrte   R-squared:                        0.4125\n",
      "Estimator:                   PanelOLS   R-squared (Between):             -2.2427\n",
      "No. Observations:                 360   R-squared (Within):               0.4125\n",
      "Date:                Sat, Oct 30 2021   R-squared (Overall):             -2.0683\n",
      "Time:                        18:49:15   Log-likelihood                    267.34\n",
      "Cov. Estimator:            Unadjusted                                           \n",
      "                                        F-statistic:                      30.894\n",
      "Entities:                          90   P-value                           0.0000\n",
      "Avg Obs:                       4.0000   Distribution:                   F(6,264)\n",
      "Min Obs:                       4.0000                                           \n",
      "Max Obs:                       4.0000   F-statistic (robust):             30.894\n",
      "                                        P-value                           0.0000\n",
      "Time periods:                       4   Distribution:                   F(6,264)\n",
      "Avg Obs:                       90.000                                           \n",
      "Min Obs:                       90.000                                           \n",
      "Max Obs:                       90.000                                           \n",
      "                                                                                \n",
      "                             Parameter Estimates                              \n",
      "==============================================================================\n",
      "            Parameter  Std. Err.     T-stat    P-value    Lower CI    Upper CI\n",
      "------------------------------------------------------------------------------\n",
      "const         -1.7708     0.2287    -7.7421     0.0000     -2.2212     -1.3205\n",
      "lprbarr       -0.3288     0.0455    -7.2220     0.0000     -0.4185     -0.2392\n",
      "lprbconv      -0.2702     0.0287    -9.4033     0.0000     -0.3268     -0.2137\n",
      "lprbpris      -0.1985     0.0452    -4.3879     0.0000     -0.2875     -0.1094\n",
      "lavgsen       -0.0520     0.0373    -1.3957     0.1640     -0.1253      0.0214\n",
      "lpolpc         0.3909     0.0358     10.912     0.0000      0.3204      0.4615\n",
      "ldensity       1.5780     0.4366     3.6146     0.0004      0.7184      2.4376\n",
      "==============================================================================\n",
      "\n",
      "F-test for Poolability: 25.629\n",
      "P-value: 0.0000\n",
      "Distribution: F(89,264)\n",
      "\n",
      "Included effects: Entity\n"
     ]
    }
   ],
   "source": [
    "mod_fe = PanelOLS(data.lcrmrte, exog, entity_effects=True)\n",
    "\n",
    "fe_res = mod_fe.fit()\n",
    "fe_robust_res = mod_fe.fit(cov_type='robust')\n",
    "\n",
    "print(fe_res)"
   ]
  },
  {
   "cell_type": "code",
   "execution_count": 15,
   "id": "1a0efae8-6202-481d-9656-45e3d964f6cd",
   "metadata": {},
   "outputs": [
    {
     "name": "stdout",
     "output_type": "stream",
     "text": [
      "                          PanelOLS Estimation Summary                           \n",
      "================================================================================\n",
      "Dep. Variable:                lcrmrte   R-squared:                        0.4125\n",
      "Estimator:                   PanelOLS   R-squared (Between):             -2.2427\n",
      "No. Observations:                 360   R-squared (Within):               0.4125\n",
      "Date:                Sat, Oct 30 2021   R-squared (Overall):             -2.0683\n",
      "Time:                        18:49:15   Log-likelihood                    267.34\n",
      "Cov. Estimator:                Robust                                           \n",
      "                                        F-statistic:                      30.894\n",
      "Entities:                          90   P-value                           0.0000\n",
      "Avg Obs:                       4.0000   Distribution:                   F(6,264)\n",
      "Min Obs:                       4.0000                                           \n",
      "Max Obs:                       4.0000   F-statistic (robust):             12.184\n",
      "                                        P-value                           0.0000\n",
      "Time periods:                       4   Distribution:                   F(6,264)\n",
      "Avg Obs:                       90.000                                           \n",
      "Min Obs:                       90.000                                           \n",
      "Max Obs:                       90.000                                           \n",
      "                                                                                \n",
      "                             Parameter Estimates                              \n",
      "==============================================================================\n",
      "            Parameter  Std. Err.     T-stat    P-value    Lower CI    Upper CI\n",
      "------------------------------------------------------------------------------\n",
      "const         -1.7708     0.5041    -3.5131     0.0005     -2.7633     -0.7783\n",
      "lprbarr       -0.3288     0.0742    -4.4326     0.0000     -0.4749     -0.1828\n",
      "lprbconv      -0.2702     0.0537    -5.0297     0.0000     -0.3760     -0.1645\n",
      "lprbpris      -0.1985     0.0756    -2.6257     0.0092     -0.3473     -0.0496\n",
      "lavgsen       -0.0520     0.0572    -0.9087     0.3644     -0.1647      0.0607\n",
      "lpolpc         0.3909     0.0781     5.0039     0.0000      0.2371      0.5448\n",
      "ldensity       1.5780     0.3440     4.5868     0.0000      0.9006      2.2554\n",
      "==============================================================================\n",
      "\n",
      "F-test for Poolability: 25.629\n",
      "P-value: 0.0000\n",
      "Distribution: F(89,264)\n",
      "\n",
      "Included effects: Entity\n"
     ]
    }
   ],
   "source": [
    "print(fe_robust_res)"
   ]
  },
  {
   "cell_type": "markdown",
   "id": "cbe24b35-74cf-4d27-8185-bb9d2a99b0ce",
   "metadata": {},
   "source": [
    "# (c) comparison table"
   ]
  },
  {
   "cell_type": "code",
   "execution_count": 16,
   "id": "c9aad2f7-1530-4891-9cbd-fb35e161b482",
   "metadata": {},
   "outputs": [
    {
     "name": "stdout",
     "output_type": "stream",
     "text": [
      "                                       Model Comparison                                       \n",
      "==============================================================================================\n",
      "                                    FE                RE                     FD         Pooled\n",
      "----------------------------------------------------------------------------------------------\n",
      "Dep. Variable                  lcrmrte           lcrmrte                lcrmrte        lcrmrte\n",
      "Estimator                     PanelOLS     RandomEffects     FirstDifferenceOLS      PooledOLS\n",
      "No. Observations                   360               360                    270            360\n",
      "Cov. Est.                   Unadjusted        Unadjusted             Unadjusted     Unadjusted\n",
      "R-squared                       0.4125            0.4742                 0.4391         0.6280\n",
      "R-Squared (Within)              0.4125            0.3923                 0.4096         0.1340\n",
      "R-Squared (Between)            -2.2427            0.6113                 0.7455         0.6628\n",
      "R-Squared (Overall)            -2.0683            0.5969                 0.7449         0.6280\n",
      "F-statistic                     30.894            53.057                 34.449         99.339\n",
      "P-value (F-stat)                0.0000            0.0000                 0.0000         0.0000\n",
      "=====================     ============   ===============   ====================   ============\n",
      "const                       -1.7708***        -1.9942***                            -2.3105***\n",
      "                              (0.2287)          (0.2177)                              (0.2988)\n",
      "lprbarr                     -0.3288***        -0.3767***             -0.3592***     -0.5335***\n",
      "                              (0.0455)          (0.0428)               (0.0447)       (0.0548)\n",
      "lprbconv                    -0.2702***        -0.2964***             -0.2791***     -0.4028***\n",
      "                              (0.0287)          (0.0272)               (0.0263)       (0.0366)\n",
      "lprbpris                    -0.1985***        -0.2233***             -0.1882***         0.0379\n",
      "                              (0.0452)          (0.0442)               (0.0402)       (0.0897)\n",
      "lavgsen                        -0.0520           -0.0324               -0.0609*        -0.0715\n",
      "                              (0.0373)          (0.0367)               (0.0356)       (0.0732)\n",
      "lpolpc                       0.3909***         0.3782***              0.4153***      0.3227***\n",
      "                              (0.0358)          (0.0333)               (0.0378)       (0.0376)\n",
      "ldensity                     1.5780***         0.3412***               1.3762**      0.2524***\n",
      "                              (0.4366)          (0.0485)               (0.6379)       (0.0314)\n",
      "======================= ============== ================= ====================== ==============\n",
      "Effects                         Entity                                                        \n",
      "----------------------------------------------------------------------------------------------\n",
      "\n",
      "Std. Errors reported in parentheses\n"
     ]
    },
    {
     "name": "stderr",
     "output_type": "stream",
     "text": [
      "/usr/local/Caskroom/miniforge/base/lib/python3.9/site-packages/linearmodels/panel/results.py:1010: FutureWarning: In a future version of pandas all arguments of concat except for the argument 'objs' will be keyword-only\n",
      "  vals = concat(\n"
     ]
    }
   ],
   "source": [
    "print(compare({\"FE\": fe_res, \"RE\": re_res, \"FD\": fd_res, \"Pooled\": pooled_res}, precision='std_errors', stars=True))"
   ]
  },
  {
   "cell_type": "code",
   "execution_count": 17,
   "id": "e492d1c6-925e-4e40-aa23-08a469129c71",
   "metadata": {},
   "outputs": [
    {
     "name": "stdout",
     "output_type": "stream",
     "text": [
      "                                       Model Comparison                                       \n",
      "==============================================================================================\n",
      "                             FE_robust         RE_robust              FD_robust  Pooled_robust\n",
      "----------------------------------------------------------------------------------------------\n",
      "Dep. Variable                  lcrmrte           lcrmrte                lcrmrte        lcrmrte\n",
      "Estimator                     PanelOLS     RandomEffects     FirstDifferenceOLS      PooledOLS\n",
      "No. Observations                   360               360                    270            360\n",
      "Cov. Est.                       Robust            Robust                 Robust         Robust\n",
      "R-squared                       0.4125            0.4742                 0.4391         0.6280\n",
      "R-Squared (Within)              0.4125            0.3923                 0.4096         0.1340\n",
      "R-Squared (Between)            -2.2427            0.6113                 0.7455         0.6628\n",
      "R-Squared (Overall)            -2.0683            0.5969                 0.7449         0.6280\n",
      "F-statistic                     30.894            53.057                 34.449         99.339\n",
      "P-value (F-stat)                0.0000            0.0000                 0.0000         0.0000\n",
      "=====================     ============   ===============   ====================   ============\n",
      "const                       -1.7708***        -1.9942***                            -2.3105***\n",
      "                              (0.5041)          (0.4452)                              (0.6723)\n",
      "lprbarr                     -0.3288***        -0.3767***             -0.3592***     -0.5335***\n",
      "                              (0.0742)          (0.0770)               (0.0763)       (0.0914)\n",
      "lprbconv                    -0.2702***        -0.2964***             -0.2791***     -0.4028***\n",
      "                              (0.0537)          (0.0500)               (0.0490)       (0.0570)\n",
      "lprbpris                    -0.1985***        -0.2233***             -0.1882***         0.0379\n",
      "                              (0.0756)          (0.0790)               (0.0604)       (0.1202)\n",
      "lavgsen                        -0.0520           -0.0324                -0.0609        -0.0715\n",
      "                              (0.0572)          (0.0441)               (0.0446)       (0.0809)\n",
      "lpolpc                       0.3909***         0.3782***              0.4153***      0.3227***\n",
      "                              (0.0781)          (0.0671)               (0.0922)       (0.0892)\n",
      "ldensity                     1.5780***         0.3412***               1.3762**      0.2524***\n",
      "                              (0.3440)          (0.0623)               (0.5601)       (0.0438)\n",
      "======================= ============== ================= ====================== ==============\n",
      "Effects                         Entity                                                        \n",
      "----------------------------------------------------------------------------------------------\n",
      "\n",
      "Std. Errors reported in parentheses\n"
     ]
    }
   ],
   "source": [
    "print(compare({\"FE_robust\": fe_robust_res, \"RE_robust\": re_robust_res, \"FD_robust\": fd_robust_res, \"Pooled_robust\": pooled_robust_res}, precision='std_errors', stars=True))"
   ]
  },
  {
   "cell_type": "markdown",
   "id": "5a38b9bc-6a23-45b2-b0dd-5765861fc83d",
   "metadata": {},
   "source": [
    "# (d) test FE vs RE"
   ]
  },
  {
   "cell_type": "code",
   "execution_count": 18,
   "id": "7dabc83a-2bff-4b5e-89e2-5c9028df3c59",
   "metadata": {},
   "outputs": [
    {
     "data": {
      "text/html": [
       "<div>\n",
       "<style scoped>\n",
       "    .dataframe tbody tr th:only-of-type {\n",
       "        vertical-align: middle;\n",
       "    }\n",
       "\n",
       "    .dataframe tbody tr th {\n",
       "        vertical-align: top;\n",
       "    }\n",
       "\n",
       "    .dataframe thead th {\n",
       "        text-align: right;\n",
       "    }\n",
       "</style>\n",
       "<table border=\"1\" class=\"dataframe\">\n",
       "  <thead>\n",
       "    <tr style=\"text-align: right;\">\n",
       "      <th></th>\n",
       "      <th>chi-sq stat</th>\n",
       "      <th>df</th>\n",
       "      <th>p-value</th>\n",
       "    </tr>\n",
       "  </thead>\n",
       "  <tbody>\n",
       "    <tr>\n",
       "      <th>0</th>\n",
       "      <td>19.37</td>\n",
       "      <td>6</td>\n",
       "      <td>0.0</td>\n",
       "    </tr>\n",
       "  </tbody>\n",
       "</table>\n",
       "</div>"
      ],
      "text/plain": [
       "   chi-sq stat  df  p-value\n",
       "0        19.37   6      0.0"
      ]
     },
     "execution_count": 18,
     "metadata": {},
     "output_type": "execute_result"
    }
   ],
   "source": [
    "b = fe_res.params[1:]\n",
    "B = re_res.params[1:]\n",
    "\n",
    "v_b = fe_res.cov.drop('const', axis=1)\n",
    "v_b = v_b[1:]\n",
    "v_B = re_res.cov.drop('const', axis=1)\n",
    "v_B = v_B[1:]\n",
    "\n",
    "df = b[np.abs(b) < 1e8].size\n",
    "chi2 = np.dot((b-B).T, la.inv(v_b - v_B).dot(b - B)) \n",
    "pval = stats.chi2.sf(chi2, df)\n",
    "\n",
    "\n",
    "dict = {'chi-sq stat' : [chi2],\n",
    "        'df' : [df],\n",
    "        'p-value' : [pval]}\n",
    "\n",
    "Hausman_df = pd.DataFrame(dict)\n",
    "\n",
    "Hausman_df.round(2)"
   ]
  },
  {
   "cell_type": "markdown",
   "id": "16d91cdf-ffc3-4646-a7c9-cdfd5814fc5c",
   "metadata": {},
   "source": [
    "# (f) IV regression for FD (aka why linear modelling typically sucks in real life)\n",
    "\n",
    "## * such regression comes with a negative R-squared; \n",
    "\n",
    "## * even though I found it completely preposterous from the perspective of statistics, quite a number of \"economists\" find it \"quite normal and acceptale\" in \"econometrics modelling\"\n",
    "\n",
    "## * you have reached the boundary of \"economic causal inference\". To avoid such hilarious results, you need to use more advanced tools, one of them called \"probablistic graph modelling\"\n",
    "\n"
   ]
  },
  {
   "cell_type": "code",
   "execution_count": 19,
   "id": "1d00a693-c1e6-4d51-8d41-40202a326a9c",
   "metadata": {},
   "outputs": [],
   "source": [
    "data.sort_index(inplace=True)\n",
    "\n",
    "data['D1_lcrmrte']  = data.groupby(['county'])['lcrmrte'].transform(lambda x: x.diff())\n",
    "data['D1_lprbarr']  = data.groupby(['county'])['lprbarr'].transform(lambda x: x.diff())\n",
    "data['D1_lprbconv'] = data.groupby(['county'])['lprbconv'].transform(lambda x: x.diff())\n",
    "data['D1_lprbpris'] = data.groupby(['county'])['lprbpris'].transform(lambda x: x.diff())\n",
    "data['D1_lavgsen']  = data.groupby(['county'])['lavgsen'].transform(lambda x: x.diff())\n",
    "data['D1_lpolpc']   = data.groupby(['county'])['lpolpc'].transform(lambda x: x.diff())\n",
    "data['D1_ldensity'] = data.groupby(['county'])['ldensity'].transform(lambda x: x.diff())\n",
    "data['D1_ltaxpc']   = data.groupby(['county'])['ltaxpc'].transform(lambda x: x.diff())\n"
   ]
  },
  {
   "cell_type": "code",
   "execution_count": 20,
   "id": "16e8271f-2485-4770-9baa-dddfbe29d5e6",
   "metadata": {},
   "outputs": [
    {
     "name": "stdout",
     "output_type": "stream",
     "text": [
      "                          IV-2SLS Estimation Summary                          \n",
      "==============================================================================\n",
      "Dep. Variable:             D1_lcrmrte   R-squared:                     -1.0836\n",
      "Estimator:                    IV-2SLS   Adj. R-squared:                -1.1311\n",
      "No. Observations:                 270   F-statistic:                    12.184\n",
      "Date:                Sat, Oct 30 2021   P-value (F-stat)                0.0580\n",
      "Time:                        18:49:15   Distribution:                  chi2(6)\n",
      "Cov. Estimator:                robust                                         \n",
      "                                                                              \n",
      "                              Parameter Estimates                              \n",
      "===============================================================================\n",
      "             Parameter  Std. Err.     T-stat    P-value    Lower CI    Upper CI\n",
      "-------------------------------------------------------------------------------\n",
      "const           0.0719     0.0657     1.0951     0.2735     -0.0568      0.2006\n",
      "D1_lprbarr     -0.2190     0.1953    -1.1215     0.2621     -0.6017      0.1637\n",
      "D1_lprbconv     0.0070     0.3497     0.0200     0.9840     -0.6783      0.6923\n",
      "D1_lprbpris    -0.1359     0.1046    -1.3001     0.1936     -0.3409      0.0690\n",
      "D1_lavgsen     -0.2175     0.2214    -0.9825     0.3259     -0.6514      0.2164\n",
      "D1_ldensity    -2.2265     4.4645    -0.4987     0.6180     -10.977      6.5237\n",
      "D1_lpolpc      -0.5866     1.2632    -0.4644     0.6424     -3.0624      1.8892\n",
      "===============================================================================\n",
      "\n",
      "Endogenous: D1_lpolpc\n",
      "Instruments: D1_ltaxpc\n",
      "Robust Covariance (Heteroskedastic)\n",
      "Debiased: False\n"
     ]
    },
    {
     "name": "stderr",
     "output_type": "stream",
     "text": [
      "/usr/local/Caskroom/miniforge/base/lib/python3.9/site-packages/linearmodels/shared/exceptions.py:35: MissingValueWarning: \n",
      "Inputs contain missing values. Dropping rows with missing observations.\n",
      "  warnings.warn(missing_value_warning_msg, MissingValueWarning)\n"
     ]
    }
   ],
   "source": [
    "exog_vars1 = ['D1_lprbarr', 'D1_lprbconv', 'D1_lprbpris', 'D1_lavgsen', 'D1_ldensity']\n",
    "\n",
    "exog = sm.add_constant(data[exog_vars1])\n",
    "\n",
    "FD2SLS = IV2SLS(dependent=data['D1_lcrmrte'],\n",
    "                exog=exog,\n",
    "                endog=data[['D1_lpolpc']],\n",
    "                instruments=data[['D1_ltaxpc']]).fit()\n",
    "\n",
    "print(FD2SLS.summary)"
   ]
  },
  {
   "cell_type": "markdown",
   "id": "59af45bd-3f93-43b4-b0ff-c3f34a05551f",
   "metadata": {},
   "source": [
    "# Hausman test for endogeneity"
   ]
  },
  {
   "cell_type": "code",
   "execution_count": 21,
   "id": "0dcd6fa6-133d-43de-8f43-aa842c2577c7",
   "metadata": {},
   "outputs": [
    {
     "data": {
      "text/plain": [
       "Wu-Hausman test of exogeneity\n",
       "H0: All endogenous variables are exogenous\n",
       "Statistic: 1.0240\n",
       "P-value: 0.3125\n",
       "Distributed: F(1,262)\n",
       "WaldTestStatistic, id: 0x1a1bb8e50"
      ]
     },
     "execution_count": 21,
     "metadata": {},
     "output_type": "execute_result"
    }
   ],
   "source": [
    "FD2SLS.wu_hausman()"
   ]
  },
  {
   "cell_type": "markdown",
   "id": "40907d83-8fff-47a3-a1bc-fbb66470493a",
   "metadata": {
    "tags": []
   },
   "source": [
    "# (g) first stage of 2SLS"
   ]
  },
  {
   "cell_type": "code",
   "execution_count": 22,
   "id": "70a4f621-0d3d-4978-be4a-ecda4e3cb5cd",
   "metadata": {},
   "outputs": [
    {
     "name": "stdout",
     "output_type": "stream",
     "text": [
      "                     FirstDifferenceOLS Estimation Summary                      \n",
      "================================================================================\n",
      "Dep. Variable:                 lpolpc   R-squared:                        0.2022\n",
      "Estimator:         FirstDifferenceOLS   R-squared (Between):             -3.7170\n",
      "No. Observations:                 270   R-squared (Within):               0.2341\n",
      "Date:                Sat, Oct 30 2021   R-squared (Overall):             -2.9724\n",
      "Time:                        18:49:15   Log-likelihood                   -32.498\n",
      "Cov. Estimator:            Unadjusted                                           \n",
      "                                        F-statistic:                      11.153\n",
      "Entities:                          90   P-value                           0.0000\n",
      "Avg Obs:                       4.0000   Distribution:                   F(6,264)\n",
      "Min Obs:                       4.0000                                           \n",
      "Max Obs:                       4.0000   F-statistic (robust):             11.153\n",
      "                                        P-value                           0.0000\n",
      "Time periods:                       4   Distribution:                   F(6,264)\n",
      "Avg Obs:                       90.000                                           \n",
      "Min Obs:                       90.000                                           \n",
      "Max Obs:                       90.000                                           \n",
      "                                                                                \n",
      "                             Parameter Estimates                              \n",
      "==============================================================================\n",
      "            Parameter  Std. Err.     T-stat    P-value    Lower CI    Upper CI\n",
      "------------------------------------------------------------------------------\n",
      "lprbarr        0.1132     0.0725     1.5611     0.1197     -0.0296      0.2559\n",
      "lprbconv       0.2714     0.0395     6.8737     0.0000      0.1937      0.3492\n",
      "lprbpris       0.0368     0.0654     0.5630     0.5739     -0.0919      0.1656\n",
      "lavgsen       -0.1422     0.0573    -2.4822     0.0137     -0.2549     -0.0294\n",
      "ltaxpc         0.0270     0.0893     0.3022     0.7628     -0.1488      0.2028\n",
      "ldensity      -1.0728     1.0747    -0.9982     0.3191     -3.1888      1.0433\n",
      "==============================================================================\n"
     ]
    },
    {
     "name": "stderr",
     "output_type": "stream",
     "text": [
      "/usr/local/Caskroom/miniforge/base/lib/python3.9/site-packages/linearmodels/shared/utility.py:187: FutureWarning: In a future version of pandas all arguments of MultiIndex.set_levels except for the argument 'levels' will be keyword-only\n",
      "  df.index = df.index.set_levels(final_levels, [0, 1])\n"
     ]
    }
   ],
   "source": [
    "exog_vars = ['lprbarr', 'lprbconv', 'lprbpris', 'lavgsen', 'ltaxpc', 'ldensity']\n",
    "\n",
    "exog = data[exog_vars]\n",
    "\n",
    "exog = exog - exog.mean()\n",
    "resp = data['lpolpc'] - data['lpolpc'].mean()\n",
    "\n",
    "mod_fd = FirstDifferenceOLS(resp, exog)\n",
    "\n",
    "fd_res = mod_fd.fit()\n",
    "\n",
    "print(fd_res)  "
   ]
  },
  {
   "cell_type": "code",
   "execution_count": 25,
   "id": "984dd4e3-4c74-4150-81f4-f6799671f488",
   "metadata": {},
   "outputs": [
    {
     "name": "stdout",
     "output_type": "stream",
     "text": [
      "[NbConvertApp] Converting notebook A2_Python.ipynb to html\n",
      "[NbConvertApp] Writing 663124 bytes to A2_Python.html\n"
     ]
    }
   ],
   "source": [
    "!rm -rf A2_Python.html\n",
    "!jupyter nbconvert --to html A2_Python.ipynb"
   ]
  },
  {
   "cell_type": "code",
   "execution_count": null,
   "id": "79444e5c-92e2-44fb-8468-327be267291b",
   "metadata": {},
   "outputs": [],
   "source": []
  }
 ],
 "metadata": {
  "kernelspec": {
   "display_name": "Python 3 (ipykernel)",
   "language": "python",
   "name": "python3"
  },
  "language_info": {
   "codemirror_mode": {
    "name": "ipython",
    "version": 3
   },
   "file_extension": ".py",
   "mimetype": "text/x-python",
   "name": "python",
   "nbconvert_exporter": "python",
   "pygments_lexer": "ipython3",
   "version": "3.9.7"
  }
 },
 "nbformat": 4,
 "nbformat_minor": 5
}
