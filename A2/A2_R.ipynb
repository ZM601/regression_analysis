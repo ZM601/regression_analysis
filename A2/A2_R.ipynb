{
 "cells": [
  {
   "cell_type": "code",
   "execution_count": 1,
   "id": "45bffc12-9f4b-43e0-854d-4726b8ce1a28",
   "metadata": {},
   "outputs": [],
   "source": [
    "rm(list = ls())"
   ]
  },
  {
   "cell_type": "markdown",
   "id": "82b5027e-0bec-4a51-89f4-d62e11962b45",
   "metadata": {},
   "source": [
    "# install all packages"
   ]
  },
  {
   "cell_type": "code",
   "execution_count": 2,
   "id": "62409067-02ec-4623-a2b2-c0eaf357a1cd",
   "metadata": {},
   "outputs": [
    {
     "name": "stderr",
     "output_type": "stream",
     "text": [
      "Loading required package: readr\n",
      "\n",
      "Loading required package: dplyr\n",
      "\n",
      "\n",
      "Attaching package: ‘dplyr’\n",
      "\n",
      "\n",
      "The following objects are masked from ‘package:stats’:\n",
      "\n",
      "    filter, lag\n",
      "\n",
      "\n",
      "The following objects are masked from ‘package:base’:\n",
      "\n",
      "    intersect, setdiff, setequal, union\n",
      "\n",
      "\n",
      "Loading required package: car\n",
      "\n",
      "Loading required package: carData\n",
      "\n",
      "\n",
      "Attaching package: ‘car’\n",
      "\n",
      "\n",
      "The following object is masked from ‘package:dplyr’:\n",
      "\n",
      "    recode\n",
      "\n",
      "\n",
      "Loading required package: Hmisc\n",
      "\n",
      "Loading required package: lattice\n",
      "\n",
      "Loading required package: survival\n",
      "\n",
      "Loading required package: Formula\n",
      "\n",
      "Loading required package: ggplot2\n",
      "\n",
      "\n",
      "Attaching package: ‘Hmisc’\n",
      "\n",
      "\n",
      "The following objects are masked from ‘package:dplyr’:\n",
      "\n",
      "    src, summarize\n",
      "\n",
      "\n",
      "The following objects are masked from ‘package:base’:\n",
      "\n",
      "    format.pval, units\n",
      "\n",
      "\n",
      "Loading required package: plm\n",
      "\n",
      "\n",
      "Attaching package: ‘plm’\n",
      "\n",
      "\n",
      "The following objects are masked from ‘package:dplyr’:\n",
      "\n",
      "    between, lag, lead\n",
      "\n",
      "\n",
      "Loading required package: stargazer\n",
      "\n",
      "\n",
      "Please cite as: \n",
      "\n",
      "\n",
      " Hlavac, Marek (2018). stargazer: Well-Formatted Regression and Summary Statistics Tables.\n",
      "\n",
      " R package version 5.2.2. https://CRAN.R-project.org/package=stargazer \n",
      "\n",
      "\n"
     ]
    },
    {
     "data": {
      "text/html": [
       "<style>\n",
       ".dl-inline {width: auto; margin:0; padding: 0}\n",
       ".dl-inline>dt, .dl-inline>dd {float: none; width: auto; display: inline-block}\n",
       ".dl-inline>dt::after {content: \":\\0020\"; padding-right: .5ex}\n",
       ".dl-inline>dt:not(:first-of-type) {padding-left: .5ex}\n",
       "</style><dl class=dl-inline><dt>readr</dt><dd>TRUE</dd><dt>dplyr</dt><dd>TRUE</dd><dt>car</dt><dd>TRUE</dd><dt>Hmisc</dt><dd>TRUE</dd><dt>plm</dt><dd>TRUE</dd><dt>stargazer</dt><dd>TRUE</dd></dl>\n"
      ],
      "text/latex": [
       "\\begin{description*}\n",
       "\\item[readr] TRUE\n",
       "\\item[dplyr] TRUE\n",
       "\\item[car] TRUE\n",
       "\\item[Hmisc] TRUE\n",
       "\\item[plm] TRUE\n",
       "\\item[stargazer] TRUE\n",
       "\\end{description*}\n"
      ],
      "text/markdown": [
       "readr\n",
       ":   TRUEdplyr\n",
       ":   TRUEcar\n",
       ":   TRUEHmisc\n",
       ":   TRUEplm\n",
       ":   TRUEstargazer\n",
       ":   TRUE\n",
       "\n"
      ],
      "text/plain": [
       "    readr     dplyr       car     Hmisc       plm stargazer \n",
       "     TRUE      TRUE      TRUE      TRUE      TRUE      TRUE "
      ]
     },
     "metadata": {},
     "output_type": "display_data"
    }
   ],
   "source": [
    "ipak <- function(pkg){\n",
    "  new.pkg <- pkg[!(pkg %in% installed.packages()[, \"Package\"])]\n",
    "  if (length(new.pkg))\n",
    "    install.packages(new.pkg, dependencies = TRUE)\n",
    "  sapply(pkg, require, character.only = TRUE)\n",
    "}\n",
    "\n",
    "\n",
    "packages <- c('readr', 'dplyr', 'car', 'Hmisc', 'plm', 'stargazer')\n",
    "\n",
    "\n",
    "ipak(packages)"
   ]
  },
  {
   "cell_type": "markdown",
   "id": "e50517da-6698-45aa-87e4-7ac0ea48ff64",
   "metadata": {
    "tags": []
   },
   "source": [
    "# load packages"
   ]
  },
  {
   "cell_type": "code",
   "execution_count": 3,
   "id": "fd643f48-4754-429a-8894-676a5a27fc4d",
   "metadata": {},
   "outputs": [],
   "source": [
    "library(readr)\n",
    "library(dplyr)\n",
    "library(car)\n",
    "library(Hmisc)\n",
    "library(plm)\n",
    "library(stargazer)"
   ]
  },
  {
   "cell_type": "markdown",
   "id": "fba18410-8324-42a5-a5c6-67baa3b4c3bf",
   "metadata": {
    "tags": []
   },
   "source": [
    "# load data"
   ]
  },
  {
   "cell_type": "code",
   "execution_count": 4,
   "id": "c59d70d6-c7b1-43f4-a453-eee36dcf28e8",
   "metadata": {},
   "outputs": [
    {
     "name": "stderr",
     "output_type": "stream",
     "text": [
      "\u001b[1mRows: \u001b[22m\u001b[34m630\u001b[39m \u001b[1mColumns: \u001b[22m\u001b[34m59\u001b[39m\n",
      "\n",
      "\u001b[36m──\u001b[39m \u001b[1mColumn specification\u001b[22m \u001b[36m──────────────────────────────────────────────────────────────\u001b[39m\n",
      "\u001b[1mDelimiter:\u001b[22m \",\"\n",
      "\u001b[32mdbl\u001b[39m (59): county, year, crmrte, prbarr, prbconv, prbpris, avgsen, polpc, den...\n",
      "\n",
      "\n",
      "\u001b[36mℹ\u001b[39m Use \u001b[30m\u001b[47m\u001b[30m\u001b[47m`spec()`\u001b[47m\u001b[30m\u001b[49m\u001b[39m to retrieve the full column specification for this data.\n",
      "\u001b[36mℹ\u001b[39m Specify the column types or set \u001b[30m\u001b[47m\u001b[30m\u001b[47m`show_col_types = FALSE`\u001b[47m\u001b[30m\u001b[49m\u001b[39m to quiet this message.\n",
      "\n"
     ]
    }
   ],
   "source": [
    "data <- read_csv(\"CRIME4.csv\")"
   ]
  },
  {
   "cell_type": "markdown",
   "id": "aa29d264-308f-47f7-beb7-1e5a5158a5c5",
   "metadata": {
    "tags": []
   },
   "source": [
    "# check variable names"
   ]
  },
  {
   "cell_type": "code",
   "execution_count": 5,
   "id": "5427886d-27cc-4189-a6ca-8fe3d8e11c97",
   "metadata": {},
   "outputs": [
    {
     "data": {
      "text/html": [
       "<style>\n",
       ".list-inline {list-style: none; margin:0; padding: 0}\n",
       ".list-inline>li {display: inline-block}\n",
       ".list-inline>li:not(:last-child)::after {content: \"\\00b7\"; padding: 0 .5ex}\n",
       "</style>\n",
       "<ol class=list-inline><li>'county'</li><li>'year'</li><li>'crmrte'</li><li>'prbarr'</li><li>'prbconv'</li><li>'prbpris'</li><li>'avgsen'</li><li>'polpc'</li><li>'density'</li><li>'taxpc'</li><li>'west'</li><li>'central'</li><li>'urban'</li><li>'pctmin80'</li><li>'wcon'</li><li>'wtuc'</li><li>'wtrd'</li><li>'wfir'</li><li>'wser'</li><li>'wmfg'</li><li>'wfed'</li><li>'wsta'</li><li>'wloc'</li><li>'mix'</li><li>'pctymle'</li><li>'d82'</li><li>'d83'</li><li>'d84'</li><li>'d85'</li><li>'d86'</li><li>'d87'</li><li>'lcrmrte'</li><li>'lprbarr'</li><li>'lprbconv'</li><li>'lprbpris'</li><li>'lavgsen'</li><li>'lpolpc'</li><li>'ldensity'</li><li>'ltaxpc'</li><li>'lwcon'</li><li>'lwtuc'</li><li>'lwtrd'</li><li>'lwfir'</li><li>'lwser'</li><li>'lwmfg'</li><li>'lwfed'</li><li>'lwsta'</li><li>'lwloc'</li><li>'lmix'</li><li>'lpctymle'</li><li>'lpctmin'</li><li>'clcrmrte'</li><li>'clprbarr'</li><li>'clprbcon'</li><li>'clprbpri'</li><li>'clavgsen'</li><li>'clpolpc'</li><li>'cltaxpc'</li><li>'clmix'</li></ol>\n"
      ],
      "text/latex": [
       "\\begin{enumerate*}\n",
       "\\item 'county'\n",
       "\\item 'year'\n",
       "\\item 'crmrte'\n",
       "\\item 'prbarr'\n",
       "\\item 'prbconv'\n",
       "\\item 'prbpris'\n",
       "\\item 'avgsen'\n",
       "\\item 'polpc'\n",
       "\\item 'density'\n",
       "\\item 'taxpc'\n",
       "\\item 'west'\n",
       "\\item 'central'\n",
       "\\item 'urban'\n",
       "\\item 'pctmin80'\n",
       "\\item 'wcon'\n",
       "\\item 'wtuc'\n",
       "\\item 'wtrd'\n",
       "\\item 'wfir'\n",
       "\\item 'wser'\n",
       "\\item 'wmfg'\n",
       "\\item 'wfed'\n",
       "\\item 'wsta'\n",
       "\\item 'wloc'\n",
       "\\item 'mix'\n",
       "\\item 'pctymle'\n",
       "\\item 'd82'\n",
       "\\item 'd83'\n",
       "\\item 'd84'\n",
       "\\item 'd85'\n",
       "\\item 'd86'\n",
       "\\item 'd87'\n",
       "\\item 'lcrmrte'\n",
       "\\item 'lprbarr'\n",
       "\\item 'lprbconv'\n",
       "\\item 'lprbpris'\n",
       "\\item 'lavgsen'\n",
       "\\item 'lpolpc'\n",
       "\\item 'ldensity'\n",
       "\\item 'ltaxpc'\n",
       "\\item 'lwcon'\n",
       "\\item 'lwtuc'\n",
       "\\item 'lwtrd'\n",
       "\\item 'lwfir'\n",
       "\\item 'lwser'\n",
       "\\item 'lwmfg'\n",
       "\\item 'lwfed'\n",
       "\\item 'lwsta'\n",
       "\\item 'lwloc'\n",
       "\\item 'lmix'\n",
       "\\item 'lpctymle'\n",
       "\\item 'lpctmin'\n",
       "\\item 'clcrmrte'\n",
       "\\item 'clprbarr'\n",
       "\\item 'clprbcon'\n",
       "\\item 'clprbpri'\n",
       "\\item 'clavgsen'\n",
       "\\item 'clpolpc'\n",
       "\\item 'cltaxpc'\n",
       "\\item 'clmix'\n",
       "\\end{enumerate*}\n"
      ],
      "text/markdown": [
       "1. 'county'\n",
       "2. 'year'\n",
       "3. 'crmrte'\n",
       "4. 'prbarr'\n",
       "5. 'prbconv'\n",
       "6. 'prbpris'\n",
       "7. 'avgsen'\n",
       "8. 'polpc'\n",
       "9. 'density'\n",
       "10. 'taxpc'\n",
       "11. 'west'\n",
       "12. 'central'\n",
       "13. 'urban'\n",
       "14. 'pctmin80'\n",
       "15. 'wcon'\n",
       "16. 'wtuc'\n",
       "17. 'wtrd'\n",
       "18. 'wfir'\n",
       "19. 'wser'\n",
       "20. 'wmfg'\n",
       "21. 'wfed'\n",
       "22. 'wsta'\n",
       "23. 'wloc'\n",
       "24. 'mix'\n",
       "25. 'pctymle'\n",
       "26. 'd82'\n",
       "27. 'd83'\n",
       "28. 'd84'\n",
       "29. 'd85'\n",
       "30. 'd86'\n",
       "31. 'd87'\n",
       "32. 'lcrmrte'\n",
       "33. 'lprbarr'\n",
       "34. 'lprbconv'\n",
       "35. 'lprbpris'\n",
       "36. 'lavgsen'\n",
       "37. 'lpolpc'\n",
       "38. 'ldensity'\n",
       "39. 'ltaxpc'\n",
       "40. 'lwcon'\n",
       "41. 'lwtuc'\n",
       "42. 'lwtrd'\n",
       "43. 'lwfir'\n",
       "44. 'lwser'\n",
       "45. 'lwmfg'\n",
       "46. 'lwfed'\n",
       "47. 'lwsta'\n",
       "48. 'lwloc'\n",
       "49. 'lmix'\n",
       "50. 'lpctymle'\n",
       "51. 'lpctmin'\n",
       "52. 'clcrmrte'\n",
       "53. 'clprbarr'\n",
       "54. 'clprbcon'\n",
       "55. 'clprbpri'\n",
       "56. 'clavgsen'\n",
       "57. 'clpolpc'\n",
       "58. 'cltaxpc'\n",
       "59. 'clmix'\n",
       "\n",
       "\n"
      ],
      "text/plain": [
       " [1] \"county\"   \"year\"     \"crmrte\"   \"prbarr\"   \"prbconv\"  \"prbpris\" \n",
       " [7] \"avgsen\"   \"polpc\"    \"density\"  \"taxpc\"    \"west\"     \"central\" \n",
       "[13] \"urban\"    \"pctmin80\" \"wcon\"     \"wtuc\"     \"wtrd\"     \"wfir\"    \n",
       "[19] \"wser\"     \"wmfg\"     \"wfed\"     \"wsta\"     \"wloc\"     \"mix\"     \n",
       "[25] \"pctymle\"  \"d82\"      \"d83\"      \"d84\"      \"d85\"      \"d86\"     \n",
       "[31] \"d87\"      \"lcrmrte\"  \"lprbarr\"  \"lprbconv\" \"lprbpris\" \"lavgsen\" \n",
       "[37] \"lpolpc\"   \"ldensity\" \"ltaxpc\"   \"lwcon\"    \"lwtuc\"    \"lwtrd\"   \n",
       "[43] \"lwfir\"    \"lwser\"    \"lwmfg\"    \"lwfed\"    \"lwsta\"    \"lwloc\"   \n",
       "[49] \"lmix\"     \"lpctymle\" \"lpctmin\"  \"clcrmrte\" \"clprbarr\" \"clprbcon\"\n",
       "[55] \"clprbpri\" \"clavgsen\" \"clpolpc\"  \"cltaxpc\"  \"clmix\"   "
      ]
     },
     "metadata": {},
     "output_type": "display_data"
    }
   ],
   "source": [
    "colnames(data)"
   ]
  },
  {
   "cell_type": "markdown",
   "id": "b89c6a5f-12aa-4f80-9698-786bb3da4f1b",
   "metadata": {
    "tags": []
   },
   "source": [
    "# drop $year > 1985$"
   ]
  },
  {
   "cell_type": "code",
   "execution_count": 6,
   "id": "b38c2ef8-8a7c-4055-8b2b-17853cdcaa3a",
   "metadata": {},
   "outputs": [
    {
     "data": {
      "image/png": "[encoded data removed]",
      "text/plain": [
       "Plot with title “Histogram of data$year”"
      ]
     },
     "metadata": {
      "image/png": {
       "height": 420,
       "width": 420
      }
     },
     "output_type": "display_data"
    }
   ],
   "source": [
    "data <- data[data$year <=84,]\n",
    "\n",
    "hist(data$year)"
   ]
  },
  {
   "cell_type": "markdown",
   "id": "e3ebc2b4-0d80-4940-bc38-521e916321a1",
   "metadata": {
    "tags": []
   },
   "source": [
    "# drop $year<1984$"
   ]
  },
  {
   "cell_type": "code",
   "execution_count": 7,
   "id": "8148d67b-8533-443e-bf13-511b0e880730",
   "metadata": {},
   "outputs": [
    {
     "name": "stderr",
     "output_type": "stream",
     "text": [
      "\u001b[1mRows: \u001b[22m\u001b[34m630\u001b[39m \u001b[1mColumns: \u001b[22m\u001b[34m59\u001b[39m\n",
      "\n",
      "\u001b[36m──\u001b[39m \u001b[1mColumn specification\u001b[22m \u001b[36m──────────────────────────────────────────────────────────────\u001b[39m\n",
      "\u001b[1mDelimiter:\u001b[22m \",\"\n",
      "\u001b[32mdbl\u001b[39m (59): county, year, crmrte, prbarr, prbconv, prbpris, avgsen, polpc, den...\n",
      "\n",
      "\n",
      "\u001b[36mℹ\u001b[39m Use \u001b[30m\u001b[47m\u001b[30m\u001b[47m`spec()`\u001b[47m\u001b[30m\u001b[49m\u001b[39m to retrieve the full column specification for this data.\n",
      "\u001b[36mℹ\u001b[39m Specify the column types or set \u001b[30m\u001b[47m\u001b[30m\u001b[47m`show_col_types = FALSE`\u001b[47m\u001b[30m\u001b[49m\u001b[39m to quiet this message.\n",
      "\n"
     ]
    },
    {
     "data": {
      "image/png": "[encoded data removed]",
      "text/plain": [
       "Plot with title “Histogram of data$year”"
      ]
     },
     "metadata": {
      "image/png": {
       "height": 420,
       "width": 420
      }
     },
     "output_type": "display_data"
    }
   ],
   "source": [
    "data <- read_csv(\"CRIME4.csv\")\n",
    "\n",
    "data <- data[data$year >=84,]\n",
    "\n",
    "hist(data$year)"
   ]
  },
  {
   "cell_type": "markdown",
   "id": "4c24df6b-05f2-4c81-9dc2-adf98ec15e2d",
   "metadata": {},
   "source": [
    "# (c) POLS"
   ]
  },
  {
   "cell_type": "code",
   "execution_count": 8,
   "id": "049468ba-28c6-45cc-b0d8-8bda854600ad",
   "metadata": {},
   "outputs": [],
   "source": [
    "panel <- pdata.frame(data, index=c(\"county\",\"year\"))"
   ]
  },
  {
   "cell_type": "code",
   "execution_count": 9,
   "id": "66bb2f16-ea9e-4aca-bb2c-d68b9e4ea9f6",
   "metadata": {},
   "outputs": [
    {
     "data": {
      "text/plain": [
       "Pooling Model\n",
       "\n",
       "Call:\n",
       "plm(formula = lcrmrte ~ lprbarr + lprbconv + lprbpris + lavgsen + \n",
       "    lpolpc + ldensity, data = panel, model = \"pooling\")\n",
       "\n",
       "Balanced Panel: n = 90, T = 4, N = 360\n",
       "\n",
       "Residuals:\n",
       "     Min.   1st Qu.    Median   3rd Qu.      Max. \n",
       "-1.750359 -0.192668 -0.007468  0.218432  1.473721 \n",
       "\n",
       "Coefficients:\n",
       "             Estimate Std. Error  t-value  Pr(>|t|)    \n",
       "(Intercept) -2.310530   0.298850  -7.7314 1.120e-13 ***\n",
       "lprbarr     -0.533485   0.054792  -9.7365 < 2.2e-16 ***\n",
       "lprbconv    -0.402804   0.036587 -11.0095 < 2.2e-16 ***\n",
       "lprbpris     0.037909   0.089723   0.4225    0.6729    \n",
       "lavgsen     -0.071512   0.073233  -0.9765    0.3295    \n",
       "lpolpc       0.322680   0.037582   8.5861 2.919e-16 ***\n",
       "ldensity     0.252356   0.031417   8.0324 1.444e-14 ***\n",
       "---\n",
       "Signif. codes:  0 ‘***’ 0.001 ‘**’ 0.01 ‘*’ 0.05 ‘.’ 0.1 ‘ ’ 1\n",
       "\n",
       "Total Sum of Squares:    123.7\n",
       "Residual Sum of Squares: 46.012\n",
       "R-Squared:      0.62804\n",
       "Adj. R-Squared: 0.62172\n",
       "F-statistic: 99.3392 on 6 and 353 DF, p-value: < 2.22e-16"
      ]
     },
     "metadata": {},
     "output_type": "display_data"
    }
   ],
   "source": [
    "POLS = plm(lcrmrte ~ lprbarr + lprbconv + lprbpris + lavgsen + lpolpc + ldensity, data=panel, model=\"pooling\")\n",
    "summary(POLS)"
   ]
  },
  {
   "cell_type": "code",
   "execution_count": 10,
   "id": "aae57b3c-95c7-4c66-a763-f4676504fdd0",
   "metadata": {},
   "outputs": [
    {
     "data": {
      "text/plain": [
       "Pooling Model\n",
       "\n",
       "Note: Coefficient variance-covariance matrix supplied: vcovHC\n",
       "\n",
       "Call:\n",
       "plm(formula = lcrmrte ~ lprbarr + lprbconv + lprbpris + lavgsen + \n",
       "    lpolpc + ldensity, data = panel, model = \"pooling\")\n",
       "\n",
       "Balanced Panel: n = 90, T = 4, N = 360\n",
       "\n",
       "Residuals:\n",
       "     Min.   1st Qu.    Median   3rd Qu.      Max. \n",
       "-1.750359 -0.192668 -0.007468  0.218432  1.473721 \n",
       "\n",
       "Coefficients:\n",
       "             Estimate Std. Error t-value  Pr(>|t|)    \n",
       "(Intercept) -2.310530   1.124935 -2.0539 0.0407192 *  \n",
       "lprbarr     -0.533485   0.148603 -3.5900 0.0003775 ***\n",
       "lprbconv    -0.402804   0.083325 -4.8341 1.999e-06 ***\n",
       "lprbpris     0.037909   0.111024  0.3414 0.7329712    \n",
       "lavgsen     -0.071512   0.100901 -0.7087 0.4789565    \n",
       "lpolpc       0.322680   0.154493  2.0886 0.0374555 *  \n",
       "ldensity     0.252356   0.069680  3.6216 0.0003356 ***\n",
       "---\n",
       "Signif. codes:  0 ‘***’ 0.001 ‘**’ 0.01 ‘*’ 0.05 ‘.’ 0.1 ‘ ’ 1\n",
       "\n",
       "Total Sum of Squares:    123.7\n",
       "Residual Sum of Squares: 46.012\n",
       "R-Squared:      0.62804\n",
       "Adj. R-Squared: 0.62172\n",
       "F-statistic: 56.5642 on 6 and 89 DF, p-value: < 2.22e-16"
      ]
     },
     "metadata": {},
     "output_type": "display_data"
    }
   ],
   "source": [
    "summary(POLS, vcovHC)"
   ]
  },
  {
   "cell_type": "markdown",
   "id": "653b7c5f-1254-4bb2-b11b-70218fe919bb",
   "metadata": {},
   "source": [
    "# (c) FD"
   ]
  },
  {
   "cell_type": "code",
   "execution_count": 11,
   "id": "e04fc207-f04a-4a16-bf4d-d6164c80e275",
   "metadata": {},
   "outputs": [
    {
     "data": {
      "text/plain": [
       "Oneway (individual) effect First-Difference Model\n",
       "\n",
       "Call:\n",
       "plm(formula = lcrmrte ~ lprbarr + lprbconv + lprbpris + lavgsen + \n",
       "    lpolpc + ldensity, data = panel, model = \"fd\")\n",
       "\n",
       "Balanced Panel: n = 90, T = 4, N = 360\n",
       "Observations used in estimation: 270\n",
       "\n",
       "Residuals:\n",
       "     Min.   1st Qu.    Median   3rd Qu.      Max. \n",
       "-0.646731 -0.068849  0.010034  0.078681  0.694294 \n",
       "\n",
       "Coefficients:\n",
       "             Estimate Std. Error  t-value  Pr(>|t|)    \n",
       "(Intercept)  0.023643   0.013502   1.7511   0.08109 .  \n",
       "lprbarr     -0.349571   0.044882  -7.7887 1.567e-13 ***\n",
       "lprbconv    -0.271996   0.026534 -10.2507 < 2.2e-16 ***\n",
       "lprbpris    -0.182789   0.040141  -4.5537 8.069e-06 ***\n",
       "lavgsen     -0.066671   0.035578  -1.8739   0.06205 .  \n",
       "lpolpc       0.406191   0.037999  10.6896 < 2.2e-16 ***\n",
       "ldensity     0.508023   0.805962   0.6303   0.52903    \n",
       "---\n",
       "Signif. codes:  0 ‘***’ 0.001 ‘**’ 0.01 ‘*’ 0.05 ‘.’ 0.1 ‘ ’ 1\n",
       "\n",
       "Total Sum of Squares:    12.937\n",
       "Residual Sum of Squares: 7.4967\n",
       "R-Squared:      0.42051\n",
       "Adj. R-Squared: 0.40729\n",
       "F-statistic: 31.8076 on 6 and 263 DF, p-value: < 2.22e-16"
      ]
     },
     "metadata": {},
     "output_type": "display_data"
    }
   ],
   "source": [
    "FD = plm(lcrmrte ~ lprbarr + lprbconv + lprbpris + lavgsen + lpolpc + ldensity, data=panel, model=\"fd\")\n",
    "summary(FD)"
   ]
  },
  {
   "cell_type": "code",
   "execution_count": 12,
   "id": "63846b6a-fdaf-45a2-9ccf-35f3ac5872aa",
   "metadata": {},
   "outputs": [
    {
     "data": {
      "text/plain": [
       "Oneway (individual) effect First-Difference Model\n",
       "\n",
       "Note: Coefficient variance-covariance matrix supplied: vcovHC\n",
       "\n",
       "Call:\n",
       "plm(formula = lcrmrte ~ lprbarr + lprbconv + lprbpris + lavgsen + \n",
       "    lpolpc + ldensity, data = panel, model = \"fd\")\n",
       "\n",
       "Balanced Panel: n = 90, T = 4, N = 360\n",
       "Observations used in estimation: 270\n",
       "\n",
       "Residuals:\n",
       "     Min.   1st Qu.    Median   3rd Qu.      Max. \n",
       "-0.646731 -0.068849  0.010034  0.078681  0.694294 \n",
       "\n",
       "Coefficients:\n",
       "             Estimate Std. Error t-value  Pr(>|t|)    \n",
       "(Intercept)  0.023643   0.011397  2.0746   0.03900 *  \n",
       "lprbarr     -0.349571   0.077211 -4.5275 9.054e-06 ***\n",
       "lprbconv    -0.271996   0.057336 -4.7439 3.442e-06 ***\n",
       "lprbpris    -0.182789   0.072105 -2.5350   0.01182 *  \n",
       "lavgsen     -0.066671   0.048405 -1.3774   0.16957    \n",
       "lpolpc       0.406191   0.101390  4.0062 8.036e-05 ***\n",
       "ldensity     0.508023   0.675973  0.7515   0.45300    \n",
       "---\n",
       "Signif. codes:  0 ‘***’ 0.001 ‘**’ 0.01 ‘*’ 0.05 ‘.’ 0.1 ‘ ’ 1\n",
       "\n",
       "Total Sum of Squares:    12.937\n",
       "Residual Sum of Squares: 7.4967\n",
       "R-Squared:      0.42051\n",
       "Adj. R-Squared: 0.40729\n",
       "F-statistic: 4.81257 on 6 and 89 DF, p-value: 0.00026963"
      ]
     },
     "metadata": {},
     "output_type": "display_data"
    }
   ],
   "source": [
    "summary(FD, vcovHC)"
   ]
  },
  {
   "cell_type": "markdown",
   "id": "74fea472-fb8c-4d0e-90ab-91fcb10674ad",
   "metadata": {},
   "source": [
    "# (c) RE"
   ]
  },
  {
   "cell_type": "code",
   "execution_count": 13,
   "id": "885133b2-ed5b-402e-8d16-ff94a22c4040",
   "metadata": {},
   "outputs": [
    {
     "data": {
      "text/plain": [
       "Oneway (individual) effect Random Effect Model \n",
       "   (Swamy-Arora's transformation)\n",
       "\n",
       "Call:\n",
       "plm(formula = lcrmrte ~ lprbarr + lprbconv + lprbpris + lavgsen + \n",
       "    lpolpc + ldensity, data = panel, model = \"random\")\n",
       "\n",
       "Balanced Panel: n = 90, T = 4, N = 360\n",
       "\n",
       "Effects:\n",
       "                  var std.dev share\n",
       "idiosyncratic 0.01808 0.13446 0.149\n",
       "individual    0.10316 0.32119 0.851\n",
       "theta: 0.7951\n",
       "\n",
       "Residuals:\n",
       "      Min.    1st Qu.     Median    3rd Qu.       Max. \n",
       "-0.8948654 -0.0732675  0.0030264  0.0736555  0.5828784 \n",
       "\n",
       "Coefficients:\n",
       "             Estimate Std. Error  z-value  Pr(>|z|)    \n",
       "(Intercept) -1.994206   0.217737  -9.1588 < 2.2e-16 ***\n",
       "lprbarr     -0.376711   0.042788  -8.8041 < 2.2e-16 ***\n",
       "lprbconv    -0.296425   0.027202 -10.8971 < 2.2e-16 ***\n",
       "lprbpris    -0.223284   0.044244  -5.0466 4.497e-07 ***\n",
       "lavgsen     -0.032446   0.036741  -0.8831    0.3772    \n",
       "lpolpc       0.378174   0.033274  11.3655 < 2.2e-16 ***\n",
       "ldensity     0.341234   0.048498   7.0361 1.977e-12 ***\n",
       "---\n",
       "Signif. codes:  0 ‘***’ 0.001 ‘**’ 0.01 ‘*’ 0.05 ‘.’ 0.1 ‘ ’ 1\n",
       "\n",
       "Total Sum of Squares:    12.976\n",
       "Residual Sum of Squares: 6.8228\n",
       "R-Squared:      0.47419\n",
       "Adj. R-Squared: 0.46525\n",
       "Chisq: 318.339 on 6 DF, p-value: < 2.22e-16"
      ]
     },
     "metadata": {},
     "output_type": "display_data"
    }
   ],
   "source": [
    "RE = plm(lcrmrte ~ lprbarr + lprbconv + lprbpris + lavgsen + lpolpc + ldensity, data=panel, model=\"random\")\n",
    "summary(RE)"
   ]
  },
  {
   "cell_type": "code",
   "execution_count": 14,
   "id": "36afdc6f-c9ea-4346-ade0-76e0b4b8f3c6",
   "metadata": {},
   "outputs": [
    {
     "data": {
      "text/plain": [
       "Oneway (individual) effect Random Effect Model \n",
       "   (Swamy-Arora's transformation)\n",
       "\n",
       "Note: Coefficient variance-covariance matrix supplied: vcovHC\n",
       "\n",
       "Call:\n",
       "plm(formula = lcrmrte ~ lprbarr + lprbconv + lprbpris + lavgsen + \n",
       "    lpolpc + ldensity, data = panel, model = \"random\")\n",
       "\n",
       "Balanced Panel: n = 90, T = 4, N = 360\n",
       "\n",
       "Effects:\n",
       "                  var std.dev share\n",
       "idiosyncratic 0.01808 0.13446 0.149\n",
       "individual    0.10316 0.32119 0.851\n",
       "theta: 0.7951\n",
       "\n",
       "Residuals:\n",
       "      Min.    1st Qu.     Median    3rd Qu.       Max. \n",
       "-0.8948654 -0.0732675  0.0030264  0.0736555  0.5828784 \n",
       "\n",
       "Coefficients:\n",
       "             Estimate Std. Error z-value  Pr(>|z|)    \n",
       "(Intercept) -1.994206   0.622937 -3.2013  0.001368 ** \n",
       "lprbarr     -0.376711   0.070812 -5.3199 1.038e-07 ***\n",
       "lprbconv    -0.296425   0.054721 -5.4171 6.058e-08 ***\n",
       "lprbpris    -0.223284   0.077051 -2.8979  0.003757 ** \n",
       "lavgsen     -0.032446   0.058186 -0.5576  0.577102    \n",
       "lpolpc       0.378174   0.092421  4.0919 4.279e-05 ***\n",
       "ldensity     0.341234   0.065745  5.1903 2.100e-07 ***\n",
       "---\n",
       "Signif. codes:  0 ‘***’ 0.001 ‘**’ 0.01 ‘*’ 0.05 ‘.’ 0.1 ‘ ’ 1\n",
       "\n",
       "Total Sum of Squares:    12.976\n",
       "Residual Sum of Squares: 6.8228\n",
       "R-Squared:      0.47419\n",
       "Adj. R-Squared: 0.46525\n",
       "Chisq: 296.409 on 6 DF, p-value: < 2.22e-16"
      ]
     },
     "metadata": {},
     "output_type": "display_data"
    }
   ],
   "source": [
    "summary(RE, vcovHC)"
   ]
  },
  {
   "cell_type": "markdown",
   "id": "1d996be9-4632-48a7-b7ce-0c693b766002",
   "metadata": {},
   "source": [
    "# (c) FE"
   ]
  },
  {
   "cell_type": "code",
   "execution_count": 15,
   "id": "1f09926f-835a-480c-8f76-618015ea5f21",
   "metadata": {},
   "outputs": [
    {
     "data": {
      "text/plain": [
       "Oneway (individual) effect Within Model\n",
       "\n",
       "Call:\n",
       "plm(formula = lcrmrte ~ lprbarr + lprbconv + lprbpris + lavgsen + \n",
       "    lpolpc + ldensity, data = panel, model = \"within\")\n",
       "\n",
       "Balanced Panel: n = 90, T = 4, N = 360\n",
       "\n",
       "Residuals:\n",
       "      Min.    1st Qu.     Median    3rd Qu.       Max. \n",
       "-0.6001390 -0.0570728 -0.0022374  0.0571892  0.5149102 \n",
       "\n",
       "Coefficients:\n",
       "          Estimate Std. Error t-value  Pr(>|t|)    \n",
       "lprbarr  -0.328842   0.045534 -7.2220 5.480e-12 ***\n",
       "lprbconv -0.270246   0.028739 -9.4033 < 2.2e-16 ***\n",
       "lprbpris -0.198473   0.045232 -4.3879 1.656e-05 ***\n",
       "lavgsen  -0.051996   0.037253 -1.3957 0.1639674    \n",
       "lpolpc    0.390932   0.035826 10.9119 < 2.2e-16 ***\n",
       "ldensity  1.578019   0.436562  3.6146 0.0003601 ***\n",
       "---\n",
       "Signif. codes:  0 ‘***’ 0.001 ‘**’ 0.01 ‘*’ 0.05 ‘.’ 0.1 ‘ ’ 1\n",
       "\n",
       "Total Sum of Squares:    8.1243\n",
       "Residual Sum of Squares: 4.773\n",
       "R-Squared:      0.4125\n",
       "Adj. R-Squared: 0.20109\n",
       "F-statistic: 30.8941 on 6 and 264 DF, p-value: < 2.22e-16"
      ]
     },
     "metadata": {},
     "output_type": "display_data"
    }
   ],
   "source": [
    "FE = plm(lcrmrte ~ lprbarr + lprbconv + lprbpris + lavgsen + lpolpc + ldensity, data=panel, model=\"within\")\n",
    "summary(FE)"
   ]
  },
  {
   "cell_type": "code",
   "execution_count": 16,
   "id": "c96d8245-9623-4a46-af45-bef9695515d3",
   "metadata": {},
   "outputs": [
    {
     "data": {
      "text/plain": [
       "Oneway (individual) effect Within Model\n",
       "\n",
       "Note: Coefficient variance-covariance matrix supplied: vcovHC\n",
       "\n",
       "Call:\n",
       "plm(formula = lcrmrte ~ lprbarr + lprbconv + lprbpris + lavgsen + \n",
       "    lpolpc + ldensity, data = panel, model = \"within\")\n",
       "\n",
       "Balanced Panel: n = 90, T = 4, N = 360\n",
       "\n",
       "Residuals:\n",
       "      Min.    1st Qu.     Median    3rd Qu.       Max. \n",
       "-0.6001390 -0.0570728 -0.0022374  0.0571892  0.5149102 \n",
       "\n",
       "Coefficients:\n",
       "          Estimate Std. Error t-value  Pr(>|t|)    \n",
       "lprbarr  -0.328842   0.067144 -4.8975 1.693e-06 ***\n",
       "lprbconv -0.270246   0.058797 -4.5963 6.673e-06 ***\n",
       "lprbpris -0.198473   0.080121 -2.4772   0.01387 *  \n",
       "lavgsen  -0.051996   0.061397 -0.8469   0.39783    \n",
       "lpolpc    0.390932   0.083053  4.7070 4.063e-06 ***\n",
       "ldensity  1.578019   0.332375  4.7477 3.377e-06 ***\n",
       "---\n",
       "Signif. codes:  0 ‘***’ 0.001 ‘**’ 0.01 ‘*’ 0.05 ‘.’ 0.1 ‘ ’ 1\n",
       "\n",
       "Total Sum of Squares:    8.1243\n",
       "Residual Sum of Squares: 4.773\n",
       "R-Squared:      0.4125\n",
       "Adj. R-Squared: 0.20109\n",
       "F-statistic: 13.6989 on 6 and 89 DF, p-value: 5.8273e-11"
      ]
     },
     "metadata": {},
     "output_type": "display_data"
    }
   ],
   "source": [
    "summary(FE, vcovHC)"
   ]
  },
  {
   "cell_type": "markdown",
   "id": "02c6a23b-6a4b-48d5-9839-48060f684af9",
   "metadata": {},
   "source": [
    "# (c) comparison table"
   ]
  },
  {
   "cell_type": "code",
   "execution_count": 17,
   "id": "9b254948-c492-43d5-861b-c239139fc632",
   "metadata": {},
   "outputs": [
    {
     "name": "stdout",
     "output_type": "stream",
     "text": [
      "\n",
      "Panel regressions\n",
      "===============================================================================================\n",
      "                                        Dependent variable: lcrmrte                            \n",
      "             ----------------------------------------------------------------------------------\n",
      "                   Pooled OLS                  FD                      FE                RE    \n",
      "-----------------------------------------------------------------------------------------------\n",
      "lprbarr             -0.533***               -0.350***               -0.329***        -0.377*** \n",
      "                     (0.055)                 (0.045)                 (0.046)          (0.043)  \n",
      "                                                                                               \n",
      "lprbconv            -0.403***               -0.272***               -0.270***        -0.296*** \n",
      "                     (0.037)                 (0.027)                 (0.029)          (0.027)  \n",
      "                                                                                               \n",
      "lprbpris              0.038                 -0.183***               -0.198***        -0.223*** \n",
      "                     (0.090)                 (0.040)                 (0.045)          (0.044)  \n",
      "                                                                                               \n",
      "lavgsen              -0.072                  -0.067*                 -0.052            -0.032  \n",
      "                     (0.073)                 (0.036)                 (0.037)          (0.037)  \n",
      "                                                                                               \n",
      "lpolpc              0.323***                0.406***                0.391***          0.378*** \n",
      "                     (0.038)                 (0.038)                 (0.036)          (0.033)  \n",
      "                                                                                               \n",
      "ldensity            0.252***                  0.508                 1.578***          0.341*** \n",
      "                     (0.031)                 (0.806)                 (0.437)          (0.048)  \n",
      "                                                                                               \n",
      "Constant            -2.311***                0.024*                                  -1.994*** \n",
      "                     (0.299)                 (0.014)                                  (0.218)  \n",
      "                                                                                               \n",
      "-----------------------------------------------------------------------------------------------\n",
      "Observations           360                     270                     360              360    \n",
      "R2                    0.628                   0.421                   0.413            0.474   \n",
      "Adjusted R2           0.622                   0.407                   0.201            0.465   \n",
      "F Statistic  99.339*** (df = 6; 353) 31.808*** (df = 6; 263) 30.894*** (df = 6; 264) 318.339***\n",
      "===============================================================================================\n"
     ]
    }
   ],
   "source": [
    "stargazer(POLS, FD, FE, RE,\n",
    "          title=\"Panel regressions\",\n",
    "          header=FALSE, \n",
    "          type=\"text\",  \n",
    "          omit.table.layout=\"n\",\n",
    "          digits=3, \n",
    "          intercept.bottom=TRUE, \n",
    "          dep.var.labels.include = FALSE,\n",
    "          model.numbers = FALSE,\n",
    "          dep.var.caption=\"Dependent variable: lcrmrte\",\n",
    "          model.names=FALSE,\n",
    "          omit.stat=c(\"LL\",\"ser\"),\n",
    "          column.labels=c(\"Pooled OLS\", \"FD\", \"FE\", \"RE\"))"
   ]
  },
  {
   "cell_type": "markdown",
   "id": "7a3d0313-c1dd-4954-a903-8f264709a4fa",
   "metadata": {},
   "source": [
    "# (d) test FE vs RE"
   ]
  },
  {
   "cell_type": "code",
   "execution_count": 18,
   "id": "57cc42c7-018b-426f-94c2-03b91f20f393",
   "metadata": {},
   "outputs": [
    {
     "data": {
      "text/plain": [
       "\n",
       "\tHausman Test\n",
       "\n",
       "data:  lcrmrte ~ lprbarr + lprbconv + lprbpris + lavgsen + lpolpc +  ...\n",
       "chisq = 19.366, df = 6, p-value = 0.003589\n",
       "alternative hypothesis: one model is inconsistent\n"
      ]
     },
     "metadata": {},
     "output_type": "display_data"
    }
   ],
   "source": [
    "phtest(FE, RE)"
   ]
  },
  {
   "cell_type": "markdown",
   "id": "15b5030c-42c3-416f-801e-64392c156c53",
   "metadata": {},
   "source": [
    "# (f) IV regression for FD (aka why linear modelling typically sucks in real life)\n",
    "\n",
    "## * R-squared is invalid (aka not computable), meaning this model has no prediction power\n",
    "## * none variable is significant "
   ]
  },
  {
   "cell_type": "code",
   "execution_count": 19,
   "id": "119a10b8-0cf3-4070-8392-fe2005bff42d",
   "metadata": {},
   "outputs": [],
   "source": [
    "FD2SLS <- plm(lcrmrte ~ lprbarr + lprbconv + lprbpris + lavgsen + lpolpc + ldensity\n",
    "                  | lprbarr + lprbconv + lprbpris + lavgsen + ldensity + ltaxpc,\n",
    "                  data = panel, model = \"fd\")"
   ]
  },
  {
   "cell_type": "code",
   "execution_count": 22,
   "id": "fd6dd5a1-53bc-4d9b-b8c7-612d678ecaf9",
   "metadata": {},
   "outputs": [
    {
     "data": {
      "text/plain": [
       "Oneway (individual) effect First-Difference Model\n",
       "Instrumental variable estimation\n",
       "   (Balestra-Varadharajan-Krishnakumar's transformation)\n",
       "\n",
       "Call:\n",
       "plm(formula = lcrmrte ~ lprbarr + lprbconv + lprbpris + lavgsen + \n",
       "    lpolpc + ldensity | lprbarr + lprbconv + lprbpris + lavgsen + \n",
       "    ldensity + ltaxpc, data = panel, model = \"fd\")\n",
       "\n",
       "Balanced Panel: n = 90, T = 4, N = 360\n",
       "Observations used in estimation: 270\n",
       "\n",
       "Residuals:\n",
       "     Min.   1st Qu.    Median   3rd Qu.      Max. \n",
       "-3.084332 -0.090585  0.018256  0.115986  0.817915 \n",
       "\n",
       "Coefficients:\n",
       "              Estimate Std. Error z-value Pr(>|z|)\n",
       "(Intercept)  0.0719137  0.0940081  0.7650   0.4443\n",
       "lprbarr     -0.2189772  0.2590977 -0.8452   0.3980\n",
       "lprbconv     0.0070008  0.5252311  0.0133   0.9894\n",
       "lprbpris    -0.1359316  0.1162045 -1.1698   0.2421\n",
       "lavgsen     -0.2174861  0.2905548 -0.7485   0.4541\n",
       "lpolpc      -0.5866111  1.8618192 -0.3151   0.7527\n",
       "ldensity    -2.2264981  5.3472941 -0.4164   0.6771\n",
       "\n",
       "Total Sum of Squares:    12.937\n",
       "Residual Sum of Squares: 26.955\n",
       "R-Squared:      0.054735\n",
       "Adj. R-Squared: 0.03317\n",
       "Chisq: 21.3971 on 6 DF, p-value: 0.0015562"
      ]
     },
     "metadata": {},
     "output_type": "display_data"
    }
   ],
   "source": [
    "summary(FD2SLS)"
   ]
  },
  {
   "cell_type": "code",
   "execution_count": 23,
   "id": "4de79024-04f0-4571-83ec-f75db9b9cbeb",
   "metadata": {},
   "outputs": [
    {
     "data": {
      "text/plain": [
       "Oneway (individual) effect First-Difference Model\n",
       "Instrumental variable estimation\n",
       "   (Balestra-Varadharajan-Krishnakumar's transformation)\n",
       "\n",
       "Note: Coefficient variance-covariance matrix supplied: vcovHC\n",
       "\n",
       "Call:\n",
       "plm(formula = lcrmrte ~ lprbarr + lprbconv + lprbpris + lavgsen + \n",
       "    lpolpc + ldensity | lprbarr + lprbconv + lprbpris + lavgsen + \n",
       "    ldensity + ltaxpc, data = panel, model = \"fd\")\n",
       "\n",
       "Balanced Panel: n = 90, T = 4, N = 360\n",
       "Observations used in estimation: 270\n",
       "\n",
       "Residuals:\n",
       "     Min.   1st Qu.    Median   3rd Qu.      Max. \n",
       "-3.084332 -0.090585  0.018256  0.115986  0.817915 \n",
       "\n",
       "Coefficients:\n",
       "              Estimate Std. Error z-value Pr(>|z|)\n",
       "(Intercept)  0.0719137  0.0833140  0.8632   0.3880\n",
       "lprbarr     -0.2189772  0.2402696 -0.9114   0.3621\n",
       "lprbconv     0.0070008  0.4678417  0.0150   0.9881\n",
       "lprbpris    -0.1359316  0.1131212 -1.2016   0.2295\n",
       "lavgsen     -0.2174861  0.3136690 -0.6934   0.4881\n",
       "lpolpc      -0.5866111  1.5544645 -0.3774   0.7059\n",
       "ldensity    -2.2264981  5.6205085 -0.3961   0.6920\n",
       "\n",
       "Total Sum of Squares:    12.937\n",
       "Residual Sum of Squares: 26.955\n",
       "R-Squared:      0.054735\n",
       "Adj. R-Squared: 0.03317\n",
       "Chisq: 20.0103 on 6 DF, p-value: 0.0027578"
      ]
     },
     "metadata": {},
     "output_type": "display_data"
    }
   ],
   "source": [
    "summary(FD2SLS, vcovHC)"
   ]
  },
  {
   "cell_type": "markdown",
   "id": "0ead08b9-e77b-4dfb-991f-e7d3e365f70d",
   "metadata": {},
   "source": [
    "# compare IV model with FD"
   ]
  },
  {
   "cell_type": "code",
   "execution_count": 24,
   "id": "7a1d42b9-a85a-4eb3-a69f-5c7c78d13eb7",
   "metadata": {},
   "outputs": [
    {
     "name": "stdout",
     "output_type": "stream",
     "text": [
      "\n",
      "Panel regressions\n",
      "=========================================================================================================\n",
      "                                             Dependent variable: lcrmrte                                 \n",
      "             --------------------------------------------------------------------------------------------\n",
      "                   Pooled OLS                  FD             FD2SLS             FE                RE    \n",
      "---------------------------------------------------------------------------------------------------------\n",
      "lprbarr             -0.533***               -0.350***         -0.219          -0.329***        -0.377*** \n",
      "                     (0.055)                 (0.045)          (0.259)          (0.046)          (0.043)  \n",
      "                                                                                                         \n",
      "lprbconv            -0.403***               -0.272***          0.007          -0.270***        -0.296*** \n",
      "                     (0.037)                 (0.027)          (0.525)          (0.029)          (0.027)  \n",
      "                                                                                                         \n",
      "lprbpris              0.038                 -0.183***         -0.136          -0.198***        -0.223*** \n",
      "                     (0.090)                 (0.040)          (0.116)          (0.045)          (0.044)  \n",
      "                                                                                                         \n",
      "lavgsen              -0.072                  -0.067*          -0.217           -0.052            -0.032  \n",
      "                     (0.073)                 (0.036)          (0.291)          (0.037)          (0.037)  \n",
      "                                                                                                         \n",
      "lpolpc              0.323***                0.406***          -0.587          0.391***          0.378*** \n",
      "                     (0.038)                 (0.038)          (1.862)          (0.036)          (0.033)  \n",
      "                                                                                                         \n",
      "ldensity            0.252***                  0.508           -2.226          1.578***          0.341*** \n",
      "                     (0.031)                 (0.806)          (5.347)          (0.437)          (0.048)  \n",
      "                                                                                                         \n",
      "Constant            -2.311***                0.024*            0.072                           -1.994*** \n",
      "                     (0.299)                 (0.014)          (0.094)                           (0.218)  \n",
      "                                                                                                         \n",
      "---------------------------------------------------------------------------------------------------------\n",
      "Observations           360                     270              270              360              360    \n",
      "R2                    0.628                   0.421            0.055            0.413            0.474   \n",
      "Adjusted R2           0.622                   0.407            0.033            0.201            0.465   \n",
      "F Statistic  99.339*** (df = 6; 353) 31.808*** (df = 6; 263) 21.397*** 30.894*** (df = 6; 264) 318.339***\n",
      "=========================================================================================================\n"
     ]
    }
   ],
   "source": [
    "stargazer(POLS, FD, FD2SLS, FE, RE,\n",
    "          title=\"Panel regressions\",\n",
    "          header=FALSE, \n",
    "          type=\"text\",  \n",
    "          omit.table.layout=\"n\",\n",
    "          digits=3, \n",
    "          intercept.bottom=TRUE, \n",
    "          dep.var.labels.include = FALSE,\n",
    "          model.numbers = FALSE,\n",
    "          dep.var.caption=\"Dependent variable: lcrmrte\",\n",
    "          model.names=FALSE,\n",
    "          omit.stat=c(\"LL\",\"ser\"),\n",
    "          column.labels=c(\"Pooled OLS\", \"FD\", \"FD2SLS\", \"FE\", \"RE\"))"
   ]
  },
  {
   "cell_type": "markdown",
   "id": "08f7e8d0-f34a-4cea-8173-752dfbebbd24",
   "metadata": {},
   "source": [
    "# Hausman test for endogeneity"
   ]
  },
  {
   "cell_type": "code",
   "execution_count": 25,
   "id": "2337e02d-79c8-420e-b594-a84888253b8f",
   "metadata": {},
   "outputs": [
    {
     "data": {
      "text/plain": [
       "\n",
       "\tHausman Test\n",
       "\n",
       "data:  lcrmrte ~ lprbarr + lprbconv + lprbpris + lavgsen + lpolpc +  ...\n",
       "chisq = 0.28447, df = 6, p-value = 0.9996\n",
       "alternative hypothesis: one model is inconsistent\n"
      ]
     },
     "metadata": {},
     "output_type": "display_data"
    }
   ],
   "source": [
    "phtest(FD, FD2SLS)"
   ]
  },
  {
   "cell_type": "markdown",
   "id": "88e72bbf-08ce-4f17-8d99-a535cb212207",
   "metadata": {
    "tags": []
   },
   "source": [
    "# (g) first stage of 2SLS"
   ]
  },
  {
   "cell_type": "code",
   "execution_count": 26,
   "id": "f129873a-bd97-4abb-a7a4-87b1e96e4cfc",
   "metadata": {
    "tags": []
   },
   "outputs": [
    {
     "data": {
      "text/plain": [
       "Oneway (individual) effect First-Difference Model\n",
       "\n",
       "Call:\n",
       "plm(formula = lpolpc ~ lprbarr + lprbconv + lprbpris + lavgsen + \n",
       "    ltaxpc + ldensity, data = panel, model = \"fd\")\n",
       "\n",
       "Balanced Panel: n = 90, T = 4, N = 360\n",
       "Observations used in estimation: 270\n",
       "\n",
       "Residuals:\n",
       "      Min.    1st Qu.     Median    3rd Qu.       Max. \n",
       "-2.4561963 -0.0679614  0.0068052  0.0937199  0.9814232 \n",
       "\n",
       "Coefficients:\n",
       "             Estimate Std. Error t-value  Pr(>|t|)    \n",
       "(Intercept)  0.054450   0.023590  2.3082  0.021765 *  \n",
       "lprbarr      0.134998   0.072534  1.8612  0.063836 .  \n",
       "lprbconv     0.282493   0.039459  7.1592 8.109e-12 ***\n",
       "lprbpris     0.048357   0.065052  0.7434  0.457924    \n",
       "lavgsen     -0.154319   0.057056 -2.7047  0.007283 ** \n",
       "ltaxpc      -0.060497   0.096321 -0.6281  0.530494    \n",
       "ldensity    -2.775158   1.296259 -2.1409  0.033202 *  \n",
       "---\n",
       "Signif. codes:  0 ‘***’ 0.001 ‘**’ 0.01 ‘*’ 0.05 ‘.’ 0.1 ‘ ’ 1\n",
       "\n",
       "Total Sum of Squares:    25.208\n",
       "Residual Sum of Squares: 19.712\n",
       "R-Squared:      0.21803\n",
       "Adj. R-Squared: 0.20019\n",
       "F-statistic: 12.2217 on 6 and 263 DF, p-value: 3.9963e-12"
      ]
     },
     "metadata": {},
     "output_type": "display_data"
    }
   ],
   "source": [
    "FS = plm(lpolpc ~ lprbarr + lprbconv + lprbpris + lavgsen + ltaxpc + ldensity, data=panel, model=\"fd\")\n",
    "summary(FS) "
   ]
  },
  {
   "cell_type": "code",
   "execution_count": null,
   "id": "f9ddb541-fb53-4e43-824a-6e4aa50182fb",
   "metadata": {},
   "outputs": [],
   "source": []
  }
 ],
 "metadata": {
  "kernelspec": {
   "display_name": "R",
   "language": "R",
   "name": "ir"
  },
  "language_info": {
   "codemirror_mode": "r",
   "file_extension": ".r",
   "mimetype": "text/x-r-source",
   "name": "R",
   "pygments_lexer": "r",
   "version": "4.1.1"
  }
 },
 "nbformat": 4,
 "nbformat_minor": 5
}
