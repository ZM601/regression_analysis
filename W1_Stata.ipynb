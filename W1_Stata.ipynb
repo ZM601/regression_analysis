{
 "cells": [
  {
   "cell_type": "markdown",
   "metadata": {},
   "source": [
    "# clear your memory"
   ]
  },
  {
   "cell_type": "code",
   "execution_count": 1,
   "metadata": {},
   "outputs": [],
   "source": [
    "clear all"
   ]
  },
  {
   "cell_type": "markdown",
   "metadata": {},
   "source": [
    "# check if your Stata works fine"
   ]
  },
  {
   "cell_type": "code",
   "execution_count": 2,
   "metadata": {},
   "outputs": [
    {
     "name": "stdout",
     "output_type": "stream",
     "text": [
      "\n",
      "Stata/MP 14.2 for Unix (64-bit Intel)\n",
      "Revision 29 Jan 2018\n",
      "Copyright 1985-2015 StataCorp LLC\n",
      "\n",
      "Total usable memory:   16.00 GB\n",
      "\n",
      "Single-user 8-core Stata perpetual license:\n",
      "       Serial number:  10699393\n",
      "         Licensed to:  Ning Xu\n",
      "                       Stark Industries\n"
     ]
    }
   ],
   "source": [
    "about"
   ]
  },
  {
   "cell_type": "markdown",
   "metadata": {
    "tags": []
   },
   "source": [
    "# Question 4\n",
    "\n",
    "## $sleep = \\beta_0 + \\beta_1 \\cdot totwrk + \\beta_2 \\cdot educ + \\beta_3 \\cdot age + u$"
   ]
  },
  {
   "cell_type": "code",
   "execution_count": 3,
   "metadata": {},
   "outputs": [],
   "source": [
    "use \"~/Data/Dropbox/Working_Directory/Tex_MD/Teaching/tutorial/6002/W1/2021S2/SLEEP75.DTA\", clear"
   ]
  },
  {
   "cell_type": "markdown",
   "metadata": {},
   "source": [
    "## (a) If adults trade off sleep for work, what is the sign of $\\beta_1$?"
   ]
  },
  {
   "cell_type": "markdown",
   "metadata": {},
   "source": [
    "### If adults trade off sleep for work, more work implies less sleep (other things equal), so $\\beta_1 < 0$"
   ]
  },
  {
   "cell_type": "markdown",
   "metadata": {},
   "source": [
    "## (b) What signs do you think $\\beta_2$ and $\\beta_3$ will have?"
   ]
  },
  {
   "cell_type": "markdown",
   "metadata": {},
   "source": [
    "### The signs of and are not obvious. One could argue that more educated people like to get more out of life, and so, other things equal, they sleep less ($\\beta_2 < 0$). The relationship between sleeping and age is more complicated than this model suggests."
   ]
  },
  {
   "cell_type": "markdown",
   "metadata": {},
   "source": [
    "## (c) regress sleep on totwrk, educ and age"
   ]
  },
  {
   "cell_type": "code",
   "execution_count": 4,
   "metadata": {},
   "outputs": [
    {
     "name": "stdout",
     "output_type": "stream",
     "text": [
      "\n",
      "      Source |       SS           df       MS      Number of obs   =       706\n",
      "-------------+----------------------------------   F(3, 702)       =     29.92\n",
      "       Model |  15784778.6         3  5261592.87   Prob > F        =    0.0000\n",
      "    Residual |   123455057       702  175861.905   R-squared       =    0.1134\n",
      "-------------+----------------------------------   Adj R-squared   =    0.1096\n",
      "       Total |   139239836       705  197503.313   Root MSE        =    419.36\n",
      "\n",
      "------------------------------------------------------------------------------\n",
      "       sleep |      Coef.   Std. Err.      t    P>|t|     [95% Conf. Interval]\n",
      "-------------+----------------------------------------------------------------\n",
      "      totwrk |  -.1483734   .0166935    -8.89   0.000    -.1811487   -.1155982\n",
      "        educ |  -11.13381   5.884575    -1.89   0.059    -22.68729    .4196615\n",
      "         age |   2.199885   1.445717     1.52   0.129    -.6385613    5.038331\n",
      "       _cons |   3638.245   112.2751    32.40   0.000      3417.81    3858.681\n",
      "------------------------------------------------------------------------------\n"
     ]
    }
   ],
   "source": [
    "reg sleep totwrk educ age"
   ]
  },
  {
   "cell_type": "markdown",
   "metadata": {},
   "source": [
    "### Since totwrk is in minutes, we must convert five hours into minutes: $totwrk = 5 \\times 60 = 300$. Then sleep is predicted to fall by $0.148 \\times 300 = 44$ minutes. For a week, 45 minutes less sleep is not an overwhelming change."
   ]
  },
  {
   "cell_type": "markdown",
   "metadata": {},
   "source": [
    "## (d) Discuss the sign and magnitude of the estimated coeffiecient on educ. \n",
    "\n",
    "### More education implies less predicted time sleeping, but the effect is quite small. If we assume the difference between college and high school is four years, the college graduate sleeps about 45 minutes less per week, other things equal."
   ]
  },
  {
   "cell_type": "markdown",
   "metadata": {},
   "source": [
    "## (e) Would you say totwrk, educ, and age explain much of the variation in sleep? What other factors might affect the time spent sleeping? Are these likely to be correlated with totwrk?"
   ]
  },
  {
   "cell_type": "markdown",
   "metadata": {},
   "source": [
    "### Not surprisingly, the three explanatory variables explain only about 11.3% of the variation in sleep. One important factor in the error term is general health. Another is marital status and whether the person has children. Health (however we measure that), marital status, and number and ages of children would generally be correlated with totwrk. (For example, less healthy people would tend to work less.)"
   ]
  },
  {
   "cell_type": "code",
   "execution_count": 5,
   "metadata": {},
   "outputs": [
    {
     "name": "stdout",
     "output_type": "stream",
     "text": [
      "\n",
      "[NbConvertApp] Converting notebook W1_Stata.ipynb to html\n",
      "[NbConvertApp] Writing 570123 bytes to W1_Stata.html\n"
     ]
    }
   ],
   "source": [
    "!jupyter nbconvert --to html W1_Stata.ipynb"
   ]
  },
  {
   "cell_type": "code",
   "execution_count": null,
   "metadata": {},
   "outputs": [],
   "source": []
  }
 ],
 "metadata": {
  "celltoolbar": "Slideshow",
  "kernelspec": {
   "display_name": "Stata",
   "language": "stata",
   "name": "stata"
  },
  "language_info": {
   "codemirror_mode": "stata",
   "file_extension": ".do",
   "mimetype": "text/x-stata",
   "name": "stata",
   "version": "15.1"
  }
 },
 "nbformat": 4,
 "nbformat_minor": 4
}
