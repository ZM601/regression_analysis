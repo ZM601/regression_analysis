{
 "cells": [
  {
   "cell_type": "markdown",
   "id": "personal-lafayette",
   "metadata": {},
   "source": [
    "# Q1"
   ]
  },
  {
   "cell_type": "markdown",
   "id": "union-sequence",
   "metadata": {},
   "source": [
    "## load data"
   ]
  },
  {
   "cell_type": "code",
   "execution_count": 2,
   "id": "similar-muslim",
   "metadata": {},
   "outputs": [],
   "source": [
    "use \"~/Dropbox/Working_Directory/Tex_MD/Teaching/tutorial/6002/W3/2021S1/mba3.dta\", clear"
   ]
  },
  {
   "cell_type": "markdown",
   "id": "toxic-honor",
   "metadata": {},
   "source": [
    "## #1(a). summary stat"
   ]
  },
  {
   "cell_type": "code",
   "execution_count": 3,
   "id": "broken-queens",
   "metadata": {},
   "outputs": [
    {
     "name": "stdout",
     "output_type": "stream",
     "text": [
      "\n",
      "    Variable |        Obs        Mean    Std. Dev.       Min        Max\n",
      "-------------+---------------------------------------------------------\n",
      "      salary |        250      139752    12976.66     124900     179000\n",
      "      testsc |        250    10.58688     .294749       9.67       11.4\n",
      "         wam |        250     3.31416    .1979278       2.73       3.82\n",
      "     libsize |        250     354.928    211.8442        124       1745\n",
      "        rank |        250       79.54     48.4889          1        174\n"
     ]
    }
   ],
   "source": [
    "sum"
   ]
  },
  {
   "cell_type": "markdown",
   "id": "universal-redhead",
   "metadata": {},
   "source": [
    "## #1(c). log(salary) regression"
   ]
  },
  {
   "cell_type": "code",
   "execution_count": 4,
   "id": "perceived-pregnancy",
   "metadata": {},
   "outputs": [
    {
     "name": "stdout",
     "output_type": "stream",
     "text": [
      "\n",
      "\n",
      "\n",
      "\n",
      "     +----------------------------------------+\n",
      "     | salary   log_sa~y   libsize   log_li~e |\n",
      "     |----------------------------------------|\n",
      "  1. | 131400     11.786       216   5.375278 |\n",
      "  2. | 133098   11.79884       256   5.545177 |\n",
      "  3. | 132870   11.79713       424   6.049734 |\n",
      "  4. | 135000   11.81303       329   5.796058 |\n",
      "  5. | 133606   11.80265       332   5.805135 |\n",
      "     +----------------------------------------+\n"
     ]
    }
   ],
   "source": [
    "gen log_salary  = log(salary )\n",
    "gen log_libsize = log(libsize)\n",
    "\n",
    "list salary log_salary libsize log_libsize in 1/5"
   ]
  },
  {
   "cell_type": "code",
   "execution_count": 5,
   "id": "pregnant-bidder",
   "metadata": {},
   "outputs": [
    {
     "name": "stdout",
     "output_type": "stream",
     "text": [
      "\n",
      "      Source |       SS           df       MS      Number of obs   =       250\n",
      "-------------+----------------------------------   F(4, 245)       =    234.28\n",
      "       Model |  1.53219845         4  .383049612   Prob > F        =    0.0000\n",
      "    Residual |   .40058256       245  .001635031   R-squared       =    0.7927\n",
      "-------------+----------------------------------   Adj R-squared   =    0.7894\n",
      "       Total |  1.93278101       249  .007762173   Root MSE        =    .04044\n",
      "\n",
      "------------------------------------------------------------------------------\n",
      "  log_salary |      Coef.   Std. Err.      t    P>|t|     [95% Conf. Interval]\n",
      "-------------+----------------------------------------------------------------\n",
      "      testsc |   .0501106    .016696     3.00   0.003     .0172245    .0829966\n",
      "         wam |   .0480275   .0233771     2.05   0.041     .0019818    .0940731\n",
      " log_libsize |   .0396864   .0088608     4.48   0.000     .0222333    .0571396\n",
      "        rank |  -.0009365     .00009   -10.40   0.000    -.0011138   -.0007591\n",
      "       _cons |   10.99974   .1430829    76.88   0.000     10.71791    11.28157\n",
      "------------------------------------------------------------------------------\n"
     ]
    }
   ],
   "source": [
    "reg log_salary testsc wam log_libsize rank"
   ]
  },
  {
   "cell_type": "markdown",
   "id": "presidential-tension",
   "metadata": {
    "tags": []
   },
   "source": [
    "## #1(d). t-test on $$H_0 : \\beta_{\\mathrm{rank}}=0;$$ $$H_1 : \\beta_{\\mathrm{rank}} \\neq 0;$$"
   ]
  },
  {
   "cell_type": "code",
   "execution_count": 6,
   "id": "respective-circulation",
   "metadata": {},
   "outputs": [
    {
     "name": "stdout",
     "output_type": "stream",
     "text": [
      "\n",
      "\n",
      "\n",
      "the abs of t value of the t-test is  10.401861\n",
      "\n",
      "the p value of the t-test is  3.165e-21\n"
     ]
    }
   ],
   "source": [
    "gen t_value_rank = abs((_b[rank] - 0) / _se[rank])\n",
    "gen p_value_rank = 2 * ttail(e(df_r), t_value_rank)\n",
    "\n",
    "display \"the abs of t value of the t-test is \", t_value_rank\n",
    "display \"the p value of the t-test is \", p_value_rank"
   ]
  },
  {
   "cell_type": "markdown",
   "id": "19da294c-1f40-4c62-9167-597879157742",
   "metadata": {
    "tags": []
   },
   "source": [
    "## t-test on $$H_0 : \\beta_{\\mathrm{rank}} \\geqslant 0;$$ $$H_1 : \\beta_{\\mathrm{rank}} < 0;$$"
   ]
  },
  {
   "cell_type": "code",
   "execution_count": 8,
   "id": "acf6d3c3-bd9c-49fe-a1c6-2a7a16004d13",
   "metadata": {},
   "outputs": [
    {
     "name": "stdout",
     "output_type": "stream",
     "text": [
      "\n",
      "\n",
      "\n",
      "the abs of t value of the t-test is  -10.401861\n",
      "\n",
      "the p value of the t-test is  1.583e-21\n"
     ]
    }
   ],
   "source": [
    "gen t_value_left = (_b[rank] - 0) / _se[rank]\n",
    "gen p_value_left = ttail(e(df_r), t_value_rank)\n",
    "\n",
    "display \"the abs of t value of the t-test is \", t_value_left\n",
    "display \"the p value of the t-test is \", p_value_left"
   ]
  },
  {
   "cell_type": "markdown",
   "id": "competitive-civilization",
   "metadata": {},
   "source": [
    "## #1(e). F test on $$H_0 : \\beta_{\\mathrm{wam}}=\\beta_{\\mathrm{testsc}}=0;$$ $$H_1 : \\mbox{ at least one of } \\beta_{\\mathrm{wam}} \\mbox{ and }\\beta_{\\mathrm{testsc}} \\mbox{ is not } 0.$$ "
   ]
  },
  {
   "cell_type": "code",
   "execution_count": 9,
   "id": "common-recipe",
   "metadata": {},
   "outputs": [
    {
     "name": "stdout",
     "output_type": "stream",
     "text": [
      "\n",
      " ( 1)  testsc - wam = 0\n",
      " ( 2)  testsc = 0\n",
      "\n",
      "       F(  2,   245) =   16.67\n",
      "            Prob > F =    0.0000\n"
     ]
    }
   ],
   "source": [
    "test testsc == wam == 0"
   ]
  },
  {
   "cell_type": "markdown",
   "id": "limiting-hydrogen",
   "metadata": {},
   "source": [
    "## #1(f). F test on $$H_0 : \\beta_{\\mathrm{wam}}=\\beta_{\\mathrm{testsc}};$$ $$H_1 : \\beta_{\\mathrm{wam}} \\neq \\beta_{\\mathrm{testsc}}.$$"
   ]
  },
  {
   "cell_type": "code",
   "execution_count": 10,
   "id": "sunrise-coaching",
   "metadata": {},
   "outputs": [
    {
     "name": "stdout",
     "output_type": "stream",
     "text": [
      "\n",
      " ( 1)  testsc - wam = 0\n",
      "\n",
      "       F(  1,   245) =    0.00\n",
      "            Prob > F =    0.9540\n"
     ]
    }
   ],
   "source": [
    "test testsc == wam"
   ]
  },
  {
   "cell_type": "markdown",
   "id": "timely-batch",
   "metadata": {},
   "source": [
    "### method 2: transform your variable"
   ]
  },
  {
   "cell_type": "code",
   "execution_count": 11,
   "id": "proper-council",
   "metadata": {},
   "outputs": [
    {
     "name": "stdout",
     "output_type": "stream",
     "text": [
      "\n",
      "\n",
      "\n",
      "      Source |       SS           df       MS      Number of obs   =       250\n",
      "-------------+----------------------------------   F(4, 245)       =    234.28\n",
      "       Model |  1.53219844         4  .383049609   Prob > F        =    0.0000\n",
      "    Residual |  .400582571       245  .001635031   R-squared       =    0.7927\n",
      "-------------+----------------------------------   Adj R-squared   =    0.7894\n",
      "       Total |  1.93278101       249  .007762173   Root MSE        =    .04044\n",
      "\n",
      "------------------------------------------------------------------------------\n",
      "  log_salary |      Coef.   Std. Err.      t    P>|t|     [95% Conf. Interval]\n",
      "-------------+----------------------------------------------------------------\n",
      "      testsc |   .0020832   .0361132     0.06   0.954    -.0690489    .0732152\n",
      "           Z |   .0480274   .0233771     2.05   0.041     .0019818    .0940731\n",
      " log_libsize |   .0396864   .0088608     4.48   0.000     .0222333    .0571396\n",
      "        rank |  -.0009365     .00009   -10.40   0.000    -.0011138   -.0007591\n",
      "       _cons |   10.99974   .1430829    76.88   0.000     10.71791    11.28157\n",
      "------------------------------------------------------------------------------\n"
     ]
    }
   ],
   "source": [
    "gen Z = testsc + wam\n",
    "\n",
    "reg log_salary testsc Z log_libsize rank"
   ]
  },
  {
   "cell_type": "code",
   "execution_count": 12,
   "id": "negative-violation",
   "metadata": {},
   "outputs": [
    {
     "name": "stdout",
     "output_type": "stream",
     "text": [
      "\n",
      "\n",
      "\n",
      "the abs t value of the t-test is  .05768409\n",
      "\n",
      "the p value of the t-test is  .95404726\n"
     ]
    }
   ],
   "source": [
    "gen t_value_testsc = abs((_b[testsc] - 0) / _se[testsc])\n",
    "gen p_value_testsc = 2 * ttail(e(df_r), t_value_testsc)\n",
    "\n",
    "display \"the abs t value of the t-test is \", t_value_testsc\n",
    "display \"the p value of the t-test is \", p_value_testsc"
   ]
  },
  {
   "cell_type": "markdown",
   "id": "needed-cannon",
   "metadata": {},
   "source": [
    "## Extra : do all the things again on the standardized regression and you will find the same result"
   ]
  },
  {
   "cell_type": "code",
   "execution_count": 13,
   "id": "acceptable-guyana",
   "metadata": {},
   "outputs": [],
   "source": [
    "egen mean_log_salary  = mean(log_salary )\n",
    "egen mean_log_libsize = mean(log_libsize)\n",
    "egen mean_testsc      = mean(testsc     )\n",
    "egen mean_wam         = mean(wam        )\n",
    "egen mean_rank        = mean(rank       )\n",
    "\n",
    "egen sd_log_salary  = sd(log_salary )\n",
    "egen sd_log_libsize = sd(log_libsize)\n",
    "egen sd_testsc      = sd(testsc     )\n",
    "egen sd_wam         = sd(wam        )\n",
    "egen sd_rank        = sd(rank       )"
   ]
  },
  {
   "cell_type": "code",
   "execution_count": 14,
   "id": "synthetic-speaker",
   "metadata": {},
   "outputs": [
    {
     "name": "stdout",
     "output_type": "stream",
     "text": [
      "\n",
      "     +-----------------------------------------------------------------+\n",
      "  1. | mean_l~y | mean_l~e | mean_t~c | mean_wam | mean_r~k | sd_log~y |\n",
      "     | 11.84362 | 5.762255 | 10.58688 |  3.31416 |    79.54 | .0881032 |\n",
      "     |--------------------------------+--------------------------------|\n",
      "     |   sd_log~e    |    sd_tes~c    |      sd_wam    |    sd_rank    |\n",
      "     |   .4362232    |     .294749    |    .1979278    |    48.4889    |\n",
      "     +-----------------------------------------------------------------+\n"
     ]
    }
   ],
   "source": [
    "list mean_log_salary mean_log_libsize mean_testsc mean_wam mean_rank sd_log_salary sd_log_libsize sd_testsc sd_wam sd_rank in 1"
   ]
  },
  {
   "cell_type": "code",
   "execution_count": 15,
   "id": "devoted-gothic",
   "metadata": {},
   "outputs": [
    {
     "name": "stdout",
     "output_type": "stream",
     "text": [
      "\n",
      "\n",
      "\n",
      "\n",
      "\n",
      "\n",
      "\n",
      "     +----------------------------------------------------------+\n",
      "     | log_sal~t   log_lib~t   testsc_st      wam_st    rank_st |\n",
      "     |----------------------------------------------------------|\n",
      "  1. | -.6540172   -.8871061   -.8715206   -.8293936   .9994041 |\n",
      "     +----------------------------------------------------------+\n"
     ]
    }
   ],
   "source": [
    "gen log_salary_st   = (log_salary  - mean_log_salary ) / sd_log_salary\n",
    "gen log_libsize_st  = (log_libsize - mean_log_libsize) / sd_log_libsize\n",
    "gen testsc_st       = (testsc      - mean_testsc     ) / sd_testsc\n",
    "gen wam_st          = (wam         - mean_wam        ) / sd_wam\n",
    "gen rank_st         = (rank        - mean_rank       ) / sd_rank\n",
    "\n",
    "list log_salary_st log_libsize_st testsc_st wam_st rank_st in 1"
   ]
  },
  {
   "cell_type": "code",
   "execution_count": 16,
   "id": "dental-destination",
   "metadata": {},
   "outputs": [
    {
     "name": "stdout",
     "output_type": "stream",
     "text": [
      "\n",
      "      Source |       SS           df       MS      Number of obs   =       250\n",
      "-------------+----------------------------------   F(4, 245)       =    234.28\n",
      "       Model |  197.393002         4  49.3482505   Prob > F        =    0.0000\n",
      "    Residual |  51.6070186       245  .210640892   R-squared       =    0.7927\n",
      "-------------+----------------------------------   Adj R-squared   =    0.7894\n",
      "       Total |  249.000021       249  1.00000008   Root MSE        =    .45896\n",
      "\n",
      "-------------------------------------------------------------------------------\n",
      "log_salary_st |      Coef.   Std. Err.      t    P>|t|     [95% Conf. Interval]\n",
      "--------------+----------------------------------------------------------------\n",
      "    testsc_st |   .1676447   .0558565     3.00   0.003     .0576244     .277665\n",
      "       wam_st |   .1078958   .0525176     2.05   0.041     .0044522    .2113395\n",
      "log_libsize~t |   .1964985   .0438724     4.48   0.000     .1100832    .2829137\n",
      "      rank_st |  -.5153943   .0495483   -10.40   0.000    -.6129892   -.4177993\n",
      "        _cons |  -4.71e-06   .0290269    -0.00   1.000    -.0571789    .0571695\n",
      "-------------------------------------------------------------------------------\n"
     ]
    }
   ],
   "source": [
    "reg log_salary_st testsc_st wam_st log_libsize_st rank_st"
   ]
  },
  {
   "cell_type": "code",
   "execution_count": 17,
   "id": "consecutive-restaurant",
   "metadata": {},
   "outputs": [
    {
     "name": "stdout",
     "output_type": "stream",
     "text": [
      "\n",
      "\n",
      "\n",
      "the t value of the t-test is  10.401861\n",
      "\n",
      "the p value of the t-test is  3.165e-21\n"
     ]
    }
   ],
   "source": [
    "gen t_value_rank_st = abs((_b[rank_st] - 0) / _se[rank_st])\n",
    "gen p_value_rank_st = 2 * ttail(e(df_r), t_value_rank_st)\n",
    "\n",
    "display \"the t value of the t-test is \", t_value_rank_st\n",
    "display \"the p value of the t-test is \", p_value_rank_st"
   ]
  },
  {
   "cell_type": "code",
   "execution_count": 18,
   "id": "particular-wallpaper",
   "metadata": {},
   "outputs": [
    {
     "name": "stdout",
     "output_type": "stream",
     "text": [
      "\n",
      " ( 1)  testsc_st - wam_st = 0\n",
      " ( 2)  testsc_st = 0\n",
      "\n",
      "       F(  2,   245) =   16.67\n",
      "            Prob > F =    0.0000\n"
     ]
    }
   ],
   "source": [
    "test testsc_st == wam_st == 0"
   ]
  },
  {
   "cell_type": "markdown",
   "id": "homeless-fleet",
   "metadata": {},
   "source": [
    "# Q2"
   ]
  },
  {
   "cell_type": "markdown",
   "id": "initial-richards",
   "metadata": {},
   "source": [
    "# load data into stata"
   ]
  },
  {
   "cell_type": "code",
   "execution_count": 19,
   "id": "accomplished-campaign",
   "metadata": {},
   "outputs": [],
   "source": [
    "use \"~/Dropbox/Working_Directory/Tex_MD/Teaching/tutorial/6002/W3/2021S1/nbasal.dta\", clear"
   ]
  },
  {
   "cell_type": "markdown",
   "id": "valid-brooks",
   "metadata": {},
   "source": [
    "# #2(a). regression without agesq"
   ]
  },
  {
   "cell_type": "code",
   "execution_count": 20,
   "id": "otherwise-habitat",
   "metadata": {},
   "outputs": [
    {
     "name": "stdout",
     "output_type": "stream",
     "text": [
      "\n",
      "      Source |       SS           df       MS      Number of obs   =       269\n",
      "-------------+----------------------------------   F(4, 264)       =     10.85\n",
      "       Model |  1317.59877         4  329.399693   Prob > F        =    0.0000\n",
      "    Residual |  8013.59211       264  30.3545156   R-squared       =    0.1412\n",
      "-------------+----------------------------------   Adj R-squared   =    0.1282\n",
      "       Total |  9331.19088       268  34.8178764   Root MSE        =    5.5095\n",
      "\n",
      "------------------------------------------------------------------------------\n",
      "      points |      Coef.   Std. Err.      t    P>|t|     [95% Conf. Interval]\n",
      "-------------+----------------------------------------------------------------\n",
      "       exper |   2.363631   .4054974     5.83   0.000      1.56521    3.162051\n",
      "     expersq |  -.0770269   .0234833    -3.28   0.001    -.1232652   -.0307885\n",
      "         age |  -1.073958   .2950722    -3.64   0.000    -1.654953   -.4929638\n",
      "        coll |  -1.286255   .4505921    -2.85   0.005    -2.173466    -.399043\n",
      "       _cons |   35.21831   6.986731     5.04   0.000      21.4615    48.97512\n",
      "------------------------------------------------------------------------------\n"
     ]
    }
   ],
   "source": [
    "reg points exper expersq age coll"
   ]
  },
  {
   "cell_type": "markdown",
   "id": "motivated-guatemala",
   "metadata": {},
   "source": [
    "# #2(d). regression with agesq"
   ]
  },
  {
   "cell_type": "code",
   "execution_count": 21,
   "id": "turkish-christopher",
   "metadata": {},
   "outputs": [
    {
     "name": "stdout",
     "output_type": "stream",
     "text": [
      "\n",
      "      Source |       SS           df       MS      Number of obs   =       269\n",
      "-------------+----------------------------------   F(5, 263)       =      8.92\n",
      "       Model |  1353.54692         5  270.709385   Prob > F        =    0.0000\n",
      "    Residual |  7977.64396       263   30.333247   R-squared       =    0.1451\n",
      "-------------+----------------------------------   Adj R-squared   =    0.1288\n",
      "       Total |  9331.19088       268  34.8178764   Root MSE        =    5.5076\n",
      "\n",
      "------------------------------------------------------------------------------\n",
      "      points |      Coef.   Std. Err.      t    P>|t|     [95% Conf. Interval]\n",
      "-------------+----------------------------------------------------------------\n",
      "       exper |   2.863828   .6127241     4.67   0.000     1.657359    4.070297\n",
      "     expersq |  -.1280723   .0524378    -2.44   0.015    -.2313237   -.0248209\n",
      "         age |  -3.983695   2.689078    -1.48   0.140    -9.278557    1.311168\n",
      "       agesq |   .0535514   .0491917     1.09   0.277    -.0433083    .1504112\n",
      "        coll |  -1.312604   .4510841    -2.91   0.004      -2.2008    -.424408\n",
      "       _cons |   73.59034   35.93341     2.05   0.042     2.836553    144.3441\n",
      "------------------------------------------------------------------------------\n"
     ]
    }
   ],
   "source": [
    "reg points exper expersq age agesq coll"
   ]
  },
  {
   "cell_type": "markdown",
   "id": "olympic-platinum",
   "metadata": {},
   "source": [
    "## why we don't need agesq"
   ]
  },
  {
   "cell_type": "code",
   "execution_count": 22,
   "id": "preliminary-table",
   "metadata": {},
   "outputs": [
    {
     "name": "stdout",
     "output_type": "stream",
     "text": [
      "(obs=269)\n",
      "\n",
      "             |    exper  expersq      age    agesq     coll\n",
      "-------------+---------------------------------------------\n",
      "       exper |   1.0000\n",
      "     expersq |   0.9503   1.0000\n",
      "         age |   0.9412   0.9046   1.0000\n",
      "       agesq |   0.9421   0.9269   0.9968   1.0000\n",
      "        coll |   0.0873   0.0489   0.0743   0.0690   1.0000\n",
      "\n"
     ]
    }
   ],
   "source": [
    "corr exper expersq age agesq coll"
   ]
  },
  {
   "cell_type": "markdown",
   "id": "going-hepatitis",
   "metadata": {},
   "source": [
    "# #2(e). regression of lwage"
   ]
  },
  {
   "cell_type": "code",
   "execution_count": 23,
   "id": "seeing-precipitation",
   "metadata": {},
   "outputs": [
    {
     "name": "stdout",
     "output_type": "stream",
     "text": [
      "\n",
      "      Source |       SS           df       MS      Number of obs   =       269\n",
      "-------------+----------------------------------   F(5, 263)       =     50.10\n",
      "       Model |  101.561364         5  20.3122728   Prob > F        =    0.0000\n",
      "    Residual |  106.627399       263  .405427373   R-squared       =    0.4878\n",
      "-------------+----------------------------------   Adj R-squared   =    0.4781\n",
      "       Total |  208.188763       268  .776823743   Root MSE        =    .63673\n",
      "\n",
      "------------------------------------------------------------------------------\n",
      "       lwage |      Coef.   Std. Err.      t    P>|t|     [95% Conf. Interval]\n",
      "-------------+----------------------------------------------------------------\n",
      "      points |   .0777297   .0071128    10.93   0.000     .0637243     .091735\n",
      "       exper |   .2178447   .0497877     4.38   0.000     .1198115     .315878\n",
      "     expersq |  -.0070821   .0027687    -2.56   0.011    -.0125338   -.0016305\n",
      "         age |  -.0481375   .0349466    -1.38   0.170    -.1169482    .0206732\n",
      "        coll |  -.0402709   .0528725    -0.76   0.447    -.1443781    .0638363\n",
      "       _cons |   6.779039    .845421     8.02   0.000     5.114384    8.443694\n",
      "------------------------------------------------------------------------------\n"
     ]
    }
   ],
   "source": [
    "reg lwage points exper expersq age coll"
   ]
  },
  {
   "cell_type": "markdown",
   "id": "joint-notebook",
   "metadata": {},
   "source": [
    "# #2(g). a kitchen-sink regression with all variables in dataset"
   ]
  },
  {
   "cell_type": "code",
   "execution_count": 24,
   "id": "covered-inventory",
   "metadata": {},
   "outputs": [
    {
     "name": "stdout",
     "output_type": "stream",
     "text": [
      "\n",
      "      Source |       SS           df       MS      Number of obs   =       240\n",
      "-------------+----------------------------------   F(19, 220)      =     14.24\n",
      "       Model |  86.4149829        19  4.54815699   Prob > F        =    0.0000\n",
      "    Residual |  70.2444467       220   .31929294   R-squared       =    0.5516\n",
      "-------------+----------------------------------   Adj R-squared   =    0.5129\n",
      "       Total |   156.65943       239  .655478785   Root MSE        =    .56506\n",
      "\n",
      "------------------------------------------------------------------------------\n",
      "       lwage |      Coef.   Std. Err.      t    P>|t|     [95% Conf. Interval]\n",
      "-------------+----------------------------------------------------------------\n",
      "        marr |   .0962407   .1778301     0.54   0.589    -.2542279    .4467093\n",
      "       exper |   .2067546     .07285     2.84   0.005     .0631814    .3503279\n",
      "         age |  -.4476439   .2985101    -1.50   0.135    -1.035949    .1406614\n",
      "        coll |  -.0627516   .0539918    -1.16   0.246     -.169159    .0436558\n",
      "       games |   .0039273   .0051026     0.77   0.442     -.006129    .0139837\n",
      "     minutes |  -.0002913   .0002319    -1.26   0.210    -.0007482    .0001657\n",
      "       guard |  -.1778261    .149765    -1.19   0.236    -.4729839    .1173316\n",
      "     forward |  -.0238521   .1115409    -0.21   0.831    -.2436775    .1959734\n",
      "      points |   .0526695   .0161907     3.25   0.001     .0207609    .0845782\n",
      "    rebounds |   .0067775   .0250648     0.27   0.787    -.0426204    .0561753\n",
      "     assists |   .0347325   .0314377     1.10   0.270    -.0272252    .0966901\n",
      "       draft |  -.0115119   .0022207    -5.18   0.000    -.0158885   -.0071354\n",
      "     allstar |   -.289987   .1517405    -1.91   0.057     -.589038    .0090641\n",
      "      avgmin |   .0292898   .0182782     1.60   0.110    -.0067328    .0653125\n",
      "       black |    .241594   .1404126     1.72   0.087    -.0351319    .5183199\n",
      "    children |   .0167943   .0829942     0.20   0.840    -.1467713    .1803598\n",
      "     expersq |  -.0147215   .0058821    -2.50   0.013    -.0263141   -.0031289\n",
      "       agesq |   .0087744   .0054266     1.62   0.107    -.0019203    .0194691\n",
      "    marrblck |  -.1836455   .1893446    -0.97   0.333    -.5568068    .1895159\n",
      "       _cons |   11.37159   4.012016     2.83   0.005     3.464686    19.27849\n",
      "------------------------------------------------------------------------------\n"
     ]
    }
   ],
   "source": [
    "reg lwage marr exper age coll games minutes guard forward points rebounds assists draft allstar avgmin black children expersq agesq marrblck"
   ]
  },
  {
   "cell_type": "code",
   "execution_count": 25,
   "id": "hollywood-foundation",
   "metadata": {},
   "outputs": [
    {
     "name": "stdout",
     "output_type": "stream",
     "text": [
      "\n",
      "[NbConvertApp] Converting notebook W3_Stata.ipynb to html\n",
      "[NbConvertApp] Writing 599802 bytes to W3_Stata.html\n"
     ]
    }
   ],
   "source": [
    "!jupyter nbconvert --to html W3_Stata.ipynb "
   ]
  }
 ],
 "metadata": {
  "kernelspec": {
   "display_name": "Stata",
   "language": "stata",
   "name": "stata"
  },
  "language_info": {
   "codemirror_mode": "stata",
   "file_extension": ".do",
   "mimetype": "text/x-stata",
   "name": "stata",
   "version": "15.1"
  }
 },
 "nbformat": 4,
 "nbformat_minor": 5
}
