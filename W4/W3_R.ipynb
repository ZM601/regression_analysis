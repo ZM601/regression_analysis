{
 "cells": [
  {
   "cell_type": "code",
   "execution_count": 1,
   "id": "recognized-savannah",
   "metadata": {},
   "outputs": [
    {
     "name": "stderr",
     "output_type": "stream",
     "text": [
      "\n",
      "Attaching package: ‘dplyr’\n",
      "\n",
      "\n",
      "The following objects are masked from ‘package:stats’:\n",
      "\n",
      "    filter, lag\n",
      "\n",
      "\n",
      "The following objects are masked from ‘package:base’:\n",
      "\n",
      "    intersect, setdiff, setequal, union\n",
      "\n",
      "\n",
      "Loading required package: carData\n",
      "\n",
      "\n",
      "Attaching package: ‘car’\n",
      "\n",
      "\n",
      "The following object is masked from ‘package:dplyr’:\n",
      "\n",
      "    recode\n",
      "\n",
      "\n",
      "Loading required package: lattice\n",
      "\n",
      "Loading required package: survival\n",
      "\n",
      "Warning message:\n",
      "“package ‘survival’ was built under R version 4.1.1”\n",
      "Loading required package: Formula\n",
      "\n",
      "Loading required package: ggplot2\n",
      "\n",
      "\n",
      "Attaching package: ‘Hmisc’\n",
      "\n",
      "\n",
      "The following objects are masked from ‘package:dplyr’:\n",
      "\n",
      "    src, summarize\n",
      "\n",
      "\n",
      "The following objects are masked from ‘package:base’:\n",
      "\n",
      "    format.pval, units\n",
      "\n",
      "\n"
     ]
    }
   ],
   "source": [
    "rm(list = ls())\n",
    "\n",
    "library(readr)\n",
    "library(dplyr)\n",
    "library(car)\n",
    "library(Hmisc)"
   ]
  },
  {
   "cell_type": "markdown",
   "id": "suffering-hamburg",
   "metadata": {},
   "source": [
    "## Question 1\n",
    "\n",
    "### #1. load data"
   ]
  },
  {
   "cell_type": "code",
   "execution_count": 2,
   "id": "brazilian-amber",
   "metadata": {},
   "outputs": [
    {
     "name": "stderr",
     "output_type": "stream",
     "text": [
      "\u001b[1m\u001b[1mRows: \u001b[1m\u001b[22m\u001b[34m\u001b[34m250\u001b[34m\u001b[39m \u001b[1m\u001b[1mColumns: \u001b[1m\u001b[22m\u001b[34m\u001b[34m5\u001b[34m\u001b[39m\n",
      "\n",
      "\u001b[36m──\u001b[39m \u001b[1m\u001b[1mColumn specification\u001b[1m\u001b[22m \u001b[36m──────────────────────────────────────────────────────────────\u001b[39m\n",
      "\u001b[1mDelimiter:\u001b[22m \",\"\n",
      "\u001b[32mdbl\u001b[39m (5): salary, testsc, wam, libsize, rank\n",
      "\n",
      "\n",
      "\u001b[36mℹ\u001b[39m Use \u001b[30m\u001b[47m\u001b[30m\u001b[47m`spec()`\u001b[47m\u001b[30m\u001b[49m\u001b[39m to retrieve the full column specification for this data.\n",
      "\u001b[36mℹ\u001b[39m Specify the column types or set \u001b[30m\u001b[47m\u001b[30m\u001b[47m`show_col_types = FALSE`\u001b[47m\u001b[30m\u001b[49m\u001b[39m to quiet this message.\n",
      "\n"
     ]
    }
   ],
   "source": [
    "data <- read_csv(\"mba3.csv\")\n",
    "data <- na.omit(data)"
   ]
  },
  {
   "cell_type": "markdown",
   "id": "artistic-wisdom",
   "metadata": {},
   "source": [
    "### #2. check the head of the table"
   ]
  },
  {
   "cell_type": "code",
   "execution_count": 3,
   "id": "greatest-nepal",
   "metadata": {},
   "outputs": [
    {
     "data": {
      "text/html": [
       "<table class=\"dataframe\">\n",
       "<caption>A tibble: 6 × 5</caption>\n",
       "<thead>\n",
       "\t<tr><th scope=col>salary</th><th scope=col>testsc</th><th scope=col>wam</th><th scope=col>libsize</th><th scope=col>rank</th></tr>\n",
       "\t<tr><th scope=col>&lt;dbl&gt;</th><th scope=col>&lt;dbl&gt;</th><th scope=col>&lt;dbl&gt;</th><th scope=col>&lt;dbl&gt;</th><th scope=col>&lt;dbl&gt;</th></tr>\n",
       "</thead>\n",
       "<tbody>\n",
       "\t<tr><td>131400</td><td>10.33</td><td>3.15</td><td>216</td><td>128</td></tr>\n",
       "\t<tr><td>133098</td><td>10.67</td><td>3.50</td><td>256</td><td>104</td></tr>\n",
       "\t<tr><td>132870</td><td>10.33</td><td>3.25</td><td>424</td><td> 34</td></tr>\n",
       "\t<tr><td>135000</td><td>10.47</td><td>3.20</td><td>329</td><td> 49</td></tr>\n",
       "\t<tr><td>133606</td><td>10.80</td><td>3.38</td><td>332</td><td> 95</td></tr>\n",
       "\t<tr><td>131700</td><td>10.73</td><td>3.40</td><td>311</td><td> 98</td></tr>\n",
       "</tbody>\n",
       "</table>\n"
      ],
      "text/latex": [
       "A tibble: 6 × 5\n",
       "\\begin{tabular}{lllll}\n",
       " salary & testsc & wam & libsize & rank\\\\\n",
       " <dbl> & <dbl> & <dbl> & <dbl> & <dbl>\\\\\n",
       "\\hline\n",
       "\t 131400 & 10.33 & 3.15 & 216 & 128\\\\\n",
       "\t 133098 & 10.67 & 3.50 & 256 & 104\\\\\n",
       "\t 132870 & 10.33 & 3.25 & 424 &  34\\\\\n",
       "\t 135000 & 10.47 & 3.20 & 329 &  49\\\\\n",
       "\t 133606 & 10.80 & 3.38 & 332 &  95\\\\\n",
       "\t 131700 & 10.73 & 3.40 & 311 &  98\\\\\n",
       "\\end{tabular}\n"
      ],
      "text/markdown": [
       "\n",
       "A tibble: 6 × 5\n",
       "\n",
       "| salary &lt;dbl&gt; | testsc &lt;dbl&gt; | wam &lt;dbl&gt; | libsize &lt;dbl&gt; | rank &lt;dbl&gt; |\n",
       "|---|---|---|---|---|\n",
       "| 131400 | 10.33 | 3.15 | 216 | 128 |\n",
       "| 133098 | 10.67 | 3.50 | 256 | 104 |\n",
       "| 132870 | 10.33 | 3.25 | 424 |  34 |\n",
       "| 135000 | 10.47 | 3.20 | 329 |  49 |\n",
       "| 133606 | 10.80 | 3.38 | 332 |  95 |\n",
       "| 131700 | 10.73 | 3.40 | 311 |  98 |\n",
       "\n"
      ],
      "text/plain": [
       "  salary testsc wam  libsize rank\n",
       "1 131400 10.33  3.15 216     128 \n",
       "2 133098 10.67  3.50 256     104 \n",
       "3 132870 10.33  3.25 424      34 \n",
       "4 135000 10.47  3.20 329      49 \n",
       "5 133606 10.80  3.38 332      95 \n",
       "6 131700 10.73  3.40 311      98 "
      ]
     },
     "metadata": {},
     "output_type": "display_data"
    }
   ],
   "source": [
    "head(data)"
   ]
  },
  {
   "cell_type": "markdown",
   "id": "pretty-resident",
   "metadata": {},
   "source": [
    "### #3. find the summary statistics"
   ]
  },
  {
   "cell_type": "code",
   "execution_count": 4,
   "id": "informed-atlas",
   "metadata": {},
   "outputs": [
    {
     "data": {
      "text/plain": [
       "     salary           testsc           wam           libsize      \n",
       " Min.   :124900   Min.   : 9.67   Min.   :2.730   Min.   : 124.0  \n",
       " 1st Qu.:130150   1st Qu.:10.33   1st Qu.:3.200   1st Qu.: 230.2  \n",
       " Median :134400   Median :10.53   Median :3.300   Median : 310.5  \n",
       " Mean   :139752   Mean   :10.59   Mean   :3.314   Mean   : 354.9  \n",
       " 3rd Qu.:142300   3rd Qu.:10.80   3rd Qu.:3.420   3rd Qu.: 409.8  \n",
       " Max.   :179000   Max.   :11.40   Max.   :3.820   Max.   :1745.0  \n",
       "      rank       \n",
       " Min.   :  1.00  \n",
       " 1st Qu.: 38.00  \n",
       " Median : 79.00  \n",
       " Mean   : 79.54  \n",
       " 3rd Qu.:122.75  \n",
       " Max.   :174.00  "
      ]
     },
     "metadata": {},
     "output_type": "display_data"
    }
   ],
   "source": [
    "summary(data)"
   ]
  },
  {
   "cell_type": "markdown",
   "id": "accessible-ethernet",
   "metadata": {},
   "source": [
    "### if you want to wokr it one by one"
   ]
  },
  {
   "cell_type": "code",
   "execution_count": 5,
   "id": "elect-india",
   "metadata": {},
   "outputs": [
    {
     "data": {
      "text/html": [
       "124900"
      ],
      "text/latex": [
       "124900"
      ],
      "text/markdown": [
       "124900"
      ],
      "text/plain": [
       "[1] 124900"
      ]
     },
     "metadata": {},
     "output_type": "display_data"
    },
    {
     "data": {
      "text/html": [
       "9.6700001"
      ],
      "text/latex": [
       "9.6700001"
      ],
      "text/markdown": [
       "9.6700001"
      ],
      "text/plain": [
       "[1] 9.67"
      ]
     },
     "metadata": {},
     "output_type": "display_data"
    },
    {
     "data": {
      "text/html": [
       "2.73"
      ],
      "text/latex": [
       "2.73"
      ],
      "text/markdown": [
       "2.73"
      ],
      "text/plain": [
       "[1] 2.73"
      ]
     },
     "metadata": {},
     "output_type": "display_data"
    },
    {
     "data": {
      "text/html": [
       "124"
      ],
      "text/latex": [
       "124"
      ],
      "text/markdown": [
       "124"
      ],
      "text/plain": [
       "[1] 124"
      ]
     },
     "metadata": {},
     "output_type": "display_data"
    },
    {
     "data": {
      "text/html": [
       "1"
      ],
      "text/latex": [
       "1"
      ],
      "text/markdown": [
       "1"
      ],
      "text/plain": [
       "[1] 1"
      ]
     },
     "metadata": {},
     "output_type": "display_data"
    }
   ],
   "source": [
    "min(data$salary  )\n",
    "min(data$testsc  )\n",
    "min(data$wam     )\n",
    "min(data$libsize )\n",
    "min(data$rank    )"
   ]
  },
  {
   "cell_type": "code",
   "execution_count": 6,
   "id": "liquid-craft",
   "metadata": {},
   "outputs": [
    {
     "data": {
      "text/html": [
       "179000"
      ],
      "text/latex": [
       "179000"
      ],
      "text/markdown": [
       "179000"
      ],
      "text/plain": [
       "[1] 179000"
      ]
     },
     "metadata": {},
     "output_type": "display_data"
    },
    {
     "data": {
      "text/html": [
       "11.4"
      ],
      "text/latex": [
       "11.4"
      ],
      "text/markdown": [
       "11.4"
      ],
      "text/plain": [
       "[1] 11.4"
      ]
     },
     "metadata": {},
     "output_type": "display_data"
    },
    {
     "data": {
      "text/html": [
       "3.8199999"
      ],
      "text/latex": [
       "3.8199999"
      ],
      "text/markdown": [
       "3.8199999"
      ],
      "text/plain": [
       "[1] 3.82"
      ]
     },
     "metadata": {},
     "output_type": "display_data"
    },
    {
     "data": {
      "text/html": [
       "1745"
      ],
      "text/latex": [
       "1745"
      ],
      "text/markdown": [
       "1745"
      ],
      "text/plain": [
       "[1] 1745"
      ]
     },
     "metadata": {},
     "output_type": "display_data"
    },
    {
     "data": {
      "text/html": [
       "174"
      ],
      "text/latex": [
       "174"
      ],
      "text/markdown": [
       "174"
      ],
      "text/plain": [
       "[1] 174"
      ]
     },
     "metadata": {},
     "output_type": "display_data"
    }
   ],
   "source": [
    "max(data$salary  )\n",
    "max(data$testsc  )\n",
    "max(data$wam     )\n",
    "max(data$libsize )\n",
    "max(data$rank    )"
   ]
  },
  {
   "cell_type": "code",
   "execution_count": 7,
   "id": "strong-fisher",
   "metadata": {},
   "outputs": [
    {
     "data": {
      "text/html": [
       "139751.952"
      ],
      "text/latex": [
       "139751.952"
      ],
      "text/markdown": [
       "139751.952"
      ],
      "text/plain": [
       "[1] 139752"
      ]
     },
     "metadata": {},
     "output_type": "display_data"
    },
    {
     "data": {
      "text/html": [
       "10.5868799984"
      ],
      "text/latex": [
       "10.5868799984"
      ],
      "text/markdown": [
       "10.5868799984"
      ],
      "text/plain": [
       "[1] 10.58688"
      ]
     },
     "metadata": {},
     "output_type": "display_data"
    },
    {
     "data": {
      "text/html": [
       "3.3141600012"
      ],
      "text/latex": [
       "3.3141600012"
      ],
      "text/markdown": [
       "3.3141600012"
      ],
      "text/plain": [
       "[1] 3.31416"
      ]
     },
     "metadata": {},
     "output_type": "display_data"
    },
    {
     "data": {
      "text/html": [
       "354.928"
      ],
      "text/latex": [
       "354.928"
      ],
      "text/markdown": [
       "354.928"
      ],
      "text/plain": [
       "[1] 354.928"
      ]
     },
     "metadata": {},
     "output_type": "display_data"
    },
    {
     "data": {
      "text/html": [
       "79.54"
      ],
      "text/latex": [
       "79.54"
      ],
      "text/markdown": [
       "79.54"
      ],
      "text/plain": [
       "[1] 79.54"
      ]
     },
     "metadata": {},
     "output_type": "display_data"
    }
   ],
   "source": [
    "mean(data$salary  )\n",
    "mean(data$testsc  )\n",
    "mean(data$wam     )\n",
    "mean(data$libsize )\n",
    "mean(data$rank    )"
   ]
  },
  {
   "cell_type": "code",
   "execution_count": 8,
   "id": "dutch-vampire",
   "metadata": {},
   "outputs": [
    {
     "data": {
      "text/html": [
       "12976.6578034828"
      ],
      "text/latex": [
       "12976.6578034828"
      ],
      "text/markdown": [
       "12976.6578034828"
      ],
      "text/plain": [
       "[1] 12976.66"
      ]
     },
     "metadata": {},
     "output_type": "display_data"
    },
    {
     "data": {
      "text/html": [
       "0.294749005424636"
      ],
      "text/latex": [
       "0.294749005424636"
      ],
      "text/markdown": [
       "0.294749005424636"
      ],
      "text/plain": [
       "[1] 0.294749"
      ]
     },
     "metadata": {},
     "output_type": "display_data"
    },
    {
     "data": {
      "text/html": [
       "0.197927759543758"
      ],
      "text/latex": [
       "0.197927759543758"
      ],
      "text/markdown": [
       "0.197927759543758"
      ],
      "text/plain": [
       "[1] 0.1979278"
      ]
     },
     "metadata": {},
     "output_type": "display_data"
    },
    {
     "data": {
      "text/html": [
       "211.844213276632"
      ],
      "text/latex": [
       "211.844213276632"
      ],
      "text/markdown": [
       "211.844213276632"
      ],
      "text/plain": [
       "[1] 211.8442"
      ]
     },
     "metadata": {},
     "output_type": "display_data"
    },
    {
     "data": {
      "text/html": [
       "48.4888965884921"
      ],
      "text/latex": [
       "48.4888965884921"
      ],
      "text/markdown": [
       "48.4888965884921"
      ],
      "text/plain": [
       "[1] 48.4889"
      ]
     },
     "metadata": {},
     "output_type": "display_data"
    }
   ],
   "source": [
    "sd(data$salary  )\n",
    "sd(data$testsc  )\n",
    "sd(data$wam     )\n",
    "sd(data$libsize )\n",
    "sd(data$rank    )"
   ]
  },
  {
   "cell_type": "markdown",
   "id": "beautiful-witch",
   "metadata": {},
   "source": [
    "### #4. OLS of log(salary)"
   ]
  },
  {
   "cell_type": "code",
   "execution_count": 9,
   "id": "hungry-strengthening",
   "metadata": {},
   "outputs": [
    {
     "data": {
      "text/plain": [
       "\n",
       "Call:\n",
       "lm(formula = log_salary ~ testsc + wam + log_libsize + rank, \n",
       "    data = data)\n",
       "\n",
       "Residuals:\n",
       "      Min        1Q    Median        3Q       Max \n",
       "-0.091265 -0.033113 -0.002759  0.028784  0.102116 \n",
       "\n",
       "Coefficients:\n",
       "              Estimate Std. Error t value Pr(>|t|)    \n",
       "(Intercept)  1.100e+01  1.431e-01  76.877  < 2e-16 ***\n",
       "testsc       5.011e-02  1.670e-02   3.001  0.00297 ** \n",
       "wam          4.803e-02  2.338e-02   2.054  0.04099 *  \n",
       "log_libsize  3.969e-02  8.861e-03   4.479 1.15e-05 ***\n",
       "rank        -9.365e-04  9.003e-05 -10.402  < 2e-16 ***\n",
       "---\n",
       "Signif. codes:  0 ‘***’ 0.001 ‘**’ 0.01 ‘*’ 0.05 ‘.’ 0.1 ‘ ’ 1\n",
       "\n",
       "Residual standard error: 0.04044 on 245 degrees of freedom\n",
       "Multiple R-squared:  0.7927,\tAdjusted R-squared:  0.7894 \n",
       "F-statistic: 234.3 on 4 and 245 DF,  p-value: < 2.2e-16\n"
      ]
     },
     "metadata": {},
     "output_type": "display_data"
    }
   ],
   "source": [
    "data$log_salary  = log(data$salary  )\n",
    "data$log_libsize = log(data$libsize )\n",
    "\n",
    "OLS1 = lm(log_salary ~  testsc + wam + log_libsize + rank , data=data)\n",
    "\n",
    "summary(OLS1)"
   ]
  },
  {
   "cell_type": "markdown",
   "id": "above-variety",
   "metadata": {},
   "source": [
    "### #5. t-test on $$H_0 : \\beta_{\\mathrm{rank}}=0;$$ $$H_1 : \\beta_{\\mathrm{rank}} \\neq 0;$$"
   ]
  },
  {
   "cell_type": "markdown",
   "id": "chubby-manhattan",
   "metadata": {},
   "source": [
    "### note that\n",
    "### * when testing single parameter (like $\\beta_{rank}$) in *a two tail test*, you can do either F or t test\n",
    "### * the *two-tail p-value* for F and t are the same\n",
    "### * the F and t values always follows this rule $$F = t^2$$\n",
    "### * hence, if you know F, you also know the corresponding t in *two-tail tests*."
   ]
  },
  {
   "cell_type": "code",
   "execution_count": 10,
   "id": "twenty-nutrition",
   "metadata": {},
   "outputs": [
    {
     "data": {
      "text/html": [
       "<table class=\"dataframe\">\n",
       "<caption>A anova: 2 × 6</caption>\n",
       "<thead>\n",
       "\t<tr><th></th><th scope=col>Res.Df</th><th scope=col>RSS</th><th scope=col>Df</th><th scope=col>Sum of Sq</th><th scope=col>F</th><th scope=col>Pr(&gt;F)</th></tr>\n",
       "\t<tr><th></th><th scope=col>&lt;dbl&gt;</th><th scope=col>&lt;dbl&gt;</th><th scope=col>&lt;dbl&gt;</th><th scope=col>&lt;dbl&gt;</th><th scope=col>&lt;dbl&gt;</th><th scope=col>&lt;dbl&gt;</th></tr>\n",
       "</thead>\n",
       "<tbody>\n",
       "\t<tr><th scope=row>1</th><td>246</td><td>0.4153109</td><td>NA</td><td>        NA</td><td>     NA</td><td>        NA</td></tr>\n",
       "\t<tr><th scope=row>2</th><td>245</td><td>0.4005823</td><td> 1</td><td>0.01472856</td><td>9.00813</td><td>0.00296563</td></tr>\n",
       "</tbody>\n",
       "</table>\n"
      ],
      "text/latex": [
       "A anova: 2 × 6\n",
       "\\begin{tabular}{r|llllll}\n",
       "  & Res.Df & RSS & Df & Sum of Sq & F & Pr(>F)\\\\\n",
       "  & <dbl> & <dbl> & <dbl> & <dbl> & <dbl> & <dbl>\\\\\n",
       "\\hline\n",
       "\t1 & 246 & 0.4153109 & NA &         NA &      NA &         NA\\\\\n",
       "\t2 & 245 & 0.4005823 &  1 & 0.01472856 & 9.00813 & 0.00296563\\\\\n",
       "\\end{tabular}\n"
      ],
      "text/markdown": [
       "\n",
       "A anova: 2 × 6\n",
       "\n",
       "| <!--/--> | Res.Df &lt;dbl&gt; | RSS &lt;dbl&gt; | Df &lt;dbl&gt; | Sum of Sq &lt;dbl&gt; | F &lt;dbl&gt; | Pr(&gt;F) &lt;dbl&gt; |\n",
       "|---|---|---|---|---|---|---|\n",
       "| 1 | 246 | 0.4153109 | NA |         NA |      NA |         NA |\n",
       "| 2 | 245 | 0.4005823 |  1 | 0.01472856 | 9.00813 | 0.00296563 |\n",
       "\n"
      ],
      "text/plain": [
       "  Res.Df RSS       Df Sum of Sq  F       Pr(>F)    \n",
       "1 246    0.4153109 NA         NA      NA         NA\n",
       "2 245    0.4005823  1 0.01472856 9.00813 0.00296563"
      ]
     },
     "metadata": {},
     "output_type": "display_data"
    }
   ],
   "source": [
    "linearHypothesis(OLS1, c(\"testsc = 0\"),test = \"F\")"
   ]
  },
  {
   "cell_type": "markdown",
   "id": "faad56b0-3329-46c9-be5f-8f6f53644d17",
   "metadata": {},
   "source": [
    "### t-test on $$H_0 : \\beta_{\\mathrm{rank}} \\geqslant 0;$$ $$H_1 : \\beta_{\\mathrm{rank}} < 0;$$"
   ]
  },
  {
   "cell_type": "code",
   "execution_count": 11,
   "id": "28ae6a70-7f9c-4e0e-a8db-f8c740899f7a",
   "metadata": {},
   "outputs": [
    {
     "name": "stdout",
     "output_type": "stream",
     "text": [
      "[1] \"p value is 1.58259773181506e-21\"\n"
     ]
    }
   ],
   "source": [
    "hyp_val = 0\n",
    "t_val = (summary(OLS1)$coefficients[5,1] - hyp_val ) / summary(OLS1)$coefficients[5,2]\n",
    "\n",
    "p_val = pt(t_val, df.residual(OLS1))\n",
    "\n",
    "print(paste0(\"p value is \", p_val))"
   ]
  },
  {
   "cell_type": "markdown",
   "id": "juvenile-kitchen",
   "metadata": {},
   "source": [
    "### #6. F test on $$H_0 : \\beta_{\\mathrm{wam}}=\\beta_{\\mathrm{testsc}}=0;$$ $$H_1 : \\mbox{ at least one of } \\beta_{\\mathrm{wam}} \\mbox{ and }\\beta_{\\mathrm{testsc}} \\mbox{ is not } 0.$$ "
   ]
  },
  {
   "cell_type": "code",
   "execution_count": 12,
   "id": "sporting-synthesis",
   "metadata": {},
   "outputs": [
    {
     "data": {
      "text/html": [
       "<table class=\"dataframe\">\n",
       "<caption>A anova: 2 × 6</caption>\n",
       "<thead>\n",
       "\t<tr><th></th><th scope=col>Res.Df</th><th scope=col>RSS</th><th scope=col>Df</th><th scope=col>Sum of Sq</th><th scope=col>F</th><th scope=col>Pr(&gt;F)</th></tr>\n",
       "\t<tr><th></th><th scope=col>&lt;dbl&gt;</th><th scope=col>&lt;dbl&gt;</th><th scope=col>&lt;dbl&gt;</th><th scope=col>&lt;dbl&gt;</th><th scope=col>&lt;dbl&gt;</th><th scope=col>&lt;dbl&gt;</th></tr>\n",
       "</thead>\n",
       "<tbody>\n",
       "\t<tr><th scope=row>1</th><td>247</td><td>0.4551063</td><td>NA</td><td>        NA</td><td>      NA</td><td>          NA</td></tr>\n",
       "\t<tr><th scope=row>2</th><td>245</td><td>0.4005823</td><td> 2</td><td>0.05452398</td><td>16.67369</td><td>1.625248e-07</td></tr>\n",
       "</tbody>\n",
       "</table>\n"
      ],
      "text/latex": [
       "A anova: 2 × 6\n",
       "\\begin{tabular}{r|llllll}\n",
       "  & Res.Df & RSS & Df & Sum of Sq & F & Pr(>F)\\\\\n",
       "  & <dbl> & <dbl> & <dbl> & <dbl> & <dbl> & <dbl>\\\\\n",
       "\\hline\n",
       "\t1 & 247 & 0.4551063 & NA &         NA &       NA &           NA\\\\\n",
       "\t2 & 245 & 0.4005823 &  2 & 0.05452398 & 16.67369 & 1.625248e-07\\\\\n",
       "\\end{tabular}\n"
      ],
      "text/markdown": [
       "\n",
       "A anova: 2 × 6\n",
       "\n",
       "| <!--/--> | Res.Df &lt;dbl&gt; | RSS &lt;dbl&gt; | Df &lt;dbl&gt; | Sum of Sq &lt;dbl&gt; | F &lt;dbl&gt; | Pr(&gt;F) &lt;dbl&gt; |\n",
       "|---|---|---|---|---|---|---|\n",
       "| 1 | 247 | 0.4551063 | NA |         NA |       NA |           NA |\n",
       "| 2 | 245 | 0.4005823 |  2 | 0.05452398 | 16.67369 | 1.625248e-07 |\n",
       "\n"
      ],
      "text/plain": [
       "  Res.Df RSS       Df Sum of Sq  F        Pr(>F)      \n",
       "1 247    0.4551063 NA         NA       NA           NA\n",
       "2 245    0.4005823  2 0.05452398 16.67369 1.625248e-07"
      ]
     },
     "metadata": {},
     "output_type": "display_data"
    }
   ],
   "source": [
    "linearHypothesis(OLS1, c(\"testsc= 0\",\"wam = 0\"),test = \"F\")"
   ]
  },
  {
   "cell_type": "markdown",
   "id": "recorded-weekend",
   "metadata": {},
   "source": [
    "### #7. F test on $$H_0 : \\beta_{\\mathrm{wam}}=\\beta_{\\mathrm{testsc}};$$ $$H_1 : \\beta_{\\mathrm{wam}} \\neq \\beta_{\\mathrm{testsc}}.$$"
   ]
  },
  {
   "cell_type": "code",
   "execution_count": 13,
   "id": "continuing-oklahoma",
   "metadata": {},
   "outputs": [
    {
     "data": {
      "text/html": [
       "<table class=\"dataframe\">\n",
       "<caption>A anova: 2 × 6</caption>\n",
       "<thead>\n",
       "\t<tr><th></th><th scope=col>Res.Df</th><th scope=col>RSS</th><th scope=col>Df</th><th scope=col>Sum of Sq</th><th scope=col>F</th><th scope=col>Pr(&gt;F)</th></tr>\n",
       "\t<tr><th></th><th scope=col>&lt;dbl&gt;</th><th scope=col>&lt;dbl&gt;</th><th scope=col>&lt;dbl&gt;</th><th scope=col>&lt;dbl&gt;</th><th scope=col>&lt;dbl&gt;</th><th scope=col>&lt;dbl&gt;</th></tr>\n",
       "</thead>\n",
       "<tbody>\n",
       "\t<tr><th scope=row>1</th><td>246</td><td>0.4005878</td><td>NA</td><td>          NA</td><td>        NA</td><td>       NA</td></tr>\n",
       "\t<tr><th scope=row>2</th><td>245</td><td>0.4005823</td><td> 1</td><td>5.442344e-06</td><td>0.00332859</td><td>0.9540395</td></tr>\n",
       "</tbody>\n",
       "</table>\n"
      ],
      "text/latex": [
       "A anova: 2 × 6\n",
       "\\begin{tabular}{r|llllll}\n",
       "  & Res.Df & RSS & Df & Sum of Sq & F & Pr(>F)\\\\\n",
       "  & <dbl> & <dbl> & <dbl> & <dbl> & <dbl> & <dbl>\\\\\n",
       "\\hline\n",
       "\t1 & 246 & 0.4005878 & NA &           NA &         NA &        NA\\\\\n",
       "\t2 & 245 & 0.4005823 &  1 & 5.442344e-06 & 0.00332859 & 0.9540395\\\\\n",
       "\\end{tabular}\n"
      ],
      "text/markdown": [
       "\n",
       "A anova: 2 × 6\n",
       "\n",
       "| <!--/--> | Res.Df &lt;dbl&gt; | RSS &lt;dbl&gt; | Df &lt;dbl&gt; | Sum of Sq &lt;dbl&gt; | F &lt;dbl&gt; | Pr(&gt;F) &lt;dbl&gt; |\n",
       "|---|---|---|---|---|---|---|\n",
       "| 1 | 246 | 0.4005878 | NA |           NA |         NA |        NA |\n",
       "| 2 | 245 | 0.4005823 |  1 | 5.442344e-06 | 0.00332859 | 0.9540395 |\n",
       "\n"
      ],
      "text/plain": [
       "  Res.Df RSS       Df Sum of Sq    F          Pr(>F)   \n",
       "1 246    0.4005878 NA           NA         NA        NA\n",
       "2 245    0.4005823  1 5.442344e-06 0.00332859 0.9540395"
      ]
     },
     "metadata": {},
     "output_type": "display_data"
    }
   ],
   "source": [
    "linearHypothesis(OLS1, c(\"testsc - wam = 0\"),test = \"F\")"
   ]
  },
  {
   "cell_type": "markdown",
   "id": "surgical-mumbai",
   "metadata": {},
   "source": [
    "## Extra : do all the things again on the standardized regression and you will find the same result"
   ]
  },
  {
   "cell_type": "code",
   "execution_count": 14,
   "id": "express-auckland",
   "metadata": {},
   "outputs": [
    {
     "data": {
      "text/plain": [
       "\n",
       "Call:\n",
       "lm(formula = log_salary ~ testsc + wam + log_libsize + rank, \n",
       "    data = data_st)\n",
       "\n",
       "Residuals:\n",
       "     Min       1Q   Median       3Q      Max \n",
       "-1.03589 -0.37584 -0.03132  0.32671  1.15905 \n",
       "\n",
       "Coefficients:\n",
       "              Estimate Std. Error t value Pr(>|t|)    \n",
       "(Intercept) -6.643e-15  2.903e-02   0.000  1.00000    \n",
       "testsc       1.676e-01  5.586e-02   3.001  0.00297 ** \n",
       "wam          1.079e-01  5.252e-02   2.054  0.04099 *  \n",
       "log_libsize  1.965e-01  4.387e-02   4.479 1.15e-05 ***\n",
       "rank        -5.154e-01  4.955e-02 -10.402  < 2e-16 ***\n",
       "---\n",
       "Signif. codes:  0 ‘***’ 0.001 ‘**’ 0.01 ‘*’ 0.05 ‘.’ 0.1 ‘ ’ 1\n",
       "\n",
       "Residual standard error: 0.459 on 245 degrees of freedom\n",
       "Multiple R-squared:  0.7927,\tAdjusted R-squared:  0.7894 \n",
       "F-statistic: 234.3 on 4 and 245 DF,  p-value: < 2.2e-16\n"
      ]
     },
     "metadata": {},
     "output_type": "display_data"
    }
   ],
   "source": [
    "data_st = select(data, log_salary, testsc, wam, log_libsize, rank)\n",
    "\n",
    "data_st$log_salary  = (data_st$log_salary  - mean(data_st$log_salary ))/sd(data_st$log_salary )\n",
    "data_st$testsc      = (data_st$testsc      - mean(data_st$testsc     ))/sd(data_st$testsc)\n",
    "data_st$wam         = (data_st$wam         - mean(data_st$wam        ))/sd(data_st$wam)\n",
    "data_st$log_libsize = (data_st$log_libsize - mean(data_st$log_libsize))/sd(data_st$log_libsize)\n",
    "data_st$rank        = (data_st$rank        - mean(data_st$rank       ))/sd(data_st$rank)\n",
    "\n",
    "OLS2 = lm(log_salary ~  testsc + wam + log_libsize + rank, data=data_st)\n",
    "summary(OLS2)"
   ]
  },
  {
   "cell_type": "code",
   "execution_count": 15,
   "id": "beneficial-rover",
   "metadata": {},
   "outputs": [
    {
     "data": {
      "text/html": [
       "<table class=\"dataframe\">\n",
       "<caption>A anova: 2 × 6</caption>\n",
       "<thead>\n",
       "\t<tr><th></th><th scope=col>Res.Df</th><th scope=col>RSS</th><th scope=col>Df</th><th scope=col>Sum of Sq</th><th scope=col>F</th><th scope=col>Pr(&gt;F)</th></tr>\n",
       "\t<tr><th></th><th scope=col>&lt;dbl&gt;</th><th scope=col>&lt;dbl&gt;</th><th scope=col>&lt;dbl&gt;</th><th scope=col>&lt;dbl&gt;</th><th scope=col>&lt;dbl&gt;</th><th scope=col>&lt;dbl&gt;</th></tr>\n",
       "</thead>\n",
       "<tbody>\n",
       "\t<tr><th scope=row>1</th><td>246</td><td>53.50447</td><td>NA</td><td>      NA</td><td>     NA</td><td>        NA</td></tr>\n",
       "\t<tr><th scope=row>2</th><td>245</td><td>51.60699</td><td> 1</td><td>1.897479</td><td>9.00813</td><td>0.00296563</td></tr>\n",
       "</tbody>\n",
       "</table>\n"
      ],
      "text/latex": [
       "A anova: 2 × 6\n",
       "\\begin{tabular}{r|llllll}\n",
       "  & Res.Df & RSS & Df & Sum of Sq & F & Pr(>F)\\\\\n",
       "  & <dbl> & <dbl> & <dbl> & <dbl> & <dbl> & <dbl>\\\\\n",
       "\\hline\n",
       "\t1 & 246 & 53.50447 & NA &       NA &      NA &         NA\\\\\n",
       "\t2 & 245 & 51.60699 &  1 & 1.897479 & 9.00813 & 0.00296563\\\\\n",
       "\\end{tabular}\n"
      ],
      "text/markdown": [
       "\n",
       "A anova: 2 × 6\n",
       "\n",
       "| <!--/--> | Res.Df &lt;dbl&gt; | RSS &lt;dbl&gt; | Df &lt;dbl&gt; | Sum of Sq &lt;dbl&gt; | F &lt;dbl&gt; | Pr(&gt;F) &lt;dbl&gt; |\n",
       "|---|---|---|---|---|---|---|\n",
       "| 1 | 246 | 53.50447 | NA |       NA |      NA |         NA |\n",
       "| 2 | 245 | 51.60699 |  1 | 1.897479 | 9.00813 | 0.00296563 |\n",
       "\n"
      ],
      "text/plain": [
       "  Res.Df RSS      Df Sum of Sq F       Pr(>F)    \n",
       "1 246    53.50447 NA       NA       NA         NA\n",
       "2 245    51.60699  1 1.897479  9.00813 0.00296563"
      ]
     },
     "metadata": {},
     "output_type": "display_data"
    }
   ],
   "source": [
    "linearHypothesis(OLS2, c(\"testsc = 0\"),test = \"F\")"
   ]
  },
  {
   "cell_type": "code",
   "execution_count": 16,
   "id": "ordered-celebration",
   "metadata": {},
   "outputs": [
    {
     "data": {
      "text/html": [
       "<table class=\"dataframe\">\n",
       "<caption>A anova: 2 × 6</caption>\n",
       "<thead>\n",
       "\t<tr><th></th><th scope=col>Res.Df</th><th scope=col>RSS</th><th scope=col>Df</th><th scope=col>Sum of Sq</th><th scope=col>F</th><th scope=col>Pr(&gt;F)</th></tr>\n",
       "\t<tr><th></th><th scope=col>&lt;dbl&gt;</th><th scope=col>&lt;dbl&gt;</th><th scope=col>&lt;dbl&gt;</th><th scope=col>&lt;dbl&gt;</th><th scope=col>&lt;dbl&gt;</th><th scope=col>&lt;dbl&gt;</th></tr>\n",
       "</thead>\n",
       "<tbody>\n",
       "\t<tr><th scope=row>1</th><td>247</td><td>0.4551063</td><td>NA</td><td>        NA</td><td>      NA</td><td>          NA</td></tr>\n",
       "\t<tr><th scope=row>2</th><td>245</td><td>0.4005823</td><td> 2</td><td>0.05452398</td><td>16.67369</td><td>1.625248e-07</td></tr>\n",
       "</tbody>\n",
       "</table>\n"
      ],
      "text/latex": [
       "A anova: 2 × 6\n",
       "\\begin{tabular}{r|llllll}\n",
       "  & Res.Df & RSS & Df & Sum of Sq & F & Pr(>F)\\\\\n",
       "  & <dbl> & <dbl> & <dbl> & <dbl> & <dbl> & <dbl>\\\\\n",
       "\\hline\n",
       "\t1 & 247 & 0.4551063 & NA &         NA &       NA &           NA\\\\\n",
       "\t2 & 245 & 0.4005823 &  2 & 0.05452398 & 16.67369 & 1.625248e-07\\\\\n",
       "\\end{tabular}\n"
      ],
      "text/markdown": [
       "\n",
       "A anova: 2 × 6\n",
       "\n",
       "| <!--/--> | Res.Df &lt;dbl&gt; | RSS &lt;dbl&gt; | Df &lt;dbl&gt; | Sum of Sq &lt;dbl&gt; | F &lt;dbl&gt; | Pr(&gt;F) &lt;dbl&gt; |\n",
       "|---|---|---|---|---|---|---|\n",
       "| 1 | 247 | 0.4551063 | NA |         NA |       NA |           NA |\n",
       "| 2 | 245 | 0.4005823 |  2 | 0.05452398 | 16.67369 | 1.625248e-07 |\n",
       "\n"
      ],
      "text/plain": [
       "  Res.Df RSS       Df Sum of Sq  F        Pr(>F)      \n",
       "1 247    0.4551063 NA         NA       NA           NA\n",
       "2 245    0.4005823  2 0.05452398 16.67369 1.625248e-07"
      ]
     },
     "metadata": {},
     "output_type": "display_data"
    }
   ],
   "source": [
    "linearHypothesis(OLS1, c(\"testsc= 0\",\"wam = 0\"),test = \"F\")"
   ]
  },
  {
   "cell_type": "code",
   "execution_count": 17,
   "id": "white-power",
   "metadata": {},
   "outputs": [
    {
     "data": {
      "text/html": [
       "<table class=\"dataframe\">\n",
       "<caption>A anova: 2 × 6</caption>\n",
       "<thead>\n",
       "\t<tr><th></th><th scope=col>Res.Df</th><th scope=col>RSS</th><th scope=col>Df</th><th scope=col>Sum of Sq</th><th scope=col>F</th><th scope=col>Pr(&gt;F)</th></tr>\n",
       "\t<tr><th></th><th scope=col>&lt;dbl&gt;</th><th scope=col>&lt;dbl&gt;</th><th scope=col>&lt;dbl&gt;</th><th scope=col>&lt;dbl&gt;</th><th scope=col>&lt;dbl&gt;</th><th scope=col>&lt;dbl&gt;</th></tr>\n",
       "</thead>\n",
       "<tbody>\n",
       "\t<tr><th scope=row>1</th><td>246</td><td>0.4005878</td><td>NA</td><td>          NA</td><td>        NA</td><td>       NA</td></tr>\n",
       "\t<tr><th scope=row>2</th><td>245</td><td>0.4005823</td><td> 1</td><td>5.442344e-06</td><td>0.00332859</td><td>0.9540395</td></tr>\n",
       "</tbody>\n",
       "</table>\n"
      ],
      "text/latex": [
       "A anova: 2 × 6\n",
       "\\begin{tabular}{r|llllll}\n",
       "  & Res.Df & RSS & Df & Sum of Sq & F & Pr(>F)\\\\\n",
       "  & <dbl> & <dbl> & <dbl> & <dbl> & <dbl> & <dbl>\\\\\n",
       "\\hline\n",
       "\t1 & 246 & 0.4005878 & NA &           NA &         NA &        NA\\\\\n",
       "\t2 & 245 & 0.4005823 &  1 & 5.442344e-06 & 0.00332859 & 0.9540395\\\\\n",
       "\\end{tabular}\n"
      ],
      "text/markdown": [
       "\n",
       "A anova: 2 × 6\n",
       "\n",
       "| <!--/--> | Res.Df &lt;dbl&gt; | RSS &lt;dbl&gt; | Df &lt;dbl&gt; | Sum of Sq &lt;dbl&gt; | F &lt;dbl&gt; | Pr(&gt;F) &lt;dbl&gt; |\n",
       "|---|---|---|---|---|---|---|\n",
       "| 1 | 246 | 0.4005878 | NA |           NA |         NA |        NA |\n",
       "| 2 | 245 | 0.4005823 |  1 | 5.442344e-06 | 0.00332859 | 0.9540395 |\n",
       "\n"
      ],
      "text/plain": [
       "  Res.Df RSS       Df Sum of Sq    F          Pr(>F)   \n",
       "1 246    0.4005878 NA           NA         NA        NA\n",
       "2 245    0.4005823  1 5.442344e-06 0.00332859 0.9540395"
      ]
     },
     "metadata": {},
     "output_type": "display_data"
    }
   ],
   "source": [
    "linearHypothesis(OLS1, c(\"testsc-wam = 0\"),test = \"F\")"
   ]
  },
  {
   "cell_type": "markdown",
   "id": "noble-mexico",
   "metadata": {},
   "source": [
    "## Question 2\n",
    "\n",
    "### #1. load data"
   ]
  },
  {
   "cell_type": "code",
   "execution_count": 18,
   "id": "imported-provider",
   "metadata": {},
   "outputs": [
    {
     "name": "stderr",
     "output_type": "stream",
     "text": [
      "\u001b[1m\u001b[1mRows: \u001b[1m\u001b[22m\u001b[34m\u001b[34m269\u001b[34m\u001b[39m \u001b[1m\u001b[1mColumns: \u001b[1m\u001b[22m\u001b[34m\u001b[34m22\u001b[34m\u001b[39m\n",
      "\n",
      "\u001b[36m──\u001b[39m \u001b[1m\u001b[1mColumn specification\u001b[1m\u001b[22m \u001b[36m──────────────────────────────────────────────────────────────\u001b[39m\n",
      "\u001b[1mDelimiter:\u001b[22m \",\"\n",
      "\u001b[32mdbl\u001b[39m (22): marr, wage, exper, age, coll, games, minutes, guard, forward, cent...\n",
      "\n",
      "\n",
      "\u001b[36mℹ\u001b[39m Use \u001b[30m\u001b[47m\u001b[30m\u001b[47m`spec()`\u001b[47m\u001b[30m\u001b[49m\u001b[39m to retrieve the full column specification for this data.\n",
      "\u001b[36mℹ\u001b[39m Specify the column types or set \u001b[30m\u001b[47m\u001b[30m\u001b[47m`show_col_types = FALSE`\u001b[47m\u001b[30m\u001b[49m\u001b[39m to quiet this message.\n",
      "\n"
     ]
    }
   ],
   "source": [
    "data <- read_csv(\"nbasal.csv\")\n",
    "data <- na.omit(data)"
   ]
  },
  {
   "cell_type": "markdown",
   "id": "beginning-schema",
   "metadata": {},
   "source": [
    "### #2. list all variable names"
   ]
  },
  {
   "cell_type": "code",
   "execution_count": 19,
   "id": "coordinate-rebate",
   "metadata": {},
   "outputs": [
    {
     "data": {
      "text/html": [
       "<style>\n",
       ".list-inline {list-style: none; margin:0; padding: 0}\n",
       ".list-inline>li {display: inline-block}\n",
       ".list-inline>li:not(:last-child)::after {content: \"\\00b7\"; padding: 0 .5ex}\n",
       "</style>\n",
       "<ol class=list-inline><li>'marr'</li><li>'wage'</li><li>'exper'</li><li>'age'</li><li>'coll'</li><li>'games'</li><li>'minutes'</li><li>'guard'</li><li>'forward'</li><li>'center'</li><li>'points'</li><li>'rebounds'</li><li>'assists'</li><li>'draft'</li><li>'allstar'</li><li>'avgmin'</li><li>'lwage'</li><li>'black'</li><li>'children'</li><li>'expersq'</li><li>'agesq'</li><li>'marrblck'</li></ol>\n"
      ],
      "text/latex": [
       "\\begin{enumerate*}\n",
       "\\item 'marr'\n",
       "\\item 'wage'\n",
       "\\item 'exper'\n",
       "\\item 'age'\n",
       "\\item 'coll'\n",
       "\\item 'games'\n",
       "\\item 'minutes'\n",
       "\\item 'guard'\n",
       "\\item 'forward'\n",
       "\\item 'center'\n",
       "\\item 'points'\n",
       "\\item 'rebounds'\n",
       "\\item 'assists'\n",
       "\\item 'draft'\n",
       "\\item 'allstar'\n",
       "\\item 'avgmin'\n",
       "\\item 'lwage'\n",
       "\\item 'black'\n",
       "\\item 'children'\n",
       "\\item 'expersq'\n",
       "\\item 'agesq'\n",
       "\\item 'marrblck'\n",
       "\\end{enumerate*}\n"
      ],
      "text/markdown": [
       "1. 'marr'\n",
       "2. 'wage'\n",
       "3. 'exper'\n",
       "4. 'age'\n",
       "5. 'coll'\n",
       "6. 'games'\n",
       "7. 'minutes'\n",
       "8. 'guard'\n",
       "9. 'forward'\n",
       "10. 'center'\n",
       "11. 'points'\n",
       "12. 'rebounds'\n",
       "13. 'assists'\n",
       "14. 'draft'\n",
       "15. 'allstar'\n",
       "16. 'avgmin'\n",
       "17. 'lwage'\n",
       "18. 'black'\n",
       "19. 'children'\n",
       "20. 'expersq'\n",
       "21. 'agesq'\n",
       "22. 'marrblck'\n",
       "\n",
       "\n"
      ],
      "text/plain": [
       " [1] \"marr\"     \"wage\"     \"exper\"    \"age\"      \"coll\"     \"games\"   \n",
       " [7] \"minutes\"  \"guard\"    \"forward\"  \"center\"   \"points\"   \"rebounds\"\n",
       "[13] \"assists\"  \"draft\"    \"allstar\"  \"avgmin\"   \"lwage\"    \"black\"   \n",
       "[19] \"children\" \"expersq\"  \"agesq\"    \"marrblck\""
      ]
     },
     "metadata": {},
     "output_type": "display_data"
    }
   ],
   "source": [
    "colnames(data)"
   ]
  },
  {
   "cell_type": "markdown",
   "id": "psychological-construction",
   "metadata": {},
   "source": [
    "### #3. check the table head"
   ]
  },
  {
   "cell_type": "code",
   "execution_count": 20,
   "id": "dirty-might",
   "metadata": {},
   "outputs": [
    {
     "data": {
      "text/html": [
       "<table class=\"dataframe\">\n",
       "<caption>A tibble: 6 × 22</caption>\n",
       "<thead>\n",
       "\t<tr><th scope=col>marr</th><th scope=col>wage</th><th scope=col>exper</th><th scope=col>age</th><th scope=col>coll</th><th scope=col>games</th><th scope=col>minutes</th><th scope=col>guard</th><th scope=col>forward</th><th scope=col>center</th><th scope=col>⋯</th><th scope=col>assists</th><th scope=col>draft</th><th scope=col>allstar</th><th scope=col>avgmin</th><th scope=col>lwage</th><th scope=col>black</th><th scope=col>children</th><th scope=col>expersq</th><th scope=col>agesq</th><th scope=col>marrblck</th></tr>\n",
       "\t<tr><th scope=col>&lt;dbl&gt;</th><th scope=col>&lt;dbl&gt;</th><th scope=col>&lt;dbl&gt;</th><th scope=col>&lt;dbl&gt;</th><th scope=col>&lt;dbl&gt;</th><th scope=col>&lt;dbl&gt;</th><th scope=col>&lt;dbl&gt;</th><th scope=col>&lt;dbl&gt;</th><th scope=col>&lt;dbl&gt;</th><th scope=col>&lt;dbl&gt;</th><th scope=col>⋯</th><th scope=col>&lt;dbl&gt;</th><th scope=col>&lt;dbl&gt;</th><th scope=col>&lt;dbl&gt;</th><th scope=col>&lt;dbl&gt;</th><th scope=col>&lt;dbl&gt;</th><th scope=col>&lt;dbl&gt;</th><th scope=col>&lt;dbl&gt;</th><th scope=col>&lt;dbl&gt;</th><th scope=col>&lt;dbl&gt;</th><th scope=col>&lt;dbl&gt;</th></tr>\n",
       "</thead>\n",
       "<tbody>\n",
       "\t<tr><td>1</td><td>1002.5</td><td>4</td><td>27</td><td>4</td><td>77</td><td>2867</td><td>1</td><td>0</td><td>0</td><td>⋯</td><td>4.5</td><td>19</td><td>0</td><td>37.23376</td><td>6.910252</td><td>1</td><td>0</td><td>16</td><td>729</td><td>1</td></tr>\n",
       "\t<tr><td>1</td><td>2030.0</td><td>5</td><td>28</td><td>4</td><td>78</td><td>2789</td><td>1</td><td>0</td><td>0</td><td>⋯</td><td>8.8</td><td>28</td><td>0</td><td>35.75641</td><td>7.615791</td><td>1</td><td>1</td><td>25</td><td>784</td><td>1</td></tr>\n",
       "\t<tr><td>0</td><td> 650.0</td><td>1</td><td>25</td><td>4</td><td>74</td><td>1149</td><td>0</td><td>0</td><td>1</td><td>⋯</td><td>0.2</td><td>19</td><td>0</td><td>15.52703</td><td>6.476973</td><td>1</td><td>0</td><td> 1</td><td>625</td><td>0</td></tr>\n",
       "\t<tr><td>0</td><td>2030.0</td><td>5</td><td>28</td><td>4</td><td>47</td><td>1178</td><td>0</td><td>1</td><td>0</td><td>⋯</td><td>1.5</td><td> 1</td><td>0</td><td>25.06383</td><td>7.615791</td><td>1</td><td>0</td><td>25</td><td>784</td><td>0</td></tr>\n",
       "\t<tr><td>0</td><td> 755.0</td><td>3</td><td>24</td><td>4</td><td>82</td><td>2096</td><td>1</td><td>0</td><td>0</td><td>⋯</td><td>2.6</td><td>24</td><td>0</td><td>25.56098</td><td>6.626718</td><td>1</td><td>0</td><td> 9</td><td>576</td><td>0</td></tr>\n",
       "\t<tr><td>0</td><td>2014.5</td><td>9</td><td>31</td><td>4</td><td>82</td><td>1971</td><td>0</td><td>1</td><td>0</td><td>⋯</td><td>1.5</td><td> 4</td><td>0</td><td>24.03658</td><td>7.608126</td><td>1</td><td>0</td><td>81</td><td>961</td><td>0</td></tr>\n",
       "</tbody>\n",
       "</table>\n"
      ],
      "text/latex": [
       "A tibble: 6 × 22\n",
       "\\begin{tabular}{lllllllllllllllllllll}\n",
       " marr & wage & exper & age & coll & games & minutes & guard & forward & center & ⋯ & assists & draft & allstar & avgmin & lwage & black & children & expersq & agesq & marrblck\\\\\n",
       " <dbl> & <dbl> & <dbl> & <dbl> & <dbl> & <dbl> & <dbl> & <dbl> & <dbl> & <dbl> & ⋯ & <dbl> & <dbl> & <dbl> & <dbl> & <dbl> & <dbl> & <dbl> & <dbl> & <dbl> & <dbl>\\\\\n",
       "\\hline\n",
       "\t 1 & 1002.5 & 4 & 27 & 4 & 77 & 2867 & 1 & 0 & 0 & ⋯ & 4.5 & 19 & 0 & 37.23376 & 6.910252 & 1 & 0 & 16 & 729 & 1\\\\\n",
       "\t 1 & 2030.0 & 5 & 28 & 4 & 78 & 2789 & 1 & 0 & 0 & ⋯ & 8.8 & 28 & 0 & 35.75641 & 7.615791 & 1 & 1 & 25 & 784 & 1\\\\\n",
       "\t 0 &  650.0 & 1 & 25 & 4 & 74 & 1149 & 0 & 0 & 1 & ⋯ & 0.2 & 19 & 0 & 15.52703 & 6.476973 & 1 & 0 &  1 & 625 & 0\\\\\n",
       "\t 0 & 2030.0 & 5 & 28 & 4 & 47 & 1178 & 0 & 1 & 0 & ⋯ & 1.5 &  1 & 0 & 25.06383 & 7.615791 & 1 & 0 & 25 & 784 & 0\\\\\n",
       "\t 0 &  755.0 & 3 & 24 & 4 & 82 & 2096 & 1 & 0 & 0 & ⋯ & 2.6 & 24 & 0 & 25.56098 & 6.626718 & 1 & 0 &  9 & 576 & 0\\\\\n",
       "\t 0 & 2014.5 & 9 & 31 & 4 & 82 & 1971 & 0 & 1 & 0 & ⋯ & 1.5 &  4 & 0 & 24.03658 & 7.608126 & 1 & 0 & 81 & 961 & 0\\\\\n",
       "\\end{tabular}\n"
      ],
      "text/markdown": [
       "\n",
       "A tibble: 6 × 22\n",
       "\n",
       "| marr &lt;dbl&gt; | wage &lt;dbl&gt; | exper &lt;dbl&gt; | age &lt;dbl&gt; | coll &lt;dbl&gt; | games &lt;dbl&gt; | minutes &lt;dbl&gt; | guard &lt;dbl&gt; | forward &lt;dbl&gt; | center &lt;dbl&gt; | ⋯ ⋯ | assists &lt;dbl&gt; | draft &lt;dbl&gt; | allstar &lt;dbl&gt; | avgmin &lt;dbl&gt; | lwage &lt;dbl&gt; | black &lt;dbl&gt; | children &lt;dbl&gt; | expersq &lt;dbl&gt; | agesq &lt;dbl&gt; | marrblck &lt;dbl&gt; |\n",
       "|---|---|---|---|---|---|---|---|---|---|---|---|---|---|---|---|---|---|---|---|---|\n",
       "| 1 | 1002.5 | 4 | 27 | 4 | 77 | 2867 | 1 | 0 | 0 | ⋯ | 4.5 | 19 | 0 | 37.23376 | 6.910252 | 1 | 0 | 16 | 729 | 1 |\n",
       "| 1 | 2030.0 | 5 | 28 | 4 | 78 | 2789 | 1 | 0 | 0 | ⋯ | 8.8 | 28 | 0 | 35.75641 | 7.615791 | 1 | 1 | 25 | 784 | 1 |\n",
       "| 0 |  650.0 | 1 | 25 | 4 | 74 | 1149 | 0 | 0 | 1 | ⋯ | 0.2 | 19 | 0 | 15.52703 | 6.476973 | 1 | 0 |  1 | 625 | 0 |\n",
       "| 0 | 2030.0 | 5 | 28 | 4 | 47 | 1178 | 0 | 1 | 0 | ⋯ | 1.5 |  1 | 0 | 25.06383 | 7.615791 | 1 | 0 | 25 | 784 | 0 |\n",
       "| 0 |  755.0 | 3 | 24 | 4 | 82 | 2096 | 1 | 0 | 0 | ⋯ | 2.6 | 24 | 0 | 25.56098 | 6.626718 | 1 | 0 |  9 | 576 | 0 |\n",
       "| 0 | 2014.5 | 9 | 31 | 4 | 82 | 1971 | 0 | 1 | 0 | ⋯ | 1.5 |  4 | 0 | 24.03658 | 7.608126 | 1 | 0 | 81 | 961 | 0 |\n",
       "\n"
      ],
      "text/plain": [
       "  marr wage   exper age coll games minutes guard forward center ⋯ assists draft\n",
       "1 1    1002.5 4     27  4    77    2867    1     0       0      ⋯ 4.5     19   \n",
       "2 1    2030.0 5     28  4    78    2789    1     0       0      ⋯ 8.8     28   \n",
       "3 0     650.0 1     25  4    74    1149    0     0       1      ⋯ 0.2     19   \n",
       "4 0    2030.0 5     28  4    47    1178    0     1       0      ⋯ 1.5      1   \n",
       "5 0     755.0 3     24  4    82    2096    1     0       0      ⋯ 2.6     24   \n",
       "6 0    2014.5 9     31  4    82    1971    0     1       0      ⋯ 1.5      4   \n",
       "  allstar avgmin   lwage    black children expersq agesq marrblck\n",
       "1 0       37.23376 6.910252 1     0        16      729   1       \n",
       "2 0       35.75641 7.615791 1     1        25      784   1       \n",
       "3 0       15.52703 6.476973 1     0         1      625   0       \n",
       "4 0       25.06383 7.615791 1     0        25      784   0       \n",
       "5 0       25.56098 6.626718 1     0         9      576   0       \n",
       "6 0       24.03658 7.608126 1     0        81      961   0       "
      ]
     },
     "metadata": {},
     "output_type": "display_data"
    }
   ],
   "source": [
    "head(data)"
   ]
  },
  {
   "cell_type": "markdown",
   "id": "collect-friend",
   "metadata": {},
   "source": [
    "### #4. summary statistics"
   ]
  },
  {
   "cell_type": "code",
   "execution_count": 21,
   "id": "aquatic-peoples",
   "metadata": {},
   "outputs": [
    {
     "data": {
      "text/plain": [
       "      marr             wage            exper             age       \n",
       " Min.   :0.0000   Min.   : 150.0   Min.   : 1.000   Min.   :21.00  \n",
       " 1st Qu.:0.0000   1st Qu.: 783.5   1st Qu.: 2.000   1st Qu.:24.00  \n",
       " Median :0.0000   Median :1265.5   Median : 5.000   Median :27.00  \n",
       " Mean   :0.4458   Mean   :1532.7   Mean   : 5.304   Mean   :27.49  \n",
       " 3rd Qu.:1.0000   3rd Qu.:2114.0   3rd Qu.: 8.000   3rd Qu.:30.00  \n",
       " Max.   :1.0000   Max.   :5740.0   Max.   :18.000   Max.   :41.00  \n",
       "      coll           games          minutes         guard       \n",
       " Min.   :0.000   Min.   : 6.00   Min.   :  66   Min.   :0.0000  \n",
       " 1st Qu.:4.000   1st Qu.:63.00   1st Qu.:1145   1st Qu.:0.0000  \n",
       " Median :4.000   Median :75.00   Median :1859   Median :0.0000  \n",
       " Mean   :3.721   Mean   :67.73   Mean   :1788   Mean   :0.4167  \n",
       " 3rd Qu.:4.000   3rd Qu.:80.00   3rd Qu.:2544   3rd Qu.:1.0000  \n",
       " Max.   :4.000   Max.   :82.00   Max.   :3533   Max.   :1.0000  \n",
       "    forward           center           points         rebounds     \n",
       " Min.   :0.0000   Min.   :0.0000   Min.   : 1.20   Min.   : 0.600  \n",
       " 1st Qu.:0.0000   1st Qu.:0.0000   1st Qu.: 6.20   1st Qu.: 2.500  \n",
       " Median :0.0000   Median :0.0000   Median :10.25   Median : 4.000  \n",
       " Mean   :0.4042   Mean   :0.1792   Mean   :10.80   Mean   : 4.612  \n",
       " 3rd Qu.:1.0000   3rd Qu.:0.0000   3rd Qu.:14.85   3rd Qu.: 5.825  \n",
       " Max.   :1.0000   Max.   :1.0000   Max.   :29.80   Max.   :17.300  \n",
       "    assists           draft           allstar           avgmin      \n",
       " Min.   : 0.000   Min.   :  1.00   Min.   :0.0000   Min.   : 2.889  \n",
       " 1st Qu.: 1.000   1st Qu.:  7.00   1st Qu.:0.0000   1st Qu.:18.314  \n",
       " Median : 2.000   Median : 14.50   Median :0.0000   Median :25.773  \n",
       " Mean   : 2.559   Mean   : 20.20   Mean   :0.1292   Mean   :25.081  \n",
       " 3rd Qu.: 3.525   3rd Qu.: 28.25   3rd Qu.:0.0000   3rd Qu.:33.697  \n",
       " Max.   :12.600   Max.   :139.00   Max.   :1.0000   Max.   :43.085  \n",
       "     lwage           black           children       expersq      \n",
       " Min.   :5.011   Min.   :0.0000   Min.   :0.00   Min.   :  1.00  \n",
       " 1st Qu.:6.664   1st Qu.:1.0000   1st Qu.:0.00   1st Qu.:  4.00  \n",
       " Median :7.143   Median :1.0000   Median :0.00   Median : 25.00  \n",
       " Mean   :7.073   Mean   :0.8042   Mean   :0.35   Mean   : 39.97  \n",
       " 3rd Qu.:7.656   3rd Qu.:1.0000   3rd Qu.:1.00   3rd Qu.: 64.00  \n",
       " Max.   :8.655   Max.   :1.0000   Max.   :1.00   Max.   :324.00  \n",
       "     agesq           marrblck     \n",
       " Min.   : 441.0   Min.   :0.0000  \n",
       " 1st Qu.: 576.0   1st Qu.:0.0000  \n",
       " Median : 729.0   Median :0.0000  \n",
       " Mean   : 767.8   Mean   :0.3375  \n",
       " 3rd Qu.: 900.0   3rd Qu.:1.0000  \n",
       " Max.   :1681.0   Max.   :1.0000  "
      ]
     },
     "metadata": {},
     "output_type": "display_data"
    }
   ],
   "source": [
    "summary(data)"
   ]
  },
  {
   "cell_type": "markdown",
   "id": "ideal-component",
   "metadata": {},
   "source": [
    "### #5. regression of points without $age^2$"
   ]
  },
  {
   "cell_type": "code",
   "execution_count": 22,
   "id": "composed-queens",
   "metadata": {},
   "outputs": [
    {
     "data": {
      "text/plain": [
       "\n",
       "Call:\n",
       "lm(formula = points ~ exper + expersq + age + coll, data = data)\n",
       "\n",
       "Residuals:\n",
       "     Min       1Q   Median       3Q      Max \n",
       "-11.6278  -3.9174  -0.7898   3.4843  20.4819 \n",
       "\n",
       "Coefficients:\n",
       "            Estimate Std. Error t value Pr(>|t|)    \n",
       "(Intercept) 34.85105    7.35154   4.741 3.69e-06 ***\n",
       "exper        2.18075    0.43708   4.989 1.18e-06 ***\n",
       "expersq     -0.07275    0.02439  -2.983  0.00316 ** \n",
       "age         -0.99407    0.31796  -3.126  0.00199 ** \n",
       "coll        -1.44748    0.50272  -2.879  0.00435 ** \n",
       "---\n",
       "Signif. codes:  0 ‘***’ 0.001 ‘**’ 0.01 ‘*’ 0.05 ‘.’ 0.1 ‘ ’ 1\n",
       "\n",
       "Residual standard error: 5.507 on 235 degrees of freedom\n",
       "Multiple R-squared:  0.1263,\tAdjusted R-squared:  0.1115 \n",
       "F-statistic: 8.496 on 4 and 235 DF,  p-value: 2.029e-06\n"
      ]
     },
     "metadata": {},
     "output_type": "display_data"
    }
   ],
   "source": [
    "OLS1 = lm(points ~  exper + expersq + age + coll , data=data)\n",
    "\n",
    "summary(OLS1)"
   ]
  },
  {
   "cell_type": "markdown",
   "id": "separate-bubble",
   "metadata": {},
   "source": [
    "### #6. regression of points with $age^2$"
   ]
  },
  {
   "cell_type": "code",
   "execution_count": 23,
   "id": "eligible-lottery",
   "metadata": {},
   "outputs": [
    {
     "data": {
      "text/plain": [
       "\n",
       "Call:\n",
       "lm(formula = points ~ exper + expersq + age + agesq + coll, data = data)\n",
       "\n",
       "Residuals:\n",
       "     Min       1Q   Median       3Q      Max \n",
       "-11.5188  -3.9265  -0.7557   3.3711  20.4080 \n",
       "\n",
       "Coefficients:\n",
       "            Estimate Std. Error t value Pr(>|t|)    \n",
       "(Intercept) 56.22823   37.83898   1.486 0.138629    \n",
       "exper        2.47291    0.67000   3.691 0.000278 ***\n",
       "expersq     -0.10158    0.05570  -1.824 0.069461 .  \n",
       "age         -2.61873    2.83872  -0.923 0.357215    \n",
       "agesq        0.02982    0.05178   0.576 0.565197    \n",
       "coll        -1.44952    0.50345  -2.879 0.004356 ** \n",
       "---\n",
       "Signif. codes:  0 ‘***’ 0.001 ‘**’ 0.01 ‘*’ 0.05 ‘.’ 0.1 ‘ ’ 1\n",
       "\n",
       "Residual standard error: 5.515 on 234 degrees of freedom\n",
       "Multiple R-squared:  0.1276,\tAdjusted R-squared:  0.1089 \n",
       "F-statistic: 6.844 on 5 and 234 DF,  p-value: 5.575e-06\n"
      ]
     },
     "metadata": {},
     "output_type": "display_data"
    }
   ],
   "source": [
    "OLS2 = lm(points ~  exper + expersq + age + agesq + coll , data=data)\n",
    "\n",
    "summary(OLS2)"
   ]
  },
  {
   "cell_type": "markdown",
   "id": "indie-mistress",
   "metadata": {},
   "source": [
    "### #7. regression of lwage"
   ]
  },
  {
   "cell_type": "code",
   "execution_count": 24,
   "id": "outside-agency",
   "metadata": {},
   "outputs": [
    {
     "data": {
      "text/plain": [
       "\n",
       "Call:\n",
       "lm(formula = lwage ~ points + exper + expersq + age + coll, data = data)\n",
       "\n",
       "Residuals:\n",
       "     Min       1Q   Median       3Q      Max \n",
       "-2.00704 -0.23513  0.09779  0.38402  1.59842 \n",
       "\n",
       "Coefficients:\n",
       "             Estimate Std. Error t value Pr(>|t|)    \n",
       "(Intercept)  6.423423   0.852263   7.537 1.05e-12 ***\n",
       "points       0.071880   0.007225   9.949  < 2e-16 ***\n",
       "exper        0.158941   0.050908   3.122  0.00202 ** \n",
       "expersq     -0.005783   0.002752  -2.101  0.03667 *  \n",
       "age         -0.016436   0.035941  -0.457  0.64787    \n",
       "coll        -0.076992   0.056652  -1.359  0.17544    \n",
       "---\n",
       "Signif. codes:  0 ‘***’ 0.001 ‘**’ 0.01 ‘*’ 0.05 ‘.’ 0.1 ‘ ’ 1\n",
       "\n",
       "Residual standard error: 0.6099 on 234 degrees of freedom\n",
       "Multiple R-squared:  0.4443,\tAdjusted R-squared:  0.4325 \n",
       "F-statistic: 37.42 on 5 and 234 DF,  p-value: < 2.2e-16\n"
      ]
     },
     "metadata": {},
     "output_type": "display_data"
    }
   ],
   "source": [
    "OLS3 = lm(lwage ~  points + exper + expersq + age + coll , data=data)\n",
    "\n",
    "summary(OLS3)"
   ]
  },
  {
   "cell_type": "markdown",
   "id": "corrected-class",
   "metadata": {},
   "source": [
    "### #8. the silly kitchen sink regression (center is dropped automatically due to perfect collinearity)"
   ]
  },
  {
   "cell_type": "code",
   "execution_count": 25,
   "id": "obvious-inflation",
   "metadata": {},
   "outputs": [
    {
     "data": {
      "text/plain": [
       "\n",
       "Call:\n",
       "lm(formula = lwage ~ marr + exper + age + coll + games + minutes + \n",
       "    guard + forward + center + points + rebounds + assists + \n",
       "    draft + allstar + avgmin + black + children + expersq + agesq + \n",
       "    marrblck, data = data)\n",
       "\n",
       "Residuals:\n",
       "    Min      1Q  Median      3Q     Max \n",
       "-2.1698 -0.2461  0.1012  0.3118  1.6591 \n",
       "\n",
       "Coefficients: (1 not defined because of singularities)\n",
       "              Estimate Std. Error t value Pr(>|t|)    \n",
       "(Intercept) 11.3715881  4.0120155   2.834  0.00502 ** \n",
       "marr         0.0962407  0.1778301   0.541  0.58892    \n",
       "exper        0.2067546  0.0728500   2.838  0.00496 ** \n",
       "age         -0.4476439  0.2985100  -1.500  0.13515    \n",
       "coll        -0.0627516  0.0539918  -1.162  0.24640    \n",
       "games        0.0039273  0.0051026   0.770  0.44232    \n",
       "minutes     -0.0002913  0.0002319  -1.256  0.21037    \n",
       "guard       -0.1778261  0.1497650  -1.187  0.23636    \n",
       "forward     -0.0238521  0.1115409  -0.214  0.83087    \n",
       "center              NA         NA      NA       NA    \n",
       "points       0.0526695  0.0161907   3.253  0.00132 ** \n",
       "rebounds     0.0067775  0.0250648   0.270  0.78711    \n",
       "assists      0.0347325  0.0314377   1.105  0.27045    \n",
       "draft       -0.0115119  0.0022207  -5.184 4.91e-07 ***\n",
       "allstar     -0.2899870  0.1517405  -1.911  0.05730 .  \n",
       "avgmin       0.0292898  0.0182782   1.602  0.11049    \n",
       "black        0.2415940  0.1404126   1.721  0.08673 .  \n",
       "children     0.0167943  0.0829942   0.202  0.83983    \n",
       "expersq     -0.0147215  0.0058821  -2.503  0.01305 *  \n",
       "agesq        0.0087744  0.0054266   1.617  0.10733    \n",
       "marrblck    -0.1836455  0.1893446  -0.970  0.33316    \n",
       "---\n",
       "Signif. codes:  0 ‘***’ 0.001 ‘**’ 0.01 ‘*’ 0.05 ‘.’ 0.1 ‘ ’ 1\n",
       "\n",
       "Residual standard error: 0.5651 on 220 degrees of freedom\n",
       "Multiple R-squared:  0.5516,\tAdjusted R-squared:  0.5129 \n",
       "F-statistic: 14.24 on 19 and 220 DF,  p-value: < 2.2e-16\n"
      ]
     },
     "metadata": {},
     "output_type": "display_data"
    }
   ],
   "source": [
    "OLS4 = lm(lwage ~ marr + exper + age + coll + games + minutes + guard + forward + center + points + rebounds + assists + draft + allstar + avgmin + black + children + expersq + agesq + marrblck, data=data)\n",
    "\n",
    "summary(OLS4)"
   ]
  }
 ],
 "metadata": {
  "kernelspec": {
   "display_name": "R",
   "language": "R",
   "name": "ir"
  },
  "language_info": {
   "codemirror_mode": "r",
   "file_extension": ".r",
   "mimetype": "text/x-r-source",
   "name": "R",
   "pygments_lexer": "r",
   "version": "4.1.0"
  }
 },
 "nbformat": 4,
 "nbformat_minor": 5
}
