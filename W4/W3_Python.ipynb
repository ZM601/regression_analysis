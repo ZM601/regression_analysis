{
 "cells": [
  {
   "cell_type": "code",
   "execution_count": 1,
   "metadata": {},
   "outputs": [],
   "source": [
    "%reset -f\n",
    "\n",
    "import numpy             as np\n",
    "import matplotlib.pyplot as plt\n",
    "import pandas            as pd\n",
    "import statsmodels.api   as sm"
   ]
  },
  {
   "cell_type": "markdown",
   "metadata": {},
   "source": [
    "# Q1. MBA"
   ]
  },
  {
   "cell_type": "markdown",
   "metadata": {},
   "source": [
    "## load data"
   ]
  },
  {
   "cell_type": "code",
   "execution_count": 2,
   "metadata": {},
   "outputs": [
    {
     "data": {
      "text/html": [
       "<div>\n",
       "<style scoped>\n",
       "    .dataframe tbody tr th:only-of-type {\n",
       "        vertical-align: middle;\n",
       "    }\n",
       "\n",
       "    .dataframe tbody tr th {\n",
       "        vertical-align: top;\n",
       "    }\n",
       "\n",
       "    .dataframe thead th {\n",
       "        text-align: right;\n",
       "    }\n",
       "</style>\n",
       "<table border=\"1\" class=\"dataframe\">\n",
       "  <thead>\n",
       "    <tr style=\"text-align: right;\">\n",
       "      <th></th>\n",
       "      <th>salary</th>\n",
       "      <th>testsc</th>\n",
       "      <th>wam</th>\n",
       "      <th>libsize</th>\n",
       "      <th>rank</th>\n",
       "    </tr>\n",
       "  </thead>\n",
       "  <tbody>\n",
       "    <tr>\n",
       "      <th>0</th>\n",
       "      <td>131400</td>\n",
       "      <td>10.33</td>\n",
       "      <td>3.15</td>\n",
       "      <td>216</td>\n",
       "      <td>128</td>\n",
       "    </tr>\n",
       "    <tr>\n",
       "      <th>1</th>\n",
       "      <td>133098</td>\n",
       "      <td>10.67</td>\n",
       "      <td>3.50</td>\n",
       "      <td>256</td>\n",
       "      <td>104</td>\n",
       "    </tr>\n",
       "    <tr>\n",
       "      <th>2</th>\n",
       "      <td>132870</td>\n",
       "      <td>10.33</td>\n",
       "      <td>3.25</td>\n",
       "      <td>424</td>\n",
       "      <td>34</td>\n",
       "    </tr>\n",
       "    <tr>\n",
       "      <th>3</th>\n",
       "      <td>135000</td>\n",
       "      <td>10.47</td>\n",
       "      <td>3.20</td>\n",
       "      <td>329</td>\n",
       "      <td>49</td>\n",
       "    </tr>\n",
       "    <tr>\n",
       "      <th>4</th>\n",
       "      <td>133606</td>\n",
       "      <td>10.80</td>\n",
       "      <td>3.38</td>\n",
       "      <td>332</td>\n",
       "      <td>95</td>\n",
       "    </tr>\n",
       "  </tbody>\n",
       "</table>\n",
       "</div>"
      ],
      "text/plain": [
       "   salary  testsc   wam  libsize  rank\n",
       "0  131400   10.33  3.15      216   128\n",
       "1  133098   10.67  3.50      256   104\n",
       "2  132870   10.33  3.25      424    34\n",
       "3  135000   10.47  3.20      329    49\n",
       "4  133606   10.80  3.38      332    95"
      ]
     },
     "execution_count": 2,
     "metadata": {},
     "output_type": "execute_result"
    }
   ],
   "source": [
    "df1 = pd.read_csv(\"mba3.csv\")\n",
    "df1.head()"
   ]
  },
  {
   "cell_type": "code",
   "execution_count": 4,
   "metadata": {},
   "outputs": [
    {
     "data": {
      "text/html": [
       "<div>\n",
       "<style scoped>\n",
       "    .dataframe tbody tr th:only-of-type {\n",
       "        vertical-align: middle;\n",
       "    }\n",
       "\n",
       "    .dataframe tbody tr th {\n",
       "        vertical-align: top;\n",
       "    }\n",
       "\n",
       "    .dataframe thead th {\n",
       "        text-align: right;\n",
       "    }\n",
       "</style>\n",
       "<table border=\"1\" class=\"dataframe\">\n",
       "  <thead>\n",
       "    <tr style=\"text-align: right;\">\n",
       "      <th></th>\n",
       "      <th>salary</th>\n",
       "      <th>testsc</th>\n",
       "      <th>wam</th>\n",
       "      <th>libsize</th>\n",
       "      <th>rank</th>\n",
       "    </tr>\n",
       "  </thead>\n",
       "  <tbody>\n",
       "    <tr>\n",
       "      <th>245</th>\n",
       "      <td>131700</td>\n",
       "      <td>10.73</td>\n",
       "      <td>3.40</td>\n",
       "      <td>311</td>\n",
       "      <td>98</td>\n",
       "    </tr>\n",
       "    <tr>\n",
       "      <th>246</th>\n",
       "      <td>130410</td>\n",
       "      <td>10.33</td>\n",
       "      <td>3.16</td>\n",
       "      <td>220</td>\n",
       "      <td>124</td>\n",
       "    </tr>\n",
       "    <tr>\n",
       "      <th>247</th>\n",
       "      <td>130150</td>\n",
       "      <td>10.13</td>\n",
       "      <td>3.12</td>\n",
       "      <td>230</td>\n",
       "      <td>157</td>\n",
       "    </tr>\n",
       "    <tr>\n",
       "      <th>248</th>\n",
       "      <td>131300</td>\n",
       "      <td>10.33</td>\n",
       "      <td>3.12</td>\n",
       "      <td>230</td>\n",
       "      <td>145</td>\n",
       "    </tr>\n",
       "    <tr>\n",
       "      <th>249</th>\n",
       "      <td>133200</td>\n",
       "      <td>10.67</td>\n",
       "      <td>3.66</td>\n",
       "      <td>157</td>\n",
       "      <td>91</td>\n",
       "    </tr>\n",
       "  </tbody>\n",
       "</table>\n",
       "</div>"
      ],
      "text/plain": [
       "     salary  testsc   wam  libsize  rank\n",
       "245  131700   10.73  3.40      311    98\n",
       "246  130410   10.33  3.16      220   124\n",
       "247  130150   10.13  3.12      230   157\n",
       "248  131300   10.33  3.12      230   145\n",
       "249  133200   10.67  3.66      157    91"
      ]
     },
     "execution_count": 4,
     "metadata": {},
     "output_type": "execute_result"
    }
   ],
   "source": [
    "df1.tail()"
   ]
  },
  {
   "cell_type": "markdown",
   "metadata": {},
   "source": [
    "## #1(a). summary statistics"
   ]
  },
  {
   "cell_type": "code",
   "execution_count": 3,
   "metadata": {},
   "outputs": [
    {
     "data": {
      "text/html": [
       "<div>\n",
       "<style scoped>\n",
       "    .dataframe tbody tr th:only-of-type {\n",
       "        vertical-align: middle;\n",
       "    }\n",
       "\n",
       "    .dataframe tbody tr th {\n",
       "        vertical-align: top;\n",
       "    }\n",
       "\n",
       "    .dataframe thead th {\n",
       "        text-align: right;\n",
       "    }\n",
       "</style>\n",
       "<table border=\"1\" class=\"dataframe\">\n",
       "  <thead>\n",
       "    <tr style=\"text-align: right;\">\n",
       "      <th></th>\n",
       "      <th>salary</th>\n",
       "      <th>testsc</th>\n",
       "      <th>wam</th>\n",
       "      <th>libsize</th>\n",
       "      <th>rank</th>\n",
       "    </tr>\n",
       "  </thead>\n",
       "  <tbody>\n",
       "    <tr>\n",
       "      <th>count</th>\n",
       "      <td>250.000000</td>\n",
       "      <td>250.000000</td>\n",
       "      <td>250.000000</td>\n",
       "      <td>250.000000</td>\n",
       "      <td>250.000000</td>\n",
       "    </tr>\n",
       "    <tr>\n",
       "      <th>mean</th>\n",
       "      <td>139751.952000</td>\n",
       "      <td>10.586880</td>\n",
       "      <td>3.314160</td>\n",
       "      <td>354.928000</td>\n",
       "      <td>79.540000</td>\n",
       "    </tr>\n",
       "    <tr>\n",
       "      <th>std</th>\n",
       "      <td>12976.657803</td>\n",
       "      <td>0.294749</td>\n",
       "      <td>0.197928</td>\n",
       "      <td>211.844213</td>\n",
       "      <td>48.488897</td>\n",
       "    </tr>\n",
       "    <tr>\n",
       "      <th>min</th>\n",
       "      <td>124900.000000</td>\n",
       "      <td>9.670000</td>\n",
       "      <td>2.730000</td>\n",
       "      <td>124.000000</td>\n",
       "      <td>1.000000</td>\n",
       "    </tr>\n",
       "    <tr>\n",
       "      <th>25%</th>\n",
       "      <td>130150.000000</td>\n",
       "      <td>10.330000</td>\n",
       "      <td>3.200000</td>\n",
       "      <td>230.250000</td>\n",
       "      <td>38.000000</td>\n",
       "    </tr>\n",
       "    <tr>\n",
       "      <th>50%</th>\n",
       "      <td>134400.000000</td>\n",
       "      <td>10.530000</td>\n",
       "      <td>3.300000</td>\n",
       "      <td>310.500000</td>\n",
       "      <td>79.000000</td>\n",
       "    </tr>\n",
       "    <tr>\n",
       "      <th>75%</th>\n",
       "      <td>142300.000000</td>\n",
       "      <td>10.800000</td>\n",
       "      <td>3.420000</td>\n",
       "      <td>409.750000</td>\n",
       "      <td>122.750000</td>\n",
       "    </tr>\n",
       "    <tr>\n",
       "      <th>max</th>\n",
       "      <td>179000.000000</td>\n",
       "      <td>11.400000</td>\n",
       "      <td>3.820000</td>\n",
       "      <td>1745.000000</td>\n",
       "      <td>174.000000</td>\n",
       "    </tr>\n",
       "  </tbody>\n",
       "</table>\n",
       "</div>"
      ],
      "text/plain": [
       "              salary      testsc         wam      libsize        rank\n",
       "count     250.000000  250.000000  250.000000   250.000000  250.000000\n",
       "mean   139751.952000   10.586880    3.314160   354.928000   79.540000\n",
       "std     12976.657803    0.294749    0.197928   211.844213   48.488897\n",
       "min    124900.000000    9.670000    2.730000   124.000000    1.000000\n",
       "25%    130150.000000   10.330000    3.200000   230.250000   38.000000\n",
       "50%    134400.000000   10.530000    3.300000   310.500000   79.000000\n",
       "75%    142300.000000   10.800000    3.420000   409.750000  122.750000\n",
       "max    179000.000000   11.400000    3.820000  1745.000000  174.000000"
      ]
     },
     "execution_count": 3,
     "metadata": {},
     "output_type": "execute_result"
    }
   ],
   "source": [
    "df1.describe()"
   ]
  },
  {
   "cell_type": "markdown",
   "metadata": {},
   "source": [
    "## #1(c). regression"
   ]
  },
  {
   "cell_type": "code",
   "execution_count": 5,
   "metadata": {},
   "outputs": [],
   "source": [
    "df1['loglibsize'] = np.log(df1['libsize'])\n",
    "df1['logsalary'] = np.log(df1['salary'])"
   ]
  },
  {
   "cell_type": "code",
   "execution_count": 6,
   "metadata": {},
   "outputs": [
    {
     "data": {
      "text/html": [
       "<div>\n",
       "<style scoped>\n",
       "    .dataframe tbody tr th:only-of-type {\n",
       "        vertical-align: middle;\n",
       "    }\n",
       "\n",
       "    .dataframe tbody tr th {\n",
       "        vertical-align: top;\n",
       "    }\n",
       "\n",
       "    .dataframe thead th {\n",
       "        text-align: right;\n",
       "    }\n",
       "</style>\n",
       "<table border=\"1\" class=\"dataframe\">\n",
       "  <thead>\n",
       "    <tr style=\"text-align: right;\">\n",
       "      <th></th>\n",
       "      <th>salary</th>\n",
       "      <th>testsc</th>\n",
       "      <th>wam</th>\n",
       "      <th>libsize</th>\n",
       "      <th>rank</th>\n",
       "      <th>loglibsize</th>\n",
       "      <th>logsalary</th>\n",
       "    </tr>\n",
       "  </thead>\n",
       "  <tbody>\n",
       "    <tr>\n",
       "      <th>count</th>\n",
       "      <td>250.000000</td>\n",
       "      <td>250.000000</td>\n",
       "      <td>250.000000</td>\n",
       "      <td>250.000000</td>\n",
       "      <td>250.000000</td>\n",
       "      <td>250.000000</td>\n",
       "      <td>250.000000</td>\n",
       "    </tr>\n",
       "    <tr>\n",
       "      <th>mean</th>\n",
       "      <td>139751.952000</td>\n",
       "      <td>10.586880</td>\n",
       "      <td>3.314160</td>\n",
       "      <td>354.928000</td>\n",
       "      <td>79.540000</td>\n",
       "      <td>5.762255</td>\n",
       "      <td>11.843622</td>\n",
       "    </tr>\n",
       "    <tr>\n",
       "      <th>std</th>\n",
       "      <td>12976.657803</td>\n",
       "      <td>0.294749</td>\n",
       "      <td>0.197928</td>\n",
       "      <td>211.844213</td>\n",
       "      <td>48.488897</td>\n",
       "      <td>0.436223</td>\n",
       "      <td>0.088103</td>\n",
       "    </tr>\n",
       "    <tr>\n",
       "      <th>min</th>\n",
       "      <td>124900.000000</td>\n",
       "      <td>9.670000</td>\n",
       "      <td>2.730000</td>\n",
       "      <td>124.000000</td>\n",
       "      <td>1.000000</td>\n",
       "      <td>4.820282</td>\n",
       "      <td>11.735269</td>\n",
       "    </tr>\n",
       "    <tr>\n",
       "      <th>25%</th>\n",
       "      <td>130150.000000</td>\n",
       "      <td>10.330000</td>\n",
       "      <td>3.200000</td>\n",
       "      <td>230.250000</td>\n",
       "      <td>38.000000</td>\n",
       "      <td>5.439164</td>\n",
       "      <td>11.776443</td>\n",
       "    </tr>\n",
       "    <tr>\n",
       "      <th>50%</th>\n",
       "      <td>134400.000000</td>\n",
       "      <td>10.530000</td>\n",
       "      <td>3.300000</td>\n",
       "      <td>310.500000</td>\n",
       "      <td>79.000000</td>\n",
       "      <td>5.738183</td>\n",
       "      <td>11.808576</td>\n",
       "    </tr>\n",
       "    <tr>\n",
       "      <th>75%</th>\n",
       "      <td>142300.000000</td>\n",
       "      <td>10.800000</td>\n",
       "      <td>3.420000</td>\n",
       "      <td>409.750000</td>\n",
       "      <td>122.750000</td>\n",
       "      <td>6.015547</td>\n",
       "      <td>11.865693</td>\n",
       "    </tr>\n",
       "    <tr>\n",
       "      <th>max</th>\n",
       "      <td>179000.000000</td>\n",
       "      <td>11.400000</td>\n",
       "      <td>3.820000</td>\n",
       "      <td>1745.000000</td>\n",
       "      <td>174.000000</td>\n",
       "      <td>7.464510</td>\n",
       "      <td>12.095141</td>\n",
       "    </tr>\n",
       "  </tbody>\n",
       "</table>\n",
       "</div>"
      ],
      "text/plain": [
       "              salary      testsc         wam      libsize        rank  \\\n",
       "count     250.000000  250.000000  250.000000   250.000000  250.000000   \n",
       "mean   139751.952000   10.586880    3.314160   354.928000   79.540000   \n",
       "std     12976.657803    0.294749    0.197928   211.844213   48.488897   \n",
       "min    124900.000000    9.670000    2.730000   124.000000    1.000000   \n",
       "25%    130150.000000   10.330000    3.200000   230.250000   38.000000   \n",
       "50%    134400.000000   10.530000    3.300000   310.500000   79.000000   \n",
       "75%    142300.000000   10.800000    3.420000   409.750000  122.750000   \n",
       "max    179000.000000   11.400000    3.820000  1745.000000  174.000000   \n",
       "\n",
       "       loglibsize   logsalary  \n",
       "count  250.000000  250.000000  \n",
       "mean     5.762255   11.843622  \n",
       "std      0.436223    0.088103  \n",
       "min      4.820282   11.735269  \n",
       "25%      5.439164   11.776443  \n",
       "50%      5.738183   11.808576  \n",
       "75%      6.015547   11.865693  \n",
       "max      7.464510   12.095141  "
      ]
     },
     "execution_count": 6,
     "metadata": {},
     "output_type": "execute_result"
    }
   ],
   "source": [
    "df1.describe()"
   ]
  },
  {
   "cell_type": "code",
   "execution_count": 7,
   "metadata": {},
   "outputs": [],
   "source": [
    "X = df1[['testsc', 'wam', 'rank', 'loglibsize']]\n",
    "X = sm.add_constant(X)\n",
    "Y = df1[['logsalary']]"
   ]
  },
  {
   "cell_type": "code",
   "execution_count": 12,
   "metadata": {},
   "outputs": [
    {
     "name": "stdout",
     "output_type": "stream",
     "text": [
      "                            OLS Regression Results                            \n",
      "==============================================================================\n",
      "Dep. Variable:              logsalary   R-squared:                       0.793\n",
      "Model:                            OLS   Adj. R-squared:                  0.789\n",
      "Method:                 Least Squares   F-statistic:                     234.3\n",
      "Date:                Sun, 21 Mar 2021   Prob (F-statistic):           1.84e-82\n",
      "Time:                        17:06:51   Log-Likelihood:                 449.80\n",
      "No. Observations:                 250   AIC:                            -889.6\n",
      "Df Residuals:                     245   BIC:                            -872.0\n",
      "Df Model:                           4                                         \n",
      "Covariance Type:            nonrobust                                         \n",
      "==============================================================================\n",
      "                 coef    std err          t      P>|t|      [0.025      0.975]\n",
      "------------------------------------------------------------------------------\n",
      "const         10.9997      0.143     76.877      0.000      10.718      11.282\n",
      "testsc         0.0501      0.017      3.001      0.003       0.017       0.083\n",
      "wam            0.0480      0.023      2.054      0.041       0.002       0.094\n",
      "rank          -0.0009      9e-05    -10.402      0.000      -0.001      -0.001\n",
      "loglibsize     0.0397      0.009      4.479      0.000       0.022       0.057\n",
      "==============================================================================\n",
      "Omnibus:                        2.873   Durbin-Watson:                   1.694\n",
      "Prob(Omnibus):                  0.238   Jarque-Bera (JB):                2.703\n",
      "Skew:                           0.187   Prob(JB):                        0.259\n",
      "Kurtosis:                       2.654   Cond. No.                     5.27e+03\n",
      "==============================================================================\n",
      "\n",
      "Notes:\n",
      "[1] Standard Errors assume that the covariance matrix of the errors is correctly specified.\n",
      "[2] The condition number is large, 5.27e+03. This might indicate that there are\n",
      "strong multicollinearity or other numerical problems.\n"
     ]
    }
   ],
   "source": [
    "reg1 = sm.OLS(Y, X)\n",
    "\n",
    "result1 = reg1.fit()\n",
    "print(result1.summary())"
   ]
  },
  {
   "cell_type": "markdown",
   "metadata": {},
   "source": [
    "## #1(d). t-test on $$H_0 : \\beta_{\\mathrm{rank}}=0;$$ $$H_1 : \\beta_{\\mathrm{rank}} \\neq 0;$$"
   ]
  },
  {
   "cell_type": "code",
   "execution_count": 13,
   "metadata": {},
   "outputs": [
    {
     "name": "stdout",
     "output_type": "stream",
     "text": [
      "                             Test for Constraints                             \n",
      "==============================================================================\n",
      "                 coef    std err          t      P>|t|      [0.025      0.975]\n",
      "------------------------------------------------------------------------------\n",
      "c0            -0.0009      9e-05    -10.402      0.000      -0.001      -0.001\n",
      "==============================================================================\n"
     ]
    }
   ],
   "source": [
    "print(result1.t_test([\"rank = 0\"]))"
   ]
  },
  {
   "cell_type": "markdown",
   "metadata": {},
   "source": [
    "## #1(e). F test on $$H_0 : \\beta_{\\mathrm{wam}}=\\beta_{\\mathrm{testsc}}=0;$$ $$H_1 : \\mbox{ at least one of } \\beta_{\\mathrm{wam}} \\mbox{ and }\\beta_{\\mathrm{testsc}} \\mbox{ is not } 0.$$ "
   ]
  },
  {
   "cell_type": "code",
   "execution_count": 14,
   "metadata": {},
   "outputs": [
    {
     "name": "stdout",
     "output_type": "stream",
     "text": [
      "<F test: F=array([[16.67369352]]), p=1.6252478868153383e-07, df_denom=245, df_num=2>\n"
     ]
    }
   ],
   "source": [
    "print(result1.f_test(\"testsc = wam = 0\"))"
   ]
  },
  {
   "cell_type": "markdown",
   "metadata": {},
   "source": [
    "## #1(f). F test on $$H_0 : \\beta_{\\mathrm{wam}}=\\beta_{\\mathrm{testsc}};$$ $$H_1 : \\beta_{\\mathrm{wam}} \\neq \\beta_{\\mathrm{testsc}}.$$"
   ]
  },
  {
   "cell_type": "code",
   "execution_count": 10,
   "metadata": {},
   "outputs": [
    {
     "name": "stdout",
     "output_type": "stream",
     "text": [
      "                             Test for Constraints                             \n",
      "==============================================================================\n",
      "                 coef    std err          t      P>|t|      [0.025      0.975]\n",
      "------------------------------------------------------------------------------\n",
      "c0             0.0021      0.036      0.058      0.954      -0.069       0.073\n",
      "==============================================================================\n"
     ]
    }
   ],
   "source": [
    "print(result1.t_test([\"testsc = wam\"]))"
   ]
  },
  {
   "cell_type": "markdown",
   "metadata": {},
   "source": [
    "# Q2 NBA "
   ]
  },
  {
   "cell_type": "markdown",
   "metadata": {},
   "source": [
    "## #2(a). OLS"
   ]
  },
  {
   "cell_type": "code",
   "execution_count": 15,
   "metadata": {},
   "outputs": [
    {
     "data": {
      "text/html": [
       "<div>\n",
       "<style scoped>\n",
       "    .dataframe tbody tr th:only-of-type {\n",
       "        vertical-align: middle;\n",
       "    }\n",
       "\n",
       "    .dataframe tbody tr th {\n",
       "        vertical-align: top;\n",
       "    }\n",
       "\n",
       "    .dataframe thead th {\n",
       "        text-align: right;\n",
       "    }\n",
       "</style>\n",
       "<table border=\"1\" class=\"dataframe\">\n",
       "  <thead>\n",
       "    <tr style=\"text-align: right;\">\n",
       "      <th></th>\n",
       "      <th>marr</th>\n",
       "      <th>wage</th>\n",
       "      <th>exper</th>\n",
       "      <th>age</th>\n",
       "      <th>coll</th>\n",
       "      <th>games</th>\n",
       "      <th>minutes</th>\n",
       "      <th>guard</th>\n",
       "      <th>forward</th>\n",
       "      <th>center</th>\n",
       "      <th>...</th>\n",
       "      <th>assists</th>\n",
       "      <th>draft</th>\n",
       "      <th>allstar</th>\n",
       "      <th>avgmin</th>\n",
       "      <th>lwage</th>\n",
       "      <th>black</th>\n",
       "      <th>children</th>\n",
       "      <th>expersq</th>\n",
       "      <th>agesq</th>\n",
       "      <th>marrblck</th>\n",
       "    </tr>\n",
       "  </thead>\n",
       "  <tbody>\n",
       "    <tr>\n",
       "      <th>0</th>\n",
       "      <td>1</td>\n",
       "      <td>1002.5</td>\n",
       "      <td>4</td>\n",
       "      <td>27</td>\n",
       "      <td>4</td>\n",
       "      <td>77</td>\n",
       "      <td>2867</td>\n",
       "      <td>1</td>\n",
       "      <td>0</td>\n",
       "      <td>0</td>\n",
       "      <td>...</td>\n",
       "      <td>4.5</td>\n",
       "      <td>19.0</td>\n",
       "      <td>0</td>\n",
       "      <td>37.233761</td>\n",
       "      <td>6.910252</td>\n",
       "      <td>1</td>\n",
       "      <td>0</td>\n",
       "      <td>16</td>\n",
       "      <td>729</td>\n",
       "      <td>1</td>\n",
       "    </tr>\n",
       "    <tr>\n",
       "      <th>1</th>\n",
       "      <td>1</td>\n",
       "      <td>2030.0</td>\n",
       "      <td>5</td>\n",
       "      <td>28</td>\n",
       "      <td>4</td>\n",
       "      <td>78</td>\n",
       "      <td>2789</td>\n",
       "      <td>1</td>\n",
       "      <td>0</td>\n",
       "      <td>0</td>\n",
       "      <td>...</td>\n",
       "      <td>8.8</td>\n",
       "      <td>28.0</td>\n",
       "      <td>0</td>\n",
       "      <td>35.756409</td>\n",
       "      <td>7.615791</td>\n",
       "      <td>1</td>\n",
       "      <td>1</td>\n",
       "      <td>25</td>\n",
       "      <td>784</td>\n",
       "      <td>1</td>\n",
       "    </tr>\n",
       "    <tr>\n",
       "      <th>2</th>\n",
       "      <td>0</td>\n",
       "      <td>650.0</td>\n",
       "      <td>1</td>\n",
       "      <td>25</td>\n",
       "      <td>4</td>\n",
       "      <td>74</td>\n",
       "      <td>1149</td>\n",
       "      <td>0</td>\n",
       "      <td>0</td>\n",
       "      <td>1</td>\n",
       "      <td>...</td>\n",
       "      <td>0.2</td>\n",
       "      <td>19.0</td>\n",
       "      <td>0</td>\n",
       "      <td>15.527030</td>\n",
       "      <td>6.476973</td>\n",
       "      <td>1</td>\n",
       "      <td>0</td>\n",
       "      <td>1</td>\n",
       "      <td>625</td>\n",
       "      <td>0</td>\n",
       "    </tr>\n",
       "    <tr>\n",
       "      <th>3</th>\n",
       "      <td>0</td>\n",
       "      <td>2030.0</td>\n",
       "      <td>5</td>\n",
       "      <td>28</td>\n",
       "      <td>4</td>\n",
       "      <td>47</td>\n",
       "      <td>1178</td>\n",
       "      <td>0</td>\n",
       "      <td>1</td>\n",
       "      <td>0</td>\n",
       "      <td>...</td>\n",
       "      <td>1.5</td>\n",
       "      <td>1.0</td>\n",
       "      <td>0</td>\n",
       "      <td>25.063829</td>\n",
       "      <td>7.615791</td>\n",
       "      <td>1</td>\n",
       "      <td>0</td>\n",
       "      <td>25</td>\n",
       "      <td>784</td>\n",
       "      <td>0</td>\n",
       "    </tr>\n",
       "    <tr>\n",
       "      <th>4</th>\n",
       "      <td>0</td>\n",
       "      <td>755.0</td>\n",
       "      <td>3</td>\n",
       "      <td>24</td>\n",
       "      <td>4</td>\n",
       "      <td>82</td>\n",
       "      <td>2096</td>\n",
       "      <td>1</td>\n",
       "      <td>0</td>\n",
       "      <td>0</td>\n",
       "      <td>...</td>\n",
       "      <td>2.6</td>\n",
       "      <td>24.0</td>\n",
       "      <td>0</td>\n",
       "      <td>25.560980</td>\n",
       "      <td>6.626718</td>\n",
       "      <td>1</td>\n",
       "      <td>0</td>\n",
       "      <td>9</td>\n",
       "      <td>576</td>\n",
       "      <td>0</td>\n",
       "    </tr>\n",
       "  </tbody>\n",
       "</table>\n",
       "<p>5 rows × 22 columns</p>\n",
       "</div>"
      ],
      "text/plain": [
       "   marr    wage  exper  age  coll  games  minutes  guard  forward  center  \\\n",
       "0     1  1002.5      4   27     4     77     2867      1        0       0   \n",
       "1     1  2030.0      5   28     4     78     2789      1        0       0   \n",
       "2     0   650.0      1   25     4     74     1149      0        0       1   \n",
       "3     0  2030.0      5   28     4     47     1178      0        1       0   \n",
       "4     0   755.0      3   24     4     82     2096      1        0       0   \n",
       "\n",
       "   ...  assists  draft  allstar     avgmin     lwage  black  children  \\\n",
       "0  ...      4.5   19.0        0  37.233761  6.910252      1         0   \n",
       "1  ...      8.8   28.0        0  35.756409  7.615791      1         1   \n",
       "2  ...      0.2   19.0        0  15.527030  6.476973      1         0   \n",
       "3  ...      1.5    1.0        0  25.063829  7.615791      1         0   \n",
       "4  ...      2.6   24.0        0  25.560980  6.626718      1         0   \n",
       "\n",
       "   expersq  agesq  marrblck  \n",
       "0       16    729         1  \n",
       "1       25    784         1  \n",
       "2        1    625         0  \n",
       "3       25    784         0  \n",
       "4        9    576         0  \n",
       "\n",
       "[5 rows x 22 columns]"
      ]
     },
     "execution_count": 15,
     "metadata": {},
     "output_type": "execute_result"
    }
   ],
   "source": [
    "df2 = pd.read_csv(\"nbasal.csv\")\n",
    "df2.head()"
   ]
  },
  {
   "cell_type": "code",
   "execution_count": 16,
   "metadata": {},
   "outputs": [],
   "source": [
    "X = df2[['exper', 'expersq', 'age', 'coll']]\n",
    "X = sm.add_constant(X)\n",
    "Y = df2[['points']]"
   ]
  },
  {
   "cell_type": "code",
   "execution_count": 17,
   "metadata": {},
   "outputs": [
    {
     "name": "stdout",
     "output_type": "stream",
     "text": [
      "                            OLS Regression Results                            \n",
      "==============================================================================\n",
      "Dep. Variable:                 points   R-squared:                       0.141\n",
      "Model:                            OLS   Adj. R-squared:                  0.128\n",
      "Method:                 Least Squares   F-statistic:                     10.85\n",
      "Date:                Sun, 21 Mar 2021   Prob (F-statistic):           3.69e-08\n",
      "Time:                        17:10:14   Log-Likelihood:                -838.21\n",
      "No. Observations:                 269   AIC:                             1686.\n",
      "Df Residuals:                     264   BIC:                             1704.\n",
      "Df Model:                           4                                         \n",
      "Covariance Type:            nonrobust                                         \n",
      "==============================================================================\n",
      "                 coef    std err          t      P>|t|      [0.025      0.975]\n",
      "------------------------------------------------------------------------------\n",
      "const         35.2183      6.987      5.041      0.000      21.462      48.975\n",
      "exper          2.3636      0.405      5.829      0.000       1.565       3.162\n",
      "expersq       -0.0770      0.023     -3.280      0.001      -0.123      -0.031\n",
      "age           -1.0740      0.295     -3.640      0.000      -1.655      -0.493\n",
      "coll          -1.2863      0.451     -2.855      0.005      -2.173      -0.399\n",
      "==============================================================================\n",
      "Omnibus:                       19.945   Durbin-Watson:                   2.201\n",
      "Prob(Omnibus):                  0.000   Jarque-Bera (JB):               22.142\n",
      "Skew:                           0.670   Prob(JB):                     1.56e-05\n",
      "Kurtosis:                       3.425   Cond. No.                     1.33e+03\n",
      "==============================================================================\n",
      "\n",
      "Notes:\n",
      "[1] Standard Errors assume that the covariance matrix of the errors is correctly specified.\n",
      "[2] The condition number is large, 1.33e+03. This might indicate that there are\n",
      "strong multicollinearity or other numerical problems.\n"
     ]
    }
   ],
   "source": [
    "reg2 = sm.OLS(Y, X)\n",
    "\n",
    "result2 = reg2.fit()\n",
    "print(result2.summary())"
   ]
  },
  {
   "cell_type": "code",
   "execution_count": 32,
   "metadata": {},
   "outputs": [
    {
     "data": {
      "image/png": "[encoded data removed]",
      "text/plain": [
       "<Figure size 432x288 with 1 Axes>"
      ]
     },
     "metadata": {
      "needs_background": "light"
     },
     "output_type": "display_data"
    }
   ],
   "source": [
    "x_val = np.arange(0,20,0.1)\n",
    "y_val = 35.2183 + 2.3636 * x_val - 0.0770 * np.square(x_val)\n",
    "\n",
    "fig = plt.figure()\n",
    "\n",
    "plt.plot(x_val, y_val)\n",
    "plt.vlines(15.344,35,60, color='red')\n",
    "\n",
    "plt.ylim(37,59)\n",
    "plt.show()"
   ]
  },
  {
   "cell_type": "markdown",
   "metadata": {},
   "source": [
    "## #2(d). add a quadratic term"
   ]
  },
  {
   "cell_type": "code",
   "execution_count": 33,
   "metadata": {},
   "outputs": [],
   "source": [
    "X = df2[['exper', 'expersq', 'age', 'agesq', 'coll']]\n",
    "X = sm.add_constant(X)\n",
    "Y = df2[['points']]"
   ]
  },
  {
   "cell_type": "code",
   "execution_count": 34,
   "metadata": {},
   "outputs": [
    {
     "name": "stdout",
     "output_type": "stream",
     "text": [
      "                            OLS Regression Results                            \n",
      "==============================================================================\n",
      "Dep. Variable:                 points   R-squared:                       0.145\n",
      "Model:                            OLS   Adj. R-squared:                  0.129\n",
      "Method:                 Least Squares   F-statistic:                     8.925\n",
      "Date:                Sun, 21 Mar 2021   Prob (F-statistic):           7.61e-08\n",
      "Time:                        17:20:16   Log-Likelihood:                -837.61\n",
      "No. Observations:                 269   AIC:                             1687.\n",
      "Df Residuals:                     263   BIC:                             1709.\n",
      "Df Model:                           5                                         \n",
      "Covariance Type:            nonrobust                                         \n",
      "==============================================================================\n",
      "                 coef    std err          t      P>|t|      [0.025      0.975]\n",
      "------------------------------------------------------------------------------\n",
      "const         73.5903     35.933      2.048      0.042       2.837     144.344\n",
      "exper          2.8638      0.613      4.674      0.000       1.657       4.070\n",
      "expersq       -0.1281      0.052     -2.442      0.015      -0.231      -0.025\n",
      "age           -3.9837      2.689     -1.481      0.140      -9.279       1.311\n",
      "agesq          0.0536      0.049      1.089      0.277      -0.043       0.150\n",
      "coll          -1.3126      0.451     -2.910      0.004      -2.201      -0.424\n",
      "==============================================================================\n",
      "Omnibus:                       18.662   Durbin-Watson:                   2.207\n",
      "Prob(Omnibus):                  0.000   Jarque-Bera (JB):               20.480\n",
      "Skew:                           0.652   Prob(JB):                     3.57e-05\n",
      "Kurtosis:                       3.354   Cond. No.                     8.46e+04\n",
      "==============================================================================\n",
      "\n",
      "Notes:\n",
      "[1] Standard Errors assume that the covariance matrix of the errors is correctly specified.\n",
      "[2] The condition number is large, 8.46e+04. This might indicate that there are\n",
      "strong multicollinearity or other numerical problems.\n"
     ]
    }
   ],
   "source": [
    "reg2 = sm.OLS(Y, X)\n",
    "\n",
    "result2 = reg2.fit()\n",
    "print(result2.summary())"
   ]
  },
  {
   "cell_type": "code",
   "execution_count": 36,
   "metadata": {},
   "outputs": [
    {
     "data": {
      "image/png": "[encoded data removed]",
      "text/plain": [
       "<Figure size 432x288 with 1 Axes>"
      ]
     },
     "metadata": {
      "needs_background": "light"
     },
     "output_type": "display_data"
    }
   ],
   "source": [
    "fig = plt.figure()\n",
    "\n",
    "plt.scatter(df2['age'], df2['agesq'])\n",
    "\n",
    "plt.show()"
   ]
  },
  {
   "cell_type": "markdown",
   "metadata": {},
   "source": [
    "## 2(e) OLS of $\\log \\left( \\mathrm{wage} \\right)$"
   ]
  },
  {
   "cell_type": "code",
   "execution_count": 37,
   "metadata": {},
   "outputs": [],
   "source": [
    "X = df2[['points', 'exper', 'expersq', 'age', 'coll']]\n",
    "X = sm.add_constant(X)\n",
    "Y = df2[['lwage']]"
   ]
  },
  {
   "cell_type": "code",
   "execution_count": 38,
   "metadata": {},
   "outputs": [
    {
     "name": "stdout",
     "output_type": "stream",
     "text": [
      "                            OLS Regression Results                            \n",
      "==============================================================================\n",
      "Dep. Variable:                  lwage   R-squared:                       0.488\n",
      "Model:                            OLS   Adj. R-squared:                  0.478\n",
      "Method:                 Least Squares   F-statistic:                     50.10\n",
      "Date:                Sun, 21 Mar 2021   Prob (F-statistic):           2.43e-36\n",
      "Time:                        17:23:09   Log-Likelihood:                -257.23\n",
      "No. Observations:                 269   AIC:                             526.5\n",
      "Df Residuals:                     263   BIC:                             548.0\n",
      "Df Model:                           5                                         \n",
      "Covariance Type:            nonrobust                                         \n",
      "==============================================================================\n",
      "                 coef    std err          t      P>|t|      [0.025      0.975]\n",
      "------------------------------------------------------------------------------\n",
      "const          6.7790      0.845      8.019      0.000       5.114       8.444\n",
      "points         0.0777      0.007     10.928      0.000       0.064       0.092\n",
      "exper          0.2178      0.050      4.375      0.000       0.120       0.316\n",
      "expersq       -0.0071      0.003     -2.558      0.011      -0.013      -0.002\n",
      "age           -0.0481      0.035     -1.377      0.170      -0.117       0.021\n",
      "coll          -0.0403      0.053     -0.762      0.447      -0.144       0.064\n",
      "==============================================================================\n",
      "Omnibus:                       17.601   Durbin-Watson:                   2.025\n",
      "Prob(Omnibus):                  0.000   Jarque-Bera (JB):               19.113\n",
      "Skew:                          -0.628   Prob(JB):                     7.08e-05\n",
      "Kurtosis:                       3.357   Cond. No.                     1.40e+03\n",
      "==============================================================================\n",
      "\n",
      "Notes:\n",
      "[1] Standard Errors assume that the covariance matrix of the errors is correctly specified.\n",
      "[2] The condition number is large, 1.4e+03. This might indicate that there are\n",
      "strong multicollinearity or other numerical problems.\n"
     ]
    }
   ],
   "source": [
    "reg2 = sm.OLS(Y, X)\n",
    "\n",
    "result2 = reg2.fit()\n",
    "print(result2.summary())"
   ]
  },
  {
   "cell_type": "markdown",
   "metadata": {},
   "source": [
    "## 2(g)"
   ]
  },
  {
   "cell_type": "code",
   "execution_count": 39,
   "metadata": {},
   "outputs": [],
   "source": [
    "df3 = df2[['lwage', 'points', 'exper', 'expersq', 'age', 'agesq', 'coll', 'marr', 'games', \n",
    "           'minutes', 'guard', 'forward','rebounds', 'assists','draft', 'allstar','avgmin',\n",
    "           'black', 'children','marrblck']]\n",
    "df3 = df3.dropna(axis=0)"
   ]
  },
  {
   "cell_type": "code",
   "execution_count": 40,
   "metadata": {},
   "outputs": [],
   "source": [
    "X2 = df3[['points', 'exper', 'expersq', 'age', 'agesq', 'coll', 'marr', 'games', 'minutes', 'guard', 'forward','rebounds', \n",
    "        'assists','draft', 'allstar','avgmin','black', 'children','marrblck']]\n",
    "X2 = sm.add_constant(X2)\n",
    "Y2 = df3[['lwage']]"
   ]
  },
  {
   "cell_type": "code",
   "execution_count": 41,
   "metadata": {},
   "outputs": [
    {
     "name": "stdout",
     "output_type": "stream",
     "text": [
      "                            OLS Regression Results                            \n",
      "==============================================================================\n",
      "Dep. Variable:                  lwage   R-squared:                       0.552\n",
      "Model:                            OLS   Adj. R-squared:                  0.513\n",
      "Method:                 Least Squares   F-statistic:                     14.24\n",
      "Date:                Sun, 21 Mar 2021   Prob (F-statistic):           8.79e-29\n",
      "Time:                        17:25:23   Log-Likelihood:                -193.11\n",
      "No. Observations:                 240   AIC:                             426.2\n",
      "Df Residuals:                     220   BIC:                             495.8\n",
      "Df Model:                          19                                         \n",
      "Covariance Type:            nonrobust                                         \n",
      "==============================================================================\n",
      "                 coef    std err          t      P>|t|      [0.025      0.975]\n",
      "------------------------------------------------------------------------------\n",
      "const         11.3716      4.012      2.834      0.005       3.465      19.278\n",
      "points         0.0527      0.016      3.253      0.001       0.021       0.085\n",
      "exper          0.2068      0.073      2.838      0.005       0.063       0.350\n",
      "expersq       -0.0147      0.006     -2.503      0.013      -0.026      -0.003\n",
      "age           -0.4476      0.299     -1.500      0.135      -1.036       0.141\n",
      "agesq          0.0088      0.005      1.617      0.107      -0.002       0.019\n",
      "coll          -0.0628      0.054     -1.162      0.246      -0.169       0.044\n",
      "marr           0.0962      0.178      0.541      0.589      -0.254       0.447\n",
      "games          0.0039      0.005      0.770      0.442      -0.006       0.014\n",
      "minutes       -0.0003      0.000     -1.256      0.210      -0.001       0.000\n",
      "guard         -0.1778      0.150     -1.187      0.236      -0.473       0.117\n",
      "forward       -0.0239      0.112     -0.214      0.831      -0.244       0.196\n",
      "rebounds       0.0068      0.025      0.270      0.787      -0.043       0.056\n",
      "assists        0.0347      0.031      1.105      0.270      -0.027       0.097\n",
      "draft         -0.0115      0.002     -5.184      0.000      -0.016      -0.007\n",
      "allstar       -0.2900      0.152     -1.911      0.057      -0.589       0.009\n",
      "avgmin         0.0293      0.018      1.602      0.110      -0.007       0.065\n",
      "black          0.2416      0.140      1.721      0.087      -0.035       0.518\n",
      "children       0.0168      0.083      0.202      0.840      -0.147       0.180\n",
      "marrblck      -0.1836      0.189     -0.970      0.333      -0.557       0.190\n",
      "==============================================================================\n",
      "Omnibus:                       32.091   Durbin-Watson:                   2.145\n",
      "Prob(Omnibus):                  0.000   Jarque-Bera (JB):               51.074\n",
      "Skew:                          -0.771   Prob(JB):                     8.12e-12\n",
      "Kurtosis:                       4.652   Cond. No.                     2.33e+05\n",
      "==============================================================================\n",
      "\n",
      "Notes:\n",
      "[1] Standard Errors assume that the covariance matrix of the errors is correctly specified.\n",
      "[2] The condition number is large, 2.33e+05. This might indicate that there are\n",
      "strong multicollinearity or other numerical problems.\n"
     ]
    }
   ],
   "source": [
    "reg2 = sm.OLS(Y2, X2)\n",
    "\n",
    "result2 = reg2.fit()\n",
    "print(result2.summary())"
   ]
  },
  {
   "cell_type": "markdown",
   "metadata": {},
   "source": [
    "## either, you can use the \"linear_model\" pacakge in sklearn"
   ]
  },
  {
   "cell_type": "code",
   "execution_count": 42,
   "metadata": {},
   "outputs": [],
   "source": [
    "from sklearn import linear_model"
   ]
  },
  {
   "cell_type": "code",
   "execution_count": 43,
   "metadata": {},
   "outputs": [
    {
     "data": {
      "text/plain": [
       "LinearRegression()"
      ]
     },
     "execution_count": 43,
     "metadata": {},
     "output_type": "execute_result"
    }
   ],
   "source": [
    "reg = linear_model.LinearRegression()\n",
    "reg.fit(X2,Y2)"
   ]
  },
  {
   "cell_type": "code",
   "execution_count": 44,
   "metadata": {},
   "outputs": [
    {
     "data": {
      "text/plain": [
       "array([[ 0.00000000e+00,  5.26695455e-02,  2.06754602e-01,\n",
       "        -1.47215066e-02, -4.47643897e-01,  8.77439848e-03,\n",
       "        -6.27515814e-02,  9.62407100e-02,  3.92734587e-03,\n",
       "        -2.91256305e-04, -1.77826128e-01, -2.38520650e-02,\n",
       "         6.77745796e-03,  3.47324902e-02, -1.15119153e-02,\n",
       "        -2.89986972e-01,  2.92898485e-02,  2.41594028e-01,\n",
       "         1.67942718e-02, -1.83645466e-01]])"
      ]
     },
     "execution_count": 44,
     "metadata": {},
     "output_type": "execute_result"
    }
   ],
   "source": [
    "reg.coef_"
   ]
  },
  {
   "cell_type": "code",
   "execution_count": 45,
   "metadata": {},
   "outputs": [
    {
     "data": {
      "text/plain": [
       "array([11.37158814])"
      ]
     },
     "execution_count": 45,
     "metadata": {},
     "output_type": "execute_result"
    }
   ],
   "source": [
    "reg.intercept_"
   ]
  },
  {
   "cell_type": "code",
   "execution_count": 25,
   "metadata": {},
   "outputs": [
    {
     "name": "stdout",
     "output_type": "stream",
     "text": [
      "[NbConvertApp] Converting notebook W3_Python.ipynb to html\n",
      "[NbConvertApp] Writing 623929 bytes to W3_Python.html\n"
     ]
    }
   ],
   "source": [
    "!jupyter nbconvert --to html W3_Python.ipynb "
   ]
  },
  {
   "cell_type": "code",
   "execution_count": null,
   "metadata": {},
   "outputs": [],
   "source": []
  }
 ],
 "metadata": {
  "kernelspec": {
   "display_name": "Python 3",
   "language": "python",
   "name": "python3"
  },
  "language_info": {
   "codemirror_mode": {
    "name": "ipython",
    "version": 3
   },
   "file_extension": ".py",
   "mimetype": "text/x-python",
   "name": "python",
   "nbconvert_exporter": "python",
   "pygments_lexer": "ipython3",
   "version": "3.7.9"
  }
 },
 "nbformat": 4,
 "nbformat_minor": 4
}
