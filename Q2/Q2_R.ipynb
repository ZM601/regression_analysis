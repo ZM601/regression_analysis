{
 "cells": [
  {
   "cell_type": "markdown",
   "id": "38df9666-d8f1-4701-baac-2de3b50c6595",
   "metadata": {},
   "source": [
    "# install all packages for regression"
   ]
  },
  {
   "cell_type": "code",
   "execution_count": 22,
   "id": "f5c92c3e-2afb-4c05-9b6a-e27aea8496ce",
   "metadata": {
    "tags": []
   },
   "outputs": [
    {
     "data": {
      "text/html": [
       "<style>\n",
       ".dl-inline {width: auto; margin:0; padding: 0}\n",
       ".dl-inline>dt, .dl-inline>dd {float: none; width: auto; display: inline-block}\n",
       ".dl-inline>dt::after {content: \":\\0020\"; padding-right: .5ex}\n",
       ".dl-inline>dt:not(:first-of-type) {padding-left: .5ex}\n",
       "</style><dl class=dl-inline><dt>readr</dt><dd>TRUE</dd><dt>haven</dt><dd>TRUE</dd><dt>AER</dt><dd>TRUE</dd><dt>stargazer</dt><dd>TRUE</dd></dl>\n"
      ],
      "text/latex": [
       "\\begin{description*}\n",
       "\\item[readr] TRUE\n",
       "\\item[haven] TRUE\n",
       "\\item[AER] TRUE\n",
       "\\item[stargazer] TRUE\n",
       "\\end{description*}\n"
      ],
      "text/markdown": [
       "readr\n",
       ":   TRUEhaven\n",
       ":   TRUEAER\n",
       ":   TRUEstargazer\n",
       ":   TRUE\n",
       "\n"
      ],
      "text/plain": [
       "    readr     haven       AER stargazer \n",
       "     TRUE      TRUE      TRUE      TRUE "
      ]
     },
     "metadata": {},
     "output_type": "display_data"
    }
   ],
   "source": [
    "rm(list = ls())\n",
    "\n",
    "#update packages\n",
    "update.packages(ask = FALSE)\n",
    "\n",
    "ipak <- function(pkg){\n",
    "  new.pkg <- pkg[!(pkg %in% installed.packages()[, \"Package\"])]\n",
    "  if (length(new.pkg))\n",
    "    install.packages(new.pkg, dependencies = TRUE)\n",
    "  sapply(pkg, require, character.only = TRUE)\n",
    "}\n",
    "\n",
    "packages <- c('readr', 'haven', 'AER', 'stargazer')\n",
    "\n",
    "ipak(packages)"
   ]
  },
  {
   "cell_type": "markdown",
   "id": "91c7915b-af2c-4454-bed2-eafd79b0db8d",
   "metadata": {},
   "source": [
    "# load all packages for regression"
   ]
  },
  {
   "cell_type": "code",
   "execution_count": 23,
   "id": "04f61d8b-3969-42b8-8952-9c267fde8de8",
   "metadata": {},
   "outputs": [],
   "source": [
    "rm(list = ls())\n",
    "\n",
    "library(readr)\n",
    "library(haven)\n",
    "library(stargazer)"
   ]
  },
  {
   "cell_type": "markdown",
   "id": "1ad98bc7-7d2a-4f4b-b7a6-cd3492b45272",
   "metadata": {},
   "source": [
    "# check your current work directory"
   ]
  },
  {
   "cell_type": "code",
   "execution_count": 24,
   "id": "5b133eaa-6104-4cce-b0b2-c91a067a4ca6",
   "metadata": {},
   "outputs": [
    {
     "data": {
      "text/html": [
       "'/Users/ning/Downloads/Q2'"
      ],
      "text/latex": [
       "'/Users/ning/Downloads/Q2'"
      ],
      "text/markdown": [
       "'/Users/ning/Downloads/Q2'"
      ],
      "text/plain": [
       "[1] \"/Users/ning/Downloads/Q2\""
      ]
     },
     "metadata": {},
     "output_type": "display_data"
    }
   ],
   "source": [
    "getwd()"
   ]
  },
  {
   "cell_type": "markdown",
   "id": "046a2957-72a4-453d-83b9-b41945eab195",
   "metadata": {},
   "source": [
    "# load dataset"
   ]
  },
  {
   "cell_type": "code",
   "execution_count": 25,
   "id": "d21939ff-b314-48d0-b33b-b5308a1954d3",
   "metadata": {},
   "outputs": [],
   "source": [
    "df <- read_dta(\"Q2.dta\")"
   ]
  },
  {
   "cell_type": "markdown",
   "id": "1567be5b-7274-498e-84fb-29dd46a90655",
   "metadata": {},
   "source": [
    "# check all observations"
   ]
  },
  {
   "cell_type": "code",
   "execution_count": 26,
   "id": "48198915-e390-4041-92c1-149c9868b3bc",
   "metadata": {},
   "outputs": [
    {
     "data": {
      "text/html": [
       "<table class=\"dataframe\">\n",
       "<caption>A tibble: 8 × 2</caption>\n",
       "<thead>\n",
       "\t<tr><th scope=col>gpa</th><th scope=col>act</th></tr>\n",
       "\t<tr><th scope=col>&lt;dbl&gt;</th><th scope=col>&lt;dbl&gt;</th></tr>\n",
       "</thead>\n",
       "<tbody>\n",
       "\t<tr><td>2.8</td><td>21</td></tr>\n",
       "\t<tr><td>3.4</td><td>24</td></tr>\n",
       "\t<tr><td>3.0</td><td>26</td></tr>\n",
       "\t<tr><td>3.5</td><td>27</td></tr>\n",
       "\t<tr><td>3.6</td><td>29</td></tr>\n",
       "\t<tr><td>3.0</td><td>25</td></tr>\n",
       "\t<tr><td>2.7</td><td>25</td></tr>\n",
       "\t<tr><td>3.7</td><td>30</td></tr>\n",
       "</tbody>\n",
       "</table>\n"
      ],
      "text/latex": [
       "A tibble: 8 × 2\n",
       "\\begin{tabular}{ll}\n",
       " gpa & act\\\\\n",
       " <dbl> & <dbl>\\\\\n",
       "\\hline\n",
       "\t 2.8 & 21\\\\\n",
       "\t 3.4 & 24\\\\\n",
       "\t 3.0 & 26\\\\\n",
       "\t 3.5 & 27\\\\\n",
       "\t 3.6 & 29\\\\\n",
       "\t 3.0 & 25\\\\\n",
       "\t 2.7 & 25\\\\\n",
       "\t 3.7 & 30\\\\\n",
       "\\end{tabular}\n"
      ],
      "text/markdown": [
       "\n",
       "A tibble: 8 × 2\n",
       "\n",
       "| gpa &lt;dbl&gt; | act &lt;dbl&gt; |\n",
       "|---|---|\n",
       "| 2.8 | 21 |\n",
       "| 3.4 | 24 |\n",
       "| 3.0 | 26 |\n",
       "| 3.5 | 27 |\n",
       "| 3.6 | 29 |\n",
       "| 3.0 | 25 |\n",
       "| 2.7 | 25 |\n",
       "| 3.7 | 30 |\n",
       "\n"
      ],
      "text/plain": [
       "  gpa act\n",
       "1 2.8 21 \n",
       "2 3.4 24 \n",
       "3 3.0 26 \n",
       "4 3.5 27 \n",
       "5 3.6 29 \n",
       "6 3.0 25 \n",
       "7 2.7 25 \n",
       "8 3.7 30 "
      ]
     },
     "metadata": {},
     "output_type": "display_data"
    }
   ],
   "source": [
    "df"
   ]
  },
  {
   "cell_type": "markdown",
   "id": "52d7b593-9c7f-4b49-ad61-94979c73a087",
   "metadata": {},
   "source": [
    "# computer summary statistics"
   ]
  },
  {
   "cell_type": "code",
   "execution_count": 27,
   "id": "fad3e50d-a744-49b5-8870-47781615667b",
   "metadata": {},
   "outputs": [
    {
     "data": {
      "text/plain": [
       "      gpa             act       \n",
       " Min.   :2.700   Min.   :21.00  \n",
       " 1st Qu.:2.950   1st Qu.:24.75  \n",
       " Median :3.200   Median :25.50  \n",
       " Mean   :3.212   Mean   :25.88  \n",
       " 3rd Qu.:3.525   3rd Qu.:27.50  \n",
       " Max.   :3.700   Max.   :30.00  "
      ]
     },
     "metadata": {},
     "output_type": "display_data"
    }
   ],
   "source": [
    "summary(df)"
   ]
  },
  {
   "cell_type": "code",
   "execution_count": 28,
   "id": "c4f3b6de-ecbd-4857-9628-389b2afe408e",
   "metadata": {},
   "outputs": [
    {
     "data": {
      "text/html": [
       "21"
      ],
      "text/latex": [
       "21"
      ],
      "text/markdown": [
       "21"
      ],
      "text/plain": [
       "[1] 21"
      ]
     },
     "metadata": {},
     "output_type": "display_data"
    },
    {
     "data": {
      "text/html": [
       "2.70000004768372"
      ],
      "text/latex": [
       "2.70000004768372"
      ],
      "text/markdown": [
       "2.70000004768372"
      ],
      "text/plain": [
       "[1] 2.7"
      ]
     },
     "metadata": {},
     "output_type": "display_data"
    }
   ],
   "source": [
    "min(df$act)\n",
    "min(df$gpa)"
   ]
  },
  {
   "cell_type": "code",
   "execution_count": 29,
   "id": "f8c83317-42a6-478f-a0c2-cf068950b4ef",
   "metadata": {},
   "outputs": [
    {
     "data": {
      "text/html": [
       "30"
      ],
      "text/latex": [
       "30"
      ],
      "text/markdown": [
       "30"
      ],
      "text/plain": [
       "[1] 30"
      ]
     },
     "metadata": {},
     "output_type": "display_data"
    },
    {
     "data": {
      "text/html": [
       "3.70000004768372"
      ],
      "text/latex": [
       "3.70000004768372"
      ],
      "text/markdown": [
       "3.70000004768372"
      ],
      "text/plain": [
       "[1] 3.7"
      ]
     },
     "metadata": {},
     "output_type": "display_data"
    }
   ],
   "source": [
    "max(df$act)\n",
    "max(df$gpa)"
   ]
  },
  {
   "cell_type": "code",
   "execution_count": 30,
   "id": "787c7e8e-831e-4425-8774-ebe45f9a8597",
   "metadata": {},
   "outputs": [
    {
     "data": {
      "text/html": [
       "25.875"
      ],
      "text/latex": [
       "25.875"
      ],
      "text/markdown": [
       "25.875"
      ],
      "text/plain": [
       "[1] 25.875"
      ]
     },
     "metadata": {},
     "output_type": "display_data"
    },
    {
     "data": {
      "text/html": [
       "3.21250000596046"
      ],
      "text/latex": [
       "3.21250000596046"
      ],
      "text/markdown": [
       "3.21250000596046"
      ],
      "text/plain": [
       "[1] 3.2125"
      ]
     },
     "metadata": {},
     "output_type": "display_data"
    }
   ],
   "source": [
    "mean(df$act)\n",
    "mean(df$gpa)"
   ]
  },
  {
   "cell_type": "code",
   "execution_count": 31,
   "id": "2599ea04-d704-4d50-828c-122ec2801589",
   "metadata": {},
   "outputs": [
    {
     "data": {
      "text/html": [
       "25.5"
      ],
      "text/latex": [
       "25.5"
      ],
      "text/markdown": [
       "25.5"
      ],
      "text/plain": [
       "[1] 25.5"
      ]
     },
     "metadata": {},
     "output_type": "display_data"
    },
    {
     "data": {
      "text/html": [
       "3.20000004768372"
      ],
      "text/latex": [
       "3.20000004768372"
      ],
      "text/markdown": [
       "3.20000004768372"
      ],
      "text/plain": [
       "[1] 3.2"
      ]
     },
     "metadata": {},
     "output_type": "display_data"
    }
   ],
   "source": [
    "median(df$act)\n",
    "median(df$gpa)"
   ]
  },
  {
   "cell_type": "code",
   "execution_count": 32,
   "id": "e753c273-a8be-459c-9130-f23c6aaa34ef",
   "metadata": {},
   "outputs": [
    {
     "data": {
      "text/html": [
       "2.85043856274784"
      ],
      "text/latex": [
       "2.85043856274784"
      ],
      "text/markdown": [
       "2.85043856274784"
      ],
      "text/plain": [
       "[1] 2.850439"
      ]
     },
     "metadata": {},
     "output_type": "display_data"
    },
    {
     "data": {
      "text/html": [
       "0.383359212154854"
      ],
      "text/latex": [
       "0.383359212154854"
      ],
      "text/markdown": [
       "0.383359212154854"
      ],
      "text/plain": [
       "[1] 0.3833592"
      ]
     },
     "metadata": {},
     "output_type": "display_data"
    }
   ],
   "source": [
    "sd(df$act)\n",
    "sd(df$gpa)"
   ]
  },
  {
   "cell_type": "markdown",
   "id": "088a4c24-3b92-4c59-9a09-092602be5cd7",
   "metadata": {},
   "source": [
    "# run OLS"
   ]
  },
  {
   "cell_type": "code",
   "execution_count": 33,
   "id": "d8a0493b-0966-4b0f-8d59-f1ae45309ed4",
   "metadata": {},
   "outputs": [
    {
     "data": {
      "text/plain": [
       "\n",
       "Call:\n",
       "lm(formula = gpa ~ act, data = df)\n",
       "\n",
       "Residuals:\n",
       "     Min       1Q   Median       3Q      Max \n",
       "-0.42308 -0.14863  0.06703  0.10742  0.37912 \n",
       "\n",
       "Coefficients:\n",
       "            Estimate Std. Error t value Pr(>|t|)  \n",
       "(Intercept)  0.56813    0.92842   0.612   0.5630  \n",
       "act          0.10220    0.03569   2.863   0.0287 *\n",
       "---\n",
       "Signif. codes:  0 ‘***’ 0.001 ‘**’ 0.01 ‘*’ 0.05 ‘.’ 0.1 ‘ ’ 1\n",
       "\n",
       "Residual standard error: 0.2692 on 6 degrees of freedom\n",
       "Multiple R-squared:  0.5774,\tAdjusted R-squared:  0.507 \n",
       "F-statistic: 8.199 on 1 and 6 DF,  p-value: 0.02868\n"
      ]
     },
     "metadata": {},
     "output_type": "display_data"
    }
   ],
   "source": [
    "OLS1 = lm(gpa ~ act , data=df)\n",
    "summary(OLS1)"
   ]
  },
  {
   "cell_type": "markdown",
   "id": "8b92c97b-f06b-49bc-ba5d-ef8e23cb7566",
   "metadata": {},
   "source": [
    "# put it in a nice-looking table"
   ]
  },
  {
   "cell_type": "code",
   "execution_count": 34,
   "id": "3eefe58b-a100-457e-a075-6581f3097994",
   "metadata": {},
   "outputs": [
    {
     "name": "stdout",
     "output_type": "stream",
     "text": [
      "\n",
      "===============================================\n",
      "                        Dependent variable:    \n",
      "                    ---------------------------\n",
      "                                gpa            \n",
      "-----------------------------------------------\n",
      "act                           0.102**          \n",
      "                              (0.036)          \n",
      "                                               \n",
      "Constant                       0.568           \n",
      "                              (0.928)          \n",
      "                                               \n",
      "-----------------------------------------------\n",
      "Observations                     8             \n",
      "R2                             0.577           \n",
      "Adjusted R2                    0.507           \n",
      "Residual Std. Error       0.269 (df = 6)       \n",
      "F Statistic             8.199** (df = 1; 6)    \n",
      "===============================================\n",
      "Note:               *p<0.1; **p<0.05; ***p<0.01\n"
     ]
    }
   ],
   "source": [
    "stargazer(OLS1, type=\"text\")"
   ]
  },
  {
   "cell_type": "markdown",
   "id": "ce74de46-0e38-4a9e-9ba0-f8edf745d184",
   "metadata": {},
   "source": [
    "# plot data and regression line"
   ]
  },
  {
   "cell_type": "code",
   "execution_count": 35,
   "id": "4b40cb0c-7559-4330-b96d-20c5666038f6",
   "metadata": {},
   "outputs": [
    {
     "data": {
      "image/png": "[encoded data removed]",
      "text/plain": [
       "Plot with title “regression line and data”"
      ]
     },
     "metadata": {
      "image/png": {
       "height": 420,
       "width": 420
      }
     },
     "output_type": "display_data"
    }
   ],
   "source": [
    "plot(df$act, df$gpa, pch = 16, cex = 1.3, col = \"blue\", xlab = \"act\", ylab = \"gpa\", main = \"regression line and data\")\n",
    "abline(lm(gpa ~ act, data=df), col = \"red\")"
   ]
  },
  {
   "cell_type": "markdown",
   "id": "abc38b61-896c-4390-9c5f-ed137c3eb7cf",
   "metadata": {},
   "source": [
    "# compute predicted gpa and predicted residual"
   ]
  },
  {
   "cell_type": "code",
   "execution_count": 36,
   "id": "b508a839-3c90-48dd-a8fb-bbb5f299aa52",
   "metadata": {},
   "outputs": [],
   "source": [
    "df$Y_hat = predict(OLS1, df)"
   ]
  },
  {
   "cell_type": "code",
   "execution_count": 38,
   "id": "e3c89790-74c8-4b12-9879-a811813df9e6",
   "metadata": {},
   "outputs": [],
   "source": [
    "df$u_hat = df$gpa - df$Y_hat"
   ]
  },
  {
   "cell_type": "code",
   "execution_count": 39,
   "id": "e97cefbb-91a8-45c7-8190-1134b5a0a3e4",
   "metadata": {},
   "outputs": [
    {
     "data": {
      "text/html": [
       "<table class=\"dataframe\">\n",
       "<caption>A tibble: 8 × 4</caption>\n",
       "<thead>\n",
       "\t<tr><th scope=col>gpa</th><th scope=col>act</th><th scope=col>Y_hat</th><th scope=col>u_hat</th></tr>\n",
       "\t<tr><th scope=col>&lt;dbl&gt;</th><th scope=col>&lt;dbl&gt;</th><th scope=col>&lt;dbl&gt;</th><th scope=col>&lt;dbl&gt;</th></tr>\n",
       "</thead>\n",
       "<tbody>\n",
       "\t<tr><td>2.8</td><td>21</td><td>2.714286</td><td> 0.08571422</td></tr>\n",
       "\t<tr><td>3.4</td><td>24</td><td>3.020879</td><td> 0.37912097</td></tr>\n",
       "\t<tr><td>3.0</td><td>26</td><td>3.225275</td><td>-0.22527473</td></tr>\n",
       "\t<tr><td>3.5</td><td>27</td><td>3.327473</td><td> 0.17252747</td></tr>\n",
       "\t<tr><td>3.6</td><td>29</td><td>3.531868</td><td> 0.06813177</td></tr>\n",
       "\t<tr><td>3.0</td><td>25</td><td>3.123077</td><td>-0.12307693</td></tr>\n",
       "\t<tr><td>2.7</td><td>25</td><td>3.123077</td><td>-0.42307688</td></tr>\n",
       "\t<tr><td>3.7</td><td>30</td><td>3.634066</td><td> 0.06593411</td></tr>\n",
       "</tbody>\n",
       "</table>\n"
      ],
      "text/latex": [
       "A tibble: 8 × 4\n",
       "\\begin{tabular}{llll}\n",
       " gpa & act & Y\\_hat & u\\_hat\\\\\n",
       " <dbl> & <dbl> & <dbl> & <dbl>\\\\\n",
       "\\hline\n",
       "\t 2.8 & 21 & 2.714286 &  0.08571422\\\\\n",
       "\t 3.4 & 24 & 3.020879 &  0.37912097\\\\\n",
       "\t 3.0 & 26 & 3.225275 & -0.22527473\\\\\n",
       "\t 3.5 & 27 & 3.327473 &  0.17252747\\\\\n",
       "\t 3.6 & 29 & 3.531868 &  0.06813177\\\\\n",
       "\t 3.0 & 25 & 3.123077 & -0.12307693\\\\\n",
       "\t 2.7 & 25 & 3.123077 & -0.42307688\\\\\n",
       "\t 3.7 & 30 & 3.634066 &  0.06593411\\\\\n",
       "\\end{tabular}\n"
      ],
      "text/markdown": [
       "\n",
       "A tibble: 8 × 4\n",
       "\n",
       "| gpa &lt;dbl&gt; | act &lt;dbl&gt; | Y_hat &lt;dbl&gt; | u_hat &lt;dbl&gt; |\n",
       "|---|---|---|---|\n",
       "| 2.8 | 21 | 2.714286 |  0.08571422 |\n",
       "| 3.4 | 24 | 3.020879 |  0.37912097 |\n",
       "| 3.0 | 26 | 3.225275 | -0.22527473 |\n",
       "| 3.5 | 27 | 3.327473 |  0.17252747 |\n",
       "| 3.6 | 29 | 3.531868 |  0.06813177 |\n",
       "| 3.0 | 25 | 3.123077 | -0.12307693 |\n",
       "| 2.7 | 25 | 3.123077 | -0.42307688 |\n",
       "| 3.7 | 30 | 3.634066 |  0.06593411 |\n",
       "\n"
      ],
      "text/plain": [
       "  gpa act Y_hat    u_hat      \n",
       "1 2.8 21  2.714286  0.08571422\n",
       "2 3.4 24  3.020879  0.37912097\n",
       "3 3.0 26  3.225275 -0.22527473\n",
       "4 3.5 27  3.327473  0.17252747\n",
       "5 3.6 29  3.531868  0.06813177\n",
       "6 3.0 25  3.123077 -0.12307693\n",
       "7 2.7 25  3.123077 -0.42307688\n",
       "8 3.7 30  3.634066  0.06593411"
      ]
     },
     "metadata": {},
     "output_type": "display_data"
    }
   ],
   "source": [
    "df"
   ]
  },
  {
   "cell_type": "markdown",
   "id": "fb520f4f-50c0-4754-aa8f-cd5261b46d81",
   "metadata": {},
   "source": [
    "# compute the mean of u hat, round to 4 decimal places"
   ]
  },
  {
   "cell_type": "code",
   "execution_count": 46,
   "id": "b6ebb781-c3c8-4135-a096-96c91c3bccee",
   "metadata": {},
   "outputs": [
    {
     "data": {
      "text/html": [
       "0"
      ],
      "text/latex": [
       "0"
      ],
      "text/markdown": [
       "0"
      ],
      "text/plain": [
       "[1] 0"
      ]
     },
     "metadata": {},
     "output_type": "display_data"
    }
   ],
   "source": [
    "round( mean(df$u_hat), 4)"
   ]
  },
  {
   "cell_type": "markdown",
   "id": "61768747-dee4-4a60-b302-ed87bb86e496",
   "metadata": {},
   "source": [
    "# predict for a given value of act"
   ]
  },
  {
   "cell_type": "code",
   "execution_count": 40,
   "id": "ff2829ae-8f4b-49d8-b9a5-c87ff2e53ec9",
   "metadata": {},
   "outputs": [
    {
     "data": {
      "text/html": [
       "<table class=\"dataframe\">\n",
       "<caption>A data.frame: 1 × 1</caption>\n",
       "<thead>\n",
       "\t<tr><th scope=col>act</th></tr>\n",
       "\t<tr><th scope=col>&lt;dbl&gt;</th></tr>\n",
       "</thead>\n",
       "<tbody>\n",
       "\t<tr><td>20</td></tr>\n",
       "</tbody>\n",
       "</table>\n"
      ],
      "text/latex": [
       "A data.frame: 1 × 1\n",
       "\\begin{tabular}{l}\n",
       " act\\\\\n",
       " <dbl>\\\\\n",
       "\\hline\n",
       "\t 20\\\\\n",
       "\\end{tabular}\n"
      ],
      "text/markdown": [
       "\n",
       "A data.frame: 1 × 1\n",
       "\n",
       "| act &lt;dbl&gt; |\n",
       "|---|\n",
       "| 20 |\n",
       "\n"
      ],
      "text/plain": [
       "  act\n",
       "1 20 "
      ]
     },
     "metadata": {},
     "output_type": "display_data"
    }
   ],
   "source": [
    "new_obs <- data.frame(act=20)\n",
    "\n",
    "new_obs"
   ]
  },
  {
   "cell_type": "code",
   "execution_count": 42,
   "id": "f8a8012b-f0a5-4340-9c4a-9df3ac966a6c",
   "metadata": {},
   "outputs": [
    {
     "data": {
      "text/html": [
       "<table class=\"dataframe\">\n",
       "<caption>A data.frame: 1 × 2</caption>\n",
       "<thead>\n",
       "\t<tr><th scope=col>act</th><th scope=col>Y_hat</th></tr>\n",
       "\t<tr><th scope=col>&lt;dbl&gt;</th><th scope=col>&lt;dbl&gt;</th></tr>\n",
       "</thead>\n",
       "<tbody>\n",
       "\t<tr><td>20</td><td>2.612088</td></tr>\n",
       "</tbody>\n",
       "</table>\n"
      ],
      "text/latex": [
       "A data.frame: 1 × 2\n",
       "\\begin{tabular}{ll}\n",
       " act & Y\\_hat\\\\\n",
       " <dbl> & <dbl>\\\\\n",
       "\\hline\n",
       "\t 20 & 2.612088\\\\\n",
       "\\end{tabular}\n"
      ],
      "text/markdown": [
       "\n",
       "A data.frame: 1 × 2\n",
       "\n",
       "| act &lt;dbl&gt; | Y_hat &lt;dbl&gt; |\n",
       "|---|---|\n",
       "| 20 | 2.612088 |\n",
       "\n"
      ],
      "text/plain": [
       "  act Y_hat   \n",
       "1 20  2.612088"
      ]
     },
     "metadata": {},
     "output_type": "display_data"
    }
   ],
   "source": [
    "new_obs$Y_hat = predict(OLS1, new_obs)\n",
    "\n",
    "new_obs"
   ]
  },
  {
   "cell_type": "markdown",
   "id": "6c782c9a-0a82-40a3-910e-deea1c9c58d6",
   "metadata": {},
   "source": [
    "# How much of the variation in GPA for these eight students is explained by ACT?\n",
    "\n",
    "## that's just R2"
   ]
  },
  {
   "cell_type": "code",
   "execution_count": 49,
   "id": "d431338b-527a-4e5f-83df-f44041bbf1ea",
   "metadata": {},
   "outputs": [
    {
     "data": {
      "text/html": [
       "0.57742377418096"
      ],
      "text/latex": [
       "0.57742377418096"
      ],
      "text/markdown": [
       "0.57742377418096"
      ],
      "text/plain": [
       "[1] 0.5774238"
      ]
     },
     "metadata": {},
     "output_type": "display_data"
    }
   ],
   "source": [
    "summary(OLS1)$r.squared "
   ]
  },
  {
   "cell_type": "code",
   "execution_count": null,
   "id": "6a906821-3cb1-4734-b6d0-aa694b2ea725",
   "metadata": {},
   "outputs": [],
   "source": []
  }
 ],
 "metadata": {
  "kernelspec": {
   "display_name": "R",
   "language": "R",
   "name": "ir"
  },
  "language_info": {
   "codemirror_mode": "r",
   "file_extension": ".r",
   "mimetype": "text/x-r-source",
   "name": "R",
   "pygments_lexer": "r",
   "version": "4.1.0"
  }
 },
 "nbformat": 4,
 "nbformat_minor": 5
}
