{
 "cells": [
  {
   "cell_type": "code",
   "execution_count": 3,
   "id": "3fd89f7d-a4b3-4a66-af14-6ce0aa778233",
   "metadata": {},
   "outputs": [],
   "source": [
    "%reset -f\n",
    "\n",
    "import pandas            as pd\n",
    "import numpy             as np\n",
    "import statsmodels.api   as sm\n",
    "import matplotlib.pyplot as plt"
   ]
  },
  {
   "cell_type": "markdown",
   "id": "0b7c8872-0625-4783-939a-e6e9a0047c6d",
   "metadata": {},
   "source": [
    "# load data into Stata"
   ]
  },
  {
   "cell_type": "code",
   "execution_count": 4,
   "id": "64ddba5f-e901-4f01-820c-7eaa120209a5",
   "metadata": {},
   "outputs": [],
   "source": [
    "df = pd.read_stata('Q2.dta')"
   ]
  },
  {
   "cell_type": "markdown",
   "id": "4b04c824-547d-4e06-88f4-95c3061c7042",
   "metadata": {},
   "source": [
    "# list all variable names in the dataset"
   ]
  },
  {
   "cell_type": "code",
   "execution_count": 5,
   "id": "037532e1-8aa2-455b-b480-20b0a3bbfe40",
   "metadata": {},
   "outputs": [
    {
     "data": {
      "text/plain": [
       "['gpa', 'act']"
      ]
     },
     "execution_count": 5,
     "metadata": {},
     "output_type": "execute_result"
    }
   ],
   "source": [
    "list(df.columns)"
   ]
  },
  {
   "cell_type": "markdown",
   "id": "42a28297-1df1-4f98-9907-6e898701cf1a",
   "metadata": {},
   "source": [
    "# list all the observations in your dataset"
   ]
  },
  {
   "cell_type": "code",
   "execution_count": 6,
   "id": "1356dbfc-b585-4bcc-8469-85195e37d159",
   "metadata": {},
   "outputs": [
    {
     "data": {
      "text/html": [
       "<div>\n",
       "<style scoped>\n",
       "    .dataframe tbody tr th:only-of-type {\n",
       "        vertical-align: middle;\n",
       "    }\n",
       "\n",
       "    .dataframe tbody tr th {\n",
       "        vertical-align: top;\n",
       "    }\n",
       "\n",
       "    .dataframe thead th {\n",
       "        text-align: right;\n",
       "    }\n",
       "</style>\n",
       "<table border=\"1\" class=\"dataframe\">\n",
       "  <thead>\n",
       "    <tr style=\"text-align: right;\">\n",
       "      <th></th>\n",
       "      <th>gpa</th>\n",
       "      <th>act</th>\n",
       "    </tr>\n",
       "  </thead>\n",
       "  <tbody>\n",
       "    <tr>\n",
       "      <th>0</th>\n",
       "      <td>2.8</td>\n",
       "      <td>21</td>\n",
       "    </tr>\n",
       "    <tr>\n",
       "      <th>1</th>\n",
       "      <td>3.4</td>\n",
       "      <td>24</td>\n",
       "    </tr>\n",
       "    <tr>\n",
       "      <th>2</th>\n",
       "      <td>3.0</td>\n",
       "      <td>26</td>\n",
       "    </tr>\n",
       "    <tr>\n",
       "      <th>3</th>\n",
       "      <td>3.5</td>\n",
       "      <td>27</td>\n",
       "    </tr>\n",
       "    <tr>\n",
       "      <th>4</th>\n",
       "      <td>3.6</td>\n",
       "      <td>29</td>\n",
       "    </tr>\n",
       "    <tr>\n",
       "      <th>5</th>\n",
       "      <td>3.0</td>\n",
       "      <td>25</td>\n",
       "    </tr>\n",
       "    <tr>\n",
       "      <th>6</th>\n",
       "      <td>2.7</td>\n",
       "      <td>25</td>\n",
       "    </tr>\n",
       "    <tr>\n",
       "      <th>7</th>\n",
       "      <td>3.7</td>\n",
       "      <td>30</td>\n",
       "    </tr>\n",
       "  </tbody>\n",
       "</table>\n",
       "</div>"
      ],
      "text/plain": [
       "   gpa  act\n",
       "0  2.8   21\n",
       "1  3.4   24\n",
       "2  3.0   26\n",
       "3  3.5   27\n",
       "4  3.6   29\n",
       "5  3.0   25\n",
       "6  2.7   25\n",
       "7  3.7   30"
      ]
     },
     "execution_count": 6,
     "metadata": {},
     "output_type": "execute_result"
    }
   ],
   "source": [
    "df"
   ]
  },
  {
   "cell_type": "markdown",
   "id": "2bd535e2-1b79-49de-8a77-8dad971b7523",
   "metadata": {},
   "source": [
    "# compute summary statistics"
   ]
  },
  {
   "cell_type": "code",
   "execution_count": 7,
   "id": "d8d90906-8558-42de-9d6b-507db48324ca",
   "metadata": {},
   "outputs": [
    {
     "data": {
      "text/html": [
       "<div>\n",
       "<style scoped>\n",
       "    .dataframe tbody tr th:only-of-type {\n",
       "        vertical-align: middle;\n",
       "    }\n",
       "\n",
       "    .dataframe tbody tr th {\n",
       "        vertical-align: top;\n",
       "    }\n",
       "\n",
       "    .dataframe thead th {\n",
       "        text-align: right;\n",
       "    }\n",
       "</style>\n",
       "<table border=\"1\" class=\"dataframe\">\n",
       "  <thead>\n",
       "    <tr style=\"text-align: right;\">\n",
       "      <th></th>\n",
       "      <th>gpa</th>\n",
       "      <th>act</th>\n",
       "    </tr>\n",
       "  </thead>\n",
       "  <tbody>\n",
       "    <tr>\n",
       "      <th>count</th>\n",
       "      <td>8.000000</td>\n",
       "      <td>8.000000</td>\n",
       "    </tr>\n",
       "    <tr>\n",
       "      <th>mean</th>\n",
       "      <td>3.212500</td>\n",
       "      <td>25.875000</td>\n",
       "    </tr>\n",
       "    <tr>\n",
       "      <th>std</th>\n",
       "      <td>0.383359</td>\n",
       "      <td>2.850439</td>\n",
       "    </tr>\n",
       "    <tr>\n",
       "      <th>min</th>\n",
       "      <td>2.700000</td>\n",
       "      <td>21.000000</td>\n",
       "    </tr>\n",
       "    <tr>\n",
       "      <th>25%</th>\n",
       "      <td>2.950000</td>\n",
       "      <td>24.750000</td>\n",
       "    </tr>\n",
       "    <tr>\n",
       "      <th>50%</th>\n",
       "      <td>3.200000</td>\n",
       "      <td>25.500000</td>\n",
       "    </tr>\n",
       "    <tr>\n",
       "      <th>75%</th>\n",
       "      <td>3.525000</td>\n",
       "      <td>27.500000</td>\n",
       "    </tr>\n",
       "    <tr>\n",
       "      <th>max</th>\n",
       "      <td>3.700000</td>\n",
       "      <td>30.000000</td>\n",
       "    </tr>\n",
       "  </tbody>\n",
       "</table>\n",
       "</div>"
      ],
      "text/plain": [
       "            gpa        act\n",
       "count  8.000000   8.000000\n",
       "mean   3.212500  25.875000\n",
       "std    0.383359   2.850439\n",
       "min    2.700000  21.000000\n",
       "25%    2.950000  24.750000\n",
       "50%    3.200000  25.500000\n",
       "75%    3.525000  27.500000\n",
       "max    3.700000  30.000000"
      ]
     },
     "execution_count": 7,
     "metadata": {},
     "output_type": "execute_result"
    }
   ],
   "source": [
    "df.describe()"
   ]
  },
  {
   "cell_type": "markdown",
   "id": "aeb5e49d-ce6f-455a-8a8d-3c193ef772d4",
   "metadata": {},
   "source": [
    "# regression"
   ]
  },
  {
   "cell_type": "markdown",
   "id": "a7faff4c-d8e1-429e-af13-0d9dfd2ab6d2",
   "metadata": {},
   "source": [
    "## set X variable"
   ]
  },
  {
   "cell_type": "code",
   "execution_count": 8,
   "id": "d011650d-5674-4c3b-8258-22801b198041",
   "metadata": {},
   "outputs": [],
   "source": [
    "X = df['act']"
   ]
  },
  {
   "cell_type": "code",
   "execution_count": 9,
   "id": "48fc2f5e-59a5-4d5e-931b-87b5882ce911",
   "metadata": {},
   "outputs": [
    {
     "data": {
      "text/plain": [
       "0    21\n",
       "1    24\n",
       "2    26\n",
       "3    27\n",
       "4    29\n",
       "5    25\n",
       "6    25\n",
       "7    30\n",
       "Name: act, dtype: int8"
      ]
     },
     "execution_count": 9,
     "metadata": {},
     "output_type": "execute_result"
    }
   ],
   "source": [
    "X"
   ]
  },
  {
   "cell_type": "markdown",
   "id": "6270bb8a-7608-40b8-bc31-9cfcde4a050b",
   "metadata": {},
   "source": [
    "## set Y variable"
   ]
  },
  {
   "cell_type": "code",
   "execution_count": 10,
   "id": "2482f83c-0e88-464b-9f52-2eeafe06c56d",
   "metadata": {},
   "outputs": [],
   "source": [
    "Y = df['gpa']"
   ]
  },
  {
   "cell_type": "code",
   "execution_count": 11,
   "id": "8aab71b1-d0b7-4000-b8c4-6bb820e678c3",
   "metadata": {},
   "outputs": [
    {
     "data": {
      "text/plain": [
       "0    2.8\n",
       "1    3.4\n",
       "2    3.0\n",
       "3    3.5\n",
       "4    3.6\n",
       "5    3.0\n",
       "6    2.7\n",
       "7    3.7\n",
       "Name: gpa, dtype: float32"
      ]
     },
     "execution_count": 11,
     "metadata": {},
     "output_type": "execute_result"
    }
   ],
   "source": [
    "Y"
   ]
  },
  {
   "cell_type": "markdown",
   "id": "6f114654-143e-4a71-8331-5bdf11888e7b",
   "metadata": {},
   "source": [
    "# add intercept into your regression"
   ]
  },
  {
   "cell_type": "code",
   "execution_count": 12,
   "id": "eddbefa3-3164-4c17-bf27-3a4c33077439",
   "metadata": {},
   "outputs": [
    {
     "name": "stderr",
     "output_type": "stream",
     "text": [
      "/opt/homebrew/Caskroom/miniforge/base/lib/python3.9/site-packages/statsmodels/tsa/tsatools.py:142: FutureWarning: In a future version of pandas all arguments of concat except for the argument 'objs' will be keyword-only\n",
      "  x = pd.concat(x[::order], 1)\n"
     ]
    }
   ],
   "source": [
    "X = sm.add_constant(X)"
   ]
  },
  {
   "cell_type": "code",
   "execution_count": 13,
   "id": "31031d12-4180-4452-8d0b-509f61cd9854",
   "metadata": {},
   "outputs": [
    {
     "data": {
      "text/html": [
       "<div>\n",
       "<style scoped>\n",
       "    .dataframe tbody tr th:only-of-type {\n",
       "        vertical-align: middle;\n",
       "    }\n",
       "\n",
       "    .dataframe tbody tr th {\n",
       "        vertical-align: top;\n",
       "    }\n",
       "\n",
       "    .dataframe thead th {\n",
       "        text-align: right;\n",
       "    }\n",
       "</style>\n",
       "<table border=\"1\" class=\"dataframe\">\n",
       "  <thead>\n",
       "    <tr style=\"text-align: right;\">\n",
       "      <th></th>\n",
       "      <th>const</th>\n",
       "      <th>act</th>\n",
       "    </tr>\n",
       "  </thead>\n",
       "  <tbody>\n",
       "    <tr>\n",
       "      <th>0</th>\n",
       "      <td>1.0</td>\n",
       "      <td>21</td>\n",
       "    </tr>\n",
       "    <tr>\n",
       "      <th>1</th>\n",
       "      <td>1.0</td>\n",
       "      <td>24</td>\n",
       "    </tr>\n",
       "    <tr>\n",
       "      <th>2</th>\n",
       "      <td>1.0</td>\n",
       "      <td>26</td>\n",
       "    </tr>\n",
       "    <tr>\n",
       "      <th>3</th>\n",
       "      <td>1.0</td>\n",
       "      <td>27</td>\n",
       "    </tr>\n",
       "    <tr>\n",
       "      <th>4</th>\n",
       "      <td>1.0</td>\n",
       "      <td>29</td>\n",
       "    </tr>\n",
       "    <tr>\n",
       "      <th>5</th>\n",
       "      <td>1.0</td>\n",
       "      <td>25</td>\n",
       "    </tr>\n",
       "    <tr>\n",
       "      <th>6</th>\n",
       "      <td>1.0</td>\n",
       "      <td>25</td>\n",
       "    </tr>\n",
       "    <tr>\n",
       "      <th>7</th>\n",
       "      <td>1.0</td>\n",
       "      <td>30</td>\n",
       "    </tr>\n",
       "  </tbody>\n",
       "</table>\n",
       "</div>"
      ],
      "text/plain": [
       "   const  act\n",
       "0    1.0   21\n",
       "1    1.0   24\n",
       "2    1.0   26\n",
       "3    1.0   27\n",
       "4    1.0   29\n",
       "5    1.0   25\n",
       "6    1.0   25\n",
       "7    1.0   30"
      ]
     },
     "execution_count": 13,
     "metadata": {},
     "output_type": "execute_result"
    }
   ],
   "source": [
    "X"
   ]
  },
  {
   "cell_type": "markdown",
   "id": "1e3a744a-312f-43c6-ac1d-3e55b868b9f9",
   "metadata": {},
   "source": [
    "# compute OLS"
   ]
  },
  {
   "cell_type": "code",
   "execution_count": 14,
   "id": "90c55a5e-9dd0-4c4f-946e-d9e38ca4c54d",
   "metadata": {},
   "outputs": [
    {
     "name": "stdout",
     "output_type": "stream",
     "text": [
      "                            OLS Regression Results                            \n",
      "==============================================================================\n",
      "Dep. Variable:                    gpa   R-squared:                       0.577\n",
      "Model:                            OLS   Adj. R-squared:                  0.507\n",
      "Method:                 Least Squares   F-statistic:                     8.199\n",
      "Date:                Mon, 13 Sep 2021   Prob (F-statistic):             0.0287\n",
      "Time:                        05:06:20   Log-Likelihood:                0.29842\n",
      "No. Observations:                   8   AIC:                             3.403\n",
      "Df Residuals:                       6   BIC:                             3.562\n",
      "Df Model:                           1                                         \n",
      "Covariance Type:            nonrobust                                         \n",
      "==============================================================================\n",
      "                 coef    std err          t      P>|t|      [0.025      0.975]\n",
      "------------------------------------------------------------------------------\n",
      "const          0.5681      0.928      0.612      0.563      -1.704       2.840\n",
      "act            0.1022      0.036      2.863      0.029       0.015       0.190\n",
      "==============================================================================\n",
      "Omnibus:                        0.285   Durbin-Watson:                   2.269\n",
      "Prob(Omnibus):                  0.867   Jarque-Bera (JB):                0.227\n",
      "Skew:                          -0.278   Prob(JB):                        0.893\n",
      "Kurtosis:                       2.391   Cond. No.                         254.\n",
      "==============================================================================\n",
      "\n",
      "Notes:\n",
      "[1] Standard Errors assume that the covariance matrix of the errors is correctly specified.\n"
     ]
    },
    {
     "name": "stderr",
     "output_type": "stream",
     "text": [
      "/opt/homebrew/Caskroom/miniforge/base/lib/python3.9/site-packages/scipy/stats/stats.py:1541: UserWarning: kurtosistest only valid for n>=20 ... continuing anyway, n=8\n",
      "  warnings.warn(\"kurtosistest only valid for n>=20 ... continuing \"\n"
     ]
    }
   ],
   "source": [
    "reg1 = sm.OLS(Y, X)\n",
    "\n",
    "result1 = reg1.fit()\n",
    "print(result1.summary())"
   ]
  },
  {
   "cell_type": "markdown",
   "id": "c3bca92a-fc23-4aa7-ae1d-07c6661ee57f",
   "metadata": {},
   "source": [
    "# plot data points and regression line"
   ]
  },
  {
   "cell_type": "code",
   "execution_count": 15,
   "id": "fe45aeb2-c05a-4a71-a302-6136c9e2d864",
   "metadata": {},
   "outputs": [
    {
     "data": {
      "image/png": "[encoded data removed]",
      "text/plain": [
       "<Figure size 432x288 with 1 Axes>"
      ]
     },
     "metadata": {
      "needs_background": "light"
     },
     "output_type": "display_data"
    }
   ],
   "source": [
    "x_val = np.arange(np.min(df['act']), np.max(df['act']), 0.01)\n",
    "\n",
    "y_val = result1.params[0] + result1.params[1] * x_val\n",
    "\n",
    "\n",
    "fig = plt.figure()\n",
    "\n",
    "plt.plot(x_val, y_val, color='red', lw=3, label=\"regression line\")\n",
    "plt.scatter(df['act'], df['gpa'], color=\"blue\", label=\"data\")\n",
    "\n",
    "plt.legend()\n",
    "plt.xlabel('act')\n",
    "plt.ylabel('gpa')\n",
    "plt.title('regression line')\n",
    "\n",
    "plt.show()"
   ]
  },
  {
   "cell_type": "markdown",
   "id": "7a6fd95d-e6bd-47d7-84e8-948ec8cfb82c",
   "metadata": {},
   "source": [
    "# compute predicted value"
   ]
  },
  {
   "cell_type": "code",
   "execution_count": 25,
   "id": "657cbb3d-0371-4542-803a-eaf9e61ff50e",
   "metadata": {},
   "outputs": [],
   "source": [
    "Y_pred = result1.predict()\n",
    "df['Y_pred'] = pd.Series(Y_pred)"
   ]
  },
  {
   "cell_type": "code",
   "execution_count": 26,
   "id": "ebea92fc-b03f-4fe3-acca-f7d778a45e6e",
   "metadata": {},
   "outputs": [
    {
     "data": {
      "text/html": [
       "<div>\n",
       "<style scoped>\n",
       "    .dataframe tbody tr th:only-of-type {\n",
       "        vertical-align: middle;\n",
       "    }\n",
       "\n",
       "    .dataframe tbody tr th {\n",
       "        vertical-align: top;\n",
       "    }\n",
       "\n",
       "    .dataframe thead th {\n",
       "        text-align: right;\n",
       "    }\n",
       "</style>\n",
       "<table border=\"1\" class=\"dataframe\">\n",
       "  <thead>\n",
       "    <tr style=\"text-align: right;\">\n",
       "      <th></th>\n",
       "      <th>gpa</th>\n",
       "      <th>act</th>\n",
       "      <th>Y_pred</th>\n",
       "    </tr>\n",
       "  </thead>\n",
       "  <tbody>\n",
       "    <tr>\n",
       "      <th>0</th>\n",
       "      <td>2.8</td>\n",
       "      <td>21</td>\n",
       "      <td>2.714286</td>\n",
       "    </tr>\n",
       "    <tr>\n",
       "      <th>1</th>\n",
       "      <td>3.4</td>\n",
       "      <td>24</td>\n",
       "      <td>3.020879</td>\n",
       "    </tr>\n",
       "    <tr>\n",
       "      <th>2</th>\n",
       "      <td>3.0</td>\n",
       "      <td>26</td>\n",
       "      <td>3.225275</td>\n",
       "    </tr>\n",
       "    <tr>\n",
       "      <th>3</th>\n",
       "      <td>3.5</td>\n",
       "      <td>27</td>\n",
       "      <td>3.327473</td>\n",
       "    </tr>\n",
       "    <tr>\n",
       "      <th>4</th>\n",
       "      <td>3.6</td>\n",
       "      <td>29</td>\n",
       "      <td>3.531868</td>\n",
       "    </tr>\n",
       "    <tr>\n",
       "      <th>5</th>\n",
       "      <td>3.0</td>\n",
       "      <td>25</td>\n",
       "      <td>3.123077</td>\n",
       "    </tr>\n",
       "    <tr>\n",
       "      <th>6</th>\n",
       "      <td>2.7</td>\n",
       "      <td>25</td>\n",
       "      <td>3.123077</td>\n",
       "    </tr>\n",
       "    <tr>\n",
       "      <th>7</th>\n",
       "      <td>3.7</td>\n",
       "      <td>30</td>\n",
       "      <td>3.634066</td>\n",
       "    </tr>\n",
       "  </tbody>\n",
       "</table>\n",
       "</div>"
      ],
      "text/plain": [
       "   gpa  act    Y_pred\n",
       "0  2.8   21  2.714286\n",
       "1  3.4   24  3.020879\n",
       "2  3.0   26  3.225275\n",
       "3  3.5   27  3.327473\n",
       "4  3.6   29  3.531868\n",
       "5  3.0   25  3.123077\n",
       "6  2.7   25  3.123077\n",
       "7  3.7   30  3.634066"
      ]
     },
     "execution_count": 26,
     "metadata": {},
     "output_type": "execute_result"
    }
   ],
   "source": [
    "df"
   ]
  },
  {
   "cell_type": "markdown",
   "id": "9be16dcd-0f76-4ca2-961b-24e01ac49bc7",
   "metadata": {},
   "source": [
    "# compute prediction residual"
   ]
  },
  {
   "cell_type": "code",
   "execution_count": 27,
   "id": "484cb436-307a-409b-88b1-44f7ccf158e1",
   "metadata": {},
   "outputs": [],
   "source": [
    "df['residual'] = df['gpa'] - df['Y_pred']"
   ]
  },
  {
   "cell_type": "code",
   "execution_count": 28,
   "id": "cbedc10a-16ce-4f15-9380-b1562c9e2ad3",
   "metadata": {},
   "outputs": [
    {
     "data": {
      "text/html": [
       "<div>\n",
       "<style scoped>\n",
       "    .dataframe tbody tr th:only-of-type {\n",
       "        vertical-align: middle;\n",
       "    }\n",
       "\n",
       "    .dataframe tbody tr th {\n",
       "        vertical-align: top;\n",
       "    }\n",
       "\n",
       "    .dataframe thead th {\n",
       "        text-align: right;\n",
       "    }\n",
       "</style>\n",
       "<table border=\"1\" class=\"dataframe\">\n",
       "  <thead>\n",
       "    <tr style=\"text-align: right;\">\n",
       "      <th></th>\n",
       "      <th>gpa</th>\n",
       "      <th>act</th>\n",
       "      <th>Y_pred</th>\n",
       "      <th>residual</th>\n",
       "    </tr>\n",
       "  </thead>\n",
       "  <tbody>\n",
       "    <tr>\n",
       "      <th>0</th>\n",
       "      <td>2.8</td>\n",
       "      <td>21</td>\n",
       "      <td>2.714286</td>\n",
       "      <td>0.085714</td>\n",
       "    </tr>\n",
       "    <tr>\n",
       "      <th>1</th>\n",
       "      <td>3.4</td>\n",
       "      <td>24</td>\n",
       "      <td>3.020879</td>\n",
       "      <td>0.379121</td>\n",
       "    </tr>\n",
       "    <tr>\n",
       "      <th>2</th>\n",
       "      <td>3.0</td>\n",
       "      <td>26</td>\n",
       "      <td>3.225275</td>\n",
       "      <td>-0.225275</td>\n",
       "    </tr>\n",
       "    <tr>\n",
       "      <th>3</th>\n",
       "      <td>3.5</td>\n",
       "      <td>27</td>\n",
       "      <td>3.327473</td>\n",
       "      <td>0.172527</td>\n",
       "    </tr>\n",
       "    <tr>\n",
       "      <th>4</th>\n",
       "      <td>3.6</td>\n",
       "      <td>29</td>\n",
       "      <td>3.531868</td>\n",
       "      <td>0.068132</td>\n",
       "    </tr>\n",
       "    <tr>\n",
       "      <th>5</th>\n",
       "      <td>3.0</td>\n",
       "      <td>25</td>\n",
       "      <td>3.123077</td>\n",
       "      <td>-0.123077</td>\n",
       "    </tr>\n",
       "    <tr>\n",
       "      <th>6</th>\n",
       "      <td>2.7</td>\n",
       "      <td>25</td>\n",
       "      <td>3.123077</td>\n",
       "      <td>-0.423077</td>\n",
       "    </tr>\n",
       "    <tr>\n",
       "      <th>7</th>\n",
       "      <td>3.7</td>\n",
       "      <td>30</td>\n",
       "      <td>3.634066</td>\n",
       "      <td>0.065934</td>\n",
       "    </tr>\n",
       "  </tbody>\n",
       "</table>\n",
       "</div>"
      ],
      "text/plain": [
       "   gpa  act    Y_pred  residual\n",
       "0  2.8   21  2.714286  0.085714\n",
       "1  3.4   24  3.020879  0.379121\n",
       "2  3.0   26  3.225275 -0.225275\n",
       "3  3.5   27  3.327473  0.172527\n",
       "4  3.6   29  3.531868  0.068132\n",
       "5  3.0   25  3.123077 -0.123077\n",
       "6  2.7   25  3.123077 -0.423077\n",
       "7  3.7   30  3.634066  0.065934"
      ]
     },
     "execution_count": 28,
     "metadata": {},
     "output_type": "execute_result"
    }
   ],
   "source": [
    "df"
   ]
  },
  {
   "cell_type": "markdown",
   "id": "32df458e-ca3e-4d79-8585-41dafc358881",
   "metadata": {},
   "source": [
    "# compute the summary statistics of prediction residual"
   ]
  },
  {
   "cell_type": "code",
   "execution_count": 33,
   "id": "db5ab62a-ca96-4e2c-9e12-e301071d52ee",
   "metadata": {},
   "outputs": [
    {
     "data": {
      "text/plain": [
       "count    8.0000\n",
       "mean    -0.0000\n",
       "std      0.2492\n",
       "min     -0.4231\n",
       "25%     -0.1486\n",
       "50%      0.0670\n",
       "75%      0.1074\n",
       "max      0.3791\n",
       "Name: residual, dtype: float64"
      ]
     },
     "execution_count": 33,
     "metadata": {},
     "output_type": "execute_result"
    }
   ],
   "source": [
    "sum_df = df['residual'].describe()\n",
    "sum_df.round(4)"
   ]
  },
  {
   "cell_type": "markdown",
   "id": "558aea9e-b57d-4dad-948a-a93d50900a39",
   "metadata": {},
   "source": [
    "# predict for a given value of X\n",
    "\n",
    "## 1 here stand for the intercept"
   ]
  },
  {
   "cell_type": "code",
   "execution_count": 37,
   "id": "fe4fc1bc-8fdb-4736-a5e0-f036b5dfd369",
   "metadata": {},
   "outputs": [
    {
     "data": {
      "text/plain": [
       "array([2.61208793])"
      ]
     },
     "execution_count": 37,
     "metadata": {},
     "output_type": "execute_result"
    }
   ],
   "source": [
    "result1.predict([1, 20])"
   ]
  },
  {
   "cell_type": "markdown",
   "id": "8b81e67c-c1df-46c4-b981-7db91d3b7616",
   "metadata": {},
   "source": [
    "# How much of the variation in GPA for these eight students is explained by ACT?\n",
    "\n",
    "## that's just R2"
   ]
  },
  {
   "cell_type": "code",
   "execution_count": 42,
   "id": "01f88d6d-380d-49e2-a301-e30800bdeaee",
   "metadata": {
    "tags": []
   },
   "outputs": [
    {
     "data": {
      "text/plain": [
       "0.577423775649966"
      ]
     },
     "execution_count": 42,
     "metadata": {},
     "output_type": "execute_result"
    }
   ],
   "source": [
    "result1.rsquared"
   ]
  },
  {
   "cell_type": "markdown",
   "id": "2f6f7397-29e3-4f3d-bc37-fbaca0c92b3b",
   "metadata": {},
   "source": [
    "# produce HTML output"
   ]
  },
  {
   "cell_type": "code",
   "execution_count": 43,
   "id": "02fa5689-7963-4368-806a-71cf029df043",
   "metadata": {},
   "outputs": [
    {
     "name": "stdout",
     "output_type": "stream",
     "text": [
      "[NbConvertApp] Converting notebook Q2_Python.ipynb to html\n",
      "[NbConvertApp] Writing 608381 bytes to Q2_Python.html\n"
     ]
    }
   ],
   "source": [
    "!jupyter nbconvert --to html Q2_Python.ipynb"
   ]
  },
  {
   "cell_type": "code",
   "execution_count": null,
   "id": "dc66e248-cbe8-4c97-a8bf-fb312c212917",
   "metadata": {},
   "outputs": [],
   "source": []
  }
 ],
 "metadata": {
  "kernelspec": {
   "display_name": "Python 3 (ipykernel)",
   "language": "python",
   "name": "python3"
  },
  "language_info": {
   "codemirror_mode": {
    "name": "ipython",
    "version": 3
   },
   "file_extension": ".py",
   "mimetype": "text/x-python",
   "name": "python",
   "nbconvert_exporter": "python",
   "pygments_lexer": "ipython3",
   "version": "3.9.7"
  }
 },
 "nbformat": 4,
 "nbformat_minor": 5
}
