{
 "cells": [
  {
   "cell_type": "markdown",
   "id": "e2cb9a50-735e-4cbd-8c5d-95ce1088b5ca",
   "metadata": {},
   "source": [
    "# load data into Stata"
   ]
  },
  {
   "cell_type": "code",
   "execution_count": 41,
   "id": "0edf9a76-81bc-40d1-891c-69f9567a1883",
   "metadata": {},
   "outputs": [],
   "source": [
    "use \"/Users/ning/Downloads/Q2/Q2.dta\", clear"
   ]
  },
  {
   "cell_type": "markdown",
   "id": "ecea2cea-fcce-4263-8332-988fc4077705",
   "metadata": {},
   "source": [
    "# list all variable names in the dataset"
   ]
  },
  {
   "cell_type": "code",
   "execution_count": 42,
   "id": "4019b607-a05e-489d-af48-30c0c4821122",
   "metadata": {},
   "outputs": [
    {
     "name": "stdout",
     "output_type": "stream",
     "text": [
      "gpa  act\n"
     ]
    }
   ],
   "source": [
    "ds"
   ]
  },
  {
   "cell_type": "markdown",
   "id": "1ee60e48-a683-4db4-99e7-2bad19b97efb",
   "metadata": {},
   "source": [
    "# list all the observations in your dataset"
   ]
  },
  {
   "cell_type": "code",
   "execution_count": 43,
   "id": "c9948dfe-04af-4769-bb06-2afd8866d5b7",
   "metadata": {},
   "outputs": [
    {
     "name": "stdout",
     "output_type": "stream",
     "text": [
      "\n",
      "     +-----------+\n",
      "     | gpa   act |\n",
      "     |-----------|\n",
      "  1. | 2.8    21 |\n",
      "  2. | 3.4    24 |\n",
      "  3. |   3    26 |\n",
      "  4. | 3.5    27 |\n",
      "  5. | 3.6    29 |\n",
      "     |-----------|\n",
      "  6. |   3    25 |\n",
      "  7. | 2.7    25 |\n",
      "  8. | 3.7    30 |\n",
      "     +-----------+\n"
     ]
    }
   ],
   "source": [
    "list"
   ]
  },
  {
   "cell_type": "markdown",
   "id": "98ece034-5ddf-4f90-88fb-3bf4430d1edd",
   "metadata": {},
   "source": [
    "# compute summary statistics"
   ]
  },
  {
   "cell_type": "code",
   "execution_count": 44,
   "id": "8ce31f06-7a6b-4b21-9554-f38680a46195",
   "metadata": {},
   "outputs": [
    {
     "name": "stdout",
     "output_type": "stream",
     "text": [
      "\n",
      "    Variable |        Obs        Mean    Std. Dev.       Min        Max\n",
      "-------------+---------------------------------------------------------\n",
      "         gpa |          8      3.2125    .3833592        2.7        3.7\n",
      "         act |          8      25.875    2.850439         21         30\n"
     ]
    }
   ],
   "source": [
    "sum"
   ]
  },
  {
   "cell_type": "markdown",
   "id": "849237fd-625d-45ba-96d5-997d60aa1253",
   "metadata": {},
   "source": [
    "# regression"
   ]
  },
  {
   "cell_type": "code",
   "execution_count": 45,
   "id": "babace67-4b04-447b-a53b-a486ce349031",
   "metadata": {},
   "outputs": [
    {
     "name": "stdout",
     "output_type": "stream",
     "text": [
      "\n",
      "      Source |       SS           df       MS      Number of obs   =         8\n",
      "-------------+----------------------------------   F(1, 6)         =      8.20\n",
      "       Model |  .594024707         1  .594024707   Prob > F        =    0.0287\n",
      "    Residual |  .434725292         6  .072454215   R-squared       =    0.5774\n",
      "-------------+----------------------------------   Adj R-squared   =    0.5070\n",
      "       Total |     1.02875         7  .146964286   Root MSE        =    .26917\n",
      "\n",
      "------------------------------------------------------------------------------\n",
      "         gpa |      Coef.   Std. Err.      t    P>|t|     [95% Conf. Interval]\n",
      "-------------+----------------------------------------------------------------\n",
      "         act |   .1021978    .035692     2.86   0.029     .0148626     .189533\n",
      "       _cons |   .5681319   .9284214     0.61   0.563    -1.703633    2.839897\n",
      "------------------------------------------------------------------------------\n"
     ]
    }
   ],
   "source": [
    "reg gpa act"
   ]
  },
  {
   "cell_type": "markdown",
   "id": "488d02ac-172f-4d11-851c-3348dffb7b8d",
   "metadata": {},
   "source": [
    "# plot data points and regression line"
   ]
  },
  {
   "cell_type": "code",
   "execution_count": 46,
   "id": "ed670b82-e65e-4ad3-97eb-0116b51df422",
   "metadata": {},
   "outputs": [
    {
     "data": {
      "application/pdf": "[encoded data removed]",
      "image/svg+xml": [
       "<?xml version=\"1.0\" encoding=\"UTF-8\" standalone=\"no\"?>\n",
       "<!-- This is a Stata 14.2 generated SVG file (http://www.stata.com) -->\n",
       "\n",
       "<svg version=\"1.1\" width=\"600px\" height=\"436px\" viewBox=\"0 0 3960 2880\" xmlns=\"http://www.w3.org/2000/svg\">\n",
       "\t<desc>Stata Graph - Graph</desc>\n",
       "\t<rect x=\"0.00\" y=\"0.00\" width=\"3959.88\" height=\"2880.00\" style=\"fill:#EAF2F3;stroke:#EAF2F3;stroke-width:5.76\"/>\n",
       "\t<rect x=\"290.81\" y=\"100.86\" width=\"3568.21\" height=\"2132.77\" style=\"fill:#FFFFFF;stroke:#FFFFFF;stroke-width:5.76\"/>\n",
       "\t<line x1=\"290.81\" y1=\"2170.27\" x2=\"3859.02\" y2=\"2170.27\" style=\"stroke:#EAF2F3;stroke-width:8.64\"/>\n",
       "\t<line x1=\"290.81\" y1=\"1501.63\" x2=\"3859.02\" y2=\"1501.63\" style=\"stroke:#EAF2F3;stroke-width:8.64\"/>\n",
       "\t<line x1=\"290.81\" y1=\"832.86\" x2=\"3859.02\" y2=\"832.86\" style=\"stroke:#EAF2F3;stroke-width:8.64\"/>\n",
       "\t<line x1=\"290.81\" y1=\"164.22\" x2=\"3859.02\" y2=\"164.22\" style=\"stroke:#EAF2F3;stroke-width:8.64\"/>\n",
       "\t<circle cx=\"698.20\" cy=\"1769.19\" r=\"22.03\" style=\"fill:#1A476F;stroke:#1A476F;stroke-width:8.64\"/>\n",
       "\t<circle cx=\"1730.77\" cy=\"966.64\" r=\"22.03\" style=\"fill:#1A476F;stroke:#1A476F;stroke-width:8.64\"/>\n",
       "\t<circle cx=\"2419.07\" cy=\"1501.63\" r=\"22.03\" style=\"fill:#1A476F;stroke:#1A476F;stroke-width:8.64\"/>\n",
       "\t<circle cx=\"2763.21\" cy=\"832.99\" r=\"22.03\" style=\"fill:#1A476F;stroke:#1A476F;stroke-width:8.64\"/>\n",
       "\t<circle cx=\"3451.51\" cy=\"699.21\" r=\"22.03\" style=\"fill:#1A476F;stroke:#1A476F;stroke-width:8.64\"/>\n",
       "\t<circle cx=\"2074.92\" cy=\"1501.63\" r=\"22.03\" style=\"fill:#1A476F;stroke:#1A476F;stroke-width:8.64\"/>\n",
       "\t<circle cx=\"2074.92\" cy=\"1902.84\" r=\"22.03\" style=\"fill:#1A476F;stroke:#1A476F;stroke-width:8.64\"/>\n",
       "\t<circle cx=\"3795.66\" cy=\"565.43\" r=\"22.03\" style=\"fill:#1A476F;stroke:#1A476F;stroke-width:8.64\"/>\n",
       "\t<line x1=\"698.20\" y1=\"1883.78\" x2=\"2246.93\" y2=\"1268.72\" stroke-linecap=\"round\" style=\"stroke:#90353B;stroke-width:8.64\"/>\n",
       "\t<line x1=\"2246.93\" y1=\"1268.72\" x2=\"3795.66\" y2=\"653.67\" stroke-linecap=\"round\" style=\"stroke:#90353B;stroke-width:8.64\"/>\n",
       "\t<line x1=\"290.81\" y1=\"2233.63\" x2=\"290.81\" y2=\"100.86\" style=\"stroke:#000000;stroke-width:5.76\"/>\n",
       "\t<line x1=\"290.81\" y1=\"2170.27\" x2=\"250.84\" y2=\"2170.27\" style=\"stroke:#000000;stroke-width:5.76\"/>\n",
       "\t<text x=\"200.73\" y=\"2170.27\" style=\"font-family:'Helvetica';font-size:99.99px;fill:#000000\" transform=\"rotate(-90 200.73,2170.27)\" text-anchor=\"middle\">2.5</text>\n",
       "\t<line x1=\"290.81\" y1=\"1501.63\" x2=\"250.84\" y2=\"1501.63\" style=\"stroke:#000000;stroke-width:5.76\"/>\n",
       "\t<text x=\"200.73\" y=\"1501.63\" style=\"font-family:'Helvetica';font-size:99.99px;fill:#000000\" transform=\"rotate(-90 200.73,1501.63)\" text-anchor=\"middle\">3</text>\n",
       "\t<line x1=\"290.81\" y1=\"832.86\" x2=\"250.84\" y2=\"832.86\" style=\"stroke:#000000;stroke-width:5.76\"/>\n",
       "\t<text x=\"200.73\" y=\"832.86\" style=\"font-family:'Helvetica';font-size:99.99px;fill:#000000\" transform=\"rotate(-90 200.73,832.86)\" text-anchor=\"middle\">3.5</text>\n",
       "\t<line x1=\"290.81\" y1=\"164.22\" x2=\"250.84\" y2=\"164.22\" style=\"stroke:#000000;stroke-width:5.76\"/>\n",
       "\t<text x=\"200.73\" y=\"164.22\" style=\"font-family:'Helvetica';font-size:99.99px;fill:#000000\" transform=\"rotate(-90 200.73,164.22)\" text-anchor=\"middle\">4</text>\n",
       "\t<line x1=\"290.81\" y1=\"2233.63\" x2=\"3859.02\" y2=\"2233.63\" style=\"stroke:#000000;stroke-width:5.76\"/>\n",
       "\t<line x1=\"354.17\" y1=\"2233.63\" x2=\"354.17\" y2=\"2273.73\" style=\"stroke:#000000;stroke-width:5.76\"/>\n",
       "\t<text x=\"354.17\" y=\"2363.59\" style=\"font-family:'Helvetica';font-size:99.99px;fill:#000000\" text-anchor=\"middle\">20</text>\n",
       "\t<line x1=\"1042.47\" y1=\"2233.63\" x2=\"1042.47\" y2=\"2273.73\" style=\"stroke:#000000;stroke-width:5.76\"/>\n",
       "\t<text x=\"1042.47\" y=\"2363.59\" style=\"font-family:'Helvetica';font-size:99.99px;fill:#000000\" text-anchor=\"middle\">22</text>\n",
       "\t<line x1=\"1730.77\" y1=\"2233.63\" x2=\"1730.77\" y2=\"2273.73\" style=\"stroke:#000000;stroke-width:5.76\"/>\n",
       "\t<text x=\"1730.77\" y=\"2363.59\" style=\"font-family:'Helvetica';font-size:99.99px;fill:#000000\" text-anchor=\"middle\">24</text>\n",
       "\t<line x1=\"2419.07\" y1=\"2233.63\" x2=\"2419.07\" y2=\"2273.73\" style=\"stroke:#000000;stroke-width:5.76\"/>\n",
       "\t<text x=\"2419.07\" y=\"2363.59\" style=\"font-family:'Helvetica';font-size:99.99px;fill:#000000\" text-anchor=\"middle\">26</text>\n",
       "\t<line x1=\"3107.36\" y1=\"2233.63\" x2=\"3107.36\" y2=\"2273.73\" style=\"stroke:#000000;stroke-width:5.76\"/>\n",
       "\t<text x=\"3107.36\" y=\"2363.59\" style=\"font-family:'Helvetica';font-size:99.99px;fill:#000000\" text-anchor=\"middle\">28</text>\n",
       "\t<line x1=\"3795.66\" y1=\"2233.63\" x2=\"3795.66\" y2=\"2273.73\" style=\"stroke:#000000;stroke-width:5.76\"/>\n",
       "\t<text x=\"3795.66\" y=\"2363.59\" style=\"font-family:'Helvetica';font-size:99.99px;fill:#000000\" text-anchor=\"middle\">30</text>\n",
       "\t<text x=\"2074.92\" y=\"2473.60\" style=\"font-family:'Helvetica';font-size:99.99px;fill:#000000\" text-anchor=\"middle\">ACT</text>\n",
       "\t<rect x=\"1290.96\" y=\"2558.24\" width=\"1567.91\" height=\"186.37\" style=\"fill:#FFFFFF;stroke:#000000;stroke-width:5.76\"/>\n",
       "\t<circle cx=\"1356.18\" cy=\"2651.43\" r=\"22.03\" style=\"fill:#1A476F;stroke:#1A476F;stroke-width:8.64\"/>\n",
       "\t<line x1=\"1795.49\" y1=\"2651.43\" x2=\"2169.83\" y2=\"2651.43\" style=\"stroke:#90353B;stroke-width:8.64\"/>\n",
       "\t<text x=\"1438.10\" y=\"2686.46\" style=\"font-family:'Helvetica';font-size:99.99px;fill:#000000\">GPA</text>\n",
       "\t<text x=\"2229.85\" y=\"2686.46\" style=\"font-family:'Helvetica';font-size:99.99px;fill:#000000\">Fitted values</text>\n",
       "</svg>\n"
      ],
      "text/html": [
       "                <iframe frameborder=\"0\" scrolling=\"no\" height=\"436\" width=\"600\"                srcdoc=\"<html><body>&lt;?xml version=&quot;1.0&quot; encoding=&quot;UTF-8&quot; standalone=&quot;no&quot;?&gt;\n",
       "&lt;!-- This is a Stata 14.2 generated SVG file (http://www.stata.com) --&gt;\n",
       "\n",
       "&lt;svg version=&quot;1.1&quot; width=&quot;600px&quot; height=&quot;436px&quot; viewBox=&quot;0 0 3960 2880&quot; xmlns=&quot;http://www.w3.org/2000/svg&quot;&gt;\n",
       "\t&lt;desc&gt;Stata Graph - Graph&lt;/desc&gt;\n",
       "\t&lt;rect x=&quot;0.00&quot; y=&quot;0.00&quot; width=&quot;3959.88&quot; height=&quot;2880.00&quot; style=&quot;fill:#EAF2F3;stroke:#EAF2F3;stroke-width:5.76&quot;/&gt;\n",
       "\t&lt;rect x=&quot;290.81&quot; y=&quot;100.86&quot; width=&quot;3568.21&quot; height=&quot;2132.77&quot; style=&quot;fill:#FFFFFF;stroke:#FFFFFF;stroke-width:5.76&quot;/&gt;\n",
       "\t&lt;line x1=&quot;290.81&quot; y1=&quot;2170.27&quot; x2=&quot;3859.02&quot; y2=&quot;2170.27&quot; style=&quot;stroke:#EAF2F3;stroke-width:8.64&quot;/&gt;\n",
       "\t&lt;line x1=&quot;290.81&quot; y1=&quot;1501.63&quot; x2=&quot;3859.02&quot; y2=&quot;1501.63&quot; style=&quot;stroke:#EAF2F3;stroke-width:8.64&quot;/&gt;\n",
       "\t&lt;line x1=&quot;290.81&quot; y1=&quot;832.86&quot; x2=&quot;3859.02&quot; y2=&quot;832.86&quot; style=&quot;stroke:#EAF2F3;stroke-width:8.64&quot;/&gt;\n",
       "\t&lt;line x1=&quot;290.81&quot; y1=&quot;164.22&quot; x2=&quot;3859.02&quot; y2=&quot;164.22&quot; style=&quot;stroke:#EAF2F3;stroke-width:8.64&quot;/&gt;\n",
       "\t&lt;circle cx=&quot;698.20&quot; cy=&quot;1769.19&quot; r=&quot;22.03&quot; style=&quot;fill:#1A476F;stroke:#1A476F;stroke-width:8.64&quot;/&gt;\n",
       "\t&lt;circle cx=&quot;1730.77&quot; cy=&quot;966.64&quot; r=&quot;22.03&quot; style=&quot;fill:#1A476F;stroke:#1A476F;stroke-width:8.64&quot;/&gt;\n",
       "\t&lt;circle cx=&quot;2419.07&quot; cy=&quot;1501.63&quot; r=&quot;22.03&quot; style=&quot;fill:#1A476F;stroke:#1A476F;stroke-width:8.64&quot;/&gt;\n",
       "\t&lt;circle cx=&quot;2763.21&quot; cy=&quot;832.99&quot; r=&quot;22.03&quot; style=&quot;fill:#1A476F;stroke:#1A476F;stroke-width:8.64&quot;/&gt;\n",
       "\t&lt;circle cx=&quot;3451.51&quot; cy=&quot;699.21&quot; r=&quot;22.03&quot; style=&quot;fill:#1A476F;stroke:#1A476F;stroke-width:8.64&quot;/&gt;\n",
       "\t&lt;circle cx=&quot;2074.92&quot; cy=&quot;1501.63&quot; r=&quot;22.03&quot; style=&quot;fill:#1A476F;stroke:#1A476F;stroke-width:8.64&quot;/&gt;\n",
       "\t&lt;circle cx=&quot;2074.92&quot; cy=&quot;1902.84&quot; r=&quot;22.03&quot; style=&quot;fill:#1A476F;stroke:#1A476F;stroke-width:8.64&quot;/&gt;\n",
       "\t&lt;circle cx=&quot;3795.66&quot; cy=&quot;565.43&quot; r=&quot;22.03&quot; style=&quot;fill:#1A476F;stroke:#1A476F;stroke-width:8.64&quot;/&gt;\n",
       "\t&lt;line x1=&quot;698.20&quot; y1=&quot;1883.78&quot; x2=&quot;2246.93&quot; y2=&quot;1268.72&quot; stroke-linecap=&quot;round&quot; style=&quot;stroke:#90353B;stroke-width:8.64&quot;/&gt;\n",
       "\t&lt;line x1=&quot;2246.93&quot; y1=&quot;1268.72&quot; x2=&quot;3795.66&quot; y2=&quot;653.67&quot; stroke-linecap=&quot;round&quot; style=&quot;stroke:#90353B;stroke-width:8.64&quot;/&gt;\n",
       "\t&lt;line x1=&quot;290.81&quot; y1=&quot;2233.63&quot; x2=&quot;290.81&quot; y2=&quot;100.86&quot; style=&quot;stroke:#000000;stroke-width:5.76&quot;/&gt;\n",
       "\t&lt;line x1=&quot;290.81&quot; y1=&quot;2170.27&quot; x2=&quot;250.84&quot; y2=&quot;2170.27&quot; style=&quot;stroke:#000000;stroke-width:5.76&quot;/&gt;\n",
       "\t&lt;text x=&quot;200.73&quot; y=&quot;2170.27&quot; style=&quot;font-family:&#x27;Helvetica&#x27;;font-size:99.99px;fill:#000000&quot; transform=&quot;rotate(-90 200.73,2170.27)&quot; text-anchor=&quot;middle&quot;&gt;2.5&lt;/text&gt;\n",
       "\t&lt;line x1=&quot;290.81&quot; y1=&quot;1501.63&quot; x2=&quot;250.84&quot; y2=&quot;1501.63&quot; style=&quot;stroke:#000000;stroke-width:5.76&quot;/&gt;\n",
       "\t&lt;text x=&quot;200.73&quot; y=&quot;1501.63&quot; style=&quot;font-family:&#x27;Helvetica&#x27;;font-size:99.99px;fill:#000000&quot; transform=&quot;rotate(-90 200.73,1501.63)&quot; text-anchor=&quot;middle&quot;&gt;3&lt;/text&gt;\n",
       "\t&lt;line x1=&quot;290.81&quot; y1=&quot;832.86&quot; x2=&quot;250.84&quot; y2=&quot;832.86&quot; style=&quot;stroke:#000000;stroke-width:5.76&quot;/&gt;\n",
       "\t&lt;text x=&quot;200.73&quot; y=&quot;832.86&quot; style=&quot;font-family:&#x27;Helvetica&#x27;;font-size:99.99px;fill:#000000&quot; transform=&quot;rotate(-90 200.73,832.86)&quot; text-anchor=&quot;middle&quot;&gt;3.5&lt;/text&gt;\n",
       "\t&lt;line x1=&quot;290.81&quot; y1=&quot;164.22&quot; x2=&quot;250.84&quot; y2=&quot;164.22&quot; style=&quot;stroke:#000000;stroke-width:5.76&quot;/&gt;\n",
       "\t&lt;text x=&quot;200.73&quot; y=&quot;164.22&quot; style=&quot;font-family:&#x27;Helvetica&#x27;;font-size:99.99px;fill:#000000&quot; transform=&quot;rotate(-90 200.73,164.22)&quot; text-anchor=&quot;middle&quot;&gt;4&lt;/text&gt;\n",
       "\t&lt;line x1=&quot;290.81&quot; y1=&quot;2233.63&quot; x2=&quot;3859.02&quot; y2=&quot;2233.63&quot; style=&quot;stroke:#000000;stroke-width:5.76&quot;/&gt;\n",
       "\t&lt;line x1=&quot;354.17&quot; y1=&quot;2233.63&quot; x2=&quot;354.17&quot; y2=&quot;2273.73&quot; style=&quot;stroke:#000000;stroke-width:5.76&quot;/&gt;\n",
       "\t&lt;text x=&quot;354.17&quot; y=&quot;2363.59&quot; style=&quot;font-family:&#x27;Helvetica&#x27;;font-size:99.99px;fill:#000000&quot; text-anchor=&quot;middle&quot;&gt;20&lt;/text&gt;\n",
       "\t&lt;line x1=&quot;1042.47&quot; y1=&quot;2233.63&quot; x2=&quot;1042.47&quot; y2=&quot;2273.73&quot; style=&quot;stroke:#000000;stroke-width:5.76&quot;/&gt;\n",
       "\t&lt;text x=&quot;1042.47&quot; y=&quot;2363.59&quot; style=&quot;font-family:&#x27;Helvetica&#x27;;font-size:99.99px;fill:#000000&quot; text-anchor=&quot;middle&quot;&gt;22&lt;/text&gt;\n",
       "\t&lt;line x1=&quot;1730.77&quot; y1=&quot;2233.63&quot; x2=&quot;1730.77&quot; y2=&quot;2273.73&quot; style=&quot;stroke:#000000;stroke-width:5.76&quot;/&gt;\n",
       "\t&lt;text x=&quot;1730.77&quot; y=&quot;2363.59&quot; style=&quot;font-family:&#x27;Helvetica&#x27;;font-size:99.99px;fill:#000000&quot; text-anchor=&quot;middle&quot;&gt;24&lt;/text&gt;\n",
       "\t&lt;line x1=&quot;2419.07&quot; y1=&quot;2233.63&quot; x2=&quot;2419.07&quot; y2=&quot;2273.73&quot; style=&quot;stroke:#000000;stroke-width:5.76&quot;/&gt;\n",
       "\t&lt;text x=&quot;2419.07&quot; y=&quot;2363.59&quot; style=&quot;font-family:&#x27;Helvetica&#x27;;font-size:99.99px;fill:#000000&quot; text-anchor=&quot;middle&quot;&gt;26&lt;/text&gt;\n",
       "\t&lt;line x1=&quot;3107.36&quot; y1=&quot;2233.63&quot; x2=&quot;3107.36&quot; y2=&quot;2273.73&quot; style=&quot;stroke:#000000;stroke-width:5.76&quot;/&gt;\n",
       "\t&lt;text x=&quot;3107.36&quot; y=&quot;2363.59&quot; style=&quot;font-family:&#x27;Helvetica&#x27;;font-size:99.99px;fill:#000000&quot; text-anchor=&quot;middle&quot;&gt;28&lt;/text&gt;\n",
       "\t&lt;line x1=&quot;3795.66&quot; y1=&quot;2233.63&quot; x2=&quot;3795.66&quot; y2=&quot;2273.73&quot; style=&quot;stroke:#000000;stroke-width:5.76&quot;/&gt;\n",
       "\t&lt;text x=&quot;3795.66&quot; y=&quot;2363.59&quot; style=&quot;font-family:&#x27;Helvetica&#x27;;font-size:99.99px;fill:#000000&quot; text-anchor=&quot;middle&quot;&gt;30&lt;/text&gt;\n",
       "\t&lt;text x=&quot;2074.92&quot; y=&quot;2473.60&quot; style=&quot;font-family:&#x27;Helvetica&#x27;;font-size:99.99px;fill:#000000&quot; text-anchor=&quot;middle&quot;&gt;ACT&lt;/text&gt;\n",
       "\t&lt;rect x=&quot;1290.96&quot; y=&quot;2558.24&quot; width=&quot;1567.91&quot; height=&quot;186.37&quot; style=&quot;fill:#FFFFFF;stroke:#000000;stroke-width:5.76&quot;/&gt;\n",
       "\t&lt;circle cx=&quot;1356.18&quot; cy=&quot;2651.43&quot; r=&quot;22.03&quot; style=&quot;fill:#1A476F;stroke:#1A476F;stroke-width:8.64&quot;/&gt;\n",
       "\t&lt;line x1=&quot;1795.49&quot; y1=&quot;2651.43&quot; x2=&quot;2169.83&quot; y2=&quot;2651.43&quot; style=&quot;stroke:#90353B;stroke-width:8.64&quot;/&gt;\n",
       "\t&lt;text x=&quot;1438.10&quot; y=&quot;2686.46&quot; style=&quot;font-family:&#x27;Helvetica&#x27;;font-size:99.99px;fill:#000000&quot;&gt;GPA&lt;/text&gt;\n",
       "\t&lt;text x=&quot;2229.85&quot; y=&quot;2686.46&quot; style=&quot;font-family:&#x27;Helvetica&#x27;;font-size:99.99px;fill:#000000&quot;&gt;Fitted values&lt;/text&gt;\n",
       "&lt;/svg&gt;\n",
       "</body></html>\"></iframe>\n"
      ],
      "text/plain": [
       "This front-end cannot display the desired image type."
      ]
     },
     "metadata": {
      "image/svg+xml": {
       "height": 436,
       "width": 600
      },
      "text/html": {
       "height": 436,
       "width": 600
      }
     },
     "output_type": "display_data"
    }
   ],
   "source": [
    "twoway scatter gpa act || lfit gpa act"
   ]
  },
  {
   "cell_type": "markdown",
   "id": "f44a1bca-6e87-4260-b365-ee837942b2a0",
   "metadata": {},
   "source": [
    "# compute prediction residual"
   ]
  },
  {
   "cell_type": "code",
   "execution_count": 47,
   "id": "8e0413a8-a849-4ac1-8bae-72ce8ca6de99",
   "metadata": {},
   "outputs": [],
   "source": [
    "predict uhat, residual"
   ]
  },
  {
   "cell_type": "code",
   "execution_count": 48,
   "id": "00143a95-29e3-4322-84f9-c288fe98e755",
   "metadata": {},
   "outputs": [
    {
     "name": "stdout",
     "output_type": "stream",
     "text": [
      "\n",
      "     +-----------------------+\n",
      "     | gpa   act        uhat |\n",
      "     |-----------------------|\n",
      "  1. | 2.8    21    .0857142 |\n",
      "  2. | 3.4    24     .379121 |\n",
      "  3. |   3    26   -.2252747 |\n",
      "  4. | 3.5    27    .1725275 |\n",
      "  5. | 3.6    29    .0681318 |\n",
      "     |-----------------------|\n",
      "  6. |   3    25   -.1230769 |\n",
      "  7. | 2.7    25   -.4230769 |\n",
      "  8. | 3.7    30    .0659341 |\n",
      "     +-----------------------+\n"
     ]
    }
   ],
   "source": [
    "list"
   ]
  },
  {
   "cell_type": "markdown",
   "id": "0b94f9e7-8fe7-4796-a67f-aaa213691a5f",
   "metadata": {},
   "source": [
    "# compute the summary statistics of prediction residual"
   ]
  },
  {
   "cell_type": "code",
   "execution_count": 49,
   "id": "b929cbf8-1598-43ed-9db2-7981b2bc2a3f",
   "metadata": {},
   "outputs": [
    {
     "name": "stdout",
     "output_type": "stream",
     "text": [
      "\n",
      "    variable |      mean\n",
      "-------------+----------\n",
      "        uhat |  2.79e-09\n",
      "------------------------\n"
     ]
    }
   ],
   "source": [
    "tabstat uhat, stat(mean)"
   ]
  },
  {
   "cell_type": "markdown",
   "id": "46ff2bad-043c-4fd5-b521-f906252c09a3",
   "metadata": {},
   "source": [
    "# predict for a given value of X\n",
    "\n",
    "## insert an empty observation at the end of the table"
   ]
  },
  {
   "cell_type": "code",
   "execution_count": 50,
   "id": "89fb883d-3cfe-4f60-91cd-a2387bac74e2",
   "metadata": {},
   "outputs": [
    {
     "name": "stdout",
     "output_type": "stream",
     "text": [
      "\n",
      "number of observations (_N) was 8, now 9\n",
      "\n",
      "\n",
      "\n",
      "     +----------------------------+\n",
      "     | gpa   act        uhat   id |\n",
      "     |----------------------------|\n",
      "  1. | 2.8    21    .0857142    1 |\n",
      "  2. | 3.4    24     .379121    2 |\n",
      "  3. |   3    26   -.2252747    3 |\n",
      "  4. | 3.5    27    .1725275    4 |\n",
      "  5. | 3.6    29    .0681318    5 |\n",
      "     |----------------------------|\n",
      "  6. |   3    25   -.1230769    6 |\n",
      "  7. | 2.7    25   -.4230769    7 |\n",
      "  8. | 3.7    30    .0659341    8 |\n",
      "  9. |   .     .           .    9 |\n",
      "     +----------------------------+\n"
     ]
    }
   ],
   "source": [
    "set obs `=_N+1'\n",
    "\n",
    "gen id = _n\n",
    "\n",
    "list"
   ]
  },
  {
   "cell_type": "markdown",
   "id": "c46dc75d-3468-4ea0-80da-7ce487559594",
   "metadata": {},
   "source": [
    "# replace the value of act of the last obs as 20"
   ]
  },
  {
   "cell_type": "code",
   "execution_count": 51,
   "id": "f1236bb3-5e06-49d2-90b4-b8979e868d56",
   "metadata": {},
   "outputs": [
    {
     "name": "stdout",
     "output_type": "stream",
     "text": [
      "\n",
      "(1 real change made)\n",
      "\n",
      "\n",
      "     +----------------------------+\n",
      "     | gpa   act        uhat   id |\n",
      "     |----------------------------|\n",
      "  1. | 2.8    21    .0857142    1 |\n",
      "  2. | 3.4    24     .379121    2 |\n",
      "  3. |   3    26   -.2252747    3 |\n",
      "  4. | 3.5    27    .1725275    4 |\n",
      "  5. | 3.6    29    .0681318    5 |\n",
      "     |----------------------------|\n",
      "  6. |   3    25   -.1230769    6 |\n",
      "  7. | 2.7    25   -.4230769    7 |\n",
      "  8. | 3.7    30    .0659341    8 |\n",
      "  9. |   .    20           .    9 |\n",
      "     +----------------------------+\n"
     ]
    }
   ],
   "source": [
    "replace act  = 20 if id == 9\n",
    "\n",
    "list"
   ]
  },
  {
   "cell_type": "markdown",
   "id": "4ec8724a-c524-420e-a5c7-4d02678bf4cc",
   "metadata": {},
   "source": [
    "# predict all observations, including the one you just insert"
   ]
  },
  {
   "cell_type": "code",
   "execution_count": 52,
   "id": "e83cdf55-2092-4899-891c-4e5e035e706e",
   "metadata": {},
   "outputs": [
    {
     "name": "stdout",
     "output_type": "stream",
     "text": [
      "\n",
      "(option xb assumed; fitted values)\n",
      "\n",
      "\n",
      "     +---------------------------------------+\n",
      "     | gpa   act        uhat   id       yhat |\n",
      "     |---------------------------------------|\n",
      "  1. | 2.8    21    .0857142    1   2.714286 |\n",
      "  2. | 3.4    24     .379121    2   3.020879 |\n",
      "  3. |   3    26   -.2252747    3   3.225275 |\n",
      "  4. | 3.5    27    .1725275    4   3.327472 |\n",
      "  5. | 3.6    29    .0681318    5   3.531868 |\n",
      "     |---------------------------------------|\n",
      "  6. |   3    25   -.1230769    6   3.123077 |\n",
      "  7. | 2.7    25   -.4230769    7   3.123077 |\n",
      "  8. | 3.7    30    .0659341    8   3.634066 |\n",
      "  9. |   .    20           .    9   2.612088 |\n",
      "     +---------------------------------------+\n"
     ]
    }
   ],
   "source": [
    "predict yhat\n",
    "\n",
    "list"
   ]
  },
  {
   "cell_type": "code",
   "execution_count": 60,
   "id": "cbc58be7-cdb5-4db4-84a1-83d2193ed968",
   "metadata": {},
   "outputs": [
    {
     "data": {
      "application/pdf": "[encoded data removed]",
      "image/svg+xml": [
       "<?xml version=\"1.0\" encoding=\"UTF-8\" standalone=\"no\"?>\n",
       "<!-- This is a Stata 14.2 generated SVG file (http://www.stata.com) -->\n",
       "\n",
       "<svg version=\"1.1\" width=\"600px\" height=\"436px\" viewBox=\"0 0 3960 2880\" xmlns=\"http://www.w3.org/2000/svg\">\n",
       "\t<desc>Stata Graph - Graph</desc>\n",
       "\t<rect x=\"0.00\" y=\"0.00\" width=\"3959.88\" height=\"2880.00\" style=\"fill:#EAF2F3;stroke:#EAF2F3;stroke-width:5.76\"/>\n",
       "\t<rect x=\"290.81\" y=\"100.86\" width=\"3568.21\" height=\"1992.81\" style=\"fill:#FFFFFF;stroke:#FFFFFF;stroke-width:5.76\"/>\n",
       "\t<line x1=\"290.81\" y1=\"2030.31\" x2=\"3859.02\" y2=\"2030.31\" style=\"stroke:#EAF2F3;stroke-width:8.64\"/>\n",
       "\t<line x1=\"290.81\" y1=\"1408.32\" x2=\"3859.02\" y2=\"1408.32\" style=\"stroke:#EAF2F3;stroke-width:8.64\"/>\n",
       "\t<line x1=\"290.81\" y1=\"786.21\" x2=\"3859.02\" y2=\"786.21\" style=\"stroke:#EAF2F3;stroke-width:8.64\"/>\n",
       "\t<line x1=\"290.81\" y1=\"164.22\" x2=\"3859.02\" y2=\"164.22\" style=\"stroke:#EAF2F3;stroke-width:8.64\"/>\n",
       "\t<circle cx=\"698.20\" cy=\"1657.19\" r=\"22.03\" style=\"fill:#0000FF;stroke:#0000FF;stroke-width:8.64\"/>\n",
       "\t<circle cx=\"1730.77\" cy=\"910.70\" r=\"22.03\" style=\"fill:#0000FF;stroke:#0000FF;stroke-width:8.64\"/>\n",
       "\t<circle cx=\"2419.07\" cy=\"1408.32\" r=\"22.03\" style=\"fill:#0000FF;stroke:#0000FF;stroke-width:8.64\"/>\n",
       "\t<circle cx=\"2763.21\" cy=\"786.33\" r=\"22.03\" style=\"fill:#0000FF;stroke:#0000FF;stroke-width:8.64\"/>\n",
       "\t<circle cx=\"3451.51\" cy=\"661.84\" r=\"22.03\" style=\"fill:#0000FF;stroke:#0000FF;stroke-width:8.64\"/>\n",
       "\t<circle cx=\"2074.92\" cy=\"1408.32\" r=\"22.03\" style=\"fill:#0000FF;stroke:#0000FF;stroke-width:8.64\"/>\n",
       "\t<circle cx=\"2074.92\" cy=\"1781.56\" r=\"22.03\" style=\"fill:#0000FF;stroke:#0000FF;stroke-width:8.64\"/>\n",
       "\t<circle cx=\"3795.66\" cy=\"537.46\" r=\"22.03\" style=\"fill:#0000FF;stroke:#0000FF;stroke-width:8.64\"/>\n",
       "\t<circle cx=\"698.20\" cy=\"1763.74\" r=\"22.03\" style=\"fill:#FF0000;stroke:#FF0000;stroke-width:8.64\"/>\n",
       "\t<circle cx=\"1730.77\" cy=\"1382.33\" r=\"22.03\" style=\"fill:#FF0000;stroke:#FF0000;stroke-width:8.64\"/>\n",
       "\t<circle cx=\"2419.07\" cy=\"1128.02\" r=\"22.03\" style=\"fill:#FF0000;stroke:#FF0000;stroke-width:8.64\"/>\n",
       "\t<circle cx=\"2763.21\" cy=\"1000.92\" r=\"22.03\" style=\"fill:#FF0000;stroke:#FF0000;stroke-width:8.64\"/>\n",
       "\t<circle cx=\"3451.51\" cy=\"746.61\" r=\"22.03\" style=\"fill:#FF0000;stroke:#FF0000;stroke-width:8.64\"/>\n",
       "\t<circle cx=\"2074.92\" cy=\"1255.24\" r=\"22.03\" style=\"fill:#FF0000;stroke:#FF0000;stroke-width:8.64\"/>\n",
       "\t<circle cx=\"2074.92\" cy=\"1255.24\" r=\"22.03\" style=\"fill:#FF0000;stroke:#FF0000;stroke-width:8.64\"/>\n",
       "\t<circle cx=\"3795.66\" cy=\"619.51\" r=\"22.03\" style=\"fill:#FF0000;stroke:#FF0000;stroke-width:8.64\"/>\n",
       "\t<circle cx=\"354.05\" cy=\"1890.96\" r=\"22.03\" style=\"fill:#008000;stroke:#008000;stroke-width:8.64\"/>\n",
       "\t<line x1=\"290.81\" y1=\"2093.67\" x2=\"290.81\" y2=\"100.86\" style=\"stroke:#000000;stroke-width:5.76\"/>\n",
       "\t<line x1=\"290.81\" y1=\"2030.31\" x2=\"250.84\" y2=\"2030.31\" style=\"stroke:#000000;stroke-width:5.76\"/>\n",
       "\t<text x=\"200.73\" y=\"2030.31\" style=\"font-family:'Helvetica';font-size:99.99px;fill:#000000\" transform=\"rotate(-90 200.73,2030.31)\" text-anchor=\"middle\">2.5</text>\n",
       "\t<line x1=\"290.81\" y1=\"1408.32\" x2=\"250.84\" y2=\"1408.32\" style=\"stroke:#000000;stroke-width:5.76\"/>\n",
       "\t<text x=\"200.73\" y=\"1408.32\" style=\"font-family:'Helvetica';font-size:99.99px;fill:#000000\" transform=\"rotate(-90 200.73,1408.32)\" text-anchor=\"middle\">3</text>\n",
       "\t<line x1=\"290.81\" y1=\"786.21\" x2=\"250.84\" y2=\"786.21\" style=\"stroke:#000000;stroke-width:5.76\"/>\n",
       "\t<text x=\"200.73\" y=\"786.21\" style=\"font-family:'Helvetica';font-size:99.99px;fill:#000000\" transform=\"rotate(-90 200.73,786.21)\" text-anchor=\"middle\">3.5</text>\n",
       "\t<line x1=\"290.81\" y1=\"164.22\" x2=\"250.84\" y2=\"164.22\" style=\"stroke:#000000;stroke-width:5.76\"/>\n",
       "\t<text x=\"200.73\" y=\"164.22\" style=\"font-family:'Helvetica';font-size:99.99px;fill:#000000\" transform=\"rotate(-90 200.73,164.22)\" text-anchor=\"middle\">4</text>\n",
       "\t<line x1=\"290.81\" y1=\"2093.67\" x2=\"3859.02\" y2=\"2093.67\" style=\"stroke:#000000;stroke-width:5.76\"/>\n",
       "\t<line x1=\"354.17\" y1=\"2093.67\" x2=\"354.17\" y2=\"2133.64\" style=\"stroke:#000000;stroke-width:5.76\"/>\n",
       "\t<text x=\"354.17\" y=\"2223.62\" style=\"font-family:'Helvetica';font-size:99.99px;fill:#000000\" text-anchor=\"middle\">20</text>\n",
       "\t<line x1=\"1042.47\" y1=\"2093.67\" x2=\"1042.47\" y2=\"2133.64\" style=\"stroke:#000000;stroke-width:5.76\"/>\n",
       "\t<text x=\"1042.47\" y=\"2223.62\" style=\"font-family:'Helvetica';font-size:99.99px;fill:#000000\" text-anchor=\"middle\">22</text>\n",
       "\t<line x1=\"1730.77\" y1=\"2093.67\" x2=\"1730.77\" y2=\"2133.64\" style=\"stroke:#000000;stroke-width:5.76\"/>\n",
       "\t<text x=\"1730.77\" y=\"2223.62\" style=\"font-family:'Helvetica';font-size:99.99px;fill:#000000\" text-anchor=\"middle\">24</text>\n",
       "\t<line x1=\"2419.07\" y1=\"2093.67\" x2=\"2419.07\" y2=\"2133.64\" style=\"stroke:#000000;stroke-width:5.76\"/>\n",
       "\t<text x=\"2419.07\" y=\"2223.62\" style=\"font-family:'Helvetica';font-size:99.99px;fill:#000000\" text-anchor=\"middle\">26</text>\n",
       "\t<line x1=\"3107.36\" y1=\"2093.67\" x2=\"3107.36\" y2=\"2133.64\" style=\"stroke:#000000;stroke-width:5.76\"/>\n",
       "\t<text x=\"3107.36\" y=\"2223.62\" style=\"font-family:'Helvetica';font-size:99.99px;fill:#000000\" text-anchor=\"middle\">28</text>\n",
       "\t<line x1=\"3795.66\" y1=\"2093.67\" x2=\"3795.66\" y2=\"2133.64\" style=\"stroke:#000000;stroke-width:5.76\"/>\n",
       "\t<text x=\"3795.66\" y=\"2223.62\" style=\"font-family:'Helvetica';font-size:99.99px;fill:#000000\" text-anchor=\"middle\">30</text>\n",
       "\t<text x=\"2074.92\" y=\"2333.64\" style=\"font-family:'Helvetica';font-size:99.99px;fill:#000000\" text-anchor=\"middle\">ACT</text>\n",
       "\t<rect x=\"1152.11\" y=\"2418.27\" width=\"1845.61\" height=\"326.34\" style=\"fill:#FFFFFF;stroke:#000000;stroke-width:5.76\"/>\n",
       "\t<circle cx=\"1217.33\" cy=\"2511.46\" r=\"22.03\" style=\"fill:#0000FF;stroke:#0000FF;stroke-width:8.64\"/>\n",
       "\t<circle cx=\"2205.72\" cy=\"2511.46\" r=\"22.03\" style=\"fill:#FF0000;stroke:#FF0000;stroke-width:8.64\"/>\n",
       "\t<circle cx=\"1217.33\" cy=\"2651.43\" r=\"22.03\" style=\"fill:#008000;stroke:#008000;stroke-width:8.64\"/>\n",
       "\t<text x=\"1299.38\" y=\"2546.49\" style=\"font-family:'Helvetica';font-size:99.99px;fill:#000000\">GPA</text>\n",
       "\t<text x=\"2287.77\" y=\"2546.49\" style=\"font-family:'Helvetica';font-size:99.99px;fill:#000000\">predicted GPA</text>\n",
       "\t<text x=\"1299.38\" y=\"2686.46\" style=\"font-family:'Helvetica';font-size:99.99px;fill:#000000\">new observation</text>\n",
       "</svg>\n"
      ],
      "text/html": [
       "                <iframe frameborder=\"0\" scrolling=\"no\" height=\"436\" width=\"600\"                srcdoc=\"<html><body>&lt;?xml version=&quot;1.0&quot; encoding=&quot;UTF-8&quot; standalone=&quot;no&quot;?&gt;\n",
       "&lt;!-- This is a Stata 14.2 generated SVG file (http://www.stata.com) --&gt;\n",
       "\n",
       "&lt;svg version=&quot;1.1&quot; width=&quot;600px&quot; height=&quot;436px&quot; viewBox=&quot;0 0 3960 2880&quot; xmlns=&quot;http://www.w3.org/2000/svg&quot;&gt;\n",
       "\t&lt;desc&gt;Stata Graph - Graph&lt;/desc&gt;\n",
       "\t&lt;rect x=&quot;0.00&quot; y=&quot;0.00&quot; width=&quot;3959.88&quot; height=&quot;2880.00&quot; style=&quot;fill:#EAF2F3;stroke:#EAF2F3;stroke-width:5.76&quot;/&gt;\n",
       "\t&lt;rect x=&quot;290.81&quot; y=&quot;100.86&quot; width=&quot;3568.21&quot; height=&quot;1992.81&quot; style=&quot;fill:#FFFFFF;stroke:#FFFFFF;stroke-width:5.76&quot;/&gt;\n",
       "\t&lt;line x1=&quot;290.81&quot; y1=&quot;2030.31&quot; x2=&quot;3859.02&quot; y2=&quot;2030.31&quot; style=&quot;stroke:#EAF2F3;stroke-width:8.64&quot;/&gt;\n",
       "\t&lt;line x1=&quot;290.81&quot; y1=&quot;1408.32&quot; x2=&quot;3859.02&quot; y2=&quot;1408.32&quot; style=&quot;stroke:#EAF2F3;stroke-width:8.64&quot;/&gt;\n",
       "\t&lt;line x1=&quot;290.81&quot; y1=&quot;786.21&quot; x2=&quot;3859.02&quot; y2=&quot;786.21&quot; style=&quot;stroke:#EAF2F3;stroke-width:8.64&quot;/&gt;\n",
       "\t&lt;line x1=&quot;290.81&quot; y1=&quot;164.22&quot; x2=&quot;3859.02&quot; y2=&quot;164.22&quot; style=&quot;stroke:#EAF2F3;stroke-width:8.64&quot;/&gt;\n",
       "\t&lt;circle cx=&quot;698.20&quot; cy=&quot;1657.19&quot; r=&quot;22.03&quot; style=&quot;fill:#0000FF;stroke:#0000FF;stroke-width:8.64&quot;/&gt;\n",
       "\t&lt;circle cx=&quot;1730.77&quot; cy=&quot;910.70&quot; r=&quot;22.03&quot; style=&quot;fill:#0000FF;stroke:#0000FF;stroke-width:8.64&quot;/&gt;\n",
       "\t&lt;circle cx=&quot;2419.07&quot; cy=&quot;1408.32&quot; r=&quot;22.03&quot; style=&quot;fill:#0000FF;stroke:#0000FF;stroke-width:8.64&quot;/&gt;\n",
       "\t&lt;circle cx=&quot;2763.21&quot; cy=&quot;786.33&quot; r=&quot;22.03&quot; style=&quot;fill:#0000FF;stroke:#0000FF;stroke-width:8.64&quot;/&gt;\n",
       "\t&lt;circle cx=&quot;3451.51&quot; cy=&quot;661.84&quot; r=&quot;22.03&quot; style=&quot;fill:#0000FF;stroke:#0000FF;stroke-width:8.64&quot;/&gt;\n",
       "\t&lt;circle cx=&quot;2074.92&quot; cy=&quot;1408.32&quot; r=&quot;22.03&quot; style=&quot;fill:#0000FF;stroke:#0000FF;stroke-width:8.64&quot;/&gt;\n",
       "\t&lt;circle cx=&quot;2074.92&quot; cy=&quot;1781.56&quot; r=&quot;22.03&quot; style=&quot;fill:#0000FF;stroke:#0000FF;stroke-width:8.64&quot;/&gt;\n",
       "\t&lt;circle cx=&quot;3795.66&quot; cy=&quot;537.46&quot; r=&quot;22.03&quot; style=&quot;fill:#0000FF;stroke:#0000FF;stroke-width:8.64&quot;/&gt;\n",
       "\t&lt;circle cx=&quot;698.20&quot; cy=&quot;1763.74&quot; r=&quot;22.03&quot; style=&quot;fill:#FF0000;stroke:#FF0000;stroke-width:8.64&quot;/&gt;\n",
       "\t&lt;circle cx=&quot;1730.77&quot; cy=&quot;1382.33&quot; r=&quot;22.03&quot; style=&quot;fill:#FF0000;stroke:#FF0000;stroke-width:8.64&quot;/&gt;\n",
       "\t&lt;circle cx=&quot;2419.07&quot; cy=&quot;1128.02&quot; r=&quot;22.03&quot; style=&quot;fill:#FF0000;stroke:#FF0000;stroke-width:8.64&quot;/&gt;\n",
       "\t&lt;circle cx=&quot;2763.21&quot; cy=&quot;1000.92&quot; r=&quot;22.03&quot; style=&quot;fill:#FF0000;stroke:#FF0000;stroke-width:8.64&quot;/&gt;\n",
       "\t&lt;circle cx=&quot;3451.51&quot; cy=&quot;746.61&quot; r=&quot;22.03&quot; style=&quot;fill:#FF0000;stroke:#FF0000;stroke-width:8.64&quot;/&gt;\n",
       "\t&lt;circle cx=&quot;2074.92&quot; cy=&quot;1255.24&quot; r=&quot;22.03&quot; style=&quot;fill:#FF0000;stroke:#FF0000;stroke-width:8.64&quot;/&gt;\n",
       "\t&lt;circle cx=&quot;2074.92&quot; cy=&quot;1255.24&quot; r=&quot;22.03&quot; style=&quot;fill:#FF0000;stroke:#FF0000;stroke-width:8.64&quot;/&gt;\n",
       "\t&lt;circle cx=&quot;3795.66&quot; cy=&quot;619.51&quot; r=&quot;22.03&quot; style=&quot;fill:#FF0000;stroke:#FF0000;stroke-width:8.64&quot;/&gt;\n",
       "\t&lt;circle cx=&quot;354.05&quot; cy=&quot;1890.96&quot; r=&quot;22.03&quot; style=&quot;fill:#008000;stroke:#008000;stroke-width:8.64&quot;/&gt;\n",
       "\t&lt;line x1=&quot;290.81&quot; y1=&quot;2093.67&quot; x2=&quot;290.81&quot; y2=&quot;100.86&quot; style=&quot;stroke:#000000;stroke-width:5.76&quot;/&gt;\n",
       "\t&lt;line x1=&quot;290.81&quot; y1=&quot;2030.31&quot; x2=&quot;250.84&quot; y2=&quot;2030.31&quot; style=&quot;stroke:#000000;stroke-width:5.76&quot;/&gt;\n",
       "\t&lt;text x=&quot;200.73&quot; y=&quot;2030.31&quot; style=&quot;font-family:&#x27;Helvetica&#x27;;font-size:99.99px;fill:#000000&quot; transform=&quot;rotate(-90 200.73,2030.31)&quot; text-anchor=&quot;middle&quot;&gt;2.5&lt;/text&gt;\n",
       "\t&lt;line x1=&quot;290.81&quot; y1=&quot;1408.32&quot; x2=&quot;250.84&quot; y2=&quot;1408.32&quot; style=&quot;stroke:#000000;stroke-width:5.76&quot;/&gt;\n",
       "\t&lt;text x=&quot;200.73&quot; y=&quot;1408.32&quot; style=&quot;font-family:&#x27;Helvetica&#x27;;font-size:99.99px;fill:#000000&quot; transform=&quot;rotate(-90 200.73,1408.32)&quot; text-anchor=&quot;middle&quot;&gt;3&lt;/text&gt;\n",
       "\t&lt;line x1=&quot;290.81&quot; y1=&quot;786.21&quot; x2=&quot;250.84&quot; y2=&quot;786.21&quot; style=&quot;stroke:#000000;stroke-width:5.76&quot;/&gt;\n",
       "\t&lt;text x=&quot;200.73&quot; y=&quot;786.21&quot; style=&quot;font-family:&#x27;Helvetica&#x27;;font-size:99.99px;fill:#000000&quot; transform=&quot;rotate(-90 200.73,786.21)&quot; text-anchor=&quot;middle&quot;&gt;3.5&lt;/text&gt;\n",
       "\t&lt;line x1=&quot;290.81&quot; y1=&quot;164.22&quot; x2=&quot;250.84&quot; y2=&quot;164.22&quot; style=&quot;stroke:#000000;stroke-width:5.76&quot;/&gt;\n",
       "\t&lt;text x=&quot;200.73&quot; y=&quot;164.22&quot; style=&quot;font-family:&#x27;Helvetica&#x27;;font-size:99.99px;fill:#000000&quot; transform=&quot;rotate(-90 200.73,164.22)&quot; text-anchor=&quot;middle&quot;&gt;4&lt;/text&gt;\n",
       "\t&lt;line x1=&quot;290.81&quot; y1=&quot;2093.67&quot; x2=&quot;3859.02&quot; y2=&quot;2093.67&quot; style=&quot;stroke:#000000;stroke-width:5.76&quot;/&gt;\n",
       "\t&lt;line x1=&quot;354.17&quot; y1=&quot;2093.67&quot; x2=&quot;354.17&quot; y2=&quot;2133.64&quot; style=&quot;stroke:#000000;stroke-width:5.76&quot;/&gt;\n",
       "\t&lt;text x=&quot;354.17&quot; y=&quot;2223.62&quot; style=&quot;font-family:&#x27;Helvetica&#x27;;font-size:99.99px;fill:#000000&quot; text-anchor=&quot;middle&quot;&gt;20&lt;/text&gt;\n",
       "\t&lt;line x1=&quot;1042.47&quot; y1=&quot;2093.67&quot; x2=&quot;1042.47&quot; y2=&quot;2133.64&quot; style=&quot;stroke:#000000;stroke-width:5.76&quot;/&gt;\n",
       "\t&lt;text x=&quot;1042.47&quot; y=&quot;2223.62&quot; style=&quot;font-family:&#x27;Helvetica&#x27;;font-size:99.99px;fill:#000000&quot; text-anchor=&quot;middle&quot;&gt;22&lt;/text&gt;\n",
       "\t&lt;line x1=&quot;1730.77&quot; y1=&quot;2093.67&quot; x2=&quot;1730.77&quot; y2=&quot;2133.64&quot; style=&quot;stroke:#000000;stroke-width:5.76&quot;/&gt;\n",
       "\t&lt;text x=&quot;1730.77&quot; y=&quot;2223.62&quot; style=&quot;font-family:&#x27;Helvetica&#x27;;font-size:99.99px;fill:#000000&quot; text-anchor=&quot;middle&quot;&gt;24&lt;/text&gt;\n",
       "\t&lt;line x1=&quot;2419.07&quot; y1=&quot;2093.67&quot; x2=&quot;2419.07&quot; y2=&quot;2133.64&quot; style=&quot;stroke:#000000;stroke-width:5.76&quot;/&gt;\n",
       "\t&lt;text x=&quot;2419.07&quot; y=&quot;2223.62&quot; style=&quot;font-family:&#x27;Helvetica&#x27;;font-size:99.99px;fill:#000000&quot; text-anchor=&quot;middle&quot;&gt;26&lt;/text&gt;\n",
       "\t&lt;line x1=&quot;3107.36&quot; y1=&quot;2093.67&quot; x2=&quot;3107.36&quot; y2=&quot;2133.64&quot; style=&quot;stroke:#000000;stroke-width:5.76&quot;/&gt;\n",
       "\t&lt;text x=&quot;3107.36&quot; y=&quot;2223.62&quot; style=&quot;font-family:&#x27;Helvetica&#x27;;font-size:99.99px;fill:#000000&quot; text-anchor=&quot;middle&quot;&gt;28&lt;/text&gt;\n",
       "\t&lt;line x1=&quot;3795.66&quot; y1=&quot;2093.67&quot; x2=&quot;3795.66&quot; y2=&quot;2133.64&quot; style=&quot;stroke:#000000;stroke-width:5.76&quot;/&gt;\n",
       "\t&lt;text x=&quot;3795.66&quot; y=&quot;2223.62&quot; style=&quot;font-family:&#x27;Helvetica&#x27;;font-size:99.99px;fill:#000000&quot; text-anchor=&quot;middle&quot;&gt;30&lt;/text&gt;\n",
       "\t&lt;text x=&quot;2074.92&quot; y=&quot;2333.64&quot; style=&quot;font-family:&#x27;Helvetica&#x27;;font-size:99.99px;fill:#000000&quot; text-anchor=&quot;middle&quot;&gt;ACT&lt;/text&gt;\n",
       "\t&lt;rect x=&quot;1152.11&quot; y=&quot;2418.27&quot; width=&quot;1845.61&quot; height=&quot;326.34&quot; style=&quot;fill:#FFFFFF;stroke:#000000;stroke-width:5.76&quot;/&gt;\n",
       "\t&lt;circle cx=&quot;1217.33&quot; cy=&quot;2511.46&quot; r=&quot;22.03&quot; style=&quot;fill:#0000FF;stroke:#0000FF;stroke-width:8.64&quot;/&gt;\n",
       "\t&lt;circle cx=&quot;2205.72&quot; cy=&quot;2511.46&quot; r=&quot;22.03&quot; style=&quot;fill:#FF0000;stroke:#FF0000;stroke-width:8.64&quot;/&gt;\n",
       "\t&lt;circle cx=&quot;1217.33&quot; cy=&quot;2651.43&quot; r=&quot;22.03&quot; style=&quot;fill:#008000;stroke:#008000;stroke-width:8.64&quot;/&gt;\n",
       "\t&lt;text x=&quot;1299.38&quot; y=&quot;2546.49&quot; style=&quot;font-family:&#x27;Helvetica&#x27;;font-size:99.99px;fill:#000000&quot;&gt;GPA&lt;/text&gt;\n",
       "\t&lt;text x=&quot;2287.77&quot; y=&quot;2546.49&quot; style=&quot;font-family:&#x27;Helvetica&#x27;;font-size:99.99px;fill:#000000&quot;&gt;predicted GPA&lt;/text&gt;\n",
       "\t&lt;text x=&quot;1299.38&quot; y=&quot;2686.46&quot; style=&quot;font-family:&#x27;Helvetica&#x27;;font-size:99.99px;fill:#000000&quot;&gt;new observation&lt;/text&gt;\n",
       "&lt;/svg&gt;\n",
       "</body></html>\"></iframe>\n"
      ],
      "text/plain": [
       "This front-end cannot display the desired image type."
      ]
     },
     "metadata": {
      "image/svg+xml": {
       "height": 436,
       "width": 600
      },
      "text/html": {
       "height": 436,
       "width": 600
      }
     },
     "output_type": "display_data"
    }
   ],
   "source": [
    "twoway (scatter gpa act if id <9, color(blue)) (scatter yhat act if id <9, color(red)) (scatter yhat act if id == 9, color(green)), legend(label(1 \"GPA\") label(2 \"predicted GPA\") label(3 \"new observation\"))"
   ]
  },
  {
   "cell_type": "markdown",
   "id": "5157abc5-914d-4ae2-94a2-119fd16ef50c",
   "metadata": {},
   "source": [
    "# How much of the variation in GPA for these eight students is explained by ACT?\n",
    "\n",
    "## that's just R2"
   ]
  },
  {
   "cell_type": "code",
   "execution_count": 64,
   "id": "8947afe4-6ae8-4b13-b68a-944aea35e96f",
   "metadata": {
    "tags": []
   },
   "outputs": [
    {
     "name": "stdout",
     "output_type": "stream",
     "text": [
      "\n",
      "\n",
      "the regression R2 is .57742377\n"
     ]
    }
   ],
   "source": [
    "quietly reg gpa act\n",
    "display \"the regression R2 is \" e(r2)"
   ]
  },
  {
   "cell_type": "code",
   "execution_count": 65,
   "id": "1061385c-e69c-49a8-abcc-3af227a08387",
   "metadata": {},
   "outputs": [
    {
     "name": "stdout",
     "output_type": "stream",
     "text": [
      "\n",
      "[NbConvertApp] Converting notebook Q2_Stata.ipynb to html\n",
      "[NbConvertApp] Writing 594691 bytes to Q2_Stata.html\n"
     ]
    }
   ],
   "source": [
    "!jupyter nbconvert --to html Q2_Stata.ipynb"
   ]
  },
  {
   "cell_type": "code",
   "execution_count": null,
   "id": "86b21eec-ae33-41c9-988c-cc39ae19d4af",
   "metadata": {},
   "outputs": [],
   "source": []
  }
 ],
 "metadata": {
  "kernelspec": {
   "display_name": "Stata",
   "language": "stata",
   "name": "stata"
  },
  "language_info": {
   "codemirror_mode": "stata",
   "file_extension": ".do",
   "mimetype": "text/x-stata",
   "name": "stata",
   "version": "15.1"
  }
 },
 "nbformat": 4,
 "nbformat_minor": 5
}
