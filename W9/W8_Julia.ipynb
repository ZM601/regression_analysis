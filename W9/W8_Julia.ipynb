{
 "cells": [
  {
   "cell_type": "markdown",
   "metadata": {},
   "source": [
    "# install all packages"
   ]
  },
  {
   "cell_type": "code",
   "execution_count": 24,
   "metadata": {},
   "outputs": [
    {
     "name": "stderr",
     "output_type": "stream",
     "text": [
      "\u001b[32m\u001b[1m    Updating\u001b[22m\u001b[39m registry at `~/.julia/registries/General`\n",
      "\u001b[32m\u001b[1m   Resolving\u001b[22m\u001b[39m package versions...\n",
      "\u001b[32m\u001b[1m    Updating\u001b[22m\u001b[39m `~/.julia/environments/v1.6/Project.toml`\n",
      " \u001b[90m [44cfe95a] \u001b[39m\u001b[92m+ Pkg\u001b[39m\n",
      " \u001b[90m [10745b16] \u001b[39m\u001b[92m+ Statistics\u001b[39m\n",
      "\u001b[32m\u001b[1m  No Changes\u001b[22m\u001b[39m to `~/.julia/environments/v1.6/Manifest.toml`\n"
     ]
    }
   ],
   "source": [
    "using Pkg\n",
    "\n",
    "pack = [\"Pkg\", \"CSV\", \"DataFrames\", \"Statistics\", \"OnlineStats\", \"Plots\", \"Distributions\", \"StatsPlots\", \"GLM\", \"MLBase\", \"StatsBase\", \"StatsModels\", \"Econometrics\", \"Microeconometrics\", \"RegressionTables\"]\n",
    "\n",
    "Pkg.add(pack)"
   ]
  },
  {
   "cell_type": "markdown",
   "metadata": {},
   "source": [
    "# load all packages"
   ]
  },
  {
   "cell_type": "code",
   "execution_count": 1,
   "metadata": {},
   "outputs": [],
   "source": [
    "using Pkg, CSV, DataFrames, Statistics, OnlineStats, StatsBase, Plots, Distributions, StatsPlots, GLM, MLBase, StatsBase, StatsModels, Econometrics, Microeconometrics, RegressionTables"
   ]
  },
  {
   "cell_type": "markdown",
   "metadata": {},
   "source": [
    "# check the current working folder"
   ]
  },
  {
   "cell_type": "code",
   "execution_count": 2,
   "metadata": {},
   "outputs": [
    {
     "data": {
      "text/plain": [
       "\"/Users/ning/Documents/Working_Directory/Tex_MD/Teaching/tutorial/6002/W8\""
      ]
     },
     "execution_count": 2,
     "metadata": {},
     "output_type": "execute_result"
    }
   ],
   "source": [
    "pwd()"
   ]
  },
  {
   "cell_type": "markdown",
   "metadata": {},
   "source": [
    "# check the files in the working folder for your CSV file"
   ]
  },
  {
   "cell_type": "code",
   "execution_count": 3,
   "metadata": {},
   "outputs": [
    {
     "data": {
      "text/plain": [
       "10-element Vector{String}:\n",
       " \".ipynb_checkpoints\"\n",
       " \"KIELMC.DTA\"\n",
       " \"KIELMC.csv\"\n",
       " \"W8_Julia.ipynb\"\n",
       " \"W8_Python.html\"\n",
       " \"W8_Python.ipynb\"\n",
       " \"W8_R.html\"\n",
       " \"W8_R.ipynb\"\n",
       " \"W8_Stata.html\"\n",
       " \"W8_Stata.ipynb\""
      ]
     },
     "execution_count": 3,
     "metadata": {},
     "output_type": "execute_result"
    }
   ],
   "source": [
    "readdir()"
   ]
  },
  {
   "cell_type": "markdown",
   "metadata": {},
   "source": [
    "# load data into Julia"
   ]
  },
  {
   "cell_type": "code",
   "execution_count": 4,
   "metadata": {},
   "outputs": [],
   "source": [
    "df = CSV.read(\"KIELMC.csv\", DataFrame);"
   ]
  },
  {
   "cell_type": "markdown",
   "metadata": {},
   "source": [
    "# check the summary statistics"
   ]
  },
  {
   "cell_type": "code",
   "execution_count": 5,
   "metadata": {},
   "outputs": [
    {
     "data": {
      "text/html": [
       "<table class=\"data-frame\"><thead><tr><th></th><th>variable</th><th>mean</th><th>min</th><th>median</th><th>max</th><th>nunique</th><th>nmissing</th><th>eltype</th></tr><tr><th></th><th>Symbol</th><th>Float64</th><th>Real</th><th>Float64</th><th>Real</th><th>Nothing</th><th>Nothing</th><th>DataType</th></tr></thead><tbody><p>25 rows × 8 columns</p><tr><th>1</th><td>year</td><td>1979.33</td><td>1978</td><td>1978.0</td><td>1981</td><td></td><td></td><td>Int64</td></tr><tr><th>2</th><td>age</td><td>18.0093</td><td>0</td><td>4.0</td><td>189</td><td></td><td></td><td>Int64</td></tr><tr><th>3</th><td>agesq</td><td>1381.57</td><td>0</td><td>16.0</td><td>35721</td><td></td><td></td><td>Int64</td></tr><tr><th>4</th><td>nbh</td><td>2.20872</td><td>0</td><td>2.0</td><td>6</td><td></td><td></td><td>Int64</td></tr><tr><th>5</th><td>cbd</td><td>15822.4</td><td>1000</td><td>14000.0</td><td>35000</td><td></td><td></td><td>Int64</td></tr><tr><th>6</th><td>intst</td><td>16442.4</td><td>1000</td><td>16000.0</td><td>34000</td><td></td><td></td><td>Int64</td></tr><tr><th>7</th><td>lintst</td><td>9.48051</td><td>6.9078</td><td>9.6803</td><td>10.434</td><td></td><td></td><td>Float64</td></tr><tr><th>8</th><td>price</td><td>96100.7</td><td>26000</td><td>85900.0</td><td>300000</td><td></td><td></td><td>Int64</td></tr><tr><th>9</th><td>rooms</td><td>6.58567</td><td>4</td><td>7.0</td><td>10</td><td></td><td></td><td>Int64</td></tr><tr><th>10</th><td>area</td><td>2106.73</td><td>735</td><td>2056.0</td><td>5136</td><td></td><td></td><td>Int64</td></tr><tr><th>11</th><td>land</td><td>39629.9</td><td>1710</td><td>43560.0</td><td>544500</td><td></td><td></td><td>Int64</td></tr><tr><th>12</th><td>baths</td><td>2.33956</td><td>1</td><td>2.0</td><td>4</td><td></td><td></td><td>Int64</td></tr><tr><th>13</th><td>dist</td><td>20715.6</td><td>5000</td><td>19900.0</td><td>40000</td><td></td><td></td><td>Int64</td></tr><tr><th>14</th><td>ldist</td><td>9.83741</td><td>8.51719</td><td>9.89847</td><td>10.5966</td><td></td><td></td><td>Float64</td></tr><tr><th>15</th><td>wind</td><td>6.97819</td><td>3</td><td>7.0</td><td>11</td><td></td><td></td><td>Int64</td></tr><tr><th>16</th><td>lprice</td><td>11.3781</td><td>10.1659</td><td>11.3609</td><td>12.6115</td><td></td><td></td><td>Float64</td></tr><tr><th>17</th><td>y81</td><td>0.442368</td><td>0</td><td>0.0</td><td>1</td><td></td><td></td><td>Int64</td></tr><tr><th>18</th><td>larea</td><td>7.59723</td><td>6.59987</td><td>7.62852</td><td>8.54403</td><td></td><td></td><td>Float64</td></tr><tr><th>19</th><td>lland</td><td>10.3019</td><td>7.44425</td><td>10.6819</td><td>13.2076</td><td></td><td></td><td>Float64</td></tr><tr><th>20</th><td>y81ldist</td><td>4.34258</td><td>0.0</td><td>0.0</td><td>10.5687</td><td></td><td></td><td>Float64</td></tr><tr><th>21</th><td>lintstsq</td><td>90.4822</td><td>47.7177</td><td>93.7082</td><td>108.868</td><td></td><td></td><td>Float64</td></tr><tr><th>22</th><td>nearinc</td><td>0.299065</td><td>0</td><td>0.0</td><td>1</td><td></td><td></td><td>Int64</td></tr><tr><th>23</th><td>y81nrinc</td><td>0.124611</td><td>0</td><td>0.0</td><td>1</td><td></td><td></td><td>Int64</td></tr><tr><th>24</th><td>rprice</td><td>83721.4</td><td>26000.0</td><td>82000.0</td><td>300000.0</td><td></td><td></td><td>Float64</td></tr><tr><th>25</th><td>lrprice</td><td>11.2614</td><td>10.1659</td><td>11.3145</td><td>12.6115</td><td></td><td></td><td>Float64</td></tr></tbody></table>"
      ],
      "text/latex": [
       "\\begin{tabular}{r|cccccccc}\n",
       "\t& variable & mean & min & median & max & nunique & nmissing & eltype\\\\\n",
       "\t\\hline\n",
       "\t& Symbol & Float64 & Real & Float64 & Real & Nothing & Nothing & DataType\\\\\n",
       "\t\\hline\n",
       "\t1 & year & 1979.33 & 1978 & 1978.0 & 1981 &  &  & Int64 \\\\\n",
       "\t2 & age & 18.0093 & 0 & 4.0 & 189 &  &  & Int64 \\\\\n",
       "\t3 & agesq & 1381.57 & 0 & 16.0 & 35721 &  &  & Int64 \\\\\n",
       "\t4 & nbh & 2.20872 & 0 & 2.0 & 6 &  &  & Int64 \\\\\n",
       "\t5 & cbd & 15822.4 & 1000 & 14000.0 & 35000 &  &  & Int64 \\\\\n",
       "\t6 & intst & 16442.4 & 1000 & 16000.0 & 34000 &  &  & Int64 \\\\\n",
       "\t7 & lintst & 9.48051 & 6.9078 & 9.6803 & 10.434 &  &  & Float64 \\\\\n",
       "\t8 & price & 96100.7 & 26000 & 85900.0 & 300000 &  &  & Int64 \\\\\n",
       "\t9 & rooms & 6.58567 & 4 & 7.0 & 10 &  &  & Int64 \\\\\n",
       "\t10 & area & 2106.73 & 735 & 2056.0 & 5136 &  &  & Int64 \\\\\n",
       "\t11 & land & 39629.9 & 1710 & 43560.0 & 544500 &  &  & Int64 \\\\\n",
       "\t12 & baths & 2.33956 & 1 & 2.0 & 4 &  &  & Int64 \\\\\n",
       "\t13 & dist & 20715.6 & 5000 & 19900.0 & 40000 &  &  & Int64 \\\\\n",
       "\t14 & ldist & 9.83741 & 8.51719 & 9.89847 & 10.5966 &  &  & Float64 \\\\\n",
       "\t15 & wind & 6.97819 & 3 & 7.0 & 11 &  &  & Int64 \\\\\n",
       "\t16 & lprice & 11.3781 & 10.1659 & 11.3609 & 12.6115 &  &  & Float64 \\\\\n",
       "\t17 & y81 & 0.442368 & 0 & 0.0 & 1 &  &  & Int64 \\\\\n",
       "\t18 & larea & 7.59723 & 6.59987 & 7.62852 & 8.54403 &  &  & Float64 \\\\\n",
       "\t19 & lland & 10.3019 & 7.44425 & 10.6819 & 13.2076 &  &  & Float64 \\\\\n",
       "\t20 & y81ldist & 4.34258 & 0.0 & 0.0 & 10.5687 &  &  & Float64 \\\\\n",
       "\t21 & lintstsq & 90.4822 & 47.7177 & 93.7082 & 108.868 &  &  & Float64 \\\\\n",
       "\t22 & nearinc & 0.299065 & 0 & 0.0 & 1 &  &  & Int64 \\\\\n",
       "\t23 & y81nrinc & 0.124611 & 0 & 0.0 & 1 &  &  & Int64 \\\\\n",
       "\t24 & rprice & 83721.4 & 26000.0 & 82000.0 & 300000.0 &  &  & Float64 \\\\\n",
       "\t25 & lrprice & 11.2614 & 10.1659 & 11.3145 & 12.6115 &  &  & Float64 \\\\\n",
       "\\end{tabular}\n"
      ],
      "text/plain": [
       "25×8 DataFrame. Omitted printing of 2 columns\n",
       "│ Row │ variable │ mean     │ min     │ median  │ max      │ nunique │\n",
       "│     │ \u001b[90mSymbol\u001b[39m   │ \u001b[90mFloat64\u001b[39m  │ \u001b[90mReal\u001b[39m    │ \u001b[90mFloat64\u001b[39m │ \u001b[90mReal\u001b[39m     │ \u001b[90mNothing\u001b[39m │\n",
       "├─────┼──────────┼──────────┼─────────┼─────────┼──────────┼─────────┤\n",
       "│ 1   │ year     │ 1979.33  │ 1978    │ 1978.0  │ 1981     │         │\n",
       "│ 2   │ age      │ 18.0093  │ 0       │ 4.0     │ 189      │         │\n",
       "│ 3   │ agesq    │ 1381.57  │ 0       │ 16.0    │ 35721    │         │\n",
       "│ 4   │ nbh      │ 2.20872  │ 0       │ 2.0     │ 6        │         │\n",
       "│ 5   │ cbd      │ 15822.4  │ 1000    │ 14000.0 │ 35000    │         │\n",
       "│ 6   │ intst    │ 16442.4  │ 1000    │ 16000.0 │ 34000    │         │\n",
       "│ 7   │ lintst   │ 9.48051  │ 6.9078  │ 9.6803  │ 10.434   │         │\n",
       "│ 8   │ price    │ 96100.7  │ 26000   │ 85900.0 │ 300000   │         │\n",
       "│ 9   │ rooms    │ 6.58567  │ 4       │ 7.0     │ 10       │         │\n",
       "│ 10  │ area     │ 2106.73  │ 735     │ 2056.0  │ 5136     │         │\n",
       "⋮\n",
       "│ 15  │ wind     │ 6.97819  │ 3       │ 7.0     │ 11       │         │\n",
       "│ 16  │ lprice   │ 11.3781  │ 10.1659 │ 11.3609 │ 12.6115  │         │\n",
       "│ 17  │ y81      │ 0.442368 │ 0       │ 0.0     │ 1        │         │\n",
       "│ 18  │ larea    │ 7.59723  │ 6.59987 │ 7.62852 │ 8.54403  │         │\n",
       "│ 19  │ lland    │ 10.3019  │ 7.44425 │ 10.6819 │ 13.2076  │         │\n",
       "│ 20  │ y81ldist │ 4.34258  │ 0.0     │ 0.0     │ 10.5687  │         │\n",
       "│ 21  │ lintstsq │ 90.4822  │ 47.7177 │ 93.7082 │ 108.868  │         │\n",
       "│ 22  │ nearinc  │ 0.299065 │ 0       │ 0.0     │ 1        │         │\n",
       "│ 23  │ y81nrinc │ 0.124611 │ 0       │ 0.0     │ 1        │         │\n",
       "│ 24  │ rprice   │ 83721.4  │ 26000.0 │ 82000.0 │ 300000.0 │         │\n",
       "│ 25  │ lrprice  │ 11.2614  │ 10.1659 │ 11.3145 │ 12.6115  │         │"
      ]
     },
     "execution_count": 5,
     "metadata": {},
     "output_type": "execute_result"
    }
   ],
   "source": [
    "describe(df)"
   ]
  },
  {
   "cell_type": "markdown",
   "metadata": {},
   "source": [
    "# (c) run the regression, check AICc and BIC"
   ]
  },
  {
   "cell_type": "code",
   "execution_count": 8,
   "metadata": {},
   "outputs": [
    {
     "data": {
      "text/plain": [
       "Continuous Response Model\n",
       "Number of observations: 321\n",
       "Null Loglikelihood: -150.99\n",
       "Loglikelihood: -105.68\n",
       "R-squared: 0.2460\n",
       "LR Test: 90.61 ∼ χ²(3) ⟹  Pr > χ² = 0.0000\n",
       "Formula: lrprice ~ 1 + y81 + nearinc + y81nrinc\n",
       "Variance Covariance Estimator: OIM\n",
       "──────────────────────────────────────────────────────────────────────────────\n",
       "                  PE         SE        t-value  Pr > |t|      2.50%     97.50%\n",
       "──────────────────────────────────────────────────────────────────────────────\n",
       "(Intercept)  11.2854     0.0304664  370.421       <1e-99  11.2255    11.3454\n",
       "y81           0.193094   0.0452494    4.26732     <1e-04   0.104068   0.28212\n",
       "nearinc      -0.339923   0.0544696   -6.2406      <1e-08  -0.447089  -0.232757\n",
       "y81nrinc     -0.0626489  0.0833095   -0.752001    0.4526  -0.226556   0.101259\n",
       "──────────────────────────────────────────────────────────────────────────────"
      ]
     },
     "execution_count": 8,
     "metadata": {},
     "output_type": "execute_result"
    }
   ],
   "source": [
    "fm_c  = @formula(lrprice ~ 1 + y81 + nearinc + y81nrinc)\n",
    "reg_c = fit(EconometricModel, fm_c, df)"
   ]
  },
  {
   "cell_type": "code",
   "execution_count": 15,
   "metadata": {},
   "outputs": [
    {
     "data": {
      "text/plain": [
       "221.55511097887594"
      ]
     },
     "execution_count": 15,
     "metadata": {},
     "output_type": "execute_result"
    }
   ],
   "source": [
    "aicc(reg_c)"
   ]
  },
  {
   "cell_type": "code",
   "execution_count": 13,
   "metadata": {},
   "outputs": [
    {
     "data": {
      "text/plain": [
       "240.22184040404983"
      ]
     },
     "execution_count": 13,
     "metadata": {},
     "output_type": "execute_result"
    }
   ],
   "source": [
    "bic(reg_c)"
   ]
  },
  {
   "cell_type": "markdown",
   "metadata": {},
   "source": [
    "# (e)"
   ]
  },
  {
   "cell_type": "code",
   "execution_count": 9,
   "metadata": {},
   "outputs": [
    {
     "data": {
      "text/plain": [
       "Continuous Response Model\n",
       "Number of observations: 321\n",
       "Null Loglikelihood: -190.11\n",
       "Loglikelihood: -109.25\n",
       "R-squared: 0.3958\n",
       "LR Test: 161.72 ∼ χ²(3) ⟹  Pr > χ² = 0.0000\n",
       "Formula: lprice ~ 1 + y81 + ldist + y81ldist\n",
       "Variance Covariance Estimator: OIM\n",
       "─────────────────────────────────────────────────────────────────────────────\n",
       "                  PE         SE        t-value  Pr > |t|      2.50%    97.50%\n",
       "─────────────────────────────────────────────────────────────────────────────\n",
       "(Intercept)   8.05847    0.507636   15.8745       <1e-41   7.05972   9.05722\n",
       "y81          -0.0113106  0.803795   -0.0140715    0.9888  -1.59274   1.57012\n",
       "ldist         0.316689   0.0514512   6.15514      <1e-08   0.215461  0.417917\n",
       "y81ldist      0.0481862  0.0816642   0.590053     0.5556  -0.112484  0.208857\n",
       "─────────────────────────────────────────────────────────────────────────────"
      ]
     },
     "execution_count": 9,
     "metadata": {},
     "output_type": "execute_result"
    }
   ],
   "source": [
    "fm_e  = @formula(lprice ~ 1 + y81 + ldist + y81ldist)\n",
    "reg_e = fit(EconometricModel, fm_e, df)"
   ]
  },
  {
   "cell_type": "code",
   "execution_count": 16,
   "metadata": {},
   "outputs": [
    {
     "data": {
      "text/plain": [
       "228.68954575836588"
      ]
     },
     "execution_count": 16,
     "metadata": {},
     "output_type": "execute_result"
    }
   ],
   "source": [
    "aicc(reg_e)"
   ]
  },
  {
   "cell_type": "code",
   "execution_count": 17,
   "metadata": {},
   "outputs": [
    {
     "data": {
      "text/plain": [
       "247.35627518353976"
      ]
     },
     "execution_count": 17,
     "metadata": {},
     "output_type": "execute_result"
    }
   ],
   "source": [
    "bic(reg_e)"
   ]
  },
  {
   "cell_type": "markdown",
   "metadata": {},
   "source": [
    "# (f)"
   ]
  },
  {
   "cell_type": "code",
   "execution_count": 19,
   "metadata": {},
   "outputs": [
    {
     "data": {
      "text/plain": [
       "Continuous Response Model\n",
       "Number of observations: 321\n",
       "Null Loglikelihood: -190.11\n",
       "Loglikelihood: 58.03\n",
       "R-squared: 0.7870\n",
       "LR Test: 496.29 ∼ χ²(10) ⟹  Pr > χ² = 0.0000\n",
       "Formula: lprice ~ 1 + y81 + ldist + y81ldist + age + agesq + rooms + baths + lintst + lland + larea\n",
       "Variance Covariance Estimator: OIM\n",
       "─────────────────────────────────────────────────────────────────────────────────────\n",
       "                    PE          SE        t-value  Pr > |t|        2.50%       97.50%\n",
       "─────────────────────────────────────────────────────────────────────────────────────\n",
       "(Intercept)   7.67385      0.500765    15.3243       <1e-39   6.68854      8.65917\n",
       "y81          -0.225447     0.493895    -0.456466     0.6484  -1.19725      0.746352\n",
       "ldist         0.000922594  0.044545     0.0207115    0.9835  -0.086725     0.0885702\n",
       "y81ldist      0.0624668    0.0501979    1.24441      0.2143  -0.0363036    0.161237\n",
       "age          -0.00800747   0.00141503  -5.65888      <1e-07  -0.0107917   -0.00522323\n",
       "agesq         3.56972e-5   8.69372e-6   4.10609      <1e-04   1.85913e-5   5.28032e-5\n",
       "rooms         0.0461389    0.0173163    2.66448      0.0081   0.012067     0.0802108\n",
       "baths         0.101048     0.0277776    3.63774      0.0003   0.046392     0.155704\n",
       "lintst       -0.0599758    0.0316707   -1.89373      0.0592  -0.122292     0.00234019\n",
       "lland         0.0953425    0.0246855    3.8623       0.0001   0.0467709    0.143914\n",
       "larea         0.350743     0.0518649    6.76262      <1e-10   0.248692     0.452793\n",
       "─────────────────────────────────────────────────────────────────────────────────────"
      ]
     },
     "execution_count": 19,
     "metadata": {},
     "output_type": "execute_result"
    }
   ],
   "source": [
    "fm_f  = @formula(lprice ~ 1 + y81 + ldist + y81ldist + age + agesq + rooms + baths + lintst + lland + larea)\n",
    "reg_f = fit(EconometricModel, fm_f, df)"
   ]
  },
  {
   "cell_type": "code",
   "execution_count": 20,
   "metadata": {},
   "outputs": [
    {
     "data": {
      "text/plain": [
       "-91.05572244518835"
      ]
     },
     "execution_count": 20,
     "metadata": {},
     "output_type": "execute_result"
    }
   ],
   "source": [
    "aicc(reg_f)"
   ]
  },
  {
   "cell_type": "code",
   "execution_count": 21,
   "metadata": {},
   "outputs": [
    {
     "data": {
      "text/plain": [
       "-46.81141598061518"
      ]
     },
     "execution_count": 21,
     "metadata": {},
     "output_type": "execute_result"
    }
   ],
   "source": [
    "bic(reg_f)"
   ]
  },
  {
   "cell_type": "markdown",
   "metadata": {},
   "source": [
    "# export code into HTML"
   ]
  },
  {
   "cell_type": "code",
   "execution_count": 27,
   "metadata": {},
   "outputs": [
    {
     "name": "stderr",
     "output_type": "stream",
     "text": [
      "[NbConvertApp] Converting notebook W8_Julia.ipynb to html\n",
      "[NbConvertApp] Writing 602474 bytes to W8_Julia.html\n"
     ]
    },
    {
     "data": {
      "text/plain": [
       "Process(`\u001b[4mjupyter\u001b[24m \u001b[4mnbconvert\u001b[24m \u001b[4m--to\u001b[24m \u001b[4mhtml\u001b[24m \u001b[4mW8_Julia.ipynb\u001b[24m`, ProcessExited(0))"
      ]
     },
     "execution_count": 27,
     "metadata": {},
     "output_type": "execute_result"
    }
   ],
   "source": [
    "run(`rm -rf W8_Julia.html`)\n",
    "run(`jupyter nbconvert --to html W8_Julia.ipynb`)"
   ]
  },
  {
   "cell_type": "code",
   "execution_count": null,
   "metadata": {},
   "outputs": [],
   "source": []
  }
 ],
 "metadata": {
  "kernelspec": {
   "display_name": "Julia 1.6.3",
   "language": "julia",
   "name": "julia-1.6"
  },
  "language_info": {
   "file_extension": ".jl",
   "mimetype": "application/julia",
   "name": "julia",
   "version": "1.6.3"
  },
  "orig_nbformat": 4
 },
 "nbformat": 4,
 "nbformat_minor": 2
}
