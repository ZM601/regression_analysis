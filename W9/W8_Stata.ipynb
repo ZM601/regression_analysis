{
 "cells": [
  {
   "cell_type": "markdown",
   "id": "d53893e5-7613-4ad6-af2a-2a7b5c5a2a05",
   "metadata": {},
   "source": [
    "### Application: Natural Experiment. Consider the empirical model about house pricing and incinerator. In 1980, there was the news that a garbage incinerator would be built somewhere in Springﬁeld; In 1981, the construction actually began. We want to know the eﬀect of the garbage on house prices. Use the data in KIELMC for this exercise. See KIELMC description.txt for variable descriptions."
   ]
  },
  {
   "cell_type": "code",
   "execution_count": 3,
   "id": "af227e16-20c6-4136-8d52-cc769852a161",
   "metadata": {},
   "outputs": [],
   "source": [
    "use \"/mnt/c/Users/xunin/Dropbox/Working_Directory/Tex_MD/Teaching/tutorial/6002/W8/KIELMC.DTA\", clear"
   ]
  },
  {
   "cell_type": "markdown",
   "id": "37aeccd9-4a13-4b1f-b228-f180bca4562e",
   "metadata": {},
   "source": [
    "### (a) The following simple regression model was estimated using only the year 1981 sample of data\n",
    "\n",
    "$$ \\widehat{lrprice} = 11.4785 − 0.4025 \\cdot nearinc $$ \n",
    "\n",
    "### while the following was estimated using only the 1978 sample of data \n",
    "\n",
    "$$ \\widehat{lrprice} = 11.2854 − .3399 \\cdot nearinc $$ \n",
    "\n",
    "### where lrprice is the log of real transaction price (in 1978 dollars) and nearinc is the indicator that a house is nearby the garbage incinerator. Explain why we cannot infer from the estimates in (1), based on the year 1981 data alone, that the location of the incinerator caused the price of houses located nearby to fall by an average of 40.25%. What evidence from model (2), based on the 1978 data, supports this conclusion?"
   ]
  },
  {
   "cell_type": "markdown",
   "id": "72893f78-685d-4909-877c-20093fa841bc",
   "metadata": {},
   "source": [
    "#### Although the slope estimate in (1) based on the year 1981 data showed that the location of the incinerator was associated with a 40.25% decrease in the average selling price for the houses located nearby, it couldn’t be interpreted as a causal eﬀect as the estimate was the combined result of the causal eﬀect and the location eﬀect. This was supported by the estimates in (2) based on the data from 1978, in which year there was no news about the new incinerator. The estimates in (2) suggested that, without any eﬀect of the future incinerator, the location itself was not desirable so that the houses nearby the location of future incinerator had been sold for 33.99% less on average than the houses not nearby (the location of future incinerator)."
   ]
  },
  {
   "cell_type": "markdown",
   "id": "09cc0616-4b73-47d7-a517-18e6c0c1bd2f",
   "metadata": {},
   "source": [
    "### (b) As discussed in class, we may use the model below to estimate the eﬀect of the garbage incinerator\n",
    "\n",
    "$$ lrprice = \\gamma_0 + \\gamma_1 \\cdot y81 + \\gamma_2 \\cdot nearinc + \\gamma_3 \\cdot y81 \\cdot nearinc + u $$\n",
    "\n",
    "### where  y81  is a dummy variable equals to one if the year is 1981. One by one, interpret the coeﬃcients  $\\gamma_1$, $\\gamma_2$, and $\\gamma_3$."
   ]
  },
  {
   "cell_type": "markdown",
   "id": "8a8d7214-6cd9-4595-81c2-1280e0c6931e",
   "metadata": {},
   "source": [
    "#### $\\gamma_0$  captures the average house price sold in 1978; $\\gamma_1$ captures the average house price change from 1978 to 1981, that is, the time eﬀect; $\\gamma_2$ captures the location eﬀect not due to the garbage incinerator; $\\gamma_3$ captures the treatment eﬀect of the garbage incinerator on house prices"
   ]
  },
  {
   "cell_type": "markdown",
   "id": "86d06d21-c8c8-4580-ae4c-ab4588659aab",
   "metadata": {},
   "source": [
    "### (c) Estimate the model (3); Explain brieﬂy why the OLS results of (3) is also called the diﬀerence-in-diﬀerences (DID) estimates. Compare the estimate of $\\gamma_3$  to the slope estimates in (1) and (2)."
   ]
  },
  {
   "cell_type": "code",
   "execution_count": 4,
   "id": "4c18a2a2-b4cc-485c-8878-884a72775b2b",
   "metadata": {},
   "outputs": [
    {
     "name": "stdout",
     "output_type": "stream",
     "text": [
      "\n",
      "      Source |       SS           df       MS      Number of obs   =       321\n",
      "-------------+----------------------------------   F(3, 317)       =     34.47\n",
      "       Model |  11.8433724         3  3.94779079   Prob > F        =    0.0000\n",
      "    Residual |   36.305771       317  .114529246   R-squared       =    0.2460\n",
      "-------------+----------------------------------   Adj R-squared   =    0.2388\n",
      "       Total |  48.1491434       320  .150466073   Root MSE        =    .33842\n",
      "\n",
      "------------------------------------------------------------------------------\n",
      "     lrprice |      Coef.   Std. Err.      t    P>|t|     [95% Conf. Interval]\n",
      "-------------+----------------------------------------------------------------\n",
      "         y81 |   .1930937   .0453207     4.26   0.000     .1039263    .2822611\n",
      "     nearinc |   -.339923   .0545555    -6.23   0.000    -.4472595   -.2325865\n",
      "    y81nrinc |  -.0626489   .0834408    -0.75   0.453    -.2268166    .1015188\n",
      "       _cons |   11.28542   .0305145   369.84   0.000     11.22539    11.34546\n",
      "------------------------------------------------------------------------------\n"
     ]
    }
   ],
   "source": [
    "reg lrprice y81 nearinc y81nrinc"
   ]
  },
  {
   "cell_type": "markdown",
   "id": "0b65ab89-aaf6-4d92-97c3-8f20ad65020f",
   "metadata": {},
   "source": [
    "to validate \"how reliable\" the choice of variable is, let's estimate its AIC / BIC score\n",
    "\n",
    "* smaller the AIC score, more reliable the choice of the variable, i.e. more likely this choice of variable matches the population model\n",
    "\n",
    "* smaller the BIC score, more reliable the choice of the variable for prediction, i.e. more appropriate this choice of variable for prediction\n",
    "\n",
    "* AIC and BIC typically agree with each other on the \"optimal\" choice of the variable choice, given enough data size\n",
    "\n",
    "* if AIC and BIC disagree with each other, the first give u the variables that is most likely to be in the population model; the second give you the best combo for prediction"
   ]
  },
  {
   "cell_type": "code",
   "execution_count": 5,
   "id": "5e41ac4f-ea6b-4118-9538-1bdf96a00ada",
   "metadata": {},
   "outputs": [
    {
     "name": "stdout",
     "output_type": "stream",
     "text": [
      "\n",
      "Akaike's information criterion and Bayesian information criterion\n",
      "\n",
      "-----------------------------------------------------------------------------\n",
      "       Model |        Obs  ll(null)  ll(model)      df         AIC        BIC\n",
      "-------------+---------------------------------------------------------------\n",
      "           . |        321 -150.9887  -105.6752       4    219.3505   234.4362\n",
      "-----------------------------------------------------------------------------\n",
      "               Note: N=Obs used in calculating BIC; see [R] BIC note.\n"
     ]
    }
   ],
   "source": [
    "estat ic"
   ]
  },
  {
   "cell_type": "markdown",
   "id": "2bd435c7-4e7a-46a3-9f62-216333cfd6f4",
   "metadata": {},
   "source": [
    "#### It is interesting to see that the estimate 33.99% for nearinc is the same as the slope estimate in (2), which represents the location eﬀect. More importantly, the estimate for y81·nearinc is only 6.3%, much lower than the slope estimate 40.25% in (1). Note that the slope estimate 40.25% in (1) is roughly the location eﬀect + the treatment eﬀect¶"
   ]
  },
  {
   "cell_type": "markdown",
   "id": "30b807ef-5333-477e-986b-762528027cb3",
   "metadata": {},
   "source": [
    "### (d) We may improve the estimation by replacing nearinc by the variable dist, which is the distance from a house to the incinerator site, in feet. Consider the model\n",
    "\n",
    "$$\\log \\left( price \\right) = \\beta_0 + \\delta_0 \\cdot y81 + \\beta_1 \\cdot \\log \\left( dist \\right) + \\delta_1 \\cdot y81 \\cdot \\log \\left( dist \\right) + \\epsilon$$\n",
    " \n",
    "### If building the incinerator reduces the value of homes closer to the site, what is the sign of $\\delta_1$ ? What does it mean if  $\\beta_1>0$"
   ]
  },
  {
   "cell_type": "markdown",
   "id": "dd5383c0-8861-47b1-b3a4-29c7cc537125",
   "metadata": {},
   "source": [
    "#### Other things equal, houses farther from the incinerator should be worth more, so $\\delta_1>0$. If $\\beta_1>0$, then the incinerator was located farther away from more expensive homes."
   ]
  },
  {
   "cell_type": "markdown",
   "id": "4b98b815-9d0d-417b-8062-40ae6bc92516",
   "metadata": {},
   "source": [
    "### (e) Estimate the model (4) and report the results. Interpret the coeﬃcient on y81·log(dist). What do you conclude?"
   ]
  },
  {
   "cell_type": "code",
   "execution_count": 6,
   "id": "65b5ccec-0171-4d89-aad1-01a88befc0b2",
   "metadata": {},
   "outputs": [
    {
     "name": "stdout",
     "output_type": "stream",
     "text": [
      "\n",
      "      Source |       SS           df       MS      Number of obs   =       321\n",
      "-------------+----------------------------------   F(3, 317)       =     69.22\n",
      "       Model |  24.3172548         3  8.10575159   Prob > F        =    0.0000\n",
      "    Residual |  37.1217306       317  .117103251   R-squared       =    0.3958\n",
      "-------------+----------------------------------   Adj R-squared   =    0.3901\n",
      "       Total |  61.4389853       320  .191996829   Root MSE        =     .3422\n",
      "\n",
      "------------------------------------------------------------------------------\n",
      "      lprice |      Coef.   Std. Err.      t    P>|t|     [95% Conf. Interval]\n",
      "-------------+----------------------------------------------------------------\n",
      "         y81 |  -.0113101   .8050622    -0.01   0.989     -1.59525     1.57263\n",
      "       ldist |    .316689   .0515323     6.15   0.000     .2153005    .4180775\n",
      "    y81ldist |   .0481862   .0817929     0.59   0.556    -.1127394    .2091117\n",
      "       _cons |   8.058468   .5084358    15.85   0.000     7.058133    9.058803\n",
      "------------------------------------------------------------------------------\n"
     ]
    }
   ],
   "source": [
    "reg lprice y81 ldist y81ldist"
   ]
  },
  {
   "cell_type": "markdown",
   "id": "0969cd7a-7fa8-46ff-8ce4-163fad04f9bc",
   "metadata": {},
   "source": [
    "the AIC/BIC score of this model is"
   ]
  },
  {
   "cell_type": "code",
   "execution_count": 7,
   "id": "67fe2922-f9be-43af-921b-d7be3ea8a8b9",
   "metadata": {},
   "outputs": [
    {
     "name": "stdout",
     "output_type": "stream",
     "text": [
      "\n",
      "Akaike's information criterion and Bayesian information criterion\n",
      "\n",
      "-----------------------------------------------------------------------------\n",
      "       Model |        Obs  ll(null)  ll(model)      df         AIC        BIC\n",
      "-------------+---------------------------------------------------------------\n",
      "           . |        321 -190.1091  -109.2425       4    226.4849   241.5707\n",
      "-----------------------------------------------------------------------------\n",
      "               Note: N=Obs used in calculating BIC; see [R] BIC note.\n"
     ]
    }
   ],
   "source": [
    "estat ic"
   ]
  },
  {
   "cell_type": "markdown",
   "id": "f6727e4e-148e-4478-b7eb-f80124c0c0a4",
   "metadata": {},
   "source": [
    "#### While $\\delta_1=.048$ is the expected sign, it is not statistically signiﬁcant ( t statistic ≈ .59)."
   ]
  },
  {
   "cell_type": "markdown",
   "id": "ea99427e-b90a-481f-9363-814f88215abc",
   "metadata": {},
   "source": [
    "### (f) Add age, age2, rooms, baths, log(intst), log(land), and log(area) to (4), where intst is the distance to interstate in feet (for other regressors, see the variable description). Now, what do you conclude about the eﬀect of the incinerator on housing values?"
   ]
  },
  {
   "cell_type": "code",
   "execution_count": 8,
   "id": "18f03caf-3f94-4fea-8b10-748308274ed0",
   "metadata": {},
   "outputs": [
    {
     "name": "stdout",
     "output_type": "stream",
     "text": [
      "\n",
      "      Source |       SS           df       MS      Number of obs   =       321\n",
      "-------------+----------------------------------   F(10, 310)      =    114.55\n",
      "       Model |   48.353762        10   4.8353762   Prob > F        =    0.0000\n",
      "    Residual |  13.0852234       310  .042210398   R-squared       =    0.7870\n",
      "-------------+----------------------------------   Adj R-squared   =    0.7802\n",
      "       Total |  61.4389853       320  .191996829   Root MSE        =    .20545\n",
      "\n",
      "------------------------------------------------------------------------------\n",
      "      lprice |      Coef.   Std. Err.      t    P>|t|     [95% Conf. Interval]\n",
      "-------------+----------------------------------------------------------------\n",
      "         y81 |  -.2254466   .4946914    -0.46   0.649    -1.198824    .7479309\n",
      "       ldist |   .0009226   .0446168     0.02   0.984    -.0868674    .0887125\n",
      "    y81ldist |   .0624668   .0502788     1.24   0.215     -.036464    .1613976\n",
      "         age |  -.0080075   .0014173    -5.65   0.000    -.0107962   -.0052187\n",
      "       agesq |   .0000357   8.71e-06     4.10   0.000     .0000186    .0000528\n",
      "       rooms |   .0461389   .0173442     2.66   0.008     .0120117    .0802662\n",
      "       baths |   .1010478   .0278224     3.63   0.000     .0463032    .1557924\n",
      "      lintst |  -.0599757   .0317217    -1.89   0.060    -.1223929    .0024414\n",
      "       lland |   .0953425   .0247252     3.86   0.000      .046692     .143993\n",
      "       larea |   .3507429   .0519485     6.75   0.000     .2485266    .4529592\n",
      "       _cons |   7.673854   .5015718    15.30   0.000     6.686938    8.660769\n",
      "------------------------------------------------------------------------------\n"
     ]
    }
   ],
   "source": [
    "reg lprice y81 ldist y81ldist age agesq rooms baths lintst lland larea"
   ]
  },
  {
   "cell_type": "markdown",
   "id": "75ca5df7-0823-4c46-bef2-5d3fd3888c10",
   "metadata": {},
   "source": [
    "the AIC/BIC of this model is (smallest among all 3 model, hence the best model for prediction and most likely to be the population model among all 3 candidates)"
   ]
  },
  {
   "cell_type": "code",
   "execution_count": 9,
   "id": "be469003-b8a5-4986-bce9-cd074c9bd921",
   "metadata": {},
   "outputs": [
    {
     "name": "stdout",
     "output_type": "stream",
     "text": [
      "\n",
      "Akaike's information criterion and Bayesian information criterion\n",
      "\n",
      "-----------------------------------------------------------------------------\n",
      "       Model |        Obs  ll(null)  ll(model)      df         AIC        BIC\n",
      "-------------+---------------------------------------------------------------\n",
      "           . |        321 -190.1091   58.11391      11   -94.22782  -52.74197\n",
      "-----------------------------------------------------------------------------\n",
      "               Note: N=Obs used in calculating BIC; see [R] BIC note.\n"
     ]
    }
   ],
   "source": [
    "estat ic"
   ]
  },
  {
   "cell_type": "markdown",
   "id": "06c4dcd8-8dcc-4779-aba1-6701f5c4d13c",
   "metadata": {},
   "source": [
    "#### When we add the list of housing characteristics to the regression, the coeﬃcient on y81·log(dist) becomes .062 (se = .050). So the estimated eﬀect is larger – the elasticity of price with respect to dist is .062 after the incinerator site was chosen – but its t statistic is only 1.24. The p-value for the one-sided alternative H1 : δ1 > 0 is about .108, which is close to being signiﬁcant at the 10% level."
   ]
  },
  {
   "cell_type": "markdown",
   "id": "35eefcd5-bc11-4da5-8469-30429e2b415d",
   "metadata": {},
   "source": [
    "### (g) Why is the coeﬃcient on log(dist) positive and statistically signiﬁcant in part (e) but not in part (f)? What does this say about the controls used in part (f)?"
   ]
  },
  {
   "cell_type": "markdown",
   "id": "61d8d652-7b66-4aa8-8b85-fff47be1894c",
   "metadata": {},
   "source": [
    "#### The coeﬃcient on log(dist) positive and statistically signiﬁcant in part (e) but not in part (f) may be explained by the possibility that the controls used in part (f) suﬃciently capture the location eﬀect."
   ]
  },
  {
   "cell_type": "code",
   "execution_count": 10,
   "id": "6ac60fbf-32bb-48d5-96af-7bcd26c8bc43",
   "metadata": {},
   "outputs": [
    {
     "name": "stdout",
     "output_type": "stream",
     "text": [
      "\n",
      "[NbConvertApp] Converting notebook W8_Stata.ipynb to html\n",
      "[NbConvertApp] Writing 598616 bytes to W8_Stata.html\n"
     ]
    }
   ],
   "source": [
    "!jupyter nbconvert --to html W8_Stata.ipynb"
   ]
  },
  {
   "cell_type": "code",
   "execution_count": null,
   "id": "770f4e63-e7b7-4eb8-af38-a1c6a6a40896",
   "metadata": {},
   "outputs": [],
   "source": []
  }
 ],
 "metadata": {
  "kernelspec": {
   "display_name": "Stata",
   "language": "stata",
   "name": "stata"
  },
  "language_info": {
   "codemirror_mode": "stata",
   "file_extension": ".do",
   "mimetype": "text/x-stata",
   "name": "stata",
   "version": "15.1"
  }
 },
 "nbformat": 4,
 "nbformat_minor": 5
}
