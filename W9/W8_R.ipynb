{
 "cells": [
  {
   "cell_type": "code",
   "execution_count": 3,
   "id": "96ad3a1a-f696-4212-9567-461059c8953c",
   "metadata": {},
   "outputs": [],
   "source": [
    "#clear your memory\n",
    "rm(list = ls())"
   ]
  },
  {
   "cell_type": "markdown",
   "metadata": {},
   "source": [
    "# install all packages"
   ]
  },
  {
   "cell_type": "code",
   "execution_count": 23,
   "id": "878fcb37-bf5d-412a-ba2b-83fa8bc5967a",
   "metadata": {},
   "outputs": [
    {
     "name": "stderr",
     "output_type": "stream",
     "text": [
      "Loading required package: stargazer\n",
      "\n",
      "\n",
      "Please cite as: \n",
      "\n",
      "\n",
      " Hlavac, Marek (2018). stargazer: Well-Formatted Regression and Summary Statistics Tables.\n",
      "\n",
      " R package version 5.2.2. https://CRAN.R-project.org/package=stargazer \n",
      "\n",
      "\n"
     ]
    },
    {
     "data": {
      "text/html": [
       "<style>\n",
       ".dl-inline {width: auto; margin:0; padding: 0}\n",
       ".dl-inline>dt, .dl-inline>dd {float: none; width: auto; display: inline-block}\n",
       ".dl-inline>dt::after {content: \":\\0020\"; padding-right: .5ex}\n",
       ".dl-inline>dt:not(:first-of-type) {padding-left: .5ex}\n",
       "</style><dl class=dl-inline><dt>readr</dt><dd>TRUE</dd><dt>dplyr</dt><dd>TRUE</dd><dt>car</dt><dd>TRUE</dd><dt>Hmisc</dt><dd>TRUE</dd><dt>stargazer</dt><dd>TRUE</dd></dl>\n"
      ],
      "text/latex": [
       "\\begin{description*}\n",
       "\\item[readr] TRUE\n",
       "\\item[dplyr] TRUE\n",
       "\\item[car] TRUE\n",
       "\\item[Hmisc] TRUE\n",
       "\\item[stargazer] TRUE\n",
       "\\end{description*}\n"
      ],
      "text/markdown": [
       "readr\n",
       ":   TRUEdplyr\n",
       ":   TRUEcar\n",
       ":   TRUEHmisc\n",
       ":   TRUEstargazer\n",
       ":   TRUE\n",
       "\n"
      ],
      "text/plain": [
       "    readr     dplyr       car     Hmisc stargazer \n",
       "     TRUE      TRUE      TRUE      TRUE      TRUE "
      ]
     },
     "metadata": {},
     "output_type": "display_data"
    }
   ],
   "source": [
    "#update packages\n",
    "update.packages(ask = FALSE)\n",
    "\n",
    "#make sure all packages are installed\n",
    "ipak <- function(pkg){\n",
    "  new.pkg <- pkg[!(pkg %in% installed.packages()[, \"Package\"])]\n",
    "  if (length(new.pkg))\n",
    "    install.packages(new.pkg, dependencies = TRUE)\n",
    "  sapply(pkg, require, character.only = TRUE)\n",
    "}\n",
    "\n",
    "packages <- c('readr','dplyr', 'car', 'Hmisc', 'stargazer')\n",
    "\n",
    "ipak(packages)"
   ]
  },
  {
   "cell_type": "markdown",
   "metadata": {},
   "source": [
    "# load packages"
   ]
  },
  {
   "cell_type": "code",
   "execution_count": 24,
   "id": "dd349837-4c08-46cc-9132-fce4b5933e6e",
   "metadata": {},
   "outputs": [],
   "source": [
    "library(readr)\n",
    "library(dplyr)\n",
    "library(car)\n",
    "library(Hmisc)\n",
    "library(stargazer)"
   ]
  },
  {
   "cell_type": "markdown",
   "metadata": {},
   "source": [
    "# load data"
   ]
  },
  {
   "cell_type": "code",
   "execution_count": 6,
   "id": "5f41f01a-f7ff-457e-8241-ef102e32c4ba",
   "metadata": {},
   "outputs": [
    {
     "name": "stderr",
     "output_type": "stream",
     "text": [
      "\u001b[1m\u001b[1mRows: \u001b[1m\u001b[22m\u001b[34m\u001b[34m321\u001b[34m\u001b[39m \u001b[1m\u001b[1mColumns: \u001b[1m\u001b[22m\u001b[34m\u001b[34m25\u001b[34m\u001b[39m\n",
      "\n",
      "\u001b[36m--\u001b[39m \u001b[1m\u001b[1mColumn specification\u001b[1m\u001b[22m \u001b[36m--------------------------------------------------------\u001b[39m\n",
      "\u001b[1mDelimiter:\u001b[22m \",\"\n",
      "\u001b[32mdbl\u001b[39m (25): year, age, agesq, nbh, cbd, intst, lintst, price, rooms, area, lan...\n",
      "\n",
      "\n",
      "\u001b[36mi\u001b[39m Use \u001b[30m\u001b[47m\u001b[30m\u001b[47m`spec()`\u001b[47m\u001b[30m\u001b[49m\u001b[39m to retrieve the full column specification for this data.\n",
      "\u001b[36mi\u001b[39m Specify the column types or set \u001b[30m\u001b[47m\u001b[30m\u001b[47m`show_col_types = FALSE`\u001b[47m\u001b[30m\u001b[49m\u001b[39m to quiet this message.\n",
      "\n"
     ]
    }
   ],
   "source": [
    "data <- read_csv(\"KIELMC.csv\")"
   ]
  },
  {
   "cell_type": "markdown",
   "metadata": {},
   "source": [
    "# check the head of your table"
   ]
  },
  {
   "cell_type": "code",
   "execution_count": 7,
   "id": "6878d6f7-4ec8-402f-b7c5-6bdc19c3e880",
   "metadata": {},
   "outputs": [
    {
     "data": {
      "text/html": [
       "<table class=\"dataframe\">\n",
       "<caption>A tibble: 6 × 25</caption>\n",
       "<thead>\n",
       "\t<tr><th scope=col>year</th><th scope=col>age</th><th scope=col>agesq</th><th scope=col>nbh</th><th scope=col>cbd</th><th scope=col>intst</th><th scope=col>lintst</th><th scope=col>price</th><th scope=col>rooms</th><th scope=col>area</th><th scope=col>⋯</th><th scope=col>lprice</th><th scope=col>y81</th><th scope=col>larea</th><th scope=col>lland</th><th scope=col>y81ldist</th><th scope=col>lintstsq</th><th scope=col>nearinc</th><th scope=col>y81nrinc</th><th scope=col>rprice</th><th scope=col>lrprice</th></tr>\n",
       "\t<tr><th scope=col>&lt;dbl&gt;</th><th scope=col>&lt;dbl&gt;</th><th scope=col>&lt;dbl&gt;</th><th scope=col>&lt;dbl&gt;</th><th scope=col>&lt;dbl&gt;</th><th scope=col>&lt;dbl&gt;</th><th scope=col>&lt;dbl&gt;</th><th scope=col>&lt;dbl&gt;</th><th scope=col>&lt;dbl&gt;</th><th scope=col>&lt;dbl&gt;</th><th scope=col>⋯</th><th scope=col>&lt;dbl&gt;</th><th scope=col>&lt;dbl&gt;</th><th scope=col>&lt;dbl&gt;</th><th scope=col>&lt;dbl&gt;</th><th scope=col>&lt;dbl&gt;</th><th scope=col>&lt;dbl&gt;</th><th scope=col>&lt;dbl&gt;</th><th scope=col>&lt;dbl&gt;</th><th scope=col>&lt;dbl&gt;</th><th scope=col>&lt;dbl&gt;</th></tr>\n",
       "</thead>\n",
       "<tbody>\n",
       "\t<tr><td>1978</td><td>48</td><td>2304</td><td>4</td><td>3000</td><td>1000</td><td>6.9078</td><td>60000</td><td>7</td><td>1660</td><td>⋯</td><td>11.00210</td><td>0</td><td>7.414573</td><td>8.429017</td><td>0</td><td>47.71771</td><td>1</td><td>0</td><td>60000</td><td>11.00210</td></tr>\n",
       "\t<tr><td>1978</td><td>83</td><td>6889</td><td>4</td><td>4000</td><td>1000</td><td>6.9078</td><td>40000</td><td>6</td><td>2612</td><td>⋯</td><td>10.59663</td><td>0</td><td>7.867871</td><td>9.032409</td><td>0</td><td>47.71771</td><td>1</td><td>0</td><td>40000</td><td>10.59663</td></tr>\n",
       "\t<tr><td>1978</td><td>58</td><td>3364</td><td>4</td><td>4000</td><td>1000</td><td>6.9078</td><td>34000</td><td>6</td><td>1144</td><td>⋯</td><td>10.43412</td><td>0</td><td>7.042286</td><td>8.517193</td><td>0</td><td>47.71771</td><td>1</td><td>0</td><td>34000</td><td>10.43412</td></tr>\n",
       "\t<tr><td>1978</td><td>11</td><td> 121</td><td>4</td><td>4000</td><td>1000</td><td>6.9078</td><td>63900</td><td>5</td><td>1136</td><td>⋯</td><td>11.06508</td><td>0</td><td>7.035269</td><td>9.210340</td><td>0</td><td>47.71771</td><td>1</td><td>0</td><td>63900</td><td>11.06508</td></tr>\n",
       "\t<tr><td>1978</td><td>48</td><td>2304</td><td>4</td><td>4000</td><td>2000</td><td>7.6009</td><td>44000</td><td>5</td><td>1868</td><td>⋯</td><td>10.69195</td><td>0</td><td>7.532624</td><td>9.210340</td><td>0</td><td>57.77368</td><td>1</td><td>0</td><td>44000</td><td>10.69195</td></tr>\n",
       "\t<tr><td>1978</td><td>78</td><td>6084</td><td>4</td><td>3000</td><td>2000</td><td>7.6009</td><td>46000</td><td>6</td><td>1780</td><td>⋯</td><td>10.73640</td><td>0</td><td>7.484369</td><td>9.159047</td><td>0</td><td>57.77368</td><td>1</td><td>0</td><td>46000</td><td>10.73640</td></tr>\n",
       "</tbody>\n",
       "</table>\n"
      ],
      "text/latex": [
       "A tibble: 6 × 25\n",
       "\\begin{tabular}{lllllllllllllllllllll}\n",
       " year & age & agesq & nbh & cbd & intst & lintst & price & rooms & area & ⋯ & lprice & y81 & larea & lland & y81ldist & lintstsq & nearinc & y81nrinc & rprice & lrprice\\\\\n",
       " <dbl> & <dbl> & <dbl> & <dbl> & <dbl> & <dbl> & <dbl> & <dbl> & <dbl> & <dbl> & ⋯ & <dbl> & <dbl> & <dbl> & <dbl> & <dbl> & <dbl> & <dbl> & <dbl> & <dbl> & <dbl>\\\\\n",
       "\\hline\n",
       "\t 1978 & 48 & 2304 & 4 & 3000 & 1000 & 6.9078 & 60000 & 7 & 1660 & ⋯ & 11.00210 & 0 & 7.414573 & 8.429017 & 0 & 47.71771 & 1 & 0 & 60000 & 11.00210\\\\\n",
       "\t 1978 & 83 & 6889 & 4 & 4000 & 1000 & 6.9078 & 40000 & 6 & 2612 & ⋯ & 10.59663 & 0 & 7.867871 & 9.032409 & 0 & 47.71771 & 1 & 0 & 40000 & 10.59663\\\\\n",
       "\t 1978 & 58 & 3364 & 4 & 4000 & 1000 & 6.9078 & 34000 & 6 & 1144 & ⋯ & 10.43412 & 0 & 7.042286 & 8.517193 & 0 & 47.71771 & 1 & 0 & 34000 & 10.43412\\\\\n",
       "\t 1978 & 11 &  121 & 4 & 4000 & 1000 & 6.9078 & 63900 & 5 & 1136 & ⋯ & 11.06508 & 0 & 7.035269 & 9.210340 & 0 & 47.71771 & 1 & 0 & 63900 & 11.06508\\\\\n",
       "\t 1978 & 48 & 2304 & 4 & 4000 & 2000 & 7.6009 & 44000 & 5 & 1868 & ⋯ & 10.69195 & 0 & 7.532624 & 9.210340 & 0 & 57.77368 & 1 & 0 & 44000 & 10.69195\\\\\n",
       "\t 1978 & 78 & 6084 & 4 & 3000 & 2000 & 7.6009 & 46000 & 6 & 1780 & ⋯ & 10.73640 & 0 & 7.484369 & 9.159047 & 0 & 57.77368 & 1 & 0 & 46000 & 10.73640\\\\\n",
       "\\end{tabular}\n"
      ],
      "text/markdown": [
       "\n",
       "A tibble: 6 × 25\n",
       "\n",
       "| year &lt;dbl&gt; | age &lt;dbl&gt; | agesq &lt;dbl&gt; | nbh &lt;dbl&gt; | cbd &lt;dbl&gt; | intst &lt;dbl&gt; | lintst &lt;dbl&gt; | price &lt;dbl&gt; | rooms &lt;dbl&gt; | area &lt;dbl&gt; | ⋯ ⋯ | lprice &lt;dbl&gt; | y81 &lt;dbl&gt; | larea &lt;dbl&gt; | lland &lt;dbl&gt; | y81ldist &lt;dbl&gt; | lintstsq &lt;dbl&gt; | nearinc &lt;dbl&gt; | y81nrinc &lt;dbl&gt; | rprice &lt;dbl&gt; | lrprice &lt;dbl&gt; |\n",
       "|---|---|---|---|---|---|---|---|---|---|---|---|---|---|---|---|---|---|---|---|---|\n",
       "| 1978 | 48 | 2304 | 4 | 3000 | 1000 | 6.9078 | 60000 | 7 | 1660 | ⋯ | 11.00210 | 0 | 7.414573 | 8.429017 | 0 | 47.71771 | 1 | 0 | 60000 | 11.00210 |\n",
       "| 1978 | 83 | 6889 | 4 | 4000 | 1000 | 6.9078 | 40000 | 6 | 2612 | ⋯ | 10.59663 | 0 | 7.867871 | 9.032409 | 0 | 47.71771 | 1 | 0 | 40000 | 10.59663 |\n",
       "| 1978 | 58 | 3364 | 4 | 4000 | 1000 | 6.9078 | 34000 | 6 | 1144 | ⋯ | 10.43412 | 0 | 7.042286 | 8.517193 | 0 | 47.71771 | 1 | 0 | 34000 | 10.43412 |\n",
       "| 1978 | 11 |  121 | 4 | 4000 | 1000 | 6.9078 | 63900 | 5 | 1136 | ⋯ | 11.06508 | 0 | 7.035269 | 9.210340 | 0 | 47.71771 | 1 | 0 | 63900 | 11.06508 |\n",
       "| 1978 | 48 | 2304 | 4 | 4000 | 2000 | 7.6009 | 44000 | 5 | 1868 | ⋯ | 10.69195 | 0 | 7.532624 | 9.210340 | 0 | 57.77368 | 1 | 0 | 44000 | 10.69195 |\n",
       "| 1978 | 78 | 6084 | 4 | 3000 | 2000 | 7.6009 | 46000 | 6 | 1780 | ⋯ | 10.73640 | 0 | 7.484369 | 9.159047 | 0 | 57.77368 | 1 | 0 | 46000 | 10.73640 |\n",
       "\n"
      ],
      "text/plain": [
       "  year age agesq nbh cbd  intst lintst price rooms area <U+22EF>        lprice   y81\n",
       "1 1978 48  2304  4   3000 1000  6.9078 60000 7     1660 <U+22EF> 11.00210 0  \n",
       "2 1978 83  6889  4   4000 1000  6.9078 40000 6     2612 <U+22EF> 10.59663 0  \n",
       "3 1978 58  3364  4   4000 1000  6.9078 34000 6     1144 <U+22EF> 10.43412 0  \n",
       "4 1978 11   121  4   4000 1000  6.9078 63900 5     1136 <U+22EF> 11.06508 0  \n",
       "5 1978 48  2304  4   4000 2000  7.6009 44000 5     1868 <U+22EF> 10.69195 0  \n",
       "6 1978 78  6084  4   3000 2000  7.6009 46000 6     1780 <U+22EF> 10.73640 0  \n",
       "  larea    lland    y81ldist lintstsq nearinc y81nrinc rprice lrprice \n",
       "1 7.414573 8.429017 0        47.71771 1       0        60000  11.00210\n",
       "2 7.867871 9.032409 0        47.71771 1       0        40000  10.59663\n",
       "3 7.042286 8.517193 0        47.71771 1       0        34000  10.43412\n",
       "4 7.035269 9.210340 0        47.71771 1       0        63900  11.06508\n",
       "5 7.532624 9.210340 0        57.77368 1       0        44000  10.69195\n",
       "6 7.484369 9.159047 0        57.77368 1       0        46000  10.73640"
      ]
     },
     "metadata": {},
     "output_type": "display_data"
    }
   ],
   "source": [
    "head(data)"
   ]
  },
  {
   "cell_type": "markdown",
   "metadata": {},
   "source": [
    "# compute summary statistics"
   ]
  },
  {
   "cell_type": "code",
   "execution_count": 8,
   "id": "d6e64be7-5036-4222-9236-1fe02f60f5c9",
   "metadata": {},
   "outputs": [
    {
     "data": {
      "text/plain": [
       "      year           age             agesq            nbh       \n",
       " Min.   :1978   Min.   :  0.00   Min.   :    0   Min.   :0.000  \n",
       " 1st Qu.:1978   1st Qu.:  0.00   1st Qu.:    0   1st Qu.:0.000  \n",
       " Median :1978   Median :  4.00   Median :   16   Median :2.000  \n",
       " Mean   :1979   Mean   : 18.01   Mean   : 1382   Mean   :2.209  \n",
       " 3rd Qu.:1981   3rd Qu.: 22.00   3rd Qu.:  484   3rd Qu.:4.000  \n",
       " Max.   :1981   Max.   :189.00   Max.   :35721   Max.   :6.000  \n",
       "      cbd            intst           lintst           price       \n",
       " Min.   : 1000   Min.   : 1000   Min.   : 6.908   Min.   : 26000  \n",
       " 1st Qu.: 9000   1st Qu.: 9000   1st Qu.: 9.105   1st Qu.: 65000  \n",
       " Median :14000   Median :16000   Median : 9.680   Median : 85900  \n",
       " Mean   :15822   Mean   :16442   Mean   : 9.481   Mean   : 96101  \n",
       " 3rd Qu.:23000   3rd Qu.:24000   3rd Qu.:10.086   3rd Qu.:120000  \n",
       " Max.   :35000   Max.   :34000   Max.   :10.434   Max.   :300000  \n",
       "     rooms             area           land            baths     \n",
       " Min.   : 4.000   Min.   : 735   Min.   :  1710   Min.   :1.00  \n",
       " 1st Qu.: 6.000   1st Qu.:1560   1st Qu.: 16935   1st Qu.:2.00  \n",
       " Median : 7.000   Median :2056   Median : 43560   Median :2.00  \n",
       " Mean   : 6.586   Mean   :2107   Mean   : 39630   Mean   :2.34  \n",
       " 3rd Qu.: 7.000   3rd Qu.:2544   3rd Qu.: 46100   3rd Qu.:3.00  \n",
       " Max.   :10.000   Max.   :5136   Max.   :544500   Max.   :4.00  \n",
       "      dist           ldist             wind            lprice     \n",
       " Min.   : 5000   Min.   : 8.517   Min.   : 3.000   Min.   :10.17  \n",
       " 1st Qu.:13400   1st Qu.: 9.503   1st Qu.: 5.000   1st Qu.:11.08  \n",
       " Median :19900   Median : 9.898   Median : 7.000   Median :11.36  \n",
       " Mean   :20716   Mean   : 9.837   Mean   : 6.978   Mean   :11.38  \n",
       " 3rd Qu.:27200   3rd Qu.:10.211   3rd Qu.:11.000   3rd Qu.:11.70  \n",
       " Max.   :40000   Max.   :10.597   Max.   :11.000   Max.   :12.61  \n",
       "      y81             larea           lland           y81ldist     \n",
       " Min.   :0.0000   Min.   :6.600   Min.   : 7.444   Min.   : 0.000  \n",
       " 1st Qu.:0.0000   1st Qu.:7.352   1st Qu.: 9.737   1st Qu.: 0.000  \n",
       " Median :0.0000   Median :7.629   Median :10.682   Median : 0.000  \n",
       " Mean   :0.4424   Mean   :7.597   Mean   :10.302   Mean   : 4.343  \n",
       " 3rd Qu.:1.0000   3rd Qu.:7.841   3rd Qu.:10.739   3rd Qu.: 9.820  \n",
       " Max.   :1.0000   Max.   :8.544   Max.   :13.208   Max.   :10.569  \n",
       "    lintstsq         nearinc          y81nrinc          rprice      \n",
       " Min.   : 47.72   Min.   :0.0000   Min.   :0.0000   Min.   : 26000  \n",
       " 1st Qu.: 82.90   1st Qu.:0.0000   1st Qu.:0.0000   1st Qu.: 59000  \n",
       " Median : 93.71   Median :0.0000   Median :0.0000   Median : 82000  \n",
       " Mean   : 90.48   Mean   :0.2991   Mean   :0.1246   Mean   : 83721  \n",
       " 3rd Qu.:101.73   3rd Qu.:1.0000   3rd Qu.:0.0000   3rd Qu.:100230  \n",
       " Max.   :108.87   Max.   :1.0000   Max.   :1.0000   Max.   :300000  \n",
       "    lrprice     \n",
       " Min.   :10.17  \n",
       " 1st Qu.:10.99  \n",
       " Median :11.31  \n",
       " Mean   :11.26  \n",
       " 3rd Qu.:11.52  \n",
       " Max.   :12.61  "
      ]
     },
     "metadata": {},
     "output_type": "display_data"
    }
   ],
   "source": [
    "summary(data)"
   ]
  },
  {
   "cell_type": "markdown",
   "id": "65b20f84-2c62-40a2-95ad-d403e0ecf567",
   "metadata": {},
   "source": [
    "# (c) "
   ]
  },
  {
   "cell_type": "code",
   "execution_count": 10,
   "id": "b17e66bf-fb06-4870-a237-7a409cf5932a",
   "metadata": {},
   "outputs": [
    {
     "data": {
      "text/plain": [
       "\n",
       "Call:\n",
       "lm(formula = lrprice ~ y81 + nearinc + y81nrinc, data = data)\n",
       "\n",
       "Residuals:\n",
       "     Min       1Q   Median       3Q      Max \n",
       "-1.11957 -0.20328  0.02226  0.18909  1.66604 \n",
       "\n",
       "Coefficients:\n",
       "            Estimate Std. Error t value Pr(>|t|)    \n",
       "(Intercept) 11.28542    0.03051 369.839  < 2e-16 ***\n",
       "y81          0.19309    0.04532   4.261 2.69e-05 ***\n",
       "nearinc     -0.33992    0.05456  -6.231 1.48e-09 ***\n",
       "y81nrinc    -0.06265    0.08344  -0.751    0.453    \n",
       "---\n",
       "Signif. codes:  0 '***' 0.001 '**' 0.01 '*' 0.05 '.' 0.1 ' ' 1\n",
       "\n",
       "Residual standard error: 0.3384 on 317 degrees of freedom\n",
       "Multiple R-squared:  0.246,\tAdjusted R-squared:  0.2388 \n",
       "F-statistic: 34.47 on 3 and 317 DF,  p-value: < 2.2e-16\n"
      ]
     },
     "metadata": {},
     "output_type": "display_data"
    }
   ],
   "source": [
    "M1_c = lm(lrprice ~ y81 + nearinc + y81nrinc, data=data)\n",
    "\n",
    "summary(M1_c)"
   ]
  },
  {
   "cell_type": "code",
   "execution_count": 34,
   "metadata": {},
   "outputs": [
    {
     "name": "stdout",
     "output_type": "stream",
     "text": [
      "\n",
      "========================================\n",
      "              Dependent variable: lwage \n",
      "             ---------------------------\n",
      "                       lrprice          \n",
      "----------------------------------------\n",
      "y81                   0.1931***         \n",
      "                      (0.0453)          \n",
      "                                        \n",
      "nearinc              -0.3399***         \n",
      "                      (0.0546)          \n",
      "                                        \n",
      "y81nrinc               -0.0626          \n",
      "                      (0.0834)          \n",
      "                                        \n",
      "Constant             11.2854***         \n",
      "                      (0.0305)          \n",
      "                                        \n",
      "----------------------------------------\n",
      "Observations             321            \n",
      "R2                     0.2460           \n",
      "Adjusted R2            0.2388           \n",
      "========================================\n",
      "Note:        *p<0.1; **p<0.05; ***p<0.01\n"
     ]
    }
   ],
   "source": [
    "stargazer(M1_c,\n",
    "  header=FALSE, \n",
    "  type=\"text\",  \n",
    "  digits=4, \n",
    "  intercept.bottom=TRUE, \n",
    "  dep.var.caption=\"Dependent variable: lwage\",\n",
    "  model.names=FALSE,\n",
    "  omit.stat=c(\"LL\",\"ser\",\"f\"))"
   ]
  },
  {
   "cell_type": "markdown",
   "id": "bd001963-59f9-4887-997c-0cf66c863a7a",
   "metadata": {},
   "source": [
    "# AIC of this model"
   ]
  },
  {
   "cell_type": "code",
   "execution_count": 13,
   "id": "99aef494-3e5b-499b-ba16-f5dfd03b33e7",
   "metadata": {},
   "outputs": [
    {
     "data": {
      "text/html": [
       "221.350528136101"
      ],
      "text/latex": [
       "221.350528136101"
      ],
      "text/markdown": [
       "221.350528136101"
      ],
      "text/plain": [
       "[1] 221.3505"
      ]
     },
     "metadata": {},
     "output_type": "display_data"
    }
   ],
   "source": [
    "AIC(M1_c)"
   ]
  },
  {
   "cell_type": "markdown",
   "id": "b7ea0b1c-0d35-4e31-882e-fd6fdee358e8",
   "metadata": {},
   "source": [
    "# BIC of this model"
   ]
  },
  {
   "cell_type": "code",
   "execution_count": 14,
   "id": "f5c4597b-92c1-4ae3-8d9f-15e64689c5f3",
   "metadata": {},
   "outputs": [
    {
     "data": {
      "text/html": [
       "240.207733751751"
      ],
      "text/latex": [
       "240.207733751751"
      ],
      "text/markdown": [
       "240.207733751751"
      ],
      "text/plain": [
       "[1] 240.2077"
      ]
     },
     "metadata": {},
     "output_type": "display_data"
    }
   ],
   "source": [
    "BIC(M1_c)"
   ]
  },
  {
   "cell_type": "markdown",
   "id": "0a61fa87-41ac-4406-8d70-05c7fdd08bc6",
   "metadata": {},
   "source": [
    "# (e) "
   ]
  },
  {
   "cell_type": "code",
   "execution_count": 31,
   "id": "1920bc56-d542-42a2-be54-7dab052f7668",
   "metadata": {},
   "outputs": [
    {
     "data": {
      "text/plain": [
       "\n",
       "Call:\n",
       "lm(formula = lprice ~ y81 + ldist + y81ldist, data = data)\n",
       "\n",
       "Residuals:\n",
       "     Min       1Q   Median       3Q      Max \n",
       "-1.01930 -0.20807  0.00539  0.21128  1.49747 \n",
       "\n",
       "Coefficients:\n",
       "            Estimate Std. Error t value Pr(>|t|)    \n",
       "(Intercept)  8.05847    0.50844  15.850  < 2e-16 ***\n",
       "y81         -0.01131    0.80506  -0.014    0.989    \n",
       "ldist        0.31669    0.05153   6.145 2.39e-09 ***\n",
       "y81ldist     0.04819    0.08179   0.589    0.556    \n",
       "---\n",
       "Signif. codes:  0 '***' 0.001 '**' 0.01 '*' 0.05 '.' 0.1 ' ' 1\n",
       "\n",
       "Residual standard error: 0.3422 on 317 degrees of freedom\n",
       "Multiple R-squared:  0.3958,\tAdjusted R-squared:  0.3901 \n",
       "F-statistic: 69.22 on 3 and 317 DF,  p-value: < 2.2e-16\n"
      ]
     },
     "metadata": {},
     "output_type": "display_data"
    }
   ],
   "source": [
    "M1_e = lm(lprice ~ y81 + ldist + y81ldist, data=data)\n",
    "\n",
    "summary(M1_e)"
   ]
  },
  {
   "cell_type": "code",
   "execution_count": 33,
   "metadata": {},
   "outputs": [
    {
     "name": "stdout",
     "output_type": "stream",
     "text": [
      "\n",
      "========================================\n",
      "              Dependent variable: lwage \n",
      "             ---------------------------\n",
      "                       lprice           \n",
      "----------------------------------------\n",
      "y81                    -0.0113          \n",
      "                      (0.8051)          \n",
      "                                        \n",
      "ldist                 0.3167***         \n",
      "                      (0.0515)          \n",
      "                                        \n",
      "y81ldist               0.0482           \n",
      "                      (0.0818)          \n",
      "                                        \n",
      "Constant              8.0585***         \n",
      "                      (0.5084)          \n",
      "                                        \n",
      "----------------------------------------\n",
      "Observations             321            \n",
      "R2                     0.3958           \n",
      "Adjusted R2            0.3901           \n",
      "========================================\n",
      "Note:        *p<0.1; **p<0.05; ***p<0.01\n"
     ]
    }
   ],
   "source": [
    "stargazer(M1_e,\n",
    "  header=FALSE, \n",
    "  type=\"text\",  \n",
    "  digits=4, \n",
    "  intercept.bottom=TRUE, \n",
    "  dep.var.caption=\"Dependent variable: lwage\",\n",
    "  model.names=FALSE,\n",
    "  omit.stat=c(\"LL\",\"ser\",\"f\"))"
   ]
  },
  {
   "cell_type": "markdown",
   "id": "27847f77-96bc-4585-8a0e-b26d8d8b5777",
   "metadata": {},
   "source": [
    "# AIC of this model"
   ]
  },
  {
   "cell_type": "code",
   "execution_count": 18,
   "id": "42dd8485-8e0c-4558-95cb-43eb5a311382",
   "metadata": {},
   "outputs": [
    {
     "data": {
      "text/html": [
       "228.484962915591"
      ],
      "text/latex": [
       "228.484962915591"
      ],
      "text/markdown": [
       "228.484962915591"
      ],
      "text/plain": [
       "[1] 228.485"
      ]
     },
     "metadata": {},
     "output_type": "display_data"
    }
   ],
   "source": [
    "AIC(M1_e)"
   ]
  },
  {
   "cell_type": "markdown",
   "metadata": {},
   "source": [
    "# BIC of this model"
   ]
  },
  {
   "cell_type": "code",
   "execution_count": 19,
   "id": "8581d5a0-3907-49ae-954a-cb6295343f69",
   "metadata": {},
   "outputs": [
    {
     "data": {
      "text/html": [
       "247.342168531241"
      ],
      "text/latex": [
       "247.342168531241"
      ],
      "text/markdown": [
       "247.342168531241"
      ],
      "text/plain": [
       "[1] 247.3422"
      ]
     },
     "metadata": {},
     "output_type": "display_data"
    }
   ],
   "source": [
    "BIC(M1_e)"
   ]
  },
  {
   "cell_type": "markdown",
   "id": "49811c5d-71e6-49cc-9a00-47d8f3f7f854",
   "metadata": {},
   "source": [
    "# (f) "
   ]
  },
  {
   "cell_type": "code",
   "execution_count": 20,
   "id": "9df3b5a7-fe37-486c-974a-a0ea9f4f3e9b",
   "metadata": {},
   "outputs": [
    {
     "data": {
      "text/plain": [
       "\n",
       "Call:\n",
       "lm(formula = lprice ~ y81 + ldist + y81ldist + age + agesq + \n",
       "    rooms + baths + lintst + lland + larea, data = data)\n",
       "\n",
       "Residuals:\n",
       "     Min       1Q   Median       3Q      Max \n",
       "-1.19636 -0.09957  0.01064  0.11414  0.78094 \n",
       "\n",
       "Coefficients:\n",
       "              Estimate Std. Error t value Pr(>|t|)    \n",
       "(Intercept)  7.674e+00  5.016e-01  15.300  < 2e-16 ***\n",
       "y81         -2.254e-01  4.947e-01  -0.456 0.648902    \n",
       "ldist        9.226e-04  4.462e-02   0.021 0.983516    \n",
       "y81ldist     6.247e-02  5.028e-02   1.242 0.215025    \n",
       "age         -8.007e-03  1.417e-03  -5.650 3.64e-08 ***\n",
       "agesq        3.570e-05  8.708e-06   4.099 5.29e-05 ***\n",
       "rooms        4.614e-02  1.734e-02   2.660 0.008216 ** \n",
       "baths        1.010e-01  2.782e-02   3.632 0.000329 ***\n",
       "lintst      -5.998e-02  3.172e-02  -1.891 0.059599 .  \n",
       "lland        9.534e-02  2.473e-02   3.856 0.000140 ***\n",
       "larea        3.507e-01  5.195e-02   6.752 7.20e-11 ***\n",
       "---\n",
       "Signif. codes:  0 '***' 0.001 '**' 0.01 '*' 0.05 '.' 0.1 ' ' 1\n",
       "\n",
       "Residual standard error: 0.2055 on 310 degrees of freedom\n",
       "Multiple R-squared:  0.787,\tAdjusted R-squared:  0.7802 \n",
       "F-statistic: 114.6 on 10 and 310 DF,  p-value: < 2.2e-16\n"
      ]
     },
     "metadata": {},
     "output_type": "display_data"
    }
   ],
   "source": [
    "M1_f = lm(lprice ~  y81 + ldist + y81ldist + age + agesq + rooms + baths + lintst + lland + larea, data=data)\n",
    "\n",
    "summary(M1_f)"
   ]
  },
  {
   "cell_type": "code",
   "execution_count": 35,
   "metadata": {},
   "outputs": [
    {
     "name": "stdout",
     "output_type": "stream",
     "text": [
      "\n",
      "========================================\n",
      "              Dependent variable: lwage \n",
      "             ---------------------------\n",
      "                       lprice           \n",
      "----------------------------------------\n",
      "y81                    -0.2254          \n",
      "                      (0.4947)          \n",
      "                                        \n",
      "ldist                  0.0009           \n",
      "                      (0.0446)          \n",
      "                                        \n",
      "y81ldist               0.0625           \n",
      "                      (0.0503)          \n",
      "                                        \n",
      "age                  -0.0080***         \n",
      "                      (0.0014)          \n",
      "                                        \n",
      "agesq                0.00004***         \n",
      "                      (0.00001)         \n",
      "                                        \n",
      "rooms                 0.0461***         \n",
      "                      (0.0173)          \n",
      "                                        \n",
      "baths                 0.1010***         \n",
      "                      (0.0278)          \n",
      "                                        \n",
      "lintst                -0.0600*          \n",
      "                      (0.0317)          \n",
      "                                        \n",
      "lland                 0.0953***         \n",
      "                      (0.0247)          \n",
      "                                        \n",
      "larea                 0.3507***         \n",
      "                      (0.0519)          \n",
      "                                        \n",
      "Constant              7.6739***         \n",
      "                      (0.5016)          \n",
      "                                        \n",
      "----------------------------------------\n",
      "Observations             321            \n",
      "R2                     0.7870           \n",
      "Adjusted R2            0.7802           \n",
      "========================================\n",
      "Note:        *p<0.1; **p<0.05; ***p<0.01\n"
     ]
    }
   ],
   "source": [
    "stargazer(M1_f,\n",
    "  header=FALSE, \n",
    "  type=\"text\",  \n",
    "  digits=4, \n",
    "  intercept.bottom=TRUE, \n",
    "  dep.var.caption=\"Dependent variable: lwage\",\n",
    "  model.names=FALSE,\n",
    "  omit.stat=c(\"LL\",\"ser\",\"f\"))"
   ]
  },
  {
   "cell_type": "markdown",
   "id": "363e350d-b859-4a6e-9d5f-7264540df484",
   "metadata": {},
   "source": [
    "# AIC of this model"
   ]
  },
  {
   "cell_type": "code",
   "execution_count": 21,
   "id": "ed75112d-f724-4f3b-99a2-3dda0b1d9295",
   "metadata": {},
   "outputs": [
    {
     "data": {
      "text/html": [
       "-92.2277851733762"
      ],
      "text/latex": [
       "-92.2277851733762"
      ],
      "text/markdown": [
       "-92.2277851733762"
      ],
      "text/plain": [
       "[1] -92.22779"
      ]
     },
     "metadata": {},
     "output_type": "display_data"
    }
   ],
   "source": [
    "AIC(M1_f)"
   ]
  },
  {
   "cell_type": "markdown",
   "id": "cfef5d0e-1d8d-4a36-ae0d-05c36dc9a758",
   "metadata": {},
   "source": [
    "# BIC of this model"
   ]
  },
  {
   "cell_type": "code",
   "execution_count": 22,
   "id": "c222fb89-98d1-4dbd-a853-bea7e0554851",
   "metadata": {},
   "outputs": [
    {
     "data": {
      "text/html": [
       "-46.970491695816"
      ],
      "text/latex": [
       "-46.970491695816"
      ],
      "text/markdown": [
       "-46.970491695816"
      ],
      "text/plain": [
       "[1] -46.97049"
      ]
     },
     "metadata": {},
     "output_type": "display_data"
    }
   ],
   "source": [
    "BIC(M1_f)"
   ]
  },
  {
   "cell_type": "markdown",
   "metadata": {},
   "source": [
    "# compare models"
   ]
  },
  {
   "cell_type": "code",
   "execution_count": 37,
   "id": "fb5fd351-6cec-4cd4-bc01-4200b07e6340",
   "metadata": {},
   "outputs": [
    {
     "name": "stdout",
     "output_type": "stream",
     "text": [
      "\n",
      "=========================================\n",
      "              Dependent variable: lwage  \n",
      "             ----------------------------\n",
      "                        lprice           \n",
      "                  (1)            (2)     \n",
      "-----------------------------------------\n",
      "y81             -0.0113        -0.2254   \n",
      "                (0.8051)      (0.4947)   \n",
      "                                         \n",
      "ldist          0.3167***       0.0009    \n",
      "                (0.0515)      (0.0446)   \n",
      "                                         \n",
      "y81ldist         0.0482        0.0625    \n",
      "                (0.0818)      (0.0503)   \n",
      "                                         \n",
      "age                          -0.0080***  \n",
      "                              (0.0014)   \n",
      "                                         \n",
      "agesq                        0.00004***  \n",
      "                              (0.00001)  \n",
      "                                         \n",
      "rooms                         0.0461***  \n",
      "                              (0.0173)   \n",
      "                                         \n",
      "baths                         0.1010***  \n",
      "                              (0.0278)   \n",
      "                                         \n",
      "lintst                        -0.0600*   \n",
      "                              (0.0317)   \n",
      "                                         \n",
      "lland                         0.0953***  \n",
      "                              (0.0247)   \n",
      "                                         \n",
      "larea                         0.3507***  \n",
      "                              (0.0519)   \n",
      "                                         \n",
      "Constant       8.0585***      7.6739***  \n",
      "                (0.5084)      (0.5016)   \n",
      "                                         \n",
      "-----------------------------------------\n",
      "Observations      321            321     \n",
      "R2               0.3958        0.7870    \n",
      "Adjusted R2      0.3901        0.7802    \n",
      "=========================================\n",
      "Note:         *p<0.1; **p<0.05; ***p<0.01\n"
     ]
    }
   ],
   "source": [
    "stargazer(M1_e, M1_f,\n",
    "  header=FALSE, \n",
    "  type=\"text\",  \n",
    "  digits=4, \n",
    "  intercept.bottom=TRUE, \n",
    "  dep.var.caption=\"Dependent variable: lwage\",\n",
    "  model.names=FALSE,\n",
    "  omit.stat=c(\"LL\",\"ser\",\"f\"))"
   ]
  }
 ],
 "metadata": {
  "kernelspec": {
   "display_name": "R",
   "language": "R",
   "name": "ir"
  },
  "language_info": {
   "codemirror_mode": "r",
   "file_extension": ".r",
   "mimetype": "text/x-r-source",
   "name": "R",
   "pygments_lexer": "r",
   "version": "4.1.1"
  }
 },
 "nbformat": 4,
 "nbformat_minor": 5
}
