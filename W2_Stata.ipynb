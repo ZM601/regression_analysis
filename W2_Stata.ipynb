{
 "cells": [
  {
   "cell_type": "markdown",
   "metadata": {},
   "source": [
    "# Question 2"
   ]
  },
  {
   "cell_type": "markdown",
   "metadata": {},
   "source": [
    "## step 1: load data into stata"
   ]
  },
  {
   "cell_type": "code",
   "execution_count": 1,
   "metadata": {},
   "outputs": [],
   "source": [
    "use \"/Users/ning/Dropbox/Working_Directory/Tex_MD/Teaching/tutorial/6002/W2/2021S2/econmath.dta\", clear"
   ]
  },
  {
   "cell_type": "markdown",
   "metadata": {},
   "source": [
    "## step 2: find the summary statistics for \"actmth\", \"acteng\" and \"score\""
   ]
  },
  {
   "cell_type": "code",
   "execution_count": 2,
   "metadata": {},
   "outputs": [
    {
     "name": "stdout",
     "output_type": "stream",
     "text": [
      "\n",
      "    Variable |        Obs        Mean    Std. Dev.       Min        Max\n",
      "-------------+---------------------------------------------------------\n",
      "      actmth |        814     23.2113    3.773354         12         36\n",
      "      acteng |        814    22.59459    3.788735         12         34\n",
      "       score |        856    72.59981    13.40068      19.53      98.44\n"
     ]
    }
   ],
   "source": [
    "sum actmth acteng score"
   ]
  },
  {
   "cell_type": "markdown",
   "metadata": {},
   "source": [
    "## step 3: regression result of  $score = \\beta_0 + \\beta_1 \\cdot colgpa + \\beta_2 \\cdot actmth + \\beta_3 \\cdot acteng + u$"
   ]
  },
  {
   "cell_type": "code",
   "execution_count": 3,
   "metadata": {},
   "outputs": [
    {
     "name": "stdout",
     "output_type": "stream",
     "text": [
      "\n",
      "      Source |       SS           df       MS      Number of obs   =       814\n",
      "-------------+----------------------------------   F(3, 810)       =    177.94\n",
      "       Model |  57165.5698         3  19055.1899   Prob > F        =    0.0000\n",
      "    Residual |  86743.1975       810  107.090367   R-squared       =    0.3972\n",
      "-------------+----------------------------------   Adj R-squared   =    0.3950\n",
      "       Total |  143908.767       813  177.009554   Root MSE        =    10.348\n",
      "\n",
      "------------------------------------------------------------------------------\n",
      "       score |      Coef.   Std. Err.      t    P>|t|     [95% Conf. Interval]\n",
      "-------------+----------------------------------------------------------------\n",
      "      colgpa |    12.3662   .7150624    17.29   0.000     10.96261    13.76979\n",
      "      actmth |   .8833519   .1121984     7.87   0.000      .663118    1.103586\n",
      "      acteng |    .051764   .1110631     0.47   0.641    -.1662415    .2697695\n",
      "       _cons |   16.17402   2.800439     5.78   0.000     10.67704    21.67099\n",
      "------------------------------------------------------------------------------\n"
     ]
    }
   ],
   "source": [
    "reg score colgpa actmth acteng"
   ]
  },
  {
   "cell_type": "markdown",
   "metadata": {},
   "source": [
    "### $score = 16.17402 + 12.3662 \\cdot colgpa + .8833519 \\cdot actmth + .051764 \\cdot acteng + u$\n",
    "### $R^2 = 0.39$"
   ]
  },
  {
   "cell_type": "markdown",
   "metadata": {},
   "source": [
    "### two regression inputs can be compared only if (1) they share the same unit (2) they share the similar standard deviation.\n",
    "\n",
    "### in this case, $actmth$ and $acteng$ are in same unit (%) and with similar standard deviations. Hence, the one with a larger absolute value of the regression coefficient is the better one\n",
    "\n",
    "### However, if variables are not in the same unit and their standard deviations are different, we need to \"standardize them\" before comparing them. By \"standardizing\", we minus each variable with its sample mean and divide each variable by its own standard deviation, or mathematically\n",
    "\n",
    "### $$\\frac{\\mathbf{x} - \\overline{\\mathbf{x}}} {\\mathrm{sd} \\left( \\mathbf{x} \\right)}$$"
   ]
  },
  {
   "cell_type": "markdown",
   "metadata": {},
   "source": [
    "## we standardize both inputs and outputs of regression, which gives us an interesting result as follows"
   ]
  },
  {
   "cell_type": "code",
   "execution_count": 4,
   "metadata": {},
   "outputs": [
    {
     "name": "stdout",
     "output_type": "stream",
     "text": [
      "\n",
      "\n",
      "\n",
      "\n",
      "\n",
      "\n",
      "\n",
      "\n",
      "\n",
      "\n",
      "\n",
      "(42 missing values generated)\n",
      "\n",
      "(42 missing values generated)\n",
      "\n",
      "\n",
      "      Source |       SS           df       MS      Number of obs   =       814\n",
      "-------------+----------------------------------   F(3, 810)       =    177.94\n",
      "       Model |  318.332478         3  106.110826   Prob > F        =    0.0000\n",
      "    Residual |  483.038603       810  .596343954   R-squared       =    0.3972\n",
      "-------------+----------------------------------   Adj R-squared   =    0.3950\n",
      "       Total |   801.37108       813  .985696286   Root MSE        =    .77223\n",
      "\n",
      "------------------------------------------------------------------------------\n",
      "    score_st |      Coef.   Std. Err.      t    P>|t|     [95% Conf. Interval]\n",
      "-------------+----------------------------------------------------------------\n",
      "   colgpa_st |    .495423   .0286473    17.29   0.000     .4391913    .5516547\n",
      "   actmth_st |   .2487336   .0315927     7.87   0.000     .1867203    .3107469\n",
      "   acteng_st |   .0146351   .0314006     0.47   0.641     -.047001    .0762711\n",
      "       _cons |   .0040682   .0270675     0.15   0.881    -.0490625    .0571988\n",
      "------------------------------------------------------------------------------\n"
     ]
    }
   ],
   "source": [
    "egen mean_score  = mean(score)\n",
    "egen mean_colgpa = mean(colgpa)\n",
    "egen mean_actmth = mean(actmth)\n",
    "egen mean_acteng = mean(acteng)\n",
    "\n",
    "egen sd_score  = sd(score)\n",
    "egen sd_colgpa = sd(colgpa)\n",
    "egen sd_actmth = sd(actmth)\n",
    "egen sd_acteng = sd(acteng)\n",
    "\n",
    "gen score_st  = (score  - mean_score ) / sd_score\n",
    "gen colgpa_st = (colgpa - mean_colgpa) / sd_colgpa\n",
    "gen actmth_st = (actmth - mean_actmth) / sd_actmth\n",
    "gen acteng_st = (acteng - mean_acteng) / sd_acteng\n",
    "\n",
    "reg score_st colgpa_st actmth_st acteng_st"
   ]
  },
  {
   "cell_type": "markdown",
   "metadata": {},
   "source": [
    "### the coefficient of actmth_st ($0.2487336$) is the conditional correlation between score and actmth when you fix the value of acteng and colgpa. Larger the absolute value of the regression coefficient in standardized regression, more correlated the variable to $Y$ even though you control all other variables, hence better the input"
   ]
  },
  {
   "cell_type": "markdown",
   "metadata": {},
   "source": [
    "# Question 3"
   ]
  },
  {
   "cell_type": "code",
   "execution_count": 5,
   "metadata": {},
   "outputs": [],
   "source": [
    "use \"/Users/ning/Dropbox/Working_Directory/Tex_MD/Teaching/tutorial/6002/W2/2021S2/hprice1.dta\", clear"
   ]
  },
  {
   "cell_type": "code",
   "execution_count": 6,
   "metadata": {},
   "outputs": [
    {
     "name": "stdout",
     "output_type": "stream",
     "text": [
      "\n",
      "Contains data from /Users/ning/Dropbox/Working_Directory/Tex_MD/Teaching/tutoria\n",
      "> l/6002/W2/2021S2/hprice1.dta\n",
      "  obs:            88                          \n",
      " vars:            10                          17 Mar 2002 12:21\n",
      " size:         2,816                          \n",
      "--------------------------------------------------------------------------------\n",
      "              storage   display    value\n",
      "variable name   type    format     label      variable label\n",
      "--------------------------------------------------------------------------------\n",
      "price           float   %9.0g                 house price, $1000s\n",
      "assess          float   %9.0g                 assessed value, $1000s\n",
      "bdrms           byte    %9.0g                 number of bdrms\n",
      "lotsize         float   %9.0g                 size of lot in square feet\n",
      "sqrft           int     %9.0g                 size of house in square feet\n",
      "colonial        byte    %9.0g                 =1 if home is colonial style\n",
      "lprice          float   %9.0g                 log(price)\n",
      "lassess         float   %9.0g                 log(assess\n",
      "llotsize        float   %9.0g                 log(lotsize)\n",
      "lsqrft          float   %9.0g                 log(sqrft)\n",
      "--------------------------------------------------------------------------------\n",
      "Sorted by: \n"
     ]
    }
   ],
   "source": [
    "describe"
   ]
  },
  {
   "cell_type": "markdown",
   "metadata": {},
   "source": [
    "## step 1: summary statistics"
   ]
  },
  {
   "cell_type": "code",
   "execution_count": 7,
   "metadata": {},
   "outputs": [
    {
     "name": "stdout",
     "output_type": "stream",
     "text": [
      "\n",
      "    Variable |        Obs        Mean    Std. Dev.       Min        Max\n",
      "-------------+---------------------------------------------------------\n",
      "       price |         88     293.546    102.7134        111        725\n",
      "       sqrft |         88    2013.693    577.1916       1171       3880\n",
      "       bdrms |         88    3.568182    .8413926          2          7\n"
     ]
    }
   ],
   "source": [
    "sum price sqrft bdrms"
   ]
  },
  {
   "cell_type": "markdown",
   "metadata": {},
   "source": [
    "## step 2: regression"
   ]
  },
  {
   "cell_type": "code",
   "execution_count": 8,
   "metadata": {},
   "outputs": [
    {
     "name": "stdout",
     "output_type": "stream",
     "text": [
      "\n",
      "      Source |       SS           df       MS      Number of obs   =        88\n",
      "-------------+----------------------------------   F(2, 85)        =     72.96\n",
      "       Model |  580009.152         2  290004.576   Prob > F        =    0.0000\n",
      "    Residual |  337845.354        85  3974.65122   R-squared       =    0.6319\n",
      "-------------+----------------------------------   Adj R-squared   =    0.6233\n",
      "       Total |  917854.506        87  10550.0518   Root MSE        =    63.045\n",
      "\n",
      "------------------------------------------------------------------------------\n",
      "       price |      Coef.   Std. Err.      t    P>|t|     [95% Conf. Interval]\n",
      "-------------+----------------------------------------------------------------\n",
      "       sqrft |   .1284362   .0138245     9.29   0.000     .1009495    .1559229\n",
      "       bdrms |   15.19819   9.483517     1.60   0.113    -3.657582    34.05396\n",
      "       _cons |    -19.315   31.04662    -0.62   0.536    -81.04399      42.414\n",
      "------------------------------------------------------------------------------\n"
     ]
    }
   ],
   "source": [
    "reg price sqrft bdrms"
   ]
  },
  {
   "cell_type": "code",
   "execution_count": 9,
   "metadata": {},
   "outputs": [
    {
     "name": "stdout",
     "output_type": "stream",
     "text": [
      "\n",
      "\n",
      "\n",
      "\n",
      "\n",
      "\n",
      "\n",
      "\n",
      "\n",
      "\n",
      "\n",
      "      Source |       SS           df       MS      Number of obs   =        88\n",
      "-------------+----------------------------------   F(2, 85)        =     72.96\n",
      "       Model |  54.9768962         2  27.4884481   Prob > F        =    0.0000\n",
      "    Residual |  32.0230964        85  .376742311   R-squared       =    0.6319\n",
      "-------------+----------------------------------   Adj R-squared   =    0.6233\n",
      "       Total |  86.9999926        87  .999999915   Root MSE        =    .61379\n",
      "\n",
      "------------------------------------------------------------------------------\n",
      "    price_st |      Coef.   Std. Err.      t    P>|t|     [95% Conf. Interval]\n",
      "-------------+----------------------------------------------------------------\n",
      "    sqrft_st |    .721739   .0776856     9.29   0.000     .5672791    .8761989\n",
      "    bdrms_st |   .1244983   .0776856     1.60   0.113    -.0299616    .2789581\n",
      "       _cons |   1.80e-07   .0654306     0.00   1.000    -.1300934    .1300937\n",
      "------------------------------------------------------------------------------\n"
     ]
    }
   ],
   "source": [
    "egen mean_price = mean(price  )\n",
    "egen mean_sqrft = mean(sqrft )\n",
    "egen mean_bdrms = mean(bdrms)\n",
    "\n",
    "egen sd_price = sd(price )\n",
    "egen sd_sqrft = sd(sqrft )\n",
    "egen sd_bdrms = sd(bdrms)\n",
    "\n",
    "gen price_st = (price - mean_price) / sd_price\n",
    "gen sqrft_st = (sqrft - mean_sqrft) / sd_sqrft\n",
    "gen bdrms_st = (bdrms - mean_bdrms) / sd_bdrms\n",
    "\n",
    "reg price_st sqrft_st bdrms_st"
   ]
  },
  {
   "cell_type": "markdown",
   "metadata": {},
   "source": [
    "## step 3: prediction on an \"imaginary\" observation"
   ]
  },
  {
   "cell_type": "code",
   "execution_count": 10,
   "metadata": {},
   "outputs": [
    {
     "name": "stdout",
     "output_type": "stream",
     "text": [
      "\n",
      "number of observations (_N) was 88, now 89\n",
      "\n",
      "\n",
      "\n",
      "     +---------------------------------+\n",
      "     | price   sqrft   lotsize   bdrms |\n",
      "     |---------------------------------|\n",
      " 88. |   242    1774      4950       4 |\n",
      " 89. |     .       .         .       . |\n",
      "     +---------------------------------+\n",
      "\n",
      "(1 real change made)\n",
      "\n",
      "(1 real change made)\n",
      "\n",
      "\n",
      "     +-----------------------+\n",
      "     | price   sqrft   bdrms |\n",
      "     |-----------------------|\n",
      " 89. |     .    2438       4 |\n",
      "     +-----------------------+\n",
      "\n",
      "\n",
      "\n",
      "\n",
      "     +----------------------------------+\n",
      "     |     yhat   price   sqrft   bdrms |\n",
      "     |----------------------------------|\n",
      " 89. | 354.6053       .    2438       4 |\n",
      "     +----------------------------------+\n"
     ]
    }
   ],
   "source": [
    "set obs `=_N+1'\n",
    "\n",
    "gen id = _n\n",
    "\n",
    "list price sqrft lotsize bdrms if id >= 88\n",
    "\n",
    "replace sqrft  = 2438 if id == 89\n",
    "replace bdrms  = 4    if id == 89\n",
    "\n",
    "list price sqrft bdrms if id > 88\n",
    "\n",
    "quietly reg price sqrft bdrms \n",
    "predict yhat, xb\n",
    "\n",
    "list yhat price sqrft bdrms if id > 88"
   ]
  },
  {
   "cell_type": "markdown",
   "metadata": {},
   "source": [
    "## step 4: given the real price of the \"imaginary\" observation is 300,000, compute the prediction residual (or prediction error) on an \"imaginary\" observation"
   ]
  },
  {
   "cell_type": "code",
   "execution_count": 11,
   "metadata": {},
   "outputs": [
    {
     "name": "stdout",
     "output_type": "stream",
     "text": [
      "\n",
      "(1 real change made)\n",
      "\n",
      "\n",
      "     +----------------------------------+\n",
      "     |     yhat   price   sqrft   bdrms |\n",
      "     |----------------------------------|\n",
      " 89. | 354.6053     300    2438       4 |\n",
      "     +----------------------------------+\n",
      "\n",
      "\n",
      "\n",
      "     +----------------------------------------------+\n",
      "     |  residual       yhat   price   sqrft   bdrms |\n",
      "     |----------------------------------------------|\n",
      " 89. | -54.60526   354.6053     300    2438       4 |\n",
      "     +----------------------------------------------+\n"
     ]
    }
   ],
   "source": [
    "replace price = 300 if id == 89\n",
    "\n",
    "list yhat price sqrft bdrms if id > 88\n",
    "\n",
    "gen residual = price - yhat\n",
    "list residual yhat price sqrft bdrms in 89"
   ]
  },
  {
   "cell_type": "code",
   "execution_count": 13,
   "metadata": {},
   "outputs": [
    {
     "name": "stdout",
     "output_type": "stream",
     "text": [
      "\n",
      "\n",
      "\n",
      "\n",
      "[NbConvertApp] Converting notebook W2_Stata.ipynb to html\n",
      "[NbConvertApp] Writing 586618 bytes to W2_Stata.html\n"
     ]
    }
   ],
   "source": [
    "!rm -rf W2_Stata.html\n",
    "!jupyter nbconvert --to html W2_Stata.ipynb "
   ]
  }
 ],
 "metadata": {
  "kernelspec": {
   "display_name": "Stata",
   "language": "stata",
   "name": "stata"
  },
  "language_info": {
   "codemirror_mode": "stata",
   "file_extension": ".do",
   "mimetype": "text/x-stata",
   "name": "stata",
   "version": "15.1"
  }
 },
 "nbformat": 4,
 "nbformat_minor": 4
}
