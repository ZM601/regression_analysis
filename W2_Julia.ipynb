{
 "cells": [
  {
   "cell_type": "code",
   "execution_count": 1,
   "id": "5ddc14fb-ab5b-4fda-a73a-02ca8bd5e82e",
   "metadata": {},
   "outputs": [],
   "source": [
    "using Pkg, CSV, DataFrames, Statistics, OnlineStats, StatsBase, Plots, Distributions, StatsPlots, GLM, MLBase, StatsBase, StatsModels"
   ]
  },
  {
   "cell_type": "markdown",
   "id": "c1a1c0d5-b901-4245-8dde-961d274fa4f3",
   "metadata": {},
   "source": [
    "# Question 2"
   ]
  },
  {
   "cell_type": "markdown",
   "id": "a65a5135-810f-4fcf-99e7-dbc3a452e29d",
   "metadata": {},
   "source": [
    "# step 1: change directory and load data"
   ]
  },
  {
   "cell_type": "code",
   "execution_count": 2,
   "id": "a2f22798-0e9f-45ac-b6c8-28f46c7da139",
   "metadata": {},
   "outputs": [],
   "source": [
    "cd(\"/Users/ning/Dropbox/Working_Directory/Tex_MD/Teaching/tutorial/6002/W2/2021S2\")"
   ]
  },
  {
   "cell_type": "code",
   "execution_count": 3,
   "id": "81d53637-3796-4e3b-88fd-001e2528e34d",
   "metadata": {},
   "outputs": [],
   "source": [
    "df = dropmissing(CSV.read(\"econmath.csv\", DataFrame));"
   ]
  },
  {
   "cell_type": "markdown",
   "id": "7fc26ef8-ceae-46f2-a117-7fb8752b47ff",
   "metadata": {},
   "source": [
    "# step 2: find the summary statistics for \"actmth\", \"acteng\" and \"score\""
   ]
  },
  {
   "cell_type": "code",
   "execution_count": 11,
   "id": "0c1abdac-69e2-4cf7-8d7c-2bf0101154da",
   "metadata": {},
   "outputs": [
    {
     "data": {
      "text/html": [
       "<div class=\"data-frame\"><p>5 rows × 17 columns (omitted printing of 7 columns)</p><table class=\"data-frame\"><thead><tr><th></th><th>age</th><th>work</th><th>study</th><th>econhs</th><th>colgpa</th><th>hsgpa</th><th>acteng</th><th>actmth</th><th>act</th><th>mathscr</th></tr><tr><th></th><th title=\"Int64\">Int64</th><th title=\"Float64\">Float64</th><th title=\"Float64\">Float64</th><th title=\"Int64\">Int64</th><th title=\"Float64\">Float64</th><th title=\"Float64\">Float64</th><th title=\"Int64\">Int64</th><th title=\"Int64\">Int64</th><th title=\"Int64\">Int64</th><th title=\"Int64\">Int64</th></tr></thead><tbody><tr><th>1</th><td>23</td><td>15.0</td><td>10.0</td><td>0</td><td>3.4909</td><td>3.355</td><td>24</td><td>26</td><td>27</td><td>10</td></tr><tr><th>2</th><td>23</td><td>0.0</td><td>22.5</td><td>1</td><td>2.1</td><td>3.219</td><td>23</td><td>20</td><td>24</td><td>9</td></tr><tr><th>3</th><td>21</td><td>25.0</td><td>12.0</td><td>0</td><td>3.0851</td><td>3.306</td><td>21</td><td>24</td><td>21</td><td>8</td></tr><tr><th>4</th><td>22</td><td>30.0</td><td>40.0</td><td>0</td><td>2.6805</td><td>3.977</td><td>31</td><td>28</td><td>31</td><td>10</td></tr><tr><th>5</th><td>22</td><td>25.0</td><td>15.0</td><td>1</td><td>3.7454</td><td>3.89</td><td>28</td><td>31</td><td>32</td><td>8</td></tr></tbody></table></div>"
      ],
      "text/latex": [
       "\\begin{tabular}{r|ccccccccccc}\n",
       "\t& age & work & study & econhs & colgpa & hsgpa & acteng & actmth & act & mathscr & \\\\\n",
       "\t\\hline\n",
       "\t& Int64 & Float64 & Float64 & Int64 & Float64 & Float64 & Int64 & Int64 & Int64 & Int64 & \\\\\n",
       "\t\\hline\n",
       "\t1 & 23 & 15.0 & 10.0 & 0 & 3.4909 & 3.355 & 24 & 26 & 27 & 10 & $\\dots$ \\\\\n",
       "\t2 & 23 & 0.0 & 22.5 & 1 & 2.1 & 3.219 & 23 & 20 & 24 & 9 & $\\dots$ \\\\\n",
       "\t3 & 21 & 25.0 & 12.0 & 0 & 3.0851 & 3.306 & 21 & 24 & 21 & 8 & $\\dots$ \\\\\n",
       "\t4 & 22 & 30.0 & 40.0 & 0 & 2.6805 & 3.977 & 31 & 28 & 31 & 10 & $\\dots$ \\\\\n",
       "\t5 & 22 & 25.0 & 15.0 & 1 & 3.7454 & 3.89 & 28 & 31 & 32 & 8 & $\\dots$ \\\\\n",
       "\\end{tabular}\n"
      ],
      "text/plain": [
       "\u001b[1m5×17 DataFrame\u001b[0m\n",
       "\u001b[1m Row \u001b[0m│\u001b[1m age   \u001b[0m\u001b[1m work    \u001b[0m\u001b[1m study   \u001b[0m\u001b[1m econhs \u001b[0m\u001b[1m colgpa  \u001b[0m\u001b[1m hsgpa   \u001b[0m\u001b[1m acteng \u001b[0m\u001b[1m actmth \u001b[0m\u001b[1m act \u001b[0m ⋯\n",
       "\u001b[1m     \u001b[0m│\u001b[90m Int64 \u001b[0m\u001b[90m Float64 \u001b[0m\u001b[90m Float64 \u001b[0m\u001b[90m Int64  \u001b[0m\u001b[90m Float64 \u001b[0m\u001b[90m Float64 \u001b[0m\u001b[90m Int64  \u001b[0m\u001b[90m Int64  \u001b[0m\u001b[90m Int6\u001b[0m ⋯\n",
       "─────┼──────────────────────────────────────────────────────────────────────────\n",
       "   1 │    23     15.0     10.0       0   3.4909    3.355      24      26     2 ⋯\n",
       "   2 │    23      0.0     22.5       1   2.1       3.219      23      20     2\n",
       "   3 │    21     25.0     12.0       0   3.0851    3.306      21      24     2\n",
       "   4 │    22     30.0     40.0       0   2.6805    3.977      31      28     3\n",
       "   5 │    22     25.0     15.0       1   3.7454    3.89       28      31     3 ⋯\n",
       "\u001b[36m                                                               9 columns omitted\u001b[0m"
      ]
     },
     "execution_count": 11,
     "metadata": {},
     "output_type": "execute_result"
    }
   ],
   "source": [
    "first(df, 5)"
   ]
  },
  {
   "cell_type": "code",
   "execution_count": 4,
   "id": "6f3b251e-2f4f-449a-962b-5a4c55d5b58a",
   "metadata": {},
   "outputs": [
    {
     "data": {
      "text/plain": [
       "17-element Vector{String}:\n",
       " \"age\"\n",
       " \"work\"\n",
       " \"study\"\n",
       " \"econhs\"\n",
       " \"colgpa\"\n",
       " \"hsgpa\"\n",
       " \"acteng\"\n",
       " \"actmth\"\n",
       " \"act\"\n",
       " \"mathscr\"\n",
       " \"male\"\n",
       " \"calculus\"\n",
       " \"attexc\"\n",
       " \"attgood\"\n",
       " \"fathcoll\"\n",
       " \"mothcoll\"\n",
       " \"score\""
      ]
     },
     "execution_count": 4,
     "metadata": {},
     "output_type": "execute_result"
    }
   ],
   "source": [
    "names(df)"
   ]
  },
  {
   "cell_type": "code",
   "execution_count": 5,
   "id": "e1edb436-ad52-488a-bfd8-65f37a358aae",
   "metadata": {},
   "outputs": [
    {
     "data": {
      "text/html": [
       "<div class=\"data-frame\"><p>3 rows × 7 columns</p><table class=\"data-frame\"><thead><tr><th></th><th>variable</th><th>mean</th><th>min</th><th>median</th><th>max</th><th>nmissing</th><th>eltype</th></tr><tr><th></th><th title=\"Symbol\">Symbol</th><th title=\"Float64\">Float64</th><th title=\"Real\">Real</th><th title=\"Float64\">Float64</th><th title=\"Real\">Real</th><th title=\"Int64\">Int64</th><th title=\"DataType\">DataType</th></tr></thead><tbody><tr><th>1</th><td>actmth</td><td>23.2113</td><td>12</td><td>23.0</td><td>36</td><td>0</td><td>Int64</td></tr><tr><th>2</th><td>acteng</td><td>22.5946</td><td>12</td><td>23.0</td><td>34</td><td>0</td><td>Int64</td></tr><tr><th>3</th><td>score</td><td>72.6087</td><td>20.31</td><td>74.22</td><td>98.44</td><td>0</td><td>Float64</td></tr></tbody></table></div>"
      ],
      "text/latex": [
       "\\begin{tabular}{r|ccccccc}\n",
       "\t& variable & mean & min & median & max & nmissing & eltype\\\\\n",
       "\t\\hline\n",
       "\t& Symbol & Float64 & Real & Float64 & Real & Int64 & DataType\\\\\n",
       "\t\\hline\n",
       "\t1 & actmth & 23.2113 & 12 & 23.0 & 36 & 0 & Int64 \\\\\n",
       "\t2 & acteng & 22.5946 & 12 & 23.0 & 34 & 0 & Int64 \\\\\n",
       "\t3 & score & 72.6087 & 20.31 & 74.22 & 98.44 & 0 & Float64 \\\\\n",
       "\\end{tabular}\n"
      ],
      "text/plain": [
       "\u001b[1m3×7 DataFrame\u001b[0m\n",
       "\u001b[1m Row \u001b[0m│\u001b[1m variable \u001b[0m\u001b[1m mean    \u001b[0m\u001b[1m min   \u001b[0m\u001b[1m median  \u001b[0m\u001b[1m max   \u001b[0m\u001b[1m nmissing \u001b[0m\u001b[1m eltype   \u001b[0m\n",
       "\u001b[1m     \u001b[0m│\u001b[90m Symbol   \u001b[0m\u001b[90m Float64 \u001b[0m\u001b[90m Real  \u001b[0m\u001b[90m Float64 \u001b[0m\u001b[90m Real  \u001b[0m\u001b[90m Int64    \u001b[0m\u001b[90m DataType \u001b[0m\n",
       "─────┼──────────────────────────────────────────────────────────────\n",
       "   1 │ actmth    23.2113  12       23.0   36            0  Int64\n",
       "   2 │ acteng    22.5946  12       23.0   34            0  Int64\n",
       "   3 │ score     72.6087  20.31    74.22  98.44         0  Float64"
      ]
     },
     "execution_count": 5,
     "metadata": {},
     "output_type": "execute_result"
    }
   ],
   "source": [
    "describe(df[:, [:actmth, :acteng, :score]])"
   ]
  },
  {
   "cell_type": "markdown",
   "id": "37079bf7-8b84-4ecb-b6a5-14e7ad471b65",
   "metadata": {},
   "source": [
    "# step 3: regression result of  $score = \\beta_0 + \\beta_1 \\cdot colgpa + \\beta_2 \\cdot actmth + \\beta_3 \\cdot acteng + u$"
   ]
  },
  {
   "cell_type": "code",
   "execution_count": 7,
   "id": "dc38b4b7-fb14-4be4-911b-6acb2675f093",
   "metadata": {},
   "outputs": [
    {
     "data": {
      "text/plain": [
       "StatsModels.TableRegressionModel{LinearModel{GLM.LmResp{Vector{Float64}}, GLM.DensePredChol{Float64, LinearAlgebra.CholeskyPivoted{Float64, Matrix{Float64}}}}, Matrix{Float64}}\n",
       "\n",
       "score ~ 1 + colgpa + actmth + acteng\n",
       "\n",
       "Coefficients:\n",
       "─────────────────────────────────────────────────────────────────────────\n",
       "                 Coef.  Std. Error      t  Pr(>|t|)  Lower 95%  Upper 95%\n",
       "─────────────────────────────────────────────────────────────────────────\n",
       "(Intercept)  16.174       2.80044    5.78    <1e-07  10.677      21.671\n",
       "colgpa       12.3662      0.715062  17.29    <1e-56  10.9626     13.7698\n",
       "actmth        0.883352    0.112198   7.87    <1e-13   0.663118    1.10359\n",
       "acteng        0.051764    0.111063   0.47    0.6413  -0.166241    0.26977\n",
       "─────────────────────────────────────────────────────────────────────────"
      ]
     },
     "execution_count": 7,
     "metadata": {},
     "output_type": "execute_result"
    }
   ],
   "source": [
    "fm0 = @formula(score ~ 1 + colgpa + actmth + acteng)\n",
    "OLS_model = lm(fm0, df)"
   ]
  },
  {
   "cell_type": "code",
   "execution_count": 8,
   "id": "4a4960bc-ab4e-4038-8f14-16e50e7a1b4e",
   "metadata": {},
   "outputs": [
    {
     "data": {
      "text/plain": [
       "0.39723479304927745"
      ]
     },
     "execution_count": 8,
     "metadata": {},
     "output_type": "execute_result"
    }
   ],
   "source": [
    "r2(OLS_model)"
   ]
  },
  {
   "cell_type": "markdown",
   "id": "1ca385a0-ed03-4053-bd5a-8bb5806a14f0",
   "metadata": {},
   "source": [
    "# standard each variable and redo regression"
   ]
  },
  {
   "cell_type": "code",
   "execution_count": 9,
   "id": "6f34516a-b180-4a2e-ad3d-250def7569a0",
   "metadata": {},
   "outputs": [],
   "source": [
    "df1 = dropmissing(select(df, [:actmth, :acteng, :score, :colgpa]));\n",
    "\n",
    "df1[!,:actmth] = (df1[!, :actmth] .- mean(df1[!, :actmth])) ./ std(df1[!, :actmth]);\n",
    "df1[!,:acteng] = (df1[!, :acteng] .- mean(df1[!, :acteng])) ./ std(df1[!, :acteng]);\n",
    "df1[!,:colgpa] = (df1[!, :colgpa] .- mean(df1[!, :colgpa])) ./ std(df1[!, :colgpa]);\n",
    "df1[!,:score] = (df1[!, :score] .- mean(df1[!, :score])) ./ std(df1[!, :score]);\n"
   ]
  },
  {
   "cell_type": "code",
   "execution_count": 10,
   "id": "1ec7f4af-0601-411a-a30e-a3e9d2fc420e",
   "metadata": {},
   "outputs": [
    {
     "data": {
      "text/html": [
       "<div class=\"data-frame\"><p>5 rows × 4 columns</p><table class=\"data-frame\"><thead><tr><th></th><th>actmth</th><th>acteng</th><th>score</th><th>colgpa</th></tr><tr><th></th><th title=\"Float64\">Float64</th><th title=\"Float64\">Float64</th><th title=\"Float64\">Float64</th><th title=\"Float64\">Float64</th></tr></thead><tbody><tr><th>1</th><td>0.73905</td><td>0.370943</td><td>0.888517</td><td>1.26096</td></tr><tr><th>2</th><td>-0.851047</td><td>0.107003</td><td>-1.14463</td><td>-1.31864</td></tr><tr><th>3</th><td>0.209018</td><td>-0.420878</td><td>-0.467416</td><td>0.508354</td></tr><tr><th>4</th><td>1.26908</td><td>2.21853</td><td>0.641984</td><td>-0.242027</td></tr><tr><th>5</th><td>2.06413</td><td>1.4267</td><td>1.75063</td><td>1.73296</td></tr></tbody></table></div>"
      ],
      "text/latex": [
       "\\begin{tabular}{r|cccc}\n",
       "\t& actmth & acteng & score & colgpa\\\\\n",
       "\t\\hline\n",
       "\t& Float64 & Float64 & Float64 & Float64\\\\\n",
       "\t\\hline\n",
       "\t1 & 0.73905 & 0.370943 & 0.888517 & 1.26096 \\\\\n",
       "\t2 & -0.851047 & 0.107003 & -1.14463 & -1.31864 \\\\\n",
       "\t3 & 0.209018 & -0.420878 & -0.467416 & 0.508354 \\\\\n",
       "\t4 & 1.26908 & 2.21853 & 0.641984 & -0.242027 \\\\\n",
       "\t5 & 2.06413 & 1.4267 & 1.75063 & 1.73296 \\\\\n",
       "\\end{tabular}\n"
      ],
      "text/plain": [
       "\u001b[1m5×4 DataFrame\u001b[0m\n",
       "\u001b[1m Row \u001b[0m│\u001b[1m actmth    \u001b[0m\u001b[1m acteng    \u001b[0m\u001b[1m score     \u001b[0m\u001b[1m colgpa    \u001b[0m\n",
       "\u001b[1m     \u001b[0m│\u001b[90m Float64   \u001b[0m\u001b[90m Float64   \u001b[0m\u001b[90m Float64   \u001b[0m\u001b[90m Float64   \u001b[0m\n",
       "─────┼────────────────────────────────────────────\n",
       "   1 │  0.73905    0.370943   0.888517   1.26096\n",
       "   2 │ -0.851047   0.107003  -1.14463   -1.31864\n",
       "   3 │  0.209018  -0.420878  -0.467416   0.508354\n",
       "   4 │  1.26908    2.21853    0.641984  -0.242027\n",
       "   5 │  2.06413    1.4267     1.75063    1.73296"
      ]
     },
     "execution_count": 10,
     "metadata": {},
     "output_type": "execute_result"
    }
   ],
   "source": [
    "first(df1, 5)"
   ]
  },
  {
   "cell_type": "code",
   "execution_count": 12,
   "id": "f40ab831-24c1-44f8-ae7f-9fe651ef0802",
   "metadata": {},
   "outputs": [
    {
     "data": {
      "text/plain": [
       "StatsModels.TableRegressionModel{LinearModel{GLM.LmResp{Vector{Float64}}, GLM.DensePredChol{Float64, LinearAlgebra.CholeskyPivoted{Float64, Matrix{Float64}}}}, Matrix{Float64}}\n",
       "\n",
       "score ~ 1 + colgpa + actmth + acteng\n",
       "\n",
       "Coefficients:\n",
       "────────────────────────────────────────────────────────────────────────────\n",
       "                   Coef.  Std. Error      t  Pr(>|t|)   Lower 95%  Upper 95%\n",
       "────────────────────────────────────────────────────────────────────────────\n",
       "(Intercept)  2.44606e-16   0.0272624   0.00    1.0000  -0.0535134  0.0535134\n",
       "colgpa       0.501166      0.0289794  17.29    <1e-56   0.444283   0.55805\n",
       "actmth       0.250532      0.0318211   7.87    <1e-13   0.18807    0.312993\n",
       "acteng       0.0147409     0.0316276   0.47    0.6413  -0.0473408  0.0768225\n",
       "────────────────────────────────────────────────────────────────────────────"
      ]
     },
     "execution_count": 12,
     "metadata": {},
     "output_type": "execute_result"
    }
   ],
   "source": [
    "OLS_model = lm(fm0, df1)"
   ]
  },
  {
   "cell_type": "code",
   "execution_count": 13,
   "id": "c32c4d1c-20a3-4553-a99e-a604c4d3f291",
   "metadata": {},
   "outputs": [
    {
     "data": {
      "text/plain": [
       "0.39723479304927733"
      ]
     },
     "execution_count": 13,
     "metadata": {},
     "output_type": "execute_result"
    }
   ],
   "source": [
    "r2(OLS_model)"
   ]
  },
  {
   "cell_type": "markdown",
   "id": "e1c8fde0-2813-45a7-927c-0894c819f437",
   "metadata": {},
   "source": [
    "# Question 3"
   ]
  },
  {
   "cell_type": "code",
   "execution_count": 14,
   "id": "65194eec-9b89-4ca2-bf32-c851d1a3dbe3",
   "metadata": {},
   "outputs": [],
   "source": [
    "df1 = dropmissing(CSV.read(\"hprice1.csv\", DataFrame));"
   ]
  },
  {
   "cell_type": "code",
   "execution_count": 15,
   "id": "5fbafc89-34da-46c8-9bc3-40745e0827dd",
   "metadata": {},
   "outputs": [
    {
     "data": {
      "text/plain": [
       "10-element Vector{String}:\n",
       " \"price\"\n",
       " \"assess\"\n",
       " \"bdrms\"\n",
       " \"lotsize\"\n",
       " \"sqrft\"\n",
       " \"colonial\"\n",
       " \"lprice\"\n",
       " \"lassess\"\n",
       " \"llotsize\"\n",
       " \"lsqrft\""
      ]
     },
     "execution_count": 15,
     "metadata": {},
     "output_type": "execute_result"
    }
   ],
   "source": [
    "names(df1)"
   ]
  },
  {
   "cell_type": "markdown",
   "id": "5bd6ee3d-28a0-4384-b5a0-e882e01bf878",
   "metadata": {},
   "source": [
    "# step 1: summary statistics"
   ]
  },
  {
   "cell_type": "code",
   "execution_count": 16,
   "id": "efb692a2-a7fe-4393-adcb-5f4d5bf3625f",
   "metadata": {},
   "outputs": [
    {
     "data": {
      "text/html": [
       "<div class=\"data-frame\"><p>3 rows × 7 columns</p><table class=\"data-frame\"><thead><tr><th></th><th>variable</th><th>mean</th><th>min</th><th>median</th><th>max</th><th>nmissing</th><th>eltype</th></tr><tr><th></th><th title=\"Symbol\">Symbol</th><th title=\"Float64\">Float64</th><th title=\"Real\">Real</th><th title=\"Float64\">Float64</th><th title=\"Real\">Real</th><th title=\"Int64\">Int64</th><th title=\"DataType\">DataType</th></tr></thead><tbody><tr><th>1</th><td>price</td><td>293.546</td><td>111.0</td><td>265.5</td><td>725.0</td><td>0</td><td>Float64</td></tr><tr><th>2</th><td>sqrft</td><td>2013.69</td><td>1171</td><td>1845.0</td><td>3880</td><td>0</td><td>Int64</td></tr><tr><th>3</th><td>bdrms</td><td>3.56818</td><td>2</td><td>3.0</td><td>7</td><td>0</td><td>Int64</td></tr></tbody></table></div>"
      ],
      "text/latex": [
       "\\begin{tabular}{r|ccccccc}\n",
       "\t& variable & mean & min & median & max & nmissing & eltype\\\\\n",
       "\t\\hline\n",
       "\t& Symbol & Float64 & Real & Float64 & Real & Int64 & DataType\\\\\n",
       "\t\\hline\n",
       "\t1 & price & 293.546 & 111.0 & 265.5 & 725.0 & 0 & Float64 \\\\\n",
       "\t2 & sqrft & 2013.69 & 1171 & 1845.0 & 3880 & 0 & Int64 \\\\\n",
       "\t3 & bdrms & 3.56818 & 2 & 3.0 & 7 & 0 & Int64 \\\\\n",
       "\\end{tabular}\n"
      ],
      "text/plain": [
       "\u001b[1m3×7 DataFrame\u001b[0m\n",
       "\u001b[1m Row \u001b[0m│\u001b[1m variable \u001b[0m\u001b[1m mean       \u001b[0m\u001b[1m min    \u001b[0m\u001b[1m median  \u001b[0m\u001b[1m max    \u001b[0m\u001b[1m nmissing \u001b[0m\u001b[1m eltype   \u001b[0m\n",
       "\u001b[1m     \u001b[0m│\u001b[90m Symbol   \u001b[0m\u001b[90m Float64    \u001b[0m\u001b[90m Real   \u001b[0m\u001b[90m Float64 \u001b[0m\u001b[90m Real   \u001b[0m\u001b[90m Int64    \u001b[0m\u001b[90m DataType \u001b[0m\n",
       "─────┼───────────────────────────────────────────────────────────────────\n",
       "   1 │ price      293.546     111.0    265.5   725.0         0  Float64\n",
       "   2 │ sqrft     2013.69     1171     1845.0  3880           0  Int64\n",
       "   3 │ bdrms        3.56818     2        3.0     7           0  Int64"
      ]
     },
     "execution_count": 16,
     "metadata": {},
     "output_type": "execute_result"
    }
   ],
   "source": [
    "describe(df1[:, [:price, :sqrft, :bdrms]])"
   ]
  },
  {
   "cell_type": "markdown",
   "id": "b7a8d1f4-57fe-48cf-8ce8-3136fea9b47f",
   "metadata": {},
   "source": [
    "# step 2: regression"
   ]
  },
  {
   "cell_type": "code",
   "execution_count": 17,
   "id": "d87b0d79-ef3c-49a6-b669-c122855974e6",
   "metadata": {},
   "outputs": [
    {
     "data": {
      "text/plain": [
       "StatsModels.TableRegressionModel{LinearModel{GLM.LmResp{Vector{Float64}}, GLM.DensePredChol{Float64, LinearAlgebra.CholeskyPivoted{Float64, Matrix{Float64}}}}, Matrix{Float64}}\n",
       "\n",
       "price ~ 1 + sqrft + bdrms\n",
       "\n",
       "Coefficients:\n",
       "───────────────────────────────────────────────────────────────────────────\n",
       "                  Coef.  Std. Error      t  Pr(>|t|)   Lower 95%  Upper 95%\n",
       "───────────────────────────────────────────────────────────────────────────\n",
       "(Intercept)  -19.315     31.0466     -0.62    0.5355  -81.044     42.414\n",
       "sqrft          0.128436   0.0138245   9.29    <1e-13    0.100949   0.155923\n",
       "bdrms         15.1982     9.48352     1.60    0.1127   -3.65758   34.054\n",
       "───────────────────────────────────────────────────────────────────────────"
      ]
     },
     "execution_count": 17,
     "metadata": {},
     "output_type": "execute_result"
    }
   ],
   "source": [
    "fm1 = @formula(price ~ 1 + sqrft + bdrms)\n",
    "OLS_model1 = lm(fm1, df1)"
   ]
  },
  {
   "cell_type": "markdown",
   "id": "d46601bb-9de8-4181-b62c-fa8ef84d6ab8",
   "metadata": {},
   "source": [
    "# standardized regression"
   ]
  },
  {
   "cell_type": "code",
   "execution_count": 18,
   "id": "04fa4773-3bb8-4830-96e4-cbbb116988e0",
   "metadata": {},
   "outputs": [],
   "source": [
    "df1[!,:price] = (df1[!, :price] .- mean(df1[!, :price])) ./ std(df1[!, :price]);\n",
    "df1[!,:sqrft] = (df1[!, :sqrft] .- mean(df1[!, :sqrft])) ./ std(df1[!, :sqrft]);\n",
    "df1[!,:bdrms] = (df1[!, :bdrms] .- mean(df1[!, :bdrms])) ./ std(df1[!, :bdrms]);"
   ]
  },
  {
   "cell_type": "code",
   "execution_count": 19,
   "id": "586631f2-6969-4762-9d5c-1cbfec1b1425",
   "metadata": {},
   "outputs": [
    {
     "data": {
      "text/plain": [
       "StatsModels.TableRegressionModel{LinearModel{GLM.LmResp{Vector{Float64}}, GLM.DensePredChol{Float64, LinearAlgebra.CholeskyPivoted{Float64, Matrix{Float64}}}}, Matrix{Float64}}\n",
       "\n",
       "price ~ 1 + sqrft + bdrms\n",
       "\n",
       "Coefficients:\n",
       "───────────────────────────────────────────────────────────────────────────\n",
       "                   Coef.  Std. Error     t  Pr(>|t|)   Lower 95%  Upper 95%\n",
       "───────────────────────────────────────────────────────────────────────────\n",
       "(Intercept)  1.05753e-16   0.0654306  0.00    1.0000  -0.130094    0.130094\n",
       "sqrft        0.721739      0.0776857  9.29    <1e-13   0.567279    0.876199\n",
       "bdrms        0.124498      0.0776857  1.60    0.1127  -0.0299616   0.278958\n",
       "───────────────────────────────────────────────────────────────────────────"
      ]
     },
     "execution_count": 19,
     "metadata": {},
     "output_type": "execute_result"
    }
   ],
   "source": [
    "OLS_model2 = lm(fm1, df1)"
   ]
  },
  {
   "cell_type": "markdown",
   "id": "f4785306-92b6-448c-a7ae-4233b73fd9b3",
   "metadata": {},
   "source": [
    "# step 3: prediction on an \"imaginary\" observation"
   ]
  },
  {
   "cell_type": "code",
   "execution_count": 20,
   "id": "42d04e4d-9bca-4da6-987a-7b3f9837262f",
   "metadata": {},
   "outputs": [
    {
     "data": {
      "text/html": [
       "<div class=\"data-frame\"><p>1 rows × 3 columns</p><table class=\"data-frame\"><thead><tr><th></th><th>price</th><th>sqrft</th><th>bdrms</th></tr><tr><th></th><th title=\"Int64\">Int64</th><th title=\"Int64\">Int64</th><th title=\"Int64\">Int64</th></tr></thead><tbody><tr><th>1</th><td>300</td><td>2438</td><td>4</td></tr></tbody></table></div>"
      ],
      "text/latex": [
       "\\begin{tabular}{r|ccc}\n",
       "\t& price & sqrft & bdrms\\\\\n",
       "\t\\hline\n",
       "\t& Int64 & Int64 & Int64\\\\\n",
       "\t\\hline\n",
       "\t1 & 300 & 2438 & 4 \\\\\n",
       "\\end{tabular}\n"
      ],
      "text/plain": [
       "\u001b[1m1×3 DataFrame\u001b[0m\n",
       "\u001b[1m Row \u001b[0m│\u001b[1m price \u001b[0m\u001b[1m sqrft \u001b[0m\u001b[1m bdrms \u001b[0m\n",
       "\u001b[1m     \u001b[0m│\u001b[90m Int64 \u001b[0m\u001b[90m Int64 \u001b[0m\u001b[90m Int64 \u001b[0m\n",
       "─────┼─────────────────────\n",
       "   1 │   300   2438      4"
      ]
     },
     "execution_count": 20,
     "metadata": {},
     "output_type": "execute_result"
    }
   ],
   "source": [
    "df2 = DataFrame(price = 300, sqrft = 2438, bdrms=4)"
   ]
  },
  {
   "cell_type": "code",
   "execution_count": 21,
   "id": "b27d55ed-e6c9-47ef-869b-fafd627e2783",
   "metadata": {},
   "outputs": [
    {
     "data": {
      "text/plain": [
       "1-element Vector{Union{Missing, Float64}}:\n",
       " 354.6052488843119"
      ]
     },
     "execution_count": 21,
     "metadata": {},
     "output_type": "execute_result"
    }
   ],
   "source": [
    "df2[:,:yhat] = predict(OLS_model1, df2)"
   ]
  },
  {
   "cell_type": "markdown",
   "id": "af72ddcb-d44b-41a4-9da6-618bc731fe22",
   "metadata": {},
   "source": [
    "# step 4: compute the prediction error"
   ]
  },
  {
   "cell_type": "code",
   "execution_count": 22,
   "id": "309bf272-5414-4207-888f-fccceaacb2ab",
   "metadata": {},
   "outputs": [
    {
     "data": {
      "text/plain": [
       "1-element Vector{Float64}:\n",
       " -54.60524888431189"
      ]
     },
     "execution_count": 22,
     "metadata": {},
     "output_type": "execute_result"
    }
   ],
   "source": [
    "df2[:,:ehat] = df2[:,:price] .- df2[:,:yhat]"
   ]
  },
  {
   "cell_type": "code",
   "execution_count": null,
   "id": "27dba102-64f5-4d84-a9ed-30abec45642d",
   "metadata": {},
   "outputs": [],
   "source": []
  }
 ],
 "metadata": {
  "kernelspec": {
   "display_name": "Julia 1.6.2",
   "language": "julia",
   "name": "julia-1.6"
  },
  "language_info": {
   "file_extension": ".jl",
   "mimetype": "application/julia",
   "name": "julia",
   "version": "1.6.2"
  }
 },
 "nbformat": 4,
 "nbformat_minor": 5
}
