{
 "cells": [
  {
   "cell_type": "code",
   "execution_count": 1,
   "id": "heated-grass",
   "metadata": {},
   "outputs": [],
   "source": [
    "%reset -f"
   ]
  },
  {
   "cell_type": "code",
   "execution_count": 2,
   "id": "finished-dealer",
   "metadata": {},
   "outputs": [],
   "source": [
    "import numpy             as np\n",
    "import statsmodels.api   as sm\n",
    "import pandas            as pd\n",
    "import seaborn           as sns\n",
    "\n",
    "from linearmodels.iv            import IV2SLS\n",
    "from statsmodels.iolib.summary2 import summary_col\n",
    "from collections                import OrderedDict\n",
    "from linearmodels.iv.results    import compare"
   ]
  },
  {
   "cell_type": "code",
   "execution_count": 3,
   "id": "bulgarian-carnival",
   "metadata": {},
   "outputs": [],
   "source": [
    "df = pd.read_csv(\"SMOKE.csv\")"
   ]
  },
  {
   "cell_type": "code",
   "execution_count": 4,
   "id": "universal-stack",
   "metadata": {},
   "outputs": [
    {
     "data": {
      "text/plain": [
       "Index(['educ', 'cigpric', 'white', 'age', 'income', 'cigs', 'restaurn',\n",
       "       'lincome', 'agesq', 'lcigpric'],\n",
       "      dtype='object')"
      ]
     },
     "execution_count": 4,
     "metadata": {},
     "output_type": "execute_result"
    }
   ],
   "source": [
    "df.columns"
   ]
  },
  {
   "cell_type": "code",
   "execution_count": 5,
   "id": "hairy-permit",
   "metadata": {},
   "outputs": [],
   "source": [
    "df = sm.add_constant(df)"
   ]
  },
  {
   "cell_type": "code",
   "execution_count": 6,
   "id": "after-trigger",
   "metadata": {},
   "outputs": [
    {
     "data": {
      "text/plain": [
       "Index(['const', 'educ', 'cigpric', 'white', 'age', 'income', 'cigs',\n",
       "       'restaurn', 'lincome', 'agesq', 'lcigpric'],\n",
       "      dtype='object')"
      ]
     },
     "execution_count": 6,
     "metadata": {},
     "output_type": "execute_result"
    }
   ],
   "source": [
    "df.columns"
   ]
  },
  {
   "cell_type": "code",
   "execution_count": 7,
   "id": "incorrect-marble",
   "metadata": {},
   "outputs": [
    {
     "data": {
      "text/html": [
       "<div>\n",
       "<style scoped>\n",
       "    .dataframe tbody tr th:only-of-type {\n",
       "        vertical-align: middle;\n",
       "    }\n",
       "\n",
       "    .dataframe tbody tr th {\n",
       "        vertical-align: top;\n",
       "    }\n",
       "\n",
       "    .dataframe thead th {\n",
       "        text-align: right;\n",
       "    }\n",
       "</style>\n",
       "<table border=\"1\" class=\"dataframe\">\n",
       "  <thead>\n",
       "    <tr style=\"text-align: right;\">\n",
       "      <th></th>\n",
       "      <th>const</th>\n",
       "      <th>educ</th>\n",
       "      <th>cigpric</th>\n",
       "      <th>white</th>\n",
       "      <th>age</th>\n",
       "      <th>income</th>\n",
       "      <th>cigs</th>\n",
       "      <th>restaurn</th>\n",
       "      <th>lincome</th>\n",
       "      <th>agesq</th>\n",
       "      <th>lcigpric</th>\n",
       "    </tr>\n",
       "  </thead>\n",
       "  <tbody>\n",
       "    <tr>\n",
       "      <th>count</th>\n",
       "      <td>807.0</td>\n",
       "      <td>807.000000</td>\n",
       "      <td>807.000000</td>\n",
       "      <td>807.000000</td>\n",
       "      <td>807.000000</td>\n",
       "      <td>807.000000</td>\n",
       "      <td>807.000000</td>\n",
       "      <td>807.000000</td>\n",
       "      <td>807.000000</td>\n",
       "      <td>807.000000</td>\n",
       "      <td>807.000000</td>\n",
       "    </tr>\n",
       "    <tr>\n",
       "      <th>mean</th>\n",
       "      <td>1.0</td>\n",
       "      <td>12.470880</td>\n",
       "      <td>60.300411</td>\n",
       "      <td>0.878563</td>\n",
       "      <td>41.237918</td>\n",
       "      <td>19304.832714</td>\n",
       "      <td>8.686493</td>\n",
       "      <td>0.246592</td>\n",
       "      <td>9.687316</td>\n",
       "      <td>1990.135068</td>\n",
       "      <td>4.096032</td>\n",
       "    </tr>\n",
       "    <tr>\n",
       "      <th>std</th>\n",
       "      <td>0.0</td>\n",
       "      <td>3.057161</td>\n",
       "      <td>4.738469</td>\n",
       "      <td>0.326837</td>\n",
       "      <td>17.027285</td>\n",
       "      <td>9142.958290</td>\n",
       "      <td>13.721516</td>\n",
       "      <td>0.431295</td>\n",
       "      <td>0.712696</td>\n",
       "      <td>1577.165644</td>\n",
       "      <td>0.082919</td>\n",
       "    </tr>\n",
       "    <tr>\n",
       "      <th>min</th>\n",
       "      <td>1.0</td>\n",
       "      <td>6.000000</td>\n",
       "      <td>44.004002</td>\n",
       "      <td>0.000000</td>\n",
       "      <td>17.000000</td>\n",
       "      <td>500.000000</td>\n",
       "      <td>0.000000</td>\n",
       "      <td>0.000000</td>\n",
       "      <td>6.214608</td>\n",
       "      <td>289.000000</td>\n",
       "      <td>3.784280</td>\n",
       "    </tr>\n",
       "    <tr>\n",
       "      <th>25%</th>\n",
       "      <td>1.0</td>\n",
       "      <td>10.000000</td>\n",
       "      <td>58.141498</td>\n",
       "      <td>1.000000</td>\n",
       "      <td>28.000000</td>\n",
       "      <td>12500.000000</td>\n",
       "      <td>0.000000</td>\n",
       "      <td>0.000000</td>\n",
       "      <td>9.433484</td>\n",
       "      <td>784.000000</td>\n",
       "      <td>4.062880</td>\n",
       "    </tr>\n",
       "    <tr>\n",
       "      <th>50%</th>\n",
       "      <td>1.0</td>\n",
       "      <td>12.000000</td>\n",
       "      <td>61.053001</td>\n",
       "      <td>1.000000</td>\n",
       "      <td>38.000000</td>\n",
       "      <td>20000.000000</td>\n",
       "      <td>0.000000</td>\n",
       "      <td>0.000000</td>\n",
       "      <td>9.903487</td>\n",
       "      <td>1444.000000</td>\n",
       "      <td>4.111743</td>\n",
       "    </tr>\n",
       "    <tr>\n",
       "      <th>75%</th>\n",
       "      <td>1.0</td>\n",
       "      <td>13.500000</td>\n",
       "      <td>63.179001</td>\n",
       "      <td>1.000000</td>\n",
       "      <td>54.000000</td>\n",
       "      <td>30000.000000</td>\n",
       "      <td>20.000000</td>\n",
       "      <td>0.000000</td>\n",
       "      <td>10.308952</td>\n",
       "      <td>2916.000000</td>\n",
       "      <td>4.145972</td>\n",
       "    </tr>\n",
       "    <tr>\n",
       "      <th>max</th>\n",
       "      <td>1.0</td>\n",
       "      <td>18.000000</td>\n",
       "      <td>70.128998</td>\n",
       "      <td>1.000000</td>\n",
       "      <td>88.000000</td>\n",
       "      <td>30000.000000</td>\n",
       "      <td>80.000000</td>\n",
       "      <td>1.000000</td>\n",
       "      <td>10.308952</td>\n",
       "      <td>7744.000000</td>\n",
       "      <td>4.250336</td>\n",
       "    </tr>\n",
       "  </tbody>\n",
       "</table>\n",
       "</div>"
      ],
      "text/plain": [
       "       const        educ     cigpric       white         age        income  \\\n",
       "count  807.0  807.000000  807.000000  807.000000  807.000000    807.000000   \n",
       "mean     1.0   12.470880   60.300411    0.878563   41.237918  19304.832714   \n",
       "std      0.0    3.057161    4.738469    0.326837   17.027285   9142.958290   \n",
       "min      1.0    6.000000   44.004002    0.000000   17.000000    500.000000   \n",
       "25%      1.0   10.000000   58.141498    1.000000   28.000000  12500.000000   \n",
       "50%      1.0   12.000000   61.053001    1.000000   38.000000  20000.000000   \n",
       "75%      1.0   13.500000   63.179001    1.000000   54.000000  30000.000000   \n",
       "max      1.0   18.000000   70.128998    1.000000   88.000000  30000.000000   \n",
       "\n",
       "             cigs    restaurn     lincome        agesq    lcigpric  \n",
       "count  807.000000  807.000000  807.000000   807.000000  807.000000  \n",
       "mean     8.686493    0.246592    9.687316  1990.135068    4.096032  \n",
       "std     13.721516    0.431295    0.712696  1577.165644    0.082919  \n",
       "min      0.000000    0.000000    6.214608   289.000000    3.784280  \n",
       "25%      0.000000    0.000000    9.433484   784.000000    4.062880  \n",
       "50%      0.000000    0.000000    9.903487  1444.000000    4.111743  \n",
       "75%     20.000000    0.000000   10.308952  2916.000000    4.145972  \n",
       "max     80.000000    1.000000   10.308952  7744.000000    4.250336  "
      ]
     },
     "execution_count": 7,
     "metadata": {},
     "output_type": "execute_result"
    }
   ],
   "source": [
    "df.describe()"
   ]
  },
  {
   "cell_type": "markdown",
   "id": "eleven-physics",
   "metadata": {},
   "source": [
    "# (d) fitting the income equation via OLS"
   ]
  },
  {
   "cell_type": "code",
   "execution_count": 9,
   "id": "careful-quality",
   "metadata": {},
   "outputs": [
    {
     "name": "stdout",
     "output_type": "stream",
     "text": [
      "                            OLS Regression Results                            \n",
      "==============================================================================\n",
      "Dep. Variable:                lincome   R-squared:                       0.165\n",
      "Model:                            OLS   Adj. R-squared:                  0.161\n",
      "Method:                 Least Squares   F-statistic:                     39.61\n",
      "Date:                Tue, 20 Apr 2021   Prob (F-statistic):           2.68e-30\n",
      "Time:                        02:13:21   Log-Likelihood:                -798.50\n",
      "No. Observations:                 807   AIC:                             1607.\n",
      "Df Residuals:                     802   BIC:                             1630.\n",
      "Df Model:                           4                                         \n",
      "Covariance Type:            nonrobust                                         \n",
      "==============================================================================\n",
      "                 coef    std err          t      P>|t|      [0.025      0.975]\n",
      "------------------------------------------------------------------------------\n",
      "const          7.7954      0.170     45.741      0.000       7.461       8.130\n",
      "cigs           0.0017      0.002      1.010      0.313      -0.002       0.005\n",
      "educ           0.0604      0.008      7.642      0.000       0.045       0.076\n",
      "age            0.0577      0.008      7.548      0.000       0.043       0.073\n",
      "agesq         -0.0006   8.34e-05     -7.563      0.000      -0.001      -0.000\n",
      "==============================================================================\n",
      "Omnibus:                      264.025   Durbin-Watson:                   1.908\n",
      "Prob(Omnibus):                  0.000   Jarque-Bera (JB):              960.744\n",
      "Skew:                          -1.531   Prob(JB):                    2.38e-209\n",
      "Kurtosis:                       7.381   Cond. No.                     1.88e+04\n",
      "==============================================================================\n",
      "\n",
      "Notes:\n",
      "[1] Standard Errors assume that the covariance matrix of the errors is correctly specified.\n",
      "[2] The condition number is large, 1.88e+04. This might indicate that there are\n",
      "strong multicollinearity or other numerical problems.\n"
     ]
    }
   ],
   "source": [
    "X_d   = df[['const', 'cigs', 'educ', 'age', 'agesq']]\n",
    "Y_d   = df[['lincome']]\n",
    "M_OLS = sm.OLS(Y_d, X_d, missing='drop')\n",
    "\n",
    "OLS_result = M_OLS.fit()\n",
    "print(OLS_result.summary())"
   ]
  },
  {
   "cell_type": "markdown",
   "id": "israeli-effectiveness",
   "metadata": {},
   "source": [
    "# (e) reduced form"
   ]
  },
  {
   "cell_type": "code",
   "execution_count": 10,
   "id": "curious-structure",
   "metadata": {},
   "outputs": [
    {
     "name": "stdout",
     "output_type": "stream",
     "text": [
      "                            OLS Regression Results                            \n",
      "==============================================================================\n",
      "Dep. Variable:                   cigs   R-squared:                       0.051\n",
      "Model:                            OLS   Adj. R-squared:                  0.045\n",
      "Method:                 Least Squares   F-statistic:                     8.610\n",
      "Date:                Tue, 20 Apr 2021   Prob (F-statistic):           5.86e-08\n",
      "Time:                        02:16:11   Log-Likelihood:                -3237.0\n",
      "No. Observations:                 807   AIC:                             6486.\n",
      "Df Residuals:                     801   BIC:                             6514.\n",
      "Df Model:                           5                                         \n",
      "Covariance Type:            nonrobust                                         \n",
      "==============================================================================\n",
      "                 coef    std err          t      P>|t|      [0.025      0.975]\n",
      "------------------------------------------------------------------------------\n",
      "const          1.5801     23.696      0.067      0.947     -44.933      48.093\n",
      "educ          -0.4501      0.162     -2.785      0.005      -0.767      -0.133\n",
      "age            0.8225      0.154      5.330      0.000       0.520       1.125\n",
      "agesq         -0.0096      0.002     -5.711      0.000      -0.013      -0.006\n",
      "lcigpric      -0.3513      5.766     -0.061      0.951     -11.669      10.966\n",
      "restaurn      -2.7364      1.110     -2.466      0.014      -4.915      -0.558\n",
      "==============================================================================\n",
      "Omnibus:                      226.788   Durbin-Watson:                   2.010\n",
      "Prob(Omnibus):                  0.000   Jarque-Bera (JB):              500.148\n",
      "Skew:                           1.543   Prob(JB):                    2.48e-109\n",
      "Kurtosis:                       5.313   Cond. No.                     1.31e+05\n",
      "==============================================================================\n",
      "\n",
      "Notes:\n",
      "[1] Standard Errors assume that the covariance matrix of the errors is correctly specified.\n",
      "[2] The condition number is large, 1.31e+05. This might indicate that there are\n",
      "strong multicollinearity or other numerical problems.\n"
     ]
    }
   ],
   "source": [
    "X_e   = df[['const', 'educ', 'age', 'agesq', 'lcigpric', 'restaurn']]\n",
    "Y_e   = df[['cigs']]\n",
    "M_Red = sm.OLS(Y_e, X_e, missing='drop')\n",
    "\n",
    "M_Red_result = M_Red.fit()\n",
    "print(M_Red_result.summary())"
   ]
  },
  {
   "cell_type": "markdown",
   "id": "broadband-horizontal",
   "metadata": {},
   "source": [
    "# (f) : 2SLS"
   ]
  },
  {
   "cell_type": "code",
   "execution_count": 11,
   "id": "broad-courage",
   "metadata": {},
   "outputs": [
    {
     "name": "stdout",
     "output_type": "stream",
     "text": [
      "                          IV-2SLS Estimation Summary                          \n",
      "==============================================================================\n",
      "Dep. Variable:                lincome   R-squared:                     -0.5169\n",
      "Estimator:                    IV-2SLS   Adj. R-squared:                -0.5245\n",
      "No. Observations:                 807   F-statistic:                    87.512\n",
      "Date:                Tue, Apr 20 2021   P-value (F-stat)                0.0000\n",
      "Time:                        02:18:15   Distribution:                  chi2(4)\n",
      "Cov. Estimator:                robust                                         \n",
      "                                                                              \n",
      "                             Parameter Estimates                              \n",
      "==============================================================================\n",
      "            Parameter  Std. Err.     T-stat    P-value    Lower CI    Upper CI\n",
      "------------------------------------------------------------------------------\n",
      "const          7.7809     0.2580     30.162     0.0000      7.2753      8.2865\n",
      "educ           0.0397     0.0155     2.5668     0.0103      0.0094      0.0700\n",
      "age            0.0938     0.0225     4.1702     0.0000      0.0497      0.1379\n",
      "agesq         -0.0011     0.0003    -4.0882     0.0000     -0.0016     -0.0005\n",
      "cigs          -0.0421     0.0242    -1.7410     0.0817     -0.0896      0.0053\n",
      "==============================================================================\n",
      "\n",
      "Endogenous: cigs\n",
      "Instruments: lcigpric, restaurn\n",
      "Robust Covariance (Heteroskedastic)\n",
      "Debiased: False\n"
     ]
    }
   ],
   "source": [
    "M_2SLS = IV2SLS(dependent=df['lincome'],\n",
    "                exog=df[['const', 'educ', 'age', 'agesq']],\n",
    "                endog=df[['cigs']],\n",
    "                instruments=df[['lcigpric', 'restaurn']]).fit()\n",
    "\n",
    "print(M_2SLS.summary)\n"
   ]
  },
  {
   "cell_type": "markdown",
   "id": "instrumental-three",
   "metadata": {},
   "source": [
    "# check whether the story you compiled is supported by the data\n",
    "\n",
    "# appearantly, all the IV stories in the previous questions are not supported by the data : all H0 cannot be rejected at 5%. "
   ]
  },
  {
   "cell_type": "code",
   "execution_count": 12,
   "id": "limited-monday",
   "metadata": {},
   "outputs": [
    {
     "data": {
      "text/plain": [
       "Wu-Hausman test of exogeneity\n",
       "H0: All endogenous variables are exogenous\n",
       "Statistic: 7.6289\n",
       "P-value: 0.0059\n",
       "Distributed: F(1,801)\n",
       "WaldTestStatistic, id: 0x7fa968231c10"
      ]
     },
     "execution_count": 12,
     "metadata": {},
     "output_type": "execute_result"
    }
   ],
   "source": [
    "M_2SLS.wu_hausman()"
   ]
  },
  {
   "cell_type": "code",
   "execution_count": 13,
   "id": "other-bryan",
   "metadata": {},
   "outputs": [
    {
     "data": {
      "text/plain": [
       "Durbin test of exogeneity\n",
       "H0: All endogenous variables are exogenous\n",
       "Statistic: 7.6135\n",
       "P-value: 0.0058\n",
       "Distributed: chi2(1)\n",
       "WaldTestStatistic, id: 0x7fa999791b10"
      ]
     },
     "execution_count": 13,
     "metadata": {},
     "output_type": "execute_result"
    }
   ],
   "source": [
    "M_2SLS.durbin()"
   ]
  },
  {
   "cell_type": "code",
   "execution_count": 16,
   "id": "random-rhythm",
   "metadata": {},
   "outputs": [
    {
     "data": {
      "text/plain": [
       "Wooldridge's regression test of exogeneity\n",
       "H0: Endogenous variables are exogenous\n",
       "Statistic: 5.5204\n",
       "P-value: 0.0188\n",
       "Distributed: chi2(1)\n",
       "WaldTestStatistic, id: 0x7fa9387327d0"
      ]
     },
     "execution_count": 16,
     "metadata": {},
     "output_type": "execute_result"
    }
   ],
   "source": [
    "M_2SLS.wooldridge_regression"
   ]
  },
  {
   "cell_type": "code",
   "execution_count": 17,
   "id": "square-conjunction",
   "metadata": {},
   "outputs": [
    {
     "data": {
      "text/plain": [
       "Wooldridge's score test of exogeneity\n",
       "H0: Endogenous variables are exogenous\n",
       "Statistic: 5.4268\n",
       "P-value: 0.0198\n",
       "Distributed: chi2(1)\n",
       "WaldTestStatistic, id: 0x7fa9a8570d10"
      ]
     },
     "execution_count": 17,
     "metadata": {},
     "output_type": "execute_result"
    }
   ],
   "source": [
    "M_2SLS.wooldridge_score"
   ]
  },
  {
   "cell_type": "code",
   "execution_count": 18,
   "id": "extensive-brooklyn",
   "metadata": {},
   "outputs": [
    {
     "name": "stdout",
     "output_type": "stream",
     "text": [
      "[NbConvertApp] Converting notebook W5_Python.ipynb to html\n",
      "[NbConvertApp] Writing 595006 bytes to W5_Python.html\n"
     ]
    }
   ],
   "source": [
    "!jupyter nbconvert --to html W5_Python.ipynb"
   ]
  },
  {
   "cell_type": "code",
   "execution_count": null,
   "id": "radio-cooling",
   "metadata": {},
   "outputs": [],
   "source": []
  }
 ],
 "metadata": {
  "kernelspec": {
   "display_name": "Python 3",
   "language": "python",
   "name": "python3"
  },
  "language_info": {
   "codemirror_mode": {
    "name": "ipython",
    "version": 3
   },
   "file_extension": ".py",
   "mimetype": "text/x-python",
   "name": "python",
   "nbconvert_exporter": "python",
   "pygments_lexer": "ipython3",
   "version": "3.7.10"
  }
 },
 "nbformat": 4,
 "nbformat_minor": 5
}
