{
 "cells": [
  {
   "cell_type": "code",
   "execution_count": 1,
   "id": "driving-anchor",
   "metadata": {},
   "outputs": [],
   "source": [
    "#clear your memory\n",
    "rm(list = ls())"
   ]
  },
  {
   "cell_type": "code",
   "execution_count": null,
   "id": "printable-guidance",
   "metadata": {},
   "outputs": [],
   "source": [
    "#update packages\n",
    "update.packages(ask = FALSE)\n",
    "\n",
    "ipak <- function(pkg){\n",
    "  new.pkg <- pkg[!(pkg %in% installed.packages()[, \"Package\"])]\n",
    "  if (length(new.pkg))\n",
    "    install.packages(new.pkg, dependencies = TRUE)\n",
    "  sapply(pkg, require, character.only = TRUE)\n",
    "}\n",
    "\n",
    "packages <- c('AER','stargazer')\n",
    "\n",
    "ipak(packages)"
   ]
  },
  {
   "cell_type": "code",
   "execution_count": 2,
   "id": "genetic-mirror",
   "metadata": {},
   "outputs": [
    {
     "name": "stderr",
     "output_type": "stream",
     "text": [
      "\n",
      "Attaching package: ‘dplyr’\n",
      "\n",
      "\n",
      "The following objects are masked from ‘package:stats’:\n",
      "\n",
      "    filter, lag\n",
      "\n",
      "\n",
      "The following objects are masked from ‘package:base’:\n",
      "\n",
      "    intersect, setdiff, setequal, union\n",
      "\n",
      "\n",
      "Loading required package: carData\n",
      "\n",
      "\n",
      "Attaching package: ‘car’\n",
      "\n",
      "\n",
      "The following object is masked from ‘package:dplyr’:\n",
      "\n",
      "    recode\n",
      "\n",
      "\n",
      "Loading required package: lattice\n",
      "\n",
      "Loading required package: survival\n",
      "\n",
      "Loading required package: Formula\n",
      "\n",
      "Loading required package: ggplot2\n",
      "\n",
      "\n",
      "Attaching package: ‘Hmisc’\n",
      "\n",
      "\n",
      "The following objects are masked from ‘package:dplyr’:\n",
      "\n",
      "    src, summarize\n",
      "\n",
      "\n",
      "The following objects are masked from ‘package:base’:\n",
      "\n",
      "    format.pval, units\n",
      "\n",
      "\n",
      "Loading required package: lmtest\n",
      "\n",
      "Loading required package: zoo\n",
      "\n",
      "\n",
      "Attaching package: ‘zoo’\n",
      "\n",
      "\n",
      "The following objects are masked from ‘package:base’:\n",
      "\n",
      "    as.Date, as.Date.numeric\n",
      "\n",
      "\n",
      "Loading required package: sandwich\n",
      "\n",
      "\n",
      "Please cite as: \n",
      "\n",
      "\n",
      " Hlavac, Marek (2018). stargazer: Well-Formatted Regression and Summary Statistics Tables.\n",
      "\n",
      " R package version 5.2.2. https://CRAN.R-project.org/package=stargazer \n",
      "\n",
      "\n"
     ]
    }
   ],
   "source": [
    "library(readr)\n",
    "library(dplyr)\n",
    "library(car)\n",
    "library(Hmisc)\n",
    "library(AER)\n",
    "library(stargazer)"
   ]
  },
  {
   "cell_type": "code",
   "execution_count": 3,
   "id": "blond-groove",
   "metadata": {},
   "outputs": [
    {
     "name": "stderr",
     "output_type": "stream",
     "text": [
      "\n",
      "\u001b[36m──\u001b[39m \u001b[1m\u001b[1mColumn specification\u001b[1m\u001b[22m \u001b[36m─────────────────────────────────────────────────────────\u001b[39m\n",
      "cols(\n",
      "  educ = \u001b[32mcol_double()\u001b[39m,\n",
      "  cigpric = \u001b[32mcol_double()\u001b[39m,\n",
      "  white = \u001b[32mcol_double()\u001b[39m,\n",
      "  age = \u001b[32mcol_double()\u001b[39m,\n",
      "  income = \u001b[32mcol_double()\u001b[39m,\n",
      "  cigs = \u001b[32mcol_double()\u001b[39m,\n",
      "  restaurn = \u001b[32mcol_double()\u001b[39m,\n",
      "  lincome = \u001b[32mcol_double()\u001b[39m,\n",
      "  agesq = \u001b[32mcol_double()\u001b[39m,\n",
      "  lcigpric = \u001b[32mcol_double()\u001b[39m\n",
      ")\n",
      "\n",
      "\n"
     ]
    }
   ],
   "source": [
    "data <- read_csv(\"SMOKE.csv\")"
   ]
  },
  {
   "cell_type": "code",
   "execution_count": 4,
   "id": "posted-blank",
   "metadata": {},
   "outputs": [
    {
     "data": {
      "text/html": [
       "<table class=\"dataframe\">\n",
       "<caption>A tibble: 6 × 10</caption>\n",
       "<thead>\n",
       "\t<tr><th scope=col>educ</th><th scope=col>cigpric</th><th scope=col>white</th><th scope=col>age</th><th scope=col>income</th><th scope=col>cigs</th><th scope=col>restaurn</th><th scope=col>lincome</th><th scope=col>agesq</th><th scope=col>lcigpric</th></tr>\n",
       "\t<tr><th scope=col>&lt;dbl&gt;</th><th scope=col>&lt;dbl&gt;</th><th scope=col>&lt;dbl&gt;</th><th scope=col>&lt;dbl&gt;</th><th scope=col>&lt;dbl&gt;</th><th scope=col>&lt;dbl&gt;</th><th scope=col>&lt;dbl&gt;</th><th scope=col>&lt;dbl&gt;</th><th scope=col>&lt;dbl&gt;</th><th scope=col>&lt;dbl&gt;</th></tr>\n",
       "</thead>\n",
       "<tbody>\n",
       "\t<tr><td>16.0</td><td>60.506</td><td>1</td><td>46</td><td>20000</td><td>0</td><td>0</td><td> 9.903487</td><td>2116</td><td>4.102743</td></tr>\n",
       "\t<tr><td>16.0</td><td>57.883</td><td>1</td><td>40</td><td>30000</td><td>0</td><td>0</td><td>10.308952</td><td>1600</td><td>4.058423</td></tr>\n",
       "\t<tr><td>12.0</td><td>57.664</td><td>1</td><td>58</td><td>30000</td><td>3</td><td>0</td><td>10.308952</td><td>3364</td><td>4.054633</td></tr>\n",
       "\t<tr><td>13.5</td><td>57.883</td><td>1</td><td>30</td><td>20000</td><td>0</td><td>0</td><td> 9.903487</td><td> 900</td><td>4.058423</td></tr>\n",
       "\t<tr><td>10.0</td><td>58.320</td><td>1</td><td>17</td><td>20000</td><td>0</td><td>0</td><td> 9.903487</td><td> 289</td><td>4.065945</td></tr>\n",
       "\t<tr><td> 6.0</td><td>59.340</td><td>1</td><td>86</td><td> 6500</td><td>0</td><td>0</td><td> 8.779557</td><td>7396</td><td>4.083283</td></tr>\n",
       "</tbody>\n",
       "</table>\n"
      ],
      "text/latex": [
       "A tibble: 6 × 10\n",
       "\\begin{tabular}{llllllllll}\n",
       " educ & cigpric & white & age & income & cigs & restaurn & lincome & agesq & lcigpric\\\\\n",
       " <dbl> & <dbl> & <dbl> & <dbl> & <dbl> & <dbl> & <dbl> & <dbl> & <dbl> & <dbl>\\\\\n",
       "\\hline\n",
       "\t 16.0 & 60.506 & 1 & 46 & 20000 & 0 & 0 &  9.903487 & 2116 & 4.102743\\\\\n",
       "\t 16.0 & 57.883 & 1 & 40 & 30000 & 0 & 0 & 10.308952 & 1600 & 4.058423\\\\\n",
       "\t 12.0 & 57.664 & 1 & 58 & 30000 & 3 & 0 & 10.308952 & 3364 & 4.054633\\\\\n",
       "\t 13.5 & 57.883 & 1 & 30 & 20000 & 0 & 0 &  9.903487 &  900 & 4.058423\\\\\n",
       "\t 10.0 & 58.320 & 1 & 17 & 20000 & 0 & 0 &  9.903487 &  289 & 4.065945\\\\\n",
       "\t  6.0 & 59.340 & 1 & 86 &  6500 & 0 & 0 &  8.779557 & 7396 & 4.083283\\\\\n",
       "\\end{tabular}\n"
      ],
      "text/markdown": [
       "\n",
       "A tibble: 6 × 10\n",
       "\n",
       "| educ &lt;dbl&gt; | cigpric &lt;dbl&gt; | white &lt;dbl&gt; | age &lt;dbl&gt; | income &lt;dbl&gt; | cigs &lt;dbl&gt; | restaurn &lt;dbl&gt; | lincome &lt;dbl&gt; | agesq &lt;dbl&gt; | lcigpric &lt;dbl&gt; |\n",
       "|---|---|---|---|---|---|---|---|---|---|\n",
       "| 16.0 | 60.506 | 1 | 46 | 20000 | 0 | 0 |  9.903487 | 2116 | 4.102743 |\n",
       "| 16.0 | 57.883 | 1 | 40 | 30000 | 0 | 0 | 10.308952 | 1600 | 4.058423 |\n",
       "| 12.0 | 57.664 | 1 | 58 | 30000 | 3 | 0 | 10.308952 | 3364 | 4.054633 |\n",
       "| 13.5 | 57.883 | 1 | 30 | 20000 | 0 | 0 |  9.903487 |  900 | 4.058423 |\n",
       "| 10.0 | 58.320 | 1 | 17 | 20000 | 0 | 0 |  9.903487 |  289 | 4.065945 |\n",
       "|  6.0 | 59.340 | 1 | 86 |  6500 | 0 | 0 |  8.779557 | 7396 | 4.083283 |\n",
       "\n"
      ],
      "text/plain": [
       "  educ cigpric white age income cigs restaurn lincome   agesq lcigpric\n",
       "1 16.0 60.506  1     46  20000  0    0         9.903487 2116  4.102743\n",
       "2 16.0 57.883  1     40  30000  0    0        10.308952 1600  4.058423\n",
       "3 12.0 57.664  1     58  30000  3    0        10.308952 3364  4.054633\n",
       "4 13.5 57.883  1     30  20000  0    0         9.903487  900  4.058423\n",
       "5 10.0 58.320  1     17  20000  0    0         9.903487  289  4.065945\n",
       "6  6.0 59.340  1     86   6500  0    0         8.779557 7396  4.083283"
      ]
     },
     "metadata": {},
     "output_type": "display_data"
    }
   ],
   "source": [
    "head(data)"
   ]
  },
  {
   "cell_type": "code",
   "execution_count": 5,
   "id": "attractive-radar",
   "metadata": {},
   "outputs": [
    {
     "data": {
      "text/plain": [
       "      educ          cigpric          white             age       \n",
       " Min.   : 6.00   Min.   :44.00   Min.   :0.0000   Min.   :17.00  \n",
       " 1st Qu.:10.00   1st Qu.:58.14   1st Qu.:1.0000   1st Qu.:28.00  \n",
       " Median :12.00   Median :61.05   Median :1.0000   Median :38.00  \n",
       " Mean   :12.47   Mean   :60.30   Mean   :0.8786   Mean   :41.24  \n",
       " 3rd Qu.:13.50   3rd Qu.:63.18   3rd Qu.:1.0000   3rd Qu.:54.00  \n",
       " Max.   :18.00   Max.   :70.13   Max.   :1.0000   Max.   :88.00  \n",
       "     income           cigs           restaurn         lincome      \n",
       " Min.   :  500   Min.   : 0.000   Min.   :0.0000   Min.   : 6.215  \n",
       " 1st Qu.:12500   1st Qu.: 0.000   1st Qu.:0.0000   1st Qu.: 9.433  \n",
       " Median :20000   Median : 0.000   Median :0.0000   Median : 9.903  \n",
       " Mean   :19305   Mean   : 8.686   Mean   :0.2466   Mean   : 9.687  \n",
       " 3rd Qu.:30000   3rd Qu.:20.000   3rd Qu.:0.0000   3rd Qu.:10.309  \n",
       " Max.   :30000   Max.   :80.000   Max.   :1.0000   Max.   :10.309  \n",
       "     agesq         lcigpric    \n",
       " Min.   : 289   Min.   :3.784  \n",
       " 1st Qu.: 784   1st Qu.:4.063  \n",
       " Median :1444   Median :4.112  \n",
       " Mean   :1990   Mean   :4.096  \n",
       " 3rd Qu.:2916   3rd Qu.:4.146  \n",
       " Max.   :7744   Max.   :4.250  "
      ]
     },
     "metadata": {},
     "output_type": "display_data"
    }
   ],
   "source": [
    "summary(data)"
   ]
  },
  {
   "cell_type": "markdown",
   "id": "waiting-sender",
   "metadata": {},
   "source": [
    "# (d)"
   ]
  },
  {
   "cell_type": "code",
   "execution_count": 6,
   "id": "micro-acrylic",
   "metadata": {},
   "outputs": [
    {
     "data": {
      "text/plain": [
       "\n",
       "Call:\n",
       "lm(formula = lincome ~ cigs + educ + age + agesq, data = data)\n",
       "\n",
       "Residuals:\n",
       "    Min      1Q  Median      3Q     Max \n",
       "-3.6237 -0.2978  0.1314  0.4167  1.3542 \n",
       "\n",
       "Coefficients:\n",
       "              Estimate Std. Error t value Pr(>|t|)    \n",
       "(Intercept)  7.795e+00  1.704e-01  45.741  < 2e-16 ***\n",
       "cigs         1.731e-03  1.714e-03   1.010    0.313    \n",
       "educ         6.036e-02  7.898e-03   7.642 6.10e-14 ***\n",
       "age          5.769e-02  7.644e-03   7.548 1.21e-13 ***\n",
       "agesq       -6.306e-04  8.338e-05  -7.563 1.08e-13 ***\n",
       "---\n",
       "Signif. codes:  0 ‘***’ 0.001 ‘**’ 0.01 ‘*’ 0.05 ‘.’ 0.1 ‘ ’ 1\n",
       "\n",
       "Residual standard error: 0.6529 on 802 degrees of freedom\n",
       "Multiple R-squared:  0.165,\tAdjusted R-squared:  0.1608 \n",
       "F-statistic: 39.61 on 4 and 802 DF,  p-value: < 2.2e-16\n"
      ]
     },
     "metadata": {},
     "output_type": "display_data"
    }
   ],
   "source": [
    "M_OLS = lm(lincome ~ cigs + educ + age + agesq, data=data)\n",
    "\n",
    "summary(M_OLS)"
   ]
  },
  {
   "cell_type": "markdown",
   "id": "periodic-inflation",
   "metadata": {},
   "source": [
    "# (e)"
   ]
  },
  {
   "cell_type": "code",
   "execution_count": 7,
   "id": "maritime-senegal",
   "metadata": {},
   "outputs": [
    {
     "data": {
      "text/plain": [
       "\n",
       "Call:\n",
       "lm(formula = cigs ~ educ + age + agesq + lcigpric + restaurn, \n",
       "    data = data)\n",
       "\n",
       "Residuals:\n",
       "    Min      1Q  Median      3Q     Max \n",
       "-15.078  -9.312  -6.246   8.038  70.329 \n",
       "\n",
       "Coefficients:\n",
       "             Estimate Std. Error t value Pr(>|t|)    \n",
       "(Intercept)  1.580108  23.695584   0.067  0.94685    \n",
       "educ        -0.450147   0.161640  -2.785  0.00548 ** \n",
       "age          0.822541   0.154322   5.330 1.28e-07 ***\n",
       "agesq       -0.009590   0.001679  -5.711 1.58e-08 ***\n",
       "lcigpric    -0.351315   5.765550  -0.061  0.95143    \n",
       "restaurn    -2.736389   1.109693  -2.466  0.01388 *  \n",
       "---\n",
       "Signif. codes:  0 ‘***’ 0.001 ‘**’ 0.01 ‘*’ 0.05 ‘.’ 0.1 ‘ ’ 1\n",
       "\n",
       "Residual standard error: 13.41 on 801 degrees of freedom\n",
       "Multiple R-squared:  0.051,\tAdjusted R-squared:  0.04508 \n",
       "F-statistic:  8.61 on 5 and 801 DF,  p-value: 5.859e-08\n"
      ]
     },
     "metadata": {},
     "output_type": "display_data"
    }
   ],
   "source": [
    "M_Red = lm(cigs ~ educ + age + agesq + lcigpric + restaurn, data=data)\n",
    "\n",
    "summary(M_Red)"
   ]
  },
  {
   "cell_type": "markdown",
   "id": "simple-environment",
   "metadata": {},
   "source": [
    "# (f)"
   ]
  },
  {
   "cell_type": "code",
   "execution_count": 9,
   "id": "congressional-thirty",
   "metadata": {},
   "outputs": [
    {
     "data": {
      "text/plain": [
       "\n",
       "Call:\n",
       "ivreg(formula = lincome ~ cigs + educ + age + agesq | educ + \n",
       "    age + agesq + lcigpric + restaurn, data = data)\n",
       "\n",
       "Residuals:\n",
       "     Min       1Q   Median       3Q      Max \n",
       "-4.13055 -0.44952 -0.05524  0.52926  3.09278 \n",
       "\n",
       "Coefficients:\n",
       "              Estimate Std. Error t value Pr(>|t|)    \n",
       "(Intercept)  7.7808936  0.2298673  33.850  < 2e-16 ***\n",
       "cigs        -0.0421257  0.0262184  -1.607 0.108509    \n",
       "educ         0.0396746  0.0162811   2.437 0.015032 *  \n",
       "age          0.0938182  0.0238534   3.933 9.11e-05 ***\n",
       "agesq       -0.0010508  0.0002743  -3.831 0.000138 ***\n",
       "---\n",
       "Signif. codes:  0 ‘***’ 0.001 ‘**’ 0.01 ‘*’ 0.05 ‘.’ 0.1 ‘ ’ 1\n",
       "\n",
       "Residual standard error: 0.88 on 802 degrees of freedom\n",
       "Multiple R-Squared: -0.5169,\tAdjusted R-squared: -0.5245 \n",
       "Wald test: 22.31 on 4 and 802 DF,  p-value: < 2.2e-16 \n"
      ]
     },
     "metadata": {},
     "output_type": "display_data"
    }
   ],
   "source": [
    "M_IV <- ivreg(lincome ~ cigs + educ + age + agesq | educ + age + agesq + lcigpric + restaurn, data = data)\n",
    "\n",
    "summary(M_IV)"
   ]
  },
  {
   "cell_type": "markdown",
   "id": "balanced-sharp",
   "metadata": {},
   "source": [
    "## check the validity of IV"
   ]
  },
  {
   "cell_type": "code",
   "execution_count": 10,
   "id": "alone-camera",
   "metadata": {},
   "outputs": [
    {
     "data": {
      "text/plain": [
       "\n",
       "Call:\n",
       "ivreg(formula = lincome ~ cigs + educ + age + agesq | educ + \n",
       "    age + agesq + lcigpric + restaurn, data = data)\n",
       "\n",
       "Residuals:\n",
       "     Min       1Q   Median       3Q      Max \n",
       "-4.13055 -0.44952 -0.05524  0.52926  3.09278 \n",
       "\n",
       "Coefficients:\n",
       "              Estimate Std. Error t value Pr(>|t|)    \n",
       "(Intercept)  7.7808936  0.2298673  33.850  < 2e-16 ***\n",
       "cigs        -0.0421257  0.0262184  -1.607 0.108509    \n",
       "educ         0.0396746  0.0162811   2.437 0.015032 *  \n",
       "age          0.0938182  0.0238534   3.933 9.11e-05 ***\n",
       "agesq       -0.0010508  0.0002743  -3.831 0.000138 ***\n",
       "\n",
       "Diagnostic tests:\n",
       "                 df1 df2 statistic p-value  \n",
       "Weak instruments   2 801     3.133  0.0441 *\n",
       "Wu-Hausman         1 801     5.149  0.0235 *\n",
       "Sargan             1  NA     1.356  0.2443  \n",
       "---\n",
       "Signif. codes:  0 ‘***’ 0.001 ‘**’ 0.01 ‘*’ 0.05 ‘.’ 0.1 ‘ ’ 1\n",
       "\n",
       "Residual standard error: 0.88 on 802 degrees of freedom\n",
       "Multiple R-Squared: -0.5169,\tAdjusted R-squared: -0.5245 \n",
       "Wald test: 22.31 on 4 and 802 DF,  p-value: < 2.2e-16 \n"
      ]
     },
     "metadata": {},
     "output_type": "display_data"
    }
   ],
   "source": [
    "summary(M_IV, diagnostics=TRUE)"
   ]
  },
  {
   "cell_type": "code",
   "execution_count": null,
   "id": "eight-quantity",
   "metadata": {},
   "outputs": [],
   "source": []
  }
 ],
 "metadata": {
  "kernelspec": {
   "display_name": "R",
   "language": "R",
   "name": "ir"
  },
  "language_info": {
   "codemirror_mode": "r",
   "file_extension": ".r",
   "mimetype": "text/x-r-source",
   "name": "R",
   "pygments_lexer": "r",
   "version": "4.0.5"
  }
 },
 "nbformat": 4,
 "nbformat_minor": 5
}
