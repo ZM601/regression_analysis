{
 "cells": [
  {
   "cell_type": "code",
   "execution_count": 1,
   "id": "mobile-continuity",
   "metadata": {},
   "outputs": [],
   "source": [
    "clear all"
   ]
  },
  {
   "cell_type": "code",
   "execution_count": 2,
   "id": "meaningful-mileage",
   "metadata": {},
   "outputs": [],
   "source": [
    "use \"~/Data/Dropbox/Working_Directory/Tex_MD/Teaching/tutorial/6002/W5/SMOKE.DTA\", clear"
   ]
  },
  {
   "cell_type": "markdown",
   "id": "mobile-workshop",
   "metadata": {},
   "source": [
    "# (d)"
   ]
  },
  {
   "cell_type": "code",
   "execution_count": 3,
   "id": "imperial-optics",
   "metadata": {},
   "outputs": [
    {
     "name": "stdout",
     "output_type": "stream",
     "text": [
      "\n",
      "      Source |       SS           df       MS      Number of obs   =       807\n",
      "-------------+----------------------------------   F(4, 802)       =     39.61\n",
      "       Model |  67.5412888         4  16.8853222   Prob > F        =    0.0000\n",
      "    Residual |  341.854549       802  .426252555   R-squared       =    0.1650\n",
      "-------------+----------------------------------   Adj R-squared   =    0.1608\n",
      "       Total |  409.395838       806  .507935283   Root MSE        =    .65288\n",
      "\n",
      "------------------------------------------------------------------------------\n",
      "     lincome |      Coef.   Std. Err.      t    P>|t|     [95% Conf. Interval]\n",
      "-------------+----------------------------------------------------------------\n",
      "        cigs |   .0017306   .0017137     1.01   0.313    -.0016333    .0050945\n",
      "        educ |   .0603606   .0078983     7.64   0.000     .0448567    .0758645\n",
      "         age |   .0576908   .0076436     7.55   0.000      .042687    .0726946\n",
      "       agesq |  -.0006306   .0000834    -7.56   0.000    -.0007943   -.0004669\n",
      "       _cons |   7.795444   .1704271    45.74   0.000     7.460908    8.129979\n",
      "------------------------------------------------------------------------------\n"
     ]
    }
   ],
   "source": [
    "reg lincome cigs educ age agesq"
   ]
  },
  {
   "cell_type": "markdown",
   "id": "infinite-romantic",
   "metadata": {},
   "source": [
    "# (e)"
   ]
  },
  {
   "cell_type": "code",
   "execution_count": 4,
   "id": "matched-elimination",
   "metadata": {},
   "outputs": [
    {
     "name": "stdout",
     "output_type": "stream",
     "text": [
      "\n",
      "      Source |       SS           df       MS      Number of obs   =       807\n",
      "-------------+----------------------------------   F(5, 801)       =      8.61\n",
      "       Model |  7740.15214         5  1548.03043   Prob > F        =    0.0000\n",
      "    Residual |  144013.531       801  179.792173   R-squared       =    0.0510\n",
      "-------------+----------------------------------   Adj R-squared   =    0.0451\n",
      "       Total |  151753.683       806  188.280003   Root MSE        =    13.409\n",
      "\n",
      "------------------------------------------------------------------------------\n",
      "        cigs |      Coef.   Std. Err.      t    P>|t|     [95% Conf. Interval]\n",
      "-------------+----------------------------------------------------------------\n",
      "        educ |  -.4501466   .1616396    -2.78   0.005    -.7674338   -.1328594\n",
      "         age |    .822541   .1543224     5.33   0.000     .5196168    1.125465\n",
      "       agesq |  -.0095903   .0016792    -5.71   0.000    -.0128864   -.0062942\n",
      "    lcigpric |  -.3513161    5.76555    -0.06   0.951    -11.66869    10.96606\n",
      "    restaurn |  -2.736389   1.109693    -2.47   0.014    -4.914639   -.5581394\n",
      "       _cons |   1.580112   23.69558     0.07   0.947    -44.93266    48.09289\n",
      "------------------------------------------------------------------------------\n"
     ]
    }
   ],
   "source": [
    "reg cigs educ age agesq lcigpric restaurn"
   ]
  },
  {
   "cell_type": "markdown",
   "id": "tough-tongue",
   "metadata": {},
   "source": [
    "# (f)"
   ]
  },
  {
   "cell_type": "code",
   "execution_count": 6,
   "id": "chemical-cargo",
   "metadata": {},
   "outputs": [
    {
     "name": "stdout",
     "output_type": "stream",
     "text": [
      "\n",
      "Instrumental variables (2SLS) regression          Number of obs   =        807\n",
      "                                                  Wald chi2(4)    =      89.80\n",
      "                                                  Prob > chi2     =     0.0000\n",
      "                                                  R-squared       =          .\n",
      "                                                  Root MSE        =     .87723\n",
      "\n",
      "------------------------------------------------------------------------------\n",
      "     lincome |      Coef.   Std. Err.      z    P>|z|     [95% Conf. Interval]\n",
      "-------------+----------------------------------------------------------------\n",
      "        cigs |  -.0421257   .0261371    -1.61   0.107    -.0933535     .009102\n",
      "        educ |   .0396746   .0162305     2.44   0.015     .0078633    .0714859\n",
      "         age |   .0938182   .0237794     3.95   0.000     .0472115    .1404249\n",
      "       agesq |  -.0010508   .0002735    -3.84   0.000    -.0015868   -.0005148\n",
      "       _cons |   7.780893   .2291541    33.95   0.000      7.33176    8.230027\n",
      "------------------------------------------------------------------------------\n",
      "Instrumented:  cigs\n",
      "Instruments:   educ age agesq lcigpric restaurn\n"
     ]
    }
   ],
   "source": [
    "ivregress 2sls lincome educ age agesq (cigs=lcigpric restaurn)\n"
   ]
  },
  {
   "cell_type": "markdown",
   "id": "pursuant-insert",
   "metadata": {},
   "source": [
    "## check the validity of IV"
   ]
  },
  {
   "cell_type": "code",
   "execution_count": 7,
   "id": "surprised-simon",
   "metadata": {},
   "outputs": [
    {
     "name": "stdout",
     "output_type": "stream",
     "text": [
      "\n",
      "  Tests of endogeneity\n",
      "  Ho: variables are exogenous\n",
      "\n",
      "  Durbin (score) chi2(1)          =  5.15457  (p = 0.0232)\n",
      "  Wu-Hausman F(1,801)             =  5.14914  (p = 0.0235)\n"
     ]
    }
   ],
   "source": [
    "estat endogenous"
   ]
  },
  {
   "cell_type": "code",
   "execution_count": 8,
   "id": "balanced-continuity",
   "metadata": {},
   "outputs": [
    {
     "name": "stdout",
     "output_type": "stream",
     "text": [
      "\n",
      "[NbConvertApp] Converting notebook W5_Stata.ipynb to html\n",
      "[NbConvertApp] Writing 576280 bytes to W5_Stata.html\n"
     ]
    }
   ],
   "source": [
    "!jupyter nbconvert --to html W5_Stata.ipynb"
   ]
  },
  {
   "cell_type": "code",
   "execution_count": null,
   "id": "central-distance",
   "metadata": {},
   "outputs": [],
   "source": []
  }
 ],
 "metadata": {
  "kernelspec": {
   "display_name": "Stata",
   "language": "stata",
   "name": "stata"
  },
  "language_info": {
   "codemirror_mode": "stata",
   "file_extension": ".do",
   "mimetype": "text/x-stata",
   "name": "stata",
   "version": "15.1"
  }
 },
 "nbformat": 4,
 "nbformat_minor": 5
}
