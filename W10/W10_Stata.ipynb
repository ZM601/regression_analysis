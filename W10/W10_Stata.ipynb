{
 "cells": [
  {
   "cell_type": "code",
   "execution_count": 1,
   "id": "e30f1b35-635d-4c11-9a0a-4970faa47293",
   "metadata": {},
   "outputs": [],
   "source": [
    "clear all"
   ]
  },
  {
   "cell_type": "markdown",
   "id": "91e6b8b3-0025-4450-a5a6-e5983b50849a",
   "metadata": {},
   "source": [
    "# load data"
   ]
  },
  {
   "cell_type": "code",
   "execution_count": 2,
   "id": "ac115b86-371d-4e17-8adf-715b64098600",
   "metadata": {},
   "outputs": [],
   "source": [
    "use \"~/Downloads/mroz9.dta\", clear\n",
    "\n",
    "export delimited using \"/home/ning/Downloads/mroz9.csv\", nolabel replace"
   ]
  },
  {
   "cell_type": "markdown",
   "id": "b1dac6e1-73b2-451a-9059-505069bd85a1",
   "metadata": {},
   "source": [
    "# list all the variables in the dataset"
   ]
  },
  {
   "cell_type": "code",
   "execution_count": 3,
   "id": "a22f6262-245e-451b-bfb2-baaacb39262c",
   "metadata": {},
   "outputs": [
    {
     "name": "stdout",
     "output_type": "stream",
     "text": [
      "inlf      kidsge6   educ      exper     lnwage\n",
      "kidslt6   age       unem      nwifeinc  expersq\n"
     ]
    }
   ],
   "source": [
    "ds"
   ]
  },
  {
   "cell_type": "code",
   "execution_count": 4,
   "id": "82531abd-46f9-434e-9197-f4544c965b5e",
   "metadata": {},
   "outputs": [
    {
     "name": "stdout",
     "output_type": "stream",
     "text": [
      "\n",
      "Contains data from ~/Downloads/mroz9.dta\n",
      "  obs:           753                          \n",
      " vars:            10                          2 May 2013 11:05\n",
      " size:        15,060                          \n",
      "--------------------------------------------------------------------------------\n",
      "              storage   display    value\n",
      "variable name   type    format     label      variable label\n",
      "--------------------------------------------------------------------------------\n",
      "inlf            byte    %9.0g                 =1 if in lab frce, 1975\n",
      "kidslt6         byte    %9.0g                 # kids < 6 years\n",
      "kidsge6         byte    %9.0g                 # kids 6-18\n",
      "age             byte    %9.0g                 woman's age in yrs\n",
      "educ            byte    %9.0g                 years of schooling\n",
      "unem            float   %9.0g                 unem. rate in county of resid.\n",
      "exper           byte    %9.0g                 actual labor mkt exper\n",
      "nwifeinc        float   %9.0g                 (faminc - wage*hours)/1000\n",
      "lnwage          float   %9.0g                 log(wage)\n",
      "expersq         int     %9.0g                 exper^2\n",
      "--------------------------------------------------------------------------------\n",
      "Sorted by: \n"
     ]
    }
   ],
   "source": [
    "describe"
   ]
  },
  {
   "cell_type": "markdown",
   "id": "05c95c6a-fe9f-4cb6-8c25-f1c991bc251a",
   "metadata": {},
   "source": [
    "# summary statistics"
   ]
  },
  {
   "cell_type": "code",
   "execution_count": 5,
   "id": "8ced9596-babb-49fe-9a30-9288d6783cf3",
   "metadata": {},
   "outputs": [
    {
     "name": "stdout",
     "output_type": "stream",
     "text": [
      "\n",
      "    Variable |        Obs        Mean    Std. Dev.       Min        Max\n",
      "-------------+---------------------------------------------------------\n",
      "        inlf |        753    .5683931    .4956295          0          1\n",
      "     kidslt6 |        753    .2377158     .523959          0          3\n",
      "     kidsge6 |        753    1.353254    1.319874          0          8\n",
      "         age |        753    42.53785    8.072574         30         60\n",
      "        educ |        753    12.28685    2.280246          5         17\n",
      "-------------+---------------------------------------------------------\n",
      "        unem |        753    8.623506    3.114934          3         14\n",
      "       exper |        753    10.63081     8.06913          0         45\n",
      "    nwifeinc |        753    20.12896     11.6348  -.0290575         96\n",
      "      lnwage |        428    1.190173    .7231978  -2.054164   3.218876\n",
      "     expersq |        753    178.0385    249.6308          0       2025\n"
     ]
    }
   ],
   "source": [
    "sum"
   ]
  },
  {
   "cell_type": "code",
   "execution_count": 6,
   "id": "923dff16-5a62-4534-91f9-a2644f619b25",
   "metadata": {},
   "outputs": [
    {
     "name": "stdout",
     "output_type": "stream",
     "text": [
      "(obs=428)\n",
      "\n",
      "             |     inlf  kidslt6  kidsge6      age     educ     unem    exper\n",
      "-------------+---------------------------------------------------------------\n",
      "        inlf |        .\n",
      "     kidslt6 |        .   1.0000\n",
      "     kidsge6 |        .   0.0907   1.0000\n",
      "         age |        .  -0.3384  -0.3976   1.0000\n",
      "        educ |        .   0.1293  -0.0925  -0.0522   1.0000\n",
      "        unem |        .   0.0143  -0.0175   0.0925   0.1222   1.0000\n",
      "       exper |        .  -0.1856  -0.3874   0.4836  -0.0152   0.0308   1.0000\n",
      "    nwifeinc |        .  -0.0275   0.0330   0.0970   0.2844   0.0806  -0.1609\n",
      "      lnwage |        .  -0.0185  -0.1200   0.0549   0.3433   0.0414   0.1693\n",
      "     expersq |        .  -0.1706  -0.3658   0.5069  -0.0353   0.0091   0.9525\n",
      "\n",
      "             | nwifeinc   lnwage  expersq\n",
      "-------------+---------------------------\n",
      "    nwifeinc |   1.0000\n",
      "      lnwage |   0.1414   1.0000\n",
      "     expersq |  -0.1615   0.1261   1.0000\n",
      "\n"
     ]
    }
   ],
   "source": [
    "corr"
   ]
  },
  {
   "cell_type": "markdown",
   "id": "947baaa3-7ee9-4635-883a-1fc820e87f3c",
   "metadata": {},
   "source": [
    "# GLM $\\beta$ comparison: OLS vs Probit vs Logistic"
   ]
  },
  {
   "cell_type": "markdown",
   "id": "9b013a45-d0e3-4afc-873c-f83d5663cca3",
   "metadata": {},
   "source": [
    "## OLS"
   ]
  },
  {
   "cell_type": "code",
   "execution_count": 7,
   "id": "33c8d8cb-611d-4ba1-a0c1-402d470658eb",
   "metadata": {},
   "outputs": [
    {
     "name": "stdout",
     "output_type": "stream",
     "text": [
      "\n",
      "\n",
      "Linear regression                               Number of obs     =        753\n",
      "                                                F(6, 746)         =      72.28\n",
      "                                                Prob > F          =     0.0000\n",
      "                                                R-squared         =     0.2633\n",
      "                                                Root MSE          =     .42713\n",
      "\n",
      "------------------------------------------------------------------------------\n",
      "             |               Robust\n",
      "        inlf |      Coef.   Std. Err.      t    P>|t|     [95% Conf. Interval]\n",
      "-------------+----------------------------------------------------------------\n",
      "    nwifeinc |  -.0033344   .0015234    -2.19   0.029     -.006325   -.0003438\n",
      "        educ |   .0372848   .0072383     5.15   0.000      .023075    .0514946\n",
      "       exper |    .039058   .0057827     6.75   0.000     .0277056    .0504104\n",
      "     expersq |  -.0005942   .0001893    -3.14   0.002     -.000966   -.0002225\n",
      "         age |  -.0169228   .0022709    -7.45   0.000    -.0213809   -.0124646\n",
      "     kidslt6 |  -.2654556   .0317391    -8.36   0.000    -.3277642   -.2031471\n",
      "       _cons |   .6509414   .1404617     4.63   0.000     .3751941    .9266887\n",
      "------------------------------------------------------------------------------\n",
      "\n"
     ]
    }
   ],
   "source": [
    "reg inlf nwifeinc educ exper expersq age kidslt6, robust\n",
    "estimate store OLS"
   ]
  },
  {
   "cell_type": "code",
   "execution_count": 8,
   "id": "11f6cc0e-a358-4b6e-aa2d-994cbe38ed0d",
   "metadata": {},
   "outputs": [
    {
     "name": "stdout",
     "output_type": "stream",
     "text": [
      "\n",
      "\n",
      "Iteration 0:   log pseudolikelihood =  -514.8732  \n",
      "Iteration 1:   log pseudolikelihood = -402.42245  \n",
      "Iteration 2:   log pseudolikelihood = -401.64597  \n",
      "Iteration 3:   log pseudolikelihood = -401.64546  \n",
      "Iteration 4:   log pseudolikelihood = -401.64546  \n",
      "\n",
      "Probit regression                               Number of obs     =        753\n",
      "                                                Wald chi2(6)      =     183.50\n",
      "                                                Prob > chi2       =     0.0000\n",
      "Log pseudolikelihood = -401.64546               Pseudo R2         =     0.2199\n",
      "\n",
      "------------------------------------------------------------------------------\n",
      "             |               Robust\n",
      "        inlf |      Coef.   Std. Err.      z    P>|z|     [95% Conf. Interval]\n",
      "-------------+----------------------------------------------------------------\n",
      "    nwifeinc |  -.0118298   .0053211    -2.22   0.026     -.022259   -.0014006\n",
      "        educ |   .1286938    .025607     5.03   0.000     .0785051    .1788825\n",
      "       exper |   .1221105   .0187075     6.53   0.000     .0854444    .1587766\n",
      "     expersq |  -.0018828   .0005983    -3.15   0.002    -.0030555   -.0007101\n",
      "         age |  -.0553178   .0078428    -7.05   0.000    -.0706895   -.0399461\n",
      "     kidslt6 |  -.8809003   .1159154    -7.60   0.000     -1.10809   -.6537102\n",
      "       _cons |   .4633524   .4496354     1.03   0.303    -.4179168    1.344622\n",
      "------------------------------------------------------------------------------\n",
      "\n"
     ]
    }
   ],
   "source": [
    "probit inlf nwifeinc educ exper expersq age kidslt6, robust\n",
    "estimate store probit_reg"
   ]
  },
  {
   "cell_type": "code",
   "execution_count": 9,
   "id": "cce61081-e297-4bfe-abf9-8a63a3b837b9",
   "metadata": {},
   "outputs": [
    {
     "name": "stdout",
     "output_type": "stream",
     "text": [
      "\n",
      "\n",
      "Iteration 0:   log pseudolikelihood =  -514.8732  \n",
      "Iteration 1:   log pseudolikelihood = -402.71541  \n",
      "Iteration 2:   log pseudolikelihood = -402.08965  \n",
      "Iteration 3:   log pseudolikelihood = -402.08917  \n",
      "Iteration 4:   log pseudolikelihood = -402.08917  \n",
      "\n",
      "Logistic regression                             Number of obs     =        753\n",
      "                                                Wald chi2(6)      =     156.75\n",
      "                                                Prob > chi2       =     0.0000\n",
      "Log pseudolikelihood = -402.08917               Pseudo R2         =     0.2191\n",
      "\n",
      "------------------------------------------------------------------------------\n",
      "             |               Robust\n",
      "        inlf |      Coef.   Std. Err.      z    P>|z|     [95% Conf. Interval]\n",
      "-------------+----------------------------------------------------------------\n",
      "    nwifeinc |  -.0210297   .0091117    -2.31   0.021    -.0388883   -.0031711\n",
      "        educ |   .2175914    .044114     4.93   0.000     .1311295    .3040532\n",
      "       exper |   .2036869   .0319423     6.38   0.000     .1410811    .2662927\n",
      "     expersq |  -.0031425   .0010053    -3.13   0.002    -.0051129   -.0011722\n",
      "         age |  -.0922022   .0135061    -6.83   0.000    -.1186735   -.0657308\n",
      "     kidslt6 |  -1.468153   .2023911    -7.25   0.000    -1.864832   -1.071473\n",
      "       _cons |   .7502201   .7586117     0.99   0.323    -.7366314    2.237072\n",
      "------------------------------------------------------------------------------\n",
      "\n"
     ]
    }
   ],
   "source": [
    "logit inlf nwifeinc educ exper expersq age kidslt6, robust\n",
    "estimate store logit_reg"
   ]
  },
  {
   "cell_type": "code",
   "execution_count": 10,
   "id": "8754dbbf-d53b-4c38-97fb-4e445a698210",
   "metadata": {},
   "outputs": [
    {
     "name": "stdout",
     "output_type": "stream",
     "text": [
      "\n",
      "------------------------------------------------------------\n",
      "                      OLS      probit_reg       logit_reg   \n",
      "                     b/se            b/se            b/se   \n",
      "------------------------------------------------------------\n",
      "main                                                        \n",
      "nwifeinc           -0.003*         -0.012*         -0.021*  \n",
      "                  (0.002)         (0.005)         (0.009)   \n",
      "educ                0.037***        0.129***        0.218***\n",
      "                  (0.007)         (0.026)         (0.044)   \n",
      "exper               0.039***        0.122***        0.204***\n",
      "                  (0.006)         (0.019)         (0.032)   \n",
      "expersq            -0.001**        -0.002**        -0.003** \n",
      "                  (0.000)         (0.001)         (0.001)   \n",
      "age                -0.017***       -0.055***       -0.092***\n",
      "                  (0.002)         (0.008)         (0.014)   \n",
      "kidslt6            -0.265***       -0.881***       -1.468***\n",
      "                  (0.032)         (0.116)         (0.202)   \n",
      "_cons               0.651***        0.463           0.750   \n",
      "                  (0.140)         (0.450)         (0.759)   \n",
      "------------------------------------------------------------\n",
      "R2                  0.263                                   \n",
      "Pseudo-R2                           0.220           0.219   \n",
      "F-value            72.281                                   \n",
      "Chi2-value                        183.500         156.751   \n",
      "sample size       753.000         753.000         753.000   \n",
      "------------------------------------------------------------\n",
      "* p<0.05, ** p<0.01, *** p<0.001\n"
     ]
    }
   ],
   "source": [
    "estout OLS probit_reg logit_reg, cells(b(star fmt(3)) se(par fmt(3))) stats(r2 r2_p F chi2 N, labels(R2 Pseudo-R2 F-value Chi2-value \"sample size\")) legend"
   ]
  },
  {
   "cell_type": "markdown",
   "id": "1435e193-ad73-43c3-b471-ca9c24ddb3db",
   "metadata": {},
   "source": [
    "# GLM marginal effect comparison: OLS vs Probit vs Logistic"
   ]
  },
  {
   "cell_type": "markdown",
   "id": "389c0512-c76c-4b57-919b-e08612e75225",
   "metadata": {},
   "source": [
    "## firstly, clear all the table in stata memory"
   ]
  },
  {
   "cell_type": "code",
   "execution_count": 11,
   "id": "4fe855d3-e4a4-41de-8154-0d81a7cd1de4",
   "metadata": {},
   "outputs": [],
   "source": [
    "est clear \n",
    "eststo clear "
   ]
  },
  {
   "cell_type": "markdown",
   "id": "2b419af4-0d8a-4706-b116-e85226508fbc",
   "metadata": {},
   "source": [
    "# output the ME for OLS"
   ]
  },
  {
   "cell_type": "code",
   "execution_count": 12,
   "id": "9dbd093c-4529-4453-9648-9a037b994dd4",
   "metadata": {},
   "outputs": [
    {
     "name": "stdout",
     "output_type": "stream",
     "text": [
      "\n",
      "\n",
      "\n",
      "Conditional marginal effects                    Number of obs     =        753\n",
      "Model VCE    : Robust\n",
      "\n",
      "Expression   : Linear prediction, predict()\n",
      "dy/dx w.r.t. : nwifeinc educ exper expersq age kidslt6\n",
      "at           : nwifeinc        =    20.12896 (mean)\n",
      "               educ            =    12.28685 (mean)\n",
      "               exper           =    10.63081 (mean)\n",
      "               expersq         =    178.0385 (mean)\n",
      "               age             =    42.53785 (mean)\n",
      "               kidslt6         =    .2377158 (mean)\n",
      "\n",
      "------------------------------------------------------------------------------\n",
      "             |            Delta-method\n",
      "             |      dy/dx   Std. Err.      t    P>|t|     [95% Conf. Interval]\n",
      "-------------+----------------------------------------------------------------\n",
      "    nwifeinc |  -.0033344   .0015234    -2.19   0.029     -.006325   -.0003438\n",
      "        educ |   .0372848   .0072383     5.15   0.000      .023075    .0514946\n",
      "       exper |    .039058   .0057827     6.75   0.000     .0277056    .0504104\n",
      "     expersq |  -.0005942   .0001893    -3.14   0.002     -.000966   -.0002225\n",
      "         age |  -.0169228   .0022709    -7.45   0.000    -.0213809   -.0124646\n",
      "     kidslt6 |  -.2654556   .0317391    -8.36   0.000    -.3277642   -.2031471\n",
      "------------------------------------------------------------------------------\n"
     ]
    }
   ],
   "source": [
    "qui reg inlf nwifeinc educ exper expersq age kidslt6, robust\n",
    "eststo ME_OLS: margins, dydx(*) atmeans post"
   ]
  },
  {
   "cell_type": "markdown",
   "id": "edfedefd-899b-4f7a-a81f-aaec769d8e06",
   "metadata": {},
   "source": [
    "# output the ME for Probit"
   ]
  },
  {
   "cell_type": "code",
   "execution_count": 13,
   "id": "b086df3c-aac1-4014-9dc5-d86c3ebf01f9",
   "metadata": {},
   "outputs": [
    {
     "name": "stdout",
     "output_type": "stream",
     "text": [
      "\n",
      "\n",
      "\n",
      "Conditional marginal effects                    Number of obs     =        753\n",
      "Model VCE    : Robust\n",
      "\n",
      "Expression   : Pr(inlf), predict()\n",
      "dy/dx w.r.t. : nwifeinc educ exper expersq age kidslt6\n",
      "at           : nwifeinc        =    20.12896 (mean)\n",
      "               educ            =    12.28685 (mean)\n",
      "               exper           =    10.63081 (mean)\n",
      "               expersq         =    178.0385 (mean)\n",
      "               age             =    42.53785 (mean)\n",
      "               kidslt6         =    .2377158 (mean)\n",
      "\n",
      "------------------------------------------------------------------------------\n",
      "             |            Delta-method\n",
      "             |      dy/dx   Std. Err.      z    P>|z|     [95% Conf. Interval]\n",
      "-------------+----------------------------------------------------------------\n",
      "    nwifeinc |  -.0046195   .0020804    -2.22   0.026     -.008697   -.0005419\n",
      "        educ |   .0502542     .01003     5.01   0.000     .0305957    .0699128\n",
      "       exper |   .0476835   .0073318     6.50   0.000     .0333135    .0620535\n",
      "     expersq |  -.0007352   .0002341    -3.14   0.002     -.001194   -.0002765\n",
      "         age |  -.0216013   .0030684    -7.04   0.000    -.0276152   -.0155874\n",
      "     kidslt6 |  -.3439869   .0455467    -7.55   0.000    -.4332567    -.254717\n",
      "------------------------------------------------------------------------------\n"
     ]
    }
   ],
   "source": [
    "qui probit inlf nwifeinc educ exper expersq age kidslt6, robust\n",
    "eststo ME_Probit: margins, dydx(*) atmeans post"
   ]
  },
  {
   "cell_type": "markdown",
   "id": "5841afc4-6ecf-4c0f-9bc6-d38e8481dd2b",
   "metadata": {},
   "source": [
    "# output the ME for Logit"
   ]
  },
  {
   "cell_type": "code",
   "execution_count": 14,
   "id": "f27b93a0-c4c0-495e-98e9-2e82c782bbc3",
   "metadata": {},
   "outputs": [
    {
     "name": "stdout",
     "output_type": "stream",
     "text": [
      "\n",
      "\n",
      "\n",
      "Conditional marginal effects                    Number of obs     =        753\n",
      "Model VCE    : Robust\n",
      "\n",
      "Expression   : Pr(inlf), predict()\n",
      "dy/dx w.r.t. : nwifeinc educ exper expersq age kidslt6\n",
      "at           : nwifeinc        =    20.12896 (mean)\n",
      "               educ            =    12.28685 (mean)\n",
      "               exper           =    10.63081 (mean)\n",
      "               expersq         =    178.0385 (mean)\n",
      "               age             =    42.53785 (mean)\n",
      "               kidslt6         =    .2377158 (mean)\n",
      "\n",
      "------------------------------------------------------------------------------\n",
      "             |            Delta-method\n",
      "             |      dy/dx   Std. Err.      z    P>|z|     [95% Conf. Interval]\n",
      "-------------+----------------------------------------------------------------\n",
      "    nwifeinc |  -.0051125    .002219    -2.30   0.021    -.0094616   -.0007633\n",
      "        educ |   .0528979   .0107803     4.91   0.000      .031769    .0740268\n",
      "       exper |   .0495176   .0078019     6.35   0.000     .0342263     .064809\n",
      "     expersq |   -.000764    .000245    -3.12   0.002    -.0012442   -.0002837\n",
      "         age |   -.022415   .0032916    -6.81   0.000    -.0288664   -.0159635\n",
      "     kidslt6 |  -.3569176   .0497045    -7.18   0.000    -.4543367   -.2594986\n",
      "------------------------------------------------------------------------------\n"
     ]
    }
   ],
   "source": [
    "qui logit inlf nwifeinc educ exper expersq age kidslt6, robust\n",
    "eststo ME_Logit: margins, dydx(*) atmeans post"
   ]
  },
  {
   "cell_type": "markdown",
   "id": "b3bd8488-cb21-4365-a63f-d0c92c629775",
   "metadata": {},
   "source": [
    "# summarize everything into a table"
   ]
  },
  {
   "cell_type": "code",
   "execution_count": 15,
   "id": "f0bea9a5-6ef4-4b2c-8fe0-b7a7725153a1",
   "metadata": {},
   "outputs": [
    {
     "name": "stdout",
     "output_type": "stream",
     "text": [
      "\n",
      "------------------------------------------------------------\n",
      "                      (1)             (2)             (3)   \n",
      "                                                            \n",
      "                     b/se            b/se            b/se   \n",
      "------------------------------------------------------------\n",
      "nwifeinc          -0.0033*        -0.0046*        -0.0051*  \n",
      "                  (0.002)         (0.002)         (0.002)   \n",
      "educ               0.0373***       0.0503***       0.0529***\n",
      "                  (0.007)         (0.010)         (0.011)   \n",
      "exper              0.0391***       0.0477***       0.0495***\n",
      "                  (0.006)         (0.007)         (0.008)   \n",
      "expersq           -0.0006**       -0.0007**       -0.0008** \n",
      "                  (0.000)         (0.000)         (0.000)   \n",
      "age               -0.0169***      -0.0216***      -0.0224***\n",
      "                  (0.002)         (0.003)         (0.003)   \n",
      "kidslt6           -0.2655***      -0.3440***      -0.3569***\n",
      "                  (0.032)         (0.046)         (0.050)   \n",
      "------------------------------------------------------------\n",
      "sample size      753.0000        753.0000        753.0000   \n",
      "------------------------------------------------------------\n",
      "* p<0.05, ** p<0.01, *** p<0.001\n"
     ]
    }
   ],
   "source": [
    "esttab ME_OLS ME_Probit ME_Logit, cells(b(star fmt(4)) se(par fmt(3))) stats(N, labels(\"sample size\")) legend"
   ]
  },
  {
   "cell_type": "markdown",
   "id": "9a35bfe3-88d9-4da7-ba67-395d9cdc702c",
   "metadata": {},
   "source": [
    "# $t$ test on educ"
   ]
  },
  {
   "cell_type": "code",
   "execution_count": 16,
   "id": "fe9cb6f5-3c13-420c-88aa-b9107ff38345",
   "metadata": {},
   "outputs": [
    {
     "name": "stdout",
     "output_type": "stream",
     "text": [
      "\n",
      "\n",
      "\n",
      "ME[6,9]\n",
      "              ME_OLS:     ME_OLS:     ME_OLS:  ME_Probit:  ME_Probit:\n",
      "                   b          se           p           b          se\n",
      "nwifeinc   -.0033344   .00152335   .02891632  -.00461947   .00208043\n",
      "    educ   .03728479   .00723826   3.318e-07   .05025424   .01003004\n",
      "   exper   .03905802   .00578274   2.891e-11   .04768349   .00733177\n",
      " expersq  -.00059425   .00018934   .00176505  -.00073522   .00023406\n",
      "     age  -.01692279   .00227092   2.551e-13  -.02160131   .00306839\n",
      " kidslt6  -.26545565    .0317391   2.977e-16  -.34398686   .04554666\n",
      "\n",
      "           ME_Probit:   ME_Logit:   ME_Logit:   ME_Logit:\n",
      "                   p           b          se           p\n",
      "nwifeinc   .02638906  -.00511247   .00221898   .02122442\n",
      "    educ   5.432e-07   .05289791   .01078026   9.252e-07\n",
      "   exper   7.838e-11   .04951764   .00780185   2.197e-10\n",
      " expersq   .00168265  -.00076397   .00024502   .00182086\n",
      "     age   1.923e-12  -.02241495   .00329161   9.778e-12\n",
      " kidslt6   4.263e-14  -.35691763   .04970452   6.930e-13\n"
     ]
    }
   ],
   "source": [
    "*plot the Marginal effect table from last step\n",
    "*save it under name ME\n",
    "mat ME = r(coefs)\n",
    "mat l ME"
   ]
  },
  {
   "cell_type": "code",
   "execution_count": 17,
   "id": "720ac21b-55b1-4503-8698-1ca7b7b954de",
   "metadata": {},
   "outputs": [
    {
     "name": "stdout",
     "output_type": "stream",
     "text": [
      "\n",
      "\n",
      "\n",
      "\n",
      "\n",
      "the result from chi2 test\n",
      "\n",
      "-------------------------\n",
      "\n",
      "ME_educ_Probit =  .05025424\n",
      "SE_educ_Probit =  .01003004\n",
      "     t_val =  5.0103733\n",
      "   p_val_t =  5.432e-07\n",
      "\n",
      "-------------------------\n",
      "\n",
      "\n",
      "reject H0 since p value is less than the sig level\n"
     ]
    }
   ],
   "source": [
    "*extract the ME of educ from Probit\n",
    "scalar ME_educ_Probit = ME[2,4]\n",
    "*extract the SE of ME for educ from Probit\n",
    "scalar SE_educ_Probit = ME[2,5]\n",
    "\n",
    "*compute t score\n",
    "scalar t_val   = ME_educ_Probit/SE_educ_Probit\n",
    "*compute p value\n",
    "scalar p_val_t = 2 * (1-normal(abs(t_val)))\n",
    "\n",
    "*display all the previous result\n",
    "display \"the result from chi2 test\"\n",
    "display \"-------------------------\"\n",
    "scalar list ME_educ_Probit SE_educ_Probit t_val p_val_t\n",
    "display \"-------------------------\"\n",
    "\n",
    "*output conclusion\n",
    "if p_val_t>= 0.01{\n",
    "    display \"cannot reject H0 since p value is larger than the sig level\"\n",
    "}\n",
    "else{\n",
    "    display \"reject H0 since p value is less than the sig level\"\n",
    "}"
   ]
  },
  {
   "cell_type": "markdown",
   "id": "416ada1b-4964-40a6-af30-0ad89ec33a14",
   "metadata": {},
   "source": [
    "# $\\chi^2$ test on $\\beta_{exper}$ and $\\beta_{exper^2}$"
   ]
  },
  {
   "cell_type": "code",
   "execution_count": 18,
   "id": "75e09694-af8a-4344-99e3-2e7383ebc535",
   "metadata": {},
   "outputs": [
    {
     "name": "stdout",
     "output_type": "stream",
     "text": [
      "\n",
      "\n",
      "\n",
      "\n",
      "\n",
      "\n",
      "\n",
      "the result from chi2 test\n",
      "\n",
      "-------------------------\n",
      "\n",
      "       LR1 = -402.08917\n",
      "       LR2 = -454.66394\n",
      "       LRT =  105.14955\n",
      "     p_val =  1.469e-23\n",
      "\n",
      "-------------------------\n",
      "\n",
      "\n",
      "reject H0 since p value is less than the sig level\n"
     ]
    }
   ],
   "source": [
    "*extract the Likelihood score from model 3 with exper and expersq\n",
    "qui logit inlf nwifeinc educ exper expersq age kidslt6, robust\n",
    "scalar LR1 = e(ll)\n",
    "\n",
    "*extract the Likelihood score from model 3 without exper and expersq\n",
    "qui logit inlf nwifeinc educ age kidslt6, robust\n",
    "scalar LR2 = e(ll)\n",
    "\n",
    "*compute the Likelihood score ratio\n",
    "scalar LRT = -2*(LR2-LR1)\n",
    "\n",
    "*compute p-value of the chi2 test\n",
    "scalar p_val = chi2tail(2, LRT)\n",
    "\n",
    "*display all the previous result\n",
    "display \"the result from chi2 test\"\n",
    "display \"-------------------------\"\n",
    "scalar list LR1 LR2 LRT p_val\n",
    "display \"-------------------------\"\n",
    "\n",
    "*output conclusion\n",
    "if p_val>= 0.01{\n",
    "    display \"cannot reject H0 since p value is larger than the sig level\"\n",
    "}\n",
    "else{\n",
    "    display \"reject H0 since p value is less than the sig level\"\n",
    "}"
   ]
  },
  {
   "cell_type": "code",
   "execution_count": 21,
   "id": "412b5214-9f01-4ef0-9177-2859ef42e124",
   "metadata": {},
   "outputs": [
    {
     "name": "stdout",
     "output_type": "stream",
     "text": [
      "\n",
      "\n",
      "\n",
      "\n",
      "[NbConvertApp] Converting notebook Week10_Stata.ipynb to html\n",
      "[NbConvertApp] Writing 606850 bytes to Week10_Stata.html\n"
     ]
    }
   ],
   "source": [
    "!rm -rf Week10_Stata.html\n",
    "!jupyter nbconvert --to html Week10_Stata.ipynb"
   ]
  },
  {
   "cell_type": "code",
   "execution_count": null,
   "id": "85c5c904-6dda-4e68-82fa-172c11509a80",
   "metadata": {},
   "outputs": [],
   "source": []
  }
 ],
 "metadata": {
  "kernelspec": {
   "display_name": "Stata",
   "language": "stata",
   "name": "stata"
  },
  "language_info": {
   "codemirror_mode": "stata",
   "file_extension": ".do",
   "mimetype": "text/x-stata",
   "name": "stata",
   "version": "15.1"
  }
 },
 "nbformat": 4,
 "nbformat_minor": 5
}
