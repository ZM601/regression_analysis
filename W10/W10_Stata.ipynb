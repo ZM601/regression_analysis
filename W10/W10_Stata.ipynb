{
 "cells": [
  {
   "cell_type": "code",
   "execution_count": 2,
   "id": "e30f1b35-635d-4c11-9a0a-4970faa47293",
   "metadata": {},
   "outputs": [],
   "source": [
    "clear all"
   ]
  },
  {
   "cell_type": "markdown",
   "id": "91e6b8b3-0025-4450-a5a6-e5983b50849a",
   "metadata": {},
   "source": [
    "# load data"
   ]
  },
  {
   "cell_type": "code",
   "execution_count": 3,
   "id": "ac115b86-371d-4e17-8adf-715b64098600",
   "metadata": {},
   "outputs": [],
   "source": [
    "use \"~/Documents/Working_Directory/Tex_MD/Teaching/tutorial/6002/W10/mroz9.dta\", clear\n",
    "\n",
    "*export delimited using \"~/Documents/Working_Directory/Tex_MD/Teaching/tutorial/6002/W10/mroz9.csv\", nolabel replace"
   ]
  },
  {
   "cell_type": "markdown",
   "id": "b1dac6e1-73b2-451a-9059-505069bd85a1",
   "metadata": {},
   "source": [
    "# list all the variables in the dataset"
   ]
  },
  {
   "cell_type": "code",
   "execution_count": 4,
   "id": "a22f6262-245e-451b-bfb2-baaacb39262c",
   "metadata": {},
   "outputs": [
    {
     "name": "stdout",
     "output_type": "stream",
     "text": [
      "inlf      kidsge6   educ      exper     lnwage\n",
      "kidslt6   age       unem      nwifeinc  expersq\n"
     ]
    }
   ],
   "source": [
    "ds"
   ]
  },
  {
   "cell_type": "code",
   "execution_count": 5,
   "id": "82531abd-46f9-434e-9197-f4544c965b5e",
   "metadata": {},
   "outputs": [
    {
     "name": "stdout",
     "output_type": "stream",
     "text": [
      "\n",
      "Contains data from ~/Documents/Working_Directory/Tex_MD/Teaching/tutorial/6002/W\n",
      "> 10/mroz9.dta\n",
      "  obs:           753                          \n",
      " vars:            10                          2 May 2013 11:05\n",
      " size:        15,060                          \n",
      "--------------------------------------------------------------------------------\n",
      "              storage   display    value\n",
      "variable name   type    format     label      variable label\n",
      "--------------------------------------------------------------------------------\n",
      "inlf            byte    %9.0g                 =1 if in lab frce, 1975\n",
      "kidslt6         byte    %9.0g                 # kids < 6 years\n",
      "kidsge6         byte    %9.0g                 # kids 6-18\n",
      "age             byte    %9.0g                 woman's age in yrs\n",
      "educ            byte    %9.0g                 years of schooling\n",
      "unem            float   %9.0g                 unem. rate in county of resid.\n",
      "exper           byte    %9.0g                 actual labor mkt exper\n",
      "nwifeinc        float   %9.0g                 (faminc - wage*hours)/1000\n",
      "lnwage          float   %9.0g                 log(wage)\n",
      "expersq         int     %9.0g                 exper^2\n",
      "--------------------------------------------------------------------------------\n",
      "Sorted by: \n"
     ]
    }
   ],
   "source": [
    "describe"
   ]
  },
  {
   "cell_type": "markdown",
   "id": "05c95c6a-fe9f-4cb6-8c25-f1c991bc251a",
   "metadata": {},
   "source": [
    "# summary statistics"
   ]
  },
  {
   "cell_type": "code",
   "execution_count": 6,
   "id": "8ced9596-babb-49fe-9a30-9288d6783cf3",
   "metadata": {},
   "outputs": [
    {
     "name": "stdout",
     "output_type": "stream",
     "text": [
      "\n",
      "    Variable |        Obs        Mean    Std. Dev.       Min        Max\n",
      "-------------+---------------------------------------------------------\n",
      "        inlf |        753    .5683931    .4956295          0          1\n",
      "     kidslt6 |        753    .2377158     .523959          0          3\n",
      "     kidsge6 |        753    1.353254    1.319874          0          8\n",
      "         age |        753    42.53785    8.072574         30         60\n",
      "        educ |        753    12.28685    2.280246          5         17\n",
      "-------------+---------------------------------------------------------\n",
      "        unem |        753    8.623506    3.114934          3         14\n",
      "       exper |        753    10.63081     8.06913          0         45\n",
      "    nwifeinc |        753    20.12896     11.6348  -.0290575         96\n",
      "      lnwage |        428    1.190173    .7231978  -2.054164   3.218876\n",
      "     expersq |        753    178.0385    249.6308          0       2025\n"
     ]
    }
   ],
   "source": [
    "sum"
   ]
  },
  {
   "cell_type": "code",
   "execution_count": 7,
   "id": "923dff16-5a62-4534-91f9-a2644f619b25",
   "metadata": {},
   "outputs": [
    {
     "name": "stdout",
     "output_type": "stream",
     "text": [
      "(obs=428)\n",
      "\n",
      "             |     inlf  kidslt6  kidsge6      age     educ     unem    exper\n",
      "-------------+---------------------------------------------------------------\n",
      "        inlf |        .\n",
      "     kidslt6 |        .   1.0000\n",
      "     kidsge6 |        .   0.0907   1.0000\n",
      "         age |        .  -0.3384  -0.3976   1.0000\n",
      "        educ |        .   0.1293  -0.0925  -0.0522   1.0000\n",
      "        unem |        .   0.0143  -0.0175   0.0925   0.1222   1.0000\n",
      "       exper |        .  -0.1856  -0.3874   0.4836  -0.0152   0.0308   1.0000\n",
      "    nwifeinc |        .  -0.0275   0.0330   0.0970   0.2844   0.0806  -0.1609\n",
      "      lnwage |        .  -0.0185  -0.1200   0.0549   0.3433   0.0414   0.1693\n",
      "     expersq |        .  -0.1706  -0.3658   0.5069  -0.0353   0.0091   0.9525\n",
      "\n",
      "             | nwifeinc   lnwage  expersq\n",
      "-------------+---------------------------\n",
      "    nwifeinc |   1.0000\n",
      "      lnwage |   0.1414   1.0000\n",
      "     expersq |  -0.1615   0.1261   1.0000\n",
      "\n"
     ]
    }
   ],
   "source": [
    "corr"
   ]
  },
  {
   "cell_type": "markdown",
   "id": "947baaa3-7ee9-4635-883a-1fc820e87f3c",
   "metadata": {},
   "source": [
    "# GLM $\\beta$ comparison: LPM vs Probit vs Logit\n",
    "\n",
    "## * LPM : the OLS model for binary $Y$; more formally it is called perceptron.\n",
    "## * Probit : GLM (generalized linear modelling) with Gaussian/Normal link function.\n",
    "## * Logit : more generally it is called logistic regression."
   ]
  },
  {
   "cell_type": "markdown",
   "id": "9b013a45-d0e3-4afc-873c-f83d5663cca3",
   "metadata": {},
   "source": [
    "## LPM"
   ]
  },
  {
   "cell_type": "code",
   "execution_count": 8,
   "id": "33c8d8cb-611d-4ba1-a0c1-402d470658eb",
   "metadata": {},
   "outputs": [
    {
     "name": "stdout",
     "output_type": "stream",
     "text": [
      "\n",
      "\n",
      "      Source |       SS           df       MS      Number of obs   =       753\n",
      "-------------+----------------------------------   F(6, 746)       =     44.43\n",
      "       Model |  48.6306601         6  8.10511002   Prob > F        =    0.0000\n",
      "    Residual |  136.097096       746  .182435785   R-squared       =    0.2633\n",
      "-------------+----------------------------------   Adj R-squared   =    0.2573\n",
      "       Total |  184.727756       752  .245648611   Root MSE        =    .42713\n",
      "\n",
      "------------------------------------------------------------------------------\n",
      "        inlf |      Coef.   Std. Err.      t    P>|t|     [95% Conf. Interval]\n",
      "-------------+----------------------------------------------------------------\n",
      "    nwifeinc |  -.0033344   .0014467    -2.30   0.021    -.0061745   -.0004943\n",
      "        educ |   .0372848   .0073406     5.08   0.000     .0228741    .0516955\n",
      "       exper |    .039058   .0056554     6.91   0.000     .0279555    .0501605\n",
      "     expersq |  -.0005942   .0001848    -3.22   0.001     -.000957   -.0002315\n",
      "         age |  -.0169228    .002337    -7.24   0.000    -.0215107   -.0123349\n",
      "     kidslt6 |  -.2654556   .0333006    -7.97   0.000    -.3308297   -.2000816\n",
      "       _cons |   .6509414   .1391703     4.68   0.000     .3777294    .9241534\n",
      "------------------------------------------------------------------------------\n",
      "\n"
     ]
    }
   ],
   "source": [
    "reg inlf nwifeinc educ exper expersq age kidslt6\n",
    "\n",
    "estimate store LPM"
   ]
  },
  {
   "cell_type": "code",
   "execution_count": 9,
   "id": "e32d286e-2604-49b4-bb61-f3e130d8fba8",
   "metadata": {},
   "outputs": [
    {
     "name": "stdout",
     "output_type": "stream",
     "text": [
      "\n",
      "\n",
      "Linear regression                               Number of obs     =        753\n",
      "                                                F(6, 746)         =      72.28\n",
      "                                                Prob > F          =     0.0000\n",
      "                                                R-squared         =     0.2633\n",
      "                                                Root MSE          =     .42713\n",
      "\n",
      "------------------------------------------------------------------------------\n",
      "             |               Robust\n",
      "        inlf |      Coef.   Std. Err.      t    P>|t|     [95% Conf. Interval]\n",
      "-------------+----------------------------------------------------------------\n",
      "    nwifeinc |  -.0033344   .0015234    -2.19   0.029     -.006325   -.0003438\n",
      "        educ |   .0372848   .0072383     5.15   0.000      .023075    .0514946\n",
      "       exper |    .039058   .0057827     6.75   0.000     .0277056    .0504104\n",
      "     expersq |  -.0005942   .0001893    -3.14   0.002     -.000966   -.0002225\n",
      "         age |  -.0169228   .0022709    -7.45   0.000    -.0213809   -.0124646\n",
      "     kidslt6 |  -.2654556   .0317391    -8.36   0.000    -.3277642   -.2031471\n",
      "       _cons |   .6509414   .1404617     4.63   0.000     .3751941    .9266887\n",
      "------------------------------------------------------------------------------\n",
      "\n"
     ]
    }
   ],
   "source": [
    "reg inlf nwifeinc educ exper expersq age kidslt6, robust\n",
    "\n",
    "estimate store LPM_ro"
   ]
  },
  {
   "cell_type": "code",
   "execution_count": 14,
   "id": "af8f62a8-f0a7-4a8a-b605-104ac3a6af4a",
   "metadata": {},
   "outputs": [
    {
     "name": "stdout",
     "output_type": "stream",
     "text": [
      "\n",
      "--------------------------------------------\n",
      "                      (1)             (2)   \n",
      "                     inlf            inlf   \n",
      "                     b/se            b/se   \n",
      "--------------------------------------------\n",
      "nwifeinc          -0.0033*        -0.0033*  \n",
      "                 (0.0014)        (0.0015)   \n",
      "educ               0.0373***       0.0373***\n",
      "                 (0.0073)        (0.0072)   \n",
      "exper              0.0391***       0.0391***\n",
      "                 (0.0057)        (0.0058)   \n",
      "expersq           -0.0006**       -0.0006** \n",
      "                 (0.0002)        (0.0002)   \n",
      "age               -0.0169***      -0.0169***\n",
      "                 (0.0023)        (0.0023)   \n",
      "kidslt6           -0.2655***      -0.2655***\n",
      "                 (0.0333)        (0.0317)   \n",
      "_cons              0.6509***       0.6509***\n",
      "                 (0.1392)        (0.1405)   \n",
      "--------------------------------------------\n",
      "sample size      753.0000        753.0000   \n",
      "r2                 0.2633          0.2633   \n",
      "r2_a               0.2573          0.2573   \n",
      "F                 44.4272         72.2814   \n",
      "--------------------------------------------\n",
      "* p<0.05, ** p<0.01, *** p<0.001\n"
     ]
    }
   ],
   "source": [
    "esttab LPM LPM_ro, cells(b(star fmt(4)) se(par fmt(4))) stats(N r2 r2_a F, labels(\"sample size\")) legend"
   ]
  },
  {
   "cell_type": "markdown",
   "id": "edf7d5f9-aa8b-4e2e-910d-73316d74f58f",
   "metadata": {},
   "source": [
    "## Probit"
   ]
  },
  {
   "cell_type": "code",
   "execution_count": 15,
   "id": "11f6cc0e-a358-4b6e-aa2d-994cbe38ed0d",
   "metadata": {},
   "outputs": [
    {
     "name": "stdout",
     "output_type": "stream",
     "text": [
      "\n",
      "\n",
      "Iteration 0:   log likelihood =  -514.8732  \n",
      "Iteration 1:   log likelihood = -402.42245  \n",
      "Iteration 2:   log likelihood = -401.64597  \n",
      "Iteration 3:   log likelihood = -401.64546  \n",
      "Iteration 4:   log likelihood = -401.64546  \n",
      "\n",
      "Probit regression                               Number of obs     =        753\n",
      "                                                LR chi2(6)        =     226.46\n",
      "                                                Prob > chi2       =     0.0000\n",
      "Log likelihood = -401.64546                     Pseudo R2         =     0.2199\n",
      "\n",
      "------------------------------------------------------------------------------\n",
      "        inlf |      Coef.   Std. Err.      z    P>|z|     [95% Conf. Interval]\n",
      "-------------+----------------------------------------------------------------\n",
      "    nwifeinc |  -.0118298   .0048357    -2.45   0.014    -.0213077   -.0023519\n",
      "        educ |   .1286938   .0250943     5.13   0.000     .0795099    .1778778\n",
      "       exper |   .1221105    .018644     6.55   0.000     .0855689    .1586521\n",
      "     expersq |  -.0018828   .0005999    -3.14   0.002    -.0030586   -.0007069\n",
      "         age |  -.0553178   .0079581    -6.95   0.000    -.0709154   -.0397202\n",
      "     kidslt6 |  -.8809003     .11776    -7.48   0.000    -1.111706    -.650095\n",
      "       _cons |   .4633524   .4522318     1.02   0.306    -.4230055     1.34971\n",
      "------------------------------------------------------------------------------\n",
      "\n"
     ]
    }
   ],
   "source": [
    "probit inlf nwifeinc educ exper expersq age kidslt6\n",
    "\n",
    "estimate store probit_ord"
   ]
  },
  {
   "cell_type": "code",
   "execution_count": 16,
   "id": "3e0c25c4-e624-4404-86fd-b12319e261b8",
   "metadata": {},
   "outputs": [
    {
     "name": "stdout",
     "output_type": "stream",
     "text": [
      "\n",
      "Akaike's information criterion and Bayesian information criterion\n",
      "\n",
      "-----------------------------------------------------------------------------\n",
      "       Model |        Obs  ll(null)  ll(model)      df         AIC        BIC\n",
      "-------------+---------------------------------------------------------------\n",
      "  probit_ord |        753 -514.8732  -401.6455       7    817.2909   849.6594\n",
      "-----------------------------------------------------------------------------\n",
      "               Note: N=Obs used in calculating BIC; see [R] BIC note.\n"
     ]
    }
   ],
   "source": [
    "estat ic"
   ]
  },
  {
   "cell_type": "code",
   "execution_count": 17,
   "id": "61b1641a-a8d9-4886-80d4-ddba26726e62",
   "metadata": {},
   "outputs": [
    {
     "name": "stdout",
     "output_type": "stream",
     "text": [
      "\n",
      "\n",
      "Iteration 0:   log pseudolikelihood =  -514.8732  \n",
      "Iteration 1:   log pseudolikelihood = -402.42245  \n",
      "Iteration 2:   log pseudolikelihood = -401.64597  \n",
      "Iteration 3:   log pseudolikelihood = -401.64546  \n",
      "Iteration 4:   log pseudolikelihood = -401.64546  \n",
      "\n",
      "Probit regression                               Number of obs     =        753\n",
      "                                                Wald chi2(6)      =     183.50\n",
      "                                                Prob > chi2       =     0.0000\n",
      "Log pseudolikelihood = -401.64546               Pseudo R2         =     0.2199\n",
      "\n",
      "------------------------------------------------------------------------------\n",
      "             |               Robust\n",
      "        inlf |      Coef.   Std. Err.      z    P>|z|     [95% Conf. Interval]\n",
      "-------------+----------------------------------------------------------------\n",
      "    nwifeinc |  -.0118298   .0053211    -2.22   0.026     -.022259   -.0014006\n",
      "        educ |   .1286938    .025607     5.03   0.000     .0785051    .1788825\n",
      "       exper |   .1221105   .0187075     6.53   0.000     .0854444    .1587766\n",
      "     expersq |  -.0018828   .0005983    -3.15   0.002    -.0030555   -.0007101\n",
      "         age |  -.0553178   .0078428    -7.05   0.000    -.0706895   -.0399461\n",
      "     kidslt6 |  -.8809003   .1159154    -7.60   0.000     -1.10809   -.6537102\n",
      "       _cons |   .4633524   .4496354     1.03   0.303    -.4179168    1.344622\n",
      "------------------------------------------------------------------------------\n",
      "\n"
     ]
    }
   ],
   "source": [
    "probit inlf nwifeinc educ exper expersq age kidslt6, robust\n",
    "\n",
    "estimate store probit_ro"
   ]
  },
  {
   "cell_type": "code",
   "execution_count": 18,
   "id": "3ec249a7-58ac-4f56-af4f-c259cccc773b",
   "metadata": {},
   "outputs": [
    {
     "name": "stdout",
     "output_type": "stream",
     "text": [
      "\n",
      "Akaike's information criterion and Bayesian information criterion\n",
      "\n",
      "-----------------------------------------------------------------------------\n",
      "       Model |        Obs  ll(null)  ll(model)      df         AIC        BIC\n",
      "-------------+---------------------------------------------------------------\n",
      "   probit_ro |        753 -514.8732  -401.6455       7    817.2909   849.6594\n",
      "-----------------------------------------------------------------------------\n",
      "               Note: N=Obs used in calculating BIC; see [R] BIC note.\n"
     ]
    }
   ],
   "source": [
    "estat ic"
   ]
  },
  {
   "cell_type": "code",
   "execution_count": 22,
   "id": "cf602ea6-6e17-4caa-80cd-96eb7743b564",
   "metadata": {},
   "outputs": [
    {
     "name": "stdout",
     "output_type": "stream",
     "text": [
      "\n",
      "--------------------------------------------\n",
      "                      (1)             (2)   \n",
      "                     inlf            inlf   \n",
      "                     b/se            b/se   \n",
      "--------------------------------------------\n",
      "inlf                                        \n",
      "nwifeinc          -0.0118*        -0.0118*  \n",
      "                 (0.0048)        (0.0053)   \n",
      "educ               0.1287***       0.1287***\n",
      "                 (0.0251)        (0.0256)   \n",
      "exper              0.1221***       0.1221***\n",
      "                 (0.0186)        (0.0187)   \n",
      "expersq           -0.0019**       -0.0019** \n",
      "                 (0.0006)        (0.0006)   \n",
      "age               -0.0553***      -0.0553***\n",
      "                 (0.0080)        (0.0078)   \n",
      "kidslt6           -0.8809***      -0.8809***\n",
      "                 (0.1178)        (0.1159)   \n",
      "_cons              0.4634          0.4634   \n",
      "                 (0.4522)        (0.4496)   \n",
      "--------------------------------------------\n",
      "sample size      753.0000        753.0000   \n",
      "chi2             226.4555        183.4998   \n",
      "vce                   oim          robust   \n",
      "--------------------------------------------\n",
      "* p<0.05, ** p<0.01, *** p<0.001\n"
     ]
    }
   ],
   "source": [
    "esttab probit_ord probit_ro, cells(b(star fmt(4)) se(par fmt(4))) stats(N chi2 vce, labels(\"sample size\")) legend"
   ]
  },
  {
   "cell_type": "markdown",
   "id": "3a77ab15-e03a-4d38-9274-36e870e879f4",
   "metadata": {},
   "source": [
    "# Logit"
   ]
  },
  {
   "cell_type": "code",
   "execution_count": 28,
   "id": "cce61081-e297-4bfe-abf9-8a63a3b837b9",
   "metadata": {},
   "outputs": [
    {
     "name": "stdout",
     "output_type": "stream",
     "text": [
      "\n",
      "\n",
      "Iteration 0:   log likelihood =  -514.8732  \n",
      "Iteration 1:   log likelihood = -402.71541  \n",
      "Iteration 2:   log likelihood = -402.08965  \n",
      "Iteration 3:   log likelihood = -402.08917  \n",
      "Iteration 4:   log likelihood = -402.08917  \n",
      "\n",
      "Logistic regression                             Number of obs     =        753\n",
      "                                                LR chi2(6)        =     225.57\n",
      "                                                Prob > chi2       =     0.0000\n",
      "Log likelihood = -402.08917                     Pseudo R2         =     0.2191\n",
      "\n",
      "------------------------------------------------------------------------------\n",
      "        inlf |      Coef.   Std. Err.      z    P>|z|     [95% Conf. Interval]\n",
      "-------------+----------------------------------------------------------------\n",
      "    nwifeinc |  -.0210297   .0084272    -2.50   0.013    -.0375468   -.0045127\n",
      "        educ |   .2175914   .0431275     5.05   0.000      .133063    .3021198\n",
      "       exper |   .2036869   .0318759     6.39   0.000     .1412114    .2661625\n",
      "     expersq |  -.0031425   .0010145    -3.10   0.002     -.005131   -.0011541\n",
      "         age |  -.0922022   .0136754    -6.74   0.000    -.1190055   -.0653988\n",
      "     kidslt6 |  -1.468153   .2023964    -7.25   0.000    -1.864842   -1.071463\n",
      "       _cons |   .7502201   .7603718     0.99   0.324    -.7400813    2.240521\n",
      "------------------------------------------------------------------------------\n",
      "\n"
     ]
    }
   ],
   "source": [
    "logit inlf nwifeinc educ exper expersq age kidslt6\n",
    "\n",
    "estimate store logit_ord"
   ]
  },
  {
   "cell_type": "code",
   "execution_count": 29,
   "id": "8a9527cd-5348-43cc-ba1b-34f8291830db",
   "metadata": {},
   "outputs": [
    {
     "name": "stdout",
     "output_type": "stream",
     "text": [
      "\n",
      "Akaike's information criterion and Bayesian information criterion\n",
      "\n",
      "-----------------------------------------------------------------------------\n",
      "       Model |        Obs  ll(null)  ll(model)      df         AIC        BIC\n",
      "-------------+---------------------------------------------------------------\n",
      "   logit_ord |        753 -514.8732  -402.0892       7    818.1783   850.5468\n",
      "-----------------------------------------------------------------------------\n",
      "               Note: N=Obs used in calculating BIC; see [R] BIC note.\n"
     ]
    }
   ],
   "source": [
    "estat ic"
   ]
  },
  {
   "cell_type": "code",
   "execution_count": 30,
   "id": "7b5e657e-7d58-4ffb-81eb-38017bdff607",
   "metadata": {},
   "outputs": [
    {
     "name": "stdout",
     "output_type": "stream",
     "text": [
      "\n",
      "\n",
      "Iteration 0:   log pseudolikelihood =  -514.8732  \n",
      "Iteration 1:   log pseudolikelihood = -402.71541  \n",
      "Iteration 2:   log pseudolikelihood = -402.08965  \n",
      "Iteration 3:   log pseudolikelihood = -402.08917  \n",
      "Iteration 4:   log pseudolikelihood = -402.08917  \n",
      "\n",
      "Logistic regression                             Number of obs     =        753\n",
      "                                                Wald chi2(6)      =     156.75\n",
      "                                                Prob > chi2       =     0.0000\n",
      "Log pseudolikelihood = -402.08917               Pseudo R2         =     0.2191\n",
      "\n",
      "------------------------------------------------------------------------------\n",
      "             |               Robust\n",
      "        inlf |      Coef.   Std. Err.      z    P>|z|     [95% Conf. Interval]\n",
      "-------------+----------------------------------------------------------------\n",
      "    nwifeinc |  -.0210297   .0091117    -2.31   0.021    -.0388883   -.0031711\n",
      "        educ |   .2175914    .044114     4.93   0.000     .1311295    .3040532\n",
      "       exper |   .2036869   .0319423     6.38   0.000     .1410811    .2662927\n",
      "     expersq |  -.0031425   .0010053    -3.13   0.002    -.0051129   -.0011722\n",
      "         age |  -.0922022   .0135061    -6.83   0.000    -.1186735   -.0657308\n",
      "     kidslt6 |  -1.468153   .2023911    -7.25   0.000    -1.864832   -1.071473\n",
      "       _cons |   .7502201   .7586117     0.99   0.323    -.7366314    2.237072\n",
      "------------------------------------------------------------------------------\n",
      "\n"
     ]
    }
   ],
   "source": [
    "logit inlf nwifeinc educ exper expersq age kidslt6, robust\n",
    "\n",
    "estimate store logit_ro"
   ]
  },
  {
   "cell_type": "code",
   "execution_count": 31,
   "id": "b9b5165b-294d-4696-8915-61edba7c25d6",
   "metadata": {},
   "outputs": [
    {
     "name": "stdout",
     "output_type": "stream",
     "text": [
      "\n",
      "Akaike's information criterion and Bayesian information criterion\n",
      "\n",
      "-----------------------------------------------------------------------------\n",
      "       Model |        Obs  ll(null)  ll(model)      df         AIC        BIC\n",
      "-------------+---------------------------------------------------------------\n",
      "    logit_ro |        753 -514.8732  -402.0892       7    818.1783   850.5468\n",
      "-----------------------------------------------------------------------------\n",
      "               Note: N=Obs used in calculating BIC; see [R] BIC note.\n"
     ]
    }
   ],
   "source": [
    "estat ic"
   ]
  },
  {
   "cell_type": "code",
   "execution_count": 34,
   "id": "8754dbbf-d53b-4c38-97fb-4e445a698210",
   "metadata": {},
   "outputs": [
    {
     "name": "stdout",
     "output_type": "stream",
     "text": [
      "\n",
      "--------------------------------------------\n",
      "                logit_ord        logit_ro   \n",
      "                     b/se            b/se   \n",
      "--------------------------------------------\n",
      "inlf                                        \n",
      "nwifeinc          -0.0210*        -0.0210*  \n",
      "                 (0.0084)        (0.0091)   \n",
      "educ               0.2176***       0.2176***\n",
      "                 (0.0431)        (0.0441)   \n",
      "exper              0.2037***       0.2037***\n",
      "                 (0.0319)        (0.0319)   \n",
      "expersq           -0.0031**       -0.0031** \n",
      "                 (0.0010)        (0.0010)   \n",
      "age               -0.0922***      -0.0922***\n",
      "                 (0.0137)        (0.0135)   \n",
      "kidslt6           -1.4682***      -1.4682***\n",
      "                 (0.2024)        (0.2024)   \n",
      "_cons              0.7502          0.7502   \n",
      "                 (0.7604)        (0.7586)   \n",
      "--------------------------------------------\n",
      "Chi2-value       225.5681        156.7510   \n",
      "sample size      753.0000        753.0000   \n",
      "--------------------------------------------\n",
      "* p<0.05, ** p<0.01, *** p<0.001\n"
     ]
    }
   ],
   "source": [
    "estout logit_ord logit_ro, cells(b(star fmt(4)) se(par fmt(4))) stats(chi2 N, labels(Chi2-value \"sample size\")) legend"
   ]
  },
  {
   "cell_type": "markdown",
   "id": "443ca059-f49b-4d3e-95ca-8359652df6be",
   "metadata": {},
   "source": [
    "# compare all models"
   ]
  },
  {
   "cell_type": "code",
   "execution_count": 35,
   "id": "ab4757ce-6aca-4976-8cbe-627ffceccd4c",
   "metadata": {},
   "outputs": [
    {
     "name": "stdout",
     "output_type": "stream",
     "text": [
      "\n",
      "------------------------------------------------------------\n",
      "                      LPM      probit_ord       logit_ord   \n",
      "                     b/se            b/se            b/se   \n",
      "------------------------------------------------------------\n",
      "main                                                        \n",
      "nwifeinc          -0.0033*        -0.0118*        -0.0210*  \n",
      "                 (0.0014)        (0.0048)        (0.0084)   \n",
      "educ               0.0373***       0.1287***       0.2176***\n",
      "                 (0.0073)        (0.0251)        (0.0431)   \n",
      "exper              0.0391***       0.1221***       0.2037***\n",
      "                 (0.0057)        (0.0186)        (0.0319)   \n",
      "expersq           -0.0006**       -0.0019**       -0.0031** \n",
      "                 (0.0002)        (0.0006)        (0.0010)   \n",
      "age               -0.0169***      -0.0553***      -0.0922***\n",
      "                 (0.0023)        (0.0080)        (0.0137)   \n",
      "kidslt6           -0.2655***      -0.8809***      -1.4682***\n",
      "                 (0.0333)        (0.1178)        (0.2024)   \n",
      "_cons              0.6509***       0.4634          0.7502   \n",
      "                 (0.1392)        (0.4522)        (0.7604)   \n",
      "------------------------------------------------------------\n",
      "Chi2-value                       226.4555        225.5681   \n",
      "sample size      753.0000        753.0000        753.0000   \n",
      "------------------------------------------------------------\n",
      "* p<0.05, ** p<0.01, *** p<0.001\n"
     ]
    }
   ],
   "source": [
    "estout LPM probit_ord logit_ord, cells(b(star fmt(4)) se(par fmt(4))) stats(chi2 N, labels(Chi2-value \"sample size\")) legend"
   ]
  },
  {
   "cell_type": "markdown",
   "id": "1435e193-ad73-43c3-b471-ca9c24ddb3db",
   "metadata": {},
   "source": [
    "# GLM marginal effect comparison: LPM vs Probit vs Logit"
   ]
  },
  {
   "cell_type": "markdown",
   "id": "389c0512-c76c-4b57-919b-e08612e75225",
   "metadata": {},
   "source": [
    "## firstly, clear all the table in stata memory"
   ]
  },
  {
   "cell_type": "code",
   "execution_count": 36,
   "id": "4fe855d3-e4a4-41de-8154-0d81a7cd1de4",
   "metadata": {},
   "outputs": [],
   "source": [
    "est clear \n",
    "eststo clear "
   ]
  },
  {
   "cell_type": "markdown",
   "id": "2b419af4-0d8a-4706-b116-e85226508fbc",
   "metadata": {},
   "source": [
    "# output the ME for LPM"
   ]
  },
  {
   "cell_type": "code",
   "execution_count": 38,
   "id": "9dbd093c-4529-4453-9648-9a037b994dd4",
   "metadata": {},
   "outputs": [
    {
     "name": "stdout",
     "output_type": "stream",
     "text": [
      "\n",
      "\n",
      "\n",
      "Conditional marginal effects                    Number of obs     =        753\n",
      "Model VCE    : OLS\n",
      "\n",
      "Expression   : Linear prediction, predict()\n",
      "dy/dx w.r.t. : nwifeinc educ exper expersq age kidslt6\n",
      "at           : nwifeinc        =    20.12896 (mean)\n",
      "               educ            =    12.28685 (mean)\n",
      "               exper           =    10.63081 (mean)\n",
      "               expersq         =    178.0385 (mean)\n",
      "               age             =    42.53785 (mean)\n",
      "               kidslt6         =    .2377158 (mean)\n",
      "\n",
      "------------------------------------------------------------------------------\n",
      "             |            Delta-method\n",
      "             |      dy/dx   Std. Err.      t    P>|t|     [95% Conf. Interval]\n",
      "-------------+----------------------------------------------------------------\n",
      "    nwifeinc |  -.0033344   .0014467    -2.30   0.021    -.0061745   -.0004943\n",
      "        educ |   .0372848   .0073406     5.08   0.000     .0228741    .0516955\n",
      "       exper |    .039058   .0056554     6.91   0.000     .0279555    .0501605\n",
      "     expersq |  -.0005942   .0001848    -3.22   0.001     -.000957   -.0002315\n",
      "         age |  -.0169228    .002337    -7.24   0.000    -.0215107   -.0123349\n",
      "     kidslt6 |  -.2654556   .0333006    -7.97   0.000    -.3308297   -.2000816\n",
      "------------------------------------------------------------------------------\n"
     ]
    }
   ],
   "source": [
    "qui reg inlf nwifeinc educ exper expersq age kidslt6\n",
    "\n",
    "eststo ME_LPM: margins, dydx(*) atmeans post"
   ]
  },
  {
   "cell_type": "markdown",
   "id": "edfedefd-899b-4f7a-a81f-aaec769d8e06",
   "metadata": {},
   "source": [
    "# output the ME for Probit"
   ]
  },
  {
   "cell_type": "code",
   "execution_count": 39,
   "id": "b086df3c-aac1-4014-9dc5-d86c3ebf01f9",
   "metadata": {},
   "outputs": [
    {
     "name": "stdout",
     "output_type": "stream",
     "text": [
      "\n",
      "\n",
      "\n",
      "Conditional marginal effects                    Number of obs     =        753\n",
      "Model VCE    : OIM\n",
      "\n",
      "Expression   : Pr(inlf), predict()\n",
      "dy/dx w.r.t. : nwifeinc educ exper expersq age kidslt6\n",
      "at           : nwifeinc        =    20.12896 (mean)\n",
      "               educ            =    12.28685 (mean)\n",
      "               exper           =    10.63081 (mean)\n",
      "               expersq         =    178.0385 (mean)\n",
      "               age             =    42.53785 (mean)\n",
      "               kidslt6         =    .2377158 (mean)\n",
      "\n",
      "------------------------------------------------------------------------------\n",
      "             |            Delta-method\n",
      "             |      dy/dx   Std. Err.      z    P>|z|     [95% Conf. Interval]\n",
      "-------------+----------------------------------------------------------------\n",
      "    nwifeinc |  -.0046195   .0018882    -2.45   0.014    -.0083203   -.0009186\n",
      "        educ |   .0502542   .0097928     5.13   0.000     .0310606    .0694479\n",
      "       exper |   .0476835    .007296     6.54   0.000     .0333837    .0619833\n",
      "     expersq |  -.0007352   .0002346    -3.13   0.002     -.001195   -.0002755\n",
      "         age |  -.0216013    .003106    -6.95   0.000    -.0276889   -.0155137\n",
      "     kidslt6 |  -.3439869    .046062    -7.47   0.000    -.4342667    -.253707\n",
      "------------------------------------------------------------------------------\n"
     ]
    }
   ],
   "source": [
    "qui probit inlf nwifeinc educ exper expersq age kidslt6\n",
    "\n",
    "eststo ME_Probit: margins, dydx(*) atmeans post"
   ]
  },
  {
   "cell_type": "markdown",
   "id": "5841afc4-6ecf-4c0f-9bc6-d38e8481dd2b",
   "metadata": {},
   "source": [
    "# output the ME for Logit"
   ]
  },
  {
   "cell_type": "code",
   "execution_count": 40,
   "id": "f27b93a0-c4c0-495e-98e9-2e82c782bbc3",
   "metadata": {},
   "outputs": [
    {
     "name": "stdout",
     "output_type": "stream",
     "text": [
      "\n",
      "\n",
      "\n",
      "Conditional marginal effects                    Number of obs     =        753\n",
      "Model VCE    : OIM\n",
      "\n",
      "Expression   : Pr(inlf), predict()\n",
      "dy/dx w.r.t. : nwifeinc educ exper expersq age kidslt6\n",
      "at           : nwifeinc        =    20.12896 (mean)\n",
      "               educ            =    12.28685 (mean)\n",
      "               exper           =    10.63081 (mean)\n",
      "               expersq         =    178.0385 (mean)\n",
      "               age             =    42.53785 (mean)\n",
      "               kidslt6         =    .2377158 (mean)\n",
      "\n",
      "------------------------------------------------------------------------------\n",
      "             |            Delta-method\n",
      "             |      dy/dx   Std. Err.      z    P>|z|     [95% Conf. Interval]\n",
      "-------------+----------------------------------------------------------------\n",
      "    nwifeinc |  -.0051125   .0020493    -2.49   0.013     -.009129    -.001096\n",
      "        educ |   .0528979   .0104821     5.05   0.000     .0323534    .0734424\n",
      "       exper |   .0495176   .0077769     6.37   0.000     .0342753      .06476\n",
      "     expersq |   -.000764   .0002472    -3.09   0.002    -.0012486   -.0002794\n",
      "         age |   -.022415   .0033212    -6.75   0.000    -.0289244   -.0159055\n",
      "     kidslt6 |  -.3569176   .0493664    -7.23   0.000     -.453674   -.2601612\n",
      "------------------------------------------------------------------------------\n"
     ]
    }
   ],
   "source": [
    "qui logit inlf nwifeinc educ exper expersq age kidslt6\n",
    "\n",
    "eststo ME_Logit: margins, dydx(*) atmeans post"
   ]
  },
  {
   "cell_type": "markdown",
   "id": "b3bd8488-cb21-4365-a63f-d0c92c629775",
   "metadata": {},
   "source": [
    "# summarize everything into a table"
   ]
  },
  {
   "cell_type": "code",
   "execution_count": 42,
   "id": "f0bea9a5-6ef4-4b2c-8fe0-b7a7725153a1",
   "metadata": {},
   "outputs": [
    {
     "name": "stdout",
     "output_type": "stream",
     "text": [
      "\n",
      "------------------------------------------------------------\n",
      "                      (1)             (2)             (3)   \n",
      "                                                            \n",
      "                     b/se            b/se            b/se   \n",
      "------------------------------------------------------------\n",
      "nwifeinc          -0.0033*        -0.0046*        -0.0051*  \n",
      "                 (0.0014)        (0.0019)        (0.0020)   \n",
      "educ               0.0373***       0.0503***       0.0529***\n",
      "                 (0.0073)        (0.0098)        (0.0105)   \n",
      "exper              0.0391***       0.0477***       0.0495***\n",
      "                 (0.0057)        (0.0073)        (0.0078)   \n",
      "expersq           -0.0006**       -0.0007**       -0.0008** \n",
      "                 (0.0002)        (0.0002)        (0.0002)   \n",
      "age               -0.0169***      -0.0216***      -0.0224***\n",
      "                 (0.0023)        (0.0031)        (0.0033)   \n",
      "kidslt6           -0.2655***      -0.3440***      -0.3569***\n",
      "                 (0.0333)        (0.0461)        (0.0494)   \n",
      "------------------------------------------------------------\n",
      "sample size      753.0000        753.0000        753.0000   \n",
      "------------------------------------------------------------\n",
      "* p<0.05, ** p<0.01, *** p<0.001\n"
     ]
    }
   ],
   "source": [
    "esttab ME_LPM ME_Probit ME_Logit, cells(b(star fmt(4)) se(par fmt(4))) stats(N, labels(\"sample size\")) legend"
   ]
  },
  {
   "cell_type": "markdown",
   "id": "9a35bfe3-88d9-4da7-ba67-395d9cdc702c",
   "metadata": {},
   "source": [
    "# $z$-test on educ\n",
    "\n",
    "# $$H_0: ME(educ) = 1 $$\n",
    "# $$H_1: ME(educ) \\neq 1 $$"
   ]
  },
  {
   "cell_type": "code",
   "execution_count": 43,
   "id": "fe9cb6f5-3c13-420c-88aa-b9107ff38345",
   "metadata": {},
   "outputs": [
    {
     "name": "stdout",
     "output_type": "stream",
     "text": [
      "\n",
      "\n",
      "\n",
      "ME[6,9]\n",
      "              ME_LPM:     ME_LPM:     ME_LPM:  ME_Probit:  ME_Probit:\n",
      "                   b          se           p           b          se\n",
      "nwifeinc   -.0033344   .00144668   .02144817  -.00461947   .00188823\n",
      "    educ   .03728479    .0073406   4.792e-07   .05025424   .00979284\n",
      "   exper   .03905802   .00565544   1.066e-11   .04768349   .00729596\n",
      " expersq  -.00059425   .00018478   .00135569  -.00073522   .00023458\n",
      "     age  -.01692279   .00233699   1.109e-12  -.02160131   .00310598\n",
      " kidslt6  -.26545565   .03330062   5.877e-15  -.34398686   .04606198\n",
      "\n",
      "           ME_Probit:   ME_Logit:   ME_Logit:   ME_Logit:\n",
      "                   p           b          se           p\n",
      "nwifeinc   .01442658  -.00511247   .00204927   .01260383\n",
      "    educ   2.871e-07   .05289791   .01048206   4.499e-07\n",
      "   exper   6.336e-11   .04951764   .00777686   1.924e-10\n",
      " expersq   .00172303  -.00076397   .00024724   .00200177\n",
      "     age   3.532e-12  -.02241495   .00332119   1.488e-11\n",
      " kidslt6   8.149e-14  -.35691763   .04936642   4.832e-13\n"
     ]
    }
   ],
   "source": [
    "*plot the Marginal effect table from last step\n",
    "*save it under name ME\n",
    "mat ME = r(coefs)\n",
    "mat l ME"
   ]
  },
  {
   "cell_type": "code",
   "execution_count": 47,
   "id": "720ac21b-55b1-4503-8698-1ca7b7b954de",
   "metadata": {},
   "outputs": [
    {
     "name": "stdout",
     "output_type": "stream",
     "text": [
      "\n",
      "\n",
      "\n",
      "\n",
      "\n",
      "the result from z test\n",
      "\n",
      "-------------------------\n",
      "\n",
      "ME_educ_Probit =  .05025424\n",
      "SE_educ_Probit =  .00979284\n",
      "     z_val = -96.983651\n",
      "   p_val_z =          0\n",
      "\n",
      "-------------------------\n",
      "\n",
      "\n",
      "reject H0 since p value is less than the sig level\n"
     ]
    }
   ],
   "source": [
    "*extract the ME of educ from Probit\n",
    "scalar ME_educ_Probit = ME[2,4]\n",
    "*extract the SE of ME for educ from Probit\n",
    "scalar SE_educ_Probit = ME[2,5]\n",
    "\n",
    "*compute t score\n",
    "scalar z_val   = (ME_educ_Probit - 1)/SE_educ_Probit\n",
    "*compute p value\n",
    "scalar p_val_z = 2 * (1-normal(abs(z_val)))\n",
    "\n",
    "*display all the previous result\n",
    "display \"the result from z test\"\n",
    "display \"-------------------------\"\n",
    "scalar list ME_educ_Probit SE_educ_Probit z_val p_val_z\n",
    "display \"-------------------------\"\n",
    "\n",
    "*output conclusion\n",
    "if p_val_z>= 0.01{\n",
    "    display \"cannot reject H0 since p value is larger than the sig level\"\n",
    "}\n",
    "else{\n",
    "    display \"reject H0 since p value is less than the sig level\"\n",
    "}"
   ]
  },
  {
   "cell_type": "markdown",
   "id": "416ada1b-4964-40a6-af30-0ad89ec33a14",
   "metadata": {},
   "source": [
    "# $\\chi^2$ test on $\\beta_{exper}$ and $\\beta_{exper^2}$"
   ]
  },
  {
   "cell_type": "code",
   "execution_count": 48,
   "id": "75e09694-af8a-4344-99e3-2e7383ebc535",
   "metadata": {},
   "outputs": [
    {
     "name": "stdout",
     "output_type": "stream",
     "text": [
      "\n",
      "\n",
      "\n",
      "\n",
      "\n",
      "\n",
      "\n",
      "the result from chi2 test\n",
      "\n",
      "-------------------------\n",
      "\n",
      "       LR1 = -402.08917\n",
      "       LR2 = -454.66394\n",
      "       LRT =  105.14955\n",
      "     p_val =  1.469e-23\n",
      "\n",
      "-------------------------\n",
      "\n",
      "\n",
      "reject H0 since p value is less than the sig level\n"
     ]
    }
   ],
   "source": [
    "*extract the Likelihood score from model 3 with exper and expersq\n",
    "qui logit inlf nwifeinc educ exper expersq age kidslt6, robust\n",
    "scalar LR1 = e(ll)\n",
    "\n",
    "*extract the Likelihood score from model 3 without exper and expersq\n",
    "qui logit inlf nwifeinc educ age kidslt6, robust\n",
    "scalar LR2 = e(ll)\n",
    "\n",
    "*compute the Likelihood score ratio\n",
    "scalar LRT = -2*(LR2-LR1)\n",
    "\n",
    "*compute p-value of the chi2 test\n",
    "scalar p_val = chi2tail(2, LRT)\n",
    "\n",
    "*display all the previous result\n",
    "display \"the result from chi2 test\"\n",
    "display \"-------------------------\"\n",
    "scalar list LR1 LR2 LRT p_val\n",
    "display \"-------------------------\"\n",
    "\n",
    "*output conclusion\n",
    "if p_val>= 0.01{\n",
    "    display \"cannot reject H0 since p value is larger than the sig level\"\n",
    "}\n",
    "else{\n",
    "    display \"reject H0 since p value is less than the sig level\"\n",
    "}"
   ]
  },
  {
   "cell_type": "code",
   "execution_count": 50,
   "id": "412b5214-9f01-4ef0-9177-2859ef42e124",
   "metadata": {},
   "outputs": [
    {
     "name": "stdout",
     "output_type": "stream",
     "text": [
      "\n",
      "\n",
      "\n",
      "\n",
      "[NbConvertApp] Converting notebook W10_Stata.ipynb to html\n",
      "[NbConvertApp] Writing 632939 bytes to W10_Stata.html\n"
     ]
    }
   ],
   "source": [
    "!rm -rf W10_Stata.html\n",
    "!jupyter nbconvert --to html W10_Stata.ipynb"
   ]
  },
  {
   "cell_type": "code",
   "execution_count": null,
   "id": "85c5c904-6dda-4e68-82fa-172c11509a80",
   "metadata": {},
   "outputs": [],
   "source": []
  }
 ],
 "metadata": {
  "kernelspec": {
   "display_name": "Stata",
   "language": "stata",
   "name": "stata"
  },
  "language_info": {
   "codemirror_mode": "stata",
   "file_extension": ".do",
   "mimetype": "text/x-stata",
   "name": "stata",
   "version": "15.1"
  }
 },
 "nbformat": 4,
 "nbformat_minor": 5
}
