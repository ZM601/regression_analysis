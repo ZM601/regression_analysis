{
 "cells": [
  {
   "cell_type": "code",
   "execution_count": 1,
   "id": "2bf08d53-3655-406c-893a-56ab27248c29",
   "metadata": {},
   "outputs": [],
   "source": [
    "%reset -f"
   ]
  },
  {
   "cell_type": "code",
   "execution_count": 75,
   "id": "1496fdca-957f-480c-9182-b67f27360b6e",
   "metadata": {},
   "outputs": [],
   "source": [
    "import numpy             as np\n",
    "import statsmodels.api   as sm\n",
    "import pandas            as pd\n",
    "import seaborn           as sns\n",
    "\n",
    "from statsmodels.discrete.discrete_model import LogitResults\n",
    "\n",
    "from statsmodels.iolib.summary2 import summary_col"
   ]
  },
  {
   "cell_type": "code",
   "execution_count": 3,
   "id": "2f01d48a-43a0-4c2e-82d4-8ff634a174e6",
   "metadata": {},
   "outputs": [],
   "source": [
    "df = pd.read_csv(\"mroz9.csv\")"
   ]
  },
  {
   "cell_type": "code",
   "execution_count": 4,
   "id": "69a20e64-2870-4274-abff-d9ea3b8e9837",
   "metadata": {},
   "outputs": [
    {
     "data": {
      "text/plain": [
       "Index(['const', 'inlf', 'kidslt6', 'kidsge6', 'age', 'educ', 'unem', 'exper',\n",
       "       'nwifeinc', 'lnwage', 'expersq'],\n",
       "      dtype='object')"
      ]
     },
     "execution_count": 4,
     "metadata": {},
     "output_type": "execute_result"
    }
   ],
   "source": [
    "df = sm.add_constant(df)\n",
    "df.columns"
   ]
  },
  {
   "cell_type": "code",
   "execution_count": 5,
   "id": "b52556cc-6a97-4f34-83e0-146756dc4ec4",
   "metadata": {},
   "outputs": [
    {
     "data": {
      "text/html": [
       "<div>\n",
       "<style scoped>\n",
       "    .dataframe tbody tr th:only-of-type {\n",
       "        vertical-align: middle;\n",
       "    }\n",
       "\n",
       "    .dataframe tbody tr th {\n",
       "        vertical-align: top;\n",
       "    }\n",
       "\n",
       "    .dataframe thead th {\n",
       "        text-align: right;\n",
       "    }\n",
       "</style>\n",
       "<table border=\"1\" class=\"dataframe\">\n",
       "  <thead>\n",
       "    <tr style=\"text-align: right;\">\n",
       "      <th></th>\n",
       "      <th>const</th>\n",
       "      <th>inlf</th>\n",
       "      <th>kidslt6</th>\n",
       "      <th>kidsge6</th>\n",
       "      <th>age</th>\n",
       "      <th>educ</th>\n",
       "      <th>unem</th>\n",
       "      <th>exper</th>\n",
       "      <th>nwifeinc</th>\n",
       "      <th>lnwage</th>\n",
       "      <th>expersq</th>\n",
       "    </tr>\n",
       "  </thead>\n",
       "  <tbody>\n",
       "    <tr>\n",
       "      <th>0</th>\n",
       "      <td>1.0</td>\n",
       "      <td>1</td>\n",
       "      <td>1</td>\n",
       "      <td>0</td>\n",
       "      <td>32</td>\n",
       "      <td>12</td>\n",
       "      <td>5.0</td>\n",
       "      <td>14</td>\n",
       "      <td>10.910060</td>\n",
       "      <td>1.210154</td>\n",
       "      <td>196</td>\n",
       "    </tr>\n",
       "    <tr>\n",
       "      <th>1</th>\n",
       "      <td>1.0</td>\n",
       "      <td>1</td>\n",
       "      <td>0</td>\n",
       "      <td>2</td>\n",
       "      <td>30</td>\n",
       "      <td>12</td>\n",
       "      <td>11.0</td>\n",
       "      <td>5</td>\n",
       "      <td>19.499981</td>\n",
       "      <td>0.328512</td>\n",
       "      <td>25</td>\n",
       "    </tr>\n",
       "    <tr>\n",
       "      <th>2</th>\n",
       "      <td>1.0</td>\n",
       "      <td>1</td>\n",
       "      <td>1</td>\n",
       "      <td>3</td>\n",
       "      <td>35</td>\n",
       "      <td>12</td>\n",
       "      <td>5.0</td>\n",
       "      <td>15</td>\n",
       "      <td>12.039910</td>\n",
       "      <td>1.514138</td>\n",
       "      <td>225</td>\n",
       "    </tr>\n",
       "    <tr>\n",
       "      <th>3</th>\n",
       "      <td>1.0</td>\n",
       "      <td>1</td>\n",
       "      <td>0</td>\n",
       "      <td>3</td>\n",
       "      <td>34</td>\n",
       "      <td>12</td>\n",
       "      <td>5.0</td>\n",
       "      <td>6</td>\n",
       "      <td>6.799996</td>\n",
       "      <td>0.092123</td>\n",
       "      <td>36</td>\n",
       "    </tr>\n",
       "    <tr>\n",
       "      <th>4</th>\n",
       "      <td>1.0</td>\n",
       "      <td>1</td>\n",
       "      <td>1</td>\n",
       "      <td>2</td>\n",
       "      <td>31</td>\n",
       "      <td>14</td>\n",
       "      <td>9.5</td>\n",
       "      <td>7</td>\n",
       "      <td>20.100058</td>\n",
       "      <td>1.524272</td>\n",
       "      <td>49</td>\n",
       "    </tr>\n",
       "  </tbody>\n",
       "</table>\n",
       "</div>"
      ],
      "text/plain": [
       "   const  inlf  kidslt6  kidsge6  age  educ  unem  exper   nwifeinc    lnwage  \\\n",
       "0    1.0     1        1        0   32    12   5.0     14  10.910060  1.210154   \n",
       "1    1.0     1        0        2   30    12  11.0      5  19.499981  0.328512   \n",
       "2    1.0     1        1        3   35    12   5.0     15  12.039910  1.514138   \n",
       "3    1.0     1        0        3   34    12   5.0      6   6.799996  0.092123   \n",
       "4    1.0     1        1        2   31    14   9.5      7  20.100058  1.524272   \n",
       "\n",
       "   expersq  \n",
       "0      196  \n",
       "1       25  \n",
       "2      225  \n",
       "3       36  \n",
       "4       49  "
      ]
     },
     "execution_count": 5,
     "metadata": {},
     "output_type": "execute_result"
    }
   ],
   "source": [
    "df.head()"
   ]
  },
  {
   "cell_type": "code",
   "execution_count": 7,
   "id": "cdb21d32-6cc6-4d94-91cf-bc6bc631bd87",
   "metadata": {},
   "outputs": [
    {
     "data": {
      "text/html": [
       "<div>\n",
       "<style scoped>\n",
       "    .dataframe tbody tr th:only-of-type {\n",
       "        vertical-align: middle;\n",
       "    }\n",
       "\n",
       "    .dataframe tbody tr th {\n",
       "        vertical-align: top;\n",
       "    }\n",
       "\n",
       "    .dataframe thead th {\n",
       "        text-align: right;\n",
       "    }\n",
       "</style>\n",
       "<table border=\"1\" class=\"dataframe\">\n",
       "  <thead>\n",
       "    <tr style=\"text-align: right;\">\n",
       "      <th></th>\n",
       "      <th>const</th>\n",
       "      <th>inlf</th>\n",
       "      <th>kidslt6</th>\n",
       "      <th>kidsge6</th>\n",
       "      <th>age</th>\n",
       "      <th>educ</th>\n",
       "      <th>unem</th>\n",
       "      <th>exper</th>\n",
       "      <th>nwifeinc</th>\n",
       "      <th>lnwage</th>\n",
       "      <th>expersq</th>\n",
       "    </tr>\n",
       "  </thead>\n",
       "  <tbody>\n",
       "    <tr>\n",
       "      <th>count</th>\n",
       "      <td>753.0</td>\n",
       "      <td>753.000000</td>\n",
       "      <td>753.000000</td>\n",
       "      <td>753.000000</td>\n",
       "      <td>753.000000</td>\n",
       "      <td>753.000000</td>\n",
       "      <td>753.000000</td>\n",
       "      <td>753.00000</td>\n",
       "      <td>753.000000</td>\n",
       "      <td>428.000000</td>\n",
       "      <td>753.000000</td>\n",
       "    </tr>\n",
       "    <tr>\n",
       "      <th>mean</th>\n",
       "      <td>1.0</td>\n",
       "      <td>0.568393</td>\n",
       "      <td>0.237716</td>\n",
       "      <td>1.353254</td>\n",
       "      <td>42.537849</td>\n",
       "      <td>12.286853</td>\n",
       "      <td>8.623506</td>\n",
       "      <td>10.63081</td>\n",
       "      <td>20.128964</td>\n",
       "      <td>1.190173</td>\n",
       "      <td>178.038513</td>\n",
       "    </tr>\n",
       "    <tr>\n",
       "      <th>std</th>\n",
       "      <td>0.0</td>\n",
       "      <td>0.495630</td>\n",
       "      <td>0.523959</td>\n",
       "      <td>1.319874</td>\n",
       "      <td>8.072574</td>\n",
       "      <td>2.280246</td>\n",
       "      <td>3.114934</td>\n",
       "      <td>8.06913</td>\n",
       "      <td>11.634797</td>\n",
       "      <td>0.723198</td>\n",
       "      <td>249.630849</td>\n",
       "    </tr>\n",
       "    <tr>\n",
       "      <th>min</th>\n",
       "      <td>1.0</td>\n",
       "      <td>0.000000</td>\n",
       "      <td>0.000000</td>\n",
       "      <td>0.000000</td>\n",
       "      <td>30.000000</td>\n",
       "      <td>5.000000</td>\n",
       "      <td>3.000000</td>\n",
       "      <td>0.00000</td>\n",
       "      <td>-0.029057</td>\n",
       "      <td>-2.054164</td>\n",
       "      <td>0.000000</td>\n",
       "    </tr>\n",
       "    <tr>\n",
       "      <th>25%</th>\n",
       "      <td>1.0</td>\n",
       "      <td>0.000000</td>\n",
       "      <td>0.000000</td>\n",
       "      <td>0.000000</td>\n",
       "      <td>36.000000</td>\n",
       "      <td>12.000000</td>\n",
       "      <td>7.500000</td>\n",
       "      <td>4.00000</td>\n",
       "      <td>13.025040</td>\n",
       "      <td>0.816509</td>\n",
       "      <td>16.000000</td>\n",
       "    </tr>\n",
       "    <tr>\n",
       "      <th>50%</th>\n",
       "      <td>1.0</td>\n",
       "      <td>1.000000</td>\n",
       "      <td>0.000000</td>\n",
       "      <td>1.000000</td>\n",
       "      <td>43.000000</td>\n",
       "      <td>12.000000</td>\n",
       "      <td>7.500000</td>\n",
       "      <td>9.00000</td>\n",
       "      <td>17.700001</td>\n",
       "      <td>1.247574</td>\n",
       "      <td>81.000000</td>\n",
       "    </tr>\n",
       "    <tr>\n",
       "      <th>75%</th>\n",
       "      <td>1.0</td>\n",
       "      <td>1.000000</td>\n",
       "      <td>0.000000</td>\n",
       "      <td>2.000000</td>\n",
       "      <td>49.000000</td>\n",
       "      <td>13.000000</td>\n",
       "      <td>11.000000</td>\n",
       "      <td>15.00000</td>\n",
       "      <td>24.466000</td>\n",
       "      <td>1.603571</td>\n",
       "      <td>225.000000</td>\n",
       "    </tr>\n",
       "    <tr>\n",
       "      <th>max</th>\n",
       "      <td>1.0</td>\n",
       "      <td>1.000000</td>\n",
       "      <td>3.000000</td>\n",
       "      <td>8.000000</td>\n",
       "      <td>60.000000</td>\n",
       "      <td>17.000000</td>\n",
       "      <td>14.000000</td>\n",
       "      <td>45.00000</td>\n",
       "      <td>96.000000</td>\n",
       "      <td>3.218876</td>\n",
       "      <td>2025.000000</td>\n",
       "    </tr>\n",
       "  </tbody>\n",
       "</table>\n",
       "</div>"
      ],
      "text/plain": [
       "       const        inlf     kidslt6     kidsge6         age        educ  \\\n",
       "count  753.0  753.000000  753.000000  753.000000  753.000000  753.000000   \n",
       "mean     1.0    0.568393    0.237716    1.353254   42.537849   12.286853   \n",
       "std      0.0    0.495630    0.523959    1.319874    8.072574    2.280246   \n",
       "min      1.0    0.000000    0.000000    0.000000   30.000000    5.000000   \n",
       "25%      1.0    0.000000    0.000000    0.000000   36.000000   12.000000   \n",
       "50%      1.0    1.000000    0.000000    1.000000   43.000000   12.000000   \n",
       "75%      1.0    1.000000    0.000000    2.000000   49.000000   13.000000   \n",
       "max      1.0    1.000000    3.000000    8.000000   60.000000   17.000000   \n",
       "\n",
       "             unem      exper    nwifeinc      lnwage      expersq  \n",
       "count  753.000000  753.00000  753.000000  428.000000   753.000000  \n",
       "mean     8.623506   10.63081   20.128964    1.190173   178.038513  \n",
       "std      3.114934    8.06913   11.634797    0.723198   249.630849  \n",
       "min      3.000000    0.00000   -0.029057   -2.054164     0.000000  \n",
       "25%      7.500000    4.00000   13.025040    0.816509    16.000000  \n",
       "50%      7.500000    9.00000   17.700001    1.247574    81.000000  \n",
       "75%     11.000000   15.00000   24.466000    1.603571   225.000000  \n",
       "max     14.000000   45.00000   96.000000    3.218876  2025.000000  "
      ]
     },
     "execution_count": 7,
     "metadata": {},
     "output_type": "execute_result"
    }
   ],
   "source": [
    "df.describe()"
   ]
  },
  {
   "cell_type": "code",
   "execution_count": null,
   "id": "9e2069c6-979d-4792-92d5-6de1402e3941",
   "metadata": {},
   "outputs": [],
   "source": [
    "X = df[['const', 'nwifeinc', 'educ', 'exper', 'expersq', 'age', 'kidslt6']]\n",
    "Y = df[['inlf']]"
   ]
  },
  {
   "cell_type": "markdown",
   "id": "f8dd171e-1df2-4b95-a784-433931e20d2c",
   "metadata": {},
   "source": [
    "# OLS coefficients and Marginal effect table\n",
    "## since OLS coefficient is the ME, there is no need to output another table"
   ]
  },
  {
   "cell_type": "code",
   "execution_count": 82,
   "id": "779b7843-f67c-4de7-8d4d-ff287a99de0a",
   "metadata": {},
   "outputs": [
    {
     "name": "stdout",
     "output_type": "stream",
     "text": [
      "                            OLS Regression Results                            \n",
      "==============================================================================\n",
      "Dep. Variable:                   inlf   R-squared:                       0.263\n",
      "Model:                            OLS   Adj. R-squared:                  0.257\n",
      "Method:                 Least Squares   F-statistic:                     72.28\n",
      "Date:                Mon, 24 May 2021   Prob (F-statistic):           5.53e-71\n",
      "Time:                        12:26:20   Log-Likelihood:                -424.38\n",
      "No. Observations:                 753   AIC:                             862.8\n",
      "Df Residuals:                     746   BIC:                             895.1\n",
      "Df Model:                           6                                         \n",
      "Covariance Type:                  HC1                                         \n",
      "==============================================================================\n",
      "                 coef    std err          z      P>|z|      [0.025      0.975]\n",
      "------------------------------------------------------------------------------\n",
      "const          0.6509      0.140      4.634      0.000       0.376       0.926\n",
      "nwifeinc      -0.0033      0.002     -2.189      0.029      -0.006      -0.000\n",
      "educ           0.0373      0.007      5.151      0.000       0.023       0.051\n",
      "exper          0.0391      0.006      6.754      0.000       0.028       0.050\n",
      "expersq       -0.0006      0.000     -3.138      0.002      -0.001      -0.000\n",
      "age           -0.0169      0.002     -7.452      0.000      -0.021      -0.012\n",
      "kidslt6       -0.2655      0.032     -8.364      0.000      -0.328      -0.203\n",
      "==============================================================================\n",
      "Omnibus:                      175.416   Durbin-Watson:                   0.493\n",
      "Prob(Omnibus):                  0.000   Jarque-Bera (JB):               36.815\n",
      "Skew:                          -0.187   Prob(JB):                     1.01e-08\n",
      "Kurtosis:                       1.984   Cond. No.                     2.77e+03\n",
      "==============================================================================\n",
      "\n",
      "Notes:\n",
      "[1] Standard Errors are heteroscedasticity robust (HC1)\n",
      "[2] The condition number is large, 2.77e+03. This might indicate that there are\n",
      "strong multicollinearity or other numerical problems.\n"
     ]
    }
   ],
   "source": [
    "ols_mod = sm.OLS(Y, X)\n",
    "ols_res = ols_mod.fit(cov_type='HC1')\n",
    "\n",
    "print(ols_res.summary())"
   ]
  },
  {
   "cell_type": "markdown",
   "id": "1856a451-1d55-4ad6-b3a4-a8a6abf16bc6",
   "metadata": {},
   "source": [
    "# Probit coefficients and Marginal effect table"
   ]
  },
  {
   "cell_type": "code",
   "execution_count": 83,
   "id": "d36a3359-77d0-43ff-b5d5-80fe98d3c227",
   "metadata": {},
   "outputs": [
    {
     "name": "stdout",
     "output_type": "stream",
     "text": [
      "Optimization terminated successfully.\n",
      "         Current function value: 0.533394\n",
      "         Iterations 5\n",
      "                          Probit Regression Results                           \n",
      "==============================================================================\n",
      "Dep. Variable:                   inlf   No. Observations:                  753\n",
      "Model:                         Probit   Df Residuals:                      746\n",
      "Method:                           MLE   Df Model:                            6\n",
      "Date:                Mon, 24 May 2021   Pseudo R-squ.:                  0.2199\n",
      "Time:                        12:26:30   Log-Likelihood:                -401.65\n",
      "converged:                       True   LL-Null:                       -514.87\n",
      "Covariance Type:                  HC1   LLR p-value:                 4.369e-46\n",
      "==============================================================================\n",
      "                 coef    std err          z      P>|z|      [0.025      0.975]\n",
      "------------------------------------------------------------------------------\n",
      "const          0.4634      0.449      1.031      0.302      -0.417       1.344\n",
      "nwifeinc      -0.0118      0.005     -2.225      0.026      -0.022      -0.001\n",
      "educ           0.1287      0.026      5.029      0.000       0.079       0.179\n",
      "exper          0.1221      0.019      6.532      0.000       0.085       0.159\n",
      "expersq       -0.0019      0.001     -3.149      0.002      -0.003      -0.001\n",
      "age           -0.0553      0.008     -7.058      0.000      -0.071      -0.040\n",
      "kidslt6       -0.8809      0.116     -7.605      0.000      -1.108      -0.654\n",
      "==============================================================================\n"
     ]
    }
   ],
   "source": [
    "probit_mod = sm.Probit(Y, X)\n",
    "probit_res = probit_mod.fit(cov_type='HC1')\n",
    "\n",
    "print(probit_res.summary())"
   ]
  },
  {
   "cell_type": "code",
   "execution_count": 86,
   "id": "dc6d549c-a86c-4bd9-b3af-aed25ce732a9",
   "metadata": {},
   "outputs": [
    {
     "name": "stdout",
     "output_type": "stream",
     "text": [
      "       Probit Marginal Effects       \n",
      "=====================================\n",
      "Dep. Variable:                   inlf\n",
      "Method:                          dydx\n",
      "At:                           overall\n",
      "==============================================================================\n",
      "                dy/dx    std err          z      P>|z|      [0.025      0.975]\n",
      "------------------------------------------------------------------------------\n",
      "nwifeinc      -0.0036      0.002     -2.253      0.024      -0.007      -0.000\n",
      "educ           0.0387      0.007      5.271      0.000       0.024       0.053\n",
      "exper          0.0368      0.005      7.092      0.000       0.027       0.047\n",
      "expersq       -0.0006      0.000     -3.205      0.001      -0.001      -0.000\n",
      "age           -0.0167      0.002     -7.713      0.000      -0.021      -0.012\n",
      "kidslt6       -0.2652      0.031     -8.446      0.000      -0.327      -0.204\n",
      "==============================================================================\n"
     ]
    }
   ],
   "source": [
    "probit_me = probit_res.get_margeff()\n",
    "print(probit_me.summary())"
   ]
  },
  {
   "cell_type": "markdown",
   "id": "f295ca76-64b1-4e59-8099-077c620bd7de",
   "metadata": {},
   "source": [
    "# Loit coefficients and Marginal effect table"
   ]
  },
  {
   "cell_type": "code",
   "execution_count": 87,
   "id": "80918d49-3f36-4bb1-97e3-6e7a50c0c7e7",
   "metadata": {},
   "outputs": [
    {
     "name": "stdout",
     "output_type": "stream",
     "text": [
      "Optimization terminated successfully.\n",
      "         Current function value: 0.533983\n",
      "         Iterations 6\n",
      "                           Logit Regression Results                           \n",
      "==============================================================================\n",
      "Dep. Variable:                   inlf   No. Observations:                  753\n",
      "Model:                          Logit   Df Residuals:                      746\n",
      "Method:                           MLE   Df Model:                            6\n",
      "Date:                Mon, 24 May 2021   Pseudo R-squ.:                  0.2191\n",
      "Time:                        12:26:43   Log-Likelihood:                -402.09\n",
      "converged:                       True   LL-Null:                       -514.87\n",
      "Covariance Type:                  HC1   LLR p-value:                 6.756e-46\n",
      "==============================================================================\n",
      "                 coef    std err          z      P>|z|      [0.025      0.975]\n",
      "------------------------------------------------------------------------------\n",
      "const          0.7502      0.758      0.990      0.322      -0.736       2.236\n",
      "nwifeinc      -0.0210      0.009     -2.310      0.021      -0.039      -0.003\n",
      "educ           0.2176      0.044      4.936      0.000       0.131       0.304\n",
      "exper          0.2037      0.032      6.381      0.000       0.141       0.266\n",
      "expersq       -0.0031      0.001     -3.128      0.002      -0.005      -0.001\n",
      "age           -0.0922      0.013     -6.831      0.000      -0.119      -0.066\n",
      "kidslt6       -1.4682      0.202     -7.259      0.000      -1.865      -1.072\n",
      "==============================================================================\n"
     ]
    }
   ],
   "source": [
    "logit_mod = sm.Logit(Y, X)\n",
    "logit_res = logit_mod.fit(cov_type='HC1')\n",
    "\n",
    "print(logit_res.summary())"
   ]
  },
  {
   "cell_type": "code",
   "execution_count": 88,
   "id": "29777ea9-841d-4d5d-94b0-1d354c351362",
   "metadata": {},
   "outputs": [
    {
     "name": "stdout",
     "output_type": "stream",
     "text": [
      "        Logit Marginal Effects       \n",
      "=====================================\n",
      "Dep. Variable:                   inlf\n",
      "Method:                          dydx\n",
      "At:                           overall\n",
      "==============================================================================\n",
      "                dy/dx    std err          z      P>|z|      [0.025      0.975]\n",
      "------------------------------------------------------------------------------\n",
      "nwifeinc      -0.0038      0.002     -2.350      0.019      -0.007      -0.001\n",
      "educ           0.0389      0.007      5.224      0.000       0.024       0.054\n",
      "exper          0.0364      0.005      7.050      0.000       0.026       0.047\n",
      "expersq       -0.0006      0.000     -3.200      0.001      -0.001      -0.000\n",
      "age           -0.0165      0.002     -7.572      0.000      -0.021      -0.012\n",
      "kidslt6       -0.2625      0.032     -8.220      0.000      -0.325      -0.200\n",
      "==============================================================================\n"
     ]
    }
   ],
   "source": [
    "logit_me = logit_res.get_margeff()\n",
    "print(logit_me.summary())"
   ]
  },
  {
   "cell_type": "code",
   "execution_count": 89,
   "id": "dcb2ea33-4860-4d3f-a908-9e745a654229",
   "metadata": {},
   "outputs": [
    {
     "name": "stdout",
     "output_type": "stream",
     "text": [
      "<Wald test (chi2): statistic=[[90.87993652]], p-value=1.843624736087094e-20, df_denom=2>\n"
     ]
    }
   ],
   "source": [
    "hypotheses = '(exper = expersq), (exper = 0)'\n",
    "f_test = logit_res.wald_test(hypotheses)\n",
    "\n",
    "print(f_test)"
   ]
  },
  {
   "cell_type": "markdown",
   "id": "7587568b-a682-4c21-9ae6-9992aa2c700e",
   "metadata": {},
   "source": [
    "# GLM coefficient comparison table"
   ]
  },
  {
   "cell_type": "code",
   "execution_count": 90,
   "id": "8f12dc9d-20be-4baa-99a5-756486e3d8bf",
   "metadata": {},
   "outputs": [
    {
     "name": "stdout",
     "output_type": "stream",
     "text": [
      "           GLM coefficient comparison\n",
      "=================================================\n",
      "                    OLS       Probit     Logit   \n",
      "-------------------------------------------------\n",
      "const            0.6509***  0.4634     0.7502    \n",
      "                 (0.1405)   (0.4493)   (0.7581)  \n",
      "nwifeinc         -0.0033**  -0.0118**  -0.0210** \n",
      "                 (0.0015)   (0.0053)   (0.0091)  \n",
      "educ             0.0373***  0.1287***  0.2176*** \n",
      "                 (0.0072)   (0.0256)   (0.0441)  \n",
      "exper            0.0391***  0.1221***  0.2037*** \n",
      "                 (0.0058)   (0.0187)   (0.0319)  \n",
      "expersq          -0.0006*** -0.0019*** -0.0031***\n",
      "                 (0.0002)   (0.0006)   (0.0010)  \n",
      "age              -0.0169*** -0.0553*** -0.0922***\n",
      "                 (0.0023)   (0.0078)   (0.0135)  \n",
      "kidslt6          -0.2655*** -0.8809*** -1.4682***\n",
      "                 (0.0317)   (0.1158)   (0.2023)  \n",
      "R-squared        0.2633                          \n",
      "R-squared Adj.   0.2573                          \n",
      "R2               0.26                            \n",
      "Pseudo R2                   0.22       0.22      \n",
      "No. observations 753        753        753       \n",
      "=================================================\n",
      "Standard errors in parentheses.\n",
      "* p<.1, ** p<.05, ***p<.01\n"
     ]
    }
   ],
   "source": [
    "info_dict={'R2' : lambda x: f\"{x.rsquared:.2f}\",\n",
    "           'Pseudo R2' : lambda x: f\"{x.prsquared:.2f}\",\n",
    "           'No. observations' : lambda x: f\"{int(x.nobs):d}\"}\n",
    "\n",
    "results_table = summary_col(results=[ols_res, probit_res, logit_res],\n",
    "                            float_format='%0.4f',\n",
    "                            stars = True,\n",
    "                            model_names=['OLS',\n",
    "                                         'Probit',\n",
    "                                         'Logit'],\n",
    "                            info_dict=info_dict,\n",
    "                            regressor_order=['const','nwifeinc', 'educ', \n",
    "                                             'exper', 'expersq', 'age', \n",
    "                                             'kidslt6'])\n",
    "\n",
    "results_table.add_title('GLM coefficient comparison')\n",
    "\n",
    "print(results_table)"
   ]
  },
  {
   "cell_type": "markdown",
   "id": "bb6c8cfc-cfc8-4575-9fac-0c2d4bdddc2b",
   "metadata": {},
   "source": [
    "# GLM ME table\n",
    "## note that, there is no Marginal Effect comparison table; hence, I am writing one myself"
   ]
  },
  {
   "cell_type": "code",
   "execution_count": 91,
   "id": "9b639c07-fbb2-4b9f-8cf8-f25abc560ded",
   "metadata": {},
   "outputs": [],
   "source": [
    "me_OLS_col = np.array(ols_res.params[1::])\n",
    "p_OLS_col  = np.array(ols_res.pvalues[1::])\n",
    "me_Pro_col = probit_me.margeff\n",
    "p_Pro_col  = probit_me.pvalues\n",
    "me_Log_col = logit_me.margeff\n",
    "p_Log_col  = logit_me.pvalues\n",
    "\n",
    "df1 = pd.concat([pd.DataFrame({'vari':['nwifeinc','educ', 'exper', 'expersq', 'age', 'kidslt6']}), \n",
    "                 pd.DataFrame({'OLS ME': me_OLS_col.round(4)}),\n",
    "                 pd.DataFrame({'OLS p-val': p_OLS_col.round(2)}),\n",
    "                 pd.DataFrame({'Probit ME': me_Pro_col.round(4)}),\n",
    "                 pd.DataFrame({'Probit p-val': p_Pro_col.round(2)}),\n",
    "                 pd.DataFrame({'Logit ME': me_Log_col.round(4)}),\n",
    "                 pd.DataFrame({'Logit p-val': p_Log_col.round(2)})],\n",
    "                axis=1, join='inner')"
   ]
  },
  {
   "cell_type": "code",
   "execution_count": 92,
   "id": "681434cf-52eb-4a81-95b0-ea6b0ad9f010",
   "metadata": {},
   "outputs": [
    {
     "data": {
      "text/html": [
       "<div>\n",
       "<style scoped>\n",
       "    .dataframe tbody tr th:only-of-type {\n",
       "        vertical-align: middle;\n",
       "    }\n",
       "\n",
       "    .dataframe tbody tr th {\n",
       "        vertical-align: top;\n",
       "    }\n",
       "\n",
       "    .dataframe thead th {\n",
       "        text-align: right;\n",
       "    }\n",
       "</style>\n",
       "<table border=\"1\" class=\"dataframe\">\n",
       "  <thead>\n",
       "    <tr style=\"text-align: right;\">\n",
       "      <th></th>\n",
       "      <th>vari</th>\n",
       "      <th>OLS ME</th>\n",
       "      <th>OLS p-val</th>\n",
       "      <th>Probit ME</th>\n",
       "      <th>Probit p-val</th>\n",
       "      <th>Logit ME</th>\n",
       "      <th>Logit p-val</th>\n",
       "    </tr>\n",
       "  </thead>\n",
       "  <tbody>\n",
       "    <tr>\n",
       "      <th>0</th>\n",
       "      <td>nwifeinc</td>\n",
       "      <td>-0.0033</td>\n",
       "      <td>0.03</td>\n",
       "      <td>-0.0036</td>\n",
       "      <td>0.02</td>\n",
       "      <td>-0.0038</td>\n",
       "      <td>0.02</td>\n",
       "    </tr>\n",
       "    <tr>\n",
       "      <th>1</th>\n",
       "      <td>educ</td>\n",
       "      <td>0.0373</td>\n",
       "      <td>0.00</td>\n",
       "      <td>0.0387</td>\n",
       "      <td>0.00</td>\n",
       "      <td>0.0389</td>\n",
       "      <td>0.00</td>\n",
       "    </tr>\n",
       "    <tr>\n",
       "      <th>2</th>\n",
       "      <td>exper</td>\n",
       "      <td>0.0391</td>\n",
       "      <td>0.00</td>\n",
       "      <td>0.0368</td>\n",
       "      <td>0.00</td>\n",
       "      <td>0.0364</td>\n",
       "      <td>0.00</td>\n",
       "    </tr>\n",
       "    <tr>\n",
       "      <th>3</th>\n",
       "      <td>expersq</td>\n",
       "      <td>-0.0006</td>\n",
       "      <td>0.00</td>\n",
       "      <td>-0.0006</td>\n",
       "      <td>0.00</td>\n",
       "      <td>-0.0006</td>\n",
       "      <td>0.00</td>\n",
       "    </tr>\n",
       "    <tr>\n",
       "      <th>4</th>\n",
       "      <td>age</td>\n",
       "      <td>-0.0169</td>\n",
       "      <td>0.00</td>\n",
       "      <td>-0.0167</td>\n",
       "      <td>0.00</td>\n",
       "      <td>-0.0165</td>\n",
       "      <td>0.00</td>\n",
       "    </tr>\n",
       "    <tr>\n",
       "      <th>5</th>\n",
       "      <td>kidslt6</td>\n",
       "      <td>-0.2655</td>\n",
       "      <td>0.00</td>\n",
       "      <td>-0.2652</td>\n",
       "      <td>0.00</td>\n",
       "      <td>-0.2625</td>\n",
       "      <td>0.00</td>\n",
       "    </tr>\n",
       "  </tbody>\n",
       "</table>\n",
       "</div>"
      ],
      "text/plain": [
       "       vari  OLS ME  OLS p-val  Probit ME  Probit p-val  Logit ME  Logit p-val\n",
       "0  nwifeinc -0.0033       0.03    -0.0036          0.02   -0.0038         0.02\n",
       "1      educ  0.0373       0.00     0.0387          0.00    0.0389         0.00\n",
       "2     exper  0.0391       0.00     0.0368          0.00    0.0364         0.00\n",
       "3   expersq -0.0006       0.00    -0.0006          0.00   -0.0006         0.00\n",
       "4       age -0.0169       0.00    -0.0167          0.00   -0.0165         0.00\n",
       "5   kidslt6 -0.2655       0.00    -0.2652          0.00   -0.2625         0.00"
      ]
     },
     "execution_count": 92,
     "metadata": {},
     "output_type": "execute_result"
    }
   ],
   "source": [
    "df1"
   ]
  },
  {
   "cell_type": "code",
   "execution_count": 93,
   "id": "3124a575-c34d-4cee-a7fe-6f72628c25c3",
   "metadata": {},
   "outputs": [
    {
     "name": "stdout",
     "output_type": "stream",
     "text": [
      "[NbConvertApp] Converting notebook Week10_Python.ipynb to html\n",
      "[NbConvertApp] Writing 609519 bytes to Week10_Python.html\n"
     ]
    }
   ],
   "source": [
    "!rm -rf Week10_Python.html\n",
    "!jupyter nbconvert --to html Week10_Python.ipynb"
   ]
  },
  {
   "cell_type": "code",
   "execution_count": null,
   "id": "d3970663-cd95-4c47-99ae-a8a7b69fb464",
   "metadata": {},
   "outputs": [],
   "source": []
  }
 ],
 "metadata": {
  "kernelspec": {
   "display_name": "Python 3",
   "language": "python",
   "name": "python3"
  },
  "language_info": {
   "codemirror_mode": {
    "name": "ipython",
    "version": 3
   },
   "file_extension": ".py",
   "mimetype": "text/x-python",
   "name": "python",
   "nbconvert_exporter": "python",
   "pygments_lexer": "ipython3",
   "version": "3.8.10"
  }
 },
 "nbformat": 4,
 "nbformat_minor": 5
}
